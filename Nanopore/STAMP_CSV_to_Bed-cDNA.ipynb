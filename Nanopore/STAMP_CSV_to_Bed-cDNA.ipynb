{
 "cells": [
  {
   "cell_type": "code",
   "execution_count": 2,
   "metadata": {},
   "outputs": [],
   "source": [
    "import pandas as pd\n",
    "from pybedtools import BedTool\n",
    "import os\n",
    "import glob\n",
    "from tqdm import tnrange, tqdm_notebook\n",
    "import numpy as np\n",
    "import math\n",
    "from scipy.stats import binom\n",
    "from scipy.special import betainc"
   ]
  },
  {
   "cell_type": "code",
   "execution_count": 3,
   "metadata": {},
   "outputs": [],
   "source": [
    "pd.options.display.max_columns = 999"
   ]
  },
  {
   "cell_type": "code",
   "execution_count": 4,
   "metadata": {},
   "outputs": [],
   "source": [
    "def total(df):\n",
    "    if df['DP']<1:\n",
    "        return  0\n",
    "    else:\n",
    "        return (1- betainc(df['total_miss'], df['total_match'], 0.05))"
   ]
  },
  {
   "cell_type": "code",
   "execution_count": 5,
   "metadata": {},
   "outputs": [],
   "source": [
    "input_dir= '/Path to save directory/'\n",
    "output_dir= '/Path to save directory/tmp_bedgraphs_cDNA/'"
   ]
  },
  {
   "cell_type": "code",
   "execution_count": 6,
   "metadata": {},
   "outputs": [],
   "source": [
    "beds = sorted(glob.glob(os.path.join(input_dir, '*Filename.csv')))"
   ]
  },
  {
   "cell_type": "code",
   "execution_count": 10,
   "metadata": {},
   "outputs": [],
   "source": [
    "##Imports csv files, C>T and G>A filters and assigns confidence score\n",
    "for bed in beds:\n",
    "    df=pd.read_csv(bed)\n",
    "    df=df[df['3']=='C']\n",
    "    df=df[df['miss_base']=='T']\n",
    "    df['stop']=df['1']+1\n",
    "    df['total_match']=df['fwd']+df['rev']\n",
    "    df['total_miss']=df['fwd_miss']+df['rev_miss']\n",
    "    df['total_fraction']=df['total_miss']/(df['total_miss']+df['total_match'])\n",
    "    df['total_conf']=df.apply(total, axis=1)\n",
    "    df=df[df['total_conf']>=0.5]\n",
    "    SP=output_dir+bed.split('/')[8]\n",
    "    df['strand']='+'\n",
    "    df[['0','1','stop','total_fraction','total_conf','strand']].to_csv(SP+'.cDNA.conf0.5_TA_filtered.bed', sep='\\t', header=None, index=None )"
   ]
  },
  {
   "cell_type": "code",
   "execution_count": 11,
   "metadata": {},
   "outputs": [],
   "source": [
    "beds = sorted(glob.glob(os.path.join(output_dir, '*.cDNA.conf0.5_TA_filtered.bed')))"
   ]
  },
  {
   "cell_type": "code",
   "execution_count": 12,
   "metadata": {},
   "outputs": [],
   "source": [
    "df=pd.DataFrame()\n",
    "##Makes bedgraphs with no filters\n",
    "for bed in beds:\n",
    "    tmp=pd.read_csv(bed, sep='\\t', header=None)\n",
    "    SP=bed+'.0.5sailor.fraction.none.bedgraph'\n",
    "    tmp[[0,1,2,3,4,5]].to_csv(SP, sep='\\t', header=None, index=None)\n",
    "    SP=bed+'.0.5sailor.sailor_conf.none.bedgraph'\n",
    "    tmp[[0,1,2,4,3,5]].to_csv(SP, sep='\\t', header=None, index=None)\n",
    "    tmp=tmp[tmp[4]>=0.99]\n",
    "    SP=bed+'.0.99sailor.fraction.none.bedgraph'\n",
    "    tmp[[0,1,2,3,4,5]].to_csv(SP, sep='\\t', header=None, index=None)\n",
    "    SP=bed+'.0.99sailor.sailor_conf.none.bedgraph'\n",
    "    tmp[[0,1,2,4,3,5]].to_csv(SP, sep='\\t', header=None, index=None)\n",
    "##makes bedgraphs filtering for unique sites\n",
    "for bed in beds:\n",
    "    tmp=pd.read_csv(bed, sep='\\t', header=None)\n",
    "    tmp['gene']=bed.split(\"/\")[9].split('_')[0]\n",
    "    df=pd.concat([df,tmp])\n",
    "df1=df[df[4]>=0.5].drop_duplicates([0,1,5], keep=False).copy()\n",
    "for bed in beds:\n",
    "    gene=bed.split(\"/\")[9].split('_')[0]\n",
    "    tmp=df1[df1['gene']==gene].copy()\n",
    "    SP=bed+'.0.5sailor.fraction.all.bedgraph'\n",
    "    tmp[[0,1,2,3,4,5]].to_csv(SP, sep='\\t', header=None, index=None)\n",
    "    SP=bed+'.0.5sailor.sailor_conf.all.bedgraph'\n",
    "    tmp[[0,1,2,4,3,5]].to_csv(SP, sep='\\t', header=None, index=None)\n",
    "df1=df[df[4]>=0.99].drop_duplicates([0,1,5], keep=False).copy()\n",
    "for bed in beds:\n",
    "    gene=bed.split(\"/\")[9].split('_')[0]\n",
    "    tmp=df1[df1['gene']==gene].copy()\n",
    "    SP=bed+'.0.99sailor.fraction.all.bedgraph'\n",
    "    tmp[[0,1,2,3,4,5]].to_csv(SP, sep='\\t', header=None, index=None)\n",
    "    SP=bed+'.0.99sailor.sailor_conf.all.bedgraph'\n",
    "    tmp[[0,1,2,4,3,5]].to_csv(SP, sep='\\t', header=None, index=None)\n"
   ]
  },
  {
   "cell_type": "code",
   "execution_count": 13,
   "metadata": {},
   "outputs": [],
   "source": [
    "##Makes bedgraphs filtering for APO sites\n",
    "for bed in beds:\n",
    "    gene=bed.split(\"/\")[9].split('_')[0]\n",
    "    tmp=df[df['gene'].isin(['APOBEC',gene])].copy()\n",
    "    tmp2=tmp[tmp[4]>=0.5].drop_duplicates([0,1,5], keep=False)\n",
    "    tmp2=tmp2[tmp2['gene']==gene].copy()\n",
    "    SP=bed+'.0.5sailor.fraction.APO.bedgraph'\n",
    "    tmp2[[0,1,2,3,4,5]].to_csv(SP, sep='\\t', header=None, index=None)\n",
    "    SP=bed+'.0.5sailor.sailor_conf.APO.bedgraph'\n",
    "    tmp2[[0,1,2,4,3,5]].to_csv(SP, sep='\\t', header=None, index=None)\n",
    "    tmp2=tmp[tmp[4]>=0.99].drop_duplicates([0,1,5], keep=False)\n",
    "    tmp2=tmp2[tmp2['gene']==gene].copy()\n",
    "    SP=bed+'.0.99sailor.fraction.APO.bedgraph'\n",
    "    tmp2[[0,1,2,3,4,5]].to_csv(SP, sep='\\t', header=None, index=None)\n",
    "    SP=bed+'.0.99sailor.sailor_conf.APO.bedgraph'\n",
    "    tmp2[[0,1,2,4,3,5]].to_csv(SP, sep='\\t', header=None, index=None)"
   ]
  },
  {
   "cell_type": "code",
   "execution_count": 14,
   "metadata": {},
   "outputs": [],
   "source": [
    "final_dir='/Path to save directory/mpileup/tmp_bedgraphs_cDNA/0_based/'\n",
    "beds = sorted(glob.glob(os.path.join(output_dir, '*.bedgraph')))"
   ]
  },
  {
   "cell_type": "code",
   "execution_count": 18,
   "metadata": {},
   "outputs": [],
   "source": [
    "###Double check if this is needed.\n",
    "##Makes bedgraphs 0 instead of 1 based\n",
    "for bed in beds:\n",
    "    df= pd.read_csv(bed, sep='\\t', header=None)\n",
    "    gene=bed.split(\"/\")[9].split('_')[0]\n",
    "    FN=bed.split(\"/\")[9].split('bed.')[1]\n",
    "    df[1]=df[1]-1\n",
    "    df[2]=df[2]-1\n",
    "    SP=final_dir+gene+'_0-based.'+FN\n",
    "    df.to_csv(SP, sep='\\t', header=None, index=None)"
   ]
  },
  {
   "cell_type": "code",
   "execution_count": null,
   "metadata": {},
   "outputs": [],
   "source": []
  },
  {
   "cell_type": "code",
   "execution_count": null,
   "metadata": {},
   "outputs": [],
   "source": []
  },
  {
   "cell_type": "code",
   "execution_count": 21,
   "metadata": {},
   "outputs": [],
   "source": [
    "##site_bed files (Used for EditC fractions)\n",
    "input_dir= '/Path to save directory/'\n",
    "output_dir= '/Path to save directory/site_files/cDNA_cDNA/'\n",
    "beds = sorted(glob.glob(os.path.join(input_dir, '*cDNA_df_2020_03_26.csv')))\n",
    "for bed in beds:\n",
    "    df= pd.read_csv(bed)\n",
    "    df['strand']='+'\n",
    "    df['total']=df['total_match']+df['total_miss']\n",
    "    df['miss,total']=df['total_miss'].astype(str)+','+df['total'].astype(str)\n",
    "    SP=output_dir+bed.split('/')[8].split('_')[0]+\"_cDNA_ENSEMBL_sites.bed\"\n",
    "    df[['0','1','stop','total_confidence','miss,total','strand']].to_csv(SP, sep='\\t', header=None, index=None)"
   ]
  },
  {
   "cell_type": "code",
   "execution_count": null,
   "metadata": {},
   "outputs": [],
   "source": []
  }
 ],
 "metadata": {
  "kernelspec": {
   "display_name": "python3essential (tscc)",
   "language": "python",
   "name": "python3essential"
  },
  "language_info": {
   "codemirror_mode": {
    "name": "ipython",
    "version": 3
   },
   "file_extension": ".py",
   "mimetype": "text/x-python",
   "name": "python",
   "nbconvert_exporter": "python",
   "pygments_lexer": "ipython3",
   "version": "3.6.7"
  }
 },
 "nbformat": 4,
 "nbformat_minor": 2
}
