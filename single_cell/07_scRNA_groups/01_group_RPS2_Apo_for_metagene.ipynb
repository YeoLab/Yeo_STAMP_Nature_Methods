{
 "cells": [
  {
   "cell_type": "markdown",
   "metadata": {},
   "source": [
    "# This notebook parses the possorted_genome_bam_MD.bam to pull out only the barcodes specificed in Alex's lists.\n",
    "- functionally equivalent to notebook 11_group_bams.ipynb, but in this case we're just re-parsing the main bam file instead of joining a bunch of smaller bam files."
   ]
  },
  {
   "cell_type": "code",
   "execution_count": 1,
   "metadata": {},
   "outputs": [],
   "source": [
    "import pandas as pd\n",
    "import numpy as np\n",
    "import os\n",
    "import glob\n",
    "import pysam\n",
    "import time\n",
    "from collections import defaultdict\n",
    "from tqdm import tnrange, tqdm_notebook\n",
    "from qtools import Submitter\n",
    "\n",
    "pd.set_option('display.max_colwidth', 1000)\n",
    "pd.set_option('display.width', 10000)"
   ]
  },
  {
   "cell_type": "code",
   "execution_count": 2,
   "metadata": {},
   "outputs": [],
   "source": [
    "input_dir = '/home/bay001/projects/kris_apobec_20200121/permanent_data2/07_scRNA_groups/inputs'\n",
    "output_dir = '/home/bay001/projects/kris_apobec_20200121/permanent_data2/07_scRNA_groups/bam_file_groups/'"
   ]
  },
  {
   "cell_type": "code",
   "execution_count": null,
   "metadata": {},
   "outputs": [],
   "source": []
  },
  {
   "cell_type": "markdown",
   "metadata": {},
   "source": [
    "# Read in expression values from Alex to help us decide which barcodes to look for/split.\n",
    "\n",
    "original sources: \n",
    "```\n",
    "RPS2_STAMP_Apo_filtered_lenti_common_expression.csv\n",
    "APOBEC_STAMP_Apo_filtered_lenti_common_expression.csv\n",
    "```"
   ]
  },
  {
   "cell_type": "code",
   "execution_count": 3,
   "metadata": {},
   "outputs": [
    {
     "data": {
      "text/html": [
       "<div>\n",
       "<style scoped>\n",
       "    .dataframe tbody tr th:only-of-type {\n",
       "        vertical-align: middle;\n",
       "    }\n",
       "\n",
       "    .dataframe tbody tr th {\n",
       "        vertical-align: top;\n",
       "    }\n",
       "\n",
       "    .dataframe thead th {\n",
       "        text-align: right;\n",
       "    }\n",
       "</style>\n",
       "<table border=\"1\" class=\"dataframe\">\n",
       "  <thead>\n",
       "    <tr style=\"text-align: right;\">\n",
       "      <th></th>\n",
       "      <th>index</th>\n",
       "      <th>batch</th>\n",
       "      <th>lenti_common_normalized</th>\n",
       "      <th>lenti_common</th>\n",
       "      <th>new_clusters</th>\n",
       "    </tr>\n",
       "  </thead>\n",
       "  <tbody>\n",
       "    <tr>\n",
       "      <th>0</th>\n",
       "      <td>Apo_Control_possorted_genome_bam_MD-AAACCCAAGCCAGTAG-1-Apo-Edits</td>\n",
       "      <td>Apo-Edits</td>\n",
       "      <td>-0.809566</td>\n",
       "      <td>0.0</td>\n",
       "      <td>APOBEC_STAMP</td>\n",
       "    </tr>\n",
       "    <tr>\n",
       "      <th>1</th>\n",
       "      <td>Apo_Control_possorted_genome_bam_MD-AAACCCAAGGATGCGT-1-Apo-Edits</td>\n",
       "      <td>Apo-Edits</td>\n",
       "      <td>-0.782604</td>\n",
       "      <td>0.0</td>\n",
       "      <td>APOBEC_STAMP</td>\n",
       "    </tr>\n",
       "    <tr>\n",
       "      <th>2</th>\n",
       "      <td>Apo_Control_possorted_genome_bam_MD-AAACCCACAATACAGA-1-Apo-Edits</td>\n",
       "      <td>Apo-Edits</td>\n",
       "      <td>-0.434219</td>\n",
       "      <td>1.0</td>\n",
       "      <td>APOBEC_STAMP</td>\n",
       "    </tr>\n",
       "    <tr>\n",
       "      <th>3</th>\n",
       "      <td>Apo_Control_possorted_genome_bam_MD-AAACCCACACGCAGTC-1-Apo-Edits</td>\n",
       "      <td>Apo-Edits</td>\n",
       "      <td>-0.545899</td>\n",
       "      <td>1.0</td>\n",
       "      <td>APOBEC_STAMP</td>\n",
       "    </tr>\n",
       "    <tr>\n",
       "      <th>4</th>\n",
       "      <td>Apo_Control_possorted_genome_bam_MD-AAACCCACAGAACATA-1-Apo-Edits</td>\n",
       "      <td>Apo-Edits</td>\n",
       "      <td>1.697777</td>\n",
       "      <td>28.0</td>\n",
       "      <td>APOBEC_STAMP</td>\n",
       "    </tr>\n",
       "  </tbody>\n",
       "</table>\n",
       "</div>"
      ],
      "text/plain": [
       "                                                              index      batch  lenti_common_normalized  lenti_common  new_clusters\n",
       "0  Apo_Control_possorted_genome_bam_MD-AAACCCAAGCCAGTAG-1-Apo-Edits  Apo-Edits                -0.809566           0.0  APOBEC_STAMP\n",
       "1  Apo_Control_possorted_genome_bam_MD-AAACCCAAGGATGCGT-1-Apo-Edits  Apo-Edits                -0.782604           0.0  APOBEC_STAMP\n",
       "2  Apo_Control_possorted_genome_bam_MD-AAACCCACAATACAGA-1-Apo-Edits  Apo-Edits                -0.434219           1.0  APOBEC_STAMP\n",
       "3  Apo_Control_possorted_genome_bam_MD-AAACCCACACGCAGTC-1-Apo-Edits  Apo-Edits                -0.545899           1.0  APOBEC_STAMP\n",
       "4  Apo_Control_possorted_genome_bam_MD-AAACCCACAGAACATA-1-Apo-Edits  Apo-Edits                 1.697777          28.0  APOBEC_STAMP"
      ]
     },
     "execution_count": 3,
     "metadata": {},
     "output_type": "execute_result"
    }
   ],
   "source": [
    "apo_barcodes = pd.read_csv(os.path.join(input_dir, 'APOBEC_STAMP_Apo_filtered_lenti_common_expression.csv'))\n",
    "rps2_barcodes = pd.read_csv(os.path.join(input_dir, 'RPS2_STAMP_Apo_filtered_lenti_common_expression.csv'))\n",
    "\n",
    "apo_barcodes.head()"
   ]
  },
  {
   "cell_type": "code",
   "execution_count": 4,
   "metadata": {},
   "outputs": [
    {
     "data": {
      "text/plain": [
       "(2541, 3621)"
      ]
     },
     "execution_count": 4,
     "metadata": {},
     "output_type": "execute_result"
    }
   ],
   "source": [
    "rps2_barcodes[rps2_barcodes['lenti_common_normalized']>=0].shape[0], rps2_barcodes.shape[0]"
   ]
  },
  {
   "cell_type": "code",
   "execution_count": 5,
   "metadata": {},
   "outputs": [
    {
     "data": {
      "text/html": [
       "<div>\n",
       "<style scoped>\n",
       "    .dataframe tbody tr th:only-of-type {\n",
       "        vertical-align: middle;\n",
       "    }\n",
       "\n",
       "    .dataframe tbody tr th {\n",
       "        vertical-align: top;\n",
       "    }\n",
       "\n",
       "    .dataframe thead th {\n",
       "        text-align: right;\n",
       "    }\n",
       "</style>\n",
       "<table border=\"1\" class=\"dataframe\">\n",
       "  <thead>\n",
       "    <tr style=\"text-align: right;\">\n",
       "      <th></th>\n",
       "      <th>index</th>\n",
       "      <th>batch</th>\n",
       "      <th>lenti_common_normalized</th>\n",
       "      <th>lenti_common</th>\n",
       "      <th>new_clusters</th>\n",
       "      <th>barcode</th>\n",
       "    </tr>\n",
       "  </thead>\n",
       "  <tbody>\n",
       "    <tr>\n",
       "      <th>0</th>\n",
       "      <td>RPS2_possorted_genome_bam_MD-AAACCCACAGGTACGA-1-RPS2-Edits</td>\n",
       "      <td>RPS2-Edits</td>\n",
       "      <td>-0.113331</td>\n",
       "      <td>3.0</td>\n",
       "      <td>RPS2_STAMP</td>\n",
       "      <td>AAACCCACAGGTACGA-1</td>\n",
       "    </tr>\n",
       "    <tr>\n",
       "      <th>1</th>\n",
       "      <td>RPS2_possorted_genome_bam_MD-AAACCCATCCTAGCCT-1-RPS2-Edits</td>\n",
       "      <td>RPS2-Edits</td>\n",
       "      <td>2.227205</td>\n",
       "      <td>39.0</td>\n",
       "      <td>RPS2_STAMP</td>\n",
       "      <td>AAACCCATCCTAGCCT-1</td>\n",
       "    </tr>\n",
       "    <tr>\n",
       "      <th>2</th>\n",
       "      <td>RPS2_possorted_genome_bam_MD-AAACGAAAGGGATGTC-1-RPS2-Edits</td>\n",
       "      <td>RPS2-Edits</td>\n",
       "      <td>0.539503</td>\n",
       "      <td>7.0</td>\n",
       "      <td>RPS2_STAMP</td>\n",
       "      <td>AAACGAAAGGGATGTC-1</td>\n",
       "    </tr>\n",
       "    <tr>\n",
       "      <th>3</th>\n",
       "      <td>RPS2_possorted_genome_bam_MD-AAACGAAAGTGGTCAG-1-RPS2-Edits</td>\n",
       "      <td>RPS2-Edits</td>\n",
       "      <td>0.685321</td>\n",
       "      <td>11.0</td>\n",
       "      <td>RPS2_STAMP</td>\n",
       "      <td>AAACGAAAGTGGTCAG-1</td>\n",
       "    </tr>\n",
       "    <tr>\n",
       "      <th>4</th>\n",
       "      <td>RPS2_possorted_genome_bam_MD-AAACGAACACACCTTC-1-RPS2-Edits</td>\n",
       "      <td>RPS2-Edits</td>\n",
       "      <td>-0.383744</td>\n",
       "      <td>0.0</td>\n",
       "      <td>RPS2_STAMP</td>\n",
       "      <td>AAACGAACACACCTTC-1</td>\n",
       "    </tr>\n",
       "  </tbody>\n",
       "</table>\n",
       "</div>"
      ],
      "text/plain": [
       "                                                        index       batch  lenti_common_normalized  lenti_common new_clusters             barcode\n",
       "0  RPS2_possorted_genome_bam_MD-AAACCCACAGGTACGA-1-RPS2-Edits  RPS2-Edits                -0.113331           3.0   RPS2_STAMP  AAACCCACAGGTACGA-1\n",
       "1  RPS2_possorted_genome_bam_MD-AAACCCATCCTAGCCT-1-RPS2-Edits  RPS2-Edits                 2.227205          39.0   RPS2_STAMP  AAACCCATCCTAGCCT-1\n",
       "2  RPS2_possorted_genome_bam_MD-AAACGAAAGGGATGTC-1-RPS2-Edits  RPS2-Edits                 0.539503           7.0   RPS2_STAMP  AAACGAAAGGGATGTC-1\n",
       "3  RPS2_possorted_genome_bam_MD-AAACGAAAGTGGTCAG-1-RPS2-Edits  RPS2-Edits                 0.685321          11.0   RPS2_STAMP  AAACGAAAGTGGTCAG-1\n",
       "4  RPS2_possorted_genome_bam_MD-AAACGAACACACCTTC-1-RPS2-Edits  RPS2-Edits                -0.383744           0.0   RPS2_STAMP  AAACGAACACACCTTC-1"
      ]
     },
     "execution_count": 5,
     "metadata": {},
     "output_type": "execute_result"
    }
   ],
   "source": [
    "def index_to_barcode(row, to_replace):\n",
    "    \"\"\"\n",
    "    Not really a true index, just a column named 'index'.\n",
    "    \"\"\"\n",
    "    barcode = row['index']\n",
    "    for replace in to_replace:\n",
    "        barcode = barcode.replace(replace,'')\n",
    "        \n",
    "    ### Just to make sure we're grabbing and correctly formatting barcodes.\n",
    "    assert barcode.endswith('-1')\n",
    "\n",
    "    return barcode\n",
    "\n",
    "rps2_barcodes['barcode'] = rps2_barcodes.apply(index_to_barcode, args=(['RPS2_possorted_genome_bam_MD-', '-RPS2-Edits'],), axis=1)\n",
    "apo_barcodes['barcode'] = apo_barcodes.apply(index_to_barcode, args=(['Apo_Control_possorted_genome_bam_MD-', '-Apo-Edits'],), axis=1)\n",
    "rps2_barcodes.head()"
   ]
  },
  {
   "cell_type": "code",
   "execution_count": 6,
   "metadata": {},
   "outputs": [],
   "source": [
    "rps2_barcodes[['barcode']].to_csv(os.path.join(output_dir, 'RPS2_STAMP_Apo_filtered_lenti_common_expression_barcodes.txt'), sep='\\t', index=False, header=False)\n",
    "apo_barcodes[['barcode']].to_csv(os.path.join(output_dir, 'APOBEC_STAMP_Apo_filtered_lenti_common_expression_barcodes.txt'), sep='\\t', index=False, header=False)"
   ]
  },
  {
   "cell_type": "code",
   "execution_count": 7,
   "metadata": {},
   "outputs": [],
   "source": [
    "def generate_commandline_for_splitting(bam_file, barcodes_file, output_dir):\n",
    "    cmd = 'module load python3essential;/home/bay001/projects/kris_apobec_20200121/scripts/split_bams.py '\n",
    "    cmd += '--possorted_bam_file {} '.format(bam_file)\n",
    "    cmd += '--barcodes_file {} '.format(barcodes_file)\n",
    "    cmd += '--output_dir {} '.format(output_dir)\n",
    "    cmd += '--group'\n",
    "    return cmd"
   ]
  },
  {
   "cell_type": "code",
   "execution_count": 8,
   "metadata": {},
   "outputs": [
    {
     "data": {
      "text/plain": [
       "['module load python3essential;/home/bay001/projects/kris_apobec_20200121/scripts/split_bams.py --possorted_bam_file /home/bay001/projects/kris_apobec_20200121/permanent_data2/07_scRNA_groups/inputs/RPS2-STAMP_possorted_genome_bam_MD.bam --barcodes_file /home/bay001/projects/kris_apobec_20200121/permanent_data2/07_scRNA_groups/bam_file_groups/RPS2_STAMP_Apo_filtered_lenti_common_expression_barcodes.txt --output_dir /home/bay001/projects/kris_apobec_20200121/permanent_data2/07_scRNA_groups/bam_file_groups/ --group',\n",
       " 'module load python3essential;/home/bay001/projects/kris_apobec_20200121/scripts/split_bams.py --possorted_bam_file /home/bay001/projects/kris_apobec_20200121/permanent_data2/07_scRNA_groups/inputs/APOBEC-STAMP_possorted_genome_bam_MD.bam --barcodes_file /home/bay001/projects/kris_apobec_20200121/permanent_data2/07_scRNA_groups/bam_file_groups/APOBEC_STAMP_Apo_filtered_lenti_common_expression_barcodes.txt --output_dir /home/bay001/projects/kris_apobec_20200121/permanent_data2/07_scRNA_groups/bam_file_groups/ --group']"
      ]
     },
     "execution_count": 8,
     "metadata": {},
     "output_type": "execute_result"
    }
   ],
   "source": [
    "cmds = []\n",
    "for bam, barcodes in zip(\n",
    "    [\n",
    "        os.path.join(input_dir, 'RPS2-STAMP_possorted_genome_bam_MD.bam'),\n",
    "        os.path.join(input_dir, 'APOBEC-STAMP_possorted_genome_bam_MD.bam')\n",
    "    ],\n",
    "    [\n",
    "        os.path.join(output_dir, 'RPS2_STAMP_Apo_filtered_lenti_common_expression_barcodes.txt'),\n",
    "        os.path.join(output_dir, 'APOBEC_STAMP_Apo_filtered_lenti_common_expression_barcodes.txt')\n",
    "    ]\n",
    "):\n",
    "    cmds.append(generate_commandline_for_splitting(bam, barcodes, output_dir))\n",
    "    \n",
    "cmds"
   ]
  },
  {
   "cell_type": "code",
   "execution_count": 10,
   "metadata": {},
   "outputs": [
    {
     "name": "stderr",
     "output_type": "stream",
     "text": [
      "Writing 2 tasks as an array-job.\n",
      "Wrote commands to subset_barcodes.sh.\n",
      "Submitted script to queue home.\n",
      " Job ID: 21985503\n"
     ]
    },
    {
     "data": {
      "text/plain": [
       "<qtools.submitter.Submitter at 0x2b29a88f0b50>"
      ]
     },
     "execution_count": 10,
     "metadata": {},
     "output_type": "execute_result"
    }
   ],
   "source": [
    "Submitter(cmds, 'subset_barcodes', array=True, nodes=1, ppn=1, walltime='8:00:00', submit=True)"
   ]
  },
  {
   "cell_type": "code",
   "execution_count": null,
   "metadata": {},
   "outputs": [],
   "source": []
  }
 ],
 "metadata": {
  "kernelspec": {
   "display_name": "python2-essential",
   "language": "python",
   "name": "python2-essential"
  },
  "language_info": {
   "codemirror_mode": {
    "name": "ipython",
    "version": 2
   },
   "file_extension": ".py",
   "mimetype": "text/x-python",
   "name": "python",
   "nbconvert_exporter": "python",
   "pygments_lexer": "ipython2",
   "version": "2.7.15"
  }
 },
 "nbformat": 4,
 "nbformat_minor": 2
}
