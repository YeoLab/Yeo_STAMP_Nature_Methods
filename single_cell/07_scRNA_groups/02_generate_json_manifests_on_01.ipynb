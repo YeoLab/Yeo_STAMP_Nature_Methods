{
 "cells": [
  {
   "cell_type": "markdown",
   "metadata": {},
   "source": [
    "# Generates the JSON manifests that are used to run the SAILOR pipeline\n",
    "- Use sailor/1.1.0 so that we can capture C/T edits. The current released version only does A/G"
   ]
  },
  {
   "cell_type": "code",
   "execution_count": 1,
   "metadata": {},
   "outputs": [],
   "source": [
    "import yaml\n",
    "import os\n",
    "import pandas as pd\n",
    "import glob\n",
    "from qtools import Submitter\n",
    "from tqdm import tnrange, tqdm_notebook\n",
    "import time"
   ]
  },
  {
   "cell_type": "code",
   "execution_count": 2,
   "metadata": {},
   "outputs": [],
   "source": [
    "input_dir = '/home/bay001/projects/kris_apobec_20200121/permanent_data2/07_scRNA_groups/bam_file_groups'\n",
    "output_dir = '/home/bay001/projects/kris_apobec_20200121/permanent_data2/07_scRNA_groups/sailor_outputs_groups_deep'\n",
    "\n",
    "ref_dir = '/home/bay001/projects/kris_apobec_20200121/permanent_data2/07_scRNA_groups/inputs/'"
   ]
  },
  {
   "cell_type": "code",
   "execution_count": 3,
   "metadata": {},
   "outputs": [
    {
     "name": "stdout",
     "output_type": "stream",
     "text": [
      "1\n"
     ]
    },
    {
     "data": {
      "text/plain": [
       "['/home/bay001/projects/kris_apobec_20200121/permanent_data2/07_scRNA_groups/bam_file_groups/RPS2-STAMP_possorted_genome_bam_MD-RPS2_non_APO_edits_barcodes_RPKM.txt.bam']"
      ]
     },
     "execution_count": 3,
     "metadata": {},
     "output_type": "execute_result"
    }
   ],
   "source": [
    "### I'm re-running this notebook a few times on a few different groups of bam files\n",
    "bams = sorted(glob.glob(os.path.join(input_dir, 'RPS2-STAMP_possorted_genome_bam_MD-RPS2_non_APO_edits_barcodes_RPKM.txt.bam')))\n",
    "print(len(bams))\n",
    "bams"
   ]
  },
  {
   "cell_type": "markdown",
   "metadata": {},
   "source": [
    "# This block generates SAILOR json manifest runner files."
   ]
  },
  {
   "cell_type": "code",
   "execution_count": 4,
   "metadata": {},
   "outputs": [
    {
     "data": {
      "application/vnd.jupyter.widget-view+json": {
       "model_id": "bada068351114b3285c9006befbefb54",
       "version_major": 2,
       "version_minor": 0
      },
      "text/plain": [
       "HBox(children=(IntProgress(value=0, max=1), HTML(value=u'')))"
      ]
     },
     "metadata": {},
     "output_type": "display_data"
    },
    {
     "name": "stdout",
     "output_type": "stream",
     "text": [
      "/home/bay001/projects/kris_apobec_20200121/permanent_data2/07_scRNA_groups/sailor_outputs_groups_deep/RPS2-STAMP_possorted_genome_bam_MD-RPS2_non_APO_edits_barcodes_RPKM.txt.json\n"
     ]
    }
   ],
   "source": [
    "skip_rmdup = \"true\"\n",
    "progress = tnrange(len(bams))\n",
    "for bam in bams:\n",
    "    genome_file = os.path.join(ref_dir, 'refdata-cellranger-hg19_lenti_common-3.0.0/fasta/genome.fa')\n",
    "    snp_file = os.path.join(ref_dir, 'hg19.commonSNPs147.bed3.sc')\n",
    "    \n",
    "    assert os.path.exists(genome_file)\n",
    "    assert os.path.exists(snp_file)\n",
    "    \n",
    "    sample = {\"input_bam\": {\n",
    "        'class':'File',\n",
    "        'path':bam\n",
    "    }}\n",
    "    fa = {\"reference\": {\n",
    "        'class':'File',\n",
    "        'path':genome_file\n",
    "    }}\n",
    "    known_snp = {\"known_snp\": {\n",
    "        'class':'File',\n",
    "        'path':snp_file\n",
    "    }}\n",
    "    json_output = os.path.join(\n",
    "        output_dir, '{}.json'.format(\n",
    "            os.path.splitext(os.path.basename(bam))[0]\n",
    "        )\n",
    "    )\n",
    "    \n",
    "    if not os.path.exists(json_output):\n",
    "        print(json_output)\n",
    "        with open(\n",
    "            json_output, 'w'\n",
    "        ) as o:\n",
    "            o.write(\"#!/usr/bin/env SAILOR-deep\\n\")  # use SAILOR-deep for really deep sequenced BAMs. SAILOR is OK to use for everything under ~100M reads, but SAILOR-deep increases the mpileup depth to 10M\n",
    "            yaml.dump(sample, o, default_flow_style=False)\n",
    "            yaml.dump(known_snp, o, default_flow_style=False)\n",
    "            yaml.dump(fa, o, default_flow_style=False)\n",
    "            o.write(\"ct: true\\n\")\n",
    "            o.write(\"min_variant_coverage: 5\\n\")\n",
    "            o.write(\"alpha: {}\\n\".format(0))\n",
    "            o.write(\"beta: {}\\n\".format(0))\n",
    "            o.write(\"edit_fraction: {}\\n\".format(0.01))\n",
    "            o.write(\"skip_duplicate_removal: {}\\n\".format(skip_rmdup))\n",
    "            o.write(\"reverse_stranded_library: false\\n\")\n",
    "    progress.update(1)"
   ]
  },
  {
   "cell_type": "markdown",
   "metadata": {},
   "source": [
    "# Grab all JSON files created from the above cell.\n",
    "- actually just grab the ones we want to run since we're kinda doing this piece by piece. "
   ]
  },
  {
   "cell_type": "code",
   "execution_count": 5,
   "metadata": {},
   "outputs": [],
   "source": [
    "jsons = glob.glob(os.path.join(output_dir, '*.json'))"
   ]
  },
  {
   "cell_type": "code",
   "execution_count": 6,
   "metadata": {},
   "outputs": [
    {
     "data": {
      "text/plain": [
       "['/home/bay001/projects/kris_apobec_20200121/permanent_data2/07_scRNA_groups/sailor_outputs_groups_deep/RPS2-STAMP_possorted_genome_bam_MD-RPS2_EPKM_barcodes_with_flags_cluster1.txt.json',\n",
       " '/home/bay001/projects/kris_apobec_20200121/permanent_data2/07_scRNA_groups/sailor_outputs_groups_deep/RPS2-STAMP_possorted_genome_bam_MD-RPS2_escore_barcodes_with_flags_cluster3.txt.json',\n",
       " '/home/bay001/projects/kris_apobec_20200121/permanent_data2/07_scRNA_groups/sailor_outputs_groups_deep/RPS2-STAMP_possorted_genome_bam_MD-38_barcodes.tsv.json']"
      ]
     },
     "execution_count": 6,
     "metadata": {},
     "output_type": "execute_result"
    }
   ],
   "source": [
    "jsons[:3]"
   ]
  },
  {
   "cell_type": "code",
   "execution_count": 7,
   "metadata": {},
   "outputs": [
    {
     "data": {
      "application/vnd.jupyter.widget-view+json": {
       "model_id": "09fd3398e81441e3b0d5ea55cdc14c7e",
       "version_major": 2,
       "version_minor": 0
      },
      "text/plain": [
       "HBox(children=(IntProgress(value=0, max=74), HTML(value=u'')))"
      ]
     },
     "metadata": {},
     "output_type": "display_data"
    },
    {
     "data": {
      "text/plain": [
       "['module load sailor/1.1.0;cd /home/bay001/projects/kris_apobec_20200121/permanent_data2/07_scRNA_groups/sailor_outputs_groups_deep;./RPS2-STAMP_possorted_genome_bam_MD-RPS2_non_APO_edits_barcodes_RPKM.txt.json;']"
      ]
     },
     "execution_count": 7,
     "metadata": {},
     "output_type": "execute_result"
    }
   ],
   "source": [
    "cmds = []\n",
    "\n",
    "progress = tnrange(len(jsons))\n",
    "for json in jsons:\n",
    "    if not os.path.exists(os.path.splitext(json)[0]):\n",
    "        cmd = 'module load sailor/1.1.0;'\n",
    "        ! chmod +x $json\n",
    "        cmd += 'cd {};'.format(output_dir)\n",
    "        cmd += './{};'.format(os.path.basename(json))\n",
    "        cmds.append(cmd)\n",
    "    progress.update(1)\n",
    "\n",
    "cmds[:10]"
   ]
  },
  {
   "cell_type": "code",
   "execution_count": 8,
   "metadata": {},
   "outputs": [
    {
     "name": "stdout",
     "output_type": "stream",
     "text": [
      "total commands: 1\n"
     ]
    }
   ],
   "source": [
    "print(\"total commands: {}\".format(len(cmds)))"
   ]
  },
  {
   "cell_type": "code",
   "execution_count": 9,
   "metadata": {},
   "outputs": [
    {
     "name": "stderr",
     "output_type": "stream",
     "text": [
      "Writing 1 tasks as an array-job.\n",
      "Wrote commands to scRNA-sailor-groups.sh.\n",
      "Submitted script to queue home.\n",
      " Job ID: 24727464\n"
     ]
    },
    {
     "data": {
      "text/plain": [
       "<qtools.submitter.Submitter at 0x2abbba001790>"
      ]
     },
     "execution_count": 9,
     "metadata": {},
     "output_type": "execute_result"
    }
   ],
   "source": [
    "Submitter(\n",
    "    commands=cmds,\n",
    "    job_name='scRNA-sailor-groups',\n",
    "    sh='scRNA-sailor-groups.sh',\n",
    "    array=True,\n",
    "    nodes=1,\n",
    "    ppn=4,\n",
    "    walltime='72:00:00',\n",
    "    submit=True,\n",
    ")"
   ]
  },
  {
   "cell_type": "code",
   "execution_count": null,
   "metadata": {},
   "outputs": [],
   "source": []
  }
 ],
 "metadata": {
  "kernelspec": {
   "display_name": "python2-essential",
   "language": "python",
   "name": "python2-essential"
  },
  "language_info": {
   "codemirror_mode": {
    "name": "ipython",
    "version": 2
   },
   "file_extension": ".py",
   "mimetype": "text/x-python",
   "name": "python",
   "nbconvert_exporter": "python",
   "pygments_lexer": "ipython2",
   "version": "2.7.15"
  }
 },
 "nbformat": 4,
 "nbformat_minor": 2
}
