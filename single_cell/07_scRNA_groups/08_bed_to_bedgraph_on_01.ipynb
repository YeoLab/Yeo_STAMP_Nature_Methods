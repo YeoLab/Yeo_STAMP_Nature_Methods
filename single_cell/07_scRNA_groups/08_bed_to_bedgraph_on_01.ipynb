{
 "cells": [
  {
   "cell_type": "markdown",
   "metadata": {},
   "source": [
    "# reads bed file outputs containing edits and converts to bedgraph based on various conf levels."
   ]
  },
  {
   "cell_type": "code",
   "execution_count": 1,
   "metadata": {},
   "outputs": [],
   "source": [
    "%matplotlib inline\n",
    "import matplotlib.pyplot as plt\n",
    "import seaborn as sns\n",
    "import os\n",
    "import pandas as pd\n",
    "import numpy as np\n",
    "import glob\n",
    "from tqdm import tnrange, tqdm_notebook"
   ]
  },
  {
   "cell_type": "code",
   "execution_count": 2,
   "metadata": {},
   "outputs": [],
   "source": [
    "input_dir = '/home/bay001/projects/kris_apobec_20200121/permanent_data2/07_scRNA_groups/sailor_outputs_groups/combined_outputs_w_cov_info/'\n",
    "output_dir = '/home/bay001/projects/kris_apobec_20200121/permanent_data2/07_scRNA_groups/sailor_outputs_groups/bedgraphs/'\n",
    "tmp_dir = '/home/bay001/projects/kris_apobec_20200121/temporary_data/07_scRNA_groups/sailor_outputs_groups/tmp'"
   ]
  },
  {
   "cell_type": "code",
   "execution_count": 3,
   "metadata": {},
   "outputs": [
    {
     "name": "stdout",
     "output_type": "stream",
     "text": [
      "45\n"
     ]
    },
    {
     "data": {
      "text/plain": [
       "['/home/bay001/projects/kris_apobec_20200121/permanent_data2/07_scRNA_groups/sailor_outputs_groups/combined_outputs_w_cov_info/APOBEC-STAMP_possorted_genome_bam-APOBEC_STAMP_Apo_filtered_lenti_common_expression_barcodes.txt.fx.bed',\n",
       " '/home/bay001/projects/kris_apobec_20200121/permanent_data2/07_scRNA_groups/sailor_outputs_groups/combined_outputs_w_cov_info/APOBEC-STAMP_possorted_genome_bam_MD-1_barcodes.tsv.fx.bed',\n",
       " '/home/bay001/projects/kris_apobec_20200121/permanent_data2/07_scRNA_groups/sailor_outputs_groups/combined_outputs_w_cov_info/APOBEC-STAMP_possorted_genome_bam_MD-2_barcodes.tsv.fx.bed',\n",
       " '/home/bay001/projects/kris_apobec_20200121/permanent_data2/07_scRNA_groups/sailor_outputs_groups/combined_outputs_w_cov_info/APOBEC-STAMP_possorted_genome_bam_MD-5_barcodes.tsv.fx.bed',\n",
       " '/home/bay001/projects/kris_apobec_20200121/permanent_data2/07_scRNA_groups/sailor_outputs_groups/combined_outputs_w_cov_info/APOBEC-STAMP_possorted_genome_bam_MD.fx.bed',\n",
       " '/home/bay001/projects/kris_apobec_20200121/permanent_data2/07_scRNA_groups/sailor_outputs_groups/combined_outputs_w_cov_info/For_Motif_ALL_edits_barcodes_0_1.fx.bed',\n",
       " '/home/bay001/projects/kris_apobec_20200121/permanent_data2/07_scRNA_groups/sailor_outputs_groups/combined_outputs_w_cov_info/For_Motif_Background_APO_plus_RBFOX2-TIA1_APO_edits_barcodes_4_5.fx.bed',\n",
       " '/home/bay001/projects/kris_apobec_20200121/permanent_data2/07_scRNA_groups/sailor_outputs_groups/combined_outputs_w_cov_info/HEK-NPC-APOBEC-STAMP_possorted_genome_bam_MD-19_barcodes.tsv.fx.bed',\n",
       " '/home/bay001/projects/kris_apobec_20200121/permanent_data2/07_scRNA_groups/sailor_outputs_groups/combined_outputs_w_cov_info/HEK-NPC-APOBEC-STAMP_possorted_genome_bam_MD-20_barcodes.tsv.fx.bed',\n",
       " '/home/bay001/projects/kris_apobec_20200121/permanent_data2/07_scRNA_groups/sailor_outputs_groups/combined_outputs_w_cov_info/HEK-NPC-RBFOX2-STAMP_possorted_genome_bam_MD-21_barcodes.tsv.fx.bed',\n",
       " '/home/bay001/projects/kris_apobec_20200121/permanent_data2/07_scRNA_groups/sailor_outputs_groups/combined_outputs_w_cov_info/HEK-NPC-RBFOX2-STAMP_possorted_genome_bam_MD-22_barcodes.tsv.fx.bed',\n",
       " '/home/bay001/projects/kris_apobec_20200121/permanent_data2/07_scRNA_groups/sailor_outputs_groups/combined_outputs_w_cov_info/HEK-NPC-RBFOX2-STAMP_possorted_genome_bam_MD-23_barcodes.tsv.fx.bed',\n",
       " '/home/bay001/projects/kris_apobec_20200121/permanent_data2/07_scRNA_groups/sailor_outputs_groups/combined_outputs_w_cov_info/HEK-NPC-RBFOX2-STAMP_possorted_genome_bam_MD-24_barcodes.tsv.fx.bed',\n",
       " '/home/bay001/projects/kris_apobec_20200121/permanent_data2/07_scRNA_groups/sailor_outputs_groups/combined_outputs_w_cov_info/HEK-NPC-RBFOX2-STAMP_possorted_genome_bam_MD-25_barcodes.tsv.fx.bed',\n",
       " '/home/bay001/projects/kris_apobec_20200121/permanent_data2/07_scRNA_groups/sailor_outputs_groups/combined_outputs_w_cov_info/HEK-NPC-RBFOX2-STAMP_possorted_genome_bam_MD-26_barcodes.tsv.fx.bed',\n",
       " '/home/bay001/projects/kris_apobec_20200121/permanent_data2/07_scRNA_groups/sailor_outputs_groups/combined_outputs_w_cov_info/HEK-NPC-RBFOX2-STAMP_possorted_genome_bam_MD-30_barcodes.tsv.fx.bed',\n",
       " '/home/bay001/projects/kris_apobec_20200121/permanent_data2/07_scRNA_groups/sailor_outputs_groups/combined_outputs_w_cov_info/HEK-NPC-RBFOX2-STAMP_possorted_genome_bam_MD-31_barcodes.tsv.fx.bed',\n",
       " '/home/bay001/projects/kris_apobec_20200121/permanent_data2/07_scRNA_groups/sailor_outputs_groups/combined_outputs_w_cov_info/HEK-NPC-RBFOX2-STAMP_possorted_genome_bam_MD-32_barcodes.tsv.fx.bed',\n",
       " '/home/bay001/projects/kris_apobec_20200121/permanent_data2/07_scRNA_groups/sailor_outputs_groups/combined_outputs_w_cov_info/RBFOX2-TIA1-STAMP_possorted_genome_bam_MD-33_barcodes.tsv.fx.bed',\n",
       " '/home/bay001/projects/kris_apobec_20200121/permanent_data2/07_scRNA_groups/sailor_outputs_groups/combined_outputs_w_cov_info/RBFOX2-TIA1-STAMP_possorted_genome_bam_MD-34_barcodes.tsv.fx.bed',\n",
       " '/home/bay001/projects/kris_apobec_20200121/permanent_data2/07_scRNA_groups/sailor_outputs_groups/combined_outputs_w_cov_info/RBFOX2-TIA1-STAMP_round2E_read1_feature_FB_possorted_genome_bam_MD-0_barcodes.tsv.fx.bed',\n",
       " '/home/bay001/projects/kris_apobec_20200121/permanent_data2/07_scRNA_groups/sailor_outputs_groups/combined_outputs_w_cov_info/RBFOX2-TIA1-STAMP_round2E_read1_feature_FB_possorted_genome_bam_MD-27_barcodes.tsv.fx.bed',\n",
       " '/home/bay001/projects/kris_apobec_20200121/permanent_data2/07_scRNA_groups/sailor_outputs_groups/combined_outputs_w_cov_info/RBFOX2-TIA1-STAMP_round2E_read1_feature_FB_possorted_genome_bam_MD-28_barcodes.tsv.fx.bed',\n",
       " '/home/bay001/projects/kris_apobec_20200121/permanent_data2/07_scRNA_groups/sailor_outputs_groups/combined_outputs_w_cov_info/RBFOX2-TIA1-STAMP_round2E_read1_feature_FB_possorted_genome_bam_MD-29_barcodes.tsv.fx.bed',\n",
       " '/home/bay001/projects/kris_apobec_20200121/permanent_data2/07_scRNA_groups/sailor_outputs_groups/combined_outputs_w_cov_info/RBFOX2-TIA1-STAMP_round2E_read1_feature_FB_possorted_genome_bam_MD-35_barcodes.tsv.fx.bed',\n",
       " '/home/bay001/projects/kris_apobec_20200121/permanent_data2/07_scRNA_groups/sailor_outputs_groups/combined_outputs_w_cov_info/RBFOX2-TIA1-STAMP_round2E_read1_feature_FB_possorted_genome_bam_MD-36_barcodes.tsv.fx.bed',\n",
       " '/home/bay001/projects/kris_apobec_20200121/permanent_data2/07_scRNA_groups/sailor_outputs_groups/combined_outputs_w_cov_info/RBFOX2-TIA1-STAMP_round2E_read1_feature_FB_possorted_genome_bam_MD-3_barcodes.tsv.fx.bed',\n",
       " '/home/bay001/projects/kris_apobec_20200121/permanent_data2/07_scRNA_groups/sailor_outputs_groups/combined_outputs_w_cov_info/RBFOX2-TIA1-STAMP_round2E_read1_feature_FB_possorted_genome_bam_MD-4_barcodes.tsv.fx.bed',\n",
       " '/home/bay001/projects/kris_apobec_20200121/permanent_data2/07_scRNA_groups/sailor_outputs_groups/combined_outputs_w_cov_info/RBFOX2-TIA1-STAMP_round2E_read1_feature_FB_possorted_genome_bam_MD-6_barcodes.tsv.fx.bed',\n",
       " '/home/bay001/projects/kris_apobec_20200121/permanent_data2/07_scRNA_groups/sailor_outputs_groups/combined_outputs_w_cov_info/RBFOX2-TIA1-STAMP_round2E_read1_feature_FB_possorted_genome_bam_MD-6_barcodes_noCS.rand10.txt.fx.bed',\n",
       " '/home/bay001/projects/kris_apobec_20200121/permanent_data2/07_scRNA_groups/sailor_outputs_groups/combined_outputs_w_cov_info/RBFOX2-TIA1-STAMP_round2E_read1_feature_FB_possorted_genome_bam_MD-6_barcodes_noCS.rand100.txt.fx.bed',\n",
       " '/home/bay001/projects/kris_apobec_20200121/permanent_data2/07_scRNA_groups/sailor_outputs_groups/combined_outputs_w_cov_info/RBFOX2-TIA1-STAMP_round2E_read1_feature_FB_possorted_genome_bam_MD-6_barcodes_noCS.rand200.txt.fx.bed',\n",
       " '/home/bay001/projects/kris_apobec_20200121/permanent_data2/07_scRNA_groups/sailor_outputs_groups/combined_outputs_w_cov_info/RBFOX2-TIA1-STAMP_round2E_read1_feature_FB_possorted_genome_bam_MD-6_barcodes_noCS.rand300.txt.fx.bed',\n",
       " '/home/bay001/projects/kris_apobec_20200121/permanent_data2/07_scRNA_groups/sailor_outputs_groups/combined_outputs_w_cov_info/RBFOX2-TIA1-STAMP_round2E_read1_feature_FB_possorted_genome_bam_MD-6_barcodes_noCS.rand50.txt.fx.bed',\n",
       " '/home/bay001/projects/kris_apobec_20200121/permanent_data2/07_scRNA_groups/sailor_outputs_groups/combined_outputs_w_cov_info/RBFOX2-TIA1-STAMP_round2E_read1_feature_FB_possorted_genome_bam_MD-6_barcodes_noCS.rand500.txt.fx.bed',\n",
       " '/home/bay001/projects/kris_apobec_20200121/permanent_data2/07_scRNA_groups/sailor_outputs_groups/combined_outputs_w_cov_info/RBFOX2-TIA1-STAMP_round2E_read1_feature_FB_possorted_genome_bam_MD-6_barcodes_noCS.txt.fx.bed',\n",
       " '/home/bay001/projects/kris_apobec_20200121/permanent_data2/07_scRNA_groups/sailor_outputs_groups/combined_outputs_w_cov_info/RBFOX2-TIA1-STAMP_round2E_read1_feature_FB_possorted_genome_bam_MD-7_barcodes.tsv.fx.bed',\n",
       " '/home/bay001/projects/kris_apobec_20200121/permanent_data2/07_scRNA_groups/sailor_outputs_groups/combined_outputs_w_cov_info/RBFOX2-TIA1-STAMP_round2E_read1_feature_FB_possorted_genome_bam_MD-7_barcodes_noCS.rand10.txt.fx.bed',\n",
       " '/home/bay001/projects/kris_apobec_20200121/permanent_data2/07_scRNA_groups/sailor_outputs_groups/combined_outputs_w_cov_info/RBFOX2-TIA1-STAMP_round2E_read1_feature_FB_possorted_genome_bam_MD-7_barcodes_noCS.rand100.txt.fx.bed',\n",
       " '/home/bay001/projects/kris_apobec_20200121/permanent_data2/07_scRNA_groups/sailor_outputs_groups/combined_outputs_w_cov_info/RBFOX2-TIA1-STAMP_round2E_read1_feature_FB_possorted_genome_bam_MD-7_barcodes_noCS.rand200.txt.fx.bed',\n",
       " '/home/bay001/projects/kris_apobec_20200121/permanent_data2/07_scRNA_groups/sailor_outputs_groups/combined_outputs_w_cov_info/RBFOX2-TIA1-STAMP_round2E_read1_feature_FB_possorted_genome_bam_MD-7_barcodes_noCS.rand300.txt.fx.bed',\n",
       " '/home/bay001/projects/kris_apobec_20200121/permanent_data2/07_scRNA_groups/sailor_outputs_groups/combined_outputs_w_cov_info/RBFOX2-TIA1-STAMP_round2E_read1_feature_FB_possorted_genome_bam_MD-7_barcodes_noCS.rand50.txt.fx.bed',\n",
       " '/home/bay001/projects/kris_apobec_20200121/permanent_data2/07_scRNA_groups/sailor_outputs_groups/combined_outputs_w_cov_info/RBFOX2-TIA1-STAMP_round2E_read1_feature_FB_possorted_genome_bam_MD-7_barcodes_noCS.rand500.txt.fx.bed',\n",
       " '/home/bay001/projects/kris_apobec_20200121/permanent_data2/07_scRNA_groups/sailor_outputs_groups/combined_outputs_w_cov_info/RBFOX2-TIA1-STAMP_round2E_read1_feature_FB_possorted_genome_bam_MD-7_barcodes_noCS.txt.fx.bed',\n",
       " '/home/bay001/projects/kris_apobec_20200121/permanent_data2/07_scRNA_groups/sailor_outputs_groups/combined_outputs_w_cov_info/RPS2-STAMP_possorted_genome_bam-RPS2_STAMP_Apo_filtered_lenti_common_expression_barcodes.txt.fx.bed']"
      ]
     },
     "execution_count": 3,
     "metadata": {},
     "output_type": "execute_result"
    }
   ],
   "source": [
    "all_bed_files = sorted(glob.glob(os.path.join(input_dir, '*.fx.bed')))\n",
    "print(len(all_bed_files))\n",
    "all_bed_files"
   ]
  },
  {
   "cell_type": "code",
   "execution_count": 4,
   "metadata": {},
   "outputs": [
    {
     "data": {
      "application/vnd.jupyter.widget-view+json": {
       "model_id": "85f6721ed0cb47e2b76db2956737e144",
       "version_major": 2,
       "version_minor": 0
      },
      "text/plain": [
       "HBox(children=(IntProgress(value=0, max=450), HTML(value='')))"
      ]
     },
     "metadata": {},
     "output_type": "display_data"
    },
    {
     "name": "stderr",
     "output_type": "stream",
     "text": [
      "/home/bay001/anaconda2/envs/python3-essential/lib/python3.6/site-packages/ipykernel_launcher.py:7: FutureWarning: read_table is deprecated, use read_csv instead, passing sep='\\t'.\n",
      "  import sys\n"
     ]
    }
   ],
   "source": [
    "def recompute_edit_fraction(row):\n",
    "    edit, cov = row['frac'].split(',')\n",
    "    return int(edit)/float(cov)\n",
    "\n",
    "def filter_bed_and_convert_to_bg(input_bed, output_bg, strand, conf):\n",
    "    edit_head = ['chrom','start','end','conf','frac','strand']\n",
    "    df = pd.read_table(input_bed, names=edit_head)\n",
    "    df.sort_values(by=['chrom','start','end'], inplace=True)\n",
    "    df = df[(df['conf']>=conf) & (df['strand']==strand)]\n",
    "    df['name'] = df.apply(recompute_edit_fraction, axis=1)\n",
    "    df[['chrom','start','end','name']].to_csv(output_bg, sep='\\t', header=False, index=False)\n",
    "\n",
    "confs = [0.5, 0.9, 0.99, 0.999, 1]      \n",
    "genome = '/projects/ps-yeolab3/bay001/annotations/hg19/hg19.chrom.sizes'\n",
    "progress = tnrange(len(all_bed_files)*len(confs)*2)\n",
    "for conf in confs:\n",
    "    for bed in all_bed_files:\n",
    "        for strand, label in zip(['+', '-'],['pos','neg']):\n",
    "            filter_fn = os.path.join(tmp_dir, os.path.basename(bed) + \".{}\".format(conf))\n",
    "            output_bg = os.path.join(output_dir, os.path.basename(bed) + \".{}.{}.bedgraph\".format(conf, label))\n",
    "            filter_bed_and_convert_to_bg(bed, output_bg, strand, conf)\n",
    "            progress.update(1)"
   ]
  },
  {
   "cell_type": "code",
   "execution_count": null,
   "metadata": {},
   "outputs": [],
   "source": []
  }
 ],
 "metadata": {
  "kernelspec": {
   "display_name": "python3-essential",
   "language": "python",
   "name": "python3-essential"
  },
  "language_info": {
   "codemirror_mode": {
    "name": "ipython",
    "version": 3
   },
   "file_extension": ".py",
   "mimetype": "text/x-python",
   "name": "python",
   "nbconvert_exporter": "python",
   "pygments_lexer": "ipython3",
   "version": "3.6.7"
  }
 },
 "nbformat": 4,
 "nbformat_minor": 2
}
