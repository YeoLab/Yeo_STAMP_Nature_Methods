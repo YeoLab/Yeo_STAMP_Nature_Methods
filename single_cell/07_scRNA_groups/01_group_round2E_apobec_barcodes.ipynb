{
 "cells": [
  {
   "cell_type": "markdown",
   "metadata": {},
   "source": [
    "# This notebook parses the possorted_genome_bam_MD.bam to pull out only the barcodes specificed in Alex's lists.\n",
    "- functionally equivalent to notebook 11_group_bams.ipynb, but in this case we're just re-parsing the main bam file instead of joining a bunch of smaller bam files."
   ]
  },
  {
   "cell_type": "code",
   "execution_count": 1,
   "metadata": {},
   "outputs": [],
   "source": [
    "import pandas as pd\n",
    "import numpy as np\n",
    "import os\n",
    "import glob\n",
    "import pysam\n",
    "import time\n",
    "from collections import defaultdict\n",
    "from tqdm import tnrange, tqdm_notebook\n",
    "from qtools import Submitter\n",
    "\n",
    "pd.set_option('display.max_colwidth', 1000)\n",
    "pd.set_option('display.width', 10000)"
   ]
  },
  {
   "cell_type": "code",
   "execution_count": 2,
   "metadata": {},
   "outputs": [],
   "source": [
    "input_dir = '/home/bay001/projects/kris_apobec_20200121/permanent_data2/07_scRNA_groups/inputs'\n",
    "output_dir = '/home/bay001/projects/kris_apobec_20200121/permanent_data2/07_scRNA_groups/bam_file_groups/'"
   ]
  },
  {
   "cell_type": "code",
   "execution_count": null,
   "metadata": {},
   "outputs": [],
   "source": []
  },
  {
   "cell_type": "markdown",
   "metadata": {},
   "source": [
    "# Read in expression values from Alex to help us decide which barcodes to look for/split.\n",
    "\n",
    "original sources: \n",
    "```\n",
    "/home/iachaim/notebooks/10X/APOBEC/02_02_Subsetting_on_non_APO_overlap/results/For_Motif_ALL_edits_barcodes.csv\n",
    "/home/iachaim/notebooks/10X/APOBEC/02_02_Subsetting_on_non_APO_overlap/results/For_Motif_APO_edits_barcodes.csv\n",
    "/home/iachaim/notebooks/10X/APOBEC/02_02_Subsetting_on_non_APO_overlap/results/For_Motif_TIA1-RBFOX2_sample_edits_barcodes.csv\n",
    "/home/iachaim/notebooks/10X/APOBEC/02_02_Subsetting_on_non_APO_overlap/results/For_Motif_TIA1_no_APO_edits_barcodes.csv\n",
    "/home/iachaim/notebooks/10X/APOBEC/02_02_Subsetting_on_non_APO_overlap/results/For_Motif_RBFOX2_no_APO_edits_barcodes.csv\n",
    "```"
   ]
  },
  {
   "cell_type": "code",
   "execution_count": 3,
   "metadata": {},
   "outputs": [
    {
     "data": {
      "text/html": [
       "<div>\n",
       "<style scoped>\n",
       "    .dataframe tbody tr th:only-of-type {\n",
       "        vertical-align: middle;\n",
       "    }\n",
       "\n",
       "    .dataframe tbody tr th {\n",
       "        vertical-align: top;\n",
       "    }\n",
       "\n",
       "    .dataframe thead th {\n",
       "        text-align: right;\n",
       "    }\n",
       "</style>\n",
       "<table border=\"1\" class=\"dataframe\">\n",
       "  <thead>\n",
       "    <tr style=\"text-align: right;\">\n",
       "      <th></th>\n",
       "      <th>Barcode_file</th>\n",
       "      <th>MD_tagged_BAM</th>\n",
       "      <th>Batch</th>\n",
       "    </tr>\n",
       "  </thead>\n",
       "  <tbody>\n",
       "    <tr>\n",
       "      <th>0</th>\n",
       "      <td>/home/iachaim/notebooks/10X/APOBEC/02_02_Subsetting_on_non_APO_overlap/results/For_Motif_ALL_edits_barcodes.csv</td>\n",
       "      <td>/home/bay001/projects/kris_apobec_20200121/permanent_data2/07_scRNA_groups/inputs/RBFOX2-TIA1-STAMP_round2E_read1_feature_FB_possorted_genome_bam_MD.bam</td>\n",
       "      <td>RBFOX_TIA-Edits</td>\n",
       "    </tr>\n",
       "    <tr>\n",
       "      <th>1</th>\n",
       "      <td>/home/iachaim/notebooks/10X/APOBEC/02_02_Subsetting_on_non_APO_overlap/results/For_Motif_ALL_edits_barcodes.csv</td>\n",
       "      <td>/home/bay001/projects/kris_apobec_20200121/permanent_data2/07_scRNA_groups/inputs/APOBEC-STAMP_possorted_genome_bam_MD.bam</td>\n",
       "      <td>Apo-Edits</td>\n",
       "    </tr>\n",
       "    <tr>\n",
       "      <th>2</th>\n",
       "      <td>/home/iachaim/notebooks/10X/APOBEC/02_02_Subsetting_on_non_APO_overlap/results/For_Motif_APO_edits_barcodes.csv</td>\n",
       "      <td>/home/bay001/projects/kris_apobec_20200121/permanent_data2/07_scRNA_groups/inputs/APOBEC-STAMP_possorted_genome_bam_MD.bam</td>\n",
       "      <td>Apo-Edits</td>\n",
       "    </tr>\n",
       "    <tr>\n",
       "      <th>3</th>\n",
       "      <td>/home/iachaim/notebooks/10X/APOBEC/02_02_Subsetting_on_non_APO_overlap/results/For_Motif_TIA1-RBFOX2_sample_edits_barcodes.csv</td>\n",
       "      <td>/home/bay001/projects/kris_apobec_20200121/permanent_data2/07_scRNA_groups/inputs/RBFOX2-TIA1-STAMP_round2E_read1_feature_FB_possorted_genome_bam_MD.bam</td>\n",
       "      <td>RBFOX_TIA-Edits</td>\n",
       "    </tr>\n",
       "    <tr>\n",
       "      <th>4</th>\n",
       "      <td>/home/iachaim/notebooks/10X/APOBEC/02_02_Subsetting_on_non_APO_overlap/results/For_Motif_Background_APO_plus_RBFOX2-TIA1_APO_edits_barcodes.csv</td>\n",
       "      <td>/home/bay001/projects/kris_apobec_20200121/permanent_data2/07_scRNA_groups/inputs/RBFOX2-TIA1-STAMP_round2E_read1_feature_FB_possorted_genome_bam_MD.bam</td>\n",
       "      <td>RBFOX_TIA-Edits</td>\n",
       "    </tr>\n",
       "    <tr>\n",
       "      <th>5</th>\n",
       "      <td>/home/iachaim/notebooks/10X/APOBEC/02_02_Subsetting_on_non_APO_overlap/results/For_Motif_Background_APO_plus_RBFOX2-TIA1_APO_edits_barcodes.csv</td>\n",
       "      <td>/home/bay001/projects/kris_apobec_20200121/permanent_data2/07_scRNA_groups/inputs/APOBEC-STAMP_possorted_genome_bam_MD.bam</td>\n",
       "      <td>Apo-Edits</td>\n",
       "    </tr>\n",
       "    <tr>\n",
       "      <th>6</th>\n",
       "      <td>/home/iachaim/notebooks/10X/APOBEC/02_02_Subsetting_on_non_APO_overlap/results/For_Motif_TIA1_no_APO_edits_barcodes.csv</td>\n",
       "      <td>/home/bay001/projects/kris_apobec_20200121/permanent_data2/07_scRNA_groups/inputs/RBFOX2-TIA1-STAMP_round2E_read1_feature_FB_possorted_genome_bam_MD.bam</td>\n",
       "      <td>RBFOX_TIA-Edits</td>\n",
       "    </tr>\n",
       "    <tr>\n",
       "      <th>7</th>\n",
       "      <td>/home/iachaim/notebooks/10X/APOBEC/02_02_Subsetting_on_non_APO_overlap/results/For_Motif_RBFOX2_no_APO_edits_barcodes.csv</td>\n",
       "      <td>/home/bay001/projects/kris_apobec_20200121/permanent_data2/07_scRNA_groups/inputs/RBFOX2-TIA1-STAMP_round2E_read1_feature_FB_possorted_genome_bam_MD.bam</td>\n",
       "      <td>RBFOX_TIA-Edits</td>\n",
       "    </tr>\n",
       "    <tr>\n",
       "      <th>19</th>\n",
       "      <td>/home/iachaim/notebooks/10X/APOBEC/01_02_Subsetting_on_non_APO_overlap/results/For_Motif_APOBEC_NPC_edits_barcodes.csv</td>\n",
       "      <td>/home/bay001/projects/kris_apobec_20200121/permanent_data2/07_scRNA_groups/inputs/HEK-NPC-APOBEC-STAMP_possorted_genome_bam_MD.bam</td>\n",
       "      <td>APOBEC</td>\n",
       "    </tr>\n",
       "    <tr>\n",
       "      <th>20</th>\n",
       "      <td>/home/iachaim/notebooks/10X/APOBEC/01_02_Subsetting_on_non_APO_overlap/results/For_Motif_APOBEC_HEK_edits_barcodes.csv</td>\n",
       "      <td>/home/bay001/projects/kris_apobec_20200121/permanent_data2/07_scRNA_groups/inputs/HEK-NPC-APOBEC-STAMP_possorted_genome_bam_MD.bam</td>\n",
       "      <td>APOBEC</td>\n",
       "    </tr>\n",
       "    <tr>\n",
       "      <th>21</th>\n",
       "      <td>/home/iachaim/notebooks/10X/APOBEC/01_02_Subsetting_on_non_APO_overlap/results/For_Motif_RBFOX2_NPC_edits_barcodes.csv</td>\n",
       "      <td>/home/bay001/projects/kris_apobec_20200121/permanent_data2/07_scRNA_groups/inputs/HEK-NPC-RBFOX2-STAMP_possorted_genome_bam_MD.bam</td>\n",
       "      <td>RBFOX2</td>\n",
       "    </tr>\n",
       "    <tr>\n",
       "      <th>22</th>\n",
       "      <td>/home/iachaim/notebooks/10X/APOBEC/01_02_Subsetting_on_non_APO_overlap/results/For_Motif_RBFOX2_HEK_edits_barcodes.csv</td>\n",
       "      <td>/home/bay001/projects/kris_apobec_20200121/permanent_data2/07_scRNA_groups/inputs/HEK-NPC-RBFOX2-STAMP_possorted_genome_bam_MD.bam</td>\n",
       "      <td>RBFOX2</td>\n",
       "    </tr>\n",
       "    <tr>\n",
       "      <th>23</th>\n",
       "      <td>/home/iachaim/notebooks/10X/APOBEC/01_02_Subsetting_on_non_APO_overlap/results/For_Motif_APO_background_RBFOX2_NPC_edits_barcodes.csv</td>\n",
       "      <td>/home/bay001/projects/kris_apobec_20200121/permanent_data2/07_scRNA_groups/inputs/HEK-NPC-RBFOX2-STAMP_possorted_genome_bam_MD.bam</td>\n",
       "      <td>RBFOX2</td>\n",
       "    </tr>\n",
       "    <tr>\n",
       "      <th>24</th>\n",
       "      <td>/home/iachaim/notebooks/10X/APOBEC/01_02_Subsetting_on_non_APO_overlap/results/For_Motif_APO_background_RBFOX2_HEK_edits_barcodes.csv</td>\n",
       "      <td>/home/bay001/projects/kris_apobec_20200121/permanent_data2/07_scRNA_groups/inputs/HEK-NPC-RBFOX2-STAMP_possorted_genome_bam_MD.bam</td>\n",
       "      <td>RBFOX2</td>\n",
       "    </tr>\n",
       "    <tr>\n",
       "      <th>25</th>\n",
       "      <td>/home/iachaim/notebooks/10X/APOBEC/01_02_Subsetting_on_non_APO_overlap/results/For_Motif_APO_removed_RBFOX2_NPC_edits_barcodes.csv</td>\n",
       "      <td>/home/bay001/projects/kris_apobec_20200121/permanent_data2/07_scRNA_groups/inputs/HEK-NPC-RBFOX2-STAMP_possorted_genome_bam_MD.bam</td>\n",
       "      <td>RBFOX2</td>\n",
       "    </tr>\n",
       "    <tr>\n",
       "      <th>26</th>\n",
       "      <td>/home/iachaim/notebooks/10X/APOBEC/01_02_Subsetting_on_non_APO_overlap/results/For_Motif_APO_removed_RBFOX2_HEK_edits_barcodes.csv</td>\n",
       "      <td>/home/bay001/projects/kris_apobec_20200121/permanent_data2/07_scRNA_groups/inputs/HEK-NPC-RBFOX2-STAMP_possorted_genome_bam_MD.bam</td>\n",
       "      <td>RBFOX2</td>\n",
       "    </tr>\n",
       "    <tr>\n",
       "      <th>27</th>\n",
       "      <td>/home/iachaim/notebooks/10X/APOBEC/02_02_Subsetting_on_non_APO_overlap/results/For_Motif_Undetermined_from_RBFOX2-TIA1_edits_barcodes.csv</td>\n",
       "      <td>/home/bay001/projects/kris_apobec_20200121/permanent_data2/07_scRNA_groups/inputs/RBFOX2-TIA1-STAMP_round2E_read1_feature_FB_possorted_genome_bam_MD.bam</td>\n",
       "      <td>Undetermined</td>\n",
       "    </tr>\n",
       "    <tr>\n",
       "      <th>28</th>\n",
       "      <td>/home/iachaim/notebooks/10X/APOBEC/02_02_Subsetting_on_non_APO_overlap/results/For_Motif_TIA1_from_RBFOX2-TIA1_edits_barcodess.csv</td>\n",
       "      <td>/home/bay001/projects/kris_apobec_20200121/permanent_data2/07_scRNA_groups/inputs/RBFOX2-TIA1-STAMP_round2E_read1_feature_FB_possorted_genome_bam_MD.bam</td>\n",
       "      <td>TIA1-STAMP</td>\n",
       "    </tr>\n",
       "    <tr>\n",
       "      <th>29</th>\n",
       "      <td>/home/iachaim/notebooks/10X/APOBEC/02_02_Subsetting_on_non_APO_overlap/results/For_Motif_RBFOX2_from_RBFOX2-TIA1_edits_barcodes.csv</td>\n",
       "      <td>/home/bay001/projects/kris_apobec_20200121/permanent_data2/07_scRNA_groups/inputs/RBFOX2-TIA1-STAMP_round2E_read1_feature_FB_possorted_genome_bam_MD.bam</td>\n",
       "      <td>RBFOX2-STAMP</td>\n",
       "    </tr>\n",
       "    <tr>\n",
       "      <th>30</th>\n",
       "      <td>/home/iachaim/notebooks/10X/APOBEC/01_02_Subsetting_on_non_APO_overlap/results/For_Motif_NPC_DCX_edits_barcodes.csv</td>\n",
       "      <td>/home/bay001/projects/kris_apobec_20200121/permanent_data2/07_scRNA_groups/inputs/HEK-NPC-RBFOX2-STAMP_possorted_genome_bam_MD.bam</td>\n",
       "      <td>NPC_DCX</td>\n",
       "    </tr>\n",
       "    <tr>\n",
       "      <th>31</th>\n",
       "      <td>/home/iachaim/notebooks/10X/APOBEC/01_02_Subsetting_on_non_APO_overlap/results/For_Motif_NPC_SOX2_edits_barcodes.csv</td>\n",
       "      <td>/home/bay001/projects/kris_apobec_20200121/permanent_data2/07_scRNA_groups/inputs/HEK-NPC-RBFOX2-STAMP_possorted_genome_bam_MD.bam</td>\n",
       "      <td>NPC_SOX2</td>\n",
       "    </tr>\n",
       "    <tr>\n",
       "      <th>32</th>\n",
       "      <td>/home/iachaim/notebooks/10X/APOBEC/01_02_Subsetting_on_non_APO_overlap/results/For_Motif_HEK_edits_barcodes.csv</td>\n",
       "      <td>/home/bay001/projects/kris_apobec_20200121/permanent_data2/07_scRNA_groups/inputs/HEK-NPC-RBFOX2-STAMP_possorted_genome_bam_MD.bam</td>\n",
       "      <td>HEK</td>\n",
       "    </tr>\n",
       "  </tbody>\n",
       "</table>\n",
       "</div>"
      ],
      "text/plain": [
       "                                                                                                                                       Barcode_file                                                                                                                                             MD_tagged_BAM            Batch\n",
       "0                                   /home/iachaim/notebooks/10X/APOBEC/02_02_Subsetting_on_non_APO_overlap/results/For_Motif_ALL_edits_barcodes.csv  /home/bay001/projects/kris_apobec_20200121/permanent_data2/07_scRNA_groups/inputs/RBFOX2-TIA1-STAMP_round2E_read1_feature_FB_possorted_genome_bam_MD.bam  RBFOX_TIA-Edits\n",
       "1                                   /home/iachaim/notebooks/10X/APOBEC/02_02_Subsetting_on_non_APO_overlap/results/For_Motif_ALL_edits_barcodes.csv                                /home/bay001/projects/kris_apobec_20200121/permanent_data2/07_scRNA_groups/inputs/APOBEC-STAMP_possorted_genome_bam_MD.bam        Apo-Edits\n",
       "2                                   /home/iachaim/notebooks/10X/APOBEC/02_02_Subsetting_on_non_APO_overlap/results/For_Motif_APO_edits_barcodes.csv                                /home/bay001/projects/kris_apobec_20200121/permanent_data2/07_scRNA_groups/inputs/APOBEC-STAMP_possorted_genome_bam_MD.bam        Apo-Edits\n",
       "3                    /home/iachaim/notebooks/10X/APOBEC/02_02_Subsetting_on_non_APO_overlap/results/For_Motif_TIA1-RBFOX2_sample_edits_barcodes.csv  /home/bay001/projects/kris_apobec_20200121/permanent_data2/07_scRNA_groups/inputs/RBFOX2-TIA1-STAMP_round2E_read1_feature_FB_possorted_genome_bam_MD.bam  RBFOX_TIA-Edits\n",
       "4   /home/iachaim/notebooks/10X/APOBEC/02_02_Subsetting_on_non_APO_overlap/results/For_Motif_Background_APO_plus_RBFOX2-TIA1_APO_edits_barcodes.csv  /home/bay001/projects/kris_apobec_20200121/permanent_data2/07_scRNA_groups/inputs/RBFOX2-TIA1-STAMP_round2E_read1_feature_FB_possorted_genome_bam_MD.bam  RBFOX_TIA-Edits\n",
       "5   /home/iachaim/notebooks/10X/APOBEC/02_02_Subsetting_on_non_APO_overlap/results/For_Motif_Background_APO_plus_RBFOX2-TIA1_APO_edits_barcodes.csv                                /home/bay001/projects/kris_apobec_20200121/permanent_data2/07_scRNA_groups/inputs/APOBEC-STAMP_possorted_genome_bam_MD.bam        Apo-Edits\n",
       "6                           /home/iachaim/notebooks/10X/APOBEC/02_02_Subsetting_on_non_APO_overlap/results/For_Motif_TIA1_no_APO_edits_barcodes.csv  /home/bay001/projects/kris_apobec_20200121/permanent_data2/07_scRNA_groups/inputs/RBFOX2-TIA1-STAMP_round2E_read1_feature_FB_possorted_genome_bam_MD.bam  RBFOX_TIA-Edits\n",
       "7                         /home/iachaim/notebooks/10X/APOBEC/02_02_Subsetting_on_non_APO_overlap/results/For_Motif_RBFOX2_no_APO_edits_barcodes.csv  /home/bay001/projects/kris_apobec_20200121/permanent_data2/07_scRNA_groups/inputs/RBFOX2-TIA1-STAMP_round2E_read1_feature_FB_possorted_genome_bam_MD.bam  RBFOX_TIA-Edits\n",
       "19                           /home/iachaim/notebooks/10X/APOBEC/01_02_Subsetting_on_non_APO_overlap/results/For_Motif_APOBEC_NPC_edits_barcodes.csv                        /home/bay001/projects/kris_apobec_20200121/permanent_data2/07_scRNA_groups/inputs/HEK-NPC-APOBEC-STAMP_possorted_genome_bam_MD.bam           APOBEC\n",
       "20                           /home/iachaim/notebooks/10X/APOBEC/01_02_Subsetting_on_non_APO_overlap/results/For_Motif_APOBEC_HEK_edits_barcodes.csv                        /home/bay001/projects/kris_apobec_20200121/permanent_data2/07_scRNA_groups/inputs/HEK-NPC-APOBEC-STAMP_possorted_genome_bam_MD.bam           APOBEC\n",
       "21                           /home/iachaim/notebooks/10X/APOBEC/01_02_Subsetting_on_non_APO_overlap/results/For_Motif_RBFOX2_NPC_edits_barcodes.csv                        /home/bay001/projects/kris_apobec_20200121/permanent_data2/07_scRNA_groups/inputs/HEK-NPC-RBFOX2-STAMP_possorted_genome_bam_MD.bam           RBFOX2\n",
       "22                           /home/iachaim/notebooks/10X/APOBEC/01_02_Subsetting_on_non_APO_overlap/results/For_Motif_RBFOX2_HEK_edits_barcodes.csv                        /home/bay001/projects/kris_apobec_20200121/permanent_data2/07_scRNA_groups/inputs/HEK-NPC-RBFOX2-STAMP_possorted_genome_bam_MD.bam           RBFOX2\n",
       "23            /home/iachaim/notebooks/10X/APOBEC/01_02_Subsetting_on_non_APO_overlap/results/For_Motif_APO_background_RBFOX2_NPC_edits_barcodes.csv                        /home/bay001/projects/kris_apobec_20200121/permanent_data2/07_scRNA_groups/inputs/HEK-NPC-RBFOX2-STAMP_possorted_genome_bam_MD.bam           RBFOX2\n",
       "24            /home/iachaim/notebooks/10X/APOBEC/01_02_Subsetting_on_non_APO_overlap/results/For_Motif_APO_background_RBFOX2_HEK_edits_barcodes.csv                        /home/bay001/projects/kris_apobec_20200121/permanent_data2/07_scRNA_groups/inputs/HEK-NPC-RBFOX2-STAMP_possorted_genome_bam_MD.bam           RBFOX2\n",
       "25               /home/iachaim/notebooks/10X/APOBEC/01_02_Subsetting_on_non_APO_overlap/results/For_Motif_APO_removed_RBFOX2_NPC_edits_barcodes.csv                        /home/bay001/projects/kris_apobec_20200121/permanent_data2/07_scRNA_groups/inputs/HEK-NPC-RBFOX2-STAMP_possorted_genome_bam_MD.bam           RBFOX2\n",
       "26               /home/iachaim/notebooks/10X/APOBEC/01_02_Subsetting_on_non_APO_overlap/results/For_Motif_APO_removed_RBFOX2_HEK_edits_barcodes.csv                        /home/bay001/projects/kris_apobec_20200121/permanent_data2/07_scRNA_groups/inputs/HEK-NPC-RBFOX2-STAMP_possorted_genome_bam_MD.bam           RBFOX2\n",
       "27        /home/iachaim/notebooks/10X/APOBEC/02_02_Subsetting_on_non_APO_overlap/results/For_Motif_Undetermined_from_RBFOX2-TIA1_edits_barcodes.csv  /home/bay001/projects/kris_apobec_20200121/permanent_data2/07_scRNA_groups/inputs/RBFOX2-TIA1-STAMP_round2E_read1_feature_FB_possorted_genome_bam_MD.bam     Undetermined\n",
       "28               /home/iachaim/notebooks/10X/APOBEC/02_02_Subsetting_on_non_APO_overlap/results/For_Motif_TIA1_from_RBFOX2-TIA1_edits_barcodess.csv  /home/bay001/projects/kris_apobec_20200121/permanent_data2/07_scRNA_groups/inputs/RBFOX2-TIA1-STAMP_round2E_read1_feature_FB_possorted_genome_bam_MD.bam       TIA1-STAMP\n",
       "29              /home/iachaim/notebooks/10X/APOBEC/02_02_Subsetting_on_non_APO_overlap/results/For_Motif_RBFOX2_from_RBFOX2-TIA1_edits_barcodes.csv  /home/bay001/projects/kris_apobec_20200121/permanent_data2/07_scRNA_groups/inputs/RBFOX2-TIA1-STAMP_round2E_read1_feature_FB_possorted_genome_bam_MD.bam     RBFOX2-STAMP\n",
       "30                              /home/iachaim/notebooks/10X/APOBEC/01_02_Subsetting_on_non_APO_overlap/results/For_Motif_NPC_DCX_edits_barcodes.csv                        /home/bay001/projects/kris_apobec_20200121/permanent_data2/07_scRNA_groups/inputs/HEK-NPC-RBFOX2-STAMP_possorted_genome_bam_MD.bam          NPC_DCX\n",
       "31                             /home/iachaim/notebooks/10X/APOBEC/01_02_Subsetting_on_non_APO_overlap/results/For_Motif_NPC_SOX2_edits_barcodes.csv                        /home/bay001/projects/kris_apobec_20200121/permanent_data2/07_scRNA_groups/inputs/HEK-NPC-RBFOX2-STAMP_possorted_genome_bam_MD.bam         NPC_SOX2\n",
       "32                                  /home/iachaim/notebooks/10X/APOBEC/01_02_Subsetting_on_non_APO_overlap/results/For_Motif_HEK_edits_barcodes.csv                        /home/bay001/projects/kris_apobec_20200121/permanent_data2/07_scRNA_groups/inputs/HEK-NPC-RBFOX2-STAMP_possorted_genome_bam_MD.bam              HEK"
      ]
     },
     "execution_count": 3,
     "metadata": {},
     "output_type": "execute_result"
    }
   ],
   "source": [
    "manifest = pd.read_csv(os.path.join(input_dir, '20200609_Datasets_10X.tsv'), sep='\\t')  # From google doc shared with Alex.\n",
    "manifest = manifest[manifest['Batch']!='-']\n",
    "manifest[['Barcode_file', 'MD_tagged_BAM', 'Batch']]"
   ]
  },
  {
   "cell_type": "code",
   "execution_count": 4,
   "metadata": {},
   "outputs": [],
   "source": [
    "def index_to_barcode(row, to_replace):\n",
    "    \"\"\"\n",
    "    Not really a true index, just a column named 'index'.\n",
    "    \n",
    "    \"\"\"\n",
    "    barcode = row['index']\n",
    "    for replace in to_replace:\n",
    "        barcode = barcode.replace(replace,'')\n",
    "        \n",
    "    ### Just to make sure we're grabbing and correctly formatting barcodes.\n",
    "    assert barcode.startswith('A') or barcode.startswith('C') or barcode.startswith('G') or barcode.startswith('T')\n",
    "    assert 'Apo' not in barcode\n",
    "    assert barcode.endswith('-1')\n",
    "\n",
    "    return barcode"
   ]
  },
  {
   "cell_type": "code",
   "execution_count": 5,
   "metadata": {},
   "outputs": [],
   "source": [
    "def read_and_return_barcodes_list(manifest, index, to_replace, output_file, names=None, batchcol='batch'):\n",
    "    \"\"\"\n",
    "    Parses out the barcodes file as described in the metadata (manifest)\n",
    "    and returns a list of barcodes as well as \n",
    "    \"\"\"\n",
    "    if names is None:\n",
    "        barcodes = pd.read_csv(manifest.loc[index]['Barcode_file'])\n",
    "    else:\n",
    "        barcodes = pd.read_csv(manifest.loc[index]['Barcode_file'], names=names)\n",
    "    barcodes = barcodes[barcodes[batchcol]==manifest.loc[index]['Batch']]\n",
    "    barcodes['barcode'] = barcodes.apply(index_to_barcode, args=(to_replace, ), axis=1)\n",
    "    barcodes['barcode'].to_csv(output_file, index=False, header=False)\n",
    "    print(barcodes.head(2))\n",
    "    return output_file, manifest.loc[index]['MD_tagged_BAM']\n",
    "\n",
    "def generate_commandline_for_splitting(bam_file, barcodes_file, output_dir):\n",
    "    cmd = 'module load python3essential;/home/bay001/projects/kris_apobec_20200121/scripts/split_bams.py '\n",
    "    cmd += '--possorted_bam_file {} '.format(bam_file)\n",
    "    cmd += '--barcodes_file {} '.format(barcodes_file)\n",
    "    cmd += '--output_dir {} '.format(output_dir)\n",
    "    cmd += '--group'\n",
    "    return cmd"
   ]
  },
  {
   "cell_type": "markdown",
   "metadata": {},
   "source": [
    "# Basically I'm going through the manifest, grabbing the barcodes lists (first reading in the barcodes file, selecting barcodes based on Batch ID, then formatting the indices so that they're proper barcodes), and generating the commmands to pull those barcodes from the specified BAM file.\n",
    "- Hide the ones we've verified to be done/complete."
   ]
  },
  {
   "cell_type": "code",
   "execution_count": 6,
   "metadata": {},
   "outputs": [],
   "source": [
    "cmds = []"
   ]
  },
  {
   "cell_type": "raw",
   "metadata": {},
   "source": [
    "# \n",
    "for index in [0, 1]:\n",
    "    barcodes_file, bam_file = read_and_return_barcodes_list(\n",
    "        manifest=manifest, \n",
    "        index=index, \n",
    "        to_replace=['Apo_Control_possorted_genome_bam_MD-', '-Apo-Edits', 'possorted_genome_bam_MD-', '-RBFOX_TIA-Edits'], \n",
    "        output_file=os.path.join(output_dir, '{}_barcodes.tsv'.format(index))\n",
    "    )\n",
    "    cmds.append(generate_commandline_for_splitting(bam_file=bam_file, barcodes_file=barcodes_file, output_dir=output_dir))\n",
    "    print(cmds[-1:])"
   ]
  },
  {
   "cell_type": "raw",
   "metadata": {},
   "source": [
    "# \n",
    "index = 2\n",
    "barcodes_file, bam_file = read_and_return_barcodes_list(manifest=manifest, index=index, to_replace=['Apo_Control_possorted_genome_bam_MD-','-Apo-Edits'], output_file=os.path.join(output_dir, '{}_barcodes.tsv'.format(index)))\n",
    "cmds.append(generate_commandline_for_splitting(bam_file=bam_file, barcodes_file=barcodes_file, output_dir=output_dir))\n",
    "print(cmds[-1:])"
   ]
  },
  {
   "cell_type": "raw",
   "metadata": {},
   "source": [
    "# \n",
    "index = 3\n",
    "barcodes_file, bam_file = read_and_return_barcodes_list(manifest=manifest, index=index, to_replace=['possorted_genome_bam_MD-','-RBFOX_TIA-Edits'], output_file=os.path.join(output_dir, '{}_barcodes.tsv'.format(index)))\n",
    "cmds.append(generate_commandline_for_splitting(bam_file=bam_file, barcodes_file=barcodes_file, output_dir=output_dir))\n",
    "print(cmds[-1:])"
   ]
  },
  {
   "cell_type": "raw",
   "metadata": {},
   "source": [
    "# \n",
    "for index in [4, 5]:\n",
    "    barcodes_file, bam_file = read_and_return_barcodes_list(manifest=manifest, index=index, to_replace=['-RBFOX_TIA-Edits','Apo_Control_possorted_genome_bam_MD-','-Apo-Edits', 'possorted_genome_bam_MD-'], output_file=os.path.join(output_dir, '{}_barcodes.tsv'.format(index)))\n",
    "    cmds.append(generate_commandline_for_splitting(bam_file=bam_file, barcodes_file=barcodes_file, output_dir=output_dir))\n",
    "    print(cmds[-1:])"
   ]
  },
  {
   "cell_type": "raw",
   "metadata": {},
   "source": [
    "# \n",
    "index = 6\n",
    "barcodes_file, bam_file = read_and_return_barcodes_list(manifest=manifest, index=index, to_replace=['possorted_genome_bam_MD-','-RBFOX_TIA-Edits'], output_file=os.path.join(output_dir, '{}_barcodes.tsv'.format(index)))\n",
    "cmds.append(generate_commandline_for_splitting(bam_file=bam_file, barcodes_file=barcodes_file, output_dir=output_dir))\n",
    "print(cmds[-1:])"
   ]
  },
  {
   "cell_type": "raw",
   "metadata": {},
   "source": [
    "# \n",
    "index = 7\n",
    "barcodes_file, bam_file = read_and_return_barcodes_list(manifest=manifest, index=index, to_replace=['possorted_genome_bam_MD-','-RBFOX_TIA-Edits'], output_file=os.path.join(output_dir, '{}_barcodes.tsv'.format(index)))\n",
    "cmds.append(generate_commandline_for_splitting(bam_file=bam_file, barcodes_file=barcodes_file, output_dir=output_dir))\n",
    "print(cmds[-1:])"
   ]
  },
  {
   "cell_type": "raw",
   "metadata": {},
   "source": [
    "for index in [27, 28, 29]:\n",
    "    barcodes_file, bam_file = read_and_return_barcodes_list(\n",
    "        manifest=manifest, \n",
    "        index=index, \n",
    "        to_replace=['possorted_genome_bam_MD-'], \n",
    "        output_file=os.path.join(output_dir, '{}_barcodes.tsv'.format(index)),\n",
    "        batchcol='louvain_r0.5'\n",
    "    )\n",
    "    cmds.append(generate_commandline_for_splitting(bam_file=bam_file, barcodes_file=barcodes_file, output_dir=output_dir))\n",
    "print(cmds)"
   ]
  },
  {
   "cell_type": "markdown",
   "metadata": {},
   "source": [
    "### Some barcodes files lack headers, so we need to add them in."
   ]
  },
  {
   "cell_type": "raw",
   "metadata": {},
   "source": [
    "barcode_header = ['index','batch','cell','n_genes','new_clusters']"
   ]
  },
  {
   "cell_type": "raw",
   "metadata": {},
   "source": [
    "# \n",
    "for index in [19, 20, 21, 22, 23, 24, 25, 26]:\n",
    "    barcodes_file, bam_file = read_and_return_barcodes_list(manifest=manifest, index=index, to_replace=['-APOBEC','-RBFOX2'], output_file=os.path.join(output_dir, '{}_barcodes.tsv'.format(index)), names=barcode_header)\n",
    "    cmds.append(generate_commandline_for_splitting(bam_file=bam_file, barcodes_file=barcodes_file, output_dir=output_dir))\n",
    "    print(cmds[-1:])"
   ]
  },
  {
   "cell_type": "markdown",
   "metadata": {},
   "source": [
    "### Adding more barcode groups to split.."
   ]
  },
  {
   "cell_type": "code",
   "execution_count": 7,
   "metadata": {},
   "outputs": [
    {
     "name": "stdout",
     "output_type": "stream",
     "text": [
      "                index     cell             barcode\n",
      "0  AAACCCAGTGTGGTCC-1  NPC_DCX  AAACCCAGTGTGGTCC-1\n",
      "1  AAACGCTCATATGGCT-1  NPC_DCX  AAACGCTCATATGGCT-1\n",
      "                index      cell             barcode\n",
      "0  AAACCCAAGGCTAAAT-1  NPC_SOX2  AAACCCAAGGCTAAAT-1\n",
      "1  AAACCCAAGGTGCTAG-1  NPC_SOX2  AAACCCAAGGTGCTAG-1\n",
      "                index cell             barcode\n",
      "0  AAACCCAAGTGCTCAT-1  HEK  AAACCCAAGTGCTCAT-1\n",
      "1  AAACCCACACGACGAA-1  HEK  AAACCCACACGACGAA-1\n"
     ]
    }
   ],
   "source": [
    "for index in [30, 31, 32]:\n",
    "    barcodes_file, bam_file = read_and_return_barcodes_list(manifest=manifest, index=index, to_replace=[], output_file=os.path.join(output_dir, '{}_barcodes.tsv'.format(index)), batchcol='cell')\n",
    "    cmds.append(generate_commandline_for_splitting(bam_file=bam_file, barcodes_file=barcodes_file, output_dir=output_dir))"
   ]
  },
  {
   "cell_type": "code",
   "execution_count": 8,
   "metadata": {},
   "outputs": [
    {
     "name": "stderr",
     "output_type": "stream",
     "text": [
      "Writing 3 tasks as an array-job.\n",
      "Wrote commands to subset_barcodes.sh.\n",
      "Submitted script to queue home.\n",
      " Job ID: 21869192\n"
     ]
    },
    {
     "data": {
      "text/plain": [
       "<qtools.submitter.Submitter at 0x2aab2f8e9350>"
      ]
     },
     "execution_count": 8,
     "metadata": {},
     "output_type": "execute_result"
    }
   ],
   "source": [
    "Submitter(cmds, 'subset_barcodes', array=True, nodes=1, ppn=8, walltime='8:00:00', submit=True)"
   ]
  },
  {
   "cell_type": "code",
   "execution_count": null,
   "metadata": {},
   "outputs": [],
   "source": []
  }
 ],
 "metadata": {
  "kernelspec": {
   "display_name": "python2-essential",
   "language": "python",
   "name": "python2-essential"
  },
  "language_info": {
   "codemirror_mode": {
    "name": "ipython",
    "version": 2
   },
   "file_extension": ".py",
   "mimetype": "text/x-python",
   "name": "python",
   "nbconvert_exporter": "python",
   "pygments_lexer": "ipython2",
   "version": "2.7.15"
  }
 },
 "nbformat": 4,
 "nbformat_minor": 2
}
