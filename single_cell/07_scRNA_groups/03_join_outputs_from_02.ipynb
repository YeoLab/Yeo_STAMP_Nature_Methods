{
 "cells": [
  {
   "cell_type": "markdown",
   "metadata": {},
   "source": [
    "# Re-formats the native SAILOR outputs to report reads edited per site and total coverage per site.\n",
    "- We'll use the 'reads edited per site' "
   ]
  },
  {
   "cell_type": "code",
   "execution_count": 10,
   "metadata": {},
   "outputs": [],
   "source": [
    "import glob\n",
    "import os\n",
    "import glob\n",
    "import pandas as pd\n",
    "import numpy as np\n",
    "from tqdm import tnrange, tqdm_notebook"
   ]
  },
  {
   "cell_type": "code",
   "execution_count": 11,
   "metadata": {},
   "outputs": [],
   "source": [
    "input_dir = '/home/bay001/projects/kris_apobec_20200121/permanent_data2/07_scRNA_groups/sailor_outputs_groups_deep/'\n",
    "output_dir = '/home/bay001/projects/kris_apobec_20200121/permanent_data2/07_scRNA_groups/sailor_outputs_groups_deep/combined_outputs_w_cov_info'"
   ]
  },
  {
   "cell_type": "markdown",
   "metadata": {},
   "source": [
    "### Here I'm grabbing the fwd BEDfile final outputs from SAILOR, and using these files to find its corresponding rev BEDfile final outputs. Merge them together.\n",
    "\n",
    "- I'm also using the total coverage and the edit fraction to re-compute the edited coverage at the position. **This is critical for downstream analysis!**\n",
    "- eg. 15|C>T|0.066666667 -> 1,15 # where 1 is the number of reads that were C>T converted and 15 is the total coverage at that edit site.\n",
    "- **Yes I know the rand0 bed files error out, it is because 0-barcodes have no edits**"
   ]
  },
  {
   "cell_type": "code",
   "execution_count": 14,
   "metadata": {},
   "outputs": [
    {
     "name": "stdout",
     "output_type": "stream",
     "text": [
      "1\n"
     ]
    },
    {
     "data": {
      "text/plain": [
       "['/home/bay001/projects/kris_apobec_20200121/permanent_data2/07_scRNA_groups/sailor_outputs_groups_deep/RPS2-STAMP_possorted_genome_bam_MD-RPS2_non_APO_edits_barcodes_RPKM.txt/results/RPS2-STAMP_possorted_genome_bam_MD-RPS2_non_APO_edits_barcodes_RPKM.txt.fwd.sorted.rmdup.readfiltered.formatted.varfiltered.snpfiltered.ranked.bed']"
      ]
     },
     "execution_count": 14,
     "metadata": {},
     "output_type": "execute_result"
    }
   ],
   "source": [
    "fwd = sorted(glob.glob(os.path.join(input_dir, 'RPS2-STAMP_possorted_genome_bam_MD-RPS2_non_APO_edits_barcodes_RPKM.txt/results/*.fwd.*.bed')))\n",
    "\n",
    "print(len(fwd))\n",
    "fwd[:10]"
   ]
  },
  {
   "cell_type": "code",
   "execution_count": 15,
   "metadata": {},
   "outputs": [
    {
     "data": {
      "application/vnd.jupyter.widget-view+json": {
       "model_id": "58aba1093ba54ba69b6e6c189be05891",
       "version_major": 2,
       "version_minor": 0
      },
      "text/plain": [
       "HBox(children=(IntProgress(value=0, max=1), HTML(value='')))"
      ]
     },
     "metadata": {},
     "output_type": "display_data"
    },
    {
     "name": "stderr",
     "output_type": "stream",
     "text": [
      "/projects/ps-yeolab4/software/yeolabconda3/envs/python3essential-0.0.1/lib/python3.6/site-packages/IPython/core/interactiveshell.py:3249: DtypeWarning: Columns (0) have mixed types. Specify dtype option on import or set low_memory=False.\n",
      "  if (await self.run_code(code, result,  async_=asy)):\n"
     ]
    }
   ],
   "source": [
    "def filter_bed(df, conf_level):\n",
    "    \"\"\"\n",
    "    Filters the bed file given a conf level. We don't really use this score anymore since we're now scoring by edit fraction.\n",
    "    \"\"\"\n",
    "    return df[df['conf'] >= conf_level]\n",
    "\n",
    "def get_rev(fwd_file):\n",
    "    \"\"\"\n",
    "    (fwd) and (rev) bed files are identically named except for the 'fwd' and 'rev' annotation.\n",
    "    So it's easy to, given the fwd_file name, return the corresponding rev_file \n",
    "    \"\"\"\n",
    "    return fwd_file.replace(\n",
    "        '.fwd.sorted.rmdup.readfiltered.formatted.varfiltered.snpfiltered.ranked.bed',\n",
    "        '.rev.sorted.rmdup.readfiltered.formatted.varfiltered.snpfiltered.ranked.bed'\n",
    "    )\n",
    "\n",
    "def get_combined_bedfile_name(fwd_file):\n",
    "    \"\"\"\n",
    "    Really just re-formats the name to be shorter and remove the 'fwd' annotation. \n",
    "    We'll be using the returned string as the new 'merged' name\n",
    "    \"\"\"\n",
    "    return fwd_file.replace('.fwd.sorted.rmdup.readfiltered.formatted.varfiltered.snpfiltered.ranked.bed','.bed')\n",
    "\n",
    "def concat_bedfiles(fwd_file, rev_file):\n",
    "    \"\"\"\n",
    "    Combines two native SAILOR fwd and rev bedfiles\n",
    "    \"\"\"\n",
    "    common_header = ['chrom','start','end','info','conf','strand']\n",
    "    fwd = pd.read_csv(fwd_file, sep='\\t', names=common_header)\n",
    "    rev = pd.read_csv(rev_file, sep='\\t', names=common_header)\n",
    "    return pd.concat([fwd, rev])\n",
    "\n",
    "def get_number_edited_reads(row):\n",
    "    \"\"\"\n",
    "    SAILOR reports the total coverage and edit fraction in the 'info' column.\n",
    "    Use these two numbers to get the number of edited reads.\n",
    "    \"\"\"\n",
    "    total_reads, edit_type, fraction = row['info'].split('|')\n",
    "    return round(int(total_reads) * float(fraction))\n",
    "\n",
    "def label_cov_info(row):\n",
    "    \"\"\"\n",
    "    returns the num_edited and total_coverage as a concatenated string.\n",
    "    \"\"\"\n",
    "    return \"{},{}\".format(row['num_edited'], row['total_coverage'])\n",
    "\n",
    "progress = tnrange(len(fwd))\n",
    "for f in fwd:\n",
    "    try:\n",
    "        output_file = os.path.join(\n",
    "            output_dir, \n",
    "            os.path.basename(get_combined_bedfile_name(f))\n",
    "        )\n",
    "        if not os.path.exists(output_file):\n",
    "            \n",
    "            df = concat_bedfiles(f, get_rev(f))\n",
    "            df['total_coverage'] = df['info'].apply(lambda x: int(x.split('|')[0]))\n",
    "            df['num_edited'] = df.apply(get_number_edited_reads, axis=1)\n",
    "            df['name_col'] = df.apply(label_cov_info, axis=1)\n",
    "            df[['chrom','start','end','conf','name_col','strand']].to_csv(\n",
    "                output_file, \n",
    "                sep='\\t', \n",
    "                index=False, \n",
    "                header=False\n",
    "            )\n",
    "            \n",
    "    except ValueError as e:\n",
    "        print(f, e)\n",
    "    progress.update(1)"
   ]
  },
  {
   "cell_type": "markdown",
   "metadata": {},
   "source": [
    "# Merge the (readfiltered) BAM files\n",
    "### Here I'm grabbing the SAILOR intermediate outputs ```*.readfiltered.bam``` which are, for fwd and rev strands, the BAM files post read filtering."
   ]
  },
  {
   "cell_type": "code",
   "execution_count": 16,
   "metadata": {},
   "outputs": [
    {
     "name": "stdout",
     "output_type": "stream",
     "text": [
      "69\n"
     ]
    },
    {
     "data": {
      "text/plain": [
       "['/home/bay001/projects/kris_apobec_20200121/permanent_data2/07_scRNA_groups/sailor_outputs_groups_deep/APOBEC-STAMP_possorted_genome_bam_MD-1_barcodes.tsv/results/APOBEC-STAMP_possorted_genome_bam_MD-1_barcodes.tsv.fwd.sorted.rmdup.readfiltered.bam',\n",
       " '/home/bay001/projects/kris_apobec_20200121/permanent_data2/07_scRNA_groups/sailor_outputs_groups_deep/APOBEC-STAMP_possorted_genome_bam_MD-2_barcodes.tsv/results/APOBEC-STAMP_possorted_genome_bam_MD-2_barcodes.tsv.fwd.sorted.rmdup.readfiltered.bam',\n",
       " '/home/bay001/projects/kris_apobec_20200121/permanent_data2/07_scRNA_groups/sailor_outputs_groups_deep/APOBEC-STAMP_possorted_genome_bam_MD-5_barcodes.tsv/results/APOBEC-STAMP_possorted_genome_bam_MD-5_barcodes.tsv.fwd.sorted.rmdup.readfiltered.bam']"
      ]
     },
     "execution_count": 16,
     "metadata": {},
     "output_type": "execute_result"
    }
   ],
   "source": [
    "fwd_bam_files = sorted(glob.glob(os.path.join(input_dir, '*/results/*.fwd.*readfiltered.bam')))\n",
    "print(len(fwd_bam_files))\n",
    "fwd_bam_files[:3]"
   ]
  },
  {
   "cell_type": "code",
   "execution_count": 17,
   "metadata": {},
   "outputs": [
    {
     "data": {
      "text/plain": [
       "28"
      ]
     },
     "execution_count": 17,
     "metadata": {},
     "output_type": "execute_result"
    }
   ],
   "source": [
    "cmds = []\n",
    "for fwd in fwd_bam_files:\n",
    "    \n",
    "    rev = fwd.replace(\n",
    "        '.fwd.sorted.rmdup.readfiltered.bam',\n",
    "        '.rev.sorted.rmdup.readfiltered.bam'\n",
    "    )\n",
    "    merged = os.path.join(\n",
    "        output_dir, os.path.basename(fwd).replace(\n",
    "            '.fwd.sorted.rmdup.readfiltered.bam',\n",
    "            '.merged.sorted.rmdup.readfiltered.bam'\n",
    "        )\n",
    "    )\n",
    "    merged_sorted = os.path.join(\n",
    "        output_dir, os.path.basename(fwd).replace(\n",
    "            '.fwd.sorted.rmdup.readfiltered.bam',\n",
    "            '.merged.sorted.rmdup.readfiltered.sorted.bam'\n",
    "        )\n",
    "    )\n",
    "    if not os.path.exists(merged_sorted):\n",
    "        assert os.path.exists(rev)\n",
    "        cmd = 'module load samtools;samtools merge -f {} {} {};'.format(\n",
    "            merged,\n",
    "            fwd,\n",
    "            rev\n",
    "        )\n",
    "        cmd += 'samtools sort {} > {};'.format(merged, merged_sorted)\n",
    "        cmd += 'samtools index {}'.format(merged_sorted)\n",
    "        cmds.append(cmd)\n",
    "        \n",
    "len(cmds)"
   ]
  },
  {
   "cell_type": "code",
   "execution_count": 18,
   "metadata": {},
   "outputs": [
    {
     "data": {
      "text/plain": [
       "['module load samtools;samtools merge -f /home/bay001/projects/kris_apobec_20200121/permanent_data2/07_scRNA_groups/sailor_outputs_groups_deep/combined_outputs_w_cov_info/APOBEC-STAMP_possorted_genome_bam_MD-1_barcodes.tsv.merged.sorted.rmdup.readfiltered.bam /home/bay001/projects/kris_apobec_20200121/permanent_data2/07_scRNA_groups/sailor_outputs_groups_deep/APOBEC-STAMP_possorted_genome_bam_MD-1_barcodes.tsv/results/APOBEC-STAMP_possorted_genome_bam_MD-1_barcodes.tsv.fwd.sorted.rmdup.readfiltered.bam /home/bay001/projects/kris_apobec_20200121/permanent_data2/07_scRNA_groups/sailor_outputs_groups_deep/APOBEC-STAMP_possorted_genome_bam_MD-1_barcodes.tsv/results/APOBEC-STAMP_possorted_genome_bam_MD-1_barcodes.tsv.rev.sorted.rmdup.readfiltered.bam;samtools sort /home/bay001/projects/kris_apobec_20200121/permanent_data2/07_scRNA_groups/sailor_outputs_groups_deep/combined_outputs_w_cov_info/APOBEC-STAMP_possorted_genome_bam_MD-1_barcodes.tsv.merged.sorted.rmdup.readfiltered.bam > /home/bay001/projects/kris_apobec_20200121/permanent_data2/07_scRNA_groups/sailor_outputs_groups_deep/combined_outputs_w_cov_info/APOBEC-STAMP_possorted_genome_bam_MD-1_barcodes.tsv.merged.sorted.rmdup.readfiltered.sorted.bam;samtools index /home/bay001/projects/kris_apobec_20200121/permanent_data2/07_scRNA_groups/sailor_outputs_groups_deep/combined_outputs_w_cov_info/APOBEC-STAMP_possorted_genome_bam_MD-1_barcodes.tsv.merged.sorted.rmdup.readfiltered.sorted.bam',\n",
       " 'module load samtools;samtools merge -f /home/bay001/projects/kris_apobec_20200121/permanent_data2/07_scRNA_groups/sailor_outputs_groups_deep/combined_outputs_w_cov_info/APOBEC-STAMP_possorted_genome_bam_MD-2_barcodes.tsv.merged.sorted.rmdup.readfiltered.bam /home/bay001/projects/kris_apobec_20200121/permanent_data2/07_scRNA_groups/sailor_outputs_groups_deep/APOBEC-STAMP_possorted_genome_bam_MD-2_barcodes.tsv/results/APOBEC-STAMP_possorted_genome_bam_MD-2_barcodes.tsv.fwd.sorted.rmdup.readfiltered.bam /home/bay001/projects/kris_apobec_20200121/permanent_data2/07_scRNA_groups/sailor_outputs_groups_deep/APOBEC-STAMP_possorted_genome_bam_MD-2_barcodes.tsv/results/APOBEC-STAMP_possorted_genome_bam_MD-2_barcodes.tsv.rev.sorted.rmdup.readfiltered.bam;samtools sort /home/bay001/projects/kris_apobec_20200121/permanent_data2/07_scRNA_groups/sailor_outputs_groups_deep/combined_outputs_w_cov_info/APOBEC-STAMP_possorted_genome_bam_MD-2_barcodes.tsv.merged.sorted.rmdup.readfiltered.bam > /home/bay001/projects/kris_apobec_20200121/permanent_data2/07_scRNA_groups/sailor_outputs_groups_deep/combined_outputs_w_cov_info/APOBEC-STAMP_possorted_genome_bam_MD-2_barcodes.tsv.merged.sorted.rmdup.readfiltered.sorted.bam;samtools index /home/bay001/projects/kris_apobec_20200121/permanent_data2/07_scRNA_groups/sailor_outputs_groups_deep/combined_outputs_w_cov_info/APOBEC-STAMP_possorted_genome_bam_MD-2_barcodes.tsv.merged.sorted.rmdup.readfiltered.sorted.bam',\n",
       " 'module load samtools;samtools merge -f /home/bay001/projects/kris_apobec_20200121/permanent_data2/07_scRNA_groups/sailor_outputs_groups_deep/combined_outputs_w_cov_info/APOBEC-STAMP_possorted_genome_bam_MD-5_barcodes.tsv.merged.sorted.rmdup.readfiltered.bam /home/bay001/projects/kris_apobec_20200121/permanent_data2/07_scRNA_groups/sailor_outputs_groups_deep/APOBEC-STAMP_possorted_genome_bam_MD-5_barcodes.tsv/results/APOBEC-STAMP_possorted_genome_bam_MD-5_barcodes.tsv.fwd.sorted.rmdup.readfiltered.bam /home/bay001/projects/kris_apobec_20200121/permanent_data2/07_scRNA_groups/sailor_outputs_groups_deep/APOBEC-STAMP_possorted_genome_bam_MD-5_barcodes.tsv/results/APOBEC-STAMP_possorted_genome_bam_MD-5_barcodes.tsv.rev.sorted.rmdup.readfiltered.bam;samtools sort /home/bay001/projects/kris_apobec_20200121/permanent_data2/07_scRNA_groups/sailor_outputs_groups_deep/combined_outputs_w_cov_info/APOBEC-STAMP_possorted_genome_bam_MD-5_barcodes.tsv.merged.sorted.rmdup.readfiltered.bam > /home/bay001/projects/kris_apobec_20200121/permanent_data2/07_scRNA_groups/sailor_outputs_groups_deep/combined_outputs_w_cov_info/APOBEC-STAMP_possorted_genome_bam_MD-5_barcodes.tsv.merged.sorted.rmdup.readfiltered.sorted.bam;samtools index /home/bay001/projects/kris_apobec_20200121/permanent_data2/07_scRNA_groups/sailor_outputs_groups_deep/combined_outputs_w_cov_info/APOBEC-STAMP_possorted_genome_bam_MD-5_barcodes.tsv.merged.sorted.rmdup.readfiltered.sorted.bam',\n",
       " 'module load samtools;samtools merge -f /home/bay001/projects/kris_apobec_20200121/permanent_data2/07_scRNA_groups/sailor_outputs_groups_deep/combined_outputs_w_cov_info/APOBEC-STAMP_possorted_genome_bam_MD-APOBEC_STAMP_Apo_filtered_lenti_common_expression_barcodes.txt.merged.sorted.rmdup.readfiltered.bam /home/bay001/projects/kris_apobec_20200121/permanent_data2/07_scRNA_groups/sailor_outputs_groups_deep/APOBEC-STAMP_possorted_genome_bam_MD-APOBEC_STAMP_Apo_filtered_lenti_common_expression_barcodes.txt/results/APOBEC-STAMP_possorted_genome_bam_MD-APOBEC_STAMP_Apo_filtered_lenti_common_expression_barcodes.txt.fwd.sorted.rmdup.readfiltered.bam /home/bay001/projects/kris_apobec_20200121/permanent_data2/07_scRNA_groups/sailor_outputs_groups_deep/APOBEC-STAMP_possorted_genome_bam_MD-APOBEC_STAMP_Apo_filtered_lenti_common_expression_barcodes.txt/results/APOBEC-STAMP_possorted_genome_bam_MD-APOBEC_STAMP_Apo_filtered_lenti_common_expression_barcodes.txt.rev.sorted.rmdup.readfiltered.bam;samtools sort /home/bay001/projects/kris_apobec_20200121/permanent_data2/07_scRNA_groups/sailor_outputs_groups_deep/combined_outputs_w_cov_info/APOBEC-STAMP_possorted_genome_bam_MD-APOBEC_STAMP_Apo_filtered_lenti_common_expression_barcodes.txt.merged.sorted.rmdup.readfiltered.bam > /home/bay001/projects/kris_apobec_20200121/permanent_data2/07_scRNA_groups/sailor_outputs_groups_deep/combined_outputs_w_cov_info/APOBEC-STAMP_possorted_genome_bam_MD-APOBEC_STAMP_Apo_filtered_lenti_common_expression_barcodes.txt.merged.sorted.rmdup.readfiltered.sorted.bam;samtools index /home/bay001/projects/kris_apobec_20200121/permanent_data2/07_scRNA_groups/sailor_outputs_groups_deep/combined_outputs_w_cov_info/APOBEC-STAMP_possorted_genome_bam_MD-APOBEC_STAMP_Apo_filtered_lenti_common_expression_barcodes.txt.merged.sorted.rmdup.readfiltered.sorted.bam',\n",
       " 'module load samtools;samtools merge -f /home/bay001/projects/kris_apobec_20200121/permanent_data2/07_scRNA_groups/sailor_outputs_groups_deep/combined_outputs_w_cov_info/HEK-NPC-APOBEC-STAMP_possorted_genome_bam_MD-19_barcodes.tsv.merged.sorted.rmdup.readfiltered.bam /home/bay001/projects/kris_apobec_20200121/permanent_data2/07_scRNA_groups/sailor_outputs_groups_deep/HEK-NPC-APOBEC-STAMP_possorted_genome_bam_MD-19_barcodes.tsv/results/HEK-NPC-APOBEC-STAMP_possorted_genome_bam_MD-19_barcodes.tsv.fwd.sorted.rmdup.readfiltered.bam /home/bay001/projects/kris_apobec_20200121/permanent_data2/07_scRNA_groups/sailor_outputs_groups_deep/HEK-NPC-APOBEC-STAMP_possorted_genome_bam_MD-19_barcodes.tsv/results/HEK-NPC-APOBEC-STAMP_possorted_genome_bam_MD-19_barcodes.tsv.rev.sorted.rmdup.readfiltered.bam;samtools sort /home/bay001/projects/kris_apobec_20200121/permanent_data2/07_scRNA_groups/sailor_outputs_groups_deep/combined_outputs_w_cov_info/HEK-NPC-APOBEC-STAMP_possorted_genome_bam_MD-19_barcodes.tsv.merged.sorted.rmdup.readfiltered.bam > /home/bay001/projects/kris_apobec_20200121/permanent_data2/07_scRNA_groups/sailor_outputs_groups_deep/combined_outputs_w_cov_info/HEK-NPC-APOBEC-STAMP_possorted_genome_bam_MD-19_barcodes.tsv.merged.sorted.rmdup.readfiltered.sorted.bam;samtools index /home/bay001/projects/kris_apobec_20200121/permanent_data2/07_scRNA_groups/sailor_outputs_groups_deep/combined_outputs_w_cov_info/HEK-NPC-APOBEC-STAMP_possorted_genome_bam_MD-19_barcodes.tsv.merged.sorted.rmdup.readfiltered.sorted.bam',\n",
       " 'module load samtools;samtools merge -f /home/bay001/projects/kris_apobec_20200121/permanent_data2/07_scRNA_groups/sailor_outputs_groups_deep/combined_outputs_w_cov_info/HEK-NPC-APOBEC-STAMP_possorted_genome_bam_MD-20_barcodes.tsv.merged.sorted.rmdup.readfiltered.bam /home/bay001/projects/kris_apobec_20200121/permanent_data2/07_scRNA_groups/sailor_outputs_groups_deep/HEK-NPC-APOBEC-STAMP_possorted_genome_bam_MD-20_barcodes.tsv/results/HEK-NPC-APOBEC-STAMP_possorted_genome_bam_MD-20_barcodes.tsv.fwd.sorted.rmdup.readfiltered.bam /home/bay001/projects/kris_apobec_20200121/permanent_data2/07_scRNA_groups/sailor_outputs_groups_deep/HEK-NPC-APOBEC-STAMP_possorted_genome_bam_MD-20_barcodes.tsv/results/HEK-NPC-APOBEC-STAMP_possorted_genome_bam_MD-20_barcodes.tsv.rev.sorted.rmdup.readfiltered.bam;samtools sort /home/bay001/projects/kris_apobec_20200121/permanent_data2/07_scRNA_groups/sailor_outputs_groups_deep/combined_outputs_w_cov_info/HEK-NPC-APOBEC-STAMP_possorted_genome_bam_MD-20_barcodes.tsv.merged.sorted.rmdup.readfiltered.bam > /home/bay001/projects/kris_apobec_20200121/permanent_data2/07_scRNA_groups/sailor_outputs_groups_deep/combined_outputs_w_cov_info/HEK-NPC-APOBEC-STAMP_possorted_genome_bam_MD-20_barcodes.tsv.merged.sorted.rmdup.readfiltered.sorted.bam;samtools index /home/bay001/projects/kris_apobec_20200121/permanent_data2/07_scRNA_groups/sailor_outputs_groups_deep/combined_outputs_w_cov_info/HEK-NPC-APOBEC-STAMP_possorted_genome_bam_MD-20_barcodes.tsv.merged.sorted.rmdup.readfiltered.sorted.bam',\n",
       " 'module load samtools;samtools merge -f /home/bay001/projects/kris_apobec_20200121/permanent_data2/07_scRNA_groups/sailor_outputs_groups_deep/combined_outputs_w_cov_info/HEK-NPC-RBFOX2-STAMP_possorted_genome_bam_MD-21_barcodes.tsv.merged.sorted.rmdup.readfiltered.bam /home/bay001/projects/kris_apobec_20200121/permanent_data2/07_scRNA_groups/sailor_outputs_groups_deep/HEK-NPC-RBFOX2-STAMP_possorted_genome_bam_MD-21_barcodes.tsv/results/HEK-NPC-RBFOX2-STAMP_possorted_genome_bam_MD-21_barcodes.tsv.fwd.sorted.rmdup.readfiltered.bam /home/bay001/projects/kris_apobec_20200121/permanent_data2/07_scRNA_groups/sailor_outputs_groups_deep/HEK-NPC-RBFOX2-STAMP_possorted_genome_bam_MD-21_barcodes.tsv/results/HEK-NPC-RBFOX2-STAMP_possorted_genome_bam_MD-21_barcodes.tsv.rev.sorted.rmdup.readfiltered.bam;samtools sort /home/bay001/projects/kris_apobec_20200121/permanent_data2/07_scRNA_groups/sailor_outputs_groups_deep/combined_outputs_w_cov_info/HEK-NPC-RBFOX2-STAMP_possorted_genome_bam_MD-21_barcodes.tsv.merged.sorted.rmdup.readfiltered.bam > /home/bay001/projects/kris_apobec_20200121/permanent_data2/07_scRNA_groups/sailor_outputs_groups_deep/combined_outputs_w_cov_info/HEK-NPC-RBFOX2-STAMP_possorted_genome_bam_MD-21_barcodes.tsv.merged.sorted.rmdup.readfiltered.sorted.bam;samtools index /home/bay001/projects/kris_apobec_20200121/permanent_data2/07_scRNA_groups/sailor_outputs_groups_deep/combined_outputs_w_cov_info/HEK-NPC-RBFOX2-STAMP_possorted_genome_bam_MD-21_barcodes.tsv.merged.sorted.rmdup.readfiltered.sorted.bam',\n",
       " 'module load samtools;samtools merge -f /home/bay001/projects/kris_apobec_20200121/permanent_data2/07_scRNA_groups/sailor_outputs_groups_deep/combined_outputs_w_cov_info/HEK-NPC-RBFOX2-STAMP_possorted_genome_bam_MD-22_barcodes.tsv.merged.sorted.rmdup.readfiltered.bam /home/bay001/projects/kris_apobec_20200121/permanent_data2/07_scRNA_groups/sailor_outputs_groups_deep/HEK-NPC-RBFOX2-STAMP_possorted_genome_bam_MD-22_barcodes.tsv/results/HEK-NPC-RBFOX2-STAMP_possorted_genome_bam_MD-22_barcodes.tsv.fwd.sorted.rmdup.readfiltered.bam /home/bay001/projects/kris_apobec_20200121/permanent_data2/07_scRNA_groups/sailor_outputs_groups_deep/HEK-NPC-RBFOX2-STAMP_possorted_genome_bam_MD-22_barcodes.tsv/results/HEK-NPC-RBFOX2-STAMP_possorted_genome_bam_MD-22_barcodes.tsv.rev.sorted.rmdup.readfiltered.bam;samtools sort /home/bay001/projects/kris_apobec_20200121/permanent_data2/07_scRNA_groups/sailor_outputs_groups_deep/combined_outputs_w_cov_info/HEK-NPC-RBFOX2-STAMP_possorted_genome_bam_MD-22_barcodes.tsv.merged.sorted.rmdup.readfiltered.bam > /home/bay001/projects/kris_apobec_20200121/permanent_data2/07_scRNA_groups/sailor_outputs_groups_deep/combined_outputs_w_cov_info/HEK-NPC-RBFOX2-STAMP_possorted_genome_bam_MD-22_barcodes.tsv.merged.sorted.rmdup.readfiltered.sorted.bam;samtools index /home/bay001/projects/kris_apobec_20200121/permanent_data2/07_scRNA_groups/sailor_outputs_groups_deep/combined_outputs_w_cov_info/HEK-NPC-RBFOX2-STAMP_possorted_genome_bam_MD-22_barcodes.tsv.merged.sorted.rmdup.readfiltered.sorted.bam',\n",
       " 'module load samtools;samtools merge -f /home/bay001/projects/kris_apobec_20200121/permanent_data2/07_scRNA_groups/sailor_outputs_groups_deep/combined_outputs_w_cov_info/HEK-NPC-RBFOX2-STAMP_possorted_genome_bam_MD-23_barcodes.tsv.merged.sorted.rmdup.readfiltered.bam /home/bay001/projects/kris_apobec_20200121/permanent_data2/07_scRNA_groups/sailor_outputs_groups_deep/HEK-NPC-RBFOX2-STAMP_possorted_genome_bam_MD-23_barcodes.tsv/results/HEK-NPC-RBFOX2-STAMP_possorted_genome_bam_MD-23_barcodes.tsv.fwd.sorted.rmdup.readfiltered.bam /home/bay001/projects/kris_apobec_20200121/permanent_data2/07_scRNA_groups/sailor_outputs_groups_deep/HEK-NPC-RBFOX2-STAMP_possorted_genome_bam_MD-23_barcodes.tsv/results/HEK-NPC-RBFOX2-STAMP_possorted_genome_bam_MD-23_barcodes.tsv.rev.sorted.rmdup.readfiltered.bam;samtools sort /home/bay001/projects/kris_apobec_20200121/permanent_data2/07_scRNA_groups/sailor_outputs_groups_deep/combined_outputs_w_cov_info/HEK-NPC-RBFOX2-STAMP_possorted_genome_bam_MD-23_barcodes.tsv.merged.sorted.rmdup.readfiltered.bam > /home/bay001/projects/kris_apobec_20200121/permanent_data2/07_scRNA_groups/sailor_outputs_groups_deep/combined_outputs_w_cov_info/HEK-NPC-RBFOX2-STAMP_possorted_genome_bam_MD-23_barcodes.tsv.merged.sorted.rmdup.readfiltered.sorted.bam;samtools index /home/bay001/projects/kris_apobec_20200121/permanent_data2/07_scRNA_groups/sailor_outputs_groups_deep/combined_outputs_w_cov_info/HEK-NPC-RBFOX2-STAMP_possorted_genome_bam_MD-23_barcodes.tsv.merged.sorted.rmdup.readfiltered.sorted.bam',\n",
       " 'module load samtools;samtools merge -f /home/bay001/projects/kris_apobec_20200121/permanent_data2/07_scRNA_groups/sailor_outputs_groups_deep/combined_outputs_w_cov_info/HEK-NPC-RBFOX2-STAMP_possorted_genome_bam_MD-24_barcodes.tsv.merged.sorted.rmdup.readfiltered.bam /home/bay001/projects/kris_apobec_20200121/permanent_data2/07_scRNA_groups/sailor_outputs_groups_deep/HEK-NPC-RBFOX2-STAMP_possorted_genome_bam_MD-24_barcodes.tsv/results/HEK-NPC-RBFOX2-STAMP_possorted_genome_bam_MD-24_barcodes.tsv.fwd.sorted.rmdup.readfiltered.bam /home/bay001/projects/kris_apobec_20200121/permanent_data2/07_scRNA_groups/sailor_outputs_groups_deep/HEK-NPC-RBFOX2-STAMP_possorted_genome_bam_MD-24_barcodes.tsv/results/HEK-NPC-RBFOX2-STAMP_possorted_genome_bam_MD-24_barcodes.tsv.rev.sorted.rmdup.readfiltered.bam;samtools sort /home/bay001/projects/kris_apobec_20200121/permanent_data2/07_scRNA_groups/sailor_outputs_groups_deep/combined_outputs_w_cov_info/HEK-NPC-RBFOX2-STAMP_possorted_genome_bam_MD-24_barcodes.tsv.merged.sorted.rmdup.readfiltered.bam > /home/bay001/projects/kris_apobec_20200121/permanent_data2/07_scRNA_groups/sailor_outputs_groups_deep/combined_outputs_w_cov_info/HEK-NPC-RBFOX2-STAMP_possorted_genome_bam_MD-24_barcodes.tsv.merged.sorted.rmdup.readfiltered.sorted.bam;samtools index /home/bay001/projects/kris_apobec_20200121/permanent_data2/07_scRNA_groups/sailor_outputs_groups_deep/combined_outputs_w_cov_info/HEK-NPC-RBFOX2-STAMP_possorted_genome_bam_MD-24_barcodes.tsv.merged.sorted.rmdup.readfiltered.sorted.bam',\n",
       " 'module load samtools;samtools merge -f /home/bay001/projects/kris_apobec_20200121/permanent_data2/07_scRNA_groups/sailor_outputs_groups_deep/combined_outputs_w_cov_info/HEK-NPC-RBFOX2-STAMP_possorted_genome_bam_MD-25_barcodes.tsv.merged.sorted.rmdup.readfiltered.bam /home/bay001/projects/kris_apobec_20200121/permanent_data2/07_scRNA_groups/sailor_outputs_groups_deep/HEK-NPC-RBFOX2-STAMP_possorted_genome_bam_MD-25_barcodes.tsv/results/HEK-NPC-RBFOX2-STAMP_possorted_genome_bam_MD-25_barcodes.tsv.fwd.sorted.rmdup.readfiltered.bam /home/bay001/projects/kris_apobec_20200121/permanent_data2/07_scRNA_groups/sailor_outputs_groups_deep/HEK-NPC-RBFOX2-STAMP_possorted_genome_bam_MD-25_barcodes.tsv/results/HEK-NPC-RBFOX2-STAMP_possorted_genome_bam_MD-25_barcodes.tsv.rev.sorted.rmdup.readfiltered.bam;samtools sort /home/bay001/projects/kris_apobec_20200121/permanent_data2/07_scRNA_groups/sailor_outputs_groups_deep/combined_outputs_w_cov_info/HEK-NPC-RBFOX2-STAMP_possorted_genome_bam_MD-25_barcodes.tsv.merged.sorted.rmdup.readfiltered.bam > /home/bay001/projects/kris_apobec_20200121/permanent_data2/07_scRNA_groups/sailor_outputs_groups_deep/combined_outputs_w_cov_info/HEK-NPC-RBFOX2-STAMP_possorted_genome_bam_MD-25_barcodes.tsv.merged.sorted.rmdup.readfiltered.sorted.bam;samtools index /home/bay001/projects/kris_apobec_20200121/permanent_data2/07_scRNA_groups/sailor_outputs_groups_deep/combined_outputs_w_cov_info/HEK-NPC-RBFOX2-STAMP_possorted_genome_bam_MD-25_barcodes.tsv.merged.sorted.rmdup.readfiltered.sorted.bam',\n",
       " 'module load samtools;samtools merge -f /home/bay001/projects/kris_apobec_20200121/permanent_data2/07_scRNA_groups/sailor_outputs_groups_deep/combined_outputs_w_cov_info/HEK-NPC-RBFOX2-STAMP_possorted_genome_bam_MD-26_barcodes.tsv.merged.sorted.rmdup.readfiltered.bam /home/bay001/projects/kris_apobec_20200121/permanent_data2/07_scRNA_groups/sailor_outputs_groups_deep/HEK-NPC-RBFOX2-STAMP_possorted_genome_bam_MD-26_barcodes.tsv/results/HEK-NPC-RBFOX2-STAMP_possorted_genome_bam_MD-26_barcodes.tsv.fwd.sorted.rmdup.readfiltered.bam /home/bay001/projects/kris_apobec_20200121/permanent_data2/07_scRNA_groups/sailor_outputs_groups_deep/HEK-NPC-RBFOX2-STAMP_possorted_genome_bam_MD-26_barcodes.tsv/results/HEK-NPC-RBFOX2-STAMP_possorted_genome_bam_MD-26_barcodes.tsv.rev.sorted.rmdup.readfiltered.bam;samtools sort /home/bay001/projects/kris_apobec_20200121/permanent_data2/07_scRNA_groups/sailor_outputs_groups_deep/combined_outputs_w_cov_info/HEK-NPC-RBFOX2-STAMP_possorted_genome_bam_MD-26_barcodes.tsv.merged.sorted.rmdup.readfiltered.bam > /home/bay001/projects/kris_apobec_20200121/permanent_data2/07_scRNA_groups/sailor_outputs_groups_deep/combined_outputs_w_cov_info/HEK-NPC-RBFOX2-STAMP_possorted_genome_bam_MD-26_barcodes.tsv.merged.sorted.rmdup.readfiltered.sorted.bam;samtools index /home/bay001/projects/kris_apobec_20200121/permanent_data2/07_scRNA_groups/sailor_outputs_groups_deep/combined_outputs_w_cov_info/HEK-NPC-RBFOX2-STAMP_possorted_genome_bam_MD-26_barcodes.tsv.merged.sorted.rmdup.readfiltered.sorted.bam',\n",
       " 'module load samtools;samtools merge -f /home/bay001/projects/kris_apobec_20200121/permanent_data2/07_scRNA_groups/sailor_outputs_groups_deep/combined_outputs_w_cov_info/HEK-NPC-RBFOX2-STAMP_possorted_genome_bam_MD-30_barcodes.tsv.merged.sorted.rmdup.readfiltered.bam /home/bay001/projects/kris_apobec_20200121/permanent_data2/07_scRNA_groups/sailor_outputs_groups_deep/HEK-NPC-RBFOX2-STAMP_possorted_genome_bam_MD-30_barcodes.tsv/results/HEK-NPC-RBFOX2-STAMP_possorted_genome_bam_MD-30_barcodes.tsv.fwd.sorted.rmdup.readfiltered.bam /home/bay001/projects/kris_apobec_20200121/permanent_data2/07_scRNA_groups/sailor_outputs_groups_deep/HEK-NPC-RBFOX2-STAMP_possorted_genome_bam_MD-30_barcodes.tsv/results/HEK-NPC-RBFOX2-STAMP_possorted_genome_bam_MD-30_barcodes.tsv.rev.sorted.rmdup.readfiltered.bam;samtools sort /home/bay001/projects/kris_apobec_20200121/permanent_data2/07_scRNA_groups/sailor_outputs_groups_deep/combined_outputs_w_cov_info/HEK-NPC-RBFOX2-STAMP_possorted_genome_bam_MD-30_barcodes.tsv.merged.sorted.rmdup.readfiltered.bam > /home/bay001/projects/kris_apobec_20200121/permanent_data2/07_scRNA_groups/sailor_outputs_groups_deep/combined_outputs_w_cov_info/HEK-NPC-RBFOX2-STAMP_possorted_genome_bam_MD-30_barcodes.tsv.merged.sorted.rmdup.readfiltered.sorted.bam;samtools index /home/bay001/projects/kris_apobec_20200121/permanent_data2/07_scRNA_groups/sailor_outputs_groups_deep/combined_outputs_w_cov_info/HEK-NPC-RBFOX2-STAMP_possorted_genome_bam_MD-30_barcodes.tsv.merged.sorted.rmdup.readfiltered.sorted.bam',\n",
       " 'module load samtools;samtools merge -f /home/bay001/projects/kris_apobec_20200121/permanent_data2/07_scRNA_groups/sailor_outputs_groups_deep/combined_outputs_w_cov_info/HEK-NPC-RBFOX2-STAMP_possorted_genome_bam_MD-31_barcodes.tsv.merged.sorted.rmdup.readfiltered.bam /home/bay001/projects/kris_apobec_20200121/permanent_data2/07_scRNA_groups/sailor_outputs_groups_deep/HEK-NPC-RBFOX2-STAMP_possorted_genome_bam_MD-31_barcodes.tsv/results/HEK-NPC-RBFOX2-STAMP_possorted_genome_bam_MD-31_barcodes.tsv.fwd.sorted.rmdup.readfiltered.bam /home/bay001/projects/kris_apobec_20200121/permanent_data2/07_scRNA_groups/sailor_outputs_groups_deep/HEK-NPC-RBFOX2-STAMP_possorted_genome_bam_MD-31_barcodes.tsv/results/HEK-NPC-RBFOX2-STAMP_possorted_genome_bam_MD-31_barcodes.tsv.rev.sorted.rmdup.readfiltered.bam;samtools sort /home/bay001/projects/kris_apobec_20200121/permanent_data2/07_scRNA_groups/sailor_outputs_groups_deep/combined_outputs_w_cov_info/HEK-NPC-RBFOX2-STAMP_possorted_genome_bam_MD-31_barcodes.tsv.merged.sorted.rmdup.readfiltered.bam > /home/bay001/projects/kris_apobec_20200121/permanent_data2/07_scRNA_groups/sailor_outputs_groups_deep/combined_outputs_w_cov_info/HEK-NPC-RBFOX2-STAMP_possorted_genome_bam_MD-31_barcodes.tsv.merged.sorted.rmdup.readfiltered.sorted.bam;samtools index /home/bay001/projects/kris_apobec_20200121/permanent_data2/07_scRNA_groups/sailor_outputs_groups_deep/combined_outputs_w_cov_info/HEK-NPC-RBFOX2-STAMP_possorted_genome_bam_MD-31_barcodes.tsv.merged.sorted.rmdup.readfiltered.sorted.bam',\n",
       " 'module load samtools;samtools merge -f /home/bay001/projects/kris_apobec_20200121/permanent_data2/07_scRNA_groups/sailor_outputs_groups_deep/combined_outputs_w_cov_info/HEK-NPC-RBFOX2-STAMP_possorted_genome_bam_MD-32_barcodes.tsv.merged.sorted.rmdup.readfiltered.bam /home/bay001/projects/kris_apobec_20200121/permanent_data2/07_scRNA_groups/sailor_outputs_groups_deep/HEK-NPC-RBFOX2-STAMP_possorted_genome_bam_MD-32_barcodes.tsv/results/HEK-NPC-RBFOX2-STAMP_possorted_genome_bam_MD-32_barcodes.tsv.fwd.sorted.rmdup.readfiltered.bam /home/bay001/projects/kris_apobec_20200121/permanent_data2/07_scRNA_groups/sailor_outputs_groups_deep/HEK-NPC-RBFOX2-STAMP_possorted_genome_bam_MD-32_barcodes.tsv/results/HEK-NPC-RBFOX2-STAMP_possorted_genome_bam_MD-32_barcodes.tsv.rev.sorted.rmdup.readfiltered.bam;samtools sort /home/bay001/projects/kris_apobec_20200121/permanent_data2/07_scRNA_groups/sailor_outputs_groups_deep/combined_outputs_w_cov_info/HEK-NPC-RBFOX2-STAMP_possorted_genome_bam_MD-32_barcodes.tsv.merged.sorted.rmdup.readfiltered.bam > /home/bay001/projects/kris_apobec_20200121/permanent_data2/07_scRNA_groups/sailor_outputs_groups_deep/combined_outputs_w_cov_info/HEK-NPC-RBFOX2-STAMP_possorted_genome_bam_MD-32_barcodes.tsv.merged.sorted.rmdup.readfiltered.sorted.bam;samtools index /home/bay001/projects/kris_apobec_20200121/permanent_data2/07_scRNA_groups/sailor_outputs_groups_deep/combined_outputs_w_cov_info/HEK-NPC-RBFOX2-STAMP_possorted_genome_bam_MD-32_barcodes.tsv.merged.sorted.rmdup.readfiltered.sorted.bam',\n",
       " 'module load samtools;samtools merge -f /home/bay001/projects/kris_apobec_20200121/permanent_data2/07_scRNA_groups/sailor_outputs_groups_deep/combined_outputs_w_cov_info/RBFOX2-1000_S20_L002_R1_001.fastqTr.sorted.STARUnmapped.out.sorted.STARAligned.out.sorted.merged.sorted.rmdup.readfiltered.bam /home/bay001/projects/kris_apobec_20200121/permanent_data2/07_scRNA_groups/sailor_outputs_groups_deep/RBFOX2-1000_S20_L002_R1_001.fastqTr.sorted.STARUnmapped.out.sorted.STARAligned.out.sorted/results/RBFOX2-1000_S20_L002_R1_001.fastqTr.sorted.STARUnmapped.out.sorted.STARAligned.out.sorted.fwd.sorted.rmdup.readfiltered.bam /home/bay001/projects/kris_apobec_20200121/permanent_data2/07_scRNA_groups/sailor_outputs_groups_deep/RBFOX2-1000_S20_L002_R1_001.fastqTr.sorted.STARUnmapped.out.sorted.STARAligned.out.sorted/results/RBFOX2-1000_S20_L002_R1_001.fastqTr.sorted.STARUnmapped.out.sorted.STARAligned.out.sorted.rev.sorted.rmdup.readfiltered.bam;samtools sort /home/bay001/projects/kris_apobec_20200121/permanent_data2/07_scRNA_groups/sailor_outputs_groups_deep/combined_outputs_w_cov_info/RBFOX2-1000_S20_L002_R1_001.fastqTr.sorted.STARUnmapped.out.sorted.STARAligned.out.sorted.merged.sorted.rmdup.readfiltered.bam > /home/bay001/projects/kris_apobec_20200121/permanent_data2/07_scRNA_groups/sailor_outputs_groups_deep/combined_outputs_w_cov_info/RBFOX2-1000_S20_L002_R1_001.fastqTr.sorted.STARUnmapped.out.sorted.STARAligned.out.sorted.merged.sorted.rmdup.readfiltered.sorted.bam;samtools index /home/bay001/projects/kris_apobec_20200121/permanent_data2/07_scRNA_groups/sailor_outputs_groups_deep/combined_outputs_w_cov_info/RBFOX2-1000_S20_L002_R1_001.fastqTr.sorted.STARUnmapped.out.sorted.STARAligned.out.sorted.merged.sorted.rmdup.readfiltered.sorted.bam',\n",
       " 'module load samtools;samtools merge -f /home/bay001/projects/kris_apobec_20200121/permanent_data2/07_scRNA_groups/sailor_outputs_groups_deep/combined_outputs_w_cov_info/RBFOX2-TIA1-STAMP_possorted_genome_bam_MD-34_barcodes.tsv.merged.sorted.rmdup.readfiltered.bam /home/bay001/projects/kris_apobec_20200121/permanent_data2/07_scRNA_groups/sailor_outputs_groups_deep/RBFOX2-TIA1-STAMP_possorted_genome_bam_MD-34_barcodes.tsv/results/RBFOX2-TIA1-STAMP_possorted_genome_bam_MD-34_barcodes.tsv.fwd.sorted.rmdup.readfiltered.bam /home/bay001/projects/kris_apobec_20200121/permanent_data2/07_scRNA_groups/sailor_outputs_groups_deep/RBFOX2-TIA1-STAMP_possorted_genome_bam_MD-34_barcodes.tsv/results/RBFOX2-TIA1-STAMP_possorted_genome_bam_MD-34_barcodes.tsv.rev.sorted.rmdup.readfiltered.bam;samtools sort /home/bay001/projects/kris_apobec_20200121/permanent_data2/07_scRNA_groups/sailor_outputs_groups_deep/combined_outputs_w_cov_info/RBFOX2-TIA1-STAMP_possorted_genome_bam_MD-34_barcodes.tsv.merged.sorted.rmdup.readfiltered.bam > /home/bay001/projects/kris_apobec_20200121/permanent_data2/07_scRNA_groups/sailor_outputs_groups_deep/combined_outputs_w_cov_info/RBFOX2-TIA1-STAMP_possorted_genome_bam_MD-34_barcodes.tsv.merged.sorted.rmdup.readfiltered.sorted.bam;samtools index /home/bay001/projects/kris_apobec_20200121/permanent_data2/07_scRNA_groups/sailor_outputs_groups_deep/combined_outputs_w_cov_info/RBFOX2-TIA1-STAMP_possorted_genome_bam_MD-34_barcodes.tsv.merged.sorted.rmdup.readfiltered.sorted.bam',\n",
       " 'module load samtools;samtools merge -f /home/bay001/projects/kris_apobec_20200121/permanent_data2/07_scRNA_groups/sailor_outputs_groups_deep/combined_outputs_w_cov_info/RBFOX2-TIA1-STAMP_round2E_read1_feature_FB_possorted_genome_bam_MD-27_barcodes.tsv.merged.sorted.rmdup.readfiltered.bam /home/bay001/projects/kris_apobec_20200121/permanent_data2/07_scRNA_groups/sailor_outputs_groups_deep/RBFOX2-TIA1-STAMP_round2E_read1_feature_FB_possorted_genome_bam_MD-27_barcodes.tsv/results/RBFOX2-TIA1-STAMP_round2E_read1_feature_FB_possorted_genome_bam_MD-27_barcodes.tsv.fwd.sorted.rmdup.readfiltered.bam /home/bay001/projects/kris_apobec_20200121/permanent_data2/07_scRNA_groups/sailor_outputs_groups_deep/RBFOX2-TIA1-STAMP_round2E_read1_feature_FB_possorted_genome_bam_MD-27_barcodes.tsv/results/RBFOX2-TIA1-STAMP_round2E_read1_feature_FB_possorted_genome_bam_MD-27_barcodes.tsv.rev.sorted.rmdup.readfiltered.bam;samtools sort /home/bay001/projects/kris_apobec_20200121/permanent_data2/07_scRNA_groups/sailor_outputs_groups_deep/combined_outputs_w_cov_info/RBFOX2-TIA1-STAMP_round2E_read1_feature_FB_possorted_genome_bam_MD-27_barcodes.tsv.merged.sorted.rmdup.readfiltered.bam > /home/bay001/projects/kris_apobec_20200121/permanent_data2/07_scRNA_groups/sailor_outputs_groups_deep/combined_outputs_w_cov_info/RBFOX2-TIA1-STAMP_round2E_read1_feature_FB_possorted_genome_bam_MD-27_barcodes.tsv.merged.sorted.rmdup.readfiltered.sorted.bam;samtools index /home/bay001/projects/kris_apobec_20200121/permanent_data2/07_scRNA_groups/sailor_outputs_groups_deep/combined_outputs_w_cov_info/RBFOX2-TIA1-STAMP_round2E_read1_feature_FB_possorted_genome_bam_MD-27_barcodes.tsv.merged.sorted.rmdup.readfiltered.sorted.bam',\n",
       " 'module load samtools;samtools merge -f /home/bay001/projects/kris_apobec_20200121/permanent_data2/07_scRNA_groups/sailor_outputs_groups_deep/combined_outputs_w_cov_info/RBFOX2-TIA1-STAMP_round2E_read1_feature_FB_possorted_genome_bam_MD-28_barcodes.tsv.merged.sorted.rmdup.readfiltered.bam /home/bay001/projects/kris_apobec_20200121/permanent_data2/07_scRNA_groups/sailor_outputs_groups_deep/RBFOX2-TIA1-STAMP_round2E_read1_feature_FB_possorted_genome_bam_MD-28_barcodes.tsv/results/RBFOX2-TIA1-STAMP_round2E_read1_feature_FB_possorted_genome_bam_MD-28_barcodes.tsv.fwd.sorted.rmdup.readfiltered.bam /home/bay001/projects/kris_apobec_20200121/permanent_data2/07_scRNA_groups/sailor_outputs_groups_deep/RBFOX2-TIA1-STAMP_round2E_read1_feature_FB_possorted_genome_bam_MD-28_barcodes.tsv/results/RBFOX2-TIA1-STAMP_round2E_read1_feature_FB_possorted_genome_bam_MD-28_barcodes.tsv.rev.sorted.rmdup.readfiltered.bam;samtools sort /home/bay001/projects/kris_apobec_20200121/permanent_data2/07_scRNA_groups/sailor_outputs_groups_deep/combined_outputs_w_cov_info/RBFOX2-TIA1-STAMP_round2E_read1_feature_FB_possorted_genome_bam_MD-28_barcodes.tsv.merged.sorted.rmdup.readfiltered.bam > /home/bay001/projects/kris_apobec_20200121/permanent_data2/07_scRNA_groups/sailor_outputs_groups_deep/combined_outputs_w_cov_info/RBFOX2-TIA1-STAMP_round2E_read1_feature_FB_possorted_genome_bam_MD-28_barcodes.tsv.merged.sorted.rmdup.readfiltered.sorted.bam;samtools index /home/bay001/projects/kris_apobec_20200121/permanent_data2/07_scRNA_groups/sailor_outputs_groups_deep/combined_outputs_w_cov_info/RBFOX2-TIA1-STAMP_round2E_read1_feature_FB_possorted_genome_bam_MD-28_barcodes.tsv.merged.sorted.rmdup.readfiltered.sorted.bam',\n",
       " 'module load samtools;samtools merge -f /home/bay001/projects/kris_apobec_20200121/permanent_data2/07_scRNA_groups/sailor_outputs_groups_deep/combined_outputs_w_cov_info/RBFOX2-TIA1-STAMP_round2E_read1_feature_FB_possorted_genome_bam_MD-29_barcodes.tsv.merged.sorted.rmdup.readfiltered.bam /home/bay001/projects/kris_apobec_20200121/permanent_data2/07_scRNA_groups/sailor_outputs_groups_deep/RBFOX2-TIA1-STAMP_round2E_read1_feature_FB_possorted_genome_bam_MD-29_barcodes.tsv/results/RBFOX2-TIA1-STAMP_round2E_read1_feature_FB_possorted_genome_bam_MD-29_barcodes.tsv.fwd.sorted.rmdup.readfiltered.bam /home/bay001/projects/kris_apobec_20200121/permanent_data2/07_scRNA_groups/sailor_outputs_groups_deep/RBFOX2-TIA1-STAMP_round2E_read1_feature_FB_possorted_genome_bam_MD-29_barcodes.tsv/results/RBFOX2-TIA1-STAMP_round2E_read1_feature_FB_possorted_genome_bam_MD-29_barcodes.tsv.rev.sorted.rmdup.readfiltered.bam;samtools sort /home/bay001/projects/kris_apobec_20200121/permanent_data2/07_scRNA_groups/sailor_outputs_groups_deep/combined_outputs_w_cov_info/RBFOX2-TIA1-STAMP_round2E_read1_feature_FB_possorted_genome_bam_MD-29_barcodes.tsv.merged.sorted.rmdup.readfiltered.bam > /home/bay001/projects/kris_apobec_20200121/permanent_data2/07_scRNA_groups/sailor_outputs_groups_deep/combined_outputs_w_cov_info/RBFOX2-TIA1-STAMP_round2E_read1_feature_FB_possorted_genome_bam_MD-29_barcodes.tsv.merged.sorted.rmdup.readfiltered.sorted.bam;samtools index /home/bay001/projects/kris_apobec_20200121/permanent_data2/07_scRNA_groups/sailor_outputs_groups_deep/combined_outputs_w_cov_info/RBFOX2-TIA1-STAMP_round2E_read1_feature_FB_possorted_genome_bam_MD-29_barcodes.tsv.merged.sorted.rmdup.readfiltered.sorted.bam',\n",
       " 'module load samtools;samtools merge -f /home/bay001/projects/kris_apobec_20200121/permanent_data2/07_scRNA_groups/sailor_outputs_groups_deep/combined_outputs_w_cov_info/RBFOX2-TIA1-STAMP_round2E_read1_feature_FB_possorted_genome_bam_MD-36_barcodes.tsv.merged.sorted.rmdup.readfiltered.bam /home/bay001/projects/kris_apobec_20200121/permanent_data2/07_scRNA_groups/sailor_outputs_groups_deep/RBFOX2-TIA1-STAMP_round2E_read1_feature_FB_possorted_genome_bam_MD-36_barcodes.tsv/results/RBFOX2-TIA1-STAMP_round2E_read1_feature_FB_possorted_genome_bam_MD-36_barcodes.tsv.fwd.sorted.rmdup.readfiltered.bam /home/bay001/projects/kris_apobec_20200121/permanent_data2/07_scRNA_groups/sailor_outputs_groups_deep/RBFOX2-TIA1-STAMP_round2E_read1_feature_FB_possorted_genome_bam_MD-36_barcodes.tsv/results/RBFOX2-TIA1-STAMP_round2E_read1_feature_FB_possorted_genome_bam_MD-36_barcodes.tsv.rev.sorted.rmdup.readfiltered.bam;samtools sort /home/bay001/projects/kris_apobec_20200121/permanent_data2/07_scRNA_groups/sailor_outputs_groups_deep/combined_outputs_w_cov_info/RBFOX2-TIA1-STAMP_round2E_read1_feature_FB_possorted_genome_bam_MD-36_barcodes.tsv.merged.sorted.rmdup.readfiltered.bam > /home/bay001/projects/kris_apobec_20200121/permanent_data2/07_scRNA_groups/sailor_outputs_groups_deep/combined_outputs_w_cov_info/RBFOX2-TIA1-STAMP_round2E_read1_feature_FB_possorted_genome_bam_MD-36_barcodes.tsv.merged.sorted.rmdup.readfiltered.sorted.bam;samtools index /home/bay001/projects/kris_apobec_20200121/permanent_data2/07_scRNA_groups/sailor_outputs_groups_deep/combined_outputs_w_cov_info/RBFOX2-TIA1-STAMP_round2E_read1_feature_FB_possorted_genome_bam_MD-36_barcodes.tsv.merged.sorted.rmdup.readfiltered.sorted.bam',\n",
       " 'module load samtools;samtools merge -f /home/bay001/projects/kris_apobec_20200121/permanent_data2/07_scRNA_groups/sailor_outputs_groups_deep/combined_outputs_w_cov_info/RBFOX2-TIA1-STAMP_round2E_read1_feature_FB_possorted_genome_bam_MD-3_barcodes.tsv.merged.sorted.rmdup.readfiltered.bam /home/bay001/projects/kris_apobec_20200121/permanent_data2/07_scRNA_groups/sailor_outputs_groups_deep/RBFOX2-TIA1-STAMP_round2E_read1_feature_FB_possorted_genome_bam_MD-3_barcodes.tsv/results/RBFOX2-TIA1-STAMP_round2E_read1_feature_FB_possorted_genome_bam_MD-3_barcodes.tsv.fwd.sorted.rmdup.readfiltered.bam /home/bay001/projects/kris_apobec_20200121/permanent_data2/07_scRNA_groups/sailor_outputs_groups_deep/RBFOX2-TIA1-STAMP_round2E_read1_feature_FB_possorted_genome_bam_MD-3_barcodes.tsv/results/RBFOX2-TIA1-STAMP_round2E_read1_feature_FB_possorted_genome_bam_MD-3_barcodes.tsv.rev.sorted.rmdup.readfiltered.bam;samtools sort /home/bay001/projects/kris_apobec_20200121/permanent_data2/07_scRNA_groups/sailor_outputs_groups_deep/combined_outputs_w_cov_info/RBFOX2-TIA1-STAMP_round2E_read1_feature_FB_possorted_genome_bam_MD-3_barcodes.tsv.merged.sorted.rmdup.readfiltered.bam > /home/bay001/projects/kris_apobec_20200121/permanent_data2/07_scRNA_groups/sailor_outputs_groups_deep/combined_outputs_w_cov_info/RBFOX2-TIA1-STAMP_round2E_read1_feature_FB_possorted_genome_bam_MD-3_barcodes.tsv.merged.sorted.rmdup.readfiltered.sorted.bam;samtools index /home/bay001/projects/kris_apobec_20200121/permanent_data2/07_scRNA_groups/sailor_outputs_groups_deep/combined_outputs_w_cov_info/RBFOX2-TIA1-STAMP_round2E_read1_feature_FB_possorted_genome_bam_MD-3_barcodes.tsv.merged.sorted.rmdup.readfiltered.sorted.bam',\n",
       " 'module load samtools;samtools merge -f /home/bay001/projects/kris_apobec_20200121/permanent_data2/07_scRNA_groups/sailor_outputs_groups_deep/combined_outputs_w_cov_info/RBFOX2-TIA1-STAMP_round2E_read1_feature_FB_possorted_genome_bam_MD-4_barcodes.tsv.merged.sorted.rmdup.readfiltered.bam /home/bay001/projects/kris_apobec_20200121/permanent_data2/07_scRNA_groups/sailor_outputs_groups_deep/RBFOX2-TIA1-STAMP_round2E_read1_feature_FB_possorted_genome_bam_MD-4_barcodes.tsv/results/RBFOX2-TIA1-STAMP_round2E_read1_feature_FB_possorted_genome_bam_MD-4_barcodes.tsv.fwd.sorted.rmdup.readfiltered.bam /home/bay001/projects/kris_apobec_20200121/permanent_data2/07_scRNA_groups/sailor_outputs_groups_deep/RBFOX2-TIA1-STAMP_round2E_read1_feature_FB_possorted_genome_bam_MD-4_barcodes.tsv/results/RBFOX2-TIA1-STAMP_round2E_read1_feature_FB_possorted_genome_bam_MD-4_barcodes.tsv.rev.sorted.rmdup.readfiltered.bam;samtools sort /home/bay001/projects/kris_apobec_20200121/permanent_data2/07_scRNA_groups/sailor_outputs_groups_deep/combined_outputs_w_cov_info/RBFOX2-TIA1-STAMP_round2E_read1_feature_FB_possorted_genome_bam_MD-4_barcodes.tsv.merged.sorted.rmdup.readfiltered.bam > /home/bay001/projects/kris_apobec_20200121/permanent_data2/07_scRNA_groups/sailor_outputs_groups_deep/combined_outputs_w_cov_info/RBFOX2-TIA1-STAMP_round2E_read1_feature_FB_possorted_genome_bam_MD-4_barcodes.tsv.merged.sorted.rmdup.readfiltered.sorted.bam;samtools index /home/bay001/projects/kris_apobec_20200121/permanent_data2/07_scRNA_groups/sailor_outputs_groups_deep/combined_outputs_w_cov_info/RBFOX2-TIA1-STAMP_round2E_read1_feature_FB_possorted_genome_bam_MD-4_barcodes.tsv.merged.sorted.rmdup.readfiltered.sorted.bam',\n",
       " 'module load samtools;samtools merge -f /home/bay001/projects/kris_apobec_20200121/permanent_data2/07_scRNA_groups/sailor_outputs_groups_deep/combined_outputs_w_cov_info/RBFOX2-TIA1-STAMP_round2E_read1_feature_FB_possorted_genome_bam_MD-6_barcodes.tsv.merged.sorted.rmdup.readfiltered.bam /home/bay001/projects/kris_apobec_20200121/permanent_data2/07_scRNA_groups/sailor_outputs_groups_deep/RBFOX2-TIA1-STAMP_round2E_read1_feature_FB_possorted_genome_bam_MD-6_barcodes.tsv/results/RBFOX2-TIA1-STAMP_round2E_read1_feature_FB_possorted_genome_bam_MD-6_barcodes.tsv.fwd.sorted.rmdup.readfiltered.bam /home/bay001/projects/kris_apobec_20200121/permanent_data2/07_scRNA_groups/sailor_outputs_groups_deep/RBFOX2-TIA1-STAMP_round2E_read1_feature_FB_possorted_genome_bam_MD-6_barcodes.tsv/results/RBFOX2-TIA1-STAMP_round2E_read1_feature_FB_possorted_genome_bam_MD-6_barcodes.tsv.rev.sorted.rmdup.readfiltered.bam;samtools sort /home/bay001/projects/kris_apobec_20200121/permanent_data2/07_scRNA_groups/sailor_outputs_groups_deep/combined_outputs_w_cov_info/RBFOX2-TIA1-STAMP_round2E_read1_feature_FB_possorted_genome_bam_MD-6_barcodes.tsv.merged.sorted.rmdup.readfiltered.bam > /home/bay001/projects/kris_apobec_20200121/permanent_data2/07_scRNA_groups/sailor_outputs_groups_deep/combined_outputs_w_cov_info/RBFOX2-TIA1-STAMP_round2E_read1_feature_FB_possorted_genome_bam_MD-6_barcodes.tsv.merged.sorted.rmdup.readfiltered.sorted.bam;samtools index /home/bay001/projects/kris_apobec_20200121/permanent_data2/07_scRNA_groups/sailor_outputs_groups_deep/combined_outputs_w_cov_info/RBFOX2-TIA1-STAMP_round2E_read1_feature_FB_possorted_genome_bam_MD-6_barcodes.tsv.merged.sorted.rmdup.readfiltered.sorted.bam',\n",
       " 'module load samtools;samtools merge -f /home/bay001/projects/kris_apobec_20200121/permanent_data2/07_scRNA_groups/sailor_outputs_groups_deep/combined_outputs_w_cov_info/RBFOX2-TIA1-STAMP_round2E_read1_feature_FB_possorted_genome_bam_MD-6_barcodes_noCS.txt.merged.sorted.rmdup.readfiltered.bam /home/bay001/projects/kris_apobec_20200121/permanent_data2/07_scRNA_groups/sailor_outputs_groups_deep/RBFOX2-TIA1-STAMP_round2E_read1_feature_FB_possorted_genome_bam_MD-6_barcodes_noCS.txt/results/RBFOX2-TIA1-STAMP_round2E_read1_feature_FB_possorted_genome_bam_MD-6_barcodes_noCS.txt.fwd.sorted.rmdup.readfiltered.bam /home/bay001/projects/kris_apobec_20200121/permanent_data2/07_scRNA_groups/sailor_outputs_groups_deep/RBFOX2-TIA1-STAMP_round2E_read1_feature_FB_possorted_genome_bam_MD-6_barcodes_noCS.txt/results/RBFOX2-TIA1-STAMP_round2E_read1_feature_FB_possorted_genome_bam_MD-6_barcodes_noCS.txt.rev.sorted.rmdup.readfiltered.bam;samtools sort /home/bay001/projects/kris_apobec_20200121/permanent_data2/07_scRNA_groups/sailor_outputs_groups_deep/combined_outputs_w_cov_info/RBFOX2-TIA1-STAMP_round2E_read1_feature_FB_possorted_genome_bam_MD-6_barcodes_noCS.txt.merged.sorted.rmdup.readfiltered.bam > /home/bay001/projects/kris_apobec_20200121/permanent_data2/07_scRNA_groups/sailor_outputs_groups_deep/combined_outputs_w_cov_info/RBFOX2-TIA1-STAMP_round2E_read1_feature_FB_possorted_genome_bam_MD-6_barcodes_noCS.txt.merged.sorted.rmdup.readfiltered.sorted.bam;samtools index /home/bay001/projects/kris_apobec_20200121/permanent_data2/07_scRNA_groups/sailor_outputs_groups_deep/combined_outputs_w_cov_info/RBFOX2-TIA1-STAMP_round2E_read1_feature_FB_possorted_genome_bam_MD-6_barcodes_noCS.txt.merged.sorted.rmdup.readfiltered.sorted.bam',\n",
       " 'module load samtools;samtools merge -f /home/bay001/projects/kris_apobec_20200121/permanent_data2/07_scRNA_groups/sailor_outputs_groups_deep/combined_outputs_w_cov_info/RBFOX2-TIA1-STAMP_round2E_read1_feature_FB_possorted_genome_bam_MD-7_barcodes.tsv.merged.sorted.rmdup.readfiltered.bam /home/bay001/projects/kris_apobec_20200121/permanent_data2/07_scRNA_groups/sailor_outputs_groups_deep/RBFOX2-TIA1-STAMP_round2E_read1_feature_FB_possorted_genome_bam_MD-7_barcodes.tsv/results/RBFOX2-TIA1-STAMP_round2E_read1_feature_FB_possorted_genome_bam_MD-7_barcodes.tsv.fwd.sorted.rmdup.readfiltered.bam /home/bay001/projects/kris_apobec_20200121/permanent_data2/07_scRNA_groups/sailor_outputs_groups_deep/RBFOX2-TIA1-STAMP_round2E_read1_feature_FB_possorted_genome_bam_MD-7_barcodes.tsv/results/RBFOX2-TIA1-STAMP_round2E_read1_feature_FB_possorted_genome_bam_MD-7_barcodes.tsv.rev.sorted.rmdup.readfiltered.bam;samtools sort /home/bay001/projects/kris_apobec_20200121/permanent_data2/07_scRNA_groups/sailor_outputs_groups_deep/combined_outputs_w_cov_info/RBFOX2-TIA1-STAMP_round2E_read1_feature_FB_possorted_genome_bam_MD-7_barcodes.tsv.merged.sorted.rmdup.readfiltered.bam > /home/bay001/projects/kris_apobec_20200121/permanent_data2/07_scRNA_groups/sailor_outputs_groups_deep/combined_outputs_w_cov_info/RBFOX2-TIA1-STAMP_round2E_read1_feature_FB_possorted_genome_bam_MD-7_barcodes.tsv.merged.sorted.rmdup.readfiltered.sorted.bam;samtools index /home/bay001/projects/kris_apobec_20200121/permanent_data2/07_scRNA_groups/sailor_outputs_groups_deep/combined_outputs_w_cov_info/RBFOX2-TIA1-STAMP_round2E_read1_feature_FB_possorted_genome_bam_MD-7_barcodes.tsv.merged.sorted.rmdup.readfiltered.sorted.bam',\n",
       " 'module load samtools;samtools merge -f /home/bay001/projects/kris_apobec_20200121/permanent_data2/07_scRNA_groups/sailor_outputs_groups_deep/combined_outputs_w_cov_info/RBFOX2-TIA1-STAMP_round2E_read1_feature_FB_possorted_genome_bam_MD-7_barcodes_noCS.txt.merged.sorted.rmdup.readfiltered.bam /home/bay001/projects/kris_apobec_20200121/permanent_data2/07_scRNA_groups/sailor_outputs_groups_deep/RBFOX2-TIA1-STAMP_round2E_read1_feature_FB_possorted_genome_bam_MD-7_barcodes_noCS.txt/results/RBFOX2-TIA1-STAMP_round2E_read1_feature_FB_possorted_genome_bam_MD-7_barcodes_noCS.txt.fwd.sorted.rmdup.readfiltered.bam /home/bay001/projects/kris_apobec_20200121/permanent_data2/07_scRNA_groups/sailor_outputs_groups_deep/RBFOX2-TIA1-STAMP_round2E_read1_feature_FB_possorted_genome_bam_MD-7_barcodes_noCS.txt/results/RBFOX2-TIA1-STAMP_round2E_read1_feature_FB_possorted_genome_bam_MD-7_barcodes_noCS.txt.rev.sorted.rmdup.readfiltered.bam;samtools sort /home/bay001/projects/kris_apobec_20200121/permanent_data2/07_scRNA_groups/sailor_outputs_groups_deep/combined_outputs_w_cov_info/RBFOX2-TIA1-STAMP_round2E_read1_feature_FB_possorted_genome_bam_MD-7_barcodes_noCS.txt.merged.sorted.rmdup.readfiltered.bam > /home/bay001/projects/kris_apobec_20200121/permanent_data2/07_scRNA_groups/sailor_outputs_groups_deep/combined_outputs_w_cov_info/RBFOX2-TIA1-STAMP_round2E_read1_feature_FB_possorted_genome_bam_MD-7_barcodes_noCS.txt.merged.sorted.rmdup.readfiltered.sorted.bam;samtools index /home/bay001/projects/kris_apobec_20200121/permanent_data2/07_scRNA_groups/sailor_outputs_groups_deep/combined_outputs_w_cov_info/RBFOX2-TIA1-STAMP_round2E_read1_feature_FB_possorted_genome_bam_MD-7_barcodes_noCS.txt.merged.sorted.rmdup.readfiltered.sorted.bam',\n",
       " 'module load samtools;samtools merge -f /home/bay001/projects/kris_apobec_20200121/permanent_data2/07_scRNA_groups/sailor_outputs_groups_deep/combined_outputs_w_cov_info/RPS2-STAMP_possorted_genome_bam_MD-RPS2_non_APO_edits_barcodes_RPKM.txt.merged.sorted.rmdup.readfiltered.bam /home/bay001/projects/kris_apobec_20200121/permanent_data2/07_scRNA_groups/sailor_outputs_groups_deep/RPS2-STAMP_possorted_genome_bam_MD-RPS2_non_APO_edits_barcodes_RPKM.txt/results/RPS2-STAMP_possorted_genome_bam_MD-RPS2_non_APO_edits_barcodes_RPKM.txt.fwd.sorted.rmdup.readfiltered.bam /home/bay001/projects/kris_apobec_20200121/permanent_data2/07_scRNA_groups/sailor_outputs_groups_deep/RPS2-STAMP_possorted_genome_bam_MD-RPS2_non_APO_edits_barcodes_RPKM.txt/results/RPS2-STAMP_possorted_genome_bam_MD-RPS2_non_APO_edits_barcodes_RPKM.txt.rev.sorted.rmdup.readfiltered.bam;samtools sort /home/bay001/projects/kris_apobec_20200121/permanent_data2/07_scRNA_groups/sailor_outputs_groups_deep/combined_outputs_w_cov_info/RPS2-STAMP_possorted_genome_bam_MD-RPS2_non_APO_edits_barcodes_RPKM.txt.merged.sorted.rmdup.readfiltered.bam > /home/bay001/projects/kris_apobec_20200121/permanent_data2/07_scRNA_groups/sailor_outputs_groups_deep/combined_outputs_w_cov_info/RPS2-STAMP_possorted_genome_bam_MD-RPS2_non_APO_edits_barcodes_RPKM.txt.merged.sorted.rmdup.readfiltered.sorted.bam;samtools index /home/bay001/projects/kris_apobec_20200121/permanent_data2/07_scRNA_groups/sailor_outputs_groups_deep/combined_outputs_w_cov_info/RPS2-STAMP_possorted_genome_bam_MD-RPS2_non_APO_edits_barcodes_RPKM.txt.merged.sorted.rmdup.readfiltered.sorted.bam']"
      ]
     },
     "execution_count": 18,
     "metadata": {},
     "output_type": "execute_result"
    }
   ],
   "source": [
    "cmds"
   ]
  },
  {
   "cell_type": "code",
   "execution_count": 9,
   "metadata": {},
   "outputs": [
    {
     "data": {
      "application/vnd.jupyter.widget-view+json": {
       "model_id": "5c9af58743d54e23880d6f9dffdbdcb5",
       "version_major": 2,
       "version_minor": 0
      },
      "text/plain": [
       "HBox(children=(IntProgress(value=0, max=24), HTML(value='')))"
      ]
     },
     "metadata": {},
     "output_type": "display_data"
    },
    {
     "name": "stdout",
     "output_type": "stream",
     "text": [
      "[bam_sort_core] merging from 327 files and 1 in-memory blocks...\n",
      "[bam_sort_core] merging from 71 files and 1 in-memory blocks...\n",
      "[bam_sort_core] merging from 28 files and 1 in-memory blocks...\n",
      "[bam_sort_core] merging from 17 files and 1 in-memory blocks...\n",
      "[bam_sort_core] merging from 11 files and 1 in-memory blocks...\n",
      "[bam_sort_core] merging from 13 files and 1 in-memory blocks...\n",
      "[bam_sort_core] merging from 1 files and 1 in-memory blocks...\n",
      "[bam_sort_core] merging from 17 files and 1 in-memory blocks...\n",
      "[bam_sort_core] merging from 8 files and 1 in-memory blocks...\n",
      "[bam_sort_core] merging from 25 files and 1 in-memory blocks...\n",
      "[bam_sort_core] merging from 9 files and 1 in-memory blocks...\n",
      "[bam_sort_core] merging from 28 files and 1 in-memory blocks...\n",
      "[bam_sort_core] merging from 7 files and 1 in-memory blocks...\n",
      "[bam_sort_core] merging from 16 files and 1 in-memory blocks...\n",
      "[bam_sort_core] merging from 27 files and 1 in-memory blocks...\n",
      "[bam_sort_core] merging from 8 files and 1 in-memory blocks...\n",
      "[bam_sort_core] merging from 13 files and 1 in-memory blocks...\n",
      "[bam_sort_core] merging from 7 files and 1 in-memory blocks...\n",
      "[bam_sort_core] merging from 19 files and 1 in-memory blocks...\n",
      "[bam_sort_core] merging from 8 files and 1 in-memory blocks...\n",
      "[bam_sort_core] merging from 21 files and 1 in-memory blocks...\n",
      "[bam_sort_core] merging from 7 files and 1 in-memory blocks...\n",
      "[bam_sort_core] merging from 327 files and 1 in-memory blocks...\n"
     ]
    }
   ],
   "source": [
    "progress = tnrange(len(cmds))\n",
    "for cmd in cmds:\n",
    "    ! $cmd\n",
    "    progress.update(1)"
   ]
  },
  {
   "cell_type": "code",
   "execution_count": null,
   "metadata": {},
   "outputs": [],
   "source": []
  }
 ],
 "metadata": {
  "kernelspec": {
   "display_name": "python3-essential-tscc",
   "language": "python",
   "name": "python3essentialtscc"
  },
  "language_info": {
   "codemirror_mode": {
    "name": "ipython",
    "version": 3
   },
   "file_extension": ".py",
   "mimetype": "text/x-python",
   "name": "python",
   "nbconvert_exporter": "python",
   "pygments_lexer": "ipython3",
   "version": "3.6.7"
  }
 },
 "nbformat": 4,
 "nbformat_minor": 2
}
