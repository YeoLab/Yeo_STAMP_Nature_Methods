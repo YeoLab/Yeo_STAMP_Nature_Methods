{
 "cells": [
  {
   "cell_type": "code",
   "execution_count": 1,
   "metadata": {},
   "outputs": [],
   "source": [
    "%matplotlib inline\n",
    "import matplotlib.pyplot as plt\n",
    "import seaborn as sns\n",
    "import glob\n",
    "import os\n",
    "import pandas as pd\n",
    "import numpy as np\n",
    "import os\n",
    "import pybedtools\n",
    "import warnings\n",
    "warnings.simplefilter(action='ignore', category=FutureWarning)\n",
    "from qtools import Submitter\n",
    "from tqdm import tnrange, tqdm_notebook\n",
    "\n",
    "from scipy.special import betainc"
   ]
  },
  {
   "cell_type": "code",
   "execution_count": 2,
   "metadata": {},
   "outputs": [],
   "source": [
    "input_dir = '/home/bay001/projects/kris_apobec_20200121/permanent_data2/07_scRNA_groups/window_outputs_deep'\n",
    "output_dir = '/home/bay001/projects/kris_apobec_20200121/permanent_data2/07_scRNA_groups/motifs_deep'\n",
    "bash_script_dir = '/home/bay001/projects/kris_apobec_20200121/permanent_data2/07_scRNA_groups/bash_scripts'"
   ]
  },
  {
   "cell_type": "code",
   "execution_count": 3,
   "metadata": {},
   "outputs": [],
   "source": [
    "genome_fasta = '/projects/ps-yeolab3/bay001/annotations/hg19/hg19.fa'\n",
    "editc_threshold = 0.0\n",
    "e = 0.001\n",
    "conf_threshold = 0.99\n",
    "\n",
    "cmds = []"
   ]
  },
  {
   "cell_type": "markdown",
   "metadata": {},
   "source": [
    "# Filter on some value based on editC cutoff from plot. *unused code*\n",
    "- Let's instead use a more uniform way of choosing, how about we re-calculate the \"conf\" scores based on the window instead of per site?"
   ]
  },
  {
   "cell_type": "raw",
   "metadata": {},
   "source": [
    "txt_file = os.path.join(\n",
    "    input_dir, \n",
    "    'RBFOX2-TIA1-STAMP_round2E_read1_feature_FB_possorted_genome_bam_MD-7_barcodes_noCS.rand10.txt.fx.annotated.windows_51.txt'\n",
    ")\n",
    "output_editc_filtered_bed = os.path.join(\n",
    "    output_dir, \n",
    "    '{}.editc_{}.bed'.format(os.path.splitext(os.path.basename(txt_file))[0], editc_threshold)\n",
    ")\n",
    "output_conf_filtered_bed = os.path.join(\n",
    "    output_dir, \n",
    "    '{}.e{}_conf{}.bed'.format(os.path.splitext(os.path.basename(txt_file))[0], e, conf_threshold)\n",
    ")"
   ]
  },
  {
   "cell_type": "raw",
   "metadata": {},
   "source": [
    "assert os.path.exists(txt_file)\n",
    "\n",
    "! head $txt_file"
   ]
  },
  {
   "cell_type": "code",
   "execution_count": 4,
   "metadata": {},
   "outputs": [],
   "source": [
    "def write_bedfile_from_txt_file(txt_file, editc_threshold, output_bed):\n",
    "    \"\"\"\n",
    "    \n",
    "    \"\"\"\n",
    "    try:\n",
    "        df = pd.read_csv(txt_file, sep='\\t')\n",
    "        orig_n = df.shape[0]\n",
    "\n",
    "        df = df[df['edited_over_all_c']>=editc_threshold]\n",
    "        new_n = df.shape[0]\n",
    "        print(\"Filtering sites: {} -> {}\".format(orig_n, new_n))\n",
    "        \n",
    "        bedtool = pybedtools.BedTool.from_dataframe(df[['chrom','start','end','name','edited_over_all_c','strand']])\n",
    "        bedtool = bedtool.sort().merge(s=True, c=(4,5,6), o=('collapse','mean','distinct'))\n",
    "        bedtool.saveas(output_bed)\n",
    "\n",
    "        return 0\n",
    "    except Exception as e:\n",
    "        print(e)\n",
    "        return 1\n",
    "\n",
    "# write_bedfile_from_txt_file(txt_file, editc_threshold, output_editc_filtered_bed)  # 28189 for RBFOX2-1000"
   ]
  },
  {
   "cell_type": "code",
   "execution_count": 5,
   "metadata": {},
   "outputs": [],
   "source": [
    "def write_motif_analysis_cmd(bed_file, genome_fasta=genome_fasta):\n",
    "    \"\"\"\n",
    "    If the output from analyze_motifs doesn't exist, create the commandline \n",
    "    needed to run de-novo motif finding using the eclipanalysis module.\n",
    "    \"\"\"\n",
    "    out_homer_dir = os.path.join(\n",
    "        output_dir, \n",
    "        os.path.splitext(os.path.basename(bed_file))[0]\n",
    "    )\n",
    "    out_file = out_homer_dir + '.svg'\n",
    "    out_pickle_file = out_homer_dir + '.pickle'\n",
    "    if not os.path.exists(out_file):\n",
    "        cmd = 'module load eclipanalysis/0.0.3a;analyze_motifs '\n",
    "        cmd += '--peaks {} '.format(bed_file)\n",
    "        cmd += '--out_pickle_file {} '.format(out_pickle_file)\n",
    "        cmd += '--out_file {} '.format(out_file)\n",
    "        cmd += '--species hg19 '\n",
    "        cmd += '--out_homer_dir {} '.format(out_homer_dir)\n",
    "        cmd += '--genome_fasta {} '.format(genome_fasta)\n",
    "        return cmd\n",
    "    else: \n",
    "        return None\n",
    "    \n",
    "## Testing the function\n",
    "# cmd = write_motif_analysis_cmd(output_editc_filtered_bed)\n",
    "# if cmd is not None:\n",
    "#     cmds.append(cmd)"
   ]
  },
  {
   "cell_type": "raw",
   "metadata": {},
   "source": [
    "# If we decide to do this in batch, otherwise leave this as raw txt, not code.\n",
    "Submitter(\n",
    "    cmds, \n",
    "    'motif_analysis', \n",
    "    sh=os.path.join(bash_script_dir, 'motif_analysis.sh'), \n",
    "    nodes=1, \n",
    "    ppn=1, \n",
    "    array=True, \n",
    "    submit=False, \n",
    "    walltime='40:00:00'\n",
    ")"
   ]
  },
  {
   "cell_type": "markdown",
   "metadata": {},
   "source": [
    "# What if we try filtering based on conf values? We can grab all txt files now if we want."
   ]
  },
  {
   "cell_type": "code",
   "execution_count": 6,
   "metadata": {},
   "outputs": [
    {
     "name": "stdout",
     "output_type": "stream",
     "text": [
      "634\n"
     ]
    },
    {
     "data": {
      "text/plain": [
       "['/home/bay001/projects/kris_apobec_20200121/permanent_data2/07_scRNA_groups/window_outputs_deep/APOBEC-STAMP_possorted_genome_bam-APOBEC_STAMP_Apo_filtered_lenti_common_expression_barcodes.txt.fx.annotated.windows_51.txt',\n",
       " '/home/bay001/projects/kris_apobec_20200121/permanent_data2/07_scRNA_groups/window_outputs_deep/APOBEC-STAMP_possorted_genome_bam_MD-1_barcodes.tsv.fx.annotated.windows_51.txt',\n",
       " '/home/bay001/projects/kris_apobec_20200121/permanent_data2/07_scRNA_groups/window_outputs_deep/APOBEC-STAMP_possorted_genome_bam_MD-2_barcodes.tsv.fx.annotated.windows_51.txt',\n",
       " '/home/bay001/projects/kris_apobec_20200121/permanent_data2/07_scRNA_groups/window_outputs_deep/APOBEC-STAMP_possorted_genome_bam_MD-5_barcodes.tsv.fx.annotated.windows_51.txt',\n",
       " '/home/bay001/projects/kris_apobec_20200121/permanent_data2/07_scRNA_groups/window_outputs_deep/APOBEC-STAMP_possorted_genome_bam_MD-APOBEC_STAMP_Apo_filtered_lenti_common_expression_barcodes.txt.fx.annotated.windows_51.txt',\n",
       " '/home/bay001/projects/kris_apobec_20200121/permanent_data2/07_scRNA_groups/window_outputs_deep/For_Motif_Background_APO_plus_RBFOX2-TIA1_APO_edits_barcodes_4_5.fx.annotated.windows_51.txt',\n",
       " '/home/bay001/projects/kris_apobec_20200121/permanent_data2/07_scRNA_groups/window_outputs_deep/HEK-NPC-APOBEC-STAMP_possorted_genome_bam_MD-19_barcodes.tsv.fx.annotated.windows_51.txt',\n",
       " '/home/bay001/projects/kris_apobec_20200121/permanent_data2/07_scRNA_groups/window_outputs_deep/HEK-NPC-APOBEC-STAMP_possorted_genome_bam_MD-20_barcodes.tsv.fx.annotated.windows_51.txt',\n",
       " '/home/bay001/projects/kris_apobec_20200121/permanent_data2/07_scRNA_groups/window_outputs_deep/HEK-NPC-RBFOX2-STAMP_possorted_genome_bam_MD-21_barcodes.tsv.fx.annotated.windows_51.txt',\n",
       " '/home/bay001/projects/kris_apobec_20200121/permanent_data2/07_scRNA_groups/window_outputs_deep/HEK-NPC-RBFOX2-STAMP_possorted_genome_bam_MD-22_barcodes.tsv.fx.annotated.windows_51.txt']"
      ]
     },
     "execution_count": 6,
     "metadata": {},
     "output_type": "execute_result"
    }
   ],
   "source": [
    "all_txt_files = sorted(glob.glob(os.path.join(input_dir, '*.txt')))\n",
    "print(len(all_txt_files))\n",
    "all_txt_files[:10]"
   ]
  },
  {
   "cell_type": "code",
   "execution_count": 7,
   "metadata": {},
   "outputs": [],
   "source": [
    "def compute_confidence(row, cov_margin):\n",
    "    \"\"\"\n",
    "    Taken from rank_edits.py from SAILOR\n",
    "    \"\"\"\n",
    "    # Default, don't use pseudocounts for now.\n",
    "    alfa=0\n",
    "    beta=0\n",
    "    g = row['edit_coverage']\n",
    "    a = row['all_c_coverage']\n",
    "    \n",
    "    # calc smoothed counts and confidence\n",
    "    G = g + alfa\n",
    "    A = a + beta\n",
    "    try:\n",
    "        theta = G / float(G + A)\n",
    "    except ZeroDivisionError:\n",
    "        return 0\n",
    "    ########  MOST IMPORTANT LINE  ########\n",
    "    # calculates the confidence of theta as\n",
    "    # P( theta < cov_margin | A, G) ~ Beta_theta(G, A)\n",
    "    confidence = 1 - betainc(G, A, cov_margin)\n",
    "    return confidence\n",
    "\n",
    "def read_and_filter_conf(rep_file, cov_margin, conf, output_file):\n",
    "    \"\"\"\n",
    "    Reads and computes conf across a window. Saves and returns both the\n",
    "    unfiltered and filtered dataframe for downstream analysis. \n",
    "    Saves the filtered output to output_file.\n",
    "    \"\"\"\n",
    "    rep = pd.read_csv(rep_file, sep='\\t')\n",
    "    plot_editc_distribution(\n",
    "        rep=rep,\n",
    "        output_svg=os.path.splitext(output_file)[0] + '.editc_dist.svg'\n",
    "    )\n",
    "    rep['conf'] = rep.apply(compute_confidence, args=(cov_margin,), axis=1)\n",
    "    rep['conf'].fillna(0, inplace=True)\n",
    "    \n",
    "    rep_filtered = rep[rep['conf'] >= conf]\n",
    "    # rep_filtered['log2_editc'] = np.log2(rep_filtered['edited_over_all_c'])\n",
    "    # rep_filtered[['chrom','start','end','name','log2_editc','strand']].to_csv(output_file, sep='\\t', index=False, header=False)\n",
    "    bedtool = pybedtools.BedTool.from_dataframe(\n",
    "        rep_filtered[['chrom','start','end','name','edited_over_all_c','strand']]\n",
    "    )\n",
    "    bedtool = bedtool.sort().merge(s=True, c=(4,5,6), o=('collapse','mean','distinct'))\n",
    "    bedtool.saveas(output_file)\n",
    "    \n",
    "    # Plot the distribution of \"peak\" lengths\n",
    "    _filtered = bedtool.to_dataframe()\n",
    "    _filtered['length'] = _filtered['end'] - _filtered['start']\n",
    "    plot_length_distribution(\n",
    "        filtered_list=_filtered, \n",
    "        output_svg=os.path.splitext(output_file)[0] + '.peak_lengths.svg'\n",
    "    )\n",
    "    \n",
    "    print(\"Filtered {} {} -> {}\".format(os.path.basename(rep_file), rep.shape[0], rep_filtered.shape[0]))\n",
    "    \n",
    "    return rep, rep_filtered\n",
    "\n",
    "def plot_editc_distribution(rep, output_svg):\n",
    "    fig, ax = plt.subplots()\n",
    "    sns.distplot(rep['edited_over_all_c'], bins=50, ax=ax)\n",
    "    fig.savefig(output_svg)\n",
    "    plt.close()\n",
    "    \n",
    "def plot_length_distribution(filtered_list, output_svg):\n",
    "    fig, ax = plt.subplots()\n",
    "    sns.distplot(filtered_list['length'], bins=50, ax=ax)\n",
    "    fig.savefig(output_svg)\n",
    "    plt.close()\n",
    "    "
   ]
  },
  {
   "cell_type": "raw",
   "metadata": {},
   "source": [
    "rep, filtered = read_and_filter_conf(\n",
    "    txt_file, \n",
    "    cov_margin=e, \n",
    "    conf=conf_threshold, \n",
    "    output_file=output_conf_filtered_bed\n",
    ")\n",
    "\n",
    "! head $output_conf_filtered_bed"
   ]
  },
  {
   "cell_type": "code",
   "execution_count": 8,
   "metadata": {},
   "outputs": [
    {
     "name": "stdout",
     "output_type": "stream",
     "text": [
      "Filtered For_Motif_Background_APO_plus_RBFOX2-TIA1_APO_edits_barcodes_4_5.fx.annotated.windows_51.txt 544061 -> 43470\n",
      "Filtered RPS2-STAMP_possorted_genome_bam-RPS2_STAMP_Apo_filtered_lenti_common_expression_barcodes.txt.fx.annotated.windows_51.txt 432453 -> 188023\n",
      "Filtered RPS2-STAMP_possorted_genome_bam_MD-RPS2_STAMP_Apo_filtered_lenti_common_expression_barcodes.txt.fx.annotated.windows_51.txt 403829 -> 169371\n"
     ]
    }
   ],
   "source": [
    "for txt_file in all_txt_files:\n",
    "    output_conf_filtered_bed = os.path.join(\n",
    "        output_dir, \n",
    "        '{}.e{}_conf{}.bed'.format(os.path.splitext(os.path.basename(txt_file))[0], e, conf_threshold)\n",
    "    )\n",
    "    if not os.path.exists(output_conf_filtered_bed):\n",
    "        rep, filtered = read_and_filter_conf(\n",
    "            txt_file, \n",
    "            cov_margin=e, \n",
    "            conf=conf_threshold, \n",
    "            output_file=output_conf_filtered_bed\n",
    "        )\n",
    "    cmd = write_motif_analysis_cmd(bed_file=output_conf_filtered_bed)\n",
    "    if cmd is not None:\n",
    "        cmds.append(cmd)\n",
    "        \n",
    "# RBFOX2-50 172150 -> 76889"
   ]
  },
  {
   "cell_type": "code",
   "execution_count": 9,
   "metadata": {},
   "outputs": [
    {
     "data": {
      "text/plain": [
       "3"
      ]
     },
     "execution_count": 9,
     "metadata": {},
     "output_type": "execute_result"
    }
   ],
   "source": [
    "len(cmds)"
   ]
  },
  {
   "cell_type": "code",
   "execution_count": 10,
   "metadata": {},
   "outputs": [
    {
     "name": "stderr",
     "output_type": "stream",
     "text": [
      "Writing 3 tasks as an array-job.\n",
      "Wrote commands to /home/bay001/projects/kris_apobec_20200121/permanent_data2/07_scRNA_groups/bash_scripts/motif_analysis.sh.\n",
      "Submitted script to queue home.\n",
      " Job ID: 22083755\n"
     ]
    },
    {
     "data": {
      "text/plain": [
       "<qtools.submitter.Submitter at 0x2b8fecdc00d0>"
      ]
     },
     "execution_count": 10,
     "metadata": {},
     "output_type": "execute_result"
    }
   ],
   "source": [
    "Submitter(\n",
    "    cmds, \n",
    "    'motif_analysis', \n",
    "    sh=os.path.join(bash_script_dir, 'motif_analysis.sh'), \n",
    "    nodes=1, \n",
    "    ppn=1, \n",
    "    array=True, \n",
    "    submit=True, \n",
    "    walltime='40:00:00'\n",
    ")"
   ]
  },
  {
   "cell_type": "code",
   "execution_count": null,
   "metadata": {},
   "outputs": [],
   "source": [
    "len(cmds)"
   ]
  },
  {
   "cell_type": "code",
   "execution_count": null,
   "metadata": {},
   "outputs": [],
   "source": []
  }
 ],
 "metadata": {
  "kernelspec": {
   "display_name": "python2-essential",
   "language": "python",
   "name": "python2-essential"
  },
  "language_info": {
   "codemirror_mode": {
    "name": "ipython",
    "version": 2
   },
   "file_extension": ".py",
   "mimetype": "text/x-python",
   "name": "python",
   "nbconvert_exporter": "python",
   "pygments_lexer": "ipython2",
   "version": "2.7.15"
  }
 },
 "nbformat": 4,
 "nbformat_minor": 2
}
