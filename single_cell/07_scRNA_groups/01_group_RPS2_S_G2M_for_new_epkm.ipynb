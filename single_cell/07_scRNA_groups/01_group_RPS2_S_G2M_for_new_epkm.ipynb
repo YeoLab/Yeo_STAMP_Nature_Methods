{
 "cells": [
  {
   "cell_type": "markdown",
   "metadata": {},
   "source": [
    "# This notebook parses the possorted_genome_bam_MD.bam to pull out only the barcodes specificed in Alex's lists.\n",
    "- functionally equivalent to notebook 11_group_bams.ipynb, but in this case we're just re-parsing the main bam file instead of joining a bunch of smaller bam files."
   ]
  },
  {
   "cell_type": "code",
   "execution_count": 1,
   "metadata": {},
   "outputs": [],
   "source": [
    "import pandas as pd\n",
    "import numpy as np\n",
    "import os\n",
    "import glob\n",
    "import pysam\n",
    "import time\n",
    "from collections import defaultdict\n",
    "from tqdm import tnrange, tqdm_notebook\n",
    "from qtools import Submitter\n",
    "\n",
    "pd.set_option('display.max_colwidth', 1000)\n",
    "pd.set_option('display.width', 10000)"
   ]
  },
  {
   "cell_type": "code",
   "execution_count": 2,
   "metadata": {},
   "outputs": [],
   "source": [
    "input_dir = '/home/bay001/projects/kris_apobec_20200121/permanent_data2/07_scRNA_groups/inputs'\n",
    "output_dir = '/home/bay001/projects/kris_apobec_20200121/permanent_data2/07_scRNA_groups/bam_file_groups/'"
   ]
  },
  {
   "cell_type": "code",
   "execution_count": 3,
   "metadata": {},
   "outputs": [],
   "source": [
    "prefix = 'RPS2_escore_barcodes_with_flags'"
   ]
  },
  {
   "cell_type": "markdown",
   "metadata": {},
   "source": [
    "# Read in expression values from Alex to help us decide which barcodes to look for/split.\n",
    "\n",
    "original sources: \n",
    "```\n",
    "/projects/ps-yeolab3/iachaim/10X/APOBEC/to_share/RPS2_EPKM_barcodes_with_flags.csv\n",
    "/projects/ps-yeolab3/iachaim/10X/APOBEC/to_share/RPS2_escore_barcodes_with_flags.csv\n",
    "```"
   ]
  },
  {
   "cell_type": "code",
   "execution_count": 4,
   "metadata": {},
   "outputs": [
    {
     "data": {
      "text/html": [
       "<div>\n",
       "<style scoped>\n",
       "    .dataframe tbody tr th:only-of-type {\n",
       "        vertical-align: middle;\n",
       "    }\n",
       "\n",
       "    .dataframe tbody tr th {\n",
       "        vertical-align: top;\n",
       "    }\n",
       "\n",
       "    .dataframe thead th {\n",
       "        text-align: right;\n",
       "    }\n",
       "</style>\n",
       "<table border=\"1\" class=\"dataframe\">\n",
       "  <thead>\n",
       "    <tr style=\"text-align: right;\">\n",
       "      <th></th>\n",
       "      <th>Unnamed: 0</th>\n",
       "      <th>n_genes</th>\n",
       "      <th>louvain_edits</th>\n",
       "      <th>n_counts</th>\n",
       "      <th>S_score</th>\n",
       "      <th>G2M_score</th>\n",
       "      <th>phase</th>\n",
       "    </tr>\n",
       "  </thead>\n",
       "  <tbody>\n",
       "    <tr>\n",
       "      <th>0</th>\n",
       "      <td>AAACCCACAGGTACGA-1</td>\n",
       "      <td>4463</td>\n",
       "      <td>0</td>\n",
       "      <td>19455.0</td>\n",
       "      <td>-0.269578</td>\n",
       "      <td>0.010084</td>\n",
       "      <td>G2M</td>\n",
       "    </tr>\n",
       "    <tr>\n",
       "      <th>1</th>\n",
       "      <td>AAACGAAAGGGATGTC-1</td>\n",
       "      <td>4587</td>\n",
       "      <td>0</td>\n",
       "      <td>19799.0</td>\n",
       "      <td>-0.152814</td>\n",
       "      <td>0.091604</td>\n",
       "      <td>G2M</td>\n",
       "    </tr>\n",
       "    <tr>\n",
       "      <th>2</th>\n",
       "      <td>AAACGAAAGTGGTCAG-1</td>\n",
       "      <td>5123</td>\n",
       "      <td>0</td>\n",
       "      <td>25818.0</td>\n",
       "      <td>0.076701</td>\n",
       "      <td>-0.481850</td>\n",
       "      <td>S</td>\n",
       "    </tr>\n",
       "    <tr>\n",
       "      <th>3</th>\n",
       "      <td>AAACGAACACACCTTC-1</td>\n",
       "      <td>6084</td>\n",
       "      <td>0</td>\n",
       "      <td>35347.0</td>\n",
       "      <td>0.068730</td>\n",
       "      <td>0.245169</td>\n",
       "      <td>G2M</td>\n",
       "    </tr>\n",
       "    <tr>\n",
       "      <th>4</th>\n",
       "      <td>AAACGCTAGGAGTCTG-1</td>\n",
       "      <td>5418</td>\n",
       "      <td>1</td>\n",
       "      <td>30536.0</td>\n",
       "      <td>0.022630</td>\n",
       "      <td>0.325772</td>\n",
       "      <td>G2M</td>\n",
       "    </tr>\n",
       "  </tbody>\n",
       "</table>\n",
       "</div>"
      ],
      "text/plain": [
       "           Unnamed: 0  n_genes  louvain_edits  n_counts   S_score  G2M_score phase\n",
       "0  AAACCCACAGGTACGA-1     4463              0   19455.0 -0.269578   0.010084   G2M\n",
       "1  AAACGAAAGGGATGTC-1     4587              0   19799.0 -0.152814   0.091604   G2M\n",
       "2  AAACGAAAGTGGTCAG-1     5123              0   25818.0  0.076701  -0.481850     S\n",
       "3  AAACGAACACACCTTC-1     6084              0   35347.0  0.068730   0.245169   G2M\n",
       "4  AAACGCTAGGAGTCTG-1     5418              1   30536.0  0.022630   0.325772   G2M"
      ]
     },
     "execution_count": 4,
     "metadata": {},
     "output_type": "execute_result"
    }
   ],
   "source": [
    "# rps2_barcodes = pd.read_csv(os.path.join(input_dir, 'RPS2_EPKM_barcodes_with_flags.csv'))\n",
    "rps2_barcodes = pd.read_csv(os.path.join(input_dir, '{}.csv'.format(prefix)))\n",
    "\n",
    "rps2_barcodes.head()"
   ]
  },
  {
   "cell_type": "code",
   "execution_count": 5,
   "metadata": {},
   "outputs": [
    {
     "data": {
      "text/plain": [
       "S      1249\n",
       "G2M    1076\n",
       "G1      830\n",
       "Name: phase, dtype: int64"
      ]
     },
     "execution_count": 5,
     "metadata": {},
     "output_type": "execute_result"
    }
   ],
   "source": [
    "rps2_barcodes['phase'].value_counts()"
   ]
  },
  {
   "cell_type": "code",
   "execution_count": 6,
   "metadata": {},
   "outputs": [
    {
     "name": "stdout",
     "output_type": "stream",
     "text": [
      "(830, 1076, 1249)\n"
     ]
    }
   ],
   "source": [
    "g1_barcodes = rps2_barcodes[rps2_barcodes['phase']=='G1']\n",
    "g2m_barcodes = rps2_barcodes[rps2_barcodes['phase']=='G2M']\n",
    "s_barcodes = rps2_barcodes[rps2_barcodes['phase']=='S']\n",
    "\n",
    "print(g1_barcodes.shape[0], g2m_barcodes.shape[0], s_barcodes.shape[0])"
   ]
  },
  {
   "cell_type": "markdown",
   "metadata": {},
   "source": [
    "# Use the top 500 genes by score\n",
    "- we don't have a G1 score, so let's use the top 500 genes with the lowest average S/G2M scores.\n",
    "- for both S and G2M, we'll take the top 500 by score"
   ]
  },
  {
   "cell_type": "code",
   "execution_count": 7,
   "metadata": {},
   "outputs": [
    {
     "name": "stdout",
     "output_type": "stream",
     "text": [
      "(500, 500, 500)\n"
     ]
    },
    {
     "name": "stderr",
     "output_type": "stream",
     "text": [
      "/projects/ps-yeolab4/bay001/anaconda2/envs/python2-essential/lib/python2.7/site-packages/ipykernel_launcher.py:1: SettingWithCopyWarning: \n",
      "A value is trying to be set on a copy of a slice from a DataFrame.\n",
      "Try using .loc[row_indexer,col_indexer] = value instead\n",
      "\n",
      "See the caveats in the documentation: http://pandas.pydata.org/pandas-docs/stable/indexing.html#indexing-view-versus-copy\n",
      "  \"\"\"Entry point for launching an IPython kernel.\n"
     ]
    },
    {
     "data": {
      "text/html": [
       "<div>\n",
       "<style scoped>\n",
       "    .dataframe tbody tr th:only-of-type {\n",
       "        vertical-align: middle;\n",
       "    }\n",
       "\n",
       "    .dataframe tbody tr th {\n",
       "        vertical-align: top;\n",
       "    }\n",
       "\n",
       "    .dataframe thead th {\n",
       "        text-align: right;\n",
       "    }\n",
       "</style>\n",
       "<table border=\"1\" class=\"dataframe\">\n",
       "  <thead>\n",
       "    <tr style=\"text-align: right;\">\n",
       "      <th></th>\n",
       "      <th>Unnamed: 0</th>\n",
       "      <th>n_genes</th>\n",
       "      <th>louvain_edits</th>\n",
       "      <th>n_counts</th>\n",
       "      <th>S_score</th>\n",
       "      <th>G2M_score</th>\n",
       "      <th>phase</th>\n",
       "      <th>avg_S_G2M</th>\n",
       "    </tr>\n",
       "  </thead>\n",
       "  <tbody>\n",
       "    <tr>\n",
       "      <th>2204</th>\n",
       "      <td>GTTACCCAGGCGAACT-1</td>\n",
       "      <td>1308</td>\n",
       "      <td>3</td>\n",
       "      <td>2851.0</td>\n",
       "      <td>-0.363595</td>\n",
       "      <td>-1.340820</td>\n",
       "      <td>G1</td>\n",
       "      <td>-0.852208</td>\n",
       "    </tr>\n",
       "    <tr>\n",
       "      <th>1396</th>\n",
       "      <td>CTCAGAATCCGTTGAA-1</td>\n",
       "      <td>1124</td>\n",
       "      <td>3</td>\n",
       "      <td>2297.0</td>\n",
       "      <td>-1.099430</td>\n",
       "      <td>-0.534187</td>\n",
       "      <td>G1</td>\n",
       "      <td>-0.816809</td>\n",
       "    </tr>\n",
       "    <tr>\n",
       "      <th>896</th>\n",
       "      <td>CAGGCCAGTGAGTAAT-1</td>\n",
       "      <td>1824</td>\n",
       "      <td>3</td>\n",
       "      <td>3863.0</td>\n",
       "      <td>-0.895652</td>\n",
       "      <td>-0.719815</td>\n",
       "      <td>G1</td>\n",
       "      <td>-0.807734</td>\n",
       "    </tr>\n",
       "    <tr>\n",
       "      <th>443</th>\n",
       "      <td>AGGCTGCTCCCTGTTG-1</td>\n",
       "      <td>9705</td>\n",
       "      <td>1</td>\n",
       "      <td>112988.0</td>\n",
       "      <td>-0.424401</td>\n",
       "      <td>-0.879989</td>\n",
       "      <td>G1</td>\n",
       "      <td>-0.652195</td>\n",
       "    </tr>\n",
       "    <tr>\n",
       "      <th>2911</th>\n",
       "      <td>TGTTCCGTCACGAGGA-1</td>\n",
       "      <td>3515</td>\n",
       "      <td>2</td>\n",
       "      <td>13049.0</td>\n",
       "      <td>-0.866054</td>\n",
       "      <td>-0.271030</td>\n",
       "      <td>G1</td>\n",
       "      <td>-0.568542</td>\n",
       "    </tr>\n",
       "  </tbody>\n",
       "</table>\n",
       "</div>"
      ],
      "text/plain": [
       "              Unnamed: 0  n_genes  louvain_edits  n_counts   S_score  G2M_score phase  avg_S_G2M\n",
       "2204  GTTACCCAGGCGAACT-1     1308              3    2851.0 -0.363595  -1.340820    G1  -0.852208\n",
       "1396  CTCAGAATCCGTTGAA-1     1124              3    2297.0 -1.099430  -0.534187    G1  -0.816809\n",
       "896   CAGGCCAGTGAGTAAT-1     1824              3    3863.0 -0.895652  -0.719815    G1  -0.807734\n",
       "443   AGGCTGCTCCCTGTTG-1     9705              1  112988.0 -0.424401  -0.879989    G1  -0.652195\n",
       "2911  TGTTCCGTCACGAGGA-1     3515              2   13049.0 -0.866054  -0.271030    G1  -0.568542"
      ]
     },
     "execution_count": 7,
     "metadata": {},
     "output_type": "execute_result"
    }
   ],
   "source": [
    "g1_barcodes['avg_S_G2M'] = (g1_barcodes['S_score'] + g1_barcodes['G2M_score'])/2.\n",
    "top_g1 = g1_barcodes.sort_values(by=['avg_S_G2M'], ascending=True)[:500]\n",
    "top_g2m = g2m_barcodes.sort_values(by=['G2M_score'], ascending=False)[:500]\n",
    "top_s = s_barcodes.sort_values(by=['S_score'], ascending=False)[:500]\n",
    "\n",
    "print(top_g1.shape[0], top_g2m.shape[0], top_s.shape[0])\n",
    "top_g1.head()"
   ]
  },
  {
   "cell_type": "markdown",
   "metadata": {},
   "source": [
    "# Save to a barcodes file"
   ]
  },
  {
   "cell_type": "code",
   "execution_count": 8,
   "metadata": {},
   "outputs": [],
   "source": [
    "g1_barcodes[['Unnamed: 0']].to_csv(os.path.join(output_dir, '{}_g1_all.txt'.format(prefix)), sep='\\t', index=False, header=False)\n",
    "top_g1[['Unnamed: 0']].to_csv(os.path.join(output_dir,      '{}_g1_top500.txt'.format(prefix)), sep='\\t', index=False, header=False)\n",
    "g2m_barcodes[['Unnamed: 0']].to_csv(os.path.join(output_dir,'{}_g2m_all.txt'.format(prefix)), sep='\\t', index=False, header=False)\n",
    "top_g2m[['Unnamed: 0']].to_csv(os.path.join(output_dir,     '{}_g2m_top500.txt'.format(prefix)), sep='\\t', index=False, header=False)\n",
    "s_barcodes[['Unnamed: 0']].to_csv(os.path.join(output_dir,  '{}_s_all.txt'.format(prefix)), sep='\\t', index=False, header=False)\n",
    "top_s[['Unnamed: 0']].to_csv(os.path.join(output_dir,       '{}_s_top500.txt'.format(prefix)), sep='\\t', index=False, header=False)"
   ]
  },
  {
   "cell_type": "markdown",
   "metadata": {},
   "source": [
    "# Also let's select each louvain cluster and subset too"
   ]
  },
  {
   "cell_type": "code",
   "execution_count": 9,
   "metadata": {},
   "outputs": [
    {
     "data": {
      "text/plain": [
       "0    1040\n",
       "1    1028\n",
       "2     894\n",
       "3     193\n",
       "Name: louvain_edits, dtype: int64"
      ]
     },
     "execution_count": 9,
     "metadata": {},
     "output_type": "execute_result"
    }
   ],
   "source": [
    "rps2_barcodes['louvain_edits'].value_counts()"
   ]
  },
  {
   "cell_type": "code",
   "execution_count": 10,
   "metadata": {},
   "outputs": [
    {
     "name": "stdout",
     "output_type": "stream",
     "text": [
      "(1040, 1028, 894, 193, 0)\n"
     ]
    },
    {
     "data": {
      "text/html": [
       "<div>\n",
       "<style scoped>\n",
       "    .dataframe tbody tr th:only-of-type {\n",
       "        vertical-align: middle;\n",
       "    }\n",
       "\n",
       "    .dataframe tbody tr th {\n",
       "        vertical-align: top;\n",
       "    }\n",
       "\n",
       "    .dataframe thead th {\n",
       "        text-align: right;\n",
       "    }\n",
       "</style>\n",
       "<table border=\"1\" class=\"dataframe\">\n",
       "  <thead>\n",
       "    <tr style=\"text-align: right;\">\n",
       "      <th></th>\n",
       "      <th>Unnamed: 0</th>\n",
       "      <th>n_genes</th>\n",
       "      <th>louvain_edits</th>\n",
       "      <th>n_counts</th>\n",
       "      <th>S_score</th>\n",
       "      <th>G2M_score</th>\n",
       "      <th>phase</th>\n",
       "    </tr>\n",
       "  </thead>\n",
       "  <tbody>\n",
       "    <tr>\n",
       "      <th>0</th>\n",
       "      <td>AAACCCACAGGTACGA-1</td>\n",
       "      <td>4463</td>\n",
       "      <td>0</td>\n",
       "      <td>19455.0</td>\n",
       "      <td>-0.269578</td>\n",
       "      <td>0.010084</td>\n",
       "      <td>G2M</td>\n",
       "    </tr>\n",
       "    <tr>\n",
       "      <th>1</th>\n",
       "      <td>AAACGAAAGGGATGTC-1</td>\n",
       "      <td>4587</td>\n",
       "      <td>0</td>\n",
       "      <td>19799.0</td>\n",
       "      <td>-0.152814</td>\n",
       "      <td>0.091604</td>\n",
       "      <td>G2M</td>\n",
       "    </tr>\n",
       "    <tr>\n",
       "      <th>2</th>\n",
       "      <td>AAACGAAAGTGGTCAG-1</td>\n",
       "      <td>5123</td>\n",
       "      <td>0</td>\n",
       "      <td>25818.0</td>\n",
       "      <td>0.076701</td>\n",
       "      <td>-0.481850</td>\n",
       "      <td>S</td>\n",
       "    </tr>\n",
       "    <tr>\n",
       "      <th>3</th>\n",
       "      <td>AAACGAACACACCTTC-1</td>\n",
       "      <td>6084</td>\n",
       "      <td>0</td>\n",
       "      <td>35347.0</td>\n",
       "      <td>0.068730</td>\n",
       "      <td>0.245169</td>\n",
       "      <td>G2M</td>\n",
       "    </tr>\n",
       "    <tr>\n",
       "      <th>6</th>\n",
       "      <td>AAACGCTGTTAGTCGT-1</td>\n",
       "      <td>4831</td>\n",
       "      <td>0</td>\n",
       "      <td>23326.0</td>\n",
       "      <td>-0.005569</td>\n",
       "      <td>-0.174234</td>\n",
       "      <td>G1</td>\n",
       "    </tr>\n",
       "  </tbody>\n",
       "</table>\n",
       "</div>"
      ],
      "text/plain": [
       "           Unnamed: 0  n_genes  louvain_edits  n_counts   S_score  G2M_score phase\n",
       "0  AAACCCACAGGTACGA-1     4463              0   19455.0 -0.269578   0.010084   G2M\n",
       "1  AAACGAAAGGGATGTC-1     4587              0   19799.0 -0.152814   0.091604   G2M\n",
       "2  AAACGAAAGTGGTCAG-1     5123              0   25818.0  0.076701  -0.481850     S\n",
       "3  AAACGAACACACCTTC-1     6084              0   35347.0  0.068730   0.245169   G2M\n",
       "6  AAACGCTGTTAGTCGT-1     4831              0   23326.0 -0.005569  -0.174234    G1"
      ]
     },
     "execution_count": 10,
     "metadata": {},
     "output_type": "execute_result"
    }
   ],
   "source": [
    "cluster_0 = rps2_barcodes[rps2_barcodes['louvain_edits']==0]\n",
    "cluster_1 = rps2_barcodes[rps2_barcodes['louvain_edits']==1]\n",
    "cluster_2 = rps2_barcodes[rps2_barcodes['louvain_edits']==2]\n",
    "cluster_3 = rps2_barcodes[rps2_barcodes['louvain_edits']==3]\n",
    "cluster_4 = rps2_barcodes[rps2_barcodes['louvain_edits']==4]\n",
    "print(cluster_0.shape[0], cluster_1.shape[0], cluster_2.shape[0], cluster_3.shape[0], cluster_4.shape[0])\n",
    "cluster_0.head()"
   ]
  },
  {
   "cell_type": "code",
   "execution_count": 11,
   "metadata": {},
   "outputs": [],
   "source": [
    "cluster_0[['Unnamed: 0']].to_csv(os.path.join(output_dir, '{}_cluster0.txt'.format(prefix)), sep='\\t', index=False, header=False)\n",
    "cluster_1[['Unnamed: 0']].to_csv(os.path.join(output_dir, '{}_cluster1.txt'.format(prefix)), sep='\\t', index=False, header=False)\n",
    "cluster_2[['Unnamed: 0']].to_csv(os.path.join(output_dir, '{}_cluster2.txt'.format(prefix)), sep='\\t', index=False, header=False)\n",
    "cluster_3[['Unnamed: 0']].to_csv(os.path.join(output_dir, '{}_cluster3.txt'.format(prefix)), sep='\\t', index=False, header=False)\n",
    "# cluster_4[['Unnamed: 0']].to_csv(os.path.join(output_dir, '{}_cluster4.txt'.format(prefix)), sep='\\t', index=False, header=False)"
   ]
  },
  {
   "cell_type": "markdown",
   "metadata": {},
   "source": [
    "# Now let's check the files we just made to make sure the formatting is correct, and then build the commandlines to split the main RPS2 bam file into their respective barcodes."
   ]
  },
  {
   "cell_type": "code",
   "execution_count": 12,
   "metadata": {},
   "outputs": [
    {
     "data": {
      "text/plain": [
       "['/home/bay001/projects/kris_apobec_20200121/permanent_data2/07_scRNA_groups/bam_file_groups/RPS2_escore_barcodes_with_flags_cluster0.txt',\n",
       " '/home/bay001/projects/kris_apobec_20200121/permanent_data2/07_scRNA_groups/bam_file_groups/RPS2_escore_barcodes_with_flags_cluster1.txt',\n",
       " '/home/bay001/projects/kris_apobec_20200121/permanent_data2/07_scRNA_groups/bam_file_groups/RPS2_escore_barcodes_with_flags_cluster2.txt',\n",
       " '/home/bay001/projects/kris_apobec_20200121/permanent_data2/07_scRNA_groups/bam_file_groups/RPS2_escore_barcodes_with_flags_cluster3.txt',\n",
       " '/home/bay001/projects/kris_apobec_20200121/permanent_data2/07_scRNA_groups/bam_file_groups/RPS2_escore_barcodes_with_flags_g1_all.txt',\n",
       " '/home/bay001/projects/kris_apobec_20200121/permanent_data2/07_scRNA_groups/bam_file_groups/RPS2_escore_barcodes_with_flags_g1_top500.txt',\n",
       " '/home/bay001/projects/kris_apobec_20200121/permanent_data2/07_scRNA_groups/bam_file_groups/RPS2_escore_barcodes_with_flags_g2m_all.txt',\n",
       " '/home/bay001/projects/kris_apobec_20200121/permanent_data2/07_scRNA_groups/bam_file_groups/RPS2_escore_barcodes_with_flags_g2m_top500.txt',\n",
       " '/home/bay001/projects/kris_apobec_20200121/permanent_data2/07_scRNA_groups/bam_file_groups/RPS2_escore_barcodes_with_flags_s_all.txt',\n",
       " '/home/bay001/projects/kris_apobec_20200121/permanent_data2/07_scRNA_groups/bam_file_groups/RPS2_escore_barcodes_with_flags_s_top500.txt']"
      ]
     },
     "execution_count": 12,
     "metadata": {},
     "output_type": "execute_result"
    }
   ],
   "source": [
    "all_barcodes_files = sorted(glob.glob(os.path.join(output_dir, '{}*.txt'.format(prefix))))\n",
    "all_barcodes_files"
   ]
  },
  {
   "cell_type": "code",
   "execution_count": 13,
   "metadata": {},
   "outputs": [
    {
     "name": "stdout",
     "output_type": "stream",
     "text": [
      "AAACCCACAGGTACGA-1\n",
      "AAACGAAAGGGATGTC-1\n",
      "AAACGAAAGTGGTCAG-1\n",
      "AAACGAACACACCTTC-1\n",
      "AAACGCTGTTAGTCGT-1\n",
      "AAAGAACGTCGACTTA-1\n",
      "AAAGGTAGTCAAGCGA-1\n",
      "AAAGGTATCATTCGTT-1\n",
      "AAAGTGAGTATCGAGG-1\n",
      "AAAGTGATCGTGCGAC-1\n",
      "AAACGCTAGGAGTCTG-1\n",
      "AAACGCTAGTTGGAAT-1\n",
      "AAAGAACTCGAAGTGG-1\n",
      "AAAGTCCAGTACAACA-1\n",
      "AAAGTCCCACGTACAT-1\n",
      "AAATGGAAGGGTAGCT-1\n",
      "AACAAAGCAGAAGTGC-1\n",
      "AACAAAGGTAGTATAG-1\n",
      "AACAAAGGTCCCTAAA-1\n",
      "AACAAAGTCCACGTAA-1\n",
      "AAAGAACGTATCAGGG-1\n",
      "AAAGAACGTATGGAGC-1\n",
      "AAAGGATAGTATGAGT-1\n",
      "AAAGGTACATCATGAC-1\n",
      "AAAGGTAGTTCTTGTT-1\n",
      "AAAGGTATCCTTCTTC-1\n",
      "AAAGTCCAGGCTAACG-1\n",
      "AAAGTCCCAGAGATGC-1\n",
      "AAAGTGAAGCTATCTG-1\n",
      "AAAGTGACATTGAGCT-1\n",
      "AACCAACCATATCGGT-1\n",
      "AACGAAAGTAGGAGGG-1\n",
      "AAGCGAGCAATGAGCG-1\n",
      "AAGCGAGTCCTCATAT-1\n",
      "AAGGAATCATCGTGGC-1\n",
      "AATGACCAGATGACAT-1\n",
      "AATGGAAAGTAAGAGG-1\n",
      "ACAAAGATCGCCAGAC-1\n",
      "ACATCCCTCTGGGTCG-1\n",
      "ACCCAAAGTGTACAGG-1\n",
      "AAACGCTGTTAGTCGT-1\n",
      "AAAGAACTCGAAGTGG-1\n",
      "AAAGGTAGTCAAGCGA-1\n",
      "AAATGGACAGATACCT-1\n",
      "AACAAAGGTAGTATAG-1\n",
      "AACAACCTCGCGTGCA-1\n",
      "AACAAGAGTCCGGTGT-1\n",
      "AACCACAAGCCTGGAA-1\n",
      "AACCACACACACACTA-1\n",
      "AACCTTTAGGTTATAG-1\n",
      "GTTACCCAGGCGAACT-1\n",
      "CTCAGAATCCGTTGAA-1\n",
      "CAGGCCAGTGAGTAAT-1\n",
      "AGGCTGCTCCCTGTTG-1\n",
      "TGTTCCGTCACGAGGA-1\n",
      "AGAGCCCCAGTTGCGC-1\n",
      "CGGAACCTCAAACGTC-1\n",
      "AGTGCCGCACGCTATA-1\n",
      "GAAACCTCATCGTCCT-1\n",
      "ACTTTCATCGATTGAC-1\n",
      "AAACCCACAGGTACGA-1\n",
      "AAACGAAAGGGATGTC-1\n",
      "AAACGAACACACCTTC-1\n",
      "AAACGCTAGGAGTCTG-1\n",
      "AAACGCTAGTTGGAAT-1\n",
      "AAAGAACGTATCAGGG-1\n",
      "AAAGGATAGTATGAGT-1\n",
      "AAAGGTAGTTCTTGTT-1\n",
      "AAAGGTATCATTCGTT-1\n",
      "AAAGGTATCCTTCTTC-1\n",
      "CAGCACGCAACGTTAC-1\n",
      "CTTCTAAAGAGTCCGA-1\n",
      "CCATCACAGTCACACT-1\n",
      "AAAGGTATCCTTCTTC-1\n",
      "AGACACTAGTCATGCT-1\n",
      "GAAGCCCGTCGTACTA-1\n",
      "TTTCATGTCTCAGGCG-1\n",
      "CAGATACAGGATTTAG-1\n",
      "TCATGTTAGTTCCAGT-1\n",
      "TAGGGTTGTTAAGTCC-1\n",
      "AAACGAAAGTGGTCAG-1\n",
      "AAAGAACGTATGGAGC-1\n",
      "AAAGAACGTCGACTTA-1\n",
      "AAAGGTACATCATGAC-1\n",
      "AAAGTCCAGGCTAACG-1\n",
      "AAAGTCCCAGAGATGC-1\n",
      "AAAGTGACATTGAGCT-1\n",
      "AAAGTGAGTATCGAGG-1\n",
      "AAAGTGATCGTGCGAC-1\n",
      "AAATGGAAGGGTAGCT-1\n",
      "TCGACCTTCAGTGTCA-1\n",
      "TCCTTCTCATGTACGT-1\n",
      "ATTGGGTAGACATCAA-1\n",
      "TATTCCACAAGTTCCA-1\n",
      "ACATCCCTCTGGGTCG-1\n",
      "CAGATACGTCGCTTGG-1\n",
      "AGGTCATGTAGCGTCC-1\n",
      "TACCGAAAGCAGGCTA-1\n",
      "CTTCTAACAAGAAATC-1\n",
      "CTTTCAACATCACAGT-1\n"
     ]
    }
   ],
   "source": [
    "for barcodes_file in all_barcodes_files:\n",
    "    ! head $barcodes_file"
   ]
  },
  {
   "cell_type": "code",
   "execution_count": 14,
   "metadata": {},
   "outputs": [],
   "source": [
    "bam_file = os.path.join(input_dir, 'RPS2-STAMP_possorted_genome_bam_MD.bam')"
   ]
  },
  {
   "cell_type": "code",
   "execution_count": 15,
   "metadata": {},
   "outputs": [],
   "source": [
    "def generate_commandline_for_splitting(bam_file, barcodes_file, output_dir):\n",
    "    cmd = 'module load python3essential;/home/bay001/projects/kris_apobec_20200121/scripts/split_bams.py '\n",
    "    cmd += '--possorted_bam_file {} '.format(bam_file)\n",
    "    cmd += '--barcodes_file {} '.format(barcodes_file)\n",
    "    cmd += '--output_dir {} '.format(output_dir)\n",
    "    cmd += '--group'\n",
    "    return cmd"
   ]
  },
  {
   "cell_type": "code",
   "execution_count": 16,
   "metadata": {},
   "outputs": [
    {
     "data": {
      "text/plain": [
       "['module load python3essential;/home/bay001/projects/kris_apobec_20200121/scripts/split_bams.py --possorted_bam_file /home/bay001/projects/kris_apobec_20200121/permanent_data2/07_scRNA_groups/inputs/RPS2-STAMP_possorted_genome_bam_MD.bam --barcodes_file /home/bay001/projects/kris_apobec_20200121/permanent_data2/07_scRNA_groups/bam_file_groups/RPS2_escore_barcodes_with_flags_cluster0.txt --output_dir /home/bay001/projects/kris_apobec_20200121/permanent_data2/07_scRNA_groups/bam_file_groups/ --group',\n",
       " 'module load python3essential;/home/bay001/projects/kris_apobec_20200121/scripts/split_bams.py --possorted_bam_file /home/bay001/projects/kris_apobec_20200121/permanent_data2/07_scRNA_groups/inputs/RPS2-STAMP_possorted_genome_bam_MD.bam --barcodes_file /home/bay001/projects/kris_apobec_20200121/permanent_data2/07_scRNA_groups/bam_file_groups/RPS2_escore_barcodes_with_flags_cluster1.txt --output_dir /home/bay001/projects/kris_apobec_20200121/permanent_data2/07_scRNA_groups/bam_file_groups/ --group',\n",
       " 'module load python3essential;/home/bay001/projects/kris_apobec_20200121/scripts/split_bams.py --possorted_bam_file /home/bay001/projects/kris_apobec_20200121/permanent_data2/07_scRNA_groups/inputs/RPS2-STAMP_possorted_genome_bam_MD.bam --barcodes_file /home/bay001/projects/kris_apobec_20200121/permanent_data2/07_scRNA_groups/bam_file_groups/RPS2_escore_barcodes_with_flags_cluster2.txt --output_dir /home/bay001/projects/kris_apobec_20200121/permanent_data2/07_scRNA_groups/bam_file_groups/ --group',\n",
       " 'module load python3essential;/home/bay001/projects/kris_apobec_20200121/scripts/split_bams.py --possorted_bam_file /home/bay001/projects/kris_apobec_20200121/permanent_data2/07_scRNA_groups/inputs/RPS2-STAMP_possorted_genome_bam_MD.bam --barcodes_file /home/bay001/projects/kris_apobec_20200121/permanent_data2/07_scRNA_groups/bam_file_groups/RPS2_escore_barcodes_with_flags_cluster3.txt --output_dir /home/bay001/projects/kris_apobec_20200121/permanent_data2/07_scRNA_groups/bam_file_groups/ --group',\n",
       " 'module load python3essential;/home/bay001/projects/kris_apobec_20200121/scripts/split_bams.py --possorted_bam_file /home/bay001/projects/kris_apobec_20200121/permanent_data2/07_scRNA_groups/inputs/RPS2-STAMP_possorted_genome_bam_MD.bam --barcodes_file /home/bay001/projects/kris_apobec_20200121/permanent_data2/07_scRNA_groups/bam_file_groups/RPS2_escore_barcodes_with_flags_g1_all.txt --output_dir /home/bay001/projects/kris_apobec_20200121/permanent_data2/07_scRNA_groups/bam_file_groups/ --group',\n",
       " 'module load python3essential;/home/bay001/projects/kris_apobec_20200121/scripts/split_bams.py --possorted_bam_file /home/bay001/projects/kris_apobec_20200121/permanent_data2/07_scRNA_groups/inputs/RPS2-STAMP_possorted_genome_bam_MD.bam --barcodes_file /home/bay001/projects/kris_apobec_20200121/permanent_data2/07_scRNA_groups/bam_file_groups/RPS2_escore_barcodes_with_flags_g1_top500.txt --output_dir /home/bay001/projects/kris_apobec_20200121/permanent_data2/07_scRNA_groups/bam_file_groups/ --group',\n",
       " 'module load python3essential;/home/bay001/projects/kris_apobec_20200121/scripts/split_bams.py --possorted_bam_file /home/bay001/projects/kris_apobec_20200121/permanent_data2/07_scRNA_groups/inputs/RPS2-STAMP_possorted_genome_bam_MD.bam --barcodes_file /home/bay001/projects/kris_apobec_20200121/permanent_data2/07_scRNA_groups/bam_file_groups/RPS2_escore_barcodes_with_flags_g2m_all.txt --output_dir /home/bay001/projects/kris_apobec_20200121/permanent_data2/07_scRNA_groups/bam_file_groups/ --group',\n",
       " 'module load python3essential;/home/bay001/projects/kris_apobec_20200121/scripts/split_bams.py --possorted_bam_file /home/bay001/projects/kris_apobec_20200121/permanent_data2/07_scRNA_groups/inputs/RPS2-STAMP_possorted_genome_bam_MD.bam --barcodes_file /home/bay001/projects/kris_apobec_20200121/permanent_data2/07_scRNA_groups/bam_file_groups/RPS2_escore_barcodes_with_flags_g2m_top500.txt --output_dir /home/bay001/projects/kris_apobec_20200121/permanent_data2/07_scRNA_groups/bam_file_groups/ --group',\n",
       " 'module load python3essential;/home/bay001/projects/kris_apobec_20200121/scripts/split_bams.py --possorted_bam_file /home/bay001/projects/kris_apobec_20200121/permanent_data2/07_scRNA_groups/inputs/RPS2-STAMP_possorted_genome_bam_MD.bam --barcodes_file /home/bay001/projects/kris_apobec_20200121/permanent_data2/07_scRNA_groups/bam_file_groups/RPS2_escore_barcodes_with_flags_s_all.txt --output_dir /home/bay001/projects/kris_apobec_20200121/permanent_data2/07_scRNA_groups/bam_file_groups/ --group',\n",
       " 'module load python3essential;/home/bay001/projects/kris_apobec_20200121/scripts/split_bams.py --possorted_bam_file /home/bay001/projects/kris_apobec_20200121/permanent_data2/07_scRNA_groups/inputs/RPS2-STAMP_possorted_genome_bam_MD.bam --barcodes_file /home/bay001/projects/kris_apobec_20200121/permanent_data2/07_scRNA_groups/bam_file_groups/RPS2_escore_barcodes_with_flags_s_top500.txt --output_dir /home/bay001/projects/kris_apobec_20200121/permanent_data2/07_scRNA_groups/bam_file_groups/ --group']"
      ]
     },
     "execution_count": 16,
     "metadata": {},
     "output_type": "execute_result"
    }
   ],
   "source": [
    "cmds = []\n",
    "for barcodes_file in all_barcodes_files:\n",
    "    cmds.append(generate_commandline_for_splitting(bam_file, barcodes_file, output_dir))\n",
    "cmds"
   ]
  },
  {
   "cell_type": "code",
   "execution_count": 17,
   "metadata": {},
   "outputs": [
    {
     "name": "stderr",
     "output_type": "stream",
     "text": [
      "Writing 10 tasks as an array-job.\n",
      "Wrote commands to subset_barcodes.sh.\n",
      "Submitted script to queue home.\n",
      " Job ID: 24713067\n"
     ]
    },
    {
     "data": {
      "text/plain": [
       "<qtools.submitter.Submitter at 0x2b0358ecbf50>"
      ]
     },
     "execution_count": 17,
     "metadata": {},
     "output_type": "execute_result"
    }
   ],
   "source": [
    "Submitter(cmds, 'subset_barcodes', array=True, nodes=1, ppn=1, walltime='8:00:00', submit=True)"
   ]
  },
  {
   "cell_type": "code",
   "execution_count": null,
   "metadata": {},
   "outputs": [],
   "source": [
    "# "
   ]
  },
  {
   "cell_type": "code",
   "execution_count": 18,
   "metadata": {},
   "outputs": [
    {
     "data": {
      "text/html": [
       "<div>\n",
       "<style scoped>\n",
       "    .dataframe tbody tr th:only-of-type {\n",
       "        vertical-align: middle;\n",
       "    }\n",
       "\n",
       "    .dataframe tbody tr th {\n",
       "        vertical-align: top;\n",
       "    }\n",
       "\n",
       "    .dataframe thead th {\n",
       "        text-align: right;\n",
       "    }\n",
       "</style>\n",
       "<table border=\"1\" class=\"dataframe\">\n",
       "  <thead>\n",
       "    <tr style=\"text-align: right;\">\n",
       "      <th></th>\n",
       "      <th>index</th>\n",
       "      <th>batch</th>\n",
       "      <th>new_clusters</th>\n",
       "    </tr>\n",
       "  </thead>\n",
       "  <tbody>\n",
       "    <tr>\n",
       "      <th>0</th>\n",
       "      <td>RPS2_possorted_genome_bam_MD-AAACCCACAGGTACGA-1-RPS2-Edits</td>\n",
       "      <td>RPS2-Edits</td>\n",
       "      <td>RPS2-fSTAMP</td>\n",
       "    </tr>\n",
       "    <tr>\n",
       "      <th>1</th>\n",
       "      <td>RPS2_possorted_genome_bam_MD-AAACCCAGTTCCGCAG-1-RPS2-Edits</td>\n",
       "      <td>RPS2-Edits</td>\n",
       "      <td>RPS2-fSTAMP</td>\n",
       "    </tr>\n",
       "    <tr>\n",
       "      <th>2</th>\n",
       "      <td>RPS2_possorted_genome_bam_MD-AAACCCATCCTAGCCT-1-RPS2-Edits</td>\n",
       "      <td>RPS2-Edits</td>\n",
       "      <td>RPS2-fSTAMP</td>\n",
       "    </tr>\n",
       "    <tr>\n",
       "      <th>3</th>\n",
       "      <td>RPS2_possorted_genome_bam_MD-AAACGAAAGGGATGTC-1-RPS2-Edits</td>\n",
       "      <td>RPS2-Edits</td>\n",
       "      <td>RPS2-fSTAMP</td>\n",
       "    </tr>\n",
       "    <tr>\n",
       "      <th>4</th>\n",
       "      <td>RPS2_possorted_genome_bam_MD-AAACGAAAGTGGTCAG-1-RPS2-Edits</td>\n",
       "      <td>RPS2-Edits</td>\n",
       "      <td>RPS2-fSTAMP</td>\n",
       "    </tr>\n",
       "  </tbody>\n",
       "</table>\n",
       "</div>"
      ],
      "text/plain": [
       "                                                        index       batch new_clusters\n",
       "0  RPS2_possorted_genome_bam_MD-AAACCCACAGGTACGA-1-RPS2-Edits  RPS2-Edits  RPS2-fSTAMP\n",
       "1  RPS2_possorted_genome_bam_MD-AAACCCAGTTCCGCAG-1-RPS2-Edits  RPS2-Edits  RPS2-fSTAMP\n",
       "2  RPS2_possorted_genome_bam_MD-AAACCCATCCTAGCCT-1-RPS2-Edits  RPS2-Edits  RPS2-fSTAMP\n",
       "3  RPS2_possorted_genome_bam_MD-AAACGAAAGGGATGTC-1-RPS2-Edits  RPS2-Edits  RPS2-fSTAMP\n",
       "4  RPS2_possorted_genome_bam_MD-AAACGAAAGTGGTCAG-1-RPS2-Edits  RPS2-Edits  RPS2-fSTAMP"
      ]
     },
     "execution_count": 18,
     "metadata": {},
     "output_type": "execute_result"
    }
   ],
   "source": [
    "rps2_barcodes = pd.read_csv(os.path.join(input_dir, 'RPS2_non_APO_edits_barcodes_RPKM.csv'))\n",
    "rps2_barcodes.head()\n"
   ]
  },
  {
   "cell_type": "code",
   "execution_count": 19,
   "metadata": {},
   "outputs": [
    {
     "data": {
      "text/html": [
       "<div>\n",
       "<style scoped>\n",
       "    .dataframe tbody tr th:only-of-type {\n",
       "        vertical-align: middle;\n",
       "    }\n",
       "\n",
       "    .dataframe tbody tr th {\n",
       "        vertical-align: top;\n",
       "    }\n",
       "\n",
       "    .dataframe thead th {\n",
       "        text-align: right;\n",
       "    }\n",
       "</style>\n",
       "<table border=\"1\" class=\"dataframe\">\n",
       "  <thead>\n",
       "    <tr style=\"text-align: right;\">\n",
       "      <th></th>\n",
       "      <th>index</th>\n",
       "      <th>batch</th>\n",
       "      <th>new_clusters</th>\n",
       "      <th>barcode</th>\n",
       "    </tr>\n",
       "  </thead>\n",
       "  <tbody>\n",
       "    <tr>\n",
       "      <th>0</th>\n",
       "      <td>RPS2_possorted_genome_bam_MD-AAACCCACAGGTACGA-1-RPS2-Edits</td>\n",
       "      <td>RPS2-Edits</td>\n",
       "      <td>RPS2-fSTAMP</td>\n",
       "      <td>AAACCCACAGGTACGA-1</td>\n",
       "    </tr>\n",
       "    <tr>\n",
       "      <th>1</th>\n",
       "      <td>RPS2_possorted_genome_bam_MD-AAACCCAGTTCCGCAG-1-RPS2-Edits</td>\n",
       "      <td>RPS2-Edits</td>\n",
       "      <td>RPS2-fSTAMP</td>\n",
       "      <td>AAACCCAGTTCCGCAG-1</td>\n",
       "    </tr>\n",
       "    <tr>\n",
       "      <th>2</th>\n",
       "      <td>RPS2_possorted_genome_bam_MD-AAACCCATCCTAGCCT-1-RPS2-Edits</td>\n",
       "      <td>RPS2-Edits</td>\n",
       "      <td>RPS2-fSTAMP</td>\n",
       "      <td>AAACCCATCCTAGCCT-1</td>\n",
       "    </tr>\n",
       "    <tr>\n",
       "      <th>3</th>\n",
       "      <td>RPS2_possorted_genome_bam_MD-AAACGAAAGGGATGTC-1-RPS2-Edits</td>\n",
       "      <td>RPS2-Edits</td>\n",
       "      <td>RPS2-fSTAMP</td>\n",
       "      <td>AAACGAAAGGGATGTC-1</td>\n",
       "    </tr>\n",
       "    <tr>\n",
       "      <th>4</th>\n",
       "      <td>RPS2_possorted_genome_bam_MD-AAACGAAAGTGGTCAG-1-RPS2-Edits</td>\n",
       "      <td>RPS2-Edits</td>\n",
       "      <td>RPS2-fSTAMP</td>\n",
       "      <td>AAACGAAAGTGGTCAG-1</td>\n",
       "    </tr>\n",
       "  </tbody>\n",
       "</table>\n",
       "</div>"
      ],
      "text/plain": [
       "                                                        index       batch new_clusters             barcode\n",
       "0  RPS2_possorted_genome_bam_MD-AAACCCACAGGTACGA-1-RPS2-Edits  RPS2-Edits  RPS2-fSTAMP  AAACCCACAGGTACGA-1\n",
       "1  RPS2_possorted_genome_bam_MD-AAACCCAGTTCCGCAG-1-RPS2-Edits  RPS2-Edits  RPS2-fSTAMP  AAACCCAGTTCCGCAG-1\n",
       "2  RPS2_possorted_genome_bam_MD-AAACCCATCCTAGCCT-1-RPS2-Edits  RPS2-Edits  RPS2-fSTAMP  AAACCCATCCTAGCCT-1\n",
       "3  RPS2_possorted_genome_bam_MD-AAACGAAAGGGATGTC-1-RPS2-Edits  RPS2-Edits  RPS2-fSTAMP  AAACGAAAGGGATGTC-1\n",
       "4  RPS2_possorted_genome_bam_MD-AAACGAAAGTGGTCAG-1-RPS2-Edits  RPS2-Edits  RPS2-fSTAMP  AAACGAAAGTGGTCAG-1"
      ]
     },
     "execution_count": 19,
     "metadata": {},
     "output_type": "execute_result"
    }
   ],
   "source": [
    "rps2_barcodes['barcode'] = rps2_barcodes['index'].apply(\n",
    "    lambda x: x.replace(\n",
    "        '-RPS2-Edits',''\n",
    "    ).replace(\n",
    "        'RPS2_possorted_genome_bam_MD-',''\n",
    "    )\n",
    ")\n",
    "rps2_barcodes.head()"
   ]
  },
  {
   "cell_type": "code",
   "execution_count": 20,
   "metadata": {},
   "outputs": [],
   "source": [
    "rps2_barcodes[['barcode']].to_csv(\n",
    "    os.path.join(output_dir, 'RPS2_non_APO_edits_barcodes_RPKM.txt'),\n",
    "    sep='\\t',\n",
    "    index=False,\n",
    "    header=False\n",
    ")"
   ]
  },
  {
   "cell_type": "code",
   "execution_count": 21,
   "metadata": {},
   "outputs": [],
   "source": [
    "# check real quick"
   ]
  },
  {
   "cell_type": "code",
   "execution_count": 22,
   "metadata": {},
   "outputs": [
    {
     "name": "stdout",
     "output_type": "stream",
     "text": [
      "AAACCCACAGGTACGA-1\n",
      "AAACCCAGTTCCGCAG-1\n",
      "AAACCCATCCTAGCCT-1\n",
      "AAACGAAAGGGATGTC-1\n",
      "AAACGAAAGTGGTCAG-1\n",
      "AAACGAACACACCTTC-1\n",
      "AAACGAACAGTTAAAG-1\n",
      "AAACGAAGTATGACAA-1\n",
      "AAACGAATCGACGCGT-1\n",
      "AAACGCTAGGAGTCTG-1\n"
     ]
    }
   ],
   "source": [
    "rps2_barcode_formatted_file = os.path.join(output_dir, 'RPS2_non_APO_edits_barcodes_RPKM.txt')\n",
    "! head $rps2_barcode_formatted_file"
   ]
  },
  {
   "cell_type": "code",
   "execution_count": 23,
   "metadata": {},
   "outputs": [
    {
     "data": {
      "text/plain": [
       "['module load python3essential;/home/bay001/projects/kris_apobec_20200121/scripts/split_bams.py --possorted_bam_file /home/bay001/projects/kris_apobec_20200121/permanent_data2/07_scRNA_groups/inputs/RPS2-STAMP_possorted_genome_bam_MD.bam --barcodes_file /home/bay001/projects/kris_apobec_20200121/permanent_data2/07_scRNA_groups/bam_file_groups/RPS2_non_APO_edits_barcodes_RPKM.txt --output_dir /home/bay001/projects/kris_apobec_20200121/permanent_data2/07_scRNA_groups/bam_file_groups/ --group']"
      ]
     },
     "execution_count": 23,
     "metadata": {},
     "output_type": "execute_result"
    }
   ],
   "source": [
    "cmds = []\n",
    "for barcodes_file in [rps2_barcode_formatted_file]:\n",
    "    cmds.append(generate_commandline_for_splitting(bam_file, barcodes_file, output_dir))\n",
    "cmds"
   ]
  },
  {
   "cell_type": "code",
   "execution_count": null,
   "metadata": {},
   "outputs": [],
   "source": []
  }
 ],
 "metadata": {
  "kernelspec": {
   "display_name": "python2-essential",
   "language": "python",
   "name": "python2-essential"
  },
  "language_info": {
   "codemirror_mode": {
    "name": "ipython",
    "version": 2
   },
   "file_extension": ".py",
   "mimetype": "text/x-python",
   "name": "python",
   "nbconvert_exporter": "python",
   "pygments_lexer": "ipython2",
   "version": "2.7.15"
  }
 },
 "nbformat": 4,
 "nbformat_minor": 2
}
