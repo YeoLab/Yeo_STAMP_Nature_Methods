{
 "cells": [
  {
   "cell_type": "markdown",
   "metadata": {},
   "source": [
    "# We need to count the edits across 3'UTRs to compare bulk data to single cell.\n",
    "- Just like for single cell and bulk, we're converting (aggr) edit BED files to BAM files and using those as inputs to featureCounts. \n",
    "- Using 10X three_prime_utr annotations, generate a SAF file using just 3'UTRs and count edits along these regions only.\n",
    "- Just so we have everything, we're counting edits in every single dataset, resulting in a single counts.txt file."
   ]
  },
  {
   "cell_type": "code",
   "execution_count": 1,
   "metadata": {},
   "outputs": [],
   "source": [
    "%matplotlib inline\n",
    "\n",
    "import glob\n",
    "import os\n",
    "import pandas as pd\n",
    "import gffutils\n",
    "import pysam\n",
    "import pybedtools\n",
    "import matplotlib.pyplot as plt\n",
    "import seaborn as sns\n",
    "import matplotlib.pyplot as plt\n",
    "import scipy.stats as stats\n",
    "from collections import OrderedDict\n",
    "from tqdm import tnrange, tqdm_notebook\n",
    "\n",
    "pd.set_option('display.max_columns', 50)"
   ]
  },
  {
   "cell_type": "markdown",
   "metadata": {},
   "source": [
    "# Important! Filter the edit file for conf score\n",
    "- Since we're counting the number of edits found, we'll need to set a cutoff at which we call sites \"edited.\" "
   ]
  },
  {
   "cell_type": "code",
   "execution_count": 2,
   "metadata": {},
   "outputs": [],
   "source": [
    "conf=0.9"
   ]
  },
  {
   "cell_type": "code",
   "execution_count": 3,
   "metadata": {},
   "outputs": [],
   "source": [
    "input_dir = '/home/bay001/projects/kris_apobec_20200121/permanent_data2/07_scRNA_groups/sailor_outputs_groups_deep/combined_outputs_w_cov_info'\n",
    "output_dir = '/home/bay001/projects/kris_apobec_20200121/permanent_data2/07_scRNA_groups/sailor_outputs_groups_deep/edit_featurecounts{}'.format(conf)\n",
    "tmp_dir = '/home/bay001/projects/kris_apobec_20200121/permanent_data2/07_scRNA_groups/sailor_outputs_groups_deep/edit_featurecounts{}/tmp'.format(conf)"
   ]
  },
  {
   "cell_type": "code",
   "execution_count": 4,
   "metadata": {},
   "outputs": [
    {
     "name": "stdout",
     "output_type": "stream",
     "text": [
      "True\n"
     ]
    }
   ],
   "source": [
    "# Just make sure the path exists...\n",
    "if not os.path.exists(tmp_dir):\n",
    "    ! mkdir -p $tmp_dir\n",
    "print(os.path.exists(tmp_dir))"
   ]
  },
  {
   "cell_type": "markdown",
   "metadata": {},
   "source": [
    "# Convert BED to BAM\n",
    "- every 'alignment' is an edit site. \n",
    "- .fx means that the 'chr' is affixed to the ensembl-style chromosome. We don't actually want that (actually grabbing the 'nonfx' files), but I can't figure out a way to glob while excluding these fx bedfiles. So I'm going to glob these and assume a specific naming schema. Dumb, I know."
   ]
  },
  {
   "cell_type": "code",
   "execution_count": 5,
   "metadata": {},
   "outputs": [
    {
     "name": "stdout",
     "output_type": "stream",
     "text": [
      "14\n"
     ]
    },
    {
     "data": {
      "text/plain": [
       "['/home/bay001/projects/kris_apobec_20200121/permanent_data2/07_scRNA_groups/sailor_outputs_groups_deep/combined_outputs_w_cov_info/RPS2-STAMP_possorted_genome_bam-RPS2_STAMP_Apo_filtered_lenti_common_expression_barcodes.txt.bed',\n",
       " '/home/bay001/projects/kris_apobec_20200121/permanent_data2/07_scRNA_groups/sailor_outputs_groups_deep/combined_outputs_w_cov_info/RPS2-STAMP_possorted_genome_bam_MD-RPS2_STAMP_Apo_filtered_lenti_common_expression_barcodes.txt.downsampled50M.bed',\n",
       " '/home/bay001/projects/kris_apobec_20200121/permanent_data2/07_scRNA_groups/sailor_outputs_groups_deep/combined_outputs_w_cov_info/RPS2-STAMP_possorted_genome_bam_MD-RPS2_STAMP_Apo_filtered_lenti_common_expression_barcodes.txt.bed']"
      ]
     },
     "execution_count": 5,
     "metadata": {},
     "output_type": "execute_result"
    }
   ],
   "source": [
    "all_bed_files = []\n",
    "_ = sorted(glob.glob(os.path.join(input_dir, '*.fx.bed'))) \n",
    "for b in _:\n",
    "    all_bed_files.append(b.replace('.fx.bed','.bed'))\n",
    "    assert os.path.exists(b.replace('.fx.bed','.bed'))\n",
    "print(len(all_bed_files))\n",
    "all_bed_files[:3]"
   ]
  },
  {
   "cell_type": "code",
   "execution_count": 6,
   "metadata": {},
   "outputs": [],
   "source": [
    "def filter_bed(input_bed, output_bed, conf):\n",
    "    \"\"\"\n",
    "    Filters the BED file \n",
    "    \"\"\"\n",
    "    edit_head = ['chrom','start','end','conf','frac','strand']\n",
    "    df = pd.read_table(input_bed, names=edit_head)\n",
    "    df = df[df['conf']>=conf]\n",
    "    df.to_csv(output_bed, sep='\\t', header=False, index=False)"
   ]
  },
  {
   "cell_type": "markdown",
   "metadata": {},
   "source": [
    "# Basically filter for conf, perform bedToBam and samtools sort on these guys."
   ]
  },
  {
   "cell_type": "code",
   "execution_count": 7,
   "metadata": {},
   "outputs": [
    {
     "data": {
      "application/vnd.jupyter.widget-view+json": {
       "model_id": "c525279895e547158df86d0811e68e97",
       "version_major": 2,
       "version_minor": 0
      },
      "text/plain": [
       "HBox(children=(IntProgress(value=0, max=14), HTML(value='')))"
      ]
     },
     "metadata": {},
     "output_type": "display_data"
    },
    {
     "name": "stderr",
     "output_type": "stream",
     "text": [
      "/projects/ps-yeolab4/software/yeolabconda3/envs/python3essential-0.0.1/lib/python3.6/site-packages/ipykernel_launcher.py:6: FutureWarning: read_table is deprecated, use read_csv instead, passing sep='\\t'.\n",
      "  \n",
      "/projects/ps-yeolab4/software/yeolabconda3/envs/python3essential-0.0.1/lib/python3.6/site-packages/IPython/core/interactiveshell.py:3249: DtypeWarning: Columns (0) have mixed types. Specify dtype option on import or set low_memory=False.\n",
      "  if (await self.run_code(code, result,  async_=asy)):\n"
     ]
    }
   ],
   "source": [
    "genome = '/home/bay001/projects/kris_apobec_20200121/permanent_data2/07_scRNA_groups/inputs/refdata-cellranger-hg19_lenti_common-3.0.0/star/chrNameLength.txt'\n",
    "progress = tnrange(len(all_bed_files))\n",
    "for bed in all_bed_files:\n",
    "    output_bam = os.path.join(tmp_dir, os.path.basename(bed).replace('.bed','.bam'))\n",
    "    output_sorted_bam = os.path.join(tmp_dir, os.path.basename(bed).replace('.bed','.sorted.bam'))\n",
    "    filter_fn = os.path.join(tmp_dir, os.path.basename(bed) + \".{}.bed\".format(conf))\n",
    "    filter_bed(bed, filter_fn, conf)\n",
    "    cmd = 'bedToBam '\n",
    "    cmd += '-i {} '.format(filter_fn)\n",
    "    cmd += '-g {} '.format(genome)\n",
    "    cmd += '> {}'.format(output_bam)\n",
    "    # print(cmd)  # debug\n",
    "    ! $cmd\n",
    "    sort_cmd = 'samtools sort {} > {}'.format(output_bam, output_sorted_bam)\n",
    "    ! $sort_cmd\n",
    "    # print(sort_cmd)\n",
    "    progress.update(1)"
   ]
  },
  {
   "cell_type": "markdown",
   "metadata": {},
   "source": [
    "# Run featureCounts to get the number of edits assigned to each gene."
   ]
  },
  {
   "cell_type": "code",
   "execution_count": 8,
   "metadata": {},
   "outputs": [],
   "source": [
    "gtf = '/home/bay001/projects/kris_apobec_20200121/permanent_data2/07_scRNA_groups/inputs/refdata-cellranger-hg19_lenti_common-3.0.0/genes/genes.gtf'"
   ]
  },
  {
   "cell_type": "raw",
   "metadata": {},
   "source": [
    "module load subreadfeaturecounts;featureCounts -O -a /home/bay001/projects/kris_apobec_20200121/permanent_data2/07_scRNA_groups/inputs/refdata-cellranger-hg19_lenti_common-3.0.0/genes/genes.gtf -s 1 -o /home/bay001/projects/kris_apobec_20200121/permanent_data2/07_scRNA_groups/sailor_outputs_groups/edit_featurecounts0.9/counts_at_conf_0.9.txt -R CORE /home/bay001/projects/kris_apobec_20200121/permanent_data2/07_scRNA_groups/sailor_outputs_groups/edit_featurecounts0.9/tmp/*.sorted.bam"
   ]
  },
  {
   "cell_type": "code",
   "execution_count": 9,
   "metadata": {},
   "outputs": [
    {
     "name": "stdout",
     "output_type": "stream",
     "text": [
      "Command: [module load subreadfeaturecounts;featureCounts -a /home/bay001/projects/kris_apobec_20200121/permanent_data2/07_scRNA_groups/inputs/refdata-cellranger-hg19_lenti_common-3.0.0/genes/genes.gtf -s 1 -o /home/bay001/projects/kris_apobec_20200121/permanent_data2/07_scRNA_groups/sailor_outputs_groups_deep/edit_featurecounts0.9/counts_at_conf_0.9.txt -R CORE /home/bay001/projects/kris_apobec_20200121/permanent_data2/07_scRNA_groups/sailor_outputs_groups_deep/edit_featurecounts0.9/tmp/*.sorted.bam > counts.log 2>&1]\n",
      "Writing to: /home/bay001/projects/kris_apobec_20200121/permanent_data2/07_scRNA_groups/sailor_outputs_groups_deep/edit_featurecounts0.9/counts_at_conf_0.9.txt \n"
     ]
    }
   ],
   "source": [
    "cmd = 'module load subreadfeaturecounts;featureCounts '\n",
    "cmd += '-a {} '.format(gtf)\n",
    "cmd += '-s 1 '\n",
    "# cmd += '-O '\n",
    "cmd += '-o {}'.format(os.path.join(output_dir, 'counts_at_conf_{}.txt '.format(conf)))\n",
    "cmd += '-R CORE '\n",
    "cmd += os.path.join(tmp_dir, '*.sorted.bam')\n",
    "cmd += ' > counts.log 2>&1'\n",
    "\n",
    "print(\"Command: [{}]\".format(cmd))\n",
    "print(\"Writing to: {}\".format(os.path.join(output_dir, 'counts_at_conf_{}.txt '.format(conf))))\n",
    "\n",
    "! $cmd"
   ]
  },
  {
   "cell_type": "markdown",
   "metadata": {},
   "source": [
    "# Let's run featureCounts using just the CDS, in addition to the whole gene.\n",
    "- Now we're using 10X annotations so it'll be easier to compare to sc data.\n",
    "- Just so I don't have to keep checking this, the sc notebook pulls data from the 'lenti-common' gtf, which is different from the below reference by only one line (the lenti common contig). The 3'UTRs are exactly the same.\n",
    "- this is in rebuttal for RPS STAMP sc vs bulk comparisons. Compare the CDS"
   ]
  },
  {
   "cell_type": "markdown",
   "metadata": {},
   "source": [
    "#### Simply grep for 'CDS' tab from GTF file to get all CDS annotations."
   ]
  },
  {
   "cell_type": "code",
   "execution_count": 10,
   "metadata": {},
   "outputs": [],
   "source": [
    "gtf_cds_file = os.path.join(tmp_dir, 'genes.cds.gtf')\n",
    "\n",
    "! grep --color -P '\\tCDS\\t' $gtf > $gtf_cds_file"
   ]
  },
  {
   "cell_type": "markdown",
   "metadata": {},
   "source": [
    "#### Now re-format gtf-formatted file into an SAF-formatted file. "
   ]
  },
  {
   "cell_type": "code",
   "execution_count": 11,
   "metadata": {},
   "outputs": [
    {
     "name": "stderr",
     "output_type": "stream",
     "text": [
      "/projects/ps-yeolab4/software/yeolabconda3/envs/python3essential-0.0.1/lib/python3.6/site-packages/pandas/io/parsers.py:702: UserWarning: Duplicate names specified. This will raise an error in the future.\n",
      "  return _read(filepath_or_buffer, kwds)\n",
      "/projects/ps-yeolab4/software/yeolabconda3/envs/python3essential-0.0.1/lib/python3.6/site-packages/IPython/core/interactiveshell.py:3058: DtypeWarning: Columns (0) have mixed types. Specify dtype option on import or set low_memory=False.\n",
      "  interactivity=interactivity, compiler=compiler, result=result)\n"
     ]
    },
    {
     "ename": "KeyError",
     "evalue": "\"['chromfx'] not in index\"",
     "output_type": "error",
     "traceback": [
      "\u001b[0;31m---------------------------------------------------------------------------\u001b[0m",
      "\u001b[0;31mKeyError\u001b[0m                                  Traceback (most recent call last)",
      "\u001b[0;32m<ipython-input-11-7f778d2998ae>\u001b[0m in \u001b[0;36m<module>\u001b[0;34m\u001b[0m\n\u001b[1;32m      2\u001b[0m \u001b[0mgtf_cds\u001b[0m\u001b[0;34m[\u001b[0m\u001b[0;34m'geneid'\u001b[0m\u001b[0;34m]\u001b[0m \u001b[0;34m=\u001b[0m \u001b[0mgtf_cds\u001b[0m\u001b[0;34m[\u001b[0m\u001b[0;34m'attr'\u001b[0m\u001b[0;34m]\u001b[0m\u001b[0;34m.\u001b[0m\u001b[0mstr\u001b[0m\u001b[0;34m.\u001b[0m\u001b[0mextract\u001b[0m\u001b[0;34m(\u001b[0m\u001b[0;34m\"gene_id \\\"([\\w\\d\\.]+)\\\"\"\u001b[0m\u001b[0;34m)\u001b[0m\u001b[0;34m\u001b[0m\u001b[0;34m\u001b[0m\u001b[0m\n\u001b[1;32m      3\u001b[0m \u001b[0;31m# gtf_cds['chromfx'] = 'chr' + gtf_cds['chrom'].astype(str)\u001b[0m\u001b[0;34m\u001b[0m\u001b[0;34m\u001b[0m\u001b[0;34m\u001b[0m\u001b[0m\n\u001b[0;32m----> 4\u001b[0;31m \u001b[0mgtf_cds\u001b[0m \u001b[0;34m=\u001b[0m \u001b[0mgtf_cds\u001b[0m\u001b[0;34m[\u001b[0m\u001b[0;34m[\u001b[0m\u001b[0;34m'geneid'\u001b[0m\u001b[0;34m,\u001b[0m\u001b[0;34m'chromfx'\u001b[0m\u001b[0;34m,\u001b[0m\u001b[0;34m'start'\u001b[0m\u001b[0;34m,\u001b[0m\u001b[0;34m'end'\u001b[0m\u001b[0;34m,\u001b[0m\u001b[0;34m'strand'\u001b[0m\u001b[0;34m]\u001b[0m\u001b[0;34m]\u001b[0m\u001b[0;34m\u001b[0m\u001b[0;34m\u001b[0m\u001b[0m\n\u001b[0m\u001b[1;32m      5\u001b[0m \u001b[0mgtf_cds\u001b[0m\u001b[0;34m.\u001b[0m\u001b[0mhead\u001b[0m\u001b[0;34m(\u001b[0m\u001b[0;34m)\u001b[0m\u001b[0;34m\u001b[0m\u001b[0;34m\u001b[0m\u001b[0m\n",
      "\u001b[0;32m/projects/ps-yeolab4/software/yeolabconda3/envs/python3essential-0.0.1/lib/python3.6/site-packages/pandas/core/frame.py\u001b[0m in \u001b[0;36m__getitem__\u001b[0;34m(self, key)\u001b[0m\n\u001b[1;32m   2932\u001b[0m                 \u001b[0mkey\u001b[0m \u001b[0;34m=\u001b[0m \u001b[0mlist\u001b[0m\u001b[0;34m(\u001b[0m\u001b[0mkey\u001b[0m\u001b[0;34m)\u001b[0m\u001b[0;34m\u001b[0m\u001b[0;34m\u001b[0m\u001b[0m\n\u001b[1;32m   2933\u001b[0m             indexer = self.loc._convert_to_indexer(key, axis=1,\n\u001b[0;32m-> 2934\u001b[0;31m                                                    raise_missing=True)\n\u001b[0m\u001b[1;32m   2935\u001b[0m \u001b[0;34m\u001b[0m\u001b[0m\n\u001b[1;32m   2936\u001b[0m         \u001b[0;31m# take() does not accept boolean indexers\u001b[0m\u001b[0;34m\u001b[0m\u001b[0;34m\u001b[0m\u001b[0;34m\u001b[0m\u001b[0m\n",
      "\u001b[0;32m/projects/ps-yeolab4/software/yeolabconda3/envs/python3essential-0.0.1/lib/python3.6/site-packages/pandas/core/indexing.py\u001b[0m in \u001b[0;36m_convert_to_indexer\u001b[0;34m(self, obj, axis, is_setter, raise_missing)\u001b[0m\n\u001b[1;32m   1352\u001b[0m                 kwargs = {'raise_missing': True if is_setter else\n\u001b[1;32m   1353\u001b[0m                           raise_missing}\n\u001b[0;32m-> 1354\u001b[0;31m                 \u001b[0;32mreturn\u001b[0m \u001b[0mself\u001b[0m\u001b[0;34m.\u001b[0m\u001b[0m_get_listlike_indexer\u001b[0m\u001b[0;34m(\u001b[0m\u001b[0mobj\u001b[0m\u001b[0;34m,\u001b[0m \u001b[0maxis\u001b[0m\u001b[0;34m,\u001b[0m \u001b[0;34m**\u001b[0m\u001b[0mkwargs\u001b[0m\u001b[0;34m)\u001b[0m\u001b[0;34m[\u001b[0m\u001b[0;36m1\u001b[0m\u001b[0;34m]\u001b[0m\u001b[0;34m\u001b[0m\u001b[0;34m\u001b[0m\u001b[0m\n\u001b[0m\u001b[1;32m   1355\u001b[0m         \u001b[0;32melse\u001b[0m\u001b[0;34m:\u001b[0m\u001b[0;34m\u001b[0m\u001b[0;34m\u001b[0m\u001b[0m\n\u001b[1;32m   1356\u001b[0m             \u001b[0;32mtry\u001b[0m\u001b[0;34m:\u001b[0m\u001b[0;34m\u001b[0m\u001b[0;34m\u001b[0m\u001b[0m\n",
      "\u001b[0;32m/projects/ps-yeolab4/software/yeolabconda3/envs/python3essential-0.0.1/lib/python3.6/site-packages/pandas/core/indexing.py\u001b[0m in \u001b[0;36m_get_listlike_indexer\u001b[0;34m(self, key, axis, raise_missing)\u001b[0m\n\u001b[1;32m   1159\u001b[0m         self._validate_read_indexer(keyarr, indexer,\n\u001b[1;32m   1160\u001b[0m                                     \u001b[0mo\u001b[0m\u001b[0;34m.\u001b[0m\u001b[0m_get_axis_number\u001b[0m\u001b[0;34m(\u001b[0m\u001b[0maxis\u001b[0m\u001b[0;34m)\u001b[0m\u001b[0;34m,\u001b[0m\u001b[0;34m\u001b[0m\u001b[0;34m\u001b[0m\u001b[0m\n\u001b[0;32m-> 1161\u001b[0;31m                                     raise_missing=raise_missing)\n\u001b[0m\u001b[1;32m   1162\u001b[0m         \u001b[0;32mreturn\u001b[0m \u001b[0mkeyarr\u001b[0m\u001b[0;34m,\u001b[0m \u001b[0mindexer\u001b[0m\u001b[0;34m\u001b[0m\u001b[0;34m\u001b[0m\u001b[0m\n\u001b[1;32m   1163\u001b[0m \u001b[0;34m\u001b[0m\u001b[0m\n",
      "\u001b[0;32m/projects/ps-yeolab4/software/yeolabconda3/envs/python3essential-0.0.1/lib/python3.6/site-packages/pandas/core/indexing.py\u001b[0m in \u001b[0;36m_validate_read_indexer\u001b[0;34m(self, key, indexer, axis, raise_missing)\u001b[0m\n\u001b[1;32m   1250\u001b[0m             \u001b[0;32mif\u001b[0m \u001b[0;32mnot\u001b[0m\u001b[0;34m(\u001b[0m\u001b[0mself\u001b[0m\u001b[0;34m.\u001b[0m\u001b[0mname\u001b[0m \u001b[0;34m==\u001b[0m \u001b[0;34m'loc'\u001b[0m \u001b[0;32mand\u001b[0m \u001b[0;32mnot\u001b[0m \u001b[0mraise_missing\u001b[0m\u001b[0;34m)\u001b[0m\u001b[0;34m:\u001b[0m\u001b[0;34m\u001b[0m\u001b[0;34m\u001b[0m\u001b[0m\n\u001b[1;32m   1251\u001b[0m                 \u001b[0mnot_found\u001b[0m \u001b[0;34m=\u001b[0m \u001b[0mlist\u001b[0m\u001b[0;34m(\u001b[0m\u001b[0mset\u001b[0m\u001b[0;34m(\u001b[0m\u001b[0mkey\u001b[0m\u001b[0;34m)\u001b[0m \u001b[0;34m-\u001b[0m \u001b[0mset\u001b[0m\u001b[0;34m(\u001b[0m\u001b[0max\u001b[0m\u001b[0;34m)\u001b[0m\u001b[0;34m)\u001b[0m\u001b[0;34m\u001b[0m\u001b[0;34m\u001b[0m\u001b[0m\n\u001b[0;32m-> 1252\u001b[0;31m                 \u001b[0;32mraise\u001b[0m \u001b[0mKeyError\u001b[0m\u001b[0;34m(\u001b[0m\u001b[0;34m\"{} not in index\"\u001b[0m\u001b[0;34m.\u001b[0m\u001b[0mformat\u001b[0m\u001b[0;34m(\u001b[0m\u001b[0mnot_found\u001b[0m\u001b[0;34m)\u001b[0m\u001b[0;34m)\u001b[0m\u001b[0;34m\u001b[0m\u001b[0;34m\u001b[0m\u001b[0m\n\u001b[0m\u001b[1;32m   1253\u001b[0m \u001b[0;34m\u001b[0m\u001b[0m\n\u001b[1;32m   1254\u001b[0m             \u001b[0;31m# we skip the warning on Categorical/Interval\u001b[0m\u001b[0;34m\u001b[0m\u001b[0;34m\u001b[0m\u001b[0;34m\u001b[0m\u001b[0m\n",
      "\u001b[0;31mKeyError\u001b[0m: \"['chromfx'] not in index\""
     ]
    }
   ],
   "source": [
    "gtf_cds = pd.read_csv(gtf_cds_file, names=['chrom','src','region','start','end','.','strand','.','attr'], sep='\\t')\n",
    "gtf_cds['geneid'] = gtf_cds['attr'].str.extract(\"gene_id \\\"([\\w\\d\\.]+)\\\"\")\n",
    "# gtf_cds['chromfx'] = 'chr' + gtf_cds['chrom'].astype(str)\n",
    "gtf_cds = gtf_cds[['geneid','chromfx','start','end','strand']]\n",
    "gtf_cds.head()"
   ]
  },
  {
   "cell_type": "code",
   "execution_count": null,
   "metadata": {},
   "outputs": [],
   "source": [
    "gtf_cds.to_csv(\n",
    "    os.path.join(input_dir, 'genes.cds_only.SAF'),\n",
    "    sep='\\t',\n",
    "    index=False,\n",
    "    header=False\n",
    ")"
   ]
  },
  {
   "cell_type": "code",
   "execution_count": null,
   "metadata": {},
   "outputs": [],
   "source": [
    "saf = os.path.join(input_dir, 'genes.cds_only.SAF')"
   ]
  },
  {
   "cell_type": "markdown",
   "metadata": {},
   "source": [
    "#### Run featureCounts using the SAF file that was creating from just the CDS."
   ]
  },
  {
   "cell_type": "code",
   "execution_count": null,
   "metadata": {},
   "outputs": [],
   "source": [
    "cmd = 'module load subreadfeaturecounts;featureCounts '\n",
    "cmd += '-a {} '.format(saf)\n",
    "cmd += '-F SAF '\n",
    "cmd += '-s 1 '\n",
    "cmd += '-o {}'.format(os.path.join(output_dir, 'counts_at_conf_{}.cds.txt '.format(conf)))\n",
    "cmd += '-R CORE '\n",
    "cmd += os.path.join(tmp_dir, '*.sorted.bam')\n",
    "\n",
    "print(\"writing to: {}\".format(os.path.join(output_dir, 'counts_at_conf_{}.cds.txt '.format(conf))))\n",
    "\n",
    "! $cmd"
   ]
  },
  {
   "cell_type": "markdown",
   "metadata": {},
   "source": [
    "# Let's run featureCounts using 3utrs also, in addition to the whole gene."
   ]
  },
  {
   "cell_type": "markdown",
   "metadata": {},
   "source": [
    "### First make an annotation SAF file from our GTF file by simply grepping for three_prime_utr regions."
   ]
  },
  {
   "cell_type": "code",
   "execution_count": null,
   "metadata": {},
   "outputs": [],
   "source": [
    "gtf_3utr_file = os.path.join(tmp_dir, 'genes.three_prime_utr_only.gtf')\n",
    "\n",
    "! grep --color 'three_prime_utr' $gtf > $gtf_3utr_file"
   ]
  },
  {
   "cell_type": "code",
   "execution_count": null,
   "metadata": {},
   "outputs": [],
   "source": [
    "gtf_3utr = pd.read_csv(gtf_3utr_file, names=['chrom','src','region','start','end','.','strand','.','attr'], sep='\\t')\n",
    "gtf_3utr['geneid'] = gtf_3utr['attr'].str.extract(\"gene_id \\\"([\\w\\d\\.]+)\\\"\")\n",
    "gtf_3utr = gtf_3utr[['geneid','chrom','start','end','strand']]\n",
    "gtf_3utr.head()"
   ]
  },
  {
   "cell_type": "code",
   "execution_count": null,
   "metadata": {},
   "outputs": [],
   "source": [
    "gtf_3utr.to_csv(\n",
    "    os.path.join(input_dir, 'genes.three_prime_utr_only.SAF'),\n",
    "    sep='\\t',\n",
    "    index=False,\n",
    "    header=False\n",
    ")"
   ]
  },
  {
   "cell_type": "code",
   "execution_count": null,
   "metadata": {},
   "outputs": [],
   "source": [
    "saf = os.path.join(input_dir, 'genes.three_prime_utr_only.SAF')"
   ]
  },
  {
   "cell_type": "markdown",
   "metadata": {},
   "source": [
    "### Run featureCounts"
   ]
  },
  {
   "cell_type": "code",
   "execution_count": null,
   "metadata": {},
   "outputs": [],
   "source": [
    "cmd = 'module load subreadfeaturecounts;featureCounts '\n",
    "cmd += '-a {} '.format(saf)\n",
    "cmd += '-F SAF '\n",
    "cmd += '-s 1 '\n",
    "cmd += '-o {}'.format(os.path.join(output_dir, 'counts_at_conf_{}.three_prime_utr.txt '.format(conf)))\n",
    "cmd += '-R CORE '\n",
    "cmd += os.path.join(tmp_dir, '*.sorted.bam')\n",
    "cmd += ' > three_prime_utr_counts.log 2>&1'\n",
    "\n",
    "print(\"Command is [{}]\".format(cmd))\n",
    "print(\"Writing to: {}\".format(os.path.join(output_dir, 'counts_at_conf_{}.three_prime_utr.txt '.format(conf))))\n",
    "\n",
    "! $cmd"
   ]
  },
  {
   "cell_type": "markdown",
   "metadata": {},
   "source": [
    "### One of these groups had a really low gene assignment %, let's check it out\n",
    "- The offending sample is the 10X Apo aggregate of all cells\n",
    "- Looking at the alignments on IGV, mostly seems to be: annotated as 'intronic', on opposite strand, or possibly in an unannotated UTR/exon"
   ]
  },
  {
   "cell_type": "code",
   "execution_count": null,
   "metadata": {},
   "outputs": [],
   "source": [
    "df = pd.read_csv(os.path.join(output_dir, 'counts_at_conf_{}.txt.summary'.format(conf)), sep='\\t')\n",
    "# df.columns = [c.replace(tmp_dir, '') for c in df.columns]\n",
    "df"
   ]
  },
  {
   "cell_type": "code",
   "execution_count": null,
   "metadata": {},
   "outputs": [],
   "source": [
    "for c in df.columns:\n",
    "    print(c)"
   ]
  },
  {
   "cell_type": "code",
   "execution_count": null,
   "metadata": {},
   "outputs": [],
   "source": []
  }
 ],
 "metadata": {
  "kernelspec": {
   "display_name": "python3essential (tscc)",
   "language": "python",
   "name": "python3essential"
  },
  "language_info": {
   "codemirror_mode": {
    "name": "ipython",
    "version": 3
   },
   "file_extension": ".py",
   "mimetype": "text/x-python",
   "name": "python",
   "nbconvert_exporter": "python",
   "pygments_lexer": "ipython3",
   "version": "3.6.7"
  }
 },
 "nbformat": 4,
 "nbformat_minor": 4
}
