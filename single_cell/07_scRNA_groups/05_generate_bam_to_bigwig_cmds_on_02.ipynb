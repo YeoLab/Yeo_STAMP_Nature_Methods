{
 "cells": [
  {
   "cell_type": "markdown",
   "metadata": {},
   "source": [
    "# We need bigwig files for fast access to coverage (used by the score_edits_* scripts)\n",
    "- Used when computing edit/C metric\n",
    "- this notebook assumes a reverse stranded SE library. Otherwise you may need to reverse the ```-strand +``` param"
   ]
  },
  {
   "cell_type": "code",
   "execution_count": 1,
   "metadata": {},
   "outputs": [],
   "source": [
    "import glob\n",
    "import os\n",
    "from qtools import Submitter\n",
    "from tqdm import tnrange, tqdm_notebook"
   ]
  },
  {
   "cell_type": "code",
   "execution_count": 2,
   "metadata": {},
   "outputs": [],
   "source": [
    "input_dir = '/home/bay001/projects/kris_apobec_20200121/permanent_data2/07_scRNA_groups/sailor_outputs_groups_deep/'\n",
    "output_dir = '/home/bay001/projects/kris_apobec_20200121/permanent_data2/07_scRNA_groups/sailor_outputs_groups_deep/combined_outputs_w_cov_info'"
   ]
  },
  {
   "cell_type": "markdown",
   "metadata": {},
   "source": [
    "### inputs should be the two ```*.sorted.rmdup.readfiltered.bam``` files that are intermediates from SAILOR. These are BAM files, split into their respective strands, and filtered for any low-quality or unexpected (non C/T) reads."
   ]
  },
  {
   "cell_type": "code",
   "execution_count": 6,
   "metadata": {},
   "outputs": [
    {
     "name": "stdout",
     "output_type": "stream",
     "text": [
      "19\n"
     ]
    },
    {
     "data": {
      "text/plain": [
       "['/home/bay001/projects/kris_apobec_20200121/permanent_data2/07_scRNA_groups/sailor_outputs_groups_deep/RBFOX2-TIA1-STAMP_possorted_genome_bam_MD-33_barcodes.tsv/results/RBFOX2-TIA1-STAMP_possorted_genome_bam_MD-33_barcodes.tsv.fwd.sorted.rmdup.readfiltered.bam',\n",
       " '/home/bay001/projects/kris_apobec_20200121/permanent_data2/07_scRNA_groups/sailor_outputs_groups_deep/RBFOX2-TIA1-STAMP_round2E_read1_feature_FB_possorted_genome_bam_MD-35_barcodes.tsv/results/RBFOX2-TIA1-STAMP_round2E_read1_feature_FB_possorted_genome_bam_MD-35_barcodes.tsv.fwd.sorted.rmdup.readfiltered.bam',\n",
       " '/home/bay001/projects/kris_apobec_20200121/permanent_data2/07_scRNA_groups/sailor_outputs_groups_deep/RPS2-STAMP_possorted_genome_bam-RPS2_STAMP_Apo_filtered_lenti_common_expression_barcodes.txt/results/RPS2-STAMP_possorted_genome_bam-RPS2_STAMP_Apo_filtered_lenti_common_expression_barcodes.txt.fwd.sorted.rmdup.readfiltered.bam',\n",
       " '/home/bay001/projects/kris_apobec_20200121/permanent_data2/07_scRNA_groups/sailor_outputs_groups_deep/RPS2-STAMP_possorted_genome_bam_MD-2/results/RPS2-STAMP_possorted_genome_bam_MD.fwd.sorted.rmdup.readfiltered.bam',\n",
       " '/home/bay001/projects/kris_apobec_20200121/permanent_data2/07_scRNA_groups/sailor_outputs_groups_deep/RPS2-STAMP_possorted_genome_bam_MD-38_barcodes.tsv/results/RPS2-STAMP_possorted_genome_bam_MD-38_barcodes.tsv.fwd.sorted.rmdup.readfiltered.bam',\n",
       " '/home/bay001/projects/kris_apobec_20200121/permanent_data2/07_scRNA_groups/sailor_outputs_groups_deep/RPS2-STAMP_possorted_genome_bam_MD-RPS2_STAMP_Apo_filtered_lenti_common_expression_barcodes.txt.downsampled50M/results/RPS2-STAMP_possorted_genome_bam_MD-RPS2_STAMP_Apo_filtered_lenti_common_expression_barcodes.txt.downsampled50M.fwd.sorted.rmdup.readfiltered.bam',\n",
       " '/home/bay001/projects/kris_apobec_20200121/permanent_data2/07_scRNA_groups/sailor_outputs_groups_deep/RPS2-STAMP_possorted_genome_bam_MD-RPS2_STAMP_Apo_filtered_lenti_common_expression_barcodes.txt/results/RPS2-STAMP_possorted_genome_bam_MD-RPS2_STAMP_Apo_filtered_lenti_common_expression_barcodes.txt.fwd.sorted.rmdup.readfiltered.bam',\n",
       " '/home/bay001/projects/kris_apobec_20200121/permanent_data2/07_scRNA_groups/sailor_outputs_groups_deep/RPS2-STAMP_possorted_genome_bam_MD.bamdownsampled.08-1/results/RPS2-STAMP_possorted_genome_bam_MD.bamdownsampled.08-1.fwd.sorted.rmdup.readfiltered.bam',\n",
       " '/home/bay001/projects/kris_apobec_20200121/permanent_data2/07_scRNA_groups/sailor_outputs_groups_deep/RPS2-STAMP_possorted_genome_bam_MD.bamdownsampled.08-2/results/RPS2-STAMP_possorted_genome_bam_MD.bamdownsampled.08-2.fwd.sorted.rmdup.readfiltered.bam',\n",
       " '/home/bay001/projects/kris_apobec_20200121/permanent_data2/07_scRNA_groups/sailor_outputs_groups_deep/RPS2-STAMP_possorted_genome_bam_MD.bamdownsampled.08-3/results/RPS2-STAMP_possorted_genome_bam_MD.bamdownsampled.08-3.fwd.sorted.rmdup.readfiltered.bam',\n",
       " '/home/bay001/projects/kris_apobec_20200121/permanent_data2/07_scRNA_groups/sailor_outputs_groups_deep/RPS2-STAMP_possorted_genome_bam_MD.bamdownsampled.08-4/results/RPS2-STAMP_possorted_genome_bam_MD.bamdownsampled.08-4.fwd.sorted.rmdup.readfiltered.bam',\n",
       " '/home/bay001/projects/kris_apobec_20200121/permanent_data2/07_scRNA_groups/sailor_outputs_groups_deep/RPS2-STAMP_possorted_genome_bam_MD.bamdownsampled.08-5/results/RPS2-STAMP_possorted_genome_bam_MD.bamdownsampled.08-5.fwd.sorted.rmdup.readfiltered.bam',\n",
       " '/home/bay001/projects/kris_apobec_20200121/permanent_data2/07_scRNA_groups/sailor_outputs_groups_deep/RPS2-STAMP_possorted_genome_bam_MD.bamdownsampled.08-6/results/RPS2-STAMP_possorted_genome_bam_MD.bamdownsampled.08-6.fwd.sorted.rmdup.readfiltered.bam',\n",
       " '/home/bay001/projects/kris_apobec_20200121/permanent_data2/07_scRNA_groups/sailor_outputs_groups_deep/RPS2-STAMP_possorted_genome_bam_MD.bamdownsampled.08-7/results/RPS2-STAMP_possorted_genome_bam_MD.bamdownsampled.08-7.fwd.sorted.rmdup.readfiltered.bam',\n",
       " '/home/bay001/projects/kris_apobec_20200121/permanent_data2/07_scRNA_groups/sailor_outputs_groups_deep/RPS2-STAMP_possorted_genome_bam_MD.bamdownsampled.08-8/results/RPS2-STAMP_possorted_genome_bam_MD.bamdownsampled.08-8.fwd.sorted.rmdup.readfiltered.bam',\n",
       " '/home/bay001/projects/kris_apobec_20200121/permanent_data2/07_scRNA_groups/sailor_outputs_groups_deep/RPS2-STAMP_possorted_genome_bam_MD.bamdownsampled.08-9/results/RPS2-STAMP_possorted_genome_bam_MD.bamdownsampled.08-9.fwd.sorted.rmdup.readfiltered.bam',\n",
       " '/home/bay001/projects/kris_apobec_20200121/permanent_data2/07_scRNA_groups/sailor_outputs_groups_deep/RPS2-STAMP_possorted_genome_bam_MD.bamdownsampled.1-0/results/RPS2-STAMP_possorted_genome_bam_MD.bamdownsampled.1-0.fwd.sorted.rmdup.readfiltered.bam',\n",
       " '/home/bay001/projects/kris_apobec_20200121/permanent_data2/07_scRNA_groups/sailor_outputs_groups_deep/RPS2-STAMP_possorted_genome_bam_MD.downsampled60M/results/RPS2-STAMP_possorted_genome_bam_MD.downsampled60M.fwd.sorted.rmdup.readfiltered.bam',\n",
       " '/home/bay001/projects/kris_apobec_20200121/permanent_data2/07_scRNA_groups/sailor_outputs_groups_deep/RPS2-STAMP_possorted_genome_bam_MD/results/RPS2-STAMP_possorted_genome_bam_MD.fwd.sorted.rmdup.readfiltered.bam']"
      ]
     },
     "execution_count": 6,
     "metadata": {},
     "output_type": "execute_result"
    }
   ],
   "source": [
    "all_fwd_bams = sorted(glob.glob(os.path.join(input_dir, '*/results/*.fwd.sorted.rmdup.readfiltered.bam')))\n",
    "print(len(all_fwd_bams))\n",
    "all_fwd_bams"
   ]
  },
  {
   "cell_type": "markdown",
   "metadata": {},
   "source": [
    "# Write the bam to bigwig commands"
   ]
  },
  {
   "cell_type": "code",
   "execution_count": 4,
   "metadata": {},
   "outputs": [
    {
     "name": "stdout",
     "output_type": "stream",
     "text": [
      "10\n"
     ]
    }
   ],
   "source": [
    "chrom_sizes_file = '/home/bay001/projects/kris_apobec_20200121/permanent_data2/07_scRNA_groups/inputs/refdata-cellranger-hg19_lenti_common-3.0.0/star/chrNameLength.txt'\n",
    "cmds = []\n",
    "for fwd_bam in all_fwd_bams:\n",
    "    fwd_human_bam = os.path.join(output_dir, os.path.splitext(os.path.basename(fwd_bam))[0] + \".fx.bam\")\n",
    "    fwd_bg = os.path.join(output_dir, os.path.splitext(os.path.basename(fwd_bam))[0] + \".bg\")\n",
    "    fwd_sorted_bg = os.path.join(output_dir, os.path.splitext(os.path.basename(fwd_bam))[0] + \".sorted.bg\")\n",
    "    fwd_sorted_bw = os.path.join(output_dir, os.path.splitext(os.path.basename(fwd_bam))[0] + \".sorted.bw\")\n",
    "    if not os.path.exists(fwd_sorted_bw):\n",
    "        cmd = 'module load makebigwigfiles;'\n",
    "        cmd += 'samtools index {};'.format(fwd_bam)\n",
    "        cmd += 'samtools view -b {} {} > {};'.format(fwd_bam, \"{1..22} MT X Y\", fwd_human_bam) # some of these bam files have a 'lenti common' extra contig but we don't care about these.\n",
    "        cmd += 'bedtools genomecov -split -strand + -g {} -bg -ibam {} > {};'.format(chrom_sizes_file, fwd_human_bam, fwd_bg)\n",
    "        cmd += 'bedtools sort -i {} > {};'.format(fwd_bg, fwd_sorted_bg)\n",
    "        cmd += 'bedGraphToBigWig {} {} {};'.format(fwd_sorted_bg, chrom_sizes_file, fwd_sorted_bw)\n",
    "        cmds.append(cmd)\n",
    "    \n",
    "for fwd_bam in all_fwd_bams:\n",
    "    rev_bam = fwd_bam.replace('.fwd.sorted.rmdup.readfiltered.bam', '.rev.sorted.rmdup.readfiltered.bam')\n",
    "    rev_human_bam = os.path.join(output_dir, os.path.splitext(os.path.basename(rev_bam))[0] + \".fx.bam\")\n",
    "    rev_bg = os.path.join(output_dir, os.path.splitext(os.path.basename(rev_bam))[0] + \".bg\")\n",
    "    rev_sorted_bg = os.path.join(output_dir, os.path.splitext(os.path.basename(rev_bam))[0] + \".sorted.bg\")\n",
    "    rev_sorted_bw = os.path.join(output_dir, os.path.splitext(os.path.basename(rev_bam))[0] + \".sorted.bw\")\n",
    "    if not os.path.exists(rev_sorted_bw):\n",
    "        cmd = 'module load makebigwigfiles;'\n",
    "        cmd += 'samtools index {};'.format(rev_bam)\n",
    "        cmd += 'samtools view -b {} {} > {};'.format(rev_bam, \"{1..22} MT X Y\", rev_human_bam)\n",
    "        cmd += 'bedtools genomecov -split -strand - -g {} -bg -ibam {} > {};'.format(chrom_sizes_file, rev_human_bam, rev_bg)\n",
    "        cmd += 'bedtools sort -i {} > {};'.format(rev_bg, rev_sorted_bg)\n",
    "        cmd += 'bedGraphToBigWig {} {} {};'.format(rev_sorted_bg, chrom_sizes_file, rev_sorted_bw)\n",
    "        cmds.append(cmd)\n",
    "print(len(cmds))"
   ]
  },
  {
   "cell_type": "code",
   "execution_count": 7,
   "metadata": {},
   "outputs": [
    {
     "data": {
      "text/plain": [
       "['module load makebigwigfiles;samtools index /home/bay001/projects/kris_apobec_20200121/permanent_data2/07_scRNA_groups/sailor_outputs_groups_deep/RBFOX2-TIA1-STAMP_possorted_genome_bam_MD-33_barcodes.tsv/results/RBFOX2-TIA1-STAMP_possorted_genome_bam_MD-33_barcodes.tsv.fwd.sorted.rmdup.readfiltered.bam;samtools view -b /home/bay001/projects/kris_apobec_20200121/permanent_data2/07_scRNA_groups/sailor_outputs_groups_deep/RBFOX2-TIA1-STAMP_possorted_genome_bam_MD-33_barcodes.tsv/results/RBFOX2-TIA1-STAMP_possorted_genome_bam_MD-33_barcodes.tsv.fwd.sorted.rmdup.readfiltered.bam {1..22} MT X Y > /home/bay001/projects/kris_apobec_20200121/permanent_data2/07_scRNA_groups/sailor_outputs_groups_deep/combined_outputs_w_cov_info/RBFOX2-TIA1-STAMP_possorted_genome_bam_MD-33_barcodes.tsv.fwd.sorted.rmdup.readfiltered.fx.bam;bedtools genomecov -split -strand + -g /home/bay001/projects/kris_apobec_20200121/permanent_data2/07_scRNA_groups/inputs/refdata-cellranger-hg19_lenti_common-3.0.0/star/chrNameLength.txt -bg -ibam /home/bay001/projects/kris_apobec_20200121/permanent_data2/07_scRNA_groups/sailor_outputs_groups_deep/combined_outputs_w_cov_info/RBFOX2-TIA1-STAMP_possorted_genome_bam_MD-33_barcodes.tsv.fwd.sorted.rmdup.readfiltered.fx.bam > /home/bay001/projects/kris_apobec_20200121/permanent_data2/07_scRNA_groups/sailor_outputs_groups_deep/combined_outputs_w_cov_info/RBFOX2-TIA1-STAMP_possorted_genome_bam_MD-33_barcodes.tsv.fwd.sorted.rmdup.readfiltered.bg;bedtools sort -i /home/bay001/projects/kris_apobec_20200121/permanent_data2/07_scRNA_groups/sailor_outputs_groups_deep/combined_outputs_w_cov_info/RBFOX2-TIA1-STAMP_possorted_genome_bam_MD-33_barcodes.tsv.fwd.sorted.rmdup.readfiltered.bg > /home/bay001/projects/kris_apobec_20200121/permanent_data2/07_scRNA_groups/sailor_outputs_groups_deep/combined_outputs_w_cov_info/RBFOX2-TIA1-STAMP_possorted_genome_bam_MD-33_barcodes.tsv.fwd.sorted.rmdup.readfiltered.sorted.bg;bedGraphToBigWig /home/bay001/projects/kris_apobec_20200121/permanent_data2/07_scRNA_groups/sailor_outputs_groups_deep/combined_outputs_w_cov_info/RBFOX2-TIA1-STAMP_possorted_genome_bam_MD-33_barcodes.tsv.fwd.sorted.rmdup.readfiltered.sorted.bg /home/bay001/projects/kris_apobec_20200121/permanent_data2/07_scRNA_groups/inputs/refdata-cellranger-hg19_lenti_common-3.0.0/star/chrNameLength.txt /home/bay001/projects/kris_apobec_20200121/permanent_data2/07_scRNA_groups/sailor_outputs_groups_deep/combined_outputs_w_cov_info/RBFOX2-TIA1-STAMP_possorted_genome_bam_MD-33_barcodes.tsv.fwd.sorted.rmdup.readfiltered.sorted.bw;',\n",
       " 'module load makebigwigfiles;samtools index /home/bay001/projects/kris_apobec_20200121/permanent_data2/07_scRNA_groups/sailor_outputs_groups_deep/RBFOX2-TIA1-STAMP_round2E_read1_feature_FB_possorted_genome_bam_MD-35_barcodes.tsv/results/RBFOX2-TIA1-STAMP_round2E_read1_feature_FB_possorted_genome_bam_MD-35_barcodes.tsv.fwd.sorted.rmdup.readfiltered.bam;samtools view -b /home/bay001/projects/kris_apobec_20200121/permanent_data2/07_scRNA_groups/sailor_outputs_groups_deep/RBFOX2-TIA1-STAMP_round2E_read1_feature_FB_possorted_genome_bam_MD-35_barcodes.tsv/results/RBFOX2-TIA1-STAMP_round2E_read1_feature_FB_possorted_genome_bam_MD-35_barcodes.tsv.fwd.sorted.rmdup.readfiltered.bam {1..22} MT X Y > /home/bay001/projects/kris_apobec_20200121/permanent_data2/07_scRNA_groups/sailor_outputs_groups_deep/combined_outputs_w_cov_info/RBFOX2-TIA1-STAMP_round2E_read1_feature_FB_possorted_genome_bam_MD-35_barcodes.tsv.fwd.sorted.rmdup.readfiltered.fx.bam;bedtools genomecov -split -strand + -g /home/bay001/projects/kris_apobec_20200121/permanent_data2/07_scRNA_groups/inputs/refdata-cellranger-hg19_lenti_common-3.0.0/star/chrNameLength.txt -bg -ibam /home/bay001/projects/kris_apobec_20200121/permanent_data2/07_scRNA_groups/sailor_outputs_groups_deep/combined_outputs_w_cov_info/RBFOX2-TIA1-STAMP_round2E_read1_feature_FB_possorted_genome_bam_MD-35_barcodes.tsv.fwd.sorted.rmdup.readfiltered.fx.bam > /home/bay001/projects/kris_apobec_20200121/permanent_data2/07_scRNA_groups/sailor_outputs_groups_deep/combined_outputs_w_cov_info/RBFOX2-TIA1-STAMP_round2E_read1_feature_FB_possorted_genome_bam_MD-35_barcodes.tsv.fwd.sorted.rmdup.readfiltered.bg;bedtools sort -i /home/bay001/projects/kris_apobec_20200121/permanent_data2/07_scRNA_groups/sailor_outputs_groups_deep/combined_outputs_w_cov_info/RBFOX2-TIA1-STAMP_round2E_read1_feature_FB_possorted_genome_bam_MD-35_barcodes.tsv.fwd.sorted.rmdup.readfiltered.bg > /home/bay001/projects/kris_apobec_20200121/permanent_data2/07_scRNA_groups/sailor_outputs_groups_deep/combined_outputs_w_cov_info/RBFOX2-TIA1-STAMP_round2E_read1_feature_FB_possorted_genome_bam_MD-35_barcodes.tsv.fwd.sorted.rmdup.readfiltered.sorted.bg;bedGraphToBigWig /home/bay001/projects/kris_apobec_20200121/permanent_data2/07_scRNA_groups/sailor_outputs_groups_deep/combined_outputs_w_cov_info/RBFOX2-TIA1-STAMP_round2E_read1_feature_FB_possorted_genome_bam_MD-35_barcodes.tsv.fwd.sorted.rmdup.readfiltered.sorted.bg /home/bay001/projects/kris_apobec_20200121/permanent_data2/07_scRNA_groups/inputs/refdata-cellranger-hg19_lenti_common-3.0.0/star/chrNameLength.txt /home/bay001/projects/kris_apobec_20200121/permanent_data2/07_scRNA_groups/sailor_outputs_groups_deep/combined_outputs_w_cov_info/RBFOX2-TIA1-STAMP_round2E_read1_feature_FB_possorted_genome_bam_MD-35_barcodes.tsv.fwd.sorted.rmdup.readfiltered.sorted.bw;',\n",
       " 'module load makebigwigfiles;samtools index /home/bay001/projects/kris_apobec_20200121/permanent_data2/07_scRNA_groups/sailor_outputs_groups_deep/RPS2-STAMP_possorted_genome_bam_MD-2/results/RPS2-STAMP_possorted_genome_bam_MD.fwd.sorted.rmdup.readfiltered.bam;samtools view -b /home/bay001/projects/kris_apobec_20200121/permanent_data2/07_scRNA_groups/sailor_outputs_groups_deep/RPS2-STAMP_possorted_genome_bam_MD-2/results/RPS2-STAMP_possorted_genome_bam_MD.fwd.sorted.rmdup.readfiltered.bam {1..22} MT X Y > /home/bay001/projects/kris_apobec_20200121/permanent_data2/07_scRNA_groups/sailor_outputs_groups_deep/combined_outputs_w_cov_info/RPS2-STAMP_possorted_genome_bam_MD.fwd.sorted.rmdup.readfiltered.fx.bam;bedtools genomecov -split -strand + -g /home/bay001/projects/kris_apobec_20200121/permanent_data2/07_scRNA_groups/inputs/refdata-cellranger-hg19_lenti_common-3.0.0/star/chrNameLength.txt -bg -ibam /home/bay001/projects/kris_apobec_20200121/permanent_data2/07_scRNA_groups/sailor_outputs_groups_deep/combined_outputs_w_cov_info/RPS2-STAMP_possorted_genome_bam_MD.fwd.sorted.rmdup.readfiltered.fx.bam > /home/bay001/projects/kris_apobec_20200121/permanent_data2/07_scRNA_groups/sailor_outputs_groups_deep/combined_outputs_w_cov_info/RPS2-STAMP_possorted_genome_bam_MD.fwd.sorted.rmdup.readfiltered.bg;bedtools sort -i /home/bay001/projects/kris_apobec_20200121/permanent_data2/07_scRNA_groups/sailor_outputs_groups_deep/combined_outputs_w_cov_info/RPS2-STAMP_possorted_genome_bam_MD.fwd.sorted.rmdup.readfiltered.bg > /home/bay001/projects/kris_apobec_20200121/permanent_data2/07_scRNA_groups/sailor_outputs_groups_deep/combined_outputs_w_cov_info/RPS2-STAMP_possorted_genome_bam_MD.fwd.sorted.rmdup.readfiltered.sorted.bg;bedGraphToBigWig /home/bay001/projects/kris_apobec_20200121/permanent_data2/07_scRNA_groups/sailor_outputs_groups_deep/combined_outputs_w_cov_info/RPS2-STAMP_possorted_genome_bam_MD.fwd.sorted.rmdup.readfiltered.sorted.bg /home/bay001/projects/kris_apobec_20200121/permanent_data2/07_scRNA_groups/inputs/refdata-cellranger-hg19_lenti_common-3.0.0/star/chrNameLength.txt /home/bay001/projects/kris_apobec_20200121/permanent_data2/07_scRNA_groups/sailor_outputs_groups_deep/combined_outputs_w_cov_info/RPS2-STAMP_possorted_genome_bam_MD.fwd.sorted.rmdup.readfiltered.sorted.bw;',\n",
       " 'module load makebigwigfiles;samtools index /home/bay001/projects/kris_apobec_20200121/permanent_data2/07_scRNA_groups/sailor_outputs_groups_deep/RPS2-STAMP_possorted_genome_bam_MD-38_barcodes.tsv/results/RPS2-STAMP_possorted_genome_bam_MD-38_barcodes.tsv.fwd.sorted.rmdup.readfiltered.bam;samtools view -b /home/bay001/projects/kris_apobec_20200121/permanent_data2/07_scRNA_groups/sailor_outputs_groups_deep/RPS2-STAMP_possorted_genome_bam_MD-38_barcodes.tsv/results/RPS2-STAMP_possorted_genome_bam_MD-38_barcodes.tsv.fwd.sorted.rmdup.readfiltered.bam {1..22} MT X Y > /home/bay001/projects/kris_apobec_20200121/permanent_data2/07_scRNA_groups/sailor_outputs_groups_deep/combined_outputs_w_cov_info/RPS2-STAMP_possorted_genome_bam_MD-38_barcodes.tsv.fwd.sorted.rmdup.readfiltered.fx.bam;bedtools genomecov -split -strand + -g /home/bay001/projects/kris_apobec_20200121/permanent_data2/07_scRNA_groups/inputs/refdata-cellranger-hg19_lenti_common-3.0.0/star/chrNameLength.txt -bg -ibam /home/bay001/projects/kris_apobec_20200121/permanent_data2/07_scRNA_groups/sailor_outputs_groups_deep/combined_outputs_w_cov_info/RPS2-STAMP_possorted_genome_bam_MD-38_barcodes.tsv.fwd.sorted.rmdup.readfiltered.fx.bam > /home/bay001/projects/kris_apobec_20200121/permanent_data2/07_scRNA_groups/sailor_outputs_groups_deep/combined_outputs_w_cov_info/RPS2-STAMP_possorted_genome_bam_MD-38_barcodes.tsv.fwd.sorted.rmdup.readfiltered.bg;bedtools sort -i /home/bay001/projects/kris_apobec_20200121/permanent_data2/07_scRNA_groups/sailor_outputs_groups_deep/combined_outputs_w_cov_info/RPS2-STAMP_possorted_genome_bam_MD-38_barcodes.tsv.fwd.sorted.rmdup.readfiltered.bg > /home/bay001/projects/kris_apobec_20200121/permanent_data2/07_scRNA_groups/sailor_outputs_groups_deep/combined_outputs_w_cov_info/RPS2-STAMP_possorted_genome_bam_MD-38_barcodes.tsv.fwd.sorted.rmdup.readfiltered.sorted.bg;bedGraphToBigWig /home/bay001/projects/kris_apobec_20200121/permanent_data2/07_scRNA_groups/sailor_outputs_groups_deep/combined_outputs_w_cov_info/RPS2-STAMP_possorted_genome_bam_MD-38_barcodes.tsv.fwd.sorted.rmdup.readfiltered.sorted.bg /home/bay001/projects/kris_apobec_20200121/permanent_data2/07_scRNA_groups/inputs/refdata-cellranger-hg19_lenti_common-3.0.0/star/chrNameLength.txt /home/bay001/projects/kris_apobec_20200121/permanent_data2/07_scRNA_groups/sailor_outputs_groups_deep/combined_outputs_w_cov_info/RPS2-STAMP_possorted_genome_bam_MD-38_barcodes.tsv.fwd.sorted.rmdup.readfiltered.sorted.bw;',\n",
       " 'module load makebigwigfiles;samtools index /home/bay001/projects/kris_apobec_20200121/permanent_data2/07_scRNA_groups/sailor_outputs_groups_deep/RPS2-STAMP_possorted_genome_bam_MD/results/RPS2-STAMP_possorted_genome_bam_MD.fwd.sorted.rmdup.readfiltered.bam;samtools view -b /home/bay001/projects/kris_apobec_20200121/permanent_data2/07_scRNA_groups/sailor_outputs_groups_deep/RPS2-STAMP_possorted_genome_bam_MD/results/RPS2-STAMP_possorted_genome_bam_MD.fwd.sorted.rmdup.readfiltered.bam {1..22} MT X Y > /home/bay001/projects/kris_apobec_20200121/permanent_data2/07_scRNA_groups/sailor_outputs_groups_deep/combined_outputs_w_cov_info/RPS2-STAMP_possorted_genome_bam_MD.fwd.sorted.rmdup.readfiltered.fx.bam;bedtools genomecov -split -strand + -g /home/bay001/projects/kris_apobec_20200121/permanent_data2/07_scRNA_groups/inputs/refdata-cellranger-hg19_lenti_common-3.0.0/star/chrNameLength.txt -bg -ibam /home/bay001/projects/kris_apobec_20200121/permanent_data2/07_scRNA_groups/sailor_outputs_groups_deep/combined_outputs_w_cov_info/RPS2-STAMP_possorted_genome_bam_MD.fwd.sorted.rmdup.readfiltered.fx.bam > /home/bay001/projects/kris_apobec_20200121/permanent_data2/07_scRNA_groups/sailor_outputs_groups_deep/combined_outputs_w_cov_info/RPS2-STAMP_possorted_genome_bam_MD.fwd.sorted.rmdup.readfiltered.bg;bedtools sort -i /home/bay001/projects/kris_apobec_20200121/permanent_data2/07_scRNA_groups/sailor_outputs_groups_deep/combined_outputs_w_cov_info/RPS2-STAMP_possorted_genome_bam_MD.fwd.sorted.rmdup.readfiltered.bg > /home/bay001/projects/kris_apobec_20200121/permanent_data2/07_scRNA_groups/sailor_outputs_groups_deep/combined_outputs_w_cov_info/RPS2-STAMP_possorted_genome_bam_MD.fwd.sorted.rmdup.readfiltered.sorted.bg;bedGraphToBigWig /home/bay001/projects/kris_apobec_20200121/permanent_data2/07_scRNA_groups/sailor_outputs_groups_deep/combined_outputs_w_cov_info/RPS2-STAMP_possorted_genome_bam_MD.fwd.sorted.rmdup.readfiltered.sorted.bg /home/bay001/projects/kris_apobec_20200121/permanent_data2/07_scRNA_groups/inputs/refdata-cellranger-hg19_lenti_common-3.0.0/star/chrNameLength.txt /home/bay001/projects/kris_apobec_20200121/permanent_data2/07_scRNA_groups/sailor_outputs_groups_deep/combined_outputs_w_cov_info/RPS2-STAMP_possorted_genome_bam_MD.fwd.sorted.rmdup.readfiltered.sorted.bw;',\n",
       " 'module load makebigwigfiles;samtools index /home/bay001/projects/kris_apobec_20200121/permanent_data2/07_scRNA_groups/sailor_outputs_groups_deep/RBFOX2-TIA1-STAMP_possorted_genome_bam_MD-33_barcodes.tsv/results/RBFOX2-TIA1-STAMP_possorted_genome_bam_MD-33_barcodes.tsv.rev.sorted.rmdup.readfiltered.bam;samtools view -b /home/bay001/projects/kris_apobec_20200121/permanent_data2/07_scRNA_groups/sailor_outputs_groups_deep/RBFOX2-TIA1-STAMP_possorted_genome_bam_MD-33_barcodes.tsv/results/RBFOX2-TIA1-STAMP_possorted_genome_bam_MD-33_barcodes.tsv.rev.sorted.rmdup.readfiltered.bam {1..22} MT X Y > /home/bay001/projects/kris_apobec_20200121/permanent_data2/07_scRNA_groups/sailor_outputs_groups_deep/combined_outputs_w_cov_info/RBFOX2-TIA1-STAMP_possorted_genome_bam_MD-33_barcodes.tsv.rev.sorted.rmdup.readfiltered.fx.bam;bedtools genomecov -split -strand - -g /home/bay001/projects/kris_apobec_20200121/permanent_data2/07_scRNA_groups/inputs/refdata-cellranger-hg19_lenti_common-3.0.0/star/chrNameLength.txt -bg -ibam /home/bay001/projects/kris_apobec_20200121/permanent_data2/07_scRNA_groups/sailor_outputs_groups_deep/combined_outputs_w_cov_info/RBFOX2-TIA1-STAMP_possorted_genome_bam_MD-33_barcodes.tsv.rev.sorted.rmdup.readfiltered.fx.bam > /home/bay001/projects/kris_apobec_20200121/permanent_data2/07_scRNA_groups/sailor_outputs_groups_deep/combined_outputs_w_cov_info/RBFOX2-TIA1-STAMP_possorted_genome_bam_MD-33_barcodes.tsv.rev.sorted.rmdup.readfiltered.bg;bedtools sort -i /home/bay001/projects/kris_apobec_20200121/permanent_data2/07_scRNA_groups/sailor_outputs_groups_deep/combined_outputs_w_cov_info/RBFOX2-TIA1-STAMP_possorted_genome_bam_MD-33_barcodes.tsv.rev.sorted.rmdup.readfiltered.bg > /home/bay001/projects/kris_apobec_20200121/permanent_data2/07_scRNA_groups/sailor_outputs_groups_deep/combined_outputs_w_cov_info/RBFOX2-TIA1-STAMP_possorted_genome_bam_MD-33_barcodes.tsv.rev.sorted.rmdup.readfiltered.sorted.bg;bedGraphToBigWig /home/bay001/projects/kris_apobec_20200121/permanent_data2/07_scRNA_groups/sailor_outputs_groups_deep/combined_outputs_w_cov_info/RBFOX2-TIA1-STAMP_possorted_genome_bam_MD-33_barcodes.tsv.rev.sorted.rmdup.readfiltered.sorted.bg /home/bay001/projects/kris_apobec_20200121/permanent_data2/07_scRNA_groups/inputs/refdata-cellranger-hg19_lenti_common-3.0.0/star/chrNameLength.txt /home/bay001/projects/kris_apobec_20200121/permanent_data2/07_scRNA_groups/sailor_outputs_groups_deep/combined_outputs_w_cov_info/RBFOX2-TIA1-STAMP_possorted_genome_bam_MD-33_barcodes.tsv.rev.sorted.rmdup.readfiltered.sorted.bw;',\n",
       " 'module load makebigwigfiles;samtools index /home/bay001/projects/kris_apobec_20200121/permanent_data2/07_scRNA_groups/sailor_outputs_groups_deep/RBFOX2-TIA1-STAMP_round2E_read1_feature_FB_possorted_genome_bam_MD-35_barcodes.tsv/results/RBFOX2-TIA1-STAMP_round2E_read1_feature_FB_possorted_genome_bam_MD-35_barcodes.tsv.rev.sorted.rmdup.readfiltered.bam;samtools view -b /home/bay001/projects/kris_apobec_20200121/permanent_data2/07_scRNA_groups/sailor_outputs_groups_deep/RBFOX2-TIA1-STAMP_round2E_read1_feature_FB_possorted_genome_bam_MD-35_barcodes.tsv/results/RBFOX2-TIA1-STAMP_round2E_read1_feature_FB_possorted_genome_bam_MD-35_barcodes.tsv.rev.sorted.rmdup.readfiltered.bam {1..22} MT X Y > /home/bay001/projects/kris_apobec_20200121/permanent_data2/07_scRNA_groups/sailor_outputs_groups_deep/combined_outputs_w_cov_info/RBFOX2-TIA1-STAMP_round2E_read1_feature_FB_possorted_genome_bam_MD-35_barcodes.tsv.rev.sorted.rmdup.readfiltered.fx.bam;bedtools genomecov -split -strand - -g /home/bay001/projects/kris_apobec_20200121/permanent_data2/07_scRNA_groups/inputs/refdata-cellranger-hg19_lenti_common-3.0.0/star/chrNameLength.txt -bg -ibam /home/bay001/projects/kris_apobec_20200121/permanent_data2/07_scRNA_groups/sailor_outputs_groups_deep/combined_outputs_w_cov_info/RBFOX2-TIA1-STAMP_round2E_read1_feature_FB_possorted_genome_bam_MD-35_barcodes.tsv.rev.sorted.rmdup.readfiltered.fx.bam > /home/bay001/projects/kris_apobec_20200121/permanent_data2/07_scRNA_groups/sailor_outputs_groups_deep/combined_outputs_w_cov_info/RBFOX2-TIA1-STAMP_round2E_read1_feature_FB_possorted_genome_bam_MD-35_barcodes.tsv.rev.sorted.rmdup.readfiltered.bg;bedtools sort -i /home/bay001/projects/kris_apobec_20200121/permanent_data2/07_scRNA_groups/sailor_outputs_groups_deep/combined_outputs_w_cov_info/RBFOX2-TIA1-STAMP_round2E_read1_feature_FB_possorted_genome_bam_MD-35_barcodes.tsv.rev.sorted.rmdup.readfiltered.bg > /home/bay001/projects/kris_apobec_20200121/permanent_data2/07_scRNA_groups/sailor_outputs_groups_deep/combined_outputs_w_cov_info/RBFOX2-TIA1-STAMP_round2E_read1_feature_FB_possorted_genome_bam_MD-35_barcodes.tsv.rev.sorted.rmdup.readfiltered.sorted.bg;bedGraphToBigWig /home/bay001/projects/kris_apobec_20200121/permanent_data2/07_scRNA_groups/sailor_outputs_groups_deep/combined_outputs_w_cov_info/RBFOX2-TIA1-STAMP_round2E_read1_feature_FB_possorted_genome_bam_MD-35_barcodes.tsv.rev.sorted.rmdup.readfiltered.sorted.bg /home/bay001/projects/kris_apobec_20200121/permanent_data2/07_scRNA_groups/inputs/refdata-cellranger-hg19_lenti_common-3.0.0/star/chrNameLength.txt /home/bay001/projects/kris_apobec_20200121/permanent_data2/07_scRNA_groups/sailor_outputs_groups_deep/combined_outputs_w_cov_info/RBFOX2-TIA1-STAMP_round2E_read1_feature_FB_possorted_genome_bam_MD-35_barcodes.tsv.rev.sorted.rmdup.readfiltered.sorted.bw;',\n",
       " 'module load makebigwigfiles;samtools index /home/bay001/projects/kris_apobec_20200121/permanent_data2/07_scRNA_groups/sailor_outputs_groups_deep/RPS2-STAMP_possorted_genome_bam_MD-2/results/RPS2-STAMP_possorted_genome_bam_MD.rev.sorted.rmdup.readfiltered.bam;samtools view -b /home/bay001/projects/kris_apobec_20200121/permanent_data2/07_scRNA_groups/sailor_outputs_groups_deep/RPS2-STAMP_possorted_genome_bam_MD-2/results/RPS2-STAMP_possorted_genome_bam_MD.rev.sorted.rmdup.readfiltered.bam {1..22} MT X Y > /home/bay001/projects/kris_apobec_20200121/permanent_data2/07_scRNA_groups/sailor_outputs_groups_deep/combined_outputs_w_cov_info/RPS2-STAMP_possorted_genome_bam_MD.rev.sorted.rmdup.readfiltered.fx.bam;bedtools genomecov -split -strand - -g /home/bay001/projects/kris_apobec_20200121/permanent_data2/07_scRNA_groups/inputs/refdata-cellranger-hg19_lenti_common-3.0.0/star/chrNameLength.txt -bg -ibam /home/bay001/projects/kris_apobec_20200121/permanent_data2/07_scRNA_groups/sailor_outputs_groups_deep/combined_outputs_w_cov_info/RPS2-STAMP_possorted_genome_bam_MD.rev.sorted.rmdup.readfiltered.fx.bam > /home/bay001/projects/kris_apobec_20200121/permanent_data2/07_scRNA_groups/sailor_outputs_groups_deep/combined_outputs_w_cov_info/RPS2-STAMP_possorted_genome_bam_MD.rev.sorted.rmdup.readfiltered.bg;bedtools sort -i /home/bay001/projects/kris_apobec_20200121/permanent_data2/07_scRNA_groups/sailor_outputs_groups_deep/combined_outputs_w_cov_info/RPS2-STAMP_possorted_genome_bam_MD.rev.sorted.rmdup.readfiltered.bg > /home/bay001/projects/kris_apobec_20200121/permanent_data2/07_scRNA_groups/sailor_outputs_groups_deep/combined_outputs_w_cov_info/RPS2-STAMP_possorted_genome_bam_MD.rev.sorted.rmdup.readfiltered.sorted.bg;bedGraphToBigWig /home/bay001/projects/kris_apobec_20200121/permanent_data2/07_scRNA_groups/sailor_outputs_groups_deep/combined_outputs_w_cov_info/RPS2-STAMP_possorted_genome_bam_MD.rev.sorted.rmdup.readfiltered.sorted.bg /home/bay001/projects/kris_apobec_20200121/permanent_data2/07_scRNA_groups/inputs/refdata-cellranger-hg19_lenti_common-3.0.0/star/chrNameLength.txt /home/bay001/projects/kris_apobec_20200121/permanent_data2/07_scRNA_groups/sailor_outputs_groups_deep/combined_outputs_w_cov_info/RPS2-STAMP_possorted_genome_bam_MD.rev.sorted.rmdup.readfiltered.sorted.bw;',\n",
       " 'module load makebigwigfiles;samtools index /home/bay001/projects/kris_apobec_20200121/permanent_data2/07_scRNA_groups/sailor_outputs_groups_deep/RPS2-STAMP_possorted_genome_bam_MD-38_barcodes.tsv/results/RPS2-STAMP_possorted_genome_bam_MD-38_barcodes.tsv.rev.sorted.rmdup.readfiltered.bam;samtools view -b /home/bay001/projects/kris_apobec_20200121/permanent_data2/07_scRNA_groups/sailor_outputs_groups_deep/RPS2-STAMP_possorted_genome_bam_MD-38_barcodes.tsv/results/RPS2-STAMP_possorted_genome_bam_MD-38_barcodes.tsv.rev.sorted.rmdup.readfiltered.bam {1..22} MT X Y > /home/bay001/projects/kris_apobec_20200121/permanent_data2/07_scRNA_groups/sailor_outputs_groups_deep/combined_outputs_w_cov_info/RPS2-STAMP_possorted_genome_bam_MD-38_barcodes.tsv.rev.sorted.rmdup.readfiltered.fx.bam;bedtools genomecov -split -strand - -g /home/bay001/projects/kris_apobec_20200121/permanent_data2/07_scRNA_groups/inputs/refdata-cellranger-hg19_lenti_common-3.0.0/star/chrNameLength.txt -bg -ibam /home/bay001/projects/kris_apobec_20200121/permanent_data2/07_scRNA_groups/sailor_outputs_groups_deep/combined_outputs_w_cov_info/RPS2-STAMP_possorted_genome_bam_MD-38_barcodes.tsv.rev.sorted.rmdup.readfiltered.fx.bam > /home/bay001/projects/kris_apobec_20200121/permanent_data2/07_scRNA_groups/sailor_outputs_groups_deep/combined_outputs_w_cov_info/RPS2-STAMP_possorted_genome_bam_MD-38_barcodes.tsv.rev.sorted.rmdup.readfiltered.bg;bedtools sort -i /home/bay001/projects/kris_apobec_20200121/permanent_data2/07_scRNA_groups/sailor_outputs_groups_deep/combined_outputs_w_cov_info/RPS2-STAMP_possorted_genome_bam_MD-38_barcodes.tsv.rev.sorted.rmdup.readfiltered.bg > /home/bay001/projects/kris_apobec_20200121/permanent_data2/07_scRNA_groups/sailor_outputs_groups_deep/combined_outputs_w_cov_info/RPS2-STAMP_possorted_genome_bam_MD-38_barcodes.tsv.rev.sorted.rmdup.readfiltered.sorted.bg;bedGraphToBigWig /home/bay001/projects/kris_apobec_20200121/permanent_data2/07_scRNA_groups/sailor_outputs_groups_deep/combined_outputs_w_cov_info/RPS2-STAMP_possorted_genome_bam_MD-38_barcodes.tsv.rev.sorted.rmdup.readfiltered.sorted.bg /home/bay001/projects/kris_apobec_20200121/permanent_data2/07_scRNA_groups/inputs/refdata-cellranger-hg19_lenti_common-3.0.0/star/chrNameLength.txt /home/bay001/projects/kris_apobec_20200121/permanent_data2/07_scRNA_groups/sailor_outputs_groups_deep/combined_outputs_w_cov_info/RPS2-STAMP_possorted_genome_bam_MD-38_barcodes.tsv.rev.sorted.rmdup.readfiltered.sorted.bw;',\n",
       " 'module load makebigwigfiles;samtools index /home/bay001/projects/kris_apobec_20200121/permanent_data2/07_scRNA_groups/sailor_outputs_groups_deep/RPS2-STAMP_possorted_genome_bam_MD/results/RPS2-STAMP_possorted_genome_bam_MD.rev.sorted.rmdup.readfiltered.bam;samtools view -b /home/bay001/projects/kris_apobec_20200121/permanent_data2/07_scRNA_groups/sailor_outputs_groups_deep/RPS2-STAMP_possorted_genome_bam_MD/results/RPS2-STAMP_possorted_genome_bam_MD.rev.sorted.rmdup.readfiltered.bam {1..22} MT X Y > /home/bay001/projects/kris_apobec_20200121/permanent_data2/07_scRNA_groups/sailor_outputs_groups_deep/combined_outputs_w_cov_info/RPS2-STAMP_possorted_genome_bam_MD.rev.sorted.rmdup.readfiltered.fx.bam;bedtools genomecov -split -strand - -g /home/bay001/projects/kris_apobec_20200121/permanent_data2/07_scRNA_groups/inputs/refdata-cellranger-hg19_lenti_common-3.0.0/star/chrNameLength.txt -bg -ibam /home/bay001/projects/kris_apobec_20200121/permanent_data2/07_scRNA_groups/sailor_outputs_groups_deep/combined_outputs_w_cov_info/RPS2-STAMP_possorted_genome_bam_MD.rev.sorted.rmdup.readfiltered.fx.bam > /home/bay001/projects/kris_apobec_20200121/permanent_data2/07_scRNA_groups/sailor_outputs_groups_deep/combined_outputs_w_cov_info/RPS2-STAMP_possorted_genome_bam_MD.rev.sorted.rmdup.readfiltered.bg;bedtools sort -i /home/bay001/projects/kris_apobec_20200121/permanent_data2/07_scRNA_groups/sailor_outputs_groups_deep/combined_outputs_w_cov_info/RPS2-STAMP_possorted_genome_bam_MD.rev.sorted.rmdup.readfiltered.bg > /home/bay001/projects/kris_apobec_20200121/permanent_data2/07_scRNA_groups/sailor_outputs_groups_deep/combined_outputs_w_cov_info/RPS2-STAMP_possorted_genome_bam_MD.rev.sorted.rmdup.readfiltered.sorted.bg;bedGraphToBigWig /home/bay001/projects/kris_apobec_20200121/permanent_data2/07_scRNA_groups/sailor_outputs_groups_deep/combined_outputs_w_cov_info/RPS2-STAMP_possorted_genome_bam_MD.rev.sorted.rmdup.readfiltered.sorted.bg /home/bay001/projects/kris_apobec_20200121/permanent_data2/07_scRNA_groups/inputs/refdata-cellranger-hg19_lenti_common-3.0.0/star/chrNameLength.txt /home/bay001/projects/kris_apobec_20200121/permanent_data2/07_scRNA_groups/sailor_outputs_groups_deep/combined_outputs_w_cov_info/RPS2-STAMP_possorted_genome_bam_MD.rev.sorted.rmdup.readfiltered.sorted.bw;']"
      ]
     },
     "execution_count": 7,
     "metadata": {},
     "output_type": "execute_result"
    }
   ],
   "source": [
    "cmds"
   ]
  },
  {
   "cell_type": "code",
   "execution_count": 6,
   "metadata": {},
   "outputs": [
    {
     "name": "stderr",
     "output_type": "stream",
     "text": [
      "Writing 28 tasks as an array-job.\n",
      "Wrote commands to bamToBigWig.sh.\n",
      "Submitted script to queue home.\n",
      " Job ID: 23516789\n"
     ]
    },
    {
     "data": {
      "text/plain": [
       "<qtools.submitter.Submitter at 0x2ab5c9debf90>"
      ]
     },
     "execution_count": 6,
     "metadata": {},
     "output_type": "execute_result"
    }
   ],
   "source": [
    "Submitter(commands=cmds, job_name='bamToBigWig', array=True, nodes=1, ppn=1, submit=True, walltime='8:00:00')"
   ]
  },
  {
   "cell_type": "code",
   "execution_count": null,
   "metadata": {},
   "outputs": [],
   "source": []
  }
 ],
 "metadata": {
  "kernelspec": {
   "display_name": "python2-essential",
   "language": "python",
   "name": "python2-essential"
  },
  "language_info": {
   "codemirror_mode": {
    "name": "ipython",
    "version": 2
   },
   "file_extension": ".py",
   "mimetype": "text/x-python",
   "name": "python",
   "nbconvert_exporter": "python",
   "pygments_lexer": "ipython2",
   "version": "2.7.15"
  }
 },
 "nbformat": 4,
 "nbformat_minor": 2
}
