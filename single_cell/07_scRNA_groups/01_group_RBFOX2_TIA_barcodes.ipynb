{
 "cells": [
  {
   "cell_type": "markdown",
   "metadata": {},
   "source": [
    "# This notebook parses the possorted_genome_bam_MD.bam to pull out only the barcodes specificed in Alex's lists.\n",
    "- functionally equivalent to notebook 11_group_bams.ipynb, but in this case we're just re-parsing the main bam file instead of joining a bunch of smaller bam files."
   ]
  },
  {
   "cell_type": "code",
   "execution_count": 1,
   "metadata": {},
   "outputs": [],
   "source": [
    "import pandas as pd\n",
    "import numpy as np\n",
    "import os\n",
    "import glob\n",
    "import pysam\n",
    "import time\n",
    "from collections import defaultdict\n",
    "from tqdm import tnrange, tqdm_notebook\n",
    "from qtools import Submitter\n",
    "\n",
    "pd.set_option('display.max_colwidth', 1000)\n",
    "pd.set_option('display.width', 10000)"
   ]
  },
  {
   "cell_type": "code",
   "execution_count": 2,
   "metadata": {},
   "outputs": [],
   "source": [
    "input_dir = '/home/bay001/projects/kris_apobec_20200121/permanent_data2/07_scRNA_groups/inputs'\n",
    "output_dir = '/home/bay001/projects/kris_apobec_20200121/permanent_data2/07_scRNA_groups/bam_file_groups/'"
   ]
  },
  {
   "cell_type": "code",
   "execution_count": 3,
   "metadata": {},
   "outputs": [],
   "source": [
    "# bam = os.path.join(input_dir, 'RBFOX2-TIA1-STAMP_possorted_genome_bam_MD.bam')\n",
    "bam = os.path.join(input_dir, 'RBFOX2-TIA1-STAMP_round2E_read1_feature_FB_possorted_genome_bam_MD.bam')"
   ]
  },
  {
   "cell_type": "markdown",
   "metadata": {},
   "source": [
    "# Read in expression values from Alex to help us decide which barcodes to look for/split."
   ]
  },
  {
   "cell_type": "code",
   "execution_count": 4,
   "metadata": {},
   "outputs": [
    {
     "data": {
      "text/html": [
       "<div>\n",
       "<style scoped>\n",
       "    .dataframe tbody tr th:only-of-type {\n",
       "        vertical-align: middle;\n",
       "    }\n",
       "\n",
       "    .dataframe tbody tr th {\n",
       "        vertical-align: top;\n",
       "    }\n",
       "\n",
       "    .dataframe thead th {\n",
       "        text-align: right;\n",
       "    }\n",
       "</style>\n",
       "<table border=\"1\" class=\"dataframe\">\n",
       "  <thead>\n",
       "    <tr style=\"text-align: right;\">\n",
       "      <th></th>\n",
       "      <th>index</th>\n",
       "      <th>n_edits</th>\n",
       "      <th>RBFOX2_ORF</th>\n",
       "      <th>TIA1_ORF</th>\n",
       "      <th>feature</th>\n",
       "      <th>louvain_r0.5</th>\n",
       "    </tr>\n",
       "  </thead>\n",
       "  <tbody>\n",
       "    <tr>\n",
       "      <th>0</th>\n",
       "      <td>possorted_genome_bam_MD-AAACGAAAGTCACACT-1</td>\n",
       "      <td>0.648778</td>\n",
       "      <td>0.358060</td>\n",
       "      <td>0.0</td>\n",
       "      <td>RBFOX2_ORF</td>\n",
       "      <td>RBFOX2-cSTAMP</td>\n",
       "    </tr>\n",
       "    <tr>\n",
       "      <th>1</th>\n",
       "      <td>possorted_genome_bam_MD-AAACGAACAGATCATC-1</td>\n",
       "      <td>0.117951</td>\n",
       "      <td>0.472917</td>\n",
       "      <td>0.0</td>\n",
       "      <td>RBFOX2_ORF</td>\n",
       "      <td>RBFOX2-cSTAMP</td>\n",
       "    </tr>\n",
       "    <tr>\n",
       "      <th>2</th>\n",
       "      <td>possorted_genome_bam_MD-AAACGAACATGACTAC-1</td>\n",
       "      <td>0.459542</td>\n",
       "      <td>0.508860</td>\n",
       "      <td>0.0</td>\n",
       "      <td>RBFOX2_ORF</td>\n",
       "      <td>RBFOX2-cSTAMP</td>\n",
       "    </tr>\n",
       "    <tr>\n",
       "      <th>3</th>\n",
       "      <td>possorted_genome_bam_MD-AAAGAACAGACTCCGC-1</td>\n",
       "      <td>0.210795</td>\n",
       "      <td>0.445535</td>\n",
       "      <td>0.0</td>\n",
       "      <td>RBFOX2_ORF</td>\n",
       "      <td>RBFOX2-cSTAMP</td>\n",
       "    </tr>\n",
       "    <tr>\n",
       "      <th>4</th>\n",
       "      <td>possorted_genome_bam_MD-AAAGGATAGATGACCG-1</td>\n",
       "      <td>1.028562</td>\n",
       "      <td>0.399376</td>\n",
       "      <td>0.0</td>\n",
       "      <td>RBFOX2_ORF</td>\n",
       "      <td>RBFOX2-cSTAMP</td>\n",
       "    </tr>\n",
       "  </tbody>\n",
       "</table>\n",
       "</div>"
      ],
      "text/plain": [
       "                                        index   n_edits  RBFOX2_ORF  TIA1_ORF     feature   louvain_r0.5\n",
       "0  possorted_genome_bam_MD-AAACGAAAGTCACACT-1  0.648778    0.358060       0.0  RBFOX2_ORF  RBFOX2-cSTAMP\n",
       "1  possorted_genome_bam_MD-AAACGAACAGATCATC-1  0.117951    0.472917       0.0  RBFOX2_ORF  RBFOX2-cSTAMP\n",
       "2  possorted_genome_bam_MD-AAACGAACATGACTAC-1  0.459542    0.508860       0.0  RBFOX2_ORF  RBFOX2-cSTAMP\n",
       "3  possorted_genome_bam_MD-AAAGAACAGACTCCGC-1  0.210795    0.445535       0.0  RBFOX2_ORF  RBFOX2-cSTAMP\n",
       "4  possorted_genome_bam_MD-AAAGGATAGATGACCG-1  1.028562    0.399376       0.0  RBFOX2_ORF  RBFOX2-cSTAMP"
      ]
     },
     "execution_count": 4,
     "metadata": {},
     "output_type": "execute_result"
    }
   ],
   "source": [
    "tia1_barcodes = pd.read_csv(os.path.join(input_dir, 'RBFOX2-TIA1-STAMP_edits_for_TIA1_ORFs.csv'))\n",
    "rbfox2_barcodes = pd.read_csv(os.path.join(input_dir, 'RBFOX2-TIA1-STAMP_edits_for_RBFOX2_ORFs.csv'))\n",
    "\n",
    "rbfox2_barcodes.head()"
   ]
  },
  {
   "cell_type": "markdown",
   "metadata": {},
   "source": [
    "# Filter to get only (unique) ORF-expressed cells"
   ]
  },
  {
   "cell_type": "code",
   "execution_count": 5,
   "metadata": {},
   "outputs": [
    {
     "name": "stdout",
     "output_type": "stream",
     "text": [
      "(518, 844)\n"
     ]
    }
   ],
   "source": [
    "tia1_barcodes = tia1_barcodes[(tia1_barcodes['TIA1_ORF'] > 0) & (tia1_barcodes['RBFOX2_ORF'] == 0)]\n",
    "rbfox2_barcodes = rbfox2_barcodes[(rbfox2_barcodes['TIA1_ORF'] == 0) & (rbfox2_barcodes['RBFOX2_ORF'] > 0)]\n",
    "\n",
    "print(tia1_barcodes.shape[0], rbfox2_barcodes.shape[0])"
   ]
  },
  {
   "cell_type": "code",
   "execution_count": 6,
   "metadata": {},
   "outputs": [
    {
     "data": {
      "text/html": [
       "<div>\n",
       "<style scoped>\n",
       "    .dataframe tbody tr th:only-of-type {\n",
       "        vertical-align: middle;\n",
       "    }\n",
       "\n",
       "    .dataframe tbody tr th {\n",
       "        vertical-align: top;\n",
       "    }\n",
       "\n",
       "    .dataframe thead th {\n",
       "        text-align: right;\n",
       "    }\n",
       "</style>\n",
       "<table border=\"1\" class=\"dataframe\">\n",
       "  <thead>\n",
       "    <tr style=\"text-align: right;\">\n",
       "      <th></th>\n",
       "      <th>index</th>\n",
       "      <th>n_edits</th>\n",
       "      <th>RBFOX2_ORF</th>\n",
       "      <th>TIA1_ORF</th>\n",
       "      <th>feature</th>\n",
       "      <th>louvain_r0.5</th>\n",
       "      <th>barcode</th>\n",
       "    </tr>\n",
       "  </thead>\n",
       "  <tbody>\n",
       "    <tr>\n",
       "      <th>0</th>\n",
       "      <td>possorted_genome_bam_MD-AAACGAAAGTCACACT-1</td>\n",
       "      <td>0.648778</td>\n",
       "      <td>0.358060</td>\n",
       "      <td>0.0</td>\n",
       "      <td>RBFOX2_ORF</td>\n",
       "      <td>RBFOX2-cSTAMP</td>\n",
       "      <td>AAACGAAAGTCACACT-1</td>\n",
       "    </tr>\n",
       "    <tr>\n",
       "      <th>1</th>\n",
       "      <td>possorted_genome_bam_MD-AAACGAACAGATCATC-1</td>\n",
       "      <td>0.117951</td>\n",
       "      <td>0.472917</td>\n",
       "      <td>0.0</td>\n",
       "      <td>RBFOX2_ORF</td>\n",
       "      <td>RBFOX2-cSTAMP</td>\n",
       "      <td>AAACGAACAGATCATC-1</td>\n",
       "    </tr>\n",
       "    <tr>\n",
       "      <th>2</th>\n",
       "      <td>possorted_genome_bam_MD-AAACGAACATGACTAC-1</td>\n",
       "      <td>0.459542</td>\n",
       "      <td>0.508860</td>\n",
       "      <td>0.0</td>\n",
       "      <td>RBFOX2_ORF</td>\n",
       "      <td>RBFOX2-cSTAMP</td>\n",
       "      <td>AAACGAACATGACTAC-1</td>\n",
       "    </tr>\n",
       "    <tr>\n",
       "      <th>3</th>\n",
       "      <td>possorted_genome_bam_MD-AAAGAACAGACTCCGC-1</td>\n",
       "      <td>0.210795</td>\n",
       "      <td>0.445535</td>\n",
       "      <td>0.0</td>\n",
       "      <td>RBFOX2_ORF</td>\n",
       "      <td>RBFOX2-cSTAMP</td>\n",
       "      <td>AAAGAACAGACTCCGC-1</td>\n",
       "    </tr>\n",
       "    <tr>\n",
       "      <th>4</th>\n",
       "      <td>possorted_genome_bam_MD-AAAGGATAGATGACCG-1</td>\n",
       "      <td>1.028562</td>\n",
       "      <td>0.399376</td>\n",
       "      <td>0.0</td>\n",
       "      <td>RBFOX2_ORF</td>\n",
       "      <td>RBFOX2-cSTAMP</td>\n",
       "      <td>AAAGGATAGATGACCG-1</td>\n",
       "    </tr>\n",
       "  </tbody>\n",
       "</table>\n",
       "</div>"
      ],
      "text/plain": [
       "                                        index   n_edits  RBFOX2_ORF  TIA1_ORF     feature   louvain_r0.5             barcode\n",
       "0  possorted_genome_bam_MD-AAACGAAAGTCACACT-1  0.648778    0.358060       0.0  RBFOX2_ORF  RBFOX2-cSTAMP  AAACGAAAGTCACACT-1\n",
       "1  possorted_genome_bam_MD-AAACGAACAGATCATC-1  0.117951    0.472917       0.0  RBFOX2_ORF  RBFOX2-cSTAMP  AAACGAACAGATCATC-1\n",
       "2  possorted_genome_bam_MD-AAACGAACATGACTAC-1  0.459542    0.508860       0.0  RBFOX2_ORF  RBFOX2-cSTAMP  AAACGAACATGACTAC-1\n",
       "3  possorted_genome_bam_MD-AAAGAACAGACTCCGC-1  0.210795    0.445535       0.0  RBFOX2_ORF  RBFOX2-cSTAMP  AAAGAACAGACTCCGC-1\n",
       "4  possorted_genome_bam_MD-AAAGGATAGATGACCG-1  1.028562    0.399376       0.0  RBFOX2_ORF  RBFOX2-cSTAMP  AAAGGATAGATGACCG-1"
      ]
     },
     "execution_count": 6,
     "metadata": {},
     "output_type": "execute_result"
    }
   ],
   "source": [
    "def index_to_barcode(row, to_replace):\n",
    "    \"\"\"\n",
    "    Not really a true index, just a column named 'index'.\n",
    "    \"\"\"\n",
    "    barcode = row['index']\n",
    "    for replace in to_replace:\n",
    "        barcode = barcode.replace(replace,'')\n",
    "        \n",
    "    ### Just to make sure we're grabbing and correctly formatting barcodes.\n",
    "    assert barcode.endswith('-1')\n",
    "\n",
    "    return barcode\n",
    "\n",
    "tia1_barcodes['barcode'] = tia1_barcodes.apply(index_to_barcode, args=(['possorted_genome_bam_MD-'],), axis=1)\n",
    "rbfox2_barcodes['barcode'] = rbfox2_barcodes.apply(index_to_barcode, args=(['possorted_genome_bam_MD-'],), axis=1)\n",
    "rbfox2_barcodes.head()"
   ]
  },
  {
   "cell_type": "markdown",
   "metadata": {},
   "source": [
    "### Note to self: 33, 34 is identical to 35, 36. The difference comes from the BAM file that we're using to group on (Round2E vs F)."
   ]
  },
  {
   "cell_type": "code",
   "execution_count": 7,
   "metadata": {},
   "outputs": [],
   "source": [
    "# tia1_barcodes[['barcode']].to_csv(os.path.join(output_dir, '33_barcodes.tsv'), sep='\\t', index=False, header=False)\n",
    "# rbfox2_barcodes[['barcode']].to_csv(os.path.join(output_dir, '34_barcodes.tsv'), sep='\\t', index=False, header=False)\n",
    "tia1_barcodes[['barcode']].to_csv(os.path.join(output_dir, '35_barcodes.tsv'), sep='\\t', index=False, header=False)\n",
    "rbfox2_barcodes[['barcode']].to_csv(os.path.join(output_dir, '36_barcodes.tsv'), sep='\\t', index=False, header=False)"
   ]
  },
  {
   "cell_type": "code",
   "execution_count": 8,
   "metadata": {},
   "outputs": [],
   "source": [
    "def generate_commandline_for_splitting(bam_file, barcodes_file, output_dir):\n",
    "    cmd = 'module load python3essential;/home/bay001/projects/kris_apobec_20200121/scripts/split_bams.py '\n",
    "    cmd += '--possorted_bam_file {} '.format(bam_file)\n",
    "    cmd += '--barcodes_file {} '.format(barcodes_file)\n",
    "    cmd += '--output_dir {} '.format(output_dir)\n",
    "    cmd += '--group'\n",
    "    return cmd"
   ]
  },
  {
   "cell_type": "code",
   "execution_count": 9,
   "metadata": {},
   "outputs": [
    {
     "data": {
      "text/plain": [
       "['module load python3essential;/home/bay001/projects/kris_apobec_20200121/scripts/split_bams.py --possorted_bam_file /home/bay001/projects/kris_apobec_20200121/permanent_data2/07_scRNA_groups/inputs/RBFOX2-TIA1-STAMP_round2E_read1_feature_FB_possorted_genome_bam_MD.bam --barcodes_file /home/bay001/projects/kris_apobec_20200121/permanent_data2/07_scRNA_groups/bam_file_groups/35_barcodes.tsv --output_dir /home/bay001/projects/kris_apobec_20200121/permanent_data2/07_scRNA_groups/bam_file_groups/ --group',\n",
       " 'module load python3essential;/home/bay001/projects/kris_apobec_20200121/scripts/split_bams.py --possorted_bam_file /home/bay001/projects/kris_apobec_20200121/permanent_data2/07_scRNA_groups/inputs/RBFOX2-TIA1-STAMP_round2E_read1_feature_FB_possorted_genome_bam_MD.bam --barcodes_file /home/bay001/projects/kris_apobec_20200121/permanent_data2/07_scRNA_groups/bam_file_groups/36_barcodes.tsv --output_dir /home/bay001/projects/kris_apobec_20200121/permanent_data2/07_scRNA_groups/bam_file_groups/ --group']"
      ]
     },
     "execution_count": 9,
     "metadata": {},
     "output_type": "execute_result"
    }
   ],
   "source": [
    "cmds = []\n",
    "# for barcodes in [os.path.join(output_dir, '33_barcodes.tsv'), os.path.join(output_dir, '34_barcodes.tsv')]:\n",
    "for barcodes in [os.path.join(output_dir, '35_barcodes.tsv'), os.path.join(output_dir, '36_barcodes.tsv')]:\n",
    "    cmds.append(generate_commandline_for_splitting(bam, barcodes, output_dir))\n",
    "cmds"
   ]
  },
  {
   "cell_type": "code",
   "execution_count": 10,
   "metadata": {},
   "outputs": [
    {
     "name": "stderr",
     "output_type": "stream",
     "text": [
      "Writing 2 tasks as an array-job.\n",
      "Wrote commands to subset_barcodes2.sh.\n",
      "Submitted script to queue home.\n",
      " Job ID: 21950864\n"
     ]
    },
    {
     "data": {
      "text/plain": [
       "<qtools.submitter.Submitter at 0x2b1b867d82d0>"
      ]
     },
     "execution_count": 10,
     "metadata": {},
     "output_type": "execute_result"
    }
   ],
   "source": [
    "Submitter(cmds, 'subset_barcodes2', array=True, nodes=1, ppn=1, walltime='8:00:00', submit=True)"
   ]
  },
  {
   "cell_type": "code",
   "execution_count": null,
   "metadata": {},
   "outputs": [],
   "source": []
  }
 ],
 "metadata": {
  "kernelspec": {
   "display_name": "python2-essential",
   "language": "python",
   "name": "python2-essential"
  },
  "language_info": {
   "codemirror_mode": {
    "name": "ipython",
    "version": 2
   },
   "file_extension": ".py",
   "mimetype": "text/x-python",
   "name": "python",
   "nbconvert_exporter": "python",
   "pygments_lexer": "ipython2",
   "version": "2.7.15"
  }
 },
 "nbformat": 4,
 "nbformat_minor": 2
}
