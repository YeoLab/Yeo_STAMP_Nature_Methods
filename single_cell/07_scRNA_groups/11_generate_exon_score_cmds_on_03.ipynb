{
 "cells": [
  {
   "cell_type": "markdown",
   "metadata": {},
   "source": [
    "# Runs the script to generate windows across all exons (CDS, UTRs)"
   ]
  },
  {
   "cell_type": "code",
   "execution_count": 1,
   "metadata": {},
   "outputs": [],
   "source": [
    "import glob\n",
    "import os\n",
    "from qtools import Submitter\n",
    "from tqdm import tnrange, tqdm_notebook"
   ]
  },
  {
   "cell_type": "code",
   "execution_count": 2,
   "metadata": {},
   "outputs": [],
   "source": [
    "input_dir = '/home/bay001/projects/kris_apobec_20200121/permanent_data2/07_scRNA_groups/sailor_outputs_groups_deep/combined_outputs_w_cov_info/'\n",
    "output_dir = '/home/bay001/projects/kris_apobec_20200121/permanent_data2/07_scRNA_groups/window_outputs_deep/'"
   ]
  },
  {
   "cell_type": "code",
   "execution_count": 3,
   "metadata": {},
   "outputs": [
    {
     "name": "stdout",
     "output_type": "stream",
     "text": [
      "1\n"
     ]
    },
    {
     "data": {
      "text/plain": [
       "['/home/bay001/projects/kris_apobec_20200121/permanent_data2/07_scRNA_groups/sailor_outputs_groups_deep/combined_outputs_w_cov_info/RPS2-STAMP_possorted_genome_bam_MD.fx.annotated']"
      ]
     },
     "execution_count": 3,
     "metadata": {},
     "output_type": "execute_result"
    }
   ],
   "source": [
    "all_annotated = sorted(glob.glob(os.path.join(input_dir, 'RPS2-STAMP_possorted_genome_bam_MD.fx.annotated')))\n",
    "print(len(all_annotated))\n",
    "all_annotated[:3]"
   ]
  },
  {
   "cell_type": "markdown",
   "metadata": {},
   "source": [
    "# Write the commands to score all exon edits.\n",
    "- 2020-12-04 let's just look at CDS for now."
   ]
  },
  {
   "cell_type": "code",
   "execution_count": 4,
   "metadata": {},
   "outputs": [
    {
     "name": "stdout",
     "output_type": "stream",
     "text": [
      "1\n"
     ]
    }
   ],
   "source": [
    "# bg_edits_file = '/home/bay001/projects/kris_apobec_20200121/permanent_data/final_analysis/01_SAILOR_bulk_rnaseq/outputs/combined_outputs_w_cov_info/ApoControl-1000_S21_L002_R1_001.fastqTr.sorted.STARUnmapped.out.sorted.STARAligned.out.sorted_a0_b0_e0.01.bed'\n",
    "\n",
    "chrom_sizes_file = '/projects/ps-yeolab3/bay001/annotations/hg19/hg19.chrom.sizes'\n",
    "gtfdb_file = '/projects/ps-yeolab3/bay001/annotations/hg19/gencode_v19/gencode.v19.annotation.gtf.db'\n",
    "genome_fa = '/projects/ps-yeolab3/bay001/annotations/hg19/hg19.fa'\n",
    "\n",
    "cds_file = '/projects/ps-yeolab3/bay001/annotations/hg19/gencode_v19/hg19_v19_cds.bed'\n",
    "three_prime_utr_file = '/projects/ps-yeolab3/bay001/annotations/hg19/gencode_v19/hg19_v19_three_prime_utrs.bed'\n",
    "five_prime_utr_file = '/projects/ps-yeolab3/bay001/annotations/hg19/gencode_v19/hg19_v19_five_prime_utrs.bed'\n",
    "\n",
    "cmds = []\n",
    "for annotated in all_annotated:\n",
    "    output_file = os.path.join(output_dir, os.path.basename(annotated) + '.exons.txt')\n",
    "    output_file_summed = os.path.join(output_dir, os.path.basename(annotated) + '.exons.merged.txt')\n",
    "    \n",
    "    pos_bw = os.path.splitext(annotated)[0][:-3] + '.fwd.sorted.rmdup.readfiltered.sorted.bw' # [:-3] to remove the \".fx\"\n",
    "    neg_bw = os.path.splitext(annotated)[0][:-3] + '.rev.sorted.rmdup.readfiltered.sorted.bw'\n",
    "    if not os.path.exists(output_file) and (os.path.exists(pos_bw) and os.path.exists(neg_bw)):\n",
    "        cmd = 'module load python3essential;'\n",
    "        cmd += '/home/bay001/projects/kris_apobec_20200121/scripts/score_edits_total_exon_coverage_sc.py '\n",
    "        cmd += '--conf 0 ' \n",
    "        cmd += '--gtfdb {} '.format(gtfdb_file)\n",
    "        cmd += '--chrom_sizes_file {} '.format(chrom_sizes_file)\n",
    "        cmd += '--pos_bw {} '.format(pos_bw)\n",
    "        cmd += '--neg_bw {} '.format(neg_bw)\n",
    "        cmd += '--annotated_edits_file {} '.format(annotated)\n",
    "        # cmd += '--bg_edits_file {} '.format(bg_edits_file)\n",
    "        cmd += '--genome_fa {} '.format(genome_fa)\n",
    "        cmd += '--output_file {} '.format(output_file)\n",
    "        cmd += '--output_file_summed {} '.format(output_file_summed)\n",
    "        cmd += '--three_prime_utr_file {} '.format(three_prime_utr_file)\n",
    "        cmd += '--five_prime_utr_file {} '.format(five_prime_utr_file)\n",
    "        cmd += '--cds_file {} '.format(cds_file)\n",
    "        cmds.append(cmd)\n",
    "    elif not os.path.exists(pos_bw):\n",
    "        print(\"{} does not exist.\".format(pos_bw))\n",
    "    elif not os.path.exists(neg_bw):\n",
    "        print(\"{} does not exist.\".format(neg_bw))\n",
    "print(len(cmds))"
   ]
  },
  {
   "cell_type": "code",
   "execution_count": 5,
   "metadata": {},
   "outputs": [
    {
     "data": {
      "text/plain": [
       "['module load python3essential;/home/bay001/projects/kris_apobec_20200121/scripts/score_edits_total_exon_coverage_sc.py --conf 0 --gtfdb /projects/ps-yeolab3/bay001/annotations/hg19/gencode_v19/gencode.v19.annotation.gtf.db --chrom_sizes_file /projects/ps-yeolab3/bay001/annotations/hg19/hg19.chrom.sizes --pos_bw /home/bay001/projects/kris_apobec_20200121/permanent_data2/07_scRNA_groups/sailor_outputs_groups_deep/combined_outputs_w_cov_info/RPS2-STAMP_possorted_genome_bam_MD.fwd.sorted.rmdup.readfiltered.sorted.bw --neg_bw /home/bay001/projects/kris_apobec_20200121/permanent_data2/07_scRNA_groups/sailor_outputs_groups_deep/combined_outputs_w_cov_info/RPS2-STAMP_possorted_genome_bam_MD.rev.sorted.rmdup.readfiltered.sorted.bw --annotated_edits_file /home/bay001/projects/kris_apobec_20200121/permanent_data2/07_scRNA_groups/sailor_outputs_groups_deep/combined_outputs_w_cov_info/RPS2-STAMP_possorted_genome_bam_MD.fx.annotated --genome_fa /projects/ps-yeolab3/bay001/annotations/hg19/hg19.fa --output_file /home/bay001/projects/kris_apobec_20200121/permanent_data2/07_scRNA_groups/window_outputs_deep/RPS2-STAMP_possorted_genome_bam_MD.fx.annotated.exons.txt --output_file_summed /home/bay001/projects/kris_apobec_20200121/permanent_data2/07_scRNA_groups/window_outputs_deep/RPS2-STAMP_possorted_genome_bam_MD.fx.annotated.exons.merged.txt --three_prime_utr_file /projects/ps-yeolab3/bay001/annotations/hg19/gencode_v19/hg19_v19_three_prime_utrs.bed --five_prime_utr_file /projects/ps-yeolab3/bay001/annotations/hg19/gencode_v19/hg19_v19_five_prime_utrs.bed --cds_file /projects/ps-yeolab3/bay001/annotations/hg19/gencode_v19/hg19_v19_cds.bed ']"
      ]
     },
     "execution_count": 5,
     "metadata": {},
     "output_type": "execute_result"
    }
   ],
   "source": [
    "cmds"
   ]
  },
  {
   "cell_type": "code",
   "execution_count": 6,
   "metadata": {},
   "outputs": [],
   "source": [
    "# Submitter(commands=cmds, job_name='score_exon_edits', array=True, nodes=1, ppn=4, submit=True, walltime='48:00:00')"
   ]
  },
  {
   "cell_type": "code",
   "execution_count": null,
   "metadata": {},
   "outputs": [],
   "source": []
  }
 ],
 "metadata": {
  "kernelspec": {
   "display_name": "python2-essential",
   "language": "python",
   "name": "python2-essential"
  },
  "language_info": {
   "codemirror_mode": {
    "name": "ipython",
    "version": 2
   },
   "file_extension": ".py",
   "mimetype": "text/x-python",
   "name": "python",
   "nbconvert_exporter": "python",
   "pygments_lexer": "ipython2",
   "version": "2.7.15"
  }
 },
 "nbformat": 4,
 "nbformat_minor": 2
}
