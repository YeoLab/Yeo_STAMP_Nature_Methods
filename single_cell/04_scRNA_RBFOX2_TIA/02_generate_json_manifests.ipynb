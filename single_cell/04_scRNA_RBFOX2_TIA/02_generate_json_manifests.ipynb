{
 "cells": [
  {
   "cell_type": "markdown",
   "metadata": {},
   "source": [
    "# Generates the JSON manifests that are used to run the SAILOR pipeline\n",
    "- Use sailor/1.1.0 so that we can capture C/T edits. The current released version only does A/G"
   ]
  },
  {
   "cell_type": "code",
   "execution_count": 1,
   "metadata": {},
   "outputs": [],
   "source": [
    "import yaml\n",
    "import os\n",
    "import pandas as pd\n",
    "import glob\n",
    "from qtools import Submitter\n",
    "from tqdm import tnrange, tqdm_notebook\n",
    "import time"
   ]
  },
  {
   "cell_type": "code",
   "execution_count": 2,
   "metadata": {},
   "outputs": [],
   "source": [
    "input_dir = '/home/bay001/projects/kris_apobec_20200121/permanent_data2/04_scRNA_RBFOX2_TIA/bam_files/'\n",
    "output_dir = '/home/bay001/projects/kris_apobec_20200121/permanent_data2/04_scRNA_RBFOX2_TIA/sailor_outputs_individual_barcodes'\n",
    "\n",
    "ref_dir = '/home/bay001/projects/kris_apobec_20200121/permanent_data2/04_scRNA_RBFOX2_TIA/inputs'"
   ]
  },
  {
   "cell_type": "code",
   "execution_count": 3,
   "metadata": {},
   "outputs": [
    {
     "name": "stdout",
     "output_type": "stream",
     "text": [
      "20617\n"
     ]
    },
    {
     "data": {
      "text/plain": [
       "['/home/bay001/projects/kris_apobec_20200121/permanent_data2/04_scRNA_RBFOX2_TIA/bam_files/possorted_genome_bam_MD-GCCAGGTGTCATAAAG-1.bam',\n",
       " '/home/bay001/projects/kris_apobec_20200121/permanent_data2/04_scRNA_RBFOX2_TIA/bam_files/possorted_genome_bam_MD-GGGATGAGTCTTGCGG-1.bam',\n",
       " '/home/bay001/projects/kris_apobec_20200121/permanent_data2/04_scRNA_RBFOX2_TIA/bam_files/possorted_genome_bam_MD-AGTGCCGCACCGCTGA-1.bam']"
      ]
     },
     "execution_count": 3,
     "metadata": {},
     "output_type": "execute_result"
    }
   ],
   "source": [
    "### I'm re-running this notebook a few times on a few different groups of bam files\n",
    "bams = glob.glob(os.path.join(input_dir, '*-1.bam'))\n",
    "print(len(bams))\n",
    "bams[:3]"
   ]
  },
  {
   "cell_type": "code",
   "execution_count": 4,
   "metadata": {},
   "outputs": [],
   "source": [
    "for nt in ['A', 'C', 'G', 'T']:\n",
    "    for nt2 in ['A', 'C', 'G', 'T']:\n",
    "        if not os.path.exists(output_dir + '_{}{}'.format(nt, nt2)):\n",
    "            split_output = os.path.join(output_dir + '_{}{}'.format(nt, nt2))\n",
    "            ! mkdir $split_output"
   ]
  },
  {
   "cell_type": "markdown",
   "metadata": {},
   "source": [
    "# This block generates SAILOR json manifest runner files."
   ]
  },
  {
   "cell_type": "code",
   "execution_count": 5,
   "metadata": {},
   "outputs": [
    {
     "data": {
      "application/vnd.jupyter.widget-view+json": {
       "model_id": "f74e7d47dd134b4faf8590805dc113f9",
       "version_major": 2,
       "version_minor": 0
      },
      "text/plain": [
       "HBox(children=(IntProgress(value=0, max=20617), HTML(value=u'')))"
      ]
     },
     "metadata": {},
     "output_type": "display_data"
    }
   ],
   "source": [
    "genome_file = os.path.join(ref_dir, 'refdata-cellranger-hg19_lenti_common-3.0.0/fasta/genome.fa')\n",
    "snp_file = os.path.join(ref_dir, 'hg19.commonSNPs147.bed3')\n",
    "\n",
    "assert os.path.exists(genome_file)\n",
    "assert os.path.exists(snp_file)\n",
    "\n",
    "skip_rmdup = \"true\"\n",
    "progress = tnrange(len(bams))\n",
    "for bam in bams:\n",
    "    prefix = os.path.basename(bam).split('_MD-')[1][:2]\n",
    "    split_output_dir = output_dir + \"_{}\".format(prefix)\n",
    "    \n",
    "    sample = {\"input_bam\": {\n",
    "        'class':'File',\n",
    "        'path':bam\n",
    "    }}\n",
    "    fa = {\"reference\": {\n",
    "        'class':'File',\n",
    "        'path':genome_file\n",
    "    }}\n",
    "    known_snp = {\"known_snp\": {\n",
    "        'class':'File',\n",
    "        'path':snp_file\n",
    "    }}\n",
    "    with open(\n",
    "        os.path.join(\n",
    "            split_output_dir, '{}.json'.format(\n",
    "                os.path.basename(bam).split('.')[0]\n",
    "            )\n",
    "        ), 'w'\n",
    "    ) as o:\n",
    "        o.write(\"#!/usr/bin/env SAILOR\\n\")\n",
    "        yaml.dump(sample, o, default_flow_style=False)\n",
    "        yaml.dump(known_snp, o, default_flow_style=False)\n",
    "        yaml.dump(fa, o, default_flow_style=False)\n",
    "        o.write(\"ct: true\\n\")\n",
    "        o.write(\"min_variant_coverage: 5\\n\")\n",
    "        o.write(\"alpha: {}\\n\".format(0))\n",
    "        o.write(\"beta: {}\\n\".format(0))\n",
    "        o.write(\"edit_fraction: {}\\n\".format(0.01))\n",
    "        o.write(\"skip_duplicate_removal: {}\\n\".format(skip_rmdup))\n",
    "        o.write(\"reverse_stranded_library: false\\n\")\n",
    "    progress.update(1)"
   ]
  },
  {
   "cell_type": "markdown",
   "metadata": {},
   "source": [
    "# Grab all JSON files created from the above cell."
   ]
  },
  {
   "cell_type": "code",
   "execution_count": 6,
   "metadata": {},
   "outputs": [
    {
     "name": "stdout",
     "output_type": "stream",
     "text": [
      "20617\n"
     ]
    }
   ],
   "source": [
    "jsons = []\n",
    "for nt in ['A', 'C', 'G', 'T']:\n",
    "    for nt2 in ['A', 'C', 'G', 'T']:\n",
    "        split_output = os.path.join(output_dir + '_{}{}'.format(nt, nt2))\n",
    "        jsons += glob.glob(os.path.join(split_output, '*.json'))\n",
    "print(len(jsons))"
   ]
  },
  {
   "cell_type": "markdown",
   "metadata": {},
   "source": [
    "# It is worth looking at one of the json files to make sure things look ok so far. \n",
    "- Also worth trying to run one of the commands to make sure the pipeline works before submitting a ton of jobs."
   ]
  },
  {
   "cell_type": "code",
   "execution_count": 7,
   "metadata": {},
   "outputs": [
    {
     "data": {
      "text/plain": [
       "['/home/bay001/projects/kris_apobec_20200121/permanent_data2/04_scRNA_RBFOX2_TIA/sailor_outputs_individual_barcodes_AA/possorted_genome_bam_MD-AAGACAATCATAAGGA-1.json',\n",
       " '/home/bay001/projects/kris_apobec_20200121/permanent_data2/04_scRNA_RBFOX2_TIA/sailor_outputs_individual_barcodes_AA/possorted_genome_bam_MD-AAGATAGGTAACGCGA-1.json',\n",
       " '/home/bay001/projects/kris_apobec_20200121/permanent_data2/04_scRNA_RBFOX2_TIA/sailor_outputs_individual_barcodes_AA/possorted_genome_bam_MD-AATTTCCGTCCGGTCA-1.json']"
      ]
     },
     "execution_count": 7,
     "metadata": {},
     "output_type": "execute_result"
    }
   ],
   "source": [
    "jsons[:3]"
   ]
  },
  {
   "cell_type": "code",
   "execution_count": 8,
   "metadata": {},
   "outputs": [
    {
     "data": {
      "application/vnd.jupyter.widget-view+json": {
       "model_id": "8b944887c341420984d1438e812a77c8",
       "version_major": 2,
       "version_minor": 0
      },
      "text/plain": [
       "HBox(children=(IntProgress(value=0, max=20617), HTML(value=u'')))"
      ]
     },
     "metadata": {},
     "output_type": "display_data"
    },
    {
     "data": {
      "text/plain": [
       "['module load sailor/1.1.0;cd /home/bay001/projects/kris_apobec_20200121/permanent_data2/04_scRNA_RBFOX2_TIA/sailor_outputs_individual_barcodes_AA;./possorted_genome_bam_MD-AAGACAATCATAAGGA-1.json;cd /home/bay001/projects/kris_apobec_20200121/permanent_data2/04_scRNA_RBFOX2_TIA/sailor_outputs_individual_barcodes_AA;./possorted_genome_bam_MD-AAGATAGGTAACGCGA-1.json;cd /home/bay001/projects/kris_apobec_20200121/permanent_data2/04_scRNA_RBFOX2_TIA/sailor_outputs_individual_barcodes_AA;./possorted_genome_bam_MD-AATTTCCGTCCGGTCA-1.json;cd /home/bay001/projects/kris_apobec_20200121/permanent_data2/04_scRNA_RBFOX2_TIA/sailor_outputs_individual_barcodes_AA;./possorted_genome_bam_MD-AAGACAACATGACTGT-1.json;cd /home/bay001/projects/kris_apobec_20200121/permanent_data2/04_scRNA_RBFOX2_TIA/sailor_outputs_individual_barcodes_AA;./possorted_genome_bam_MD-AATAGAGTCTGGTGCG-1.json;cd /home/bay001/projects/kris_apobec_20200121/permanent_data2/04_scRNA_RBFOX2_TIA/sailor_outputs_individual_barcodes_AA;./possorted_genome_bam_MD-AAAGTGATCTAGAGCT-1.json;cd /home/bay001/projects/kris_apobec_20200121/permanent_data2/04_scRNA_RBFOX2_TIA/sailor_outputs_individual_barcodes_AA;./possorted_genome_bam_MD-AACCTGAAGTGTACCT-1.json;cd /home/bay001/projects/kris_apobec_20200121/permanent_data2/04_scRNA_RBFOX2_TIA/sailor_outputs_individual_barcodes_AA;./possorted_genome_bam_MD-AATCACGAGCTGCGAA-1.json;cd /home/bay001/projects/kris_apobec_20200121/permanent_data2/04_scRNA_RBFOX2_TIA/sailor_outputs_individual_barcodes_AA;./possorted_genome_bam_MD-AAGTGAAGTCATCCCT-1.json;cd /home/bay001/projects/kris_apobec_20200121/permanent_data2/04_scRNA_RBFOX2_TIA/sailor_outputs_individual_barcodes_AA;./possorted_genome_bam_MD-AAGTCGTTCGGCATTA-1.json;cd /home/bay001/projects/kris_apobec_20200121/permanent_data2/04_scRNA_RBFOX2_TIA/sailor_outputs_individual_barcodes_AA;./possorted_genome_bam_MD-AAAGGATCACGGTGCT-1.json;cd /home/bay001/projects/kris_apobec_20200121/permanent_data2/04_scRNA_RBFOX2_TIA/sailor_outputs_individual_barcodes_AA;./possorted_genome_bam_MD-AAAGTCCGTTCCTAGA-1.json;cd /home/bay001/projects/kris_apobec_20200121/permanent_data2/04_scRNA_RBFOX2_TIA/sailor_outputs_individual_barcodes_AA;./possorted_genome_bam_MD-AATCGACGTGTTGATC-1.json;cd /home/bay001/projects/kris_apobec_20200121/permanent_data2/04_scRNA_RBFOX2_TIA/sailor_outputs_individual_barcodes_AA;./possorted_genome_bam_MD-AAACCCACATCTATCT-1.json;cd /home/bay001/projects/kris_apobec_20200121/permanent_data2/04_scRNA_RBFOX2_TIA/sailor_outputs_individual_barcodes_AA;./possorted_genome_bam_MD-AATGAAGTCCCGAAAT-1.json;cd /home/bay001/projects/kris_apobec_20200121/permanent_data2/04_scRNA_RBFOX2_TIA/sailor_outputs_individual_barcodes_AA;./possorted_genome_bam_MD-AACACACGTATCCCAA-1.json;cd /home/bay001/projects/kris_apobec_20200121/permanent_data2/04_scRNA_RBFOX2_TIA/sailor_outputs_individual_barcodes_AA;./possorted_genome_bam_MD-AACTTCTTCTCTAAGG-1.json;cd /home/bay001/projects/kris_apobec_20200121/permanent_data2/04_scRNA_RBFOX2_TIA/sailor_outputs_individual_barcodes_AA;./possorted_genome_bam_MD-AACCCAACAATCGCAT-1.json;cd /home/bay001/projects/kris_apobec_20200121/permanent_data2/04_scRNA_RBFOX2_TIA/sailor_outputs_individual_barcodes_AA;./possorted_genome_bam_MD-AAAGTGAAGGCACAAC-1.json;cd /home/bay001/projects/kris_apobec_20200121/permanent_data2/04_scRNA_RBFOX2_TIA/sailor_outputs_individual_barcodes_AA;./possorted_genome_bam_MD-AACGGGATCGGCATTA-1.json;cd /home/bay001/projects/kris_apobec_20200121/permanent_data2/04_scRNA_RBFOX2_TIA/sailor_outputs_individual_barcodes_AA;./possorted_genome_bam_MD-AAGGAATCATGAAGGC-1.json;cd /home/bay001/projects/kris_apobec_20200121/permanent_data2/04_scRNA_RBFOX2_TIA/sailor_outputs_individual_barcodes_AA;./possorted_genome_bam_MD-AAGACTCCATGCCGCA-1.json;cd /home/bay001/projects/kris_apobec_20200121/permanent_data2/04_scRNA_RBFOX2_TIA/sailor_outputs_individual_barcodes_AA;./possorted_genome_bam_MD-AAGCGAGGTGACACAG-1.json;cd /home/bay001/projects/kris_apobec_20200121/permanent_data2/04_scRNA_RBFOX2_TIA/sailor_outputs_individual_barcodes_AA;./possorted_genome_bam_MD-AACGTCAGTCAGGTAG-1.json;cd /home/bay001/projects/kris_apobec_20200121/permanent_data2/04_scRNA_RBFOX2_TIA/sailor_outputs_individual_barcodes_AA;./possorted_genome_bam_MD-AAAGTCCGTAACATAG-1.json;cd /home/bay001/projects/kris_apobec_20200121/permanent_data2/04_scRNA_RBFOX2_TIA/sailor_outputs_individual_barcodes_AA;./possorted_genome_bam_MD-AAGTTCGGTAACCAGG-1.json;cd /home/bay001/projects/kris_apobec_20200121/permanent_data2/04_scRNA_RBFOX2_TIA/sailor_outputs_individual_barcodes_AA;./possorted_genome_bam_MD-AATCACGAGTCCTACA-1.json;cd /home/bay001/projects/kris_apobec_20200121/permanent_data2/04_scRNA_RBFOX2_TIA/sailor_outputs_individual_barcodes_AA;./possorted_genome_bam_MD-AATTCCTCATCGATGT-1.json;cd /home/bay001/projects/kris_apobec_20200121/permanent_data2/04_scRNA_RBFOX2_TIA/sailor_outputs_individual_barcodes_AA;./possorted_genome_bam_MD-AATCGTGGTGATAGTA-1.json;cd /home/bay001/projects/kris_apobec_20200121/permanent_data2/04_scRNA_RBFOX2_TIA/sailor_outputs_individual_barcodes_AA;./possorted_genome_bam_MD-AAACGCTTCGGTTGTA-1.json;cd /home/bay001/projects/kris_apobec_20200121/permanent_data2/04_scRNA_RBFOX2_TIA/sailor_outputs_individual_barcodes_AA;./possorted_genome_bam_MD-AAATGGAGTCCTGTTC-1.json;cd /home/bay001/projects/kris_apobec_20200121/permanent_data2/04_scRNA_RBFOX2_TIA/sailor_outputs_individual_barcodes_AA;./possorted_genome_bam_MD-AACCTGAGTAAGGTCG-1.json;cd /home/bay001/projects/kris_apobec_20200121/permanent_data2/04_scRNA_RBFOX2_TIA/sailor_outputs_individual_barcodes_AA;./possorted_genome_bam_MD-AACGGGATCGAACGCC-1.json;cd /home/bay001/projects/kris_apobec_20200121/permanent_data2/04_scRNA_RBFOX2_TIA/sailor_outputs_individual_barcodes_AA;./possorted_genome_bam_MD-AAGCGAGCAAGCTGTT-1.json;cd /home/bay001/projects/kris_apobec_20200121/permanent_data2/04_scRNA_RBFOX2_TIA/sailor_outputs_individual_barcodes_AA;./possorted_genome_bam_MD-AAGACTCAGACGCCCT-1.json;cd /home/bay001/projects/kris_apobec_20200121/permanent_data2/04_scRNA_RBFOX2_TIA/sailor_outputs_individual_barcodes_AA;./possorted_genome_bam_MD-AAAGTGAAGGGCATGT-1.json;cd /home/bay001/projects/kris_apobec_20200121/permanent_data2/04_scRNA_RBFOX2_TIA/sailor_outputs_individual_barcodes_AA;./possorted_genome_bam_MD-AATAGAGCAGATTAAG-1.json;cd /home/bay001/projects/kris_apobec_20200121/permanent_data2/04_scRNA_RBFOX2_TIA/sailor_outputs_individual_barcodes_AA;./possorted_genome_bam_MD-AAGCCATGTGTGTCCG-1.json;cd /home/bay001/projects/kris_apobec_20200121/permanent_data2/04_scRNA_RBFOX2_TIA/sailor_outputs_individual_barcodes_AA;./possorted_genome_bam_MD-AAATGGATCCTGTAAG-1.json;cd /home/bay001/projects/kris_apobec_20200121/permanent_data2/04_scRNA_RBFOX2_TIA/sailor_outputs_individual_barcodes_AA;./possorted_genome_bam_MD-AAGAACATCCTCTAGC-1.json;cd /home/bay001/projects/kris_apobec_20200121/permanent_data2/04_scRNA_RBFOX2_TIA/sailor_outputs_individual_barcodes_AA;./possorted_genome_bam_MD-AACAACCTCTGGAGAG-1.json;cd /home/bay001/projects/kris_apobec_20200121/permanent_data2/04_scRNA_RBFOX2_TIA/sailor_outputs_individual_barcodes_AA;./possorted_genome_bam_MD-AAACCCAAGAAGCGAA-1.json;cd /home/bay001/projects/kris_apobec_20200121/permanent_data2/04_scRNA_RBFOX2_TIA/sailor_outputs_individual_barcodes_AA;./possorted_genome_bam_MD-AACGTCACATTCTCCG-1.json;cd /home/bay001/projects/kris_apobec_20200121/permanent_data2/04_scRNA_RBFOX2_TIA/sailor_outputs_individual_barcodes_AA;./possorted_genome_bam_MD-AACTTCTTCCTGGGAC-1.json;cd /home/bay001/projects/kris_apobec_20200121/permanent_data2/04_scRNA_RBFOX2_TIA/sailor_outputs_individual_barcodes_AA;./possorted_genome_bam_MD-AAGACTCGTTTGCCGG-1.json;cd /home/bay001/projects/kris_apobec_20200121/permanent_data2/04_scRNA_RBFOX2_TIA/sailor_outputs_individual_barcodes_AA;./possorted_genome_bam_MD-AAGCATCTCATCTATC-1.json;cd /home/bay001/projects/kris_apobec_20200121/permanent_data2/04_scRNA_RBFOX2_TIA/sailor_outputs_individual_barcodes_AA;./possorted_genome_bam_MD-AATTCCTCATCGTGGC-1.json;cd /home/bay001/projects/kris_apobec_20200121/permanent_data2/04_scRNA_RBFOX2_TIA/sailor_outputs_individual_barcodes_AA;./possorted_genome_bam_MD-AACAAAGTCTTTCAGT-1.json;cd /home/bay001/projects/kris_apobec_20200121/permanent_data2/04_scRNA_RBFOX2_TIA/sailor_outputs_individual_barcodes_AA;./possorted_genome_bam_MD-AAGTTCGGTAGCGAGT-1.json;cd /home/bay001/projects/kris_apobec_20200121/permanent_data2/04_scRNA_RBFOX2_TIA/sailor_outputs_individual_barcodes_AA;./possorted_genome_bam_MD-AAAGTCCAGAGAACCC-1.json;',\n",
       " 'module load sailor/1.1.0;cd /home/bay001/projects/kris_apobec_20200121/permanent_data2/04_scRNA_RBFOX2_TIA/sailor_outputs_individual_barcodes_AA;./possorted_genome_bam_MD-AACCACAAGGATCATA-1.json;cd /home/bay001/projects/kris_apobec_20200121/permanent_data2/04_scRNA_RBFOX2_TIA/sailor_outputs_individual_barcodes_AA;./possorted_genome_bam_MD-AACAGGGGTTGTGTAC-1.json;cd /home/bay001/projects/kris_apobec_20200121/permanent_data2/04_scRNA_RBFOX2_TIA/sailor_outputs_individual_barcodes_AA;./possorted_genome_bam_MD-AACAACCGTTTGATCG-1.json;cd /home/bay001/projects/kris_apobec_20200121/permanent_data2/04_scRNA_RBFOX2_TIA/sailor_outputs_individual_barcodes_AA;./possorted_genome_bam_MD-AAACGCTAGGCTCCCA-1.json;cd /home/bay001/projects/kris_apobec_20200121/permanent_data2/04_scRNA_RBFOX2_TIA/sailor_outputs_individual_barcodes_AA;./possorted_genome_bam_MD-AATTTCCTCGGCCTTT-1.json;cd /home/bay001/projects/kris_apobec_20200121/permanent_data2/04_scRNA_RBFOX2_TIA/sailor_outputs_individual_barcodes_AA;./possorted_genome_bam_MD-AACAAGATCCGCGGAT-1.json;cd /home/bay001/projects/kris_apobec_20200121/permanent_data2/04_scRNA_RBFOX2_TIA/sailor_outputs_individual_barcodes_AA;./possorted_genome_bam_MD-AAGTCGTCAATACCTG-1.json;cd /home/bay001/projects/kris_apobec_20200121/permanent_data2/04_scRNA_RBFOX2_TIA/sailor_outputs_individual_barcodes_AA;./possorted_genome_bam_MD-AAGAACAAGGCGTTAG-1.json;cd /home/bay001/projects/kris_apobec_20200121/permanent_data2/04_scRNA_RBFOX2_TIA/sailor_outputs_individual_barcodes_AA;./possorted_genome_bam_MD-AACCACATCTTAGCAG-1.json;cd /home/bay001/projects/kris_apobec_20200121/permanent_data2/04_scRNA_RBFOX2_TIA/sailor_outputs_individual_barcodes_AA;./possorted_genome_bam_MD-AAAGGGCCAAGATGGC-1.json;cd /home/bay001/projects/kris_apobec_20200121/permanent_data2/04_scRNA_RBFOX2_TIA/sailor_outputs_individual_barcodes_AA;./possorted_genome_bam_MD-AACACACAGCTGACTT-1.json;cd /home/bay001/projects/kris_apobec_20200121/permanent_data2/04_scRNA_RBFOX2_TIA/sailor_outputs_individual_barcodes_AA;./possorted_genome_bam_MD-AATGAAGGTGACTATC-1.json;cd /home/bay001/projects/kris_apobec_20200121/permanent_data2/04_scRNA_RBFOX2_TIA/sailor_outputs_individual_barcodes_AA;./possorted_genome_bam_MD-AAGGAATGTTTCTATC-1.json;cd /home/bay001/projects/kris_apobec_20200121/permanent_data2/04_scRNA_RBFOX2_TIA/sailor_outputs_individual_barcodes_AA;./possorted_genome_bam_MD-AAAGAACTCCTCTAGC-1.json;cd /home/bay001/projects/kris_apobec_20200121/permanent_data2/04_scRNA_RBFOX2_TIA/sailor_outputs_individual_barcodes_AA;./possorted_genome_bam_MD-AAGCATCCATGACGTT-1.json;cd /home/bay001/projects/kris_apobec_20200121/permanent_data2/04_scRNA_RBFOX2_TIA/sailor_outputs_individual_barcodes_AA;./possorted_genome_bam_MD-AACTTCTGTTTCCATT-1.json;cd /home/bay001/projects/kris_apobec_20200121/permanent_data2/04_scRNA_RBFOX2_TIA/sailor_outputs_individual_barcodes_AA;./possorted_genome_bam_MD-AACAAAGGTTTGGCTA-1.json;cd /home/bay001/projects/kris_apobec_20200121/permanent_data2/04_scRNA_RBFOX2_TIA/sailor_outputs_individual_barcodes_AA;./possorted_genome_bam_MD-AAGACAACAGGTCCCA-1.json;cd /home/bay001/projects/kris_apobec_20200121/permanent_data2/04_scRNA_RBFOX2_TIA/sailor_outputs_individual_barcodes_AA;./possorted_genome_bam_MD-AATGACCTCAAGTTGC-1.json;cd /home/bay001/projects/kris_apobec_20200121/permanent_data2/04_scRNA_RBFOX2_TIA/sailor_outputs_individual_barcodes_AA;./possorted_genome_bam_MD-AAAGGATCAACCAACT-1.json;cd /home/bay001/projects/kris_apobec_20200121/permanent_data2/04_scRNA_RBFOX2_TIA/sailor_outputs_individual_barcodes_AA;./possorted_genome_bam_MD-AACAGGGGTACCCACG-1.json;cd /home/bay001/projects/kris_apobec_20200121/permanent_data2/04_scRNA_RBFOX2_TIA/sailor_outputs_individual_barcodes_AA;./possorted_genome_bam_MD-AATTTCCTCCACTTCG-1.json;cd /home/bay001/projects/kris_apobec_20200121/permanent_data2/04_scRNA_RBFOX2_TIA/sailor_outputs_individual_barcodes_AA;./possorted_genome_bam_MD-AAACCCAGTGTTAGCT-1.json;cd /home/bay001/projects/kris_apobec_20200121/permanent_data2/04_scRNA_RBFOX2_TIA/sailor_outputs_individual_barcodes_AA;./possorted_genome_bam_MD-AATGGAACAGATTCGT-1.json;cd /home/bay001/projects/kris_apobec_20200121/permanent_data2/04_scRNA_RBFOX2_TIA/sailor_outputs_individual_barcodes_AA;./possorted_genome_bam_MD-AATGGAAGTCCCTCAT-1.json;cd /home/bay001/projects/kris_apobec_20200121/permanent_data2/04_scRNA_RBFOX2_TIA/sailor_outputs_individual_barcodes_AA;./possorted_genome_bam_MD-AACAACCAGGATCATA-1.json;cd /home/bay001/projects/kris_apobec_20200121/permanent_data2/04_scRNA_RBFOX2_TIA/sailor_outputs_individual_barcodes_AA;./possorted_genome_bam_MD-AAGTTCGTCCATTCAT-1.json;cd /home/bay001/projects/kris_apobec_20200121/permanent_data2/04_scRNA_RBFOX2_TIA/sailor_outputs_individual_barcodes_AA;./possorted_genome_bam_MD-AACCTTTCAGGTTTAC-1.json;cd /home/bay001/projects/kris_apobec_20200121/permanent_data2/04_scRNA_RBFOX2_TIA/sailor_outputs_individual_barcodes_AA;./possorted_genome_bam_MD-AATGACCCACACACGC-1.json;cd /home/bay001/projects/kris_apobec_20200121/permanent_data2/04_scRNA_RBFOX2_TIA/sailor_outputs_individual_barcodes_AA;./possorted_genome_bam_MD-AAAGAACCAGGACGAT-1.json;cd /home/bay001/projects/kris_apobec_20200121/permanent_data2/04_scRNA_RBFOX2_TIA/sailor_outputs_individual_barcodes_AA;./possorted_genome_bam_MD-AAAGGGCCACGCACCA-1.json;cd /home/bay001/projects/kris_apobec_20200121/permanent_data2/04_scRNA_RBFOX2_TIA/sailor_outputs_individual_barcodes_AA;./possorted_genome_bam_MD-AACCTGAAGGGCGAAG-1.json;cd /home/bay001/projects/kris_apobec_20200121/permanent_data2/04_scRNA_RBFOX2_TIA/sailor_outputs_individual_barcodes_AA;./possorted_genome_bam_MD-AAAGGGCAGCCTCAAT-1.json;cd /home/bay001/projects/kris_apobec_20200121/permanent_data2/04_scRNA_RBFOX2_TIA/sailor_outputs_individual_barcodes_AA;./possorted_genome_bam_MD-AAAGTCCTCTGAATGC-1.json;cd /home/bay001/projects/kris_apobec_20200121/permanent_data2/04_scRNA_RBFOX2_TIA/sailor_outputs_individual_barcodes_AA;./possorted_genome_bam_MD-AAAGTCCAGAGGCCAT-1.json;cd /home/bay001/projects/kris_apobec_20200121/permanent_data2/04_scRNA_RBFOX2_TIA/sailor_outputs_individual_barcodes_AA;./possorted_genome_bam_MD-AATAGAGCAGCACAAG-1.json;cd /home/bay001/projects/kris_apobec_20200121/permanent_data2/04_scRNA_RBFOX2_TIA/sailor_outputs_individual_barcodes_AA;./possorted_genome_bam_MD-AATCGACCATAACTCG-1.json;cd /home/bay001/projects/kris_apobec_20200121/permanent_data2/04_scRNA_RBFOX2_TIA/sailor_outputs_individual_barcodes_AA;./possorted_genome_bam_MD-AACTTCTAGTTTCGAC-1.json;cd /home/bay001/projects/kris_apobec_20200121/permanent_data2/04_scRNA_RBFOX2_TIA/sailor_outputs_individual_barcodes_AA;./possorted_genome_bam_MD-AACCAACAGTGTGTTC-1.json;cd /home/bay001/projects/kris_apobec_20200121/permanent_data2/04_scRNA_RBFOX2_TIA/sailor_outputs_individual_barcodes_AA;./possorted_genome_bam_MD-AATGGAATCTTAGTTC-1.json;cd /home/bay001/projects/kris_apobec_20200121/permanent_data2/04_scRNA_RBFOX2_TIA/sailor_outputs_individual_barcodes_AA;./possorted_genome_bam_MD-AATGGCTAGAGGACTC-1.json;cd /home/bay001/projects/kris_apobec_20200121/permanent_data2/04_scRNA_RBFOX2_TIA/sailor_outputs_individual_barcodes_AA;./possorted_genome_bam_MD-AACGGGAAGCAGCCTC-1.json;cd /home/bay001/projects/kris_apobec_20200121/permanent_data2/04_scRNA_RBFOX2_TIA/sailor_outputs_individual_barcodes_AA;./possorted_genome_bam_MD-AATGACCAGAGAGGGC-1.json;cd /home/bay001/projects/kris_apobec_20200121/permanent_data2/04_scRNA_RBFOX2_TIA/sailor_outputs_individual_barcodes_AA;./possorted_genome_bam_MD-AACCCAAGTAGAGACC-1.json;cd /home/bay001/projects/kris_apobec_20200121/permanent_data2/04_scRNA_RBFOX2_TIA/sailor_outputs_individual_barcodes_AA;./possorted_genome_bam_MD-AAGTACCAGTGCAGGT-1.json;cd /home/bay001/projects/kris_apobec_20200121/permanent_data2/04_scRNA_RBFOX2_TIA/sailor_outputs_individual_barcodes_AA;./possorted_genome_bam_MD-AATCACGCATGACAGG-1.json;cd /home/bay001/projects/kris_apobec_20200121/permanent_data2/04_scRNA_RBFOX2_TIA/sailor_outputs_individual_barcodes_AA;./possorted_genome_bam_MD-AACAACCCATAGTCAC-1.json;cd /home/bay001/projects/kris_apobec_20200121/permanent_data2/04_scRNA_RBFOX2_TIA/sailor_outputs_individual_barcodes_AA;./possorted_genome_bam_MD-AATGGAACAGTTCCAA-1.json;cd /home/bay001/projects/kris_apobec_20200121/permanent_data2/04_scRNA_RBFOX2_TIA/sailor_outputs_individual_barcodes_AA;./possorted_genome_bam_MD-AAAGTGAGTCGCTTGG-1.json;cd /home/bay001/projects/kris_apobec_20200121/permanent_data2/04_scRNA_RBFOX2_TIA/sailor_outputs_individual_barcodes_AA;./possorted_genome_bam_MD-AACAAAGCACTTCATT-1.json;']"
      ]
     },
     "execution_count": 8,
     "metadata": {},
     "output_type": "execute_result"
    }
   ],
   "source": [
    "cmds = []\n",
    "\n",
    "def chunker(seq, size):\n",
    "    \"\"\"\n",
    "    Chunks a long list into groups of (size).\n",
    "    \"\"\"\n",
    "    return (seq[pos:pos + size] for pos in range(0, len(seq), size))\n",
    "\n",
    "groupsize = 50 # 50 sailor runs per job.\n",
    "progress = tnrange(len(jsons))\n",
    "for json_group in chunker(jsons, groupsize):\n",
    "    cmd = 'module load sailor/1.1.0;'\n",
    "    for json in json_group:\n",
    "        prefix = os.path.basename(json).split('_MD-')[1][:2]\n",
    "        split_output_dir = output_dir + \"_{}\".format(prefix)\n",
    "        ! chmod +x $json\n",
    "        cmd += 'cd {};'.format(split_output_dir)\n",
    "        cmd += './{};'.format(os.path.basename(json))\n",
    "        progress.update(1)\n",
    "    cmds.append(cmd)\n",
    "cmds[:2]"
   ]
  },
  {
   "cell_type": "code",
   "execution_count": 9,
   "metadata": {},
   "outputs": [
    {
     "name": "stdout",
     "output_type": "stream",
     "text": [
      "total commands: 413\n"
     ]
    }
   ],
   "source": [
    "print(\"total commands: {}\".format(len(cmds)))"
   ]
  },
  {
   "cell_type": "code",
   "execution_count": 10,
   "metadata": {},
   "outputs": [
    {
     "name": "stderr",
     "output_type": "stream",
     "text": [
      "Writing 413 tasks as an array-job.\n",
      "Wrote commands to scRNA-sailor-individual.sh.\n",
      "Submitted script to queue home.\n",
      " Job ID: 21210617\n"
     ]
    },
    {
     "data": {
      "text/plain": [
       "<qtools.submitter.Submitter at 0x2b2ac9f9a890>"
      ]
     },
     "execution_count": 10,
     "metadata": {},
     "output_type": "execute_result"
    }
   ],
   "source": [
    "Submitter(\n",
    "    commands=cmds,\n",
    "    job_name='scRNA-sailor-individual',\n",
    "    sh='scRNA-sailor-individual.sh',\n",
    "    array=True,\n",
    "    nodes=1,\n",
    "    ppn=1,\n",
    "    walltime='72:00:00',\n",
    "    submit=True,\n",
    ")"
   ]
  },
  {
   "cell_type": "markdown",
   "metadata": {},
   "source": [
    "# Check to make sure the results are all there"
   ]
  },
  {
   "cell_type": "code",
   "execution_count": 29,
   "metadata": {},
   "outputs": [
    {
     "data": {
      "text/plain": [
       "20617"
      ]
     },
     "execution_count": 29,
     "metadata": {},
     "output_type": "execute_result"
    }
   ],
   "source": [
    "len(bams)"
   ]
  },
  {
   "cell_type": "code",
   "execution_count": 30,
   "metadata": {},
   "outputs": [
    {
     "data": {
      "application/vnd.jupyter.widget-view+json": {
       "model_id": "0917c2a282864c3baacd01ba42bae475",
       "version_major": 2,
       "version_minor": 0
      },
      "text/plain": [
       "HBox(children=(IntProgress(value=0, max=20617), HTML(value=u'')))"
      ]
     },
     "metadata": {},
     "output_type": "display_data"
    },
    {
     "data": {
      "text/plain": [
       "20617"
      ]
     },
     "execution_count": 30,
     "metadata": {},
     "output_type": "execute_result"
    }
   ],
   "source": [
    "progress = tnrange(len(bams))\n",
    "\n",
    "all_fwd_files = []\n",
    "for nt in ['A', 'C', 'G', 'T']:\n",
    "    for nt2 in ['A', 'C', 'G', 'T']:\n",
    "        split_output = os.path.join(output_dir + '_{}{}'.format(nt, nt2))\n",
    "        files = sorted(glob.glob(os.path.join(split_output, \"*/results/*.fwd.sorted.rmdup.readfiltered.formatted.varfiltered.snpfiltered.ranked.bed\")))\n",
    "        all_fwd_files += files\n",
    "        progress.update(len(files))\n",
    "len(all_fwd_files)"
   ]
  },
  {
   "cell_type": "code",
   "execution_count": 31,
   "metadata": {},
   "outputs": [
    {
     "data": {
      "text/plain": [
       "20617"
      ]
     },
     "execution_count": 31,
     "metadata": {},
     "output_type": "execute_result"
    }
   ],
   "source": [
    "def get_barcode_from_bam_file_name(fn):\n",
    "    return os.path.basename(fn).split('-')[1]\n",
    "\n",
    "all_barcodes = set()\n",
    "for bam in bams:\n",
    "    all_barcodes.add(get_barcode_from_bam_file_name(bam))\n",
    "    \n",
    "len(all_barcodes)"
   ]
  },
  {
   "cell_type": "code",
   "execution_count": 32,
   "metadata": {},
   "outputs": [
    {
     "data": {
      "text/plain": [
       "20617"
      ]
     },
     "execution_count": 32,
     "metadata": {},
     "output_type": "execute_result"
    }
   ],
   "source": [
    "def get_barcode_from_fwd_bed(fn):\n",
    "    return os.path.basename(fn).split('-')[1]\n",
    "\n",
    "all_beds = set()\n",
    "for fwd_file in all_fwd_files:\n",
    "    all_beds.add(get_barcode_from_fwd_bed(fwd_file))\n",
    "    \n",
    "len(all_beds)"
   ]
  },
  {
   "cell_type": "code",
   "execution_count": 33,
   "metadata": {},
   "outputs": [],
   "source": [
    "missing_barcodes = all_barcodes.difference(all_beds)"
   ]
  },
  {
   "cell_type": "code",
   "execution_count": 34,
   "metadata": {},
   "outputs": [
    {
     "data": {
      "application/vnd.jupyter.widget-view+json": {
       "model_id": "90d5bc538f0e46bbbe592e4d656431c1",
       "version_major": 2,
       "version_minor": 0
      },
      "text/plain": [
       "HBox(children=(IntProgress(value=1, bar_style=u'info', max=1), HTML(value=u'')))"
      ]
     },
     "metadata": {},
     "output_type": "display_data"
    },
    {
     "data": {
      "text/plain": [
       "[]"
      ]
     },
     "execution_count": 34,
     "metadata": {},
     "output_type": "execute_result"
    }
   ],
   "source": [
    "cmds = []\n",
    "\n",
    "\n",
    "progress = tnrange(len(missing_barcodes))\n",
    "for barcode in missing_barcodes:\n",
    "    cmd = 'module load sailor/1.1.0;'\n",
    "    prefix = barcode[:2]\n",
    "    split_output_dir = output_dir + \"_{}\".format(prefix)\n",
    "    json = os.path.join(split_output_dir, 'possorted_genome_bam_MD-{}-1.json'.format(barcode))\n",
    "    ! chmod +x $json\n",
    "    cmd += 'cd {};'.format(split_output_dir)\n",
    "    cmd += './{};'.format(os.path.basename(json))\n",
    "    progress.update(1)\n",
    "    cmds.append(cmd)\n",
    "cmds[:2]"
   ]
  },
  {
   "cell_type": "code",
   "execution_count": 27,
   "metadata": {},
   "outputs": [
    {
     "data": {
      "text/plain": [
       "650"
      ]
     },
     "execution_count": 27,
     "metadata": {},
     "output_type": "execute_result"
    }
   ],
   "source": [
    "len(cmds)"
   ]
  },
  {
   "cell_type": "code",
   "execution_count": 28,
   "metadata": {},
   "outputs": [
    {
     "name": "stderr",
     "output_type": "stream",
     "text": [
      "Writing 500 tasks as an array-job.\n",
      "Wrote commands to scRNA-sailor-individual1.sh.\n",
      "Submitted script to queue home.\n",
      " Job ID: 21213834\n",
      "Writing 150 tasks as an array-job.\n",
      "Wrote commands to scRNA-sailor-individual2.sh.\n",
      "Submitted script to queue home.\n",
      " Job ID: 21213835\n"
     ]
    },
    {
     "data": {
      "text/plain": [
       "<qtools.submitter.Submitter at 0x2b2acb4026d0>"
      ]
     },
     "execution_count": 28,
     "metadata": {},
     "output_type": "execute_result"
    }
   ],
   "source": [
    "Submitter(\n",
    "    commands=cmds,\n",
    "    job_name='scRNA-sailor-individual',\n",
    "    sh='scRNA-sailor-individual.sh',\n",
    "    array=True,\n",
    "    nodes=1,\n",
    "    ppn=1,\n",
    "    walltime='72:00:00',\n",
    "    submit=True,\n",
    ")"
   ]
  },
  {
   "cell_type": "code",
   "execution_count": null,
   "metadata": {},
   "outputs": [],
   "source": []
  }
 ],
 "metadata": {
  "kernelspec": {
   "display_name": "python2-essential",
   "language": "python",
   "name": "python2-essential"
  },
  "language_info": {
   "codemirror_mode": {
    "name": "ipython",
    "version": 2
   },
   "file_extension": ".py",
   "mimetype": "text/x-python",
   "name": "python",
   "nbconvert_exporter": "python",
   "pygments_lexer": "ipython2",
   "version": "2.7.15"
  }
 },
 "nbformat": 4,
 "nbformat_minor": 2
}
