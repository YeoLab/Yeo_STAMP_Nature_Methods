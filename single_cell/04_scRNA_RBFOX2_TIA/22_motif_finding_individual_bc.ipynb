{
 "cells": [
  {
   "cell_type": "markdown",
   "metadata": {},
   "source": [
    "# This notebook generates commands for de-novo motif finding using individual barcodes\n",
    "- Unlike notebook 17/18, we won't be assigning editC scores or filtering for anything, since the number of edits per barcode is low. "
   ]
  },
  {
   "cell_type": "code",
   "execution_count": 1,
   "metadata": {},
   "outputs": [],
   "source": [
    "%matplotlib inline\n",
    "import matplotlib.pyplot as plt\n",
    "import seaborn as sns\n",
    "import glob\n",
    "import os\n",
    "import pandas as pd\n",
    "import numpy as np\n",
    "import os\n",
    "import pybedtools\n",
    "import warnings\n",
    "warnings.simplefilter(action='ignore', category=FutureWarning)\n",
    "from qtools import Submitter\n",
    "from tqdm import tnrange, tqdm_notebook\n",
    "\n",
    "from scipy.special import betainc"
   ]
  },
  {
   "cell_type": "code",
   "execution_count": 2,
   "metadata": {},
   "outputs": [],
   "source": [
    "input_dir = '/home/bay001/projects/kris_apobec_20200121/permanent_data2/04_scRNA_RBFOX2_TIA/'\n",
    "output_dir = '/home/bay001/projects/kris_apobec_20200121/permanent_data2/04_scRNA_RBFOX2_TIA/motif_outputs'\n",
    "bedfile_dir = '/home/bay001/projects/kris_apobec_20200121/permanent_data2/04_scRNA_RBFOX2_TIA/sailor_outputs_individual_barcodes_merged_bedfiles'\n",
    "tmp_dir = '/home/bay001/projects/kris_apobec_20200121/permanent_data2/04_scRNA_RBFOX2_TIA/tmp/individual_barcodes_fx_for_motif'"
   ]
  },
  {
   "cell_type": "code",
   "execution_count": 3,
   "metadata": {},
   "outputs": [],
   "source": [
    "genome_fasta = '/projects/ps-yeolab3/bay001/annotations/hg19/hg19.fa'\n",
    "\n",
    "barcodes = [\n",
    "    'CAACAACCAAGCGCTC-1',\n",
    "    'TAACGACAGTGAGGCT-1',\n",
    "    'AAAGGTAGTGGATGAC-1',\n",
    "    'GCGGATCAGGTCACCC-1',\n",
    "    'AACCCAACATGAGTAA-1',\n",
    "    'TACTTACAGTAGTCCT-1',\n",
    "    'GGTTGTAGTAGTCCTA-1',\n",
    "    'TCCTCCCAGTCGAATA-1',\n",
    "    'TCGAAGTGTAAGAACT-1',\n",
    "    'ATCACAGTCCCTAGGG-1',\n",
    "]\n",
    "\n",
    "slop = 25\n",
    "g = '/projects/ps-yeolab3/bay001/annotations/hg19/hg19.chrom.sizes'\n",
    "genome_fasta = '/projects/ps-yeolab3/bay001/annotations/hg19/hg19.fa'"
   ]
  },
  {
   "cell_type": "code",
   "execution_count": 4,
   "metadata": {},
   "outputs": [],
   "source": [
    "def barcode_to_bedfile(barcode):\n",
    "    bed = os.path.join(bedfile_dir, \"possorted_genome_bam_MD-{}.bed\".format(barcode))\n",
    "    try:\n",
    "        assert os.path.exists(bed)\n",
    "    except AssertionError:\n",
    "        print(bed)\n",
    "    return bed\n",
    "\n",
    "def fx_bed(bed, output_bed):\n",
    "    df = pd.read_csv(bed, sep='\\t', names=['chrom','start','end','name','score','strand'])\n",
    "    df['fxchrom'] = 'chr' + df['chrom']\n",
    "    df[['fxchrom','start','end','name','score','strand']].to_csv(output_bed, sep='\\t', header=False, index=False)\n",
    "    \n",
    "def slop_and_merge(bed, output_bed, slop, g):\n",
    "    bt = pybedtools.BedTool(bed).sort().slop(b=slop, g=g)\n",
    "    bt = bt.merge(c=(4,5,6), o=('count','count','distinct'))\n",
    "    bt.saveas(output_bed)\n",
    "\n",
    "for barcode in barcodes:\n",
    "    bed = barcode_to_bedfile(barcode)\n",
    "    output_bed = os.path.join(tmp_dir, os.path.splitext(os.path.basename(bed))[0] + \".fx.bed\")\n",
    "    output_slopped_bed = os.path.join(tmp_dir, os.path.splitext(os.path.basename(bed))[0] + \".fx.slop.bed\")\n",
    "    \n",
    "    fx_bed(bed, output_bed)\n",
    "    slop_and_merge(output_bed, output_slopped_bed, slop, g)"
   ]
  },
  {
   "cell_type": "code",
   "execution_count": 5,
   "metadata": {},
   "outputs": [
    {
     "name": "stdout",
     "output_type": "stream",
     "text": [
      "10\n"
     ]
    },
    {
     "data": {
      "text/plain": [
       "['/home/bay001/projects/kris_apobec_20200121/permanent_data2/04_scRNA_RBFOX2_TIA/tmp/individual_barcodes_fx_for_motif/possorted_genome_bam_MD-AAAGGTAGTGGATGAC-1.fx.slop.bed',\n",
       " '/home/bay001/projects/kris_apobec_20200121/permanent_data2/04_scRNA_RBFOX2_TIA/tmp/individual_barcodes_fx_for_motif/possorted_genome_bam_MD-AACCCAACATGAGTAA-1.fx.slop.bed',\n",
       " '/home/bay001/projects/kris_apobec_20200121/permanent_data2/04_scRNA_RBFOX2_TIA/tmp/individual_barcodes_fx_for_motif/possorted_genome_bam_MD-ATCACAGTCCCTAGGG-1.fx.slop.bed']"
      ]
     },
     "execution_count": 5,
     "metadata": {},
     "output_type": "execute_result"
    }
   ],
   "source": [
    "all_bedfiles = sorted(glob.glob(os.path.join(tmp_dir, '*.fx.slop.bed')))\n",
    "print(len(all_bedfiles))\n",
    "all_bedfiles[:3]"
   ]
  },
  {
   "cell_type": "code",
   "execution_count": 6,
   "metadata": {},
   "outputs": [],
   "source": [
    "genome_fasta = '/projects/ps-yeolab3/bay001/annotations/hg19/hg19.fa'\n",
    "cmds = []\n",
    "for bed in all_bedfiles:\n",
    "    if not os.path.exists(os.path.join(output_dir, os.path.splitext(os.path.basename(bed))[0])):\n",
    "        out_homer_dir = os.path.join(output_dir, os.path.splitext(os.path.basename(bed))[0])\n",
    "        out_file = out_homer_dir + '.svg'\n",
    "        out_pickle_file = out_homer_dir + '.pickle'\n",
    "        cmd = 'module load eclipanalysis/0.0.3a;analyze_motifs '\n",
    "        cmd += '--peaks {} '.format(bed)\n",
    "        cmd += '--out_pickle_file {} '.format(out_pickle_file)\n",
    "        cmd += '--out_file {} '.format(out_file)\n",
    "        cmd += '--species hg19 '\n",
    "        cmd += '--out_homer_dir {} '.format(out_homer_dir)\n",
    "        cmd += '--genome_fasta {} '.format(genome_fasta)\n",
    "        cmds.append(cmd)"
   ]
  },
  {
   "cell_type": "code",
   "execution_count": 8,
   "metadata": {},
   "outputs": [
    {
     "name": "stderr",
     "output_type": "stream",
     "text": [
      "Writing 10 tasks as an array-job.\n",
      "Wrote commands to motif_analysis.sh.\n",
      "Submitted script to queue home.\n",
      " Job ID: 21965495\n"
     ]
    },
    {
     "data": {
      "text/plain": [
       "<qtools.submitter.Submitter at 0x2ac41a07a590>"
      ]
     },
     "execution_count": 8,
     "metadata": {},
     "output_type": "execute_result"
    }
   ],
   "source": [
    "Submitter(\n",
    "    cmds, \n",
    "    'motif_analysis', \n",
    "    nodes=1, \n",
    "    ppn=1, \n",
    "    array=True, \n",
    "    submit=True, \n",
    "    walltime='40:00:00'\n",
    ")"
   ]
  },
  {
   "cell_type": "code",
   "execution_count": null,
   "metadata": {},
   "outputs": [],
   "source": []
  }
 ],
 "metadata": {
  "kernelspec": {
   "display_name": "python2-essential",
   "language": "python",
   "name": "python2-essential"
  },
  "language_info": {
   "codemirror_mode": {
    "name": "ipython",
    "version": 2
   },
   "file_extension": ".py",
   "mimetype": "text/x-python",
   "name": "python",
   "nbconvert_exporter": "python",
   "pygments_lexer": "ipython2",
   "version": "2.7.15"
  }
 },
 "nbformat": 4,
 "nbformat_minor": 2
}
