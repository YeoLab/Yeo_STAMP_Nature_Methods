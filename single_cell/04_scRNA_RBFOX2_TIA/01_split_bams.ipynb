{
 "cells": [
  {
   "cell_type": "markdown",
   "metadata": {},
   "source": [
    "# This notebook writes qsub commands to split the whole 10X into each individual barcode. Barcodes come from Alex's tables.\n",
    "- uses a helper script (split_bams.py) which accepts a list of barcodes to look for (inside the 'CB' tag) and the 10X \"MD\" bam file.\n",
    "- python2 notebook because we're using Submitter"
   ]
  },
  {
   "cell_type": "code",
   "execution_count": 1,
   "metadata": {},
   "outputs": [],
   "source": [
    "import pandas as pd\n",
    "import numpy as np\n",
    "import os\n",
    "import glob\n",
    "import pysam\n",
    "import time\n",
    "from collections import defaultdict\n",
    "from tqdm import tnrange, tqdm_notebook\n",
    "import random\n",
    "from qtools import Submitter"
   ]
  },
  {
   "cell_type": "code",
   "execution_count": 2,
   "metadata": {},
   "outputs": [],
   "source": [
    "input_dir = '/home/bay001/projects/kris_apobec_20200121/permanent_data2/04_scRNA_RBFOX2_TIA/inputs/'\n",
    "tmp_dir = '/home/bay001/projects/kris_apobec_20200121/permanent_data2/04_scRNA_RBFOX2_TIA/tmp/'\n",
    "output_dir = '/home/bay001/projects/kris_apobec_20200121/permanent_data2/04_scRNA_RBFOX2_TIA/bam_files/'"
   ]
  },
  {
   "cell_type": "markdown",
   "metadata": {},
   "source": [
    "# Read in all barcodes"
   ]
  },
  {
   "cell_type": "code",
   "execution_count": 3,
   "metadata": {},
   "outputs": [
    {
     "name": "stdout",
     "output_type": "stream",
     "text": [
      "Num barcodes in RBFOX2/TIA: 20617\n"
     ]
    }
   ],
   "source": [
    "all_barcodes = set(pd.read_csv(os.path.join(input_dir, 'barcodes.tsv.gz'), index_col=0, names=['barcodes']).index)\n",
    "\n",
    "print(\"Num barcodes in RBFOX2/TIA: {}\".format(len(all_barcodes)))"
   ]
  },
  {
   "cell_type": "markdown",
   "metadata": {},
   "source": [
    "# Get indices pertaining to groups that we want to run SAILOR on\n",
    "- let's get:\n",
    "    - all barcodes!\n",
    "    - I mean all 'filtered' barcodes from AlexC"
   ]
  },
  {
   "cell_type": "markdown",
   "metadata": {},
   "source": [
    "# Split the combined BAM into individual barcodes that we are interested in\n",
    "- store ALL barcode-of-interest reads into a dictionary reads_dict\n",
    "- do this in chunks of 500 so we don't run out of memory"
   ]
  },
  {
   "cell_type": "code",
   "execution_count": 4,
   "metadata": {},
   "outputs": [],
   "source": [
    "def chunker(seq, size):\n",
    "    \"\"\"\n",
    "    Chunks a long list into groups of (size).\n",
    "    \"\"\"\n",
    "    return (seq[pos:pos + size] for pos in range(0, len(seq), size))\n",
    "\n",
    "i = 0\n",
    "groupsize = 250\n",
    "all_groups = []\n",
    "\n",
    "for group in chunker(list(all_barcodes), groupsize):\n",
    "    fout = os.path.join(tmp_dir, 'group_{}.txt'.format(i)) # groups should be \n",
    "    with open(fout, 'w') as o:\n",
    "        for g in group:\n",
    "            o.write(\"{}\\n\".format(g))\n",
    "    i += 1\n",
    "    all_groups.append(fout)"
   ]
  },
  {
   "cell_type": "code",
   "execution_count": 5,
   "metadata": {},
   "outputs": [
    {
     "name": "stdout",
     "output_type": "stream",
     "text": [
      "Total commands to submit: 83\n"
     ]
    }
   ],
   "source": [
    "cmds = []\n",
    "\n",
    "\n",
    "for group in all_groups:\n",
    "    cmd = 'module load python3essential;/home/bay001/projects/kris_apobec_20200121/permanent_data2/04_scRNA_RBFOX2_TIA/split_bams.py '\n",
    "    cmd += '--possorted_bam_file {} '.format(os.path.join(input_dir, 'possorted_genome_bam_MD.bam'))\n",
    "    cmd += '--barcodes_file {} '.format(group)\n",
    "    cmd += '--output_dir {}'.format(output_dir)\n",
    "    cmds.append(cmd)\n",
    "\n",
    "print(\"Total commands to submit: {}\".format(len(cmds)))"
   ]
  },
  {
   "cell_type": "code",
   "execution_count": 6,
   "metadata": {},
   "outputs": [
    {
     "name": "stderr",
     "output_type": "stream",
     "text": [
      "Writing 83 tasks as an array-job.\n",
      "Wrote commands to split-bam.sh.\n"
     ]
    },
    {
     "data": {
      "text/plain": [
       "<qtools.submitter.Submitter at 0x2ab405756950>"
      ]
     },
     "execution_count": 6,
     "metadata": {},
     "output_type": "execute_result"
    }
   ],
   "source": [
    "Submitter(cmds, 'split-bam', nodes=1, ppn=8, array=True, submit=False, walltime='8:00:00', queue='condo')"
   ]
  },
  {
   "cell_type": "markdown",
   "metadata": {},
   "source": [
    "# This next block ensures that all barcodes are accounted for. If not, then we'll need to re-run."
   ]
  },
  {
   "cell_type": "code",
   "execution_count": 11,
   "metadata": {},
   "outputs": [
    {
     "name": "stdout",
     "output_type": "stream",
     "text": [
      "0\n"
     ]
    }
   ],
   "source": [
    "def get_bam_file_name_from_barcode(barcode):\n",
    "    return \"possorted_genome_bam_MD-{}.bam\".format(barcode)\n",
    "\n",
    "missing_barcodes = []\n",
    "\n",
    "for barcode in all_barcodes:\n",
    "    bam_file = os.path.join(output_dir, get_bam_file_name_from_barcode(barcode))\n",
    "    try:\n",
    "        assert os.path.exists(bam_file)\n",
    "    except AssertionError:\n",
    "        missing_barcodes.append(barcode)\n",
    "\n",
    "print(len(missing_barcodes))"
   ]
  },
  {
   "cell_type": "code",
   "execution_count": 8,
   "metadata": {},
   "outputs": [],
   "source": [
    "fout = os.path.join(tmp_dir, 'missing.txt') # groups should be \n",
    "with open(fout, 'w') as o:\n",
    "    for g in list(missing_barcodes):\n",
    "        o.write(\"{}\\n\".format(g))"
   ]
  },
  {
   "cell_type": "code",
   "execution_count": 9,
   "metadata": {},
   "outputs": [
    {
     "data": {
      "text/plain": [
       "['module load python3essential;/home/bay001/projects/kris_apobec_20200121/permanent_data2/04_scRNA_RBFOX2_TIA/split_bams.py --possorted_bam_file /home/bay001/projects/kris_apobec_20200121/permanent_data2/04_scRNA_RBFOX2_TIA/inputs/possorted_genome_bam_MD.bam --barcodes_file /home/bay001/projects/kris_apobec_20200121/permanent_data2/04_scRNA_RBFOX2_TIA/tmp/missing.txt --output_dir /home/bay001/projects/kris_apobec_20200121/permanent_data2/04_scRNA_RBFOX2_TIA/bam_files/']"
      ]
     },
     "execution_count": 9,
     "metadata": {},
     "output_type": "execute_result"
    }
   ],
   "source": [
    "cmds = []\n",
    "\n",
    "cmd = 'module load python3essential;/home/bay001/projects/kris_apobec_20200121/permanent_data2/04_scRNA_RBFOX2_TIA/split_bams.py '\n",
    "cmd += '--possorted_bam_file {} '.format(os.path.join(input_dir, 'possorted_genome_bam_MD.bam'))\n",
    "cmd += '--barcodes_file {} '.format(os.path.join(tmp_dir, 'missing.txt'))\n",
    "cmd += '--output_dir {}'.format(output_dir)\n",
    "cmds.append(cmd)\n",
    "\n",
    "cmds\n"
   ]
  },
  {
   "cell_type": "code",
   "execution_count": 10,
   "metadata": {},
   "outputs": [
    {
     "name": "stderr",
     "output_type": "stream",
     "text": [
      "Writing 1 tasks as an array-job.\n",
      "Wrote commands to split-bam.sh.\n",
      "Submitted script to queue home-yeo.\n",
      " Job ID: 21206965\n"
     ]
    },
    {
     "data": {
      "text/plain": [
       "<qtools.submitter.Submitter at 0x2ab3dea2fb90>"
      ]
     },
     "execution_count": 10,
     "metadata": {},
     "output_type": "execute_result"
    }
   ],
   "source": [
    "Submitter(cmds, 'split-bam', nodes=1, ppn=8, array=True, submit=True, walltime='8:00:00', queue='home-yeo')"
   ]
  },
  {
   "cell_type": "code",
   "execution_count": null,
   "metadata": {},
   "outputs": [],
   "source": []
  }
 ],
 "metadata": {
  "kernelspec": {
   "display_name": "python2-essential",
   "language": "python",
   "name": "python2-essential"
  },
  "language_info": {
   "codemirror_mode": {
    "name": "ipython",
    "version": 2
   },
   "file_extension": ".py",
   "mimetype": "text/x-python",
   "name": "python",
   "nbconvert_exporter": "python",
   "pygments_lexer": "ipython2",
   "version": "2.7.15"
  }
 },
 "nbformat": 4,
 "nbformat_minor": 2
}
