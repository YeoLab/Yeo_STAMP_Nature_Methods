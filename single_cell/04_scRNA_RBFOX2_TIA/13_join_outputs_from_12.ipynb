{
 "cells": [
  {
   "cell_type": "markdown",
   "metadata": {},
   "source": [
    "# Re-formats the native SAILOR outputs to report reads edited per site and total coverage per site.\n",
    "- We'll use the 'reads edited per site' "
   ]
  },
  {
   "cell_type": "code",
   "execution_count": 1,
   "metadata": {},
   "outputs": [],
   "source": [
    "import glob\n",
    "import os\n",
    "import glob\n",
    "import pandas as pd\n",
    "import numpy as np\n",
    "from tqdm import tnrange, tqdm_notebook"
   ]
  },
  {
   "cell_type": "code",
   "execution_count": 2,
   "metadata": {},
   "outputs": [],
   "source": [
    "input_dir = '/home/bay001/projects/kris_apobec_20200121/permanent_data2/04_scRNA_RBFOX2_TIA/sailor_outputs_groups'\n",
    "output_dir = '/home/bay001/projects/kris_apobec_20200121/permanent_data2/04_scRNA_RBFOX2_TIA/sailor_outputs_groups/combined_outputs_w_cov_info'"
   ]
  },
  {
   "cell_type": "markdown",
   "metadata": {},
   "source": [
    "### Here I'm grabbing the fwd BEDfile final outputs from SAILOR, and using these files to find its corresponding rev BEDfile final outputs. Merge them together.\n",
    "\n",
    "- I'm also using the total coverage and the edit fraction to re-compute the edited coverage at the position. **This is critical for downstream analysis!**\n",
    "- eg. 15|C>T|0.066666667 -> 1,15 # where 1 is the number of reads that were C>T converted and 15 is the total coverage at that edit site. "
   ]
  },
  {
   "cell_type": "code",
   "execution_count": 3,
   "metadata": {},
   "outputs": [
    {
     "name": "stdout",
     "output_type": "stream",
     "text": [
      "19\n"
     ]
    },
    {
     "data": {
      "text/plain": [
       "['/home/bay001/projects/kris_apobec_20200121/permanent_data2/04_scRNA_RBFOX2_TIA/sailor_outputs_groups/RBFOX2_ORFS.barcodes_RBFOX2-TIA1_subset/results/RBFOX2_ORFS.barcodes_RBFOX2-TIA1_subset.fwd.sorted.rmdup.readfiltered.formatted.varfiltered.snpfiltered.ranked.bed',\n",
       " '/home/bay001/projects/kris_apobec_20200121/permanent_data2/04_scRNA_RBFOX2_TIA/sailor_outputs_groups/RBFOX2_ORFS.barcodes_RBFOX2-TIA1_subset_more/results/RBFOX2_ORFS.barcodes_RBFOX2-TIA1_subset_more.fwd.sorted.rmdup.readfiltered.formatted.varfiltered.snpfiltered.ranked.bed',\n",
       " '/home/bay001/projects/kris_apobec_20200121/permanent_data2/04_scRNA_RBFOX2_TIA/sailor_outputs_groups/RBFOX2_ORFS.barcodes_RBFOX2-TIA1_subset_noFeatureCells/results/RBFOX2_ORFS.barcodes_RBFOX2-TIA1_subset_noFeatureCells.fwd.sorted.rmdup.readfiltered.formatted.varfiltered.snpfiltered.ranked.bed',\n",
       " '/home/bay001/projects/kris_apobec_20200121/permanent_data2/04_scRNA_RBFOX2_TIA/sailor_outputs_groups/TIA1_ORFS.barcodes_RBFOX2-TIA1_subset/results/TIA1_ORFS.barcodes_RBFOX2-TIA1_subset.fwd.sorted.rmdup.readfiltered.formatted.varfiltered.snpfiltered.ranked.bed',\n",
       " '/home/bay001/projects/kris_apobec_20200121/permanent_data2/04_scRNA_RBFOX2_TIA/sailor_outputs_groups/TIA1_ORFS.barcodes_RBFOX2-TIA1_subset_more/results/TIA1_ORFS.barcodes_RBFOX2-TIA1_subset_more.fwd.sorted.rmdup.readfiltered.formatted.varfiltered.snpfiltered.ranked.bed',\n",
       " '/home/bay001/projects/kris_apobec_20200121/permanent_data2/04_scRNA_RBFOX2_TIA/sailor_outputs_groups/TIA1_ORFS.barcodes_RBFOX2-TIA1_subset_noFeatureCells/results/TIA1_ORFS.barcodes_RBFOX2-TIA1_subset_noFeatureCells.fwd.sorted.rmdup.readfiltered.formatted.varfiltered.snpfiltered.ranked.bed',\n",
       " '/home/bay001/projects/kris_apobec_20200121/permanent_data2/04_scRNA_RBFOX2_TIA/sailor_outputs_groups/sampled_200_RBFOX2_ORFS.barcodes_RBFOX2-TIA1_subset/results/sampled_200_RBFOX2_ORFS.barcodes_RBFOX2-TIA1_subset.fwd.sorted.rmdup.readfiltered.formatted.varfiltered.snpfiltered.ranked.bed',\n",
       " '/home/bay001/projects/kris_apobec_20200121/permanent_data2/04_scRNA_RBFOX2_TIA/sailor_outputs_groups/sampled_200_RBFOX2_ORFS.barcodes_RBFOX2-TIA1_subset_more_noFeatureCells/results/sampled_200_RBFOX2_ORFS.barcodes_RBFOX2-TIA1_subset_more_noFeatureCells.fwd.sorted.rmdup.readfiltered.formatted.varfiltered.snpfiltered.ranked.bed',\n",
       " '/home/bay001/projects/kris_apobec_20200121/permanent_data2/04_scRNA_RBFOX2_TIA/sailor_outputs_groups/sampled_200_RBFOX2_ORFS/results/sampled_200_RBFOX2_ORFS.fwd.sorted.rmdup.readfiltered.formatted.varfiltered.snpfiltered.ranked.bed',\n",
       " '/home/bay001/projects/kris_apobec_20200121/permanent_data2/04_scRNA_RBFOX2_TIA/sailor_outputs_groups/sampled_200_TIA1_ORFS.barcodes_RBFOX2-TIA1_subset_more_noFeatureCells/results/sampled_200_TIA1_ORFS.barcodes_RBFOX2-TIA1_subset_more_noFeatureCells.fwd.sorted.rmdup.readfiltered.formatted.varfiltered.snpfiltered.ranked.bed',\n",
       " '/home/bay001/projects/kris_apobec_20200121/permanent_data2/04_scRNA_RBFOX2_TIA/sailor_outputs_groups/sampled_200_TIA1_ORFS/results/sampled_200_TIA1_ORFS.fwd.sorted.rmdup.readfiltered.formatted.varfiltered.snpfiltered.ranked.bed',\n",
       " '/home/bay001/projects/kris_apobec_20200121/permanent_data2/04_scRNA_RBFOX2_TIA/sailor_outputs_groups/sampled_300_RBFOX2_ORFS.barcodes_RBFOX2-TIA1_subset_more_noFeatureCells/results/sampled_300_RBFOX2_ORFS.barcodes_RBFOX2-TIA1_subset_more_noFeatureCells.fwd.sorted.rmdup.readfiltered.formatted.varfiltered.snpfiltered.ranked.bed',\n",
       " '/home/bay001/projects/kris_apobec_20200121/permanent_data2/04_scRNA_RBFOX2_TIA/sailor_outputs_groups/sampled_300_RBFOX2_ORFS/results/sampled_300_RBFOX2_ORFS.fwd.sorted.rmdup.readfiltered.formatted.varfiltered.snpfiltered.ranked.bed',\n",
       " '/home/bay001/projects/kris_apobec_20200121/permanent_data2/04_scRNA_RBFOX2_TIA/sailor_outputs_groups/sampled_300_TIA1_ORFS.barcodes_RBFOX2-TIA1_subset_more_noFeatureCells/results/sampled_300_TIA1_ORFS.barcodes_RBFOX2-TIA1_subset_more_noFeatureCells.fwd.sorted.rmdup.readfiltered.formatted.varfiltered.snpfiltered.ranked.bed',\n",
       " '/home/bay001/projects/kris_apobec_20200121/permanent_data2/04_scRNA_RBFOX2_TIA/sailor_outputs_groups/sampled_300_TIA1_ORFS/results/sampled_300_TIA1_ORFS.fwd.sorted.rmdup.readfiltered.formatted.varfiltered.snpfiltered.ranked.bed',\n",
       " '/home/bay001/projects/kris_apobec_20200121/permanent_data2/04_scRNA_RBFOX2_TIA/sailor_outputs_groups/sampled_500_RBFOX2_ORFS.barcodes_RBFOX2-TIA1_subset_more_noFeatureCells/results/sampled_500_RBFOX2_ORFS.barcodes_RBFOX2-TIA1_subset_more_noFeatureCells.fwd.sorted.rmdup.readfiltered.formatted.varfiltered.snpfiltered.ranked.bed',\n",
       " '/home/bay001/projects/kris_apobec_20200121/permanent_data2/04_scRNA_RBFOX2_TIA/sailor_outputs_groups/sampled_500_RBFOX2_ORFS/results/sampled_500_RBFOX2_ORFS.fwd.sorted.rmdup.readfiltered.formatted.varfiltered.snpfiltered.ranked.bed',\n",
       " '/home/bay001/projects/kris_apobec_20200121/permanent_data2/04_scRNA_RBFOX2_TIA/sailor_outputs_groups/sampled_500_TIA1_ORFS.barcodes_RBFOX2-TIA1_subset_more_noFeatureCells/results/sampled_500_TIA1_ORFS.barcodes_RBFOX2-TIA1_subset_more_noFeatureCells.fwd.sorted.rmdup.readfiltered.formatted.varfiltered.snpfiltered.ranked.bed',\n",
       " '/home/bay001/projects/kris_apobec_20200121/permanent_data2/04_scRNA_RBFOX2_TIA/sailor_outputs_groups/sampled_500_TIA1_ORFS/results/sampled_500_TIA1_ORFS.fwd.sorted.rmdup.readfiltered.formatted.varfiltered.snpfiltered.ranked.bed']"
      ]
     },
     "execution_count": 3,
     "metadata": {},
     "output_type": "execute_result"
    }
   ],
   "source": [
    "fwd = sorted(glob.glob(os.path.join(input_dir, '*/results/*.fwd.*.bed')))\n",
    "print(len(fwd))\n",
    "fwd"
   ]
  },
  {
   "cell_type": "code",
   "execution_count": 4,
   "metadata": {},
   "outputs": [
    {
     "data": {
      "application/vnd.jupyter.widget-view+json": {
       "model_id": "617d784f8ded4e8a8cc6deff2f6d7c29",
       "version_major": 2,
       "version_minor": 0
      },
      "text/plain": [
       "HBox(children=(IntProgress(value=0, max=19), HTML(value='')))"
      ]
     },
     "metadata": {},
     "output_type": "display_data"
    },
    {
     "name": "stderr",
     "output_type": "stream",
     "text": [
      "/projects/ps-yeolab4/software/yeolabconda3/envs/python3essential-0.0.1/lib/python3.6/site-packages/IPython/core/interactiveshell.py:3249: DtypeWarning: Columns (0) have mixed types. Specify dtype option on import or set low_memory=False.\n",
      "  if (await self.run_code(code, result,  async_=asy)):\n"
     ]
    }
   ],
   "source": [
    "def filter_bed(df, conf_level):\n",
    "    \"\"\"\n",
    "    Filters the bed file given a conf level. We don't really use this score anymore since we're now scoring by edit fraction.\n",
    "    \"\"\"\n",
    "    return df[df['conf'] >= conf_level]\n",
    "\n",
    "def get_rev(fwd_file):\n",
    "    \"\"\"\n",
    "    (fwd) and (rev) bed files are identically named except for the 'fwd' and 'rev' annotation.\n",
    "    So it's easy to, given the fwd_file name, return the corresponding rev_file \n",
    "    \"\"\"\n",
    "    return fwd_file.replace(\n",
    "        '.fwd.sorted.rmdup.readfiltered.formatted.varfiltered.snpfiltered.ranked.bed',\n",
    "        '.rev.sorted.rmdup.readfiltered.formatted.varfiltered.snpfiltered.ranked.bed'\n",
    "    )\n",
    "\n",
    "def get_combined_bedfile_name(fwd_file):\n",
    "    \"\"\"\n",
    "    Really just re-formats the name to be shorter and remove the 'fwd' annotation. \n",
    "    We'll be using the returned string as the new 'merged' name\n",
    "    \"\"\"\n",
    "    return fwd_file.replace('.fwd.sorted.rmdup.readfiltered.formatted.varfiltered.snpfiltered.ranked.bed','.bed')\n",
    "\n",
    "def concat_bedfiles(fwd_file, rev_file):\n",
    "    \"\"\"\n",
    "    Combines two native SAILOR fwd and rev bedfiles\n",
    "    \"\"\"\n",
    "    common_header = ['chrom','start','end','info','conf','strand']\n",
    "    fwd = pd.read_csv(fwd_file, sep='\\t', names=common_header)\n",
    "    rev = pd.read_csv(rev_file, sep='\\t', names=common_header)\n",
    "    return pd.concat([fwd, rev])\n",
    "\n",
    "def get_number_edited_reads(row):\n",
    "    \"\"\"\n",
    "    SAILOR reports the total coverage and edit fraction in the 'info' column.\n",
    "    Use these two numbers to get the number of edited reads.\n",
    "    \"\"\"\n",
    "    total_reads, edit_type, fraction = row['info'].split('|')\n",
    "    return round(int(total_reads) * float(fraction))\n",
    "\n",
    "def label_cov_info(row):\n",
    "    \"\"\"\n",
    "    returns the num_edited and total_coverage as a concatenated string.\n",
    "    \"\"\"\n",
    "    return \"{},{}\".format(row['num_edited'], row['total_coverage'])\n",
    "\n",
    "progress = tnrange(len(fwd))\n",
    "for f in fwd:\n",
    "    try:\n",
    "        output_file = os.path.join(\n",
    "            output_dir, \n",
    "            os.path.basename(get_combined_bedfile_name(f))\n",
    "        )\n",
    "        if not os.path.exists(output_file):\n",
    "            df = concat_bedfiles(f, get_rev(f))\n",
    "            df['total_coverage'] = df['info'].apply(lambda x: int(x.split('|')[0]))\n",
    "            df['num_edited'] = df.apply(get_number_edited_reads, axis=1)\n",
    "            df['name_col'] = df.apply(label_cov_info, axis=1)\n",
    "            df[['chrom','start','end','conf','name_col','strand']].to_csv(\n",
    "                output_file, \n",
    "                sep='\\t', \n",
    "                index=False, \n",
    "                header=False\n",
    "            )\n",
    "    except ValueError:\n",
    "        print(f)\n",
    "    progress.update(1)"
   ]
  },
  {
   "cell_type": "markdown",
   "metadata": {},
   "source": [
    "# Merge the (readfiltered) BAM files\n",
    "### Here I'm grabbing the SAILOR intermediate outputs ```*.readfiltered.bam``` which are, for fwd and rev strands, the BAM files post read filtering."
   ]
  },
  {
   "cell_type": "code",
   "execution_count": 5,
   "metadata": {},
   "outputs": [
    {
     "name": "stdout",
     "output_type": "stream",
     "text": [
      "19\n"
     ]
    },
    {
     "data": {
      "text/plain": [
       "['/home/bay001/projects/kris_apobec_20200121/permanent_data2/04_scRNA_RBFOX2_TIA/sailor_outputs_groups/RBFOX2_ORFS.barcodes_RBFOX2-TIA1_subset/results/RBFOX2_ORFS.barcodes_RBFOX2-TIA1_subset.fwd.sorted.rmdup.readfiltered.bam',\n",
       " '/home/bay001/projects/kris_apobec_20200121/permanent_data2/04_scRNA_RBFOX2_TIA/sailor_outputs_groups/RBFOX2_ORFS.barcodes_RBFOX2-TIA1_subset_more/results/RBFOX2_ORFS.barcodes_RBFOX2-TIA1_subset_more.fwd.sorted.rmdup.readfiltered.bam',\n",
       " '/home/bay001/projects/kris_apobec_20200121/permanent_data2/04_scRNA_RBFOX2_TIA/sailor_outputs_groups/RBFOX2_ORFS.barcodes_RBFOX2-TIA1_subset_noFeatureCells/results/RBFOX2_ORFS.barcodes_RBFOX2-TIA1_subset_noFeatureCells.fwd.sorted.rmdup.readfiltered.bam']"
      ]
     },
     "execution_count": 5,
     "metadata": {},
     "output_type": "execute_result"
    }
   ],
   "source": [
    "fwd_bam_files = sorted(glob.glob(os.path.join(input_dir, '*/results/*.fwd.*readfiltered.bam')))\n",
    "print(len(fwd_bam_files))\n",
    "fwd_bam_files[:3]"
   ]
  },
  {
   "cell_type": "code",
   "execution_count": 6,
   "metadata": {},
   "outputs": [
    {
     "data": {
      "text/plain": [
       "2"
      ]
     },
     "execution_count": 6,
     "metadata": {},
     "output_type": "execute_result"
    }
   ],
   "source": [
    "cmds = []\n",
    "for fwd in fwd_bam_files:\n",
    "    \n",
    "    rev = fwd.replace(\n",
    "        '.fwd.sorted.rmdup.readfiltered.bam',\n",
    "        '.rev.sorted.rmdup.readfiltered.bam'\n",
    "    )\n",
    "    merged = os.path.join(\n",
    "        output_dir, os.path.basename(fwd).replace(\n",
    "            '.fwd.sorted.rmdup.readfiltered.bam',\n",
    "            '.merged.sorted.rmdup.readfiltered.bam'\n",
    "        )\n",
    "    )\n",
    "    merged_sorted = os.path.join(\n",
    "        output_dir, os.path.basename(fwd).replace(\n",
    "            '.fwd.sorted.rmdup.readfiltered.bam',\n",
    "            '.merged.sorted.rmdup.readfiltered.sorted.bam'\n",
    "        )\n",
    "    )\n",
    "    if not os.path.exists(merged_sorted):\n",
    "        assert os.path.exists(rev)\n",
    "        cmd = 'module load samtools;samtools merge -f {} {} {};'.format(\n",
    "            merged,\n",
    "            fwd,\n",
    "            rev\n",
    "        )\n",
    "        cmd += 'samtools sort {} > {};'.format(merged, merged_sorted)\n",
    "        cmd += 'samtools index {}'.format(merged_sorted)\n",
    "        cmds.append(cmd)\n",
    "        \n",
    "len(cmds)"
   ]
  },
  {
   "cell_type": "code",
   "execution_count": null,
   "metadata": {},
   "outputs": [
    {
     "data": {
      "application/vnd.jupyter.widget-view+json": {
       "model_id": "446b34c9e07d4475874d85f94ea7f31d",
       "version_major": 2,
       "version_minor": 0
      },
      "text/plain": [
       "HBox(children=(IntProgress(value=0, max=2), HTML(value='')))"
      ]
     },
     "metadata": {},
     "output_type": "display_data"
    }
   ],
   "source": [
    "progress = tnrange(len(cmds))\n",
    "for cmd in cmds:\n",
    "    ! $cmd\n",
    "    progress.update(1)"
   ]
  },
  {
   "cell_type": "code",
   "execution_count": null,
   "metadata": {},
   "outputs": [],
   "source": [
    "# generate bedgraphs by confidence score."
   ]
  }
 ],
 "metadata": {
  "kernelspec": {
   "display_name": "python3-essential-tscc",
   "language": "python",
   "name": "python3essentialtscc"
  },
  "language_info": {
   "codemirror_mode": {
    "name": "ipython",
    "version": 3
   },
   "file_extension": ".py",
   "mimetype": "text/x-python",
   "name": "python",
   "nbconvert_exporter": "python",
   "pygments_lexer": "ipython3",
   "version": "3.6.7"
  }
 },
 "nbformat": 4,
 "nbformat_minor": 2
}
