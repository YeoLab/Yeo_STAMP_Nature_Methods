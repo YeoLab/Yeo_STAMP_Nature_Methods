{
 "cells": [
  {
   "cell_type": "markdown",
   "metadata": {},
   "source": [
    "# Subsets merged barcode SAILOR calls using editC filter and runs motif analysis"
   ]
  },
  {
   "cell_type": "code",
   "execution_count": 1,
   "metadata": {},
   "outputs": [],
   "source": [
    "%matplotlib inline\n",
    "import matplotlib.pyplot as plt\n",
    "import seaborn as sns\n",
    "import glob\n",
    "import os\n",
    "import pandas as pd\n",
    "import numpy as np\n",
    "import os\n",
    "import pybedtools\n",
    "import warnings\n",
    "warnings.simplefilter(action='ignore', category=FutureWarning)\n",
    "from qtools import Submitter\n",
    "from tqdm import tnrange, tqdm_notebook"
   ]
  },
  {
   "cell_type": "code",
   "execution_count": 2,
   "metadata": {},
   "outputs": [],
   "source": [
    "input_dir = '/home/bay001/projects/kris_apobec_20200121/permanent_data2/04_scRNA_RBFOX2_TIA/sailor_outputs_groups_merged_scores'\n",
    "output_dir = '/home/bay001/projects/kris_apobec_20200121/permanent_data2/04_scRNA_RBFOX2_TIA/motif_outputs'"
   ]
  },
  {
   "cell_type": "code",
   "execution_count": 3,
   "metadata": {},
   "outputs": [],
   "source": [
    "chrom_sizes = '/projects/ps-yeolab3/bay001/annotations/hg19/hg19.chrom.sizes'"
   ]
  },
  {
   "cell_type": "code",
   "execution_count": 4,
   "metadata": {},
   "outputs": [
    {
     "name": "stdout",
     "output_type": "stream",
     "text": [
      "6\n"
     ]
    },
    {
     "data": {
      "text/plain": [
       "['/home/bay001/projects/kris_apobec_20200121/permanent_data2/04_scRNA_RBFOX2_TIA/sailor_outputs_groups_merged_scores/RBFOX2_ORFS.barcodes_RBFOX2-TIA1_subset.fx.annotated.windows_51.txt',\n",
       " '/home/bay001/projects/kris_apobec_20200121/permanent_data2/04_scRNA_RBFOX2_TIA/sailor_outputs_groups_merged_scores/RBFOX2_ORFS.barcodes_RBFOX2-TIA1_subset_more.fx.annotated.windows_51.txt',\n",
       " '/home/bay001/projects/kris_apobec_20200121/permanent_data2/04_scRNA_RBFOX2_TIA/sailor_outputs_groups_merged_scores/RBFOX2_ORFS.barcodes_RBFOX2-TIA1_subset_noFeatureCells.fx.annotated.windows_51.txt',\n",
       " '/home/bay001/projects/kris_apobec_20200121/permanent_data2/04_scRNA_RBFOX2_TIA/sailor_outputs_groups_merged_scores/TIA1_ORFS.barcodes_RBFOX2-TIA1_subset.fx.annotated.windows_51.txt',\n",
       " '/home/bay001/projects/kris_apobec_20200121/permanent_data2/04_scRNA_RBFOX2_TIA/sailor_outputs_groups_merged_scores/TIA1_ORFS.barcodes_RBFOX2-TIA1_subset_more.fx.annotated.windows_51.txt',\n",
       " '/home/bay001/projects/kris_apobec_20200121/permanent_data2/04_scRNA_RBFOX2_TIA/sailor_outputs_groups_merged_scores/TIA1_ORFS.barcodes_RBFOX2-TIA1_subset_noFeatureCells.fx.annotated.windows_51.txt']"
      ]
     },
     "execution_count": 4,
     "metadata": {},
     "output_type": "execute_result"
    }
   ],
   "source": [
    "all_windows = sorted(glob.glob(os.path.join(input_dir, 'RBFOX*.txt'))) + sorted(glob.glob(os.path.join(input_dir, 'TIA1*.txt')))\n",
    "print(len(all_windows))\n",
    "all_windows"
   ]
  },
  {
   "cell_type": "markdown",
   "metadata": {},
   "source": [
    "# Read in one of them and check on IGV"
   ]
  },
  {
   "cell_type": "code",
   "execution_count": 5,
   "metadata": {},
   "outputs": [
    {
     "data": {
      "application/vnd.jupyter.widget-view+json": {
       "model_id": "cc5c3ffe56634bd0b1fa8119d077e661",
       "version_major": 2,
       "version_minor": 0
      },
      "text/plain": [
       "HBox(children=(IntProgress(value=0, max=12), HTML(value=u'')))"
      ]
     },
     "metadata": {},
     "output_type": "display_data"
    },
    {
     "name": "stdout",
     "output_type": "stream",
     "text": [
      "Number of edits before filtering: 380184\n",
      "Number of edits after filtering: 84009\n",
      "/projects/ps-yeolab4/software/yeolabconda3/envs/python3essential-0.0.1/lib/python3.6/site-packages/pybedtools/bedtool.py:3439: FutureWarning: read_table is deprecated, use read_csv instead, passing sep='\\t'.\n",
      "  return pandas.read_table(self.fn, *args, **kwargs)\n",
      "Number of edits after merging: 20953\n",
      "Number of edits before filtering: 346000\n",
      "Number of edits after filtering: 75851\n",
      "/projects/ps-yeolab4/software/yeolabconda3/envs/python3essential-0.0.1/lib/python3.6/site-packages/pybedtools/bedtool.py:3439: FutureWarning: read_table is deprecated, use read_csv instead, passing sep='\\t'.\n",
      "  return pandas.read_table(self.fn, *args, **kwargs)\n",
      "Number of edits after merging: 19576\n",
      "Number of edits before filtering: 380184\n",
      "Number of edits after filtering: 31962\n",
      "/projects/ps-yeolab4/software/yeolabconda3/envs/python3essential-0.0.1/lib/python3.6/site-packages/pybedtools/bedtool.py:3439: FutureWarning: read_table is deprecated, use read_csv instead, passing sep='\\t'.\n",
      "  return pandas.read_table(self.fn, *args, **kwargs)\n",
      "Number of edits after merging: 9953\n",
      "Number of edits before filtering: 346000\n",
      "Number of edits after filtering: 28761\n",
      "/projects/ps-yeolab4/software/yeolabconda3/envs/python3essential-0.0.1/lib/python3.6/site-packages/pybedtools/bedtool.py:3439: FutureWarning: read_table is deprecated, use read_csv instead, passing sep='\\t'.\n",
      "  return pandas.read_table(self.fn, *args, **kwargs)\n",
      "Number of edits after merging: 9294\n"
     ]
    }
   ],
   "source": [
    "conf = 0.0\n",
    "thresholds = [0.0119, 0.0267]\n",
    "cmds = []\n",
    "progress = tnrange(len(thresholds)*len(all_windows))\n",
    "for threshold in thresholds:\n",
    "    for window in all_windows:\n",
    "        output_window = os.path.join(output_dir, os.path.splitext(os.path.basename(window))[0] + \".{}.bed\".format(threshold))\n",
    "        cmd = 'module load python3essential;/home/bay001/projects/kris_apobec_20200121/permanent_data2/04_scRNA_RBFOX2_TIA/filter_edits.py '\n",
    "        cmd += '--scored_edits {} '.format(window)\n",
    "        cmd += '--conf {} '.format(conf)\n",
    "        cmd += '--score {} '.format(threshold)\n",
    "        cmd += '--output_file {} '.format(output_window)\n",
    "        if not os.path.exists(output_window):\n",
    "            ! $cmd\n",
    "        progress.update(1)"
   ]
  },
  {
   "cell_type": "code",
   "execution_count": 6,
   "metadata": {},
   "outputs": [
    {
     "data": {
      "text/plain": [
       "22"
      ]
     },
     "execution_count": 6,
     "metadata": {},
     "output_type": "execute_result"
    }
   ],
   "source": [
    "all_bedfiles = sorted(glob.glob(os.path.join(output_dir, 'RBFOX2*.bed'))) + sorted(glob.glob(os.path.join(output_dir, 'TIA1*.bed')))\n",
    "len(all_bedfiles)"
   ]
  },
  {
   "cell_type": "code",
   "execution_count": 7,
   "metadata": {},
   "outputs": [],
   "source": [
    "genome_fasta = '/projects/ps-yeolab3/bay001/annotations/hg19/hg19.fa'\n",
    "cmds = []\n",
    "for bed in all_bedfiles:\n",
    "    if not os.path.exists(os.path.join(output_dir, os.path.splitext(os.path.basename(bed))[0])):\n",
    "        out_homer_dir = os.path.join(output_dir, os.path.splitext(os.path.basename(bed))[0])\n",
    "        out_file = out_homer_dir + '.svg'\n",
    "        out_pickle_file = out_homer_dir + '.pickle'\n",
    "        cmd = 'module load eclipanalysis/0.0.3a;analyze_motifs '\n",
    "        cmd += '--peaks {} '.format(bed)\n",
    "        cmd += '--out_pickle_file {} '.format(out_pickle_file)\n",
    "        cmd += '--out_file {} '.format(out_file)\n",
    "        cmd += '--species hg19 '\n",
    "        cmd += '--out_homer_dir {} '.format(out_homer_dir)\n",
    "        cmd += '--genome_fasta {} '.format(genome_fasta)\n",
    "        cmds.append(cmd)"
   ]
  },
  {
   "cell_type": "code",
   "execution_count": 8,
   "metadata": {},
   "outputs": [
    {
     "data": {
      "text/plain": [
       "['module load eclipanalysis/0.0.3a;analyze_motifs --peaks /home/bay001/projects/kris_apobec_20200121/permanent_data2/04_scRNA_RBFOX2_TIA/motif_outputs/RBFOX2_ORFS.barcodes_RBFOX2-TIA1_subset.fx.annotated.windows_51.0.0119.bed --out_pickle_file /home/bay001/projects/kris_apobec_20200121/permanent_data2/04_scRNA_RBFOX2_TIA/motif_outputs/RBFOX2_ORFS.barcodes_RBFOX2-TIA1_subset.fx.annotated.windows_51.0.0119.pickle --out_file /home/bay001/projects/kris_apobec_20200121/permanent_data2/04_scRNA_RBFOX2_TIA/motif_outputs/RBFOX2_ORFS.barcodes_RBFOX2-TIA1_subset.fx.annotated.windows_51.0.0119.svg --species hg19 --out_homer_dir /home/bay001/projects/kris_apobec_20200121/permanent_data2/04_scRNA_RBFOX2_TIA/motif_outputs/RBFOX2_ORFS.barcodes_RBFOX2-TIA1_subset.fx.annotated.windows_51.0.0119 --genome_fasta /projects/ps-yeolab3/bay001/annotations/hg19/hg19.fa ',\n",
       " 'module load eclipanalysis/0.0.3a;analyze_motifs --peaks /home/bay001/projects/kris_apobec_20200121/permanent_data2/04_scRNA_RBFOX2_TIA/motif_outputs/RBFOX2_ORFS.barcodes_RBFOX2-TIA1_subset.fx.annotated.windows_51.0.0267.bed --out_pickle_file /home/bay001/projects/kris_apobec_20200121/permanent_data2/04_scRNA_RBFOX2_TIA/motif_outputs/RBFOX2_ORFS.barcodes_RBFOX2-TIA1_subset.fx.annotated.windows_51.0.0267.pickle --out_file /home/bay001/projects/kris_apobec_20200121/permanent_data2/04_scRNA_RBFOX2_TIA/motif_outputs/RBFOX2_ORFS.barcodes_RBFOX2-TIA1_subset.fx.annotated.windows_51.0.0267.svg --species hg19 --out_homer_dir /home/bay001/projects/kris_apobec_20200121/permanent_data2/04_scRNA_RBFOX2_TIA/motif_outputs/RBFOX2_ORFS.barcodes_RBFOX2-TIA1_subset.fx.annotated.windows_51.0.0267 --genome_fasta /projects/ps-yeolab3/bay001/annotations/hg19/hg19.fa ',\n",
       " 'module load eclipanalysis/0.0.3a;analyze_motifs --peaks /home/bay001/projects/kris_apobec_20200121/permanent_data2/04_scRNA_RBFOX2_TIA/motif_outputs/RBFOX2_ORFS.barcodes_RBFOX2-TIA1_subset_noFeatureCells.fx.annotated.windows_51.0.0119.bed --out_pickle_file /home/bay001/projects/kris_apobec_20200121/permanent_data2/04_scRNA_RBFOX2_TIA/motif_outputs/RBFOX2_ORFS.barcodes_RBFOX2-TIA1_subset_noFeatureCells.fx.annotated.windows_51.0.0119.pickle --out_file /home/bay001/projects/kris_apobec_20200121/permanent_data2/04_scRNA_RBFOX2_TIA/motif_outputs/RBFOX2_ORFS.barcodes_RBFOX2-TIA1_subset_noFeatureCells.fx.annotated.windows_51.0.0119.svg --species hg19 --out_homer_dir /home/bay001/projects/kris_apobec_20200121/permanent_data2/04_scRNA_RBFOX2_TIA/motif_outputs/RBFOX2_ORFS.barcodes_RBFOX2-TIA1_subset_noFeatureCells.fx.annotated.windows_51.0.0119 --genome_fasta /projects/ps-yeolab3/bay001/annotations/hg19/hg19.fa ',\n",
       " 'module load eclipanalysis/0.0.3a;analyze_motifs --peaks /home/bay001/projects/kris_apobec_20200121/permanent_data2/04_scRNA_RBFOX2_TIA/motif_outputs/RBFOX2_ORFS.barcodes_RBFOX2-TIA1_subset_noFeatureCells.fx.annotated.windows_51.0.0267.bed --out_pickle_file /home/bay001/projects/kris_apobec_20200121/permanent_data2/04_scRNA_RBFOX2_TIA/motif_outputs/RBFOX2_ORFS.barcodes_RBFOX2-TIA1_subset_noFeatureCells.fx.annotated.windows_51.0.0267.pickle --out_file /home/bay001/projects/kris_apobec_20200121/permanent_data2/04_scRNA_RBFOX2_TIA/motif_outputs/RBFOX2_ORFS.barcodes_RBFOX2-TIA1_subset_noFeatureCells.fx.annotated.windows_51.0.0267.svg --species hg19 --out_homer_dir /home/bay001/projects/kris_apobec_20200121/permanent_data2/04_scRNA_RBFOX2_TIA/motif_outputs/RBFOX2_ORFS.barcodes_RBFOX2-TIA1_subset_noFeatureCells.fx.annotated.windows_51.0.0267 --genome_fasta /projects/ps-yeolab3/bay001/annotations/hg19/hg19.fa ',\n",
       " 'module load eclipanalysis/0.0.3a;analyze_motifs --peaks /home/bay001/projects/kris_apobec_20200121/permanent_data2/04_scRNA_RBFOX2_TIA/motif_outputs/TIA1_ORFS.barcodes_RBFOX2-TIA1_subset_more.fx.annotated.windows_51.0.0267.bed --out_pickle_file /home/bay001/projects/kris_apobec_20200121/permanent_data2/04_scRNA_RBFOX2_TIA/motif_outputs/TIA1_ORFS.barcodes_RBFOX2-TIA1_subset_more.fx.annotated.windows_51.0.0267.pickle --out_file /home/bay001/projects/kris_apobec_20200121/permanent_data2/04_scRNA_RBFOX2_TIA/motif_outputs/TIA1_ORFS.barcodes_RBFOX2-TIA1_subset_more.fx.annotated.windows_51.0.0267.svg --species hg19 --out_homer_dir /home/bay001/projects/kris_apobec_20200121/permanent_data2/04_scRNA_RBFOX2_TIA/motif_outputs/TIA1_ORFS.barcodes_RBFOX2-TIA1_subset_more.fx.annotated.windows_51.0.0267 --genome_fasta /projects/ps-yeolab3/bay001/annotations/hg19/hg19.fa ']"
      ]
     },
     "execution_count": 8,
     "metadata": {},
     "output_type": "execute_result"
    }
   ],
   "source": [
    "cmds"
   ]
  },
  {
   "cell_type": "code",
   "execution_count": 9,
   "metadata": {},
   "outputs": [
    {
     "name": "stderr",
     "output_type": "stream",
     "text": [
      "Writing 5 tasks as an array-job.\n",
      "Wrote commands to motif_analysis.sh.\n",
      "Submitted script to queue home.\n",
      " Job ID: 21422396\n"
     ]
    },
    {
     "data": {
      "text/plain": [
       "<qtools.submitter.Submitter at 0x2ae15bb5cc90>"
      ]
     },
     "execution_count": 9,
     "metadata": {},
     "output_type": "execute_result"
    }
   ],
   "source": [
    "Submitter(\n",
    "    cmds, \n",
    "    'motif_analysis', \n",
    "    sh='motif_analysis.sh', \n",
    "    nodes=1, \n",
    "    ppn=1, \n",
    "    array=True, \n",
    "    submit=True, \n",
    "    walltime='12:00:00'\n",
    ")"
   ]
  },
  {
   "cell_type": "code",
   "execution_count": null,
   "metadata": {},
   "outputs": [],
   "source": [
    "len(cmds)"
   ]
  },
  {
   "cell_type": "code",
   "execution_count": null,
   "metadata": {},
   "outputs": [],
   "source": []
  }
 ],
 "metadata": {
  "kernelspec": {
   "display_name": "python2-essential",
   "language": "python",
   "name": "python2-essential"
  },
  "language_info": {
   "codemirror_mode": {
    "name": "ipython",
    "version": 2
   },
   "file_extension": ".py",
   "mimetype": "text/x-python",
   "name": "python",
   "nbconvert_exporter": "python",
   "pygments_lexer": "ipython2",
   "version": "2.7.15"
  }
 },
 "nbformat": 4,
 "nbformat_minor": 2
}
