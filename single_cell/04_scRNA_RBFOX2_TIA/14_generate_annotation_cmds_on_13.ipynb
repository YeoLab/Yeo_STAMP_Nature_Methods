{
 "cells": [
  {
   "cell_type": "markdown",
   "metadata": {},
   "source": [
    "# Generates and submits a qsub script to load and annotate edit BED files.\n",
    "- Using annotator/0.0.14 (https://github.com/byee4/annotator)"
   ]
  },
  {
   "cell_type": "code",
   "execution_count": 1,
   "metadata": {},
   "outputs": [],
   "source": [
    "import glob\n",
    "import os\n",
    "from qtools import Submitter\n",
    "from tqdm import tnrange, tqdm_notebook"
   ]
  },
  {
   "cell_type": "code",
   "execution_count": 2,
   "metadata": {},
   "outputs": [],
   "source": [
    "input_dir = '/home/bay001/projects/kris_apobec_20200121/permanent_data2/04_scRNA_RBFOX2_TIA/sailor_outputs_groups/combined_outputs_w_cov_info'\n",
    "output_dir = '/home/bay001/projects/kris_apobec_20200121/permanent_data2/04_scRNA_RBFOX2_TIA/sailor_outputs_groups/combined_outputs_w_cov_info'"
   ]
  },
  {
   "cell_type": "markdown",
   "metadata": {},
   "source": [
    "### Here, I want the joined BED files from 02 outputs"
   ]
  },
  {
   "cell_type": "code",
   "execution_count": 3,
   "metadata": {},
   "outputs": [
    {
     "name": "stdout",
     "output_type": "stream",
     "text": [
      "37\n"
     ]
    },
    {
     "data": {
      "text/plain": [
       "['/home/bay001/projects/kris_apobec_20200121/permanent_data2/04_scRNA_RBFOX2_TIA/sailor_outputs_groups/combined_outputs_w_cov_info/sampled_500_RBFOX2_ORFS.fx.bed',\n",
       " '/home/bay001/projects/kris_apobec_20200121/permanent_data2/04_scRNA_RBFOX2_TIA/sailor_outputs_groups/combined_outputs_w_cov_info/sampled_500_TIA1_ORFS.fx.bed',\n",
       " '/home/bay001/projects/kris_apobec_20200121/permanent_data2/04_scRNA_RBFOX2_TIA/sailor_outputs_groups/combined_outputs_w_cov_info/sampled_500_RBFOX2_ORFS.barcodes_RBFOX2-TIA1_subset_more_noFeatureCells.fx.bed',\n",
       " '/home/bay001/projects/kris_apobec_20200121/permanent_data2/04_scRNA_RBFOX2_TIA/sailor_outputs_groups/combined_outputs_w_cov_info/sampled_300_RBFOX2_ORFS.fx.bed',\n",
       " '/home/bay001/projects/kris_apobec_20200121/permanent_data2/04_scRNA_RBFOX2_TIA/sailor_outputs_groups/combined_outputs_w_cov_info/sampled_200_RBFOX2_ORFS.bed',\n",
       " '/home/bay001/projects/kris_apobec_20200121/permanent_data2/04_scRNA_RBFOX2_TIA/sailor_outputs_groups/combined_outputs_w_cov_info/TIA1_ORFS.barcodes_RBFOX2-TIA1_subset.fx.bed',\n",
       " '/home/bay001/projects/kris_apobec_20200121/permanent_data2/04_scRNA_RBFOX2_TIA/sailor_outputs_groups/combined_outputs_w_cov_info/sampled_300_TIA1_ORFS.barcodes_RBFOX2-TIA1_subset_more_noFeatureCells.bed',\n",
       " '/home/bay001/projects/kris_apobec_20200121/permanent_data2/04_scRNA_RBFOX2_TIA/sailor_outputs_groups/combined_outputs_w_cov_info/sampled_200_TIA1_ORFS.fx.bed',\n",
       " '/home/bay001/projects/kris_apobec_20200121/permanent_data2/04_scRNA_RBFOX2_TIA/sailor_outputs_groups/combined_outputs_w_cov_info/sampled_500_RBFOX2_ORFS.bed',\n",
       " '/home/bay001/projects/kris_apobec_20200121/permanent_data2/04_scRNA_RBFOX2_TIA/sailor_outputs_groups/combined_outputs_w_cov_info/sampled_300_TIA1_ORFS.barcodes_RBFOX2-TIA1_subset_more_noFeatureCells.fx.bed',\n",
       " '/home/bay001/projects/kris_apobec_20200121/permanent_data2/04_scRNA_RBFOX2_TIA/sailor_outputs_groups/combined_outputs_w_cov_info/TIA1_ORFS.barcodes_RBFOX2-TIA1_subset_noFeatureCells.fx.bed',\n",
       " '/home/bay001/projects/kris_apobec_20200121/permanent_data2/04_scRNA_RBFOX2_TIA/sailor_outputs_groups/combined_outputs_w_cov_info/sampled_200_TIA1_ORFS.barcodes_RBFOX2-TIA1_subset_more_noFeatureCells.bed',\n",
       " '/home/bay001/projects/kris_apobec_20200121/permanent_data2/04_scRNA_RBFOX2_TIA/sailor_outputs_groups/combined_outputs_w_cov_info/TIA1_ORFS.barcodes_RBFOX2-TIA1_subset_more.bed',\n",
       " '/home/bay001/projects/kris_apobec_20200121/permanent_data2/04_scRNA_RBFOX2_TIA/sailor_outputs_groups/combined_outputs_w_cov_info/sampled_200_RBFOX2_ORFS.fx.bed',\n",
       " '/home/bay001/projects/kris_apobec_20200121/permanent_data2/04_scRNA_RBFOX2_TIA/sailor_outputs_groups/combined_outputs_w_cov_info/sampled_200_RBFOX2_ORFS.barcodes_RBFOX2-TIA1_subset_more_noFeatureCells.fx.bed',\n",
       " '/home/bay001/projects/kris_apobec_20200121/permanent_data2/04_scRNA_RBFOX2_TIA/sailor_outputs_groups/combined_outputs_w_cov_info/sampled_300_RBFOX2_ORFS.bed',\n",
       " '/home/bay001/projects/kris_apobec_20200121/permanent_data2/04_scRNA_RBFOX2_TIA/sailor_outputs_groups/combined_outputs_w_cov_info/sampled_500_TIA1_ORFS.bed',\n",
       " '/home/bay001/projects/kris_apobec_20200121/permanent_data2/04_scRNA_RBFOX2_TIA/sailor_outputs_groups/combined_outputs_w_cov_info/TIA1_ORFS.barcodes_RBFOX2-TIA1_subset_more.fx.bed',\n",
       " '/home/bay001/projects/kris_apobec_20200121/permanent_data2/04_scRNA_RBFOX2_TIA/sailor_outputs_groups/combined_outputs_w_cov_info/RBFOX2_ORFS.barcodes_RBFOX2-TIA1_subset_more.fx.bed',\n",
       " '/home/bay001/projects/kris_apobec_20200121/permanent_data2/04_scRNA_RBFOX2_TIA/sailor_outputs_groups/combined_outputs_w_cov_info/RBFOX2_ORFS.barcodes_RBFOX2-TIA1_subset_more.bed',\n",
       " '/home/bay001/projects/kris_apobec_20200121/permanent_data2/04_scRNA_RBFOX2_TIA/sailor_outputs_groups/combined_outputs_w_cov_info/sampled_300_TIA1_ORFS.bed',\n",
       " '/home/bay001/projects/kris_apobec_20200121/permanent_data2/04_scRNA_RBFOX2_TIA/sailor_outputs_groups/combined_outputs_w_cov_info/RBFOX2_ORFS.barcodes_RBFOX2-TIA1_subset.bed',\n",
       " '/home/bay001/projects/kris_apobec_20200121/permanent_data2/04_scRNA_RBFOX2_TIA/sailor_outputs_groups/combined_outputs_w_cov_info/sampled_300_RBFOX2_ORFS.barcodes_RBFOX2-TIA1_subset_more_noFeatureCells.bed',\n",
       " '/home/bay001/projects/kris_apobec_20200121/permanent_data2/04_scRNA_RBFOX2_TIA/sailor_outputs_groups/combined_outputs_w_cov_info/sampled_200_RBFOX2_ORFS.barcodes_RBFOX2-TIA1_subset.bed',\n",
       " '/home/bay001/projects/kris_apobec_20200121/permanent_data2/04_scRNA_RBFOX2_TIA/sailor_outputs_groups/combined_outputs_w_cov_info/TIA1_ORFS.barcodes_RBFOX2-TIA1_subset_noFeatureCells.bed',\n",
       " '/home/bay001/projects/kris_apobec_20200121/permanent_data2/04_scRNA_RBFOX2_TIA/sailor_outputs_groups/combined_outputs_w_cov_info/sampled_500_RBFOX2_ORFS.barcodes_RBFOX2-TIA1_subset_more_noFeatureCells.bed',\n",
       " '/home/bay001/projects/kris_apobec_20200121/permanent_data2/04_scRNA_RBFOX2_TIA/sailor_outputs_groups/combined_outputs_w_cov_info/sampled_200_TIA1_ORFS.bed',\n",
       " '/home/bay001/projects/kris_apobec_20200121/permanent_data2/04_scRNA_RBFOX2_TIA/sailor_outputs_groups/combined_outputs_w_cov_info/TIA1_ORFS.barcodes_RBFOX2-TIA1_subset.bed',\n",
       " '/home/bay001/projects/kris_apobec_20200121/permanent_data2/04_scRNA_RBFOX2_TIA/sailor_outputs_groups/combined_outputs_w_cov_info/sampled_500_TIA1_ORFS.barcodes_RBFOX2-TIA1_subset_more_noFeatureCells.fx.bed',\n",
       " '/home/bay001/projects/kris_apobec_20200121/permanent_data2/04_scRNA_RBFOX2_TIA/sailor_outputs_groups/combined_outputs_w_cov_info/sampled_500_TIA1_ORFS.barcodes_RBFOX2-TIA1_subset_more_noFeatureCells.bed',\n",
       " '/home/bay001/projects/kris_apobec_20200121/permanent_data2/04_scRNA_RBFOX2_TIA/sailor_outputs_groups/combined_outputs_w_cov_info/sampled_300_TIA1_ORFS.fx.bed',\n",
       " '/home/bay001/projects/kris_apobec_20200121/permanent_data2/04_scRNA_RBFOX2_TIA/sailor_outputs_groups/combined_outputs_w_cov_info/sampled_300_RBFOX2_ORFS.barcodes_RBFOX2-TIA1_subset_more_noFeatureCells.fx.bed',\n",
       " '/home/bay001/projects/kris_apobec_20200121/permanent_data2/04_scRNA_RBFOX2_TIA/sailor_outputs_groups/combined_outputs_w_cov_info/RBFOX2_ORFS.barcodes_RBFOX2-TIA1_subset_noFeatureCells.bed',\n",
       " '/home/bay001/projects/kris_apobec_20200121/permanent_data2/04_scRNA_RBFOX2_TIA/sailor_outputs_groups/combined_outputs_w_cov_info/sampled_200_RBFOX2_ORFS.barcodes_RBFOX2-TIA1_subset_more_noFeatureCells.bed',\n",
       " '/home/bay001/projects/kris_apobec_20200121/permanent_data2/04_scRNA_RBFOX2_TIA/sailor_outputs_groups/combined_outputs_w_cov_info/RBFOX2_ORFS.barcodes_RBFOX2-TIA1_subset.fx.bed',\n",
       " '/home/bay001/projects/kris_apobec_20200121/permanent_data2/04_scRNA_RBFOX2_TIA/sailor_outputs_groups/combined_outputs_w_cov_info/sampled_200_RBFOX2_ORFS.barcodes_RBFOX2-TIA1_subset.fx.bed',\n",
       " '/home/bay001/projects/kris_apobec_20200121/permanent_data2/04_scRNA_RBFOX2_TIA/sailor_outputs_groups/combined_outputs_w_cov_info/sampled_200_TIA1_ORFS.barcodes_RBFOX2-TIA1_subset_more_noFeatureCells.fx.bed']"
      ]
     },
     "execution_count": 3,
     "metadata": {},
     "output_type": "execute_result"
    }
   ],
   "source": [
    "all_beds = glob.glob(os.path.join(input_dir, '*.bed'))\n",
    "print(len(all_beds))\n",
    "all_beds"
   ]
  },
  {
   "cell_type": "code",
   "execution_count": 4,
   "metadata": {},
   "outputs": [
    {
     "data": {
      "application/vnd.jupyter.widget-view+json": {
       "model_id": "b47c16f6cbee443cb0584079a818bdee",
       "version_major": 2,
       "version_minor": 0
      },
      "text/plain": [
       "HBox(children=(IntProgress(value=0, max=37), HTML(value=u'')))"
      ]
     },
     "metadata": {},
     "output_type": "display_data"
    }
   ],
   "source": [
    "def fix_chr(infile, outfile):\n",
    "    with open(infile, 'r') as i:\n",
    "        with open(outfile, 'w') as o:\n",
    "            for line in i:\n",
    "                o.write('chr{}'.format(line))\n",
    "                \n",
    "progress = tnrange(len(all_beds))\n",
    "for bed in all_beds:\n",
    "    if bed[-7:] == '.fx.bed':\n",
    "        pass\n",
    "    else:\n",
    "        output_fx_bed = os.path.splitext(bed)[0] + \".fx.bed\"\n",
    "        fix_chr(bed, output_fx_bed)\n",
    "    progress.update(1)"
   ]
  },
  {
   "cell_type": "code",
   "execution_count": 5,
   "metadata": {},
   "outputs": [
    {
     "data": {
      "text/plain": [
       "19"
      ]
     },
     "execution_count": 5,
     "metadata": {},
     "output_type": "execute_result"
    }
   ],
   "source": [
    "all_beds = glob.glob(os.path.join(input_dir, '*.fx.bed'))\n",
    "len(all_beds)"
   ]
  },
  {
   "cell_type": "code",
   "execution_count": 6,
   "metadata": {},
   "outputs": [
    {
     "data": {
      "text/plain": [
       "2"
      ]
     },
     "execution_count": 6,
     "metadata": {},
     "output_type": "execute_result"
    }
   ],
   "source": [
    "gtfdb_file = '/projects/ps-yeolab3/bay001/annotations/hg19/gencode_v19/gencode.v19.annotation.gtf.db'\n",
    "cmds = []\n",
    "for bed in all_beds:\n",
    "    output_file = os.path.join(output_dir, os.path.basename(bed).replace('.fx.bed','.fx.annotated'))\n",
    "    if not os.path.exists(output_file):\n",
    "        cmd = 'module load annotator;annotator '\n",
    "        cmd += '--output {} '.format(output_file)\n",
    "        cmd += '--input {} '.format(bed)\n",
    "        cmd += '--gtfdb {} '.format(gtfdb_file)\n",
    "        cmd += '--species {} '.format('hg19')\n",
    "        # cmd += '--transcript-priority-file {} '.format(priority)\n",
    "        # cmd += '--gene-priority-file {}'.format(priority)\n",
    "        cmds.append(cmd)\n",
    "        \n",
    "len(cmds)"
   ]
  },
  {
   "cell_type": "code",
   "execution_count": 7,
   "metadata": {},
   "outputs": [
    {
     "name": "stderr",
     "output_type": "stream",
     "text": [
      "Writing 2 tasks as an array-job.\n",
      "Wrote commands to annotate_editing_sites.sh.\n",
      "Submitted script to queue home.\n",
      " Job ID: 21389167\n"
     ]
    },
    {
     "data": {
      "text/plain": [
       "<qtools.submitter.Submitter at 0x2b7e00fac2d0>"
      ]
     },
     "execution_count": 7,
     "metadata": {},
     "output_type": "execute_result"
    }
   ],
   "source": [
    "Submitter(commands=cmds, job_name='annotate_editing_sites', array=True, nodes=1, ppn=2, submit=True, walltime='2:00:00')"
   ]
  },
  {
   "cell_type": "code",
   "execution_count": null,
   "metadata": {},
   "outputs": [],
   "source": []
  }
 ],
 "metadata": {
  "kernelspec": {
   "display_name": "python2-essential",
   "language": "python",
   "name": "python2-essential"
  },
  "language_info": {
   "codemirror_mode": {
    "name": "ipython",
    "version": 2
   },
   "file_extension": ".py",
   "mimetype": "text/x-python",
   "name": "python",
   "nbconvert_exporter": "python",
   "pygments_lexer": "ipython2",
   "version": "2.7.15"
  }
 },
 "nbformat": 4,
 "nbformat_minor": 2
}
