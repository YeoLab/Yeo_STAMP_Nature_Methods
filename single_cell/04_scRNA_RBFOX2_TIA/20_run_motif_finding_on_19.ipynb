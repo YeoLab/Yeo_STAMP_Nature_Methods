{
 "cells": [
  {
   "cell_type": "code",
   "execution_count": 1,
   "metadata": {},
   "outputs": [],
   "source": [
    "from qtools import Submitter\n",
    "import pandas as pd\n",
    "import numpy as np\n",
    "import os\n",
    "import glob"
   ]
  },
  {
   "cell_type": "code",
   "execution_count": 2,
   "metadata": {},
   "outputs": [],
   "source": [
    "input_dir = '/home/bay001/projects/kris_apobec_20200121/permanent_data2/04_scRNA_RBFOX2_TIA/sailor_outputs_individual_barcodes_merged_bedgraphs'\n",
    "output_dir = '/home/bay001/projects/kris_apobec_20200121/permanent_data2/04_scRNA_RBFOX2_TIA/motif_outputs'"
   ]
  },
  {
   "cell_type": "code",
   "execution_count": 3,
   "metadata": {},
   "outputs": [
    {
     "data": {
      "text/plain": [
       "['/home/bay001/projects/kris_apobec_20200121/permanent_data2/04_scRNA_RBFOX2_TIA/sailor_outputs_individual_barcodes_merged_bedgraphs/AAGCCATAGCTTAAGA-1_TIA1_ORF_-0.20318319_9.375294_3.2616622_APOBEC_STAMP.conf0.0.windows_51.bed',\n",
       " '/home/bay001/projects/kris_apobec_20200121/permanent_data2/04_scRNA_RBFOX2_TIA/sailor_outputs_individual_barcodes_merged_bedgraphs/ACAACCATCCTACCGT-1_RBFOX2_ORF_10.0_-0.29019487_3.2765572_RBFOX2_STAMP.conf0.0.windows_51.bed',\n",
       " '/home/bay001/projects/kris_apobec_20200121/permanent_data2/04_scRNA_RBFOX2_TIA/sailor_outputs_individual_barcodes_merged_bedgraphs/ACGGTTAAGTGGTTAA-1_RBFOX2_ORF_10.0_-0.11923937_6.7221665_APOBEC_STAMP.conf0.0.windows_51.bed',\n",
       " '/home/bay001/projects/kris_apobec_20200121/permanent_data2/04_scRNA_RBFOX2_TIA/sailor_outputs_individual_barcodes_merged_bedgraphs/AGGGTTTAGGTCCGAA-1_RBFOX2_ORF_4.2605596_-0.011071716_4.8276668_RBFOX2_STAMP.conf0.0.windows_51.bed',\n",
       " '/home/bay001/projects/kris_apobec_20200121/permanent_data2/04_scRNA_RBFOX2_TIA/sailor_outputs_individual_barcodes_merged_bedgraphs/CCTCACAGTGATAGTA-1_TIA1_ORF_-0.19757739_10.0_3.9333937_TIA1_STAMP.conf0.0.windows_51.bed',\n",
       " '/home/bay001/projects/kris_apobec_20200121/permanent_data2/04_scRNA_RBFOX2_TIA/sailor_outputs_individual_barcodes_merged_bedgraphs/CCTCATGTCCCGTTGT-1_TIA1_ORF_-0.19154656_9.609408_3.410958_TIA1_STAMP.conf0.0.windows_51.bed',\n",
       " '/home/bay001/projects/kris_apobec_20200121/permanent_data2/04_scRNA_RBFOX2_TIA/sailor_outputs_individual_barcodes_merged_bedgraphs/CCTTGTGCACCCAACG-1_RBFOX2_ORF_9.327105_-0.3559723_4.094241_RBFOX2_STAMP.conf0.0.windows_51.bed',\n",
       " '/home/bay001/projects/kris_apobec_20200121/permanent_data2/04_scRNA_RBFOX2_TIA/sailor_outputs_individual_barcodes_merged_bedgraphs/CGTTGGGGTTACAGCT-1_TIA1_ORF_-0.13502142_8.158115_3.8064375_TIA1_STAMP.conf0.0.windows_51.bed',\n",
       " '/home/bay001/projects/kris_apobec_20200121/permanent_data2/04_scRNA_RBFOX2_TIA/sailor_outputs_individual_barcodes_merged_bedgraphs/GACACGCGTTGCGAAG-1_None_-0.23667693_0.40697137_6.0103_RBFOX2_STAMP.conf0.0.windows_51.bed',\n",
       " '/home/bay001/projects/kris_apobec_20200121/permanent_data2/04_scRNA_RBFOX2_TIA/sailor_outputs_individual_barcodes_merged_bedgraphs/TACCTGCTCCGCTGTT-1_RBFOX2_ORF_7.797372_-0.23486729_4.344099_RBFOX2_STAMP.conf0.0.windows_51.bed',\n",
       " '/home/bay001/projects/kris_apobec_20200121/permanent_data2/04_scRNA_RBFOX2_TIA/sailor_outputs_individual_barcodes_merged_bedgraphs/TTGGGCGCACTAACCA-1_TIA1_ORF_-0.24349248_7.2024407_3.3113647_TIA1_STAMP.conf0.0.windows_51.bed']"
      ]
     },
     "execution_count": 3,
     "metadata": {},
     "output_type": "execute_result"
    }
   ],
   "source": [
    "all_bedfiles = sorted(glob.glob(os.path.join(input_dir, '*windows_51.bed')))\n",
    "all_bedfiles"
   ]
  },
  {
   "cell_type": "code",
   "execution_count": 4,
   "metadata": {},
   "outputs": [],
   "source": [
    "genome_fasta = '/projects/ps-yeolab3/bay001/annotations/hg19/hg19.fa'\n",
    "cmds = []\n",
    "for bed in all_bedfiles:\n",
    "    if not os.path.exists(os.path.join(output_dir, os.path.splitext(os.path.basename(bed))[0])):\n",
    "        out_homer_dir = os.path.join(output_dir, os.path.splitext(os.path.basename(bed))[0])\n",
    "        out_file = out_homer_dir + '.svg'\n",
    "        out_pickle_file = out_homer_dir + '.pickle'\n",
    "        cmd = 'module load eclipanalysis/0.0.3a;analyze_motifs '\n",
    "        cmd += '--peaks {} '.format(bed)\n",
    "        cmd += '--out_pickle_file {} '.format(out_pickle_file)\n",
    "        cmd += '--out_file {} '.format(out_file)\n",
    "        cmd += '--species hg19 '\n",
    "        cmd += '--out_homer_dir {} '.format(out_homer_dir)\n",
    "        cmd += '--genome_fasta {} '.format(genome_fasta)\n",
    "        cmds.append(cmd)"
   ]
  },
  {
   "cell_type": "code",
   "execution_count": 5,
   "metadata": {},
   "outputs": [
    {
     "name": "stderr",
     "output_type": "stream",
     "text": [
      "Writing 11 tasks as an array-job.\n",
      "Wrote commands to motif_analysis.sh.\n",
      "Submitted script to queue home.\n",
      " Job ID: 21792154\n"
     ]
    },
    {
     "data": {
      "text/plain": [
       "<qtools.submitter.Submitter at 0x2b36c1723f90>"
      ]
     },
     "execution_count": 5,
     "metadata": {},
     "output_type": "execute_result"
    }
   ],
   "source": [
    "Submitter(\n",
    "    cmds, \n",
    "    'motif_analysis', \n",
    "    sh='motif_analysis.sh', \n",
    "    nodes=1, \n",
    "    ppn=1, \n",
    "    array=True, \n",
    "    submit=True, \n",
    "    walltime='12:00:00'\n",
    ")"
   ]
  }
 ],
 "metadata": {
  "kernelspec": {
   "display_name": "python2-essential",
   "language": "python",
   "name": "python2-essential"
  },
  "language_info": {
   "codemirror_mode": {
    "name": "ipython",
    "version": 2
   },
   "file_extension": ".py",
   "mimetype": "text/x-python",
   "name": "python",
   "nbconvert_exporter": "python",
   "pygments_lexer": "ipython2",
   "version": "2.7.15"
  }
 },
 "nbformat": 4,
 "nbformat_minor": 2
}
