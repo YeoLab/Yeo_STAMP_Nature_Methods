{
 "cells": [
  {
   "cell_type": "markdown",
   "metadata": {},
   "source": [
    "# Runs the script to generate windows across all exons (CDS, UTRs)"
   ]
  },
  {
   "cell_type": "code",
   "execution_count": 1,
   "metadata": {},
   "outputs": [],
   "source": [
    "import glob\n",
    "import os\n",
    "from qtools import Submitter\n",
    "from tqdm import tnrange, tqdm_notebook"
   ]
  },
  {
   "cell_type": "code",
   "execution_count": 2,
   "metadata": {},
   "outputs": [],
   "source": [
    "annotated_dir = '/home/bay001/projects/kris_apobec_20200121/permanent_data2/04_scRNA_RBFOX2_TIA/sailor_outputs_individual_barcodes_merged_bedfiles'\n",
    "bigwig_dir = '/home/bay001/projects/kris_apobec_20200121/permanent_data2/04_scRNA_RBFOX2_TIA/sailor_outputs_individual_barcodes_merged_bigwigs/'\n",
    "output_dir = '/home/bay001/projects/kris_apobec_20200121/permanent_data2/04_scRNA_RBFOX2_TIA/sailor_outputs_individual_barcodes_merged_scores_no_APO_filter'"
   ]
  },
  {
   "cell_type": "code",
   "execution_count": 3,
   "metadata": {},
   "outputs": [
    {
     "name": "stdout",
     "output_type": "stream",
     "text": [
      "16946\n"
     ]
    },
    {
     "data": {
      "text/plain": [
       "['/home/bay001/projects/kris_apobec_20200121/permanent_data2/04_scRNA_RBFOX2_TIA/sailor_outputs_individual_barcodes_merged_bedfiles/possorted_genome_bam_MD-AAACCCAAGAGCCCAA-1.fx.bed.annotated',\n",
       " '/home/bay001/projects/kris_apobec_20200121/permanent_data2/04_scRNA_RBFOX2_TIA/sailor_outputs_individual_barcodes_merged_bedfiles/possorted_genome_bam_MD-AAACCCAAGAGCTTTC-1.fx.bed.annotated',\n",
       " '/home/bay001/projects/kris_apobec_20200121/permanent_data2/04_scRNA_RBFOX2_TIA/sailor_outputs_individual_barcodes_merged_bedfiles/possorted_genome_bam_MD-AAACCCAAGATAGTGT-1.fx.bed.annotated']"
      ]
     },
     "execution_count": 3,
     "metadata": {},
     "output_type": "execute_result"
    }
   ],
   "source": [
    "all_annotated = sorted(glob.glob(os.path.join(annotated_dir, '*.annotated')))\n",
    "print(len(all_annotated))\n",
    "all_annotated[:3]"
   ]
  },
  {
   "cell_type": "code",
   "execution_count": null,
   "metadata": {},
   "outputs": [],
   "source": []
  },
  {
   "cell_type": "code",
   "execution_count": 4,
   "metadata": {},
   "outputs": [
    {
     "data": {
      "application/vnd.jupyter.widget-view+json": {
       "model_id": "a4370a771a9c4c60a68db3c6e9d7bafc",
       "version_major": 2,
       "version_minor": 0
      },
      "text/plain": [
       "HBox(children=(IntProgress(value=0, max=16946), HTML(value=u'')))"
      ]
     },
     "metadata": {},
     "output_type": "display_data"
    },
    {
     "name": "stdout",
     "output_type": "stream",
     "text": [
      "Number of commands: 0\n"
     ]
    }
   ],
   "source": [
    "### Comment out background filter \n",
    "# bg_edits_file = '/home/bay001/projects/kris_apobec_20200121/permanent_data/final_analysis/01_SAILOR_bulk_rnaseq/outputs/combined_outputs_w_cov_info/ApoControl-1000_S21_L002_R1_001.fastqTr.sorted.STARUnmapped.out.sorted.STARAligned.out.sorted_a0_b0_e0.01.bed'\n",
    "\n",
    "chrom_sizes_file = '/projects/ps-yeolab3/bay001/annotations/hg19/hg19.chrom.sizes'\n",
    "gtfdb_file = '/projects/ps-yeolab3/bay001/annotations/hg19/gencode_v19/gencode.v19.annotation.gtf.db'\n",
    "genome_fa = '/projects/ps-yeolab3/bay001/annotations/hg19/hg19.fa'\n",
    "\n",
    "cds_file = '/projects/ps-yeolab3/bay001/annotations/hg19/gencode_v19/hg19_v19_cds.bed'\n",
    "three_prime_utr_file = '/projects/ps-yeolab3/bay001/annotations/hg19/gencode_v19/hg19_v19_three_prime_utrs.bed'\n",
    "five_prime_utr_file = '/projects/ps-yeolab3/bay001/annotations/hg19/gencode_v19/hg19_v19_five_prime_utrs.bed'\n",
    "\n",
    "def chunker(seq, size):\n",
    "    \"\"\"\n",
    "    Chunks a long list into groups of (size).\n",
    "    \"\"\"\n",
    "    return (seq[pos:pos + size] for pos in range(0, len(seq), size))\n",
    "\n",
    "groupsize = 100\n",
    "need_to_run = [] # unfinished runs\n",
    "cmds = []\n",
    "progress = tnrange(len(all_annotated))\n",
    "for group in chunker(all_annotated, groupsize):\n",
    "    cmd = 'module load python3essential;'\n",
    "    for g in group:\n",
    "        output_file = os.path.join(output_dir, os.path.basename(g) + '.exons.txt')\n",
    "        output_file_summed = os.path.join(output_dir, os.path.basename(g) + '.exons.merged.txt')\n",
    "\n",
    "        pos_bw = os.path.join(bigwig_dir, os.path.basename(g).replace('.fx.bed.annotated','') + '.fwd.sorted.rmdup.readfiltered.sorted.bw')\n",
    "        neg_bw =os.path.join(bigwig_dir, os.path.basename(g).replace('.fx.bed.annotated','') + '.rev.sorted.rmdup.readfiltered.sorted.bw')\n",
    "        if not os.path.exists(output_file_summed):\n",
    "            if os.path.exists(pos_bw) and os.path.exists(neg_bw) and os.path.exists(g):\n",
    "                cmd += 'python /home/bay001/projects/kris_apobec_20200121/scripts/score_edits_total_exon_coverage_sc.py '\n",
    "                cmd += '--conf 0 ' \n",
    "                cmd += '--gtfdb {} '.format(gtfdb_file)\n",
    "                cmd += '--chrom_sizes_file {} '.format(chrom_sizes_file)\n",
    "                cmd += '--pos_bw {} '.format(pos_bw)\n",
    "                cmd += '--neg_bw {} '.format(neg_bw)\n",
    "                cmd += '--annotated_edits_file {} '.format(g)\n",
    "                # cmd += '--bg_edits_file {} '.format(bg_edits_file)\n",
    "                cmd += '--genome_fa {} '.format(genome_fa)\n",
    "                cmd += '--output_file {} '.format(output_file)\n",
    "                cmd += '--output_file_summed {} '.format(output_file_summed)\n",
    "                cmd += '--three_prime_utr_file {} '.format(three_prime_utr_file)\n",
    "                cmd += '--five_prime_utr_file {} '.format(five_prime_utr_file)\n",
    "                cmd += '--cds_file {};'.format(cds_file)\n",
    "            else:\n",
    "                print(os.path.exists(pos_bw), os.path.exists(neg_bw), os.path.exists(g))\n",
    "                need_to_run.append(g)\n",
    "        progress.update(1)\n",
    "    if cmd != 'module load python3essential;':\n",
    "        cmds.append(cmd)\n",
    "\n",
    "print(\"Number of commands: {}\".format(len(cmds)))"
   ]
  },
  {
   "cell_type": "code",
   "execution_count": 5,
   "metadata": {},
   "outputs": [],
   "source": [
    "if len(cmds) > 0:\n",
    "    Submitter(commands=cmds, job_name='04_score_exon_edits', array=True, nodes=1, ppn=4, submit=False, walltime='11:00:00')"
   ]
  },
  {
   "cell_type": "markdown",
   "metadata": {},
   "source": [
    "# Write the commands to score all exon (minus 3'UTR) edits"
   ]
  },
  {
   "cell_type": "raw",
   "metadata": {},
   "source": [
    "cmds = []\n",
    "for group in chunker(all_annotated, groupsize):\n",
    "    cmd = 'module load python3essential;'\n",
    "    for g in group:\n",
    "        output_file = os.path.join(output_dir, os.path.basename(g) + '.exons_no3utr.txt')\n",
    "        output_file_summed = os.path.join(output_dir, os.path.basename(g) + '.exons_no3utr.merged.txt')\n",
    "\n",
    "        pos_bw = os.path.join(bigwig_dir, os.path.basename(g).replace('.fx.bed.annotated','') + '.fwd.sorted.rmdup.readfiltered.sorted.bw')\n",
    "        neg_bw =os.path.join(bigwig_dir, os.path.basename(g).replace('.fx.bed.annotated','') + '.rev.sorted.rmdup.readfiltered.sorted.bw')\n",
    "        if not os.path.exists(output_file_summed):\n",
    "            if os.path.exists(pos_bw) and os.path.exists(neg_bw) and os.path.exists(g):\n",
    "                cmd += 'python /home/bay001/projects/kris_apobec_20200121/permanent_data2/04_scRNA_RBFOX2_TIA/score_edits_total_exon_coverage.py '\n",
    "                cmd += '--conf 0 ' \n",
    "                cmd += '--gtfdb {} '.format(gtfdb_file)\n",
    "                cmd += '--chrom_sizes_file {} '.format(chrom_sizes_file)\n",
    "                cmd += '--pos_bw {} '.format(pos_bw)\n",
    "                cmd += '--neg_bw {} '.format(neg_bw)\n",
    "                cmd += '--annotated_edits_file {} '.format(g)\n",
    "                # cmd += '--bg_edits_file {} '.format(bg_edits_file)\n",
    "                cmd += '--genome_fa {} '.format(genome_fa)\n",
    "                cmd += '--output_file {} '.format(output_file)\n",
    "                cmd += '--output_file_summed {} '.format(output_file_summed)\n",
    "                cmd += '--five_prime_utr_file {} '.format(five_prime_utr_file)\n",
    "                cmd += '--cds_file {};'.format(cds_file)\n",
    "            else:\n",
    "                print(os.path.exists(pos_bw), os.path.exists(neg_bw), os.path.exists(g))\n",
    "    if cmd != 'module load python3essential;':\n",
    "        cmds.append(cmd)\n",
    "\n",
    "print(\"Number of commands: {}\".format(len(cmds)))"
   ]
  },
  {
   "cell_type": "raw",
   "metadata": {},
   "source": [
    "if len(cmds) > 0:\n",
    "    Submitter(commands=cmds, job_name='score_exon_no3utr_edits', array=True, nodes=1, ppn=4, submit=False, walltime='8:00:00')"
   ]
  },
  {
   "cell_type": "code",
   "execution_count": 6,
   "metadata": {},
   "outputs": [
    {
     "data": {
      "text/plain": [
       "[]"
      ]
     },
     "execution_count": 6,
     "metadata": {},
     "output_type": "execute_result"
    }
   ],
   "source": [
    "cmds"
   ]
  },
  {
   "cell_type": "code",
   "execution_count": 7,
   "metadata": {},
   "outputs": [
    {
     "data": {
      "text/plain": [
       "0"
      ]
     },
     "execution_count": 7,
     "metadata": {},
     "output_type": "execute_result"
    }
   ],
   "source": [
    "len(need_to_run)"
   ]
  },
  {
   "cell_type": "code",
   "execution_count": null,
   "metadata": {},
   "outputs": [],
   "source": []
  }
 ],
 "metadata": {
  "kernelspec": {
   "display_name": "python2-essential",
   "language": "python",
   "name": "python2-essential"
  },
  "language_info": {
   "codemirror_mode": {
    "name": "ipython",
    "version": 2
   },
   "file_extension": ".py",
   "mimetype": "text/x-python",
   "name": "python",
   "nbconvert_exporter": "python",
   "pygments_lexer": "ipython2",
   "version": "2.7.15"
  }
 },
 "nbformat": 4,
 "nbformat_minor": 2
}
