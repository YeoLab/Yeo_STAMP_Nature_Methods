{
 "cells": [
  {
   "cell_type": "markdown",
   "metadata": {},
   "source": [
    "# We need bigwig files for fast access to coverage (used by the score_edits_* scripts)\n",
    "- Used when computing edit/C metric\n",
    "- this notebook assumes a reverse stranded SE library. Otherwise you may need to reverse the ```-strand +``` param"
   ]
  },
  {
   "cell_type": "code",
   "execution_count": 1,
   "metadata": {},
   "outputs": [],
   "source": [
    "import glob\n",
    "import os\n",
    "from qtools import Submitter\n",
    "from tqdm import tnrange, tqdm_notebook"
   ]
  },
  {
   "cell_type": "code",
   "execution_count": 2,
   "metadata": {},
   "outputs": [],
   "source": [
    "input_dir = '/home/bay001/projects/kris_apobec_20200121/permanent_data2/04_scRNA_RBFOX2_TIA/sailor_outputs_groups/'\n",
    "output_dir = '/home/bay001/projects/kris_apobec_20200121/permanent_data2/04_scRNA_RBFOX2_TIA/sailor_outputs_groups/combined_outputs_w_cov_info'"
   ]
  },
  {
   "cell_type": "markdown",
   "metadata": {},
   "source": [
    "### inputs should be the two ```*.sorted.rmdup.readfiltered.bam``` files that are intermediates from SAILOR. These are BAM files, split into their respective strands, and filtered for any low-quality or unexpected (non C/T) reads."
   ]
  },
  {
   "cell_type": "code",
   "execution_count": 3,
   "metadata": {},
   "outputs": [
    {
     "name": "stdout",
     "output_type": "stream",
     "text": [
      "19\n"
     ]
    },
    {
     "data": {
      "text/plain": [
       "['/home/bay001/projects/kris_apobec_20200121/permanent_data2/04_scRNA_RBFOX2_TIA/sailor_outputs_groups/sampled_200_RBFOX2_ORFS.barcodes_RBFOX2-TIA1_subset_more_noFeatureCells/results/sampled_200_RBFOX2_ORFS.barcodes_RBFOX2-TIA1_subset_more_noFeatureCells.fwd.sorted.rmdup.readfiltered.bam',\n",
       " '/home/bay001/projects/kris_apobec_20200121/permanent_data2/04_scRNA_RBFOX2_TIA/sailor_outputs_groups/sampled_200_RBFOX2_ORFS.barcodes_RBFOX2-TIA1_subset/results/sampled_200_RBFOX2_ORFS.barcodes_RBFOX2-TIA1_subset.fwd.sorted.rmdup.readfiltered.bam',\n",
       " '/home/bay001/projects/kris_apobec_20200121/permanent_data2/04_scRNA_RBFOX2_TIA/sailor_outputs_groups/RBFOX2_ORFS.barcodes_RBFOX2-TIA1_subset/results/RBFOX2_ORFS.barcodes_RBFOX2-TIA1_subset.fwd.sorted.rmdup.readfiltered.bam',\n",
       " '/home/bay001/projects/kris_apobec_20200121/permanent_data2/04_scRNA_RBFOX2_TIA/sailor_outputs_groups/sampled_500_TIA1_ORFS/results/sampled_500_TIA1_ORFS.fwd.sorted.rmdup.readfiltered.bam',\n",
       " '/home/bay001/projects/kris_apobec_20200121/permanent_data2/04_scRNA_RBFOX2_TIA/sailor_outputs_groups/sampled_200_RBFOX2_ORFS/results/sampled_200_RBFOX2_ORFS.fwd.sorted.rmdup.readfiltered.bam',\n",
       " '/home/bay001/projects/kris_apobec_20200121/permanent_data2/04_scRNA_RBFOX2_TIA/sailor_outputs_groups/TIA1_ORFS.barcodes_RBFOX2-TIA1_subset_more/results/TIA1_ORFS.barcodes_RBFOX2-TIA1_subset_more.fwd.sorted.rmdup.readfiltered.bam',\n",
       " '/home/bay001/projects/kris_apobec_20200121/permanent_data2/04_scRNA_RBFOX2_TIA/sailor_outputs_groups/TIA1_ORFS.barcodes_RBFOX2-TIA1_subset/results/TIA1_ORFS.barcodes_RBFOX2-TIA1_subset.fwd.sorted.rmdup.readfiltered.bam',\n",
       " '/home/bay001/projects/kris_apobec_20200121/permanent_data2/04_scRNA_RBFOX2_TIA/sailor_outputs_groups/sampled_500_RBFOX2_ORFS/results/sampled_500_RBFOX2_ORFS.fwd.sorted.rmdup.readfiltered.bam',\n",
       " '/home/bay001/projects/kris_apobec_20200121/permanent_data2/04_scRNA_RBFOX2_TIA/sailor_outputs_groups/sampled_300_TIA1_ORFS/results/sampled_300_TIA1_ORFS.fwd.sorted.rmdup.readfiltered.bam',\n",
       " '/home/bay001/projects/kris_apobec_20200121/permanent_data2/04_scRNA_RBFOX2_TIA/sailor_outputs_groups/sampled_300_RBFOX2_ORFS.barcodes_RBFOX2-TIA1_subset_more_noFeatureCells/results/sampled_300_RBFOX2_ORFS.barcodes_RBFOX2-TIA1_subset_more_noFeatureCells.fwd.sorted.rmdup.readfiltered.bam',\n",
       " '/home/bay001/projects/kris_apobec_20200121/permanent_data2/04_scRNA_RBFOX2_TIA/sailor_outputs_groups/TIA1_ORFS.barcodes_RBFOX2-TIA1_subset_noFeatureCells/results/TIA1_ORFS.barcodes_RBFOX2-TIA1_subset_noFeatureCells.fwd.sorted.rmdup.readfiltered.bam',\n",
       " '/home/bay001/projects/kris_apobec_20200121/permanent_data2/04_scRNA_RBFOX2_TIA/sailor_outputs_groups/sampled_200_TIA1_ORFS/results/sampled_200_TIA1_ORFS.fwd.sorted.rmdup.readfiltered.bam',\n",
       " '/home/bay001/projects/kris_apobec_20200121/permanent_data2/04_scRNA_RBFOX2_TIA/sailor_outputs_groups/sampled_300_RBFOX2_ORFS/results/sampled_300_RBFOX2_ORFS.fwd.sorted.rmdup.readfiltered.bam',\n",
       " '/home/bay001/projects/kris_apobec_20200121/permanent_data2/04_scRNA_RBFOX2_TIA/sailor_outputs_groups/sampled_500_TIA1_ORFS.barcodes_RBFOX2-TIA1_subset_more_noFeatureCells/results/sampled_500_TIA1_ORFS.barcodes_RBFOX2-TIA1_subset_more_noFeatureCells.fwd.sorted.rmdup.readfiltered.bam',\n",
       " '/home/bay001/projects/kris_apobec_20200121/permanent_data2/04_scRNA_RBFOX2_TIA/sailor_outputs_groups/RBFOX2_ORFS.barcodes_RBFOX2-TIA1_subset_more/results/RBFOX2_ORFS.barcodes_RBFOX2-TIA1_subset_more.fwd.sorted.rmdup.readfiltered.bam',\n",
       " '/home/bay001/projects/kris_apobec_20200121/permanent_data2/04_scRNA_RBFOX2_TIA/sailor_outputs_groups/sampled_300_TIA1_ORFS.barcodes_RBFOX2-TIA1_subset_more_noFeatureCells/results/sampled_300_TIA1_ORFS.barcodes_RBFOX2-TIA1_subset_more_noFeatureCells.fwd.sorted.rmdup.readfiltered.bam',\n",
       " '/home/bay001/projects/kris_apobec_20200121/permanent_data2/04_scRNA_RBFOX2_TIA/sailor_outputs_groups/sampled_200_TIA1_ORFS.barcodes_RBFOX2-TIA1_subset_more_noFeatureCells/results/sampled_200_TIA1_ORFS.barcodes_RBFOX2-TIA1_subset_more_noFeatureCells.fwd.sorted.rmdup.readfiltered.bam',\n",
       " '/home/bay001/projects/kris_apobec_20200121/permanent_data2/04_scRNA_RBFOX2_TIA/sailor_outputs_groups/sampled_500_RBFOX2_ORFS.barcodes_RBFOX2-TIA1_subset_more_noFeatureCells/results/sampled_500_RBFOX2_ORFS.barcodes_RBFOX2-TIA1_subset_more_noFeatureCells.fwd.sorted.rmdup.readfiltered.bam',\n",
       " '/home/bay001/projects/kris_apobec_20200121/permanent_data2/04_scRNA_RBFOX2_TIA/sailor_outputs_groups/RBFOX2_ORFS.barcodes_RBFOX2-TIA1_subset_noFeatureCells/results/RBFOX2_ORFS.barcodes_RBFOX2-TIA1_subset_noFeatureCells.fwd.sorted.rmdup.readfiltered.bam']"
      ]
     },
     "execution_count": 3,
     "metadata": {},
     "output_type": "execute_result"
    }
   ],
   "source": [
    "all_fwd_bams = glob.glob(os.path.join(input_dir, '*/results/*.fwd.sorted.rmdup.readfiltered.bam'))\n",
    "print(len(all_fwd_bams))\n",
    "all_fwd_bams"
   ]
  },
  {
   "cell_type": "markdown",
   "metadata": {},
   "source": [
    "# Write the bam to bigwig commands"
   ]
  },
  {
   "cell_type": "code",
   "execution_count": 4,
   "metadata": {},
   "outputs": [
    {
     "name": "stdout",
     "output_type": "stream",
     "text": [
      "4\n"
     ]
    }
   ],
   "source": [
    "chrom_sizes_file = '/home/bay001/projects/kris_apobec_20200121/permanent_data2/04_scRNA_RBFOX2_TIA/inputs/refdata-cellranger-hg19_lenti_common-3.0.0/star/chrNameLength.txt'\n",
    "cmds = []\n",
    "for fwd_bam in all_fwd_bams:\n",
    "    fwd_bg = os.path.join(output_dir, os.path.splitext(os.path.basename(fwd_bam))[0] + \".bg\")\n",
    "    fwd_sorted_bg = os.path.join(output_dir, os.path.splitext(os.path.basename(fwd_bam))[0] + \".sorted.bg\")\n",
    "    fwd_sorted_bw = os.path.join(output_dir, os.path.splitext(os.path.basename(fwd_bam))[0] + \".sorted.bw\")\n",
    "    if not os.path.exists(fwd_sorted_bw):\n",
    "        cmd = 'module load makebigwigfiles;'\n",
    "        cmd += 'bedtools genomecov -split -strand + -g {} -bg -ibam {} > {};'.format(chrom_sizes_file, fwd_bam, fwd_bg)\n",
    "        cmd += 'bedtools sort -i {} > {};'.format(fwd_bg, fwd_sorted_bg)\n",
    "        cmd += 'bedGraphToBigWig {} {} {};'.format(fwd_sorted_bg, chrom_sizes_file, fwd_sorted_bw)\n",
    "        cmds.append(cmd)\n",
    "    \n",
    "for fwd_bam in all_fwd_bams:\n",
    "    rev_bam = fwd_bam.replace('.fwd.sorted.rmdup.readfiltered.bam', '.rev.sorted.rmdup.readfiltered.bam')\n",
    "    rev_bg = os.path.join(output_dir, os.path.splitext(os.path.basename(rev_bam))[0] + \".bg\")\n",
    "    rev_sorted_bg = os.path.join(output_dir, os.path.splitext(os.path.basename(rev_bam))[0] + \".sorted.bg\")\n",
    "    rev_sorted_bw = os.path.join(output_dir, os.path.splitext(os.path.basename(rev_bam))[0] + \".sorted.bw\")\n",
    "    if not os.path.exists(rev_sorted_bw):\n",
    "        cmd = 'module load makebigwigfiles;'\n",
    "        cmd += 'bedtools genomecov -split -strand - -g {} -bg -ibam {} > {};'.format(chrom_sizes_file, rev_bam, rev_bg)\n",
    "        cmd += 'bedtools sort -i {} > {};'.format(rev_bg, rev_sorted_bg)\n",
    "        cmd += 'bedGraphToBigWig {} {} {};'.format(rev_sorted_bg, chrom_sizes_file, rev_sorted_bw)\n",
    "        cmds.append(cmd)\n",
    "print(len(cmds))"
   ]
  },
  {
   "cell_type": "code",
   "execution_count": 5,
   "metadata": {},
   "outputs": [
    {
     "name": "stderr",
     "output_type": "stream",
     "text": [
      "Writing 4 tasks as an array-job.\n",
      "Wrote commands to bamToBigWig.sh.\n",
      "Submitted script to queue home.\n",
      " Job ID: 21389169\n"
     ]
    },
    {
     "data": {
      "text/plain": [
       "<qtools.submitter.Submitter at 0x2b94f7e487d0>"
      ]
     },
     "execution_count": 5,
     "metadata": {},
     "output_type": "execute_result"
    }
   ],
   "source": [
    "Submitter(commands=cmds, job_name='bamToBigWig', array=True, nodes=1, ppn=1, submit=True, walltime='8:00:00')"
   ]
  },
  {
   "cell_type": "code",
   "execution_count": null,
   "metadata": {},
   "outputs": [],
   "source": []
  }
 ],
 "metadata": {
  "kernelspec": {
   "display_name": "python2-essential",
   "language": "python",
   "name": "python2-essential"
  },
  "language_info": {
   "codemirror_mode": {
    "name": "ipython",
    "version": 2
   },
   "file_extension": ".py",
   "mimetype": "text/x-python",
   "name": "python",
   "nbconvert_exporter": "python",
   "pygments_lexer": "ipython2",
   "version": "2.7.15"
  }
 },
 "nbformat": 4,
 "nbformat_minor": 2
}
