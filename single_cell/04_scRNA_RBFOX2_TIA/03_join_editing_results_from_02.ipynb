{
 "cells": [
  {
   "cell_type": "markdown",
   "metadata": {},
   "source": [
    "# SAILOR produces results split by strand, so let's join them here."
   ]
  },
  {
   "cell_type": "code",
   "execution_count": 1,
   "metadata": {},
   "outputs": [],
   "source": [
    "import pandas as pd\n",
    "import numpy as np\n",
    "import os\n",
    "import glob\n",
    "from tqdm import tnrange, tqdm_notebook"
   ]
  },
  {
   "cell_type": "code",
   "execution_count": 2,
   "metadata": {},
   "outputs": [],
   "source": [
    "input_dir_prefix = '/home/bay001/projects/kris_apobec_20200121/permanent_data2/04_scRNA_RBFOX2_TIA/sailor_outputs_individual_barcodes'\n",
    "bed_output_dir = '/home/bay001/projects/kris_apobec_20200121/permanent_data2/04_scRNA_RBFOX2_TIA/sailor_outputs_individual_barcodes_merged_bedfiles/'"
   ]
  },
  {
   "cell_type": "code",
   "execution_count": null,
   "metadata": {},
   "outputs": [],
   "source": []
  },
  {
   "cell_type": "code",
   "execution_count": 3,
   "metadata": {},
   "outputs": [],
   "source": [
    "def filter_bed(df, conf_level):\n",
    "    \"\"\"\n",
    "    Filters the bed file given a conf level. We don't really use this score anymore since we're now scoring by edit fraction.\n",
    "    \"\"\"\n",
    "    return df[df['conf'] >= conf_level]\n",
    "\n",
    "def get_rev(fwd_file):\n",
    "    \"\"\"\n",
    "    (fwd) and (rev) bed files are identically named except for the 'fwd' and 'rev' annotation.\n",
    "    So it's easy to, given the fwd_file name, return the corresponding rev_file \n",
    "    \"\"\"\n",
    "    return fwd_file.replace(\n",
    "        '.fwd.sorted.rmdup.readfiltered.formatted.varfiltered.snpfiltered.ranked.bed',\n",
    "        '.rev.sorted.rmdup.readfiltered.formatted.varfiltered.snpfiltered.ranked.bed'\n",
    "    )\n",
    "\n",
    "def get_combined_bedfile_name(fwd_file):\n",
    "    \"\"\"\n",
    "    Really just re-formats the name to be shorter and remove the 'fwd' annotation. \n",
    "    We'll be using the returned string as the new 'merged' name\n",
    "    \"\"\"\n",
    "    return fwd_file.replace('.fwd.sorted.rmdup.readfiltered.formatted.varfiltered.snpfiltered.ranked.bed','.bed')\n",
    "\n",
    "def concat_bedfiles(fwd_file, rev_file):\n",
    "    \"\"\"\n",
    "    Combines two native SAILOR fwd and rev bedfiles\n",
    "    \"\"\"\n",
    "    common_header = ['chrom','start','end','info','conf','strand']\n",
    "    fwd = pd.read_csv(fwd_file, sep='\\t', names=common_header)\n",
    "    rev = pd.read_csv(rev_file, sep='\\t', names=common_header)\n",
    "    return pd.concat([fwd, rev])\n",
    "\n",
    "def get_number_edited_reads(row):\n",
    "    \"\"\"\n",
    "    SAILOR reports the total coverage and edit fraction in the 'info' column.\n",
    "    Use these two numbers to get the number of edited reads.\n",
    "    \"\"\"\n",
    "    total_reads, edit_type, fraction = row['info'].split('|')\n",
    "    return round(int(total_reads) * float(fraction))\n",
    "\n",
    "def label_cov_info(row):\n",
    "    \"\"\"\n",
    "    returns the num_edited and total_coverage as a concatenated string.\n",
    "    \"\"\"\n",
    "    return \"{},{}\".format(row['num_edited'], row['total_coverage'])"
   ]
  },
  {
   "cell_type": "code",
   "execution_count": 4,
   "metadata": {},
   "outputs": [
    {
     "data": {
      "application/vnd.jupyter.widget-view+json": {
       "model_id": "d44b5df10bdb4241bc8229f2718116bb",
       "version_major": 2,
       "version_minor": 0
      },
      "text/plain": [
       "HBox(children=(IntProgress(value=0, max=16), HTML(value='')))"
      ]
     },
     "metadata": {},
     "output_type": "display_data"
    },
    {
     "data": {
      "application/vnd.jupyter.widget-view+json": {
       "model_id": "",
       "version_major": 2,
       "version_minor": 0
      },
      "text/plain": [
       "HBox(children=(IntProgress(value=0, max=1092), HTML(value='')))"
      ]
     },
     "metadata": {},
     "output_type": "display_data"
    },
    {
     "data": {
      "application/vnd.jupyter.widget-view+json": {
       "model_id": "1ec47622bbae4c1296dbc05e90a98dde",
       "version_major": 2,
       "version_minor": 0
      },
      "text/plain": [
       "HBox(children=(IntProgress(value=0, max=1166), HTML(value='')))"
      ]
     },
     "metadata": {},
     "output_type": "display_data"
    },
    {
     "data": {
      "application/vnd.jupyter.widget-view+json": {
       "model_id": "",
       "version_major": 2,
       "version_minor": 0
      },
      "text/plain": [
       "HBox(children=(IntProgress(value=0, max=1489), HTML(value='')))"
      ]
     },
     "metadata": {},
     "output_type": "display_data"
    },
    {
     "data": {
      "application/vnd.jupyter.widget-view+json": {
       "model_id": "d3736ec66dae4b9395c6e3dcbe8d435a",
       "version_major": 2,
       "version_minor": 0
      },
      "text/plain": [
       "HBox(children=(IntProgress(value=0, max=1280), HTML(value='')))"
      ]
     },
     "metadata": {},
     "output_type": "display_data"
    },
    {
     "data": {
      "application/vnd.jupyter.widget-view+json": {
       "model_id": "",
       "version_major": 2,
       "version_minor": 0
      },
      "text/plain": [
       "HBox(children=(IntProgress(value=0, max=1551), HTML(value='')))"
      ]
     },
     "metadata": {},
     "output_type": "display_data"
    },
    {
     "data": {
      "application/vnd.jupyter.widget-view+json": {
       "model_id": "68303065442741a891bd8882b3fc887e",
       "version_major": 2,
       "version_minor": 0
      },
      "text/plain": [
       "HBox(children=(IntProgress(value=0, max=1025), HTML(value='')))"
      ]
     },
     "metadata": {},
     "output_type": "display_data"
    },
    {
     "data": {
      "application/vnd.jupyter.widget-view+json": {
       "model_id": "",
       "version_major": 2,
       "version_minor": 0
      },
      "text/plain": [
       "HBox(children=(IntProgress(value=0, max=876), HTML(value='')))"
      ]
     },
     "metadata": {},
     "output_type": "display_data"
    },
    {
     "data": {
      "application/vnd.jupyter.widget-view+json": {
       "model_id": "2756db28e73141feab1cfa29569f5b73",
       "version_major": 2,
       "version_minor": 0
      },
      "text/plain": [
       "HBox(children=(IntProgress(value=0, max=1448), HTML(value='')))"
      ]
     },
     "metadata": {},
     "output_type": "display_data"
    },
    {
     "data": {
      "application/vnd.jupyter.widget-view+json": {
       "model_id": "be03e0a4942c4dfcb911badd21b611cd",
       "version_major": 2,
       "version_minor": 0
      },
      "text/plain": [
       "HBox(children=(IntProgress(value=0, max=1384), HTML(value='')))"
      ]
     },
     "metadata": {},
     "output_type": "display_data"
    },
    {
     "data": {
      "application/vnd.jupyter.widget-view+json": {
       "model_id": "",
       "version_major": 2,
       "version_minor": 0
      },
      "text/plain": [
       "HBox(children=(IntProgress(value=0, max=931), HTML(value='')))"
      ]
     },
     "metadata": {},
     "output_type": "display_data"
    },
    {
     "data": {
      "application/vnd.jupyter.widget-view+json": {
       "model_id": "46083a91b0d14ebea4d89d8099e885b7",
       "version_major": 2,
       "version_minor": 0
      },
      "text/plain": [
       "HBox(children=(IntProgress(value=0, max=1037), HTML(value='')))"
      ]
     },
     "metadata": {},
     "output_type": "display_data"
    },
    {
     "data": {
      "application/vnd.jupyter.widget-view+json": {
       "model_id": "",
       "version_major": 2,
       "version_minor": 0
      },
      "text/plain": [
       "HBox(children=(IntProgress(value=0, max=1532), HTML(value='')))"
      ]
     },
     "metadata": {},
     "output_type": "display_data"
    },
    {
     "data": {
      "application/vnd.jupyter.widget-view+json": {
       "model_id": "6cf657c5294546e7ac896b6e7a4ffad4",
       "version_major": 2,
       "version_minor": 0
      },
      "text/plain": [
       "HBox(children=(IntProgress(value=0, max=1022), HTML(value='')))"
      ]
     },
     "metadata": {},
     "output_type": "display_data"
    },
    {
     "data": {
      "application/vnd.jupyter.widget-view+json": {
       "model_id": "",
       "version_major": 2,
       "version_minor": 0
      },
      "text/plain": [
       "HBox(children=(IntProgress(value=0, max=1910), HTML(value='')))"
      ]
     },
     "metadata": {},
     "output_type": "display_data"
    },
    {
     "data": {
      "application/vnd.jupyter.widget-view+json": {
       "model_id": "569f84dd37a74ad0897d488c20bba8f0",
       "version_major": 2,
       "version_minor": 0
      },
      "text/plain": [
       "HBox(children=(IntProgress(value=0, max=1482), HTML(value='')))"
      ]
     },
     "metadata": {},
     "output_type": "display_data"
    },
    {
     "data": {
      "application/vnd.jupyter.widget-view+json": {
       "model_id": "00bc17c6fd974c2baef89e603bebc410",
       "version_major": 2,
       "version_minor": 0
      },
      "text/plain": [
       "HBox(children=(IntProgress(value=0, max=1392), HTML(value='')))"
      ]
     },
     "metadata": {},
     "output_type": "display_data"
    }
   ],
   "source": [
    "errors = set()\n",
    "all_final_outputs = 0   # all final outputs. if this doesn't match the above, we need to check which files have not been created.\n",
    "no_edit_barcodes = []\n",
    "progress = tnrange(16)\n",
    "for nt in ['A', 'C', 'G', 'T']:\n",
    "    for nt2 in ['A', 'C', 'G', 'T']:\n",
    "        split_output = os.path.join(input_dir_prefix + '_{}{}'.format(nt, nt2))\n",
    "        all_fwd_files = sorted(glob.glob(os.path.join(split_output, \"*/results/*.fwd.sorted.rmdup.readfiltered.formatted.varfiltered.snpfiltered.ranked.bed\")))\n",
    "        progress_inner = tnrange(len(all_fwd_files), leave=False)\n",
    "        for f in all_fwd_files:\n",
    "            try:\n",
    "                output_file = os.path.join(\n",
    "                    bed_output_dir, \n",
    "                    os.path.basename(get_combined_bedfile_name(f))\n",
    "                )\n",
    "                if not os.path.exists(output_file):\n",
    "                    df = concat_bedfiles(f, get_rev(f))\n",
    "                    if df.shape[0] > 0:\n",
    "                        df['total_coverage'] = df['info'].apply(lambda x: int(x.split('|')[0]))\n",
    "                        df['num_edited'] = df.apply(get_number_edited_reads, axis=1)\n",
    "                        df['name_col'] = df.apply(label_cov_info, axis=1)\n",
    "                        df[['chrom','start','end','conf','name_col','strand']].to_csv(\n",
    "                            output_file, \n",
    "                            sep='\\t', \n",
    "                            index=False, \n",
    "                            header=False\n",
    "                        )\n",
    "                    else:\n",
    "                        no_edit_barcodes.append(f)\n",
    "            except Exception:\n",
    "                print(e)\n",
    "                errors.add(f)\n",
    "            all_final_outputs += 1\n",
    "            progress_inner.update(1)\n",
    "        progress.update(1)"
   ]
  },
  {
   "cell_type": "code",
   "execution_count": 5,
   "metadata": {},
   "outputs": [
    {
     "data": {
      "text/plain": [
       "set()"
      ]
     },
     "execution_count": 5,
     "metadata": {},
     "output_type": "execute_result"
    }
   ],
   "source": [
    "errors"
   ]
  },
  {
   "cell_type": "code",
   "execution_count": 6,
   "metadata": {},
   "outputs": [
    {
     "data": {
      "text/plain": [
       "20617"
      ]
     },
     "execution_count": 6,
     "metadata": {},
     "output_type": "execute_result"
    }
   ],
   "source": [
    "all_final_outputs"
   ]
  },
  {
   "cell_type": "code",
   "execution_count": 7,
   "metadata": {},
   "outputs": [
    {
     "data": {
      "text/plain": [
       "['/home/bay001/projects/kris_apobec_20200121/permanent_data2/04_scRNA_RBFOX2_TIA/sailor_outputs_individual_barcodes_AA/possorted_genome_bam_MD-AAACCCAAGAAGCGAA-1/results/possorted_genome_bam_MD-AAACCCAAGAAGCGAA-1.fwd.sorted.rmdup.readfiltered.formatted.varfiltered.snpfiltered.ranked.bed',\n",
       " '/home/bay001/projects/kris_apobec_20200121/permanent_data2/04_scRNA_RBFOX2_TIA/sailor_outputs_individual_barcodes_AA/possorted_genome_bam_MD-AAACCCAAGAGCATTA-1/results/possorted_genome_bam_MD-AAACCCAAGAGCATTA-1.fwd.sorted.rmdup.readfiltered.formatted.varfiltered.snpfiltered.ranked.bed',\n",
       " '/home/bay001/projects/kris_apobec_20200121/permanent_data2/04_scRNA_RBFOX2_TIA/sailor_outputs_individual_barcodes_AA/possorted_genome_bam_MD-AAACCCAAGCTATCTG-1/results/possorted_genome_bam_MD-AAACCCAAGCTATCTG-1.fwd.sorted.rmdup.readfiltered.formatted.varfiltered.snpfiltered.ranked.bed']"
      ]
     },
     "execution_count": 7,
     "metadata": {},
     "output_type": "execute_result"
    }
   ],
   "source": [
    "no_edit_barcodes[:3]"
   ]
  }
 ],
 "metadata": {
  "kernelspec": {
   "display_name": "python3-essential-tscc",
   "language": "python",
   "name": "python3essentialtscc"
  },
  "language_info": {
   "codemirror_mode": {
    "name": "ipython",
    "version": 3
   },
   "file_extension": ".py",
   "mimetype": "text/x-python",
   "name": "python",
   "nbconvert_exporter": "python",
   "pygments_lexer": "ipython3",
   "version": "3.6.7"
  }
 },
 "nbformat": 4,
 "nbformat_minor": 2
}
