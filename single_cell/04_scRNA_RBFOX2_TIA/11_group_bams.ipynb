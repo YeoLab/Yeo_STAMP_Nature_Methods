{
 "cells": [
  {
   "cell_type": "markdown",
   "metadata": {},
   "source": [
    "# This analysis groups the individually-split-barcoded bams from the previous notebook into various groups that might be useful (ie. top 10 by lenti expression). "
   ]
  },
  {
   "cell_type": "code",
   "execution_count": 1,
   "metadata": {},
   "outputs": [],
   "source": [
    "import pandas as pd\n",
    "import numpy as np\n",
    "import os\n",
    "import glob\n",
    "import pysam\n",
    "import time\n",
    "from collections import defaultdict\n",
    "from tqdm import tnrange, tqdm_notebook\n",
    "import random"
   ]
  },
  {
   "cell_type": "code",
   "execution_count": 2,
   "metadata": {},
   "outputs": [],
   "source": [
    "input_dir = '/home/bay001/projects/kris_apobec_20200121/permanent_data2/04_scRNA_RBFOX2_TIA/inputs/'\n",
    "split_bam_file_dir = '/home/bay001/projects/kris_apobec_20200121/permanent_data2/04_scRNA_RBFOX2_TIA/bam_files/'\n",
    "output_dir = '/home/bay001/projects/kris_apobec_20200121/permanent_data2/04_scRNA_RBFOX2_TIA/outputs/'"
   ]
  },
  {
   "cell_type": "markdown",
   "metadata": {},
   "source": [
    "# Read in expression values from Alex to help us decide which barcodes to look for/split."
   ]
  },
  {
   "cell_type": "code",
   "execution_count": 3,
   "metadata": {},
   "outputs": [
    {
     "name": "stdout",
     "output_type": "stream",
     "text": [
      "3293 2658 7443 6349\n"
     ]
    },
    {
     "data": {
      "text/html": [
       "<div>\n",
       "<style scoped>\n",
       "    .dataframe tbody tr th:only-of-type {\n",
       "        vertical-align: middle;\n",
       "    }\n",
       "\n",
       "    .dataframe tbody tr th {\n",
       "        vertical-align: top;\n",
       "    }\n",
       "\n",
       "    .dataframe thead th {\n",
       "        text-align: right;\n",
       "    }\n",
       "</style>\n",
       "<table border=\"1\" class=\"dataframe\">\n",
       "  <thead>\n",
       "    <tr style=\"text-align: right;\">\n",
       "      <th></th>\n",
       "      <th>louvain_r0_3</th>\n",
       "    </tr>\n",
       "    <tr>\n",
       "      <th>index</th>\n",
       "      <th></th>\n",
       "    </tr>\n",
       "  </thead>\n",
       "  <tbody>\n",
       "    <tr>\n",
       "      <th>possorted_genome_bam_MD-AAACCCAAGAGCCCAA-1-RBFOX_TIA-Edits</th>\n",
       "      <td>RBFOX2_ORF</td>\n",
       "    </tr>\n",
       "    <tr>\n",
       "      <th>possorted_genome_bam_MD-AAACCCACATCTCAAG-1-RBFOX_TIA-Edits</th>\n",
       "      <td>RBFOX2_ORF</td>\n",
       "    </tr>\n",
       "    <tr>\n",
       "      <th>possorted_genome_bam_MD-AAACCCAGTCAAGCGA-1-RBFOX_TIA-Edits</th>\n",
       "      <td>RBFOX2_ORF</td>\n",
       "    </tr>\n",
       "    <tr>\n",
       "      <th>possorted_genome_bam_MD-AAACCCAGTTCAGGTT-1-RBFOX_TIA-Edits</th>\n",
       "      <td>RBFOX2_ORF</td>\n",
       "    </tr>\n",
       "    <tr>\n",
       "      <th>possorted_genome_bam_MD-AAACCCATCGCAGAGA-1-RBFOX_TIA-Edits</th>\n",
       "      <td>TIA1_ORF</td>\n",
       "    </tr>\n",
       "  </tbody>\n",
       "</table>\n",
       "</div>"
      ],
      "text/plain": [
       "                                                   louvain_r0_3\n",
       "index                                                          \n",
       "possorted_genome_bam_MD-AAACCCAAGAGCCCAA-1-RBFO...   RBFOX2_ORF\n",
       "possorted_genome_bam_MD-AAACCCACATCTCAAG-1-RBFO...   RBFOX2_ORF\n",
       "possorted_genome_bam_MD-AAACCCAGTCAAGCGA-1-RBFO...   RBFOX2_ORF\n",
       "possorted_genome_bam_MD-AAACCCAGTTCAGGTT-1-RBFO...   RBFOX2_ORF\n",
       "possorted_genome_bam_MD-AAACCCATCGCAGAGA-1-RBFO...     TIA1_ORF"
      ]
     },
     "execution_count": 3,
     "metadata": {},
     "output_type": "execute_result"
    }
   ],
   "source": [
    "subset_more = pd.read_csv(os.path.join(input_dir, 'barcodes_RBFOX2-TIA1_subset_more.csv'), index_col=0)\n",
    "subset_more_nofeature = pd.read_csv(os.path.join(input_dir, 'barcodes_RBFOX2-TIA1_subset_more_noFeatureCells.csv'), index_col=0)\n",
    "subset = pd.read_csv(os.path.join(input_dir, 'barcodes_RBFOX2-TIA1_subset.csv'), index_col=0)\n",
    "subset_nofeature = pd.read_csv(os.path.join(input_dir, 'barcodes_RBFOX2-TIA1_subset_noFeatureCells.csv'), index_col=0)\n",
    "\n",
    "print(subset_more.shape[0], subset_more_nofeature.shape[0], subset.shape[0], subset_nofeature.shape[0])\n",
    "\n",
    "subset_more.head()"
   ]
  },
  {
   "cell_type": "markdown",
   "metadata": {},
   "source": [
    "# Let's' get some basic stats."
   ]
  },
  {
   "cell_type": "code",
   "execution_count": 4,
   "metadata": {},
   "outputs": [],
   "source": [
    "table = subset_more\n",
    "table_src = os.path.join(input_dir, 'barcodes_RBFOX2-TIA1_subset_more.csv')"
   ]
  },
  {
   "cell_type": "code",
   "execution_count": 5,
   "metadata": {},
   "outputs": [
    {
     "data": {
      "text/plain": [
       "RBFOX2_ORF    2146\n",
       "TIA1_ORF      1147\n",
       "Name: louvain_r0_3, dtype: int64"
      ]
     },
     "execution_count": 5,
     "metadata": {},
     "output_type": "execute_result"
    }
   ],
   "source": [
    "table['louvain_r0_3'].value_counts()"
   ]
  },
  {
   "cell_type": "markdown",
   "metadata": {},
   "source": [
    "# The next code block ensure that the split-bam files from the previous notebook were all made. If not, we might need to re-run or re-make some of these.\n",
    "- This is the same code as the previous notebook, just making extra sure that we've got everything."
   ]
  },
  {
   "cell_type": "code",
   "execution_count": 6,
   "metadata": {},
   "outputs": [],
   "source": [
    "def get_bam_file_name_from_index(index):\n",
    "    prefix = index.replace('-RBFOX_TIA-Edits','')\n",
    "    return \"{}.bam\".format(prefix)\n",
    "\n",
    "for index in table.index:\n",
    "    bam_file = os.path.join(split_bam_file_dir, get_bam_file_name_from_index(index))\n",
    "    try:\n",
    "        assert os.path.exists(bam_file)\n",
    "    except AssertionError:\n",
    "        print(bam_file)"
   ]
  },
  {
   "cell_type": "markdown",
   "metadata": {},
   "source": [
    "# create groups\n",
    "- we need to group the individual barcodes from split_bam_file_dir using the barcodes that were assigned according to the above table.\n",
    "- in the interest of time, let me random sample first and start SAILOR on those, then group all barcodes associated in the next cells."
   ]
  },
  {
   "cell_type": "code",
   "execution_count": 7,
   "metadata": {},
   "outputs": [
    {
     "name": "stdout",
     "output_type": "stream",
     "text": [
      "2146 1147\n"
     ]
    }
   ],
   "source": [
    "rbfox2_indices = []\n",
    "tia1_indices = []\n",
    "\n",
    "for index in table.index:\n",
    "    if(table.loc[index]['louvain_r0_3'] == 'RBFOX2_ORF'):\n",
    "        rbfox2_indices.append(index)\n",
    "    \n",
    "for index in table.index:\n",
    "    if(table.loc[index]['louvain_r0_3'] == 'TIA1_ORF'):\n",
    "        tia1_indices.append(index)\n",
    "        \n",
    "print(len(rbfox2_indices), len(tia1_indices))"
   ]
  },
  {
   "cell_type": "code",
   "execution_count": 8,
   "metadata": {},
   "outputs": [],
   "source": [
    "def merge_indices(split_bam_file_dir, merged_output, index_list):\n",
    "    \"\"\"\n",
    "    Returns the samtools merge command that combines all the individually-split BAM files into a single BAM file.\n",
    "    \"\"\"\n",
    "    cmd = \"samtools merge -f {} \".format(merged_output)\n",
    "    for index in index_list:\n",
    "        cmd += \"{} \".format(os.path.join(split_bam_file_dir, get_bam_file_name_from_index(index)))\n",
    "    return cmd"
   ]
  },
  {
   "cell_type": "code",
   "execution_count": 9,
   "metadata": {},
   "outputs": [
    {
     "data": {
      "application/vnd.jupyter.widget-view+json": {
       "model_id": "ef5bd90117c745cb8e62681ae0c295a4",
       "version_major": 2,
       "version_minor": 0
      },
      "text/plain": [
       "HBox(children=(IntProgress(value=0, max=3), HTML(value='')))"
      ]
     },
     "metadata": {},
     "output_type": "display_data"
    }
   ],
   "source": [
    "progress = tnrange(3)\n",
    "for rand_num in [200, 300, 500]:\n",
    "    sampled_rbfox2_indices = random.sample(rbfox2_indices, rand_num)\n",
    "    sampled_tia1_indices = random.sample(tia1_indices, rand_num)\n",
    "    \n",
    "    rbfox2_merge_cmd = merge_indices(\n",
    "        split_bam_file_dir=split_bam_file_dir,\n",
    "        merged_output=os.path.join(output_dir, 'sampled_{}_RBFOX2_ORFS.{}.bam'.format(rand_num, os.path.splitext(os.path.basename(table_src))[0])),\n",
    "        index_list=sampled_rbfox2_indices\n",
    "    )\n",
    "    \n",
    "    tia1_merge_cmd = merge_indices(\n",
    "        split_bam_file_dir=split_bam_file_dir,\n",
    "        merged_output=os.path.join(output_dir, 'sampled_{}_TIA1_ORFS.{}.bam'.format(rand_num, os.path.splitext(os.path.basename(table_src))[0])),\n",
    "        index_list=sampled_tia1_indices\n",
    "    )\n",
    "    ! $rbfox2_merge_cmd\n",
    "    ! $tia1_merge_cmd\n",
    "    \n",
    "    progress.update(1)"
   ]
  },
  {
   "cell_type": "markdown",
   "metadata": {},
   "source": [
    "# We have too many barcodes (~2k) to run a merge command (argument list too long), so we need to first group barcodes, merge, and then group again."
   ]
  },
  {
   "cell_type": "code",
   "execution_count": 10,
   "metadata": {},
   "outputs": [
    {
     "data": {
      "application/vnd.jupyter.widget-view+json": {
       "model_id": "2439e5e6a3b2473da33eaea491a2536e",
       "version_major": 2,
       "version_minor": 0
      },
      "text/plain": [
       "HBox(children=(IntProgress(value=0, max=22), HTML(value='')))"
      ]
     },
     "metadata": {},
     "output_type": "display_data"
    },
    {
     "data": {
      "application/vnd.jupyter.widget-view+json": {
       "model_id": "9b8ee4d76f904016b50b5c39a0cab313",
       "version_major": 2,
       "version_minor": 0
      },
      "text/plain": [
       "HBox(children=(IntProgress(value=0, max=12), HTML(value='')))"
      ]
     },
     "metadata": {},
     "output_type": "display_data"
    }
   ],
   "source": [
    "def chunker(seq, size):\n",
    "    \"\"\"\n",
    "    Chunks a long list into groups of (size).\n",
    "    \"\"\"\n",
    "    return (seq[pos:pos + size] for pos in range(0, len(seq), size))\n",
    "\n",
    "\n",
    "groupsize = 100 # 100 barcodes each merge.\n",
    "progress = tnrange(int(len(rbfox2_indices)/groupsize)+1)\n",
    "i = 0\n",
    "for index_list in chunker(rbfox2_indices, groupsize):\n",
    "    i += 1\n",
    "    merged_output = os.path.join(output_dir, 'part_{}_RBFOX2_ORFS.{}.bam'.format(i, os.path.splitext(os.path.basename(table_src))[0]))\n",
    "    cmd = merge_indices(split_bam_file_dir, merged_output, index_list)\n",
    "    ! $cmd\n",
    "    progress.update(1)\n",
    "\n",
    "progress = tnrange(int(len(tia1_indices)/groupsize)+1)\n",
    "i = 0\n",
    "for index_list in chunker(tia1_indices, groupsize):\n",
    "    i += 1\n",
    "    merged_output = os.path.join(output_dir, 'part_{}_TIA1_ORFS.{}.bam'.format(i, os.path.splitext(os.path.basename(table_src))[0]))\n",
    "    cmd = merge_indices(split_bam_file_dir, merged_output, index_list)\n",
    "    ! $cmd\n",
    "    progress.update(1)"
   ]
  },
  {
   "cell_type": "code",
   "execution_count": 11,
   "metadata": {},
   "outputs": [
    {
     "name": "stdout",
     "output_type": "stream",
     "text": [
      "22\n",
      "12\n",
      "samtools merge -f /home/bay001/projects/kris_apobec_20200121/permanent_data2/04_scRNA_RBFOX2_TIA/outputs/RBFOX2_ORFS.barcodes_RBFOX2-TIA1_subset_more.bam /home/bay001/projects/kris_apobec_20200121/permanent_data2/04_scRNA_RBFOX2_TIA/outputs/part_10_RBFOX2_ORFS.barcodes_RBFOX2-TIA1_subset_more.bam /home/bay001/projects/kris_apobec_20200121/permanent_data2/04_scRNA_RBFOX2_TIA/outputs/part_11_RBFOX2_ORFS.barcodes_RBFOX2-TIA1_subset_more.bam /home/bay001/projects/kris_apobec_20200121/permanent_data2/04_scRNA_RBFOX2_TIA/outputs/part_12_RBFOX2_ORFS.barcodes_RBFOX2-TIA1_subset_more.bam /home/bay001/projects/kris_apobec_20200121/permanent_data2/04_scRNA_RBFOX2_TIA/outputs/part_13_RBFOX2_ORFS.barcodes_RBFOX2-TIA1_subset_more.bam /home/bay001/projects/kris_apobec_20200121/permanent_data2/04_scRNA_RBFOX2_TIA/outputs/part_14_RBFOX2_ORFS.barcodes_RBFOX2-TIA1_subset_more.bam /home/bay001/projects/kris_apobec_20200121/permanent_data2/04_scRNA_RBFOX2_TIA/outputs/part_15_RBFOX2_ORFS.barcodes_RBFOX2-TIA1_subset_more.bam /home/bay001/projects/kris_apobec_20200121/permanent_data2/04_scRNA_RBFOX2_TIA/outputs/part_16_RBFOX2_ORFS.barcodes_RBFOX2-TIA1_subset_more.bam /home/bay001/projects/kris_apobec_20200121/permanent_data2/04_scRNA_RBFOX2_TIA/outputs/part_17_RBFOX2_ORFS.barcodes_RBFOX2-TIA1_subset_more.bam /home/bay001/projects/kris_apobec_20200121/permanent_data2/04_scRNA_RBFOX2_TIA/outputs/part_18_RBFOX2_ORFS.barcodes_RBFOX2-TIA1_subset_more.bam /home/bay001/projects/kris_apobec_20200121/permanent_data2/04_scRNA_RBFOX2_TIA/outputs/part_19_RBFOX2_ORFS.barcodes_RBFOX2-TIA1_subset_more.bam /home/bay001/projects/kris_apobec_20200121/permanent_data2/04_scRNA_RBFOX2_TIA/outputs/part_1_RBFOX2_ORFS.barcodes_RBFOX2-TIA1_subset_more.bam /home/bay001/projects/kris_apobec_20200121/permanent_data2/04_scRNA_RBFOX2_TIA/outputs/part_20_RBFOX2_ORFS.barcodes_RBFOX2-TIA1_subset_more.bam /home/bay001/projects/kris_apobec_20200121/permanent_data2/04_scRNA_RBFOX2_TIA/outputs/part_21_RBFOX2_ORFS.barcodes_RBFOX2-TIA1_subset_more.bam /home/bay001/projects/kris_apobec_20200121/permanent_data2/04_scRNA_RBFOX2_TIA/outputs/part_22_RBFOX2_ORFS.barcodes_RBFOX2-TIA1_subset_more.bam /home/bay001/projects/kris_apobec_20200121/permanent_data2/04_scRNA_RBFOX2_TIA/outputs/part_2_RBFOX2_ORFS.barcodes_RBFOX2-TIA1_subset_more.bam /home/bay001/projects/kris_apobec_20200121/permanent_data2/04_scRNA_RBFOX2_TIA/outputs/part_3_RBFOX2_ORFS.barcodes_RBFOX2-TIA1_subset_more.bam /home/bay001/projects/kris_apobec_20200121/permanent_data2/04_scRNA_RBFOX2_TIA/outputs/part_4_RBFOX2_ORFS.barcodes_RBFOX2-TIA1_subset_more.bam /home/bay001/projects/kris_apobec_20200121/permanent_data2/04_scRNA_RBFOX2_TIA/outputs/part_5_RBFOX2_ORFS.barcodes_RBFOX2-TIA1_subset_more.bam /home/bay001/projects/kris_apobec_20200121/permanent_data2/04_scRNA_RBFOX2_TIA/outputs/part_6_RBFOX2_ORFS.barcodes_RBFOX2-TIA1_subset_more.bam /home/bay001/projects/kris_apobec_20200121/permanent_data2/04_scRNA_RBFOX2_TIA/outputs/part_7_RBFOX2_ORFS.barcodes_RBFOX2-TIA1_subset_more.bam /home/bay001/projects/kris_apobec_20200121/permanent_data2/04_scRNA_RBFOX2_TIA/outputs/part_8_RBFOX2_ORFS.barcodes_RBFOX2-TIA1_subset_more.bam /home/bay001/projects/kris_apobec_20200121/permanent_data2/04_scRNA_RBFOX2_TIA/outputs/part_9_RBFOX2_ORFS.barcodes_RBFOX2-TIA1_subset_more.bam \n",
      "samtools merge -f /home/bay001/projects/kris_apobec_20200121/permanent_data2/04_scRNA_RBFOX2_TIA/outputs/TIA1_ORFS.barcodes_RBFOX2-TIA1_subset_more.bam /home/bay001/projects/kris_apobec_20200121/permanent_data2/04_scRNA_RBFOX2_TIA/outputs/part_10_TIA1_ORFS.barcodes_RBFOX2-TIA1_subset_more.bam /home/bay001/projects/kris_apobec_20200121/permanent_data2/04_scRNA_RBFOX2_TIA/outputs/part_11_TIA1_ORFS.barcodes_RBFOX2-TIA1_subset_more.bam /home/bay001/projects/kris_apobec_20200121/permanent_data2/04_scRNA_RBFOX2_TIA/outputs/part_12_TIA1_ORFS.barcodes_RBFOX2-TIA1_subset_more.bam /home/bay001/projects/kris_apobec_20200121/permanent_data2/04_scRNA_RBFOX2_TIA/outputs/part_1_TIA1_ORFS.barcodes_RBFOX2-TIA1_subset_more.bam /home/bay001/projects/kris_apobec_20200121/permanent_data2/04_scRNA_RBFOX2_TIA/outputs/part_2_TIA1_ORFS.barcodes_RBFOX2-TIA1_subset_more.bam /home/bay001/projects/kris_apobec_20200121/permanent_data2/04_scRNA_RBFOX2_TIA/outputs/part_3_TIA1_ORFS.barcodes_RBFOX2-TIA1_subset_more.bam /home/bay001/projects/kris_apobec_20200121/permanent_data2/04_scRNA_RBFOX2_TIA/outputs/part_4_TIA1_ORFS.barcodes_RBFOX2-TIA1_subset_more.bam /home/bay001/projects/kris_apobec_20200121/permanent_data2/04_scRNA_RBFOX2_TIA/outputs/part_5_TIA1_ORFS.barcodes_RBFOX2-TIA1_subset_more.bam /home/bay001/projects/kris_apobec_20200121/permanent_data2/04_scRNA_RBFOX2_TIA/outputs/part_6_TIA1_ORFS.barcodes_RBFOX2-TIA1_subset_more.bam /home/bay001/projects/kris_apobec_20200121/permanent_data2/04_scRNA_RBFOX2_TIA/outputs/part_7_TIA1_ORFS.barcodes_RBFOX2-TIA1_subset_more.bam /home/bay001/projects/kris_apobec_20200121/permanent_data2/04_scRNA_RBFOX2_TIA/outputs/part_8_TIA1_ORFS.barcodes_RBFOX2-TIA1_subset_more.bam /home/bay001/projects/kris_apobec_20200121/permanent_data2/04_scRNA_RBFOX2_TIA/outputs/part_9_TIA1_ORFS.barcodes_RBFOX2-TIA1_subset_more.bam \n"
     ]
    }
   ],
   "source": [
    "all_rbfox2_bam_parts = sorted(glob.glob(os.path.join(output_dir, 'part_*_RBFOX2_ORFS.{}.bam'.format(os.path.splitext(os.path.basename(table_src))[0]))))\n",
    "all_tia1_bam_parts = sorted(glob.glob(os.path.join(output_dir, 'part_*_TIA1_ORFS.{}.bam'.format(os.path.splitext(os.path.basename(table_src))[0]))))\n",
    "\n",
    "print(len(all_rbfox2_bam_parts))\n",
    "print(len(all_tia1_bam_parts))\n",
    "\n",
    "cmds = []\n",
    "\n",
    "final_output_bam = os.path.join(output_dir, 'RBFOX2_ORFS.{}.bam'.format(os.path.splitext(os.path.basename(table_src))[0]))\n",
    "cmd = 'samtools merge -f {} '.format(final_output_bam)\n",
    "for rbfox2_bam_part in all_rbfox2_bam_parts:\n",
    "    cmd += '{} '.format(rbfox2_bam_part)\n",
    "\n",
    "print(cmd)\n",
    "! $cmd\n",
    "\n",
    "final_output_bam = os.path.join(output_dir, 'TIA1_ORFS.{}.bam'.format(os.path.splitext(os.path.basename(table_src))[0]))\n",
    "cmd = 'samtools merge -f {} '.format(final_output_bam)\n",
    "for tia1_bam_part in all_tia1_bam_parts:\n",
    "    cmd += '{} '.format(tia1_bam_part)\n",
    "print(cmd)\n",
    "! $cmd"
   ]
  },
  {
   "cell_type": "code",
   "execution_count": null,
   "metadata": {},
   "outputs": [],
   "source": []
  }
 ],
 "metadata": {
  "kernelspec": {
   "display_name": "python3-essential",
   "language": "python",
   "name": "python3-essential"
  },
  "language_info": {
   "codemirror_mode": {
    "name": "ipython",
    "version": 3
   },
   "file_extension": ".py",
   "mimetype": "text/x-python",
   "name": "python",
   "nbconvert_exporter": "python",
   "pygments_lexer": "ipython3",
   "version": "3.6.7"
  }
 },
 "nbformat": 4,
 "nbformat_minor": 2
}
