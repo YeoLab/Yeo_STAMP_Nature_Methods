{
 "cells": [
  {
   "cell_type": "markdown",
   "metadata": {},
   "source": [
    "# Runs motif finding on conf-filtered edit windows"
   ]
  },
  {
   "cell_type": "code",
   "execution_count": 1,
   "metadata": {},
   "outputs": [],
   "source": [
    "%matplotlib inline\n",
    "import matplotlib.pyplot as plt\n",
    "import seaborn as sns\n",
    "import glob\n",
    "import os\n",
    "import pandas as pd\n",
    "import numpy as np\n",
    "import os\n",
    "import pybedtools\n",
    "import warnings\n",
    "warnings.simplefilter(action='ignore', category=FutureWarning)\n",
    "from qtools import Submitter\n",
    "from tqdm import tnrange, tqdm_notebook"
   ]
  },
  {
   "cell_type": "code",
   "execution_count": 2,
   "metadata": {},
   "outputs": [],
   "source": [
    "input_dir = '/home/bay001/projects/kris_apobec_20200121/permanent_data2/04_scRNA_RBFOX2_TIA/sailor_outputs_groups/combined_outputs_w_cov_info'\n",
    "output_dir = '/home/bay001/projects/kris_apobec_20200121/permanent_data2/04_scRNA_RBFOX2_TIA/motif_outputs'"
   ]
  },
  {
   "cell_type": "code",
   "execution_count": 3,
   "metadata": {},
   "outputs": [],
   "source": [
    "chrom_sizes = '/projects/ps-yeolab3/bay001/annotations/hg19/hg19.chrom.sizes'"
   ]
  },
  {
   "cell_type": "code",
   "execution_count": 4,
   "metadata": {},
   "outputs": [
    {
     "name": "stdout",
     "output_type": "stream",
     "text": [
      "19\n"
     ]
    },
    {
     "data": {
      "text/plain": [
       "['/home/bay001/projects/kris_apobec_20200121/permanent_data2/04_scRNA_RBFOX2_TIA/sailor_outputs_groups/combined_outputs_w_cov_info/RBFOX2_ORFS.barcodes_RBFOX2-TIA1_subset.fx.bed',\n",
       " '/home/bay001/projects/kris_apobec_20200121/permanent_data2/04_scRNA_RBFOX2_TIA/sailor_outputs_groups/combined_outputs_w_cov_info/RBFOX2_ORFS.barcodes_RBFOX2-TIA1_subset_more.fx.bed',\n",
       " '/home/bay001/projects/kris_apobec_20200121/permanent_data2/04_scRNA_RBFOX2_TIA/sailor_outputs_groups/combined_outputs_w_cov_info/RBFOX2_ORFS.barcodes_RBFOX2-TIA1_subset_noFeatureCells.fx.bed']"
      ]
     },
     "execution_count": 4,
     "metadata": {},
     "output_type": "execute_result"
    }
   ],
   "source": [
    "all_beds = sorted(glob.glob(os.path.join(input_dir, '*.fx.bed')))\n",
    "print(len(all_beds))\n",
    "all_beds[:3]"
   ]
  },
  {
   "cell_type": "markdown",
   "metadata": {},
   "source": [
    "# Read in one of them and check on IGV"
   ]
  },
  {
   "cell_type": "code",
   "execution_count": 5,
   "metadata": {},
   "outputs": [],
   "source": [
    "conf = 0.999\n",
    "flank_size = 25\n",
    "window_size = flank_size * 2 + 1\n",
    "\n",
    "for bed in all_beds:\n",
    "    output_windows = os.path.join(output_dir, os.path.splitext(os.path.basename(bed))[0] + \"windows_{}.conf{}.bed\".format(window_size, conf))\n",
    "    df = pd.read_csv(bed, sep='\\t', names=['chrom','start','end','name','score','strand'])\n",
    "    df = df[df['name'] >= conf]\n",
    "    bedtool = pybedtools.BedTool.from_dataframe(df)\n",
    "    bedtool = bedtool.slop(b=flank_size, g=chrom_sizes).sort()\n",
    "    bedtool = bedtool.merge(c=(4,5,6), o=('collapse','collapse','distinct'))\n",
    "    bedtool.saveas(output_windows)"
   ]
  },
  {
   "cell_type": "code",
   "execution_count": 6,
   "metadata": {},
   "outputs": [
    {
     "data": {
      "text/plain": [
       "19"
      ]
     },
     "execution_count": 6,
     "metadata": {},
     "output_type": "execute_result"
    }
   ],
   "source": [
    "all_bedfiles = sorted(glob.glob(os.path.join(output_dir, '*conf{}.bed'.format(conf))))\n",
    "len(all_bedfiles)"
   ]
  },
  {
   "cell_type": "code",
   "execution_count": 7,
   "metadata": {},
   "outputs": [],
   "source": [
    "genome_fasta = '/projects/ps-yeolab3/bay001/annotations/hg19/hg19.fa'\n",
    "cmds = []\n",
    "for bed in all_bedfiles:\n",
    "    if not os.path.exists(os.path.join(output_dir, os.path.splitext(os.path.basename(bed))[0])):\n",
    "        out_homer_dir = os.path.join(output_dir, os.path.splitext(os.path.basename(bed))[0])\n",
    "        out_file = out_homer_dir + '.svg'\n",
    "        out_pickle_file = out_homer_dir + '.pickle'\n",
    "        cmd = 'module load eclipanalysis/0.0.3a;analyze_motifs '\n",
    "        cmd += '--peaks {} '.format(bed)\n",
    "        cmd += '--out_pickle_file {} '.format(out_pickle_file)\n",
    "        cmd += '--out_file {} '.format(out_file)\n",
    "        cmd += '--species hg19 '\n",
    "        cmd += '--out_homer_dir {} '.format(out_homer_dir)\n",
    "        cmd += '--genome_fasta {} '.format(genome_fasta)\n",
    "        cmds.append(cmd)"
   ]
  },
  {
   "cell_type": "code",
   "execution_count": 8,
   "metadata": {},
   "outputs": [
    {
     "data": {
      "text/plain": [
       "['module load eclipanalysis/0.0.3a;analyze_motifs --peaks /home/bay001/projects/kris_apobec_20200121/permanent_data2/04_scRNA_RBFOX2_TIA/motif_outputs/RBFOX2_ORFS.barcodes_RBFOX2-TIA1_subset.fxwindows_51.conf0.999.bed --out_pickle_file /home/bay001/projects/kris_apobec_20200121/permanent_data2/04_scRNA_RBFOX2_TIA/motif_outputs/RBFOX2_ORFS.barcodes_RBFOX2-TIA1_subset.fxwindows_51.conf0.999.pickle --out_file /home/bay001/projects/kris_apobec_20200121/permanent_data2/04_scRNA_RBFOX2_TIA/motif_outputs/RBFOX2_ORFS.barcodes_RBFOX2-TIA1_subset.fxwindows_51.conf0.999.svg --species hg19 --out_homer_dir /home/bay001/projects/kris_apobec_20200121/permanent_data2/04_scRNA_RBFOX2_TIA/motif_outputs/RBFOX2_ORFS.barcodes_RBFOX2-TIA1_subset.fxwindows_51.conf0.999 --genome_fasta /projects/ps-yeolab3/bay001/annotations/hg19/hg19.fa ',\n",
       " 'module load eclipanalysis/0.0.3a;analyze_motifs --peaks /home/bay001/projects/kris_apobec_20200121/permanent_data2/04_scRNA_RBFOX2_TIA/motif_outputs/RBFOX2_ORFS.barcodes_RBFOX2-TIA1_subset_noFeatureCells.fxwindows_51.conf0.999.bed --out_pickle_file /home/bay001/projects/kris_apobec_20200121/permanent_data2/04_scRNA_RBFOX2_TIA/motif_outputs/RBFOX2_ORFS.barcodes_RBFOX2-TIA1_subset_noFeatureCells.fxwindows_51.conf0.999.pickle --out_file /home/bay001/projects/kris_apobec_20200121/permanent_data2/04_scRNA_RBFOX2_TIA/motif_outputs/RBFOX2_ORFS.barcodes_RBFOX2-TIA1_subset_noFeatureCells.fxwindows_51.conf0.999.svg --species hg19 --out_homer_dir /home/bay001/projects/kris_apobec_20200121/permanent_data2/04_scRNA_RBFOX2_TIA/motif_outputs/RBFOX2_ORFS.barcodes_RBFOX2-TIA1_subset_noFeatureCells.fxwindows_51.conf0.999 --genome_fasta /projects/ps-yeolab3/bay001/annotations/hg19/hg19.fa ']"
      ]
     },
     "execution_count": 8,
     "metadata": {},
     "output_type": "execute_result"
    }
   ],
   "source": [
    "cmds"
   ]
  },
  {
   "cell_type": "code",
   "execution_count": 9,
   "metadata": {},
   "outputs": [
    {
     "name": "stderr",
     "output_type": "stream",
     "text": [
      "Writing 2 tasks as an array-job.\n",
      "Wrote commands to motif_analysis.sh.\n",
      "Submitted script to queue home.\n",
      " Job ID: 21389173\n"
     ]
    },
    {
     "data": {
      "text/plain": [
       "<qtools.submitter.Submitter at 0x2b97d28bef50>"
      ]
     },
     "execution_count": 9,
     "metadata": {},
     "output_type": "execute_result"
    }
   ],
   "source": [
    "Submitter(\n",
    "    cmds, \n",
    "    'motif_analysis', \n",
    "    sh='motif_analysis.sh', \n",
    "    nodes=1, \n",
    "    ppn=1, \n",
    "    array=True, \n",
    "    submit=True, \n",
    "    walltime='12:00:00'\n",
    ")"
   ]
  },
  {
   "cell_type": "code",
   "execution_count": null,
   "metadata": {},
   "outputs": [],
   "source": []
  }
 ],
 "metadata": {
  "kernelspec": {
   "display_name": "python2-essential",
   "language": "python",
   "name": "python2-essential"
  },
  "language_info": {
   "codemirror_mode": {
    "name": "ipython",
    "version": 2
   },
   "file_extension": ".py",
   "mimetype": "text/x-python",
   "name": "python",
   "nbconvert_exporter": "python",
   "pygments_lexer": "ipython2",
   "version": "2.7.15"
  }
 },
 "nbformat": 4,
 "nbformat_minor": 2
}
