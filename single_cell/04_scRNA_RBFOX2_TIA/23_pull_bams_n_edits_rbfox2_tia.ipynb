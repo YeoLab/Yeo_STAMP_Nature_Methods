{
 "cells": [
  {
   "cell_type": "markdown",
   "metadata": {},
   "source": [
    "- hey Brian sorry i’m having a little trouble locating individual barcode bams.  for the bedgraph of individual cells (like the top 100 cells used in the browser views in figs 5-7), the input bams would be in which directories?  i need to just glance at a handful of those with lenticommon mapped."
   ]
  },
  {
   "cell_type": "code",
   "execution_count": 1,
   "metadata": {},
   "outputs": [],
   "source": [
    "import pandas as pd\n",
    "import numpy as np\n",
    "import os\n",
    "import glob\n",
    "from tqdm import tnrange, tqdm_notebook\n",
    "pd.set_option('max_colwidth', 400)"
   ]
  },
  {
   "cell_type": "code",
   "execution_count": 2,
   "metadata": {},
   "outputs": [],
   "source": [
    "rbfox2_barcodes_file = '/home/iachaim/notebooks/10X/APOBEC/02_02_Subsetting_on_non_APO_overlap/results/RBFOX2-TIA1-STAMP_edits_for_TIA1_ORFs.csv'\n",
    "tia1_barcodes_file = '/home/iachaim/notebooks/10X/APOBEC/02_02_Subsetting_on_non_APO_overlap/results/RBFOX2-TIA1-STAMP_edits_for_RBFOX2_ORFs.csv'\n",
    "\n",
    "bam_dir = '/home/bay001/projects/kris_apobec_20200121/permanent_data2/04_scRNA_RBFOX2_TIA/bam_files'\n",
    "output_dir = '/home/bay001/projects/kris_apobec_20200121/permanent_data2/03_scRNA_APOBEC_RPS2/tmp/top100_bams_for_kris'"
   ]
  },
  {
   "cell_type": "code",
   "execution_count": 3,
   "metadata": {},
   "outputs": [
    {
     "data": {
      "text/html": [
       "<div>\n",
       "<style scoped>\n",
       "    .dataframe tbody tr th:only-of-type {\n",
       "        vertical-align: middle;\n",
       "    }\n",
       "\n",
       "    .dataframe tbody tr th {\n",
       "        vertical-align: top;\n",
       "    }\n",
       "\n",
       "    .dataframe thead th {\n",
       "        text-align: right;\n",
       "    }\n",
       "</style>\n",
       "<table border=\"1\" class=\"dataframe\">\n",
       "  <thead>\n",
       "    <tr style=\"text-align: right;\">\n",
       "      <th></th>\n",
       "      <th>index</th>\n",
       "      <th>n_edits</th>\n",
       "      <th>RBFOX2_ORF</th>\n",
       "      <th>TIA1_ORF</th>\n",
       "      <th>feature</th>\n",
       "      <th>louvain_r0.5</th>\n",
       "    </tr>\n",
       "  </thead>\n",
       "  <tbody>\n",
       "    <tr>\n",
       "      <th>165</th>\n",
       "      <td>possorted_genome_bam_MD-CCCAACTGTCACCGAC-1</td>\n",
       "      <td>1.326353</td>\n",
       "      <td>0.0</td>\n",
       "      <td>0.427741</td>\n",
       "      <td>TIA1_ORF</td>\n",
       "      <td>TIA1-cSTAMP</td>\n",
       "    </tr>\n",
       "    <tr>\n",
       "      <th>290</th>\n",
       "      <td>possorted_genome_bam_MD-GCATTAGAGACTGAGC-1</td>\n",
       "      <td>1.278841</td>\n",
       "      <td>0.0</td>\n",
       "      <td>0.533898</td>\n",
       "      <td>TIA1_ORF</td>\n",
       "      <td>TIA1-cSTAMP</td>\n",
       "    </tr>\n",
       "    <tr>\n",
       "      <th>501</th>\n",
       "      <td>possorted_genome_bam_MD-TTGGGTAAGACGTCCC-1</td>\n",
       "      <td>1.204142</td>\n",
       "      <td>0.0</td>\n",
       "      <td>0.283058</td>\n",
       "      <td>TIA1_ORF</td>\n",
       "      <td>RBFOX2-cSTAMP</td>\n",
       "    </tr>\n",
       "    <tr>\n",
       "      <th>410</th>\n",
       "      <td>possorted_genome_bam_MD-TCGACGGTCGAACCAT-1</td>\n",
       "      <td>1.203131</td>\n",
       "      <td>0.0</td>\n",
       "      <td>0.244845</td>\n",
       "      <td>TIA1_ORF</td>\n",
       "      <td>Undetermined</td>\n",
       "    </tr>\n",
       "    <tr>\n",
       "      <th>513</th>\n",
       "      <td>possorted_genome_bam_MD-TTTGACTCAGGCGATA-1</td>\n",
       "      <td>1.157655</td>\n",
       "      <td>0.0</td>\n",
       "      <td>0.513668</td>\n",
       "      <td>TIA1_ORF</td>\n",
       "      <td>TIA1-cSTAMP</td>\n",
       "    </tr>\n",
       "  </tbody>\n",
       "</table>\n",
       "</div>"
      ],
      "text/plain": [
       "                                          index   n_edits  RBFOX2_ORF  \\\n",
       "165  possorted_genome_bam_MD-CCCAACTGTCACCGAC-1  1.326353         0.0   \n",
       "290  possorted_genome_bam_MD-GCATTAGAGACTGAGC-1  1.278841         0.0   \n",
       "501  possorted_genome_bam_MD-TTGGGTAAGACGTCCC-1  1.204142         0.0   \n",
       "410  possorted_genome_bam_MD-TCGACGGTCGAACCAT-1  1.203131         0.0   \n",
       "513  possorted_genome_bam_MD-TTTGACTCAGGCGATA-1  1.157655         0.0   \n",
       "\n",
       "     TIA1_ORF   feature   louvain_r0.5  \n",
       "165  0.427741  TIA1_ORF    TIA1-cSTAMP  \n",
       "290  0.533898  TIA1_ORF    TIA1-cSTAMP  \n",
       "501  0.283058  TIA1_ORF  RBFOX2-cSTAMP  \n",
       "410  0.244845  TIA1_ORF   Undetermined  \n",
       "513  0.513668  TIA1_ORF    TIA1-cSTAMP  "
      ]
     },
     "execution_count": 3,
     "metadata": {},
     "output_type": "execute_result"
    }
   ],
   "source": [
    "rbfox2_barcodes = pd.read_csv(rbfox2_barcodes_file)\n",
    "rbfox2_barcodes.sort_values(by=['n_edits'], ascending=False, inplace=True)\n",
    "rbfox2_barcodes = rbfox2_barcodes.iloc[:100]\n",
    "\n",
    "tia1_barcodes = pd.read_csv(tia1_barcodes_file)\n",
    "tia1_barcodes.sort_values(by=['n_edits'], ascending=False, inplace=True)\n",
    "tia1_barcodes = tia1_barcodes.iloc[:100]\n",
    "\n",
    "rbfox2_barcodes.head()"
   ]
  },
  {
   "cell_type": "code",
   "execution_count": 4,
   "metadata": {},
   "outputs": [],
   "source": [
    "def get_bam_from_barcode_index(row, input_dir=bam_dir):\n",
    "    barcode = row['index']\n",
    "    bam = os.path.join(input_dir, '{}.bam'.format(barcode))\n",
    "    assert os.path.exists(bam)\n",
    "    return bam"
   ]
  },
  {
   "cell_type": "code",
   "execution_count": 5,
   "metadata": {},
   "outputs": [
    {
     "data": {
      "text/html": [
       "<div>\n",
       "<style scoped>\n",
       "    .dataframe tbody tr th:only-of-type {\n",
       "        vertical-align: middle;\n",
       "    }\n",
       "\n",
       "    .dataframe tbody tr th {\n",
       "        vertical-align: top;\n",
       "    }\n",
       "\n",
       "    .dataframe thead th {\n",
       "        text-align: right;\n",
       "    }\n",
       "</style>\n",
       "<table border=\"1\" class=\"dataframe\">\n",
       "  <thead>\n",
       "    <tr style=\"text-align: right;\">\n",
       "      <th></th>\n",
       "      <th>index</th>\n",
       "      <th>n_edits</th>\n",
       "      <th>RBFOX2_ORF</th>\n",
       "      <th>TIA1_ORF</th>\n",
       "      <th>feature</th>\n",
       "      <th>louvain_r0.5</th>\n",
       "      <th>bam</th>\n",
       "    </tr>\n",
       "  </thead>\n",
       "  <tbody>\n",
       "    <tr>\n",
       "      <th>165</th>\n",
       "      <td>possorted_genome_bam_MD-CCCAACTGTCACCGAC-1</td>\n",
       "      <td>1.326353</td>\n",
       "      <td>0.0</td>\n",
       "      <td>0.427741</td>\n",
       "      <td>TIA1_ORF</td>\n",
       "      <td>TIA1-cSTAMP</td>\n",
       "      <td>/home/bay001/projects/kris_apobec_20200121/permanent_data2/04_scRNA_RBFOX2_TIA/bam_files/possorted_genome_bam_MD-CCCAACTGTCACCGAC-1.bam</td>\n",
       "    </tr>\n",
       "    <tr>\n",
       "      <th>290</th>\n",
       "      <td>possorted_genome_bam_MD-GCATTAGAGACTGAGC-1</td>\n",
       "      <td>1.278841</td>\n",
       "      <td>0.0</td>\n",
       "      <td>0.533898</td>\n",
       "      <td>TIA1_ORF</td>\n",
       "      <td>TIA1-cSTAMP</td>\n",
       "      <td>/home/bay001/projects/kris_apobec_20200121/permanent_data2/04_scRNA_RBFOX2_TIA/bam_files/possorted_genome_bam_MD-GCATTAGAGACTGAGC-1.bam</td>\n",
       "    </tr>\n",
       "    <tr>\n",
       "      <th>501</th>\n",
       "      <td>possorted_genome_bam_MD-TTGGGTAAGACGTCCC-1</td>\n",
       "      <td>1.204142</td>\n",
       "      <td>0.0</td>\n",
       "      <td>0.283058</td>\n",
       "      <td>TIA1_ORF</td>\n",
       "      <td>RBFOX2-cSTAMP</td>\n",
       "      <td>/home/bay001/projects/kris_apobec_20200121/permanent_data2/04_scRNA_RBFOX2_TIA/bam_files/possorted_genome_bam_MD-TTGGGTAAGACGTCCC-1.bam</td>\n",
       "    </tr>\n",
       "    <tr>\n",
       "      <th>410</th>\n",
       "      <td>possorted_genome_bam_MD-TCGACGGTCGAACCAT-1</td>\n",
       "      <td>1.203131</td>\n",
       "      <td>0.0</td>\n",
       "      <td>0.244845</td>\n",
       "      <td>TIA1_ORF</td>\n",
       "      <td>Undetermined</td>\n",
       "      <td>/home/bay001/projects/kris_apobec_20200121/permanent_data2/04_scRNA_RBFOX2_TIA/bam_files/possorted_genome_bam_MD-TCGACGGTCGAACCAT-1.bam</td>\n",
       "    </tr>\n",
       "    <tr>\n",
       "      <th>513</th>\n",
       "      <td>possorted_genome_bam_MD-TTTGACTCAGGCGATA-1</td>\n",
       "      <td>1.157655</td>\n",
       "      <td>0.0</td>\n",
       "      <td>0.513668</td>\n",
       "      <td>TIA1_ORF</td>\n",
       "      <td>TIA1-cSTAMP</td>\n",
       "      <td>/home/bay001/projects/kris_apobec_20200121/permanent_data2/04_scRNA_RBFOX2_TIA/bam_files/possorted_genome_bam_MD-TTTGACTCAGGCGATA-1.bam</td>\n",
       "    </tr>\n",
       "  </tbody>\n",
       "</table>\n",
       "</div>"
      ],
      "text/plain": [
       "                                          index   n_edits  RBFOX2_ORF  \\\n",
       "165  possorted_genome_bam_MD-CCCAACTGTCACCGAC-1  1.326353         0.0   \n",
       "290  possorted_genome_bam_MD-GCATTAGAGACTGAGC-1  1.278841         0.0   \n",
       "501  possorted_genome_bam_MD-TTGGGTAAGACGTCCC-1  1.204142         0.0   \n",
       "410  possorted_genome_bam_MD-TCGACGGTCGAACCAT-1  1.203131         0.0   \n",
       "513  possorted_genome_bam_MD-TTTGACTCAGGCGATA-1  1.157655         0.0   \n",
       "\n",
       "     TIA1_ORF   feature   louvain_r0.5  \\\n",
       "165  0.427741  TIA1_ORF    TIA1-cSTAMP   \n",
       "290  0.533898  TIA1_ORF    TIA1-cSTAMP   \n",
       "501  0.283058  TIA1_ORF  RBFOX2-cSTAMP   \n",
       "410  0.244845  TIA1_ORF   Undetermined   \n",
       "513  0.513668  TIA1_ORF    TIA1-cSTAMP   \n",
       "\n",
       "                                                                                                                                         bam  \n",
       "165  /home/bay001/projects/kris_apobec_20200121/permanent_data2/04_scRNA_RBFOX2_TIA/bam_files/possorted_genome_bam_MD-CCCAACTGTCACCGAC-1.bam  \n",
       "290  /home/bay001/projects/kris_apobec_20200121/permanent_data2/04_scRNA_RBFOX2_TIA/bam_files/possorted_genome_bam_MD-GCATTAGAGACTGAGC-1.bam  \n",
       "501  /home/bay001/projects/kris_apobec_20200121/permanent_data2/04_scRNA_RBFOX2_TIA/bam_files/possorted_genome_bam_MD-TTGGGTAAGACGTCCC-1.bam  \n",
       "410  /home/bay001/projects/kris_apobec_20200121/permanent_data2/04_scRNA_RBFOX2_TIA/bam_files/possorted_genome_bam_MD-TCGACGGTCGAACCAT-1.bam  \n",
       "513  /home/bay001/projects/kris_apobec_20200121/permanent_data2/04_scRNA_RBFOX2_TIA/bam_files/possorted_genome_bam_MD-TTTGACTCAGGCGATA-1.bam  "
      ]
     },
     "execution_count": 5,
     "metadata": {},
     "output_type": "execute_result"
    }
   ],
   "source": [
    "rbfox2_barcodes['bam'] = rbfox2_barcodes.apply(get_bam_from_barcode_index, axis=1)\n",
    "tia1_barcodes['bam'] = tia1_barcodes.apply(get_bam_from_barcode_index, axis=1)\n",
    "\n",
    "rbfox2_barcodes.head()"
   ]
  },
  {
   "cell_type": "markdown",
   "metadata": {},
   "source": [
    "### Now copy the bams over to a less insane place for Kris"
   ]
  },
  {
   "cell_type": "code",
   "execution_count": 6,
   "metadata": {},
   "outputs": [
    {
     "data": {
      "application/vnd.jupyter.widget-view+json": {
       "model_id": "6439ec01503e4e82a2efe1d8c2bf79c8",
       "version_major": 2,
       "version_minor": 0
      },
      "text/plain": [
       "HBox(children=(IntProgress(value=0), HTML(value='')))"
      ]
     },
     "metadata": {},
     "output_type": "display_data"
    },
    {
     "data": {
      "application/vnd.jupyter.widget-view+json": {
       "model_id": "b8de2fa2ae77400dadbad9a65cb0768e",
       "version_major": 2,
       "version_minor": 0
      },
      "text/plain": [
       "HBox(children=(IntProgress(value=0), HTML(value='')))"
      ]
     },
     "metadata": {},
     "output_type": "display_data"
    }
   ],
   "source": [
    "progress = tnrange(len(rbfox2_barcodes['bam']))\n",
    "for bam in rbfox2_barcodes['bam']:\n",
    "    cmd = 'cp {} {};samtools index {}'.format(bam, os.path.join(output_dir, os.path.basename(bam)), os.path.join(output_dir, os.path.basename(bam)))\n",
    "    ! $cmd\n",
    "    progress.update(1)\n",
    "    \n",
    "progress = tnrange(len(tia1_barcodes['bam']))\n",
    "for bam in tia1_barcodes['bam']:\n",
    "    cmd = 'cp {} {};samtools index {}'.format(bam, os.path.join(output_dir, os.path.basename(bam)), os.path.join(output_dir, os.path.basename(bam)))\n",
    "    ! $cmd\n",
    "    progress.update(1)"
   ]
  },
  {
   "cell_type": "code",
   "execution_count": null,
   "metadata": {},
   "outputs": [],
   "source": []
  }
 ],
 "metadata": {
  "kernelspec": {
   "display_name": "python3-essential",
   "language": "python",
   "name": "python3-essential"
  },
  "language_info": {
   "codemirror_mode": {
    "name": "ipython",
    "version": 3
   },
   "file_extension": ".py",
   "mimetype": "text/x-python",
   "name": "python",
   "nbconvert_exporter": "python",
   "pygments_lexer": "ipython3",
   "version": "3.6.7"
  }
 },
 "nbformat": 4,
 "nbformat_minor": 2
}
