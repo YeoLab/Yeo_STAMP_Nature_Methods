{
 "cells": [
  {
   "cell_type": "markdown",
   "metadata": {},
   "source": [
    "# reads bed file outputs containing edits and converts to bedgraph based on various conf levels."
   ]
  },
  {
   "cell_type": "code",
   "execution_count": 1,
   "metadata": {},
   "outputs": [],
   "source": [
    "%matplotlib inline\n",
    "import matplotlib.pyplot as plt\n",
    "import seaborn as sns\n",
    "import os\n",
    "import pandas as pd\n",
    "import numpy as np\n",
    "import glob\n",
    "from tqdm import tnrange, tqdm_notebook"
   ]
  },
  {
   "cell_type": "code",
   "execution_count": 2,
   "metadata": {},
   "outputs": [],
   "source": [
    "input_dir = '/home/bay001/projects/kris_apobec_20200121/permanent_data2/05_scRNA_RBFOX2_APO_transient/sailor_outputs_individual_barcodes_merged_bedfiles'\n",
    "output_dir = '/home/bay001/projects/kris_apobec_20200121/permanent_data2/05_scRNA_RBFOX2_APO_transient/sailor_outputs_individual_barcodes_merged_bedgraphs'\n",
    "ref_dir = '/home/bay001/projects/kris_apobec_20200121/permanent_data2/05_scRNA_RBFOX2_APO_transient/inputs/'\n",
    "tmp_dir = '/home/bay001/projects/kris_apobec_20200121/permanent_data2/05_scRNA_RBFOX2_APO_transient/tmp/'"
   ]
  },
  {
   "cell_type": "markdown",
   "metadata": {},
   "source": [
    "# Read in expression values from Alex to help us decide which barcodes to look for/split.\n",
    "\n",
    "original sources: \n",
    "```\n",
    "RPS2_STAMP_Apo_filtered_lenti_common_expression.csv\n",
    "APOBEC_STAMP_Apo_filtered_lenti_common_expression.csv\n",
    "```"
   ]
  },
  {
   "cell_type": "code",
   "execution_count": 3,
   "metadata": {},
   "outputs": [
    {
     "data": {
      "text/html": [
       "<div>\n",
       "<style scoped>\n",
       "    .dataframe tbody tr th:only-of-type {\n",
       "        vertical-align: middle;\n",
       "    }\n",
       "\n",
       "    .dataframe tbody tr th {\n",
       "        vertical-align: top;\n",
       "    }\n",
       "\n",
       "    .dataframe thead th {\n",
       "        text-align: right;\n",
       "    }\n",
       "</style>\n",
       "<table border=\"1\" class=\"dataframe\">\n",
       "  <thead>\n",
       "    <tr style=\"text-align: right;\">\n",
       "      <th></th>\n",
       "      <th>HEK top 10 n_edits</th>\n",
       "      <th>HEK APOBEC_RBFOX2_transient_normalized</th>\n",
       "      <th>NPC_DCX top 10 n_edits</th>\n",
       "      <th>NPC_DCX APOBEC_RBFOX2_transient_normalized</th>\n",
       "      <th>NPC_SOX2 top 10 n_edits</th>\n",
       "      <th>NPC_SOX2 APOBEC_RBFOX2_transient_normalized</th>\n",
       "    </tr>\n",
       "    <tr>\n",
       "      <th>rank</th>\n",
       "      <th></th>\n",
       "      <th></th>\n",
       "      <th></th>\n",
       "      <th></th>\n",
       "      <th></th>\n",
       "      <th></th>\n",
       "    </tr>\n",
       "  </thead>\n",
       "  <tbody>\n",
       "    <tr>\n",
       "      <th>1</th>\n",
       "      <td>GCACGTGAGAAGTATC-1</td>\n",
       "      <td>CACGGGTTCTAAGAAG-1</td>\n",
       "      <td>CACAACATCGCCTTGT-1</td>\n",
       "      <td>ACTTTCACATTCGGGC-1</td>\n",
       "      <td>CATCAAGCAACTGCCG-1</td>\n",
       "      <td>GGGTTATGTAGTCACT-1</td>\n",
       "    </tr>\n",
       "    <tr>\n",
       "      <th>2</th>\n",
       "      <td>AGTGCCGGTACGGCAA-1</td>\n",
       "      <td>CCCTAACCAAGGTACG-1</td>\n",
       "      <td>TCGATTTTCCGAGGCT-1</td>\n",
       "      <td>CACAACATCGCCTTGT-1</td>\n",
       "      <td>CATGAGTGTGCATTTG-1</td>\n",
       "      <td>ACGTAACCACGCGCTA-1</td>\n",
       "    </tr>\n",
       "    <tr>\n",
       "      <th>3</th>\n",
       "      <td>CGATGCGTCCATATGG-1</td>\n",
       "      <td>TGTTTGTAGCGGTAAC-1</td>\n",
       "      <td>AGGGCCTGTGCTCTCT-1</td>\n",
       "      <td>ACCAAACCATTGTCGA-1</td>\n",
       "      <td>GGTGGCTGTTAATGAG-1</td>\n",
       "      <td>GTTCGCTCAGGGACTA-1</td>\n",
       "    </tr>\n",
       "    <tr>\n",
       "      <th>4</th>\n",
       "      <td>GAGTTTGGTGGCTCTG-1</td>\n",
       "      <td>TTGACCCGTCTGTGCG-1</td>\n",
       "      <td>ACGTACAAGTGGTCAG-1</td>\n",
       "      <td>CATGAGTTCGCGCCAA-1</td>\n",
       "      <td>TAGCACAGTTGCCGCA-1</td>\n",
       "      <td>CAGCACGTCACGGACC-1</td>\n",
       "    </tr>\n",
       "    <tr>\n",
       "      <th>5</th>\n",
       "      <td>TGGATCAGTGCATTAC-1</td>\n",
       "      <td>AGTGCCGCAGTGAGCA-1</td>\n",
       "      <td>GGATCTACACGGAAGT-1</td>\n",
       "      <td>AGCTTCCTCGTGCACG-1</td>\n",
       "      <td>GGACGTCCAGGTAGTG-1</td>\n",
       "      <td>GGACGTCCAGGTAGTG-1</td>\n",
       "    </tr>\n",
       "  </tbody>\n",
       "</table>\n",
       "</div>"
      ],
      "text/plain": [
       "      HEK top 10 n_edits HEK APOBEC_RBFOX2_transient_normalized  \\\n",
       "rank                                                              \n",
       "1     GCACGTGAGAAGTATC-1                     CACGGGTTCTAAGAAG-1   \n",
       "2     AGTGCCGGTACGGCAA-1                     CCCTAACCAAGGTACG-1   \n",
       "3     CGATGCGTCCATATGG-1                     TGTTTGTAGCGGTAAC-1   \n",
       "4     GAGTTTGGTGGCTCTG-1                     TTGACCCGTCTGTGCG-1   \n",
       "5     TGGATCAGTGCATTAC-1                     AGTGCCGCAGTGAGCA-1   \n",
       "\n",
       "     NPC_DCX top 10 n_edits NPC_DCX APOBEC_RBFOX2_transient_normalized  \\\n",
       "rank                                                                     \n",
       "1        CACAACATCGCCTTGT-1                         ACTTTCACATTCGGGC-1   \n",
       "2        TCGATTTTCCGAGGCT-1                         CACAACATCGCCTTGT-1   \n",
       "3        AGGGCCTGTGCTCTCT-1                         ACCAAACCATTGTCGA-1   \n",
       "4        ACGTACAAGTGGTCAG-1                         CATGAGTTCGCGCCAA-1   \n",
       "5        GGATCTACACGGAAGT-1                         AGCTTCCTCGTGCACG-1   \n",
       "\n",
       "     NPC_SOX2 top 10 n_edits NPC_SOX2 APOBEC_RBFOX2_transient_normalized  \n",
       "rank                                                                      \n",
       "1         CATCAAGCAACTGCCG-1                          GGGTTATGTAGTCACT-1  \n",
       "2         CATGAGTGTGCATTTG-1                          ACGTAACCACGCGCTA-1  \n",
       "3         GGTGGCTGTTAATGAG-1                          GTTCGCTCAGGGACTA-1  \n",
       "4         TAGCACAGTTGCCGCA-1                          CAGCACGTCACGGACC-1  \n",
       "5         GGACGTCCAGGTAGTG-1                          GGACGTCCAGGTAGTG-1  "
      ]
     },
     "execution_count": 3,
     "metadata": {},
     "output_type": "execute_result"
    }
   ],
   "source": [
    "rbfox2_bcs = pd.read_csv(os.path.join(ref_dir, 'barcodes_celltype_edits_plasmid_expression_ranked_kb.csv'), index_col=0)\n",
    "del rbfox2_bcs['Unnamed: 4']\n",
    "del rbfox2_bcs['Unnamed: 7']\n",
    "rbfox2_bcs.head()"
   ]
  },
  {
   "cell_type": "code",
   "execution_count": null,
   "metadata": {},
   "outputs": [],
   "source": []
  },
  {
   "cell_type": "markdown",
   "metadata": {},
   "source": [
    "# From our list of barcodes, get the path to the corresponding bed file"
   ]
  },
  {
   "cell_type": "code",
   "execution_count": 4,
   "metadata": {},
   "outputs": [
    {
     "data": {
      "text/plain": [
       "'/home/bay001/projects/kris_apobec_20200121/permanent_data2/05_scRNA_RBFOX2_APO_transient/sailor_outputs_individual_barcodes_merged_bedfiles/RBFOX2_transient_possorted_genome_bam_MD-GCACGTGAGAAGTATC-1.bed'"
      ]
     },
     "execution_count": 4,
     "metadata": {},
     "output_type": "execute_result"
    }
   ],
   "source": [
    "def barcode_to_bedfile(barcode, bedfile_dir, rbp='RBFOX2'):\n",
    "    fn = os.path.join(bedfile_dir, '{}_transient_possorted_genome_bam_MD-{}.bed'.format(rbp, barcode))\n",
    "    assert os.path.exists(fn)\n",
    "    return fn\n",
    "# test\n",
    "barcode_to_bedfile(\n",
    "    barcode='GCACGTGAGAAGTATC-1',\n",
    "    bedfile_dir=input_dir,\n",
    "    rbp='RBFOX2'\n",
    ")"
   ]
  },
  {
   "cell_type": "code",
   "execution_count": 5,
   "metadata": {},
   "outputs": [
    {
     "data": {
      "application/vnd.jupyter.widget-view+json": {
       "model_id": "78dc63327b8646b6921d5581b8f5cc14",
       "version_major": 2,
       "version_minor": 0
      },
      "text/plain": [
       "HBox(children=(IntProgress(value=0, max=60), HTML(value='')))"
      ]
     },
     "metadata": {},
     "output_type": "display_data"
    }
   ],
   "source": [
    "progress = tnrange(len(rbfox2_bcs.columns)*rbfox2_bcs.shape[0])\n",
    "all_bed_files = []\n",
    "for column in rbfox2_bcs.columns:\n",
    "    for bc in rbfox2_bcs[column]:\n",
    "        all_bed_files.append(\n",
    "            barcode_to_bedfile(\n",
    "                bc,\n",
    "                bedfile_dir=input_dir,\n",
    "                rbp='RBFOX2'\n",
    "            )\n",
    "        )\n",
    "        progress.update(1)"
   ]
  },
  {
   "cell_type": "code",
   "execution_count": 6,
   "metadata": {},
   "outputs": [],
   "source": [
    "def recompute_edit_fraction(row):\n",
    "    edit, cov = row['frac'].split(',')\n",
    "    return int(edit)/float(cov)\n",
    "\n",
    "def filter_bed_and_convert_to_bg(input_bed, output_bg, conf):\n",
    "    edit_head = ['chrom','start','end','conf','frac','strand']\n",
    "    df = pd.read_csv(input_bed, names=edit_head, sep='\\t')\n",
    "    try:\n",
    "        df.sort_values(by=['chrom','start','end'], inplace=True)\n",
    "        df = df[(df['conf']>=conf)]\n",
    "        df['name'] = df.apply(recompute_edit_fraction, axis=1)\n",
    "        df[['chrom','start','end','name']].to_csv(output_bg, sep='\\t', header=False, index=False)\n",
    "    except ValueError as e:\n",
    "        print(e, input_bed, conf)\n",
    "    \n",
    "\n"
   ]
  },
  {
   "cell_type": "code",
   "execution_count": 7,
   "metadata": {},
   "outputs": [],
   "source": [
    "confs = [0.5, 0.9, 0.99, 0.999, 1]      \n",
    "genome = '/projects/ps-yeolab3/bay001/annotations/hg19/hg19.chrom.sizes'"
   ]
  },
  {
   "cell_type": "code",
   "execution_count": 8,
   "metadata": {},
   "outputs": [
    {
     "data": {
      "application/vnd.jupyter.widget-view+json": {
       "model_id": "c80a041087e749a6be7d1471071ef867",
       "version_major": 2,
       "version_minor": 0
      },
      "text/plain": [
       "HBox(children=(IntProgress(value=0, max=300), HTML(value='')))"
      ]
     },
     "metadata": {},
     "output_type": "display_data"
    },
    {
     "name": "stdout",
     "output_type": "stream",
     "text": [
      "Cannot set a frame with no defined index and a value that cannot be converted to a Series /home/bay001/projects/kris_apobec_20200121/permanent_data2/05_scRNA_RBFOX2_APO_transient/sailor_outputs_individual_barcodes_merged_bedfiles/RBFOX2_transient_possorted_genome_bam_MD-CACGGGTTCTAAGAAG-1.bed 0.9\n",
      "Cannot set a frame with no defined index and a value that cannot be converted to a Series /home/bay001/projects/kris_apobec_20200121/permanent_data2/05_scRNA_RBFOX2_APO_transient/sailor_outputs_individual_barcodes_merged_bedfiles/RBFOX2_transient_possorted_genome_bam_MD-CCCTAACCAAGGTACG-1.bed 0.9\n",
      "Cannot set a frame with no defined index and a value that cannot be converted to a Series /home/bay001/projects/kris_apobec_20200121/permanent_data2/05_scRNA_RBFOX2_APO_transient/sailor_outputs_individual_barcodes_merged_bedfiles/RBFOX2_transient_possorted_genome_bam_MD-CACGGGTTCTAAGAAG-1.bed 0.99\n",
      "Cannot set a frame with no defined index and a value that cannot be converted to a Series /home/bay001/projects/kris_apobec_20200121/permanent_data2/05_scRNA_RBFOX2_APO_transient/sailor_outputs_individual_barcodes_merged_bedfiles/RBFOX2_transient_possorted_genome_bam_MD-CCCTAACCAAGGTACG-1.bed 0.99\n",
      "Cannot set a frame with no defined index and a value that cannot be converted to a Series /home/bay001/projects/kris_apobec_20200121/permanent_data2/05_scRNA_RBFOX2_APO_transient/sailor_outputs_individual_barcodes_merged_bedfiles/RBFOX2_transient_possorted_genome_bam_MD-TGTTTGTAGCGGTAAC-1.bed 0.99\n",
      "Cannot set a frame with no defined index and a value that cannot be converted to a Series /home/bay001/projects/kris_apobec_20200121/permanent_data2/05_scRNA_RBFOX2_APO_transient/sailor_outputs_individual_barcodes_merged_bedfiles/RBFOX2_transient_possorted_genome_bam_MD-GTTCTATTCTGCTGAA-1.bed 0.99\n",
      "Cannot set a frame with no defined index and a value that cannot be converted to a Series /home/bay001/projects/kris_apobec_20200121/permanent_data2/05_scRNA_RBFOX2_APO_transient/sailor_outputs_individual_barcodes_merged_bedfiles/RBFOX2_transient_possorted_genome_bam_MD-ACTTTCACATTCGGGC-1.bed 0.99\n",
      "Cannot set a frame with no defined index and a value that cannot be converted to a Series /home/bay001/projects/kris_apobec_20200121/permanent_data2/05_scRNA_RBFOX2_APO_transient/sailor_outputs_individual_barcodes_merged_bedfiles/RBFOX2_transient_possorted_genome_bam_MD-AGACTCACAGCTCTGG-1.bed 0.99\n",
      "Cannot set a frame with no defined index and a value that cannot be converted to a Series /home/bay001/projects/kris_apobec_20200121/permanent_data2/05_scRNA_RBFOX2_APO_transient/sailor_outputs_individual_barcodes_merged_bedfiles/RBFOX2_transient_possorted_genome_bam_MD-AACCCAAAGATACGAT-1.bed 0.99\n",
      "Cannot set a frame with no defined index and a value that cannot be converted to a Series /home/bay001/projects/kris_apobec_20200121/permanent_data2/05_scRNA_RBFOX2_APO_transient/sailor_outputs_individual_barcodes_merged_bedfiles/RBFOX2_transient_possorted_genome_bam_MD-TGTCCCAGTTGAGAGC-1.bed 0.99\n",
      "Cannot set a frame with no defined index and a value that cannot be converted to a Series /home/bay001/projects/kris_apobec_20200121/permanent_data2/05_scRNA_RBFOX2_APO_transient/sailor_outputs_individual_barcodes_merged_bedfiles/RBFOX2_transient_possorted_genome_bam_MD-CAAGGGATCGACCATA-1.bed 0.99\n",
      "Cannot set a frame with no defined index and a value that cannot be converted to a Series /home/bay001/projects/kris_apobec_20200121/permanent_data2/05_scRNA_RBFOX2_APO_transient/sailor_outputs_individual_barcodes_merged_bedfiles/RBFOX2_transient_possorted_genome_bam_MD-CCGTTCATCTGTCCCA-1.bed 0.99\n",
      "Cannot set a frame with no defined index and a value that cannot be converted to a Series /home/bay001/projects/kris_apobec_20200121/permanent_data2/05_scRNA_RBFOX2_APO_transient/sailor_outputs_individual_barcodes_merged_bedfiles/RBFOX2_transient_possorted_genome_bam_MD-CACGGGTTCTAAGAAG-1.bed 0.999\n",
      "Cannot set a frame with no defined index and a value that cannot be converted to a Series /home/bay001/projects/kris_apobec_20200121/permanent_data2/05_scRNA_RBFOX2_APO_transient/sailor_outputs_individual_barcodes_merged_bedfiles/RBFOX2_transient_possorted_genome_bam_MD-CCCTAACCAAGGTACG-1.bed 0.999\n",
      "Cannot set a frame with no defined index and a value that cannot be converted to a Series /home/bay001/projects/kris_apobec_20200121/permanent_data2/05_scRNA_RBFOX2_APO_transient/sailor_outputs_individual_barcodes_merged_bedfiles/RBFOX2_transient_possorted_genome_bam_MD-TGTTTGTAGCGGTAAC-1.bed 0.999\n",
      "Cannot set a frame with no defined index and a value that cannot be converted to a Series /home/bay001/projects/kris_apobec_20200121/permanent_data2/05_scRNA_RBFOX2_APO_transient/sailor_outputs_individual_barcodes_merged_bedfiles/RBFOX2_transient_possorted_genome_bam_MD-GTTCTATTCTGCTGAA-1.bed 0.999\n",
      "Cannot set a frame with no defined index and a value that cannot be converted to a Series /home/bay001/projects/kris_apobec_20200121/permanent_data2/05_scRNA_RBFOX2_APO_transient/sailor_outputs_individual_barcodes_merged_bedfiles/RBFOX2_transient_possorted_genome_bam_MD-ACTTTCACATTCGGGC-1.bed 0.999\n",
      "Cannot set a frame with no defined index and a value that cannot be converted to a Series /home/bay001/projects/kris_apobec_20200121/permanent_data2/05_scRNA_RBFOX2_APO_transient/sailor_outputs_individual_barcodes_merged_bedfiles/RBFOX2_transient_possorted_genome_bam_MD-CATGAGTTCGCGCCAA-1.bed 0.999\n",
      "Cannot set a frame with no defined index and a value that cannot be converted to a Series /home/bay001/projects/kris_apobec_20200121/permanent_data2/05_scRNA_RBFOX2_APO_transient/sailor_outputs_individual_barcodes_merged_bedfiles/RBFOX2_transient_possorted_genome_bam_MD-AGACTCACAGCTCTGG-1.bed 0.999\n",
      "Cannot set a frame with no defined index and a value that cannot be converted to a Series /home/bay001/projects/kris_apobec_20200121/permanent_data2/05_scRNA_RBFOX2_APO_transient/sailor_outputs_individual_barcodes_merged_bedfiles/RBFOX2_transient_possorted_genome_bam_MD-AACCCAAAGATACGAT-1.bed 0.999\n",
      "Cannot set a frame with no defined index and a value that cannot be converted to a Series /home/bay001/projects/kris_apobec_20200121/permanent_data2/05_scRNA_RBFOX2_APO_transient/sailor_outputs_individual_barcodes_merged_bedfiles/RBFOX2_transient_possorted_genome_bam_MD-TGTCCCAGTTGAGAGC-1.bed 0.999\n",
      "Cannot set a frame with no defined index and a value that cannot be converted to a Series /home/bay001/projects/kris_apobec_20200121/permanent_data2/05_scRNA_RBFOX2_APO_transient/sailor_outputs_individual_barcodes_merged_bedfiles/RBFOX2_transient_possorted_genome_bam_MD-GGGTTATGTAGTCACT-1.bed 0.999\n",
      "Cannot set a frame with no defined index and a value that cannot be converted to a Series /home/bay001/projects/kris_apobec_20200121/permanent_data2/05_scRNA_RBFOX2_APO_transient/sailor_outputs_individual_barcodes_merged_bedfiles/RBFOX2_transient_possorted_genome_bam_MD-ACGTAACCACGCGCTA-1.bed 0.999\n",
      "Cannot set a frame with no defined index and a value that cannot be converted to a Series /home/bay001/projects/kris_apobec_20200121/permanent_data2/05_scRNA_RBFOX2_APO_transient/sailor_outputs_individual_barcodes_merged_bedfiles/RBFOX2_transient_possorted_genome_bam_MD-CTAACCCTCGGTCTGG-1.bed 0.999\n",
      "Cannot set a frame with no defined index and a value that cannot be converted to a Series /home/bay001/projects/kris_apobec_20200121/permanent_data2/05_scRNA_RBFOX2_APO_transient/sailor_outputs_individual_barcodes_merged_bedfiles/RBFOX2_transient_possorted_genome_bam_MD-CAAGGGATCGACCATA-1.bed 0.999\n",
      "Cannot set a frame with no defined index and a value that cannot be converted to a Series /home/bay001/projects/kris_apobec_20200121/permanent_data2/05_scRNA_RBFOX2_APO_transient/sailor_outputs_individual_barcodes_merged_bedfiles/RBFOX2_transient_possorted_genome_bam_MD-CCGTTCATCTGTCCCA-1.bed 0.999\n",
      "Cannot set a frame with no defined index and a value that cannot be converted to a Series /home/bay001/projects/kris_apobec_20200121/permanent_data2/05_scRNA_RBFOX2_APO_transient/sailor_outputs_individual_barcodes_merged_bedfiles/RBFOX2_transient_possorted_genome_bam_MD-CACGGGTTCTAAGAAG-1.bed 1\n",
      "Cannot set a frame with no defined index and a value that cannot be converted to a Series /home/bay001/projects/kris_apobec_20200121/permanent_data2/05_scRNA_RBFOX2_APO_transient/sailor_outputs_individual_barcodes_merged_bedfiles/RBFOX2_transient_possorted_genome_bam_MD-CCCTAACCAAGGTACG-1.bed 1\n",
      "Cannot set a frame with no defined index and a value that cannot be converted to a Series /home/bay001/projects/kris_apobec_20200121/permanent_data2/05_scRNA_RBFOX2_APO_transient/sailor_outputs_individual_barcodes_merged_bedfiles/RBFOX2_transient_possorted_genome_bam_MD-TGTTTGTAGCGGTAAC-1.bed 1\n",
      "Cannot set a frame with no defined index and a value that cannot be converted to a Series /home/bay001/projects/kris_apobec_20200121/permanent_data2/05_scRNA_RBFOX2_APO_transient/sailor_outputs_individual_barcodes_merged_bedfiles/RBFOX2_transient_possorted_genome_bam_MD-GTTCTATTCTGCTGAA-1.bed 1\n",
      "Cannot set a frame with no defined index and a value that cannot be converted to a Series /home/bay001/projects/kris_apobec_20200121/permanent_data2/05_scRNA_RBFOX2_APO_transient/sailor_outputs_individual_barcodes_merged_bedfiles/RBFOX2_transient_possorted_genome_bam_MD-CACAGATGTTAATGAG-1.bed 1\n",
      "Cannot set a frame with no defined index and a value that cannot be converted to a Series /home/bay001/projects/kris_apobec_20200121/permanent_data2/05_scRNA_RBFOX2_APO_transient/sailor_outputs_individual_barcodes_merged_bedfiles/RBFOX2_transient_possorted_genome_bam_MD-ACTTTCACATTCGGGC-1.bed 1\n",
      "Cannot set a frame with no defined index and a value that cannot be converted to a Series /home/bay001/projects/kris_apobec_20200121/permanent_data2/05_scRNA_RBFOX2_APO_transient/sailor_outputs_individual_barcodes_merged_bedfiles/RBFOX2_transient_possorted_genome_bam_MD-ACCAAACCATTGTCGA-1.bed 1\n",
      "Cannot set a frame with no defined index and a value that cannot be converted to a Series /home/bay001/projects/kris_apobec_20200121/permanent_data2/05_scRNA_RBFOX2_APO_transient/sailor_outputs_individual_barcodes_merged_bedfiles/RBFOX2_transient_possorted_genome_bam_MD-CATGAGTTCGCGCCAA-1.bed 1\n",
      "Cannot set a frame with no defined index and a value that cannot be converted to a Series /home/bay001/projects/kris_apobec_20200121/permanent_data2/05_scRNA_RBFOX2_APO_transient/sailor_outputs_individual_barcodes_merged_bedfiles/RBFOX2_transient_possorted_genome_bam_MD-AGCTTCCTCGTGCACG-1.bed 1\n",
      "Cannot set a frame with no defined index and a value that cannot be converted to a Series /home/bay001/projects/kris_apobec_20200121/permanent_data2/05_scRNA_RBFOX2_APO_transient/sailor_outputs_individual_barcodes_merged_bedfiles/RBFOX2_transient_possorted_genome_bam_MD-AGACTCACAGCTCTGG-1.bed 1\n",
      "Cannot set a frame with no defined index and a value that cannot be converted to a Series /home/bay001/projects/kris_apobec_20200121/permanent_data2/05_scRNA_RBFOX2_APO_transient/sailor_outputs_individual_barcodes_merged_bedfiles/RBFOX2_transient_possorted_genome_bam_MD-CTGCCATGTCTTAGTG-1.bed 1\n",
      "Cannot set a frame with no defined index and a value that cannot be converted to a Series /home/bay001/projects/kris_apobec_20200121/permanent_data2/05_scRNA_RBFOX2_APO_transient/sailor_outputs_individual_barcodes_merged_bedfiles/RBFOX2_transient_possorted_genome_bam_MD-AAGTGAAGTTGGGATG-1.bed 1\n",
      "Cannot set a frame with no defined index and a value that cannot be converted to a Series /home/bay001/projects/kris_apobec_20200121/permanent_data2/05_scRNA_RBFOX2_APO_transient/sailor_outputs_individual_barcodes_merged_bedfiles/RBFOX2_transient_possorted_genome_bam_MD-AACCCAAAGATACGAT-1.bed 1\n",
      "Cannot set a frame with no defined index and a value that cannot be converted to a Series /home/bay001/projects/kris_apobec_20200121/permanent_data2/05_scRNA_RBFOX2_APO_transient/sailor_outputs_individual_barcodes_merged_bedfiles/RBFOX2_transient_possorted_genome_bam_MD-TGTCCCAGTTGAGAGC-1.bed 1\n",
      "Cannot set a frame with no defined index and a value that cannot be converted to a Series /home/bay001/projects/kris_apobec_20200121/permanent_data2/05_scRNA_RBFOX2_APO_transient/sailor_outputs_individual_barcodes_merged_bedfiles/RBFOX2_transient_possorted_genome_bam_MD-GGGTTATGTAGTCACT-1.bed 1\n",
      "Cannot set a frame with no defined index and a value that cannot be converted to a Series /home/bay001/projects/kris_apobec_20200121/permanent_data2/05_scRNA_RBFOX2_APO_transient/sailor_outputs_individual_barcodes_merged_bedfiles/RBFOX2_transient_possorted_genome_bam_MD-ACGTAACCACGCGCTA-1.bed 1\n",
      "Cannot set a frame with no defined index and a value that cannot be converted to a Series /home/bay001/projects/kris_apobec_20200121/permanent_data2/05_scRNA_RBFOX2_APO_transient/sailor_outputs_individual_barcodes_merged_bedfiles/RBFOX2_transient_possorted_genome_bam_MD-CTAACCCTCGGTCTGG-1.bed 1\n",
      "Cannot set a frame with no defined index and a value that cannot be converted to a Series /home/bay001/projects/kris_apobec_20200121/permanent_data2/05_scRNA_RBFOX2_APO_transient/sailor_outputs_individual_barcodes_merged_bedfiles/RBFOX2_transient_possorted_genome_bam_MD-CAAGGGATCGACCATA-1.bed 1\n",
      "Cannot set a frame with no defined index and a value that cannot be converted to a Series /home/bay001/projects/kris_apobec_20200121/permanent_data2/05_scRNA_RBFOX2_APO_transient/sailor_outputs_individual_barcodes_merged_bedfiles/RBFOX2_transient_possorted_genome_bam_MD-CCGTTCATCTGTCCCA-1.bed 1\n"
     ]
    }
   ],
   "source": [
    "progress = tnrange(len(all_bed_files)*len(confs))\n",
    "for conf in confs:\n",
    "    for bed in all_bed_files:\n",
    "        output_bg = os.path.join(output_dir, os.path.basename(bed) + \".{}.bedgraph\".format(conf))\n",
    "        filter_bed_and_convert_to_bg(bed, output_bg, conf)\n",
    "        progress.update(1)"
   ]
  },
  {
   "cell_type": "markdown",
   "metadata": {},
   "source": [
    "# Get topN edits for APOBEC"
   ]
  },
  {
   "cell_type": "code",
   "execution_count": 9,
   "metadata": {},
   "outputs": [
    {
     "data": {
      "text/html": [
       "<div>\n",
       "<style scoped>\n",
       "    .dataframe tbody tr th:only-of-type {\n",
       "        vertical-align: middle;\n",
       "    }\n",
       "\n",
       "    .dataframe tbody tr th {\n",
       "        vertical-align: top;\n",
       "    }\n",
       "\n",
       "    .dataframe thead th {\n",
       "        text-align: right;\n",
       "    }\n",
       "</style>\n",
       "<table border=\"1\" class=\"dataframe\">\n",
       "  <thead>\n",
       "    <tr style=\"text-align: right;\">\n",
       "      <th></th>\n",
       "      <th>n_edits</th>\n",
       "      <th>n_genes</th>\n",
       "      <th>ex_n_genes</th>\n",
       "      <th>ex_n_counts</th>\n",
       "      <th>cell</th>\n",
       "      <th>ex_transgene</th>\n",
       "    </tr>\n",
       "  </thead>\n",
       "  <tbody>\n",
       "    <tr>\n",
       "      <th>TTCCACGGTGACGCCT-1</th>\n",
       "      <td>0.180739</td>\n",
       "      <td>83</td>\n",
       "      <td>7009</td>\n",
       "      <td>46806</td>\n",
       "      <td>NPC</td>\n",
       "      <td>0.055914</td>\n",
       "    </tr>\n",
       "    <tr>\n",
       "      <th>TCCGAAATCTCGACCT-1</th>\n",
       "      <td>0.172029</td>\n",
       "      <td>82</td>\n",
       "      <td>6979</td>\n",
       "      <td>48881</td>\n",
       "      <td>NPC</td>\n",
       "      <td>0.058439</td>\n",
       "    </tr>\n",
       "    <tr>\n",
       "      <th>TTACGTTAGGTCATAA-1</th>\n",
       "      <td>0.169845</td>\n",
       "      <td>68</td>\n",
       "      <td>6413</td>\n",
       "      <td>40534</td>\n",
       "      <td>NPC</td>\n",
       "      <td>0.031523</td>\n",
       "    </tr>\n",
       "    <tr>\n",
       "      <th>CACGAATGTGTCATTG-1</th>\n",
       "      <td>0.169500</td>\n",
       "      <td>75</td>\n",
       "      <td>6445</td>\n",
       "      <td>37356</td>\n",
       "      <td>NPC</td>\n",
       "      <td>0.009722</td>\n",
       "    </tr>\n",
       "    <tr>\n",
       "      <th>AGCATCACAGCGTGCT-1</th>\n",
       "      <td>0.166840</td>\n",
       "      <td>64</td>\n",
       "      <td>6370</td>\n",
       "      <td>37880</td>\n",
       "      <td>NPC</td>\n",
       "      <td>-0.000780</td>\n",
       "    </tr>\n",
       "  </tbody>\n",
       "</table>\n",
       "</div>"
      ],
      "text/plain": [
       "                     n_edits  n_genes  ex_n_genes  ex_n_counts cell  \\\n",
       "TTCCACGGTGACGCCT-1  0.180739       83        7009        46806  NPC   \n",
       "TCCGAAATCTCGACCT-1  0.172029       82        6979        48881  NPC   \n",
       "TTACGTTAGGTCATAA-1  0.169845       68        6413        40534  NPC   \n",
       "CACGAATGTGTCATTG-1  0.169500       75        6445        37356  NPC   \n",
       "AGCATCACAGCGTGCT-1  0.166840       64        6370        37880  NPC   \n",
       "\n",
       "                    ex_transgene  \n",
       "TTCCACGGTGACGCCT-1      0.055914  \n",
       "TCCGAAATCTCGACCT-1      0.058439  \n",
       "TTACGTTAGGTCATAA-1      0.031523  \n",
       "CACGAATGTGTCATTG-1      0.009722  \n",
       "AGCATCACAGCGTGCT-1     -0.000780  "
      ]
     },
     "execution_count": 9,
     "metadata": {},
     "output_type": "execute_result"
    }
   ],
   "source": [
    "apobec_bcs = pd.read_excel(os.path.join(ref_dir, 'APOBEC_HEKvsNPC_edits_all_info_sorted.xlsx'), index_col=0)\n",
    "apobec_bcs.head()"
   ]
  },
  {
   "cell_type": "code",
   "execution_count": 10,
   "metadata": {},
   "outputs": [
    {
     "data": {
      "text/plain": [
       "['ATCGTCCAGCAAGTGC-1',\n",
       " 'GTGAGCCAGCAGCAGT-1',\n",
       " 'GAAGCCCCACAGCCTG-1',\n",
       " 'GTGCACGTCCACACCT-1',\n",
       " 'GTTCGCTCAAACTAAG-1',\n",
       " 'CACCAAACAGTTAGAA-1',\n",
       " 'CCGGACAAGGATAATC-1',\n",
       " 'TTCGCTGGTTATAGCC-1',\n",
       " 'GTAGAAACAGCTATAC-1',\n",
       " 'GACCAATGTTTCAGAC-1']"
      ]
     },
     "execution_count": 10,
     "metadata": {},
     "output_type": "execute_result"
    }
   ],
   "source": [
    "top = 10\n",
    "\n",
    "apobec_bcs_npc = list(apobec_bcs[apobec_bcs['cell']=='NPC'].sort_values(by=['n_edits'], ascending=False).iloc[:top].index) # sorted by rank\n",
    "apobec_bcs_hek = list(apobec_bcs[apobec_bcs['cell']=='HEK'].sort_values(by=['n_edits'], ascending=False).iloc[:top].index) # sorted by rank\n",
    "\n",
    "apobec_bcs_hek"
   ]
  },
  {
   "cell_type": "code",
   "execution_count": 11,
   "metadata": {},
   "outputs": [
    {
     "data": {
      "application/vnd.jupyter.widget-view+json": {
       "model_id": "006e4a51ea5a47d89a5a170a11e39e31",
       "version_major": 2,
       "version_minor": 0
      },
      "text/plain": [
       "HBox(children=(IntProgress(value=0, max=20), HTML(value='')))"
      ]
     },
     "metadata": {},
     "output_type": "display_data"
    }
   ],
   "source": [
    "bc_groups = [apobec_bcs_npc, apobec_bcs_hek]\n",
    "\n",
    "progress = tnrange(len(bc_groups)*top)\n",
    "\n",
    "for bcs in bc_groups: # NPC, HEK\n",
    "    rank = 1\n",
    "    for bc in bcs: # for each barcode, should be already ranked by n_edits\n",
    "        bed = barcode_to_bedfile(\n",
    "            bc,\n",
    "            bedfile_dir=input_dir,\n",
    "            rbp='APOBEC'\n",
    "        )\n",
    "        for conf in confs: # \n",
    "            output_bg = os.path.join(output_dir, os.path.basename(bed) + \".rank-{}.{}.bedgraph\".format(rank, conf))\n",
    "            filter_bed_and_convert_to_bg(bed, output_bg, conf)\n",
    "        rank += 1\n",
    "        progress.update(1)"
   ]
  },
  {
   "cell_type": "code",
   "execution_count": null,
   "metadata": {},
   "outputs": [],
   "source": []
  }
 ],
 "metadata": {
  "kernelspec": {
   "display_name": "python3-essential",
   "language": "python",
   "name": "python3-essential"
  },
  "language_info": {
   "codemirror_mode": {
    "name": "ipython",
    "version": 3
   },
   "file_extension": ".py",
   "mimetype": "text/x-python",
   "name": "python",
   "nbconvert_exporter": "python",
   "pygments_lexer": "ipython3",
   "version": "3.6.7"
  }
 },
 "nbformat": 4,
 "nbformat_minor": 2
}
