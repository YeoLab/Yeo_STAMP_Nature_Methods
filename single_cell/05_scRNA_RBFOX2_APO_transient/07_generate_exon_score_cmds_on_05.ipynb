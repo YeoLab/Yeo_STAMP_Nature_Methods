{
 "cells": [
  {
   "cell_type": "markdown",
   "metadata": {},
   "source": [
    "# Runs the script to generate windows across all exons (CDS, UTRs)"
   ]
  },
  {
   "cell_type": "code",
   "execution_count": 1,
   "metadata": {},
   "outputs": [],
   "source": [
    "import glob\n",
    "import os\n",
    "from qtools import Submitter\n",
    "from tqdm import tnrange, tqdm_notebook"
   ]
  },
  {
   "cell_type": "code",
   "execution_count": 2,
   "metadata": {},
   "outputs": [],
   "source": [
    "annotated_dir = '/home/bay001/projects/kris_apobec_20200121/permanent_data2/05_scRNA_RBFOX2_APO_transient/sailor_outputs_individual_barcodes_merged_bedfiles'\n",
    "bigwig_dir = '/home/bay001/projects/kris_apobec_20200121/permanent_data2/05_scRNA_RBFOX2_APO_transient/bigwig_files/'\n",
    "output_dir = '/home/bay001/projects/kris_apobec_20200121/permanent_data2/05_scRNA_RBFOX2_APO_transient/sailor_outputs_individual_barcodes_merged_scores_no_APO_filter'"
   ]
  },
  {
   "cell_type": "code",
   "execution_count": 3,
   "metadata": {},
   "outputs": [
    {
     "name": "stdout",
     "output_type": "stream",
     "text": [
      "18462\n"
     ]
    },
    {
     "data": {
      "text/plain": [
       "['/home/bay001/projects/kris_apobec_20200121/permanent_data2/05_scRNA_RBFOX2_APO_transient/sailor_outputs_individual_barcodes_merged_bedfiles/APOBEC_transient_possorted_genome_bam_MD-AAACCCAAGAGAGGTA-1.fx.bed.annotated',\n",
       " '/home/bay001/projects/kris_apobec_20200121/permanent_data2/05_scRNA_RBFOX2_APO_transient/sailor_outputs_individual_barcodes_merged_bedfiles/APOBEC_transient_possorted_genome_bam_MD-AAACCCAAGTGCTACT-1.fx.bed.annotated',\n",
       " '/home/bay001/projects/kris_apobec_20200121/permanent_data2/05_scRNA_RBFOX2_APO_transient/sailor_outputs_individual_barcodes_merged_bedfiles/APOBEC_transient_possorted_genome_bam_MD-AAACCCACAGGCAATG-1.fx.bed.annotated']"
      ]
     },
     "execution_count": 3,
     "metadata": {},
     "output_type": "execute_result"
    }
   ],
   "source": [
    "all_annotated = sorted(glob.glob(os.path.join(annotated_dir, '*.annotated')))\n",
    "print(len(all_annotated))\n",
    "all_annotated[:3]"
   ]
  },
  {
   "cell_type": "code",
   "execution_count": 4,
   "metadata": {},
   "outputs": [
    {
     "name": "stdout",
     "output_type": "stream",
     "text": [
      "Number of commands: 0\n"
     ]
    }
   ],
   "source": [
    "# bg_edits_file = '/home/bay001/projects/kris_apobec_20200121/permanent_data/final_analysis/01_SAILOR_bulk_rnaseq/outputs/combined_outputs_w_cov_info/ApoControl-1000_S21_L002_R1_001.fastqTr.sorted.STARUnmapped.out.sorted.STARAligned.out.sorted_a0_b0_e0.01.bed'\n",
    "\n",
    "chrom_sizes_file = '/projects/ps-yeolab3/bay001/annotations/hg19/hg19.chrom.sizes'\n",
    "gtfdb_file = '/projects/ps-yeolab3/bay001/annotations/hg19/gencode_v19/gencode.v19.annotation.gtf.db'\n",
    "genome_fa = '/projects/ps-yeolab3/bay001/annotations/hg19/hg19.fa'\n",
    "\n",
    "cds_file = '/projects/ps-yeolab3/bay001/annotations/hg19/gencode_v19/hg19_v19_cds.bed'\n",
    "three_prime_utr_file = '/projects/ps-yeolab3/bay001/annotations/hg19/gencode_v19/hg19_v19_three_prime_utrs.bed'\n",
    "five_prime_utr_file = '/projects/ps-yeolab3/bay001/annotations/hg19/gencode_v19/hg19_v19_five_prime_utrs.bed'\n",
    "\n",
    "def chunker(seq, size):\n",
    "    \"\"\"\n",
    "    Chunks a long list into groups of (size).\n",
    "    \"\"\"\n",
    "    return (seq[pos:pos + size] for pos in range(0, len(seq), size))\n",
    "\n",
    "groupsize = 500\n",
    "need_to_run = [] # unfinished runs\n",
    "cmds = []\n",
    "for group in chunker(all_annotated, groupsize):\n",
    "    cmd = 'module load python3essential;'\n",
    "    for g in group:\n",
    "        output_file = os.path.join(output_dir, os.path.basename(g) + '.exons.txt')\n",
    "        output_file_summed = os.path.join(output_dir, os.path.basename(g) + '.exons.merged.txt')\n",
    "\n",
    "        pos_bw = os.path.join(bigwig_dir, os.path.basename(g).replace('.fx.bed.annotated','') + '.fwd.sorted.rmdup.readfiltered.sorted.bw')\n",
    "        neg_bw =os.path.join(bigwig_dir, os.path.basename(g).replace('.fx.bed.annotated','') + '.rev.sorted.rmdup.readfiltered.sorted.bw')\n",
    "        if not os.path.exists(output_file_summed):\n",
    "            if os.path.exists(pos_bw) and os.path.exists(neg_bw) and os.path.exists(g):\n",
    "                cmd += 'python /home/bay001/projects/kris_apobec_20200121/permanent_data2/03_scRNA/score_edits_total_exon_coverage.py '\n",
    "                cmd += '--conf 0 ' \n",
    "                cmd += '--gtfdb {} '.format(gtfdb_file)\n",
    "                cmd += '--chrom_sizes_file {} '.format(chrom_sizes_file)\n",
    "                cmd += '--pos_bw {} '.format(pos_bw)\n",
    "                cmd += '--neg_bw {} '.format(neg_bw)\n",
    "                cmd += '--annotated_edits_file {} '.format(g)\n",
    "                # cmd += '--bg_edits_file {} '.format(bg_edits_file)\n",
    "                cmd += '--genome_fa {} '.format(genome_fa)\n",
    "                cmd += '--output_file {} '.format(output_file)\n",
    "                cmd += '--output_file_summed {} '.format(output_file_summed)\n",
    "                cmd += '--three_prime_utr_file {} '.format(three_prime_utr_file)\n",
    "                cmd += '--five_prime_utr_file {} '.format(five_prime_utr_file)\n",
    "                cmd += '--cds_file {};'.format(cds_file)\n",
    "            else:\n",
    "                print(os.path.exists(pos_bw), os.path.exists(neg_bw), os.path.exists(g))\n",
    "                need_to_run.append(g)\n",
    "    if cmd != 'module load python3essential;':\n",
    "        cmds.append(cmd)\n",
    "\n",
    "print(\"Number of commands: {}\".format(len(cmds)))"
   ]
  },
  {
   "cell_type": "code",
   "execution_count": 5,
   "metadata": {},
   "outputs": [],
   "source": [
    "for cmd in cmds:\n",
    "    print(len(cmd))"
   ]
  },
  {
   "cell_type": "code",
   "execution_count": null,
   "metadata": {},
   "outputs": [],
   "source": [
    "if len(cmds) > 0:\n",
    "    Submitter(commands=cmds, job_name='score_exon_edits', array=True, nodes=1, ppn=4, submit=True, walltime='24:00:00')"
   ]
  },
  {
   "cell_type": "markdown",
   "metadata": {},
   "source": [
    "# Write the commands to score all exon (minus 3'UTR) edits"
   ]
  },
  {
   "cell_type": "code",
   "execution_count": null,
   "metadata": {},
   "outputs": [],
   "source": [
    "cmds = []\n",
    "for group in chunker(all_annotated, groupsize):\n",
    "    cmd = 'module load python3essential;'\n",
    "    for g in group:\n",
    "        output_file = os.path.join(output_dir, os.path.basename(g) + '.exons_no3utr.txt')\n",
    "        output_file_summed = os.path.join(output_dir, os.path.basename(g) + '.exons_no3utr.merged.txt')\n",
    "\n",
    "        pos_bw = os.path.join(bigwig_dir, os.path.basename(g).replace('.fx.bed.annotated','') + '.fwd.sorted.rmdup.readfiltered.sorted.bw')\n",
    "        neg_bw =os.path.join(bigwig_dir, os.path.basename(g).replace('.fx.bed.annotated','') + '.rev.sorted.rmdup.readfiltered.sorted.bw')\n",
    "        if not os.path.exists(output_file_summed):\n",
    "            if os.path.exists(pos_bw) and os.path.exists(neg_bw) and os.path.exists(g):\n",
    "                cmd += '/home/bay001/projects/kris_apobec_20200121/permanent_data2/03_scRNA/score_edits_total_exon_coverage.py '\n",
    "                cmd += '--conf 0 ' \n",
    "                cmd += '--gtfdb {} '.format(gtfdb_file)\n",
    "                cmd += '--chrom_sizes_file {} '.format(chrom_sizes_file)\n",
    "                cmd += '--pos_bw {} '.format(pos_bw)\n",
    "                cmd += '--neg_bw {} '.format(neg_bw)\n",
    "                cmd += '--annotated_edits_file {} '.format(g)\n",
    "                # cmd += '--bg_edits_file {} '.format(bg_edits_file)\n",
    "                cmd += '--genome_fa {} '.format(genome_fa)\n",
    "                cmd += '--output_file {} '.format(output_file)\n",
    "                cmd += '--output_file_summed {} '.format(output_file_summed)\n",
    "                cmd += '--five_prime_utr_file {} '.format(five_prime_utr_file)\n",
    "                cmd += '--cds_file {};'.format(cds_file)\n",
    "            else:\n",
    "                print(os.path.exists(pos_bw), os.path.exists(neg_bw), os.path.exists(g))\n",
    "    if cmd != 'module load python3essential;':\n",
    "        cmds.append(cmd)\n",
    "\n",
    "print(\"Number of commands: {}\".format(len(cmds)))"
   ]
  },
  {
   "cell_type": "code",
   "execution_count": null,
   "metadata": {},
   "outputs": [],
   "source": [
    "if len(cmds) > 0:\n",
    "    Submitter(commands=cmds, job_name='score_exon_no3utr_edits', array=True, nodes=1, ppn=4, submit=True, walltime='24:00:00')"
   ]
  },
  {
   "cell_type": "code",
   "execution_count": null,
   "metadata": {},
   "outputs": [],
   "source": [
    "cmds[0][:5000]"
   ]
  },
  {
   "cell_type": "code",
   "execution_count": null,
   "metadata": {},
   "outputs": [],
   "source": []
  }
 ],
 "metadata": {
  "kernelspec": {
   "display_name": "python2-essential",
   "language": "python",
   "name": "python2-essential"
  },
  "language_info": {
   "codemirror_mode": {
    "name": "ipython",
    "version": 2
   },
   "file_extension": ".py",
   "mimetype": "text/x-python",
   "name": "python",
   "nbconvert_exporter": "python",
   "pygments_lexer": "ipython2",
   "version": "2.7.15"
  }
 },
 "nbformat": 4,
 "nbformat_minor": 2
}
