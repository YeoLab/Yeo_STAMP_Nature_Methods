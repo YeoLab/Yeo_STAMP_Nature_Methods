{
 "cells": [
  {
   "cell_type": "markdown",
   "metadata": {},
   "source": [
    "# Join all the scored files together"
   ]
  },
  {
   "cell_type": "code",
   "execution_count": 1,
   "metadata": {},
   "outputs": [],
   "source": [
    "import glob\n",
    "import os\n",
    "import pandas as pd\n",
    "from tqdm import tnrange, tqdm_notebook"
   ]
  },
  {
   "cell_type": "code",
   "execution_count": 2,
   "metadata": {},
   "outputs": [],
   "source": [
    "input_dir = '/home/bay001/projects/kris_apobec_20200121/permanent_data2/05_scRNA_RBFOX2_APO_transient/sailor_outputs_individual_barcodes_merged_scores_no_APO_filter'\n",
    "output_dir = '/home/bay001/projects/kris_apobec_20200121/permanent_data2/05_scRNA_RBFOX2_APO_transient/outputs'"
   ]
  },
  {
   "cell_type": "code",
   "execution_count": 3,
   "metadata": {},
   "outputs": [
    {
     "name": "stdout",
     "output_type": "stream",
     "text": [
      "9169 9293\n"
     ]
    },
    {
     "data": {
      "text/plain": [
       "(['/home/bay001/projects/kris_apobec_20200121/permanent_data2/05_scRNA_RBFOX2_APO_transient/sailor_outputs_individual_barcodes_merged_scores_no_APO_filter/RBFOX2_transient_possorted_genome_bam_MD-AAACCCAAGGCTAAAT-1.fx.bed.annotated.exons.merged.txt',\n",
       "  '/home/bay001/projects/kris_apobec_20200121/permanent_data2/05_scRNA_RBFOX2_APO_transient/sailor_outputs_individual_barcodes_merged_scores_no_APO_filter/RBFOX2_transient_possorted_genome_bam_MD-AAACCCAAGGTGCTAG-1.fx.bed.annotated.exons.merged.txt',\n",
       "  '/home/bay001/projects/kris_apobec_20200121/permanent_data2/05_scRNA_RBFOX2_APO_transient/sailor_outputs_individual_barcodes_merged_scores_no_APO_filter/RBFOX2_transient_possorted_genome_bam_MD-AAACCCAAGTGCTCAT-1.fx.bed.annotated.exons.merged.txt'],\n",
       " ['/home/bay001/projects/kris_apobec_20200121/permanent_data2/05_scRNA_RBFOX2_APO_transient/sailor_outputs_individual_barcodes_merged_scores_no_APO_filter/APOBEC_transient_possorted_genome_bam_MD-AAACCCAAGAGAGGTA-1.fx.bed.annotated.exons.merged.txt',\n",
       "  '/home/bay001/projects/kris_apobec_20200121/permanent_data2/05_scRNA_RBFOX2_APO_transient/sailor_outputs_individual_barcodes_merged_scores_no_APO_filter/APOBEC_transient_possorted_genome_bam_MD-AAACCCAAGTGCTACT-1.fx.bed.annotated.exons.merged.txt',\n",
       "  '/home/bay001/projects/kris_apobec_20200121/permanent_data2/05_scRNA_RBFOX2_APO_transient/sailor_outputs_individual_barcodes_merged_scores_no_APO_filter/APOBEC_transient_possorted_genome_bam_MD-AAACCCACAGGCAATG-1.fx.bed.annotated.exons.merged.txt'])"
      ]
     },
     "execution_count": 3,
     "metadata": {},
     "output_type": "execute_result"
    }
   ],
   "source": [
    "all_rbfox2_scored = sorted(glob.glob(os.path.join(input_dir, 'RBFOX2*possorted_genome_bam_MD*.exons.merged.txt')))\n",
    "all_apobec_scored = sorted(glob.glob(os.path.join(input_dir, 'APOBEC*possorted_genome_bam_MD*.exons.merged.txt')))\n",
    "\n",
    "print(len(all_rbfox2_scored), len(all_apobec_scored))\n",
    "all_rbfox2_scored[:3], all_apobec_scored[:3]"
   ]
  },
  {
   "cell_type": "code",
   "execution_count": 4,
   "metadata": {},
   "outputs": [],
   "source": [
    "def format_name(fn):\n",
    "    return os.path.basename(fn).replace('.fx.bed.annotated.exons.merged.txt','')"
   ]
  },
  {
   "cell_type": "markdown",
   "metadata": {},
   "source": [
    "# What I'm doing below is merging groups at a time, and then merging the groups. If we merge by tiers, we speed things up quite a bit."
   ]
  },
  {
   "cell_type": "code",
   "execution_count": 5,
   "metadata": {},
   "outputs": [],
   "source": [
    "def chunker(seq, size):\n",
    "    \"\"\"\n",
    "    Chunks a long list into groups of (size).\n",
    "    \"\"\"\n",
    "    return (seq[pos:pos + size] for pos in range(0, len(seq), size))\n",
    "\n",
    "def merge_scores(all_scored, output_file, score):\n",
    "    all_merged = []\n",
    "    groupsize = 500 # Merge 500 scored files at a time. \n",
    "    progress = tnrange(len(all_scored))\n",
    "    for group in chunker(all_scored, groupsize):\n",
    "        merged = pd.DataFrame()\n",
    "        for scored in group:\n",
    "            df = pd.read_csv(scored, index_col=0, sep='\\t')[[score]]\n",
    "            df.columns = [format_name(scored)]\n",
    "            merged = pd.merge(merged, df, how='outer', left_index=True, right_index=True)\n",
    "            progress.update(1)\n",
    "        all_merged.append(merged)\n",
    "    print(len(all_merged))\n",
    "    \n",
    "    all_all_merged = pd.DataFrame()\n",
    "    progress = tnrange(len(all_merged))\n",
    "    for merged in all_merged:\n",
    "        all_all_merged = pd.merge(all_all_merged, merged, how='outer', left_index=True, right_index=True)\n",
    "        progress.update(1)\n",
    "        \n",
    "    all_all_merged.fillna(0, inplace=True)\n",
    "    all_all_merged.to_csv(output_file, sep='\\t', header=True, index=True)"
   ]
  },
  {
   "cell_type": "code",
   "execution_count": 6,
   "metadata": {},
   "outputs": [
    {
     "data": {
      "application/vnd.jupyter.widget-view+json": {
       "model_id": "c6cbbe615b5849f78d9bd03232860998",
       "version_major": 2,
       "version_minor": 0
      },
      "text/plain": [
       "HBox(children=(IntProgress(value=0, max=9169), HTML(value='')))"
      ]
     },
     "metadata": {},
     "output_type": "display_data"
    },
    {
     "name": "stdout",
     "output_type": "stream",
     "text": [
      "19\n"
     ]
    },
    {
     "data": {
      "application/vnd.jupyter.widget-view+json": {
       "model_id": "9382a044a207475691f762759c7113d0",
       "version_major": 2,
       "version_minor": 0
      },
      "text/plain": [
       "HBox(children=(IntProgress(value=0, max=19), HTML(value='')))"
      ]
     },
     "metadata": {},
     "output_type": "display_data"
    },
    {
     "data": {
      "application/vnd.jupyter.widget-view+json": {
       "model_id": "03ceb6093aca44fcb19c54b65f7e91e0",
       "version_major": 2,
       "version_minor": 0
      },
      "text/plain": [
       "HBox(children=(IntProgress(value=0, max=9293), HTML(value='')))"
      ]
     },
     "metadata": {},
     "output_type": "display_data"
    },
    {
     "name": "stdout",
     "output_type": "stream",
     "text": [
      "19\n"
     ]
    },
    {
     "data": {
      "application/vnd.jupyter.widget-view+json": {
       "model_id": "cd1b3bab17fc4e5fb56612c0ebc9fa25",
       "version_major": 2,
       "version_minor": 0
      },
      "text/plain": [
       "HBox(children=(IntProgress(value=0, max=19), HTML(value='')))"
      ]
     },
     "metadata": {},
     "output_type": "display_data"
    }
   ],
   "source": [
    "score = 'edited_over_all_c'\n",
    "merge_scores(\n",
    "    all_scored=all_rbfox2_scored,\n",
    "    output_file=os.path.join(output_dir, 'RBFOX2_transient_possorted_genome_bam_MD.exons.merged.{}.tsv'.format(score)),\n",
    "    score=score\n",
    ")\n",
    "merge_scores(\n",
    "    all_scored=all_apobec_scored,\n",
    "    output_file=os.path.join(output_dir, 'APOBEC_transient_possorted_genome_bam_MD.exons.merged.{}.tsv'.format(score)),\n",
    "    score=score\n",
    ")"
   ]
  },
  {
   "cell_type": "code",
   "execution_count": null,
   "metadata": {},
   "outputs": [],
   "source": []
  }
 ],
 "metadata": {
  "kernelspec": {
   "display_name": "python3-essential-tscc",
   "language": "python",
   "name": "python3essentialtscc"
  },
  "language_info": {
   "codemirror_mode": {
    "name": "ipython",
    "version": 3
   },
   "file_extension": ".py",
   "mimetype": "text/x-python",
   "name": "python",
   "nbconvert_exporter": "python",
   "pygments_lexer": "ipython3",
   "version": "3.6.7"
  }
 },
 "nbformat": 4,
 "nbformat_minor": 2
}
