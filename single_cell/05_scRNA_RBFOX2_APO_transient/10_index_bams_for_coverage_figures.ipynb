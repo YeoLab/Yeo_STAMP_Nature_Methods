{
 "cells": [
  {
   "cell_type": "markdown",
   "metadata": {},
   "source": [
    "# This notebook just indexes some individually-split barcodes from the 10X possorted bam file so Kris can view on IGV and get the coverage for figures."
   ]
  },
  {
   "cell_type": "code",
   "execution_count": 1,
   "metadata": {},
   "outputs": [],
   "source": [
    "import pandas as pd\n",
    "import glob\n",
    "import os"
   ]
  },
  {
   "cell_type": "code",
   "execution_count": 2,
   "metadata": {},
   "outputs": [],
   "source": [
    "input_file = '/home/bay001/projects/kris_apobec_20200121/permanent_data2/05_scRNA_RBFOX2_APO_transient/inputs/control_RBFOX2_HEK_NPC_top5_barcodes.csv'\n",
    "bam_file_dir = '/home/bay001/projects/kris_apobec_20200121/permanent_data2/05_scRNA_RBFOX2_APO_transient/bam_files/'\n",
    "output_dir = '/home/bay001/projects/kris_apobec_20200121/permanent_data2/05_scRNA_RBFOX2_APO_transient/bam_files_for_figures'"
   ]
  },
  {
   "cell_type": "code",
   "execution_count": 3,
   "metadata": {},
   "outputs": [
    {
     "data": {
      "text/html": [
       "<div>\n",
       "<style scoped>\n",
       "    .dataframe tbody tr th:only-of-type {\n",
       "        vertical-align: middle;\n",
       "    }\n",
       "\n",
       "    .dataframe tbody tr th {\n",
       "        vertical-align: top;\n",
       "    }\n",
       "\n",
       "    .dataframe thead th {\n",
       "        text-align: right;\n",
       "    }\n",
       "</style>\n",
       "<table border=\"1\" class=\"dataframe\">\n",
       "  <thead>\n",
       "    <tr style=\"text-align: right;\">\n",
       "      <th></th>\n",
       "      <th>control_HEK</th>\n",
       "      <th>control_NPC</th>\n",
       "      <th>Unnamed: 3</th>\n",
       "      <th>RBFOX2_HEK</th>\n",
       "      <th>Unnamed: 5</th>\n",
       "      <th>RBFOX2_NPC</th>\n",
       "    </tr>\n",
       "    <tr>\n",
       "      <th>rank</th>\n",
       "      <th></th>\n",
       "      <th></th>\n",
       "      <th></th>\n",
       "      <th></th>\n",
       "      <th></th>\n",
       "      <th></th>\n",
       "    </tr>\n",
       "  </thead>\n",
       "  <tbody>\n",
       "    <tr>\n",
       "      <th>1</th>\n",
       "      <td>ATCGTCCAGCAAGTGC-1</td>\n",
       "      <td>TTCCACGGTGACGCCT-1</td>\n",
       "      <td>NaN</td>\n",
       "      <td>GCACGTGAGAAGTATC-1</td>\n",
       "      <td>NaN</td>\n",
       "      <td>CATCAAGCAACTGCCG-1</td>\n",
       "    </tr>\n",
       "    <tr>\n",
       "      <th>2</th>\n",
       "      <td>GTGAGCCAGCAGCAGT-1</td>\n",
       "      <td>TCCGAAATCTCGACCT-1</td>\n",
       "      <td>NaN</td>\n",
       "      <td>AGTGCCGGTACGGCAA-1</td>\n",
       "      <td>NaN</td>\n",
       "      <td>CATGAGTGTGCATTTG-1</td>\n",
       "    </tr>\n",
       "    <tr>\n",
       "      <th>3</th>\n",
       "      <td>GAAGCCCCACAGCCTG-1</td>\n",
       "      <td>TTACGTTAGGTCATAA-1</td>\n",
       "      <td>NaN</td>\n",
       "      <td>CGATGCGTCCATATGG-1</td>\n",
       "      <td>NaN</td>\n",
       "      <td>GGTGGCTGTTAATGAG-1</td>\n",
       "    </tr>\n",
       "    <tr>\n",
       "      <th>4</th>\n",
       "      <td>GTGCACGTCCACACCT-1</td>\n",
       "      <td>CACGAATGTGTCATTG-1</td>\n",
       "      <td>NaN</td>\n",
       "      <td>GAGTTTGGTGGCTCTG-1</td>\n",
       "      <td>NaN</td>\n",
       "      <td>TAGCACAGTTGCCGCA-1</td>\n",
       "    </tr>\n",
       "    <tr>\n",
       "      <th>5</th>\n",
       "      <td>GTTCGCTCAAACTAAG-1</td>\n",
       "      <td>AGCATCACAGCGTGCT-1</td>\n",
       "      <td>NaN</td>\n",
       "      <td>TGGATCAGTGCATTAC-1</td>\n",
       "      <td>NaN</td>\n",
       "      <td>GGACGTCCAGGTAGTG-1</td>\n",
       "    </tr>\n",
       "  </tbody>\n",
       "</table>\n",
       "</div>"
      ],
      "text/plain": [
       "             control_HEK         control_NPC  Unnamed: 3          RBFOX2_HEK  \\\n",
       "rank                                                                           \n",
       "1     ATCGTCCAGCAAGTGC-1  TTCCACGGTGACGCCT-1         NaN  GCACGTGAGAAGTATC-1   \n",
       "2     GTGAGCCAGCAGCAGT-1  TCCGAAATCTCGACCT-1         NaN  AGTGCCGGTACGGCAA-1   \n",
       "3     GAAGCCCCACAGCCTG-1  TTACGTTAGGTCATAA-1         NaN  CGATGCGTCCATATGG-1   \n",
       "4     GTGCACGTCCACACCT-1  CACGAATGTGTCATTG-1         NaN  GAGTTTGGTGGCTCTG-1   \n",
       "5     GTTCGCTCAAACTAAG-1  AGCATCACAGCGTGCT-1         NaN  TGGATCAGTGCATTAC-1   \n",
       "\n",
       "      Unnamed: 5          RBFOX2_NPC  \n",
       "rank                                  \n",
       "1            NaN  CATCAAGCAACTGCCG-1  \n",
       "2            NaN  CATGAGTGTGCATTTG-1  \n",
       "3            NaN  GGTGGCTGTTAATGAG-1  \n",
       "4            NaN  TAGCACAGTTGCCGCA-1  \n",
       "5            NaN  GGACGTCCAGGTAGTG-1  "
      ]
     },
     "execution_count": 3,
     "metadata": {},
     "output_type": "execute_result"
    }
   ],
   "source": [
    "df = pd.read_csv(input_file, index_col=0)\n",
    "df"
   ]
  },
  {
   "cell_type": "code",
   "execution_count": 4,
   "metadata": {},
   "outputs": [],
   "source": [
    "def index_bam(row, bam_file_dir=bam_file_dir, output_dir=output_dir):\n",
    "    \n",
    "    for column in ['control_HEK', 'control_NPC']:\n",
    "        bam_file = os.path.join(bam_file_dir, 'APOBEC_transient_possorted_genome_bam_MD-{}.bam'.format(row[column]))\n",
    "        assert os.path.exists(bam_file)\n",
    "        \n",
    "        dest_bam_file = os.path.join(output_dir, os.path.basename(bam_file))\n",
    "        \n",
    "        ! cp $bam_file $dest_bam_file\n",
    "        ! samtools index $dest_bam_file\n",
    "    \n",
    "    for column in ['RBFOX2_HEK', 'RBFOX2_NPC']:\n",
    "        bam_file = os.path.join(bam_file_dir, 'RBFOX2_transient_possorted_genome_bam_MD-{}.bam'.format(row[column]))\n",
    "        assert os.path.exists(bam_file)\n",
    "        \n",
    "        dest_bam_file = os.path.join(output_dir, os.path.basename(bam_file))\n",
    "        \n",
    "        ! cp $bam_file $dest_bam_file\n",
    "        ! samtools index $dest_bam_file\n",
    "        \n",
    "    return 0\n"
   ]
  },
  {
   "cell_type": "code",
   "execution_count": 5,
   "metadata": {},
   "outputs": [
    {
     "data": {
      "text/plain": [
       "rank\n",
       "1    0\n",
       "2    0\n",
       "3    0\n",
       "4    0\n",
       "5    0\n",
       "dtype: int64"
      ]
     },
     "execution_count": 5,
     "metadata": {},
     "output_type": "execute_result"
    }
   ],
   "source": [
    "df.apply(index_bam, axis=1)"
   ]
  },
  {
   "cell_type": "code",
   "execution_count": null,
   "metadata": {},
   "outputs": [],
   "source": []
  }
 ],
 "metadata": {
  "kernelspec": {
   "display_name": "python3-essential-tscc",
   "language": "python",
   "name": "python3essentialtscc"
  },
  "language_info": {
   "codemirror_mode": {
    "name": "ipython",
    "version": 3
   },
   "file_extension": ".py",
   "mimetype": "text/x-python",
   "name": "python",
   "nbconvert_exporter": "python",
   "pygments_lexer": "ipython3",
   "version": "3.6.7"
  }
 },
 "nbformat": 4,
 "nbformat_minor": 2
}
