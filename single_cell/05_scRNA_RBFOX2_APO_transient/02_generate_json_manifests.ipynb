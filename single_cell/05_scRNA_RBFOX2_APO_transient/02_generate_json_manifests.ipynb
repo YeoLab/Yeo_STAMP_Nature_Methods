{
 "cells": [
  {
   "cell_type": "markdown",
   "metadata": {},
   "source": [
    "# Generates the JSON manifests that are used to run the SAILOR pipeline\n",
    "- Use sailor/1.1.0 so that we can capture C/T edits. The current released version only does A/G"
   ]
  },
  {
   "cell_type": "code",
   "execution_count": 1,
   "metadata": {},
   "outputs": [],
   "source": [
    "import yaml\n",
    "import os\n",
    "import pandas as pd\n",
    "import glob\n",
    "from qtools import Submitter\n",
    "from tqdm import tnrange, tqdm_notebook\n",
    "import time"
   ]
  },
  {
   "cell_type": "code",
   "execution_count": 2,
   "metadata": {},
   "outputs": [],
   "source": [
    "input_dir = '/home/bay001/projects/kris_apobec_20200121/permanent_data2/05_scRNA_RBFOX2_APO_transient/bam_files'\n",
    "output_dir = '/home/bay001/projects/kris_apobec_20200121/permanent_data2/05_scRNA_RBFOX2_APO_transient/tmp/sailor_outputs_individual_barcodes'\n",
    "\n",
    "ref_dir = '/home/bay001/projects/kris_apobec_20200121/permanent_data2/05_scRNA_RBFOX2_APO_transient/inputs'"
   ]
  },
  {
   "cell_type": "code",
   "execution_count": 3,
   "metadata": {},
   "outputs": [
    {
     "name": "stdout",
     "output_type": "stream",
     "text": [
      "19156\n"
     ]
    },
    {
     "data": {
      "text/plain": [
       "['/home/bay001/projects/kris_apobec_20200121/permanent_data2/05_scRNA_RBFOX2_APO_transient/bam_files/RBFOX2_transient_possorted_genome_bam_MD-CTTTCAACACTTTAGG-1.bam',\n",
       " '/home/bay001/projects/kris_apobec_20200121/permanent_data2/05_scRNA_RBFOX2_APO_transient/bam_files/RBFOX2_transient_possorted_genome_bam_MD-CCAATGAGTTCGGGTC-1.bam',\n",
       " '/home/bay001/projects/kris_apobec_20200121/permanent_data2/05_scRNA_RBFOX2_APO_transient/bam_files/RBFOX2_transient_possorted_genome_bam_MD-GTGATGTCAATGTTGC-1.bam']"
      ]
     },
     "execution_count": 3,
     "metadata": {},
     "output_type": "execute_result"
    }
   ],
   "source": [
    "### I'm re-running this notebook a few times on a few different groups of bam files\n",
    "bams = glob.glob(os.path.join(input_dir, '*-1.bam'))\n",
    "print(len(bams))\n",
    "bams[:3]"
   ]
  },
  {
   "cell_type": "code",
   "execution_count": 4,
   "metadata": {},
   "outputs": [],
   "source": [
    "for nt in ['A', 'C', 'G', 'T']:\n",
    "    for nt2 in ['A', 'C', 'G', 'T']:\n",
    "        if not os.path.exists(output_dir + '_{}{}'.format(nt, nt2)):\n",
    "            split_output = os.path.join(output_dir + '_{}{}'.format(nt, nt2))\n",
    "            ! mkdir $split_output"
   ]
  },
  {
   "cell_type": "markdown",
   "metadata": {},
   "source": [
    "# This block generates SAILOR json manifest runner files."
   ]
  },
  {
   "cell_type": "code",
   "execution_count": 5,
   "metadata": {},
   "outputs": [
    {
     "data": {
      "application/vnd.jupyter.widget-view+json": {
       "model_id": "7ce0a23ef31e4b83898e354ba921738b",
       "version_major": 2,
       "version_minor": 0
      },
      "text/plain": [
       "HBox(children=(IntProgress(value=0, max=19156), HTML(value=u'')))"
      ]
     },
     "metadata": {},
     "output_type": "display_data"
    }
   ],
   "source": [
    "def return_genome_file(fn):\n",
    "    if os.path.basename(fn)[:6] == 'RBFOX2':\n",
    "        return os.path.join(ref_dir, 'refdata-cellranger-hg19_APOBEC_RBFOX2_transient/fasta/genome.fa')\n",
    "    elif os.path.basename(fn)[:6] == 'APOBEC':\n",
    "        return os.path.join(ref_dir, 'refdata-cellranger-hg19_APOBEC_transient/fasta/genome.fa')\n",
    "    else:\n",
    "        print(\"{}\".format(os.path.basename(fn)))\n",
    "        return 1\n",
    "    \n",
    "skip_rmdup = \"true\"\n",
    "progress = tnrange(len(bams))\n",
    "for bam in bams:\n",
    "    genome_fa = return_genome_file(bam)\n",
    "    if genome_fa == 1:\n",
    "        break\n",
    "    prefix = os.path.basename(bam).split('_MD-')[1][:2]\n",
    "    split_output_dir = output_dir + \"_{}\".format(prefix)\n",
    "    \n",
    "    sample = {\"input_bam\": {\n",
    "        'class':'File',\n",
    "        'path':bam\n",
    "    }}\n",
    "    fa = {\"reference\": {\n",
    "        'class':'File',\n",
    "        'path':genome_fa\n",
    "    }}\n",
    "    known_snp = {\"known_snp\": {\n",
    "        'class':'File',\n",
    "        'path':os.path.join(ref_dir, 'hg19.commonSNPs147.bed3')\n",
    "    }}\n",
    "    with open(\n",
    "        os.path.join(\n",
    "            split_output_dir, '{}.json'.format(\n",
    "                os.path.basename(bam).split('.')[0]\n",
    "            )\n",
    "        ), 'w'\n",
    "    ) as o:\n",
    "        o.write(\"#!/usr/bin/env SAILOR\\n\")\n",
    "        yaml.dump(sample, o, default_flow_style=False)\n",
    "        yaml.dump(known_snp, o, default_flow_style=False)\n",
    "        yaml.dump(fa, o, default_flow_style=False)\n",
    "        o.write(\"ct: true\\n\")\n",
    "        o.write(\"min_variant_coverage: 5\\n\")\n",
    "        o.write(\"alpha: {}\\n\".format(0))\n",
    "        o.write(\"beta: {}\\n\".format(0))\n",
    "        o.write(\"edit_fraction: {}\\n\".format(0.01))\n",
    "        o.write(\"skip_duplicate_removal: {}\\n\".format(skip_rmdup))\n",
    "        o.write(\"reverse_stranded_library: false\\n\")\n",
    "    progress.update(1)"
   ]
  },
  {
   "cell_type": "markdown",
   "metadata": {},
   "source": [
    "# Grab all JSON files created from the above cell."
   ]
  },
  {
   "cell_type": "code",
   "execution_count": 6,
   "metadata": {},
   "outputs": [
    {
     "name": "stdout",
     "output_type": "stream",
     "text": [
      "19156\n"
     ]
    }
   ],
   "source": [
    "jsons = []\n",
    "for nt in ['A', 'C', 'G', 'T']:\n",
    "    for nt2 in ['A', 'C', 'G', 'T']:\n",
    "        split_output = os.path.join(output_dir + '_{}{}'.format(nt, nt2))\n",
    "        jsons += glob.glob(os.path.join(split_output, '*.json'))\n",
    "print(len(jsons))"
   ]
  },
  {
   "cell_type": "code",
   "execution_count": 7,
   "metadata": {},
   "outputs": [
    {
     "data": {
      "text/plain": [
       "['/home/bay001/projects/kris_apobec_20200121/permanent_data2/05_scRNA_RBFOX2_APO_transient/tmp/sailor_outputs_individual_barcodes_AA/RBFOX2_transient_possorted_genome_bam_MD-AATTCCTTCATTCATC-1.json',\n",
       " '/home/bay001/projects/kris_apobec_20200121/permanent_data2/05_scRNA_RBFOX2_APO_transient/tmp/sailor_outputs_individual_barcodes_AA/RBFOX2_transient_possorted_genome_bam_MD-AACCACAAGGCTTAAA-1.json',\n",
       " '/home/bay001/projects/kris_apobec_20200121/permanent_data2/05_scRNA_RBFOX2_APO_transient/tmp/sailor_outputs_individual_barcodes_AA/RBFOX2_transient_possorted_genome_bam_MD-AATTTCCCACTGTCGG-1.json']"
      ]
     },
     "execution_count": 7,
     "metadata": {},
     "output_type": "execute_result"
    }
   ],
   "source": [
    "jsons[:3]"
   ]
  },
  {
   "cell_type": "code",
   "execution_count": 8,
   "metadata": {},
   "outputs": [
    {
     "data": {
      "application/vnd.jupyter.widget-view+json": {
       "model_id": "d24f211073a444eb9f74498113d49edd",
       "version_major": 2,
       "version_minor": 0
      },
      "text/plain": [
       "HBox(children=(IntProgress(value=0, max=19156), HTML(value=u'')))"
      ]
     },
     "metadata": {},
     "output_type": "display_data"
    },
    {
     "data": {
      "text/plain": [
       "['module load sailor/1.1.0;cd /home/bay001/projects/kris_apobec_20200121/permanent_data2/05_scRNA_RBFOX2_APO_transient/tmp/sailor_outputs_individual_barcodes_AA;./RBFOX2_transient_possorted_genome_bam_MD-AATTCCTTCATTCATC-1.json;cd /home/bay001/projects/kris_apobec_20200121/permanent_data2/05_scRNA_RBFOX2_APO_transient/tmp/sailor_outputs_individual_barcodes_AA;./RBFOX2_transient_possorted_genome_bam_MD-AACCACAAGGCTTAAA-1.json;cd /home/bay001/projects/kris_apobec_20200121/permanent_data2/05_scRNA_RBFOX2_APO_transient/tmp/sailor_outputs_individual_barcodes_AA;./RBFOX2_transient_possorted_genome_bam_MD-AATTTCCCACTGTCGG-1.json;cd /home/bay001/projects/kris_apobec_20200121/permanent_data2/05_scRNA_RBFOX2_APO_transient/tmp/sailor_outputs_individual_barcodes_AA;./APOBEC_transient_possorted_genome_bam_MD-AAGACTCTCGTCGACG-1.json;cd /home/bay001/projects/kris_apobec_20200121/permanent_data2/05_scRNA_RBFOX2_APO_transient/tmp/sailor_outputs_individual_barcodes_AA;./APOBEC_transient_possorted_genome_bam_MD-AACAAGATCTGCTCTG-1.json;cd /home/bay001/projects/kris_apobec_20200121/permanent_data2/05_scRNA_RBFOX2_APO_transient/tmp/sailor_outputs_individual_barcodes_AA;./RBFOX2_transient_possorted_genome_bam_MD-AAACGCTCATATGGCT-1.json;cd /home/bay001/projects/kris_apobec_20200121/permanent_data2/05_scRNA_RBFOX2_APO_transient/tmp/sailor_outputs_individual_barcodes_AA;./RBFOX2_transient_possorted_genome_bam_MD-AAGTCGTTCACGAGGA-1.json;cd /home/bay001/projects/kris_apobec_20200121/permanent_data2/05_scRNA_RBFOX2_APO_transient/tmp/sailor_outputs_individual_barcodes_AA;./RBFOX2_transient_possorted_genome_bam_MD-AACAAAGAGGGCAGGA-1.json;cd /home/bay001/projects/kris_apobec_20200121/permanent_data2/05_scRNA_RBFOX2_APO_transient/tmp/sailor_outputs_individual_barcodes_AA;./APOBEC_transient_possorted_genome_bam_MD-AAAGTGACAAAGGGCT-1.json;cd /home/bay001/projects/kris_apobec_20200121/permanent_data2/05_scRNA_RBFOX2_APO_transient/tmp/sailor_outputs_individual_barcodes_AA;./RBFOX2_transient_possorted_genome_bam_MD-AATGGCTGTCAATGGG-1.json;cd /home/bay001/projects/kris_apobec_20200121/permanent_data2/05_scRNA_RBFOX2_APO_transient/tmp/sailor_outputs_individual_barcodes_AA;./RBFOX2_transient_possorted_genome_bam_MD-AAGCATCCATGGTGGA-1.json;cd /home/bay001/projects/kris_apobec_20200121/permanent_data2/05_scRNA_RBFOX2_APO_transient/tmp/sailor_outputs_individual_barcodes_AA;./RBFOX2_transient_possorted_genome_bam_MD-AAACCCATCCGATCGG-1.json;cd /home/bay001/projects/kris_apobec_20200121/permanent_data2/05_scRNA_RBFOX2_APO_transient/tmp/sailor_outputs_individual_barcodes_AA;./APOBEC_transient_possorted_genome_bam_MD-AACGTCAAGGATTTGA-1.json;cd /home/bay001/projects/kris_apobec_20200121/permanent_data2/05_scRNA_RBFOX2_APO_transient/tmp/sailor_outputs_individual_barcodes_AA;./APOBEC_transient_possorted_genome_bam_MD-AACAAAGTCTGGTCAA-1.json;cd /home/bay001/projects/kris_apobec_20200121/permanent_data2/05_scRNA_RBFOX2_APO_transient/tmp/sailor_outputs_individual_barcodes_AA;./APOBEC_transient_possorted_genome_bam_MD-AATAGAGCAGCAGACA-1.json;cd /home/bay001/projects/kris_apobec_20200121/permanent_data2/05_scRNA_RBFOX2_APO_transient/tmp/sailor_outputs_individual_barcodes_AA;./APOBEC_transient_possorted_genome_bam_MD-AAAGAACAGGGTAGCT-1.json;cd /home/bay001/projects/kris_apobec_20200121/permanent_data2/05_scRNA_RBFOX2_APO_transient/tmp/sailor_outputs_individual_barcodes_AA;./APOBEC_transient_possorted_genome_bam_MD-AAGTTCGAGATAGCTA-1.json;cd /home/bay001/projects/kris_apobec_20200121/permanent_data2/05_scRNA_RBFOX2_APO_transient/tmp/sailor_outputs_individual_barcodes_AA;./RBFOX2_transient_possorted_genome_bam_MD-AATGAAGAGGACTATA-1.json;cd /home/bay001/projects/kris_apobec_20200121/permanent_data2/05_scRNA_RBFOX2_APO_transient/tmp/sailor_outputs_individual_barcodes_AA;./APOBEC_transient_possorted_genome_bam_MD-AAAGGTAAGGTTGGTG-1.json;cd /home/bay001/projects/kris_apobec_20200121/permanent_data2/05_scRNA_RBFOX2_APO_transient/tmp/sailor_outputs_individual_barcodes_AA;./APOBEC_transient_possorted_genome_bam_MD-AAGTGAACAATCTCTT-1.json;cd /home/bay001/projects/kris_apobec_20200121/permanent_data2/05_scRNA_RBFOX2_APO_transient/tmp/sailor_outputs_individual_barcodes_AA;./APOBEC_transient_possorted_genome_bam_MD-AATGAAGAGGCCTTGC-1.json;cd /home/bay001/projects/kris_apobec_20200121/permanent_data2/05_scRNA_RBFOX2_APO_transient/tmp/sailor_outputs_individual_barcodes_AA;./APOBEC_transient_possorted_genome_bam_MD-AACCAACGTAACGTTC-1.json;cd /home/bay001/projects/kris_apobec_20200121/permanent_data2/05_scRNA_RBFOX2_APO_transient/tmp/sailor_outputs_individual_barcodes_AA;./APOBEC_transient_possorted_genome_bam_MD-AATTCCTCAAGCCCAC-1.json;cd /home/bay001/projects/kris_apobec_20200121/permanent_data2/05_scRNA_RBFOX2_APO_transient/tmp/sailor_outputs_individual_barcodes_AA;./RBFOX2_transient_possorted_genome_bam_MD-AATGAAGTCAGAGTGG-1.json;cd /home/bay001/projects/kris_apobec_20200121/permanent_data2/05_scRNA_RBFOX2_APO_transient/tmp/sailor_outputs_individual_barcodes_AA;./RBFOX2_transient_possorted_genome_bam_MD-AACCATGCAAACTCGT-1.json;cd /home/bay001/projects/kris_apobec_20200121/permanent_data2/05_scRNA_RBFOX2_APO_transient/tmp/sailor_outputs_individual_barcodes_AA;./APOBEC_transient_possorted_genome_bam_MD-AAGCGTTGTAGAGACC-1.json;cd /home/bay001/projects/kris_apobec_20200121/permanent_data2/05_scRNA_RBFOX2_APO_transient/tmp/sailor_outputs_individual_barcodes_AA;./APOBEC_transient_possorted_genome_bam_MD-AACAAAGAGTGATAGT-1.json;cd /home/bay001/projects/kris_apobec_20200121/permanent_data2/05_scRNA_RBFOX2_APO_transient/tmp/sailor_outputs_individual_barcodes_AA;./APOBEC_transient_possorted_genome_bam_MD-AACCAACAGCCTTTCC-1.json;cd /home/bay001/projects/kris_apobec_20200121/permanent_data2/05_scRNA_RBFOX2_APO_transient/tmp/sailor_outputs_individual_barcodes_AA;./RBFOX2_transient_possorted_genome_bam_MD-AATCGACCATCGTGCG-1.json;cd /home/bay001/projects/kris_apobec_20200121/permanent_data2/05_scRNA_RBFOX2_APO_transient/tmp/sailor_outputs_individual_barcodes_AA;./RBFOX2_transient_possorted_genome_bam_MD-AAAGAACGTCCTCATC-1.json;cd /home/bay001/projects/kris_apobec_20200121/permanent_data2/05_scRNA_RBFOX2_APO_transient/tmp/sailor_outputs_individual_barcodes_AA;./RBFOX2_transient_possorted_genome_bam_MD-AACCATGAGCGGGTAT-1.json;cd /home/bay001/projects/kris_apobec_20200121/permanent_data2/05_scRNA_RBFOX2_APO_transient/tmp/sailor_outputs_individual_barcodes_AA;./APOBEC_transient_possorted_genome_bam_MD-AACAAGAAGTCTGGTT-1.json;cd /home/bay001/projects/kris_apobec_20200121/permanent_data2/05_scRNA_RBFOX2_APO_transient/tmp/sailor_outputs_individual_barcodes_AA;./RBFOX2_transient_possorted_genome_bam_MD-AAACGAATCCGCAGTG-1.json;cd /home/bay001/projects/kris_apobec_20200121/permanent_data2/05_scRNA_RBFOX2_APO_transient/tmp/sailor_outputs_individual_barcodes_AA;./APOBEC_transient_possorted_genome_bam_MD-AATGGAAGTACGATCT-1.json;cd /home/bay001/projects/kris_apobec_20200121/permanent_data2/05_scRNA_RBFOX2_APO_transient/tmp/sailor_outputs_individual_barcodes_AA;./RBFOX2_transient_possorted_genome_bam_MD-AACGTCAGTTATGACC-1.json;cd /home/bay001/projects/kris_apobec_20200121/permanent_data2/05_scRNA_RBFOX2_APO_transient/tmp/sailor_outputs_individual_barcodes_AA;./RBFOX2_transient_possorted_genome_bam_MD-AACAGGGCATATGAAG-1.json;cd /home/bay001/projects/kris_apobec_20200121/permanent_data2/05_scRNA_RBFOX2_APO_transient/tmp/sailor_outputs_individual_barcodes_AA;./RBFOX2_transient_possorted_genome_bam_MD-AAACGAACAGACGGAT-1.json;cd /home/bay001/projects/kris_apobec_20200121/permanent_data2/05_scRNA_RBFOX2_APO_transient/tmp/sailor_outputs_individual_barcodes_AA;./RBFOX2_transient_possorted_genome_bam_MD-AACGAAAGTCGTTATG-1.json;cd /home/bay001/projects/kris_apobec_20200121/permanent_data2/05_scRNA_RBFOX2_APO_transient/tmp/sailor_outputs_individual_barcodes_AA;./APOBEC_transient_possorted_genome_bam_MD-AAACGCTCATTGAGGG-1.json;cd /home/bay001/projects/kris_apobec_20200121/permanent_data2/05_scRNA_RBFOX2_APO_transient/tmp/sailor_outputs_individual_barcodes_AA;./RBFOX2_transient_possorted_genome_bam_MD-AACAAAGCATGCAGGA-1.json;cd /home/bay001/projects/kris_apobec_20200121/permanent_data2/05_scRNA_RBFOX2_APO_transient/tmp/sailor_outputs_individual_barcodes_AA;./RBFOX2_transient_possorted_genome_bam_MD-AACAGGGAGGCTCCCA-1.json;cd /home/bay001/projects/kris_apobec_20200121/permanent_data2/05_scRNA_RBFOX2_APO_transient/tmp/sailor_outputs_individual_barcodes_AA;./RBFOX2_transient_possorted_genome_bam_MD-AAGCGAGCAGTCTACA-1.json;cd /home/bay001/projects/kris_apobec_20200121/permanent_data2/05_scRNA_RBFOX2_APO_transient/tmp/sailor_outputs_individual_barcodes_AA;./RBFOX2_transient_possorted_genome_bam_MD-AATTCCTGTAGTCTGT-1.json;cd /home/bay001/projects/kris_apobec_20200121/permanent_data2/05_scRNA_RBFOX2_APO_transient/tmp/sailor_outputs_individual_barcodes_AA;./RBFOX2_transient_possorted_genome_bam_MD-AAAGGTAGTGCTCTTC-1.json;cd /home/bay001/projects/kris_apobec_20200121/permanent_data2/05_scRNA_RBFOX2_APO_transient/tmp/sailor_outputs_individual_barcodes_AA;./RBFOX2_transient_possorted_genome_bam_MD-AATAGAGCAACAACAA-1.json;cd /home/bay001/projects/kris_apobec_20200121/permanent_data2/05_scRNA_RBFOX2_APO_transient/tmp/sailor_outputs_individual_barcodes_AA;./APOBEC_transient_possorted_genome_bam_MD-AAAGGGCCAGCGAGTA-1.json;cd /home/bay001/projects/kris_apobec_20200121/permanent_data2/05_scRNA_RBFOX2_APO_transient/tmp/sailor_outputs_individual_barcodes_AA;./RBFOX2_transient_possorted_genome_bam_MD-AAGCCATAGGGCCAAT-1.json;cd /home/bay001/projects/kris_apobec_20200121/permanent_data2/05_scRNA_RBFOX2_APO_transient/tmp/sailor_outputs_individual_barcodes_AA;./APOBEC_transient_possorted_genome_bam_MD-AATTCCTGTTGACTGT-1.json;cd /home/bay001/projects/kris_apobec_20200121/permanent_data2/05_scRNA_RBFOX2_APO_transient/tmp/sailor_outputs_individual_barcodes_AA;./RBFOX2_transient_possorted_genome_bam_MD-AAGTGAACAGGCCTGT-1.json;cd /home/bay001/projects/kris_apobec_20200121/permanent_data2/05_scRNA_RBFOX2_APO_transient/tmp/sailor_outputs_individual_barcodes_AA;./RBFOX2_transient_possorted_genome_bam_MD-AAAGGATTCCAGCCTT-1.json;',\n",
       " 'module load sailor/1.1.0;cd /home/bay001/projects/kris_apobec_20200121/permanent_data2/05_scRNA_RBFOX2_APO_transient/tmp/sailor_outputs_individual_barcodes_AA;./APOBEC_transient_possorted_genome_bam_MD-AACCATGTCCACCCTA-1.json;cd /home/bay001/projects/kris_apobec_20200121/permanent_data2/05_scRNA_RBFOX2_APO_transient/tmp/sailor_outputs_individual_barcodes_AA;./APOBEC_transient_possorted_genome_bam_MD-AAACGAACACAGTCCG-1.json;cd /home/bay001/projects/kris_apobec_20200121/permanent_data2/05_scRNA_RBFOX2_APO_transient/tmp/sailor_outputs_individual_barcodes_AA;./APOBEC_transient_possorted_genome_bam_MD-AAGTGAAAGAGCCCAA-1.json;cd /home/bay001/projects/kris_apobec_20200121/permanent_data2/05_scRNA_RBFOX2_APO_transient/tmp/sailor_outputs_individual_barcodes_AA;./RBFOX2_transient_possorted_genome_bam_MD-AACAACCAGGTATCTC-1.json;cd /home/bay001/projects/kris_apobec_20200121/permanent_data2/05_scRNA_RBFOX2_APO_transient/tmp/sailor_outputs_individual_barcodes_AA;./RBFOX2_transient_possorted_genome_bam_MD-AAGCATCCACGGCTAC-1.json;cd /home/bay001/projects/kris_apobec_20200121/permanent_data2/05_scRNA_RBFOX2_APO_transient/tmp/sailor_outputs_individual_barcodes_AA;./APOBEC_transient_possorted_genome_bam_MD-AACAAAGAGCTTCATG-1.json;cd /home/bay001/projects/kris_apobec_20200121/permanent_data2/05_scRNA_RBFOX2_APO_transient/tmp/sailor_outputs_individual_barcodes_AA;./RBFOX2_transient_possorted_genome_bam_MD-AAAGGGCTCCGGACGT-1.json;cd /home/bay001/projects/kris_apobec_20200121/permanent_data2/05_scRNA_RBFOX2_APO_transient/tmp/sailor_outputs_individual_barcodes_AA;./APOBEC_transient_possorted_genome_bam_MD-AAAGGGCCAGCCTTCT-1.json;cd /home/bay001/projects/kris_apobec_20200121/permanent_data2/05_scRNA_RBFOX2_APO_transient/tmp/sailor_outputs_individual_barcodes_AA;./RBFOX2_transient_possorted_genome_bam_MD-AAGGAATGTACTCCCT-1.json;cd /home/bay001/projects/kris_apobec_20200121/permanent_data2/05_scRNA_RBFOX2_APO_transient/tmp/sailor_outputs_individual_barcodes_AA;./APOBEC_transient_possorted_genome_bam_MD-AATGGAATCGTAGCTA-1.json;cd /home/bay001/projects/kris_apobec_20200121/permanent_data2/05_scRNA_RBFOX2_APO_transient/tmp/sailor_outputs_individual_barcodes_AA;./APOBEC_transient_possorted_genome_bam_MD-AACGAAAGTGGGTTGA-1.json;cd /home/bay001/projects/kris_apobec_20200121/permanent_data2/05_scRNA_RBFOX2_APO_transient/tmp/sailor_outputs_individual_barcodes_AA;./APOBEC_transient_possorted_genome_bam_MD-AACCAACAGGGCAGTT-1.json;cd /home/bay001/projects/kris_apobec_20200121/permanent_data2/05_scRNA_RBFOX2_APO_transient/tmp/sailor_outputs_individual_barcodes_AA;./RBFOX2_transient_possorted_genome_bam_MD-AAAGTGAGTGGGCTTC-1.json;cd /home/bay001/projects/kris_apobec_20200121/permanent_data2/05_scRNA_RBFOX2_APO_transient/tmp/sailor_outputs_individual_barcodes_AA;./RBFOX2_transient_possorted_genome_bam_MD-AACCTGATCGGCAGTC-1.json;cd /home/bay001/projects/kris_apobec_20200121/permanent_data2/05_scRNA_RBFOX2_APO_transient/tmp/sailor_outputs_individual_barcodes_AA;./RBFOX2_transient_possorted_genome_bam_MD-AAGGAATAGGATGTTA-1.json;cd /home/bay001/projects/kris_apobec_20200121/permanent_data2/05_scRNA_RBFOX2_APO_transient/tmp/sailor_outputs_individual_barcodes_AA;./APOBEC_transient_possorted_genome_bam_MD-AATCGACCATGCACTA-1.json;cd /home/bay001/projects/kris_apobec_20200121/permanent_data2/05_scRNA_RBFOX2_APO_transient/tmp/sailor_outputs_individual_barcodes_AA;./APOBEC_transient_possorted_genome_bam_MD-AAGATAGCAGCCCACA-1.json;cd /home/bay001/projects/kris_apobec_20200121/permanent_data2/05_scRNA_RBFOX2_APO_transient/tmp/sailor_outputs_individual_barcodes_AA;./RBFOX2_transient_possorted_genome_bam_MD-AATAGAGTCCGATCGG-1.json;cd /home/bay001/projects/kris_apobec_20200121/permanent_data2/05_scRNA_RBFOX2_APO_transient/tmp/sailor_outputs_individual_barcodes_AA;./APOBEC_transient_possorted_genome_bam_MD-AAAGTCCCAGTAACGG-1.json;cd /home/bay001/projects/kris_apobec_20200121/permanent_data2/05_scRNA_RBFOX2_APO_transient/tmp/sailor_outputs_individual_barcodes_AA;./RBFOX2_transient_possorted_genome_bam_MD-AATCACGCAATGGGTG-1.json;cd /home/bay001/projects/kris_apobec_20200121/permanent_data2/05_scRNA_RBFOX2_APO_transient/tmp/sailor_outputs_individual_barcodes_AA;./RBFOX2_transient_possorted_genome_bam_MD-AAGCCATCATGTAACC-1.json;cd /home/bay001/projects/kris_apobec_20200121/permanent_data2/05_scRNA_RBFOX2_APO_transient/tmp/sailor_outputs_individual_barcodes_AA;./APOBEC_transient_possorted_genome_bam_MD-AAAGAACAGGAGGTTC-1.json;cd /home/bay001/projects/kris_apobec_20200121/permanent_data2/05_scRNA_RBFOX2_APO_transient/tmp/sailor_outputs_individual_barcodes_AA;./RBFOX2_transient_possorted_genome_bam_MD-AATAGAGTCATCACAG-1.json;cd /home/bay001/projects/kris_apobec_20200121/permanent_data2/05_scRNA_RBFOX2_APO_transient/tmp/sailor_outputs_individual_barcodes_AA;./APOBEC_transient_possorted_genome_bam_MD-AAAGTCCTCAGGTGTT-1.json;cd /home/bay001/projects/kris_apobec_20200121/permanent_data2/05_scRNA_RBFOX2_APO_transient/tmp/sailor_outputs_individual_barcodes_AA;./RBFOX2_transient_possorted_genome_bam_MD-AAGCGTTGTCGAAACG-1.json;cd /home/bay001/projects/kris_apobec_20200121/permanent_data2/05_scRNA_RBFOX2_APO_transient/tmp/sailor_outputs_individual_barcodes_AA;./APOBEC_transient_possorted_genome_bam_MD-AAGCGAGGTGCTGCAC-1.json;cd /home/bay001/projects/kris_apobec_20200121/permanent_data2/05_scRNA_RBFOX2_APO_transient/tmp/sailor_outputs_individual_barcodes_AA;./APOBEC_transient_possorted_genome_bam_MD-AATGGCTAGTCTAGCT-1.json;cd /home/bay001/projects/kris_apobec_20200121/permanent_data2/05_scRNA_RBFOX2_APO_transient/tmp/sailor_outputs_individual_barcodes_AA;./RBFOX2_transient_possorted_genome_bam_MD-AAAGGATAGGTGGGTT-1.json;cd /home/bay001/projects/kris_apobec_20200121/permanent_data2/05_scRNA_RBFOX2_APO_transient/tmp/sailor_outputs_individual_barcodes_AA;./APOBEC_transient_possorted_genome_bam_MD-AATAGAGCACAGCTGC-1.json;cd /home/bay001/projects/kris_apobec_20200121/permanent_data2/05_scRNA_RBFOX2_APO_transient/tmp/sailor_outputs_individual_barcodes_AA;./APOBEC_transient_possorted_genome_bam_MD-AAAGAACAGCCGATAG-1.json;cd /home/bay001/projects/kris_apobec_20200121/permanent_data2/05_scRNA_RBFOX2_APO_transient/tmp/sailor_outputs_individual_barcodes_AA;./APOBEC_transient_possorted_genome_bam_MD-AACCTGACAAACACCT-1.json;cd /home/bay001/projects/kris_apobec_20200121/permanent_data2/05_scRNA_RBFOX2_APO_transient/tmp/sailor_outputs_individual_barcodes_AA;./RBFOX2_transient_possorted_genome_bam_MD-AATCGACCACCCTAGG-1.json;cd /home/bay001/projects/kris_apobec_20200121/permanent_data2/05_scRNA_RBFOX2_APO_transient/tmp/sailor_outputs_individual_barcodes_AA;./APOBEC_transient_possorted_genome_bam_MD-AACAAAGCACAAATGA-1.json;cd /home/bay001/projects/kris_apobec_20200121/permanent_data2/05_scRNA_RBFOX2_APO_transient/tmp/sailor_outputs_individual_barcodes_AA;./APOBEC_transient_possorted_genome_bam_MD-AAACGAAAGCGATCGA-1.json;cd /home/bay001/projects/kris_apobec_20200121/permanent_data2/05_scRNA_RBFOX2_APO_transient/tmp/sailor_outputs_individual_barcodes_AA;./APOBEC_transient_possorted_genome_bam_MD-AAGCCATCATGACTCA-1.json;cd /home/bay001/projects/kris_apobec_20200121/permanent_data2/05_scRNA_RBFOX2_APO_transient/tmp/sailor_outputs_individual_barcodes_AA;./APOBEC_transient_possorted_genome_bam_MD-AAGGTAATCTCTCGCA-1.json;cd /home/bay001/projects/kris_apobec_20200121/permanent_data2/05_scRNA_RBFOX2_APO_transient/tmp/sailor_outputs_individual_barcodes_AA;./RBFOX2_transient_possorted_genome_bam_MD-AATGGAATCAGTCATG-1.json;cd /home/bay001/projects/kris_apobec_20200121/permanent_data2/05_scRNA_RBFOX2_APO_transient/tmp/sailor_outputs_individual_barcodes_AA;./APOBEC_transient_possorted_genome_bam_MD-AAGTTCGCACAGAGCA-1.json;cd /home/bay001/projects/kris_apobec_20200121/permanent_data2/05_scRNA_RBFOX2_APO_transient/tmp/sailor_outputs_individual_barcodes_AA;./RBFOX2_transient_possorted_genome_bam_MD-AACCCAACACGCAAAG-1.json;cd /home/bay001/projects/kris_apobec_20200121/permanent_data2/05_scRNA_RBFOX2_APO_transient/tmp/sailor_outputs_individual_barcodes_AA;./RBFOX2_transient_possorted_genome_bam_MD-AATCGTGGTTGGGAAC-1.json;cd /home/bay001/projects/kris_apobec_20200121/permanent_data2/05_scRNA_RBFOX2_APO_transient/tmp/sailor_outputs_individual_barcodes_AA;./RBFOX2_transient_possorted_genome_bam_MD-AACCTTTTCTTAAGGC-1.json;cd /home/bay001/projects/kris_apobec_20200121/permanent_data2/05_scRNA_RBFOX2_APO_transient/tmp/sailor_outputs_individual_barcodes_AA;./RBFOX2_transient_possorted_genome_bam_MD-AATTCCTGTGTACAGG-1.json;cd /home/bay001/projects/kris_apobec_20200121/permanent_data2/05_scRNA_RBFOX2_APO_transient/tmp/sailor_outputs_individual_barcodes_AA;./RBFOX2_transient_possorted_genome_bam_MD-AAGGTAATCCACCCTA-1.json;cd /home/bay001/projects/kris_apobec_20200121/permanent_data2/05_scRNA_RBFOX2_APO_transient/tmp/sailor_outputs_individual_barcodes_AA;./APOBEC_transient_possorted_genome_bam_MD-AAACGCTAGCGACTGA-1.json;cd /home/bay001/projects/kris_apobec_20200121/permanent_data2/05_scRNA_RBFOX2_APO_transient/tmp/sailor_outputs_individual_barcodes_AA;./RBFOX2_transient_possorted_genome_bam_MD-AAATGGAGTGTACGCC-1.json;cd /home/bay001/projects/kris_apobec_20200121/permanent_data2/05_scRNA_RBFOX2_APO_transient/tmp/sailor_outputs_individual_barcodes_AA;./APOBEC_transient_possorted_genome_bam_MD-AACTTCTTCATCGCCT-1.json;cd /home/bay001/projects/kris_apobec_20200121/permanent_data2/05_scRNA_RBFOX2_APO_transient/tmp/sailor_outputs_individual_barcodes_AA;./APOBEC_transient_possorted_genome_bam_MD-AAAGGGCGTAAGTTAG-1.json;cd /home/bay001/projects/kris_apobec_20200121/permanent_data2/05_scRNA_RBFOX2_APO_transient/tmp/sailor_outputs_individual_barcodes_AA;./APOBEC_transient_possorted_genome_bam_MD-AATGAAGGTGTCCAAT-1.json;cd /home/bay001/projects/kris_apobec_20200121/permanent_data2/05_scRNA_RBFOX2_APO_transient/tmp/sailor_outputs_individual_barcodes_AA;./APOBEC_transient_possorted_genome_bam_MD-AAGTTCGAGGTAACTA-1.json;cd /home/bay001/projects/kris_apobec_20200121/permanent_data2/05_scRNA_RBFOX2_APO_transient/tmp/sailor_outputs_individual_barcodes_AA;./RBFOX2_transient_possorted_genome_bam_MD-AACCCAATCACTAGCA-1.json;']"
      ]
     },
     "execution_count": 8,
     "metadata": {},
     "output_type": "execute_result"
    }
   ],
   "source": [
    "cmds = []\n",
    "\n",
    "def chunker(seq, size):\n",
    "    \"\"\"\n",
    "    Chunks a long list into groups of (size).\n",
    "    \"\"\"\n",
    "    return (seq[pos:pos + size] for pos in range(0, len(seq), size))\n",
    "\n",
    "groupsize = 50 # 50 sailor runs per job.\n",
    "progress = tnrange(len(jsons))\n",
    "for json_group in chunker(jsons, groupsize):\n",
    "    cmd = 'module load sailor/1.1.0;'\n",
    "    for json in json_group:\n",
    "        prefix = os.path.basename(json).split('_MD-')[1][:2]\n",
    "        split_output_dir = output_dir + \"_{}\".format(prefix)\n",
    "        ! chmod +x $json\n",
    "        cmd += 'cd {};'.format(split_output_dir)\n",
    "        cmd += './{};'.format(os.path.basename(json))\n",
    "        progress.update(1)\n",
    "    cmds.append(cmd)\n",
    "cmds[:2]"
   ]
  },
  {
   "cell_type": "code",
   "execution_count": 9,
   "metadata": {},
   "outputs": [
    {
     "name": "stdout",
     "output_type": "stream",
     "text": [
      "total commands: 384\n"
     ]
    }
   ],
   "source": [
    "print(\"total commands: {}\".format(len(cmds)))"
   ]
  },
  {
   "cell_type": "code",
   "execution_count": 10,
   "metadata": {},
   "outputs": [
    {
     "name": "stderr",
     "output_type": "stream",
     "text": [
      "Writing 384 tasks as an array-job.\n",
      "Wrote commands to scRNA-sailor-individual.sh.\n",
      "Submitted script to queue home.\n",
      " Job ID: 21376044\n"
     ]
    },
    {
     "data": {
      "text/plain": [
       "<qtools.submitter.Submitter at 0x2b2e79dee7d0>"
      ]
     },
     "execution_count": 10,
     "metadata": {},
     "output_type": "execute_result"
    }
   ],
   "source": [
    "Submitter(\n",
    "    commands=cmds,\n",
    "    job_name='scRNA-sailor-individual',\n",
    "    sh='scRNA-sailor-individual.sh',\n",
    "    array=True,\n",
    "    nodes=1,\n",
    "    ppn=1,\n",
    "    walltime='72:00:00',\n",
    "    submit=True,\n",
    ")"
   ]
  },
  {
   "cell_type": "code",
   "execution_count": null,
   "metadata": {},
   "outputs": [],
   "source": []
  }
 ],
 "metadata": {
  "kernelspec": {
   "display_name": "python2-essential",
   "language": "python",
   "name": "python2-essential"
  },
  "language_info": {
   "codemirror_mode": {
    "name": "ipython",
    "version": 2
   },
   "file_extension": ".py",
   "mimetype": "text/x-python",
   "name": "python",
   "nbconvert_exporter": "python",
   "pygments_lexer": "ipython2",
   "version": "2.7.15"
  }
 },
 "nbformat": 4,
 "nbformat_minor": 2
}
