{
 "cells": [
  {
   "cell_type": "markdown",
   "metadata": {},
   "source": [
    "# We need bigwig files for fast access to coverage (used by the score_edits_* scripts)"
   ]
  },
  {
   "cell_type": "code",
   "execution_count": 1,
   "metadata": {},
   "outputs": [],
   "source": [
    "import glob\n",
    "import os\n",
    "from qtools import Submitter\n",
    "from tqdm import tnrange, tqdm_notebook"
   ]
  },
  {
   "cell_type": "code",
   "execution_count": 2,
   "metadata": {},
   "outputs": [],
   "source": [
    "input_prefix_dir = '/home/bay001/projects/kris_apobec_20200121/permanent_data2/03_scRNA/sailor_outputs_individual_barcodes_'\n",
    "output_dir = '/home/bay001/projects/kris_apobec_20200121/permanent_data2/03_scRNA/bigwig_files/'"
   ]
  },
  {
   "cell_type": "code",
   "execution_count": 3,
   "metadata": {},
   "outputs": [],
   "source": [
    "chrom_sizes_file = '/home/bay001/projects/kris_apobec_20200121/permanent_data2/03_scRNA/inputs/refdata-cellranger-hg19_lenti_common-3.0.0/star/chrNameLength.txt'\n",
    "cmds = []"
   ]
  },
  {
   "cell_type": "markdown",
   "metadata": {},
   "source": [
    "# Again look at each directory, find all fwd bam files, and convert to fwd bigwigs\n",
    "- There are three steps involved. \n",
    "    - convert BAM files into BEDGRAPH files\n",
    "    - sort BEDGRAPH files\n",
    "    - convert BEDGRAPH to binary BIGWIG format. \n",
    "    \n",
    "# NOTE: since 10X datasets are forward stranded, use ```-strand +``` for fwd and ```-strand -``` for rev in our ```bedtools genomecov``` command."
   ]
  },
  {
   "cell_type": "code",
   "execution_count": 4,
   "metadata": {},
   "outputs": [
    {
     "data": {
      "application/vnd.jupyter.widget-view+json": {
       "model_id": "11d3b6c16cac4b469453ff7c7e7abd96",
       "version_major": 2,
       "version_minor": 0
      },
      "text/plain": [
       "HBox(children=(IntProgress(value=0, max=16), HTML(value=u'')))"
      ]
     },
     "metadata": {},
     "output_type": "display_data"
    },
    {
     "data": {
      "application/vnd.jupyter.widget-view+json": {
       "model_id": "",
       "version_major": 2,
       "version_minor": 0
      },
      "text/plain": [
       "SEJveChjaGlsZHJlbj0oSW50UHJvZ3Jlc3ModmFsdWU9MCwgZGVzY3JpcHRpb249dScxMDEyOkE6QScsIG1heD0xMDEyLCBzdHlsZT1Qcm9ncmVzc1N0eWxlKGRlc2NyaXB0aW9uX3dpZHRoPXXigKY=\n"
      ]
     },
     "metadata": {},
     "output_type": "display_data"
    },
    {
     "data": {
      "application/vnd.jupyter.widget-view+json": {
       "model_id": "2442f24ca8a245eda7ca197b89dff75a",
       "version_major": 2,
       "version_minor": 0
      },
      "text/plain": [
       "SEJveChjaGlsZHJlbj0oSW50UHJvZ3Jlc3ModmFsdWU9MCwgZGVzY3JpcHRpb249dScxMDgwOkE6QycsIG1heD0xMDgwLCBzdHlsZT1Qcm9ncmVzc1N0eWxlKGRlc2NyaXB0aW9uX3dpZHRoPXXigKY=\n"
      ]
     },
     "metadata": {},
     "output_type": "display_data"
    },
    {
     "data": {
      "application/vnd.jupyter.widget-view+json": {
       "model_id": "f41a7492c2744491ade741a7ab340592",
       "version_major": 2,
       "version_minor": 0
      },
      "text/plain": [
       "SEJveChjaGlsZHJlbj0oSW50UHJvZ3Jlc3ModmFsdWU9MCwgZGVzY3JpcHRpb249dScxNDQ2OkE6RycsIG1heD0xNDQ2LCBzdHlsZT1Qcm9ncmVzc1N0eWxlKGRlc2NyaXB0aW9uX3dpZHRoPXXigKY=\n"
      ]
     },
     "metadata": {},
     "output_type": "display_data"
    },
    {
     "data": {
      "application/vnd.jupyter.widget-view+json": {
       "model_id": "cc83f1e74c7a4894a005613abf3efd64",
       "version_major": 2,
       "version_minor": 0
      },
      "text/plain": [
       "SEJveChjaGlsZHJlbj0oSW50UHJvZ3Jlc3ModmFsdWU9MCwgZGVzY3JpcHRpb249dScxMjIyOkE6VCcsIG1heD0xMjIyLCBzdHlsZT1Qcm9ncmVzc1N0eWxlKGRlc2NyaXB0aW9uX3dpZHRoPXXigKY=\n"
      ]
     },
     "metadata": {},
     "output_type": "display_data"
    },
    {
     "data": {
      "application/vnd.jupyter.widget-view+json": {
       "model_id": "b22b75e9ab9e4539b4dc1344b1219352",
       "version_major": 2,
       "version_minor": 0
      },
      "text/plain": [
       "SEJveChjaGlsZHJlbj0oSW50UHJvZ3Jlc3ModmFsdWU9MCwgZGVzY3JpcHRpb249dScxNDk2OkM6QScsIG1heD0xNDk2LCBzdHlsZT1Qcm9ncmVzc1N0eWxlKGRlc2NyaXB0aW9uX3dpZHRoPXXigKY=\n"
      ]
     },
     "metadata": {},
     "output_type": "display_data"
    },
    {
     "data": {
      "application/vnd.jupyter.widget-view+json": {
       "model_id": "f55b083386ce429e97634086da354046",
       "version_major": 2,
       "version_minor": 0
      },
      "text/plain": [
       "SEJveChjaGlsZHJlbj0oSW50UHJvZ3Jlc3ModmFsdWU9MCwgZGVzY3JpcHRpb249dSc5NzQ6QzpDJywgbWF4PTk3NCwgc3R5bGU9UHJvZ3Jlc3NTdHlsZShkZXNjcmlwdGlvbl93aWR0aD11J2nigKY=\n"
      ]
     },
     "metadata": {},
     "output_type": "display_data"
    },
    {
     "data": {
      "application/vnd.jupyter.widget-view+json": {
       "model_id": "0630de12108346519de13290ef2f2edc",
       "version_major": 2,
       "version_minor": 0
      },
      "text/plain": [
       "SEJveChjaGlsZHJlbj0oSW50UHJvZ3Jlc3ModmFsdWU9MCwgZGVzY3JpcHRpb249dSc5Mjg6QzpHJywgbWF4PTkyOCwgc3R5bGU9UHJvZ3Jlc3NTdHlsZShkZXNjcmlwdGlvbl93aWR0aD11J2nigKY=\n"
      ]
     },
     "metadata": {},
     "output_type": "display_data"
    },
    {
     "data": {
      "application/vnd.jupyter.widget-view+json": {
       "model_id": "f89bd33eef30413f8a4c7d098ca6d984",
       "version_major": 2,
       "version_minor": 0
      },
      "text/plain": [
       "SEJveChjaGlsZHJlbj0oSW50UHJvZ3Jlc3ModmFsdWU9MCwgZGVzY3JpcHRpb249dScxNDAyOkM6VCcsIG1heD0xNDAyLCBzdHlsZT1Qcm9ncmVzc1N0eWxlKGRlc2NyaXB0aW9uX3dpZHRoPXXigKY=\n"
      ]
     },
     "metadata": {},
     "output_type": "display_data"
    },
    {
     "data": {
      "application/vnd.jupyter.widget-view+json": {
       "model_id": "1af92824435048088b49f24875c0ae72",
       "version_major": 2,
       "version_minor": 0
      },
      "text/plain": [
       "SEJveChjaGlsZHJlbj0oSW50UHJvZ3Jlc3ModmFsdWU9MCwgZGVzY3JpcHRpb249dScxMzIwOkc6QScsIG1heD0xMzIwLCBzdHlsZT1Qcm9ncmVzc1N0eWxlKGRlc2NyaXB0aW9uX3dpZHRoPXXigKY=\n"
      ]
     },
     "metadata": {},
     "output_type": "display_data"
    },
    {
     "data": {
      "application/vnd.jupyter.widget-view+json": {
       "model_id": "171cf30ce08f4573ad002d78025c9553",
       "version_major": 2,
       "version_minor": 0
      },
      "text/plain": [
       "SEJveChjaGlsZHJlbj0oSW50UHJvZ3Jlc3ModmFsdWU9MCwgZGVzY3JpcHRpb249dSc3OTM6RzpDJywgbWF4PTc5Mywgc3R5bGU9UHJvZ3Jlc3NTdHlsZShkZXNjcmlwdGlvbl93aWR0aD11J2nigKY=\n"
      ]
     },
     "metadata": {},
     "output_type": "display_data"
    },
    {
     "data": {
      "application/vnd.jupyter.widget-view+json": {
       "model_id": "f9ba03c20b514ef49d7a228c4cf4cad1",
       "version_major": 2,
       "version_minor": 0
      },
      "text/plain": [
       "SEJveChjaGlsZHJlbj0oSW50UHJvZ3Jlc3ModmFsdWU9MCwgZGVzY3JpcHRpb249dScxMTI4Okc6RycsIG1heD0xMTI4LCBzdHlsZT1Qcm9ncmVzc1N0eWxlKGRlc2NyaXB0aW9uX3dpZHRoPXXigKY=\n"
      ]
     },
     "metadata": {},
     "output_type": "display_data"
    },
    {
     "data": {
      "application/vnd.jupyter.widget-view+json": {
       "model_id": "9206ea40307644629d7fbf2c5e80873b",
       "version_major": 2,
       "version_minor": 0
      },
      "text/plain": [
       "SEJveChjaGlsZHJlbj0oSW50UHJvZ3Jlc3ModmFsdWU9MCwgZGVzY3JpcHRpb249dScxNDg4Okc6VCcsIG1heD0xNDg4LCBzdHlsZT1Qcm9ncmVzc1N0eWxlKGRlc2NyaXB0aW9uX3dpZHRoPXXigKY=\n"
      ]
     },
     "metadata": {},
     "output_type": "display_data"
    },
    {
     "data": {
      "application/vnd.jupyter.widget-view+json": {
       "model_id": "36ccec681db64df5a3d1c728569508e4",
       "version_major": 2,
       "version_minor": 0
      },
      "text/plain": [
       "SEJveChjaGlsZHJlbj0oSW50UHJvZ3Jlc3ModmFsdWU9MCwgZGVzY3JpcHRpb249dScxMDc3OlQ6QScsIG1heD0xMDc3LCBzdHlsZT1Qcm9ncmVzc1N0eWxlKGRlc2NyaXB0aW9uX3dpZHRoPXXigKY=\n"
      ]
     },
     "metadata": {},
     "output_type": "display_data"
    },
    {
     "data": {
      "application/vnd.jupyter.widget-view+json": {
       "model_id": "248c29ec140c4f878611aedfe7eaf34c",
       "version_major": 2,
       "version_minor": 0
      },
      "text/plain": [
       "SEJveChjaGlsZHJlbj0oSW50UHJvZ3Jlc3ModmFsdWU9MCwgZGVzY3JpcHRpb249dScxNjg5OlQ6QycsIG1heD0xNjg5LCBzdHlsZT1Qcm9ncmVzc1N0eWxlKGRlc2NyaXB0aW9uX3dpZHRoPXXigKY=\n"
      ]
     },
     "metadata": {},
     "output_type": "display_data"
    },
    {
     "data": {
      "application/vnd.jupyter.widget-view+json": {
       "model_id": "21b804400aab4c27987d905cb8513dc5",
       "version_major": 2,
       "version_minor": 0
      },
      "text/plain": [
       "SEJveChjaGlsZHJlbj0oSW50UHJvZ3Jlc3ModmFsdWU9MCwgZGVzY3JpcHRpb249dScxNDM2OlQ6RycsIG1heD0xNDM2LCBzdHlsZT1Qcm9ncmVzc1N0eWxlKGRlc2NyaXB0aW9uX3dpZHRoPXXigKY=\n"
      ]
     },
     "metadata": {},
     "output_type": "display_data"
    },
    {
     "data": {
      "application/vnd.jupyter.widget-view+json": {
       "model_id": "",
       "version_major": 2,
       "version_minor": 0
      },
      "text/plain": [
       "SEJveChjaGlsZHJlbj0oSW50UHJvZ3Jlc3ModmFsdWU9MCwgZGVzY3JpcHRpb249dScxMzc4OlQ6VCcsIG1heD0xMzc4LCBzdHlsZT1Qcm9ncmVzc1N0eWxlKGRlc2NyaXB0aW9uX3dpZHRoPXXigKY=\n"
      ]
     },
     "metadata": {},
     "output_type": "display_data"
    }
   ],
   "source": [
    "progress = tnrange(16)\n",
    "for nt1 in ['A','C','G','T']:\n",
    "    for nt2 in ['A','C','G','T']:\n",
    "        input_dir = input_prefix_dir + \"{}{}\".format(nt1, nt2)\n",
    "        all_fwd_bams = glob.glob(os.path.join(input_dir, '*/results/*.fwd.sorted.rmdup.readfiltered.bam'))\n",
    "        cmd = 'module load makebigwigfiles;'\n",
    "        inner_progress = tnrange(len(all_fwd_bams), leave=False, desc=\"{}:{}:{}\".format(len(all_fwd_bams), nt1, nt2))\n",
    "        for fwd_bam in all_fwd_bams:\n",
    "            fwd_bg = os.path.join(output_dir, os.path.splitext(os.path.basename(fwd_bam))[0] + \".bg\")\n",
    "            fwd_sorted_bg = os.path.join(output_dir, os.path.splitext(os.path.basename(fwd_bam))[0] + \".sorted.bg\")\n",
    "            fwd_sorted_bw = os.path.join(output_dir, os.path.splitext(os.path.basename(fwd_bam))[0] + \".sorted.bw\")\n",
    "            if not os.path.exists(fwd_sorted_bw):\n",
    "                cmd += 'bedtools genomecov -split -strand + -g {} -bg -ibam {} > {};'.format(chrom_sizes_file, fwd_bam, fwd_bg)\n",
    "                cmd += 'bedtools sort -i {} > {};'.format(fwd_bg, fwd_sorted_bg)\n",
    "                cmd += 'bedGraphToBigWig {} {} {};'.format(fwd_sorted_bg, chrom_sizes_file, fwd_sorted_bw)\n",
    "            inner_progress.update(1)\n",
    "        cmds.append(cmd)\n",
    "        progress.update(1)"
   ]
  },
  {
   "cell_type": "markdown",
   "metadata": {},
   "source": [
    "# Do the same for reverse bigwigs"
   ]
  },
  {
   "cell_type": "code",
   "execution_count": 5,
   "metadata": {},
   "outputs": [
    {
     "data": {
      "application/vnd.jupyter.widget-view+json": {
       "model_id": "5faad553a2d74277b913324e29195da6",
       "version_major": 2,
       "version_minor": 0
      },
      "text/plain": [
       "HBox(children=(IntProgress(value=0, max=16), HTML(value=u'')))"
      ]
     },
     "metadata": {},
     "output_type": "display_data"
    },
    {
     "name": "stdout",
     "output_type": "stream",
     "text": [
      "(1012, 'A', 'A')\n"
     ]
    },
    {
     "data": {
      "application/vnd.jupyter.widget-view+json": {
       "model_id": "",
       "version_major": 2,
       "version_minor": 0
      },
      "text/plain": [
       "SEJveChjaGlsZHJlbj0oSW50UHJvZ3Jlc3ModmFsdWU9MCwgZGVzY3JpcHRpb249dScxMDEyOkE6QScsIG1heD0xMDEyLCBzdHlsZT1Qcm9ncmVzc1N0eWxlKGRlc2NyaXB0aW9uX3dpZHRoPXXigKY=\n"
      ]
     },
     "metadata": {},
     "output_type": "display_data"
    },
    {
     "name": "stdout",
     "output_type": "stream",
     "text": [
      "(1080, 'A', 'C')\n"
     ]
    },
    {
     "data": {
      "application/vnd.jupyter.widget-view+json": {
       "model_id": "",
       "version_major": 2,
       "version_minor": 0
      },
      "text/plain": [
       "SEJveChjaGlsZHJlbj0oSW50UHJvZ3Jlc3ModmFsdWU9MCwgZGVzY3JpcHRpb249dScxMDgwOkE6QycsIG1heD0xMDgwLCBzdHlsZT1Qcm9ncmVzc1N0eWxlKGRlc2NyaXB0aW9uX3dpZHRoPXXigKY=\n"
      ]
     },
     "metadata": {},
     "output_type": "display_data"
    },
    {
     "name": "stdout",
     "output_type": "stream",
     "text": [
      "(1446, 'A', 'G')\n"
     ]
    },
    {
     "data": {
      "application/vnd.jupyter.widget-view+json": {
       "model_id": "",
       "version_major": 2,
       "version_minor": 0
      },
      "text/plain": [
       "SEJveChjaGlsZHJlbj0oSW50UHJvZ3Jlc3ModmFsdWU9MCwgZGVzY3JpcHRpb249dScxNDQ2OkE6RycsIG1heD0xNDQ2LCBzdHlsZT1Qcm9ncmVzc1N0eWxlKGRlc2NyaXB0aW9uX3dpZHRoPXXigKY=\n"
      ]
     },
     "metadata": {},
     "output_type": "display_data"
    },
    {
     "name": "stdout",
     "output_type": "stream",
     "text": [
      "(1222, 'A', 'T')\n"
     ]
    },
    {
     "data": {
      "application/vnd.jupyter.widget-view+json": {
       "model_id": "",
       "version_major": 2,
       "version_minor": 0
      },
      "text/plain": [
       "SEJveChjaGlsZHJlbj0oSW50UHJvZ3Jlc3ModmFsdWU9MCwgZGVzY3JpcHRpb249dScxMjIyOkE6VCcsIG1heD0xMjIyLCBzdHlsZT1Qcm9ncmVzc1N0eWxlKGRlc2NyaXB0aW9uX3dpZHRoPXXigKY=\n"
      ]
     },
     "metadata": {},
     "output_type": "display_data"
    },
    {
     "name": "stdout",
     "output_type": "stream",
     "text": [
      "(1496, 'C', 'A')\n"
     ]
    },
    {
     "data": {
      "application/vnd.jupyter.widget-view+json": {
       "model_id": "c13b98f457e748f28f8f1de8ad0f8daf",
       "version_major": 2,
       "version_minor": 0
      },
      "text/plain": [
       "SEJveChjaGlsZHJlbj0oSW50UHJvZ3Jlc3ModmFsdWU9MCwgZGVzY3JpcHRpb249dScxNDk2OkM6QScsIG1heD0xNDk2LCBzdHlsZT1Qcm9ncmVzc1N0eWxlKGRlc2NyaXB0aW9uX3dpZHRoPXXigKY=\n"
      ]
     },
     "metadata": {},
     "output_type": "display_data"
    },
    {
     "name": "stdout",
     "output_type": "stream",
     "text": [
      "(974, 'C', 'C')\n"
     ]
    },
    {
     "data": {
      "application/vnd.jupyter.widget-view+json": {
       "model_id": "",
       "version_major": 2,
       "version_minor": 0
      },
      "text/plain": [
       "SEJveChjaGlsZHJlbj0oSW50UHJvZ3Jlc3ModmFsdWU9MCwgZGVzY3JpcHRpb249dSc5NzQ6QzpDJywgbWF4PTk3NCwgc3R5bGU9UHJvZ3Jlc3NTdHlsZShkZXNjcmlwdGlvbl93aWR0aD11J2nigKY=\n"
      ]
     },
     "metadata": {},
     "output_type": "display_data"
    },
    {
     "name": "stdout",
     "output_type": "stream",
     "text": [
      "(928, 'C', 'G')\n"
     ]
    },
    {
     "data": {
      "application/vnd.jupyter.widget-view+json": {
       "model_id": "",
       "version_major": 2,
       "version_minor": 0
      },
      "text/plain": [
       "SEJveChjaGlsZHJlbj0oSW50UHJvZ3Jlc3ModmFsdWU9MCwgZGVzY3JpcHRpb249dSc5Mjg6QzpHJywgbWF4PTkyOCwgc3R5bGU9UHJvZ3Jlc3NTdHlsZShkZXNjcmlwdGlvbl93aWR0aD11J2nigKY=\n"
      ]
     },
     "metadata": {},
     "output_type": "display_data"
    },
    {
     "name": "stdout",
     "output_type": "stream",
     "text": [
      "(1402, 'C', 'T')\n"
     ]
    },
    {
     "data": {
      "application/vnd.jupyter.widget-view+json": {
       "model_id": "",
       "version_major": 2,
       "version_minor": 0
      },
      "text/plain": [
       "SEJveChjaGlsZHJlbj0oSW50UHJvZ3Jlc3ModmFsdWU9MCwgZGVzY3JpcHRpb249dScxNDAyOkM6VCcsIG1heD0xNDAyLCBzdHlsZT1Qcm9ncmVzc1N0eWxlKGRlc2NyaXB0aW9uX3dpZHRoPXXigKY=\n"
      ]
     },
     "metadata": {},
     "output_type": "display_data"
    },
    {
     "name": "stdout",
     "output_type": "stream",
     "text": [
      "(1320, 'G', 'A')\n"
     ]
    },
    {
     "data": {
      "application/vnd.jupyter.widget-view+json": {
       "model_id": "",
       "version_major": 2,
       "version_minor": 0
      },
      "text/plain": [
       "SEJveChjaGlsZHJlbj0oSW50UHJvZ3Jlc3ModmFsdWU9MCwgZGVzY3JpcHRpb249dScxMzIwOkc6QScsIG1heD0xMzIwLCBzdHlsZT1Qcm9ncmVzc1N0eWxlKGRlc2NyaXB0aW9uX3dpZHRoPXXigKY=\n"
      ]
     },
     "metadata": {},
     "output_type": "display_data"
    },
    {
     "name": "stdout",
     "output_type": "stream",
     "text": [
      "(793, 'G', 'C')\n"
     ]
    },
    {
     "data": {
      "application/vnd.jupyter.widget-view+json": {
       "model_id": "",
       "version_major": 2,
       "version_minor": 0
      },
      "text/plain": [
       "SEJveChjaGlsZHJlbj0oSW50UHJvZ3Jlc3ModmFsdWU9MCwgZGVzY3JpcHRpb249dSc3OTM6RzpDJywgbWF4PTc5Mywgc3R5bGU9UHJvZ3Jlc3NTdHlsZShkZXNjcmlwdGlvbl93aWR0aD11J2nigKY=\n"
      ]
     },
     "metadata": {},
     "output_type": "display_data"
    },
    {
     "name": "stdout",
     "output_type": "stream",
     "text": [
      "(1128, 'G', 'G')\n"
     ]
    },
    {
     "data": {
      "application/vnd.jupyter.widget-view+json": {
       "model_id": "06c5ea92e5fc414794adcf38c7305cd8",
       "version_major": 2,
       "version_minor": 0
      },
      "text/plain": [
       "SEJveChjaGlsZHJlbj0oSW50UHJvZ3Jlc3ModmFsdWU9MCwgZGVzY3JpcHRpb249dScxMTI4Okc6RycsIG1heD0xMTI4LCBzdHlsZT1Qcm9ncmVzc1N0eWxlKGRlc2NyaXB0aW9uX3dpZHRoPXXigKY=\n"
      ]
     },
     "metadata": {},
     "output_type": "display_data"
    },
    {
     "name": "stdout",
     "output_type": "stream",
     "text": [
      "(1488, 'G', 'T')\n"
     ]
    },
    {
     "data": {
      "application/vnd.jupyter.widget-view+json": {
       "model_id": "",
       "version_major": 2,
       "version_minor": 0
      },
      "text/plain": [
       "SEJveChjaGlsZHJlbj0oSW50UHJvZ3Jlc3ModmFsdWU9MCwgZGVzY3JpcHRpb249dScxNDg4Okc6VCcsIG1heD0xNDg4LCBzdHlsZT1Qcm9ncmVzc1N0eWxlKGRlc2NyaXB0aW9uX3dpZHRoPXXigKY=\n"
      ]
     },
     "metadata": {},
     "output_type": "display_data"
    },
    {
     "name": "stdout",
     "output_type": "stream",
     "text": [
      "(1077, 'T', 'A')\n"
     ]
    },
    {
     "data": {
      "application/vnd.jupyter.widget-view+json": {
       "model_id": "",
       "version_major": 2,
       "version_minor": 0
      },
      "text/plain": [
       "SEJveChjaGlsZHJlbj0oSW50UHJvZ3Jlc3ModmFsdWU9MCwgZGVzY3JpcHRpb249dScxMDc3OlQ6QScsIG1heD0xMDc3LCBzdHlsZT1Qcm9ncmVzc1N0eWxlKGRlc2NyaXB0aW9uX3dpZHRoPXXigKY=\n"
      ]
     },
     "metadata": {},
     "output_type": "display_data"
    },
    {
     "name": "stdout",
     "output_type": "stream",
     "text": [
      "(1689, 'T', 'C')\n"
     ]
    },
    {
     "data": {
      "application/vnd.jupyter.widget-view+json": {
       "model_id": "",
       "version_major": 2,
       "version_minor": 0
      },
      "text/plain": [
       "SEJveChjaGlsZHJlbj0oSW50UHJvZ3Jlc3ModmFsdWU9MCwgZGVzY3JpcHRpb249dScxNjg5OlQ6QycsIG1heD0xNjg5LCBzdHlsZT1Qcm9ncmVzc1N0eWxlKGRlc2NyaXB0aW9uX3dpZHRoPXXigKY=\n"
      ]
     },
     "metadata": {},
     "output_type": "display_data"
    },
    {
     "name": "stdout",
     "output_type": "stream",
     "text": [
      "(1436, 'T', 'G')\n"
     ]
    },
    {
     "data": {
      "application/vnd.jupyter.widget-view+json": {
       "model_id": "",
       "version_major": 2,
       "version_minor": 0
      },
      "text/plain": [
       "SEJveChjaGlsZHJlbj0oSW50UHJvZ3Jlc3ModmFsdWU9MCwgZGVzY3JpcHRpb249dScxNDM2OlQ6RycsIG1heD0xNDM2LCBzdHlsZT1Qcm9ncmVzc1N0eWxlKGRlc2NyaXB0aW9uX3dpZHRoPXXigKY=\n"
      ]
     },
     "metadata": {},
     "output_type": "display_data"
    },
    {
     "name": "stdout",
     "output_type": "stream",
     "text": [
      "(1378, 'T', 'T')\n"
     ]
    },
    {
     "data": {
      "application/vnd.jupyter.widget-view+json": {
       "model_id": "5a6deb1759e449a6a70296eb45cc22fd",
       "version_major": 2,
       "version_minor": 0
      },
      "text/plain": [
       "SEJveChjaGlsZHJlbj0oSW50UHJvZ3Jlc3ModmFsdWU9MCwgZGVzY3JpcHRpb249dScxMzc4OlQ6VCcsIG1heD0xMzc4LCBzdHlsZT1Qcm9ncmVzc1N0eWxlKGRlc2NyaXB0aW9uX3dpZHRoPXXigKY=\n"
      ]
     },
     "metadata": {},
     "output_type": "display_data"
    }
   ],
   "source": [
    "progress = tnrange(16)\n",
    "for nt1 in ['A','C','G','T']:\n",
    "    for nt2 in ['A','C','G','T']:\n",
    "        input_dir = input_prefix_dir + \"{}{}\".format(nt1, nt2)\n",
    "        all_rev_bams = glob.glob(os.path.join(input_dir, '*/results/*.rev.sorted.rmdup.readfiltered.bam'))\n",
    "        print(len(all_rev_bams), nt1, nt2)\n",
    "        cmd = 'module load makebigwigfiles;'\n",
    "        inner_progress = tnrange(len(all_rev_bams), leave=False, desc=\"{}:{}:{}\".format(len(all_rev_bams), nt1, nt2))\n",
    "        for rev_bam in all_rev_bams:\n",
    "            rev_bg = os.path.join(output_dir, os.path.splitext(os.path.basename(rev_bam))[0] + \".bg\")\n",
    "            rev_sorted_bg = os.path.join(output_dir, os.path.splitext(os.path.basename(rev_bam))[0] + \".sorted.bg\")\n",
    "            rev_sorted_bw = os.path.join(output_dir, os.path.splitext(os.path.basename(rev_bam))[0] + \".sorted.bw\")\n",
    "            if not os.path.exists(rev_sorted_bw):\n",
    "                cmd += 'bedtools genomecov -split -strand - -g {} -bg -ibam {} > {};'.format(chrom_sizes_file, rev_bam, rev_bg)\n",
    "                cmd += 'bedtools sort -i {} > {};'.format(rev_bg, rev_sorted_bg)\n",
    "                cmd += 'bedGraphToBigWig {} {} {};'.format(rev_sorted_bg, chrom_sizes_file, rev_sorted_bw)\n",
    "            inner_progress.update(1)\n",
    "        cmds.append(cmd)\n",
    "        progress.update(1)"
   ]
  },
  {
   "cell_type": "markdown",
   "metadata": {},
   "source": [
    "# Write the bam to bigwig commands"
   ]
  },
  {
   "cell_type": "code",
   "execution_count": 8,
   "metadata": {},
   "outputs": [
    {
     "name": "stderr",
     "output_type": "stream",
     "text": [
      "Writing 32 tasks as an array-job.\n",
      "Wrote commands to bedToBigWig.sh.\n",
      "Submitted script to queue home.\n",
      " Job ID: 21117547\n"
     ]
    },
    {
     "data": {
      "text/plain": [
       "<qtools.submitter.Submitter at 0x2b84c8d12350>"
      ]
     },
     "execution_count": 8,
     "metadata": {},
     "output_type": "execute_result"
    }
   ],
   "source": [
    "Submitter(commands=cmds, job_name='bedToBigWig', array=True, nodes=1, ppn=1, submit=True, walltime='8:00:00')"
   ]
  },
  {
   "cell_type": "markdown",
   "metadata": {},
   "source": [
    "# Since each command pastes together 3x~40,000 individual commands and is potentially millions of characters long, we shouldn't try and list out the entire command. Let's \"preview\" the first 5000 chars instead."
   ]
  },
  {
   "cell_type": "code",
   "execution_count": 6,
   "metadata": {},
   "outputs": [
    {
     "data": {
      "text/plain": [
       "1483014"
      ]
     },
     "execution_count": 6,
     "metadata": {},
     "output_type": "execute_result"
    }
   ],
   "source": [
    "len(cmds[0])"
   ]
  },
  {
   "cell_type": "markdown",
   "metadata": {},
   "source": [
    "# Maybe run one or two barcodes to make sure all jobs won't fail for a dumb reason.\n",
    "\n",
    "- ie. the first barcode from the first command looks something like this: \n",
    "\n",
    "\n",
    "```module load makebigwigfiles;bedtools genomecov -split -strand + -g /home/bay001/projects/kris_apobec_20200121/permanent_data2/03_scRNA/inputs/refdata-cellranger-hg19_lenti_common-3.0.0/star/chrNameLength.txt -bg -ibam /home/bay001/projects/kris_apobec_20200121/permanent_data2/03_scRNA/sailor_outputs_individual_barcodes_AA/Apo_Control_possorted_genome_bam_MD-AAGCCATTCTCCTGTG-1/results/Apo_Control_possorted_genome_bam_MD-AAGCCATTCTCCTGTG-1.fwd.sorted.rmdup.readfiltered.bam > /home/bay001/projects/kris_apobec_20200121/permanent_data2/03_scRNA/bigwig_files/Apo_Control_possorted_genome_bam_MD-AAGCCATTCTCCTGTG-1.fwd.sorted.rmdup.readfiltered.bg;bedtools sort -i /home/bay001/projects/kris_apobec_20200121/permanent_data2/03_scRNA/bigwig_files/Apo_Control_possorted_genome_bam_MD-AAGCCATTCTCCTGTG-1.fwd.sorted.rmdup.readfiltered.bg > /home/bay001/projects/kris_apobec_20200121/permanent_data2/03_scRNA/bigwig_files/Apo_Control_possorted_genome_bam_MD-AAGCCATTCTCCTGTG-1.fwd.sorted.rmdup.readfiltered.sorted.bg;bedGraphToBigWig /home/bay001/projects/kris_apobec_20200121/permanent_data2/03_scRNA/bigwig_files/Apo_Control_possorted_genome_bam_MD-AAGCCATTCTCCTGTG-1.fwd.sorted.rmdup.readfiltered.sorted.bg /home/bay001/projects/kris_apobec_20200121/permanent_data2/03_scRNA/inputs/refdata-cellranger-hg19_lenti_common-3.0.0/star/chrNameLength.txt /home/bay001/projects/kris_apobec_20200121/permanent_data2/03_scRNA/bigwig_files/Apo_Control_possorted_genome_bam_MD-AAGCCATTCTCCTGTG-1.fwd.sorted.rmdup.readfiltered.sorted.bw;```"
   ]
  },
  {
   "cell_type": "code",
   "execution_count": 7,
   "metadata": {},
   "outputs": [
    {
     "data": {
      "text/plain": [
       "'module load makebigwigfiles;bedtools genomecov -split -strand + -g /home/bay001/projects/kris_apobec_20200121/permanent_data2/03_scRNA/inputs/refdata-cellranger-hg19_lenti_common-3.0.0/star/chrNameLength.txt -bg -ibam /home/bay001/projects/kris_apobec_20200121/permanent_data2/03_scRNA/sailor_outputs_individual_barcodes_AA/Apo_Control_possorted_genome_bam_MD-AAGCCATTCTCCTGTG-1/results/Apo_Control_possorted_genome_bam_MD-AAGCCATTCTCCTGTG-1.fwd.sorted.rmdup.readfiltered.bam > /home/bay001/projects/kris_apobec_20200121/permanent_data2/03_scRNA/bigwig_files/Apo_Control_possorted_genome_bam_MD-AAGCCATTCTCCTGTG-1.fwd.sorted.rmdup.readfiltered.bg;bedtools sort -i /home/bay001/projects/kris_apobec_20200121/permanent_data2/03_scRNA/bigwig_files/Apo_Control_possorted_genome_bam_MD-AAGCCATTCTCCTGTG-1.fwd.sorted.rmdup.readfiltered.bg > /home/bay001/projects/kris_apobec_20200121/permanent_data2/03_scRNA/bigwig_files/Apo_Control_possorted_genome_bam_MD-AAGCCATTCTCCTGTG-1.fwd.sorted.rmdup.readfiltered.sorted.bg;bedGraphToBigWig /home/bay001/projects/kris_apobec_20200121/permanent_data2/03_scRNA/bigwig_files/Apo_Control_possorted_genome_bam_MD-AAGCCATTCTCCTGTG-1.fwd.sorted.rmdup.readfiltered.sorted.bg /home/bay001/projects/kris_apobec_20200121/permanent_data2/03_scRNA/inputs/refdata-cellranger-hg19_lenti_common-3.0.0/star/chrNameLength.txt /home/bay001/projects/kris_apobec_20200121/permanent_data2/03_scRNA/bigwig_files/Apo_Control_possorted_genome_bam_MD-AAGCCATTCTCCTGTG-1.fwd.sorted.rmdup.readfiltered.sorted.bw;bedtools genomecov -split -strand + -g /home/bay001/projects/kris_apobec_20200121/permanent_data2/03_scRNA/inputs/refdata-cellranger-hg19_lenti_common-3.0.0/star/chrNameLength.txt -bg -ibam /home/bay001/projects/kris_apobec_20200121/permanent_data2/03_scRNA/sailor_outputs_individual_barcodes_AA/Apo_Control_possorted_genome_bam_MD-AACCCAATCTTTGATC-1/results/Apo_Control_possorted_genome_bam_MD-AACCCAATCTTTGATC-1.fwd.sorted.rmdup.readfiltered.bam > /home/bay001/projects/kris_apobec_20200121/permanent_data2/03_scRNA/bigwig_files/Apo_Control_possorted_genome_bam_MD-AACCCAATCTTTGATC-1.fwd.sorted.rmdup.readfiltered.bg;bedtools sort -i /home/bay001/projects/kris_apobec_20200121/permanent_data2/03_scRNA/bigwig_files/Apo_Control_possorted_genome_bam_MD-AACCCAATCTTTGATC-1.fwd.sorted.rmdup.readfiltered.bg > /home/bay001/projects/kris_apobec_20200121/permanent_data2/03_scRNA/bigwig_files/Apo_Control_possorted_genome_bam_MD-AACCCAATCTTTGATC-1.fwd.sorted.rmdup.readfiltered.sorted.bg;bedGraphToBigWig /home/bay001/projects/kris_apobec_20200121/permanent_data2/03_scRNA/bigwig_files/Apo_Control_possorted_genome_bam_MD-AACCCAATCTTTGATC-1.fwd.sorted.rmdup.readfiltered.sorted.bg /home/bay001/projects/kris_apobec_20200121/permanent_data2/03_scRNA/inputs/refdata-cellranger-hg19_lenti_common-3.0.0/star/chrNameLength.txt /home/bay001/projects/kris_apobec_20200121/permanent_data2/03_scRNA/bigwig_files/Apo_Control_possorted_genome_bam_MD-AACCCAATCTTTGATC-1.fwd.sorted.rmdup.readfiltered.sorted.bw;bedtools genomecov -split -strand + -g /home/bay001/projects/kris_apobec_20200121/permanent_data2/03_scRNA/inputs/refdata-cellranger-hg19_lenti_common-3.0.0/star/chrNameLength.txt -bg -ibam /home/bay001/projects/kris_apobec_20200121/permanent_data2/03_scRNA/sailor_outputs_individual_barcodes_AA/RPS2_possorted_genome_bam_MD-AACAACCTCGCGTGCA-1/results/RPS2_possorted_genome_bam_MD-AACAACCTCGCGTGCA-1.fwd.sorted.rmdup.readfiltered.bam > /home/bay001/projects/kris_apobec_20200121/permanent_data2/03_scRNA/bigwig_files/RPS2_possorted_genome_bam_MD-AACAACCTCGCGTGCA-1.fwd.sorted.rmdup.readfiltered.bg;bedtools sort -i /home/bay001/projects/kris_apobec_20200121/permanent_data2/03_scRNA/bigwig_files/RPS2_possorted_genome_bam_MD-AACAACCTCGCGTGCA-1.fwd.sorted.rmdup.readfiltered.bg > /home/bay001/projects/kris_apobec_20200121/permanent_data2/03_scRNA/bigwig_files/RPS2_possorted_genome_bam_MD-AACAACCTCGCGTGCA-1.fwd.sorted.rmdup.readfiltered.sorted.bg;bedGraphToBigWig /home/bay001/projects/kris_apobec_20200121/permanent_data2/03_scRNA/bigwig_files/RPS2_possorted_genome_bam_MD-AACAACCTCGCGTGCA-1.fwd.sorted.rmdup.readfiltered.sorted.bg /home/bay001/projects/kris_apobec_20200121/permanent_data2/03_scRNA/inputs/refdata-cellranger-hg19_lenti_common-3.0.0/star/chrNameLength.txt /home/bay001/projects/kris_apobec_20200121/permanent_data2/03_scRNA/bigwig_files/RPS2_possorted_genome_bam_MD-AACAACCTCGCGTGCA-1.fwd.sorted.rmdup.readfiltered.sorted.bw;bedtools genomecov -split -strand + -g /home/bay001/projects/kris_apobec_20200121/permanent_data2/03_scRNA/inputs/refdata-cellranger-hg19_lenti_common-3.0.0/star/chrNameLength.txt -bg -ibam /home/bay001/projects/kris_apobec_20200121/permanent_data2/03_scRNA/sailor_outputs_individual_barcodes_AA/Apo_Control_possorted_genome_bam_MD-AAGCGTTCAAGCGGAT-1/results/Apo_Control_possorted_genome_bam_MD-AAGCGTTCAAGCGGAT-1.fwd.sorted.rmdup.readfiltered.bam > /home/bay001/projects/kris_apobec_20200121/permanent_data2/03_scRNA/bigwig_files/Apo_Control'"
      ]
     },
     "execution_count": 7,
     "metadata": {},
     "output_type": "execute_result"
    }
   ],
   "source": [
    "cmds[0][:5000]"
   ]
  },
  {
   "cell_type": "code",
   "execution_count": null,
   "metadata": {},
   "outputs": [],
   "source": []
  }
 ],
 "metadata": {
  "kernelspec": {
   "display_name": "python2-essential",
   "language": "python",
   "name": "python2-essential"
  },
  "language_info": {
   "codemirror_mode": {
    "name": "ipython",
    "version": 2
   },
   "file_extension": ".py",
   "mimetype": "text/x-python",
   "name": "python",
   "nbconvert_exporter": "python",
   "pygments_lexer": "ipython2",
   "version": "2.7.15"
  }
 },
 "nbformat": 4,
 "nbformat_minor": 2
}
