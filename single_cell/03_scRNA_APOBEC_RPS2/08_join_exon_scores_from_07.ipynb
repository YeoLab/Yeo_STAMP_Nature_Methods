{
 "cells": [
  {
   "cell_type": "markdown",
   "metadata": {},
   "source": [
    "# Now we should have editC scores from all cells (minus the cells that did not have any edits). Join all the scored files together in this notebook.\n",
    "- Some cells may have editC of zero in all cells, even if they were found to have edits. We should check this but when I did, they were just cells where edits existed only within introns. There should only be a few cases like this and it should explain ALL cells with zero editC scores across the board. \n",
    "- **This is a critical time to check that ALL jobs have run properly for ALL cells**. "
   ]
  },
  {
   "cell_type": "code",
   "execution_count": 1,
   "metadata": {},
   "outputs": [],
   "source": [
    "import glob\n",
    "import os\n",
    "import pandas as pd\n",
    "from tqdm import tnrange, tqdm_notebook"
   ]
  },
  {
   "cell_type": "code",
   "execution_count": 2,
   "metadata": {},
   "outputs": [],
   "source": [
    "input_dir = '/home/bay001/projects/kris_apobec_20200121/permanent_data2/03_scRNA_APOBEC_RPS2/sailor_outputs_individual_barcodes_merged_scores_no_APO_filter/'\n",
    "output_dir = '/home/bay001/projects/kris_apobec_20200121/permanent_data2/03_scRNA_APOBEC_RPS2/outputs'"
   ]
  },
  {
   "cell_type": "code",
   "execution_count": 3,
   "metadata": {},
   "outputs": [
    {
     "name": "stdout",
     "output_type": "stream",
     "text": [
      "8616 10995\n"
     ]
    },
    {
     "data": {
      "text/plain": [
       "['/home/bay001/projects/kris_apobec_20200121/permanent_data2/03_scRNA_APOBEC_RPS2/sailor_outputs_individual_barcodes_merged_scores_no_APO_filter/RPS2_possorted_genome_bam_MD-AAACCCACAGGATCTT-1.fx.bed.annotated.exons.merged.txt',\n",
       " '/home/bay001/projects/kris_apobec_20200121/permanent_data2/03_scRNA_APOBEC_RPS2/sailor_outputs_individual_barcodes_merged_scores_no_APO_filter/RPS2_possorted_genome_bam_MD-AAACCCACAGGTACGA-1.fx.bed.annotated.exons.merged.txt',\n",
       " '/home/bay001/projects/kris_apobec_20200121/permanent_data2/03_scRNA_APOBEC_RPS2/sailor_outputs_individual_barcodes_merged_scores_no_APO_filter/RPS2_possorted_genome_bam_MD-AAACCCACAGTTCACA-1.fx.bed.annotated.exons.merged.txt']"
      ]
     },
     "execution_count": 3,
     "metadata": {},
     "output_type": "execute_result"
    }
   ],
   "source": [
    "all_apo_scored = sorted(glob.glob(os.path.join(input_dir, 'Apo_Control*.exons.merged.txt')))\n",
    "all_rps2_scored = sorted(glob.glob(os.path.join(input_dir, 'RPS2*.exons.merged.txt')))\n",
    "\n",
    "print(len(all_apo_scored), len(all_rps2_scored))\n",
    "all_rps2_scored[:3]"
   ]
  },
  {
   "cell_type": "code",
   "execution_count": 4,
   "metadata": {},
   "outputs": [],
   "source": [
    "def format_name(fn):\n",
    "    return os.path.basename(fn).replace('.fx.bed.annotated.exons.merged.txt','')"
   ]
  },
  {
   "cell_type": "markdown",
   "metadata": {},
   "source": [
    "# I'm doing these merges in batches since merging over 20k cells takes too long\n",
    "- better to merge 500 at a time and then merge each of the 34 dataframes together."
   ]
  },
  {
   "cell_type": "code",
   "execution_count": 5,
   "metadata": {},
   "outputs": [
    {
     "data": {
      "application/vnd.jupyter.widget-view+json": {
       "model_id": "aedcae4c4b1944b69c2a8a297d33e928",
       "version_major": 2,
       "version_minor": 0
      },
      "text/plain": [
       "HBox(children=(IntProgress(value=0, max=8616), HTML(value='')))"
      ]
     },
     "metadata": {},
     "output_type": "display_data"
    },
    {
     "data": {
      "application/vnd.jupyter.widget-view+json": {
       "model_id": "e579dd7cb941497bb21a11986ee92be3",
       "version_major": 2,
       "version_minor": 0
      },
      "text/plain": [
       "HBox(children=(IntProgress(value=0, max=18), HTML(value='')))"
      ]
     },
     "metadata": {},
     "output_type": "display_data"
    },
    {
     "name": "stdout",
     "output_type": "stream",
     "text": [
      "(2287, 8616)\n"
     ]
    },
    {
     "data": {
      "application/vnd.jupyter.widget-view+json": {
       "model_id": "fc2921624df443bfa38a05837e4181da",
       "version_major": 2,
       "version_minor": 0
      },
      "text/plain": [
       "HBox(children=(IntProgress(value=0, max=8616), HTML(value='')))"
      ]
     },
     "metadata": {},
     "output_type": "display_data"
    },
    {
     "data": {
      "application/vnd.jupyter.widget-view+json": {
       "model_id": "a7771a656ea444cfa360af7bfb0ca989",
       "version_major": 2,
       "version_minor": 0
      },
      "text/plain": [
       "HBox(children=(IntProgress(value=0, max=18), HTML(value='')))"
      ]
     },
     "metadata": {},
     "output_type": "display_data"
    },
    {
     "name": "stdout",
     "output_type": "stream",
     "text": [
      "(2287, 8616)\n"
     ]
    }
   ],
   "source": [
    "def chunker(seq, size):\n",
    "    \"\"\"\n",
    "    Chunks a long list into groups of (size).\n",
    "    \"\"\"\n",
    "    return (seq[pos:pos + size] for pos in range(0, len(seq), size))\n",
    "\n",
    "for score in ['edited_over_all_c', 'edited_over_edited_c']:\n",
    "    all_merged = []\n",
    "    groupsize = 500 # 500 sailor runs per job.\n",
    "    progress = tnrange(len(all_apo_scored))\n",
    "    for group in chunker(all_apo_scored, groupsize):\n",
    "        merged = pd.DataFrame()\n",
    "        for scored in group:\n",
    "            df = pd.read_csv(scored, index_col=0, sep='\\t')[[score]]\n",
    "            df.columns = [format_name(scored)]\n",
    "            merged = pd.merge(merged, df, how='outer', left_index=True, right_index=True)\n",
    "            progress.update(1)\n",
    "        all_merged.append(merged)\n",
    "\n",
    "    all_all_merged = pd.DataFrame()\n",
    "    progress = tnrange(len(all_merged))\n",
    "    for merged in all_merged:\n",
    "        all_all_merged = pd.merge(all_all_merged, merged, how='outer', left_index=True, right_index=True)\n",
    "        progress.update(1)\n",
    "\n",
    "    print(all_all_merged.shape)\n",
    "    all_all_merged.fillna(0, inplace=True)\n",
    "    all_all_merged.to_csv(os.path.join(output_dir, 'Apo_Control_possorted_genome_bam_MD.exons.merged.{}.tsv'.format(score)), sep='\\t', header=True, index=True)"
   ]
  },
  {
   "cell_type": "markdown",
   "metadata": {},
   "source": [
    "# Do the same with RPS2"
   ]
  },
  {
   "cell_type": "code",
   "execution_count": 6,
   "metadata": {},
   "outputs": [
    {
     "data": {
      "application/vnd.jupyter.widget-view+json": {
       "model_id": "f9fb8b709b2f4e3aaac0cdf651a78d07",
       "version_major": 2,
       "version_minor": 0
      },
      "text/plain": [
       "HBox(children=(IntProgress(value=0, max=10995), HTML(value='')))"
      ]
     },
     "metadata": {},
     "output_type": "display_data"
    },
    {
     "data": {
      "application/vnd.jupyter.widget-view+json": {
       "model_id": "658b355084bd484092f171a968b3a079",
       "version_major": 2,
       "version_minor": 0
      },
      "text/plain": [
       "HBox(children=(IntProgress(value=0, max=22), HTML(value='')))"
      ]
     },
     "metadata": {},
     "output_type": "display_data"
    },
    {
     "name": "stdout",
     "output_type": "stream",
     "text": [
      "(2464, 10995)\n"
     ]
    },
    {
     "data": {
      "application/vnd.jupyter.widget-view+json": {
       "model_id": "00e0a73ec2fb43fc867feab2b74f60ce",
       "version_major": 2,
       "version_minor": 0
      },
      "text/plain": [
       "HBox(children=(IntProgress(value=0, max=10995), HTML(value='')))"
      ]
     },
     "metadata": {},
     "output_type": "display_data"
    },
    {
     "data": {
      "application/vnd.jupyter.widget-view+json": {
       "model_id": "3c466e248a8f4a20923dc12a4efec125",
       "version_major": 2,
       "version_minor": 0
      },
      "text/plain": [
       "HBox(children=(IntProgress(value=0, max=22), HTML(value='')))"
      ]
     },
     "metadata": {},
     "output_type": "display_data"
    },
    {
     "name": "stdout",
     "output_type": "stream",
     "text": [
      "(2464, 10995)\n"
     ]
    }
   ],
   "source": [
    "for score in ['edited_over_all_c', 'edited_over_edited_c']:\n",
    "    all_merged = []\n",
    "    groupsize = 500 # 50 sailor runs per job.\n",
    "    progress = tnrange(len(all_rps2_scored))\n",
    "    for group in chunker(all_rps2_scored, groupsize):\n",
    "        merged = pd.DataFrame()\n",
    "        for scored in group:\n",
    "            df = pd.read_csv(scored, index_col=0, sep='\\t')[[score]]\n",
    "            df.columns = [format_name(scored)]\n",
    "            merged = pd.merge(merged, df, how='outer', left_index=True, right_index=True)\n",
    "            progress.update(1)\n",
    "        all_merged.append(merged)\n",
    "\n",
    "    all_all_merged = pd.DataFrame()\n",
    "    progress = tnrange(len(all_merged))\n",
    "    for merged in all_merged:\n",
    "        all_all_merged = pd.merge(all_all_merged, merged, how='outer', left_index=True, right_index=True)\n",
    "        progress.update(1)\n",
    "\n",
    "    print(all_all_merged.shape)\n",
    "    all_all_merged.fillna(0, inplace=True)\n",
    "    all_all_merged.to_csv(os.path.join(output_dir, 'RPS2_possorted_genome_bam_MD.exons.merged.{}.tsv'.format(score)), sep='\\t', header=True, index=True)"
   ]
  },
  {
   "cell_type": "code",
   "execution_count": null,
   "metadata": {},
   "outputs": [],
   "source": []
  }
 ],
 "metadata": {
  "kernelspec": {
   "display_name": "python3-essential-tscc",
   "language": "python",
   "name": "python3essentialtscc"
  },
  "language_info": {
   "codemirror_mode": {
    "name": "ipython",
    "version": 3
   },
   "file_extension": ".py",
   "mimetype": "text/x-python",
   "name": "python",
   "nbconvert_exporter": "python",
   "pygments_lexer": "ipython3",
   "version": "3.6.7"
  }
 },
 "nbformat": 4,
 "nbformat_minor": 2
}
