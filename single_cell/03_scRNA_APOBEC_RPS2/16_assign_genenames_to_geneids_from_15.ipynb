{
 "cells": [
  {
   "cell_type": "markdown",
   "metadata": {},
   "source": [
    "# Sometimes it's easier to look at large tables if there is an extra 'gene name'"
   ]
  },
  {
   "cell_type": "code",
   "execution_count": 1,
   "metadata": {},
   "outputs": [],
   "source": [
    "import glob\n",
    "import os\n",
    "import gffutils\n",
    "import pandas as pd\n",
    "from tqdm import tnrange, tqdm_notebook\n",
    "from tqdm import tqdm\n",
    "tqdm.pandas()"
   ]
  },
  {
   "cell_type": "code",
   "execution_count": 2,
   "metadata": {},
   "outputs": [],
   "source": [
    "input_dir = '/home/bay001/projects/kris_apobec_20200121/permanent_data2/03_scRNA_APOBEC_RPS2/outputs'\n",
    "output_dir = '/home/bay001/projects/kris_apobec_20200121/permanent_data2/03_scRNA_APOBEC_RPS2/outputs'"
   ]
  },
  {
   "cell_type": "code",
   "execution_count": 3,
   "metadata": {},
   "outputs": [
    {
     "data": {
      "text/plain": [
       "['/home/bay001/projects/kris_apobec_20200121/permanent_data2/03_scRNA_APOBEC_RPS2/outputs/Apo_Control_possorted_genome_bam_MD.merged.epkm.cds.epkm.tsv',\n",
       " '/home/bay001/projects/kris_apobec_20200121/permanent_data2/03_scRNA_APOBEC_RPS2/outputs/RPS2_possorted_genome_bam_MD.merged.epkm.cds.epkm.tsv']"
      ]
     },
     "execution_count": 3,
     "metadata": {},
     "output_type": "execute_result"
    }
   ],
   "source": [
    "merged_tables = sorted(glob.glob(os.path.join(input_dir, '*cds.epkm.tsv')))\n",
    "merged_tables"
   ]
  },
  {
   "cell_type": "code",
   "execution_count": 4,
   "metadata": {},
   "outputs": [
    {
     "data": {
      "text/plain": [
       "'RBFOX2'"
      ]
     },
     "execution_count": 4,
     "metadata": {},
     "output_type": "execute_result"
    }
   ],
   "source": [
    "def gene_id_to_name(db, gencode=True):\n",
    "    \"\"\"\n",
    "    Returns a dictionary containing a gene_id:name translation\n",
    "    Note: may be different if the 'gene_id' or 'gene_name' \n",
    "    keys are not in the source GTF file\n",
    "    (taken from gscripts.region_helpers)\n",
    "    gencode: True if we're using Gencode-style annotations (ie. ENSG00000100320.18). False if we're using ENSEMBL-style (ie. ENSG00000100320)\n",
    "    \"\"\"\n",
    "    genes = db.features_of_type('gene')\n",
    "    gene_name_dict = {}\n",
    "    for gene in genes:\n",
    "        if gencode:\n",
    "            gene_id = gene.attributes['gene_id'][0] if type(gene.attributes['gene_id']) == list else gene.attributes['gene_id']\n",
    "        else:\n",
    "            gene_id = gene.attributes['gene_id'][0].split('.')[0] if type(gene.attributes['gene_id']) == list else gene.attributes['gene_id']\n",
    "        try:\n",
    "            if gencode:\n",
    "                gene_name_dict[gene_id] = gene.attributes['gene_name'][0]  # this is for GENCODE-style IDs! \n",
    "            else:\n",
    "                gene_name_dict[gene_id] = gene.attributes['gene_name'][0].split('.')[0]  # this is for ENSEMBL-style IDs! \n",
    "        except KeyError:\n",
    "            print(gene.attributes.keys())\n",
    "            print(\"Warning. Key not found for {}\".format(gene))\n",
    "            return 1\n",
    "    return gene_name_dict\n",
    "\n",
    "# db_file = '/projects/ps-yeolab3/bay001/annotations/hg19/gencode_v19/gencode.v19.annotation.gtf.db'\n",
    "db_file = '/projects/ps-yeolab3/bay001/annotations/hg19/refdata-cellranger-hg19-3.0.0/genes.gtf.db'\n",
    "DATABASE = gffutils.FeatureDB(db_file)\n",
    "gene_id_to_name_dictionary = gene_id_to_name(DATABASE, gencode=False)\n",
    "\n",
    "# test to make sure function works\n",
    "# gene_id_to_name_dictionary['ENSG00000100320.18']\n",
    "gene_id_to_name_dictionary['ENSG00000100320']"
   ]
  },
  {
   "cell_type": "code",
   "execution_count": 5,
   "metadata": {},
   "outputs": [
    {
     "name": "stderr",
     "output_type": "stream",
     "text": [
      "100%|██████████| 20356/20356 [00:27<00:00, 750.06it/s] \n",
      "100%|██████████| 20356/20356 [00:36<00:00, 559.66it/s]\n"
     ]
    }
   ],
   "source": [
    "def id2name(row, d=gene_id_to_name_dictionary):\n",
    "    \"\"\"\n",
    "    Helper function to apply key/value matching to d across all rows\n",
    "    \"\"\"\n",
    "    return d[row['Geneid']]\n",
    "\n",
    "for table in merged_tables:\n",
    "    # read in the table\n",
    "    df = pd.read_csv(table, sep='\\t')\n",
    "    # make sure the 'name' column is the column that contains the geneid\n",
    "    df['genename'] = df.progress_apply(id2name, axis=1)\n",
    "    # setting index to genename pushes the 'genename' column to the front\n",
    "    df.set_index('genename', inplace=True)\n",
    "    # save\n",
    "    df.to_csv(os.path.splitext(table)[0] + \".wgenenames.txt\", sep='\\t')"
   ]
  },
  {
   "cell_type": "code",
   "execution_count": null,
   "metadata": {},
   "outputs": [],
   "source": []
  }
 ],
 "metadata": {
  "kernelspec": {
   "display_name": "python3-essential-tscc",
   "language": "python",
   "name": "python3essentialtscc"
  },
  "language_info": {
   "codemirror_mode": {
    "name": "ipython",
    "version": 3
   },
   "file_extension": ".py",
   "mimetype": "text/x-python",
   "name": "python",
   "nbconvert_exporter": "python",
   "pygments_lexer": "ipython3",
   "version": "3.6.7"
  }
 },
 "nbformat": 4,
 "nbformat_minor": 2
}
