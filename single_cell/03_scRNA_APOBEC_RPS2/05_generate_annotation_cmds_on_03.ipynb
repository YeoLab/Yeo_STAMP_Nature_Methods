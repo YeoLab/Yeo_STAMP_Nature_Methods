{
 "cells": [
  {
   "cell_type": "markdown",
   "metadata": {},
   "source": [
    "# Run annotator on all SAILOR results.\n",
    "- Annotator accepts inputs and outputs as lists, so let's take advantage of that so as not to submit 20k+ jobs at once."
   ]
  },
  {
   "cell_type": "code",
   "execution_count": 1,
   "metadata": {},
   "outputs": [],
   "source": [
    "import glob\n",
    "import os\n",
    "from tqdm import tnrange, tqdm_notebook\n",
    "from qtools import Submitter"
   ]
  },
  {
   "cell_type": "code",
   "execution_count": 2,
   "metadata": {},
   "outputs": [],
   "source": [
    "input_dir = '/home/bay001/projects/kris_apobec_20200121/permanent_data2/03_scRNA/sailor_outputs_individual_barcodes_merged_bedfiles'"
   ]
  },
  {
   "cell_type": "code",
   "execution_count": 3,
   "metadata": {},
   "outputs": [
    {
     "data": {
      "text/plain": [
       "19611"
      ]
     },
     "execution_count": 3,
     "metadata": {},
     "output_type": "execute_result"
    }
   ],
   "source": [
    "all_beds = glob.glob(os.path.join(input_dir, '*-1.bed'))\n",
    "len(all_beds)"
   ]
  },
  {
   "cell_type": "markdown",
   "metadata": {},
   "source": [
    "# 10X uses ensembl-style annotations, so each contig lacks the 'chr' prefix (so 1:10-20 instead of chr1:10-20). We need to fix this if we want to annotate using Gencode."
   ]
  },
  {
   "cell_type": "code",
   "execution_count": 4,
   "metadata": {},
   "outputs": [],
   "source": [
    "def fix_chr(infile, outfile):\n",
    "    with open(infile, 'r') as i:\n",
    "        with open(outfile, 'w') as o:\n",
    "            for line in i:\n",
    "                o.write('chr{}'.format(line))"
   ]
  },
  {
   "cell_type": "code",
   "execution_count": 5,
   "metadata": {},
   "outputs": [
    {
     "data": {
      "application/vnd.jupyter.widget-view+json": {
       "model_id": "8ba18b818239412787362582d69c69b8",
       "version_major": 2,
       "version_minor": 0
      },
      "text/plain": [
       "HBox(children=(IntProgress(value=0, max=19611), HTML(value=u'')))"
      ]
     },
     "metadata": {},
     "output_type": "display_data"
    }
   ],
   "source": [
    "progress = tnrange(len(all_beds))\n",
    "for bed in all_beds:\n",
    "    output_fx_bed = os.path.splitext(bed)[0] + \".fx.bed\"\n",
    "    fix_chr(bed, output_fx_bed)\n",
    "    progress.update(1)"
   ]
  },
  {
   "cell_type": "code",
   "execution_count": 6,
   "metadata": {},
   "outputs": [],
   "source": [
    "gtfdb_file = '/projects/ps-yeolab3/bay001/annotations/hg19/gencode_v19/gencode.v19.annotation.gtf.db'\n",
    "species = 'hg19'"
   ]
  },
  {
   "cell_type": "code",
   "execution_count": 7,
   "metadata": {},
   "outputs": [
    {
     "data": {
      "text/plain": [
       "19611"
      ]
     },
     "execution_count": 7,
     "metadata": {},
     "output_type": "execute_result"
    }
   ],
   "source": [
    "all_beds = glob.glob(os.path.join(input_dir, '*-1.fx.bed'))\n",
    "len(all_beds)"
   ]
  },
  {
   "cell_type": "markdown",
   "metadata": {},
   "source": [
    "# User chunker() to \"load up\" 500 files at a time and submit as one command \n",
    "- (ie. ```annotator --input GCAA-1.bed GCAC-1.bed GCAG-1.bed --output GCAA-1.bed.annotated GCAC-1.bed.annotated GCAG-1.bed.annotated```..)"
   ]
  },
  {
   "cell_type": "code",
   "execution_count": 8,
   "metadata": {},
   "outputs": [
    {
     "name": "stdout",
     "output_type": "stream",
     "text": [
      "Number of commands: 40\n"
     ]
    }
   ],
   "source": [
    "def chunker(seq, size):\n",
    "    \"\"\"\n",
    "    Chunks a long list into groups of (size).\n",
    "    \"\"\"\n",
    "    return (seq[pos:pos + size] for pos in range(0, len(seq), size))\n",
    "\n",
    "groupsize = 500\n",
    "\n",
    "cmds = []\n",
    "for group in chunker(all_beds, groupsize):\n",
    "    sample_str = \"\"\n",
    "    output_str = \"\"\n",
    "    cmd = 'module load annotator/0.0.14;annotator '\n",
    "    cmd += '--gtfdb {} '.format(gtfdb_file)\n",
    "    cmd += '--species {} '.format(species)\n",
    "    for g in group:\n",
    "        sample_str += '{} '.format(g)\n",
    "        output_str += '{} '.format(g + '.annotated')\n",
    "    cmd += '--input {} '.format(sample_str)\n",
    "    cmd += '--output {} '.format(output_str)\n",
    "    cmds.append(cmd)\n",
    "    \n",
    "print(\"Number of commands: {}\".format(len(cmds)))"
   ]
  },
  {
   "cell_type": "markdown",
   "metadata": {},
   "source": [
    "# Always try to run the first cmd already to make sure it's all correct."
   ]
  },
  {
   "cell_type": "code",
   "execution_count": 9,
   "metadata": {},
   "outputs": [
    {
     "name": "stderr",
     "output_type": "stream",
     "text": [
      "Writing 40 tasks as an array-job.\n",
      "Wrote commands to annotate_editing_sites.sh.\n",
      "Submitted script to queue home.\n",
      " Job ID: 21118719\n"
     ]
    },
    {
     "data": {
      "text/plain": [
       "<qtools.submitter.Submitter at 0x2b5a977f2c10>"
      ]
     },
     "execution_count": 9,
     "metadata": {},
     "output_type": "execute_result"
    }
   ],
   "source": [
    "Submitter(commands=cmds, job_name='annotate_editing_sites', array=True, nodes=1, ppn=8, submit=True, walltime='24:00:00')"
   ]
  },
  {
   "cell_type": "code",
   "execution_count": null,
   "metadata": {},
   "outputs": [],
   "source": []
  }
 ],
 "metadata": {
  "kernelspec": {
   "display_name": "python2-essential",
   "language": "python",
   "name": "python2-essential"
  },
  "language_info": {
   "codemirror_mode": {
    "name": "ipython",
    "version": 2
   },
   "file_extension": ".py",
   "mimetype": "text/x-python",
   "name": "python",
   "nbconvert_exporter": "python",
   "pygments_lexer": "ipython2",
   "version": "2.7.15"
  }
 },
 "nbformat": 4,
 "nbformat_minor": 2
}
