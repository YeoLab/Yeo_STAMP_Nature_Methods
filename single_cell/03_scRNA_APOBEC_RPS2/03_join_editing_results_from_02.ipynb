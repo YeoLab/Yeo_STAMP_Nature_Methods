{
 "cells": [
  {
   "cell_type": "markdown",
   "metadata": {},
   "source": [
    "# SAILOR produces results split by strand, so let's join them here."
   ]
  },
  {
   "cell_type": "code",
   "execution_count": 1,
   "metadata": {},
   "outputs": [],
   "source": [
    "import pandas as pd\n",
    "import numpy as np\n",
    "import os\n",
    "import glob\n",
    "from tqdm import tnrange, tqdm_notebook"
   ]
  },
  {
   "cell_type": "code",
   "execution_count": 2,
   "metadata": {},
   "outputs": [],
   "source": [
    "input_dir_prefix = '/home/bay001/projects/kris_apobec_20200121/permanent_data2/03_scRNA/sailor_outputs_individual_barcodes'\n",
    "bed_output_dir = '/home/bay001/projects/kris_apobec_20200121/permanent_data2/03_scRNA/sailor_outputs_individual_barcodes_merged_bedfiles/'\n",
    "bedgraph_output_dir = '/home/bay001/projects/kris_apobec_20200121/permanent_data2/03_scRNA/sailor_outputs_individual_barcodes_merged_bedgraphs/'\n",
    "bigwig_output_dir = '/home/bay001/projects/kris_apobec_20200121/permanent_data2/03_scRNA/sailor_outputs_individual_barcodes_merged_bigwigs/'"
   ]
  },
  {
   "cell_type": "code",
   "execution_count": null,
   "metadata": {},
   "outputs": [],
   "source": []
  },
  {
   "cell_type": "code",
   "execution_count": 3,
   "metadata": {},
   "outputs": [],
   "source": [
    "def filter_bed(df, conf_level):\n",
    "    \"\"\"\n",
    "    Filters the bed file given a conf level. We don't really use this score anymore since we're now scoring by edit fraction.\n",
    "    \"\"\"\n",
    "    return df[df['conf'] >= conf_level]\n",
    "\n",
    "def get_rev(fwd_file):\n",
    "    \"\"\"\n",
    "    (fwd) and (rev) bed files are identically named except for the 'fwd' and 'rev' annotation.\n",
    "    So it's easy to, given the fwd_file name, return the corresponding rev_file \n",
    "    \"\"\"\n",
    "    return fwd_file.replace(\n",
    "        '.fwd.sorted.rmdup.readfiltered.formatted.varfiltered.snpfiltered.ranked.bed',\n",
    "        '.rev.sorted.rmdup.readfiltered.formatted.varfiltered.snpfiltered.ranked.bed'\n",
    "    )\n",
    "\n",
    "def get_combined_bedfile_name(fwd_file):\n",
    "    \"\"\"\n",
    "    Really just re-formats the name to be shorter and remove the 'fwd' annotation. \n",
    "    We'll be using the returned string as the new 'merged' name\n",
    "    \"\"\"\n",
    "    return fwd_file.replace('.fwd.sorted.rmdup.readfiltered.formatted.varfiltered.snpfiltered.ranked.bed','.bed')\n",
    "\n",
    "def concat_bedfiles(fwd_file, rev_file):\n",
    "    \"\"\"\n",
    "    Combines two native SAILOR fwd and rev bedfiles\n",
    "    \"\"\"\n",
    "    common_header = ['chrom','start','end','info','conf','strand']\n",
    "    fwd = pd.read_csv(fwd_file, sep='\\t', names=common_header)\n",
    "    rev = pd.read_csv(rev_file, sep='\\t', names=common_header)\n",
    "    return pd.concat([fwd, rev])\n",
    "\n",
    "def get_number_edited_reads(row):\n",
    "    \"\"\"\n",
    "    SAILOR reports the total coverage and edit fraction in the 'info' column.\n",
    "    Use these two numbers to get the number of edited reads.\n",
    "    \"\"\"\n",
    "    total_reads, edit_type, fraction = row['info'].split('|')\n",
    "    return round(int(total_reads) * float(fraction))\n",
    "\n",
    "def label_cov_info(row):\n",
    "    \"\"\"\n",
    "    returns the num_edited and total_coverage as a concatenated string.\n",
    "    \"\"\"\n",
    "    return \"{},{}\".format(row['num_edited'], row['total_coverage'])"
   ]
  },
  {
   "cell_type": "markdown",
   "metadata": {},
   "source": [
    "# Let's break this up and convert according to the barcode prefix.\n",
    "- Basically cycle through each nt in a nested for loop and append the suffix to our ```input_dir_prefix``` in order to get the correct path per barcode."
   ]
  },
  {
   "cell_type": "code",
   "execution_count": 10,
   "metadata": {},
   "outputs": [
    {
     "data": {
      "application/vnd.jupyter.widget-view+json": {
       "model_id": "984907aa97294551a3cc6517930c543b",
       "version_major": 2,
       "version_minor": 0
      },
      "text/plain": [
       "HBox(children=(IntProgress(value=0, max=16), HTML(value='')))"
      ]
     },
     "metadata": {},
     "output_type": "display_data"
    },
    {
     "data": {
      "application/vnd.jupyter.widget-view+json": {
       "model_id": "ef46bbc7511a45be8afa70f36ef3aaa9",
       "version_major": 2,
       "version_minor": 0
      },
      "text/plain": [
       "HBox(children=(IntProgress(value=0, max=1012), HTML(value='')))"
      ]
     },
     "metadata": {},
     "output_type": "display_data"
    },
    {
     "data": {
      "application/vnd.jupyter.widget-view+json": {
       "model_id": "911de1bc4f124078bd189b24b64608fd",
       "version_major": 2,
       "version_minor": 0
      },
      "text/plain": [
       "HBox(children=(IntProgress(value=0, max=1080), HTML(value='')))"
      ]
     },
     "metadata": {},
     "output_type": "display_data"
    },
    {
     "data": {
      "application/vnd.jupyter.widget-view+json": {
       "model_id": "b505825543a545d4a991009fd6325451",
       "version_major": 2,
       "version_minor": 0
      },
      "text/plain": [
       "HBox(children=(IntProgress(value=0, max=1446), HTML(value='')))"
      ]
     },
     "metadata": {},
     "output_type": "display_data"
    },
    {
     "data": {
      "application/vnd.jupyter.widget-view+json": {
       "model_id": "6d18d03c11d547dd9cc6e17ac3636c07",
       "version_major": 2,
       "version_minor": 0
      },
      "text/plain": [
       "HBox(children=(IntProgress(value=0, max=1222), HTML(value='')))"
      ]
     },
     "metadata": {},
     "output_type": "display_data"
    },
    {
     "data": {
      "application/vnd.jupyter.widget-view+json": {
       "model_id": "",
       "version_major": 2,
       "version_minor": 0
      },
      "text/plain": [
       "HBox(children=(IntProgress(value=0, max=1496), HTML(value='')))"
      ]
     },
     "metadata": {},
     "output_type": "display_data"
    },
    {
     "data": {
      "application/vnd.jupyter.widget-view+json": {
       "model_id": "",
       "version_major": 2,
       "version_minor": 0
      },
      "text/plain": [
       "HBox(children=(IntProgress(value=0, max=974), HTML(value='')))"
      ]
     },
     "metadata": {},
     "output_type": "display_data"
    },
    {
     "data": {
      "application/vnd.jupyter.widget-view+json": {
       "model_id": "e756f6a2d02e4103bceae13014f2360f",
       "version_major": 2,
       "version_minor": 0
      },
      "text/plain": [
       "HBox(children=(IntProgress(value=0, max=928), HTML(value='')))"
      ]
     },
     "metadata": {},
     "output_type": "display_data"
    },
    {
     "data": {
      "application/vnd.jupyter.widget-view+json": {
       "model_id": "",
       "version_major": 2,
       "version_minor": 0
      },
      "text/plain": [
       "HBox(children=(IntProgress(value=0, max=1402), HTML(value='')))"
      ]
     },
     "metadata": {},
     "output_type": "display_data"
    },
    {
     "data": {
      "application/vnd.jupyter.widget-view+json": {
       "model_id": "",
       "version_major": 2,
       "version_minor": 0
      },
      "text/plain": [
       "HBox(children=(IntProgress(value=0, max=1320), HTML(value='')))"
      ]
     },
     "metadata": {},
     "output_type": "display_data"
    },
    {
     "data": {
      "application/vnd.jupyter.widget-view+json": {
       "model_id": "f1a0d65cc2b24a6e97d5c15181328b7e",
       "version_major": 2,
       "version_minor": 0
      },
      "text/plain": [
       "HBox(children=(IntProgress(value=0, max=793), HTML(value='')))"
      ]
     },
     "metadata": {},
     "output_type": "display_data"
    },
    {
     "data": {
      "application/vnd.jupyter.widget-view+json": {
       "model_id": "",
       "version_major": 2,
       "version_minor": 0
      },
      "text/plain": [
       "HBox(children=(IntProgress(value=0, max=1128), HTML(value='')))"
      ]
     },
     "metadata": {},
     "output_type": "display_data"
    },
    {
     "data": {
      "application/vnd.jupyter.widget-view+json": {
       "model_id": "4ee615cf6e994fdd927a9ece28612bf1",
       "version_major": 2,
       "version_minor": 0
      },
      "text/plain": [
       "HBox(children=(IntProgress(value=0, max=1488), HTML(value='')))"
      ]
     },
     "metadata": {},
     "output_type": "display_data"
    },
    {
     "data": {
      "application/vnd.jupyter.widget-view+json": {
       "model_id": "",
       "version_major": 2,
       "version_minor": 0
      },
      "text/plain": [
       "HBox(children=(IntProgress(value=0, max=1077), HTML(value='')))"
      ]
     },
     "metadata": {},
     "output_type": "display_data"
    },
    {
     "data": {
      "application/vnd.jupyter.widget-view+json": {
       "model_id": "",
       "version_major": 2,
       "version_minor": 0
      },
      "text/plain": [
       "HBox(children=(IntProgress(value=0, max=1689), HTML(value='')))"
      ]
     },
     "metadata": {},
     "output_type": "display_data"
    },
    {
     "data": {
      "application/vnd.jupyter.widget-view+json": {
       "model_id": "",
       "version_major": 2,
       "version_minor": 0
      },
      "text/plain": [
       "HBox(children=(IntProgress(value=0, max=1436), HTML(value='')))"
      ]
     },
     "metadata": {},
     "output_type": "display_data"
    },
    {
     "data": {
      "application/vnd.jupyter.widget-view+json": {
       "model_id": "173f24fd9cc34521acd6639c5765d432",
       "version_major": 2,
       "version_minor": 0
      },
      "text/plain": [
       "HBox(children=(IntProgress(value=0, max=1378), HTML(value='')))"
      ]
     },
     "metadata": {},
     "output_type": "display_data"
    }
   ],
   "source": [
    "errors = set()\n",
    "all_final_outputs = 0   # all final outputs. if this doesn't match the above, we need to check which files have not been created.\n",
    "\n",
    "progress = tnrange(16)\n",
    "for nt in ['A', 'C', 'G', 'T']:\n",
    "    for nt2 in ['A', 'C', 'G', 'T']:\n",
    "        split_output = os.path.join(input_dir_prefix + '_{}{}'.format(nt, nt2))\n",
    "        all_fwd_files = sorted(glob.glob(os.path.join(split_output, \"*/results/*.fwd.sorted.rmdup.readfiltered.formatted.varfiltered.snpfiltered.ranked.bed\"))) # ALL sailor forward bed files have this suffix.\n",
    "        progress_inner = tnrange(len(all_fwd_files), leave=False)\n",
    "        for f in all_fwd_files:\n",
    "            try:\n",
    "                output_file = os.path.join(\n",
    "                    bed_output_dir, \n",
    "                    os.path.basename(get_combined_bedfile_name(f))\n",
    "                )\n",
    "                if not os.path.exists(output_file):\n",
    "                    df = concat_bedfiles(f, get_rev(f)) # use this function to get the correct path to the reverse\n",
    "                    if df.shape[0] > 0:\n",
    "                        df['total_coverage'] = df['info'].apply(lambda x: int(x.split('|')[0]))\n",
    "                        df['num_edited'] = df.apply(get_number_edited_reads, axis=1)\n",
    "                        df['name_col'] = df.apply(label_cov_info, axis=1)\n",
    "                        df[['chrom','start','end','conf','name_col','strand']].to_csv(\n",
    "                            output_file, \n",
    "                            sep='\\t', \n",
    "                            index=False, \n",
    "                            header=False\n",
    "                        )\n",
    "            except Exception:\n",
    "                print(e)\n",
    "                errors.add(f)\n",
    "            all_final_outputs += 1\n",
    "            progress_inner.update(1)\n",
    "        progress.update(1)"
   ]
  },
  {
   "cell_type": "markdown",
   "metadata": {},
   "source": [
    "### The above codeblock will try and concat each fwd file with its reverse counterpart. If it fails for whatever reason, it will print the error above and ```errors``` will contain the files it had trouble concatenating."
   ]
  },
  {
   "cell_type": "code",
   "execution_count": 11,
   "metadata": {},
   "outputs": [
    {
     "data": {
      "text/plain": [
       "set()"
      ]
     },
     "execution_count": 11,
     "metadata": {},
     "output_type": "execute_result"
    }
   ],
   "source": [
    "errors"
   ]
  },
  {
   "cell_type": "code",
   "execution_count": null,
   "metadata": {},
   "outputs": [],
   "source": []
  }
 ],
 "metadata": {
  "kernelspec": {
   "display_name": "python3-essential-tscc",
   "language": "python",
   "name": "python3essentialtscc"
  },
  "language_info": {
   "codemirror_mode": {
    "name": "ipython",
    "version": 3
   },
   "file_extension": ".py",
   "mimetype": "text/x-python",
   "name": "python",
   "nbconvert_exporter": "python",
   "pygments_lexer": "ipython3",
   "version": "3.6.7"
  }
 },
 "nbformat": 4,
 "nbformat_minor": 2
}
