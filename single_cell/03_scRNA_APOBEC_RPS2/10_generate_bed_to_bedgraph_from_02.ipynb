{
 "cells": [
  {
   "cell_type": "markdown",
   "metadata": {},
   "source": [
    "# We need bigwig files for fast access to coverage (used by the score_edits_* scripts)"
   ]
  },
  {
   "cell_type": "code",
   "execution_count": 1,
   "metadata": {},
   "outputs": [],
   "source": [
    "import glob\n",
    "import pandas as pd\n",
    "import os\n",
    "from tqdm import tnrange, tqdm_notebook"
   ]
  },
  {
   "cell_type": "code",
   "execution_count": 2,
   "metadata": {},
   "outputs": [],
   "source": [
    "bed_file_dir = '/home/bay001/projects/kris_apobec_20200121/permanent_data2/03_scRNA_APOBEC_RPS2/sailor_outputs_individual_barcodes_merged_bedfiles'\n",
    "input_dir = '/home/bay001/projects/kris_apobec_20200121/permanent_data2/03_scRNA_APOBEC_RPS2/inputs/'\n",
    "output_dir = '/home/bay001/projects/kris_apobec_20200121/permanent_data2/03_scRNA_APOBEC_RPS2/bedgraph_files'"
   ]
  },
  {
   "cell_type": "code",
   "execution_count": 3,
   "metadata": {},
   "outputs": [],
   "source": [
    "top = 10"
   ]
  },
  {
   "cell_type": "code",
   "execution_count": 4,
   "metadata": {},
   "outputs": [
    {
     "data": {
      "text/html": [
       "<div>\n",
       "<style scoped>\n",
       "    .dataframe tbody tr th:only-of-type {\n",
       "        vertical-align: middle;\n",
       "    }\n",
       "\n",
       "    .dataframe tbody tr th {\n",
       "        vertical-align: top;\n",
       "    }\n",
       "\n",
       "    .dataframe thead th {\n",
       "        text-align: right;\n",
       "    }\n",
       "</style>\n",
       "<table border=\"1\" class=\"dataframe\">\n",
       "  <thead>\n",
       "    <tr style=\"text-align: right;\">\n",
       "      <th></th>\n",
       "      <th>index</th>\n",
       "      <th>batch</th>\n",
       "      <th>lenti_common_normalized</th>\n",
       "      <th>lenti_common</th>\n",
       "      <th>new_clusters</th>\n",
       "    </tr>\n",
       "  </thead>\n",
       "  <tbody>\n",
       "    <tr>\n",
       "      <th>0</th>\n",
       "      <td>Apo_Control_possorted_genome_bam_MD-AAACCCAAGC...</td>\n",
       "      <td>Apo-Edits</td>\n",
       "      <td>-0.809566</td>\n",
       "      <td>0.0</td>\n",
       "      <td>APOBEC_STAMP</td>\n",
       "    </tr>\n",
       "    <tr>\n",
       "      <th>1</th>\n",
       "      <td>Apo_Control_possorted_genome_bam_MD-AAACCCAAGG...</td>\n",
       "      <td>Apo-Edits</td>\n",
       "      <td>-0.782604</td>\n",
       "      <td>0.0</td>\n",
       "      <td>APOBEC_STAMP</td>\n",
       "    </tr>\n",
       "    <tr>\n",
       "      <th>2</th>\n",
       "      <td>Apo_Control_possorted_genome_bam_MD-AAACCCACAA...</td>\n",
       "      <td>Apo-Edits</td>\n",
       "      <td>-0.434219</td>\n",
       "      <td>1.0</td>\n",
       "      <td>APOBEC_STAMP</td>\n",
       "    </tr>\n",
       "    <tr>\n",
       "      <th>3</th>\n",
       "      <td>Apo_Control_possorted_genome_bam_MD-AAACCCACAC...</td>\n",
       "      <td>Apo-Edits</td>\n",
       "      <td>-0.545899</td>\n",
       "      <td>1.0</td>\n",
       "      <td>APOBEC_STAMP</td>\n",
       "    </tr>\n",
       "    <tr>\n",
       "      <th>4</th>\n",
       "      <td>Apo_Control_possorted_genome_bam_MD-AAACCCACAG...</td>\n",
       "      <td>Apo-Edits</td>\n",
       "      <td>1.697777</td>\n",
       "      <td>28.0</td>\n",
       "      <td>APOBEC_STAMP</td>\n",
       "    </tr>\n",
       "  </tbody>\n",
       "</table>\n",
       "</div>"
      ],
      "text/plain": [
       "                                               index      batch  \\\n",
       "0  Apo_Control_possorted_genome_bam_MD-AAACCCAAGC...  Apo-Edits   \n",
       "1  Apo_Control_possorted_genome_bam_MD-AAACCCAAGG...  Apo-Edits   \n",
       "2  Apo_Control_possorted_genome_bam_MD-AAACCCACAA...  Apo-Edits   \n",
       "3  Apo_Control_possorted_genome_bam_MD-AAACCCACAC...  Apo-Edits   \n",
       "4  Apo_Control_possorted_genome_bam_MD-AAACCCACAG...  Apo-Edits   \n",
       "\n",
       "   lenti_common_normalized  lenti_common  new_clusters  \n",
       "0                -0.809566           0.0  APOBEC_STAMP  \n",
       "1                -0.782604           0.0  APOBEC_STAMP  \n",
       "2                -0.434219           1.0  APOBEC_STAMP  \n",
       "3                -0.545899           1.0  APOBEC_STAMP  \n",
       "4                 1.697777          28.0  APOBEC_STAMP  "
      ]
     },
     "execution_count": 4,
     "metadata": {},
     "output_type": "execute_result"
    }
   ],
   "source": [
    "apo_barcodes = pd.read_csv(os.path.join(input_dir, 'APOBEC_STAMP_Apo_filtered_lenti_common_expression.csv'))\n",
    "rps2_barcodes = pd.read_csv(os.path.join(input_dir, 'RPS2_STAMP_Apo_filtered_lenti_common_expression.csv'))\n",
    "\n",
    "apo_barcodes.head()"
   ]
  },
  {
   "cell_type": "code",
   "execution_count": 5,
   "metadata": {},
   "outputs": [
    {
     "data": {
      "text/html": [
       "<div>\n",
       "<style scoped>\n",
       "    .dataframe tbody tr th:only-of-type {\n",
       "        vertical-align: middle;\n",
       "    }\n",
       "\n",
       "    .dataframe tbody tr th {\n",
       "        vertical-align: top;\n",
       "    }\n",
       "\n",
       "    .dataframe thead th {\n",
       "        text-align: right;\n",
       "    }\n",
       "</style>\n",
       "<table border=\"1\" class=\"dataframe\">\n",
       "  <thead>\n",
       "    <tr style=\"text-align: right;\">\n",
       "      <th></th>\n",
       "      <th>index</th>\n",
       "      <th>batch</th>\n",
       "      <th>lenti_common_normalized</th>\n",
       "      <th>lenti_common</th>\n",
       "      <th>new_clusters</th>\n",
       "    </tr>\n",
       "  </thead>\n",
       "  <tbody>\n",
       "    <tr>\n",
       "      <th>22</th>\n",
       "      <td>RPS2_possorted_genome_bam_MD-AAAGTCCCACGTACAT-...</td>\n",
       "      <td>RPS2-Edits</td>\n",
       "      <td>4.660247</td>\n",
       "      <td>180.0</td>\n",
       "      <td>RPS2_STAMP</td>\n",
       "    </tr>\n",
       "    <tr>\n",
       "      <th>1401</th>\n",
       "      <td>RPS2_possorted_genome_bam_MD-CGGCAGTGTGCGTGCT-...</td>\n",
       "      <td>RPS2-Edits</td>\n",
       "      <td>3.951416</td>\n",
       "      <td>149.0</td>\n",
       "      <td>RPS2_STAMP</td>\n",
       "    </tr>\n",
       "    <tr>\n",
       "      <th>753</th>\n",
       "      <td>RPS2_possorted_genome_bam_MD-ATGAGGGCAATAGAGT-...</td>\n",
       "      <td>RPS2-Edits</td>\n",
       "      <td>3.776582</td>\n",
       "      <td>108.0</td>\n",
       "      <td>RPS2_STAMP</td>\n",
       "    </tr>\n",
       "    <tr>\n",
       "      <th>189</th>\n",
       "      <td>RPS2_possorted_genome_bam_MD-ACACAGTTCGTCTAAG-...</td>\n",
       "      <td>RPS2-Edits</td>\n",
       "      <td>3.666702</td>\n",
       "      <td>16.0</td>\n",
       "      <td>RPS2_STAMP</td>\n",
       "    </tr>\n",
       "    <tr>\n",
       "      <th>2461</th>\n",
       "      <td>RPS2_possorted_genome_bam_MD-GTGCAGCTCACGATAC-...</td>\n",
       "      <td>RPS2-Edits</td>\n",
       "      <td>3.622875</td>\n",
       "      <td>82.0</td>\n",
       "      <td>RPS2_STAMP</td>\n",
       "    </tr>\n",
       "    <tr>\n",
       "      <th>1144</th>\n",
       "      <td>RPS2_possorted_genome_bam_MD-CCAATTTAGAGTTGCG-...</td>\n",
       "      <td>RPS2-Edits</td>\n",
       "      <td>3.516732</td>\n",
       "      <td>134.0</td>\n",
       "      <td>RPS2_STAMP</td>\n",
       "    </tr>\n",
       "    <tr>\n",
       "      <th>3231</th>\n",
       "      <td>RPS2_possorted_genome_bam_MD-TGCTTCGAGATGACCG-...</td>\n",
       "      <td>RPS2-Edits</td>\n",
       "      <td>3.499275</td>\n",
       "      <td>76.0</td>\n",
       "      <td>RPS2_STAMP</td>\n",
       "    </tr>\n",
       "    <tr>\n",
       "      <th>3554</th>\n",
       "      <td>RPS2_possorted_genome_bam_MD-TTGTTTGGTCGGATTT-...</td>\n",
       "      <td>RPS2-Edits</td>\n",
       "      <td>3.459460</td>\n",
       "      <td>100.0</td>\n",
       "      <td>RPS2_STAMP</td>\n",
       "    </tr>\n",
       "    <tr>\n",
       "      <th>584</th>\n",
       "      <td>RPS2_possorted_genome_bam_MD-AGTCAACAGTGGACGT-...</td>\n",
       "      <td>RPS2-Edits</td>\n",
       "      <td>3.453263</td>\n",
       "      <td>67.0</td>\n",
       "      <td>RPS2_STAMP</td>\n",
       "    </tr>\n",
       "    <tr>\n",
       "      <th>193</th>\n",
       "      <td>RPS2_possorted_genome_bam_MD-ACACCAATCCTAAGTG-...</td>\n",
       "      <td>RPS2-Edits</td>\n",
       "      <td>3.398006</td>\n",
       "      <td>37.0</td>\n",
       "      <td>RPS2_STAMP</td>\n",
       "    </tr>\n",
       "  </tbody>\n",
       "</table>\n",
       "</div>"
      ],
      "text/plain": [
       "                                                  index       batch  \\\n",
       "22    RPS2_possorted_genome_bam_MD-AAAGTCCCACGTACAT-...  RPS2-Edits   \n",
       "1401  RPS2_possorted_genome_bam_MD-CGGCAGTGTGCGTGCT-...  RPS2-Edits   \n",
       "753   RPS2_possorted_genome_bam_MD-ATGAGGGCAATAGAGT-...  RPS2-Edits   \n",
       "189   RPS2_possorted_genome_bam_MD-ACACAGTTCGTCTAAG-...  RPS2-Edits   \n",
       "2461  RPS2_possorted_genome_bam_MD-GTGCAGCTCACGATAC-...  RPS2-Edits   \n",
       "1144  RPS2_possorted_genome_bam_MD-CCAATTTAGAGTTGCG-...  RPS2-Edits   \n",
       "3231  RPS2_possorted_genome_bam_MD-TGCTTCGAGATGACCG-...  RPS2-Edits   \n",
       "3554  RPS2_possorted_genome_bam_MD-TTGTTTGGTCGGATTT-...  RPS2-Edits   \n",
       "584   RPS2_possorted_genome_bam_MD-AGTCAACAGTGGACGT-...  RPS2-Edits   \n",
       "193   RPS2_possorted_genome_bam_MD-ACACCAATCCTAAGTG-...  RPS2-Edits   \n",
       "\n",
       "      lenti_common_normalized  lenti_common new_clusters  \n",
       "22                   4.660247         180.0   RPS2_STAMP  \n",
       "1401                 3.951416         149.0   RPS2_STAMP  \n",
       "753                  3.776582         108.0   RPS2_STAMP  \n",
       "189                  3.666702          16.0   RPS2_STAMP  \n",
       "2461                 3.622875          82.0   RPS2_STAMP  \n",
       "1144                 3.516732         134.0   RPS2_STAMP  \n",
       "3231                 3.499275          76.0   RPS2_STAMP  \n",
       "3554                 3.459460         100.0   RPS2_STAMP  \n",
       "584                  3.453263          67.0   RPS2_STAMP  \n",
       "193                  3.398006          37.0   RPS2_STAMP  "
      ]
     },
     "execution_count": 5,
     "metadata": {},
     "output_type": "execute_result"
    }
   ],
   "source": [
    "rps2_barcodes.sort_values(by=['lenti_common_normalized'], ascending=False, inplace=True)\n",
    "apo_barcodes.sort_values(by=['lenti_common_normalized'], ascending=False, inplace=True)\n",
    "\n",
    "rps2_barcodes = rps2_barcodes.head(top)\n",
    "apo_barcodes = apo_barcodes.head(top)\n",
    "\n",
    "rps2_barcodes"
   ]
  },
  {
   "cell_type": "code",
   "execution_count": 6,
   "metadata": {},
   "outputs": [
    {
     "data": {
      "text/html": [
       "<div>\n",
       "<style scoped>\n",
       "    .dataframe tbody tr th:only-of-type {\n",
       "        vertical-align: middle;\n",
       "    }\n",
       "\n",
       "    .dataframe tbody tr th {\n",
       "        vertical-align: top;\n",
       "    }\n",
       "\n",
       "    .dataframe thead th {\n",
       "        text-align: right;\n",
       "    }\n",
       "</style>\n",
       "<table border=\"1\" class=\"dataframe\">\n",
       "  <thead>\n",
       "    <tr style=\"text-align: right;\">\n",
       "      <th></th>\n",
       "      <th>index</th>\n",
       "      <th>batch</th>\n",
       "      <th>lenti_common_normalized</th>\n",
       "      <th>lenti_common</th>\n",
       "      <th>new_clusters</th>\n",
       "      <th>bed</th>\n",
       "    </tr>\n",
       "  </thead>\n",
       "  <tbody>\n",
       "    <tr>\n",
       "      <th>22</th>\n",
       "      <td>RPS2_possorted_genome_bam_MD-AAAGTCCCACGTACAT-...</td>\n",
       "      <td>RPS2-Edits</td>\n",
       "      <td>4.660247</td>\n",
       "      <td>180.0</td>\n",
       "      <td>RPS2_STAMP</td>\n",
       "      <td>/home/bay001/projects/kris_apobec_20200121/per...</td>\n",
       "    </tr>\n",
       "    <tr>\n",
       "      <th>1401</th>\n",
       "      <td>RPS2_possorted_genome_bam_MD-CGGCAGTGTGCGTGCT-...</td>\n",
       "      <td>RPS2-Edits</td>\n",
       "      <td>3.951416</td>\n",
       "      <td>149.0</td>\n",
       "      <td>RPS2_STAMP</td>\n",
       "      <td>/home/bay001/projects/kris_apobec_20200121/per...</td>\n",
       "    </tr>\n",
       "    <tr>\n",
       "      <th>753</th>\n",
       "      <td>RPS2_possorted_genome_bam_MD-ATGAGGGCAATAGAGT-...</td>\n",
       "      <td>RPS2-Edits</td>\n",
       "      <td>3.776582</td>\n",
       "      <td>108.0</td>\n",
       "      <td>RPS2_STAMP</td>\n",
       "      <td>/home/bay001/projects/kris_apobec_20200121/per...</td>\n",
       "    </tr>\n",
       "    <tr>\n",
       "      <th>189</th>\n",
       "      <td>RPS2_possorted_genome_bam_MD-ACACAGTTCGTCTAAG-...</td>\n",
       "      <td>RPS2-Edits</td>\n",
       "      <td>3.666702</td>\n",
       "      <td>16.0</td>\n",
       "      <td>RPS2_STAMP</td>\n",
       "      <td>/home/bay001/projects/kris_apobec_20200121/per...</td>\n",
       "    </tr>\n",
       "    <tr>\n",
       "      <th>2461</th>\n",
       "      <td>RPS2_possorted_genome_bam_MD-GTGCAGCTCACGATAC-...</td>\n",
       "      <td>RPS2-Edits</td>\n",
       "      <td>3.622875</td>\n",
       "      <td>82.0</td>\n",
       "      <td>RPS2_STAMP</td>\n",
       "      <td>/home/bay001/projects/kris_apobec_20200121/per...</td>\n",
       "    </tr>\n",
       "  </tbody>\n",
       "</table>\n",
       "</div>"
      ],
      "text/plain": [
       "                                                  index       batch  \\\n",
       "22    RPS2_possorted_genome_bam_MD-AAAGTCCCACGTACAT-...  RPS2-Edits   \n",
       "1401  RPS2_possorted_genome_bam_MD-CGGCAGTGTGCGTGCT-...  RPS2-Edits   \n",
       "753   RPS2_possorted_genome_bam_MD-ATGAGGGCAATAGAGT-...  RPS2-Edits   \n",
       "189   RPS2_possorted_genome_bam_MD-ACACAGTTCGTCTAAG-...  RPS2-Edits   \n",
       "2461  RPS2_possorted_genome_bam_MD-GTGCAGCTCACGATAC-...  RPS2-Edits   \n",
       "\n",
       "      lenti_common_normalized  lenti_common new_clusters  \\\n",
       "22                   4.660247         180.0   RPS2_STAMP   \n",
       "1401                 3.951416         149.0   RPS2_STAMP   \n",
       "753                  3.776582         108.0   RPS2_STAMP   \n",
       "189                  3.666702          16.0   RPS2_STAMP   \n",
       "2461                 3.622875          82.0   RPS2_STAMP   \n",
       "\n",
       "                                                    bed  \n",
       "22    /home/bay001/projects/kris_apobec_20200121/per...  \n",
       "1401  /home/bay001/projects/kris_apobec_20200121/per...  \n",
       "753   /home/bay001/projects/kris_apobec_20200121/per...  \n",
       "189   /home/bay001/projects/kris_apobec_20200121/per...  \n",
       "2461  /home/bay001/projects/kris_apobec_20200121/per...  "
      ]
     },
     "execution_count": 6,
     "metadata": {},
     "output_type": "execute_result"
    }
   ],
   "source": [
    "def index_to_bed(row, to_replace):\n",
    "    \"\"\"\n",
    "    \"\"\"\n",
    "    barcode = row['index']\n",
    "    for replace in to_replace:\n",
    "        barcode = barcode.replace(replace, \"\")\n",
    "        \n",
    "    bed = os.path.join(bed_file_dir, barcode + \".fx.bed\")\n",
    "    assert os.path.exists(bed)\n",
    "    return bed\n",
    "\n",
    "rps2_barcodes['bed'] = rps2_barcodes.apply(index_to_bed, args=(['-RPS2-Edits'],), axis=1)\n",
    "apo_barcodes['bed'] = apo_barcodes.apply(index_to_bed, args=(['-Apo-Edits'],), axis=1)\n",
    "rps2_barcodes.head()"
   ]
  },
  {
   "cell_type": "code",
   "execution_count": 7,
   "metadata": {},
   "outputs": [],
   "source": [
    "def calculate_edit_fraction(row):\n",
    "    edited, total = row['score'].split(',')\n",
    "    return int(edited)/float(total)\n",
    "\n",
    "\n",
    "def convert_to_bedgraph(input_bed, output_dir, conf):\n",
    "    df = pd.read_csv(input_bed, sep='\\t', names=['chrom','start','end','conf','score','strand'])\n",
    "    df = df[df['conf'] >= conf]\n",
    "    df['editfrac'] = df.apply(calculate_edit_fraction, axis=1)\n",
    "    return df[['chrom','start','end','editfrac']], os.path.join(output_dir, os.path.basename(input_bed).replace('.bed','.conf{}.bedgraph'.format(conf)))"
   ]
  },
  {
   "cell_type": "code",
   "execution_count": 8,
   "metadata": {},
   "outputs": [],
   "source": [
    "confs = [0.0, 0.5, 0.9, 0.99, 0.999, 1]"
   ]
  },
  {
   "cell_type": "code",
   "execution_count": 9,
   "metadata": {},
   "outputs": [
    {
     "data": {
      "application/vnd.jupyter.widget-view+json": {
       "model_id": "ce92d1a51a1742af8d1aca3bf4b597a9",
       "version_major": 2,
       "version_minor": 0
      },
      "text/plain": [
       "HBox(children=(IntProgress(value=0, max=60), HTML(value='')))"
      ]
     },
     "metadata": {},
     "output_type": "display_data"
    }
   ],
   "source": [
    "progress = tnrange(len(rps2_barcodes['bed'])*len(confs))\n",
    "for conf in confs:\n",
    "    for bed in rps2_barcodes['bed']:\n",
    "        df, bedgraph_file = convert_to_bedgraph(bed, output_dir, conf)\n",
    "        df.to_csv(bedgraph_file, sep='\\t', header=False, index=False)\n",
    "        progress.update(1)"
   ]
  },
  {
   "cell_type": "code",
   "execution_count": 10,
   "metadata": {},
   "outputs": [
    {
     "data": {
      "application/vnd.jupyter.widget-view+json": {
       "model_id": "a0f2770c24454db19ad77b93cea64414",
       "version_major": 2,
       "version_minor": 0
      },
      "text/plain": [
       "HBox(children=(IntProgress(value=0, max=60), HTML(value='')))"
      ]
     },
     "metadata": {},
     "output_type": "display_data"
    }
   ],
   "source": [
    "progress = tnrange(len(apo_barcodes['bed'])*len(confs))\n",
    "for conf in confs:\n",
    "    for bed in rps2_barcodes['bed']:\n",
    "        df, bedgraph_file = convert_to_bedgraph(bed, output_dir, conf)\n",
    "        df.to_csv(bedgraph_file, sep='\\t', header=False, index=False)\n",
    "        progress.update(1)"
   ]
  },
  {
   "cell_type": "code",
   "execution_count": 11,
   "metadata": {},
   "outputs": [
    {
     "data": {
      "application/vnd.jupyter.widget-view+json": {
       "model_id": "28956b3fc2774a7fbf0e7d30db0e06c3",
       "version_major": 2,
       "version_minor": 0
      },
      "text/plain": [
       "HBox(children=(IntProgress(value=0, max=60), HTML(value='')))"
      ]
     },
     "metadata": {},
     "output_type": "display_data"
    }
   ],
   "source": [
    "confs = [0.0, 0.5, 0.9, 0.99, 0.999, 1]\n",
    "progress = tnrange(len(rps2_barcodes['bed'])*len(confs))\n",
    "for conf in confs:\n",
    "    for bed in rps2_barcodes['bed']:\n",
    "        df, bedgraph_file = convert_to_bedgraph(bed, output_dir, conf)\n",
    "        df.to_csv(bedgraph_file, sep='\\t', header=False, index=False)\n",
    "        progress.update(1)"
   ]
  }
 ],
 "metadata": {
  "kernelspec": {
   "display_name": "python3-essential-tscc",
   "language": "python",
   "name": "python3essentialtscc"
  },
  "language_info": {
   "codemirror_mode": {
    "name": "ipython",
    "version": 3
   },
   "file_extension": ".py",
   "mimetype": "text/x-python",
   "name": "python",
   "nbconvert_exporter": "python",
   "pygments_lexer": "ipython3",
   "version": "3.6.7"
  }
 },
 "nbformat": 4,
 "nbformat_minor": 2
}
