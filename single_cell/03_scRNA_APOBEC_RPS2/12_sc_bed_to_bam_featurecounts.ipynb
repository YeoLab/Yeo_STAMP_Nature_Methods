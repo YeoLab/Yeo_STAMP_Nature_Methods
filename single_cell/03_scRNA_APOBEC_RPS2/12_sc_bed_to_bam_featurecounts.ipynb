{
 "cells": [
  {
   "cell_type": "markdown",
   "metadata": {},
   "source": [
    "# Idea is to take the BED files with edits and run featureCounts on them, but featureCounts needs a BAM file as input.\n",
    "- This notebook was formerly: La_calculate_epkm_sc.ipynb (/home/bay001/projects/ryan_editing_20190314/permanent_data/43_new_scRNA_editing/La_calculate_epkm_sc.ipynb)\n",
    "- This notebook takes edits (merged from both strands) from each bin (since there are 20k cells to account for, I've split each run based on the first 2 bases of each barcode) and runs featureCounts. Then it joins all outputs together to form one dataframe.\n",
    "- This notebook also counts edits across just the 3'UTR for comparison to bulk."
   ]
  },
  {
   "cell_type": "code",
   "execution_count": 1,
   "metadata": {},
   "outputs": [],
   "source": [
    "%matplotlib inline\n",
    "\n",
    "import glob\n",
    "import os\n",
    "import pandas as pd\n",
    "import gffutils\n",
    "import pysam\n",
    "import pybedtools\n",
    "import matplotlib.pyplot as plt\n",
    "import seaborn as sns\n",
    "import matplotlib.pyplot as plt\n",
    "import scipy.stats as stats\n",
    "from collections import OrderedDict\n",
    "from tqdm import tnrange, tqdm_notebook\n",
    "from qtools import Submitter"
   ]
  },
  {
   "cell_type": "markdown",
   "metadata": {},
   "source": [
    "# Important! Filter the edit file for conf score"
   ]
  },
  {
   "cell_type": "code",
   "execution_count": 2,
   "metadata": {},
   "outputs": [],
   "source": [
    "conf=0.9"
   ]
  },
  {
   "cell_type": "code",
   "execution_count": 3,
   "metadata": {},
   "outputs": [],
   "source": [
    "input_dir = '/home/bay001/projects/kris_apobec_20200121/permanent_data2/03_scRNA_APOBEC_RPS2/inputs/'\n",
    "output_dir = '/home/bay001/projects/kris_apobec_20200121/permanent_data2/03_scRNA_APOBEC_RPS2/outputs/'\n",
    "\n",
    "sailor_output_dir = '/home/bay001/projects/kris_apobec_20200121/permanent_data2/03_scRNA_APOBEC_RPS2/sailor_outputs_individual_barcodes_merged_bedfiles'\n",
    "tmp_dir = '/home/bay001/projects/kris_apobec_20200121/permanent_data2/03_scRNA_APOBEC_RPS2/tmp/for_featurecounts{}'.format(conf)"
   ]
  },
  {
   "cell_type": "code",
   "execution_count": 4,
   "metadata": {},
   "outputs": [],
   "source": [
    "for nt in ['A', 'C', 'G', 'T']:\n",
    "    for nt2 in ['A', 'C', 'G', 'T']:\n",
    "        split_tmp_dir = os.path.join(tmp_dir, '{}{}'.format(nt, nt2))\n",
    "        if not os.path.exists(split_tmp_dir):\n",
    "            ! mkdir $split_tmp_dir"
   ]
  },
  {
   "cell_type": "markdown",
   "metadata": {},
   "source": [
    "# Convert BED to BAM\n",
    "- every 'alignment' is an edit site. "
   ]
  },
  {
   "cell_type": "code",
   "execution_count": 6,
   "metadata": {},
   "outputs": [
    {
     "name": "stdout",
     "output_type": "stream",
     "text": [
      "19611\n"
     ]
    },
    {
     "data": {
      "text/plain": [
       "['/home/bay001/projects/kris_apobec_20200121/permanent_data2/03_scRNA_APOBEC_RPS2/sailor_outputs_individual_barcodes_merged_bedfiles/Apo_Control_possorted_genome_bam_MD-AAACCCAAGCCAGTAG-1.bed',\n",
       " '/home/bay001/projects/kris_apobec_20200121/permanent_data2/03_scRNA_APOBEC_RPS2/sailor_outputs_individual_barcodes_merged_bedfiles/Apo_Control_possorted_genome_bam_MD-AAACCCAAGGATGCGT-1.bed',\n",
       " '/home/bay001/projects/kris_apobec_20200121/permanent_data2/03_scRNA_APOBEC_RPS2/sailor_outputs_individual_barcodes_merged_bedfiles/Apo_Control_possorted_genome_bam_MD-AAACCCACAATACAGA-1.bed']"
      ]
     },
     "execution_count": 6,
     "metadata": {},
     "output_type": "execute_result"
    }
   ],
   "source": [
    "all_bed_files = sorted(glob.glob(os.path.join(sailor_output_dir, '*-1.bed')))\n",
    "print(len(all_bed_files))\n",
    "all_bed_files[:3] # just like to see what the filenames look like so we can better parse them out in the cells below."
   ]
  },
  {
   "cell_type": "markdown",
   "metadata": {},
   "source": [
    "# Basically filter for conf, perform bedToBam and samtools sort on these guys."
   ]
  },
  {
   "cell_type": "code",
   "execution_count": 7,
   "metadata": {},
   "outputs": [
    {
     "data": {
      "application/vnd.jupyter.widget-view+json": {
       "model_id": "609e0a7a7e0e477eb95d6b9a76840543",
       "version_major": 2,
       "version_minor": 0
      },
      "text/plain": [
       "HBox(children=(IntProgress(value=0, max=19611), HTML(value=u'')))"
      ]
     },
     "metadata": {},
     "output_type": "display_data"
    },
    {
     "name": "stderr",
     "output_type": "stream",
     "text": [
      "/projects/ps-yeolab4/bay001/anaconda2/envs/python2-essential/lib/python2.7/site-packages/ipykernel_launcher.py:6: FutureWarning: read_table is deprecated, use read_csv instead, passing sep='\\t'.\n",
      "  \n"
     ]
    }
   ],
   "source": [
    "def filter_bed(input_bed, output_bed, conf):\n",
    "    \"\"\"\n",
    "    Filters the BED file \n",
    "    \"\"\"\n",
    "    edit_head = ['chrom','start','end','conf','frac','strand']\n",
    "    df = pd.read_table(input_bed, names=edit_head)\n",
    "    df = df[df['conf']>=conf]\n",
    "    df.to_csv(output_bed, sep='\\t', header=False, index=False)\n",
    "\n",
    "\n",
    "genome = '/home/bay001/projects/kris_apobec_20200121/permanent_data2/03_scRNA_APOBEC_RPS2/inputs/refdata-cellranger-hg19_lenti_common-3.0.0/star/chrNameLength.txt'\n",
    "progress = tnrange(len(all_bed_files))\n",
    "for bed in all_bed_files:\n",
    "    prefix = os.path.basename(bed).split('possorted_genome_bam_MD-')[1][:2]                               # ie. possorted_genome_bam_MD-AAACCCAAGAGCCCAA-1.bed -> AA\n",
    "    split_tmp_dir = os.path.join(tmp_dir, \"{}\".format(prefix))                                            # ie. AA -> for_featurecounts0.9/AA\n",
    "    filter_fn = os.path.join(split_tmp_dir, os.path.basename(bed) + \".{}.bed\".format(conf))               # ie. for_featurecounts0.9/AA/possorted_genome_bam_MD-AAACCCAAGAGCCCAA-1.bed.0.9.bed\n",
    "    output_bam = os.path.join(split_tmp_dir, os.path.basename(bed).replace('.bed','.bam'))                # ie. for_featurecounts0.9/AA/possorted_genome_bam_MD-AAACCCAAGAGCCCAA-1.bam\n",
    "    output_sorted_bam = os.path.join(split_tmp_dir, os.path.basename(bed).replace('.bed','.sorted.bam'))  # ie. for_featurecounts0.9/AA/possorted_genome_bam_MD-AAACCCAAGAGCCCAA-1.sorted.bam\n",
    "\n",
    "    if not os.path.exists(output_sorted_bam):\n",
    "        filter_bed(bed, filter_fn, conf)\n",
    "        cmd = 'bedToBam '\n",
    "        cmd += '-i {} '.format(filter_fn)\n",
    "        cmd += '-g {} '.format(genome)\n",
    "        cmd += '> {}'.format(output_bam)\n",
    "        ! $cmd\n",
    "        sort_cmd = 'samtools sort {} > {}'.format(output_bam, output_sorted_bam)\n",
    "        ! $sort_cmd\n",
    "    progress.update(1)"
   ]
  },
  {
   "cell_type": "markdown",
   "metadata": {},
   "source": [
    "# Run featureCounts to get the number of edits assigned to each gene.\n",
    "- Run featureCounts 16 times, once in each \"bin\" to save resources"
   ]
  },
  {
   "cell_type": "code",
   "execution_count": 8,
   "metadata": {},
   "outputs": [],
   "source": [
    "gtf = '/home/bay001/projects/kris_apobec_20200121/permanent_data2/03_scRNA_APOBEC_RPS2/inputs/refdata-cellranger-hg19_lenti_common-3.0.0/genes/genes.gtf'"
   ]
  },
  {
   "cell_type": "code",
   "execution_count": 9,
   "metadata": {},
   "outputs": [],
   "source": [
    "cmds = []\n",
    "for nt in ['A', 'C', 'G', 'T']:\n",
    "    for nt2 in ['A', 'C', 'G', 'T']:\n",
    "        split_tmp_dir = os.path.join(tmp_dir, '{}{}'.format(nt, nt2))\n",
    "\n",
    "        cmd = 'module load subreadfeaturecounts;featureCounts '\n",
    "        cmd += '-a {} '.format(gtf)\n",
    "        cmd += '-s 1 '\n",
    "        cmd += '-o {}'.format(os.path.join(split_tmp_dir, 'counts_at_conf_{}.txt '.format(conf)))\n",
    "        cmd += '-R CORE '\n",
    "        cmd += os.path.join(split_tmp_dir, '*.sorted.bam')\n",
    "\n",
    "        cmds.append(cmd)"
   ]
  },
  {
   "cell_type": "code",
   "execution_count": 10,
   "metadata": {},
   "outputs": [
    {
     "name": "stdout",
     "output_type": "stream",
     "text": [
      "16\n"
     ]
    },
    {
     "data": {
      "text/plain": [
       "['module load subreadfeaturecounts;featureCounts -a /home/bay001/projects/kris_apobec_20200121/permanent_data2/03_scRNA_APOBEC_RPS2/inputs/refdata-cellranger-hg19_lenti_common-3.0.0/genes/genes.gtf -s 1 -o /home/bay001/projects/kris_apobec_20200121/permanent_data2/03_scRNA_APOBEC_RPS2/tmp/for_featurecounts0.9/AA/counts_at_conf_0.9.txt -R CORE /home/bay001/projects/kris_apobec_20200121/permanent_data2/03_scRNA_APOBEC_RPS2/tmp/for_featurecounts0.9/AA/*.sorted.bam',\n",
       " 'module load subreadfeaturecounts;featureCounts -a /home/bay001/projects/kris_apobec_20200121/permanent_data2/03_scRNA_APOBEC_RPS2/inputs/refdata-cellranger-hg19_lenti_common-3.0.0/genes/genes.gtf -s 1 -o /home/bay001/projects/kris_apobec_20200121/permanent_data2/03_scRNA_APOBEC_RPS2/tmp/for_featurecounts0.9/AC/counts_at_conf_0.9.txt -R CORE /home/bay001/projects/kris_apobec_20200121/permanent_data2/03_scRNA_APOBEC_RPS2/tmp/for_featurecounts0.9/AC/*.sorted.bam']"
      ]
     },
     "execution_count": 10,
     "metadata": {},
     "output_type": "execute_result"
    }
   ],
   "source": [
    "print(len(cmds))\n",
    "cmds[:2]"
   ]
  },
  {
   "cell_type": "code",
   "execution_count": 11,
   "metadata": {},
   "outputs": [
    {
     "name": "stderr",
     "output_type": "stream",
     "text": [
      "Writing 16 tasks as an array-job.\n",
      "Wrote commands to featureCounts.sh.\n",
      "Submitted script to queue home.\n",
      " Job ID: 21965831\n"
     ]
    },
    {
     "data": {
      "text/plain": [
       "<qtools.submitter.Submitter at 0x2aff1d865190>"
      ]
     },
     "execution_count": 11,
     "metadata": {},
     "output_type": "execute_result"
    }
   ],
   "source": [
    "Submitter(\n",
    "    commands=cmds,\n",
    "    job_name='featureCounts',\n",
    "    sh='featureCounts.sh',\n",
    "    array=True,\n",
    "    nodes=1,\n",
    "    ppn=2,\n",
    "    walltime='48:00:00',\n",
    "    submit=True,\n",
    ")"
   ]
  },
  {
   "cell_type": "markdown",
   "metadata": {},
   "source": [
    "# Let's run featureCounts across just 3utrs also, in addition to the whole gene.\n",
    "- Using the 10X ensembl-style three_prime_utr annotations, generate a SAF file and just call featureCounts on that.\n",
    "- Run featureCounts 16 times, once in each \"bin\" to save resources"
   ]
  },
  {
   "cell_type": "code",
   "execution_count": 12,
   "metadata": {},
   "outputs": [],
   "source": [
    "gtf_3utr_file = os.path.join(input_dir, 'genes.three_prime_utr_only.gtf')\n",
    "\n",
    "! grep --color 'three_prime_utr' $gtf > $gtf_3utr_file"
   ]
  },
  {
   "cell_type": "code",
   "execution_count": 13,
   "metadata": {},
   "outputs": [
    {
     "name": "stderr",
     "output_type": "stream",
     "text": [
      "/home/bay001/anaconda2/envs/python2-essential/lib/python2.7/site-packages/pandas/io/parsers.py:702: UserWarning: Duplicate names specified. This will raise an error in the future.\n",
      "  return _read(filepath_or_buffer, kwds)\n"
     ]
    },
    {
     "data": {
      "text/html": [
       "<div>\n",
       "<style scoped>\n",
       "    .dataframe tbody tr th:only-of-type {\n",
       "        vertical-align: middle;\n",
       "    }\n",
       "\n",
       "    .dataframe tbody tr th {\n",
       "        vertical-align: top;\n",
       "    }\n",
       "\n",
       "    .dataframe thead th {\n",
       "        text-align: right;\n",
       "    }\n",
       "</style>\n",
       "<table border=\"1\" class=\"dataframe\">\n",
       "  <thead>\n",
       "    <tr style=\"text-align: right;\">\n",
       "      <th></th>\n",
       "      <th>geneid</th>\n",
       "      <th>chrom</th>\n",
       "      <th>start</th>\n",
       "      <th>end</th>\n",
       "      <th>strand</th>\n",
       "    </tr>\n",
       "  </thead>\n",
       "  <tbody>\n",
       "    <tr>\n",
       "      <th>0</th>\n",
       "      <td>ENSG00000237683</td>\n",
       "      <td>1</td>\n",
       "      <td>137621</td>\n",
       "      <td>138529</td>\n",
       "      <td>-</td>\n",
       "    </tr>\n",
       "    <tr>\n",
       "      <th>1</th>\n",
       "      <td>ENSG00000237683</td>\n",
       "      <td>1</td>\n",
       "      <td>134901</td>\n",
       "      <td>135802</td>\n",
       "      <td>-</td>\n",
       "    </tr>\n",
       "    <tr>\n",
       "      <th>2</th>\n",
       "      <td>ENSG00000235249</td>\n",
       "      <td>1</td>\n",
       "      <td>368598</td>\n",
       "      <td>368634</td>\n",
       "      <td>+</td>\n",
       "    </tr>\n",
       "    <tr>\n",
       "      <th>3</th>\n",
       "      <td>ENSG00000185097</td>\n",
       "      <td>1</td>\n",
       "      <td>621059</td>\n",
       "      <td>621095</td>\n",
       "      <td>-</td>\n",
       "    </tr>\n",
       "    <tr>\n",
       "      <th>4</th>\n",
       "      <td>ENSG00000187634</td>\n",
       "      <td>1</td>\n",
       "      <td>879534</td>\n",
       "      <td>879955</td>\n",
       "      <td>+</td>\n",
       "    </tr>\n",
       "  </tbody>\n",
       "</table>\n",
       "</div>"
      ],
      "text/plain": [
       "            geneid chrom   start     end strand\n",
       "0  ENSG00000237683     1  137621  138529      -\n",
       "1  ENSG00000237683     1  134901  135802      -\n",
       "2  ENSG00000235249     1  368598  368634      +\n",
       "3  ENSG00000185097     1  621059  621095      -\n",
       "4  ENSG00000187634     1  879534  879955      +"
      ]
     },
     "execution_count": 13,
     "metadata": {},
     "output_type": "execute_result"
    }
   ],
   "source": [
    "gtf_3utr = pd.read_csv(gtf_3utr_file, names=['chrom','src','region','start','end','.','strand','.','attr'], sep='\\t')\n",
    "gtf_3utr['geneid'] = gtf_3utr['attr'].str.extract(\"gene_id \\\"([\\w\\d\\.]+)\\\"\")\n",
    "gtf_3utr = gtf_3utr[['geneid','chrom','start','end','strand']]\n",
    "gtf_3utr.head()"
   ]
  },
  {
   "cell_type": "code",
   "execution_count": 14,
   "metadata": {},
   "outputs": [],
   "source": [
    "gtf_3utr.to_csv(\n",
    "    os.path.join(input_dir, 'genes.three_prime_utr_only.SAF'),\n",
    "    sep='\\t',\n",
    "    index=False,\n",
    "    header=False\n",
    ")"
   ]
  },
  {
   "cell_type": "code",
   "execution_count": 15,
   "metadata": {},
   "outputs": [],
   "source": [
    "saf = os.path.join(input_dir, 'genes.three_prime_utr_only.SAF')"
   ]
  },
  {
   "cell_type": "code",
   "execution_count": 16,
   "metadata": {},
   "outputs": [],
   "source": [
    "cmds = []\n",
    "for nt in ['A', 'C', 'G', 'T']:\n",
    "    for nt2 in ['A', 'C', 'G', 'T']:\n",
    "        split_tmp_dir = os.path.join(tmp_dir, '{}{}'.format(nt, nt2))\n",
    "\n",
    "        cmd = 'module load subreadfeaturecounts;featureCounts '\n",
    "        cmd += '-a {} '.format(saf)\n",
    "        cmd += '-F SAF '\n",
    "        cmd += '-s 1 '\n",
    "        cmd += '-o {}'.format(os.path.join(split_tmp_dir, 'counts_at_conf_{}.three_prime_utr.txt '.format(conf)))\n",
    "        cmd += '-R CORE '\n",
    "        cmd += os.path.join(split_tmp_dir, '*.sorted.bam')\n",
    "\n",
    "        cmds.append(cmd)"
   ]
  },
  {
   "cell_type": "code",
   "execution_count": 17,
   "metadata": {},
   "outputs": [
    {
     "data": {
      "text/plain": [
       "'module load subreadfeaturecounts;featureCounts -a /home/bay001/projects/kris_apobec_20200121/permanent_data2/03_scRNA_APOBEC_RPS2/inputs/genes.three_prime_utr_only.SAF -F SAF -s 1 -o /home/bay001/projects/kris_apobec_20200121/permanent_data2/03_scRNA_APOBEC_RPS2/tmp/for_featurecounts0.9/AA/counts_at_conf_0.9.three_prime_utr.txt -R CORE /home/bay001/projects/kris_apobec_20200121/permanent_data2/03_scRNA_APOBEC_RPS2/tmp/for_featurecounts0.9/AA/*.sorted.bam'"
      ]
     },
     "execution_count": 17,
     "metadata": {},
     "output_type": "execute_result"
    }
   ],
   "source": [
    "# Just check the command to make sure it's OK\n",
    "cmds[0]"
   ]
  },
  {
   "cell_type": "code",
   "execution_count": 18,
   "metadata": {},
   "outputs": [
    {
     "name": "stderr",
     "output_type": "stream",
     "text": [
      "Writing 16 tasks as an array-job.\n",
      "Wrote commands to featureCounts-3utr.sh.\n",
      "Submitted script to queue home.\n",
      " Job ID: 21965832\n"
     ]
    },
    {
     "data": {
      "text/plain": [
       "<qtools.submitter.Submitter at 0x2afef2ef7890>"
      ]
     },
     "execution_count": 18,
     "metadata": {},
     "output_type": "execute_result"
    }
   ],
   "source": [
    "Submitter(\n",
    "    commands=cmds,\n",
    "    job_name='featureCounts-3utr',\n",
    "    sh='featureCounts-3utr.sh',\n",
    "    array=True,\n",
    "    nodes=1,\n",
    "    ppn=2,\n",
    "    walltime='48:00:00',\n",
    "    submit=True,\n",
    ")"
   ]
  },
  {
   "cell_type": "markdown",
   "metadata": {},
   "source": [
    "# Read in featureCounts outputs from each bin and merge them now.\n",
    "- each column is something like: /home/bay001/projects/ryan_editing_20190314/permanent_data/43_new_scRNA_editing/tmp/AG/possorted_genome_bam_MD-AGTGTTGTCGAACCAT-1.merged.sorted.bam\n",
    "- original 'split-bam' files look like this: /home/bay001/projects/ryan_editing_20190314/permanent_data/43_new_scRNA_editing/bam_files/possorted_genome_bam_MD-AGTGTTGTCGAACCAT-1.sorted.bam"
   ]
  },
  {
   "cell_type": "code",
   "execution_count": 19,
   "metadata": {},
   "outputs": [
    {
     "name": "stdout",
     "output_type": "stream",
     "text": [
      "checking /home/bay001/projects/kris_apobec_20200121/permanent_data2/03_scRNA_APOBEC_RPS2/tmp/for_featurecounts0.9/*/counts_at_conf_0.9.txt\n",
      "16\n"
     ]
    },
    {
     "data": {
      "text/plain": [
       "['/home/bay001/projects/kris_apobec_20200121/permanent_data2/03_scRNA_APOBEC_RPS2/tmp/for_featurecounts0.9/TG/counts_at_conf_0.9.txt',\n",
       " '/home/bay001/projects/kris_apobec_20200121/permanent_data2/03_scRNA_APOBEC_RPS2/tmp/for_featurecounts0.9/CG/counts_at_conf_0.9.txt',\n",
       " '/home/bay001/projects/kris_apobec_20200121/permanent_data2/03_scRNA_APOBEC_RPS2/tmp/for_featurecounts0.9/CT/counts_at_conf_0.9.txt']"
      ]
     },
     "execution_count": 19,
     "metadata": {},
     "output_type": "execute_result"
    }
   ],
   "source": [
    "print(\"checking {}\".format(os.path.join(tmp_dir, \"*\", \"counts_at_conf_{}.txt\".format(conf))))\n",
    "all_counts = glob.glob(os.path.join(tmp_dir, \"*\", \"counts_at_conf_{}.txt\".format(conf)))\n",
    "print(len(all_counts))\n",
    "all_counts[:3]"
   ]
  },
  {
   "cell_type": "code",
   "execution_count": 20,
   "metadata": {},
   "outputs": [
    {
     "data": {
      "text/html": [
       "<div>\n",
       "<style scoped>\n",
       "    .dataframe tbody tr th:only-of-type {\n",
       "        vertical-align: middle;\n",
       "    }\n",
       "\n",
       "    .dataframe tbody tr th {\n",
       "        vertical-align: top;\n",
       "    }\n",
       "\n",
       "    .dataframe thead th {\n",
       "        text-align: right;\n",
       "    }\n",
       "</style>\n",
       "<table border=\"1\" class=\"dataframe\">\n",
       "  <thead>\n",
       "    <tr style=\"text-align: right;\">\n",
       "      <th></th>\n",
       "    </tr>\n",
       "  </thead>\n",
       "  <tbody>\n",
       "  </tbody>\n",
       "</table>\n",
       "</div>"
      ],
      "text/plain": [
       "Empty DataFrame\n",
       "Columns: []\n",
       "Index: []"
      ]
     },
     "execution_count": 20,
     "metadata": {},
     "output_type": "execute_result"
    }
   ],
   "source": [
    "merged = pd.DataFrame(index=[])\n",
    "merged"
   ]
  },
  {
   "cell_type": "code",
   "execution_count": 21,
   "metadata": {},
   "outputs": [
    {
     "data": {
      "application/vnd.jupyter.widget-view+json": {
       "model_id": "e5b39a3892c2470d9c71c841d80b20c6",
       "version_major": 2,
       "version_minor": 0
      },
      "text/plain": [
       "HBox(children=(IntProgress(value=0, max=16), HTML(value=u'')))"
      ]
     },
     "metadata": {},
     "output_type": "display_data"
    },
    {
     "name": "stdout",
     "output_type": "stream",
     "text": [
      "dataframe size: (32739, 997), NEW merged size: (32739, 997)\n",
      "dataframe size: (32739, 1059), NEW merged size: (32739, 2056)\n",
      "dataframe size: (32739, 1423), NEW merged size: (32739, 3479)\n",
      "dataframe size: (32739, 1205), NEW merged size: (32739, 4684)\n",
      "dataframe size: (32739, 1479), NEW merged size: (32739, 6163)\n",
      "dataframe size: (32739, 962), NEW merged size: (32739, 7125)\n",
      "dataframe size: (32739, 921), NEW merged size: (32739, 8046)\n",
      "dataframe size: (32739, 1384), NEW merged size: (32739, 9430)\n",
      "dataframe size: (32739, 1306), NEW merged size: (32739, 10736)\n",
      "dataframe size: (32739, 780), NEW merged size: (32739, 11516)\n",
      "dataframe size: (32739, 1116), NEW merged size: (32739, 12632)\n",
      "dataframe size: (32739, 1469), NEW merged size: (32739, 14101)\n",
      "dataframe size: (32739, 1063), NEW merged size: (32739, 15164)\n",
      "dataframe size: (32739, 1668), NEW merged size: (32739, 16832)\n",
      "dataframe size: (32739, 1421), NEW merged size: (32739, 18253)\n",
      "dataframe size: (32739, 1358), NEW merged size: (32739, 19611)\n"
     ]
    }
   ],
   "source": [
    "progress = tnrange(16)\n",
    "for nt in ['A', 'C', 'G', 'T']:\n",
    "    for nt2 in ['A', 'C', 'G', 'T']:\n",
    "        split_input_dir = os.path.join(tmp_dir, '{}{}'.format(nt, nt2))\n",
    "        df = pd.read_csv(os.path.join(split_input_dir, 'counts_at_conf_{}.txt'.format(conf)), sep='\\t', index_col=0, skiprows=1)\n",
    "        df = df.iloc[:,5:]\n",
    "        df.columns = [\n",
    "            c.replace(split_input_dir, '') for c in df.columns\n",
    "        ]\n",
    "        merged = pd.merge(merged, df, how='outer', left_index=True, right_index=True)\n",
    "        print(\"dataframe size: {}, NEW merged size: {}\".format(df.shape, merged.shape))\n",
    "        progress.update(1)\n",
    "        "
   ]
  },
  {
   "cell_type": "code",
   "execution_count": 22,
   "metadata": {},
   "outputs": [],
   "source": [
    "merged.to_csv(os.path.join(output_dir, 'all_scRNA_barcodes_counts.conf{}.txt'.format(conf)), sep='\\t')"
   ]
  },
  {
   "cell_type": "markdown",
   "metadata": {},
   "source": [
    "# Read in featureCounts (3'utr) output"
   ]
  },
  {
   "cell_type": "code",
   "execution_count": 23,
   "metadata": {},
   "outputs": [
    {
     "name": "stdout",
     "output_type": "stream",
     "text": [
      "checking /home/bay001/projects/kris_apobec_20200121/permanent_data2/03_scRNA_APOBEC_RPS2/tmp/for_featurecounts0.9/*/counts_at_conf_0.9.three_prime_utr.txt\n",
      "16\n"
     ]
    },
    {
     "data": {
      "text/plain": [
       "['/home/bay001/projects/kris_apobec_20200121/permanent_data2/03_scRNA_APOBEC_RPS2/tmp/for_featurecounts0.9/TG/counts_at_conf_0.9.three_prime_utr.txt',\n",
       " '/home/bay001/projects/kris_apobec_20200121/permanent_data2/03_scRNA_APOBEC_RPS2/tmp/for_featurecounts0.9/CG/counts_at_conf_0.9.three_prime_utr.txt',\n",
       " '/home/bay001/projects/kris_apobec_20200121/permanent_data2/03_scRNA_APOBEC_RPS2/tmp/for_featurecounts0.9/CT/counts_at_conf_0.9.three_prime_utr.txt']"
      ]
     },
     "execution_count": 23,
     "metadata": {},
     "output_type": "execute_result"
    }
   ],
   "source": [
    "print(\"checking {}\".format(os.path.join(tmp_dir, \"*\", \"counts_at_conf_{}.three_prime_utr.txt\".format(conf))))\n",
    "\n",
    "all_counts = glob.glob(os.path.join(tmp_dir, \"*\", \"counts_at_conf_{}.three_prime_utr.txt\".format(conf)))\n",
    "print(len(all_counts))\n",
    "all_counts[:3]"
   ]
  },
  {
   "cell_type": "code",
   "execution_count": 24,
   "metadata": {},
   "outputs": [
    {
     "data": {
      "text/html": [
       "<div>\n",
       "<style scoped>\n",
       "    .dataframe tbody tr th:only-of-type {\n",
       "        vertical-align: middle;\n",
       "    }\n",
       "\n",
       "    .dataframe tbody tr th {\n",
       "        vertical-align: top;\n",
       "    }\n",
       "\n",
       "    .dataframe thead th {\n",
       "        text-align: right;\n",
       "    }\n",
       "</style>\n",
       "<table border=\"1\" class=\"dataframe\">\n",
       "  <thead>\n",
       "    <tr style=\"text-align: right;\">\n",
       "      <th></th>\n",
       "    </tr>\n",
       "  </thead>\n",
       "  <tbody>\n",
       "  </tbody>\n",
       "</table>\n",
       "</div>"
      ],
      "text/plain": [
       "Empty DataFrame\n",
       "Columns: []\n",
       "Index: []"
      ]
     },
     "execution_count": 24,
     "metadata": {},
     "output_type": "execute_result"
    }
   ],
   "source": [
    "merged = pd.DataFrame(index=[])\n",
    "merged"
   ]
  },
  {
   "cell_type": "code",
   "execution_count": 25,
   "metadata": {},
   "outputs": [
    {
     "data": {
      "application/vnd.jupyter.widget-view+json": {
       "model_id": "660701beb1d842a78ef538c75e15e7aa",
       "version_major": 2,
       "version_minor": 0
      },
      "text/plain": [
       "HBox(children=(IntProgress(value=0, max=16), HTML(value=u'')))"
      ]
     },
     "metadata": {},
     "output_type": "display_data"
    },
    {
     "name": "stdout",
     "output_type": "stream",
     "text": [
      "dataframe size: (19615, 997), NEW merged size: (19615, 997)\n",
      "dataframe size: (19615, 1059), NEW merged size: (19615, 2056)\n",
      "dataframe size: (19615, 1423), NEW merged size: (19615, 3479)\n",
      "dataframe size: (19615, 1205), NEW merged size: (19615, 4684)\n",
      "dataframe size: (19615, 1479), NEW merged size: (19615, 6163)\n",
      "dataframe size: (19615, 962), NEW merged size: (19615, 7125)\n",
      "dataframe size: (19615, 921), NEW merged size: (19615, 8046)\n",
      "dataframe size: (19615, 1384), NEW merged size: (19615, 9430)\n",
      "dataframe size: (19615, 1306), NEW merged size: (19615, 10736)\n",
      "dataframe size: (19615, 780), NEW merged size: (19615, 11516)\n",
      "dataframe size: (19615, 1116), NEW merged size: (19615, 12632)\n",
      "dataframe size: (19615, 1469), NEW merged size: (19615, 14101)\n",
      "dataframe size: (19615, 1063), NEW merged size: (19615, 15164)\n",
      "dataframe size: (19615, 1668), NEW merged size: (19615, 16832)\n",
      "dataframe size: (19615, 1421), NEW merged size: (19615, 18253)\n",
      "dataframe size: (19615, 1358), NEW merged size: (19615, 19611)\n"
     ]
    }
   ],
   "source": [
    "progress = tnrange(16)\n",
    "for nt in ['A', 'C', 'G', 'T']:\n",
    "    for nt2 in ['A', 'C', 'G', 'T']:\n",
    "        split_input_dir = os.path.join(tmp_dir, '{}{}'.format(nt, nt2))\n",
    "        df = pd.read_csv(os.path.join(split_input_dir, 'counts_at_conf_{}.three_prime_utr.txt'.format(conf)), sep='\\t', index_col=0, skiprows=1)\n",
    "        df = df.iloc[:,5:]\n",
    "        df.columns = [\n",
    "            c.replace(split_input_dir, '') for c in df.columns\n",
    "        ]\n",
    "        merged = pd.merge(merged, df, how='outer', left_index=True, right_index=True)\n",
    "        print(\"dataframe size: {}, NEW merged size: {}\".format(df.shape, merged.shape))\n",
    "        progress.update(1)\n",
    "        "
   ]
  },
  {
   "cell_type": "code",
   "execution_count": 26,
   "metadata": {},
   "outputs": [],
   "source": [
    "merged.to_csv(os.path.join(output_dir, 'all_scRNA_barcodes_counts.conf{}.three_prime_utr.txt'.format(conf)), sep='\\t')"
   ]
  },
  {
   "cell_type": "code",
   "execution_count": 27,
   "metadata": {},
   "outputs": [
    {
     "name": "stdout",
     "output_type": "stream",
     "text": [
      "wrote to: /home/bay001/projects/kris_apobec_20200121/permanent_data2/03_scRNA_APOBEC_RPS2/outputs/all_scRNA_barcodes_counts.conf0.9.three_prime_utr.txt\n"
     ]
    }
   ],
   "source": [
    "print(\"wrote to: {}\".format(os.path.join(output_dir, 'all_scRNA_barcodes_counts.conf{}.three_prime_utr.txt'.format(conf))))"
   ]
  },
  {
   "cell_type": "code",
   "execution_count": 28,
   "metadata": {},
   "outputs": [
    {
     "name": "stdout",
     "output_type": "stream",
     "text": [
      "wrote to: /home/bay001/projects/kris_apobec_20200121/permanent_data2/03_scRNA_APOBEC_RPS2/outputs/all_scRNA_barcodes_counts.conf0.9.txt\n"
     ]
    }
   ],
   "source": [
    "print(\"wrote to: {}\".format(os.path.join(output_dir, 'all_scRNA_barcodes_counts.conf{}.txt'.format(conf))))"
   ]
  },
  {
   "cell_type": "code",
   "execution_count": null,
   "metadata": {},
   "outputs": [],
   "source": []
  }
 ],
 "metadata": {
  "kernelspec": {
   "display_name": "python2-essential",
   "language": "python",
   "name": "python2-essential"
  },
  "language_info": {
   "codemirror_mode": {
    "name": "ipython",
    "version": 2
   },
   "file_extension": ".py",
   "mimetype": "text/x-python",
   "name": "python",
   "nbconvert_exporter": "python",
   "pygments_lexer": "ipython2",
   "version": "2.7.15"
  }
 },
 "nbformat": 4,
 "nbformat_minor": 2
}
