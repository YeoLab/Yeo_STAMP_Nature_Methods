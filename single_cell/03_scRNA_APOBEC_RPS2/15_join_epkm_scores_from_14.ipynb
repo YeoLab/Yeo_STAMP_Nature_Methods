{
 "cells": [
  {
   "cell_type": "markdown",
   "metadata": {},
   "source": [
    "# Now we should have EPKM scores from all cells. Join all the scored files together in this notebook.\n",
    "- **This is a critical time to check that ALL jobs have run properly for ALL cells**. "
   ]
  },
  {
   "cell_type": "code",
   "execution_count": 1,
   "metadata": {},
   "outputs": [],
   "source": [
    "import glob\n",
    "import os\n",
    "import pandas as pd\n",
    "from tqdm import tnrange, tqdm_notebook"
   ]
  },
  {
   "cell_type": "code",
   "execution_count": 2,
   "metadata": {},
   "outputs": [],
   "source": [
    "input_dir = '/home/bay001/projects/kris_apobec_20200121/permanent_data2/03_scRNA/sailor_outputs_individual_barcodes_merged_epkm'\n",
    "output_dir = '/home/bay001/projects/kris_apobec_20200121/permanent_data2/03_scRNA_APOBEC_RPS2/outputs'"
   ]
  },
  {
   "cell_type": "code",
   "execution_count": 3,
   "metadata": {},
   "outputs": [
    {
     "name": "stdout",
     "output_type": "stream",
     "text": [
      "8616 10995\n"
     ]
    },
    {
     "data": {
      "text/plain": [
       "['/home/bay001/projects/kris_apobec_20200121/permanent_data2/03_scRNA/sailor_outputs_individual_barcodes_merged_epkm/RPS2_possorted_genome_bam_MD-AAACCCACAGGATCTT-1.fx.bed.annotated.cds.epkm.tsv',\n",
       " '/home/bay001/projects/kris_apobec_20200121/permanent_data2/03_scRNA/sailor_outputs_individual_barcodes_merged_epkm/RPS2_possorted_genome_bam_MD-AAACCCACAGGTACGA-1.fx.bed.annotated.cds.epkm.tsv',\n",
       " '/home/bay001/projects/kris_apobec_20200121/permanent_data2/03_scRNA/sailor_outputs_individual_barcodes_merged_epkm/RPS2_possorted_genome_bam_MD-AAACCCACAGTTCACA-1.fx.bed.annotated.cds.epkm.tsv']"
      ]
     },
     "execution_count": 3,
     "metadata": {},
     "output_type": "execute_result"
    }
   ],
   "source": [
    "suffix = \".cds.epkm.tsv\"  # either .cds.epkm.tsv, .cds_and_3utr.epkm.tsv, or .epkm.tsv\n",
    "all_apo_scored = sorted(glob.glob(os.path.join(input_dir, 'Apo_Control*{}'.format(suffix))))\n",
    "all_rps2_scored = sorted(glob.glob(os.path.join(input_dir, 'RPS2*.annotated*{}'.format(suffix))))\n",
    "\n",
    "print(len(all_apo_scored), len(all_rps2_scored))\n",
    "all_rps2_scored[:3]"
   ]
  },
  {
   "cell_type": "code",
   "execution_count": 4,
   "metadata": {},
   "outputs": [
    {
     "data": {
      "text/plain": [
       "'RPS2_possorted_genome_bam_MD-AAACCCACAGGATCTT-1'"
      ]
     },
     "execution_count": 4,
     "metadata": {},
     "output_type": "execute_result"
    }
   ],
   "source": [
    "def format_name(fn):\n",
    "    return os.path.basename(fn).replace('.fx.bed.annotated{}'.format(suffix),'')\n",
    "\n",
    "format_name(all_rps2_scored[0])  # testing"
   ]
  },
  {
   "cell_type": "markdown",
   "metadata": {},
   "source": [
    "# I'm doing these merges in batches since merging over 20k cells takes too long\n",
    "- better to merge 500 at a time and then merge each of the 34 dataframes together."
   ]
  },
  {
   "cell_type": "code",
   "execution_count": 5,
   "metadata": {},
   "outputs": [
    {
     "data": {
      "application/vnd.jupyter.widget-view+json": {
       "model_id": "c6eff4bc0d93476188e66c4e000a51a0",
       "version_major": 2,
       "version_minor": 0
      },
      "text/plain": [
       "HBox(children=(IntProgress(value=0, max=8616), HTML(value='')))"
      ]
     },
     "metadata": {},
     "output_type": "display_data"
    },
    {
     "data": {
      "application/vnd.jupyter.widget-view+json": {
       "model_id": "d7b32f4fd5b646d09b10921b72ad14ee",
       "version_major": 2,
       "version_minor": 0
      },
      "text/plain": [
       "HBox(children=(IntProgress(value=0, max=18), HTML(value='')))"
      ]
     },
     "metadata": {},
     "output_type": "display_data"
    },
    {
     "name": "stdout",
     "output_type": "stream",
     "text": [
      "(20356, 8616)\n"
     ]
    }
   ],
   "source": [
    "def chunker(seq, size):\n",
    "    \"\"\"\n",
    "    Chunks a long list into groups of (size).\n",
    "    \"\"\"\n",
    "    return (seq[pos:pos + size] for pos in range(0, len(seq), size))\n",
    "\n",
    "for score in ['epkm']:\n",
    "    all_merged = []\n",
    "    groupsize = 500 # 500 sailor runs per job.\n",
    "    progress = tnrange(len(all_apo_scored))\n",
    "    for group in chunker(all_apo_scored, groupsize):\n",
    "        merged = pd.DataFrame()\n",
    "        for scored in group:\n",
    "            df = pd.read_csv(scored, index_col=0, sep='\\t')[[score]]\n",
    "            df.columns = [format_name(scored)]\n",
    "            merged = pd.merge(merged, df, how='outer', left_index=True, right_index=True)\n",
    "            progress.update(1)\n",
    "        all_merged.append(merged)\n",
    "\n",
    "    all_all_merged = pd.DataFrame()\n",
    "    progress = tnrange(len(all_merged))\n",
    "    for merged in all_merged:\n",
    "        all_all_merged = pd.merge(all_all_merged, merged, how='outer', left_index=True, right_index=True)\n",
    "        progress.update(1)\n",
    "\n",
    "    print(all_all_merged.shape)\n",
    "    all_all_merged.fillna(0, inplace=True)\n",
    "    all_all_merged.to_csv(os.path.join(output_dir, 'Apo_Control_possorted_genome_bam_MD.merged.{}{}'.format(score, suffix)), sep='\\t', header=True, index=True)"
   ]
  },
  {
   "cell_type": "markdown",
   "metadata": {},
   "source": [
    "# Do the same with RPS2"
   ]
  },
  {
   "cell_type": "code",
   "execution_count": 6,
   "metadata": {},
   "outputs": [
    {
     "data": {
      "application/vnd.jupyter.widget-view+json": {
       "model_id": "d6a7d89e267e4cb79dd63160afca9923",
       "version_major": 2,
       "version_minor": 0
      },
      "text/plain": [
       "HBox(children=(IntProgress(value=0, max=10995), HTML(value='')))"
      ]
     },
     "metadata": {},
     "output_type": "display_data"
    },
    {
     "data": {
      "application/vnd.jupyter.widget-view+json": {
       "model_id": "8df271636905434d8877aa4819204173",
       "version_major": 2,
       "version_minor": 0
      },
      "text/plain": [
       "HBox(children=(IntProgress(value=0, max=22), HTML(value='')))"
      ]
     },
     "metadata": {},
     "output_type": "display_data"
    },
    {
     "name": "stdout",
     "output_type": "stream",
     "text": [
      "(20356, 10995)\n"
     ]
    }
   ],
   "source": [
    "for score in ['epkm']:\n",
    "    all_merged = []\n",
    "    groupsize = 500 # 50 sailor runs per job.\n",
    "    progress = tnrange(len(all_rps2_scored))\n",
    "    for group in chunker(all_rps2_scored, groupsize):\n",
    "        merged = pd.DataFrame()\n",
    "        for scored in group:\n",
    "            df = pd.read_csv(scored, index_col=0, sep='\\t')[[score]]\n",
    "            df.columns = [format_name(scored)]\n",
    "            merged = pd.merge(merged, df, how='outer', left_index=True, right_index=True)\n",
    "            progress.update(1)\n",
    "        all_merged.append(merged)\n",
    "\n",
    "    all_all_merged = pd.DataFrame()\n",
    "    progress = tnrange(len(all_merged))\n",
    "    for merged in all_merged:\n",
    "        all_all_merged = pd.merge(all_all_merged, merged, how='outer', left_index=True, right_index=True)\n",
    "        progress.update(1)\n",
    "\n",
    "    print(all_all_merged.shape)\n",
    "    all_all_merged.fillna(0, inplace=True)\n",
    "    all_all_merged.to_csv(os.path.join(output_dir, 'RPS2_possorted_genome_bam_MD.merged.{}{}'.format(score, suffix)), sep='\\t', header=True, index=True)"
   ]
  },
  {
   "cell_type": "raw",
   "metadata": {},
   "source": [
    "# Doing some manual checking here - making sure the formula is:\n",
    "(# of Edited Counts (from SAILOR)) / ((total mapped read counts/10^6)*(Gene length/1000))\n",
    "\n",
    "Apo_Control_possorted_genome_bam_MD-AAACCCAGTGCCTGAC-1.fx.bed.annotated.epkm.tsv \n",
    "ENSG00000130770.13      2225    1.0     14.224528492441795\n",
    "\n",
    "total number of reads from all exons: 31596\n",
    "\n",
    "RPS2_possorted_genome_bam_MD-AAAGAACAGTGATCGG-1.fx.bed.annotated.epkm.tsv\n",
    "\n",
    "ENSG00000069275.12      6546    1.0     4.8945899637039725\n",
    "ENSG00000142937.7       2847    1.0     11.253946576187637  # ah exon length longer than expected here, due to weird alternative transcript annotation (processed transcript). \n",
    "\n",
    "total number of reads from all exons: 31211"
   ]
  },
  {
   "cell_type": "raw",
   "metadata": {},
   "source": [
    "# Doing more manual checking on the CDS+3'UTR EPKMs\n",
    "\n",
    "RPS2_possorted_genome_bam_MD-AACCAACAGCCACAAG-1.fx.bed.annotated.cds_and_3utr.epkm.tsv\n",
    "ENSG00000134419 3855    9.0     96.03580214704043\n",
    "ENSG00000140988 1337    21.0    646.1047421934395\n",
    "\n",
    "total number of reads from CDS+3'UTR: 24310\n",
    "(9)/((24310/1000000)*(3855/1000)) = 96.035802147\n",
    "(21)/((24310/1000000)*(1337/1000)) = 646.104742193\n",
    "\n",
    "RPS2_possorted_genome_bam_MD-AAAGAACAGTGATCGG-1.fx.bed.annotated.cds_and_3utr.epkm.tsv\n",
    "ENSG00000069275 6190    1.0     5.860725141661052\n",
    "ENSG00000142937 718     1.0     50.526307279779836"
   ]
  },
  {
   "cell_type": "code",
   "execution_count": null,
   "metadata": {},
   "outputs": [],
   "source": []
  }
 ],
 "metadata": {
  "kernelspec": {
   "display_name": "python3-essential-tscc",
   "language": "python",
   "name": "python3essentialtscc"
  },
  "language_info": {
   "codemirror_mode": {
    "name": "ipython",
    "version": 3
   },
   "file_extension": ".py",
   "mimetype": "text/x-python",
   "name": "python",
   "nbconvert_exporter": "python",
   "pygments_lexer": "ipython3",
   "version": "3.6.7"
  }
 },
 "nbformat": 4,
 "nbformat_minor": 2
}
