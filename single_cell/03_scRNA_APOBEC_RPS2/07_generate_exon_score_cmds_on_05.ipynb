{
 "cells": [
  {
   "cell_type": "markdown",
   "metadata": {},
   "source": [
    "# Runs the script to generate windows across all exons (CDS, UTRs)"
   ]
  },
  {
   "cell_type": "code",
   "execution_count": 1,
   "metadata": {},
   "outputs": [],
   "source": [
    "import glob\n",
    "import os\n",
    "from qtools import Submitter\n",
    "from tqdm import tnrange, tqdm_notebook"
   ]
  },
  {
   "cell_type": "code",
   "execution_count": 2,
   "metadata": {},
   "outputs": [],
   "source": [
    "annotated_dir = '/home/bay001/projects/kris_apobec_20200121/permanent_data2/03_scRNA/sailor_outputs_individual_barcodes_merged_bedfiles'\n",
    "bigwig_dir = '/home/bay001/projects/kris_apobec_20200121/permanent_data2/03_scRNA/bigwig_files/'\n",
    "output_dir = '/home/bay001/projects/kris_apobec_20200121/permanent_data2/03_scRNA/sailor_outputs_individual_barcodes_merged_scores_cds_only'"
   ]
  },
  {
   "cell_type": "code",
   "execution_count": 3,
   "metadata": {},
   "outputs": [
    {
     "name": "stdout",
     "output_type": "stream",
     "text": [
      "19611\n"
     ]
    },
    {
     "data": {
      "text/plain": [
       "['/home/bay001/projects/kris_apobec_20200121/permanent_data2/03_scRNA/sailor_outputs_individual_barcodes_merged_bedfiles/Apo_Control_possorted_genome_bam_MD-AAACCCAAGCCAGTAG-1.fx.bed.annotated',\n",
       " '/home/bay001/projects/kris_apobec_20200121/permanent_data2/03_scRNA/sailor_outputs_individual_barcodes_merged_bedfiles/Apo_Control_possorted_genome_bam_MD-AAACCCAAGGATGCGT-1.fx.bed.annotated',\n",
       " '/home/bay001/projects/kris_apobec_20200121/permanent_data2/03_scRNA/sailor_outputs_individual_barcodes_merged_bedfiles/Apo_Control_possorted_genome_bam_MD-AAACCCACAATACAGA-1.fx.bed.annotated']"
      ]
     },
     "execution_count": 3,
     "metadata": {},
     "output_type": "execute_result"
    }
   ],
   "source": [
    "all_annotated = sorted(glob.glob(os.path.join(annotated_dir, '*.annotated')))\n",
    "print(len(all_annotated))\n",
    "all_annotated[:3]  # 19611"
   ]
  },
  {
   "cell_type": "markdown",
   "metadata": {},
   "source": [
    "# Same deal as before - run a ton of commands per qsub job, and submit a bunch of qsub jobs in one array"
   ]
  },
  {
   "cell_type": "code",
   "execution_count": 4,
   "metadata": {},
   "outputs": [
    {
     "data": {
      "application/vnd.jupyter.widget-view+json": {
       "model_id": "e812c576cc2d4d868d98d699e8c148d2",
       "version_major": 2,
       "version_minor": 0
      },
      "text/plain": [
       "HBox(children=(IntProgress(value=0, max=19611), HTML(value=u'')))"
      ]
     },
     "metadata": {},
     "output_type": "display_data"
    },
    {
     "name": "stdout",
     "output_type": "stream",
     "text": [
      "Number of commands: 0\n"
     ]
    }
   ],
   "source": [
    "# bg_edits_file = '/home/bay001/projects/kris_apobec_20200121/permanent_data/final_analysis/01_SAILOR_bulk_rnaseq/outputs/combined_outputs_w_cov_info/ApoControl-1000_S21_L002_R1_001.fastqTr.sorted.STARUnmapped.out.sorted.STARAligned.out.sorted_a0_b0_e0.01.bed'\n",
    "\n",
    "chrom_sizes_file = '/projects/ps-yeolab3/bay001/annotations/hg19/hg19.chrom.sizes'\n",
    "gtfdb_file = '/projects/ps-yeolab3/bay001/annotations/hg19/gencode_v19/gencode.v19.annotation.gtf.db'\n",
    "genome_fa = '/projects/ps-yeolab3/bay001/annotations/hg19/hg19.fa'\n",
    "\n",
    "cds_file = '/projects/ps-yeolab3/bay001/annotations/hg19/gencode_v19/hg19_v19_cds.bed'\n",
    "three_prime_utr_file = '/projects/ps-yeolab3/bay001/annotations/hg19/gencode_v19/hg19_v19_three_prime_utrs.bed'\n",
    "five_prime_utr_file = '/projects/ps-yeolab3/bay001/annotations/hg19/gencode_v19/hg19_v19_five_prime_utrs.bed'\n",
    "\n",
    "def chunker(seq, size):\n",
    "    \"\"\"\n",
    "    Chunks a long list into groups of (size).\n",
    "    \"\"\"\n",
    "    return (seq[pos:pos + size] for pos in range(0, len(seq), size))\n",
    "\n",
    "groupsize = 250\n",
    "need_to_run = [] # unfinished runs\n",
    "cmds = []\n",
    "progress = tnrange(len(all_annotated))\n",
    "for group in chunker(all_annotated, groupsize):\n",
    "    cmd = 'module load python3essential;'\n",
    "    for g in group:\n",
    "        output_file = os.path.join(output_dir, os.path.basename(g) + '.exons.txt')\n",
    "        output_file_summed = os.path.join(output_dir, os.path.basename(g) + '.exons.merged.txt')\n",
    "\n",
    "        pos_bw = os.path.join(bigwig_dir, os.path.basename(g).replace('.fx.bed.annotated','') + '.fwd.sorted.rmdup.readfiltered.sorted.bw')\n",
    "        neg_bw =os.path.join(bigwig_dir, os.path.basename(g).replace('.fx.bed.annotated','') + '.rev.sorted.rmdup.readfiltered.sorted.bw')\n",
    "        if not os.path.exists(output_file_summed):\n",
    "            if os.path.exists(pos_bw) and os.path.exists(neg_bw) and os.path.exists(g):\n",
    "                cmd += 'python /home/bay001/projects/kris_apobec_20200121/permanent_data2/03_scRNA/score_edits_total_exon_coverage.py '\n",
    "                cmd += '--conf 0 ' \n",
    "                cmd += '--gtfdb {} '.format(gtfdb_file)\n",
    "                cmd += '--chrom_sizes_file {} '.format(chrom_sizes_file)\n",
    "                cmd += '--pos_bw {} '.format(pos_bw)\n",
    "                cmd += '--neg_bw {} '.format(neg_bw)\n",
    "                cmd += '--annotated_edits_file {} '.format(g)\n",
    "                # cmd += '--bg_edits_file {} '.format(bg_edits_file)  # Uncomment if you have a 'bg_edits_file' such as an ApoControl or something.\n",
    "                cmd += '--genome_fa {} '.format(genome_fa)\n",
    "                cmd += '--output_file {} '.format(output_file)\n",
    "                cmd += '--output_file_summed {} '.format(output_file_summed)\n",
    "                cmd += '--three_prime_utr_file {};'.format(three_prime_utr_file)  # comment out for comparing CDS only\n",
    "                # cmd += '--five_prime_utr_file {} '.format(five_prime_utr_file)    # comment out for comparing 3UTR/CDS only\n",
    "                # cmd += '--cds_file {};'.format(cds_file)  # comment out for comparing 3UTR only\n",
    "            else:\n",
    "                print(os.path.exists(pos_bw), os.path.exists(neg_bw), os.path.exists(g))\n",
    "                need_to_run.append(g)\n",
    "        progress.update(1)\n",
    "    if cmd != 'module load python3essential;':\n",
    "        cmds.append(cmd)\n",
    "\n",
    "print(\"Number of commands: {}\".format(len(cmds)))"
   ]
  },
  {
   "cell_type": "code",
   "execution_count": 5,
   "metadata": {},
   "outputs": [
    {
     "ename": "IndexError",
     "evalue": "list index out of range",
     "output_type": "error",
     "traceback": [
      "\u001b[0;31m---------------------------------------------------------------------------\u001b[0m",
      "\u001b[0;31mIndexError\u001b[0m                                Traceback (most recent call last)",
      "\u001b[0;32m<ipython-input-5-9e535cbaa4d5>\u001b[0m in \u001b[0;36m<module>\u001b[0;34m()\u001b[0m\n\u001b[0;32m----> 1\u001b[0;31m \u001b[0mcmds\u001b[0m\u001b[0;34m[\u001b[0m\u001b[0;36m1\u001b[0m\u001b[0;34m]\u001b[0m\u001b[0;34m\u001b[0m\u001b[0m\n\u001b[0m",
      "\u001b[0;31mIndexError\u001b[0m: list index out of range"
     ]
    }
   ],
   "source": [
    "cmds[1]"
   ]
  },
  {
   "cell_type": "code",
   "execution_count": null,
   "metadata": {},
   "outputs": [],
   "source": [
    "if len(cmds) > 0:\n",
    "    Submitter(commands=cmds, job_name='07_score_exon_edits-cds-only', array=True, nodes=1, ppn=4, submit=True, walltime='24:00:00')"
   ]
  },
  {
   "cell_type": "markdown",
   "metadata": {},
   "source": [
    "# Write the commands to score all exon (minus 3'UTR) edits\n",
    "- greying this out because i don't think we look at this anymore."
   ]
  },
  {
   "cell_type": "raw",
   "metadata": {},
   "source": [
    "cmds = []\n",
    "for group in chunker(all_annotated, groupsize):\n",
    "    cmd = 'module load python3essential;'\n",
    "    for g in group:\n",
    "        output_file = os.path.join(output_dir, os.path.basename(g) + '.exons_no3utr.txt')\n",
    "        output_file_summed = os.path.join(output_dir, os.path.basename(g) + '.exons_no3utr.merged.txt')\n",
    "\n",
    "        pos_bw = os.path.join(bigwig_dir, os.path.basename(g).replace('.fx.bed.annotated','') + '.fwd.sorted.rmdup.readfiltered.sorted.bw')\n",
    "        neg_bw =os.path.join(bigwig_dir, os.path.basename(g).replace('.fx.bed.annotated','') + '.rev.sorted.rmdup.readfiltered.sorted.bw')\n",
    "        if not os.path.exists(output_file_summed):\n",
    "            if os.path.exists(pos_bw) and os.path.exists(neg_bw) and os.path.exists(g):\n",
    "                cmd += '/home/bay001/projects/kris_apobec_20200121/permanent_data2/03_scRNA/score_edits_total_exon_coverage.py '\n",
    "                cmd += '--conf 0 ' \n",
    "                cmd += '--gtfdb {} '.format(gtfdb_file)\n",
    "                cmd += '--chrom_sizes_file {} '.format(chrom_sizes_file)\n",
    "                cmd += '--pos_bw {} '.format(pos_bw)\n",
    "                cmd += '--neg_bw {} '.format(neg_bw)\n",
    "                cmd += '--annotated_edits_file {} '.format(g)\n",
    "                # cmd += '--bg_edits_file {} '.format(bg_edits_file)\n",
    "                cmd += '--genome_fa {} '.format(genome_fa)\n",
    "                cmd += '--output_file {} '.format(output_file)\n",
    "                cmd += '--output_file_summed {} '.format(output_file_summed)\n",
    "                cmd += '--five_prime_utr_file {} '.format(five_prime_utr_file)\n",
    "                cmd += '--cds_file {};'.format(cds_file)\n",
    "            else:\n",
    "                print(os.path.exists(pos_bw), os.path.exists(neg_bw), os.path.exists(g))\n",
    "    if cmd != 'module load python3essential;':\n",
    "        cmds.append(cmd)\n",
    "\n",
    "print(\"Number of commands: {}\".format(len(cmds)))"
   ]
  },
  {
   "cell_type": "raw",
   "metadata": {},
   "source": [
    "if len(cmds) > 0:\n",
    "    Submitter(commands=cmds, job_name='score_exon_no3utr_edits', array=True, nodes=1, ppn=4, submit=True, walltime='24:00:00')"
   ]
  },
  {
   "cell_type": "code",
   "execution_count": null,
   "metadata": {},
   "outputs": [],
   "source": [
    "for cmd in cmds:\n",
    "    print(len(cmd))"
   ]
  },
  {
   "cell_type": "code",
   "execution_count": null,
   "metadata": {},
   "outputs": [],
   "source": [
    "cmds[0][:2000]"
   ]
  },
  {
   "cell_type": "code",
   "execution_count": null,
   "metadata": {},
   "outputs": [],
   "source": [
    "len(need_to_run)"
   ]
  },
  {
   "cell_type": "code",
   "execution_count": null,
   "metadata": {},
   "outputs": [],
   "source": []
  }
 ],
 "metadata": {
  "kernelspec": {
   "display_name": "python2-essential",
   "language": "python",
   "name": "python2-essential"
  },
  "language_info": {
   "codemirror_mode": {
    "name": "ipython",
    "version": 2
   },
   "file_extension": ".py",
   "mimetype": "text/x-python",
   "name": "python",
   "nbconvert_exporter": "python",
   "pygments_lexer": "ipython2",
   "version": "2.7.15"
  }
 },
 "nbformat": 4,
 "nbformat_minor": 2
}
