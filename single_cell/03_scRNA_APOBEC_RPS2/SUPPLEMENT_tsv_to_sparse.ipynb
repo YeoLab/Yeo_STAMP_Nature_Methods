{
 "cells": [
  {
   "cell_type": "markdown",
   "metadata": {},
   "source": [
    "# For the \"new\" epkm counts tables, let's try and condense the tsv files into sparse matrices."
   ]
  },
  {
   "cell_type": "code",
   "execution_count": 1,
   "metadata": {},
   "outputs": [],
   "source": [
    "%matplotlib inline\n",
    "\n",
    "import glob\n",
    "import os\n",
    "import pandas as pd\n",
    "import numpy as np\n",
    "import gffutils\n",
    "import pysam\n",
    "import pybedtools\n",
    "import matplotlib.pyplot as plt\n",
    "import seaborn as sns\n",
    "import matplotlib.pyplot as plt\n",
    "import scipy.stats as stats\n",
    "from collections import OrderedDict\n",
    "from tqdm import tnrange, tqdm_notebook\n",
    "from qtools import Submitter\n",
    "from scipy.sparse import csc_matrix, save_npz"
   ]
  },
  {
   "cell_type": "code",
   "execution_count": 2,
   "metadata": {},
   "outputs": [],
   "source": [
    "input_dir = '/home/bay001/projects/kris_apobec_20200121/permanent_data2/03_scRNA_APOBEC_RPS2/outputs'\n",
    "output_dir = '/home/bay001/projects/kris_apobec_20200121/permanent_data2/03_scRNA_APOBEC_RPS2/outputs'"
   ]
  },
  {
   "cell_type": "markdown",
   "metadata": {},
   "source": [
    "# Run featureCounts to get the number of edits assigned to each gene.\n",
    "- Run featureCounts 16 times, once in each \"bin\" to save resources"
   ]
  },
  {
   "cell_type": "code",
   "execution_count": 3,
   "metadata": {},
   "outputs": [
    {
     "data": {
      "text/plain": [
       "['/home/bay001/projects/kris_apobec_20200121/permanent_data2/03_scRNA_APOBEC_RPS2/outputs/Apo_Control_possorted_genome_bam_MD.merged.epkm.cds.epkm.wgenenames.txt',\n",
       " '/home/bay001/projects/kris_apobec_20200121/permanent_data2/03_scRNA_APOBEC_RPS2/outputs/RPS2_possorted_genome_bam_MD.merged.epkm.cds.epkm.wgenenames.txt']"
      ]
     },
     "execution_count": 3,
     "metadata": {},
     "output_type": "execute_result"
    }
   ],
   "source": [
    "epkms = sorted(glob.glob(os.path.join(input_dir, '*.cds.epkm.wgenenames.txt')))\n",
    "epkms"
   ]
  },
  {
   "cell_type": "code",
   "execution_count": 4,
   "metadata": {},
   "outputs": [
    {
     "data": {
      "application/vnd.jupyter.widget-view+json": {
       "model_id": "4dd732670580495a96810246ae272bbc",
       "version_major": 2,
       "version_minor": 0
      },
      "text/plain": [
       "HBox(children=(IntProgress(value=0, max=2), HTML(value=u'')))"
      ]
     },
     "metadata": {},
     "output_type": "display_data"
    }
   ],
   "source": [
    "progress = tnrange(len(epkms))\n",
    "for epkm in epkms:\n",
    "    df = pd.read_csv(epkm, sep='\\t', index_col=[0])\n",
    "    del df['Geneid']\n",
    "    mtx = csc_matrix(df.values)\n",
    "    save_npz(epkm + '.npz', mtx)\n",
    "    progress.update(1)"
   ]
  },
  {
   "cell_type": "code",
   "execution_count": null,
   "metadata": {},
   "outputs": [],
   "source": []
  },
  {
   "cell_type": "code",
   "execution_count": 5,
   "metadata": {},
   "outputs": [],
   "source": [
    "data = np.load(epkm + '.npz')"
   ]
  },
  {
   "cell_type": "code",
   "execution_count": 6,
   "metadata": {},
   "outputs": [
    {
     "data": {
      "text/plain": [
       "[('indices',\n",
       "  array([  410,  1290,  2090, ..., 19734, 19892, 20245], dtype=int32)),\n",
       " ('indptr',\n",
       "  array([     0,     35,    129, ..., 732435, 732562, 732609], dtype=int32)),\n",
       " ('shape', array([20356, 10995])),\n",
       " ('data', array([179.42909967, 151.67841264, 112.56636913, ..., 102.65301587,\n",
       "          33.58693146,  83.34850971])),\n",
       " ('format', array('csc', dtype='|S3'))]"
      ]
     },
     "execution_count": 6,
     "metadata": {},
     "output_type": "execute_result"
    }
   ],
   "source": [
    "data.items()"
   ]
  },
  {
   "cell_type": "code",
   "execution_count": null,
   "metadata": {},
   "outputs": [],
   "source": []
  },
  {
   "cell_type": "code",
   "execution_count": null,
   "metadata": {},
   "outputs": [],
   "source": []
  },
  {
   "cell_type": "code",
   "execution_count": null,
   "metadata": {},
   "outputs": [],
   "source": []
  }
 ],
 "metadata": {
  "kernelspec": {
   "display_name": "python2-essential",
   "language": "python",
   "name": "python2-essential"
  },
  "language_info": {
   "codemirror_mode": {
    "name": "ipython",
    "version": 2
   },
   "file_extension": ".py",
   "mimetype": "text/x-python",
   "name": "python",
   "nbconvert_exporter": "python",
   "pygments_lexer": "ipython2",
   "version": "2.7.15"
  }
 },
 "nbformat": 4,
 "nbformat_minor": 2
}
