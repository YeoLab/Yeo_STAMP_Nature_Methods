{
 "cells": [
  {
   "cell_type": "markdown",
   "metadata": {},
   "source": [
    "# Join all the scored files together"
   ]
  },
  {
   "cell_type": "code",
   "execution_count": 1,
   "metadata": {},
   "outputs": [],
   "source": [
    "import glob\n",
    "import os\n",
    "import pandas as pd\n",
    "from tqdm import tnrange, tqdm_notebook"
   ]
  },
  {
   "cell_type": "code",
   "execution_count": 2,
   "metadata": {},
   "outputs": [],
   "source": [
    "input_dir = '/home/bay001/projects/kris_apobec_20200121/permanent_data2/03_scRNA/sailor_outputs_individual_barcodes_merged_scores'\n",
    "output_dir = '/home/bay001/projects/kris_apobec_20200121/permanent_data2/03_scRNA/outputs'"
   ]
  },
  {
   "cell_type": "code",
   "execution_count": 3,
   "metadata": {},
   "outputs": [
    {
     "name": "stdout",
     "output_type": "stream",
     "text": [
      "8616 10995\n"
     ]
    },
    {
     "data": {
      "text/plain": [
       "['/home/bay001/projects/kris_apobec_20200121/permanent_data2/03_scRNA/sailor_outputs_individual_barcodes_merged_scores/Apo_Control_possorted_genome_bam_MD-AAACCCAAGCCAGTAG-1.fx.bed.annotated.exons.merged.txt',\n",
       " '/home/bay001/projects/kris_apobec_20200121/permanent_data2/03_scRNA/sailor_outputs_individual_barcodes_merged_scores/Apo_Control_possorted_genome_bam_MD-AAACCCAAGGATGCGT-1.fx.bed.annotated.exons.merged.txt',\n",
       " '/home/bay001/projects/kris_apobec_20200121/permanent_data2/03_scRNA/sailor_outputs_individual_barcodes_merged_scores/Apo_Control_possorted_genome_bam_MD-AAACCCACAATACAGA-1.fx.bed.annotated.exons.merged.txt']"
      ]
     },
     "execution_count": 3,
     "metadata": {},
     "output_type": "execute_result"
    }
   ],
   "source": [
    "all_apo_scored = sorted(glob.glob(os.path.join(input_dir, 'Apo_Control_possorted_genome_bam_MD*.exons.merged.txt')))\n",
    "all_rps2_scored = sorted(glob.glob(os.path.join(input_dir, 'RPS2_possorted_genome_bam_MD*.exons.merged.txt')))\n",
    "\n",
    "print(len(all_apo_scored), len(all_rps2_scored))\n",
    "all_apo_scored[:3]"
   ]
  },
  {
   "cell_type": "code",
   "execution_count": 4,
   "metadata": {},
   "outputs": [],
   "source": [
    "def format_name(fn):\n",
    "    return os.path.basename(fn).replace('.fx.bed.annotated.exons.merged.txt','')"
   ]
  },
  {
   "cell_type": "code",
   "execution_count": 5,
   "metadata": {},
   "outputs": [
    {
     "data": {
      "application/vnd.jupyter.widget-view+json": {
       "model_id": "b3d5cdb72a744b09a3c11c8c27ce277f",
       "version_major": 2,
       "version_minor": 0
      },
      "text/plain": [
       "HBox(children=(IntProgress(value=0, max=8616), HTML(value='')))"
      ]
     },
     "metadata": {},
     "output_type": "display_data"
    },
    {
     "name": "stdout",
     "output_type": "stream",
     "text": [
      "(2263, 8616)\n"
     ]
    }
   ],
   "source": [
    "merged = pd.DataFrame()\n",
    "progress = tnrange(len(all_apo_scored))\n",
    "for scored in all_apo_scored:\n",
    "    df = pd.read_csv(scored, index_col=0, sep='\\t')[['edited_over_edited_c']]\n",
    "    df.columns = [format_name(scored)]\n",
    "    merged = pd.merge(merged, df, how='outer', left_index=True, right_index=True)\n",
    "    progress.update(1)\n",
    "    \n",
    "print(merged.shape)\n",
    "merged.fillna(0, inplace=True)\n",
    "merged.to_csv(os.path.join(output_dir, 'Apo_Control_possorted_genome_bam_MD.exons.merged.edited_over_edited_c.tsv'), sep='\\t', header=True, index=True)"
   ]
  },
  {
   "cell_type": "code",
   "execution_count": 7,
   "metadata": {},
   "outputs": [
    {
     "data": {
      "application/vnd.jupyter.widget-view+json": {
       "model_id": "0af031224b764c3fb3c53f4006080181",
       "version_major": 2,
       "version_minor": 0
      },
      "text/plain": [
       "HBox(children=(IntProgress(value=0, max=10995), HTML(value='')))"
      ]
     },
     "metadata": {},
     "output_type": "display_data"
    },
    {
     "name": "stdout",
     "output_type": "stream",
     "text": [
      "(2446, 10995)\n"
     ]
    }
   ],
   "source": [
    "merged = pd.DataFrame()\n",
    "progress = tnrange(len(all_rps2_scored))\n",
    "for scored in all_rps2_scored:\n",
    "    df = pd.read_csv(scored, index_col=0, sep='\\t')[['edited_over_edited_c']]\n",
    "    df.columns = [format_name(scored)]\n",
    "    merged = pd.merge(merged, df, how='outer', left_index=True, right_index=True)\n",
    "    progress.update(1)\n",
    "    \n",
    "print(merged.shape)\n",
    "merged.fillna(0, inplace=True)\n",
    "merged.to_csv(os.path.join(output_dir, 'RPS2_possorted_genome_bam_MD.exons.merged.edited_over_edited_c.tsv'), sep='\\t', header=True, index=True)"
   ]
  },
  {
   "cell_type": "code",
   "execution_count": null,
   "metadata": {},
   "outputs": [],
   "source": []
  }
 ],
 "metadata": {
  "kernelspec": {
   "display_name": "python3-essential-tscc",
   "language": "python",
   "name": "python3essentialtscc"
  },
  "language_info": {
   "codemirror_mode": {
    "name": "ipython",
    "version": 3
   },
   "file_extension": ".py",
   "mimetype": "text/x-python",
   "name": "python",
   "nbconvert_exporter": "python",
   "pygments_lexer": "ipython3",
   "version": "3.6.7"
  }
 },
 "nbformat": 4,
 "nbformat_minor": 2
}
