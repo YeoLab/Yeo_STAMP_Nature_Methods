{
 "cells": [
  {
   "cell_type": "markdown",
   "metadata": {},
   "source": [
    "# This analysis groups the individually-split-barcoded bams from the previous notebook into various groups that might be useful (ie. top 10 by lenti expression). \n",
    "- This notebook is a bit tricky, but ultimately what we wanted to do is group barcodes together (based on Alex's clustering/analysis) and re-run as a 'bulk' sample. \n",
    "- There are two strategies this notebook employs to do this:\n",
    "    - perform ```samtools merge``` on the group of indidividually split (from notebook 01) barcodes (this is faster if you have only a few barcodes to group. Otherwise you will hit a limit).\n",
    "    - cycle through the main possorted.bam file and subset the reads belonging to the barcodes of interest into a new merged file\n",
    "    "
   ]
  },
  {
   "cell_type": "code",
   "execution_count": 1,
   "metadata": {},
   "outputs": [],
   "source": [
    "import pandas as pd\n",
    "import numpy as np\n",
    "import os\n",
    "import glob\n",
    "import pysam\n",
    "import time\n",
    "from collections import defaultdict, OrderedDict\n",
    "from tqdm import tnrange, tqdm_notebook\n",
    "import random\n",
    "from qtools import Submitter"
   ]
  },
  {
   "cell_type": "code",
   "execution_count": 2,
   "metadata": {},
   "outputs": [],
   "source": [
    "input_dir = '/home/bay001/projects/kris_apobec_20200121/permanent_data2/03_scRNA/inputs/'\n",
    "split_bam_file_dir = '/home/bay001/projects/kris_apobec_20200121/permanent_data2/03_scRNA/bam_files/'\n",
    "output_dir = '/home/bay001/projects/kris_apobec_20200121/permanent_data2/03_scRNA/bam_file_groups/'"
   ]
  },
  {
   "cell_type": "markdown",
   "metadata": {},
   "source": [
    "# Read in expression values from Alex to help us decide which barcodes to look for/split."
   ]
  },
  {
   "cell_type": "code",
   "execution_count": null,
   "metadata": {},
   "outputs": [],
   "source": []
  },
  {
   "cell_type": "code",
   "execution_count": 3,
   "metadata": {},
   "outputs": [
    {
     "name": "stdout",
     "output_type": "stream",
     "text": [
      "(8131, 9990)\n"
     ]
    },
    {
     "data": {
      "text/html": [
       "<div>\n",
       "<style scoped>\n",
       "    .dataframe tbody tr th:only-of-type {\n",
       "        vertical-align: middle;\n",
       "    }\n",
       "\n",
       "    .dataframe tbody tr th {\n",
       "        vertical-align: top;\n",
       "    }\n",
       "\n",
       "    .dataframe thead th {\n",
       "        text-align: right;\n",
       "    }\n",
       "</style>\n",
       "<table border=\"1\" class=\"dataframe\">\n",
       "  <thead>\n",
       "    <tr style=\"text-align: right;\">\n",
       "      <th></th>\n",
       "      <th>APOBEC</th>\n",
       "    </tr>\n",
       "  </thead>\n",
       "  <tbody>\n",
       "    <tr>\n",
       "      <th>GGTGTCGGTCTGCCTT-1</th>\n",
       "      <td>4.268595</td>\n",
       "    </tr>\n",
       "    <tr>\n",
       "      <th>ACGTACATCTGAGAAA-1</th>\n",
       "      <td>3.855157</td>\n",
       "    </tr>\n",
       "    <tr>\n",
       "      <th>CAGGGCTCAAACACCT-1</th>\n",
       "      <td>3.834341</td>\n",
       "    </tr>\n",
       "    <tr>\n",
       "      <th>GGGCCATCAGCCGGTT-1</th>\n",
       "      <td>3.821715</td>\n",
       "    </tr>\n",
       "    <tr>\n",
       "      <th>TTCCAATGTCCTACGG-1</th>\n",
       "      <td>3.548833</td>\n",
       "    </tr>\n",
       "  </tbody>\n",
       "</table>\n",
       "</div>"
      ],
      "text/plain": [
       "                      APOBEC\n",
       "GGTGTCGGTCTGCCTT-1  4.268595\n",
       "ACGTACATCTGAGAAA-1  3.855157\n",
       "CAGGGCTCAAACACCT-1  3.834341\n",
       "GGGCCATCAGCCGGTT-1  3.821715\n",
       "TTCCAATGTCCTACGG-1  3.548833"
      ]
     },
     "execution_count": 3,
     "metadata": {},
     "output_type": "execute_result"
    }
   ],
   "source": [
    "# I use the flags and the files specified in this cell to run this notebook twice, on 'normed' and 'not_normed' counts.\n",
    "\n",
    "flag = 'normed' \n",
    "\n",
    "apo_df = pd.read_csv(os.path.join(input_dir, 'APO-control_normalized_counts.csv'), index_col=0)\n",
    "apo_df.columns = ['APOBEC']\n",
    "apo_df.sort_values(by=['APOBEC'], inplace=True, ascending=False)\n",
    "\n",
    "rps2_df = pd.read_csv(os.path.join(input_dir, 'RPS2_normalized_counts.csv'), index_col=0)\n",
    "rps2_df.columns = ['RPS2']\n",
    "rps2_df.sort_values(by=['RPS2'], inplace=True, ascending=False)\n",
    "\n",
    "print(apo_df.shape[0], rps2_df.shape[0])\n",
    "apo_df.head()"
   ]
  },
  {
   "cell_type": "markdown",
   "metadata": {},
   "source": [
    "# The next code block ensure that the split-bam files from the previous notebook were all made. If not, we might need to re-run or re-make some of these.\n",
    "- This is the same code as the previous notebook, just making extra sure that we've got everything."
   ]
  },
  {
   "cell_type": "code",
   "execution_count": 4,
   "metadata": {},
   "outputs": [
    {
     "data": {
      "application/vnd.jupyter.widget-view+json": {
       "model_id": "a368514318eb49b18c4179904cd01550",
       "version_major": 2,
       "version_minor": 0
      },
      "text/plain": [
       "HBox(children=(IntProgress(value=0, max=8131), HTML(value=u'')))"
      ]
     },
     "metadata": {},
     "output_type": "display_data"
    },
    {
     "data": {
      "application/vnd.jupyter.widget-view+json": {
       "model_id": "ecdc430774334b31a2387d029de98584",
       "version_major": 2,
       "version_minor": 0
      },
      "text/plain": [
       "HBox(children=(IntProgress(value=0, max=9990), HTML(value=u'')))"
      ]
     },
     "metadata": {},
     "output_type": "display_data"
    }
   ],
   "source": [
    "def get_bam_file_name_from_barcode(barcode, sample):\n",
    "    if sample == 'Apo':\n",
    "        return 'Apo_Control_polyA_H7_MD-{}.bam'.format(barcode)\n",
    "    elif sample == 'Rps2':\n",
    "        return 'Rps2_polyA_H6_MD-{}.bam'.format(barcode)\n",
    "    else:\n",
    "        print(\"What?\")\n",
    "\n",
    "progress = tnrange(len(apo_df.index))\n",
    "for barcode in apo_df.index:\n",
    "    bam_file = os.path.join(split_bam_file_dir, get_bam_file_name_from_barcode(barcode, 'Apo'))\n",
    "    try:\n",
    "        assert os.path.exists(bam_file)\n",
    "    except AssertionError:\n",
    "        print(bam_file)\n",
    "    progress.update(1)\n",
    "\n",
    "progress = tnrange(len(rps2_df.index))\n",
    "for barcode in rps2_df.index:\n",
    "    bam_file = os.path.join(split_bam_file_dir, get_bam_file_name_from_barcode(barcode, 'Rps2'))\n",
    "    try:\n",
    "        assert os.path.exists(bam_file)\n",
    "    except AssertionError:\n",
    "        print(bam_file)\n",
    "    progress.update(1)"
   ]
  },
  {
   "cell_type": "markdown",
   "metadata": {},
   "source": [
    "# create groups\n",
    "- ordered by RPS2 exprs and Apo exprs, split into quartiles. "
   ]
  },
  {
   "cell_type": "code",
   "execution_count": 5,
   "metadata": {},
   "outputs": [
    {
     "name": "stdout",
     "output_type": "stream",
     "text": [
      "(2498, 2498, 2497, 2497)\n",
      "(2033, 2033, 2033, 2032)\n"
     ]
    }
   ],
   "source": [
    "rps2_df['rank'] = rps2_df.rank(pct=True)\n",
    "rps2_df_q1 = rps2_df[(rps2_df['rank'] >= 0.75)]\n",
    "rps2_df_q2 = rps2_df[(rps2_df['rank'] >= 0.50) & (rps2_df['rank'] < 0.75)]\n",
    "rps2_df_q3 = rps2_df[(rps2_df['rank'] >= 0.25) & (rps2_df['rank'] < 0.50)]\n",
    "rps2_df_q4 = rps2_df[rps2_df['rank'] < 0.25]\n",
    "\n",
    "apo_df['rank'] = apo_df.rank(pct=True)\n",
    "apo_df_q1 = apo_df[(apo_df['rank'] >= 0.75)]\n",
    "apo_df_q2 = apo_df[(apo_df['rank'] >= 0.50) & (apo_df['rank'] < 0.75)]\n",
    "apo_df_q3 = apo_df[(apo_df['rank'] >= 0.25) & (apo_df['rank'] < 0.50)]\n",
    "apo_df_q4 = apo_df[apo_df['rank'] < 0.25]\n",
    "\n",
    "print(rps2_df_q1.shape[0], rps2_df_q2.shape[0], rps2_df_q3.shape[0], rps2_df_q4.shape[0])\n",
    "print(apo_df_q1.shape[0], apo_df_q2.shape[0], apo_df_q3.shape[0], apo_df_q4.shape[0])"
   ]
  },
  {
   "cell_type": "code",
   "execution_count": 6,
   "metadata": {},
   "outputs": [],
   "source": [
    "assert sum([rps2_df_q1.shape[0], rps2_df_q2.shape[0], rps2_df_q3.shape[0], rps2_df_q4.shape[0]]) == rps2_df.shape[0]\n",
    "assert sum([apo_df_q1.shape[0], apo_df_q2.shape[0], apo_df_q3.shape[0], apo_df_q4.shape[0]]) == apo_df.shape[0]"
   ]
  },
  {
   "cell_type": "code",
   "execution_count": 7,
   "metadata": {},
   "outputs": [
    {
     "data": {
      "text/html": [
       "<div>\n",
       "<style scoped>\n",
       "    .dataframe tbody tr th:only-of-type {\n",
       "        vertical-align: middle;\n",
       "    }\n",
       "\n",
       "    .dataframe tbody tr th {\n",
       "        vertical-align: top;\n",
       "    }\n",
       "\n",
       "    .dataframe thead th {\n",
       "        text-align: right;\n",
       "    }\n",
       "</style>\n",
       "<table border=\"1\" class=\"dataframe\">\n",
       "  <thead>\n",
       "    <tr style=\"text-align: right;\">\n",
       "      <th></th>\n",
       "      <th>RPS2</th>\n",
       "      <th>rank</th>\n",
       "    </tr>\n",
       "  </thead>\n",
       "  <tbody>\n",
       "    <tr>\n",
       "      <th>CAGATACAGTTTCTTC-1</th>\n",
       "      <td>-0.695487</td>\n",
       "      <td>0.24995</td>\n",
       "    </tr>\n",
       "    <tr>\n",
       "      <th>CTCCTCCAGAGTGACC-1</th>\n",
       "      <td>-0.695642</td>\n",
       "      <td>0.24985</td>\n",
       "    </tr>\n",
       "    <tr>\n",
       "      <th>TCTGCCATCTGAATGC-1</th>\n",
       "      <td>-0.696504</td>\n",
       "      <td>0.24975</td>\n",
       "    </tr>\n",
       "    <tr>\n",
       "      <th>CAGTGCGCAGAATTCC-1</th>\n",
       "      <td>-0.696635</td>\n",
       "      <td>0.24965</td>\n",
       "    </tr>\n",
       "    <tr>\n",
       "      <th>TTCCTAACAGATACCT-1</th>\n",
       "      <td>-0.696780</td>\n",
       "      <td>0.24955</td>\n",
       "    </tr>\n",
       "  </tbody>\n",
       "</table>\n",
       "</div>"
      ],
      "text/plain": [
       "                        RPS2     rank\n",
       "CAGATACAGTTTCTTC-1 -0.695487  0.24995\n",
       "CTCCTCCAGAGTGACC-1 -0.695642  0.24985\n",
       "TCTGCCATCTGAATGC-1 -0.696504  0.24975\n",
       "CAGTGCGCAGAATTCC-1 -0.696635  0.24965\n",
       "TTCCTAACAGATACCT-1 -0.696780  0.24955"
      ]
     },
     "execution_count": 7,
     "metadata": {},
     "output_type": "execute_result"
    }
   ],
   "source": [
    "rps2_df_q4.head()"
   ]
  },
  {
   "cell_type": "code",
   "execution_count": 8,
   "metadata": {},
   "outputs": [],
   "source": [
    "def merge_barcodes_cmd(split_bam_file_dir, merged_output, bam_list):\n",
    "    \"\"\"\n",
    "    Returns the samtools merge command that combines all the individually-split BAM files into a single BAM file.\n",
    "    \"\"\"\n",
    "    cmd = \"samtools merge -f {} \".format(merged_output)\n",
    "    for bam in bam_list:\n",
    "        cmd += \"{} \".format(os.path.join(split_bam_file_dir, bam))\n",
    "    return cmd"
   ]
  },
  {
   "cell_type": "markdown",
   "metadata": {},
   "source": [
    "# For each Rps2/Apo quartile, build the command to merge and submit if necessary."
   ]
  },
  {
   "cell_type": "code",
   "execution_count": 9,
   "metadata": {},
   "outputs": [
    {
     "data": {
      "text/plain": [
       "8"
      ]
     },
     "execution_count": 9,
     "metadata": {},
     "output_type": "execute_result"
    }
   ],
   "source": [
    "quartiles = {\n",
    "    'Rps2_Q1_{}_barcodes.bam'.format(flag):rps2_df_q1.index,\n",
    "    'Rps2_Q2_{}_barcodes.bam'.format(flag):rps2_df_q2.index,\n",
    "    'Rps2_Q3_{}_barcodes.bam'.format(flag):rps2_df_q3.index,\n",
    "    'Rps2_Q4_{}_barcodes.bam'.format(flag):rps2_df_q4.index,\n",
    "    'Apo_Q1_{}_barcodes.bam'.format(flag):apo_df_q1.index,\n",
    "    'Apo_Q2_{}_barcodes.bam'.format(flag):apo_df_q2.index,\n",
    "    'Apo_Q3_{}_barcodes.bam'.format(flag):apo_df_q3.index,\n",
    "    'Apo_Q4_{}_barcodes.bam'.format(flag):apo_df_q4.index,\n",
    "}\n",
    "\n",
    "cmds = []\n",
    "for output_file, barcodes in quartiles.iteritems():\n",
    "    bam_list = []\n",
    "    sample = \"\"\n",
    "    if output_file.startswith('Rps2'):\n",
    "        sample = 'Rps2'\n",
    "    elif output_file.startswith('Apo'):\n",
    "        sample = 'Apo'\n",
    "    else:\n",
    "        print(\"What?\")\n",
    "        \n",
    "    for barcode in barcodes:\n",
    "        bam_list.append(get_bam_file_name_from_barcode(barcode, sample))\n",
    "\n",
    "    cmds.append(merge_barcodes_cmd(split_bam_file_dir, os.path.join(output_dir, output_file), bam_list))\n",
    "len(cmds)"
   ]
  },
  {
   "cell_type": "code",
   "execution_count": 10,
   "metadata": {},
   "outputs": [
    {
     "name": "stderr",
     "output_type": "stream",
     "text": [
      "Writing 8 tasks as an array-job.\n",
      "Wrote commands to merge-normed.sh.\n"
     ]
    },
    {
     "data": {
      "text/plain": [
       "<qtools.submitter.Submitter at 0x2b72072ae050>"
      ]
     },
     "execution_count": 10,
     "metadata": {},
     "output_type": "execute_result"
    }
   ],
   "source": [
    "Submitter(\n",
    "    commands=cmds,\n",
    "    job_name='merge-{}'.format(flag),\n",
    "    sh='merge-{}.sh'.format(flag),\n",
    "    array=True,\n",
    "    nodes=1,\n",
    "    ppn=2,\n",
    "    walltime='48:00:00',\n",
    "    submit=False,\n",
    ")"
   ]
  },
  {
   "cell_type": "markdown",
   "metadata": {},
   "source": [
    "# Alex has grouped a few RPS barcodes to merge and call SAILOR on. Group and run SAILOR in the cells below.\n",
    "- need to rethink this analysis, perhaps we can find what we want in a more unbiased manner."
   ]
  },
  {
   "cell_type": "raw",
   "metadata": {},
   "source": [
    "group2 = pd.read_csv(os.path.join(input_dir, 'RPS2_Louvain_2_Phase_S_counts.csv'), index_col=0)\n",
    "group2.columns = ['Phase','Group']\n",
    "\n",
    "group6 = pd.read_csv(os.path.join(input_dir, 'RPS2_Louvain_6_Phase_S_counts.csv'), index_col=0)\n",
    "group6.columns = ['Phase','Group']\n",
    "\n",
    "group8 = pd.read_csv(os.path.join(input_dir, 'RPS2_Louvain_8_Phase_G2M_counts.csv'), index_col=0)\n",
    "group8.columns = ['Phase','Group']\n",
    "\n",
    "print(group2.shape[0], group6.shape[0], group8.shape[0])\n",
    "group8.head()"
   ]
  },
  {
   "cell_type": "raw",
   "metadata": {},
   "source": [
    "groups = {\n",
    "    'RPS2_Louvain_2_Phase_S.bam':group2.index,\n",
    "    'RPS2_Louvain_6_Phase_S.bam':group6.index,\n",
    "    'RPS2_Louvain_8_Phase_G2M.bam':group8.index,\n",
    "}\n",
    "\n",
    "cmds = []\n",
    "for output_file, barcodes in groups.iteritems():\n",
    "    bam_list = []\n",
    "    for barcode in barcodes:\n",
    "        bam_list.append(get_bam_file_name_from_barcode(barcode, 'Rps2'))\n",
    "\n",
    "    cmds.append(merge_barcodes_cmd(split_bam_file_dir, os.path.join(output_dir, output_file), bam_list))\n",
    "len(cmds)"
   ]
  },
  {
   "cell_type": "raw",
   "metadata": {},
   "source": [
    "Submitter(\n",
    "    commands=cmds,\n",
    "    job_name='merge-{}'.format('RPS-louvain'),\n",
    "    sh='merge-{}.sh'.format('RPS-louvain'),\n",
    "    array=True,\n",
    "    nodes=1,\n",
    "    ppn=2,\n",
    "    walltime='48:00:00',\n",
    "    submit=False,\n",
    ")"
   ]
  },
  {
   "cell_type": "markdown",
   "metadata": {},
   "source": [
    "# Just run all Apo/Rps2"
   ]
  },
  {
   "cell_type": "raw",
   "metadata": {},
   "source": [
    "quartiles = {\n",
    "    'Rps2_{}_barcodes.bam'.format(flag):rps2_df.index,\n",
    "    'Apo_{}_barcodes.bam'.format(flag):apo_df.index,\n",
    "}\n",
    "\n",
    "cmds = []\n",
    "for output_file, barcodes in quartiles.iteritems():\n",
    "    bam_list = []\n",
    "    sample = \"\"\n",
    "    if output_file.startswith('Rps2'):\n",
    "        sample = 'Rps2'\n",
    "    elif output_file.startswith('Apo'):\n",
    "        sample = 'Apo'\n",
    "    else:\n",
    "        print(\"What?\")\n",
    "        \n",
    "    for barcode in barcodes:\n",
    "        bam_list.append(get_bam_file_name_from_barcode(barcode, sample))\n",
    "\n",
    "    cmds.append(merge_barcodes_cmd(split_bam_file_dir, os.path.join(output_dir, output_file), bam_list))\n",
    "len(cmds)"
   ]
  },
  {
   "cell_type": "raw",
   "metadata": {},
   "source": [
    "Submitter(\n",
    "    commands=cmds,\n",
    "    job_name='merge-{}'.format('RPS-APO-ALL'),\n",
    "    sh='merge-{}.sh'.format('RPS-APO-ALL'),\n",
    "    array=True,\n",
    "    nodes=1,\n",
    "    ppn=2,\n",
    "    walltime='48:00:00',\n",
    "    submit=False,\n",
    ")"
   ]
  },
  {
   "cell_type": "raw",
   "metadata": {},
   "source": [
    "cmds[0][:500]"
   ]
  },
  {
   "cell_type": "markdown",
   "metadata": {},
   "source": [
    "# OK the above doesn't actually work since there are too many files to open... just merge the quartiles"
   ]
  },
  {
   "cell_type": "code",
   "execution_count": 28,
   "metadata": {},
   "outputs": [
    {
     "name": "stdout",
     "output_type": "stream",
     "text": [
      "samtools merge -f /home/bay001/projects/ryan_editing_20190314/permanent_data/49_SAILOR_on_47/bam_file_groups/Apo_normed_barcodes.bam /home/bay001/projects/ryan_editing_20190314/permanent_data/49_SAILOR_on_47/bam_file_groups/Apo_Q1_normed_barcodes.bam /home/bay001/projects/ryan_editing_20190314/permanent_data/49_SAILOR_on_47/bam_file_groups/Apo_Q2_normed_barcodes.bam /home/bay001/projects/ryan_editing_20190314/permanent_data/49_SAILOR_on_47/bam_file_groups/Apo_Q3_normed_barcodes.bam /home/bay001/projects/ryan_editing_20190314/permanent_data/49_SAILOR_on_47/bam_file_groups/Apo_Q4_normed_barcodes.bam \n"
     ]
    }
   ],
   "source": [
    "cmd = 'samtools merge -f '\n",
    "cmd += os.path.join(output_dir, 'Apo_{}_barcodes.bam '.format(flag))\n",
    "for bam in sorted(glob.glob(os.path.join(output_dir, 'Apo_Q*_{}_barcodes.bam'.format(flag)))):\n",
    "    cmd += '{} '.format(bam)\n",
    "    \n",
    "print(cmd)\n",
    "if not os.path.exists(os.path.join(output_dir, 'Apo_{}_barcodes.bam'.format(flag))):\n",
    "    ! $cmd"
   ]
  },
  {
   "cell_type": "code",
   "execution_count": null,
   "metadata": {},
   "outputs": [
    {
     "name": "stdout",
     "output_type": "stream",
     "text": [
      "samtools merge -f /home/bay001/projects/ryan_editing_20190314/permanent_data/49_SAILOR_on_47/bam_file_groups/Rps2_normed_barcodes.bam /home/bay001/projects/ryan_editing_20190314/permanent_data/49_SAILOR_on_47/bam_file_groups/Rps2_Q1_normed_barcodes.bam /home/bay001/projects/ryan_editing_20190314/permanent_data/49_SAILOR_on_47/bam_file_groups/Rps2_Q2_normed_barcodes.bam /home/bay001/projects/ryan_editing_20190314/permanent_data/49_SAILOR_on_47/bam_file_groups/Rps2_Q3_normed_barcodes.bam /home/bay001/projects/ryan_editing_20190314/permanent_data/49_SAILOR_on_47/bam_file_groups/Rps2_Q4_normed_barcodes.bam \n"
     ]
    }
   ],
   "source": [
    "cmd = 'samtools merge -f '\n",
    "cmd += os.path.join(output_dir, 'Rps2_{}_barcodes.bam '.format(flag))\n",
    "for bam in sorted(glob.glob(os.path.join(output_dir, 'Rps2_Q*_{}_barcodes.bam'.format(flag)))):\n",
    "    cmd += '{} '.format(bam)\n",
    "print(cmd)\n",
    "if not os.path.exists(os.path.join(output_dir, 'Rps2_{}_barcodes.bam'.format(flag))):\n",
    "    ! $cmd"
   ]
  },
  {
   "cell_type": "markdown",
   "metadata": {},
   "source": [
    "# Group all S phase and G2M phase barcodes"
   ]
  },
  {
   "cell_type": "code",
   "execution_count": 11,
   "metadata": {},
   "outputs": [],
   "source": [
    "phases = pd.read_csv(os.path.join(input_dir, 'RPS2_by_phase_normalized_counts.csv'), index_col=0)\n",
    "\n",
    "s_phases = phases[phases['phase']=='S']\n",
    "g2m_phases = phases[phases['phase']=='G2M']\n",
    "g1_phases = phases[(phases['phase']!='S') & (phases['phase']!='G2M')]\n",
    "assert s_phases.shape[0] + g2m_phases.shape[0] + g1_phases.shape[0] == phases.shape[0]"
   ]
  },
  {
   "cell_type": "code",
   "execution_count": 12,
   "metadata": {},
   "outputs": [
    {
     "data": {
      "text/plain": [
       "2930"
      ]
     },
     "execution_count": 12,
     "metadata": {},
     "output_type": "execute_result"
    }
   ],
   "source": [
    "g1_phases.shape[0]"
   ]
  },
  {
   "cell_type": "code",
   "execution_count": 13,
   "metadata": {},
   "outputs": [],
   "source": [
    "s_phase_barcodes = set(s_phases.index)\n",
    "g2m_phase_barcodes = set(g2m_phases.index)\n",
    "g1_phase_barcodes = set(g1_phases.index)"
   ]
  },
  {
   "cell_type": "code",
   "execution_count": 14,
   "metadata": {},
   "outputs": [],
   "source": [
    "def get_readcount(bam_file):\n",
    "    \"\"\"\n",
    "    Parses a bam file idxstats to get the number of reads.\n",
    "    The BAM file MUST have an index.\n",
    "    \"\"\"\n",
    "    num_reads = pysam.idxstats(\n",
    "        bam_file\n",
    "    ).split('\\n')\n",
    "    nums = {}\n",
    "    for num in num_reads:\n",
    "        try:\n",
    "            chrom, chrlen, mapped, unmapped = num.split('\\t')\n",
    "            nums[chrom] = int(mapped) + int(unmapped)\n",
    "        except ValueError:\n",
    "            print(num)\n",
    "    return pd.DataFrame(nums, index=['num']).T.sum().values[0]\n"
   ]
  },
  {
   "cell_type": "markdown",
   "metadata": {},
   "source": [
    "# Hiding the below block since it takes awhile to run, but it basically splits the bam file into each G1, G2M, and S-phase groups."
   ]
  },
  {
   "cell_type": "raw",
   "metadata": {},
   "source": [
    "\n",
    "samfile = pysam.AlignmentFile(os.path.join(input_dir, 'Rps2_polyA_H6_MD.bam'), \"rb\")\n",
    "\n",
    "progress = tnrange(get_readcount(os.path.join(input_dir, 'Rps2_polyA_H6_MD.bam')))\n",
    "\n",
    "s = pysam.AlignmentFile(os.path.join(output_dir, 'Rps2_polyA_H6_MD.S-phase.bam'), 'wb', template=samfile)\n",
    "g2m = pysam.AlignmentFile(os.path.join(output_dir, 'Rps2_polyA_H6_MD.G2M-phase.bam'), 'wb', template=samfile)\n",
    "g1 = pysam.AlignmentFile(os.path.join(output_dir, 'Rps2_polyA_H6_MD.G1-phase.bam'), 'wb', template=samfile)\n",
    "\n",
    "for read in samfile:\n",
    "    if (not read.is_unmapped) and (not read.is_secondary) and (not read.is_duplicate):  # get only primary mapped reads.\n",
    "        try:\n",
    "            barcode = read.get_tag('CB')  # identify read=assigned barcode\n",
    "            gene_annotation = read.get_tag('GX')  # \n",
    "            if barcode in s_phase_barcodes:\n",
    "                s.write(read)\n",
    "            elif barcode in g2m_phase_barcodes:\n",
    "                g2m.write(read)\n",
    "            elif barcode in g1_phase_barcodes:\n",
    "                g1.write(read)\n",
    "        except KeyError:\n",
    "            pass # no barcode or no GX tag, so 10X doesn't count this read and we shouldn't either.\n",
    "    progress.update(1)\n",
    "    \n",
    "s.close()\n",
    "g2m.close()\n",
    "g1.close() "
   ]
  },
  {
   "cell_type": "markdown",
   "metadata": {},
   "source": [
    "# Next idea, random sample G2M and S phase to the same number of barcodes as G1, make it easier to compare edits.\n",
    "- this was originally done in 43_new_scRNA_editing (C_group_bams.ipynb)\n",
    "- actually now that Alex has re-done this analysis to correct, we probably don't need to randomly downsample them. "
   ]
  },
  {
   "cell_type": "code",
   "execution_count": 15,
   "metadata": {},
   "outputs": [
    {
     "data": {
      "text/plain": [
       "(3760, 3300, 2930)"
      ]
     },
     "execution_count": 15,
     "metadata": {},
     "output_type": "execute_result"
    }
   ],
   "source": [
    "len(s_phase_barcodes), len(g2m_phase_barcodes), len(g1_phase_barcodes)"
   ]
  },
  {
   "cell_type": "raw",
   "metadata": {},
   "source": [
    "def merge_barcodes(split_bam_file_dir, merged_output, barcodes_list):\n",
    "    \"\"\"\n",
    "    Returns the samtools merge command that combines all the individually-split BAM files (given barcodes) into a single BAM file.\n",
    "    \"\"\"\n",
    "    cmd = \"samtools merge -f {} \".format(merged_output)\n",
    "    for barcode in barcodes_list:\n",
    "        cmd += \"{} \".format(os.path.join(split_bam_file_dir, get_bam_file_name_from_barcode(barcode, 'Rps2')))\n",
    "    return cmd"
   ]
  },
  {
   "cell_type": "raw",
   "metadata": {},
   "source": [
    "subsamples = OrderedDict({\n",
    "    'Rps2_polyA_H6_MD.G2M-phase-{}bc'.format(len(g1_phase_barcodes)) : g1_phases.shape[0], # should be 192\n",
    "    'Rps2_polyA_H6_MD.S-phase-{}bc'.format(len(g1_phase_barcodes)) : g1_phases.shape[0],   # should be 192\n",
    "})\n",
    "\n",
    "cmds = []\n",
    "\n",
    "for sample_name, rand_num in subsamples.items():\n",
    "    sampled = []\n",
    "    if sample_name.startswith('Rps2_polyA_H6_MD.G2M-phase'):\n",
    "        sampled = random.sample(g2m_phase_barcodes, rand_num)\n",
    "    elif sample_name.startswith('Rps2_polyA_H6_MD.S-phase'):\n",
    "        sampled = random.sample(s_phase_barcodes, rand_num)\n",
    "    else:\n",
    "        print(\"name error\")\n",
    "    assert len(sampled) == rand_num\n",
    "    print(os.path.join(output_dir, '{}.bam'.format(sample_name)))\n",
    "    cmd = merge_barcodes(\n",
    "        split_bam_file_dir=split_bam_file_dir,\n",
    "        merged_output=os.path.join(output_dir, '{}.bam'.format(sample_name)),\n",
    "        barcodes_list=sampled\n",
    "    )\n",
    "    cmds.append(cmd)"
   ]
  },
  {
   "cell_type": "raw",
   "metadata": {},
   "source": [
    "Submitter(\n",
    "    commands=cmds,\n",
    "    job_name='random-sample-merge',\n",
    "    sh='random-sample-merge.sh',\n",
    "    array=True,\n",
    "    nodes=1,\n",
    "    ppn=1,\n",
    "    walltime='24:00:00',\n",
    "    submit=False,\n",
    ")"
   ]
  },
  {
   "cell_type": "markdown",
   "metadata": {},
   "source": [
    "# While we're at it, let's randomly sample S phase barcodes to scale with G2M \n",
    "- can't merge bams the old fashioned way, because bash doesn't like opening 4000+ barcodes (too many files open, or something like that)."
   ]
  },
  {
   "cell_type": "raw",
   "metadata": {},
   "source": [
    "if os.path.exists(os.path.join(output_dir, 'Rps2_polyA_H6_MD.S-phase-{}bc.bam'.format(len(g2m_phase_barcodes)))):\n",
    "    pass\n",
    "else:\n",
    "    samfile = pysam.AlignmentFile(os.path.join(input_dir, 'Rps2_polyA_H6_MD.bam'), \"rb\")\n",
    "\n",
    "    progress = tnrange(get_readcount(os.path.join(input_dir, 'Rps2_polyA_H6_MD.bam')))\n",
    "    s = pysam.AlignmentFile(os.path.join(output_dir, 'Rps2_polyA_H6_MD.S-phase-{}bc.bam'.format(len(g2m_phase_barcodes))), 'wb', template=samfile)\n",
    "\n",
    "    print(\"sampling {} barcodes from {}\".format(len(sampled), split_bam_file_dir))\n",
    "    sampled = random.sample(s_phase_barcodes, len(g2m_phase_barcodes))\n",
    "\n",
    "    for read in samfile:\n",
    "        if (not read.is_unmapped) and (not read.is_secondary) and (not read.is_duplicate):  # get only primary mapped reads.\n",
    "            try:\n",
    "                barcode = read.get_tag('CB')  # identify read=assigned barcode\n",
    "                gene_annotation = read.get_tag('GX')  # \n",
    "                if barcode in sampled:\n",
    "                    s.write(read)\n",
    "            except KeyError:\n",
    "                pass # no barcode or no GX tag, so 10X doesn't count this read and we shouldn't either.\n",
    "        progress.update(1)\n",
    "\n",
    "    s.close()"
   ]
  },
  {
   "cell_type": "markdown",
   "metadata": {},
   "source": [
    "# so we might be seeing a skew (in the EPKM scatterplots between G1 and S/G2M) because it seems like the G1 phase group contains barcodes that have higher Rps2 expression overall compared to barcodes in the G2M and S-phase. So randomly sampling either way will most likely pull a higher number of G2M/S-phase barcodes with 0 Rps2.. Alex correct me if i’m wrong about our discussion and Kris let me know if that’s not clear. But maybe we can try grabbing the top 10 barcodes from each group and comparing them to see if we can get similar edit numbers between groups, which may help with our comparisons"
   ]
  },
  {
   "cell_type": "code",
   "execution_count": 17,
   "metadata": {},
   "outputs": [
    {
     "name": "stderr",
     "output_type": "stream",
     "text": [
      "/projects/ps-yeolab4/bay001/anaconda2/envs/python2-essential/lib/python2.7/site-packages/ipykernel_launcher.py:5: SettingWithCopyWarning: \n",
      "A value is trying to be set on a copy of a slice from a DataFrame\n",
      "\n",
      "See the caveats in the documentation: http://pandas.pydata.org/pandas-docs/stable/indexing.html#indexing-view-versus-copy\n",
      "  \"\"\"\n",
      "/projects/ps-yeolab4/bay001/anaconda2/envs/python2-essential/lib/python2.7/site-packages/ipykernel_launcher.py:7: SettingWithCopyWarning: \n",
      "A value is trying to be set on a copy of a slice from a DataFrame\n",
      "\n",
      "See the caveats in the documentation: http://pandas.pydata.org/pandas-docs/stable/indexing.html#indexing-view-versus-copy\n",
      "  import sys\n",
      "/projects/ps-yeolab4/bay001/anaconda2/envs/python2-essential/lib/python2.7/site-packages/ipykernel_launcher.py:9: SettingWithCopyWarning: \n",
      "A value is trying to be set on a copy of a slice from a DataFrame\n",
      "\n",
      "See the caveats in the documentation: http://pandas.pydata.org/pandas-docs/stable/indexing.html#indexing-view-versus-copy\n",
      "  if __name__ == '__main__':\n"
     ]
    }
   ],
   "source": [
    "num_barcodes = 10\n",
    "\n",
    "df = pd.read_csv(os.path.join(input_dir, 'RPS2_by_phase_normalized_counts.csv'), index_col=0)\n",
    "s_phase = df[df['phase']=='S']\n",
    "s_phase.sort_values(by=['RPS2_ORF'], ascending=False, inplace=True)\n",
    "g2m_phase = df[df['phase']=='G2M']\n",
    "g2m_phase.sort_values(by=['RPS2_ORF'], ascending=False, inplace=True)\n",
    "g1_phase = df[df['phase']=='G1']\n",
    "g1_phase.sort_values(by=['RPS2_ORF'], ascending=False, inplace=True)\n",
    "\n",
    "s_top = s_phase.iloc[:num_barcodes,:]\n",
    "g2m_top = g2m_phase.iloc[:num_barcodes,:]\n",
    "g1_top = g1_phase.iloc[:num_barcodes,:]"
   ]
  },
  {
   "cell_type": "code",
   "execution_count": 18,
   "metadata": {},
   "outputs": [
    {
     "data": {
      "text/html": [
       "<div>\n",
       "<style scoped>\n",
       "    .dataframe tbody tr th:only-of-type {\n",
       "        vertical-align: middle;\n",
       "    }\n",
       "\n",
       "    .dataframe tbody tr th {\n",
       "        vertical-align: top;\n",
       "    }\n",
       "\n",
       "    .dataframe thead th {\n",
       "        text-align: right;\n",
       "    }\n",
       "</style>\n",
       "<table border=\"1\" class=\"dataframe\">\n",
       "  <thead>\n",
       "    <tr style=\"text-align: right;\">\n",
       "      <th></th>\n",
       "      <th>RPS2_ORF</th>\n",
       "      <th>phase</th>\n",
       "      <th>S_score</th>\n",
       "      <th>G2M_score</th>\n",
       "    </tr>\n",
       "  </thead>\n",
       "  <tbody>\n",
       "    <tr>\n",
       "      <th>TGATGGTGTCGAATTC-1</th>\n",
       "      <td>3.023643</td>\n",
       "      <td>G1</td>\n",
       "      <td>-0.337198</td>\n",
       "      <td>-0.207916</td>\n",
       "    </tr>\n",
       "    <tr>\n",
       "      <th>TCATTCACAACTACGT-1</th>\n",
       "      <td>2.982395</td>\n",
       "      <td>G1</td>\n",
       "      <td>-0.630462</td>\n",
       "      <td>-0.127964</td>\n",
       "    </tr>\n",
       "    <tr>\n",
       "      <th>TCCACGTTCACGGGAA-1</th>\n",
       "      <td>2.962103</td>\n",
       "      <td>G1</td>\n",
       "      <td>-0.305739</td>\n",
       "      <td>-0.213765</td>\n",
       "    </tr>\n",
       "    <tr>\n",
       "      <th>TACCGAAAGCAGGCTA-1</th>\n",
       "      <td>2.837131</td>\n",
       "      <td>G1</td>\n",
       "      <td>-0.036027</td>\n",
       "      <td>-0.067610</td>\n",
       "    </tr>\n",
       "    <tr>\n",
       "      <th>GACCCAGCACTTCAAG-1</th>\n",
       "      <td>2.830805</td>\n",
       "      <td>G1</td>\n",
       "      <td>-0.295343</td>\n",
       "      <td>-0.313252</td>\n",
       "    </tr>\n",
       "    <tr>\n",
       "      <th>TGTGTGAAGTTCCGGC-1</th>\n",
       "      <td>2.783374</td>\n",
       "      <td>G1</td>\n",
       "      <td>-0.020800</td>\n",
       "      <td>-0.324364</td>\n",
       "    </tr>\n",
       "    <tr>\n",
       "      <th>TGATGCAGTGTAGGAC-1</th>\n",
       "      <td>2.733465</td>\n",
       "      <td>G1</td>\n",
       "      <td>-0.448220</td>\n",
       "      <td>-0.090963</td>\n",
       "    </tr>\n",
       "    <tr>\n",
       "      <th>CACTGGGTCGAGTGAG-1</th>\n",
       "      <td>2.725585</td>\n",
       "      <td>G1</td>\n",
       "      <td>-0.325397</td>\n",
       "      <td>-0.008296</td>\n",
       "    </tr>\n",
       "    <tr>\n",
       "      <th>AGATCGTTCCACTTTA-1</th>\n",
       "      <td>2.720087</td>\n",
       "      <td>G1</td>\n",
       "      <td>-0.455538</td>\n",
       "      <td>-0.340071</td>\n",
       "    </tr>\n",
       "    <tr>\n",
       "      <th>TCCATCGCAGACTGCC-1</th>\n",
       "      <td>2.655674</td>\n",
       "      <td>G1</td>\n",
       "      <td>-0.274704</td>\n",
       "      <td>-0.397995</td>\n",
       "    </tr>\n",
       "  </tbody>\n",
       "</table>\n",
       "</div>"
      ],
      "text/plain": [
       "                    RPS2_ORF phase   S_score  G2M_score\n",
       "TGATGGTGTCGAATTC-1  3.023643    G1 -0.337198  -0.207916\n",
       "TCATTCACAACTACGT-1  2.982395    G1 -0.630462  -0.127964\n",
       "TCCACGTTCACGGGAA-1  2.962103    G1 -0.305739  -0.213765\n",
       "TACCGAAAGCAGGCTA-1  2.837131    G1 -0.036027  -0.067610\n",
       "GACCCAGCACTTCAAG-1  2.830805    G1 -0.295343  -0.313252\n",
       "TGTGTGAAGTTCCGGC-1  2.783374    G1 -0.020800  -0.324364\n",
       "TGATGCAGTGTAGGAC-1  2.733465    G1 -0.448220  -0.090963\n",
       "CACTGGGTCGAGTGAG-1  2.725585    G1 -0.325397  -0.008296\n",
       "AGATCGTTCCACTTTA-1  2.720087    G1 -0.455538  -0.340071\n",
       "TCCATCGCAGACTGCC-1  2.655674    G1 -0.274704  -0.397995"
      ]
     },
     "execution_count": 18,
     "metadata": {},
     "output_type": "execute_result"
    }
   ],
   "source": [
    "g1_top"
   ]
  },
  {
   "cell_type": "code",
   "execution_count": 19,
   "metadata": {},
   "outputs": [
    {
     "data": {
      "text/plain": [
       "3"
      ]
     },
     "execution_count": 19,
     "metadata": {},
     "output_type": "execute_result"
    }
   ],
   "source": [
    "groups = OrderedDict({\n",
    "    'Rps2_polyA_H6_MD.G2M-phase-top{}.bam'.format(num_barcodes) : list(g2m_top.index),\n",
    "    'Rps2_polyA_H6_MD.S-phase-top{}.bam'.format(num_barcodes) : list(s_top.index),\n",
    "    'Rps2_polyA_H6_MD.G1-phase-top{}.bam'.format(num_barcodes) : list(g1_top.index)\n",
    "})\n",
    "\n",
    "cmds = []\n",
    "for output_file, barcodes in groups.iteritems():\n",
    "    bam_list = []\n",
    "    for barcode in barcodes:\n",
    "        bam_list.append(get_bam_file_name_from_barcode(barcode, 'Rps2'))\n",
    "\n",
    "    cmds.append(merge_barcodes_cmd(split_bam_file_dir, os.path.join(output_dir, output_file), bam_list))\n",
    "len(cmds)"
   ]
  },
  {
   "cell_type": "code",
   "execution_count": 20,
   "metadata": {},
   "outputs": [
    {
     "name": "stderr",
     "output_type": "stream",
     "text": [
      "Writing 3 tasks as an array-job.\n",
      "Wrote commands to random-top10-merge.sh.\n"
     ]
    },
    {
     "data": {
      "text/plain": [
       "<qtools.submitter.Submitter at 0x2b71ddb70b10>"
      ]
     },
     "execution_count": 20,
     "metadata": {},
     "output_type": "execute_result"
    }
   ],
   "source": [
    "Submitter(\n",
    "    commands=cmds, \n",
    "    job_name='top{}-merge'.format(num_barcodes),  # whoops, named this random-top10-merge. Remove the \"random\" since it's not...\n",
    "    sh='top{}-merge.sh'.format(num_barcodes),\n",
    "    array=True,\n",
    "    nodes=1,\n",
    "    ppn=1,\n",
    "    walltime='12:00:00',\n",
    "    submit=False,\n",
    ")"
   ]
  },
  {
   "cell_type": "markdown",
   "metadata": {},
   "source": [
    "# Let's try getting the top 100 (previously 45) normalized barcodes from a list that Alex gave me (2/27)\n",
    "- this is a new list from what we had earlier. I could technically re-use the code but for now let's keep the analysis separate."
   ]
  },
  {
   "cell_type": "code",
   "execution_count": 22,
   "metadata": {},
   "outputs": [
    {
     "name": "stdout",
     "output_type": "stream",
     "text": [
      "(100, 100, 100)\n"
     ]
    },
    {
     "data": {
      "text/html": [
       "<div>\n",
       "<style scoped>\n",
       "    .dataframe tbody tr th:only-of-type {\n",
       "        vertical-align: middle;\n",
       "    }\n",
       "\n",
       "    .dataframe tbody tr th {\n",
       "        vertical-align: top;\n",
       "    }\n",
       "\n",
       "    .dataframe thead th {\n",
       "        text-align: right;\n",
       "    }\n",
       "</style>\n",
       "<table border=\"1\" class=\"dataframe\">\n",
       "  <thead>\n",
       "    <tr style=\"text-align: right;\">\n",
       "      <th></th>\n",
       "      <th>RPS2_ORF</th>\n",
       "      <th>phase</th>\n",
       "      <th>S_score</th>\n",
       "      <th>G2M_score</th>\n",
       "      <th>sum</th>\n",
       "    </tr>\n",
       "  </thead>\n",
       "  <tbody>\n",
       "    <tr>\n",
       "      <th>TCACAAGAGTTGTAAG-1</th>\n",
       "      <td>1.914856</td>\n",
       "      <td>G1</td>\n",
       "      <td>-0.954358</td>\n",
       "      <td>-0.526157</td>\n",
       "      <td>-1.480515</td>\n",
       "    </tr>\n",
       "    <tr>\n",
       "      <th>GGTTAACAGTTACGAA-1</th>\n",
       "      <td>1.952246</td>\n",
       "      <td>G1</td>\n",
       "      <td>-0.678978</td>\n",
       "      <td>-0.690163</td>\n",
       "      <td>-1.369140</td>\n",
       "    </tr>\n",
       "    <tr>\n",
       "      <th>ACTGCAAGTTGGTGTT-1</th>\n",
       "      <td>1.798545</td>\n",
       "      <td>G1</td>\n",
       "      <td>-0.999408</td>\n",
       "      <td>-0.332579</td>\n",
       "      <td>-1.331986</td>\n",
       "    </tr>\n",
       "    <tr>\n",
       "      <th>CCGGTGATCGTACACA-1</th>\n",
       "      <td>1.909264</td>\n",
       "      <td>G1</td>\n",
       "      <td>-0.437678</td>\n",
       "      <td>-0.874413</td>\n",
       "      <td>-1.312092</td>\n",
       "    </tr>\n",
       "    <tr>\n",
       "      <th>TCATCCGCACCGTGAC-1</th>\n",
       "      <td>1.755865</td>\n",
       "      <td>G1</td>\n",
       "      <td>-0.481436</td>\n",
       "      <td>-0.824819</td>\n",
       "      <td>-1.306255</td>\n",
       "    </tr>\n",
       "  </tbody>\n",
       "</table>\n",
       "</div>"
      ],
      "text/plain": [
       "                    RPS2_ORF phase   S_score  G2M_score       sum\n",
       "TCACAAGAGTTGTAAG-1  1.914856    G1 -0.954358  -0.526157 -1.480515\n",
       "GGTTAACAGTTACGAA-1  1.952246    G1 -0.678978  -0.690163 -1.369140\n",
       "ACTGCAAGTTGGTGTT-1  1.798545    G1 -0.999408  -0.332579 -1.331986\n",
       "CCGGTGATCGTACACA-1  1.909264    G1 -0.437678  -0.874413 -1.312092\n",
       "TCATCCGCACCGTGAC-1  1.755865    G1 -0.481436  -0.824819 -1.306255"
      ]
     },
     "execution_count": 22,
     "metadata": {},
     "output_type": "execute_result"
    }
   ],
   "source": [
    "g1_top100 = pd.read_csv(os.path.join(input_dir, 'RPS2_G1_top100_normalized_counts.csv'), index_col=0)\n",
    "s_top100 = pd.read_csv(os.path.join(input_dir, 'RPS2_S_top100_normalized_counts.csv'), index_col=0)\n",
    "g2m_top100 = pd.read_csv(os.path.join(input_dir, 'RPS2_G2M_top100_normalized_counts.csv'), index_col=0)\n",
    "\n",
    "print(g1_top100.shape[0], s_top100.shape[0], g2m_top100.shape[0])\n",
    "g1_top100.head()"
   ]
  },
  {
   "cell_type": "code",
   "execution_count": 23,
   "metadata": {},
   "outputs": [
    {
     "data": {
      "text/plain": [
       "['samtools merge -f /home/bay001/projects/ryan_editing_20190314/permanent_data/49_SAILOR_on_47/bam_file_groups/Rps2_polyA_H6_MD.S-phase-top45.bam /home/bay001/projects/ryan_editing_20190314/permanent_data/49_SAILOR_on_47/bam_files/Rps2_polyA_H6_MD-ACCAACATCTCGACGG-1.bam /home/bay001/projects/ryan_editing_20190314/permanent_data/49_SAILOR_on_47/bam_files/Rps2_polyA_H6_MD-ACACAGTTCGTCTAAG-1.bam /home/bay001/projects/ryan_editing_20190314/permanent_data/49_SAILOR_on_47/bam_files/Rps2_polyA_H6_MD-AAACGCTGTTGCTCGG-1.bam /home/bay001/projects/ryan_editing_20190314/permanent_data/49_SAILOR_on_47/bam_files/Rps2_polyA_H6_MD-GATTGGTCATAGATCC-1.bam /home/bay001/projects/ryan_editing_20190314/permanent_data/49_SAILOR_on_47/bam_files/Rps2_polyA_H6_MD-CCACGAGGTCGATTCA-1.bam /home/bay001/projects/ryan_editing_20190314/permanent_data/49_SAILOR_on_47/bam_files/Rps2_polyA_H6_MD-GACCCAGCAAATGCGG-1.bam /home/bay001/projects/ryan_editing_20190314/permanent_data/49_SAILOR_on_47/bam_files/Rps2_polyA_H6_MD-ACGGTTACATCCTAAG-1.bam /home/bay001/projects/ryan_editing_20190314/permanent_data/49_SAILOR_on_47/bam_files/Rps2_polyA_H6_MD-GGGACAACACCCGTAG-1.bam /home/bay001/projects/ryan_editing_20190314/permanent_data/49_SAILOR_on_47/bam_files/Rps2_polyA_H6_MD-GCAGCTGAGTTGGAAT-1.bam /home/bay001/projects/ryan_editing_20190314/permanent_data/49_SAILOR_on_47/bam_files/Rps2_polyA_H6_MD-ATCCACCTCCGTAATG-1.bam /home/bay001/projects/ryan_editing_20190314/permanent_data/49_SAILOR_on_47/bam_files/Rps2_polyA_H6_MD-TTCTCTCCACGGTGAA-1.bam /home/bay001/projects/ryan_editing_20190314/permanent_data/49_SAILOR_on_47/bam_files/Rps2_polyA_H6_MD-ATAGGCTTCTTAATCC-1.bam /home/bay001/projects/ryan_editing_20190314/permanent_data/49_SAILOR_on_47/bam_files/Rps2_polyA_H6_MD-CCGTGAGGTGCGAGTA-1.bam /home/bay001/projects/ryan_editing_20190314/permanent_data/49_SAILOR_on_47/bam_files/Rps2_polyA_H6_MD-CGTTAGACAATAGGAT-1.bam /home/bay001/projects/ryan_editing_20190314/permanent_data/49_SAILOR_on_47/bam_files/Rps2_polyA_H6_MD-CATTCTATCCCAATAG-1.bam /home/bay001/projects/ryan_editing_20190314/permanent_data/49_SAILOR_on_47/bam_files/Rps2_polyA_H6_MD-AGGACGAGTTCACGAT-1.bam /home/bay001/projects/ryan_editing_20190314/permanent_data/49_SAILOR_on_47/bam_files/Rps2_polyA_H6_MD-GCGGATCTCACCTGGG-1.bam /home/bay001/projects/ryan_editing_20190314/permanent_data/49_SAILOR_on_47/bam_files/Rps2_polyA_H6_MD-CTTGATTCAGTCTGGC-1.bam /home/bay001/projects/ryan_editing_20190314/permanent_data/49_SAILOR_on_47/bam_files/Rps2_polyA_H6_MD-CGTGTCTGTTCAATCG-1.bam /home/bay001/projects/ryan_editing_20190314/permanent_data/49_SAILOR_on_47/bam_files/Rps2_polyA_H6_MD-GACCCTTCATGACAAA-1.bam /home/bay001/projects/ryan_editing_20190314/permanent_data/49_SAILOR_on_47/bam_files/Rps2_polyA_H6_MD-CCCAACTCATCTCAAG-1.bam /home/bay001/projects/ryan_editing_20190314/permanent_data/49_SAILOR_on_47/bam_files/Rps2_polyA_H6_MD-AAGAACACAACCGATT-1.bam /home/bay001/projects/ryan_editing_20190314/permanent_data/49_SAILOR_on_47/bam_files/Rps2_polyA_H6_MD-AACAGGGCAAATAAGC-1.bam /home/bay001/projects/ryan_editing_20190314/permanent_data/49_SAILOR_on_47/bam_files/Rps2_polyA_H6_MD-AAGCCATTCCATCTGC-1.bam /home/bay001/projects/ryan_editing_20190314/permanent_data/49_SAILOR_on_47/bam_files/Rps2_polyA_H6_MD-CACCGTTTCCGACAGC-1.bam /home/bay001/projects/ryan_editing_20190314/permanent_data/49_SAILOR_on_47/bam_files/Rps2_polyA_H6_MD-GTCACGGTCTCGGTAA-1.bam /home/bay001/projects/ryan_editing_20190314/permanent_data/49_SAILOR_on_47/bam_files/Rps2_polyA_H6_MD-TAACGACGTATACCTG-1.bam /home/bay001/projects/ryan_editing_20190314/permanent_data/49_SAILOR_on_47/bam_files/Rps2_polyA_H6_MD-CACTGAATCCGTATAG-1.bam /home/bay001/projects/ryan_editing_20190314/permanent_data/49_SAILOR_on_47/bam_files/Rps2_polyA_H6_MD-TTGAGTGTCGGTCGGT-1.bam /home/bay001/projects/ryan_editing_20190314/permanent_data/49_SAILOR_on_47/bam_files/Rps2_polyA_H6_MD-ATGCGATTCTCCGATC-1.bam /home/bay001/projects/ryan_editing_20190314/permanent_data/49_SAILOR_on_47/bam_files/Rps2_polyA_H6_MD-GTGCGTGGTATACGGG-1.bam /home/bay001/projects/ryan_editing_20190314/permanent_data/49_SAILOR_on_47/bam_files/Rps2_polyA_H6_MD-CGTGAATGTAGACGGT-1.bam /home/bay001/projects/ryan_editing_20190314/permanent_data/49_SAILOR_on_47/bam_files/Rps2_polyA_H6_MD-GTTTGGATCACTTCTA-1.bam /home/bay001/projects/ryan_editing_20190314/permanent_data/49_SAILOR_on_47/bam_files/Rps2_polyA_H6_MD-CAAAGAACATCGTGGC-1.bam /home/bay001/projects/ryan_editing_20190314/permanent_data/49_SAILOR_on_47/bam_files/Rps2_polyA_H6_MD-ACAGCCGAGGGTGAGG-1.bam /home/bay001/projects/ryan_editing_20190314/permanent_data/49_SAILOR_on_47/bam_files/Rps2_polyA_H6_MD-ATTCTACAGCGTCGAA-1.bam /home/bay001/projects/ryan_editing_20190314/permanent_data/49_SAILOR_on_47/bam_files/Rps2_polyA_H6_MD-GTGGAGAGTCTTCTAT-1.bam /home/bay001/projects/ryan_editing_20190314/permanent_data/49_SAILOR_on_47/bam_files/Rps2_polyA_H6_MD-TTACGCCAGCGTATAA-1.bam /home/bay001/projects/ryan_editing_20190314/permanent_data/49_SAILOR_on_47/bam_files/Rps2_polyA_H6_MD-ATCGGCGCAAGCGGAT-1.bam /home/bay001/projects/ryan_editing_20190314/permanent_data/49_SAILOR_on_47/bam_files/Rps2_polyA_H6_MD-CTCCTTTGTGCTAGCC-1.bam /home/bay001/projects/ryan_editing_20190314/permanent_data/49_SAILOR_on_47/bam_files/Rps2_polyA_H6_MD-GACTGATGTTAGCTAC-1.bam /home/bay001/projects/ryan_editing_20190314/permanent_data/49_SAILOR_on_47/bam_files/Rps2_polyA_H6_MD-CATTGCCCATGACACT-1.bam /home/bay001/projects/ryan_editing_20190314/permanent_data/49_SAILOR_on_47/bam_files/Rps2_polyA_H6_MD-TCCACGTAGAGAGTTT-1.bam /home/bay001/projects/ryan_editing_20190314/permanent_data/49_SAILOR_on_47/bam_files/Rps2_polyA_H6_MD-TCGGTCTCAGTCTGGC-1.bam /home/bay001/projects/ryan_editing_20190314/permanent_data/49_SAILOR_on_47/bam_files/Rps2_polyA_H6_MD-GTGCAGCTCACGATAC-1.bam /home/bay001/projects/ryan_editing_20190314/permanent_data/49_SAILOR_on_47/bam_files/Rps2_polyA_H6_MD-GTAACACAGAGTTCGG-1.bam /home/bay001/projects/ryan_editing_20190314/permanent_data/49_SAILOR_on_47/bam_files/Rps2_polyA_H6_MD-GGTGTCGGTGCAACAG-1.bam /home/bay001/projects/ryan_editing_20190314/permanent_data/49_SAILOR_on_47/bam_files/Rps2_polyA_H6_MD-CTCAAGAGTCTTGGTA-1.bam /home/bay001/projects/ryan_editing_20190314/permanent_data/49_SAILOR_on_47/bam_files/Rps2_polyA_H6_MD-TAACACGGTCACGACC-1.bam /home/bay001/projects/ryan_editing_20190314/permanent_data/49_SAILOR_on_47/bam_files/Rps2_polyA_H6_MD-TCCTCGAAGGGCTTCC-1.bam /home/bay001/projects/ryan_editing_20190314/permanent_data/49_SAILOR_on_47/bam_files/Rps2_polyA_H6_MD-TCCCAGTCACATGTTG-1.bam /home/bay001/projects/ryan_editing_20190314/permanent_data/49_SAILOR_on_47/bam_files/Rps2_polyA_H6_MD-ATCCGTCAGTAGACAT-1.bam /home/bay001/projects/ryan_editing_20190314/permanent_data/49_SAILOR_on_47/bam_files/Rps2_polyA_H6_MD-ATTATCCGTCCATACA-1.bam /home/bay001/projects/ryan_editing_20190314/permanent_data/49_SAILOR_on_47/bam_files/Rps2_polyA_H6_MD-CCATAAGCATTACTCT-1.bam /home/bay001/projects/ryan_editing_20190314/permanent_data/49_SAILOR_on_47/bam_files/Rps2_polyA_H6_MD-TAGGAGGTCTAGATCG-1.bam /home/bay001/projects/ryan_editing_20190314/permanent_data/49_SAILOR_on_47/bam_files/Rps2_polyA_H6_MD-GCGATCGTCAAGCCAT-1.bam /home/bay001/projects/ryan_editing_20190314/permanent_data/49_SAILOR_on_47/bam_files/Rps2_polyA_H6_MD-TGTTACTAGCGCCATC-1.bam /home/bay001/projects/ryan_editing_20190314/permanent_data/49_SAILOR_on_47/bam_files/Rps2_polyA_H6_MD-TTTGTTGGTACACTCA-1.bam /home/bay001/projects/ryan_editing_20190314/permanent_data/49_SAILOR_on_47/bam_files/Rps2_polyA_H6_MD-GACGTTACAATATCCG-1.bam /home/bay001/projects/ryan_editing_20190314/permanent_data/49_SAILOR_on_47/bam_files/Rps2_polyA_H6_MD-CTTCCGATCCTCTTTC-1.bam /home/bay001/projects/ryan_editing_20190314/permanent_data/49_SAILOR_on_47/bam_files/Rps2_polyA_H6_MD-GGAGGTACAATTCTCT-1.bam /home/bay001/projects/ryan_editing_20190314/permanent_data/49_SAILOR_on_47/bam_files/Rps2_polyA_H6_MD-TGCCGAGCACGGTCTG-1.bam /home/bay001/projects/ryan_editing_20190314/permanent_data/49_SAILOR_on_47/bam_files/Rps2_polyA_H6_MD-CCGGTAGCACGGTGTC-1.bam /home/bay001/projects/ryan_editing_20190314/permanent_data/49_SAILOR_on_47/bam_files/Rps2_polyA_H6_MD-GGTGTTAGTCCGGTCA-1.bam /home/bay001/projects/ryan_editing_20190314/permanent_data/49_SAILOR_on_47/bam_files/Rps2_polyA_H6_MD-AGGACGAGTCTCGGGT-1.bam /home/bay001/projects/ryan_editing_20190314/permanent_data/49_SAILOR_on_47/bam_files/Rps2_polyA_H6_MD-TACGGGCCAGGTGTGA-1.bam /home/bay001/projects/ryan_editing_20190314/permanent_data/49_SAILOR_on_47/bam_files/Rps2_polyA_H6_MD-TAGATCGTCCCAAGTA-1.bam /home/bay001/projects/ryan_editing_20190314/permanent_data/49_SAILOR_on_47/bam_files/Rps2_polyA_H6_MD-CAATGACGTTCAAGTC-1.bam /home/bay001/projects/ryan_editing_20190314/permanent_data/49_SAILOR_on_47/bam_files/Rps2_polyA_H6_MD-CAACAGTGTTGGGAAC-1.bam /home/bay001/projects/ryan_editing_20190314/permanent_data/49_SAILOR_on_47/bam_files/Rps2_polyA_H6_MD-GACCCAGTCGAAATCC-1.bam /home/bay001/projects/ryan_editing_20190314/permanent_data/49_SAILOR_on_47/bam_files/Rps2_polyA_H6_MD-CCCATTGTCGCGTGAC-1.bam /home/bay001/projects/ryan_editing_20190314/permanent_data/49_SAILOR_on_47/bam_files/Rps2_polyA_H6_MD-GGTTCTCGTGATACCT-1.bam /home/bay001/projects/ryan_editing_20190314/permanent_data/49_SAILOR_on_47/bam_files/Rps2_polyA_H6_MD-TATCAGGCACATTCTT-1.bam /home/bay001/projects/ryan_editing_20190314/permanent_data/49_SAILOR_on_47/bam_files/Rps2_polyA_H6_MD-CTCATGCCATACTTTC-1.bam /home/bay001/projects/ryan_editing_20190314/permanent_data/49_SAILOR_on_47/bam_files/Rps2_polyA_H6_MD-TAAGCCAGTCGCTTAA-1.bam /home/bay001/projects/ryan_editing_20190314/permanent_data/49_SAILOR_on_47/bam_files/Rps2_polyA_H6_MD-GGGTCTGGTCCCTAAA-1.bam /home/bay001/projects/ryan_editing_20190314/permanent_data/49_SAILOR_on_47/bam_files/Rps2_polyA_H6_MD-GCTACCTGTTACACTG-1.bam /home/bay001/projects/ryan_editing_20190314/permanent_data/49_SAILOR_on_47/bam_files/Rps2_polyA_H6_MD-AAAGGGCCAACTCGTA-1.bam /home/bay001/projects/ryan_editing_20190314/permanent_data/49_SAILOR_on_47/bam_files/Rps2_polyA_H6_MD-AGTAGCTAGCACCGAA-1.bam /home/bay001/projects/ryan_editing_20190314/permanent_data/49_SAILOR_on_47/bam_files/Rps2_polyA_H6_MD-TTAGTCTTCACTCCGT-1.bam /home/bay001/projects/ryan_editing_20190314/permanent_data/49_SAILOR_on_47/bam_files/Rps2_polyA_H6_MD-CCTCACATCAGCTTGA-1.bam /home/bay001/projects/ryan_editing_20190314/permanent_data/49_SAILOR_on_47/bam_files/Rps2_polyA_H6_MD-CGTGTCTGTCTGATAC-1.bam /home/bay001/projects/ryan_editing_20190314/permanent_data/49_SAILOR_on_47/bam_files/Rps2_polyA_H6_MD-CGTGAATCATGGAATA-1.bam /home/bay001/projects/ryan_editing_20190314/permanent_data/49_SAILOR_on_47/bam_files/Rps2_polyA_H6_MD-GGGATGATCCTCCACA-1.bam /home/bay001/projects/ryan_editing_20190314/permanent_data/49_SAILOR_on_47/bam_files/Rps2_polyA_H6_MD-GGTTAACCAAGGTACG-1.bam /home/bay001/projects/ryan_editing_20190314/permanent_data/49_SAILOR_on_47/bam_files/Rps2_polyA_H6_MD-TGAGACTAGTACCATC-1.bam /home/bay001/projects/ryan_editing_20190314/permanent_data/49_SAILOR_on_47/bam_files/Rps2_polyA_H6_MD-AACAACCTCACTTCTA-1.bam /home/bay001/projects/ryan_editing_20190314/permanent_data/49_SAILOR_on_47/bam_files/Rps2_polyA_H6_MD-ACTTCGCGTTCGTAAC-1.bam /home/bay001/projects/ryan_editing_20190314/permanent_data/49_SAILOR_on_47/bam_files/Rps2_polyA_H6_MD-TACCGAACAGCTGAAG-1.bam /home/bay001/projects/ryan_editing_20190314/permanent_data/49_SAILOR_on_47/bam_files/Rps2_polyA_H6_MD-TCGTCCATCCGTGCGA-1.bam /home/bay001/projects/ryan_editing_20190314/permanent_data/49_SAILOR_on_47/bam_files/Rps2_polyA_H6_MD-AGTCAACAGTGGACGT-1.bam /home/bay001/projects/ryan_editing_20190314/permanent_data/49_SAILOR_on_47/bam_files/Rps2_polyA_H6_MD-GTGACGCGTAACATGA-1.bam /home/bay001/projects/ryan_editing_20190314/permanent_data/49_SAILOR_on_47/bam_files/Rps2_polyA_H6_MD-AGGATAAGTAGGCTGA-1.bam /home/bay001/projects/ryan_editing_20190314/permanent_data/49_SAILOR_on_47/bam_files/Rps2_polyA_H6_MD-AGGTAGGCAGAGCCCT-1.bam /home/bay001/projects/ryan_editing_20190314/permanent_data/49_SAILOR_on_47/bam_files/Rps2_polyA_H6_MD-GTTGTAGGTTTCCCAC-1.bam /home/bay001/projects/ryan_editing_20190314/permanent_data/49_SAILOR_on_47/bam_files/Rps2_polyA_H6_MD-TCGAACAAGTCATAGA-1.bam /home/bay001/projects/ryan_editing_20190314/permanent_data/49_SAILOR_on_47/bam_files/Rps2_polyA_H6_MD-TGGGCGTGTCGCGGTT-1.bam /home/bay001/projects/ryan_editing_20190314/permanent_data/49_SAILOR_on_47/bam_files/Rps2_polyA_H6_MD-GGGTGTCTCTCAGAAC-1.bam /home/bay001/projects/ryan_editing_20190314/permanent_data/49_SAILOR_on_47/bam_files/Rps2_polyA_H6_MD-CTCAGGGGTAAGATTG-1.bam /home/bay001/projects/ryan_editing_20190314/permanent_data/49_SAILOR_on_47/bam_files/Rps2_polyA_H6_MD-GCGGAAAGTGTAAACA-1.bam ',\n",
       " 'samtools merge -f /home/bay001/projects/ryan_editing_20190314/permanent_data/49_SAILOR_on_47/bam_file_groups/Rps2_polyA_H6_MD.G2M-phase-top45.bam /home/bay001/projects/ryan_editing_20190314/permanent_data/49_SAILOR_on_47/bam_files/Rps2_polyA_H6_MD-CGAGGCTAGGCCTTGC-1.bam /home/bay001/projects/ryan_editing_20190314/permanent_data/49_SAILOR_on_47/bam_files/Rps2_polyA_H6_MD-CTACGGGAGAAGAACG-1.bam /home/bay001/projects/ryan_editing_20190314/permanent_data/49_SAILOR_on_47/bam_files/Rps2_polyA_H6_MD-AGACAGGCACTTACAG-1.bam /home/bay001/projects/ryan_editing_20190314/permanent_data/49_SAILOR_on_47/bam_files/Rps2_polyA_H6_MD-GCTGCAGTCGGCTTCT-1.bam /home/bay001/projects/ryan_editing_20190314/permanent_data/49_SAILOR_on_47/bam_files/Rps2_polyA_H6_MD-ATAGGCTTCTACCTTA-1.bam /home/bay001/projects/ryan_editing_20190314/permanent_data/49_SAILOR_on_47/bam_files/Rps2_polyA_H6_MD-CAACAGTTCTGCCTCA-1.bam /home/bay001/projects/ryan_editing_20190314/permanent_data/49_SAILOR_on_47/bam_files/Rps2_polyA_H6_MD-TTTGGTTTCAGCCTCT-1.bam /home/bay001/projects/ryan_editing_20190314/permanent_data/49_SAILOR_on_47/bam_files/Rps2_polyA_H6_MD-TCCACCAGTGATTCTG-1.bam /home/bay001/projects/ryan_editing_20190314/permanent_data/49_SAILOR_on_47/bam_files/Rps2_polyA_H6_MD-GAACGTTGTGAATGTA-1.bam /home/bay001/projects/ryan_editing_20190314/permanent_data/49_SAILOR_on_47/bam_files/Rps2_polyA_H6_MD-TAACTTCTCGCCTCTA-1.bam /home/bay001/projects/ryan_editing_20190314/permanent_data/49_SAILOR_on_47/bam_files/Rps2_polyA_H6_MD-TGCTCCAGTCGAGTTT-1.bam /home/bay001/projects/ryan_editing_20190314/permanent_data/49_SAILOR_on_47/bam_files/Rps2_polyA_H6_MD-GGTTCTCCAGTGGGTA-1.bam /home/bay001/projects/ryan_editing_20190314/permanent_data/49_SAILOR_on_47/bam_files/Rps2_polyA_H6_MD-CATCCCAGTGCGAACA-1.bam /home/bay001/projects/ryan_editing_20190314/permanent_data/49_SAILOR_on_47/bam_files/Rps2_polyA_H6_MD-GCAACATTCGCTATTT-1.bam /home/bay001/projects/ryan_editing_20190314/permanent_data/49_SAILOR_on_47/bam_files/Rps2_polyA_H6_MD-CCTACGTCACGACAGA-1.bam /home/bay001/projects/ryan_editing_20190314/permanent_data/49_SAILOR_on_47/bam_files/Rps2_polyA_H6_MD-TTTCAGTTCCGTATAG-1.bam /home/bay001/projects/ryan_editing_20190314/permanent_data/49_SAILOR_on_47/bam_files/Rps2_polyA_H6_MD-CACGAATAGCTTTGTG-1.bam /home/bay001/projects/ryan_editing_20190314/permanent_data/49_SAILOR_on_47/bam_files/Rps2_polyA_H6_MD-CCTTCAGAGTTGGCGA-1.bam /home/bay001/projects/ryan_editing_20190314/permanent_data/49_SAILOR_on_47/bam_files/Rps2_polyA_H6_MD-CCTCCTCAGTGCACCC-1.bam /home/bay001/projects/ryan_editing_20190314/permanent_data/49_SAILOR_on_47/bam_files/Rps2_polyA_H6_MD-CTCCCTCGTCGTGGTC-1.bam /home/bay001/projects/ryan_editing_20190314/permanent_data/49_SAILOR_on_47/bam_files/Rps2_polyA_H6_MD-GAGTTTGCACCTGCAG-1.bam /home/bay001/projects/ryan_editing_20190314/permanent_data/49_SAILOR_on_47/bam_files/Rps2_polyA_H6_MD-TTGTTTGGTCGGATTT-1.bam /home/bay001/projects/ryan_editing_20190314/permanent_data/49_SAILOR_on_47/bam_files/Rps2_polyA_H6_MD-CGGGTGTCATAGAATG-1.bam /home/bay001/projects/ryan_editing_20190314/permanent_data/49_SAILOR_on_47/bam_files/Rps2_polyA_H6_MD-AATCGTGCACGACGCT-1.bam /home/bay001/projects/ryan_editing_20190314/permanent_data/49_SAILOR_on_47/bam_files/Rps2_polyA_H6_MD-CCACTTGAGCTCATAC-1.bam /home/bay001/projects/ryan_editing_20190314/permanent_data/49_SAILOR_on_47/bam_files/Rps2_polyA_H6_MD-CACAACATCTCAACCC-1.bam /home/bay001/projects/ryan_editing_20190314/permanent_data/49_SAILOR_on_47/bam_files/Rps2_polyA_H6_MD-TCACACCGTCTAATCG-1.bam /home/bay001/projects/ryan_editing_20190314/permanent_data/49_SAILOR_on_47/bam_files/Rps2_polyA_H6_MD-AGATGAAAGTAGAATC-1.bam /home/bay001/projects/ryan_editing_20190314/permanent_data/49_SAILOR_on_47/bam_files/Rps2_polyA_H6_MD-TCTACATCAAGGCCTC-1.bam /home/bay001/projects/ryan_editing_20190314/permanent_data/49_SAILOR_on_47/bam_files/Rps2_polyA_H6_MD-TAAGCCAGTCAGCTTA-1.bam /home/bay001/projects/ryan_editing_20190314/permanent_data/49_SAILOR_on_47/bam_files/Rps2_polyA_H6_MD-TGGTTAGCATGATCTG-1.bam /home/bay001/projects/ryan_editing_20190314/permanent_data/49_SAILOR_on_47/bam_files/Rps2_polyA_H6_MD-GTCCCATTCTCGCTTG-1.bam /home/bay001/projects/ryan_editing_20190314/permanent_data/49_SAILOR_on_47/bam_files/Rps2_polyA_H6_MD-GTTACAGTCTTTCCGG-1.bam /home/bay001/projects/ryan_editing_20190314/permanent_data/49_SAILOR_on_47/bam_files/Rps2_polyA_H6_MD-TTCCGGTGTAGCTTAC-1.bam /home/bay001/projects/ryan_editing_20190314/permanent_data/49_SAILOR_on_47/bam_files/Rps2_polyA_H6_MD-AGACCATGTCGAATGG-1.bam /home/bay001/projects/ryan_editing_20190314/permanent_data/49_SAILOR_on_47/bam_files/Rps2_polyA_H6_MD-TTGGGTAGTGCTCTTC-1.bam /home/bay001/projects/ryan_editing_20190314/permanent_data/49_SAILOR_on_47/bam_files/Rps2_polyA_H6_MD-CCGGTGATCATGAGAA-1.bam /home/bay001/projects/ryan_editing_20190314/permanent_data/49_SAILOR_on_47/bam_files/Rps2_polyA_H6_MD-ATCGTCCGTGCGTGCT-1.bam /home/bay001/projects/ryan_editing_20190314/permanent_data/49_SAILOR_on_47/bam_files/Rps2_polyA_H6_MD-CTGTGAACAATTCGTG-1.bam /home/bay001/projects/ryan_editing_20190314/permanent_data/49_SAILOR_on_47/bam_files/Rps2_polyA_H6_MD-TACACCCCAATTGCGT-1.bam /home/bay001/projects/ryan_editing_20190314/permanent_data/49_SAILOR_on_47/bam_files/Rps2_polyA_H6_MD-GTCCACTCATACTTTC-1.bam /home/bay001/projects/ryan_editing_20190314/permanent_data/49_SAILOR_on_47/bam_files/Rps2_polyA_H6_MD-GGGAGTAAGAATCCCT-1.bam /home/bay001/projects/ryan_editing_20190314/permanent_data/49_SAILOR_on_47/bam_files/Rps2_polyA_H6_MD-TCCTTCTCACCATTCC-1.bam /home/bay001/projects/ryan_editing_20190314/permanent_data/49_SAILOR_on_47/bam_files/Rps2_polyA_H6_MD-CTAACTTAGAGGGTAA-1.bam /home/bay001/projects/ryan_editing_20190314/permanent_data/49_SAILOR_on_47/bam_files/Rps2_polyA_H6_MD-TTGCATTGTGTCCAAT-1.bam /home/bay001/projects/ryan_editing_20190314/permanent_data/49_SAILOR_on_47/bam_files/Rps2_polyA_H6_MD-GGGTAGAGTATGTCCA-1.bam /home/bay001/projects/ryan_editing_20190314/permanent_data/49_SAILOR_on_47/bam_files/Rps2_polyA_H6_MD-CCGTTCAGTCATCTAG-1.bam /home/bay001/projects/ryan_editing_20190314/permanent_data/49_SAILOR_on_47/bam_files/Rps2_polyA_H6_MD-CTTCAATCAGATCCTA-1.bam /home/bay001/projects/ryan_editing_20190314/permanent_data/49_SAILOR_on_47/bam_files/Rps2_polyA_H6_MD-GTGGCGTGTTGTAGCT-1.bam /home/bay001/projects/ryan_editing_20190314/permanent_data/49_SAILOR_on_47/bam_files/Rps2_polyA_H6_MD-TACAACGCAAAGACGC-1.bam /home/bay001/projects/ryan_editing_20190314/permanent_data/49_SAILOR_on_47/bam_files/Rps2_polyA_H6_MD-ATTCGTTAGTCACTCA-1.bam /home/bay001/projects/ryan_editing_20190314/permanent_data/49_SAILOR_on_47/bam_files/Rps2_polyA_H6_MD-TGTGGCGAGGTTCAGG-1.bam /home/bay001/projects/ryan_editing_20190314/permanent_data/49_SAILOR_on_47/bam_files/Rps2_polyA_H6_MD-CGTAAGTCAGACCAGA-1.bam /home/bay001/projects/ryan_editing_20190314/permanent_data/49_SAILOR_on_47/bam_files/Rps2_polyA_H6_MD-ACCTACCTCCTTCGAC-1.bam /home/bay001/projects/ryan_editing_20190314/permanent_data/49_SAILOR_on_47/bam_files/Rps2_polyA_H6_MD-TATCAGGTCATGCCCT-1.bam /home/bay001/projects/ryan_editing_20190314/permanent_data/49_SAILOR_on_47/bam_files/Rps2_polyA_H6_MD-TGTGCGGTCCTGTTAT-1.bam /home/bay001/projects/ryan_editing_20190314/permanent_data/49_SAILOR_on_47/bam_files/Rps2_polyA_H6_MD-TTCATGTTCAGCAGAG-1.bam /home/bay001/projects/ryan_editing_20190314/permanent_data/49_SAILOR_on_47/bam_files/Rps2_polyA_H6_MD-CGTTAGACACCTCTAC-1.bam /home/bay001/projects/ryan_editing_20190314/permanent_data/49_SAILOR_on_47/bam_files/Rps2_polyA_H6_MD-GCATTAGAGTGGCAGT-1.bam /home/bay001/projects/ryan_editing_20190314/permanent_data/49_SAILOR_on_47/bam_files/Rps2_polyA_H6_MD-TCCTAATGTCTCTCAC-1.bam /home/bay001/projects/ryan_editing_20190314/permanent_data/49_SAILOR_on_47/bam_files/Rps2_polyA_H6_MD-CTGTAGAAGGGATCAC-1.bam /home/bay001/projects/ryan_editing_20190314/permanent_data/49_SAILOR_on_47/bam_files/Rps2_polyA_H6_MD-CAACCTCAGACGGTCA-1.bam /home/bay001/projects/ryan_editing_20190314/permanent_data/49_SAILOR_on_47/bam_files/Rps2_polyA_H6_MD-AAGGAATTCGGCATTA-1.bam /home/bay001/projects/ryan_editing_20190314/permanent_data/49_SAILOR_on_47/bam_files/Rps2_polyA_H6_MD-AGGTCATTCCGTGGCA-1.bam /home/bay001/projects/ryan_editing_20190314/permanent_data/49_SAILOR_on_47/bam_files/Rps2_polyA_H6_MD-TGAGCATAGCGAGGAG-1.bam /home/bay001/projects/ryan_editing_20190314/permanent_data/49_SAILOR_on_47/bam_files/Rps2_polyA_H6_MD-AACCACAGTGCAGATG-1.bam /home/bay001/projects/ryan_editing_20190314/permanent_data/49_SAILOR_on_47/bam_files/Rps2_polyA_H6_MD-GAATCACGTAAGTTGA-1.bam /home/bay001/projects/ryan_editing_20190314/permanent_data/49_SAILOR_on_47/bam_files/Rps2_polyA_H6_MD-TGTTGGATCAAGAATG-1.bam /home/bay001/projects/ryan_editing_20190314/permanent_data/49_SAILOR_on_47/bam_files/Rps2_polyA_H6_MD-CCACGAGTCCACGTGG-1.bam /home/bay001/projects/ryan_editing_20190314/permanent_data/49_SAILOR_on_47/bam_files/Rps2_polyA_H6_MD-ACTGCAAAGCCTGAAG-1.bam /home/bay001/projects/ryan_editing_20190314/permanent_data/49_SAILOR_on_47/bam_files/Rps2_polyA_H6_MD-CGTCCATCAATTGCTG-1.bam /home/bay001/projects/ryan_editing_20190314/permanent_data/49_SAILOR_on_47/bam_files/Rps2_polyA_H6_MD-GTGGAGACATAATGCC-1.bam /home/bay001/projects/ryan_editing_20190314/permanent_data/49_SAILOR_on_47/bam_files/Rps2_polyA_H6_MD-TTCACGCCAGTTTCGA-1.bam /home/bay001/projects/ryan_editing_20190314/permanent_data/49_SAILOR_on_47/bam_files/Rps2_polyA_H6_MD-CTAGACACAGATCATC-1.bam /home/bay001/projects/ryan_editing_20190314/permanent_data/49_SAILOR_on_47/bam_files/Rps2_polyA_H6_MD-ACCATTTGTTGGACTT-1.bam /home/bay001/projects/ryan_editing_20190314/permanent_data/49_SAILOR_on_47/bam_files/Rps2_polyA_H6_MD-ACTGCAATCCTGTAGA-1.bam /home/bay001/projects/ryan_editing_20190314/permanent_data/49_SAILOR_on_47/bam_files/Rps2_polyA_H6_MD-CTGGTCTAGTCACAGG-1.bam /home/bay001/projects/ryan_editing_20190314/permanent_data/49_SAILOR_on_47/bam_files/Rps2_polyA_H6_MD-ATGGTTGAGGTTCTTG-1.bam /home/bay001/projects/ryan_editing_20190314/permanent_data/49_SAILOR_on_47/bam_files/Rps2_polyA_H6_MD-AGCGTCGAGAATCGTA-1.bam /home/bay001/projects/ryan_editing_20190314/permanent_data/49_SAILOR_on_47/bam_files/Rps2_polyA_H6_MD-CCCTAACAGGCCACTC-1.bam /home/bay001/projects/ryan_editing_20190314/permanent_data/49_SAILOR_on_47/bam_files/Rps2_polyA_H6_MD-TTTAGTCCAATGGGTG-1.bam /home/bay001/projects/ryan_editing_20190314/permanent_data/49_SAILOR_on_47/bam_files/Rps2_polyA_H6_MD-ACTACGATCATTACTC-1.bam /home/bay001/projects/ryan_editing_20190314/permanent_data/49_SAILOR_on_47/bam_files/Rps2_polyA_H6_MD-GTAGCTAGTAAGCGGT-1.bam /home/bay001/projects/ryan_editing_20190314/permanent_data/49_SAILOR_on_47/bam_files/Rps2_polyA_H6_MD-CCTTGTGGTGGAGGTT-1.bam /home/bay001/projects/ryan_editing_20190314/permanent_data/49_SAILOR_on_47/bam_files/Rps2_polyA_H6_MD-TTAGTCTGTTCTTCAT-1.bam /home/bay001/projects/ryan_editing_20190314/permanent_data/49_SAILOR_on_47/bam_files/Rps2_polyA_H6_MD-TGCATCCCATATCGGT-1.bam /home/bay001/projects/ryan_editing_20190314/permanent_data/49_SAILOR_on_47/bam_files/Rps2_polyA_H6_MD-GTAGCTAAGGAGGCAG-1.bam /home/bay001/projects/ryan_editing_20190314/permanent_data/49_SAILOR_on_47/bam_files/Rps2_polyA_H6_MD-AGGACTTTCACCACAA-1.bam /home/bay001/projects/ryan_editing_20190314/permanent_data/49_SAILOR_on_47/bam_files/Rps2_polyA_H6_MD-ATTCAGGCAGGCGAAT-1.bam /home/bay001/projects/ryan_editing_20190314/permanent_data/49_SAILOR_on_47/bam_files/Rps2_polyA_H6_MD-TTTGACTAGTGGAAGA-1.bam /home/bay001/projects/ryan_editing_20190314/permanent_data/49_SAILOR_on_47/bam_files/Rps2_polyA_H6_MD-TGTAGACTCCTAGCGG-1.bam /home/bay001/projects/ryan_editing_20190314/permanent_data/49_SAILOR_on_47/bam_files/Rps2_polyA_H6_MD-GGGAGATGTAGAATGT-1.bam /home/bay001/projects/ryan_editing_20190314/permanent_data/49_SAILOR_on_47/bam_files/Rps2_polyA_H6_MD-CAGTGCGCAAATGAGT-1.bam /home/bay001/projects/ryan_editing_20190314/permanent_data/49_SAILOR_on_47/bam_files/Rps2_polyA_H6_MD-TGTAACGTCCGCAGTG-1.bam /home/bay001/projects/ryan_editing_20190314/permanent_data/49_SAILOR_on_47/bam_files/Rps2_polyA_H6_MD-TTGGGATGTATCGCAT-1.bam /home/bay001/projects/ryan_editing_20190314/permanent_data/49_SAILOR_on_47/bam_files/Rps2_polyA_H6_MD-ATCGCCTGTAGCGCTC-1.bam /home/bay001/projects/ryan_editing_20190314/permanent_data/49_SAILOR_on_47/bam_files/Rps2_polyA_H6_MD-TCGGGCAGTTGCGGCT-1.bam /home/bay001/projects/ryan_editing_20190314/permanent_data/49_SAILOR_on_47/bam_files/Rps2_polyA_H6_MD-CAGCACGGTCTCACGG-1.bam /home/bay001/projects/ryan_editing_20190314/permanent_data/49_SAILOR_on_47/bam_files/Rps2_polyA_H6_MD-GCCAACGTCGGCTGTG-1.bam /home/bay001/projects/ryan_editing_20190314/permanent_data/49_SAILOR_on_47/bam_files/Rps2_polyA_H6_MD-TACTGCCAGCGTCGAA-1.bam ',\n",
       " 'samtools merge -f /home/bay001/projects/ryan_editing_20190314/permanent_data/49_SAILOR_on_47/bam_file_groups/Rps2_polyA_H6_MD.G1-phase-top45.bam /home/bay001/projects/ryan_editing_20190314/permanent_data/49_SAILOR_on_47/bam_files/Rps2_polyA_H6_MD-TCACAAGAGTTGTAAG-1.bam /home/bay001/projects/ryan_editing_20190314/permanent_data/49_SAILOR_on_47/bam_files/Rps2_polyA_H6_MD-GGTTAACAGTTACGAA-1.bam /home/bay001/projects/ryan_editing_20190314/permanent_data/49_SAILOR_on_47/bam_files/Rps2_polyA_H6_MD-ACTGCAAGTTGGTGTT-1.bam /home/bay001/projects/ryan_editing_20190314/permanent_data/49_SAILOR_on_47/bam_files/Rps2_polyA_H6_MD-CCGGTGATCGTACACA-1.bam /home/bay001/projects/ryan_editing_20190314/permanent_data/49_SAILOR_on_47/bam_files/Rps2_polyA_H6_MD-TCATCCGCACCGTGAC-1.bam /home/bay001/projects/ryan_editing_20190314/permanent_data/49_SAILOR_on_47/bam_files/Rps2_polyA_H6_MD-GTGCTGGTCCACGTGG-1.bam /home/bay001/projects/ryan_editing_20190314/permanent_data/49_SAILOR_on_47/bam_files/Rps2_polyA_H6_MD-AGGTTGTGTCATTCCC-1.bam /home/bay001/projects/ryan_editing_20190314/permanent_data/49_SAILOR_on_47/bam_files/Rps2_polyA_H6_MD-ATTCCCGAGACTAGAT-1.bam /home/bay001/projects/ryan_editing_20190314/permanent_data/49_SAILOR_on_47/bam_files/Rps2_polyA_H6_MD-GCATCTCGTCATTCCC-1.bam /home/bay001/projects/ryan_editing_20190314/permanent_data/49_SAILOR_on_47/bam_files/Rps2_polyA_H6_MD-TACGGGCAGTCAGAGC-1.bam /home/bay001/projects/ryan_editing_20190314/permanent_data/49_SAILOR_on_47/bam_files/Rps2_polyA_H6_MD-TATCGCCAGCTGTGCC-1.bam /home/bay001/projects/ryan_editing_20190314/permanent_data/49_SAILOR_on_47/bam_files/Rps2_polyA_H6_MD-TGACTCCTCAGCAGAG-1.bam /home/bay001/projects/ryan_editing_20190314/permanent_data/49_SAILOR_on_47/bam_files/Rps2_polyA_H6_MD-AGGTAGGTCGTAGTGT-1.bam /home/bay001/projects/ryan_editing_20190314/permanent_data/49_SAILOR_on_47/bam_files/Rps2_polyA_H6_MD-GTGTAACAGAGGGCGA-1.bam /home/bay001/projects/ryan_editing_20190314/permanent_data/49_SAILOR_on_47/bam_files/Rps2_polyA_H6_MD-GAACACTGTCTGCGCA-1.bam /home/bay001/projects/ryan_editing_20190314/permanent_data/49_SAILOR_on_47/bam_files/Rps2_polyA_H6_MD-TGCATCCTCTGCAGCG-1.bam /home/bay001/projects/ryan_editing_20190314/permanent_data/49_SAILOR_on_47/bam_files/Rps2_polyA_H6_MD-AGTAGCTCATCGCTGG-1.bam /home/bay001/projects/ryan_editing_20190314/permanent_data/49_SAILOR_on_47/bam_files/Rps2_polyA_H6_MD-CACTGTCCAGTATACC-1.bam /home/bay001/projects/ryan_editing_20190314/permanent_data/49_SAILOR_on_47/bam_files/Rps2_polyA_H6_MD-AACCCAAGTCCTCATC-1.bam /home/bay001/projects/ryan_editing_20190314/permanent_data/49_SAILOR_on_47/bam_files/Rps2_polyA_H6_MD-CCCTCTCAGGTAGATT-1.bam /home/bay001/projects/ryan_editing_20190314/permanent_data/49_SAILOR_on_47/bam_files/Rps2_polyA_H6_MD-ATCAGGTCAAAGTATG-1.bam /home/bay001/projects/ryan_editing_20190314/permanent_data/49_SAILOR_on_47/bam_files/Rps2_polyA_H6_MD-TACCTCGTCGGAATTC-1.bam /home/bay001/projects/ryan_editing_20190314/permanent_data/49_SAILOR_on_47/bam_files/Rps2_polyA_H6_MD-ATCGGATTCCTTGAAG-1.bam /home/bay001/projects/ryan_editing_20190314/permanent_data/49_SAILOR_on_47/bam_files/Rps2_polyA_H6_MD-CTATCCGTCCATCAGA-1.bam /home/bay001/projects/ryan_editing_20190314/permanent_data/49_SAILOR_on_47/bam_files/Rps2_polyA_H6_MD-CTGCCATCATCGCTAA-1.bam /home/bay001/projects/ryan_editing_20190314/permanent_data/49_SAILOR_on_47/bam_files/Rps2_polyA_H6_MD-GTAAGTCAGGTCACAG-1.bam /home/bay001/projects/ryan_editing_20190314/permanent_data/49_SAILOR_on_47/bam_files/Rps2_polyA_H6_MD-TTGTGGACAAGTAGTA-1.bam /home/bay001/projects/ryan_editing_20190314/permanent_data/49_SAILOR_on_47/bam_files/Rps2_polyA_H6_MD-GCCCAGATCCCTAGGG-1.bam /home/bay001/projects/ryan_editing_20190314/permanent_data/49_SAILOR_on_47/bam_files/Rps2_polyA_H6_MD-TACATTCTCGGCCCAA-1.bam /home/bay001/projects/ryan_editing_20190314/permanent_data/49_SAILOR_on_47/bam_files/Rps2_polyA_H6_MD-ACCTGTCGTAGCTGTT-1.bam /home/bay001/projects/ryan_editing_20190314/permanent_data/49_SAILOR_on_47/bam_files/Rps2_polyA_H6_MD-GTGTGGCTCAGCGTCG-1.bam /home/bay001/projects/ryan_editing_20190314/permanent_data/49_SAILOR_on_47/bam_files/Rps2_polyA_H6_MD-ACGTACAGTAGAGTTA-1.bam /home/bay001/projects/ryan_editing_20190314/permanent_data/49_SAILOR_on_47/bam_files/Rps2_polyA_H6_MD-AGTAGTCTCGGCGATC-1.bam /home/bay001/projects/ryan_editing_20190314/permanent_data/49_SAILOR_on_47/bam_files/Rps2_polyA_H6_MD-AGTAGCTAGAAATGGG-1.bam /home/bay001/projects/ryan_editing_20190314/permanent_data/49_SAILOR_on_47/bam_files/Rps2_polyA_H6_MD-CGAGAAGCAAGAATGT-1.bam /home/bay001/projects/ryan_editing_20190314/permanent_data/49_SAILOR_on_47/bam_files/Rps2_polyA_H6_MD-GGGATCCAGGGATGTC-1.bam /home/bay001/projects/ryan_editing_20190314/permanent_data/49_SAILOR_on_47/bam_files/Rps2_polyA_H6_MD-ATGACCACATGGGTTT-1.bam /home/bay001/projects/ryan_editing_20190314/permanent_data/49_SAILOR_on_47/bam_files/Rps2_polyA_H6_MD-CAACGATAGGTTACCT-1.bam /home/bay001/projects/ryan_editing_20190314/permanent_data/49_SAILOR_on_47/bam_files/Rps2_polyA_H6_MD-ATAGGCTGTCTGCGCA-1.bam /home/bay001/projects/ryan_editing_20190314/permanent_data/49_SAILOR_on_47/bam_files/Rps2_polyA_H6_MD-ACTTTCATCGATTGAC-1.bam /home/bay001/projects/ryan_editing_20190314/permanent_data/49_SAILOR_on_47/bam_files/Rps2_polyA_H6_MD-AGTTCCCGTCTTCCGT-1.bam /home/bay001/projects/ryan_editing_20190314/permanent_data/49_SAILOR_on_47/bam_files/Rps2_polyA_H6_MD-CTCAGTCCAGAAGTTA-1.bam /home/bay001/projects/ryan_editing_20190314/permanent_data/49_SAILOR_on_47/bam_files/Rps2_polyA_H6_MD-TAAGCGTCAAGGCTTT-1.bam /home/bay001/projects/ryan_editing_20190314/permanent_data/49_SAILOR_on_47/bam_files/Rps2_polyA_H6_MD-CAGCCAGTCGCGTGCA-1.bam /home/bay001/projects/ryan_editing_20190314/permanent_data/49_SAILOR_on_47/bam_files/Rps2_polyA_H6_MD-ACTGTCCTCATATGGC-1.bam /home/bay001/projects/ryan_editing_20190314/permanent_data/49_SAILOR_on_47/bam_files/Rps2_polyA_H6_MD-AGATCGTTCCACTTTA-1.bam /home/bay001/projects/ryan_editing_20190314/permanent_data/49_SAILOR_on_47/bam_files/Rps2_polyA_H6_MD-AAAGGTAGTCAAGCGA-1.bam /home/bay001/projects/ryan_editing_20190314/permanent_data/49_SAILOR_on_47/bam_files/Rps2_polyA_H6_MD-TCATTGTGTGACTAAA-1.bam /home/bay001/projects/ryan_editing_20190314/permanent_data/49_SAILOR_on_47/bam_files/Rps2_polyA_H6_MD-GGTGGCTAGCACACCC-1.bam /home/bay001/projects/ryan_editing_20190314/permanent_data/49_SAILOR_on_47/bam_files/Rps2_polyA_H6_MD-TCATTCACAACTACGT-1.bam /home/bay001/projects/ryan_editing_20190314/permanent_data/49_SAILOR_on_47/bam_files/Rps2_polyA_H6_MD-GGGATCCTCCTCCACA-1.bam /home/bay001/projects/ryan_editing_20190314/permanent_data/49_SAILOR_on_47/bam_files/Rps2_polyA_H6_MD-TGCGACGTCAGCACCG-1.bam /home/bay001/projects/ryan_editing_20190314/permanent_data/49_SAILOR_on_47/bam_files/Rps2_polyA_H6_MD-CCGTTCATCCGTCAAA-1.bam /home/bay001/projects/ryan_editing_20190314/permanent_data/49_SAILOR_on_47/bam_files/Rps2_polyA_H6_MD-ATTACTCGTCTTGCGG-1.bam /home/bay001/projects/ryan_editing_20190314/permanent_data/49_SAILOR_on_47/bam_files/Rps2_polyA_H6_MD-AGACAAAGTATCAAGA-1.bam /home/bay001/projects/ryan_editing_20190314/permanent_data/49_SAILOR_on_47/bam_files/Rps2_polyA_H6_MD-AGTGACTTCACGGTCG-1.bam /home/bay001/projects/ryan_editing_20190314/permanent_data/49_SAILOR_on_47/bam_files/Rps2_polyA_H6_MD-ATTTCTGTCTCGTCAC-1.bam /home/bay001/projects/ryan_editing_20190314/permanent_data/49_SAILOR_on_47/bam_files/Rps2_polyA_H6_MD-ATGATCGGTCTGATCA-1.bam /home/bay001/projects/ryan_editing_20190314/permanent_data/49_SAILOR_on_47/bam_files/Rps2_polyA_H6_MD-GCCAGTGGTGCACAAG-1.bam /home/bay001/projects/ryan_editing_20190314/permanent_data/49_SAILOR_on_47/bam_files/Rps2_polyA_H6_MD-GGTTGTAAGAATCCCT-1.bam /home/bay001/projects/ryan_editing_20190314/permanent_data/49_SAILOR_on_47/bam_files/Rps2_polyA_H6_MD-ACGTAACCAAAGGGTC-1.bam /home/bay001/projects/ryan_editing_20190314/permanent_data/49_SAILOR_on_47/bam_files/Rps2_polyA_H6_MD-GTCATTTGTATCACCA-1.bam /home/bay001/projects/ryan_editing_20190314/permanent_data/49_SAILOR_on_47/bam_files/Rps2_polyA_H6_MD-TCCCACAGTAGGGTAC-1.bam /home/bay001/projects/ryan_editing_20190314/permanent_data/49_SAILOR_on_47/bam_files/Rps2_polyA_H6_MD-GGGTAGAAGGATGAGA-1.bam /home/bay001/projects/ryan_editing_20190314/permanent_data/49_SAILOR_on_47/bam_files/Rps2_polyA_H6_MD-CGTGAATCAATAGGGC-1.bam /home/bay001/projects/ryan_editing_20190314/permanent_data/49_SAILOR_on_47/bam_files/Rps2_polyA_H6_MD-GACCTTCCAGAACCGA-1.bam /home/bay001/projects/ryan_editing_20190314/permanent_data/49_SAILOR_on_47/bam_files/Rps2_polyA_H6_MD-TCGGGACCAGAGCGTA-1.bam /home/bay001/projects/ryan_editing_20190314/permanent_data/49_SAILOR_on_47/bam_files/Rps2_polyA_H6_MD-TCATGAGCATGAATCC-1.bam /home/bay001/projects/ryan_editing_20190314/permanent_data/49_SAILOR_on_47/bam_files/Rps2_polyA_H6_MD-AAACGAATCGACGCGT-1.bam /home/bay001/projects/ryan_editing_20190314/permanent_data/49_SAILOR_on_47/bam_files/Rps2_polyA_H6_MD-ACGGGTCAGTGGACTG-1.bam /home/bay001/projects/ryan_editing_20190314/permanent_data/49_SAILOR_on_47/bam_files/Rps2_polyA_H6_MD-TCCATCGCAGACTGCC-1.bam /home/bay001/projects/ryan_editing_20190314/permanent_data/49_SAILOR_on_47/bam_files/Rps2_polyA_H6_MD-TTCACCGCACACCGAC-1.bam /home/bay001/projects/ryan_editing_20190314/permanent_data/49_SAILOR_on_47/bam_files/Rps2_polyA_H6_MD-ACCCAAAGTGTACAGG-1.bam /home/bay001/projects/ryan_editing_20190314/permanent_data/49_SAILOR_on_47/bam_files/Rps2_polyA_H6_MD-TGGATCACAAGCACCC-1.bam /home/bay001/projects/ryan_editing_20190314/permanent_data/49_SAILOR_on_47/bam_files/Rps2_polyA_H6_MD-TAGCACATCCTCGCAT-1.bam /home/bay001/projects/ryan_editing_20190314/permanent_data/49_SAILOR_on_47/bam_files/Rps2_polyA_H6_MD-TCGCTCATCTGAGGTT-1.bam /home/bay001/projects/ryan_editing_20190314/permanent_data/49_SAILOR_on_47/bam_files/Rps2_polyA_H6_MD-CTGTGGGAGCTCCACG-1.bam /home/bay001/projects/ryan_editing_20190314/permanent_data/49_SAILOR_on_47/bam_files/Rps2_polyA_H6_MD-TCTATCATCGCTTGCT-1.bam /home/bay001/projects/ryan_editing_20190314/permanent_data/49_SAILOR_on_47/bam_files/Rps2_polyA_H6_MD-AATGACCTCTTCGGAA-1.bam /home/bay001/projects/ryan_editing_20190314/permanent_data/49_SAILOR_on_47/bam_files/Rps2_polyA_H6_MD-AGGTAGGGTACGTAGG-1.bam /home/bay001/projects/ryan_editing_20190314/permanent_data/49_SAILOR_on_47/bam_files/Rps2_polyA_H6_MD-TATGTTCTCCAGCACG-1.bam /home/bay001/projects/ryan_editing_20190314/permanent_data/49_SAILOR_on_47/bam_files/Rps2_polyA_H6_MD-TAAGCACGTCCGATCG-1.bam /home/bay001/projects/ryan_editing_20190314/permanent_data/49_SAILOR_on_47/bam_files/Rps2_polyA_H6_MD-CAGGCCATCGTAGGGA-1.bam /home/bay001/projects/ryan_editing_20190314/permanent_data/49_SAILOR_on_47/bam_files/Rps2_polyA_H6_MD-TCGGATATCGTTCTGC-1.bam /home/bay001/projects/ryan_editing_20190314/permanent_data/49_SAILOR_on_47/bam_files/Rps2_polyA_H6_MD-TTATTGCAGTCGCGAA-1.bam /home/bay001/projects/ryan_editing_20190314/permanent_data/49_SAILOR_on_47/bam_files/Rps2_polyA_H6_MD-TGGCGTGCAACCCTCT-1.bam /home/bay001/projects/ryan_editing_20190314/permanent_data/49_SAILOR_on_47/bam_files/Rps2_polyA_H6_MD-GAGGGTATCACTCGAA-1.bam /home/bay001/projects/ryan_editing_20190314/permanent_data/49_SAILOR_on_47/bam_files/Rps2_polyA_H6_MD-CTCCGATAGCTGCCTG-1.bam /home/bay001/projects/ryan_editing_20190314/permanent_data/49_SAILOR_on_47/bam_files/Rps2_polyA_H6_MD-GTGTCCTGTGCGTTTA-1.bam /home/bay001/projects/ryan_editing_20190314/permanent_data/49_SAILOR_on_47/bam_files/Rps2_polyA_H6_MD-GTCAAGTTCTTCTAAC-1.bam /home/bay001/projects/ryan_editing_20190314/permanent_data/49_SAILOR_on_47/bam_files/Rps2_polyA_H6_MD-GCTGGGTTCCATACTT-1.bam /home/bay001/projects/ryan_editing_20190314/permanent_data/49_SAILOR_on_47/bam_files/Rps2_polyA_H6_MD-CTCCACAAGTGGTTAA-1.bam /home/bay001/projects/ryan_editing_20190314/permanent_data/49_SAILOR_on_47/bam_files/Rps2_polyA_H6_MD-GACCCAGCACTTCAAG-1.bam /home/bay001/projects/ryan_editing_20190314/permanent_data/49_SAILOR_on_47/bam_files/Rps2_polyA_H6_MD-CAAGCTAAGTCCCGAC-1.bam /home/bay001/projects/ryan_editing_20190314/permanent_data/49_SAILOR_on_47/bam_files/Rps2_polyA_H6_MD-GCAACCGCAGACAAGC-1.bam /home/bay001/projects/ryan_editing_20190314/permanent_data/49_SAILOR_on_47/bam_files/Rps2_polyA_H6_MD-TCAAGTGGTAATGCGG-1.bam /home/bay001/projects/ryan_editing_20190314/permanent_data/49_SAILOR_on_47/bam_files/Rps2_polyA_H6_MD-TGATGGTGTACCCGCA-1.bam /home/bay001/projects/ryan_editing_20190314/permanent_data/49_SAILOR_on_47/bam_files/Rps2_polyA_H6_MD-CTCCGATCAATGAAAC-1.bam /home/bay001/projects/ryan_editing_20190314/permanent_data/49_SAILOR_on_47/bam_files/Rps2_polyA_H6_MD-TGATTCTAGCATGTTC-1.bam /home/bay001/projects/ryan_editing_20190314/permanent_data/49_SAILOR_on_47/bam_files/Rps2_polyA_H6_MD-TGCTCCAGTTCCTTGC-1.bam ']"
      ]
     },
     "execution_count": 23,
     "metadata": {},
     "output_type": "execute_result"
    }
   ],
   "source": [
    "groups = OrderedDict({\n",
    "    'Rps2_polyA_H6_MD.G2M-phase-top100.bam' : list(g2m_top100.index),\n",
    "    'Rps2_polyA_H6_MD.S-phase-top100.bam' : list(s_top100.index),\n",
    "    'Rps2_polyA_H6_MD.G1-phase-top100.bam' : list(g1_top100.index)\n",
    "})\n",
    "\n",
    "cmds = []\n",
    "for output_file, barcodes in groups.iteritems():\n",
    "    bam_list = []\n",
    "    for barcode in barcodes:\n",
    "        bam_list.append(get_bam_file_name_from_barcode(barcode, 'Rps2'))\n",
    "\n",
    "    cmds.append(merge_barcodes_cmd(split_bam_file_dir, os.path.join(output_dir, output_file), bam_list))"
   ]
  },
  {
   "cell_type": "code",
   "execution_count": 24,
   "metadata": {},
   "outputs": [
    {
     "name": "stderr",
     "output_type": "stream",
     "text": [
      "Writing 3 tasks as an array-job.\n",
      "Wrote commands to top100-merge.sh.\n",
      "Submitted script to queue home.\n",
      " Job ID: 20955640\n"
     ]
    },
    {
     "data": {
      "text/plain": [
       "<qtools.submitter.Submitter at 0x2b7207cd9bd0>"
      ]
     },
     "execution_count": 24,
     "metadata": {},
     "output_type": "execute_result"
    }
   ],
   "source": [
    "Submitter(\n",
    "    commands=cmds,\n",
    "    job_name='top100-merge',\n",
    "    sh='top100-merge.sh',\n",
    "    array=True,\n",
    "    nodes=1,\n",
    "    ppn=1,\n",
    "    walltime='12:00:00',\n",
    "    submit=True,\n",
    ")"
   ]
  },
  {
   "cell_type": "markdown",
   "metadata": {},
   "source": [
    "# Let's group the top 100 Apo control barcodes as well (negative control)"
   ]
  },
  {
   "cell_type": "code",
   "execution_count": 25,
   "metadata": {},
   "outputs": [
    {
     "name": "stdout",
     "output_type": "stream",
     "text": [
      "(100, 100, 100)\n"
     ]
    },
    {
     "data": {
      "text/html": [
       "<div>\n",
       "<style scoped>\n",
       "    .dataframe tbody tr th:only-of-type {\n",
       "        vertical-align: middle;\n",
       "    }\n",
       "\n",
       "    .dataframe tbody tr th {\n",
       "        vertical-align: top;\n",
       "    }\n",
       "\n",
       "    .dataframe thead th {\n",
       "        text-align: right;\n",
       "    }\n",
       "</style>\n",
       "<table border=\"1\" class=\"dataframe\">\n",
       "  <thead>\n",
       "    <tr style=\"text-align: right;\">\n",
       "      <th></th>\n",
       "      <th>APO-control</th>\n",
       "      <th>phase</th>\n",
       "      <th>S_score</th>\n",
       "      <th>G2M_score</th>\n",
       "      <th>sum</th>\n",
       "    </tr>\n",
       "  </thead>\n",
       "  <tbody>\n",
       "    <tr>\n",
       "      <th>CAGTTCCTCACCATAG-1</th>\n",
       "      <td>1.526547</td>\n",
       "      <td>G1</td>\n",
       "      <td>-1.095671</td>\n",
       "      <td>-0.582331</td>\n",
       "      <td>-1.678002</td>\n",
       "    </tr>\n",
       "    <tr>\n",
       "      <th>TTCACCGTCTACCACC-1</th>\n",
       "      <td>1.666168</td>\n",
       "      <td>G1</td>\n",
       "      <td>-0.506678</td>\n",
       "      <td>-0.901658</td>\n",
       "      <td>-1.408336</td>\n",
       "    </tr>\n",
       "    <tr>\n",
       "      <th>GGATGTTCAAAGGCGT-1</th>\n",
       "      <td>2.113909</td>\n",
       "      <td>G1</td>\n",
       "      <td>-0.910133</td>\n",
       "      <td>-0.431973</td>\n",
       "      <td>-1.342106</td>\n",
       "    </tr>\n",
       "    <tr>\n",
       "      <th>CACAACATCCAACACA-1</th>\n",
       "      <td>1.779427</td>\n",
       "      <td>G1</td>\n",
       "      <td>-0.444847</td>\n",
       "      <td>-0.796795</td>\n",
       "      <td>-1.241642</td>\n",
       "    </tr>\n",
       "    <tr>\n",
       "      <th>CTCTGGTTCAGTGTTG-1</th>\n",
       "      <td>2.203589</td>\n",
       "      <td>G1</td>\n",
       "      <td>-0.736379</td>\n",
       "      <td>-0.504132</td>\n",
       "      <td>-1.240511</td>\n",
       "    </tr>\n",
       "  </tbody>\n",
       "</table>\n",
       "</div>"
      ],
      "text/plain": [
       "                    APO-control phase   S_score  G2M_score       sum\n",
       "CAGTTCCTCACCATAG-1     1.526547    G1 -1.095671  -0.582331 -1.678002\n",
       "TTCACCGTCTACCACC-1     1.666168    G1 -0.506678  -0.901658 -1.408336\n",
       "GGATGTTCAAAGGCGT-1     2.113909    G1 -0.910133  -0.431973 -1.342106\n",
       "CACAACATCCAACACA-1     1.779427    G1 -0.444847  -0.796795 -1.241642\n",
       "CTCTGGTTCAGTGTTG-1     2.203589    G1 -0.736379  -0.504132 -1.240511"
      ]
     },
     "execution_count": 25,
     "metadata": {},
     "output_type": "execute_result"
    }
   ],
   "source": [
    "g1_top100 = pd.read_csv(os.path.join(input_dir, 'APO-control_G1_top100_normalized_counts.csv'), index_col=0)\n",
    "s_top100 = pd.read_csv(os.path.join(input_dir, 'APO-control_S_top100_normalized_counts.csv'), index_col=0)\n",
    "g2m_top100 = pd.read_csv(os.path.join(input_dir, 'APO-control_G2M_top100_normalized_counts.csv'), index_col=0)\n",
    "\n",
    "print(g1_top100.shape[0], s_top100.shape[0], g2m_top100.shape[0])\n",
    "g1_top100.head()"
   ]
  },
  {
   "cell_type": "code",
   "execution_count": 26,
   "metadata": {},
   "outputs": [
    {
     "data": {
      "text/plain": [
       "['samtools merge -f /home/bay001/projects/ryan_editing_20190314/permanent_data/49_SAILOR_on_47/bam_file_groups/Apo_polyA_H6_MD.G2M-phase-top100.bam /home/bay001/projects/ryan_editing_20190314/permanent_data/49_SAILOR_on_47/bam_files/Apo_Control_polyA_H7_MD-GAGTGTTGTGGCAACA-1.bam /home/bay001/projects/ryan_editing_20190314/permanent_data/49_SAILOR_on_47/bam_files/Apo_Control_polyA_H7_MD-CCGCAAGAGCTATCCA-1.bam /home/bay001/projects/ryan_editing_20190314/permanent_data/49_SAILOR_on_47/bam_files/Apo_Control_polyA_H7_MD-CCTCTAGGTCACGTGC-1.bam /home/bay001/projects/ryan_editing_20190314/permanent_data/49_SAILOR_on_47/bam_files/Apo_Control_polyA_H7_MD-AGCCAGCGTGTAGCAG-1.bam /home/bay001/projects/ryan_editing_20190314/permanent_data/49_SAILOR_on_47/bam_files/Apo_Control_polyA_H7_MD-ACTTCGCTCTAGAGCT-1.bam /home/bay001/projects/ryan_editing_20190314/permanent_data/49_SAILOR_on_47/bam_files/Apo_Control_polyA_H7_MD-TCATTTGAGCCGCTTG-1.bam /home/bay001/projects/ryan_editing_20190314/permanent_data/49_SAILOR_on_47/bam_files/Apo_Control_polyA_H7_MD-GGGTCTGTCGAAGTGG-1.bam /home/bay001/projects/ryan_editing_20190314/permanent_data/49_SAILOR_on_47/bam_files/Apo_Control_polyA_H7_MD-CATGCTCCAAGGTCAG-1.bam /home/bay001/projects/ryan_editing_20190314/permanent_data/49_SAILOR_on_47/bam_files/Apo_Control_polyA_H7_MD-GAGTGTTCACAGTGAG-1.bam /home/bay001/projects/ryan_editing_20190314/permanent_data/49_SAILOR_on_47/bam_files/Apo_Control_polyA_H7_MD-TCCTAATGTAGAATAC-1.bam /home/bay001/projects/ryan_editing_20190314/permanent_data/49_SAILOR_on_47/bam_files/Apo_Control_polyA_H7_MD-AACCAACGTTGTATGC-1.bam /home/bay001/projects/ryan_editing_20190314/permanent_data/49_SAILOR_on_47/bam_files/Apo_Control_polyA_H7_MD-CCTGTTGGTTTCGACA-1.bam /home/bay001/projects/ryan_editing_20190314/permanent_data/49_SAILOR_on_47/bam_files/Apo_Control_polyA_H7_MD-CGAGTTACATGACTCA-1.bam /home/bay001/projects/ryan_editing_20190314/permanent_data/49_SAILOR_on_47/bam_files/Apo_Control_polyA_H7_MD-GTCTCACTCATCACTT-1.bam /home/bay001/projects/ryan_editing_20190314/permanent_data/49_SAILOR_on_47/bam_files/Apo_Control_polyA_H7_MD-GTAGAGGTCGTGTCAA-1.bam /home/bay001/projects/ryan_editing_20190314/permanent_data/49_SAILOR_on_47/bam_files/Apo_Control_polyA_H7_MD-ATATCCTAGTACCGGA-1.bam /home/bay001/projects/ryan_editing_20190314/permanent_data/49_SAILOR_on_47/bam_files/Apo_Control_polyA_H7_MD-GATGTTGAGCACCTGC-1.bam /home/bay001/projects/ryan_editing_20190314/permanent_data/49_SAILOR_on_47/bam_files/Apo_Control_polyA_H7_MD-GTCTGTCGTACAAAGT-1.bam /home/bay001/projects/ryan_editing_20190314/permanent_data/49_SAILOR_on_47/bam_files/Apo_Control_polyA_H7_MD-AGGGTCCTCTCATGGA-1.bam /home/bay001/projects/ryan_editing_20190314/permanent_data/49_SAILOR_on_47/bam_files/Apo_Control_polyA_H7_MD-AGACCCGGTAGACAAT-1.bam /home/bay001/projects/ryan_editing_20190314/permanent_data/49_SAILOR_on_47/bam_files/Apo_Control_polyA_H7_MD-AACCTGATCGGTAGGA-1.bam /home/bay001/projects/ryan_editing_20190314/permanent_data/49_SAILOR_on_47/bam_files/Apo_Control_polyA_H7_MD-ATCATTCCACCTGCGA-1.bam /home/bay001/projects/ryan_editing_20190314/permanent_data/49_SAILOR_on_47/bam_files/Apo_Control_polyA_H7_MD-ACACAGTTCTACTGCC-1.bam /home/bay001/projects/ryan_editing_20190314/permanent_data/49_SAILOR_on_47/bam_files/Apo_Control_polyA_H7_MD-TCATTACGTTGTCATG-1.bam /home/bay001/projects/ryan_editing_20190314/permanent_data/49_SAILOR_on_47/bam_files/Apo_Control_polyA_H7_MD-ATTTCACGTATACCCA-1.bam /home/bay001/projects/ryan_editing_20190314/permanent_data/49_SAILOR_on_47/bam_files/Apo_Control_polyA_H7_MD-CCTATCGGTTTCGGCG-1.bam /home/bay001/projects/ryan_editing_20190314/permanent_data/49_SAILOR_on_47/bam_files/Apo_Control_polyA_H7_MD-TGAGCGCGTGCTAGCC-1.bam /home/bay001/projects/ryan_editing_20190314/permanent_data/49_SAILOR_on_47/bam_files/Apo_Control_polyA_H7_MD-CTCCCAAAGTGATAAC-1.bam /home/bay001/projects/ryan_editing_20190314/permanent_data/49_SAILOR_on_47/bam_files/Apo_Control_polyA_H7_MD-AACGGGAAGAGAACCC-1.bam /home/bay001/projects/ryan_editing_20190314/permanent_data/49_SAILOR_on_47/bam_files/Apo_Control_polyA_H7_MD-AAGCGTTAGAGCCGAT-1.bam /home/bay001/projects/ryan_editing_20190314/permanent_data/49_SAILOR_on_47/bam_files/Apo_Control_polyA_H7_MD-TGACCCTCAGGAAGTC-1.bam /home/bay001/projects/ryan_editing_20190314/permanent_data/49_SAILOR_on_47/bam_files/Apo_Control_polyA_H7_MD-ACTGCAACACCAACAT-1.bam /home/bay001/projects/ryan_editing_20190314/permanent_data/49_SAILOR_on_47/bam_files/Apo_Control_polyA_H7_MD-TTGAACGCAAATCAAG-1.bam /home/bay001/projects/ryan_editing_20190314/permanent_data/49_SAILOR_on_47/bam_files/Apo_Control_polyA_H7_MD-TTCCGGTCACGCACCA-1.bam /home/bay001/projects/ryan_editing_20190314/permanent_data/49_SAILOR_on_47/bam_files/Apo_Control_polyA_H7_MD-GTCAAGTAGTTTCAGC-1.bam /home/bay001/projects/ryan_editing_20190314/permanent_data/49_SAILOR_on_47/bam_files/Apo_Control_polyA_H7_MD-GTAATGCAGCCGCACT-1.bam /home/bay001/projects/ryan_editing_20190314/permanent_data/49_SAILOR_on_47/bam_files/Apo_Control_polyA_H7_MD-GGGATCCCAGAGTGAC-1.bam /home/bay001/projects/ryan_editing_20190314/permanent_data/49_SAILOR_on_47/bam_files/Apo_Control_polyA_H7_MD-CATTGTTTCGGTAACT-1.bam /home/bay001/projects/ryan_editing_20190314/permanent_data/49_SAILOR_on_47/bam_files/Apo_Control_polyA_H7_MD-CCAATGACATGGAAGC-1.bam /home/bay001/projects/ryan_editing_20190314/permanent_data/49_SAILOR_on_47/bam_files/Apo_Control_polyA_H7_MD-AGTAACCTCTTGAGCA-1.bam /home/bay001/projects/ryan_editing_20190314/permanent_data/49_SAILOR_on_47/bam_files/Apo_Control_polyA_H7_MD-TATATCCAGTGCAAAT-1.bam /home/bay001/projects/ryan_editing_20190314/permanent_data/49_SAILOR_on_47/bam_files/Apo_Control_polyA_H7_MD-CCTCACATCGGTATGT-1.bam /home/bay001/projects/ryan_editing_20190314/permanent_data/49_SAILOR_on_47/bam_files/Apo_Control_polyA_H7_MD-AACACACGTATCCTTT-1.bam /home/bay001/projects/ryan_editing_20190314/permanent_data/49_SAILOR_on_47/bam_files/Apo_Control_polyA_H7_MD-GTAAGTCCAAACGGCA-1.bam /home/bay001/projects/ryan_editing_20190314/permanent_data/49_SAILOR_on_47/bam_files/Apo_Control_polyA_H7_MD-CGTCAAAGTTGTGCCG-1.bam /home/bay001/projects/ryan_editing_20190314/permanent_data/49_SAILOR_on_47/bam_files/Apo_Control_polyA_H7_MD-TTTGACTGTGGGTTGA-1.bam /home/bay001/projects/ryan_editing_20190314/permanent_data/49_SAILOR_on_47/bam_files/Apo_Control_polyA_H7_MD-GGGTGAACATTCCTAT-1.bam /home/bay001/projects/ryan_editing_20190314/permanent_data/49_SAILOR_on_47/bam_files/Apo_Control_polyA_H7_MD-CTCCAACAGTGCCGAA-1.bam /home/bay001/projects/ryan_editing_20190314/permanent_data/49_SAILOR_on_47/bam_files/Apo_Control_polyA_H7_MD-CCCATTGTCACGGTCG-1.bam /home/bay001/projects/ryan_editing_20190314/permanent_data/49_SAILOR_on_47/bam_files/Apo_Control_polyA_H7_MD-CCTAAGACAGAAATCA-1.bam /home/bay001/projects/ryan_editing_20190314/permanent_data/49_SAILOR_on_47/bam_files/Apo_Control_polyA_H7_MD-TGTTCATTCCGCAAAT-1.bam /home/bay001/projects/ryan_editing_20190314/permanent_data/49_SAILOR_on_47/bam_files/Apo_Control_polyA_H7_MD-CCTCTAGAGCCATCCG-1.bam /home/bay001/projects/ryan_editing_20190314/permanent_data/49_SAILOR_on_47/bam_files/Apo_Control_polyA_H7_MD-CAACGGCTCCGCCTAT-1.bam /home/bay001/projects/ryan_editing_20190314/permanent_data/49_SAILOR_on_47/bam_files/Apo_Control_polyA_H7_MD-AGAAGCGCACTAACCA-1.bam /home/bay001/projects/ryan_editing_20190314/permanent_data/49_SAILOR_on_47/bam_files/Apo_Control_polyA_H7_MD-ATGAAAGGTCAGGCAA-1.bam /home/bay001/projects/ryan_editing_20190314/permanent_data/49_SAILOR_on_47/bam_files/Apo_Control_polyA_H7_MD-CTATCCGGTACCTTCC-1.bam /home/bay001/projects/ryan_editing_20190314/permanent_data/49_SAILOR_on_47/bam_files/Apo_Control_polyA_H7_MD-GATTCTTCACCCTGTT-1.bam /home/bay001/projects/ryan_editing_20190314/permanent_data/49_SAILOR_on_47/bam_files/Apo_Control_polyA_H7_MD-CTACATTCATTCCTCG-1.bam /home/bay001/projects/ryan_editing_20190314/permanent_data/49_SAILOR_on_47/bam_files/Apo_Control_polyA_H7_MD-AGACTCACAAACTCTG-1.bam /home/bay001/projects/ryan_editing_20190314/permanent_data/49_SAILOR_on_47/bam_files/Apo_Control_polyA_H7_MD-GACGTTAGTTGCATGT-1.bam /home/bay001/projects/ryan_editing_20190314/permanent_data/49_SAILOR_on_47/bam_files/Apo_Control_polyA_H7_MD-TCTACATTCACAACCA-1.bam /home/bay001/projects/ryan_editing_20190314/permanent_data/49_SAILOR_on_47/bam_files/Apo_Control_polyA_H7_MD-GGCTTTCGTCGGAACA-1.bam /home/bay001/projects/ryan_editing_20190314/permanent_data/49_SAILOR_on_47/bam_files/Apo_Control_polyA_H7_MD-GTTCGCTAGGGAGGAC-1.bam /home/bay001/projects/ryan_editing_20190314/permanent_data/49_SAILOR_on_47/bam_files/Apo_Control_polyA_H7_MD-TCGAAGTGTCCACAGC-1.bam /home/bay001/projects/ryan_editing_20190314/permanent_data/49_SAILOR_on_47/bam_files/Apo_Control_polyA_H7_MD-ACTATGGCAATTTCGG-1.bam /home/bay001/projects/ryan_editing_20190314/permanent_data/49_SAILOR_on_47/bam_files/Apo_Control_polyA_H7_MD-TCATCATCAGCACAGA-1.bam /home/bay001/projects/ryan_editing_20190314/permanent_data/49_SAILOR_on_47/bam_files/Apo_Control_polyA_H7_MD-ACCCAAAAGCTCCCTT-1.bam /home/bay001/projects/ryan_editing_20190314/permanent_data/49_SAILOR_on_47/bam_files/Apo_Control_polyA_H7_MD-CAACCAAGTCGACTGC-1.bam /home/bay001/projects/ryan_editing_20190314/permanent_data/49_SAILOR_on_47/bam_files/Apo_Control_polyA_H7_MD-GGGAGTACAACAGAGC-1.bam /home/bay001/projects/ryan_editing_20190314/permanent_data/49_SAILOR_on_47/bam_files/Apo_Control_polyA_H7_MD-ACGATGTTCAATCCGA-1.bam /home/bay001/projects/ryan_editing_20190314/permanent_data/49_SAILOR_on_47/bam_files/Apo_Control_polyA_H7_MD-CAGGCCATCGGTATGT-1.bam /home/bay001/projects/ryan_editing_20190314/permanent_data/49_SAILOR_on_47/bam_files/Apo_Control_polyA_H7_MD-TAGAGTCCATTAAGCC-1.bam /home/bay001/projects/ryan_editing_20190314/permanent_data/49_SAILOR_on_47/bam_files/Apo_Control_polyA_H7_MD-GGGTCTGAGGCCCAAA-1.bam /home/bay001/projects/ryan_editing_20190314/permanent_data/49_SAILOR_on_47/bam_files/Apo_Control_polyA_H7_MD-GTGTGATCATAATGAG-1.bam /home/bay001/projects/ryan_editing_20190314/permanent_data/49_SAILOR_on_47/bam_files/Apo_Control_polyA_H7_MD-CGAGTTACAGCCATTA-1.bam /home/bay001/projects/ryan_editing_20190314/permanent_data/49_SAILOR_on_47/bam_files/Apo_Control_polyA_H7_MD-GATGATCGTAAGGCTG-1.bam /home/bay001/projects/ryan_editing_20190314/permanent_data/49_SAILOR_on_47/bam_files/Apo_Control_polyA_H7_MD-ATCTTCACATAAGCAA-1.bam /home/bay001/projects/ryan_editing_20190314/permanent_data/49_SAILOR_on_47/bam_files/Apo_Control_polyA_H7_MD-CTAAGTGGTTTCAGAC-1.bam /home/bay001/projects/ryan_editing_20190314/permanent_data/49_SAILOR_on_47/bam_files/Apo_Control_polyA_H7_MD-TATCAGGTCGAGTGGA-1.bam /home/bay001/projects/ryan_editing_20190314/permanent_data/49_SAILOR_on_47/bam_files/Apo_Control_polyA_H7_MD-ACGTACATCAAGCCGC-1.bam /home/bay001/projects/ryan_editing_20190314/permanent_data/49_SAILOR_on_47/bam_files/Apo_Control_polyA_H7_MD-ACAGGGACATTGTAGC-1.bam /home/bay001/projects/ryan_editing_20190314/permanent_data/49_SAILOR_on_47/bam_files/Apo_Control_polyA_H7_MD-ACTGTGATCGCAATTG-1.bam /home/bay001/projects/ryan_editing_20190314/permanent_data/49_SAILOR_on_47/bam_files/Apo_Control_polyA_H7_MD-TCATGTTGTTGCATGT-1.bam /home/bay001/projects/ryan_editing_20190314/permanent_data/49_SAILOR_on_47/bam_files/Apo_Control_polyA_H7_MD-TTCTCTCAGTGTACCT-1.bam /home/bay001/projects/ryan_editing_20190314/permanent_data/49_SAILOR_on_47/bam_files/Apo_Control_polyA_H7_MD-ATTGGGTTCAGTCAGT-1.bam /home/bay001/projects/ryan_editing_20190314/permanent_data/49_SAILOR_on_47/bam_files/Apo_Control_polyA_H7_MD-AGTGTTGGTGTCACAT-1.bam /home/bay001/projects/ryan_editing_20190314/permanent_data/49_SAILOR_on_47/bam_files/Apo_Control_polyA_H7_MD-CGCCATTAGTGAACAT-1.bam /home/bay001/projects/ryan_editing_20190314/permanent_data/49_SAILOR_on_47/bam_files/Apo_Control_polyA_H7_MD-GCATCTCGTCACTTCC-1.bam /home/bay001/projects/ryan_editing_20190314/permanent_data/49_SAILOR_on_47/bam_files/Apo_Control_polyA_H7_MD-TTCGCTGGTGGGCTCT-1.bam /home/bay001/projects/ryan_editing_20190314/permanent_data/49_SAILOR_on_47/bam_files/Apo_Control_polyA_H7_MD-TATCTTGGTAGTACGG-1.bam /home/bay001/projects/ryan_editing_20190314/permanent_data/49_SAILOR_on_47/bam_files/Apo_Control_polyA_H7_MD-AGAGCCCAGAAACCAT-1.bam /home/bay001/projects/ryan_editing_20190314/permanent_data/49_SAILOR_on_47/bam_files/Apo_Control_polyA_H7_MD-CTGCAGGGTCTCAGGC-1.bam /home/bay001/projects/ryan_editing_20190314/permanent_data/49_SAILOR_on_47/bam_files/Apo_Control_polyA_H7_MD-AGGTCTATCTTGATTC-1.bam /home/bay001/projects/ryan_editing_20190314/permanent_data/49_SAILOR_on_47/bam_files/Apo_Control_polyA_H7_MD-ACTATCTCAAGTGGTG-1.bam /home/bay001/projects/ryan_editing_20190314/permanent_data/49_SAILOR_on_47/bam_files/Apo_Control_polyA_H7_MD-AGTTCGAGTCAGCGTC-1.bam /home/bay001/projects/ryan_editing_20190314/permanent_data/49_SAILOR_on_47/bam_files/Apo_Control_polyA_H7_MD-AGTGATCAGCACTTTG-1.bam /home/bay001/projects/ryan_editing_20190314/permanent_data/49_SAILOR_on_47/bam_files/Apo_Control_polyA_H7_MD-CTCAGTCCACTGTCCT-1.bam /home/bay001/projects/ryan_editing_20190314/permanent_data/49_SAILOR_on_47/bam_files/Apo_Control_polyA_H7_MD-TGACGCGCAGGAGGTT-1.bam /home/bay001/projects/ryan_editing_20190314/permanent_data/49_SAILOR_on_47/bam_files/Apo_Control_polyA_H7_MD-GATGGAGCATACGCAT-1.bam /home/bay001/projects/ryan_editing_20190314/permanent_data/49_SAILOR_on_47/bam_files/Apo_Control_polyA_H7_MD-TTGGGATTCCCATTCG-1.bam ',\n",
       " 'samtools merge -f /home/bay001/projects/ryan_editing_20190314/permanent_data/49_SAILOR_on_47/bam_file_groups/Apo_polyA_H6_MD.G1-phase-top100.bam /home/bay001/projects/ryan_editing_20190314/permanent_data/49_SAILOR_on_47/bam_files/Apo_Control_polyA_H7_MD-CAGTTCCTCACCATAG-1.bam /home/bay001/projects/ryan_editing_20190314/permanent_data/49_SAILOR_on_47/bam_files/Apo_Control_polyA_H7_MD-TTCACCGTCTACCACC-1.bam /home/bay001/projects/ryan_editing_20190314/permanent_data/49_SAILOR_on_47/bam_files/Apo_Control_polyA_H7_MD-GGATGTTCAAAGGCGT-1.bam /home/bay001/projects/ryan_editing_20190314/permanent_data/49_SAILOR_on_47/bam_files/Apo_Control_polyA_H7_MD-CACAACATCCAACACA-1.bam /home/bay001/projects/ryan_editing_20190314/permanent_data/49_SAILOR_on_47/bam_files/Apo_Control_polyA_H7_MD-CTCTGGTTCAGTGTTG-1.bam /home/bay001/projects/ryan_editing_20190314/permanent_data/49_SAILOR_on_47/bam_files/Apo_Control_polyA_H7_MD-GTGTGATGTCTCTCCA-1.bam /home/bay001/projects/ryan_editing_20190314/permanent_data/49_SAILOR_on_47/bam_files/Apo_Control_polyA_H7_MD-ACGGTTACAAGCGCTC-1.bam /home/bay001/projects/ryan_editing_20190314/permanent_data/49_SAILOR_on_47/bam_files/Apo_Control_polyA_H7_MD-CTTGATTAGATCCTAC-1.bam /home/bay001/projects/ryan_editing_20190314/permanent_data/49_SAILOR_on_47/bam_files/Apo_Control_polyA_H7_MD-TATCTTGAGCTGTTCA-1.bam /home/bay001/projects/ryan_editing_20190314/permanent_data/49_SAILOR_on_47/bam_files/Apo_Control_polyA_H7_MD-GCTGCAGGTCGAGATG-1.bam /home/bay001/projects/ryan_editing_20190314/permanent_data/49_SAILOR_on_47/bam_files/Apo_Control_polyA_H7_MD-CGAGTTAGTATGGGAC-1.bam /home/bay001/projects/ryan_editing_20190314/permanent_data/49_SAILOR_on_47/bam_files/Apo_Control_polyA_H7_MD-GTTATGGAGCCTCCAG-1.bam /home/bay001/projects/ryan_editing_20190314/permanent_data/49_SAILOR_on_47/bam_files/Apo_Control_polyA_H7_MD-ACAGAAACAGGCGAAT-1.bam /home/bay001/projects/ryan_editing_20190314/permanent_data/49_SAILOR_on_47/bam_files/Apo_Control_polyA_H7_MD-GAGACCCAGAAACTCA-1.bam /home/bay001/projects/ryan_editing_20190314/permanent_data/49_SAILOR_on_47/bam_files/Apo_Control_polyA_H7_MD-CTGATCCAGGTTCCGC-1.bam /home/bay001/projects/ryan_editing_20190314/permanent_data/49_SAILOR_on_47/bam_files/Apo_Control_polyA_H7_MD-TCTCAGCTCACTGAAC-1.bam /home/bay001/projects/ryan_editing_20190314/permanent_data/49_SAILOR_on_47/bam_files/Apo_Control_polyA_H7_MD-TTCCTCTGTACGGTTT-1.bam /home/bay001/projects/ryan_editing_20190314/permanent_data/49_SAILOR_on_47/bam_files/Apo_Control_polyA_H7_MD-TCGACGGAGGTCACAG-1.bam /home/bay001/projects/ryan_editing_20190314/permanent_data/49_SAILOR_on_47/bam_files/Apo_Control_polyA_H7_MD-AGTACTGTCTACTCAT-1.bam /home/bay001/projects/ryan_editing_20190314/permanent_data/49_SAILOR_on_47/bam_files/Apo_Control_polyA_H7_MD-ATGCCTCAGCGGCTCT-1.bam /home/bay001/projects/ryan_editing_20190314/permanent_data/49_SAILOR_on_47/bam_files/Apo_Control_polyA_H7_MD-ACTTATCAGTCGCCCA-1.bam /home/bay001/projects/ryan_editing_20190314/permanent_data/49_SAILOR_on_47/bam_files/Apo_Control_polyA_H7_MD-GTGGGAAGTTCGGGTC-1.bam /home/bay001/projects/ryan_editing_20190314/permanent_data/49_SAILOR_on_47/bam_files/Apo_Control_polyA_H7_MD-CCTATCGCAGTCTACA-1.bam /home/bay001/projects/ryan_editing_20190314/permanent_data/49_SAILOR_on_47/bam_files/Apo_Control_polyA_H7_MD-TTAGTCTTCCATTTCA-1.bam /home/bay001/projects/ryan_editing_20190314/permanent_data/49_SAILOR_on_47/bam_files/Apo_Control_polyA_H7_MD-GATGGAGTCTAGTGTG-1.bam /home/bay001/projects/ryan_editing_20190314/permanent_data/49_SAILOR_on_47/bam_files/Apo_Control_polyA_H7_MD-CAACCTCAGAAGCCTG-1.bam /home/bay001/projects/ryan_editing_20190314/permanent_data/49_SAILOR_on_47/bam_files/Apo_Control_polyA_H7_MD-GAAGGGTGTGGTCTGC-1.bam /home/bay001/projects/ryan_editing_20190314/permanent_data/49_SAILOR_on_47/bam_files/Apo_Control_polyA_H7_MD-GTATTTCCAACGGCCT-1.bam /home/bay001/projects/ryan_editing_20190314/permanent_data/49_SAILOR_on_47/bam_files/Apo_Control_polyA_H7_MD-GTGCAGCTCTTCGTGC-1.bam /home/bay001/projects/ryan_editing_20190314/permanent_data/49_SAILOR_on_47/bam_files/Apo_Control_polyA_H7_MD-TTCCAATGTGTATCCA-1.bam /home/bay001/projects/ryan_editing_20190314/permanent_data/49_SAILOR_on_47/bam_files/Apo_Control_polyA_H7_MD-CTCAACCCATACATCG-1.bam /home/bay001/projects/ryan_editing_20190314/permanent_data/49_SAILOR_on_47/bam_files/Apo_Control_polyA_H7_MD-GACACGCAGACCAACG-1.bam /home/bay001/projects/ryan_editing_20190314/permanent_data/49_SAILOR_on_47/bam_files/Apo_Control_polyA_H7_MD-TACCGAAGTTCGGACC-1.bam /home/bay001/projects/ryan_editing_20190314/permanent_data/49_SAILOR_on_47/bam_files/Apo_Control_polyA_H7_MD-GTGGTTACAGACCTAT-1.bam /home/bay001/projects/ryan_editing_20190314/permanent_data/49_SAILOR_on_47/bam_files/Apo_Control_polyA_H7_MD-AAACGCTCATCTAACG-1.bam /home/bay001/projects/ryan_editing_20190314/permanent_data/49_SAILOR_on_47/bam_files/Apo_Control_polyA_H7_MD-CGTCCATAGGCTCAAG-1.bam /home/bay001/projects/ryan_editing_20190314/permanent_data/49_SAILOR_on_47/bam_files/Apo_Control_polyA_H7_MD-ATCAGGTGTATCGTTG-1.bam /home/bay001/projects/ryan_editing_20190314/permanent_data/49_SAILOR_on_47/bam_files/Apo_Control_polyA_H7_MD-CCTGTTGAGTTCATGC-1.bam /home/bay001/projects/ryan_editing_20190314/permanent_data/49_SAILOR_on_47/bam_files/Apo_Control_polyA_H7_MD-CAACGGCAGCAATAGT-1.bam /home/bay001/projects/ryan_editing_20190314/permanent_data/49_SAILOR_on_47/bam_files/Apo_Control_polyA_H7_MD-TCTGCCAAGCAGCCTC-1.bam /home/bay001/projects/ryan_editing_20190314/permanent_data/49_SAILOR_on_47/bam_files/Apo_Control_polyA_H7_MD-GGTGATTGTACTCGTA-1.bam /home/bay001/projects/ryan_editing_20190314/permanent_data/49_SAILOR_on_47/bam_files/Apo_Control_polyA_H7_MD-GGAGAACTCAATGTCG-1.bam /home/bay001/projects/ryan_editing_20190314/permanent_data/49_SAILOR_on_47/bam_files/Apo_Control_polyA_H7_MD-TGGATGTTCGTTCCCA-1.bam /home/bay001/projects/ryan_editing_20190314/permanent_data/49_SAILOR_on_47/bam_files/Apo_Control_polyA_H7_MD-GTACAACGTTCTAAGC-1.bam /home/bay001/projects/ryan_editing_20190314/permanent_data/49_SAILOR_on_47/bam_files/Apo_Control_polyA_H7_MD-ACTGCAAGTCTCGGGT-1.bam /home/bay001/projects/ryan_editing_20190314/permanent_data/49_SAILOR_on_47/bam_files/Apo_Control_polyA_H7_MD-GGGTTATTCCATTCAT-1.bam /home/bay001/projects/ryan_editing_20190314/permanent_data/49_SAILOR_on_47/bam_files/Apo_Control_polyA_H7_MD-TTGAACGAGTCTCGTA-1.bam /home/bay001/projects/ryan_editing_20190314/permanent_data/49_SAILOR_on_47/bam_files/Apo_Control_polyA_H7_MD-TACTTGTAGACAACAT-1.bam /home/bay001/projects/ryan_editing_20190314/permanent_data/49_SAILOR_on_47/bam_files/Apo_Control_polyA_H7_MD-ACGGGTCAGCATGCAG-1.bam /home/bay001/projects/ryan_editing_20190314/permanent_data/49_SAILOR_on_47/bam_files/Apo_Control_polyA_H7_MD-GAAGCCCAGCGTGCTC-1.bam /home/bay001/projects/ryan_editing_20190314/permanent_data/49_SAILOR_on_47/bam_files/Apo_Control_polyA_H7_MD-GTAGGTTTCACAAGGG-1.bam /home/bay001/projects/ryan_editing_20190314/permanent_data/49_SAILOR_on_47/bam_files/Apo_Control_polyA_H7_MD-GACTATGAGGCTGAAC-1.bam /home/bay001/projects/ryan_editing_20190314/permanent_data/49_SAILOR_on_47/bam_files/Apo_Control_polyA_H7_MD-AGGGTCCTCTGCGGAC-1.bam /home/bay001/projects/ryan_editing_20190314/permanent_data/49_SAILOR_on_47/bam_files/Apo_Control_polyA_H7_MD-ACTTATCAGTCACACT-1.bam /home/bay001/projects/ryan_editing_20190314/permanent_data/49_SAILOR_on_47/bam_files/Apo_Control_polyA_H7_MD-CTCCTCCGTCATCCGG-1.bam /home/bay001/projects/ryan_editing_20190314/permanent_data/49_SAILOR_on_47/bam_files/Apo_Control_polyA_H7_MD-TTCCTTCCAGAGATTA-1.bam /home/bay001/projects/ryan_editing_20190314/permanent_data/49_SAILOR_on_47/bam_files/Apo_Control_polyA_H7_MD-GATGCTAAGACAGCGT-1.bam /home/bay001/projects/ryan_editing_20190314/permanent_data/49_SAILOR_on_47/bam_files/Apo_Control_polyA_H7_MD-CTGCCATGTGTGTCCG-1.bam /home/bay001/projects/ryan_editing_20190314/permanent_data/49_SAILOR_on_47/bam_files/Apo_Control_polyA_H7_MD-CCGTTCAGTATCGCGC-1.bam /home/bay001/projects/ryan_editing_20190314/permanent_data/49_SAILOR_on_47/bam_files/Apo_Control_polyA_H7_MD-TTGCCTGGTGTCTTAG-1.bam /home/bay001/projects/ryan_editing_20190314/permanent_data/49_SAILOR_on_47/bam_files/Apo_Control_polyA_H7_MD-TTTATGCTCAGGCGAA-1.bam /home/bay001/projects/ryan_editing_20190314/permanent_data/49_SAILOR_on_47/bam_files/Apo_Control_polyA_H7_MD-TGCAGTATCGATACAC-1.bam /home/bay001/projects/ryan_editing_20190314/permanent_data/49_SAILOR_on_47/bam_files/Apo_Control_polyA_H7_MD-GCTGGGTGTGCCAAGA-1.bam /home/bay001/projects/ryan_editing_20190314/permanent_data/49_SAILOR_on_47/bam_files/Apo_Control_polyA_H7_MD-GTATTGGGTGGCTCTG-1.bam /home/bay001/projects/ryan_editing_20190314/permanent_data/49_SAILOR_on_47/bam_files/Apo_Control_polyA_H7_MD-GGAATCTGTACCCGAC-1.bam /home/bay001/projects/ryan_editing_20190314/permanent_data/49_SAILOR_on_47/bam_files/Apo_Control_polyA_H7_MD-AGGGTGACATTATGCG-1.bam /home/bay001/projects/ryan_editing_20190314/permanent_data/49_SAILOR_on_47/bam_files/Apo_Control_polyA_H7_MD-AACGTCAAGGTATAGT-1.bam /home/bay001/projects/ryan_editing_20190314/permanent_data/49_SAILOR_on_47/bam_files/Apo_Control_polyA_H7_MD-TTCCGTGTCACGGGAA-1.bam /home/bay001/projects/ryan_editing_20190314/permanent_data/49_SAILOR_on_47/bam_files/Apo_Control_polyA_H7_MD-TCTTAGTTCACTCCGT-1.bam /home/bay001/projects/ryan_editing_20190314/permanent_data/49_SAILOR_on_47/bam_files/Apo_Control_polyA_H7_MD-TGATTCTGTCAATCTG-1.bam /home/bay001/projects/ryan_editing_20190314/permanent_data/49_SAILOR_on_47/bam_files/Apo_Control_polyA_H7_MD-GTCCACTGTCCCACGA-1.bam /home/bay001/projects/ryan_editing_20190314/permanent_data/49_SAILOR_on_47/bam_files/Apo_Control_polyA_H7_MD-GGCTTTCAGGCTCAAG-1.bam /home/bay001/projects/ryan_editing_20190314/permanent_data/49_SAILOR_on_47/bam_files/Apo_Control_polyA_H7_MD-ACCACAAGTGGTCCCA-1.bam /home/bay001/projects/ryan_editing_20190314/permanent_data/49_SAILOR_on_47/bam_files/Apo_Control_polyA_H7_MD-ATTCTACGTCAGACGA-1.bam /home/bay001/projects/ryan_editing_20190314/permanent_data/49_SAILOR_on_47/bam_files/Apo_Control_polyA_H7_MD-ACGATCATCGGAAACG-1.bam /home/bay001/projects/ryan_editing_20190314/permanent_data/49_SAILOR_on_47/bam_files/Apo_Control_polyA_H7_MD-TCGGTCTGTGAGATAT-1.bam /home/bay001/projects/ryan_editing_20190314/permanent_data/49_SAILOR_on_47/bam_files/Apo_Control_polyA_H7_MD-TCGGGACTCGCGTAGC-1.bam /home/bay001/projects/ryan_editing_20190314/permanent_data/49_SAILOR_on_47/bam_files/Apo_Control_polyA_H7_MD-GAATCACTCTGCATGA-1.bam /home/bay001/projects/ryan_editing_20190314/permanent_data/49_SAILOR_on_47/bam_files/Apo_Control_polyA_H7_MD-CCTAACCTCATGACAC-1.bam /home/bay001/projects/ryan_editing_20190314/permanent_data/49_SAILOR_on_47/bam_files/Apo_Control_polyA_H7_MD-CCACTTGTCCGCACTT-1.bam /home/bay001/projects/ryan_editing_20190314/permanent_data/49_SAILOR_on_47/bam_files/Apo_Control_polyA_H7_MD-GAACACTTCCGTCACT-1.bam /home/bay001/projects/ryan_editing_20190314/permanent_data/49_SAILOR_on_47/bam_files/Apo_Control_polyA_H7_MD-CTTCCGAGTTCTATCT-1.bam /home/bay001/projects/ryan_editing_20190314/permanent_data/49_SAILOR_on_47/bam_files/Apo_Control_polyA_H7_MD-GGAATGGGTCGGAAAC-1.bam /home/bay001/projects/ryan_editing_20190314/permanent_data/49_SAILOR_on_47/bam_files/Apo_Control_polyA_H7_MD-GTTCATTGTACCCGCA-1.bam /home/bay001/projects/ryan_editing_20190314/permanent_data/49_SAILOR_on_47/bam_files/Apo_Control_polyA_H7_MD-ATTTACCCAACAGTGG-1.bam /home/bay001/projects/ryan_editing_20190314/permanent_data/49_SAILOR_on_47/bam_files/Apo_Control_polyA_H7_MD-TCTTCCTCACCAATTG-1.bam /home/bay001/projects/ryan_editing_20190314/permanent_data/49_SAILOR_on_47/bam_files/Apo_Control_polyA_H7_MD-GAGACTTCAGGCTTGC-1.bam /home/bay001/projects/ryan_editing_20190314/permanent_data/49_SAILOR_on_47/bam_files/Apo_Control_polyA_H7_MD-TATTGGGAGCCGAATG-1.bam /home/bay001/projects/ryan_editing_20190314/permanent_data/49_SAILOR_on_47/bam_files/Apo_Control_polyA_H7_MD-ATCACGACAGCGATTT-1.bam /home/bay001/projects/ryan_editing_20190314/permanent_data/49_SAILOR_on_47/bam_files/Apo_Control_polyA_H7_MD-TCCATCGTCTTAGCAG-1.bam /home/bay001/projects/ryan_editing_20190314/permanent_data/49_SAILOR_on_47/bam_files/Apo_Control_polyA_H7_MD-GGGCTCACATGTGGTT-1.bam /home/bay001/projects/ryan_editing_20190314/permanent_data/49_SAILOR_on_47/bam_files/Apo_Control_polyA_H7_MD-TGAGTCATCTCGGGAC-1.bam /home/bay001/projects/ryan_editing_20190314/permanent_data/49_SAILOR_on_47/bam_files/Apo_Control_polyA_H7_MD-TTGTGGATCCGACGGT-1.bam /home/bay001/projects/ryan_editing_20190314/permanent_data/49_SAILOR_on_47/bam_files/Apo_Control_polyA_H7_MD-GAAGTAAAGCGACCCT-1.bam /home/bay001/projects/ryan_editing_20190314/permanent_data/49_SAILOR_on_47/bam_files/Apo_Control_polyA_H7_MD-TTGCTGCCACATAACC-1.bam /home/bay001/projects/ryan_editing_20190314/permanent_data/49_SAILOR_on_47/bam_files/Apo_Control_polyA_H7_MD-CCTCCTCCACGAGGTA-1.bam /home/bay001/projects/ryan_editing_20190314/permanent_data/49_SAILOR_on_47/bam_files/Apo_Control_polyA_H7_MD-TCATACTAGTGCCCGT-1.bam /home/bay001/projects/ryan_editing_20190314/permanent_data/49_SAILOR_on_47/bam_files/Apo_Control_polyA_H7_MD-CTTCGGTAGGACTGGT-1.bam /home/bay001/projects/ryan_editing_20190314/permanent_data/49_SAILOR_on_47/bam_files/Apo_Control_polyA_H7_MD-GAGGGATCAAGTCATC-1.bam /home/bay001/projects/ryan_editing_20190314/permanent_data/49_SAILOR_on_47/bam_files/Apo_Control_polyA_H7_MD-TACTTGTTCTTCCGTG-1.bam ',\n",
       " 'samtools merge -f /home/bay001/projects/ryan_editing_20190314/permanent_data/49_SAILOR_on_47/bam_file_groups/Apo_polyA_H6_MD.S-phase-top100.bam /home/bay001/projects/ryan_editing_20190314/permanent_data/49_SAILOR_on_47/bam_files/Apo_Control_polyA_H7_MD-CGTCAAACAGATCCAT-1.bam /home/bay001/projects/ryan_editing_20190314/permanent_data/49_SAILOR_on_47/bam_files/Apo_Control_polyA_H7_MD-TACAGGTGTGTGTTTG-1.bam /home/bay001/projects/ryan_editing_20190314/permanent_data/49_SAILOR_on_47/bam_files/Apo_Control_polyA_H7_MD-TTTAGTCGTTGTGCCG-1.bam /home/bay001/projects/ryan_editing_20190314/permanent_data/49_SAILOR_on_47/bam_files/Apo_Control_polyA_H7_MD-AGGACTTCAACCGCCA-1.bam /home/bay001/projects/ryan_editing_20190314/permanent_data/49_SAILOR_on_47/bam_files/Apo_Control_polyA_H7_MD-GCTGGGTCACTGTTCC-1.bam /home/bay001/projects/ryan_editing_20190314/permanent_data/49_SAILOR_on_47/bam_files/Apo_Control_polyA_H7_MD-CCACACTCATATAGCC-1.bam /home/bay001/projects/ryan_editing_20190314/permanent_data/49_SAILOR_on_47/bam_files/Apo_Control_polyA_H7_MD-TACCCACGTAACATGA-1.bam /home/bay001/projects/ryan_editing_20190314/permanent_data/49_SAILOR_on_47/bam_files/Apo_Control_polyA_H7_MD-CGAGGCTCAAGCGAAC-1.bam /home/bay001/projects/ryan_editing_20190314/permanent_data/49_SAILOR_on_47/bam_files/Apo_Control_polyA_H7_MD-CATGCCTCAATAACCC-1.bam /home/bay001/projects/ryan_editing_20190314/permanent_data/49_SAILOR_on_47/bam_files/Apo_Control_polyA_H7_MD-ATCCATTAGACTCAAA-1.bam /home/bay001/projects/ryan_editing_20190314/permanent_data/49_SAILOR_on_47/bam_files/Apo_Control_polyA_H7_MD-GGTTCTCAGTAAAGCT-1.bam /home/bay001/projects/ryan_editing_20190314/permanent_data/49_SAILOR_on_47/bam_files/Apo_Control_polyA_H7_MD-AGGGTGAGTGGCTCTG-1.bam /home/bay001/projects/ryan_editing_20190314/permanent_data/49_SAILOR_on_47/bam_files/Apo_Control_polyA_H7_MD-GTCACTCTCAAACGTC-1.bam /home/bay001/projects/ryan_editing_20190314/permanent_data/49_SAILOR_on_47/bam_files/Apo_Control_polyA_H7_MD-AGCTTCCTCTTAATCC-1.bam /home/bay001/projects/ryan_editing_20190314/permanent_data/49_SAILOR_on_47/bam_files/Apo_Control_polyA_H7_MD-TTTGGTTCATGCTGCG-1.bam /home/bay001/projects/ryan_editing_20190314/permanent_data/49_SAILOR_on_47/bam_files/Apo_Control_polyA_H7_MD-GTAATGCAGCTAGATA-1.bam /home/bay001/projects/ryan_editing_20190314/permanent_data/49_SAILOR_on_47/bam_files/Apo_Control_polyA_H7_MD-ACCTGTCCACGGAAGT-1.bam /home/bay001/projects/ryan_editing_20190314/permanent_data/49_SAILOR_on_47/bam_files/Apo_Control_polyA_H7_MD-AGTCAACGTTTCGGCG-1.bam /home/bay001/projects/ryan_editing_20190314/permanent_data/49_SAILOR_on_47/bam_files/Apo_Control_polyA_H7_MD-AGATGCTGTCGAATGG-1.bam /home/bay001/projects/ryan_editing_20190314/permanent_data/49_SAILOR_on_47/bam_files/Apo_Control_polyA_H7_MD-GGTCACGCATGTCTAG-1.bam /home/bay001/projects/ryan_editing_20190314/permanent_data/49_SAILOR_on_47/bam_files/Apo_Control_polyA_H7_MD-AGGCATTGTCGCAGTC-1.bam /home/bay001/projects/ryan_editing_20190314/permanent_data/49_SAILOR_on_47/bam_files/Apo_Control_polyA_H7_MD-CGAGAAGAGAGTCTTC-1.bam /home/bay001/projects/ryan_editing_20190314/permanent_data/49_SAILOR_on_47/bam_files/Apo_Control_polyA_H7_MD-CGAGTTACACCAGCGT-1.bam /home/bay001/projects/ryan_editing_20190314/permanent_data/49_SAILOR_on_47/bam_files/Apo_Control_polyA_H7_MD-AAACGAAAGAGTTGTA-1.bam /home/bay001/projects/ryan_editing_20190314/permanent_data/49_SAILOR_on_47/bam_files/Apo_Control_polyA_H7_MD-GAGTGTTCACGCTGTG-1.bam /home/bay001/projects/ryan_editing_20190314/permanent_data/49_SAILOR_on_47/bam_files/Apo_Control_polyA_H7_MD-GCTCAAATCGTAGTCA-1.bam /home/bay001/projects/ryan_editing_20190314/permanent_data/49_SAILOR_on_47/bam_files/Apo_Control_polyA_H7_MD-AGCGTATAGTGGTGAC-1.bam /home/bay001/projects/ryan_editing_20190314/permanent_data/49_SAILOR_on_47/bam_files/Apo_Control_polyA_H7_MD-AACAACCTCCACGTGG-1.bam /home/bay001/projects/ryan_editing_20190314/permanent_data/49_SAILOR_on_47/bam_files/Apo_Control_polyA_H7_MD-CTGTACCAGCGGGTTA-1.bam /home/bay001/projects/ryan_editing_20190314/permanent_data/49_SAILOR_on_47/bam_files/Apo_Control_polyA_H7_MD-AGTAGTCCATATTCGG-1.bam /home/bay001/projects/ryan_editing_20190314/permanent_data/49_SAILOR_on_47/bam_files/Apo_Control_polyA_H7_MD-TCATATCGTCTCTCCA-1.bam /home/bay001/projects/ryan_editing_20190314/permanent_data/49_SAILOR_on_47/bam_files/Apo_Control_polyA_H7_MD-CACTTCGCACATTCTT-1.bam /home/bay001/projects/ryan_editing_20190314/permanent_data/49_SAILOR_on_47/bam_files/Apo_Control_polyA_H7_MD-ACGGTTACAGGCTCTG-1.bam /home/bay001/projects/ryan_editing_20190314/permanent_data/49_SAILOR_on_47/bam_files/Apo_Control_polyA_H7_MD-TGTGAGTTCGCGCCAA-1.bam /home/bay001/projects/ryan_editing_20190314/permanent_data/49_SAILOR_on_47/bam_files/Apo_Control_polyA_H7_MD-ACTTCCGAGGCCACTC-1.bam /home/bay001/projects/ryan_editing_20190314/permanent_data/49_SAILOR_on_47/bam_files/Apo_Control_polyA_H7_MD-GACACGCTCGCTTAAG-1.bam /home/bay001/projects/ryan_editing_20190314/permanent_data/49_SAILOR_on_47/bam_files/Apo_Control_polyA_H7_MD-ATGACCACATTCAGCA-1.bam /home/bay001/projects/ryan_editing_20190314/permanent_data/49_SAILOR_on_47/bam_files/Apo_Control_polyA_H7_MD-TCCGATCAGACGCCCT-1.bam /home/bay001/projects/ryan_editing_20190314/permanent_data/49_SAILOR_on_47/bam_files/Apo_Control_polyA_H7_MD-CCTCCTCGTTCTCTAT-1.bam /home/bay001/projects/ryan_editing_20190314/permanent_data/49_SAILOR_on_47/bam_files/Apo_Control_polyA_H7_MD-TTGCCTGGTAATCAGA-1.bam /home/bay001/projects/ryan_editing_20190314/permanent_data/49_SAILOR_on_47/bam_files/Apo_Control_polyA_H7_MD-TGAGTCAAGCAGCGAT-1.bam /home/bay001/projects/ryan_editing_20190314/permanent_data/49_SAILOR_on_47/bam_files/Apo_Control_polyA_H7_MD-CGAGAAGAGCGCCTAC-1.bam /home/bay001/projects/ryan_editing_20190314/permanent_data/49_SAILOR_on_47/bam_files/Apo_Control_polyA_H7_MD-AGACACTTCGAGAGAC-1.bam /home/bay001/projects/ryan_editing_20190314/permanent_data/49_SAILOR_on_47/bam_files/Apo_Control_polyA_H7_MD-GTTCGCTTCTCGCGTT-1.bam /home/bay001/projects/ryan_editing_20190314/permanent_data/49_SAILOR_on_47/bam_files/Apo_Control_polyA_H7_MD-TGCGATACAAGGTCGA-1.bam /home/bay001/projects/ryan_editing_20190314/permanent_data/49_SAILOR_on_47/bam_files/Apo_Control_polyA_H7_MD-GATCCCTGTACCGGAA-1.bam /home/bay001/projects/ryan_editing_20190314/permanent_data/49_SAILOR_on_47/bam_files/Apo_Control_polyA_H7_MD-AGCCAGCGTGTTACTG-1.bam /home/bay001/projects/ryan_editing_20190314/permanent_data/49_SAILOR_on_47/bam_files/Apo_Control_polyA_H7_MD-CTGCATCTCGCACTCT-1.bam /home/bay001/projects/ryan_editing_20190314/permanent_data/49_SAILOR_on_47/bam_files/Apo_Control_polyA_H7_MD-CTCCCAAAGGTAATCA-1.bam /home/bay001/projects/ryan_editing_20190314/permanent_data/49_SAILOR_on_47/bam_files/Apo_Control_polyA_H7_MD-GACTGATAGTGCAGCA-1.bam /home/bay001/projects/ryan_editing_20190314/permanent_data/49_SAILOR_on_47/bam_files/Apo_Control_polyA_H7_MD-GCGGATCTCTCGGTAA-1.bam /home/bay001/projects/ryan_editing_20190314/permanent_data/49_SAILOR_on_47/bam_files/Apo_Control_polyA_H7_MD-CTCCAACCAAAGTATG-1.bam /home/bay001/projects/ryan_editing_20190314/permanent_data/49_SAILOR_on_47/bam_files/Apo_Control_polyA_H7_MD-CGCGTGACAGAGAAAG-1.bam /home/bay001/projects/ryan_editing_20190314/permanent_data/49_SAILOR_on_47/bam_files/Apo_Control_polyA_H7_MD-GTCTTTACATCAGCTA-1.bam /home/bay001/projects/ryan_editing_20190314/permanent_data/49_SAILOR_on_47/bam_files/Apo_Control_polyA_H7_MD-ATCCACCAGTAGCCAG-1.bam /home/bay001/projects/ryan_editing_20190314/permanent_data/49_SAILOR_on_47/bam_files/Apo_Control_polyA_H7_MD-ATGCGATGTACTAGCT-1.bam /home/bay001/projects/ryan_editing_20190314/permanent_data/49_SAILOR_on_47/bam_files/Apo_Control_polyA_H7_MD-CTCGAGGCAGCTCCTT-1.bam /home/bay001/projects/ryan_editing_20190314/permanent_data/49_SAILOR_on_47/bam_files/Apo_Control_polyA_H7_MD-TCTGTCGGTACTGCCG-1.bam /home/bay001/projects/ryan_editing_20190314/permanent_data/49_SAILOR_on_47/bam_files/Apo_Control_polyA_H7_MD-TGGATGTGTACGATTC-1.bam /home/bay001/projects/ryan_editing_20190314/permanent_data/49_SAILOR_on_47/bam_files/Apo_Control_polyA_H7_MD-GTCAGCGAGGAACTAT-1.bam /home/bay001/projects/ryan_editing_20190314/permanent_data/49_SAILOR_on_47/bam_files/Apo_Control_polyA_H7_MD-ACTATCTGTATGTCAC-1.bam /home/bay001/projects/ryan_editing_20190314/permanent_data/49_SAILOR_on_47/bam_files/Apo_Control_polyA_H7_MD-TGTTACTAGAGCATTA-1.bam /home/bay001/projects/ryan_editing_20190314/permanent_data/49_SAILOR_on_47/bam_files/Apo_Control_polyA_H7_MD-ACTTATCCACACTTAG-1.bam /home/bay001/projects/ryan_editing_20190314/permanent_data/49_SAILOR_on_47/bam_files/Apo_Control_polyA_H7_MD-TAACCAGTCACGTAGT-1.bam /home/bay001/projects/ryan_editing_20190314/permanent_data/49_SAILOR_on_47/bam_files/Apo_Control_polyA_H7_MD-GTGGTTAGTGGAAGTC-1.bam /home/bay001/projects/ryan_editing_20190314/permanent_data/49_SAILOR_on_47/bam_files/Apo_Control_polyA_H7_MD-CTCCACATCTCCCTAG-1.bam /home/bay001/projects/ryan_editing_20190314/permanent_data/49_SAILOR_on_47/bam_files/Apo_Control_polyA_H7_MD-TCCCACACAATCCAGT-1.bam /home/bay001/projects/ryan_editing_20190314/permanent_data/49_SAILOR_on_47/bam_files/Apo_Control_polyA_H7_MD-CCCTTAGTCCTATGGA-1.bam /home/bay001/projects/ryan_editing_20190314/permanent_data/49_SAILOR_on_47/bam_files/Apo_Control_polyA_H7_MD-TATTCCAAGTATGATG-1.bam /home/bay001/projects/ryan_editing_20190314/permanent_data/49_SAILOR_on_47/bam_files/Apo_Control_polyA_H7_MD-TCATCATGTAACGGTG-1.bam /home/bay001/projects/ryan_editing_20190314/permanent_data/49_SAILOR_on_47/bam_files/Apo_Control_polyA_H7_MD-TCTATACTCAATCCAG-1.bam /home/bay001/projects/ryan_editing_20190314/permanent_data/49_SAILOR_on_47/bam_files/Apo_Control_polyA_H7_MD-GAGTTACTCATTCGTT-1.bam /home/bay001/projects/ryan_editing_20190314/permanent_data/49_SAILOR_on_47/bam_files/Apo_Control_polyA_H7_MD-GCGAGAAGTACCGGAA-1.bam /home/bay001/projects/ryan_editing_20190314/permanent_data/49_SAILOR_on_47/bam_files/Apo_Control_polyA_H7_MD-CTTTCAAAGTCTGCGC-1.bam /home/bay001/projects/ryan_editing_20190314/permanent_data/49_SAILOR_on_47/bam_files/Apo_Control_polyA_H7_MD-CTCAATTTCAGACCTA-1.bam /home/bay001/projects/ryan_editing_20190314/permanent_data/49_SAILOR_on_47/bam_files/Apo_Control_polyA_H7_MD-AGGAATACATATCTCT-1.bam /home/bay001/projects/ryan_editing_20190314/permanent_data/49_SAILOR_on_47/bam_files/Apo_Control_polyA_H7_MD-TCTGCCACAACCAGAG-1.bam /home/bay001/projects/ryan_editing_20190314/permanent_data/49_SAILOR_on_47/bam_files/Apo_Control_polyA_H7_MD-GCATCGGTCATCTCTA-1.bam /home/bay001/projects/ryan_editing_20190314/permanent_data/49_SAILOR_on_47/bam_files/Apo_Control_polyA_H7_MD-GCTGAATGTAGAGATT-1.bam /home/bay001/projects/ryan_editing_20190314/permanent_data/49_SAILOR_on_47/bam_files/Apo_Control_polyA_H7_MD-TACAACGGTCCAGTTA-1.bam /home/bay001/projects/ryan_editing_20190314/permanent_data/49_SAILOR_on_47/bam_files/Apo_Control_polyA_H7_MD-AAGATAGTCTCATAGG-1.bam /home/bay001/projects/ryan_editing_20190314/permanent_data/49_SAILOR_on_47/bam_files/Apo_Control_polyA_H7_MD-CGGGCATCATGAGATA-1.bam /home/bay001/projects/ryan_editing_20190314/permanent_data/49_SAILOR_on_47/bam_files/Apo_Control_polyA_H7_MD-AGTGTTGAGTCCCGGT-1.bam /home/bay001/projects/ryan_editing_20190314/permanent_data/49_SAILOR_on_47/bam_files/Apo_Control_polyA_H7_MD-GATCCCTAGTTGTCAC-1.bam /home/bay001/projects/ryan_editing_20190314/permanent_data/49_SAILOR_on_47/bam_files/Apo_Control_polyA_H7_MD-AGTTCGATCCTGGCTT-1.bam /home/bay001/projects/ryan_editing_20190314/permanent_data/49_SAILOR_on_47/bam_files/Apo_Control_polyA_H7_MD-ATCCACCCAGGGACTA-1.bam /home/bay001/projects/ryan_editing_20190314/permanent_data/49_SAILOR_on_47/bam_files/Apo_Control_polyA_H7_MD-GAAGCCCCAATACGAA-1.bam /home/bay001/projects/ryan_editing_20190314/permanent_data/49_SAILOR_on_47/bam_files/Apo_Control_polyA_H7_MD-GTCCCATTCCTTCAGC-1.bam /home/bay001/projects/ryan_editing_20190314/permanent_data/49_SAILOR_on_47/bam_files/Apo_Control_polyA_H7_MD-CAACCTCAGGCCTAGA-1.bam /home/bay001/projects/ryan_editing_20190314/permanent_data/49_SAILOR_on_47/bam_files/Apo_Control_polyA_H7_MD-TTGTGTTCAATCCAGT-1.bam /home/bay001/projects/ryan_editing_20190314/permanent_data/49_SAILOR_on_47/bam_files/Apo_Control_polyA_H7_MD-TGGAGGAGTCGTTATG-1.bam /home/bay001/projects/ryan_editing_20190314/permanent_data/49_SAILOR_on_47/bam_files/Apo_Control_polyA_H7_MD-AGACCATGTAACATGA-1.bam /home/bay001/projects/ryan_editing_20190314/permanent_data/49_SAILOR_on_47/bam_files/Apo_Control_polyA_H7_MD-TCAGCAAAGAGTATAC-1.bam /home/bay001/projects/ryan_editing_20190314/permanent_data/49_SAILOR_on_47/bam_files/Apo_Control_polyA_H7_MD-ATGGGAGCACCGCTAG-1.bam /home/bay001/projects/ryan_editing_20190314/permanent_data/49_SAILOR_on_47/bam_files/Apo_Control_polyA_H7_MD-TGAGACTGTACAAGTA-1.bam /home/bay001/projects/ryan_editing_20190314/permanent_data/49_SAILOR_on_47/bam_files/Apo_Control_polyA_H7_MD-GGAGATGCATCATGAC-1.bam /home/bay001/projects/ryan_editing_20190314/permanent_data/49_SAILOR_on_47/bam_files/Apo_Control_polyA_H7_MD-CTGTCGTTCCAAGCTA-1.bam /home/bay001/projects/ryan_editing_20190314/permanent_data/49_SAILOR_on_47/bam_files/Apo_Control_polyA_H7_MD-GATGAGGTCGGTGTTA-1.bam /home/bay001/projects/ryan_editing_20190314/permanent_data/49_SAILOR_on_47/bam_files/Apo_Control_polyA_H7_MD-TTGGGATTCATTCTTG-1.bam /home/bay001/projects/ryan_editing_20190314/permanent_data/49_SAILOR_on_47/bam_files/Apo_Control_polyA_H7_MD-TGTCCCAGTGTTGAGG-1.bam ']"
      ]
     },
     "execution_count": 26,
     "metadata": {},
     "output_type": "execute_result"
    }
   ],
   "source": [
    "groups = OrderedDict({\n",
    "    'Apo_polyA_H6_MD.G2M-phase-top100.bam' : list(g2m_top100.index),\n",
    "    'Apo_polyA_H6_MD.S-phase-top100.bam' : list(s_top100.index),\n",
    "    'Apo_polyA_H6_MD.G1-phase-top100.bam' : list(g1_top100.index)\n",
    "})\n",
    "\n",
    "cmds = []\n",
    "for output_file, barcodes in groups.iteritems():\n",
    "    bam_list = []\n",
    "    for barcode in barcodes:\n",
    "        bam_list.append(get_bam_file_name_from_barcode(barcode, 'Apo'))\n",
    "\n",
    "    cmds.append(merge_barcodes_cmd(split_bam_file_dir, os.path.join(output_dir, output_file), bam_list))\n",
    "cmds"
   ]
  },
  {
   "cell_type": "code",
   "execution_count": 27,
   "metadata": {},
   "outputs": [
    {
     "name": "stderr",
     "output_type": "stream",
     "text": [
      "Writing 3 tasks as an array-job.\n",
      "Wrote commands to top100-merge-apo.sh.\n",
      "Submitted script to queue home.\n",
      " Job ID: 20955657\n"
     ]
    },
    {
     "data": {
      "text/plain": [
       "<qtools.submitter.Submitter at 0x2b7207a8d110>"
      ]
     },
     "execution_count": 27,
     "metadata": {},
     "output_type": "execute_result"
    }
   ],
   "source": [
    "Submitter(\n",
    "    commands=cmds,\n",
    "    job_name='top100-merge-apo',\n",
    "    sh='top100-merge-apo.sh',\n",
    "    array=True,\n",
    "    nodes=1,\n",
    "    ppn=1,\n",
    "    walltime='12:00:00',\n",
    "    submit=True,\n",
    ")"
   ]
  },
  {
   "cell_type": "code",
   "execution_count": null,
   "metadata": {},
   "outputs": [],
   "source": []
  }
 ],
 "metadata": {
  "kernelspec": {
   "display_name": "python2-essential",
   "language": "python",
   "name": "python2-essential"
  },
  "language_info": {
   "codemirror_mode": {
    "name": "ipython",
    "version": 2
   },
   "file_extension": ".py",
   "mimetype": "text/x-python",
   "name": "python",
   "nbconvert_exporter": "python",
   "pygments_lexer": "ipython2",
   "version": "2.7.15"
  }
 },
 "nbformat": 4,
 "nbformat_minor": 2
}
