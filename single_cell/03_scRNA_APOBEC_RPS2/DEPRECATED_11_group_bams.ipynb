{
 "cells": [
  {
   "cell_type": "markdown",
   "metadata": {},
   "source": [
    "# This analysis groups the individually-split-barcoded bams using Alex's APO control-only barcodes."
   ]
  },
  {
   "cell_type": "code",
   "execution_count": 1,
   "metadata": {},
   "outputs": [],
   "source": [
    "import pandas as pd\n",
    "import numpy as np\n",
    "import os\n",
    "import glob\n",
    "import pysam\n",
    "import time\n",
    "from collections import defaultdict\n",
    "from tqdm import tnrange, tqdm_notebook\n",
    "import random"
   ]
  },
  {
   "cell_type": "code",
   "execution_count": 2,
   "metadata": {},
   "outputs": [],
   "source": [
    "input_dir = '/home/bay001/projects/kris_apobec_20200121/permanent_data2/03_scRNA_APOBEC_RPS2/inputs/'\n",
    "split_bam_file_dir = '/home/bay001/projects/kris_apobec_20200121/permanent_data2/03_scRNA_APOBEC_RPS2/bam_files/'\n",
    "output_dir = '/home/bay001/projects/kris_apobec_20200121/permanent_data2/03_scRNA_APOBEC_RPS2/inputs/'"
   ]
  },
  {
   "cell_type": "markdown",
   "metadata": {},
   "source": [
    "# Read in expression values from Alex to help us decide which barcodes to look for/split."
   ]
  },
  {
   "cell_type": "code",
   "execution_count": 3,
   "metadata": {},
   "outputs": [
    {
     "data": {
      "text/html": [
       "<div>\n",
       "<style scoped>\n",
       "    .dataframe tbody tr th:only-of-type {\n",
       "        vertical-align: middle;\n",
       "    }\n",
       "\n",
       "    .dataframe tbody tr th {\n",
       "        vertical-align: top;\n",
       "    }\n",
       "\n",
       "    .dataframe thead th {\n",
       "        text-align: right;\n",
       "    }\n",
       "</style>\n",
       "<table border=\"1\" class=\"dataframe\">\n",
       "  <thead>\n",
       "    <tr style=\"text-align: right;\">\n",
       "      <th></th>\n",
       "      <th>batch</th>\n",
       "      <th>new_clusters</th>\n",
       "    </tr>\n",
       "    <tr>\n",
       "      <th>index</th>\n",
       "      <th></th>\n",
       "      <th></th>\n",
       "    </tr>\n",
       "  </thead>\n",
       "  <tbody>\n",
       "    <tr>\n",
       "      <th>Apo_Control_possorted_genome_bam_MD-AAACCCAAGCCAGTAG-1-Apo-Edits</th>\n",
       "      <td>Apo-Edits</td>\n",
       "      <td>APOBEC_STAMP</td>\n",
       "    </tr>\n",
       "    <tr>\n",
       "      <th>Apo_Control_possorted_genome_bam_MD-AAACCCAAGGATGCGT-1-Apo-Edits</th>\n",
       "      <td>Apo-Edits</td>\n",
       "      <td>APOBEC_STAMP</td>\n",
       "    </tr>\n",
       "    <tr>\n",
       "      <th>Apo_Control_possorted_genome_bam_MD-AAACCCACAATACAGA-1-Apo-Edits</th>\n",
       "      <td>Apo-Edits</td>\n",
       "      <td>APOBEC_STAMP</td>\n",
       "    </tr>\n",
       "    <tr>\n",
       "      <th>Apo_Control_possorted_genome_bam_MD-AAACCCACACGCAGTC-1-Apo-Edits</th>\n",
       "      <td>Apo-Edits</td>\n",
       "      <td>APOBEC_STAMP</td>\n",
       "    </tr>\n",
       "    <tr>\n",
       "      <th>Apo_Control_possorted_genome_bam_MD-AAACCCACAGAACATA-1-Apo-Edits</th>\n",
       "      <td>Apo-Edits</td>\n",
       "      <td>APOBEC_STAMP</td>\n",
       "    </tr>\n",
       "  </tbody>\n",
       "</table>\n",
       "</div>"
      ],
      "text/plain": [
       "                                                        batch  new_clusters\n",
       "index                                                                      \n",
       "Apo_Control_possorted_genome_bam_MD-AAACCCAAGCC...  Apo-Edits  APOBEC_STAMP\n",
       "Apo_Control_possorted_genome_bam_MD-AAACCCAAGGA...  Apo-Edits  APOBEC_STAMP\n",
       "Apo_Control_possorted_genome_bam_MD-AAACCCACAAT...  Apo-Edits  APOBEC_STAMP\n",
       "Apo_Control_possorted_genome_bam_MD-AAACCCACACG...  Apo-Edits  APOBEC_STAMP\n",
       "Apo_Control_possorted_genome_bam_MD-AAACCCACAGA...  Apo-Edits  APOBEC_STAMP"
      ]
     },
     "execution_count": 3,
     "metadata": {},
     "output_type": "execute_result"
    }
   ],
   "source": [
    "table = pd.read_csv(os.path.join(input_dir, 'For_Motif_APO_edits_barcodes.csv'), index_col=0)\n",
    "\n",
    "table.head()"
   ]
  },
  {
   "cell_type": "code",
   "execution_count": null,
   "metadata": {},
   "outputs": [],
   "source": []
  },
  {
   "cell_type": "markdown",
   "metadata": {},
   "source": [
    "# Let's reformat this index to match what the barcodes actually are."
   ]
  },
  {
   "cell_type": "code",
   "execution_count": 4,
   "metadata": {},
   "outputs": [
    {
     "name": "stdout",
     "output_type": "stream",
     "text": [
      "/home/bay001/projects/kris_apobec_20200121/permanent_data2/03_scRNA_APOBEC_RPS2/bam_files/Apo_Control_possorted_genome_bam_MD-AAACCCAAGCCAGTAG-1.bam\n"
     ]
    }
   ],
   "source": [
    "def get_bam_file_name_from_index(index_name, split_bam_file_dir=split_bam_file_dir):\n",
    "    return os.path.join(split_bam_file_dir, index_name.replace('-Apo-Edits','.bam'))\n",
    "\n",
    "# test it out\n",
    "test_bam = get_bam_file_name_from_index(table.iloc[0].name)\n",
    "print(test_bam)\n",
    "assert os.path.exists(test_bam)"
   ]
  },
  {
   "cell_type": "code",
   "execution_count": 5,
   "metadata": {},
   "outputs": [
    {
     "name": "stdout",
     "output_type": "stream",
     "text": [
      "AAACCCAAGCCAGTAG-1\n"
     ]
    }
   ],
   "source": [
    "def get_barcode_from_index(index_name):\n",
    "    return index_name.replace('-Apo-Edits','').replace('Apo_Control_possorted_genome_bam_MD-','')\n",
    "\n",
    "# test it out\n",
    "test_barcode = get_barcode_from_index(table.iloc[0].name)\n",
    "print(test_barcode)"
   ]
  },
  {
   "cell_type": "code",
   "execution_count": 6,
   "metadata": {},
   "outputs": [
    {
     "data": {
      "text/plain": [
       "APOBEC_STAMP    8084\n",
       "TIA1_STAMP        19\n",
       "RBFOX2_STAMP      14\n",
       "Name: new_clusters, dtype: int64"
      ]
     },
     "execution_count": 6,
     "metadata": {},
     "output_type": "execute_result"
    }
   ],
   "source": [
    "table['new_clusters'].value_counts()"
   ]
  },
  {
   "cell_type": "markdown",
   "metadata": {},
   "source": [
    "# The next code block ensure that the split-bam files from the previous notebook were all made. If not, we might be using the wrong file!\n",
    "- This is the same code as the previous notebook, just making extra sure that we've got everything."
   ]
  },
  {
   "cell_type": "code",
   "execution_count": 7,
   "metadata": {},
   "outputs": [
    {
     "data": {
      "application/vnd.jupyter.widget-view+json": {
       "model_id": "a2832b58ccd04bcaa31494333d9c6787",
       "version_major": 2,
       "version_minor": 0
      },
      "text/plain": [
       "HBox(children=(IntProgress(value=0, max=8117), HTML(value='')))"
      ]
     },
     "metadata": {},
     "output_type": "display_data"
    },
    {
     "name": "stdout",
     "output_type": "stream",
     "text": [
      "8117\n"
     ]
    },
    {
     "data": {
      "text/plain": [
       "['AAACCCAAGCCAGTAG-1', 'AAACCCAAGGATGCGT-1', 'AAACCCACAATACAGA-1']"
      ]
     },
     "execution_count": 7,
     "metadata": {},
     "output_type": "execute_result"
    }
   ],
   "source": [
    "apobec_indices = []\n",
    "progress = tnrange(len(table.index))\n",
    "for index in table.index:\n",
    "    bam_file = os.path.join(split_bam_file_dir, get_bam_file_name_from_index(index))\n",
    "    try:\n",
    "        assert os.path.exists(bam_file)\n",
    "        apobec_indices.append(get_barcode_from_index(index))\n",
    "    except AssertionError:\n",
    "        print(bam_file)\n",
    "    progress.update(1)\n",
    "    \n",
    "print(len(apobec_indices))\n",
    "apobec_indices[:3]"
   ]
  },
  {
   "cell_type": "markdown",
   "metadata": {},
   "source": [
    "# create groups\n",
    "- we need to group the individual barcodes"
   ]
  },
  {
   "cell_type": "code",
   "execution_count": 8,
   "metadata": {},
   "outputs": [
    {
     "name": "stdout",
     "output_type": "stream",
     "text": [
      "8117\n"
     ]
    }
   ],
   "source": [
    "apobec_indices = set(apobec_indices)\n",
    "print(len(apobec_indices))"
   ]
  },
  {
   "cell_type": "markdown",
   "metadata": {},
   "source": [
    "# We have too many barcodes (~2k) to run a merge command (argument list too long), so we need to cycle through the big BAM file and pull out barcodes that match the ones we want. "
   ]
  },
  {
   "cell_type": "code",
   "execution_count": 11,
   "metadata": {},
   "outputs": [
    {
     "name": "stdout",
     "output_type": "stream",
     "text": [
      "\n"
     ]
    },
    {
     "data": {
      "application/vnd.jupyter.widget-view+json": {
       "model_id": "9a0d2c695e9849cc879dba24e5ece285",
       "version_major": 2,
       "version_minor": 0
      },
      "text/plain": [
       "HBox(children=(IntProgress(value=0, max=650077059), HTML(value='')))"
      ]
     },
     "metadata": {},
     "output_type": "display_data"
    }
   ],
   "source": [
    "def get_readcount(bam_file):\n",
    "    \"\"\"\n",
    "    Parses a bam file idxstats to get the number of reads.\n",
    "    The BAM file MUST have an index.\n",
    "    \"\"\"\n",
    "    num_reads = pysam.idxstats(\n",
    "        bam_file\n",
    "    ).split('\\n')\n",
    "    nums = {}\n",
    "    for num in num_reads:\n",
    "        try:\n",
    "            chrom, chrlen, mapped, unmapped = num.split('\\t')\n",
    "            nums[chrom] = int(mapped) + int(unmapped)\n",
    "        except ValueError:\n",
    "            print(num)\n",
    "    return pd.DataFrame(nums, index=['num']).T.sum().values[0]\n",
    "\n",
    "\n",
    "if os.path.exists(os.path.join(output_dir, 'Apo_Control_possorted_genome_bam_MD.{}.bam'.format(\"For_Motif_APO_edits_barcodes\"))):\n",
    "    pass\n",
    "else:\n",
    "    samfile = pysam.AlignmentFile(os.path.join(input_dir, 'Apo_Control_possorted_genome_bam_MD.bam'), \"rb\")\n",
    "\n",
    "    progress = tnrange(get_readcount(os.path.join(input_dir, 'Apo_Control_possorted_genome_bam_MD.bam')))\n",
    "    s = pysam.AlignmentFile(os.path.join(output_dir, 'Apo_Control_possorted_genome_bam_MD.{}.bam'.format(\"For_Motif_APO_edits_barcodes\")), 'wb', template=samfile)\n",
    "    for read in samfile:\n",
    "        if (not read.is_unmapped) and (not read.is_secondary) and (not read.is_duplicate):  # get only primary mapped reads.\n",
    "            try:\n",
    "                barcode = read.get_tag('CB')  # identify read=assigned barcode\n",
    "                gene_annotation = read.get_tag('GX')  # \n",
    "                if barcode in apobec_indices:\n",
    "                    s.write(read)\n",
    "            except KeyError:\n",
    "                pass # no barcode or no GX tag, so 10X doesn't count this read and we shouldn't either.\n",
    "        progress.update(1)\n",
    "\n",
    "    s.close()"
   ]
  },
  {
   "cell_type": "code",
   "execution_count": null,
   "metadata": {},
   "outputs": [],
   "source": []
  }
 ],
 "metadata": {
  "kernelspec": {
   "display_name": "python3-essential",
   "language": "python",
   "name": "python3-essential"
  },
  "language_info": {
   "codemirror_mode": {
    "name": "ipython",
    "version": 3
   },
   "file_extension": ".py",
   "mimetype": "text/x-python",
   "name": "python",
   "nbconvert_exporter": "python",
   "pygments_lexer": "ipython3",
   "version": "3.6.7"
  }
 },
 "nbformat": 4,
 "nbformat_minor": 2
}
