{
 "cells": [
  {
   "cell_type": "markdown",
   "metadata": {},
   "source": [
    "- hey Brian sorry i’m having a little trouble locating individual barcode bams.  for the bedgraph of individual cells (like the top 100 cells used in the browser views in figs 5-7), the input bams would be in which directories?  i need to just glance at a handful of those with lenticommon mapped."
   ]
  },
  {
   "cell_type": "code",
   "execution_count": 1,
   "metadata": {},
   "outputs": [],
   "source": [
    "import pandas as pd\n",
    "import numpy as np\n",
    "import os\n",
    "import glob\n",
    "from tqdm import tnrange, tqdm_notebook\n",
    "pd.set_option('max_colwidth', 400)"
   ]
  },
  {
   "cell_type": "code",
   "execution_count": 2,
   "metadata": {},
   "outputs": [],
   "source": [
    "barcodes_file = '/home/bay001/projects/kris_apobec_20200121/permanent_data2/03_scRNA_APOBEC_RPS2/inputs/Top_100_apo_rps2_barcodes.xlsx'\n",
    "\n",
    "bam_dir = '/home/bay001/projects/kris_apobec_20200121/permanent_data2/03_scRNA_APOBEC_RPS2/bam_files'\n",
    "output_dir = '/home/bay001/projects/kris_apobec_20200121/permanent_data2/03_scRNA_APOBEC_RPS2/tmp/top100_bams_for_kris'"
   ]
  },
  {
   "cell_type": "code",
   "execution_count": 3,
   "metadata": {},
   "outputs": [
    {
     "data": {
      "text/html": [
       "<div>\n",
       "<style scoped>\n",
       "    .dataframe tbody tr th:only-of-type {\n",
       "        vertical-align: middle;\n",
       "    }\n",
       "\n",
       "    .dataframe tbody tr th {\n",
       "        vertical-align: top;\n",
       "    }\n",
       "\n",
       "    .dataframe thead th {\n",
       "        text-align: right;\n",
       "    }\n",
       "</style>\n",
       "<table border=\"1\" class=\"dataframe\">\n",
       "  <thead>\n",
       "    <tr style=\"text-align: right;\">\n",
       "      <th></th>\n",
       "      <th>barcode</th>\n",
       "      <th>class</th>\n",
       "      <th>n_edits</th>\n",
       "      <th>batch</th>\n",
       "      <th>rank</th>\n",
       "    </tr>\n",
       "  </thead>\n",
       "  <tbody>\n",
       "    <tr>\n",
       "      <th>0</th>\n",
       "      <td>RPS2_possorted_genome_bam_MD-CGGCAGTGTGCGTGCT-1-RPS2-Edits</td>\n",
       "      <td>RPS2-Edits</td>\n",
       "      <td>5.986034</td>\n",
       "      <td>RPS2-fSTAMP</td>\n",
       "      <td>1</td>\n",
       "    </tr>\n",
       "    <tr>\n",
       "      <th>1</th>\n",
       "      <td>RPS2_possorted_genome_bam_MD-ACTGTGATCAGACCGC-1-RPS2-Edits</td>\n",
       "      <td>RPS2-Edits</td>\n",
       "      <td>4.031267</td>\n",
       "      <td>RPS2-fSTAMP</td>\n",
       "      <td>2</td>\n",
       "    </tr>\n",
       "    <tr>\n",
       "      <th>2</th>\n",
       "      <td>RPS2_possorted_genome_bam_MD-GACCCAGCACTTCAAG-1-RPS2-Edits</td>\n",
       "      <td>RPS2-Edits</td>\n",
       "      <td>3.897882</td>\n",
       "      <td>RPS2-fSTAMP</td>\n",
       "      <td>3</td>\n",
       "    </tr>\n",
       "    <tr>\n",
       "      <th>3</th>\n",
       "      <td>RPS2_possorted_genome_bam_MD-CTCATCGGTCGAGCAA-1-RPS2-Edits</td>\n",
       "      <td>RPS2-Edits</td>\n",
       "      <td>3.826919</td>\n",
       "      <td>RPS2-fSTAMP</td>\n",
       "      <td>4</td>\n",
       "    </tr>\n",
       "    <tr>\n",
       "      <th>4</th>\n",
       "      <td>RPS2_possorted_genome_bam_MD-ACAGCCGAGCCTGGAA-1-RPS2-Edits</td>\n",
       "      <td>RPS2-Edits</td>\n",
       "      <td>3.793303</td>\n",
       "      <td>RPS2-fSTAMP</td>\n",
       "      <td>5</td>\n",
       "    </tr>\n",
       "  </tbody>\n",
       "</table>\n",
       "</div>"
      ],
      "text/plain": [
       "                                                      barcode       class  \\\n",
       "0  RPS2_possorted_genome_bam_MD-CGGCAGTGTGCGTGCT-1-RPS2-Edits  RPS2-Edits   \n",
       "1  RPS2_possorted_genome_bam_MD-ACTGTGATCAGACCGC-1-RPS2-Edits  RPS2-Edits   \n",
       "2  RPS2_possorted_genome_bam_MD-GACCCAGCACTTCAAG-1-RPS2-Edits  RPS2-Edits   \n",
       "3  RPS2_possorted_genome_bam_MD-CTCATCGGTCGAGCAA-1-RPS2-Edits  RPS2-Edits   \n",
       "4  RPS2_possorted_genome_bam_MD-ACAGCCGAGCCTGGAA-1-RPS2-Edits  RPS2-Edits   \n",
       "\n",
       "    n_edits        batch  rank  \n",
       "0  5.986034  RPS2-fSTAMP     1  \n",
       "1  4.031267  RPS2-fSTAMP     2  \n",
       "2  3.897882  RPS2-fSTAMP     3  \n",
       "3  3.826919  RPS2-fSTAMP     4  \n",
       "4  3.793303  RPS2-fSTAMP     5  "
      ]
     },
     "execution_count": 3,
     "metadata": {},
     "output_type": "execute_result"
    }
   ],
   "source": [
    "apo_barcodes = pd.read_excel(barcodes_file, sheet_name='Sheet1')\n",
    "apo_barcodes.sort_values(by=['n_edits'], ascending=False, inplace=True)\n",
    "apo_barcodes.reset_index(drop=True, inplace=True)\n",
    "apo_barcodes['rank'] = apo_barcodes.index + 1\n",
    "\n",
    "rps2_barcodes = pd.read_excel(barcodes_file, sheet_name='Sheet2')\n",
    "rps2_barcodes.sort_values(by=['n_edits'], ascending=False, inplace=True)\n",
    "rps2_barcodes.reset_index(drop=True, inplace=True)\n",
    "rps2_barcodes['rank'] = rps2_barcodes.index + 1\n",
    "\n",
    "rps2_barcodes.head()"
   ]
  },
  {
   "cell_type": "code",
   "execution_count": 4,
   "metadata": {},
   "outputs": [],
   "source": [
    "def get_bam_from_barcode_index(row, input_dir=bam_dir):\n",
    "    barcode = row['barcode']\n",
    "    bam = os.path.join(input_dir, '{}.bam'.format(barcode.replace('-Apo-Edits','').replace('-RPS2-Edits','')))\n",
    "    assert os.path.exists(bam)\n",
    "    return bam"
   ]
  },
  {
   "cell_type": "code",
   "execution_count": 5,
   "metadata": {},
   "outputs": [
    {
     "data": {
      "text/html": [
       "<div>\n",
       "<style scoped>\n",
       "    .dataframe tbody tr th:only-of-type {\n",
       "        vertical-align: middle;\n",
       "    }\n",
       "\n",
       "    .dataframe tbody tr th {\n",
       "        vertical-align: top;\n",
       "    }\n",
       "\n",
       "    .dataframe thead th {\n",
       "        text-align: right;\n",
       "    }\n",
       "</style>\n",
       "<table border=\"1\" class=\"dataframe\">\n",
       "  <thead>\n",
       "    <tr style=\"text-align: right;\">\n",
       "      <th></th>\n",
       "      <th>barcode</th>\n",
       "      <th>class</th>\n",
       "      <th>n_edits</th>\n",
       "      <th>batch</th>\n",
       "      <th>rank</th>\n",
       "      <th>bam</th>\n",
       "    </tr>\n",
       "  </thead>\n",
       "  <tbody>\n",
       "    <tr>\n",
       "      <th>0</th>\n",
       "      <td>Apo_Control_possorted_genome_bam_MD-AGAAGTACACGCGGTT-1-Apo-Edits</td>\n",
       "      <td>Apo-Edits</td>\n",
       "      <td>1.298744</td>\n",
       "      <td>RPS2-fSTAMP</td>\n",
       "      <td>1</td>\n",
       "      <td>/home/bay001/projects/kris_apobec_20200121/permanent_data2/03_scRNA_APOBEC_RPS2/bam_files/Apo_Control_possorted_genome_bam_MD-AGAAGTACACGCGGTT-1.bam</td>\n",
       "    </tr>\n",
       "    <tr>\n",
       "      <th>1</th>\n",
       "      <td>Apo_Control_possorted_genome_bam_MD-CATACAGCAACCAACT-1-Apo-Edits</td>\n",
       "      <td>Apo-Edits</td>\n",
       "      <td>0.815492</td>\n",
       "      <td>RPS2-fSTAMP</td>\n",
       "      <td>2</td>\n",
       "      <td>/home/bay001/projects/kris_apobec_20200121/permanent_data2/03_scRNA_APOBEC_RPS2/bam_files/Apo_Control_possorted_genome_bam_MD-CATACAGCAACCAACT-1.bam</td>\n",
       "    </tr>\n",
       "    <tr>\n",
       "      <th>2</th>\n",
       "      <td>Apo_Control_possorted_genome_bam_MD-GGTGTCGGTCTGCCTT-1-Apo-Edits</td>\n",
       "      <td>Apo-Edits</td>\n",
       "      <td>0.720313</td>\n",
       "      <td>control-oSTAMP</td>\n",
       "      <td>3</td>\n",
       "      <td>/home/bay001/projects/kris_apobec_20200121/permanent_data2/03_scRNA_APOBEC_RPS2/bam_files/Apo_Control_possorted_genome_bam_MD-GGTGTCGGTCTGCCTT-1.bam</td>\n",
       "    </tr>\n",
       "    <tr>\n",
       "      <th>3</th>\n",
       "      <td>Apo_Control_possorted_genome_bam_MD-TAACTTCAGCCAAGGT-1-Apo-Edits</td>\n",
       "      <td>Apo-Edits</td>\n",
       "      <td>0.565517</td>\n",
       "      <td>control-oSTAMP</td>\n",
       "      <td>4</td>\n",
       "      <td>/home/bay001/projects/kris_apobec_20200121/permanent_data2/03_scRNA_APOBEC_RPS2/bam_files/Apo_Control_possorted_genome_bam_MD-TAACTTCAGCCAAGGT-1.bam</td>\n",
       "    </tr>\n",
       "    <tr>\n",
       "      <th>4</th>\n",
       "      <td>Apo_Control_possorted_genome_bam_MD-CTCAACCCAGACGGAT-1-Apo-Edits</td>\n",
       "      <td>Apo-Edits</td>\n",
       "      <td>0.563772</td>\n",
       "      <td>control-oSTAMP</td>\n",
       "      <td>5</td>\n",
       "      <td>/home/bay001/projects/kris_apobec_20200121/permanent_data2/03_scRNA_APOBEC_RPS2/bam_files/Apo_Control_possorted_genome_bam_MD-CTCAACCCAGACGGAT-1.bam</td>\n",
       "    </tr>\n",
       "  </tbody>\n",
       "</table>\n",
       "</div>"
      ],
      "text/plain": [
       "                                                            barcode  \\\n",
       "0  Apo_Control_possorted_genome_bam_MD-AGAAGTACACGCGGTT-1-Apo-Edits   \n",
       "1  Apo_Control_possorted_genome_bam_MD-CATACAGCAACCAACT-1-Apo-Edits   \n",
       "2  Apo_Control_possorted_genome_bam_MD-GGTGTCGGTCTGCCTT-1-Apo-Edits   \n",
       "3  Apo_Control_possorted_genome_bam_MD-TAACTTCAGCCAAGGT-1-Apo-Edits   \n",
       "4  Apo_Control_possorted_genome_bam_MD-CTCAACCCAGACGGAT-1-Apo-Edits   \n",
       "\n",
       "       class   n_edits           batch  rank  \\\n",
       "0  Apo-Edits  1.298744     RPS2-fSTAMP     1   \n",
       "1  Apo-Edits  0.815492     RPS2-fSTAMP     2   \n",
       "2  Apo-Edits  0.720313  control-oSTAMP     3   \n",
       "3  Apo-Edits  0.565517  control-oSTAMP     4   \n",
       "4  Apo-Edits  0.563772  control-oSTAMP     5   \n",
       "\n",
       "                                                                                                                                                    bam  \n",
       "0  /home/bay001/projects/kris_apobec_20200121/permanent_data2/03_scRNA_APOBEC_RPS2/bam_files/Apo_Control_possorted_genome_bam_MD-AGAAGTACACGCGGTT-1.bam  \n",
       "1  /home/bay001/projects/kris_apobec_20200121/permanent_data2/03_scRNA_APOBEC_RPS2/bam_files/Apo_Control_possorted_genome_bam_MD-CATACAGCAACCAACT-1.bam  \n",
       "2  /home/bay001/projects/kris_apobec_20200121/permanent_data2/03_scRNA_APOBEC_RPS2/bam_files/Apo_Control_possorted_genome_bam_MD-GGTGTCGGTCTGCCTT-1.bam  \n",
       "3  /home/bay001/projects/kris_apobec_20200121/permanent_data2/03_scRNA_APOBEC_RPS2/bam_files/Apo_Control_possorted_genome_bam_MD-TAACTTCAGCCAAGGT-1.bam  \n",
       "4  /home/bay001/projects/kris_apobec_20200121/permanent_data2/03_scRNA_APOBEC_RPS2/bam_files/Apo_Control_possorted_genome_bam_MD-CTCAACCCAGACGGAT-1.bam  "
      ]
     },
     "execution_count": 5,
     "metadata": {},
     "output_type": "execute_result"
    }
   ],
   "source": [
    "apo_barcodes['bam'] = apo_barcodes.apply(get_bam_from_barcode_index, axis=1)\n",
    "rps2_barcodes['bam'] = rps2_barcodes.apply(get_bam_from_barcode_index, axis=1)\n",
    "\n",
    "apo_barcodes.head()"
   ]
  },
  {
   "cell_type": "markdown",
   "metadata": {},
   "source": [
    "### Now copy the bams over to a less insane place for Kris"
   ]
  },
  {
   "cell_type": "code",
   "execution_count": 6,
   "metadata": {},
   "outputs": [
    {
     "data": {
      "application/vnd.jupyter.widget-view+json": {
       "model_id": "6b56d980af454dc1afe78bd6de0b1a50",
       "version_major": 2,
       "version_minor": 0
      },
      "text/plain": [
       "HBox(children=(IntProgress(value=0), HTML(value='')))"
      ]
     },
     "metadata": {},
     "output_type": "display_data"
    },
    {
     "data": {
      "application/vnd.jupyter.widget-view+json": {
       "model_id": "d5c77fa5c64e40a1803b555d84c8fc9a",
       "version_major": 2,
       "version_minor": 0
      },
      "text/plain": [
       "HBox(children=(IntProgress(value=0), HTML(value='')))"
      ]
     },
     "metadata": {},
     "output_type": "display_data"
    }
   ],
   "source": [
    "progress = tnrange(len(apo_barcodes['bam']))\n",
    "for bam in apo_barcodes['bam']:\n",
    "    cmd = 'cp {} {};samtools index {}'.format(bam, os.path.join(output_dir, os.path.basename(bam)), os.path.join(output_dir, os.path.basename(bam)))\n",
    "    ! $cmd\n",
    "    progress.update(1)\n",
    "    \n",
    "progress = tnrange(len(rps2_barcodes['bam']))\n",
    "for bam in rps2_barcodes['bam']:\n",
    "    cmd = 'cp {} {};samtools index {}'.format(bam, os.path.join(output_dir, os.path.basename(bam)), os.path.join(output_dir, os.path.basename(bam)))\n",
    "    ! $cmd\n",
    "    progress.update(1)"
   ]
  },
  {
   "cell_type": "code",
   "execution_count": null,
   "metadata": {},
   "outputs": [],
   "source": []
  }
 ],
 "metadata": {
  "kernelspec": {
   "display_name": "python3-essential",
   "language": "python",
   "name": "python3-essential"
  },
  "language_info": {
   "codemirror_mode": {
    "name": "ipython",
    "version": 3
   },
   "file_extension": ".py",
   "mimetype": "text/x-python",
   "name": "python",
   "nbconvert_exporter": "python",
   "pygments_lexer": "ipython3",
   "version": "3.6.7"
  }
 },
 "nbformat": 4,
 "nbformat_minor": 2
}
