{
 "cells": [
  {
   "cell_type": "markdown",
   "metadata": {},
   "source": [
    "# This notebook writes qsub commands to split the whole 10X into each individual barcode. Barcodes come from Alex's tables.\n",
    "- uses a helper script (split_bams.py) which accepts a list of barcodes to look for (inside the 'CB' tag) and the 10X \"MD\" bam file.\n",
    "- python2 notebook because we're using Submitter"
   ]
  },
  {
   "cell_type": "code",
   "execution_count": 1,
   "metadata": {},
   "outputs": [],
   "source": [
    "import pandas as pd\n",
    "import numpy as np\n",
    "import os\n",
    "import glob\n",
    "import pysam\n",
    "import time\n",
    "from collections import defaultdict\n",
    "from tqdm import tnrange, tqdm_notebook\n",
    "import random\n",
    "from qtools import Submitter"
   ]
  },
  {
   "cell_type": "code",
   "execution_count": 2,
   "metadata": {},
   "outputs": [],
   "source": [
    "input_dir = '/home/bay001/projects/kris_apobec_20200121/permanent_data2/03_scRNA_APOBEC_RPS2/inputs/'\n",
    "tmp_dir = '/home/bay001/projects/kris_apobec_20200121/permanent_data2/03_scRNA_APOBEC_RPS2/tmp/'\n",
    "output_dir = '/home/bay001/projects/kris_apobec_20200121/permanent_data2/03_scRNA_APOBEC_RPS2/bam_files/'"
   ]
  },
  {
   "cell_type": "markdown",
   "metadata": {},
   "source": [
    "# Read in all barcodes"
   ]
  },
  {
   "cell_type": "code",
   "execution_count": 3,
   "metadata": {},
   "outputs": [
    {
     "name": "stdout",
     "output_type": "stream",
     "text": [
      "Num barcodes in APO: 8719 and RPS2: 11150\n"
     ]
    }
   ],
   "source": [
    "rps2_barcodes = set(pd.read_csv(os.path.join(input_dir, 'RPS2.barcodes.tsv.gz'), index_col=0, names=['barcodes']).index)\n",
    "apo_barcodes = set(pd.read_csv(os.path.join(input_dir, 'Apo_Control.barcodes.tsv.gz'), index_col=0, names=['barcodes']).index)\n",
    "\n",
    "print(\"Num barcodes in APO: {} and RPS2: {}\".format(len(apo_barcodes), len(rps2_barcodes)))"
   ]
  },
  {
   "cell_type": "markdown",
   "metadata": {},
   "source": [
    "# Get indices pertaining to groups that we want to run SAILOR on\n",
    "- let's get:\n",
    "    - all barcodes!\n",
    "    - I mean all 'filtered' barcodes from AlexC"
   ]
  },
  {
   "cell_type": "markdown",
   "metadata": {},
   "source": [
    "# Split the combined BAM into individual barcodes that we are interested in\n",
    "- store ALL barcode-of-interest reads into a dictionary reads_dict\n",
    "- This block splits this job in chunks of 500 so we don't run out of memory"
   ]
  },
  {
   "cell_type": "code",
   "execution_count": 4,
   "metadata": {},
   "outputs": [],
   "source": [
    "def chunker(seq, size):\n",
    "    \"\"\"\n",
    "    Chunks a long list into groups of (size).\n",
    "    \"\"\"\n",
    "    return (seq[pos:pos + size] for pos in range(0, len(seq), size))\n",
    "\n",
    "i = 0\n",
    "groupsize = 500\n",
    "all_apo_groups = []\n",
    "all_rps2_groups = []\n",
    "\n",
    "for group in chunker(list(apo_barcodes), groupsize):\n",
    "    fout = os.path.join(tmp_dir, 'apo-group_{}.txt'.format(i)) # groups should be \n",
    "    with open(fout, 'w') as o:\n",
    "        for g in group:\n",
    "            o.write(\"{}\\n\".format(g))\n",
    "    i += 1\n",
    "    all_apo_groups.append(fout)\n",
    "\n",
    "i = 0\n",
    "for group in chunker(list(rps2_barcodes), groupsize):\n",
    "    fout = os.path.join(tmp_dir, 'rps2-group_{}.txt'.format(i)) # groups should be \n",
    "    with open(fout, 'w') as o:\n",
    "        for g in group:\n",
    "            o.write(\"{}\\n\".format(g))\n",
    "    i += 1\n",
    "    all_rps2_groups.append(fout)"
   ]
  },
  {
   "cell_type": "markdown",
   "metadata": {},
   "source": [
    "# Runs a 'split bams' script that runs through the possorted.bam file, and pulls out all the barcodes in ```--barcodes_file``` into each cell. Do this twice for our Apo_Control and RPS2 samples."
   ]
  },
  {
   "cell_type": "code",
   "execution_count": 5,
   "metadata": {},
   "outputs": [
    {
     "name": "stdout",
     "output_type": "stream",
     "text": [
      "Total commands to submit: 41\n"
     ]
    }
   ],
   "source": [
    "cmds = []\n",
    "\n",
    "\n",
    "for group in all_apo_groups:\n",
    "    cmd = 'module load python3essential;/home/bay001/projects/kris_apobec_20200121/permanent_data2/03_scRNA/split_bams.py '\n",
    "    cmd += '--possorted_bam_file {} '.format(os.path.join(input_dir, 'Apo_Control_possorted_genome_bam_MD.bam'))\n",
    "    cmd += '--barcodes_file {} '.format(group)\n",
    "    cmd += '--output_dir {}'.format(output_dir)\n",
    "    cmds.append(cmd)\n",
    "    \n",
    "for group in all_rps2_groups:\n",
    "    cmd = 'module load python3essential;/home/bay001/projects/kris_apobec_20200121/permanent_data2/03_scRNA/split_bams.py '\n",
    "    cmd += '--possorted_bam_file {} '.format(os.path.join(input_dir, 'RPS2_possorted_genome_bam_MD.bam'))\n",
    "    cmd += '--barcodes_file {} '.format(group)\n",
    "    cmd += '--output_dir {}'.format(output_dir)\n",
    "    cmds.append(cmd)\n",
    "\n",
    "print(\"Total commands to submit: {}\".format(len(cmds)))"
   ]
  },
  {
   "cell_type": "code",
   "execution_count": 6,
   "metadata": {},
   "outputs": [
    {
     "name": "stderr",
     "output_type": "stream",
     "text": [
      "Writing 41 tasks as an array-job.\n",
      "Wrote commands to split-bam.sh.\n"
     ]
    },
    {
     "data": {
      "text/plain": [
       "<qtools.submitter.Submitter at 0x2b1a1397c910>"
      ]
     },
     "execution_count": 6,
     "metadata": {},
     "output_type": "execute_result"
    }
   ],
   "source": [
    "Submitter(cmds, 'split-bam', nodes=1, ppn=8, array=True, submit=False, walltime='8:00:00', queue='condo') # first one run manually"
   ]
  },
  {
   "cell_type": "markdown",
   "metadata": {},
   "source": [
    "# This next block ensures that all barcodes are accounted for. If not, then we'll need to re-run."
   ]
  },
  {
   "cell_type": "code",
   "execution_count": 7,
   "metadata": {},
   "outputs": [
    {
     "name": "stdout",
     "output_type": "stream",
     "text": [
      "(0, 0)\n"
     ]
    }
   ],
   "source": [
    "def get_apo_bam_file_name_from_barcode(barcode):\n",
    "    return \"Apo_Control_possorted_genome_bam_MD-{}.bam\".format(barcode)\n",
    "\n",
    "def get_rps2_bam_file_name_from_barcode(barcode):\n",
    "    return \"RPS2_possorted_genome_bam_MD-{}.bam\".format(barcode)\n",
    "\n",
    "rps2_missing_barcodes = []\n",
    "apobec_missing_barcodes = []\n",
    "\n",
    "for barcode in apo_barcodes:\n",
    "    bam_file = os.path.join(output_dir, get_apo_bam_file_name_from_barcode(barcode))\n",
    "    try:\n",
    "        assert os.path.exists(bam_file)\n",
    "    except AssertionError:\n",
    "        apobec_missing_barcodes.append(barcode)\n",
    "        \n",
    "for barcode in rps2_barcodes:\n",
    "    bam_file = os.path.join(output_dir, get_rps2_bam_file_name_from_barcode(barcode))\n",
    "    try:\n",
    "        assert os.path.exists(bam_file)\n",
    "    except AssertionError:\n",
    "        rps2_missing_barcodes.append(barcode)\n",
    "print(len(rps2_missing_barcodes), len(apobec_missing_barcodes))"
   ]
  },
  {
   "cell_type": "code",
   "execution_count": 8,
   "metadata": {},
   "outputs": [],
   "source": [
    "fout = os.path.join(tmp_dir, 'apo-missing.txt') # groups should be \n",
    "with open(fout, 'w') as o:\n",
    "    for g in list(apobec_missing_barcodes):\n",
    "        o.write(\"{}\\n\".format(g))\n",
    "\n",
    "fout = os.path.join(tmp_dir, 'rps2-missing.txt') # groups should be \n",
    "with open(fout, 'w') as o:\n",
    "    for g in list(rps2_missing_barcodes):\n",
    "        o.write(\"{}\\n\".format(g))"
   ]
  },
  {
   "cell_type": "code",
   "execution_count": 9,
   "metadata": {},
   "outputs": [
    {
     "data": {
      "text/plain": [
       "['module load python3essential;/home/bay001/projects/kris_apobec_20200121/permanent_data2/03_scRNA/split_bams.py --possorted_bam_file /home/bay001/projects/kris_apobec_20200121/permanent_data2/03_scRNA_APOBEC_RPS2/inputs/Apo_Control_possorted_genome_bam_MD.bam --barcodes_file /home/bay001/projects/kris_apobec_20200121/permanent_data2/03_scRNA_APOBEC_RPS2/tmp/apo-missing.txt --output_dir /home/bay001/projects/kris_apobec_20200121/permanent_data2/03_scRNA_APOBEC_RPS2/bam_files/',\n",
       " 'module load python3essential;/home/bay001/projects/kris_apobec_20200121/permanent_data2/03_scRNA/split_bams.py --possorted_bam_file /home/bay001/projects/kris_apobec_20200121/permanent_data2/03_scRNA_APOBEC_RPS2/inputs/RPS2_possorted_genome_bam.bam --barcodes_file /home/bay001/projects/kris_apobec_20200121/permanent_data2/03_scRNA_APOBEC_RPS2/tmp/rps2-missing.txt --output_dir /home/bay001/projects/kris_apobec_20200121/permanent_data2/03_scRNA_APOBEC_RPS2/bam_files/']"
      ]
     },
     "execution_count": 9,
     "metadata": {},
     "output_type": "execute_result"
    }
   ],
   "source": [
    "cmds = []\n",
    "\n",
    "cmd = 'module load python3essential;/home/bay001/projects/kris_apobec_20200121/permanent_data2/03_scRNA/split_bams.py '\n",
    "cmd += '--possorted_bam_file {} '.format(os.path.join(input_dir, 'Apo_Control_possorted_genome_bam_MD.bam'))\n",
    "cmd += '--barcodes_file {} '.format(os.path.join(tmp_dir, 'apo-missing.txt'))\n",
    "cmd += '--output_dir {}'.format(output_dir)\n",
    "cmds.append(cmd)\n",
    "    \n",
    "cmd = 'module load python3essential;/home/bay001/projects/kris_apobec_20200121/permanent_data2/03_scRNA/split_bams.py '\n",
    "cmd += '--possorted_bam_file {} '.format(os.path.join(input_dir, 'RPS2_possorted_genome_bam.bam'))\n",
    "cmd += '--barcodes_file {} '.format(os.path.join(tmp_dir, 'rps2-missing.txt'))\n",
    "cmd += '--output_dir {}'.format(output_dir)\n",
    "cmds.append(cmd)\n",
    "    \n",
    "cmds\n"
   ]
  },
  {
   "cell_type": "code",
   "execution_count": 10,
   "metadata": {},
   "outputs": [
    {
     "name": "stderr",
     "output_type": "stream",
     "text": [
      "Writing 2 tasks as an array-job.\n",
      "Wrote commands to split-bam.sh.\n"
     ]
    },
    {
     "data": {
      "text/plain": [
       "<qtools.submitter.Submitter at 0x2b1a14767e90>"
      ]
     },
     "execution_count": 10,
     "metadata": {},
     "output_type": "execute_result"
    }
   ],
   "source": [
    "Submitter(cmds, 'split-bam', nodes=1, ppn=8, array=True, submit=False, walltime='8:00:00', queue='condo')"
   ]
  },
  {
   "cell_type": "code",
   "execution_count": null,
   "metadata": {},
   "outputs": [],
   "source": []
  }
 ],
 "metadata": {
  "kernelspec": {
   "display_name": "python2-essential",
   "language": "python",
   "name": "python2-essential"
  },
  "language_info": {
   "codemirror_mode": {
    "name": "ipython",
    "version": 2
   },
   "file_extension": ".py",
   "mimetype": "text/x-python",
   "name": "python",
   "nbconvert_exporter": "python",
   "pygments_lexer": "ipython2",
   "version": "2.7.15"
  }
 },
 "nbformat": 4,
 "nbformat_minor": 2
}
