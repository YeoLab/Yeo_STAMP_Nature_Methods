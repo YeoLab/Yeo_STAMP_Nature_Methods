{
 "cells": [
  {
   "cell_type": "markdown",
   "metadata": {},
   "source": [
    "# Generates the JSON manifests that are used to run the SAILOR pipeline\n",
    "- Use sailor/1.1.0 so that we can capture C/T edits. The current released version only does A/G"
   ]
  },
  {
   "cell_type": "code",
   "execution_count": 1,
   "metadata": {},
   "outputs": [],
   "source": [
    "import yaml\n",
    "import os\n",
    "import pandas as pd\n",
    "import glob\n",
    "from qtools import Submitter\n",
    "from tqdm import tnrange, tqdm_notebook\n",
    "import time"
   ]
  },
  {
   "cell_type": "code",
   "execution_count": 2,
   "metadata": {},
   "outputs": [],
   "source": [
    "input_dir = '/home/bay001/projects/kris_apobec_20200121/permanent_data2/03_scRNA/bam_files' # output from 01\n",
    "output_dir = '/home/bay001/projects/kris_apobec_20200121/permanent_data2/03_scRNA/sailor_outputs_individual_barcodes' # since there are so many SAILOR jobs, I'm splitting the output by the first 2NT of the barcode. \n",
    "ref_dir = '/home/bay001/projects/kris_apobec_20200121/permanent_data2/03_scRNA/inputs' # we need to get genome.fa and the SNP file "
   ]
  },
  {
   "cell_type": "code",
   "execution_count": 3,
   "metadata": {},
   "outputs": [
    {
     "name": "stdout",
     "output_type": "stream",
     "text": [
      "19869\n"
     ]
    },
    {
     "data": {
      "text/plain": [
       "['/home/bay001/projects/kris_apobec_20200121/permanent_data2/03_scRNA/bam_files/Apo_Control_possorted_genome_bam_MD-GTTACAGTCAGAGTTC-1.bam',\n",
       " '/home/bay001/projects/kris_apobec_20200121/permanent_data2/03_scRNA/bam_files/RPS2_possorted_genome_bam_MD-TCGGATAAGATTGATG-1.bam',\n",
       " '/home/bay001/projects/kris_apobec_20200121/permanent_data2/03_scRNA/bam_files/RPS2_possorted_genome_bam_MD-GTGACGCTCGCTACAA-1.bam']"
      ]
     },
     "execution_count": 3,
     "metadata": {},
     "output_type": "execute_result"
    }
   ],
   "source": [
    "### I'm re-running this notebook a few times on a few different groups of bam files\n",
    "bams = glob.glob(os.path.join(input_dir, '*-1.bam'))\n",
    "print(len(bams))\n",
    "bams[:3]"
   ]
  },
  {
   "cell_type": "markdown",
   "metadata": {},
   "source": [
    "# Generate all the directories needed given the output_dir prefix. \n",
    "- For example, if our output_dir looks like: ```03_scRNA/sailor_outputs_individual_barcodes``` then we will be creating 16 directories ```03_scRNA/sailor_outputs_individual_barcodes_AA/```, ```03_scRNA/sailor_outputs_individual_barcodes_AC```..."
   ]
  },
  {
   "cell_type": "code",
   "execution_count": 4,
   "metadata": {},
   "outputs": [],
   "source": [
    "for nt in ['A', 'C', 'G', 'T']:\n",
    "    for nt2 in ['A', 'C', 'G', 'T']:\n",
    "        if not os.path.exists(output_dir + '_{}{}'.format(nt, nt2)):\n",
    "            split_output = os.path.join(output_dir + '_{}{}'.format(nt, nt2))\n",
    "            ! mkdir $split_output"
   ]
  },
  {
   "cell_type": "markdown",
   "metadata": {},
   "source": [
    "# This block generates SAILOR json manifest runner files."
   ]
  },
  {
   "cell_type": "code",
   "execution_count": 5,
   "metadata": {},
   "outputs": [
    {
     "data": {
      "application/vnd.jupyter.widget-view+json": {
       "model_id": "e4e59fe654ab4112bf6279f0620fff78",
       "version_major": 2,
       "version_minor": 0
      },
      "text/plain": [
       "HBox(children=(IntProgress(value=0, max=19869), HTML(value=u'')))"
      ]
     },
     "metadata": {},
     "output_type": "display_data"
    }
   ],
   "source": [
    "genome_file = os.path.join(input_dir, 'refdata-cellranger-hg19_lenti_common-3.0.0/fasta/genome.fa')\n",
    "\n",
    "skip_rmdup = \"true\"\n",
    "progress = tnrange(len(bams))\n",
    "for bam in bams:\n",
    "    prefix = os.path.basename(bam).split('_MD-')[1][:2]\n",
    "    split_output_dir = output_dir + \"_{}\".format(prefix)\n",
    "    \n",
    "    sample = {\"input_bam\": {\n",
    "        'class':'File',\n",
    "        'path':bam\n",
    "    }}\n",
    "    fa = {\"reference\": {\n",
    "        'class':'File',\n",
    "        'path':genome_file\n",
    "    }}\n",
    "    known_snp = {\"known_snp\": {\n",
    "        'class':'File',\n",
    "        'path':os.path.join(ref_dir, 'hg19.commonSNPs147.bed3.sc')\n",
    "    }}\n",
    "    with open(\n",
    "        os.path.join(\n",
    "            split_output_dir, '{}.json'.format(\n",
    "                os.path.basename(bam).split('.')[0]\n",
    "            )\n",
    "        ), 'w'\n",
    "    ) as o:\n",
    "        o.write(\"#!/usr/bin/env SAILOR\\n\")\n",
    "        yaml.dump(sample, o, default_flow_style=False)\n",
    "        yaml.dump(known_snp, o, default_flow_style=False)\n",
    "        yaml.dump(fa, o, default_flow_style=False)\n",
    "        o.write(\"ct: true\\n\")\n",
    "        o.write(\"min_variant_coverage: 5\\n\")\n",
    "        o.write(\"alpha: {}\\n\".format(0))\n",
    "        o.write(\"beta: {}\\n\".format(0))\n",
    "        o.write(\"edit_fraction: {}\\n\".format(0.01))\n",
    "        o.write(\"skip_duplicate_removal: {}\\n\".format(skip_rmdup))\n",
    "        o.write(\"reverse_stranded_library: false\\n\")\n",
    "    progress.update(1)"
   ]
  },
  {
   "cell_type": "markdown",
   "metadata": {},
   "source": [
    "# Grab all JSON files created from the above cell."
   ]
  },
  {
   "cell_type": "code",
   "execution_count": 6,
   "metadata": {},
   "outputs": [
    {
     "name": "stdout",
     "output_type": "stream",
     "text": [
      "19869\n"
     ]
    }
   ],
   "source": [
    "jsons = []\n",
    "for nt in ['A', 'C', 'G', 'T']:\n",
    "    for nt2 in ['A', 'C', 'G', 'T']:\n",
    "        split_output = os.path.join(output_dir + '_{}{}'.format(nt, nt2))\n",
    "        jsons += glob.glob(os.path.join(split_output, '*.json'))\n",
    "print(len(jsons))"
   ]
  },
  {
   "cell_type": "code",
   "execution_count": 7,
   "metadata": {},
   "outputs": [
    {
     "data": {
      "text/plain": [
       "['/home/bay001/projects/kris_apobec_20200121/permanent_data2/03_scRNA/sailor_outputs_individual_barcodes_AA/RPS2_possorted_genome_bam_MD-AAACGCTAGGACGGAG-1.json',\n",
       " '/home/bay001/projects/kris_apobec_20200121/permanent_data2/03_scRNA/sailor_outputs_individual_barcodes_AA/RPS2_possorted_genome_bam_MD-AAGCATCGTAACGGTG-1.json',\n",
       " '/home/bay001/projects/kris_apobec_20200121/permanent_data2/03_scRNA/sailor_outputs_individual_barcodes_AA/RPS2_possorted_genome_bam_MD-AAGCATCAGTGAGCCA-1.json']"
      ]
     },
     "execution_count": 7,
     "metadata": {},
     "output_type": "execute_result"
    }
   ],
   "source": [
    "jsons[:3]"
   ]
  },
  {
   "cell_type": "markdown",
   "metadata": {},
   "source": [
    "# Use chunker() to run 500 SAILOR jsons per qsub job.\n",
    "- ### ALWAYS a good idea to run one of these jobs just to make sure the commands and outputs make sense. A big pain if all 20k jobs fail because I didn't check one or two."
   ]
  },
  {
   "cell_type": "code",
   "execution_count": 8,
   "metadata": {},
   "outputs": [
    {
     "data": {
      "application/vnd.jupyter.widget-view+json": {
       "model_id": "cacac1243f3040e58d2196717fe88912",
       "version_major": 2,
       "version_minor": 0
      },
      "text/plain": [
       "HBox(children=(IntProgress(value=0, max=19869), HTML(value=u'')))"
      ]
     },
     "metadata": {},
     "output_type": "display_data"
    },
    {
     "data": {
      "text/plain": [
       "['module load sailor/1.1.0;cd /home/bay001/projects/kris_apobec_20200121/permanent_data2/03_scRNA/sailor_outputs_individual_barcodes_AA;./RPS2_possorted_genome_bam_MD-AAACGCTAGGACGGAG-1.json;cd /home/bay001/projects/kris_apobec_20200121/permanent_data2/03_scRNA/sailor_outputs_individual_barcodes_AA;./RPS2_possorted_genome_bam_MD-AAGCATCGTAACGGTG-1.json;cd /home/bay001/projects/kris_apobec_20200121/permanent_data2/03_scRNA/sailor_outputs_individual_barcodes_AA;./RPS2_possorted_genome_bam_MD-AAGCATCAGTGAGCCA-1.json;cd /home/bay001/projects/kris_apobec_20200121/permanent_data2/03_scRNA/sailor_outputs_individual_barcodes_AA;./RPS2_possorted_genome_bam_MD-AACCATGCAGCGTGCT-1.json;cd /home/bay001/projects/kris_apobec_20200121/permanent_data2/03_scRNA/sailor_outputs_individual_barcodes_AA;./Apo_Control_possorted_genome_bam_MD-AAGAACATCTCCATAT-1.json;cd /home/bay001/projects/kris_apobec_20200121/permanent_data2/03_scRNA/sailor_outputs_individual_barcodes_AA;./Apo_Control_possorted_genome_bam_MD-AACAGGGCACGCTATA-1.json;cd /home/bay001/projects/kris_apobec_20200121/permanent_data2/03_scRNA/sailor_outputs_individual_barcodes_AA;./RPS2_possorted_genome_bam_MD-AACTTCTAGTGATAGT-1.json;cd /home/bay001/projects/kris_apobec_20200121/permanent_data2/03_scRNA/sailor_outputs_individual_barcodes_AA;./RPS2_possorted_genome_bam_MD-AACACACCACTCCGAG-1.json;cd /home/bay001/projects/kris_apobec_20200121/permanent_data2/03_scRNA/sailor_outputs_individual_barcodes_AA;./Apo_Control_possorted_genome_bam_MD-AAAGAACTCCGAGTGC-1.json;cd /home/bay001/projects/kris_apobec_20200121/permanent_data2/03_scRNA/sailor_outputs_individual_barcodes_AA;./Apo_Control_possorted_genome_bam_MD-AAGCGAGCACCTATCC-1.json;cd /home/bay001/projects/kris_apobec_20200121/permanent_data2/03_scRNA/sailor_outputs_individual_barcodes_AA;./RPS2_possorted_genome_bam_MD-AACCAACCACTGAATC-1.json;cd /home/bay001/projects/kris_apobec_20200121/permanent_data2/03_scRNA/sailor_outputs_individual_barcodes_AA;./RPS2_possorted_genome_bam_MD-AAGAACATCCCATTCG-1.json;cd /home/bay001/projects/kris_apobec_20200121/permanent_data2/03_scRNA/sailor_outputs_individual_barcodes_AA;./Apo_Control_possorted_genome_bam_MD-AACCTTTTCGGTATGT-1.json;cd /home/bay001/projects/kris_apobec_20200121/permanent_data2/03_scRNA/sailor_outputs_individual_barcodes_AA;./RPS2_possorted_genome_bam_MD-AACAACCCATTGTCGA-1.json;cd /home/bay001/projects/kris_apobec_20200121/permanent_data2/03_scRNA/sailor_outputs_individual_barcodes_AA;./Apo_Control_possorted_genome_bam_MD-AATGGCTTCGCCAACG-1.json;cd /home/bay001/projects/kris_apobec_20200121/permanent_data2/03_scRNA/sailor_outputs_individual_barcodes_AA;./RPS2_possorted_genome_bam_MD-AACGAAATCTAACGCA-1.json;cd /home/bay001/projects/kris_apobec_20200121/permanent_data2/03_scRNA/sailor_outputs_individual_barcodes_AA;./Apo_Control_possorted_genome_bam_MD-AACGGGAGTAGATTGA-1.json;cd /home/bay001/projects/kris_apobec_20200121/permanent_data2/03_scRNA/sailor_outputs_individual_barcodes_AA;./RPS2_possorted_genome_bam_MD-AAAGTGATCACAATGC-1.json;cd /home/bay001/projects/kris_apobec_20200121/permanent_data2/03_scRNA/sailor_outputs_individual_barcodes_AA;./RPS2_possorted_genome_bam_MD-AAAGAACAGTGACCTT-1.json;cd /home/bay001/projects/kris_apobec_20200121/permanent_data2/03_scRNA/sailor_outputs_individual_barcodes_AA;./RPS2_possorted_genome_bam_MD-AAGACTCAGCTTTGTG-1.json;cd /home/bay001/projects/kris_apobec_20200121/permanent_data2/03_scRNA/sailor_outputs_individual_barcodes_AA;./Apo_Control_possorted_genome_bam_MD-AATGGAACACAGTCCG-1.json;cd /home/bay001/projects/kris_apobec_20200121/permanent_data2/03_scRNA/sailor_outputs_individual_barcodes_AA;./RPS2_possorted_genome_bam_MD-AAGAACACAAATTGCC-1.json;cd /home/bay001/projects/kris_apobec_20200121/permanent_data2/03_scRNA/sailor_outputs_individual_barcodes_AA;./Apo_Control_possorted_genome_bam_MD-AACAAAGAGAATAACC-1.json;cd /home/bay001/projects/kris_apobec_20200121/permanent_data2/03_scRNA/sailor_outputs_individual_barcodes_AA;./RPS2_possorted_genome_bam_MD-AACCATGTCGTCGACG-1.json;cd /home/bay001/projects/kris_apobec_20200121/permanent_data2/03_scRNA/sailor_outputs_individual_barcodes_AA;./Apo_Control_possorted_genome_bam_MD-AAGCGAGCATGACGAG-1.json;cd /home/bay001/projects/kris_apobec_20200121/permanent_data2/03_scRNA/sailor_outputs_individual_barcodes_AA;./RPS2_possorted_genome_bam_MD-AACTTCTGTCGCAGTC-1.json;cd /home/bay001/projects/kris_apobec_20200121/permanent_data2/03_scRNA/sailor_outputs_individual_barcodes_AA;./RPS2_possorted_genome_bam_MD-AAGCGAGGTATCGTGT-1.json;cd /home/bay001/projects/kris_apobec_20200121/permanent_data2/03_scRNA/sailor_outputs_individual_barcodes_AA;./RPS2_possorted_genome_bam_MD-AATGGAAGTCATACCA-1.json;cd /home/bay001/projects/kris_apobec_20200121/permanent_data2/03_scRNA/sailor_outputs_individual_barcodes_AA;./RPS2_possorted_genome_bam_MD-AACCACACATGCCATA-1.json;cd /home/bay001/projects/kris_apobec_20200121/permanent_data2/03_scRNA/sailor_outputs_individual_barcodes_AA;./RPS2_possorted_genome_bam_MD-AAGCATCCATGGTACT-1.json;cd /home/bay001/projects/kris_apobec_20200121/permanent_data2/03_scRNA/sailor_outputs_individual_barcodes_AA;./RPS2_possorted_genome_bam_MD-AATGGAAAGTCACACT-1.json;cd /home/bay001/projects/kris_apobec_20200121/permanent_data2/03_scRNA/sailor_outputs_individual_barcodes_AA;./RPS2_possorted_genome_bam_MD-AACCAACTCTCCGTGT-1.json;cd /home/bay001/projects/kris_apobec_20200121/permanent_data2/03_scRNA/sailor_outputs_individual_barcodes_AA;./Apo_Control_possorted_genome_bam_MD-AAGTGAACACTGGCGT-1.json;cd /home/bay001/projects/kris_apobec_20200121/permanent_data2/03_scRNA/sailor_outputs_individual_barcodes_AA;./Apo_Control_possorted_genome_bam_MD-AATCGACAGTTGAATG-1.json;cd /home/bay001/projects/kris_apobec_20200121/permanent_data2/03_scRNA/sailor_outputs_individual_barcodes_AA;./RPS2_possorted_genome_bam_MD-AAGTACCGTCCGAAGA-1.json;cd /home/bay001/projects/kris_apobec_20200121/permanent_data2/03_scRNA/sailor_outputs_individual_barcodes_AA;./Apo_Control_possorted_genome_bam_MD-AATCGTGGTCGTTGCG-1.json;cd /home/bay001/projects/kris_apobec_20200121/permanent_data2/03_scRNA/sailor_outputs_individual_barcodes_AA;./RPS2_possorted_genome_bam_MD-AACGTCATCCATTCAT-1.json;cd /home/bay001/projects/kris_apobec_20200121/permanent_data2/03_scRNA/sailor_outputs_individual_barcodes_AA;./RPS2_possorted_genome_bam_MD-AACAAAGCAGAAGTGC-1.json;cd /home/bay001/projects/kris_apobec_20200121/permanent_data2/03_scRNA/sailor_outputs_individual_barcodes_AA;./RPS2_possorted_genome_bam_MD-AACGTCAAGCGGTAAC-1.json;cd /home/bay001/projects/kris_apobec_20200121/permanent_data2/03_scRNA/sailor_outputs_individual_barcodes_AA;./RPS2_possorted_genome_bam_MD-AAGGAATCACCGTCTT-1.json;cd /home/bay001/projects/kris_apobec_20200121/permanent_data2/03_scRNA/sailor_outputs_individual_barcodes_AA;./Apo_Control_possorted_genome_bam_MD-AATCACGTCCAGTTCC-1.json;cd /home/bay001/projects/kris_apobec_20200121/permanent_data2/03_scRNA/sailor_outputs_individual_barcodes_AA;./RPS2_possorted_genome_bam_MD-AAGAACAGTGTTCGAT-1.json;cd /home/bay001/projects/kris_apobec_20200121/permanent_data2/03_scRNA/sailor_outputs_individual_barcodes_AA;./RPS2_possorted_genome_bam_MD-AAGACTCAGGTCGTGA-1.json;cd /home/bay001/projects/kris_apobec_20200121/permanent_data2/03_scRNA/sailor_outputs_individual_barcodes_AA;./RPS2_possorted_genome_bam_MD-AAGATAGTCTCTAAGG-1.json;cd /home/bay001/projects/kris_apobec_20200121/permanent_data2/03_scRNA/sailor_outputs_individual_barcodes_AA;./RPS2_possorted_genome_bam_MD-AAGAACAGTGGTTCTA-1.json;cd /home/bay001/projects/kris_apobec_20200121/permanent_data2/03_scRNA/sailor_outputs_individual_barcodes_AA;./Apo_Control_possorted_genome_bam_MD-AAACGAAAGATGTTCC-1.json;cd /home/bay001/projects/kris_apobec_20200121/permanent_data2/03_scRNA/sailor_outputs_individual_barcodes_AA;./RPS2_possorted_genome_bam_MD-AAGCCATGTGAACGGT-1.json;cd /home/bay001/projects/kris_apobec_20200121/permanent_data2/03_scRNA/sailor_outputs_individual_barcodes_AA;./RPS2_possorted_genome_bam_MD-AACCTGAAGGGAGTTC-1.json;cd /home/bay001/projects/kris_apobec_20200121/permanent_data2/03_scRNA/sailor_outputs_individual_barcodes_AA;./Apo_Control_possorted_genome_bam_MD-AATGAAGCATAGAGGC-1.json;cd /home/bay001/projects/kris_apobec_20200121/permanent_data2/03_scRNA/sailor_outputs_individual_barcodes_AA;./RPS2_possorted_genome_bam_MD-AAGCCATCAAGGTACG-1.json;',\n",
       " 'module load sailor/1.1.0;cd /home/bay001/projects/kris_apobec_20200121/permanent_data2/03_scRNA/sailor_outputs_individual_barcodes_AA;./Apo_Control_possorted_genome_bam_MD-AATCGACCATTGAAGA-1.json;cd /home/bay001/projects/kris_apobec_20200121/permanent_data2/03_scRNA/sailor_outputs_individual_barcodes_AA;./Apo_Control_possorted_genome_bam_MD-AACCACAGTTAACAGA-1.json;cd /home/bay001/projects/kris_apobec_20200121/permanent_data2/03_scRNA/sailor_outputs_individual_barcodes_AA;./RPS2_possorted_genome_bam_MD-AAGACTCGTGCTGTCG-1.json;cd /home/bay001/projects/kris_apobec_20200121/permanent_data2/03_scRNA/sailor_outputs_individual_barcodes_AA;./Apo_Control_possorted_genome_bam_MD-AATAGAGTCCGCAAAT-1.json;cd /home/bay001/projects/kris_apobec_20200121/permanent_data2/03_scRNA/sailor_outputs_individual_barcodes_AA;./RPS2_possorted_genome_bam_MD-AAGCCATTCACCGACG-1.json;cd /home/bay001/projects/kris_apobec_20200121/permanent_data2/03_scRNA/sailor_outputs_individual_barcodes_AA;./Apo_Control_possorted_genome_bam_MD-AACAAGACAACGGCTC-1.json;cd /home/bay001/projects/kris_apobec_20200121/permanent_data2/03_scRNA/sailor_outputs_individual_barcodes_AA;./RPS2_possorted_genome_bam_MD-AACACACAGTGTTGAA-1.json;cd /home/bay001/projects/kris_apobec_20200121/permanent_data2/03_scRNA/sailor_outputs_individual_barcodes_AA;./Apo_Control_possorted_genome_bam_MD-AATAGAGTCGTCAAAC-1.json;cd /home/bay001/projects/kris_apobec_20200121/permanent_data2/03_scRNA/sailor_outputs_individual_barcodes_AA;./RPS2_possorted_genome_bam_MD-AAGTTCGCATTCTTCA-1.json;cd /home/bay001/projects/kris_apobec_20200121/permanent_data2/03_scRNA/sailor_outputs_individual_barcodes_AA;./Apo_Control_possorted_genome_bam_MD-AAGCGTTGTTCAAAGA-1.json;cd /home/bay001/projects/kris_apobec_20200121/permanent_data2/03_scRNA/sailor_outputs_individual_barcodes_AA;./Apo_Control_possorted_genome_bam_MD-AAGTTCGTCCCGAATA-1.json;cd /home/bay001/projects/kris_apobec_20200121/permanent_data2/03_scRNA/sailor_outputs_individual_barcodes_AA;./Apo_Control_possorted_genome_bam_MD-AAACCCAGTAATCAGA-1.json;cd /home/bay001/projects/kris_apobec_20200121/permanent_data2/03_scRNA/sailor_outputs_individual_barcodes_AA;./Apo_Control_possorted_genome_bam_MD-AAAGGGCCAGAGTTCT-1.json;cd /home/bay001/projects/kris_apobec_20200121/permanent_data2/03_scRNA/sailor_outputs_individual_barcodes_AA;./Apo_Control_possorted_genome_bam_MD-AAGCCATGTACCGTCG-1.json;cd /home/bay001/projects/kris_apobec_20200121/permanent_data2/03_scRNA/sailor_outputs_individual_barcodes_AA;./Apo_Control_possorted_genome_bam_MD-AAAGGGCAGGTAGTAT-1.json;cd /home/bay001/projects/kris_apobec_20200121/permanent_data2/03_scRNA/sailor_outputs_individual_barcodes_AA;./Apo_Control_possorted_genome_bam_MD-AACTTCTCAGACAAGC-1.json;cd /home/bay001/projects/kris_apobec_20200121/permanent_data2/03_scRNA/sailor_outputs_individual_barcodes_AA;./RPS2_possorted_genome_bam_MD-AAGTCGTAGTGGAAGA-1.json;cd /home/bay001/projects/kris_apobec_20200121/permanent_data2/03_scRNA/sailor_outputs_individual_barcodes_AA;./RPS2_possorted_genome_bam_MD-AAGGTAAGTGAGACCA-1.json;cd /home/bay001/projects/kris_apobec_20200121/permanent_data2/03_scRNA/sailor_outputs_individual_barcodes_AA;./RPS2_possorted_genome_bam_MD-AACCAACCAACACACT-1.json;cd /home/bay001/projects/kris_apobec_20200121/permanent_data2/03_scRNA/sailor_outputs_individual_barcodes_AA;./Apo_Control_possorted_genome_bam_MD-AACAGGGTCCATCGTC-1.json;cd /home/bay001/projects/kris_apobec_20200121/permanent_data2/03_scRNA/sailor_outputs_individual_barcodes_AA;./Apo_Control_possorted_genome_bam_MD-AAGCCATTCGGACGTC-1.json;cd /home/bay001/projects/kris_apobec_20200121/permanent_data2/03_scRNA/sailor_outputs_individual_barcodes_AA;./RPS2_possorted_genome_bam_MD-AAGGAATGTCCAGTTA-1.json;cd /home/bay001/projects/kris_apobec_20200121/permanent_data2/03_scRNA/sailor_outputs_individual_barcodes_AA;./Apo_Control_possorted_genome_bam_MD-AACTTCTTCGGAGTAG-1.json;cd /home/bay001/projects/kris_apobec_20200121/permanent_data2/03_scRNA/sailor_outputs_individual_barcodes_AA;./RPS2_possorted_genome_bam_MD-AACCTTTGTCCTTTGC-1.json;cd /home/bay001/projects/kris_apobec_20200121/permanent_data2/03_scRNA/sailor_outputs_individual_barcodes_AA;./RPS2_possorted_genome_bam_MD-AACCCAATCCACGTCT-1.json;cd /home/bay001/projects/kris_apobec_20200121/permanent_data2/03_scRNA/sailor_outputs_individual_barcodes_AA;./Apo_Control_possorted_genome_bam_MD-AAGCCATGTTTACTTC-1.json;cd /home/bay001/projects/kris_apobec_20200121/permanent_data2/03_scRNA/sailor_outputs_individual_barcodes_AA;./Apo_Control_possorted_genome_bam_MD-AACAACCAGTTGGACG-1.json;cd /home/bay001/projects/kris_apobec_20200121/permanent_data2/03_scRNA/sailor_outputs_individual_barcodes_AA;./Apo_Control_possorted_genome_bam_MD-AATTTCCTCGGCATTA-1.json;cd /home/bay001/projects/kris_apobec_20200121/permanent_data2/03_scRNA/sailor_outputs_individual_barcodes_AA;./RPS2_possorted_genome_bam_MD-AAATGGAAGATGCAGC-1.json;cd /home/bay001/projects/kris_apobec_20200121/permanent_data2/03_scRNA/sailor_outputs_individual_barcodes_AA;./RPS2_possorted_genome_bam_MD-AAGGAATGTACTCGTA-1.json;cd /home/bay001/projects/kris_apobec_20200121/permanent_data2/03_scRNA/sailor_outputs_individual_barcodes_AA;./Apo_Control_possorted_genome_bam_MD-AAGCGTTAGCGTCTGC-1.json;cd /home/bay001/projects/kris_apobec_20200121/permanent_data2/03_scRNA/sailor_outputs_individual_barcodes_AA;./Apo_Control_possorted_genome_bam_MD-AAGTACCGTAGCTTGT-1.json;cd /home/bay001/projects/kris_apobec_20200121/permanent_data2/03_scRNA/sailor_outputs_individual_barcodes_AA;./Apo_Control_possorted_genome_bam_MD-AAGACAATCAGTGTCA-1.json;cd /home/bay001/projects/kris_apobec_20200121/permanent_data2/03_scRNA/sailor_outputs_individual_barcodes_AA;./Apo_Control_possorted_genome_bam_MD-AAATGGAGTTCTCCCA-1.json;cd /home/bay001/projects/kris_apobec_20200121/permanent_data2/03_scRNA/sailor_outputs_individual_barcodes_AA;./RPS2_possorted_genome_bam_MD-AATGGCTCAGCAGTGA-1.json;cd /home/bay001/projects/kris_apobec_20200121/permanent_data2/03_scRNA/sailor_outputs_individual_barcodes_AA;./RPS2_possorted_genome_bam_MD-AAATGGATCATGTCAG-1.json;cd /home/bay001/projects/kris_apobec_20200121/permanent_data2/03_scRNA/sailor_outputs_individual_barcodes_AA;./Apo_Control_possorted_genome_bam_MD-AAGCATCGTTCATCTT-1.json;cd /home/bay001/projects/kris_apobec_20200121/permanent_data2/03_scRNA/sailor_outputs_individual_barcodes_AA;./Apo_Control_possorted_genome_bam_MD-AACCTTTGTAGCGTAG-1.json;cd /home/bay001/projects/kris_apobec_20200121/permanent_data2/03_scRNA/sailor_outputs_individual_barcodes_AA;./RPS2_possorted_genome_bam_MD-AAAGGTATCGACGCGT-1.json;cd /home/bay001/projects/kris_apobec_20200121/permanent_data2/03_scRNA/sailor_outputs_individual_barcodes_AA;./RPS2_possorted_genome_bam_MD-AAGTACCGTCTCTCAC-1.json;cd /home/bay001/projects/kris_apobec_20200121/permanent_data2/03_scRNA/sailor_outputs_individual_barcodes_AA;./RPS2_possorted_genome_bam_MD-AAGCCATCAAGCTGTT-1.json;cd /home/bay001/projects/kris_apobec_20200121/permanent_data2/03_scRNA/sailor_outputs_individual_barcodes_AA;./Apo_Control_possorted_genome_bam_MD-AAGCGAGGTCACGACC-1.json;cd /home/bay001/projects/kris_apobec_20200121/permanent_data2/03_scRNA/sailor_outputs_individual_barcodes_AA;./Apo_Control_possorted_genome_bam_MD-AAATGGAGTATACCCA-1.json;cd /home/bay001/projects/kris_apobec_20200121/permanent_data2/03_scRNA/sailor_outputs_individual_barcodes_AA;./RPS2_possorted_genome_bam_MD-AAGATAGCACTACAGT-1.json;cd /home/bay001/projects/kris_apobec_20200121/permanent_data2/03_scRNA/sailor_outputs_individual_barcodes_AA;./RPS2_possorted_genome_bam_MD-AAAGTGACATACCAGT-1.json;cd /home/bay001/projects/kris_apobec_20200121/permanent_data2/03_scRNA/sailor_outputs_individual_barcodes_AA;./RPS2_possorted_genome_bam_MD-AATTTCCCATGGGATG-1.json;cd /home/bay001/projects/kris_apobec_20200121/permanent_data2/03_scRNA/sailor_outputs_individual_barcodes_AA;./RPS2_possorted_genome_bam_MD-AACCTTTAGGGAGGGT-1.json;cd /home/bay001/projects/kris_apobec_20200121/permanent_data2/03_scRNA/sailor_outputs_individual_barcodes_AA;./Apo_Control_possorted_genome_bam_MD-AACCCAAGTAGGAGTC-1.json;cd /home/bay001/projects/kris_apobec_20200121/permanent_data2/03_scRNA/sailor_outputs_individual_barcodes_AA;./RPS2_possorted_genome_bam_MD-AAATGGACATCCTCAC-1.json;cd /home/bay001/projects/kris_apobec_20200121/permanent_data2/03_scRNA/sailor_outputs_individual_barcodes_AA;./Apo_Control_possorted_genome_bam_MD-AAAGGGCAGCTGTGCC-1.json;']"
      ]
     },
     "execution_count": 8,
     "metadata": {},
     "output_type": "execute_result"
    }
   ],
   "source": [
    "cmds = []\n",
    "\n",
    "def chunker(seq, size):\n",
    "    \"\"\"\n",
    "    Chunks a long list into groups of (size).\n",
    "    \"\"\"\n",
    "    return (seq[pos:pos + size] for pos in range(0, len(seq), size))\n",
    "\n",
    "groupsize = 50 # 50 sailor runs per job.\n",
    "progress = tnrange(len(jsons))\n",
    "for json_group in chunker(jsons, groupsize):\n",
    "    cmd = 'module load sailor/1.1.0;'\n",
    "    for json in json_group:\n",
    "        prefix = os.path.basename(json).split('_MD-')[1][:2]\n",
    "        split_output_dir = output_dir + \"_{}\".format(prefix)\n",
    "        ! chmod +x $json\n",
    "        cmd += 'cd {};'.format(split_output_dir)\n",
    "        cmd += './{};'.format(os.path.basename(json))\n",
    "        progress.update(1)\n",
    "    cmds.append(cmd)\n",
    "cmds[:2]"
   ]
  },
  {
   "cell_type": "markdown",
   "metadata": {},
   "source": [
    "# MAKE SURE we don't exceed ~500 total qsub commands! (submit=False for this reason, when everything looks good re-run with ```submit=True```)"
   ]
  },
  {
   "cell_type": "code",
   "execution_count": 9,
   "metadata": {},
   "outputs": [
    {
     "name": "stdout",
     "output_type": "stream",
     "text": [
      "total commands: 398\n"
     ]
    }
   ],
   "source": [
    "print(\"total commands: {}\".format(len(cmds)))"
   ]
  },
  {
   "cell_type": "code",
   "execution_count": 10,
   "metadata": {},
   "outputs": [
    {
     "name": "stderr",
     "output_type": "stream",
     "text": [
      "Writing 398 tasks as an array-job.\n",
      "Wrote commands to scRNA-sailor-individual.sh.\n",
      "Submitted script to queue home.\n",
      " Job ID: 21107152\n"
     ]
    },
    {
     "data": {
      "text/plain": [
       "<qtools.submitter.Submitter at 0x2b73d7f616d0>"
      ]
     },
     "execution_count": 10,
     "metadata": {},
     "output_type": "execute_result"
    }
   ],
   "source": [
    "Submitter(\n",
    "    commands=cmds,\n",
    "    job_name='scRNA-sailor-individual',\n",
    "    sh='scRNA-sailor-individual.sh',\n",
    "    array=True,\n",
    "    nodes=1,\n",
    "    ppn=1,\n",
    "    walltime='72:00:00',\n",
    "    submit=False,\n",
    ")"
   ]
  },
  {
   "cell_type": "code",
   "execution_count": null,
   "metadata": {},
   "outputs": [],
   "source": []
  }
 ],
 "metadata": {
  "kernelspec": {
   "display_name": "python2-essential",
   "language": "python",
   "name": "python2-essential"
  },
  "language_info": {
   "codemirror_mode": {
    "name": "ipython",
    "version": 2
   },
   "file_extension": ".py",
   "mimetype": "text/x-python",
   "name": "python",
   "nbconvert_exporter": "python",
   "pygments_lexer": "ipython2",
   "version": "2.7.15"
  }
 },
 "nbformat": 4,
 "nbformat_minor": 2
}
