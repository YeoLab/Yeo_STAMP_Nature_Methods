{
 "cells": [
  {
   "cell_type": "markdown",
   "metadata": {},
   "source": [
    "# for the \"new\" epkm measurement, we'll need the expression (read counts) across select CDS or CDS+3'UTR regions."
   ]
  },
  {
   "cell_type": "code",
   "execution_count": 1,
   "metadata": {},
   "outputs": [],
   "source": [
    "%matplotlib inline\n",
    "\n",
    "import glob\n",
    "import os\n",
    "import pandas as pd\n",
    "import gffutils\n",
    "import pysam\n",
    "import pybedtools\n",
    "import matplotlib.pyplot as plt\n",
    "import seaborn as sns\n",
    "import matplotlib.pyplot as plt\n",
    "import scipy.stats as stats\n",
    "from collections import OrderedDict\n",
    "from tqdm import tnrange, tqdm_notebook\n",
    "from qtools import Submitter"
   ]
  },
  {
   "cell_type": "code",
   "execution_count": 2,
   "metadata": {},
   "outputs": [],
   "source": [
    "input_dir = '/home/bay001/projects/kris_apobec_20200121/permanent_data2/03_scRNA_APOBEC_RPS2/bam_files'\n",
    "output_dir = '/home/bay001/projects/kris_apobec_20200121/permanent_data2/03_scRNA_APOBEC_RPS2/outputs/expression_counts'"
   ]
  },
  {
   "cell_type": "markdown",
   "metadata": {},
   "source": [
    "# Run featureCounts to get the number of edits assigned to each gene.\n",
    "- Run featureCounts 16 times, once in each \"bin\" to save resources"
   ]
  },
  {
   "cell_type": "code",
   "execution_count": 3,
   "metadata": {},
   "outputs": [],
   "source": [
    "region = 'cds_only'  # can be cds_and_3utr. Controls the if/else below, and sets the output suffixes."
   ]
  },
  {
   "cell_type": "code",
   "execution_count": 4,
   "metadata": {},
   "outputs": [],
   "source": [
    "if region == 'cds_and_3utr':\n",
    "    saf = '/home/bay001/projects/kris_apobec_20200121/permanent_data2/07_scRNA_groups/inputs/genes.cds_and_3utr.SAF'\n",
    "elif region == 'cds_only':\n",
    "    saf = '/home/bay001/projects/kris_apobec_20200121/permanent_data2/07_scRNA_groups/inputs/genes.cds_only.SAF'\n",
    "else:\n",
    "    saf = None"
   ]
  },
  {
   "cell_type": "code",
   "execution_count": 5,
   "metadata": {},
   "outputs": [
    {
     "name": "stderr",
     "output_type": "stream",
     "text": [
      "Writing 16 tasks as an array-job.\n",
      "Wrote commands to Apo_Control_possorted_genome_bam_MD-featureCounts.sh.\n",
      "Submitted script to queue home.\n",
      " Job ID: 24376446\n",
      "Writing 16 tasks as an array-job.\n",
      "Wrote commands to RPS2_possorted_genome_bam_MD-featureCounts.sh.\n",
      "Submitted script to queue home.\n",
      " Job ID: 24376447\n"
     ]
    }
   ],
   "source": [
    "for prefix in [\n",
    "    'Apo_Control_possorted_genome_bam_MD-',\n",
    "    'RPS2_possorted_genome_bam_MD-'\n",
    "]:\n",
    "    cmds = []\n",
    "    for nt in ['A', 'C', 'G', 'T']:\n",
    "        for nt2 in ['A', 'C', 'G', 'T']:\n",
    "            output_file = os.path.join(output_dir, '{}{}{}_counts.{}.txt'.format(prefix, nt, nt2, region))\n",
    "            cmd = 'module load subreadfeaturecounts;featureCounts '\n",
    "            cmd += '-a {} '.format(saf)\n",
    "            cmd += '-F SAF '\n",
    "            cmd += '-s 1 '\n",
    "            cmd += '-o {} '.format(output_file)\n",
    "            cmd += os.path.join(input_dir, '{}{}{}*.bam'.format(prefix, nt, nt2))\n",
    "\n",
    "            cmds.append(cmd)\n",
    "    Submitter(\n",
    "        commands=cmds,\n",
    "        job_name='{}_{}featureCounts'.format(prefix, region),\n",
    "        sh='{}_{}featureCounts.sh'.format(prefix, region),\n",
    "        array=True,\n",
    "        nodes=1,\n",
    "        ppn=2,\n",
    "        walltime='48:00:00',\n",
    "        submit=True,\n",
    "    )"
   ]
  },
  {
   "cell_type": "code",
   "execution_count": 6,
   "metadata": {},
   "outputs": [
    {
     "name": "stdout",
     "output_type": "stream",
     "text": [
      "16\n"
     ]
    },
    {
     "data": {
      "text/plain": [
       "['module load subreadfeaturecounts;featureCounts -a /home/bay001/projects/kris_apobec_20200121/permanent_data2/07_scRNA_groups/inputs/genes.cds_only.SAF -F SAF -s 1 -o /home/bay001/projects/kris_apobec_20200121/permanent_data2/03_scRNA_APOBEC_RPS2/outputs/expression_counts/RPS2_possorted_genome_bam_MD-AA_counts.cds_only.txt /home/bay001/projects/kris_apobec_20200121/permanent_data2/03_scRNA_APOBEC_RPS2/bam_files/RPS2_possorted_genome_bam_MD-AA*.bam',\n",
       " 'module load subreadfeaturecounts;featureCounts -a /home/bay001/projects/kris_apobec_20200121/permanent_data2/07_scRNA_groups/inputs/genes.cds_only.SAF -F SAF -s 1 -o /home/bay001/projects/kris_apobec_20200121/permanent_data2/03_scRNA_APOBEC_RPS2/outputs/expression_counts/RPS2_possorted_genome_bam_MD-AC_counts.cds_only.txt /home/bay001/projects/kris_apobec_20200121/permanent_data2/03_scRNA_APOBEC_RPS2/bam_files/RPS2_possorted_genome_bam_MD-AC*.bam']"
      ]
     },
     "execution_count": 6,
     "metadata": {},
     "output_type": "execute_result"
    }
   ],
   "source": [
    "print(len(cmds))\n",
    "cmds[:2]"
   ]
  },
  {
   "cell_type": "markdown",
   "metadata": {},
   "source": [
    "# Read in featureCounts (3'utr) output"
   ]
  },
  {
   "cell_type": "code",
   "execution_count": 20,
   "metadata": {},
   "outputs": [
    {
     "name": "stdout",
     "output_type": "stream",
     "text": [
      "16\n"
     ]
    },
    {
     "data": {
      "text/plain": [
       "['/home/bay001/projects/kris_apobec_20200121/permanent_data2/03_scRNA_APOBEC_RPS2/outputs/expression_counts/RPS2_possorted_genome_bam_MD-AA_counts.cds_and_3utr.txt',\n",
       " '/home/bay001/projects/kris_apobec_20200121/permanent_data2/03_scRNA_APOBEC_RPS2/outputs/expression_counts/RPS2_possorted_genome_bam_MD-AC_counts.cds_and_3utr.txt',\n",
       " '/home/bay001/projects/kris_apobec_20200121/permanent_data2/03_scRNA_APOBEC_RPS2/outputs/expression_counts/RPS2_possorted_genome_bam_MD-AG_counts.cds_and_3utr.txt']"
      ]
     },
     "execution_count": 20,
     "metadata": {},
     "output_type": "execute_result"
    }
   ],
   "source": [
    "prefix = 'RPS2_possorted_genome_bam_MD-'  # bad, refactor\n",
    "region = 'cds_and_3utr'\n",
    "all_counts = sorted(glob.glob(os.path.join(output_dir, '{}*_counts.{}.txt'.format(prefix, region))))\n",
    "print(len(all_counts))\n",
    "all_counts[:3]"
   ]
  },
  {
   "cell_type": "code",
   "execution_count": 21,
   "metadata": {},
   "outputs": [
    {
     "data": {
      "text/html": [
       "<div>\n",
       "<style scoped>\n",
       "    .dataframe tbody tr th:only-of-type {\n",
       "        vertical-align: middle;\n",
       "    }\n",
       "\n",
       "    .dataframe tbody tr th {\n",
       "        vertical-align: top;\n",
       "    }\n",
       "\n",
       "    .dataframe thead th {\n",
       "        text-align: right;\n",
       "    }\n",
       "</style>\n",
       "<table border=\"1\" class=\"dataframe\">\n",
       "  <thead>\n",
       "    <tr style=\"text-align: right;\">\n",
       "      <th></th>\n",
       "    </tr>\n",
       "  </thead>\n",
       "  <tbody>\n",
       "  </tbody>\n",
       "</table>\n",
       "</div>"
      ],
      "text/plain": [
       "Empty DataFrame\n",
       "Columns: []\n",
       "Index: []"
      ]
     },
     "execution_count": 21,
     "metadata": {},
     "output_type": "execute_result"
    }
   ],
   "source": [
    "merged = pd.DataFrame(index=[])\n",
    "merged"
   ]
  },
  {
   "cell_type": "code",
   "execution_count": 22,
   "metadata": {},
   "outputs": [
    {
     "data": {
      "application/vnd.jupyter.widget-view+json": {
       "model_id": "6a6d6a1f849f470da10d1dd62830b305",
       "version_major": 2,
       "version_minor": 0
      },
      "text/plain": [
       "HBox(children=(IntProgress(value=0, max=16), HTML(value=u'')))"
      ]
     },
     "metadata": {},
     "output_type": "display_data"
    },
    {
     "name": "stdout",
     "output_type": "stream",
     "text": [
      "dataframe size: (20356, 570), NEW merged size: (20356, 570)\n",
      "dataframe size: (20356, 601), NEW merged size: (20356, 1171)\n",
      "dataframe size: (20356, 813), NEW merged size: (20356, 1984)\n",
      "dataframe size: (20356, 700), NEW merged size: (20356, 2684)\n",
      "dataframe size: (20356, 826), NEW merged size: (20356, 3510)\n",
      "dataframe size: (20356, 564), NEW merged size: (20356, 4074)\n",
      "dataframe size: (20356, 494), NEW merged size: (20356, 4568)\n",
      "dataframe size: (20356, 770), NEW merged size: (20356, 5338)\n",
      "dataframe size: (20356, 728), NEW merged size: (20356, 6066)\n",
      "dataframe size: (20356, 440), NEW merged size: (20356, 6506)\n",
      "dataframe size: (20356, 617), NEW merged size: (20356, 7123)\n",
      "dataframe size: (20356, 817), NEW merged size: (20356, 7940)\n",
      "dataframe size: (20356, 648), NEW merged size: (20356, 8588)\n",
      "dataframe size: (20356, 956), NEW merged size: (20356, 9544)\n",
      "dataframe size: (20356, 822), NEW merged size: (20356, 10366)\n",
      "dataframe size: (20356, 784), NEW merged size: (20356, 11150)\n"
     ]
    }
   ],
   "source": [
    "progress = tnrange(16)\n",
    "for counts in all_counts:\n",
    "    df = pd.read_csv(counts, sep='\\t', index_col=0, skiprows=1)\n",
    "    df = df.iloc[:,5:]\n",
    "    df.columns = [\n",
    "        c.replace('/home/bay001/projects/kris_apobec_20200121/permanent_data2/03_scRNA_APOBEC_RPS2/bam_files/', '') for c in df.columns\n",
    "    ]\n",
    "    merged = pd.merge(merged, df, how='outer', left_index=True, right_index=True)\n",
    "    print(\"dataframe size: {}, NEW merged size: {}\".format(df.shape, merged.shape))\n",
    "    progress.update(1)"
   ]
  },
  {
   "cell_type": "code",
   "execution_count": 23,
   "metadata": {},
   "outputs": [],
   "source": [
    "merged.to_csv(os.path.join(output_dir, '{}all_counts.{}.txt'.format(prefix, region)), sep='\\t')"
   ]
  },
  {
   "cell_type": "code",
   "execution_count": null,
   "metadata": {},
   "outputs": [],
   "source": []
  }
 ],
 "metadata": {
  "kernelspec": {
   "display_name": "python2-essential",
   "language": "python",
   "name": "python2-essential"
  },
  "language_info": {
   "codemirror_mode": {
    "name": "ipython",
    "version": 2
   },
   "file_extension": ".py",
   "mimetype": "text/x-python",
   "name": "python",
   "nbconvert_exporter": "python",
   "pygments_lexer": "ipython2",
   "version": "2.7.15"
  }
 },
 "nbformat": 4,
 "nbformat_minor": 2
}
