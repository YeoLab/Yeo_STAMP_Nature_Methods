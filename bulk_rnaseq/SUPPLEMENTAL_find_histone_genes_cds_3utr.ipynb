{
 "cells": [
  {
   "cell_type": "markdown",
   "metadata": {},
   "source": [
    "# In this analysis, we are taking a set of peaks and finding those peaks that contain a motif"
   ]
  },
  {
   "cell_type": "code",
   "execution_count": 1,
   "metadata": {},
   "outputs": [],
   "source": [
    "%matplotlib inline\n",
    "\n",
    "import matplotlib.pyplot as plt\n",
    "import seaborn as sns\n",
    "import pandas as pd\n",
    "import numpy as np\n",
    "import os\n",
    "import glob\n",
    "import pybedtools\n",
    "import pysam\n",
    "import re\n",
    "import urllib\n",
    "import sqlite3\n",
    "import random\n",
    "from random import sample \n",
    "from collections import Counter\n",
    "from tqdm import tnrange, tqdm_notebook\n",
    "from xml.dom import minidom\n",
    "from Bio import SeqIO\n",
    "from matplotlib_venn import venn2\n",
    "pd.set_option('display.max_colwidth', 1000)"
   ]
  },
  {
   "cell_type": "code",
   "execution_count": 2,
   "metadata": {},
   "outputs": [],
   "source": [
    "input_dir = '/home/bay001/projects/kris_apobec_20200121/permanent_data/final_analysis/01_SAILOR_bulk_rnaseq/inputs/'\n",
    "output_dir = '/home/bay001/projects/kris_apobec_20200121/permanent_data/final_analysis/01_SAILOR_bulk_rnaseq/outputs/'"
   ]
  },
  {
   "cell_type": "code",
   "execution_count": 3,
   "metadata": {},
   "outputs": [],
   "source": [
    "slop = 0  # leave at 0 since we're starting with the full 3'utr region.\n",
    "motif = 'TTTTC'"
   ]
  },
  {
   "cell_type": "markdown",
   "metadata": {},
   "source": [
    "# Define our peak sites\n",
    "- These may come from multiple sources. I'm trying to classify them according to how they were annotated (if they were annotated). "
   ]
  },
  {
   "cell_type": "code",
   "execution_count": 4,
   "metadata": {},
   "outputs": [],
   "source": [
    "hist_genes = '/home/rmarina/projects/apobec/ref_files/histone_genes.bed'\n",
    "regions_of_interest = '/projects/ps-yeolab3/bay001/annotations/hg19/gencode_v19/hg19_v19_cds_and_three_prime_utrs.bed'\n",
    "\n",
    "assert os.path.exists(hist_genes)"
   ]
  },
  {
   "cell_type": "markdown",
   "metadata": {},
   "source": [
    "### Read in hist genes and intersect geneids with our regions of interest to get the CDS and 3'UTRs for these genes only."
   ]
  },
  {
   "cell_type": "code",
   "execution_count": 5,
   "metadata": {},
   "outputs": [
    {
     "name": "stdout",
     "output_type": "stream",
     "text": [
      "Number of histone genes: (should be 122 but in case Ryan updates this file) 122\n",
      "Number of histone genes that are missing CDS or 3UTR: 33\n"
     ]
    },
    {
     "data": {
      "text/html": [
       "<div>\n",
       "<style scoped>\n",
       "    .dataframe tbody tr th:only-of-type {\n",
       "        vertical-align: middle;\n",
       "    }\n",
       "\n",
       "    .dataframe tbody tr th {\n",
       "        vertical-align: top;\n",
       "    }\n",
       "\n",
       "    .dataframe thead th {\n",
       "        text-align: right;\n",
       "    }\n",
       "</style>\n",
       "<table border=\"1\" class=\"dataframe\">\n",
       "  <thead>\n",
       "    <tr style=\"text-align: right;\">\n",
       "      <th></th>\n",
       "      <th>geneid</th>\n",
       "      <th>genename</th>\n",
       "      <th>chrom</th>\n",
       "      <th>start</th>\n",
       "      <th>end</th>\n",
       "      <th>score</th>\n",
       "      <th>strand</th>\n",
       "    </tr>\n",
       "  </thead>\n",
       "  <tbody>\n",
       "    <tr>\n",
       "      <th>3</th>\n",
       "      <td>ENSG00000203818.6</td>\n",
       "      <td>HIST2H3PS2</td>\n",
       "      <td>chr1</td>\n",
       "      <td>149400134.0</td>\n",
       "      <td>149400542.0</td>\n",
       "      <td>0.0</td>\n",
       "      <td>-</td>\n",
       "    </tr>\n",
       "    <tr>\n",
       "      <th>4</th>\n",
       "      <td>ENSG00000203818.6</td>\n",
       "      <td>HIST2H3PS2</td>\n",
       "      <td>chr1</td>\n",
       "      <td>149400130.0</td>\n",
       "      <td>149400134.0</td>\n",
       "      <td>0.0</td>\n",
       "      <td>-</td>\n",
       "    </tr>\n",
       "    <tr>\n",
       "      <th>5</th>\n",
       "      <td>ENSG00000203814.5</td>\n",
       "      <td>HIST2H2BF</td>\n",
       "      <td>chr1</td>\n",
       "      <td>149754791.0</td>\n",
       "      <td>149754816.0</td>\n",
       "      <td>0.0</td>\n",
       "      <td>-</td>\n",
       "    </tr>\n",
       "    <tr>\n",
       "      <th>6</th>\n",
       "      <td>ENSG00000203814.5</td>\n",
       "      <td>HIST2H2BF</td>\n",
       "      <td>chr1</td>\n",
       "      <td>149765522.0</td>\n",
       "      <td>149765643.0</td>\n",
       "      <td>0.0</td>\n",
       "      <td>-</td>\n",
       "    </tr>\n",
       "    <tr>\n",
       "      <th>7</th>\n",
       "      <td>ENSG00000203814.5</td>\n",
       "      <td>HIST2H2BF</td>\n",
       "      <td>chr1</td>\n",
       "      <td>149783500.0</td>\n",
       "      <td>149783878.0</td>\n",
       "      <td>0.0</td>\n",
       "      <td>-</td>\n",
       "    </tr>\n",
       "  </tbody>\n",
       "</table>\n",
       "</div>"
      ],
      "text/plain": [
       "              geneid    genename chrom        start          end  score strand\n",
       "3  ENSG00000203818.6  HIST2H3PS2  chr1  149400134.0  149400542.0    0.0      -\n",
       "4  ENSG00000203818.6  HIST2H3PS2  chr1  149400130.0  149400134.0    0.0      -\n",
       "5  ENSG00000203814.5   HIST2H2BF  chr1  149754791.0  149754816.0    0.0      -\n",
       "6  ENSG00000203814.5   HIST2H2BF  chr1  149765522.0  149765643.0    0.0      -\n",
       "7  ENSG00000203814.5   HIST2H2BF  chr1  149783500.0  149783878.0    0.0      -"
      ]
     },
     "execution_count": 5,
     "metadata": {},
     "output_type": "execute_result"
    }
   ],
   "source": [
    "all_genes = pd.read_csv(hist_genes, sep='\\t', names=['chrom','start','end','geneid','genename','strand'])[['geneid','genename']]\n",
    "print(\"Number of histone genes: (should be 122 but in case Ryan updates this file) {}\".format(all_genes.shape[0]))\n",
    "all_regions = pd.read_csv(regions_of_interest, sep='\\t', names=['chrom','start','end','geneid','score','strand'])\n",
    "\n",
    "regions = pd.merge(all_genes, all_regions, how='left', left_on=['geneid'], right_on=['geneid'])\n",
    "print(\"Number of histone genes that are missing CDS or 3UTR: {}\".format(regions.shape[0] - regions.dropna().shape[0]))\n",
    "regions.dropna(inplace=True)\n",
    "regions.head()"
   ]
  },
  {
   "cell_type": "markdown",
   "metadata": {},
   "source": [
    "### Re-format these 243 regions (exons) into a BED-like format. "
   ]
  },
  {
   "cell_type": "code",
   "execution_count": 6,
   "metadata": {},
   "outputs": [
    {
     "name": "stdout",
     "output_type": "stream",
     "text": [
      "243\n"
     ]
    },
    {
     "data": {
      "text/html": [
       "<div>\n",
       "<style scoped>\n",
       "    .dataframe tbody tr th:only-of-type {\n",
       "        vertical-align: middle;\n",
       "    }\n",
       "\n",
       "    .dataframe tbody tr th {\n",
       "        vertical-align: top;\n",
       "    }\n",
       "\n",
       "    .dataframe thead th {\n",
       "        text-align: right;\n",
       "    }\n",
       "</style>\n",
       "<table border=\"1\" class=\"dataframe\">\n",
       "  <thead>\n",
       "    <tr style=\"text-align: right;\">\n",
       "      <th></th>\n",
       "      <th>chrom</th>\n",
       "      <th>start</th>\n",
       "      <th>end</th>\n",
       "      <th>geneid</th>\n",
       "      <th>score</th>\n",
       "      <th>strand</th>\n",
       "    </tr>\n",
       "  </thead>\n",
       "  <tbody>\n",
       "    <tr>\n",
       "      <th>3</th>\n",
       "      <td>chr1</td>\n",
       "      <td>149400134</td>\n",
       "      <td>149400542</td>\n",
       "      <td>ENSG00000203818.6</td>\n",
       "      <td>0.0</td>\n",
       "      <td>-</td>\n",
       "    </tr>\n",
       "    <tr>\n",
       "      <th>4</th>\n",
       "      <td>chr1</td>\n",
       "      <td>149400130</td>\n",
       "      <td>149400134</td>\n",
       "      <td>ENSG00000203818.6</td>\n",
       "      <td>0.0</td>\n",
       "      <td>-</td>\n",
       "    </tr>\n",
       "    <tr>\n",
       "      <th>5</th>\n",
       "      <td>chr1</td>\n",
       "      <td>149754791</td>\n",
       "      <td>149754816</td>\n",
       "      <td>ENSG00000203814.5</td>\n",
       "      <td>0.0</td>\n",
       "      <td>-</td>\n",
       "    </tr>\n",
       "    <tr>\n",
       "      <th>6</th>\n",
       "      <td>chr1</td>\n",
       "      <td>149765522</td>\n",
       "      <td>149765643</td>\n",
       "      <td>ENSG00000203814.5</td>\n",
       "      <td>0.0</td>\n",
       "      <td>-</td>\n",
       "    </tr>\n",
       "    <tr>\n",
       "      <th>7</th>\n",
       "      <td>chr1</td>\n",
       "      <td>149783500</td>\n",
       "      <td>149783878</td>\n",
       "      <td>ENSG00000203814.5</td>\n",
       "      <td>0.0</td>\n",
       "      <td>-</td>\n",
       "    </tr>\n",
       "  </tbody>\n",
       "</table>\n",
       "</div>"
      ],
      "text/plain": [
       "  chrom      start        end             geneid  score strand\n",
       "3  chr1  149400134  149400542  ENSG00000203818.6    0.0      -\n",
       "4  chr1  149400130  149400134  ENSG00000203818.6    0.0      -\n",
       "5  chr1  149754791  149754816  ENSG00000203814.5    0.0      -\n",
       "6  chr1  149765522  149765643  ENSG00000203814.5    0.0      -\n",
       "7  chr1  149783500  149783878  ENSG00000203814.5    0.0      -"
      ]
     },
     "execution_count": 6,
     "metadata": {},
     "output_type": "execute_result"
    }
   ],
   "source": [
    "regions['start'] = regions['start'].astype(int)\n",
    "regions['end'] = regions['end'].astype(int)\n",
    "regions = regions[['chrom','start','end','geneid','score','strand']]\n",
    "print(regions.shape[0])\n",
    "regions.head()"
   ]
  },
  {
   "cell_type": "markdown",
   "metadata": {},
   "source": [
    "### For this dataset, we already know that these cover 3'UTRs and CDS regions."
   ]
  },
  {
   "cell_type": "code",
   "execution_count": null,
   "metadata": {},
   "outputs": [],
   "source": []
  },
  {
   "cell_type": "markdown",
   "metadata": {},
   "source": [
    "# get the fasta sequences and check for existence of motif"
   ]
  },
  {
   "cell_type": "markdown",
   "metadata": {},
   "source": [
    "## Convert our filtered peaks to BedTool objects."
   ]
  },
  {
   "cell_type": "code",
   "execution_count": 7,
   "metadata": {},
   "outputs": [
    {
     "name": "stdout",
     "output_type": "stream",
     "text": [
      "size prior to merge: 243\n",
      "size after merge: 142\n"
     ]
    },
    {
     "name": "stderr",
     "output_type": "stream",
     "text": [
      "/home/bay001/anaconda2/envs/python3-essential/lib/python3.6/site-packages/pybedtools/bedtool.py:3439: FutureWarning: read_table is deprecated, use read_csv instead, passing sep='\\t'.\n",
      "  return pandas.read_table(self.fn, *args, **kwargs)\n",
      "/home/bay001/anaconda2/envs/python3-essential/lib/python3.6/site-packages/pybedtools/bedtool.py:3439: FutureWarning: read_table is deprecated, use read_csv instead, passing sep='\\t'.\n",
      "  return pandas.read_table(self.fn, *args, **kwargs)\n"
     ]
    }
   ],
   "source": [
    "genome_fasta = '/projects/ps-yeolab3/bay001/annotations/hg19/hg19.fa'\n",
    "chrom_sizes = '/projects/ps-yeolab3/bay001/annotations/hg19/hg19.chrom.sizes'\n",
    "\n",
    "def get_peak_interval_from_annotated_dataframe(df, slop, chrom_sizes=None):\n",
    "    \"\"\" \n",
    "    Returns a bedtool from a peaks dataframe. \n",
    "    Peaks dataframe is generated from above (regions).\n",
    "    Merges the bedtool so we reduce chance of overlapping. \n",
    "    Merging also \"connects\" CDS and 3'UTR regions\n",
    "    \"\"\"\n",
    "    \n",
    "    bedtool = pybedtools.BedTool.from_dataframe(df).sort()\n",
    "    bedtool = bedtool.slop(b=slop, g=chrom_sizes)\n",
    "    print(\"size prior to merge: {}\".format(bedtool.to_dataframe().shape[0]))\n",
    "    bedtool = bedtool.merge(c=(4,5,6), s=True, o=('distinct','collapse','distinct'))\n",
    "    print(\"size after merge: {}\".format(bedtool.to_dataframe().shape[0]))\n",
    "    return bedtool\n",
    "\n",
    "# utr3_bedtool is a bedtool-ified version of the annotated dataframe for JUST 3'UTR peaks.\n",
    "peaks_bedtool = get_peak_interval_from_annotated_dataframe(regions, slop=slop, chrom_sizes=chrom_sizes)"
   ]
  },
  {
   "cell_type": "markdown",
   "metadata": {},
   "source": [
    "# Need some kind of set of genes that are considered \"bound by SLBP.\" \n",
    "- So we're going to use the original gene list from Ryan and return the genes that have a 3'UTR or CDS (so not Pseudogenes)."
   ]
  },
  {
   "cell_type": "code",
   "execution_count": 8,
   "metadata": {},
   "outputs": [
    {
     "data": {
      "text/plain": [
       "{'ENSG00000178458.5',\n",
       " 'ENSG00000178762.3',\n",
       " 'ENSG00000181201.2',\n",
       " 'ENSG00000203819.6',\n",
       " 'ENSG00000206417.4',\n",
       " 'ENSG00000213244.3',\n",
       " 'ENSG00000213440.2',\n",
       " 'ENSG00000216331.1',\n",
       " 'ENSG00000216436.2',\n",
       " 'ENSG00000217646.1',\n",
       " 'ENSG00000217862.2',\n",
       " 'ENSG00000218281.1',\n",
       " 'ENSG00000218502.3',\n",
       " 'ENSG00000218690.1',\n",
       " 'ENSG00000220323.3',\n",
       " 'ENSG00000220875.1',\n",
       " 'ENSG00000223345.3',\n",
       " 'ENSG00000223383.1',\n",
       " 'ENSG00000224447.1',\n",
       " 'ENSG00000226881.4',\n",
       " 'ENSG00000226908.1',\n",
       " 'ENSG00000230618.3',\n",
       " 'ENSG00000233320.2',\n",
       " 'ENSG00000233733.1',\n",
       " 'ENSG00000234289.4',\n",
       " 'ENSG00000234612.1',\n",
       " 'ENSG00000235655.2',\n",
       " 'ENSG00000236534.1',\n",
       " 'ENSG00000240929.2',\n",
       " 'ENSG00000242387.1',\n",
       " 'ENSG00000255329.1',\n",
       " 'ENSG00000259389.2',\n",
       " 'ENSG00000265541.1'}"
      ]
     },
     "execution_count": 8,
     "metadata": {},
     "output_type": "execute_result"
    },
    {
     "data": {
      "image/png": "[encoded data removed]",
      "text/plain": [
       "<Figure size 432x288 with 1 Axes>"
      ]
     },
     "metadata": {},
     "output_type": "display_data"
    }
   ],
   "source": [
    "x = peaks_bedtool.to_dataframe()\n",
    "venn2([set(x['name']), set(all_genes['geneid'])], ['Genes w/CDS or 3UTR', 'Genes in list'])\n",
    "set(all_genes['geneid']).difference(set(x['name']))"
   ]
  },
  {
   "cell_type": "code",
   "execution_count": 9,
   "metadata": {},
   "outputs": [],
   "source": [
    "with open(os.path.join(output_dir, 'histone_genes_with_cds_or_3utr_annotations.txt'), 'w') as o:\n",
    "    for i in set(x['name']):\n",
    "        o.write(\"{}\\n\".format(i))"
   ]
  },
  {
   "cell_type": "code",
   "execution_count": 10,
   "metadata": {},
   "outputs": [],
   "source": [
    "def record_id_to_coords(id_string):\n",
    "    \"\"\" \n",
    "    Turns a seqrecord fasta id into coordinates.\n",
    "    seqrecord fasta ids (stranded) look like this:\n",
    "    \n",
    "    chr11:1774028-1774186(-)\n",
    "    \n",
    "    \"\"\"\n",
    "    chrom, pos = id_string.split(':')\n",
    "    coord, strand = pos.split('(')\n",
    "    strand = strand.replace(')','')\n",
    "    start, end = coord.split('-')\n",
    "    try:\n",
    "        assert (strand == '+') or (strand == '-')\n",
    "    except AssertionError:\n",
    "        print(\"Strand not correct: [{}]\".format(strand))\n",
    "        return 1\n",
    "    return chrom, int(start), int(end), strand"
   ]
  },
  {
   "cell_type": "markdown",
   "metadata": {},
   "source": [
    "# Get the sequence from the 3'UTR peaks and save them. This will report strand-specific, so negative stranded coordinates will return the reverse complement. "
   ]
  },
  {
   "cell_type": "code",
   "execution_count": 11,
   "metadata": {},
   "outputs": [],
   "source": [
    "def write_peaks_as_fasta(bedtool, genome_fa, output_fasta):\n",
    "    \"\"\"\n",
    "    Writes peaks as strand-specific FASTA sequences. \n",
    "    s=True means we will be returning the reverse complement \n",
    "    sequence for negative strand peaks.\n",
    "    \"\"\"\n",
    "    seq_bedtool = bedtool.sequence(fi=genome_fa, s=True)\n",
    "    with open(output_fasta, 'w') as f:\n",
    "        f.write(open(seq_bedtool.seqfn).read())\n",
    "\n",
    "output_fasta = os.path.join(output_dir, os.path.splitext(os.path.basename(hist_genes))[0] + \".fasta\")\n",
    "\n",
    "write_peaks_as_fasta(\n",
    "    bedtool=peaks_bedtool,\n",
    "    genome_fa=genome_fasta,\n",
    "    output_fasta=output_fasta\n",
    ")"
   ]
  },
  {
   "cell_type": "code",
   "execution_count": null,
   "metadata": {},
   "outputs": [],
   "source": []
  },
  {
   "cell_type": "code",
   "execution_count": 12,
   "metadata": {},
   "outputs": [
    {
     "name": "stdout",
     "output_type": "stream",
     "text": [
      "Number of \"peaks\" found: 199\n"
     ]
    }
   ],
   "source": [
    "def get_positions(record, motif, slop):\n",
    "    \"\"\"\n",
    "    Iterates over a sequence and returns positions that match a motif.\n",
    "    \"\"\"\n",
    "    \n",
    "    positions = []\n",
    "    chrom, start, end, strand = record_id_to_coords(record.id)\n",
    "    i = 0\n",
    "    \n",
    "    while i < len(record.seq)-len(motif):\n",
    "        kmer = record.seq[i:i+len(motif)].upper()\n",
    "        if kmer == motif:\n",
    "            if strand == '+':\n",
    "                positions.append(\"{}\\t{}\\t{}\\t{}\\t{}\\t{}\\n\".format(\n",
    "                    chrom, i+start-slop, i+start+len(motif)+slop, motif, '0', strand\n",
    "                ))\n",
    "            elif strand == '-':\n",
    "                positions.append(\"{}\\t{}\\t{}\\t{}\\t{}\\t{}\\n\".format(\n",
    "                    chrom, end-i-len(motif)-slop, end-i+slop, motif, '0', strand\n",
    "                ))\n",
    "        i+=1\n",
    "    return positions\n",
    "\n",
    "\n",
    "positions = []\n",
    "records = SeqIO.parse(output_fasta, \"fasta\")\n",
    "for record in records:\n",
    "    positions += get_positions(record, motif, slop=10)\n",
    "\n",
    "print(\"Number of \\\"peaks\\\" found: {}\".format(len(positions)))\n",
    "with open(os.path.join(output_dir, os.path.splitext(os.path.basename(hist_genes))[0] + \".with.{}.bed\".format(motif)), 'w') as o:\n",
    "    for position in positions:\n",
    "        o.write(position)"
   ]
  },
  {
   "cell_type": "markdown",
   "metadata": {},
   "source": [
    "# Make sure every sequence we have has the motif."
   ]
  },
  {
   "cell_type": "code",
   "execution_count": 13,
   "metadata": {},
   "outputs": [],
   "source": [
    "def return_sequence_records_with_motif(fn, motif):\n",
    "    \"\"\"\n",
    "    Returns a SeqIO record of sequences containing the motif. We expect this \n",
    "    FASTA file to contain the reverse-complement sequences if negative strand. \n",
    "    We also expect the FASTA headers to contain strand info \n",
    "    @see BedTool.sequence(fi=hg19.fa, s=True)\n",
    "    \"\"\"\n",
    "    seqs_with_motif = []\n",
    "    with open(fn, 'r') as f:\n",
    "        for record in SeqIO.parse(f, \"fasta\"):\n",
    "            chrom, start, end, strand = record_id_to_coords(record.id)\n",
    "            if (strand == '+' or strand =='-') and str(record.seq).upper().find(motif) != -1:\n",
    "                seqs_with_motif.append(record)\n",
    "            else:\n",
    "                assert strand == '+' or strand == '-'\n",
    "    return seqs_with_motif\n",
    "\n",
    "seqs_with_motif = return_sequence_records_with_motif(fn=os.path.join(output_dir, os.path.splitext(os.path.basename(hist_genes))[0] + \".with.{}.bed\".format(motif)), motif=motif)\n",
    "\n",
    "# Make sure every region describes a motif\n",
    "\n",
    "for record in seqs_with_motif:\n",
    "    try:\n",
    "        record_upper = record.seq.upper()\n",
    "        assert record_upper[record_upper.find(motif):record_upper.find(motif)+len(motif)] == motif\n",
    "    except AssertionError:\n",
    "        print(record)"
   ]
  },
  {
   "cell_type": "code",
   "execution_count": null,
   "metadata": {},
   "outputs": [],
   "source": []
  }
 ],
 "metadata": {
  "kernelspec": {
   "display_name": "python3-essential",
   "language": "python",
   "name": "python3-essential"
  },
  "language_info": {
   "codemirror_mode": {
    "name": "ipython",
    "version": 3
   },
   "file_extension": ".py",
   "mimetype": "text/x-python",
   "name": "python",
   "nbconvert_exporter": "python",
   "pygments_lexer": "ipython3",
   "version": "3.6.7"
  }
 },
 "nbformat": 4,
 "nbformat_minor": 4
}
