{
 "cells": [
  {
   "cell_type": "code",
   "execution_count": 1,
   "metadata": {},
   "outputs": [],
   "source": [
    "%matplotlib inline\n",
    "import matplotlib.pyplot as plt\n",
    "import seaborn as sns\n",
    "import glob\n",
    "import os\n",
    "import pandas as pd\n",
    "import numpy as np\n",
    "import os\n",
    "import pybedtools\n",
    "import warnings\n",
    "from collections import defaultdict\n",
    "warnings.simplefilter(action='ignore', category=FutureWarning)\n",
    "pd.set_option('display.max_colwidth', 500)\n",
    "from tqdm import tnrange, tqdm_notebook\n",
    "\n",
    "import matplotlib"
   ]
  },
  {
   "cell_type": "code",
   "execution_count": 2,
   "metadata": {},
   "outputs": [],
   "source": [
    "# other useful locations:\n",
    "motif_file = '/home/bay001/projects/kris_apobec_20200121/permanent_data/final_analysis/01_SAILOR_bulk_rnaseq/outputs/motif_coords/GCATG_RBFOX_MOTIF_POSITIONS_ALL.bed'\n",
    "# motif_file = '/home/bay001/projects/kris_apobec_20200121/permanent_data/final_analysis/01_SAILOR_bulk_rnaseq/outputs/motif_coords/FAKE_MOTIF.bed'\n",
    "# motif_file = '/home/bay001/projects/kris_apobec_20200121/permanent_data/final_analysis/01_SAILOR_bulk_rnaseq/outputs/motif_coords/TTTTT_TIA_MOTIF_POSITIONS_ALL.bed'\n",
    "# apo_motif_file = '/home/bay001/projects/kris_apobec_20200121/permanent_data/final_analysis/01_SAILOR_bulk_rnaseq/outputs/UGUA_APOBEC_MOTIF_POSITIONS_ALL.bed'\n",
    "\n",
    "# peak files:\n",
    "# peak_with_motif_file = '/home/bay001/projects/kris_apobec_20200121/permanent_data/final_analysis/01_SAILOR_bulk_rnaseq/outputs/301.01v02.IDR.out.0102merged.bed.annotated_proxdist_miRlncRNA.blacklist_removed.with.all.bed'\n",
    "peak_with_motif_file = '/home/bay001/projects/kris_apobec_20200121/permanent_data/final_analysis/figure_1/outputs/EV42_01.basedon_EV42_01.peaks.l2inputnormnew.bed.compressed.bed.annotated.with.GCATG.bed'\n",
    "# peak_with_motif_file = '/home/bay001/projects/kris_apobec_20200121/permanent_data/final_analysis/01_SAILOR_bulk_rnaseq/outputs/TIA1_Untreated_reproducible_peaks.bed.with.TTTTT.bed'\n",
    "# peak_with_motif_file = '/home/bay001/projects/kris_apobec_20200121/permanent_data/final_analysis/01_SAILOR_bulk_rnaseq/outputs/764_01.basedon_764_01.peaks.l2inputnormnew.bed.compressed.bed.with.CGA.bed'\n",
    "# peak_with_motif_file = '/home/bay001/projects/kris_apobec_20200121/permanent_data/final_analysis/01_SAILOR_bulk_rnaseq/outputs/RANDOM_BG_764.bed'\n",
    "# peak_with_motif_file = '/home/bay001/projects/kris_apobec_20200121/permanent_data/final_analysis/01_SAILOR_bulk_rnaseq/outputs/279_01.basedon_279_01.peaks.l2inputnormnew.bed.compressed.bed.with.CGTG.bed.noGCATG.bed'\n",
    "\n",
    "# annotated peak files:\n",
    "# annotated_peak_file = '/home/bay001/projects/kris_apobec_20200121/permanent_data/final_analysis/01_SAILOR_bulk_rnaseq/outputs/301.01v02.IDR.out.0102merged.bed.annotated_proxdist_miRlncRNA.blacklist_removed.with.all.bed'\n",
    "annotated_peak_file = '/home/elvannostrand/data/clip/CLIPseq_analysis/ALLCLIP_v12_20160112/EV42_01.basedon_EV42_01.peaks.l2inputnormnew.bed.compressed.bed.annotated'\n",
    "# annotated_peak_file = '/home/elvannostrand/data/clip/CLIPseq_analysis/seCLIP/seRBFOX2_A_01.basedon_seRBFOX2_A_01.peaks.l2inputnormnew.bed.compressed.bed.annotated'\n",
    "# annotated_peak_file = '/home/bay001/projects/kris_apobec_20200121/reference_data/TIA1_Untreated_reproducible_peaks.bed.annotated_proxdist_miRlncRNA'\n",
    "\n",
    "# Only get randomized regions from 3'UTR or CDS:\n",
    "regions_file_for_random_subset = '/projects/ps-yeolab3/bay001/annotations/hg19/gencode_v19/hg19_v19_cds_and_three_prime_utrs.bed'\n",
    "\n",
    "# edit files:\n",
    "# edit_file = '/home/bay001/projects/kris_apobec_20200121/permanent_data/final_analysis/01_SAILOR_bulk_rnaseq/outputs/combined_outputs_w_cov_info/SRSF1_16_S24_L002_R1_001.fastqTr.sorted.STARUnmapped.out.sorted.STARAligned.out.sorted_a0_b0_e0.01.annotated'\n",
    "# edit_file = '/home/bay001/projects/kris_apobec_20200121/permanent_data/final_analysis/01_SAILOR_bulk_rnaseq/outputs/combined_outputs_w_cov_info/SRSF1_15_S23_L002_R1_001.fastqTr.sorted.STARUnmapped.out.sorted.STARAligned.out.sorted_a0_b0_e0.01.annotated'\n",
    "# edit_file = '/home/bay001/projects/kris_apobec_20200121/permanent_data/final_analysis/01_SAILOR_bulk_rnaseq/outputs/combined_outputs_w_cov_info/SRSF1_13_S21_L002_R1_001.fastqTr.sorted.STARUnmapped.out.sorted.STARAligned.out.sorted_a0_b0_e0.01.annotated'\n",
    "edit_file = '/home/bay001/projects/kris_apobec_20200121/permanent_data/final_analysis/01_SAILOR_bulk_rnaseq/outputs/combined_outputs_w_cov_info/RBFOX2-1000_S20_L002_R1_001.fastqTr.sorted.STARUnmapped.out.sorted.STARAligned.out.sorted_a0_b0_e0.01.annotated'\n",
    "# edit_file = '/home/bay001/projects/kris_apobec_20200121/permanent_data/final_analysis/01_SAILOR_bulk_rnaseq/outputs/combined_outputs_w_cov_info/Sample19_S17_merged.fastqTr.sorted.STARUnmapped.out.sorted.STARAligned.out.sorted_a0_b0_e0.01.annotated.shuffled'\n",
    "# edit_file = '/home/bay001/projects/kris_apobec_20200121/permanent_data/final_analysis/01_SAILOR_bulk_rnaseq/outputs/combined_outputs_w_cov_info/Sample20_S18_merged.fastqTr.sorted.STARUnmapped.out.sorted.STARAligned.out.sorted_a0_b0_e0.01.annotated'\n",
    "# edit_file = '/home/bay001/projects/kris_apobec_20200121/permanent_data/final_analysis/01_SAILOR_bulk_rnaseq/outputs/combined_outputs_w_cov_info/RBFOX2-1000_S20_L002_R1_001.fastqTr.sorted.STARUnmapped.out.sorted.STARAligned.out.sorted_a0_b0_c10.annotated'\n",
    "# edit_file = '/home/bay001/projects/kris_apobec_20200121/permanent_data/final_analysis/01_SAILOR_bulk_rnaseq/outputs/combined_outputs_w_cov_info/RBFOX2-1000_S20_L002_R1_001.fastqTr.sorted.STARUnmapped.out.sorted.STARAligned.out.sorted_a0_b0_c20.annotated'\n",
    "# edit_file = '/home/bay001/projects/kris_apobec_20200121/permanent_data/final_analysis/01_SAILOR_bulk_rnaseq/outputs/combined_outputs_w_cov_info/Tia1_1000ng_2_S27_L002_R1_001.fastqTr.sorted.STARUnmapped.out.sorted.STARAligned.out.sorted_a0_b0_e0.01.annotated'\n",
    "\n",
    "apo_edit_file = '/home/bay001/projects/kris_apobec_20200121/permanent_data/final_analysis/01_SAILOR_bulk_rnaseq/outputs/combined_outputs_w_cov_info/ApoControl-1000_S21_L002_R1_001.fastqTr.sorted.STARUnmapped.out.sorted.STARAligned.out.sorted_a0_b0_e0.01.bed'\n",
    "# apo_edit_file = '/home/bay001/projects/kris_apobec_20200121/permanent_data/final_analysis/01_SAILOR_bulk_rnaseq/outputs/combined_outputs_w_cov_info/RBFOX2-0_S6_L001_R1_001.fastqTr.sorted.STARUnmapped.out.sorted.STARAligned.out.sorted_a0_b0_e0.01.annotated'\n",
    "\n",
    "# BAM files:\n",
    "# bam_file = '/home/bay001/projects/kris_apobec_20200121/permanent_data/20200328_kris_rnaseq/results/SRSF1_15_S23_L002_R1_001.fastqTr.sorted.STARUnmapped.out.sorted.STARAligned.out.sorted.bam'\n",
    "# bam_file = '/home/bay001/projects/kris_apobec_20200121/permanent_data/20200328_kris_rnaseq/results/SRSF1_16_S24_L002_R1_001.fastqTr.sorted.STARUnmapped.out.sorted.STARAligned.out.sorted.bam'\n",
    "bam_file = '/home/bay001/projects/kris_apobec_20200121/permanent_data/20191003_riboseq/results/RBFOX2-1000_S20_L002_R1_001.fastqTr.sorted.STARUnmapped.out.sorted.STARAligned.out.sorted.bam'\n",
    "# bam_file = '/home/bay001/projects/kris_apobec_20200121/permanent_data/20200309_kris_RBFOX2_rnaseq/Sample19_S17_merged.fastqTr.sorted.STARUnmapped.out.sorted.STARAligned.out.sorted.bam'\n",
    "# bam_file = '/home/bay001/projects/kris_apobec_20200121/permanent_data/20200309_kris_RBFOX2_rnaseq/Sample20_S18_merged.fastqTr.sorted.STARUnmapped.out.sorted.STARAligned.out.sorted.bam'\n",
    "# bam_file = '/home/bay001/projects/kris_apobec_20200121/permanent_data/20191003_riboseq/results/ApoControl-1000_S21_L002_R1_001.fastqTr.sorted.STARUnmapped.out.sorted.STARAligned.out.sorted.bam'\n",
    "# bam_file = '/home/bay001/projects/kris_apobec_20200121/permanent_data/20200228_kris_rnaseq/results/Tia1_1000ng_2_S27_L002_R1_001.fastqTr.sorted.STARUnmapped.out.sorted.STARAligned.out.sorted.bam'\n",
    "\n",
    "# Genome file\n",
    "chrom_sizes = '/projects/ps-yeolab3/bay001/annotations/hg19/hg19.chrom.sizes'"
   ]
  },
  {
   "cell_type": "code",
   "execution_count": 3,
   "metadata": {},
   "outputs": [],
   "source": [
    "output_dir = '/home/bay001/projects/kris_apobec_20200121/permanent_data/final_analysis/figure_1/outputs/kedits_bar_graphs/no_apo100_filter/'"
   ]
  },
  {
   "cell_type": "markdown",
   "metadata": {},
   "source": [
    "# First let's figure out a proper 'background' region. Best is any expressed CDS+3'UTR region?"
   ]
  },
  {
   "cell_type": "code",
   "execution_count": 4,
   "metadata": {},
   "outputs": [
    {
     "data": {
      "text/plain": [
       "'/home/bay001/projects/kris_apobec_20200121/permanent_data/final_analysis/figure_1/outputs/kedits_bar_graphs/incl_apo_1000/RBFOX2-1000_S20_L002_R1_001.fastqTr.sorted.STARUnmapped.out.sorted.STARAligned.out.sorted.bam.counts.txt'"
      ]
     },
     "execution_count": 4,
     "metadata": {},
     "output_type": "execute_result"
    }
   ],
   "source": [
    "output_counts = os.path.join(output_dir, '{}.counts.txt'.format(os.path.basename(bam_file)))\n",
    "output_counts"
   ]
  },
  {
   "cell_type": "code",
   "execution_count": 5,
   "metadata": {},
   "outputs": [],
   "source": [
    "# Create a SAF file of just 3'UTRs and CDS\n",
    "regions_file_for_random_subset_SAF = os.path.join(output_dir, os.path.splitext(os.path.basename(regions_file_for_random_subset))[0] + \".SAF\")\n",
    "\n",
    "utr_bed = pd.read_csv(\n",
    "    regions_file_for_random_subset, \n",
    "    sep='\\t', \n",
    "    names=['chrom','start','end','name','score','strand']\n",
    ")\n",
    "utr_bed['start1base'] = utr_bed['start'] + 1\n",
    "utr_saf = utr_bed[['name','chrom','start1base','end','strand']]\n",
    "utr_saf.to_csv(regions_file_for_random_subset_SAF, sep='\\t', index=False, header=False)"
   ]
  },
  {
   "cell_type": "code",
   "execution_count": 6,
   "metadata": {},
   "outputs": [
    {
     "name": "stdout",
     "output_type": "stream",
     "text": [
      "module load subreadfeaturecounts;featureCounts -a /home/bay001/projects/kris_apobec_20200121/permanent_data/final_analysis/figure_1/outputs/kedits_bar_graphs/incl_apo_1000/hg19_v19_cds_and_three_prime_utrs.SAF -F SAF -M -O -s 2 -o /home/bay001/projects/kris_apobec_20200121/permanent_data/final_analysis/figure_1/outputs/kedits_bar_graphs/incl_apo_1000/RBFOX2-1000_S20_L002_R1_001.fastqTr.sorted.STARUnmapped.out.sorted.STARAligned.out.sorted.bam.counts.txt /home/bay001/projects/kris_apobec_20200121/permanent_data/20191003_riboseq/results/RBFOX2-1000_S20_L002_R1_001.fastqTr.sorted.STARUnmapped.out.sorted.STARAligned.out.sorted.bam\n",
      "\n",
      "       \u001b[44;37m ========== \u001b[0m\u001b[36m    _____ _    _ ____  _____  ______          _____  \n",
      "       \u001b[44;37m =====      \u001b[0m\u001b[36m   / ____| |  | |  _ \\|  __ \\|  ____|   /\\   |  __ \\ \n",
      "       \u001b[44;37m   =====    \u001b[0m\u001b[36m  | (___ | |  | | |_) | |__) | |__     /  \\  | |  | |\n",
      "       \u001b[44;37m     ====   \u001b[0m\u001b[36m   \\___ \\| |  | |  _ <|  _  /|  __|   / /\\ \\ | |  | |\n",
      "       \u001b[44;37m       ==== \u001b[0m\u001b[36m   ____) | |__| | |_) | | \\ \\| |____ / ____ \\| |__| |\n",
      "       \u001b[44;37m ========== \u001b[0m\u001b[36m  |_____/ \\____/|____/|_|  \\_\\______/_/    \\_\\_____/\u001b[0m\n",
      "\t  v1.5.3\n",
      "\n",
      "//==========================\u001b[36m featureCounts setting \u001b[0m===========================\\\\\n",
      "||  \u001b[0m                                                                          ||\n",
      "||             Input files : \u001b[36m1 BAM file  \u001b[0m \u001b[0m                                    ||\n",
      "||                           \u001b[32mS\u001b[36m /home/bay001/projects/kris_apobec_20200121\u001b[0m ... \u001b[0m||\n",
      "||  \u001b[0m                                                                          ||\n",
      "||             Output file : \u001b[36m/home/bay001/projects/kris_apobec_20200121/p\u001b[0m ...\u001b[0m \u001b[0m||\n",
      "||                 Summary : \u001b[36m/home/bay001/projects/kris_apobec_20200121/p\u001b[0m ...\u001b[0m \u001b[0m||\n",
      "||              Annotation : \u001b[36m/home/bay001/projects/kris_apobec_20200121/p\u001b[0m ...\u001b[0m \u001b[0m||\n",
      "||      Dir for temp files : \u001b[36m/home/bay001/projects/kris_apobec_20200121/p\u001b[0m ...\u001b[0m \u001b[0m||\n",
      "||  \u001b[0m                                                                          ||\n",
      "||                 Threads : \u001b[36m1\u001b[0m \u001b[0m                                               ||\n",
      "||                   Level : \u001b[36mmeta-feature level\u001b[0m \u001b[0m                              ||\n",
      "||              Paired-end : \u001b[36mno\u001b[0m \u001b[0m                                              ||\n",
      "||         Strand specific : \u001b[36mreversely stranded\u001b[0m \u001b[0m                              ||\n",
      "||      Multimapping reads : \u001b[36mcounted\u001b[0m \u001b[0m                                         ||\n",
      "|| Multi-overlapping reads : \u001b[36mcounted\u001b[0m \u001b[0m                                         ||\n",
      "||   Min overlapping bases : \u001b[36m1\u001b[0m \u001b[0m                                               ||\n",
      "||  \u001b[0m                                                                          ||\n",
      "\\\\=====================\u001b[36m http://subread.sourceforge.net/ \u001b[0m======================//\n",
      "\n",
      "//=================================\u001b[36m Running \u001b[0m==================================\\\\\n",
      "||  \u001b[0m                                                                          ||\n",
      "|| Load annotation file /home/bay001/projects/kris_apobec_20200121/perman\u001b[0m ... \u001b[0m||\n",
      "||    Features : \u001b[36m282248\u001b[0m \u001b[0m                                                      ||\n",
      "||    Meta-features : \u001b[36m20776\u001b[0m \u001b[0m                                                  ||\n",
      "||    Chromosomes/contigs : \u001b[36m25\u001b[0m \u001b[0m                                               ||\n",
      "||  \u001b[0m                                                                          ||\n",
      "|| Process BAM file /home/bay001/projects/kris_apobec_20200121/permanent_\u001b[0m ... \u001b[0m||\n",
      "||    Single-end reads are included. \u001b[0m                                         ||\n",
      "||    Assign reads to features... \u001b[0m                                            ||\n",
      "||    Total reads : \u001b[36m58239919\u001b[0m \u001b[0m                                                 ||\n",
      "||    Successfully assigned reads : \u001b[36m39725449 (68.2%)\u001b[0m \u001b[0m                         ||\n",
      "||    Running time : \u001b[36m1.17 minutes\u001b[0m \u001b[0m                                            ||\n",
      "||  \u001b[0m                                                                          ||\n",
      "||                         \u001b[36mRead assignment finished.\u001b[0m \u001b[0m                         ||\n",
      "||  \u001b[0m                                                                          ||\n",
      "|| Summary of counting results can be found in file \"/home/bay001/projects/k \u001b[0m ||\n",
      "|| ris_apobec_20200121/permanent_data/final_analysis/figure_1/outputs/kedits \u001b[0m ||\n",
      "|| _bar_graphs/incl_apo_1000/RBFOX2-1000_S20_L002_R1_001.fastqTr.sorted.STAR \u001b[0m ||\n",
      "|| Unmapped.out.sorted.STARAligned.out.sorted.bam.counts.txt\" \u001b[0m                ||\n",
      "||  \u001b[0m                                                                          ||\n",
      "\\\\=====================\u001b[36m http://subread.sourceforge.net/ \u001b[0m======================//\n",
      "\n"
     ]
    }
   ],
   "source": [
    "# Call featureCounts on BAM file and convert to TPM. Grey this out if we're only testing the one sample.\n",
    "\n",
    "cmd = \"module load subreadfeaturecounts;featureCounts \"\n",
    "cmd += \"-a {} \".format(regions_file_for_random_subset_SAF) \n",
    "cmd += \"-F SAF -M -O -s 2 -o {} \".format(output_counts)\n",
    "cmd += \"{}\".format(bam_file)\n",
    "print(cmd)\n",
    "! $cmd"
   ]
  },
  {
   "cell_type": "markdown",
   "metadata": {},
   "source": [
    "### Convert to counts and generate a subset of 3'UTRs to sample from using a TPM cutoff of... 3? 5?"
   ]
  },
  {
   "cell_type": "code",
   "execution_count": 7,
   "metadata": {},
   "outputs": [
    {
     "name": "stderr",
     "output_type": "stream",
     "text": [
      "/projects/ps-yeolab4/software/yeolabconda3/envs/python3essential-0.0.1/lib/python3.6/site-packages/ipykernel_launcher.py:2: DeprecationWarning: \n",
      ".ix is deprecated. Please use\n",
      ".loc for label based indexing or\n",
      ".iloc for positional indexing\n",
      "\n",
      "See the documentation here:\n",
      "http://pandas.pydata.org/pandas-docs/stable/indexing.html#ix-indexer-is-deprecated\n",
      "  \n"
     ]
    },
    {
     "data": {
      "text/html": [
       "<div>\n",
       "<style scoped>\n",
       "    .dataframe tbody tr th:only-of-type {\n",
       "        vertical-align: middle;\n",
       "    }\n",
       "\n",
       "    .dataframe tbody tr th {\n",
       "        vertical-align: top;\n",
       "    }\n",
       "\n",
       "    .dataframe thead th {\n",
       "        text-align: right;\n",
       "    }\n",
       "</style>\n",
       "<table border=\"1\" class=\"dataframe\">\n",
       "  <thead>\n",
       "    <tr style=\"text-align: right;\">\n",
       "      <th></th>\n",
       "      <th>/home/bay001/projects/kris_apobec_20200121/permanent_data/20191003_riboseq/results/RBFOX2-1000_S20_L002_R1_001.fastqTr.sorted.STARUnmapped.out.sorted.STARAligned.out.sorted.bam</th>\n",
       "    </tr>\n",
       "    <tr>\n",
       "      <th>Geneid</th>\n",
       "      <th></th>\n",
       "    </tr>\n",
       "  </thead>\n",
       "  <tbody>\n",
       "    <tr>\n",
       "      <th>ENSG00000186092.4</th>\n",
       "      <td>0.0</td>\n",
       "    </tr>\n",
       "    <tr>\n",
       "      <th>ENSG00000172154.4</th>\n",
       "      <td>0.0</td>\n",
       "    </tr>\n",
       "    <tr>\n",
       "      <th>ENSG00000181785.1</th>\n",
       "      <td>0.0</td>\n",
       "    </tr>\n",
       "    <tr>\n",
       "      <th>ENSG00000259009.3</th>\n",
       "      <td>0.0</td>\n",
       "    </tr>\n",
       "    <tr>\n",
       "      <th>ENSG00000174970.2</th>\n",
       "      <td>0.0</td>\n",
       "    </tr>\n",
       "  </tbody>\n",
       "</table>\n",
       "</div>"
      ],
      "text/plain": [
       "                   /home/bay001/projects/kris_apobec_20200121/permanent_data/20191003_riboseq/results/RBFOX2-1000_S20_L002_R1_001.fastqTr.sorted.STARUnmapped.out.sorted.STARAligned.out.sorted.bam\n",
       "Geneid                                                                                                                                                                                             \n",
       "ENSG00000186092.4                                                                                                                                                                               0.0\n",
       "ENSG00000172154.4                                                                                                                                                                               0.0\n",
       "ENSG00000181785.1                                                                                                                                                                               0.0\n",
       "ENSG00000259009.3                                                                                                                                                                               0.0\n",
       "ENSG00000174970.2                                                                                                                                                                               0.0"
      ]
     },
     "execution_count": 7,
     "metadata": {},
     "output_type": "execute_result"
    }
   ],
   "source": [
    "def counts_to_rpkm(feature_counts_table):\n",
    "    counts = feature_counts_table.ix[:,5:]\n",
    "    lengths = feature_counts_table['Length']\n",
    "    mapped_reads = counts.sum()\n",
    "    return (counts * pow(10,9)).div(mapped_reads, axis=1).div(lengths, axis=0)\n",
    "\n",
    "def counts_to_tpm(counts_table, skip_col=5):\n",
    "    \"\"\"\n",
    "    simple function that converts a featureCounts pandas Dataframe\n",
    "    into a TPM dataframe.\n",
    "    \n",
    "    :param counts_table: pandas.DataFrame() \n",
    "        either a featureCounts table (first five cols contain non-count info,\n",
    "        the rest contain raw counts) or a generic counts table (use skip_col=0\n",
    "        in this case)\n",
    "    :return tpm: pandas.DataFrame\n",
    "    \"\"\"\n",
    "    rpkm = counts_to_rpkm(counts_table)\n",
    "    tpm = rpkm.div(rpkm.sum())*pow(10,6)\n",
    "    return tpm\n",
    "\n",
    "counts_table = pd.read_csv(output_counts, index_col=0, skiprows=1, sep='\\t')\n",
    "tpm = counts_to_tpm(counts_table)\n",
    "tpm.sort_values(by=bam_file, ascending=True).head()"
   ]
  },
  {
   "cell_type": "code",
   "execution_count": 8,
   "metadata": {},
   "outputs": [],
   "source": [
    "# edit conf level\n",
    "CONF = 0.99\n",
    "# defines how close an edit needs to be from a peak to be a 'close' edit.\n",
    "d = 50\n",
    "\n",
    "# peak params\n",
    "l2fc = 3\n",
    "l10p = 3\n",
    "\n",
    "random_trial_num = 100  # number of random trials to compute mean/stdev"
   ]
  },
  {
   "cell_type": "markdown",
   "metadata": {},
   "source": [
    "# Read in edit data and see what the average expression is."
   ]
  },
  {
   "cell_type": "code",
   "execution_count": 9,
   "metadata": {},
   "outputs": [
    {
     "name": "stdout",
     "output_type": "stream",
     "text": [
      "Number of total edits: 403256\n",
      "Number of edits after filtering regions, confidence: 60605\n"
     ]
    },
    {
     "data": {
      "text/plain": [
       "6193"
      ]
     },
     "execution_count": 9,
     "metadata": {},
     "output_type": "execute_result"
    }
   ],
   "source": [
    "edits_df = pd.read_csv(edit_file, sep='\\t', names=['chrom','start','end','conf','count','strand','geneid','genename','region','annotation'])\n",
    "print(\"Number of total edits: {}\".format(edits_df.shape[0]))\n",
    "edits_df = edits_df[edits_df['conf']>CONF][['chrom','start','end','region','geneid','strand']]\n",
    "edits_df = edits_df[(edits_df['region']=='3utr') | (edits_df['region']=='CDS')]\n",
    "edits_df.to_csv(os.path.join(output_dir, 'FILTERED_EDITS.bed'), sep='\\t', index=False, header=False)\n",
    "print(\"Number of edits after filtering regions, confidence: {}\".format(edits_df.shape[0]))\n",
    "edits_df_expressed = set(edits_df['geneid'])\n",
    "len(edits_df_expressed)"
   ]
  },
  {
   "cell_type": "code",
   "execution_count": 10,
   "metadata": {},
   "outputs": [
    {
     "name": "stdout",
     "output_type": "stream",
     "text": [
      "0.4365756176714063\n"
     ]
    }
   ],
   "source": [
    "edited_genes_tpm = tpm.loc[edits_df_expressed]\n",
    "edited_genes_tpm.dropna(inplace=True)\n",
    "# edge case\n",
    "edited_genes_tpm = edited_genes_tpm[edited_genes_tpm[bam_file]>0]\n",
    "tpm_cutoff = edited_genes_tpm[bam_file].min()\n",
    "print(tpm_cutoff)"
   ]
  },
  {
   "cell_type": "code",
   "execution_count": 11,
   "metadata": {},
   "outputs": [
    {
     "name": "stdout",
     "output_type": "stream",
     "text": [
      "Number of expressed genes with TPM cutoff of 0.4365756176714063: 13131\n"
     ]
    }
   ],
   "source": [
    "bed = pd.read_csv(regions_file_for_random_subset, sep='\\t', names=['chrom','start','end','name','score','strand'])\n",
    "# expressed = list(expressed_genes.index)\n",
    "expressed = list(tpm[tpm[bam_file]>=tpm_cutoff].index)\n",
    "print(\"Number of expressed genes with TPM cutoff of {}: {}\".format(tpm_cutoff, len(expressed)))"
   ]
  },
  {
   "cell_type": "code",
   "execution_count": null,
   "metadata": {},
   "outputs": [],
   "source": []
  },
  {
   "cell_type": "markdown",
   "metadata": {},
   "source": [
    "# Roughly gives us an idea of how many genes we're randomly selecting from. "
   ]
  },
  {
   "cell_type": "code",
   "execution_count": 12,
   "metadata": {},
   "outputs": [
    {
     "data": {
      "text/plain": [
       "<matplotlib.legend.Legend at 0x2ba2c0f245f8>"
      ]
     },
     "execution_count": 12,
     "metadata": {},
     "output_type": "execute_result"
    },
    {
     "data": {
      "image/png": "[encoded data removed]",
      "text/plain": [
       "<Figure size 576x576 with 1 Axes>"
      ]
     },
     "metadata": {
      "needs_background": "light"
     },
     "output_type": "display_data"
    }
   ],
   "source": [
    "fig, ax = plt.subplots(figsize=(8, 8))\n",
    "x = plt.hist(tpm[bam_file], bins=1000, density=True, cumulative=True,\n",
    "         histtype='step', alpha=0.8, color='blue', label='TPM levels')\n",
    "plt.ylabel('fraction of genes')\n",
    "plt.axvline(tpm_cutoff)\n",
    "plt.xlim(-10, 100)\n",
    "plt.legend(loc=4)"
   ]
  },
  {
   "cell_type": "markdown",
   "metadata": {},
   "source": [
    "# Main params"
   ]
  },
  {
   "cell_type": "markdown",
   "metadata": {},
   "source": [
    "# This is where we select genes only passing TPM cutoffs set above."
   ]
  },
  {
   "cell_type": "code",
   "execution_count": 13,
   "metadata": {},
   "outputs": [],
   "source": [
    "bed_expressed = bed[bed['name'].isin(expressed)]"
   ]
  },
  {
   "cell_type": "code",
   "execution_count": 14,
   "metadata": {},
   "outputs": [],
   "source": [
    "regions_file_for_random_subset_expressed = os.path.join(output_dir, os.path.splitext(os.path.basename(regions_file_for_random_subset))[0] + \".expressed.bed\")\n",
    "bed_expressed.to_csv(regions_file_for_random_subset_expressed, sep='\\t', index=False, header=False)"
   ]
  },
  {
   "cell_type": "markdown",
   "metadata": {},
   "source": [
    "# Function needs to read in various types of inputs."
   ]
  },
  {
   "cell_type": "code",
   "execution_count": 15,
   "metadata": {},
   "outputs": [],
   "source": [
    "def read_and_return_peak_bedtool(fn, annotated='ericv1', l2fc=l2fc, l10p=l10p):\n",
    "    \"\"\"\n",
    "    I'm read in peak files from various sources.\n",
    "    ericv1 : version 1 of eric's annotator script, what he used in his 2016 dataset.\n",
    "    ericv2 : version 2 of eric's annotator script, which annotates lncRNAs, miRs, etc.\n",
    "    no : just the standard input normalized peak file\n",
    "    motif : generated using the SUPPLEMENTAL notebook which searches a set of peaks for a motif\n",
    "    \"\"\"\n",
    "    if annotated == 'ericv1': # this is an 'eric-style' annotation\n",
    "        peaks = pd.read_csv(fn, names=['chrom','start','end','l10p','l2fc','strand','annotation','geneid'], sep='\\t')\n",
    "        print(\"Total number of peaks: {}\".format(peaks.shape[0]))\n",
    "        peaks['region'] = peaks['annotation'].apply(lambda x: x.split('|')[0])\n",
    "        peaks = peaks[(peaks['region']=='CDS') | (peaks['region']=='3utr')]\n",
    "        peaks = peaks[(peaks['l10p']>=l10p) & (peaks['l2fc']>=l2fc)]\n",
    "        peaks = peaks[['chrom','start','end','geneid','l2fc','strand']]\n",
    "    elif annotated == 'motif': # I pre-parse the eCLIP peaks in another notebook and in doing so, I lose the l10p and l2fc information. That's okay, I filter in that notebook prior.\n",
    "        peaks = pd.read_csv(fn, names=['chrom','start','end','l10p','l2fc','strand'], sep='\\t')\n",
    "        print(\"Total number of peaks: {}\".format(peaks.shape[0]))\n",
    "    elif annotated == 'no': # basic input-normalized BED6\n",
    "        peaks = pd.read_csv(fn, names=['chrom','start','end','l10p','l2fc','strand'], sep='\\t')\n",
    "        print(\"Total number of peaks: {}\".format(peaks.shape[0]))\n",
    "        peaks = peaks[(peaks['l10p']>=l10p) & (peaks['l2fc']>=l2fc)]\n",
    "    elif annotated == 'ericv2':\n",
    "        peaks = pd.read_csv(fn, names=['chrom','start','end','l10p','l2fc','strand','annotation','annotation2','geneid','genename','region_w_overlap'], sep='\\t')\n",
    "        peaks['region'] = peaks['region_w_overlap'].apply(lambda x: x.split('|')[0])\n",
    "        peaks = peaks[(peaks['region']=='CDS') | (peaks['region']=='3utr')]\n",
    "        peaks = peaks[(peaks['l10p']>=l10p) & (peaks['l2fc']>=l2fc)]\n",
    "        peaks = peaks[['chrom','start','end','geneid','l2fc','strand']]\n",
    "    # merge neighboring peaks just to make sure we're not overlapping still\n",
    "    print(\"Number of peaks after filtering for significance: {}\".format(peaks.shape[0]))\n",
    "    unmerged_peaks = pybedtools.BedTool.from_dataframe(peaks).sort()\n",
    "    merged_peaks = unmerged_peaks.merge(d=1, c=(4,5,6), o=('collapse','collapse','distinct')).sort()\n",
    "    print(\"Number of peaks after merging neighboring peaks: {}\".format(merged_peaks.to_dataframe().shape[0]))\n",
    "    merged_peaks.saveas('/home/bay001/EV42.bed')\n",
    "    return merged_peaks"
   ]
  },
  {
   "cell_type": "markdown",
   "metadata": {},
   "source": [
    "#### Also worth knowing how many 'peaks' lie in areas with little/no coverage.\n",
    "- I don't actually do anything with these vars, just want the numbers."
   ]
  },
  {
   "cell_type": "raw",
   "metadata": {},
   "source": [
    "expressed_genes = set(bed_expressed['name'])\n",
    "_peaks = pd.read_csv(annotated_peak_file, names=['chrom','start','end','l10p','l2fc','strand','annotation','geneid'], sep='\\t')\n",
    "print(\"Number ot total peaks: {}\".format(_peaks.shape[0]))\n",
    "_peaks['region'] = _peaks['annotation'].apply(lambda x: x.split('|')[0])\n",
    "_peaks = _peaks[(_peaks['region']=='CDS') | (_peaks['region']=='3utr')]\n",
    "_peaks = _peaks[(_peaks['l10p']>=l10p) & (_peaks['l2fc']>=l2fc)]\n",
    "_peaks = _peaks[['chrom','start','end','geneid','l2fc','strand']]\n",
    "_peaks['expressed'] = _peaks['geneid'].apply(lambda x: x in expressed_genes)\n",
    "_expressed_peaks = _peaks[_peaks['expressed']==True].shape[0]\n",
    "_nonexpressed_peaks = _peaks[_peaks['expressed']==False].shape[0]\n",
    "print(\"Number of peaks with expression: {}. Number of peaks without sufficient expression: {} ({}%)\".format(\n",
    "    _expressed_peaks,\n",
    "    _nonexpressed_peaks,\n",
    "    (100*_expressed_peaks)/(_expressed_peaks + _nonexpressed_peaks)\n",
    "))"
   ]
  },
  {
   "cell_type": "raw",
   "metadata": {},
   "source": [
    "# Check against IGV to make sure these don't have gene expression as a sanity check. \n",
    "_peaks[_peaks['expressed']==False].head()"
   ]
  },
  {
   "cell_type": "markdown",
   "metadata": {},
   "source": [
    "# Read in and filter our edits file. Just 3'UTR and CDS edits only at whichever conf level.\n",
    "- Also will try and save your filtered edits file here: FILTERED_EDITS.bed"
   ]
  },
  {
   "cell_type": "code",
   "execution_count": 16,
   "metadata": {},
   "outputs": [
    {
     "name": "stdout",
     "output_type": "stream",
     "text": [
      "Number of total edits: 403256\n",
      "Number of edits after filtering confidence: 69554\n",
      "Number of edits after filtering regions, confidence: 60605\n"
     ]
    },
    {
     "data": {
      "text/html": [
       "<div>\n",
       "<style scoped>\n",
       "    .dataframe tbody tr th:only-of-type {\n",
       "        vertical-align: middle;\n",
       "    }\n",
       "\n",
       "    .dataframe tbody tr th {\n",
       "        vertical-align: top;\n",
       "    }\n",
       "\n",
       "    .dataframe thead th {\n",
       "        text-align: right;\n",
       "    }\n",
       "</style>\n",
       "<table border=\"1\" class=\"dataframe\">\n",
       "  <thead>\n",
       "    <tr style=\"text-align: right;\">\n",
       "      <th></th>\n",
       "      <th>chrom</th>\n",
       "      <th>start</th>\n",
       "      <th>end</th>\n",
       "      <th>region</th>\n",
       "      <th>conf</th>\n",
       "      <th>strand</th>\n",
       "    </tr>\n",
       "  </thead>\n",
       "  <tbody>\n",
       "    <tr>\n",
       "      <th>81</th>\n",
       "      <td>chr1</td>\n",
       "      <td>2239485</td>\n",
       "      <td>2239486</td>\n",
       "      <td>3utr</td>\n",
       "      <td>0.999388</td>\n",
       "      <td>+</td>\n",
       "    </tr>\n",
       "    <tr>\n",
       "      <th>91</th>\n",
       "      <td>chr1</td>\n",
       "      <td>2239851</td>\n",
       "      <td>2239852</td>\n",
       "      <td>3utr</td>\n",
       "      <td>0.994820</td>\n",
       "      <td>+</td>\n",
       "    </tr>\n",
       "    <tr>\n",
       "      <th>93</th>\n",
       "      <td>chr1</td>\n",
       "      <td>2239899</td>\n",
       "      <td>2239900</td>\n",
       "      <td>3utr</td>\n",
       "      <td>0.999271</td>\n",
       "      <td>+</td>\n",
       "    </tr>\n",
       "    <tr>\n",
       "      <th>96</th>\n",
       "      <td>chr1</td>\n",
       "      <td>2239930</td>\n",
       "      <td>2239931</td>\n",
       "      <td>3utr</td>\n",
       "      <td>0.999584</td>\n",
       "      <td>+</td>\n",
       "    </tr>\n",
       "    <tr>\n",
       "      <th>97</th>\n",
       "      <td>chr1</td>\n",
       "      <td>2239932</td>\n",
       "      <td>2239933</td>\n",
       "      <td>3utr</td>\n",
       "      <td>0.991599</td>\n",
       "      <td>+</td>\n",
       "    </tr>\n",
       "  </tbody>\n",
       "</table>\n",
       "</div>"
      ],
      "text/plain": [
       "   chrom    start      end region      conf strand\n",
       "81  chr1  2239485  2239486   3utr  0.999388      +\n",
       "91  chr1  2239851  2239852   3utr  0.994820      +\n",
       "93  chr1  2239899  2239900   3utr  0.999271      +\n",
       "96  chr1  2239930  2239931   3utr  0.999584      +\n",
       "97  chr1  2239932  2239933   3utr  0.991599      +"
      ]
     },
     "execution_count": 16,
     "metadata": {},
     "output_type": "execute_result"
    },
    {
     "data": {
      "image/png": "[encoded data removed]",
      "text/plain": [
       "<Figure size 576x576 with 1 Axes>"
      ]
     },
     "metadata": {
      "needs_background": "light"
     },
     "output_type": "display_data"
    }
   ],
   "source": [
    "edits_df = pd.read_csv(edit_file, sep='\\t', names=['chrom','start','end','conf','count','strand','geneid','genename','region','annotation'])\n",
    "fig, ax = plt.subplots(figsize=(8, 8))\n",
    "x = plt.hist(edits_df['conf'], bins=1000, density=True, cumulative=True,\n",
    "         histtype='step', alpha=0.8, color='blue', label='Conf levels')\n",
    "plt.ylabel('fraction of edits')\n",
    "plt.xlim(0, 1)\n",
    "plt.axvline(CONF)\n",
    "plt.legend(loc=4)\n",
    "\n",
    "print(\"Number of total edits: {}\".format(edits_df.shape[0]))\n",
    "edits_df = edits_df[edits_df['conf']>CONF][['chrom','start','end','region','conf','strand']]\n",
    "print(\"Number of edits after filtering confidence: {}\".format(edits_df.shape[0]))\n",
    "edits_df = edits_df[(edits_df['region']=='3utr') | (edits_df['region']=='CDS')]\n",
    "edits_df.to_csv(os.path.join(output_dir, 'FILTERED_EDITS.bed'), sep='\\t', index=False, header=False)\n",
    "print(\"Number of edits after filtering regions, confidence: {}\".format(edits_df.shape[0]))\n",
    "\n",
    "edits_df.head()"
   ]
  },
  {
   "cell_type": "markdown",
   "metadata": {},
   "source": [
    "# Let's read in our peak file (and filter if necessary). \n",
    "- Let's define our edits as:\n",
    "    - MUST pass a conf filter defined above (0.99 or 0.999)\n",
    "    - MUST NOT overlap an Apobec-1000 edit (Actually we are keeping these as it only removes ~3% of all edits). So let's not use this filter for now to keep this figure consistent with the rest.\n",
    "- Let's define our peak set as:\n",
    "    - MUST pass l2fc and l10p value cutoff defined above (3, 3)\n",
    "    - MUST contain a GCATG motif (or CATGC if negative strand)\n",
    "- Let's also define our randomized regions as:\n",
    "    - MUST be in a CDS or 3'UTR as defined by Gencode 19\n",
    "    - MUST carry expression of at least 5 TPM (across the length of the 3'UTR/CDS)\n",
    "    - MUST NOT contain any motif (or be 300 nucleotides away)\n",
    "    - MUST NOT be \\< 300 nucleotides away from a real peak"
   ]
  },
  {
   "cell_type": "code",
   "execution_count": 17,
   "metadata": {},
   "outputs": [
    {
     "name": "stdout",
     "output_type": "stream",
     "text": [
      "Total number of peaks: 270\n",
      "Number of peaks after filtering for significance: 270\n",
      "Number of peaks after merging neighboring peaks: 257\n",
      "Before removing apo edits: 60605\n",
      "After removing apo edits: 60605\n"
     ]
    }
   ],
   "source": [
    "peaks = read_and_return_peak_bedtool(peak_with_motif_file, annotated='motif')      # uncomment this line if we want to look at peaks with a motif\n",
    "# peaks = read_and_return_peak_bedtool(annotated_peak_file, annotated='yes')       # uncomment this line if we want to look at all peaks\n",
    "\n",
    "avoid_these_real_peak_regions = peaks.slop(b=d, g=chrom_sizes).sort()\n",
    "avoid_these_real_peak_regions = avoid_these_real_peak_regions.to_dataframe()\n",
    "avoid_these_real_peak_regions.to_csv(os.path.join(output_dir, 'tmp_peak_slopped.bed'), sep='\\t', header=False, index=False)\n",
    "\n",
    "motifs = pybedtools.BedTool(motif_file)\n",
    "avoid_these_motifs_regions = motifs.slop(b=d, g=chrom_sizes).sort()\n",
    "avoid_these_motifs_regions = avoid_these_motifs_regions.to_dataframe()\n",
    "avoid_these_motifs_regions.to_csv(os.path.join(output_dir, 'tmp_motif_slopped.bed'), sep='\\t', header=False, index=False)\n",
    "\n",
    "avoid_these_regions = pd.concat([avoid_these_real_peak_regions, avoid_these_motifs_regions])\n",
    "avoid_these_regions.to_csv(os.path.join(output_dir, 'tmp.bed'), sep='\\t', header=False, index=False)\n",
    "edits = pybedtools.BedTool.from_dataframe(edits_df).sort()\n",
    "unfiltered_edits = pybedtools.BedTool.from_dataframe(edits_df).sort()\n",
    "print(\"Before removing apo edits: {}\".format(unfiltered_edits.to_dataframe().shape[0]))\n",
    "# edits = unfiltered_edits.intersect(apo_edit_file, s=True, v=True)\n",
    "print(\"After removing apo edits: {}\".format(edits.to_dataframe().shape[0]))"
   ]
  },
  {
   "cell_type": "markdown",
   "metadata": {},
   "source": [
    "### Perform BedTools subtract to remove the \"avoid_these_regions\" from the pool of viable random coordinates.\n",
    "- The \"after\" regions may be greater than \"before\" since BedTools subtract may split up exons if it finds a motif/peak within them. "
   ]
  },
  {
   "cell_type": "code",
   "execution_count": 18,
   "metadata": {},
   "outputs": [
    {
     "name": "stdout",
     "output_type": "stream",
     "text": [
      "If we're selecting from a completely random subset of regions_file_for_random_subset_expressed: 206246\n",
      "After filtering out real regions, the regions_file_for_random_subset_expressed looks like this: 232451\n"
     ]
    }
   ],
   "source": [
    "unfiltered_regions_for_random_selection = pybedtools.BedTool(regions_file_for_random_subset_expressed).sort()\n",
    "print(\"If we're selecting from a completely random subset of regions_file_for_random_subset_expressed: {}\".format(unfiltered_regions_for_random_selection.to_dataframe().shape[0]))\n",
    "real_regions_to_avoid = pybedtools.BedTool.from_dataframe(avoid_these_regions).sort()\n",
    "filtered_regions_for_random_selection = unfiltered_regions_for_random_selection.subtract(real_regions_to_avoid, s=True)\n",
    "print(\"After filtering out real regions, the regions_file_for_random_subset_expressed looks like this: {}\".format(filtered_regions_for_random_selection.to_dataframe().shape[0]))"
   ]
  },
  {
   "cell_type": "markdown",
   "metadata": {},
   "source": [
    "### save this filtered file"
   ]
  },
  {
   "cell_type": "code",
   "execution_count": 19,
   "metadata": {},
   "outputs": [
    {
     "data": {
      "text/plain": [
       "<BedTool(/home/bay001/projects/kris_apobec_20200121/permanent_data/final_analysis/figure_1/outputs/kedits_bar_graphs/incl_apo_1000/hg19_v19_cds_and_three_prime_utrs.expressed.bed.filtered.bed)>"
      ]
     },
     "execution_count": 19,
     "metadata": {},
     "output_type": "execute_result"
    }
   ],
   "source": [
    "filtered_regions_for_random_selection.saveas(regions_file_for_random_subset_expressed + \".filtered.bed\")"
   ]
  },
  {
   "cell_type": "markdown",
   "metadata": {},
   "source": [
    "# What if we require at least k edits be nearby?\n",
    "- "
   ]
  },
  {
   "cell_type": "code",
   "execution_count": null,
   "metadata": {},
   "outputs": [],
   "source": []
  },
  {
   "cell_type": "code",
   "execution_count": 20,
   "metadata": {},
   "outputs": [
    {
     "data": {
      "application/vnd.jupyter.widget-view+json": {
       "model_id": "d7ca888ecf234dbcb1fdaed41f20d41c",
       "version_major": 2,
       "version_minor": 0
      },
      "text/plain": [
       "HBox(children=(IntProgress(value=0, description='Calculating edit nums on/near peaks.', max=10, style=Progress…"
      ]
     },
     "metadata": {},
     "output_type": "display_data"
    },
    {
     "name": "stdout",
     "output_type": "stream",
     "text": [
      "Number of double counted edits: 1 out of 155 (0.65%)\n"
     ]
    },
    {
     "data": {
      "application/vnd.jupyter.widget-view+json": {
       "model_id": "75f0e197883e41e4a27c49268208282a",
       "version_major": 2,
       "version_minor": 0
      },
      "text/plain": [
       "HBox(children=(IntProgress(value=0, description='Random trial', style=ProgressStyle(description_width='initial…"
      ]
     },
     "metadata": {},
     "output_type": "display_data"
    },
    {
     "name": "stdout",
     "output_type": "stream",
     "text": [
      "Number of double counted edits: 2 out of 172 (1.16%)\n"
     ]
    },
    {
     "data": {
      "application/vnd.jupyter.widget-view+json": {
       "model_id": "6f0f6530b32a4951b9450ca58f2698ae",
       "version_major": 2,
       "version_minor": 0
      },
      "text/plain": [
       "HBox(children=(IntProgress(value=0, description='Random trial', style=ProgressStyle(description_width='initial…"
      ]
     },
     "metadata": {},
     "output_type": "display_data"
    },
    {
     "name": "stdout",
     "output_type": "stream",
     "text": [
      "Number of double counted edits: 2 out of 185 (1.08%)\n"
     ]
    },
    {
     "data": {
      "application/vnd.jupyter.widget-view+json": {
       "model_id": "6c115f7588a64c3aacf838f9d21cf81e",
       "version_major": 2,
       "version_minor": 0
      },
      "text/plain": [
       "HBox(children=(IntProgress(value=0, description='Random trial', style=ProgressStyle(description_width='initial…"
      ]
     },
     "metadata": {},
     "output_type": "display_data"
    },
    {
     "name": "stdout",
     "output_type": "stream",
     "text": [
      "Number of double counted edits: 2 out of 196 (1.02%)\n"
     ]
    },
    {
     "data": {
      "application/vnd.jupyter.widget-view+json": {
       "model_id": "ee2d28b342f54ddd89692945d27b875f",
       "version_major": 2,
       "version_minor": 0
      },
      "text/plain": [
       "HBox(children=(IntProgress(value=0, description='Random trial', style=ProgressStyle(description_width='initial…"
      ]
     },
     "metadata": {},
     "output_type": "display_data"
    },
    {
     "name": "stdout",
     "output_type": "stream",
     "text": [
      "Number of double counted edits: 3 out of 213 (1.41%)\n"
     ]
    },
    {
     "data": {
      "application/vnd.jupyter.widget-view+json": {
       "model_id": "b43d4984c18a4fa2b8490302e511e7a5",
       "version_major": 2,
       "version_minor": 0
      },
      "text/plain": [
       "HBox(children=(IntProgress(value=0, description='Random trial', style=ProgressStyle(description_width='initial…"
      ]
     },
     "metadata": {},
     "output_type": "display_data"
    },
    {
     "name": "stdout",
     "output_type": "stream",
     "text": [
      "Number of double counted edits: 3 out of 230 (1.30%)\n"
     ]
    },
    {
     "data": {
      "application/vnd.jupyter.widget-view+json": {
       "model_id": "8d3b1b2a212c44d488e8b7cf9f9d724c",
       "version_major": 2,
       "version_minor": 0
      },
      "text/plain": [
       "HBox(children=(IntProgress(value=0, description='Random trial', style=ProgressStyle(description_width='initial…"
      ]
     },
     "metadata": {},
     "output_type": "display_data"
    },
    {
     "name": "stdout",
     "output_type": "stream",
     "text": [
      "Number of double counted edits: 3 out of 245 (1.22%)\n"
     ]
    },
    {
     "data": {
      "application/vnd.jupyter.widget-view+json": {
       "model_id": "ff783c9ef9964d73b3916898d9768671",
       "version_major": 2,
       "version_minor": 0
      },
      "text/plain": [
       "HBox(children=(IntProgress(value=0, description='Random trial', style=ProgressStyle(description_width='initial…"
      ]
     },
     "metadata": {},
     "output_type": "display_data"
    },
    {
     "name": "stdout",
     "output_type": "stream",
     "text": [
      "Number of double counted edits: 3 out of 256 (1.17%)\n"
     ]
    },
    {
     "data": {
      "application/vnd.jupyter.widget-view+json": {
       "model_id": "ad408fe8a95c48d6b3c8c37399e1a068",
       "version_major": 2,
       "version_minor": 0
      },
      "text/plain": [
       "HBox(children=(IntProgress(value=0, description='Random trial', style=ProgressStyle(description_width='initial…"
      ]
     },
     "metadata": {},
     "output_type": "display_data"
    },
    {
     "name": "stdout",
     "output_type": "stream",
     "text": [
      "Number of double counted edits: 3 out of 265 (1.13%)\n"
     ]
    },
    {
     "data": {
      "application/vnd.jupyter.widget-view+json": {
       "model_id": "76cdd9385d724443b97b2ef37d22dac0",
       "version_major": 2,
       "version_minor": 0
      },
      "text/plain": [
       "HBox(children=(IntProgress(value=0, description='Random trial', style=ProgressStyle(description_width='initial…"
      ]
     },
     "metadata": {},
     "output_type": "display_data"
    },
    {
     "name": "stdout",
     "output_type": "stream",
     "text": [
      "Number of double counted edits: 3 out of 272 (1.10%)\n"
     ]
    },
    {
     "data": {
      "application/vnd.jupyter.widget-view+json": {
       "model_id": "7a3439c33ce440c584b29a701c9ec6ae",
       "version_major": 2,
       "version_minor": 0
      },
      "text/plain": [
       "HBox(children=(IntProgress(value=0, description='Random trial', style=ProgressStyle(description_width='initial…"
      ]
     },
     "metadata": {},
     "output_type": "display_data"
    },
    {
     "data": {
      "text/html": [
       "<div>\n",
       "<style scoped>\n",
       "    .dataframe tbody tr th:only-of-type {\n",
       "        vertical-align: middle;\n",
       "    }\n",
       "\n",
       "    .dataframe tbody tr th {\n",
       "        vertical-align: top;\n",
       "    }\n",
       "\n",
       "    .dataframe thead th {\n",
       "        text-align: right;\n",
       "    }\n",
       "</style>\n",
       "<table border=\"1\" class=\"dataframe\">\n",
       "  <thead>\n",
       "    <tr style=\"text-align: right;\">\n",
       "      <th></th>\n",
       "      <th>index</th>\n",
       "      <th>close</th>\n",
       "      <th>far</th>\n",
       "      <th>class</th>\n",
       "      <th>trial</th>\n",
       "    </tr>\n",
       "  </thead>\n",
       "  <tbody>\n",
       "    <tr>\n",
       "      <th>0</th>\n",
       "      <td>1</td>\n",
       "      <td>77</td>\n",
       "      <td>180</td>\n",
       "      <td>real</td>\n",
       "      <td>0</td>\n",
       "    </tr>\n",
       "    <tr>\n",
       "      <th>1</th>\n",
       "      <td>2</td>\n",
       "      <td>44</td>\n",
       "      <td>213</td>\n",
       "      <td>real</td>\n",
       "      <td>0</td>\n",
       "    </tr>\n",
       "    <tr>\n",
       "      <th>2</th>\n",
       "      <td>3</td>\n",
       "      <td>33</td>\n",
       "      <td>224</td>\n",
       "      <td>real</td>\n",
       "      <td>0</td>\n",
       "    </tr>\n",
       "    <tr>\n",
       "      <th>3</th>\n",
       "      <td>4</td>\n",
       "      <td>25</td>\n",
       "      <td>232</td>\n",
       "      <td>real</td>\n",
       "      <td>0</td>\n",
       "    </tr>\n",
       "    <tr>\n",
       "      <th>4</th>\n",
       "      <td>5</td>\n",
       "      <td>23</td>\n",
       "      <td>234</td>\n",
       "      <td>real</td>\n",
       "      <td>0</td>\n",
       "    </tr>\n",
       "  </tbody>\n",
       "</table>\n",
       "</div>"
      ],
      "text/plain": [
       "   index  close  far class  trial\n",
       "0      1     77  180  real      0\n",
       "1      2     44  213  real      0\n",
       "2      3     33  224  real      0\n",
       "3      4     25  232  real      0\n",
       "4      5     23  234  real      0"
      ]
     },
     "execution_count": 20,
     "metadata": {},
     "output_type": "execute_result"
    }
   ],
   "source": [
    "def is_close(row, d, k):\n",
    "    \"\"\"\n",
    "    parses out a merged BEDfile (c=(4,5,6), o=('collapse','collapse','distinct'))\n",
    "    d = distance threshold for an edit to be 'close'\n",
    "    k = number of edits that need to meet this threshold.\n",
    "    \n",
    "    Loop over close edits found. If the number of edits (whose distance \n",
    "    is less than d) exceeds k, then the peak is found to have at least\n",
    "    k edits d distance away. \n",
    "    \"\"\"\n",
    "    close_edits = 0\n",
    "    far_edits = 0\n",
    "    try:\n",
    "        estarts = str(row['name']).split(',')\n",
    "        distances = str(row['score']).split(',')\n",
    "\n",
    "        for distance, estart in zip(distances, estarts):\n",
    "            if int(distance) <= d and int(estart) != -1:\n",
    "                close_edits += 1\n",
    "            else:\n",
    "                far_edits += 1\n",
    "        if close_edits >= k:\n",
    "            return True\n",
    "        else:\n",
    "            return False\n",
    "    except AttributeError: # row['name'] = -1 meaning no close edit was found.\n",
    "        return False\n",
    "\n",
    "def get_peaks_with_k_edits_d_nearby(peaks, edits, k, d, r='real'):\n",
    "    \"\"\"\n",
    "    closest returns foreach peak k closest edits at d = True. \n",
    "    Require the edit to exist on the same strand as the real peak\n",
    "    \"\"\"\n",
    "    \n",
    "    if r == 'real':\n",
    "        closest = peaks.closest(edits, s=True, t='all', k=k, d=True).to_dataframe(\n",
    "            names=[\n",
    "                'pchrom','pstart','pend','pname','pscore','pstrand',\n",
    "                'echrom','estart','eend','ename','escore','estrand',\n",
    "                'dist'\n",
    "            ]\n",
    "        )[['pchrom','pstart','pend','estart','dist','pstrand']]\n",
    "    # Random peaks don't preserve strandedness, so we'll just look for any close edit.\n",
    "    elif r == 'rand':\n",
    "        closest = peaks.closest(edits, t='all', k=k, d=True).to_dataframe(\n",
    "            names=[\n",
    "                'pchrom','pstart','pend','pname','pscore','pstrand',\n",
    "                'echrom','estart','eend','ename','escore','estrand',\n",
    "                'dist'\n",
    "            ]\n",
    "        )[['pchrom','pstart','pend','estart','dist','pstrand']]\n",
    "    else: \n",
    "        print(\"r not valid {}\".format(r))\n",
    "        return 1\n",
    "    closest.columns = ['chrom','start','end','name','score','strand']\n",
    "    # print(closest.shape[0])\n",
    "    closest = pybedtools.BedTool.from_dataframe(closest)\n",
    "    \n",
    "    # Collapse all peak regions. Multiple edits (name=edit start, score=distance) are collapsed into a single row, comma-delimited.\n",
    "    pre_merge_size = closest.to_dataframe().shape[0]\n",
    "    closest_pre_merged = closest.to_dataframe().copy()\n",
    "    closest = closest.merge(s=True, c=(4,5,6), o=('collapse','collapse','distinct')).to_dataframe()\n",
    "    post_merge_size = closest.shape[0]\n",
    "    # print(\"Pre vs post merge size (k={}): {} -> {}\".format(k, pre_merge_size, post_merge_size))\n",
    "    # Use the is_close() function to count the number of edits found within [d]istance. True if at least k edits found.\n",
    "    closest['close'] = closest.apply(is_close, args=(d, k,), axis=1)\n",
    "    # print(closest.shape[0])\n",
    "    close = closest[closest['close']==True].shape[0]\n",
    "    far = closest[closest['close']==False].shape[0]\n",
    "    try:\n",
    "        assert closest.shape[0] == len(peaks)    # Sanity check make sure we're collapsing correctly.\n",
    "    except AssertionError: # may occur if two random regions are placed next to each other\n",
    "        if len(peaks) - closest.shape[0] > 10:\n",
    "            print(\"Too many neighboring random regions!\")\n",
    "        # print(closest.shape[0], len(peaks))\n",
    "        # print(closest.head())\n",
    "    return close, far, closest, closest_pre_merged\n",
    "\n",
    "# lists to keep track of each random trial generated.\n",
    "close_rands = defaultdict(list)\n",
    "far_rands = defaultdict(list)\n",
    "\n",
    "# dictionary (will be coerced into dataframe) of number of peaks with at least k edits.\n",
    "df_real = defaultdict(list)\n",
    "# df_rand = defaultdict(list) # deprecating this in favor of random trials\n",
    "progress = tnrange(10, desc=\"Calculating edit nums on/near peaks.\")\n",
    "for k in range(1, 11):\n",
    "    close_real, far_real, _, unmerged = get_peaks_with_k_edits_d_nearby(peaks, edits, k, d, 'real')\n",
    "    # closest_unmerged contains all the \"close\" edits found on or nearby peaks of interest. \n",
    "    # just check that the majority are not the same edits. \n",
    "    # OK if we see the same edit close to two different peaks, but report the number anyway.\n",
    "    # High fraction of double counted edits means perhaps we set d too high. Or, that peaks are close together. \n",
    "    closest_unmerged = unmerged[(unmerged['score'] <= d)]\n",
    "    closest_unmerged_duplicated = closest_unmerged[closest_unmerged.duplicated(['chrom','name','strand'])]\n",
    "    print(\n",
    "        \"Number of double counted edits: {} out of {} ({:.2f}%)\".format(\n",
    "            closest_unmerged_duplicated.shape[0], \n",
    "            closest_unmerged.drop_duplicates(['chrom','name','strand']).shape[0],\n",
    "            (100*closest_unmerged_duplicated.shape[0])/closest_unmerged.drop_duplicates(['chrom','name','strand']).shape[0]\n",
    "        )\n",
    "    )\n",
    "    inner_progress = tnrange(random_trial_num, leave=False, desc='Random trial')\n",
    "    for random_trial in range(random_trial_num):\n",
    "        random = peaks.shuffle(\n",
    "            genome='hg19', \n",
    "            incl=regions_file_for_random_subset_expressed + \".filtered.bed\", \n",
    "            noOverlapping=True\n",
    "        ).sort()\n",
    "        close_rand, far_rand, _, _ = get_peaks_with_k_edits_d_nearby(random, edits, k, d, 'rand')\n",
    "        close_rands[k].append(close_rand)\n",
    "        far_rands[k].append(far_rand)\n",
    "        \n",
    "        inner_progress.update(1)\n",
    "    df_real[k] = [close_real, far_real]\n",
    "    \n",
    "    # df_rand[k] = [close_rand, far_rand]\n",
    "    progress.update(1)\n",
    "\n",
    "# Calculate mean/std deviation \n",
    "close_rands = pd.DataFrame(close_rands).T\n",
    "far_rands = pd.DataFrame(far_rands).T\n",
    "\n",
    "df_real = pd.DataFrame(df_real).T\n",
    "df_real.columns = ['close','far']\n",
    "df_real['class'] = 'real'\n",
    "df_real = df_real[['close','far','class']]\n",
    "df_real['trial'] = 0\n",
    "df_real.reset_index(inplace=True)\n",
    "df_real.head()"
   ]
  },
  {
   "cell_type": "markdown",
   "metadata": {},
   "source": [
    "# The next few cells are me trying to format the random dataframe in such a way that can be plotted using Seaborn's barplot function"
   ]
  },
  {
   "cell_type": "code",
   "execution_count": 21,
   "metadata": {},
   "outputs": [
    {
     "data": {
      "text/html": [
       "<div>\n",
       "<style scoped>\n",
       "    .dataframe tbody tr th:only-of-type {\n",
       "        vertical-align: middle;\n",
       "    }\n",
       "\n",
       "    .dataframe tbody tr th {\n",
       "        vertical-align: top;\n",
       "    }\n",
       "\n",
       "    .dataframe thead th {\n",
       "        text-align: right;\n",
       "    }\n",
       "</style>\n",
       "<table border=\"1\" class=\"dataframe\">\n",
       "  <thead>\n",
       "    <tr style=\"text-align: right;\">\n",
       "      <th></th>\n",
       "      <th>index</th>\n",
       "      <th>close</th>\n",
       "      <th>far</th>\n",
       "      <th>class</th>\n",
       "      <th>trial</th>\n",
       "    </tr>\n",
       "  </thead>\n",
       "  <tbody>\n",
       "    <tr>\n",
       "      <th>0</th>\n",
       "      <td>1</td>\n",
       "      <td>16</td>\n",
       "      <td>241</td>\n",
       "      <td>rand</td>\n",
       "      <td>0</td>\n",
       "    </tr>\n",
       "    <tr>\n",
       "      <th>1</th>\n",
       "      <td>2</td>\n",
       "      <td>7</td>\n",
       "      <td>250</td>\n",
       "      <td>rand</td>\n",
       "      <td>0</td>\n",
       "    </tr>\n",
       "    <tr>\n",
       "      <th>2</th>\n",
       "      <td>3</td>\n",
       "      <td>7</td>\n",
       "      <td>250</td>\n",
       "      <td>rand</td>\n",
       "      <td>0</td>\n",
       "    </tr>\n",
       "    <tr>\n",
       "      <th>3</th>\n",
       "      <td>4</td>\n",
       "      <td>4</td>\n",
       "      <td>253</td>\n",
       "      <td>rand</td>\n",
       "      <td>0</td>\n",
       "    </tr>\n",
       "    <tr>\n",
       "      <th>4</th>\n",
       "      <td>5</td>\n",
       "      <td>3</td>\n",
       "      <td>254</td>\n",
       "      <td>rand</td>\n",
       "      <td>0</td>\n",
       "    </tr>\n",
       "  </tbody>\n",
       "</table>\n",
       "</div>"
      ],
      "text/plain": [
       "   index  close  far class trial\n",
       "0      1     16  241  rand     0\n",
       "1      2      7  250  rand     0\n",
       "2      3      7  250  rand     0\n",
       "3      4      4  253  rand     0\n",
       "4      5      3  254  rand     0"
      ]
     },
     "execution_count": 21,
     "metadata": {},
     "output_type": "execute_result"
    }
   ],
   "source": [
    "close_rands_melted = close_rands.reset_index().melt(id_vars='index', value_name='close', var_name='trial')\n",
    "far_rands_melted = far_rands.reset_index().melt(id_vars='index', value_name='far', var_name='trial')\n",
    "df_rand = pd.merge(close_rands_melted, far_rands_melted, how='inner', left_on=['index','trial'], right_on=['index','trial'])\n",
    "df_rand['class'] = 'rand'\n",
    "df_rand = df_rand[['index','close','far','class','trial']]\n",
    "df_rand.head()"
   ]
  },
  {
   "cell_type": "code",
   "execution_count": 22,
   "metadata": {},
   "outputs": [
    {
     "data": {
      "text/html": [
       "<div>\n",
       "<style scoped>\n",
       "    .dataframe tbody tr th:only-of-type {\n",
       "        vertical-align: middle;\n",
       "    }\n",
       "\n",
       "    .dataframe tbody tr th {\n",
       "        vertical-align: top;\n",
       "    }\n",
       "\n",
       "    .dataframe thead th {\n",
       "        text-align: right;\n",
       "    }\n",
       "</style>\n",
       "<table border=\"1\" class=\"dataframe\">\n",
       "  <thead>\n",
       "    <tr style=\"text-align: right;\">\n",
       "      <th></th>\n",
       "      <th>index</th>\n",
       "      <th>close</th>\n",
       "      <th>far</th>\n",
       "      <th>class</th>\n",
       "      <th>trial</th>\n",
       "      <th>fraction</th>\n",
       "    </tr>\n",
       "  </thead>\n",
       "  <tbody>\n",
       "    <tr>\n",
       "      <th>0</th>\n",
       "      <td>1</td>\n",
       "      <td>77</td>\n",
       "      <td>180</td>\n",
       "      <td>real</td>\n",
       "      <td>0</td>\n",
       "      <td>0.299611</td>\n",
       "    </tr>\n",
       "    <tr>\n",
       "      <th>1</th>\n",
       "      <td>2</td>\n",
       "      <td>44</td>\n",
       "      <td>213</td>\n",
       "      <td>real</td>\n",
       "      <td>0</td>\n",
       "      <td>0.171206</td>\n",
       "    </tr>\n",
       "    <tr>\n",
       "      <th>2</th>\n",
       "      <td>3</td>\n",
       "      <td>33</td>\n",
       "      <td>224</td>\n",
       "      <td>real</td>\n",
       "      <td>0</td>\n",
       "      <td>0.128405</td>\n",
       "    </tr>\n",
       "    <tr>\n",
       "      <th>3</th>\n",
       "      <td>4</td>\n",
       "      <td>25</td>\n",
       "      <td>232</td>\n",
       "      <td>real</td>\n",
       "      <td>0</td>\n",
       "      <td>0.097276</td>\n",
       "    </tr>\n",
       "    <tr>\n",
       "      <th>4</th>\n",
       "      <td>5</td>\n",
       "      <td>23</td>\n",
       "      <td>234</td>\n",
       "      <td>real</td>\n",
       "      <td>0</td>\n",
       "      <td>0.089494</td>\n",
       "    </tr>\n",
       "  </tbody>\n",
       "</table>\n",
       "</div>"
      ],
      "text/plain": [
       "   index  close  far class trial  fraction\n",
       "0      1     77  180  real     0  0.299611\n",
       "1      2     44  213  real     0  0.171206\n",
       "2      3     33  224  real     0  0.128405\n",
       "3      4     25  232  real     0  0.097276\n",
       "4      5     23  234  real     0  0.089494"
      ]
     },
     "execution_count": 22,
     "metadata": {},
     "output_type": "execute_result"
    }
   ],
   "source": [
    "df = pd.concat([df_real, df_rand])\n",
    "df['fraction'] = df['close']/(df['close'] + df['far'])\n",
    "df.to_csv(os.path.join(output_dir, \"{}.{}.{}.{}.{}.{}.calculations.txt\".format(os.path.splitext(os.path.basename(edit_file))[0], tpm_cutoff, CONF, d, l2fc, l10p)), sep='\\t')\n",
    "df.head()"
   ]
  },
  {
   "cell_type": "markdown",
   "metadata": {},
   "source": [
    "# Seaborn calculates and plots the standard deviation error bars for us, but we want the actual values. So these next few cells calculate the standard deviation of each random trial and computes the z-score. \n",
    "- to get a p-value for each k @Brian Yee please shuffle the choices of  random binding sites 100 times (At least) and compute a mean and std deviation value (so those will be the error bars) on the orange bars. p-value assume normal distribution for the Z score, k = (blue bar average - orange bar average )/ stdev"
   ]
  },
  {
   "cell_type": "code",
   "execution_count": 23,
   "metadata": {},
   "outputs": [
    {
     "data": {
      "text/html": [
       "<div>\n",
       "<style scoped>\n",
       "    .dataframe tbody tr th:only-of-type {\n",
       "        vertical-align: middle;\n",
       "    }\n",
       "\n",
       "    .dataframe tbody tr th {\n",
       "        vertical-align: top;\n",
       "    }\n",
       "\n",
       "    .dataframe thead th {\n",
       "        text-align: right;\n",
       "    }\n",
       "</style>\n",
       "<table border=\"1\" class=\"dataframe\">\n",
       "  <thead>\n",
       "    <tr style=\"text-align: right;\">\n",
       "      <th></th>\n",
       "      <th>0</th>\n",
       "      <th>1</th>\n",
       "      <th>2</th>\n",
       "      <th>3</th>\n",
       "      <th>4</th>\n",
       "      <th>5</th>\n",
       "      <th>6</th>\n",
       "      <th>7</th>\n",
       "      <th>8</th>\n",
       "      <th>9</th>\n",
       "      <th>...</th>\n",
       "      <th>92</th>\n",
       "      <th>93</th>\n",
       "      <th>94</th>\n",
       "      <th>95</th>\n",
       "      <th>96</th>\n",
       "      <th>97</th>\n",
       "      <th>98</th>\n",
       "      <th>99</th>\n",
       "      <th>mean_rand_fraction</th>\n",
       "      <th>standard_deviation</th>\n",
       "    </tr>\n",
       "  </thead>\n",
       "  <tbody>\n",
       "    <tr>\n",
       "      <th>1</th>\n",
       "      <td>0.062257</td>\n",
       "      <td>0.066148</td>\n",
       "      <td>0.038911</td>\n",
       "      <td>0.089494</td>\n",
       "      <td>0.081712</td>\n",
       "      <td>0.058366</td>\n",
       "      <td>0.073930</td>\n",
       "      <td>0.085603</td>\n",
       "      <td>0.081712</td>\n",
       "      <td>0.066148</td>\n",
       "      <td>...</td>\n",
       "      <td>0.073930</td>\n",
       "      <td>0.066148</td>\n",
       "      <td>0.046693</td>\n",
       "      <td>0.101167</td>\n",
       "      <td>0.062257</td>\n",
       "      <td>0.066148</td>\n",
       "      <td>0.066148</td>\n",
       "      <td>0.066148</td>\n",
       "      <td>0.068288</td>\n",
       "      <td>0.015568</td>\n",
       "    </tr>\n",
       "    <tr>\n",
       "      <th>2</th>\n",
       "      <td>0.027237</td>\n",
       "      <td>0.023346</td>\n",
       "      <td>0.015564</td>\n",
       "      <td>0.050584</td>\n",
       "      <td>0.027237</td>\n",
       "      <td>0.062257</td>\n",
       "      <td>0.038911</td>\n",
       "      <td>0.027237</td>\n",
       "      <td>0.035019</td>\n",
       "      <td>0.035019</td>\n",
       "      <td>...</td>\n",
       "      <td>0.035019</td>\n",
       "      <td>0.019455</td>\n",
       "      <td>0.019455</td>\n",
       "      <td>0.046693</td>\n",
       "      <td>0.019455</td>\n",
       "      <td>0.038911</td>\n",
       "      <td>0.035019</td>\n",
       "      <td>0.027237</td>\n",
       "      <td>0.035486</td>\n",
       "      <td>0.011037</td>\n",
       "    </tr>\n",
       "    <tr>\n",
       "      <th>3</th>\n",
       "      <td>0.027237</td>\n",
       "      <td>0.027237</td>\n",
       "      <td>0.027237</td>\n",
       "      <td>0.023346</td>\n",
       "      <td>0.019455</td>\n",
       "      <td>0.023346</td>\n",
       "      <td>0.035019</td>\n",
       "      <td>0.015564</td>\n",
       "      <td>0.019455</td>\n",
       "      <td>0.038911</td>\n",
       "      <td>...</td>\n",
       "      <td>0.023346</td>\n",
       "      <td>0.042802</td>\n",
       "      <td>0.035019</td>\n",
       "      <td>0.046693</td>\n",
       "      <td>0.011673</td>\n",
       "      <td>0.015564</td>\n",
       "      <td>0.015564</td>\n",
       "      <td>0.031128</td>\n",
       "      <td>0.024942</td>\n",
       "      <td>0.009848</td>\n",
       "    </tr>\n",
       "    <tr>\n",
       "      <th>4</th>\n",
       "      <td>0.015564</td>\n",
       "      <td>0.011673</td>\n",
       "      <td>0.015564</td>\n",
       "      <td>0.015564</td>\n",
       "      <td>0.015564</td>\n",
       "      <td>0.007782</td>\n",
       "      <td>0.011673</td>\n",
       "      <td>0.011673</td>\n",
       "      <td>0.015564</td>\n",
       "      <td>0.007782</td>\n",
       "      <td>...</td>\n",
       "      <td>0.023346</td>\n",
       "      <td>0.023346</td>\n",
       "      <td>0.031128</td>\n",
       "      <td>0.019455</td>\n",
       "      <td>0.011673</td>\n",
       "      <td>0.027237</td>\n",
       "      <td>0.019455</td>\n",
       "      <td>0.007782</td>\n",
       "      <td>0.016809</td>\n",
       "      <td>0.008349</td>\n",
       "    </tr>\n",
       "    <tr>\n",
       "      <th>5</th>\n",
       "      <td>0.011673</td>\n",
       "      <td>0.015564</td>\n",
       "      <td>0.007782</td>\n",
       "      <td>0.003891</td>\n",
       "      <td>0.000000</td>\n",
       "      <td>0.007782</td>\n",
       "      <td>0.015564</td>\n",
       "      <td>0.007782</td>\n",
       "      <td>0.011673</td>\n",
       "      <td>0.023346</td>\n",
       "      <td>...</td>\n",
       "      <td>0.011673</td>\n",
       "      <td>0.019455</td>\n",
       "      <td>0.007782</td>\n",
       "      <td>0.007782</td>\n",
       "      <td>0.019455</td>\n",
       "      <td>0.011673</td>\n",
       "      <td>0.027237</td>\n",
       "      <td>0.015564</td>\n",
       "      <td>0.013074</td>\n",
       "      <td>0.007264</td>\n",
       "    </tr>\n",
       "  </tbody>\n",
       "</table>\n",
       "<p>5 rows × 102 columns</p>\n",
       "</div>"
      ],
      "text/plain": [
       "          0         1         2         3         4         5         6  \\\n",
       "1  0.062257  0.066148  0.038911  0.089494  0.081712  0.058366  0.073930   \n",
       "2  0.027237  0.023346  0.015564  0.050584  0.027237  0.062257  0.038911   \n",
       "3  0.027237  0.027237  0.027237  0.023346  0.019455  0.023346  0.035019   \n",
       "4  0.015564  0.011673  0.015564  0.015564  0.015564  0.007782  0.011673   \n",
       "5  0.011673  0.015564  0.007782  0.003891  0.000000  0.007782  0.015564   \n",
       "\n",
       "          7         8         9  ...        92        93        94        95  \\\n",
       "1  0.085603  0.081712  0.066148  ...  0.073930  0.066148  0.046693  0.101167   \n",
       "2  0.027237  0.035019  0.035019  ...  0.035019  0.019455  0.019455  0.046693   \n",
       "3  0.015564  0.019455  0.038911  ...  0.023346  0.042802  0.035019  0.046693   \n",
       "4  0.011673  0.015564  0.007782  ...  0.023346  0.023346  0.031128  0.019455   \n",
       "5  0.007782  0.011673  0.023346  ...  0.011673  0.019455  0.007782  0.007782   \n",
       "\n",
       "         96        97        98        99  mean_rand_fraction  \\\n",
       "1  0.062257  0.066148  0.066148  0.066148            0.068288   \n",
       "2  0.019455  0.038911  0.035019  0.027237            0.035486   \n",
       "3  0.011673  0.015564  0.015564  0.031128            0.024942   \n",
       "4  0.011673  0.027237  0.019455  0.007782            0.016809   \n",
       "5  0.019455  0.011673  0.027237  0.015564            0.013074   \n",
       "\n",
       "   standard_deviation  \n",
       "1            0.015568  \n",
       "2            0.011037  \n",
       "3            0.009848  \n",
       "4            0.008349  \n",
       "5            0.007264  \n",
       "\n",
       "[5 rows x 102 columns]"
      ]
     },
     "execution_count": 23,
     "metadata": {},
     "output_type": "execute_result"
    }
   ],
   "source": [
    "rand_fractions = close_rands.div((far_rands+close_rands))\n",
    "rand_fractions['mean_rand_fraction'] = rand_fractions.mean(axis=1)\n",
    "rand_fractions['standard_deviation'] = rand_fractions[list(range(0, random_trial_num))].std(axis=1)\n",
    "rand_fractions.head()"
   ]
  },
  {
   "cell_type": "code",
   "execution_count": 24,
   "metadata": {},
   "outputs": [
    {
     "data": {
      "text/html": [
       "<div>\n",
       "<style scoped>\n",
       "    .dataframe tbody tr th:only-of-type {\n",
       "        vertical-align: middle;\n",
       "    }\n",
       "\n",
       "    .dataframe tbody tr th {\n",
       "        vertical-align: top;\n",
       "    }\n",
       "\n",
       "    .dataframe thead th {\n",
       "        text-align: right;\n",
       "    }\n",
       "</style>\n",
       "<table border=\"1\" class=\"dataframe\">\n",
       "  <thead>\n",
       "    <tr style=\"text-align: right;\">\n",
       "      <th></th>\n",
       "      <th>close</th>\n",
       "      <th>far</th>\n",
       "      <th>class</th>\n",
       "      <th>trial</th>\n",
       "      <th>fraction</th>\n",
       "    </tr>\n",
       "    <tr>\n",
       "      <th>index</th>\n",
       "      <th></th>\n",
       "      <th></th>\n",
       "      <th></th>\n",
       "      <th></th>\n",
       "      <th></th>\n",
       "    </tr>\n",
       "  </thead>\n",
       "  <tbody>\n",
       "    <tr>\n",
       "      <th>1</th>\n",
       "      <td>77</td>\n",
       "      <td>180</td>\n",
       "      <td>real</td>\n",
       "      <td>0</td>\n",
       "      <td>0.299611</td>\n",
       "    </tr>\n",
       "    <tr>\n",
       "      <th>2</th>\n",
       "      <td>44</td>\n",
       "      <td>213</td>\n",
       "      <td>real</td>\n",
       "      <td>0</td>\n",
       "      <td>0.171206</td>\n",
       "    </tr>\n",
       "    <tr>\n",
       "      <th>3</th>\n",
       "      <td>33</td>\n",
       "      <td>224</td>\n",
       "      <td>real</td>\n",
       "      <td>0</td>\n",
       "      <td>0.128405</td>\n",
       "    </tr>\n",
       "    <tr>\n",
       "      <th>4</th>\n",
       "      <td>25</td>\n",
       "      <td>232</td>\n",
       "      <td>real</td>\n",
       "      <td>0</td>\n",
       "      <td>0.097276</td>\n",
       "    </tr>\n",
       "    <tr>\n",
       "      <th>5</th>\n",
       "      <td>23</td>\n",
       "      <td>234</td>\n",
       "      <td>real</td>\n",
       "      <td>0</td>\n",
       "      <td>0.089494</td>\n",
       "    </tr>\n",
       "  </tbody>\n",
       "</table>\n",
       "</div>"
      ],
      "text/plain": [
       "       close  far class  trial  fraction\n",
       "index                                   \n",
       "1         77  180  real      0  0.299611\n",
       "2         44  213  real      0  0.171206\n",
       "3         33  224  real      0  0.128405\n",
       "4         25  232  real      0  0.097276\n",
       "5         23  234  real      0  0.089494"
      ]
     },
     "execution_count": 24,
     "metadata": {},
     "output_type": "execute_result"
    }
   ],
   "source": [
    "df_real['fraction'] = df_real['close']/(df_real['close'] + df_real['far'])\n",
    "df_real.set_index('index', inplace=True)\n",
    "df_real.head()"
   ]
  },
  {
   "cell_type": "code",
   "execution_count": 25,
   "metadata": {},
   "outputs": [
    {
     "data": {
      "text/html": [
       "<div>\n",
       "<style scoped>\n",
       "    .dataframe tbody tr th:only-of-type {\n",
       "        vertical-align: middle;\n",
       "    }\n",
       "\n",
       "    .dataframe tbody tr th {\n",
       "        vertical-align: top;\n",
       "    }\n",
       "\n",
       "    .dataframe thead th {\n",
       "        text-align: right;\n",
       "    }\n",
       "</style>\n",
       "<table border=\"1\" class=\"dataframe\">\n",
       "  <thead>\n",
       "    <tr style=\"text-align: right;\">\n",
       "      <th></th>\n",
       "      <th>close</th>\n",
       "      <th>far</th>\n",
       "      <th>class</th>\n",
       "      <th>trial</th>\n",
       "      <th>fraction</th>\n",
       "      <th>0</th>\n",
       "      <th>1</th>\n",
       "      <th>2</th>\n",
       "      <th>3</th>\n",
       "      <th>4</th>\n",
       "      <th>...</th>\n",
       "      <th>93</th>\n",
       "      <th>94</th>\n",
       "      <th>95</th>\n",
       "      <th>96</th>\n",
       "      <th>97</th>\n",
       "      <th>98</th>\n",
       "      <th>99</th>\n",
       "      <th>mean_rand_fraction</th>\n",
       "      <th>standard_deviation</th>\n",
       "      <th>zscore</th>\n",
       "    </tr>\n",
       "    <tr>\n",
       "      <th>index</th>\n",
       "      <th></th>\n",
       "      <th></th>\n",
       "      <th></th>\n",
       "      <th></th>\n",
       "      <th></th>\n",
       "      <th></th>\n",
       "      <th></th>\n",
       "      <th></th>\n",
       "      <th></th>\n",
       "      <th></th>\n",
       "      <th></th>\n",
       "      <th></th>\n",
       "      <th></th>\n",
       "      <th></th>\n",
       "      <th></th>\n",
       "      <th></th>\n",
       "      <th></th>\n",
       "      <th></th>\n",
       "      <th></th>\n",
       "      <th></th>\n",
       "      <th></th>\n",
       "    </tr>\n",
       "  </thead>\n",
       "  <tbody>\n",
       "    <tr>\n",
       "      <th>1</th>\n",
       "      <td>77</td>\n",
       "      <td>180</td>\n",
       "      <td>real</td>\n",
       "      <td>0</td>\n",
       "      <td>0.299611</td>\n",
       "      <td>0.062257</td>\n",
       "      <td>0.066148</td>\n",
       "      <td>0.038911</td>\n",
       "      <td>0.089494</td>\n",
       "      <td>0.081712</td>\n",
       "      <td>...</td>\n",
       "      <td>0.066148</td>\n",
       "      <td>0.046693</td>\n",
       "      <td>0.101167</td>\n",
       "      <td>0.062257</td>\n",
       "      <td>0.066148</td>\n",
       "      <td>0.066148</td>\n",
       "      <td>0.066148</td>\n",
       "      <td>0.068288</td>\n",
       "      <td>0.015568</td>\n",
       "      <td>14.858983</td>\n",
       "    </tr>\n",
       "    <tr>\n",
       "      <th>2</th>\n",
       "      <td>44</td>\n",
       "      <td>213</td>\n",
       "      <td>real</td>\n",
       "      <td>0</td>\n",
       "      <td>0.171206</td>\n",
       "      <td>0.027237</td>\n",
       "      <td>0.023346</td>\n",
       "      <td>0.015564</td>\n",
       "      <td>0.050584</td>\n",
       "      <td>0.027237</td>\n",
       "      <td>...</td>\n",
       "      <td>0.019455</td>\n",
       "      <td>0.019455</td>\n",
       "      <td>0.046693</td>\n",
       "      <td>0.019455</td>\n",
       "      <td>0.038911</td>\n",
       "      <td>0.035019</td>\n",
       "      <td>0.027237</td>\n",
       "      <td>0.035486</td>\n",
       "      <td>0.011037</td>\n",
       "      <td>12.296594</td>\n",
       "    </tr>\n",
       "    <tr>\n",
       "      <th>3</th>\n",
       "      <td>33</td>\n",
       "      <td>224</td>\n",
       "      <td>real</td>\n",
       "      <td>0</td>\n",
       "      <td>0.128405</td>\n",
       "      <td>0.027237</td>\n",
       "      <td>0.027237</td>\n",
       "      <td>0.027237</td>\n",
       "      <td>0.023346</td>\n",
       "      <td>0.019455</td>\n",
       "      <td>...</td>\n",
       "      <td>0.042802</td>\n",
       "      <td>0.035019</td>\n",
       "      <td>0.046693</td>\n",
       "      <td>0.011673</td>\n",
       "      <td>0.015564</td>\n",
       "      <td>0.015564</td>\n",
       "      <td>0.031128</td>\n",
       "      <td>0.024942</td>\n",
       "      <td>0.009848</td>\n",
       "      <td>10.505730</td>\n",
       "    </tr>\n",
       "    <tr>\n",
       "      <th>4</th>\n",
       "      <td>25</td>\n",
       "      <td>232</td>\n",
       "      <td>real</td>\n",
       "      <td>0</td>\n",
       "      <td>0.097276</td>\n",
       "      <td>0.015564</td>\n",
       "      <td>0.011673</td>\n",
       "      <td>0.015564</td>\n",
       "      <td>0.015564</td>\n",
       "      <td>0.015564</td>\n",
       "      <td>...</td>\n",
       "      <td>0.023346</td>\n",
       "      <td>0.031128</td>\n",
       "      <td>0.019455</td>\n",
       "      <td>0.011673</td>\n",
       "      <td>0.027237</td>\n",
       "      <td>0.019455</td>\n",
       "      <td>0.007782</td>\n",
       "      <td>0.016809</td>\n",
       "      <td>0.008349</td>\n",
       "      <td>9.638291</td>\n",
       "    </tr>\n",
       "    <tr>\n",
       "      <th>5</th>\n",
       "      <td>23</td>\n",
       "      <td>234</td>\n",
       "      <td>real</td>\n",
       "      <td>0</td>\n",
       "      <td>0.089494</td>\n",
       "      <td>0.011673</td>\n",
       "      <td>0.015564</td>\n",
       "      <td>0.007782</td>\n",
       "      <td>0.003891</td>\n",
       "      <td>0.000000</td>\n",
       "      <td>...</td>\n",
       "      <td>0.019455</td>\n",
       "      <td>0.007782</td>\n",
       "      <td>0.007782</td>\n",
       "      <td>0.019455</td>\n",
       "      <td>0.011673</td>\n",
       "      <td>0.027237</td>\n",
       "      <td>0.015564</td>\n",
       "      <td>0.013074</td>\n",
       "      <td>0.007264</td>\n",
       "      <td>10.520209</td>\n",
       "    </tr>\n",
       "    <tr>\n",
       "      <th>6</th>\n",
       "      <td>19</td>\n",
       "      <td>238</td>\n",
       "      <td>real</td>\n",
       "      <td>0</td>\n",
       "      <td>0.073930</td>\n",
       "      <td>0.011673</td>\n",
       "      <td>0.003891</td>\n",
       "      <td>0.007782</td>\n",
       "      <td>0.015564</td>\n",
       "      <td>0.007782</td>\n",
       "      <td>...</td>\n",
       "      <td>0.011673</td>\n",
       "      <td>0.015564</td>\n",
       "      <td>0.011673</td>\n",
       "      <td>0.000000</td>\n",
       "      <td>0.011673</td>\n",
       "      <td>0.007782</td>\n",
       "      <td>0.007782</td>\n",
       "      <td>0.008755</td>\n",
       "      <td>0.006017</td>\n",
       "      <td>10.831470</td>\n",
       "    </tr>\n",
       "    <tr>\n",
       "      <th>7</th>\n",
       "      <td>17</td>\n",
       "      <td>240</td>\n",
       "      <td>real</td>\n",
       "      <td>0</td>\n",
       "      <td>0.066148</td>\n",
       "      <td>0.003891</td>\n",
       "      <td>0.003891</td>\n",
       "      <td>0.007782</td>\n",
       "      <td>0.000000</td>\n",
       "      <td>0.000000</td>\n",
       "      <td>...</td>\n",
       "      <td>0.007782</td>\n",
       "      <td>0.000000</td>\n",
       "      <td>0.007782</td>\n",
       "      <td>0.003891</td>\n",
       "      <td>0.007782</td>\n",
       "      <td>0.003891</td>\n",
       "      <td>0.003891</td>\n",
       "      <td>0.006265</td>\n",
       "      <td>0.005214</td>\n",
       "      <td>11.484248</td>\n",
       "    </tr>\n",
       "    <tr>\n",
       "      <th>8</th>\n",
       "      <td>13</td>\n",
       "      <td>244</td>\n",
       "      <td>real</td>\n",
       "      <td>0</td>\n",
       "      <td>0.050584</td>\n",
       "      <td>0.000000</td>\n",
       "      <td>0.003891</td>\n",
       "      <td>0.007782</td>\n",
       "      <td>0.000000</td>\n",
       "      <td>0.003891</td>\n",
       "      <td>...</td>\n",
       "      <td>0.007782</td>\n",
       "      <td>0.000000</td>\n",
       "      <td>0.003891</td>\n",
       "      <td>0.000000</td>\n",
       "      <td>0.000000</td>\n",
       "      <td>0.007782</td>\n",
       "      <td>0.000000</td>\n",
       "      <td>0.004241</td>\n",
       "      <td>0.003875</td>\n",
       "      <td>11.959024</td>\n",
       "    </tr>\n",
       "    <tr>\n",
       "      <th>9</th>\n",
       "      <td>11</td>\n",
       "      <td>246</td>\n",
       "      <td>real</td>\n",
       "      <td>0</td>\n",
       "      <td>0.042802</td>\n",
       "      <td>0.003891</td>\n",
       "      <td>0.011673</td>\n",
       "      <td>0.000000</td>\n",
       "      <td>0.003891</td>\n",
       "      <td>0.000000</td>\n",
       "      <td>...</td>\n",
       "      <td>0.000000</td>\n",
       "      <td>0.003891</td>\n",
       "      <td>0.000000</td>\n",
       "      <td>0.003891</td>\n",
       "      <td>0.000000</td>\n",
       "      <td>0.000000</td>\n",
       "      <td>0.003891</td>\n",
       "      <td>0.003113</td>\n",
       "      <td>0.003272</td>\n",
       "      <td>12.130222</td>\n",
       "    </tr>\n",
       "    <tr>\n",
       "      <th>10</th>\n",
       "      <td>9</td>\n",
       "      <td>248</td>\n",
       "      <td>real</td>\n",
       "      <td>0</td>\n",
       "      <td>0.035019</td>\n",
       "      <td>0.000000</td>\n",
       "      <td>0.000000</td>\n",
       "      <td>0.000000</td>\n",
       "      <td>0.003891</td>\n",
       "      <td>0.000000</td>\n",
       "      <td>...</td>\n",
       "      <td>0.003891</td>\n",
       "      <td>0.000000</td>\n",
       "      <td>0.000000</td>\n",
       "      <td>0.000000</td>\n",
       "      <td>0.003891</td>\n",
       "      <td>0.007782</td>\n",
       "      <td>0.007782</td>\n",
       "      <td>0.002257</td>\n",
       "      <td>0.003038</td>\n",
       "      <td>10.783384</td>\n",
       "    </tr>\n",
       "  </tbody>\n",
       "</table>\n",
       "<p>10 rows × 108 columns</p>\n",
       "</div>"
      ],
      "text/plain": [
       "       close  far class  trial  fraction         0         1         2  \\\n",
       "index                                                                    \n",
       "1         77  180  real      0  0.299611  0.062257  0.066148  0.038911   \n",
       "2         44  213  real      0  0.171206  0.027237  0.023346  0.015564   \n",
       "3         33  224  real      0  0.128405  0.027237  0.027237  0.027237   \n",
       "4         25  232  real      0  0.097276  0.015564  0.011673  0.015564   \n",
       "5         23  234  real      0  0.089494  0.011673  0.015564  0.007782   \n",
       "6         19  238  real      0  0.073930  0.011673  0.003891  0.007782   \n",
       "7         17  240  real      0  0.066148  0.003891  0.003891  0.007782   \n",
       "8         13  244  real      0  0.050584  0.000000  0.003891  0.007782   \n",
       "9         11  246  real      0  0.042802  0.003891  0.011673  0.000000   \n",
       "10         9  248  real      0  0.035019  0.000000  0.000000  0.000000   \n",
       "\n",
       "              3         4  ...        93        94        95        96  \\\n",
       "index                      ...                                           \n",
       "1      0.089494  0.081712  ...  0.066148  0.046693  0.101167  0.062257   \n",
       "2      0.050584  0.027237  ...  0.019455  0.019455  0.046693  0.019455   \n",
       "3      0.023346  0.019455  ...  0.042802  0.035019  0.046693  0.011673   \n",
       "4      0.015564  0.015564  ...  0.023346  0.031128  0.019455  0.011673   \n",
       "5      0.003891  0.000000  ...  0.019455  0.007782  0.007782  0.019455   \n",
       "6      0.015564  0.007782  ...  0.011673  0.015564  0.011673  0.000000   \n",
       "7      0.000000  0.000000  ...  0.007782  0.000000  0.007782  0.003891   \n",
       "8      0.000000  0.003891  ...  0.007782  0.000000  0.003891  0.000000   \n",
       "9      0.003891  0.000000  ...  0.000000  0.003891  0.000000  0.003891   \n",
       "10     0.003891  0.000000  ...  0.003891  0.000000  0.000000  0.000000   \n",
       "\n",
       "             97        98        99  mean_rand_fraction  standard_deviation  \\\n",
       "index                                                                         \n",
       "1      0.066148  0.066148  0.066148            0.068288            0.015568   \n",
       "2      0.038911  0.035019  0.027237            0.035486            0.011037   \n",
       "3      0.015564  0.015564  0.031128            0.024942            0.009848   \n",
       "4      0.027237  0.019455  0.007782            0.016809            0.008349   \n",
       "5      0.011673  0.027237  0.015564            0.013074            0.007264   \n",
       "6      0.011673  0.007782  0.007782            0.008755            0.006017   \n",
       "7      0.007782  0.003891  0.003891            0.006265            0.005214   \n",
       "8      0.000000  0.007782  0.000000            0.004241            0.003875   \n",
       "9      0.000000  0.000000  0.003891            0.003113            0.003272   \n",
       "10     0.003891  0.007782  0.007782            0.002257            0.003038   \n",
       "\n",
       "          zscore  \n",
       "index             \n",
       "1      14.858983  \n",
       "2      12.296594  \n",
       "3      10.505730  \n",
       "4       9.638291  \n",
       "5      10.520209  \n",
       "6      10.831470  \n",
       "7      11.484248  \n",
       "8      11.959024  \n",
       "9      12.130222  \n",
       "10     10.783384  \n",
       "\n",
       "[10 rows x 108 columns]"
      ]
     },
     "execution_count": 25,
     "metadata": {},
     "output_type": "execute_result"
    }
   ],
   "source": [
    "zscore_table = pd.merge(df_real, rand_fractions, how='inner', left_index=True, right_index=True)\n",
    "zscore_table['zscore'] = (zscore_table['fraction'] - zscore_table['mean_rand_fraction'])/zscore_table['standard_deviation']\n",
    "zscore_table.to_csv(os.path.join(output_dir, \"{}.{}.{}.{}.{}.{}.zscores.txt\".format(os.path.splitext(os.path.basename(edit_file))[0], tpm_cutoff, CONF, d, l2fc, l10p)), sep='\\t')\n",
    "zscore_table"
   ]
  },
  {
   "cell_type": "markdown",
   "metadata": {},
   "source": [
    "# super, can u also make an extra y-axis and plot a line which is the ratio between blue and orange bars on the same plot"
   ]
  },
  {
   "cell_type": "code",
   "execution_count": 26,
   "metadata": {},
   "outputs": [
    {
     "data": {
      "text/html": [
       "<div>\n",
       "<style scoped>\n",
       "    .dataframe tbody tr th:only-of-type {\n",
       "        vertical-align: middle;\n",
       "    }\n",
       "\n",
       "    .dataframe tbody tr th {\n",
       "        vertical-align: top;\n",
       "    }\n",
       "\n",
       "    .dataframe thead th {\n",
       "        text-align: right;\n",
       "    }\n",
       "</style>\n",
       "<table border=\"1\" class=\"dataframe\">\n",
       "  <thead>\n",
       "    <tr style=\"text-align: right;\">\n",
       "      <th></th>\n",
       "      <th>ratio</th>\n",
       "    </tr>\n",
       "  </thead>\n",
       "  <tbody>\n",
       "    <tr>\n",
       "      <th>0</th>\n",
       "      <td>4.387464</td>\n",
       "    </tr>\n",
       "    <tr>\n",
       "      <th>1</th>\n",
       "      <td>4.824561</td>\n",
       "    </tr>\n",
       "    <tr>\n",
       "      <th>2</th>\n",
       "      <td>5.148206</td>\n",
       "    </tr>\n",
       "    <tr>\n",
       "      <th>3</th>\n",
       "      <td>5.787037</td>\n",
       "    </tr>\n",
       "    <tr>\n",
       "      <th>4</th>\n",
       "      <td>6.845238</td>\n",
       "    </tr>\n",
       "    <tr>\n",
       "      <th>5</th>\n",
       "      <td>8.444444</td>\n",
       "    </tr>\n",
       "    <tr>\n",
       "      <th>6</th>\n",
       "      <td>10.559006</td>\n",
       "    </tr>\n",
       "    <tr>\n",
       "      <th>7</th>\n",
       "      <td>11.926606</td>\n",
       "    </tr>\n",
       "    <tr>\n",
       "      <th>8</th>\n",
       "      <td>13.750000</td>\n",
       "    </tr>\n",
       "    <tr>\n",
       "      <th>9</th>\n",
       "      <td>15.517241</td>\n",
       "    </tr>\n",
       "  </tbody>\n",
       "</table>\n",
       "</div>"
      ],
      "text/plain": [
       "       ratio\n",
       "0   4.387464\n",
       "1   4.824561\n",
       "2   5.148206\n",
       "3   5.787037\n",
       "4   6.845238\n",
       "5   8.444444\n",
       "6  10.559006\n",
       "7  11.926606\n",
       "8  13.750000\n",
       "9  15.517241"
      ]
     },
     "execution_count": 26,
     "metadata": {},
     "output_type": "execute_result"
    }
   ],
   "source": [
    "def get_ratio_real_rand(index, df):\n",
    "    real = df.loc[index+1]['fraction']\n",
    "    rand = df.loc[index+1]['mean_rand_fraction']\n",
    "    if rand > 0:\n",
    "        return real/rand\n",
    "    else:\n",
    "        return 400\n",
    "\n",
    "ratio = defaultdict()\n",
    "\n",
    "for i in range(0, 10):\n",
    "    ratio[i] = get_ratio_real_rand(i, zscore_table)\n",
    "    \n",
    "ratio = pd.DataFrame(ratio, index=['ratio']).T\n",
    "ratio"
   ]
  },
  {
   "cell_type": "markdown",
   "metadata": {},
   "source": [
    "# label each bar using z-scores calculated from above."
   ]
  },
  {
   "cell_type": "code",
   "execution_count": 27,
   "metadata": {},
   "outputs": [
    {
     "data": {
      "image/png": "[encoded data removed]",
      "text/plain": [
       "<Figure size 1080x720 with 2 Axes>"
      ]
     },
     "metadata": {
      "needs_background": "light"
     },
     "output_type": "display_data"
    }
   ],
   "source": [
    "font = {\n",
    "    'family' : 'DejaVu Sans',\n",
    "    'weight' : 'normal',\n",
    "    'size'   : 16\n",
    "}\n",
    "matplotlib.rc('font', **font)\n",
    "\n",
    "fig, ax = plt.subplots(figsize=(15, 10))\n",
    "\n",
    "ax = sns.barplot(x='index', y='fraction', hue='class', data=df, alpha=0.3, ci='sd', errwidth=1)\n",
    "ax.set_ylabel(\"Fraction\")\n",
    "num_k = int(len(ax.patches)/2)\n",
    "for i in range(num_k):\n",
    "    # get_x pulls left or right; get_height pushes up or down\n",
    "    ax.text(\n",
    "        ax.patches[i].get_x()-.03, \n",
    "        ax.patches[i].get_height()+0.01, \n",
    "        \"{:.2f}\".format(zscore_table.iloc[i]['zscore']), \n",
    "        fontsize=16,\n",
    "        color='dimgrey'\n",
    "    )\n",
    "ax.set_ylim(0, 0.35)\n",
    "ax.set_xlim(-1, 10)\n",
    "ax.set_xlabel('k')\n",
    "ax.set_title(\"Fraction of real/rand peaks (n={})\\nwith at least k edits (n={})\\n within {} bases of a peak at conf={}\".format(peaks.to_dataframe().shape[0], edits.to_dataframe().shape[0], d, CONF))\n",
    "\n",
    "ax2 = ax.twinx()\n",
    "ratio['ratio'].plot(ax=ax2)\n",
    "ax2.set_ylim(0, 25)\n",
    "ax2.set_xlim(-1, 10)\n",
    "fig.savefig(os.path.join(output_dir, \"{}.{}.{}.{}.{}.{}.svg\".format(os.path.splitext(os.path.basename(edit_file))[0], tpm_cutoff, CONF, d, l2fc, l10p)))"
   ]
  },
  {
   "cell_type": "markdown",
   "metadata": {},
   "source": [
    "# We can use this cell to determine where our false positives lie. Need to check some of these individually on IGV to see whether these look more like \"True\" binding sites just not picked up in this analysis. \n",
    "- ie. \"SRSF10\" so biologically what i think is happening is that RBFOX2 binds strongly in that intron, and weekly in the 3' UTR (sub 3 and 3 enrichment), but because we pA select our edit signal, we only see the binding “signal” in the 3'UTR.  just to keep in mind."
   ]
  },
  {
   "cell_type": "code",
   "execution_count": 28,
   "metadata": {},
   "outputs": [],
   "source": [
    "k = 3   # Number of edits required\n",
    "d = 50 # Distance from random region"
   ]
  },
  {
   "cell_type": "code",
   "execution_count": 29,
   "metadata": {},
   "outputs": [],
   "source": [
    "closest = random.closest(edits, t='all', k=k, d=True).to_dataframe(\n",
    "    names=[\n",
    "        'pchrom','pstart','pend','pname','pscore','pstrand',\n",
    "        'echrom','estart','eend','ename','escore','estrand',\n",
    "        'dist'\n",
    "    ]\n",
    ")[['pchrom','pstart','pend','estart','dist','pstrand']]\n",
    "closest.columns = ['chrom','start','end','name','score','strand']\n",
    "# print(closest.shape[0])\n",
    "closest = pybedtools.BedTool.from_dataframe(closest)\n",
    "closest = closest.merge(s=True, c=(4,5,6), o=('collapse','collapse','distinct')).to_dataframe()\n",
    "\n",
    "closest['close'] = closest.apply(is_close, args=(d, k,), axis=1)"
   ]
  },
  {
   "cell_type": "markdown",
   "metadata": {},
   "source": [
    "# These should be 'random' regions where at least k edits were found within d distance of the region."
   ]
  },
  {
   "cell_type": "code",
   "execution_count": 30,
   "metadata": {},
   "outputs": [
    {
     "data": {
      "text/html": [
       "<div>\n",
       "<style scoped>\n",
       "    .dataframe tbody tr th:only-of-type {\n",
       "        vertical-align: middle;\n",
       "    }\n",
       "\n",
       "    .dataframe tbody tr th {\n",
       "        vertical-align: top;\n",
       "    }\n",
       "\n",
       "    .dataframe thead th {\n",
       "        text-align: right;\n",
       "    }\n",
       "</style>\n",
       "<table border=\"1\" class=\"dataframe\">\n",
       "  <thead>\n",
       "    <tr style=\"text-align: right;\">\n",
       "      <th></th>\n",
       "      <th>chrom</th>\n",
       "      <th>start</th>\n",
       "      <th>end</th>\n",
       "      <th>name</th>\n",
       "      <th>score</th>\n",
       "      <th>strand</th>\n",
       "      <th>close</th>\n",
       "    </tr>\n",
       "  </thead>\n",
       "  <tbody>\n",
       "    <tr>\n",
       "      <th>17</th>\n",
       "      <td>chr1</td>\n",
       "      <td>160247978</td>\n",
       "      <td>160248075</td>\n",
       "      <td>160248000,160248040,160248047</td>\n",
       "      <td>0,0,0</td>\n",
       "      <td>-</td>\n",
       "      <td>True</td>\n",
       "    </tr>\n",
       "    <tr>\n",
       "      <th>21</th>\n",
       "      <td>chr1</td>\n",
       "      <td>205682910</td>\n",
       "      <td>205682978</td>\n",
       "      <td>205682935,205682959,205682980</td>\n",
       "      <td>0,0,3</td>\n",
       "      <td>-</td>\n",
       "      <td>True</td>\n",
       "    </tr>\n",
       "    <tr>\n",
       "      <th>52</th>\n",
       "      <td>chr12</td>\n",
       "      <td>58142137</td>\n",
       "      <td>58142259</td>\n",
       "      <td>58142165,58142182,58142134</td>\n",
       "      <td>0,0,3</td>\n",
       "      <td>-</td>\n",
       "      <td>True</td>\n",
       "    </tr>\n",
       "    <tr>\n",
       "      <th>55</th>\n",
       "      <td>chr12</td>\n",
       "      <td>98995154</td>\n",
       "      <td>98995329</td>\n",
       "      <td>98995193,98995298,98995327</td>\n",
       "      <td>0,0,0</td>\n",
       "      <td>-</td>\n",
       "      <td>True</td>\n",
       "    </tr>\n",
       "    <tr>\n",
       "      <th>80</th>\n",
       "      <td>chr14</td>\n",
       "      <td>100407518</td>\n",
       "      <td>100407599</td>\n",
       "      <td>100407527,100407547,100407507</td>\n",
       "      <td>0,0,11</td>\n",
       "      <td>+</td>\n",
       "      <td>True</td>\n",
       "    </tr>\n",
       "    <tr>\n",
       "      <th>155</th>\n",
       "      <td>chr20</td>\n",
       "      <td>17588420</td>\n",
       "      <td>17588501</td>\n",
       "      <td>17588489,17588492,17588526</td>\n",
       "      <td>0,0,26</td>\n",
       "      <td>+</td>\n",
       "      <td>True</td>\n",
       "    </tr>\n",
       "    <tr>\n",
       "      <th>165</th>\n",
       "      <td>chr22</td>\n",
       "      <td>29696286</td>\n",
       "      <td>29696453</td>\n",
       "      <td>29696287,29696289,29696312,29696375,29696381,29696413,29696442</td>\n",
       "      <td>0,0,0,0,0,0,0</td>\n",
       "      <td>+</td>\n",
       "      <td>True</td>\n",
       "    </tr>\n",
       "    <tr>\n",
       "      <th>210</th>\n",
       "      <td>chr6</td>\n",
       "      <td>47200133</td>\n",
       "      <td>47200271</td>\n",
       "      <td>47200151,47200162,47200292</td>\n",
       "      <td>0,0,22</td>\n",
       "      <td>-</td>\n",
       "      <td>True</td>\n",
       "    </tr>\n",
       "    <tr>\n",
       "      <th>225</th>\n",
       "      <td>chr7</td>\n",
       "      <td>112115596</td>\n",
       "      <td>112115721</td>\n",
       "      <td>112115646,112115666,112115675,112115714,112115719</td>\n",
       "      <td>0,0,0,0,0</td>\n",
       "      <td>+</td>\n",
       "      <td>True</td>\n",
       "    </tr>\n",
       "    <tr>\n",
       "      <th>244</th>\n",
       "      <td>chr9</td>\n",
       "      <td>116025663</td>\n",
       "      <td>116025773</td>\n",
       "      <td>116025671,116025676,116025715,116025718,116025725,116025735,116025740,116025766,116025769</td>\n",
       "      <td>0,0,0,0,0,0,0,0,0</td>\n",
       "      <td>-</td>\n",
       "      <td>True</td>\n",
       "    </tr>\n",
       "    <tr>\n",
       "      <th>246</th>\n",
       "      <td>chr9</td>\n",
       "      <td>131457211</td>\n",
       "      <td>131457445</td>\n",
       "      <td>131457212,131457224,131457299,131457308,131457319,131457322,131457327,131457329,131457352,131457354,131457360,131457362,131457377,131457390,131457394,131457408</td>\n",
       "      <td>0,0,0,0,0,0,0,0,0,0,0,0,0,0,0,0</td>\n",
       "      <td>+</td>\n",
       "      <td>True</td>\n",
       "    </tr>\n",
       "  </tbody>\n",
       "</table>\n",
       "</div>"
      ],
      "text/plain": [
       "     chrom      start        end  \\\n",
       "17    chr1  160247978  160248075   \n",
       "21    chr1  205682910  205682978   \n",
       "52   chr12   58142137   58142259   \n",
       "55   chr12   98995154   98995329   \n",
       "80   chr14  100407518  100407599   \n",
       "155  chr20   17588420   17588501   \n",
       "165  chr22   29696286   29696453   \n",
       "210   chr6   47200133   47200271   \n",
       "225   chr7  112115596  112115721   \n",
       "244   chr9  116025663  116025773   \n",
       "246   chr9  131457211  131457445   \n",
       "\n",
       "                                                                                                                                                                name  \\\n",
       "17                                                                                                                                     160248000,160248040,160248047   \n",
       "21                                                                                                                                     205682935,205682959,205682980   \n",
       "52                                                                                                                                        58142165,58142182,58142134   \n",
       "55                                                                                                                                        98995193,98995298,98995327   \n",
       "80                                                                                                                                     100407527,100407547,100407507   \n",
       "155                                                                                                                                       17588489,17588492,17588526   \n",
       "165                                                                                                   29696287,29696289,29696312,29696375,29696381,29696413,29696442   \n",
       "210                                                                                                                                       47200151,47200162,47200292   \n",
       "225                                                                                                                112115646,112115666,112115675,112115714,112115719   \n",
       "244                                                                        116025671,116025676,116025715,116025718,116025725,116025735,116025740,116025766,116025769   \n",
       "246  131457212,131457224,131457299,131457308,131457319,131457322,131457327,131457329,131457352,131457354,131457360,131457362,131457377,131457390,131457394,131457408   \n",
       "\n",
       "                               score strand  close  \n",
       "17                             0,0,0      -   True  \n",
       "21                             0,0,3      -   True  \n",
       "52                             0,0,3      -   True  \n",
       "55                             0,0,0      -   True  \n",
       "80                            0,0,11      +   True  \n",
       "155                           0,0,26      +   True  \n",
       "165                    0,0,0,0,0,0,0      +   True  \n",
       "210                           0,0,22      -   True  \n",
       "225                        0,0,0,0,0      +   True  \n",
       "244                0,0,0,0,0,0,0,0,0      -   True  \n",
       "246  0,0,0,0,0,0,0,0,0,0,0,0,0,0,0,0      +   True  "
      ]
     },
     "execution_count": 30,
     "metadata": {},
     "output_type": "execute_result"
    }
   ],
   "source": [
    "closest[closest['close']==True]"
   ]
  },
  {
   "cell_type": "markdown",
   "metadata": {},
   "source": [
    "# Go back and check the math"
   ]
  },
  {
   "cell_type": "code",
   "execution_count": 31,
   "metadata": {},
   "outputs": [
    {
     "data": {
      "text/plain": [
       "<matplotlib.axes._subplots.AxesSubplot at 0x2ba2c18403c8>"
      ]
     },
     "execution_count": 31,
     "metadata": {},
     "output_type": "execute_result"
    },
    {
     "data": {
      "image/png": "[encoded data removed]",
      "text/plain": [
       "<Figure size 432x288 with 1 Axes>"
      ]
     },
     "metadata": {
      "needs_background": "light"
     },
     "output_type": "display_data"
    }
   ],
   "source": [
    "zscore_table.loc[1,[c for c in list(range(0,1000))]].plot(kind='hist')"
   ]
  },
  {
   "cell_type": "code",
   "execution_count": null,
   "metadata": {},
   "outputs": [],
   "source": []
  }
 ],
 "metadata": {
  "kernelspec": {
   "display_name": "python3-essential-tscc",
   "language": "python",
   "name": "python3essentialtscc"
  },
  "language_info": {
   "codemirror_mode": {
    "name": "ipython",
    "version": 3
   },
   "file_extension": ".py",
   "mimetype": "text/x-python",
   "name": "python",
   "nbconvert_exporter": "python",
   "pygments_lexer": "ipython3",
   "version": "3.6.7"
  }
 },
 "nbformat": 4,
 "nbformat_minor": 2
}
