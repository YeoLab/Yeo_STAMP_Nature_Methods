{
 "cells": [
  {
   "cell_type": "code",
   "execution_count": 1,
   "metadata": {},
   "outputs": [],
   "source": [
    "%matplotlib inline\n",
    "\n",
    "import warnings\n",
    "warnings.simplefilter(action='ignore', category=FutureWarning)\n",
    "\n",
    "import glob\n",
    "import os\n",
    "import numpy as np\n",
    "import pandas as pd\n",
    "import gffutils\n",
    "import pysam\n",
    "import pybedtools\n",
    "import matplotlib.pyplot as plt\n",
    "from collections import defaultdict\n",
    "from tqdm import tnrange, tqdm_notebook\n",
    "from Bio import SeqIO\n",
    "pd.set_option('display.max_columns', 150)"
   ]
  },
  {
   "cell_type": "code",
   "execution_count": 2,
   "metadata": {},
   "outputs": [],
   "source": [
    "input_dir = '/home/bay001/projects/kris_apobec_20200121/permanent_data/final_analysis/01_SAILOR_bulk_rnaseq/inputs/'\n",
    "output_dir = '/home/bay001/projects/kris_apobec_20200121/permanent_data/final_analysis/01_SAILOR_bulk_rnaseq/inputs/'\n",
    "genome_fa = '/projects/ps-yeolab3/bay001/annotations/hg19/hg19.fa'\n",
    "exons_file = '/projects/ps-yeolab3/bay001/annotations/hg19/gencode_v19/hg19_v19_exons.bed'\n",
    "genes_file = '/projects/ps-yeolab3/bay001/annotations/hg19/gencode_v19/hg19_v19_genes.bed'"
   ]
  },
  {
   "cell_type": "code",
   "execution_count": 3,
   "metadata": {},
   "outputs": [],
   "source": [
    "def get_positions_as_df(fn):\n",
    "    return pd.read_csv(fn, sep='\\t', index_col=3, names=['chrom','start','end','score','strand'])\n",
    "\n",
    "\n",
    "def get_merged_positions_as_bedtool(geneid, df):\n",
    "    try:\n",
    "        df = df.loc[geneid].reset_index()[['chrom','start','end','index','score','strand']]\n",
    "        return pybedtools.BedTool.from_dataframe(df).sort().merge(\n",
    "            s=True, c=\"4,5,6\", o=\"distinct,sum,distinct\"\n",
    "        )\n",
    "    except KeyError:\n",
    "        return pybedtools.BedTool.from_dataframe(pd.DataFrame(df.loc[geneid]).T.reset_index()[['chrom','start','end','index','score','strand']]).sort().merge(\n",
    "            s=True, c=\"4,5,6\", o=\"distinct,sum,distinct\"\n",
    "        )\n",
    "    \n",
    "\n",
    "def get_total_editable_sites(bedtool, genome_fa, debug=False):\n",
    "    \"\"\"\n",
    "    Gets total number of total C's in each gene, returns dataframe.\n",
    "    - negative strand returns reverse complement so always look for C\n",
    "    \"\"\"\n",
    "    gene_sequence = bedtool.sequence(fi=genome_fa, s=True, name=True)\n",
    "    total_editable = 0\n",
    "    with open(gene_sequence.seqfn) as f:\n",
    "        for record in SeqIO.parse(f, \"fasta\"):\n",
    "            if debug:\n",
    "                print(\"Sequence: [{}]\".format(record.seq.upper()))\n",
    "            total_editable += record.seq.upper().count('C')\n",
    "            if debug:\n",
    "                print(\"Number Cs found: {}\".format(total_editable))\n",
    "    return total_editable"
   ]
  },
  {
   "cell_type": "code",
   "execution_count": null,
   "metadata": {},
   "outputs": [],
   "source": [
    "exons = get_positions_as_df(exons_file)\n",
    "genes = get_positions_as_df(genes_file)"
   ]
  },
  {
   "cell_type": "code",
   "execution_count": null,
   "metadata": {},
   "outputs": [
    {
     "data": {
      "text/html": [
       "<div>\n",
       "<style scoped>\n",
       "    .dataframe tbody tr th:only-of-type {\n",
       "        vertical-align: middle;\n",
       "    }\n",
       "\n",
       "    .dataframe tbody tr th {\n",
       "        vertical-align: top;\n",
       "    }\n",
       "\n",
       "    .dataframe thead th {\n",
       "        text-align: right;\n",
       "    }\n",
       "</style>\n",
       "<table border=\"1\" class=\"dataframe\">\n",
       "  <thead>\n",
       "    <tr style=\"text-align: right;\">\n",
       "      <th></th>\n",
       "      <th>chrom</th>\n",
       "      <th>start</th>\n",
       "      <th>end</th>\n",
       "      <th>score</th>\n",
       "      <th>strand</th>\n",
       "    </tr>\n",
       "  </thead>\n",
       "  <tbody>\n",
       "    <tr>\n",
       "      <th>ENSG00000223972.4</th>\n",
       "      <td>chr1</td>\n",
       "      <td>11868</td>\n",
       "      <td>12227</td>\n",
       "      <td>0</td>\n",
       "      <td>+</td>\n",
       "    </tr>\n",
       "    <tr>\n",
       "      <th>ENSG00000223972.4</th>\n",
       "      <td>chr1</td>\n",
       "      <td>12594</td>\n",
       "      <td>12721</td>\n",
       "      <td>0</td>\n",
       "      <td>+</td>\n",
       "    </tr>\n",
       "    <tr>\n",
       "      <th>ENSG00000223972.4</th>\n",
       "      <td>chr1</td>\n",
       "      <td>12974</td>\n",
       "      <td>13052</td>\n",
       "      <td>0</td>\n",
       "      <td>+</td>\n",
       "    </tr>\n",
       "    <tr>\n",
       "      <th>ENSG00000223972.4</th>\n",
       "      <td>chr1</td>\n",
       "      <td>13220</td>\n",
       "      <td>14412</td>\n",
       "      <td>0</td>\n",
       "      <td>+</td>\n",
       "    </tr>\n",
       "  </tbody>\n",
       "</table>\n",
       "</div>"
      ],
      "text/plain": [
       "                  chrom  start    end  score strand\n",
       "ENSG00000223972.4  chr1  11868  12227      0      +\n",
       "ENSG00000223972.4  chr1  12594  12721      0      +\n",
       "ENSG00000223972.4  chr1  12974  13052      0      +\n",
       "ENSG00000223972.4  chr1  13220  14412      0      +"
      ]
     },
     "execution_count": 5,
     "metadata": {},
     "output_type": "execute_result"
    }
   ],
   "source": [
    "exons.loc['ENSG00000223972.4']"
   ]
  },
  {
   "cell_type": "code",
   "execution_count": null,
   "metadata": {},
   "outputs": [
    {
     "data": {
      "application/vnd.jupyter.widget-view+json": {
       "model_id": "b1706af809f54c5a8a5e90fb71e6d711",
       "version_major": 2,
       "version_minor": 0
      },
      "text/plain": [
       "HBox(children=(IntProgress(value=0, max=57820), HTML(value='')))"
      ]
     },
     "metadata": {},
     "output_type": "display_data"
    }
   ],
   "source": [
    "editable = defaultdict(dict)\n",
    "\n",
    "for label, region in zip(['genes','exons'], [genes, exons]):\n",
    "    progress = tnrange(len(set(region.index)))\n",
    "    for gene in set(region.index):\n",
    "        try:\n",
    "            bedtool = get_merged_positions_as_bedtool(gene, df=region)\n",
    "            if type(bedtool) == pybedtools.BedTool:\n",
    "                editable[gene][label] = get_total_editable_sites(\n",
    "                    bedtool=bedtool,\n",
    "                    genome_fa=genome_fa,\n",
    "                )\n",
    "            pybedtools.cleanup()\n",
    "        except Exception as e:\n",
    "            print(e, gene)\n",
    "\n",
    "        progress.update(1)"
   ]
  },
  {
   "cell_type": "code",
   "execution_count": null,
   "metadata": {},
   "outputs": [],
   "source": [
    "pd.DataFrame(editable).T.to_csv(os.path.join(input_dir, 'hg19_v19.editable_C.tsv'), sep='\\t')"
   ]
  }
 ],
 "metadata": {
  "kernelspec": {
   "display_name": "python3-essential-tscc",
   "language": "python",
   "name": "python3essentialtscc"
  },
  "language_info": {
   "codemirror_mode": {
    "name": "ipython",
    "version": 3
   },
   "file_extension": ".py",
   "mimetype": "text/x-python",
   "name": "python",
   "nbconvert_exporter": "python",
   "pygments_lexer": "ipython3",
   "version": "3.6.7"
  }
 },
 "nbformat": 4,
 "nbformat_minor": 2
}
