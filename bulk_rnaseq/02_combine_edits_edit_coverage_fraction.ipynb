{
 "cells": [
  {
   "cell_type": "markdown",
   "metadata": {},
   "source": [
    "# Re-formats the native SAILOR outputs to report reads edited per site and total coverage per site.\n",
    "- We'll use the 'reads edited per site' "
   ]
  },
  {
   "cell_type": "code",
   "execution_count": 1,
   "metadata": {},
   "outputs": [],
   "source": [
    "import glob\n",
    "import os\n",
    "import glob\n",
    "import pandas as pd\n",
    "import numpy as np\n",
    "from tqdm import tnrange, tqdm_notebook"
   ]
  },
  {
   "cell_type": "code",
   "execution_count": 2,
   "metadata": {},
   "outputs": [],
   "source": [
    "input_dir = '/home/bay001/projects/kris_apobec_20200121/permanent_data/final_analysis/01_SAILOR_bulk_rnaseq/outputs'\n",
    "output_dir = '/home/bay001/projects/kris_apobec_20200121/permanent_data/final_analysis/01_SAILOR_bulk_rnaseq/outputs/combined_outputs_w_cov_info'"
   ]
  },
  {
   "cell_type": "markdown",
   "metadata": {},
   "source": [
    "### Here I'm grabbing the fwd BEDfile final outputs from SAILOR, and using these files to find its corresponding rev BEDfile final outputs. Merge them together.\n",
    "\n",
    "- I'm also using the total coverage and the edit fraction to re-compute the edited coverage at the position. **This is critical for downstream analysis!**\n",
    "- eg. 15|C>T|0.066666667 -> 1,15 # where 1 is the number of reads that were C>T converted and 15 is the total coverage at that edit site. "
   ]
  },
  {
   "cell_type": "code",
   "execution_count": 3,
   "metadata": {},
   "outputs": [
    {
     "name": "stdout",
     "output_type": "stream",
     "text": [
      "184\n"
     ]
    },
    {
     "data": {
      "text/plain": [
       "['/home/bay001/projects/kris_apobec_20200121/permanent_data/final_analysis/01_SAILOR_bulk_rnaseq/outputs/ABCE1-0_S1_L001_R1_001_a0_b0_e0.01/results/ABCE1-0_S1_L001_R1_001.fastqTr.sorted.STARUnmapped.out.sorted.STARAligned.out.sorted_a0_b0_e0.01.fwd.sorted.rmdup.readfiltered.formatted.varfiltered.snpfiltered.ranked.bed',\n",
       " '/home/bay001/projects/kris_apobec_20200121/permanent_data/final_analysis/01_SAILOR_bulk_rnaseq/outputs/ABCE1-1000_S15_L002_R1_001_a0_b0_e0.01.noRmDup/results/ABCE1-1000_S15_L002_R1_001.fastqTr.sorted.STARUnmapped.out.sorted.STARAligned.out.sorted_a0_b0_e0.01.noRmDup.fwd.sorted.rmdup.readfiltered.formatted.varfiltered.snpfiltered.ranked.bed',\n",
       " '/home/bay001/projects/kris_apobec_20200121/permanent_data/final_analysis/01_SAILOR_bulk_rnaseq/outputs/ABCE1-1000_S15_L002_R1_001_a0_b0_e0.01/results/ABCE1-1000_S15_L002_R1_001.fastqTr.sorted.STARUnmapped.out.sorted.STARAligned.out.sorted_a0_b0_e0.01.fwd.sorted.rmdup.readfiltered.formatted.varfiltered.snpfiltered.ranked.bed',\n",
       " '/home/bay001/projects/kris_apobec_20200121/permanent_data/final_analysis/01_SAILOR_bulk_rnaseq/outputs/ABCE1-50_S8_L001_R1_001_a0_b0_e0.01/results/ABCE1-50_S8_L001_R1_001.fastqTr.sorted.STARUnmapped.out.sorted.STARAligned.out.sorted_a0_b0_e0.01.fwd.sorted.rmdup.readfiltered.formatted.varfiltered.snpfiltered.ranked.bed',\n",
       " '/home/bay001/projects/kris_apobec_20200121/permanent_data/final_analysis/01_SAILOR_bulk_rnaseq/outputs/APOBEC-only_a0_b0_e0.01/results/APOBEC-only_a0_b0_e0.01.fwd.sorted.rmdup.readfiltered.formatted.varfiltered.snpfiltered.ranked.bed',\n",
       " '/home/bay001/projects/kris_apobec_20200121/permanent_data/final_analysis/01_SAILOR_bulk_rnaseq/outputs/APOBEC_only_0_merged_R1_a0_b0_e0.01/results/APOBEC_only_0_merged_R1.fastqTr.sorted.STARUnmapped.out.sorted.STARAligned.out.sorted_a0_b0_e0.01.fwd.sorted.rmdup.readfiltered.formatted.varfiltered.snpfiltered.ranked.bed',\n",
       " '/home/bay001/projects/kris_apobec_20200121/permanent_data/final_analysis/01_SAILOR_bulk_rnaseq/outputs/APOBEC_only_1000_merged_R1_a0_b0_e0.01.noRmDup/results/APOBEC_only_1000_merged_R1.fastqTr.sorted.STARUnmapped.out.sorted.STARAligned.out.sorted_a0_b0_e0.01.noRmDup.fwd.sorted.rmdup.readfiltered.formatted.varfiltered.snpfiltered.ranked.bed',\n",
       " '/home/bay001/projects/kris_apobec_20200121/permanent_data/final_analysis/01_SAILOR_bulk_rnaseq/outputs/APOBEC_only_1000_merged_R1_a0_b0_e0.01/results/APOBEC_only_1000_merged_R1.fastqTr.sorted.STARUnmapped.out.sorted.STARAligned.out.sorted_a0_b0_e0.01.fwd.sorted.rmdup.readfiltered.formatted.varfiltered.snpfiltered.ranked.bed',\n",
       " '/home/bay001/projects/kris_apobec_20200121/permanent_data/final_analysis/01_SAILOR_bulk_rnaseq/outputs/APOBEC_only_50_merged_R1_a0_b0_e0.01/results/APOBEC_only_50_merged_R1.fastqTr.sorted.STARUnmapped.out.sorted.STARAligned.out.sorted_a0_b0_e0.01.fwd.sorted.rmdup.readfiltered.formatted.varfiltered.snpfiltered.ranked.bed',\n",
       " '/home/bay001/projects/kris_apobec_20200121/permanent_data/final_analysis/01_SAILOR_bulk_rnaseq/outputs/ApoControl-0_S7_L001_R1_001_a0_b0_e0.01.noRmDup/results/ApoControl-0_S7_L001_R1_001.fastqTr.sorted.STARUnmapped.out.sorted.STARAligned.out.sorted_a0_b0_e0.01.noRmDup.fwd.sorted.rmdup.readfiltered.formatted.varfiltered.snpfiltered.ranked.bed',\n",
       " '/home/bay001/projects/kris_apobec_20200121/permanent_data/final_analysis/01_SAILOR_bulk_rnaseq/outputs/ApoControl-0_S7_L001_R1_001_a0_b0_e0.01/results/ApoControl-0_S7_L001_R1_001.fastqTr.sorted.STARUnmapped.out.sorted.STARAligned.out.sorted_a0_b0_e0.01.fwd.sorted.rmdup.readfiltered.formatted.varfiltered.snpfiltered.ranked.bed',\n",
       " '/home/bay001/projects/kris_apobec_20200121/permanent_data/final_analysis/01_SAILOR_bulk_rnaseq/outputs/ApoControl-1000_S21_L002_R1_001_a0_b0_e0.01.noRmDup/results/ApoControl-1000_S21_L002_R1_001.fastqTr.sorted.STARUnmapped.out.sorted.STARAligned.out.sorted_a0_b0_e0.01.noRmDup.fwd.sorted.rmdup.readfiltered.formatted.varfiltered.snpfiltered.ranked.bed',\n",
       " '/home/bay001/projects/kris_apobec_20200121/permanent_data/final_analysis/01_SAILOR_bulk_rnaseq/outputs/ApoControl-1000_S21_L002_R1_001_a0_b0_e0.01/results/ApoControl-1000_S21_L002_R1_001.fastqTr.sorted.STARUnmapped.out.sorted.STARAligned.out.sorted_a0_b0_e0.01.fwd.sorted.rmdup.readfiltered.formatted.varfiltered.snpfiltered.ranked.bed',\n",
       " '/home/bay001/projects/kris_apobec_20200121/permanent_data/final_analysis/01_SAILOR_bulk_rnaseq/outputs/ApoControl-1000_S21_L002_R1_001_a0_b0_e0.01_21M/results/ApoControl-1000_S21_L002_R1_001.fastqTr.sorted.STARUnmapped.out.sorted.STARAligned.out.sorted.21M_a0_b0_e0.01.fwd.sorted.rmdup.readfiltered.formatted.varfiltered.snpfiltered.ranked.bed',\n",
       " '/home/bay001/projects/kris_apobec_20200121/permanent_data/final_analysis/01_SAILOR_bulk_rnaseq/outputs/ApoControl-50_S14_L002_R1_001_a0_b0_e0.01.noRmDup/results/ApoControl-50_S14_L002_R1_001.fastqTr.sorted.STARUnmapped.out.sorted.STARAligned.out.sorted_a0_b0_e0.01.noRmDup.fwd.sorted.rmdup.readfiltered.formatted.varfiltered.snpfiltered.ranked.bed',\n",
       " '/home/bay001/projects/kris_apobec_20200121/permanent_data/final_analysis/01_SAILOR_bulk_rnaseq/outputs/ApoControl-50_S14_L002_R1_001_a0_b0_e0.01/results/ApoControl-50_S14_L002_R1_001.fastqTr.sorted.STARUnmapped.out.sorted.STARAligned.out.sorted_a0_b0_e0.01.fwd.sorted.rmdup.readfiltered.formatted.varfiltered.snpfiltered.ranked.bed',\n",
       " '/home/bay001/projects/kris_apobec_20200121/permanent_data/final_analysis/01_SAILOR_bulk_rnaseq/outputs/Apobec-T_1_S28_L003_R1_001_a0_b0_e0.01/results/Apobec-T_1_S28_L003_R1_001.fastqTr.sorted.STARUnmapped.out.sorted.STARAligned.out.sorted_a0_b0_e0.01.fwd.sorted.rmdup.readfiltered.formatted.varfiltered.snpfiltered.ranked.bed',\n",
       " '/home/bay001/projects/kris_apobec_20200121/permanent_data/final_analysis/01_SAILOR_bulk_rnaseq/outputs/Apobec-T_2_S29_L003_R1_001_a0_b0_e0.01/results/Apobec-T_2_S29_L003_R1_001.fastqTr.sorted.STARUnmapped.out.sorted.STARAligned.out.sorted_a0_b0_e0.01.fwd.sorted.rmdup.readfiltered.formatted.varfiltered.snpfiltered.ranked.bed',\n",
       " '/home/bay001/projects/kris_apobec_20200121/permanent_data/final_analysis/01_SAILOR_bulk_rnaseq/outputs/Apobec_plusT_1_S30_L003_R1_001_a0_b0_e0.01/results/Apobec_plusT_1_S30_L003_R1_001.fastqTr.sorted.STARUnmapped.out.sorted.STARAligned.out.sorted_a0_b0_e0.01.fwd.sorted.rmdup.readfiltered.formatted.varfiltered.snpfiltered.ranked.bed',\n",
       " '/home/bay001/projects/kris_apobec_20200121/permanent_data/final_analysis/01_SAILOR_bulk_rnaseq/outputs/Apobec_plusT_2_S31_L003_R1_001_a0_b0_e0.01/results/Apobec_plusT_2_S31_L003_R1_001.fastqTr.sorted.STARUnmapped.out.sorted.STARAligned.out.sorted_a0_b0_e0.01.fwd.sorted.rmdup.readfiltered.formatted.varfiltered.snpfiltered.ranked.bed',\n",
       " '/home/bay001/projects/kris_apobec_20200121/permanent_data/final_analysis/01_SAILOR_bulk_rnaseq/outputs/ETF1-0_S2_L001_R1_001_a0_b0_e0.01/results/ETF1-0_S2_L001_R1_001.fastqTr.sorted.STARUnmapped.out.sorted.STARAligned.out.sorted_a0_b0_e0.01.fwd.sorted.rmdup.readfiltered.formatted.varfiltered.snpfiltered.ranked.bed',\n",
       " '/home/bay001/projects/kris_apobec_20200121/permanent_data/final_analysis/01_SAILOR_bulk_rnaseq/outputs/ETF1-1000_S16_L002_R1_001_a0_b0_e0.01.noRmDup/results/ETF1-1000_S16_L002_R1_001.fastqTr.sorted.STARUnmapped.out.sorted.STARAligned.out.sorted_a0_b0_e0.01.noRmDup.fwd.sorted.rmdup.readfiltered.formatted.varfiltered.snpfiltered.ranked.bed',\n",
       " '/home/bay001/projects/kris_apobec_20200121/permanent_data/final_analysis/01_SAILOR_bulk_rnaseq/outputs/ETF1-1000_S16_L002_R1_001_a0_b0_e0.01/results/ETF1-1000_S16_L002_R1_001.fastqTr.sorted.STARUnmapped.out.sorted.STARAligned.out.sorted_a0_b0_e0.01.fwd.sorted.rmdup.readfiltered.formatted.varfiltered.snpfiltered.ranked.bed',\n",
       " '/home/bay001/projects/kris_apobec_20200121/permanent_data/final_analysis/01_SAILOR_bulk_rnaseq/outputs/ETF1-50_S9_L001_R1_001_a0_b0_e0.01/results/ETF1-50_S9_L001_R1_001.fastqTr.sorted.STARUnmapped.out.sorted.STARAligned.out.sorted_a0_b0_e0.01.fwd.sorted.rmdup.readfiltered.formatted.varfiltered.snpfiltered.ranked.bed',\n",
       " '/home/bay001/projects/kris_apobec_20200121/permanent_data/final_analysis/01_SAILOR_bulk_rnaseq/outputs/GSTP1-0_S3_L001_R1_001_a0_b0_e0.01/results/GSTP1-0_S3_L001_R1_001.fastqTr.sorted.STARUnmapped.out.sorted.STARAligned.out.sorted_a0_b0_e0.01.fwd.sorted.rmdup.readfiltered.formatted.varfiltered.snpfiltered.ranked.bed',\n",
       " '/home/bay001/projects/kris_apobec_20200121/permanent_data/final_analysis/01_SAILOR_bulk_rnaseq/outputs/GSTP1-1000_S17_L002_R1_001_a0_b0_e0.01.noRmDup/results/GSTP1-1000_S17_L002_R1_001.fastqTr.sorted.STARUnmapped.out.sorted.STARAligned.out.sorted_a0_b0_e0.01.noRmDup.fwd.sorted.rmdup.readfiltered.formatted.varfiltered.snpfiltered.ranked.bed',\n",
       " '/home/bay001/projects/kris_apobec_20200121/permanent_data/final_analysis/01_SAILOR_bulk_rnaseq/outputs/GSTP1-1000_S17_L002_R1_001_a0_b0_e0.01/results/GSTP1-1000_S17_L002_R1_001.fastqTr.sorted.STARUnmapped.out.sorted.STARAligned.out.sorted_a0_b0_e0.01.fwd.sorted.rmdup.readfiltered.formatted.varfiltered.snpfiltered.ranked.bed',\n",
       " '/home/bay001/projects/kris_apobec_20200121/permanent_data/final_analysis/01_SAILOR_bulk_rnaseq/outputs/GSTP1-50_S10_L001_R1_001_a0_b0_e0.01/results/GSTP1-50_S10_L001_R1_001.fastqTr.sorted.STARUnmapped.out.sorted.STARAligned.out.sorted_a0_b0_e0.01.fwd.sorted.rmdup.readfiltered.formatted.varfiltered.snpfiltered.ranked.bed',\n",
       " '/home/bay001/projects/kris_apobec_20200121/permanent_data/final_analysis/01_SAILOR_bulk_rnaseq/outputs/R10_S6_L001_R1_001_a0_b0_e0.01/results/R10_S6_L001_R1_001.polyATrim.adapterTrim.rmRep.sorted.rg_a0_b0_e0.01.fwd.sorted.rmdup.readfiltered.formatted.varfiltered.snpfiltered.ranked.bed',\n",
       " '/home/bay001/projects/kris_apobec_20200121/permanent_data/final_analysis/01_SAILOR_bulk_rnaseq/outputs/R11_S7_L001_R1_001_a0_b0_e0.01/results/R11_S7_L001_R1_001.polyATrim.adapterTrim.rmRep.sorted.rg_a0_b0_e0.01.fwd.sorted.rmdup.readfiltered.formatted.varfiltered.snpfiltered.ranked.bed',\n",
       " '/home/bay001/projects/kris_apobec_20200121/permanent_data/final_analysis/01_SAILOR_bulk_rnaseq/outputs/R12_S8_L001_R1_001_a0_b0_e0.01/results/R12_S8_L001_R1_001.polyATrim.adapterTrim.rmRep.sorted.rg_a0_b0_e0.01.fwd.sorted.rmdup.readfiltered.formatted.varfiltered.snpfiltered.ranked.bed',\n",
       " '/home/bay001/projects/kris_apobec_20200121/permanent_data/final_analysis/01_SAILOR_bulk_rnaseq/outputs/R13_S21_L002_R1_001_a0_b0_e0.01/results/R13_S21_L002_R1_001.polyATrim.adapterTrim.rmRep.sorted.rg_a0_b0_e0.01.fwd.sorted.rmdup.readfiltered.formatted.varfiltered.snpfiltered.ranked.bed',\n",
       " '/home/bay001/projects/kris_apobec_20200121/permanent_data/final_analysis/01_SAILOR_bulk_rnaseq/outputs/R14_S22_L002_R1_001_a0_b0_e0.01/results/R14_S22_L002_R1_001.polyATrim.adapterTrim.rmRep.sorted.rg_a0_b0_e0.01.fwd.sorted.rmdup.readfiltered.formatted.varfiltered.snpfiltered.ranked.bed',\n",
       " '/home/bay001/projects/kris_apobec_20200121/permanent_data/final_analysis/01_SAILOR_bulk_rnaseq/outputs/R16_S23_L002_R1_001_a0_b0_e0.01/results/R16_S23_L002_R1_001.polyATrim.adapterTrim.rmRep.sorted.rg_a0_b0_e0.01.fwd.sorted.rmdup.readfiltered.formatted.varfiltered.snpfiltered.ranked.bed',\n",
       " '/home/bay001/projects/kris_apobec_20200121/permanent_data/final_analysis/01_SAILOR_bulk_rnaseq/outputs/R17_S24_L002_R1_001_a0_b0_e0.01/results/R17_S24_L002_R1_001.polyATrim.adapterTrim.rmRep.sorted.rg_a0_b0_e0.01.fwd.sorted.rmdup.readfiltered.formatted.varfiltered.snpfiltered.ranked.bed',\n",
       " '/home/bay001/projects/kris_apobec_20200121/permanent_data/final_analysis/01_SAILOR_bulk_rnaseq/outputs/R18_S25_L002_R1_001_a0_b0_e0.01/results/R18_S25_L002_R1_001.polyATrim.adapterTrim.rmRep.sorted.rg_a0_b0_e0.01.fwd.sorted.rmdup.readfiltered.formatted.varfiltered.snpfiltered.ranked.bed',\n",
       " '/home/bay001/projects/kris_apobec_20200121/permanent_data/final_analysis/01_SAILOR_bulk_rnaseq/outputs/R19_S26_L002_R1_001_a0_b0_e0.01/results/R19_S26_L002_R1_001.polyATrim.adapterTrim.rmRep.sorted.rg_a0_b0_e0.01.fwd.sorted.rmdup.readfiltered.formatted.varfiltered.snpfiltered.ranked.bed',\n",
       " '/home/bay001/projects/kris_apobec_20200121/permanent_data/final_analysis/01_SAILOR_bulk_rnaseq/outputs/R1_S5_L001_R1_001_a0_b0_e0.01/results/R1_S5_L001_R1_001.polyATrim.adapterTrim.rmRep.sorted.rg_a0_b0_e0.01.fwd.sorted.rmdup.readfiltered.formatted.varfiltered.snpfiltered.ranked.bed',\n",
       " '/home/bay001/projects/kris_apobec_20200121/permanent_data/final_analysis/01_SAILOR_bulk_rnaseq/outputs/R20_S27_L002_R1_001_a0_b0_e0.01/results/R20_S27_L002_R1_001.polyATrim.adapterTrim.rmRep.sorted.rg_a0_b0_e0.01.fwd.sorted.rmdup.readfiltered.formatted.varfiltered.snpfiltered.ranked.bed',\n",
       " '/home/bay001/projects/kris_apobec_20200121/permanent_data/final_analysis/01_SAILOR_bulk_rnaseq/outputs/R21_S28_L002_R1_001_a0_b0_e0.01/results/R21_S28_L002_R1_001.polyATrim.adapterTrim.rmRep.sorted.rg_a0_b0_e0.01.fwd.sorted.rmdup.readfiltered.formatted.varfiltered.snpfiltered.ranked.bed',\n",
       " '/home/bay001/projects/kris_apobec_20200121/permanent_data/final_analysis/01_SAILOR_bulk_rnaseq/outputs/R22_S29_L002_R1_001_a0_b0_e0.01/results/R22_S29_L002_R1_001.polyATrim.adapterTrim.rmRep.sorted.rg_a0_b0_e0.01.fwd.sorted.rmdup.readfiltered.formatted.varfiltered.snpfiltered.ranked.bed',\n",
       " '/home/bay001/projects/kris_apobec_20200121/permanent_data/final_analysis/01_SAILOR_bulk_rnaseq/outputs/R23_S30_L002_R1_001_a0_b0_e0.01/results/R23_S30_L002_R1_001.polyATrim.adapterTrim.rmRep.sorted.rg_a0_b0_e0.01.fwd.sorted.rmdup.readfiltered.formatted.varfiltered.snpfiltered.ranked.bed',\n",
       " '/home/bay001/projects/kris_apobec_20200121/permanent_data/final_analysis/01_SAILOR_bulk_rnaseq/outputs/R24_S31_L002_R1_001_a0_b0_e0.01/results/R24_S31_L002_R1_001.polyATrim.adapterTrim.rmRep.sorted.rg_a0_b0_e0.01.fwd.sorted.rmdup.readfiltered.formatted.varfiltered.snpfiltered.ranked.bed',\n",
       " '/home/bay001/projects/kris_apobec_20200121/permanent_data/final_analysis/01_SAILOR_bulk_rnaseq/outputs/R2_S9_L001_R1_001_a0_b0_e0.01/results/R2_S9_L001_R1_001.polyATrim.adapterTrim.rmRep.sorted.rg_a0_b0_e0.01.fwd.sorted.rmdup.readfiltered.formatted.varfiltered.snpfiltered.ranked.bed',\n",
       " '/home/bay001/projects/kris_apobec_20200121/permanent_data/final_analysis/01_SAILOR_bulk_rnaseq/outputs/R3_S10_L001_R1_001_a0_b0_e0.01/results/R3_S10_L001_R1_001.polyATrim.adapterTrim.rmRep.sorted.rg_a0_b0_e0.01.fwd.sorted.rmdup.readfiltered.formatted.varfiltered.snpfiltered.ranked.bed',\n",
       " '/home/bay001/projects/kris_apobec_20200121/permanent_data/final_analysis/01_SAILOR_bulk_rnaseq/outputs/R4_S11_L001_R1_001_a0_b0_e0.01/results/R4_S11_L001_R1_001.polyATrim.adapterTrim.rmRep.sorted.rg_a0_b0_e0.01.fwd.sorted.rmdup.readfiltered.formatted.varfiltered.snpfiltered.ranked.bed',\n",
       " '/home/bay001/projects/kris_apobec_20200121/permanent_data/final_analysis/01_SAILOR_bulk_rnaseq/outputs/R5_S12_L001_R1_001_a0_b0_e0.01/results/R5_S12_L001_R1_001.polyATrim.adapterTrim.rmRep.sorted.rg_a0_b0_e0.01.fwd.sorted.rmdup.readfiltered.formatted.varfiltered.snpfiltered.ranked.bed',\n",
       " '/home/bay001/projects/kris_apobec_20200121/permanent_data/final_analysis/01_SAILOR_bulk_rnaseq/outputs/R6_S13_L001_R1_001_a0_b0_e0.01/results/R6_S13_L001_R1_001.polyATrim.adapterTrim.rmRep.sorted.rg_a0_b0_e0.01.fwd.sorted.rmdup.readfiltered.formatted.varfiltered.snpfiltered.ranked.bed',\n",
       " '/home/bay001/projects/kris_apobec_20200121/permanent_data/final_analysis/01_SAILOR_bulk_rnaseq/outputs/R7_S14_L001_R1_001_a0_b0_e0.01/results/R7_S14_L001_R1_001.polyATrim.adapterTrim.rmRep.sorted.rg_a0_b0_e0.01.fwd.sorted.rmdup.readfiltered.formatted.varfiltered.snpfiltered.ranked.bed',\n",
       " '/home/bay001/projects/kris_apobec_20200121/permanent_data/final_analysis/01_SAILOR_bulk_rnaseq/outputs/R8_S15_L001_R1_001_a0_b0_e0.01/results/R8_S15_L001_R1_001.polyATrim.adapterTrim.rmRep.sorted.rg_a0_b0_e0.01.fwd.sorted.rmdup.readfiltered.formatted.varfiltered.snpfiltered.ranked.bed',\n",
       " '/home/bay001/projects/kris_apobec_20200121/permanent_data/final_analysis/01_SAILOR_bulk_rnaseq/outputs/R9_S16_L001_R1_001_a0_b0_e0.01/results/R9_S16_L001_R1_001.polyATrim.adapterTrim.rmRep.sorted.rg_a0_b0_e0.01.fwd.sorted.rmdup.readfiltered.formatted.varfiltered.snpfiltered.ranked.bed',\n",
       " '/home/bay001/projects/kris_apobec_20200121/permanent_data/final_analysis/01_SAILOR_bulk_rnaseq/outputs/RBFOX2-0_S6_L001_R1_001_a0_b0_e0.01.noRmDup/results/RBFOX2-0_S6_L001_R1_001.fastqTr.sorted.STARUnmapped.out.sorted.STARAligned.out.sorted_a0_b0_e0.01.noRmDup.fwd.sorted.rmdup.readfiltered.formatted.varfiltered.snpfiltered.ranked.bed',\n",
       " '/home/bay001/projects/kris_apobec_20200121/permanent_data/final_analysis/01_SAILOR_bulk_rnaseq/outputs/RBFOX2-0_S6_L001_R1_001_a0_b0_e0.01/results/RBFOX2-0_S6_L001_R1_001.fastqTr.sorted.STARUnmapped.out.sorted.STARAligned.out.sorted_a0_b0_e0.01.fwd.sorted.rmdup.readfiltered.formatted.varfiltered.snpfiltered.ranked.bed',\n",
       " '/home/bay001/projects/kris_apobec_20200121/permanent_data/final_analysis/01_SAILOR_bulk_rnaseq/outputs/RBFOX2-0_S6_L001_R1_001_a0_b0_e0.01_noRmDup/results/RBFOX2-0_S6_L001_R1_001.fastqTr.sorted.STARUnmapped.out.sorted.STARAligned.out.sorted_a0_b0_e0.01_noRmDup.fwd.sorted.rmdup.readfiltered.formatted.varfiltered.snpfiltered.ranked.bed',\n",
       " '/home/bay001/projects/kris_apobec_20200121/permanent_data/final_analysis/01_SAILOR_bulk_rnaseq/outputs/RBFOX2-1000_S20_L002_R1_001_a0_b0_e0.01.noRmDup/results/RBFOX2-1000_S20_L002_R1_001.fastqTr.sorted.STARUnmapped.out.sorted.STARAligned.out.sorted_a0_b0_e0.01.noRmDup.fwd.sorted.rmdup.readfiltered.formatted.varfiltered.snpfiltered.ranked.bed',\n",
       " '/home/bay001/projects/kris_apobec_20200121/permanent_data/final_analysis/01_SAILOR_bulk_rnaseq/outputs/RBFOX2-1000_S20_L002_R1_001_a0_b0_e0.01/results/RBFOX2-1000_S20_L002_R1_001.fastqTr.sorted.STARUnmapped.out.sorted.STARAligned.out.sorted_a0_b0_e0.01.fwd.sorted.rmdup.readfiltered.formatted.varfiltered.snpfiltered.ranked.bed',\n",
       " '/home/bay001/projects/kris_apobec_20200121/permanent_data/final_analysis/01_SAILOR_bulk_rnaseq/outputs/RBFOX2-1000_S20_L002_R1_001_a0_b0_e0.01_noRmDup/results/RBFOX2-1000_S20_L002_R1_001.fastqTr.sorted.STARUnmapped.out.sorted.STARAligned.out.sorted_a0_b0_e0.01_noRmDup.fwd.sorted.rmdup.readfiltered.formatted.varfiltered.snpfiltered.ranked.bed',\n",
       " '/home/bay001/projects/kris_apobec_20200121/permanent_data/final_analysis/01_SAILOR_bulk_rnaseq/outputs/RBFOX2-50_S13_L002_R1_001_a0_b0_e0.01.noRmDup/results/RBFOX2-50_S13_L002_R1_001.fastqTr.sorted.STARUnmapped.out.sorted.STARAligned.out.sorted_a0_b0_e0.01.noRmDup.fwd.sorted.rmdup.readfiltered.formatted.varfiltered.snpfiltered.ranked.bed',\n",
       " '/home/bay001/projects/kris_apobec_20200121/permanent_data/final_analysis/01_SAILOR_bulk_rnaseq/outputs/RBFOX2-50_S13_L002_R1_001_a0_b0_e0.01/results/RBFOX2-50_S13_L002_R1_001.fastqTr.sorted.STARUnmapped.out.sorted.STARAligned.out.sorted_a0_b0_e0.01.fwd.sorted.rmdup.readfiltered.formatted.varfiltered.snpfiltered.ranked.bed',\n",
       " '/home/bay001/projects/kris_apobec_20200121/permanent_data/final_analysis/01_SAILOR_bulk_rnaseq/outputs/RBFOX2-50_S13_L002_R1_001_a0_b0_e0.01_noRmDup/results/RBFOX2-50_S13_L002_R1_001.fastqTr.sorted.STARUnmapped.out.sorted.STARAligned.out.sorted_a0_b0_e0.01_noRmDup.fwd.sorted.rmdup.readfiltered.formatted.varfiltered.snpfiltered.ranked.bed',\n",
       " '/home/bay001/projects/kris_apobec_20200121/permanent_data/final_analysis/01_SAILOR_bulk_rnaseq/outputs/RBFOX2-T_1_S32_L003_R1_001_a0_b0_e0.01/results/RBFOX2-T_1_S32_L003_R1_001.fastqTr.sorted.STARUnmapped.out.sorted.STARAligned.out.sorted_a0_b0_e0.01.fwd.sorted.rmdup.readfiltered.formatted.varfiltered.snpfiltered.ranked.bed',\n",
       " '/home/bay001/projects/kris_apobec_20200121/permanent_data/final_analysis/01_SAILOR_bulk_rnaseq/outputs/RBFOX2-T_2_S33_L003_R1_001_a0_b0_e0.01/results/RBFOX2-T_2_S33_L003_R1_001.fastqTr.sorted.STARUnmapped.out.sorted.STARAligned.out.sorted_a0_b0_e0.01.fwd.sorted.rmdup.readfiltered.formatted.varfiltered.snpfiltered.ranked.bed',\n",
       " '/home/bay001/projects/kris_apobec_20200121/permanent_data/final_analysis/01_SAILOR_bulk_rnaseq/outputs/RBFOX2_a0_b0_e0.01/results/RBFOX2_a0_b0_e0.01.fwd.sorted.rmdup.readfiltered.formatted.varfiltered.snpfiltered.ranked.bed',\n",
       " '/home/bay001/projects/kris_apobec_20200121/permanent_data/final_analysis/01_SAILOR_bulk_rnaseq/outputs/RBFOX2_plusT_1_S34_L003_R1_001_a0_b0_e0.01/results/RBFOX2_plusT_1_S34_L003_R1_001.fastqTr.sorted.STARUnmapped.out.sorted.STARAligned.out.sorted_a0_b0_e0.01.fwd.sorted.rmdup.readfiltered.formatted.varfiltered.snpfiltered.ranked.bed',\n",
       " '/home/bay001/projects/kris_apobec_20200121/permanent_data/final_analysis/01_SAILOR_bulk_rnaseq/outputs/RBFOX2_plusT_2_S35_L003_R1_001_a0_b0_e0.01/results/RBFOX2_plusT_2_S35_L003_R1_001.fastqTr.sorted.STARUnmapped.out.sorted.STARAligned.out.sorted_a0_b0_e0.01.fwd.sorted.rmdup.readfiltered.formatted.varfiltered.snpfiltered.ranked.bed',\n",
       " '/home/bay001/projects/kris_apobec_20200121/permanent_data/final_analysis/01_SAILOR_bulk_rnaseq/outputs/RBFOX_0_48hr_merged_R1_a0_b0_e0.01/results/RBFOX_0_48hr_merged_R1.fastqTr.sorted.STARUnmapped.out.sorted.STARAligned.out.sorted_a0_b0_e0.01.fwd.sorted.rmdup.readfiltered.formatted.varfiltered.snpfiltered.ranked.bed',\n",
       " '/home/bay001/projects/kris_apobec_20200121/permanent_data/final_analysis/01_SAILOR_bulk_rnaseq/outputs/RBFOX_0_72hr_merged_R1_a0_b0_e0.01/results/RBFOX_0_72hr_merged_R1.fastqTr.sorted.STARUnmapped.out.sorted.STARAligned.out.sorted_a0_b0_e0.01.fwd.sorted.rmdup.readfiltered.formatted.varfiltered.snpfiltered.ranked.bed',\n",
       " '/home/bay001/projects/kris_apobec_20200121/permanent_data/final_analysis/01_SAILOR_bulk_rnaseq/outputs/RBFOX_1000_48hr_merged_R1_a0_b0_e0.01.noRmDup/results/RBFOX_1000_48hr_merged_R1.fastqTr.sorted.STARUnmapped.out.sorted.STARAligned.out.sorted_a0_b0_e0.01.noRmDup.fwd.sorted.rmdup.readfiltered.formatted.varfiltered.snpfiltered.ranked.bed',\n",
       " '/home/bay001/projects/kris_apobec_20200121/permanent_data/final_analysis/01_SAILOR_bulk_rnaseq/outputs/RBFOX_1000_48hr_merged_R1_a0_b0_e0.01/results/RBFOX_1000_48hr_merged_R1.fastqTr.sorted.STARUnmapped.out.sorted.STARAligned.out.sorted_a0_b0_e0.01.fwd.sorted.rmdup.readfiltered.formatted.varfiltered.snpfiltered.ranked.bed',\n",
       " '/home/bay001/projects/kris_apobec_20200121/permanent_data/final_analysis/01_SAILOR_bulk_rnaseq/outputs/RBFOX_1000_72hr_merged_R1_a0_b0_e0.01.noRmDup/results/RBFOX_1000_72hr_merged_R1.fastqTr.sorted.STARUnmapped.out.sorted.STARAligned.out.sorted_a0_b0_e0.01.noRmDup.fwd.sorted.rmdup.readfiltered.formatted.varfiltered.snpfiltered.ranked.bed',\n",
       " '/home/bay001/projects/kris_apobec_20200121/permanent_data/final_analysis/01_SAILOR_bulk_rnaseq/outputs/RBFOX_1000_72hr_merged_R1_a0_b0_e0.01/results/RBFOX_1000_72hr_merged_R1.fastqTr.sorted.STARUnmapped.out.sorted.STARAligned.out.sorted_a0_b0_e0.01.fwd.sorted.rmdup.readfiltered.formatted.varfiltered.snpfiltered.ranked.bed',\n",
       " '/home/bay001/projects/kris_apobec_20200121/permanent_data/final_analysis/01_SAILOR_bulk_rnaseq/outputs/RBFOX_50_48hr_merged_R1_a0_b0_e0.01/results/RBFOX_50_48hr_merged_R1.fastqTr.sorted.STARUnmapped.out.sorted.STARAligned.out.sorted_a0_b0_e0.01.fwd.sorted.rmdup.readfiltered.formatted.varfiltered.snpfiltered.ranked.bed',\n",
       " '/home/bay001/projects/kris_apobec_20200121/permanent_data/final_analysis/01_SAILOR_bulk_rnaseq/outputs/RBFOX_50_72hr_merged_R1_a0_b0_e0.01/results/RBFOX_50_72hr_merged_R1.fastqTr.sorted.STARUnmapped.out.sorted.STARAligned.out.sorted_a0_b0_e0.01.fwd.sorted.rmdup.readfiltered.formatted.varfiltered.snpfiltered.ranked.bed',\n",
       " '/home/bay001/projects/kris_apobec_20200121/permanent_data/final_analysis/01_SAILOR_bulk_rnaseq/outputs/RPS2-0_S4_L001_R1_001_a0_b0_e0.01.noRmDup/results/RPS2-0_S4_L001_R1_001.fastqTr.sorted.STARUnmapped.out.sorted.STARAligned.out.sorted_a0_b0_e0.01.noRmDup.fwd.sorted.rmdup.readfiltered.formatted.varfiltered.snpfiltered.ranked.bed',\n",
       " '/home/bay001/projects/kris_apobec_20200121/permanent_data/final_analysis/01_SAILOR_bulk_rnaseq/outputs/RPS2-0_S4_L001_R1_001_a0_b0_e0.01/results/RPS2-0_S4_L001_R1_001.fastqTr.sorted.STARUnmapped.out.sorted.STARAligned.out.sorted_a0_b0_e0.01.fwd.sorted.rmdup.readfiltered.formatted.varfiltered.snpfiltered.ranked.bed',\n",
       " '/home/bay001/projects/kris_apobec_20200121/permanent_data/final_analysis/01_SAILOR_bulk_rnaseq/outputs/RPS2-1000_S18_L002_R1_001_a0_b0_e0.01.noRmDup/results/RPS2-1000_S18_L002_R1_001.fastqTr.sorted.STARUnmapped.out.sorted.STARAligned.out.sorted_a0_b0_e0.01.noRmDup.fwd.sorted.rmdup.readfiltered.formatted.varfiltered.snpfiltered.ranked.bed',\n",
       " '/home/bay001/projects/kris_apobec_20200121/permanent_data/final_analysis/01_SAILOR_bulk_rnaseq/outputs/RPS2-1000_S18_L002_R1_001_a0_b0_e0.01/results/RPS2-1000_S18_L002_R1_001.fastqTr.sorted.STARUnmapped.out.sorted.STARAligned.out.sorted_a0_b0_e0.01.fwd.sorted.rmdup.readfiltered.formatted.varfiltered.snpfiltered.ranked.bed',\n",
       " '/home/bay001/projects/kris_apobec_20200121/permanent_data/final_analysis/01_SAILOR_bulk_rnaseq/outputs/RPS2-1000_S18_L002_R1_001_a0_b0_e0.01_21M/results/RPS2-1000_S18_L002_R1_001.fastqTr.sorted.STARUnmapped.out.sorted.STARAligned.out.sorted.21M_a0_b0_e0.01.fwd.sorted.rmdup.readfiltered.formatted.varfiltered.snpfiltered.ranked.bed',\n",
       " '/home/bay001/projects/kris_apobec_20200121/permanent_data/final_analysis/01_SAILOR_bulk_rnaseq/outputs/RPS2-50_S11_L001_R1_001_a0_b0_e0.01.noRmDup/results/RPS2-50_S11_L001_R1_001.fastqTr.sorted.STARUnmapped.out.sorted.STARAligned.out.sorted_a0_b0_e0.01.noRmDup.fwd.sorted.rmdup.readfiltered.formatted.varfiltered.snpfiltered.ranked.bed',\n",
       " '/home/bay001/projects/kris_apobec_20200121/permanent_data/final_analysis/01_SAILOR_bulk_rnaseq/outputs/RPS2-50_S11_L001_R1_001_a0_b0_e0.01/results/RPS2-50_S11_L001_R1_001.fastqTr.sorted.STARUnmapped.out.sorted.STARAligned.out.sorted_a0_b0_e0.01.fwd.sorted.rmdup.readfiltered.formatted.varfiltered.snpfiltered.ranked.bed',\n",
       " '/home/bay001/projects/kris_apobec_20200121/permanent_data/final_analysis/01_SAILOR_bulk_rnaseq/outputs/RPS2-T_1_S36_L003_R1_001_a0_b0_e0.01/results/RPS2-T_1_S36_L003_R1_001.fastqTr.sorted.STARUnmapped.out.sorted.STARAligned.out.sorted_a0_b0_e0.01.fwd.sorted.rmdup.readfiltered.formatted.varfiltered.snpfiltered.ranked.bed',\n",
       " '/home/bay001/projects/kris_apobec_20200121/permanent_data/final_analysis/01_SAILOR_bulk_rnaseq/outputs/RPS2-T_2_S37_L003_R1_001_a0_b0_e0.01.noRmDup/results/RPS2-T_2_S37_L003_R1_001.fastqTr.sorted.STARUnmapped.out.sorted.STARAligned.out.sorted_a0_b0_e0.01.noRmDup.fwd.sorted.rmdup.readfiltered.formatted.varfiltered.snpfiltered.ranked.bed',\n",
       " '/home/bay001/projects/kris_apobec_20200121/permanent_data/final_analysis/01_SAILOR_bulk_rnaseq/outputs/RPS2-T_2_S37_L003_R1_001_a0_b0_e0.01/results/RPS2-T_2_S37_L003_R1_001.fastqTr.sorted.STARUnmapped.out.sorted.STARAligned.out.sorted_a0_b0_e0.01.fwd.sorted.rmdup.readfiltered.formatted.varfiltered.snpfiltered.ranked.bed',\n",
       " '/home/bay001/projects/kris_apobec_20200121/permanent_data/final_analysis/01_SAILOR_bulk_rnaseq/outputs/RPS2_plusT_1_S38_L003_R1_001_a0_b0_e0.01/results/RPS2_plusT_1_S38_L003_R1_001.fastqTr.sorted.STARUnmapped.out.sorted.STARAligned.out.sorted_a0_b0_e0.01.fwd.sorted.rmdup.readfiltered.formatted.varfiltered.snpfiltered.ranked.bed',\n",
       " '/home/bay001/projects/kris_apobec_20200121/permanent_data/final_analysis/01_SAILOR_bulk_rnaseq/outputs/RPS2_plusT_2_S39_L003_R1_001_a0_b0_e0.01/results/RPS2_plusT_2_S39_L003_R1_001.fastqTr.sorted.STARUnmapped.out.sorted.STARAligned.out.sorted_a0_b0_e0.01.fwd.sorted.rmdup.readfiltered.formatted.varfiltered.snpfiltered.ranked.bed',\n",
       " '/home/bay001/projects/kris_apobec_20200121/permanent_data/final_analysis/01_SAILOR_bulk_rnaseq/outputs/RPS3-0_S5_L001_R1_001_a0_b0_e0.01.noRmDup/results/RPS3-0_S5_L001_R1_001.fastqTr.sorted.STARUnmapped.out.sorted.STARAligned.out.sorted_a0_b0_e0.01.noRmDup.fwd.sorted.rmdup.readfiltered.formatted.varfiltered.snpfiltered.ranked.bed',\n",
       " '/home/bay001/projects/kris_apobec_20200121/permanent_data/final_analysis/01_SAILOR_bulk_rnaseq/outputs/RPS3-0_S5_L001_R1_001_a0_b0_e0.01/results/RPS3-0_S5_L001_R1_001.fastqTr.sorted.STARUnmapped.out.sorted.STARAligned.out.sorted_a0_b0_e0.01.fwd.sorted.rmdup.readfiltered.formatted.varfiltered.snpfiltered.ranked.bed',\n",
       " '/home/bay001/projects/kris_apobec_20200121/permanent_data/final_analysis/01_SAILOR_bulk_rnaseq/outputs/RPS3-1000_S19_L002_R1_001_a0_b0_e0.01.noRmDup/results/RPS3-1000_S19_L002_R1_001.fastqTr.sorted.STARUnmapped.out.sorted.STARAligned.out.sorted_a0_b0_e0.01.noRmDup.fwd.sorted.rmdup.readfiltered.formatted.varfiltered.snpfiltered.ranked.bed',\n",
       " '/home/bay001/projects/kris_apobec_20200121/permanent_data/final_analysis/01_SAILOR_bulk_rnaseq/outputs/RPS3-1000_S19_L002_R1_001_a0_b0_e0.01/results/RPS3-1000_S19_L002_R1_001.fastqTr.sorted.STARUnmapped.out.sorted.STARAligned.out.sorted_a0_b0_e0.01.fwd.sorted.rmdup.readfiltered.formatted.varfiltered.snpfiltered.ranked.bed',\n",
       " '/home/bay001/projects/kris_apobec_20200121/permanent_data/final_analysis/01_SAILOR_bulk_rnaseq/outputs/RPS3-50_S12_L001_R1_001_a0_b0_e0.01.noRmDup/results/RPS3-50_S12_L001_R1_001.fastqTr.sorted.STARUnmapped.out.sorted.STARAligned.out.sorted_a0_b0_e0.01.noRmDup.fwd.sorted.rmdup.readfiltered.formatted.varfiltered.snpfiltered.ranked.bed',\n",
       " '/home/bay001/projects/kris_apobec_20200121/permanent_data/final_analysis/01_SAILOR_bulk_rnaseq/outputs/RPS3-50_S12_L001_R1_001_a0_b0_e0.01/results/RPS3-50_S12_L001_R1_001.fastqTr.sorted.STARUnmapped.out.sorted.STARAligned.out.sorted_a0_b0_e0.01.fwd.sorted.rmdup.readfiltered.formatted.varfiltered.snpfiltered.ranked.bed',\n",
       " '/home/bay001/projects/kris_apobec_20200121/permanent_data/final_analysis/01_SAILOR_bulk_rnaseq/outputs/SLBP_0_72hr_A_merged_R1_a0_b0_e0.01/results/SLBP_0_72hr_A_merged_R1.fastqTr.sorted.STARUnmapped.out.sorted.STARAligned.out.sorted_a0_b0_e0.01.fwd.sorted.rmdup.readfiltered.formatted.varfiltered.snpfiltered.ranked.bed',\n",
       " '/home/bay001/projects/kris_apobec_20200121/permanent_data/final_analysis/01_SAILOR_bulk_rnaseq/outputs/SLBP_0_72hr_B_merged_R1_a0_b0_e0.01/results/SLBP_0_72hr_B_merged_R1.fastqTr.sorted.STARUnmapped.out.sorted.STARAligned.out.sorted_a0_b0_e0.01.fwd.sorted.rmdup.readfiltered.formatted.varfiltered.snpfiltered.ranked.bed',\n",
       " '/home/bay001/projects/kris_apobec_20200121/permanent_data/final_analysis/01_SAILOR_bulk_rnaseq/outputs/SLBP_0_72hr_C_merged_R1_a0_b0_e0.01/results/SLBP_0_72hr_C_merged_R1.fastqTr.sorted.STARUnmapped.out.sorted.STARAligned.out.sorted_a0_b0_e0.01.fwd.sorted.rmdup.readfiltered.formatted.varfiltered.snpfiltered.ranked.bed',\n",
       " '/home/bay001/projects/kris_apobec_20200121/permanent_data/final_analysis/01_SAILOR_bulk_rnaseq/outputs/SLBP_0_72hr_merged_a0_b0_e0.01/results/SLBP_0_72hr_merged_a0_b0_e0.01.fwd.sorted.rmdup.readfiltered.formatted.varfiltered.snpfiltered.ranked.bed',\n",
       " '/home/bay001/projects/kris_apobec_20200121/permanent_data/final_analysis/01_SAILOR_bulk_rnaseq/outputs/SLBP_1000_48hr_A_merged_R1_a0_b0_e0.01.noRmDup/results/SLBP_1000_48hr_A_merged_R1.fastqTr.sorted.STARUnmapped.out.sorted.STARAligned.out.sorted_a0_b0_e0.01.noRmDup.fwd.sorted.rmdup.readfiltered.formatted.varfiltered.snpfiltered.ranked.bed',\n",
       " '/home/bay001/projects/kris_apobec_20200121/permanent_data/final_analysis/01_SAILOR_bulk_rnaseq/outputs/SLBP_1000_48hr_A_merged_R1_a0_b0_e0.01/results/SLBP_1000_48hr_A_merged_R1.fastqTr.sorted.STARUnmapped.out.sorted.STARAligned.out.sorted_a0_b0_e0.01.fwd.sorted.rmdup.readfiltered.formatted.varfiltered.snpfiltered.ranked.bed',\n",
       " '/home/bay001/projects/kris_apobec_20200121/permanent_data/final_analysis/01_SAILOR_bulk_rnaseq/outputs/SLBP_1000_48hr_B_merged_R1_a0_b0_e0.01.noRmDup/results/SLBP_1000_48hr_B_merged_R1.fastqTr.sorted.STARUnmapped.out.sorted.STARAligned.out.sorted_a0_b0_e0.01.noRmDup.fwd.sorted.rmdup.readfiltered.formatted.varfiltered.snpfiltered.ranked.bed',\n",
       " '/home/bay001/projects/kris_apobec_20200121/permanent_data/final_analysis/01_SAILOR_bulk_rnaseq/outputs/SLBP_1000_48hr_B_merged_R1_a0_b0_e0.01/results/SLBP_1000_48hr_B_merged_R1.fastqTr.sorted.STARUnmapped.out.sorted.STARAligned.out.sorted_a0_b0_e0.01.fwd.sorted.rmdup.readfiltered.formatted.varfiltered.snpfiltered.ranked.bed',\n",
       " '/home/bay001/projects/kris_apobec_20200121/permanent_data/final_analysis/01_SAILOR_bulk_rnaseq/outputs/SLBP_1000_48hr_C_merged_R1_a0_b0_e0.01.noRmDup/results/SLBP_1000_48hr_C_merged_R1.fastqTr.sorted.STARUnmapped.out.sorted.STARAligned.out.sorted_a0_b0_e0.01.noRmDup.fwd.sorted.rmdup.readfiltered.formatted.varfiltered.snpfiltered.ranked.bed',\n",
       " '/home/bay001/projects/kris_apobec_20200121/permanent_data/final_analysis/01_SAILOR_bulk_rnaseq/outputs/SLBP_1000_48hr_C_merged_R1_a0_b0_e0.01/results/SLBP_1000_48hr_C_merged_R1.fastqTr.sorted.STARUnmapped.out.sorted.STARAligned.out.sorted_a0_b0_e0.01.fwd.sorted.rmdup.readfiltered.formatted.varfiltered.snpfiltered.ranked.bed',\n",
       " '/home/bay001/projects/kris_apobec_20200121/permanent_data/final_analysis/01_SAILOR_bulk_rnaseq/outputs/SLBP_1000_48hr_merged_a0_b0_e0.01/results/SLBP_1000_48hr_merged_a0_b0_e0.01.fwd.sorted.rmdup.readfiltered.formatted.varfiltered.snpfiltered.ranked.bed',\n",
       " '/home/bay001/projects/kris_apobec_20200121/permanent_data/final_analysis/01_SAILOR_bulk_rnaseq/outputs/SLBP_1000_72hr_A_merged_R1_a0_b0_e0.01.noRmDup/results/SLBP_1000_72hr_A_merged_R1.fastqTr.sorted.STARUnmapped.out.sorted.STARAligned.out.sorted_a0_b0_e0.01.noRmDup.fwd.sorted.rmdup.readfiltered.formatted.varfiltered.snpfiltered.ranked.bed',\n",
       " '/home/bay001/projects/kris_apobec_20200121/permanent_data/final_analysis/01_SAILOR_bulk_rnaseq/outputs/SLBP_1000_72hr_A_merged_R1_a0_b0_e0.01/results/SLBP_1000_72hr_A_merged_R1.fastqTr.sorted.STARUnmapped.out.sorted.STARAligned.out.sorted_a0_b0_e0.01.fwd.sorted.rmdup.readfiltered.formatted.varfiltered.snpfiltered.ranked.bed',\n",
       " '/home/bay001/projects/kris_apobec_20200121/permanent_data/final_analysis/01_SAILOR_bulk_rnaseq/outputs/SLBP_1000_72hr_B_merged_R1_a0_b0_e0.01.noRmDup/results/SLBP_1000_72hr_B_merged_R1.fastqTr.sorted.STARUnmapped.out.sorted.STARAligned.out.sorted_a0_b0_e0.01.noRmDup.fwd.sorted.rmdup.readfiltered.formatted.varfiltered.snpfiltered.ranked.bed',\n",
       " '/home/bay001/projects/kris_apobec_20200121/permanent_data/final_analysis/01_SAILOR_bulk_rnaseq/outputs/SLBP_1000_72hr_B_merged_R1_a0_b0_e0.01/results/SLBP_1000_72hr_B_merged_R1.fastqTr.sorted.STARUnmapped.out.sorted.STARAligned.out.sorted_a0_b0_e0.01.fwd.sorted.rmdup.readfiltered.formatted.varfiltered.snpfiltered.ranked.bed',\n",
       " '/home/bay001/projects/kris_apobec_20200121/permanent_data/final_analysis/01_SAILOR_bulk_rnaseq/outputs/SLBP_1000_72hr_C_merged_R1_a0_b0_e0.01.noRmDup/results/SLBP_1000_72hr_C_merged_R1.fastqTr.sorted.STARUnmapped.out.sorted.STARAligned.out.sorted_a0_b0_e0.01.noRmDup.fwd.sorted.rmdup.readfiltered.formatted.varfiltered.snpfiltered.ranked.bed',\n",
       " '/home/bay001/projects/kris_apobec_20200121/permanent_data/final_analysis/01_SAILOR_bulk_rnaseq/outputs/SLBP_1000_72hr_C_merged_R1_a0_b0_e0.01/results/SLBP_1000_72hr_C_merged_R1.fastqTr.sorted.STARUnmapped.out.sorted.STARAligned.out.sorted_a0_b0_e0.01.fwd.sorted.rmdup.readfiltered.formatted.varfiltered.snpfiltered.ranked.bed',\n",
       " '/home/bay001/projects/kris_apobec_20200121/permanent_data/final_analysis/01_SAILOR_bulk_rnaseq/outputs/SLBP_1000_72hr_merged_a0_b0_e0.01/results/SLBP_1000_72hr_merged_a0_b0_e0.01.fwd.sorted.rmdup.readfiltered.formatted.varfiltered.snpfiltered.ranked.bed',\n",
       " '/home/bay001/projects/kris_apobec_20200121/permanent_data/final_analysis/01_SAILOR_bulk_rnaseq/outputs/SRSF1_13_S21_L002_R1_001_a0_b0_e0.01/results/SRSF1_13_S21_L002_R1_001.fastqTr.sorted.STARUnmapped.out.sorted.STARAligned.out.sorted_a0_b0_e0.01.fwd.sorted.rmdup.readfiltered.formatted.varfiltered.snpfiltered.ranked.bed',\n",
       " '/home/bay001/projects/kris_apobec_20200121/permanent_data/final_analysis/01_SAILOR_bulk_rnaseq/outputs/SRSF1_14_S22_L002_R1_001_a0_b0_e0.01/results/SRSF1_14_S22_L002_R1_001.fastqTr.sorted.STARUnmapped.out.sorted.STARAligned.out.sorted_a0_b0_e0.01.fwd.sorted.rmdup.readfiltered.formatted.varfiltered.snpfiltered.ranked.bed',\n",
       " '/home/bay001/projects/kris_apobec_20200121/permanent_data/final_analysis/01_SAILOR_bulk_rnaseq/outputs/SRSF1_15_S23_L002_R1_001_a0_b0_e0.01/results/SRSF1_15_S23_L002_R1_001.fastqTr.sorted.STARUnmapped.out.sorted.STARAligned.out.sorted_a0_b0_e0.01.fwd.sorted.rmdup.readfiltered.formatted.varfiltered.snpfiltered.ranked.bed',\n",
       " '/home/bay001/projects/kris_apobec_20200121/permanent_data/final_analysis/01_SAILOR_bulk_rnaseq/outputs/SRSF1_16_S24_L002_R1_001_a0_b0_e0.01/results/SRSF1_16_S24_L002_R1_001.fastqTr.sorted.STARUnmapped.out.sorted.STARAligned.out.sorted_a0_b0_e0.01.fwd.sorted.rmdup.readfiltered.formatted.varfiltered.snpfiltered.ranked.bed',\n",
       " '/home/bay001/projects/kris_apobec_20200121/permanent_data/final_analysis/01_SAILOR_bulk_rnaseq/outputs/SRSF1_S43_merged_a0_b0_e0.01/results/SRSF1_S43_merged.fastqTr.sorted.STARUnmapped.out.sorted.STARAligned.out.sorted_a0_b0_e0.01.fwd.sorted.rmdup.readfiltered.formatted.varfiltered.snpfiltered.ranked.bed',\n",
       " '/home/bay001/projects/kris_apobec_20200121/permanent_data/final_analysis/01_SAILOR_bulk_rnaseq/outputs/Sample11_S29_merged_a0_b0_e0.01/results/Sample11_S29_merged.fastqTr.sorted.STARUnmapped.out.sorted.STARAligned.out.sorted_a0_b0_e0.01.fwd.sorted.rmdup.readfiltered.formatted.varfiltered.snpfiltered.ranked.bed',\n",
       " '/home/bay001/projects/kris_apobec_20200121/permanent_data/final_analysis/01_SAILOR_bulk_rnaseq/outputs/Sample12_S30_merged_a0_b0_e0.01/results/Sample12_S30_merged.fastqTr.sorted.STARUnmapped.out.sorted.STARAligned.out.sorted_a0_b0_e0.01.fwd.sorted.rmdup.readfiltered.formatted.varfiltered.snpfiltered.ranked.bed',\n",
       " '/home/bay001/projects/kris_apobec_20200121/permanent_data/final_analysis/01_SAILOR_bulk_rnaseq/outputs/Sample13_S31_merged_a0_b0_e0.01/results/Sample13_S31_merged.fastqTr.sorted.STARUnmapped.out.sorted.STARAligned.out.sorted_a0_b0_e0.01.fwd.sorted.rmdup.readfiltered.formatted.varfiltered.snpfiltered.ranked.bed',\n",
       " '/home/bay001/projects/kris_apobec_20200121/permanent_data/final_analysis/01_SAILOR_bulk_rnaseq/outputs/Sample14_S13_merged_a0_b0_e0.01/results/Sample14_S13_merged.fastqTr.sorted.STARUnmapped.out.sorted.STARAligned.out.sorted_a0_b0_e0.01.fwd.sorted.rmdup.readfiltered.formatted.varfiltered.snpfiltered.ranked.bed',\n",
       " '/home/bay001/projects/kris_apobec_20200121/permanent_data/final_analysis/01_SAILOR_bulk_rnaseq/outputs/Sample15_S14_merged_a0_b0_e0.01/results/Sample15_S14_merged.fastqTr.sorted.STARUnmapped.out.sorted.STARAligned.out.sorted_a0_b0_e0.01.fwd.sorted.rmdup.readfiltered.formatted.varfiltered.snpfiltered.ranked.bed',\n",
       " '/home/bay001/projects/kris_apobec_20200121/permanent_data/final_analysis/01_SAILOR_bulk_rnaseq/outputs/Sample16_S32_merged_a0_b0_e0.01/results/Sample16_S32_merged.fastqTr.sorted.STARUnmapped.out.sorted.STARAligned.out.sorted_a0_b0_e0.01.fwd.sorted.rmdup.readfiltered.formatted.varfiltered.snpfiltered.ranked.bed',\n",
       " '/home/bay001/projects/kris_apobec_20200121/permanent_data/final_analysis/01_SAILOR_bulk_rnaseq/outputs/Sample17_S15_merged_a0_b0_e0.01/results/Sample17_S15_merged.fastqTr.sorted.STARUnmapped.out.sorted.STARAligned.out.sorted_a0_b0_e0.01.fwd.sorted.rmdup.readfiltered.formatted.varfiltered.snpfiltered.ranked.bed',\n",
       " '/home/bay001/projects/kris_apobec_20200121/permanent_data/final_analysis/01_SAILOR_bulk_rnaseq/outputs/Sample18_S16_merged_a0_b0_e0.01/results/Sample18_S16_merged.fastqTr.sorted.STARUnmapped.out.sorted.STARAligned.out.sorted_a0_b0_e0.01.fwd.sorted.rmdup.readfiltered.formatted.varfiltered.snpfiltered.ranked.bed',\n",
       " '/home/bay001/projects/kris_apobec_20200121/permanent_data/final_analysis/01_SAILOR_bulk_rnaseq/outputs/Sample19_S17_merged_a0_b0_e0.01/results/Sample19_S17_merged.fastqTr.sorted.STARUnmapped.out.sorted.STARAligned.out.sorted_a0_b0_e0.01.fwd.sorted.rmdup.readfiltered.formatted.varfiltered.snpfiltered.ranked.bed',\n",
       " '/home/bay001/projects/kris_apobec_20200121/permanent_data/final_analysis/01_SAILOR_bulk_rnaseq/outputs/Sample1_S23_merged_a0_b0_e0.01/results/Sample1_S23_merged.fastqTr.sorted.STARUnmapped.out.sorted.STARAligned.out.sorted_a0_b0_e0.01.fwd.sorted.rmdup.readfiltered.formatted.varfiltered.snpfiltered.ranked.bed',\n",
       " '/home/bay001/projects/kris_apobec_20200121/permanent_data/final_analysis/01_SAILOR_bulk_rnaseq/outputs/Sample20_S18_merged_a0_b0_e0.01/results/Sample20_S18_merged.fastqTr.sorted.STARUnmapped.out.sorted.STARAligned.out.sorted_a0_b0_e0.01.fwd.sorted.rmdup.readfiltered.formatted.varfiltered.snpfiltered.ranked.bed',\n",
       " '/home/bay001/projects/kris_apobec_20200121/permanent_data/final_analysis/01_SAILOR_bulk_rnaseq/outputs/Sample21_S33_merged_a0_b0_e0.01/results/Sample21_S33_merged.fastqTr.sorted.STARUnmapped.out.sorted.STARAligned.out.sorted_a0_b0_e0.01.fwd.sorted.rmdup.readfiltered.formatted.varfiltered.snpfiltered.ranked.bed',\n",
       " '/home/bay001/projects/kris_apobec_20200121/permanent_data/final_analysis/01_SAILOR_bulk_rnaseq/outputs/Sample22_S34_merged_a0_b0_e0.01/results/Sample22_S34_merged.fastqTr.sorted.STARUnmapped.out.sorted.STARAligned.out.sorted_a0_b0_e0.01.fwd.sorted.rmdup.readfiltered.formatted.varfiltered.snpfiltered.ranked.bed',\n",
       " '/home/bay001/projects/kris_apobec_20200121/permanent_data/final_analysis/01_SAILOR_bulk_rnaseq/outputs/Sample23_S35_merged_a0_b0_e0.01/results/Sample23_S35_merged.fastqTr.sorted.STARUnmapped.out.sorted.STARAligned.out.sorted_a0_b0_e0.01.fwd.sorted.rmdup.readfiltered.formatted.varfiltered.snpfiltered.ranked.bed',\n",
       " '/home/bay001/projects/kris_apobec_20200121/permanent_data/final_analysis/01_SAILOR_bulk_rnaseq/outputs/Sample24_S36_merged_a0_b0_e0.01/results/Sample24_S36_merged.fastqTr.sorted.STARUnmapped.out.sorted.STARAligned.out.sorted_a0_b0_e0.01.fwd.sorted.rmdup.readfiltered.formatted.varfiltered.snpfiltered.ranked.bed',\n",
       " '/home/bay001/projects/kris_apobec_20200121/permanent_data/final_analysis/01_SAILOR_bulk_rnaseq/outputs/Sample25_S19_merged_a0_b0_e0.01/results/Sample25_S19_merged.fastqTr.sorted.STARUnmapped.out.sorted.STARAligned.out.sorted_a0_b0_e0.01.fwd.sorted.rmdup.readfiltered.formatted.varfiltered.snpfiltered.ranked.bed',\n",
       " '/home/bay001/projects/kris_apobec_20200121/permanent_data/final_analysis/01_SAILOR_bulk_rnaseq/outputs/Sample26_S20_merged_a0_b0_e0.01/results/Sample26_S20_merged.fastqTr.sorted.STARUnmapped.out.sorted.STARAligned.out.sorted_a0_b0_e0.01.fwd.sorted.rmdup.readfiltered.formatted.varfiltered.snpfiltered.ranked.bed',\n",
       " '/home/bay001/projects/kris_apobec_20200121/permanent_data/final_analysis/01_SAILOR_bulk_rnaseq/outputs/Sample27_S37_merged_a0_b0_e0.01/results/Sample27_S37_merged.fastqTr.sorted.STARUnmapped.out.sorted.STARAligned.out.sorted_a0_b0_e0.01.fwd.sorted.rmdup.readfiltered.formatted.varfiltered.snpfiltered.ranked.bed',\n",
       " '/home/bay001/projects/kris_apobec_20200121/permanent_data/final_analysis/01_SAILOR_bulk_rnaseq/outputs/Sample28_S21_merged_a0_b0_e0.01/results/Sample28_S21_merged.fastqTr.sorted.STARUnmapped.out.sorted.STARAligned.out.sorted_a0_b0_e0.01.fwd.sorted.rmdup.readfiltered.formatted.varfiltered.snpfiltered.ranked.bed',\n",
       " '/home/bay001/projects/kris_apobec_20200121/permanent_data/final_analysis/01_SAILOR_bulk_rnaseq/outputs/Sample29_S38_merged_a0_b0_e0.01/results/Sample29_S38_merged.fastqTr.sorted.STARUnmapped.out.sorted.STARAligned.out.sorted_a0_b0_e0.01.fwd.sorted.rmdup.readfiltered.formatted.varfiltered.snpfiltered.ranked.bed',\n",
       " '/home/bay001/projects/kris_apobec_20200121/permanent_data/final_analysis/01_SAILOR_bulk_rnaseq/outputs/Sample2_S24_merged_a0_b0_e0.01/results/Sample2_S24_merged.fastqTr.sorted.STARUnmapped.out.sorted.STARAligned.out.sorted_a0_b0_e0.01.fwd.sorted.rmdup.readfiltered.formatted.varfiltered.snpfiltered.ranked.bed',\n",
       " '/home/bay001/projects/kris_apobec_20200121/permanent_data/final_analysis/01_SAILOR_bulk_rnaseq/outputs/Sample30_S39_merged_a0_b0_e0.01/results/Sample30_S39_merged.fastqTr.sorted.STARUnmapped.out.sorted.STARAligned.out.sorted_a0_b0_e0.01.fwd.sorted.rmdup.readfiltered.formatted.varfiltered.snpfiltered.ranked.bed',\n",
       " '/home/bay001/projects/kris_apobec_20200121/permanent_data/final_analysis/01_SAILOR_bulk_rnaseq/outputs/Sample31_S40_merged_a0_b0_e0.01/results/Sample31_S40_merged.fastqTr.sorted.STARUnmapped.out.sorted.STARAligned.out.sorted_a0_b0_e0.01.fwd.sorted.rmdup.readfiltered.formatted.varfiltered.snpfiltered.ranked.bed',\n",
       " '/home/bay001/projects/kris_apobec_20200121/permanent_data/final_analysis/01_SAILOR_bulk_rnaseq/outputs/Sample32_S22_merged_a0_b0_e0.01/results/Sample32_S22_merged.fastqTr.sorted.STARUnmapped.out.sorted.STARAligned.out.sorted_a0_b0_e0.01.fwd.sorted.rmdup.readfiltered.formatted.varfiltered.snpfiltered.ranked.bed',\n",
       " '/home/bay001/projects/kris_apobec_20200121/permanent_data/final_analysis/01_SAILOR_bulk_rnaseq/outputs/Sample41_S41_merged_a0_b0_e0.01/results/Sample41_S41_merged.fastqTr.sorted.STARUnmapped.out.sorted.STARAligned.out.sorted_a0_b0_e0.01.fwd.sorted.rmdup.readfiltered.formatted.varfiltered.snpfiltered.ranked.bed',\n",
       " '/home/bay001/projects/kris_apobec_20200121/permanent_data/final_analysis/01_SAILOR_bulk_rnaseq/outputs/Sample42_S42_merged_a0_b0_e0.01/results/Sample42_S42_merged.fastqTr.sorted.STARUnmapped.out.sorted.STARAligned.out.sorted_a0_b0_e0.01.fwd.sorted.rmdup.readfiltered.formatted.varfiltered.snpfiltered.ranked.bed',\n",
       " '/home/bay001/projects/kris_apobec_20200121/permanent_data/final_analysis/01_SAILOR_bulk_rnaseq/outputs/Sample4_S25_merged_a0_b0_e0.01/results/Sample4_S25_merged.fastqTr.sorted.STARUnmapped.out.sorted.STARAligned.out.sorted_a0_b0_e0.01.fwd.sorted.rmdup.readfiltered.formatted.varfiltered.snpfiltered.ranked.bed',\n",
       " '/home/bay001/projects/kris_apobec_20200121/permanent_data/final_analysis/01_SAILOR_bulk_rnaseq/outputs/Sample5_S26_merged_a0_b0_e0.01/results/Sample5_S26_merged.fastqTr.sorted.STARUnmapped.out.sorted.STARAligned.out.sorted_a0_b0_e0.01.fwd.sorted.rmdup.readfiltered.formatted.varfiltered.snpfiltered.ranked.bed',\n",
       " '/home/bay001/projects/kris_apobec_20200121/permanent_data/final_analysis/01_SAILOR_bulk_rnaseq/outputs/Sample7_S27_merged_a0_b0_e0.01/results/Sample7_S27_merged.fastqTr.sorted.STARUnmapped.out.sorted.STARAligned.out.sorted_a0_b0_e0.01.fwd.sorted.rmdup.readfiltered.formatted.varfiltered.snpfiltered.ranked.bed',\n",
       " '/home/bay001/projects/kris_apobec_20200121/permanent_data/final_analysis/01_SAILOR_bulk_rnaseq/outputs/Sample8_S28_merged_a0_b0_e0.01/results/Sample8_S28_merged.fastqTr.sorted.STARUnmapped.out.sorted.STARAligned.out.sorted_a0_b0_e0.01.fwd.sorted.rmdup.readfiltered.formatted.varfiltered.snpfiltered.ranked.bed',\n",
       " '/home/bay001/projects/kris_apobec_20200121/permanent_data/final_analysis/01_SAILOR_bulk_rnaseq/outputs/Sample_10_S60_L006_R1_001_a0_b0_e0.01/results/Sample_10_S60_L006_R1_001.fastqTr.sorted.STARUnmapped.out.sorted.STARAligned.out.sorted_a0_b0_e0.01.fwd.sorted.rmdup.readfiltered.formatted.varfiltered.snpfiltered.ranked.bed',\n",
       " '/home/bay001/projects/kris_apobec_20200121/permanent_data/final_analysis/01_SAILOR_bulk_rnaseq/outputs/Sample_33_S61_L006_R1_001_a0_b0_e0.01/results/Sample_33_S61_L006_R1_001.fastqTr.sorted.STARUnmapped.out.sorted.STARAligned.out.sorted_a0_b0_e0.01.fwd.sorted.rmdup.readfiltered.formatted.varfiltered.snpfiltered.ranked.bed',\n",
       " '/home/bay001/projects/kris_apobec_20200121/permanent_data/final_analysis/01_SAILOR_bulk_rnaseq/outputs/Sample_34_S62_L006_R1_001_a0_b0_e0.01/results/Sample_34_S62_L006_R1_001.fastqTr.sorted.STARUnmapped.out.sorted.STARAligned.out.sorted_a0_b0_e0.01.fwd.sorted.rmdup.readfiltered.formatted.varfiltered.snpfiltered.ranked.bed',\n",
       " '/home/bay001/projects/kris_apobec_20200121/permanent_data/final_analysis/01_SAILOR_bulk_rnaseq/outputs/Sample_35_S63_L006_R1_001_a0_b0_e0.01/results/Sample_35_S63_L006_R1_001.fastqTr.sorted.STARUnmapped.out.sorted.STARAligned.out.sorted_a0_b0_e0.01.fwd.sorted.rmdup.readfiltered.formatted.varfiltered.snpfiltered.ranked.bed',\n",
       " '/home/bay001/projects/kris_apobec_20200121/permanent_data/final_analysis/01_SAILOR_bulk_rnaseq/outputs/Sample_36_S64_L006_R1_001_a0_b0_e0.01/results/Sample_36_S64_L006_R1_001.fastqTr.sorted.STARUnmapped.out.sorted.STARAligned.out.sorted_a0_b0_e0.01.fwd.sorted.rmdup.readfiltered.formatted.varfiltered.snpfiltered.ranked.bed',\n",
       " '/home/bay001/projects/kris_apobec_20200121/permanent_data/final_analysis/01_SAILOR_bulk_rnaseq/outputs/Sample_37_S65_L006_R1_001_a0_b0_e0.01/results/Sample_37_S65_L006_R1_001.fastqTr.sorted.STARUnmapped.out.sorted.STARAligned.out.sorted_a0_b0_e0.01.fwd.sorted.rmdup.readfiltered.formatted.varfiltered.snpfiltered.ranked.bed',\n",
       " '/home/bay001/projects/kris_apobec_20200121/permanent_data/final_analysis/01_SAILOR_bulk_rnaseq/outputs/Sample_37_S65_L006_R1_001_a0_b0_e0.01_10M/results/Sample_37_S65_L006_R1_001.fastqTr.sorted.STARUnmapped.out.sorted.STARAligned.out.sorted.10M_a0_b0_e0.01.fwd.sorted.rmdup.readfiltered.formatted.varfiltered.snpfiltered.ranked.bed',\n",
       " '/home/bay001/projects/kris_apobec_20200121/permanent_data/final_analysis/01_SAILOR_bulk_rnaseq/outputs/Sample_37_S65_L006_R1_001_a0_b0_e0.01_21M/results/Sample_37_S65_L006_R1_001.fastqTr.sorted.STARUnmapped.out.sorted.STARAligned.out.sorted.21M_a0_b0_e0.01.fwd.sorted.rmdup.readfiltered.formatted.varfiltered.snpfiltered.ranked.bed',\n",
       " '/home/bay001/projects/kris_apobec_20200121/permanent_data/final_analysis/01_SAILOR_bulk_rnaseq/outputs/Sample_38_S66_L006_R1_001_a0_b0_e0.01/results/Sample_38_S66_L006_R1_001.fastqTr.sorted.STARUnmapped.out.sorted.STARAligned.out.sorted_a0_b0_e0.01.fwd.sorted.rmdup.readfiltered.formatted.varfiltered.snpfiltered.ranked.bed',\n",
       " '/home/bay001/projects/kris_apobec_20200121/permanent_data/final_analysis/01_SAILOR_bulk_rnaseq/outputs/Sample_38_S66_L006_R1_001_a0_b0_e0.01_10M/results/Sample_38_S66_L006_R1_001.fastqTr.sorted.STARUnmapped.out.sorted.STARAligned.out.sorted.10M_a0_b0_e0.01.fwd.sorted.rmdup.readfiltered.formatted.varfiltered.snpfiltered.ranked.bed',\n",
       " '/home/bay001/projects/kris_apobec_20200121/permanent_data/final_analysis/01_SAILOR_bulk_rnaseq/outputs/Sample_39_S67_L006_R1_001_a0_b0_e0.01/results/Sample_39_S67_L006_R1_001.fastqTr.sorted.STARUnmapped.out.sorted.STARAligned.out.sorted_a0_b0_e0.01.fwd.sorted.rmdup.readfiltered.formatted.varfiltered.snpfiltered.ranked.bed',\n",
       " '/home/bay001/projects/kris_apobec_20200121/permanent_data/final_analysis/01_SAILOR_bulk_rnaseq/outputs/Sample_3_S57_L006_R1_001_a0_b0_e0.01/results/Sample_3_S57_L006_R1_001.fastqTr.sorted.STARUnmapped.out.sorted.STARAligned.out.sorted_a0_b0_e0.01.fwd.sorted.rmdup.readfiltered.formatted.varfiltered.snpfiltered.ranked.bed',\n",
       " '/home/bay001/projects/kris_apobec_20200121/permanent_data/final_analysis/01_SAILOR_bulk_rnaseq/outputs/Sample_40_S68_L006_R1_001_a0_b0_e0.01/results/Sample_40_S68_L006_R1_001.fastqTr.sorted.STARUnmapped.out.sorted.STARAligned.out.sorted_a0_b0_e0.01.fwd.sorted.rmdup.readfiltered.formatted.varfiltered.snpfiltered.ranked.bed',\n",
       " '/home/bay001/projects/kris_apobec_20200121/permanent_data/final_analysis/01_SAILOR_bulk_rnaseq/outputs/Sample_6_S58_L006_R1_001_a0_b0_e0.01/results/Sample_6_S58_L006_R1_001.fastqTr.sorted.STARUnmapped.out.sorted.STARAligned.out.sorted_a0_b0_e0.01.fwd.sorted.rmdup.readfiltered.formatted.varfiltered.snpfiltered.ranked.bed',\n",
       " '/home/bay001/projects/kris_apobec_20200121/permanent_data/final_analysis/01_SAILOR_bulk_rnaseq/outputs/Sample_9_S59_L006_R1_001_a0_b0_e0.01/results/Sample_9_S59_L006_R1_001.fastqTr.sorted.STARUnmapped.out.sorted.STARAligned.out.sorted_a0_b0_e0.01.fwd.sorted.rmdup.readfiltered.formatted.varfiltered.snpfiltered.ranked.bed',\n",
       " '/home/bay001/projects/kris_apobec_20200121/permanent_data/final_analysis/01_SAILOR_bulk_rnaseq/outputs/TI_10_S7_L001_R1_001_a0_b0_e0.01/results/TI_10_S7_L001_R1_001.fastqTr.sorted.STARUnmapped.out.sorted.STARAligned.out.sorted_a0_b0_e0.01.fwd.sorted.rmdup.readfiltered.formatted.varfiltered.snpfiltered.ranked.bed',\n",
       " '/home/bay001/projects/kris_apobec_20200121/permanent_data/final_analysis/01_SAILOR_bulk_rnaseq/outputs/TI_11_S8_L001_R1_001_a0_b0_e0.01/results/TI_11_S8_L001_R1_001.fastqTr.sorted.STARUnmapped.out.sorted.STARAligned.out.sorted_a0_b0_e0.01.fwd.sorted.rmdup.readfiltered.formatted.varfiltered.snpfiltered.ranked.bed',\n",
       " '/home/bay001/projects/kris_apobec_20200121/permanent_data/final_analysis/01_SAILOR_bulk_rnaseq/outputs/TI_1_S1_L001_R1_001_a0_b0_e0.01/results/TI_1_S1_L001_R1_001.fastqTr.sorted.STARUnmapped.out.sorted.STARAligned.out.sorted_a0_b0_e0.01.fwd.sorted.rmdup.readfiltered.formatted.varfiltered.snpfiltered.ranked.bed',\n",
       " '/home/bay001/projects/kris_apobec_20200121/permanent_data/final_analysis/01_SAILOR_bulk_rnaseq/outputs/TI_2_S2_L001_R1_001_a0_b0_e0.01/results/TI_2_S2_L001_R1_001.fastqTr.sorted.STARUnmapped.out.sorted.STARAligned.out.sorted_a0_b0_e0.01.fwd.sorted.rmdup.readfiltered.formatted.varfiltered.snpfiltered.ranked.bed',\n",
       " '/home/bay001/projects/kris_apobec_20200121/permanent_data/final_analysis/01_SAILOR_bulk_rnaseq/outputs/TI_49_S9_L001_R1_001_a0_b0_e0.01/results/TI_49_S9_L001_R1_001.fastqTr.sorted.STARUnmapped.out.sorted.STARAligned.out.sorted_a0_b0_e0.01.fwd.sorted.rmdup.readfiltered.formatted.varfiltered.snpfiltered.ranked.bed',\n",
       " '/home/bay001/projects/kris_apobec_20200121/permanent_data/final_analysis/01_SAILOR_bulk_rnaseq/outputs/TI_4_S3_L001_R1_001_a0_b0_e0.01/results/TI_4_S3_L001_R1_001.fastqTr.sorted.STARUnmapped.out.sorted.STARAligned.out.sorted_a0_b0_e0.01.fwd.sorted.rmdup.readfiltered.formatted.varfiltered.snpfiltered.ranked.bed',\n",
       " '/home/bay001/projects/kris_apobec_20200121/permanent_data/final_analysis/01_SAILOR_bulk_rnaseq/outputs/TI_50_S10_L001_R1_001_a0_b0_e0.01/results/TI_50_S10_L001_R1_001.fastqTr.sorted.STARUnmapped.out.sorted.STARAligned.out.sorted_a0_b0_e0.01.fwd.sorted.rmdup.readfiltered.formatted.varfiltered.snpfiltered.ranked.bed',\n",
       " '/home/bay001/projects/kris_apobec_20200121/permanent_data/final_analysis/01_SAILOR_bulk_rnaseq/outputs/TI_52_S11_L001_R1_001_a0_b0_e0.01/results/TI_52_S11_L001_R1_001.fastqTr.sorted.STARUnmapped.out.sorted.STARAligned.out.sorted_a0_b0_e0.01.fwd.sorted.rmdup.readfiltered.formatted.varfiltered.snpfiltered.ranked.bed',\n",
       " '/home/bay001/projects/kris_apobec_20200121/permanent_data/final_analysis/01_SAILOR_bulk_rnaseq/outputs/TI_53_S12_L001_R1_001_a0_b0_e0.01/results/TI_53_S12_L001_R1_001.fastqTr.sorted.STARUnmapped.out.sorted.STARAligned.out.sorted_a0_b0_e0.01.fwd.sorted.rmdup.readfiltered.formatted.varfiltered.snpfiltered.ranked.bed',\n",
       " '/home/bay001/projects/kris_apobec_20200121/permanent_data/final_analysis/01_SAILOR_bulk_rnaseq/outputs/TI_55_S13_L001_R1_001_a0_b0_e0.01/results/TI_55_S13_L001_R1_001.fastqTr.sorted.STARUnmapped.out.sorted.STARAligned.out.sorted_a0_b0_e0.01.fwd.sorted.rmdup.readfiltered.formatted.varfiltered.snpfiltered.ranked.bed',\n",
       " '/home/bay001/projects/kris_apobec_20200121/permanent_data/final_analysis/01_SAILOR_bulk_rnaseq/outputs/TI_55_S13_L001_R1_001_a0_b0_e0.01_10M/results/TI_55_S13_L001_R1_001.fastqTr.sorted.STARUnmapped.out.sorted.STARAligned.out.sorted.10M_a0_b0_e0.01.fwd.sorted.rmdup.readfiltered.formatted.varfiltered.snpfiltered.ranked.bed',\n",
       " '/home/bay001/projects/kris_apobec_20200121/permanent_data/final_analysis/01_SAILOR_bulk_rnaseq/outputs/TI_56_S14_L001_R1_001_a0_b0_e0.01/results/TI_56_S14_L001_R1_001.fastqTr.sorted.STARUnmapped.out.sorted.STARAligned.out.sorted_a0_b0_e0.01.fwd.sorted.rmdup.readfiltered.formatted.varfiltered.snpfiltered.ranked.bed',\n",
       " '/home/bay001/projects/kris_apobec_20200121/permanent_data/final_analysis/01_SAILOR_bulk_rnaseq/outputs/TI_58_S15_L001_R1_001_a0_b0_e0.01/results/TI_58_S15_L001_R1_001.fastqTr.sorted.STARUnmapped.out.sorted.STARAligned.out.sorted_a0_b0_e0.01.fwd.sorted.rmdup.readfiltered.formatted.varfiltered.snpfiltered.ranked.bed',\n",
       " '/home/bay001/projects/kris_apobec_20200121/permanent_data/final_analysis/01_SAILOR_bulk_rnaseq/outputs/TI_58_S15_L001_R1_001_a0_b0_e0.01_10M/results/TI_58_S15_L001_R1_001.fastqTr.sorted.STARUnmapped.out.sorted.STARAligned.out.sorted.10M_a0_b0_e0.01.fwd.sorted.rmdup.readfiltered.formatted.varfiltered.snpfiltered.ranked.bed',\n",
       " '/home/bay001/projects/kris_apobec_20200121/permanent_data/final_analysis/01_SAILOR_bulk_rnaseq/outputs/TI_59_S16_L001_R1_001_a0_b0_e0.01/results/TI_59_S16_L001_R1_001.fastqTr.sorted.STARUnmapped.out.sorted.STARAligned.out.sorted_a0_b0_e0.01.fwd.sorted.rmdup.readfiltered.formatted.varfiltered.snpfiltered.ranked.bed',\n",
       " '/home/bay001/projects/kris_apobec_20200121/permanent_data/final_analysis/01_SAILOR_bulk_rnaseq/outputs/TI_59_S16_L001_R1_001_a0_b0_e0.01_10M/results/TI_59_S16_L001_R1_001.fastqTr.sorted.STARUnmapped.out.sorted.STARAligned.out.sorted.10M_a0_b0_e0.01.fwd.sorted.rmdup.readfiltered.formatted.varfiltered.snpfiltered.ranked.bed',\n",
       " '/home/bay001/projects/kris_apobec_20200121/permanent_data/final_analysis/01_SAILOR_bulk_rnaseq/outputs/TI_5_S4_L001_R1_001_a0_b0_e0.01/results/TI_5_S4_L001_R1_001.fastqTr.sorted.STARUnmapped.out.sorted.STARAligned.out.sorted_a0_b0_e0.01.fwd.sorted.rmdup.readfiltered.formatted.varfiltered.snpfiltered.ranked.bed',\n",
       " '/home/bay001/projects/kris_apobec_20200121/permanent_data/final_analysis/01_SAILOR_bulk_rnaseq/outputs/TI_7_S5_L001_R1_001_a0_b0_e0.01/results/TI_7_S5_L001_R1_001.fastqTr.sorted.STARUnmapped.out.sorted.STARAligned.out.sorted_a0_b0_e0.01.fwd.sorted.rmdup.readfiltered.formatted.varfiltered.snpfiltered.ranked.bed',\n",
       " '/home/bay001/projects/kris_apobec_20200121/permanent_data/final_analysis/01_SAILOR_bulk_rnaseq/outputs/TI_8_S6_L001_R1_001_a0_b0_e0.01/results/TI_8_S6_L001_R1_001.fastqTr.sorted.STARUnmapped.out.sorted.STARAligned.out.sorted_a0_b0_e0.01.fwd.sorted.rmdup.readfiltered.formatted.varfiltered.snpfiltered.ranked.bed',\n",
       " '/home/bay001/projects/kris_apobec_20200121/permanent_data/final_analysis/01_SAILOR_bulk_rnaseq/outputs/Tia1_0ng_1_S40_L003_R1_001_a0_b0_e0.01/results/Tia1_0ng_1_S40_L003_R1_001.fastqTr.sorted.STARUnmapped.out.sorted.STARAligned.out.sorted_a0_b0_e0.01.fwd.sorted.rmdup.readfiltered.formatted.varfiltered.snpfiltered.ranked.bed',\n",
       " '/home/bay001/projects/kris_apobec_20200121/permanent_data/final_analysis/01_SAILOR_bulk_rnaseq/outputs/Tia1_0ng_2_S41_L003_R1_001_a0_b0_e0.01/results/Tia1_0ng_2_S41_L003_R1_001.fastqTr.sorted.STARUnmapped.out.sorted.STARAligned.out.sorted_a0_b0_e0.01.fwd.sorted.rmdup.readfiltered.formatted.varfiltered.snpfiltered.ranked.bed',\n",
       " '/home/bay001/projects/kris_apobec_20200121/permanent_data/final_analysis/01_SAILOR_bulk_rnaseq/outputs/Tia1_1000ng_1_S14_L001_R1_001_a0_b0_e0.01/results/Tia1_1000ng_1_S14_L001_R1_001.fastqTr.sorted.STARUnmapped.out.sorted.STARAligned.out.sorted_a0_b0_e0.01.fwd.sorted.rmdup.readfiltered.formatted.varfiltered.snpfiltered.ranked.bed',\n",
       " '/home/bay001/projects/kris_apobec_20200121/permanent_data/final_analysis/01_SAILOR_bulk_rnaseq/outputs/Tia1_1000ng_2_S27_L002_R1_001_a0_b0_e0.01/results/Tia1_1000ng_2_S27_L002_R1_001.fastqTr.sorted.STARUnmapped.out.sorted.STARAligned.out.sorted_a0_b0_e0.01.fwd.sorted.rmdup.readfiltered.formatted.varfiltered.snpfiltered.ranked.bed',\n",
       " '/home/bay001/projects/kris_apobec_20200121/permanent_data/final_analysis/01_SAILOR_bulk_rnaseq/outputs/Tia1_50ng_1_S42_L003_R1_001_a0_b0_e0.01/results/Tia1_50ng_1_S42_L003_R1_001.fastqTr.sorted.STARUnmapped.out.sorted.STARAligned.out.sorted_a0_b0_e0.01.fwd.sorted.rmdup.readfiltered.formatted.varfiltered.snpfiltered.ranked.bed',\n",
       " '/home/bay001/projects/kris_apobec_20200121/permanent_data/final_analysis/01_SAILOR_bulk_rnaseq/outputs/Tia1_50ng_2_S13_L001_R1_001_a0_b0_e0.01/results/Tia1_50ng_2_S13_L001_R1_001.fastqTr.sorted.STARUnmapped.out.sorted.STARAligned.out.sorted_a0_b0_e0.01.fwd.sorted.rmdup.readfiltered.formatted.varfiltered.snpfiltered.ranked.bed']"
      ]
     },
     "execution_count": 3,
     "metadata": {},
     "output_type": "execute_result"
    }
   ],
   "source": [
    "fwd = sorted(glob.glob(os.path.join(input_dir, '*/results/*.fwd.*.bed')))\n",
    "print(len(fwd))\n",
    "fwd"
   ]
  },
  {
   "cell_type": "code",
   "execution_count": 4,
   "metadata": {},
   "outputs": [
    {
     "data": {
      "application/vnd.jupyter.widget-view+json": {
       "model_id": "35af6e09b3fb480789186fd258326a43",
       "version_major": 2,
       "version_minor": 0
      },
      "text/plain": [
       "HBox(children=(IntProgress(value=0, max=184), HTML(value='')))"
      ]
     },
     "metadata": {},
     "output_type": "display_data"
    },
    {
     "name": "stdout",
     "output_type": "stream",
     "text": [
      "/home/bay001/projects/kris_apobec_20200121/permanent_data/final_analysis/01_SAILOR_bulk_rnaseq/outputs/RPS3-50_S12_L001_R1_001_a0_b0_e0.01.noRmDup/results/RPS3-50_S12_L001_R1_001.fastqTr.sorted.STARUnmapped.out.sorted.STARAligned.out.sorted_a0_b0_e0.01.noRmDup.fwd.sorted.rmdup.readfiltered.formatted.varfiltered.snpfiltered.ranked.bed\n",
      "/home/bay001/projects/kris_apobec_20200121/permanent_data/final_analysis/01_SAILOR_bulk_rnaseq/outputs/RPS3-50_S12_L001_R1_001_a0_b0_e0.01/results/RPS3-50_S12_L001_R1_001.fastqTr.sorted.STARUnmapped.out.sorted.STARAligned.out.sorted_a0_b0_e0.01.fwd.sorted.rmdup.readfiltered.formatted.varfiltered.snpfiltered.ranked.bed\n"
     ]
    }
   ],
   "source": [
    "def filter_bed(df, conf_level):\n",
    "    \"\"\"\n",
    "    Filters the bed file given a conf level. We don't really use this score anymore since we're now scoring by edit fraction.\n",
    "    \"\"\"\n",
    "    return df[df['conf'] >= conf_level]\n",
    "\n",
    "def get_rev(fwd_file):\n",
    "    \"\"\"\n",
    "    (fwd) and (rev) bed files are identically named except for the 'fwd' and 'rev' annotation.\n",
    "    So it's easy to, given the fwd_file name, return the corresponding rev_file \n",
    "    \"\"\"\n",
    "    return fwd_file.replace(\n",
    "        '.fwd.sorted.rmdup.readfiltered.formatted.varfiltered.snpfiltered.ranked.bed',\n",
    "        '.rev.sorted.rmdup.readfiltered.formatted.varfiltered.snpfiltered.ranked.bed'\n",
    "    )\n",
    "\n",
    "def get_combined_bedfile_name(fwd_file):\n",
    "    \"\"\"\n",
    "    Really just re-formats the name to be shorter and remove the 'fwd' annotation. \n",
    "    We'll be using the returned string as the new 'merged' name\n",
    "    \"\"\"\n",
    "    return fwd_file.replace('.fwd.sorted.rmdup.readfiltered.formatted.varfiltered.snpfiltered.ranked.bed','.bed')\n",
    "\n",
    "def concat_bedfiles(fwd_file, rev_file):\n",
    "    \"\"\"\n",
    "    Combines two native SAILOR fwd and rev bedfiles\n",
    "    \"\"\"\n",
    "    common_header = ['chrom','start','end','info','conf','strand']\n",
    "    fwd = pd.read_csv(fwd_file, sep='\\t', names=common_header)\n",
    "    rev = pd.read_csv(rev_file, sep='\\t', names=common_header)\n",
    "    return pd.concat([fwd, rev])\n",
    "\n",
    "def get_number_edited_reads(row):\n",
    "    \"\"\"\n",
    "    SAILOR reports the total coverage and edit fraction in the 'info' column.\n",
    "    Use these two numbers to get the number of edited reads.\n",
    "    \"\"\"\n",
    "    total_reads, edit_type, fraction = row['info'].split('|')\n",
    "    return round(int(total_reads) * float(fraction))\n",
    "\n",
    "def label_cov_info(row):\n",
    "    \"\"\"\n",
    "    returns the num_edited and total_coverage as a concatenated string.\n",
    "    \"\"\"\n",
    "    return \"{},{}\".format(row['num_edited'], row['total_coverage'])\n",
    "\n",
    "progress = tnrange(len(fwd))\n",
    "for f in fwd:\n",
    "    try:\n",
    "        output_file = os.path.join(\n",
    "            output_dir, \n",
    "            os.path.basename(get_combined_bedfile_name(f))\n",
    "        )\n",
    "        if not os.path.exists(output_file):\n",
    "            df = concat_bedfiles(f, get_rev(f))\n",
    "            df['total_coverage'] = df['info'].apply(lambda x: int(x.split('|')[0]))\n",
    "            df['num_edited'] = df.apply(get_number_edited_reads, axis=1)\n",
    "            df['name_col'] = df.apply(label_cov_info, axis=1)\n",
    "            df[['chrom','start','end','conf','name_col','strand']].to_csv(\n",
    "                output_file, \n",
    "                sep='\\t', \n",
    "                index=False, \n",
    "                header=False\n",
    "            )\n",
    "    except ValueError:\n",
    "        print(f)\n",
    "    progress.update(1)"
   ]
  },
  {
   "cell_type": "markdown",
   "metadata": {},
   "source": [
    "# Merge the (readfiltered) BAM files\n",
    "### Here I'm grabbing the SAILOR intermediate outputs ```*.readfiltered.bam``` which are, for fwd and rev strands, the BAM files post read filtering."
   ]
  },
  {
   "cell_type": "code",
   "execution_count": 5,
   "metadata": {},
   "outputs": [
    {
     "name": "stdout",
     "output_type": "stream",
     "text": [
      "156\n"
     ]
    },
    {
     "data": {
      "text/plain": [
       "['/home/bay001/projects/kris_apobec_20200121/permanent_data/final_analysis/01_SAILOR_bulk_rnaseq/outputs/ABCE1-0_S1_L001_R1_001_a0_b0_e0.01/results/ABCE1-0_S1_L001_R1_001.fastqTr.sorted.STARUnmapped.out.sorted.STARAligned.out.sorted_a0_b0_e0.01.fwd.sorted.rmdup.readfiltered.bam',\n",
       " '/home/bay001/projects/kris_apobec_20200121/permanent_data/final_analysis/01_SAILOR_bulk_rnaseq/outputs/ABCE1-1000_S15_L002_R1_001_a0_b0_e0.01.noRmDup/results/ABCE1-1000_S15_L002_R1_001.fastqTr.sorted.STARUnmapped.out.sorted.STARAligned.out.sorted_a0_b0_e0.01.noRmDup.fwd.sorted.rmdup.readfiltered.bam',\n",
       " '/home/bay001/projects/kris_apobec_20200121/permanent_data/final_analysis/01_SAILOR_bulk_rnaseq/outputs/ABCE1-1000_S15_L002_R1_001_a0_b0_e0.01/results/ABCE1-1000_S15_L002_R1_001.fastqTr.sorted.STARUnmapped.out.sorted.STARAligned.out.sorted_a0_b0_e0.01.fwd.sorted.rmdup.readfiltered.bam']"
      ]
     },
     "execution_count": 5,
     "metadata": {},
     "output_type": "execute_result"
    }
   ],
   "source": [
    "fwd_bam_files = sorted(glob.glob(os.path.join(input_dir, '*/results/*.fwd.*readfiltered.bam')))\n",
    "print(len(fwd_bam_files))\n",
    "fwd_bam_files[:3]"
   ]
  },
  {
   "cell_type": "code",
   "execution_count": 6,
   "metadata": {},
   "outputs": [
    {
     "data": {
      "text/plain": [
       "25"
      ]
     },
     "execution_count": 6,
     "metadata": {},
     "output_type": "execute_result"
    }
   ],
   "source": [
    "cmds = []\n",
    "for fwd in fwd_bam_files:\n",
    "    \n",
    "    rev = fwd.replace(\n",
    "        '.fwd.sorted.rmdup.readfiltered.bam',\n",
    "        '.rev.sorted.rmdup.readfiltered.bam'\n",
    "    )\n",
    "    merged = os.path.join(\n",
    "        output_dir, os.path.basename(fwd).replace(\n",
    "            '.fwd.sorted.rmdup.readfiltered.bam',\n",
    "            '.merged.sorted.rmdup.readfiltered.bam'\n",
    "        )\n",
    "    )\n",
    "    merged_sorted = os.path.join(\n",
    "        output_dir, os.path.basename(fwd).replace(\n",
    "            '.fwd.sorted.rmdup.readfiltered.bam',\n",
    "            '.merged.sorted.rmdup.readfiltered.sorted.bam'\n",
    "        )\n",
    "    )\n",
    "    if not os.path.exists(merged_sorted):\n",
    "        assert os.path.exists(rev)\n",
    "        cmd = 'module load samtools;samtools merge -f {} {} {};'.format(\n",
    "            merged,\n",
    "            fwd,\n",
    "            rev\n",
    "        )\n",
    "        cmd += 'samtools sort {} > {};'.format(merged, merged_sorted)\n",
    "        cmd += 'samtools index {}'.format(merged_sorted)\n",
    "        cmds.append(cmd)\n",
    "        \n",
    "len(cmds)"
   ]
  },
  {
   "cell_type": "code",
   "execution_count": 7,
   "metadata": {},
   "outputs": [
    {
     "data": {
      "application/vnd.jupyter.widget-view+json": {
       "model_id": "ad1fd6b05e6c4b99af653b727543dd66",
       "version_major": 2,
       "version_minor": 0
      },
      "text/plain": [
       "HBox(children=(IntProgress(value=0, max=25), HTML(value='')))"
      ]
     },
     "metadata": {},
     "output_type": "display_data"
    },
    {
     "name": "stdout",
     "output_type": "stream",
     "text": [
      "[bam_sort_core] merging from 15 files and 1 in-memory blocks...\n",
      "[bam_sort_core] merging from 10 files and 1 in-memory blocks...\n",
      "[bam_sort_core] merging from 14 files and 1 in-memory blocks...\n",
      "[bam_sort_core] merging from 14 files and 1 in-memory blocks...\n",
      "[bam_sort_core] merging from 13 files and 1 in-memory blocks...\n",
      "[bam_sort_core] merging from 13 files and 1 in-memory blocks...\n",
      "[bam_sort_core] merging from 14 files and 1 in-memory blocks...\n",
      "[bam_sort_core] merging from 14 files and 1 in-memory blocks...\n",
      "[bam_sort_core] merging from 15 files and 1 in-memory blocks...\n",
      "[bam_sort_core] merging from 13 files and 1 in-memory blocks...\n",
      "[bam_sort_core] merging from 5 files and 1 in-memory blocks...\n",
      "[bam_sort_core] merging from 7 files and 1 in-memory blocks...\n",
      "[bam_sort_core] merging from 10 files and 1 in-memory blocks...\n",
      "[bam_sort_core] merging from 13 files and 1 in-memory blocks...\n",
      "[bam_sort_core] merging from 14 files and 1 in-memory blocks...\n",
      "[bam_sort_core] merging from 7 files and 1 in-memory blocks...\n",
      "[bam_sort_core] merging from 18 files and 1 in-memory blocks...\n",
      "[bam_sort_core] merging from 17 files and 1 in-memory blocks...\n",
      "[bam_sort_core] merging from 10 files and 1 in-memory blocks...\n",
      "[bam_sort_core] merging from 14 files and 1 in-memory blocks...\n",
      "[bam_sort_core] merging from 14 files and 1 in-memory blocks...\n",
      "[bam_sort_core] merging from 7 files and 1 in-memory blocks...\n",
      "[bam_sort_core] merging from 9 files and 1 in-memory blocks...\n",
      "[bam_sort_core] merging from 8 files and 1 in-memory blocks...\n"
     ]
    }
   ],
   "source": [
    "progress = tnrange(len(cmds))\n",
    "for cmd in cmds:\n",
    "    ! $cmd\n",
    "    progress.update(1)"
   ]
  },
  {
   "cell_type": "code",
   "execution_count": 8,
   "metadata": {},
   "outputs": [],
   "source": [
    "# generate bedgraphs by edit fraction in another notebook."
   ]
  }
 ],
 "metadata": {
  "kernelspec": {
   "display_name": "python3-essential-tscc",
   "language": "python",
   "name": "python3essentialtscc"
  },
  "language_info": {
   "codemirror_mode": {
    "name": "ipython",
    "version": 3
   },
   "file_extension": ".py",
   "mimetype": "text/x-python",
   "name": "python",
   "nbconvert_exporter": "python",
   "pygments_lexer": "ipython3",
   "version": "3.6.7"
  }
 },
 "nbformat": 4,
 "nbformat_minor": 2
}
