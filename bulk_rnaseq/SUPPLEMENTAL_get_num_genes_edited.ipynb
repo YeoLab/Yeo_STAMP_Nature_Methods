{
 "cells": [
  {
   "cell_type": "code",
   "execution_count": 1,
   "metadata": {},
   "outputs": [],
   "source": [
    "import os\n",
    "import glob\n",
    "import pandas as pd\n",
    "import numpy as np\n",
    "import os\n",
    "import pysam\n",
    "from tqdm import tnrange, tqdm_notebook"
   ]
  },
  {
   "cell_type": "code",
   "execution_count": 2,
   "metadata": {},
   "outputs": [],
   "source": [
    "input_dir = '/home/bay001/projects/kris_apobec_20200121/permanent_data/final_analysis/01_SAILOR_bulk_rnaseq/outputs/combined_outputs_w_cov_info/'\n",
    "output_dir = '/home/bay001/projects/kris_apobec_20200121/permanent_data/final_analysis/'"
   ]
  },
  {
   "cell_type": "code",
   "execution_count": 3,
   "metadata": {},
   "outputs": [
    {
     "data": {
      "text/plain": [
       "133"
      ]
     },
     "execution_count": 3,
     "metadata": {},
     "output_type": "execute_result"
    }
   ],
   "source": [
    "all_edits = sorted(glob.glob(os.path.join(input_dir, '*.annotated')))\n",
    "len(all_edits)"
   ]
  },
  {
   "cell_type": "code",
   "execution_count": 4,
   "metadata": {},
   "outputs": [
    {
     "data": {
      "application/vnd.jupyter.widget-view+json": {
       "model_id": "616daa21e3ce408d8c9380624e8821f1",
       "version_major": 2,
       "version_minor": 0
      },
      "text/plain": [
       "HBox(children=(IntProgress(value=0, max=133), HTML(value='')))"
      ]
     },
     "metadata": {},
     "output_type": "display_data"
    }
   ],
   "source": [
    "def get_conf_genes_edited(fn, conf):\n",
    "    df = pd.read_csv(fn, sep='\\t', names=['chrom','start','end','name','score','strand', 'geneid', 'genename', 'region', 'annotation'])\n",
    "    df = df[df['name']>=conf]\n",
    "    return len(set(df['geneid']))\n",
    "\n",
    "progress = tnrange(len(all_edits))\n",
    "with open(os.path.join(output_dir, 'edit_genes_nums.tsv'), 'w') as o:\n",
    "    for edits in all_edits:\n",
    "        o.write(\"{}\\t{}\\t{}\\t{}\\n\".format(\n",
    "            os.path.basename(edits.replace('.fastqTr.sorted.STARUnmapped.out.sorted.STARAligned.out.sorted','').replace('_a0_b0_e0.01.annotated','')),\n",
    "            get_conf_genes_edited(edits, 0.0),\n",
    "            get_conf_genes_edited(edits, 0.9),\n",
    "            get_conf_genes_edited(edits, 0.99)\n",
    "        ))\n",
    "        progress.update(1)"
   ]
  }
 ],
 "metadata": {
  "kernelspec": {
   "display_name": "python3-essential-tscc",
   "language": "python",
   "name": "python3essentialtscc"
  },
  "language_info": {
   "codemirror_mode": {
    "name": "ipython",
    "version": 3
   },
   "file_extension": ".py",
   "mimetype": "text/x-python",
   "name": "python",
   "nbconvert_exporter": "python",
   "pygments_lexer": "ipython3",
   "version": "3.6.7"
  }
 },
 "nbformat": 4,
 "nbformat_minor": 2
}
