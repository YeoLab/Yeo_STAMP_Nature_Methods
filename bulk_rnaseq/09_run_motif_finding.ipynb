{
 "cells": [
  {
   "cell_type": "code",
   "execution_count": 1,
   "metadata": {},
   "outputs": [],
   "source": [
    "%matplotlib inline\n",
    "import matplotlib.pyplot as plt\n",
    "import seaborn as sns\n",
    "import glob\n",
    "import os\n",
    "import pandas as pd\n",
    "import numpy as np\n",
    "import os\n",
    "import pybedtools\n",
    "import warnings\n",
    "warnings.simplefilter(action='ignore', category=FutureWarning)\n",
    "from qtools import Submitter\n",
    "from tqdm import tnrange, tqdm_notebook"
   ]
  },
  {
   "cell_type": "code",
   "execution_count": 6,
   "metadata": {},
   "outputs": [],
   "source": [
    "input_dir = '/home/bay001/'\n",
    "# input_dir = '/home/bay001/projects/kris_apobec_20200121/permanent_data/final_analysis/01_SAILOR_bulk_rnaseq/outputs/combined_outputs_w_cov_info/pass6/'\n",
    "# output_dir = '/home/bay001/projects/kris_apobec_20200121/permanent_data/final_analysis/01_SAILOR_bulk_rnaseq/outputs/combined_outputs_w_cov_info/pass6/'\n",
    "output_dir = '/home/bay001/scratch/apobec'\n",
    "bash_script_dir = '/home/bay001/projects/kris_apobec_20200121/permanent_data/final_analysis/01_SAILOR_bulk_rnaseq/bash_scripts/'"
   ]
  },
  {
   "cell_type": "code",
   "execution_count": 15,
   "metadata": {},
   "outputs": [
    {
     "name": "stdout",
     "output_type": "stream",
     "text": [
      "16\n"
     ]
    },
    {
     "data": {
      "text/plain": [
       "['/home/bay001/peaks_merged_0.0.bed',\n",
       " '/home/bay001/peaks_merged_0.00949667616334283.bed',\n",
       " '/home/bay001/peaks_merged_0.01899335232668566.bed']"
      ]
     },
     "execution_count": 15,
     "metadata": {},
     "output_type": "execute_result"
    }
   ],
   "source": [
    "all_windows = sorted(glob.glob(os.path.join(input_dir, 'peaks_merged*.bed')))\n",
    "print(len(all_windows))\n",
    "all_windows[:3]"
   ]
  },
  {
   "cell_type": "markdown",
   "metadata": {},
   "source": [
    "# Read in one of them and check on IGV"
   ]
  },
  {
   "cell_type": "code",
   "execution_count": null,
   "metadata": {},
   "outputs": [],
   "source": [
    "def choose_bins(df, n_bins):\n",
    "    n = int(df.shape[0]*0.005)\n",
    "\n",
    "    # print(\"Setting the ranges without the top {} values\".format(n))\n",
    "    min_score = 0\n",
    "    max_score = df.sort_values('score', ascending=False)[n:]['score'].max()\n",
    "\n",
    "    ticklabels = [round(c, 4) for c in np.arange(min_score, max_score, max_score/n_bins)]\n",
    "    # print(ticklabels)\n",
    "    return list(np.arange(min_score, max_score, max_score/n_bins)), ticklabels\n",
    "\n",
    "    \n",
    "def calculate_stuff(\n",
    "    window_file, \n",
    "    conf, \n",
    "    n_bins=10,\n",
    "    score_column='edited_over_all_c', \n",
    "):\n",
    "    \n",
    "    # Filter and subset our main dataframe.\n",
    "    df = pd.read_csv(window_file, sep='\\t')\n",
    "    df['region'] = df['name'].apply(lambda x:x.split('|')[1])\n",
    "    df['geneid'] = df['name'].apply(lambda x:x.split('|')[0])\n",
    "    df = df[(df['region']=='CDS') | (df['region']=='3utr')]\n",
    "    df = df[df['score'] > conf]\n",
    "    df.sort_values(by=['chrom','start','end','strand'], ascending=True, inplace=True)\n",
    "    dfbt = pybedtools.BedTool.from_dataframe(df[['chrom','start','end','geneid',score_column,'strand']])\n",
    "    \n",
    "    # bedtools cluster performs a 'merge' but instead of merging, assigns each merged group with an ID (thickStart).\n",
    "    # We can ensure non-overlapping windows by sorting by 'score' (highest to lowest) and removing duplicate cluster IDs, keeping the first one only.  \n",
    "    nonoverlapping = dfbt.cluster().to_dataframe()\n",
    "    nonoverlapping.sort_values(by=['score'], ascending=False, inplace=True)\n",
    "    nonoverlapping.drop_duplicates(['thickStart'], keep='first', inplace=True)\n",
    "    nonoverlapping.sort_values(by=['chrom','start','end','strand'], inplace=True)\n",
    "\n",
    "    # we no longer need the cluster ID\n",
    "    nonoverlapping = nonoverlapping[['chrom','start','end','name','score','strand']]\n",
    "    dfbt = pybedtools.BedTool.from_dataframe(df[['chrom','start','end','geneid',score_column,'strand']])\n",
    "    \n",
    "    assert pybedtools.BedTool.from_dataframe(nonoverlapping).sort().merge(s=True, c=(4,5,6), o=('collapse','collapse','distinct')).to_dataframe().shape[0] == nonoverlapping.shape[0]\n",
    "    \n",
    "    bins, ticklabels = choose_bins(nonoverlapping, n_bins=n_bins)\n",
    "    \n",
    "    nonoverlapping['bin'] = nonoverlapping[['score']].apply(\n",
    "        lambda x : pd.cut(\n",
    "            x, \n",
    "            ([-1] + bins),\n",
    "            labels=ticklabels\n",
    "        )\n",
    "    )\n",
    "    nonoverlapping['bin'].fillna(1, inplace=True)\n",
    "    \n",
    "    return nonoverlapping"
   ]
  },
  {
   "cell_type": "code",
   "execution_count": null,
   "metadata": {},
   "outputs": [],
   "source": [
    "progress = tnrange(len(all_windows))\n",
    "for windows in all_windows:\n",
    "    motifs_df = calculate_stuff(windows, conf=0.5, score_column='edited_over_all_c')\n",
    "    i = 0\n",
    "    for threshold in sorted(list(set(motifs_df['bin']))):\n",
    "        output_file = os.path.join(\n",
    "            output_dir, \n",
    "            os.path.splitext(os.path.basename(windows))[0] + \".bin{}.bed\".format(i)\n",
    "        )\n",
    "        if not os.path.exists(output_file):\n",
    "            df = motifs_df[motifs_df['bin']>=threshold]\n",
    "            df.sort_values(by='score', inplace=True, ascending=False)\n",
    "            df[['chrom','start','end','name','score','strand']].to_csv(\n",
    "                output_file, \n",
    "                sep='\\t', \n",
    "                header=False, \n",
    "                index=False\n",
    "            )\n",
    "        i+=1\n",
    "    progress.update(1)"
   ]
  },
  {
   "cell_type": "markdown",
   "metadata": {},
   "source": [
    "# Call motifs"
   ]
  },
  {
   "cell_type": "code",
   "execution_count": null,
   "metadata": {},
   "outputs": [],
   "source": [
    "all_bedfiles = sorted(glob.glob(os.path.join(output_dir, '*.bed')))\n",
    "len(all_bedfiles)"
   ]
  },
  {
   "cell_type": "code",
   "execution_count": 16,
   "metadata": {},
   "outputs": [],
   "source": [
    "genome_fasta = '/projects/ps-yeolab3/bay001/annotations/hg19/hg19.fa'\n",
    "cmds = []\n",
    "for bed in all_windows:\n",
    "    if not os.path.exists(os.path.join(output_dir, os.path.splitext(os.path.basename(bed))[0])):\n",
    "        out_homer_dir = os.path.join(output_dir, os.path.splitext(os.path.basename(bed))[0])\n",
    "        out_file = out_homer_dir + '.svg'\n",
    "        out_pickle_file = out_homer_dir + '.pickle'\n",
    "        cmd = 'module load eclipanalysis/0.0.3a;analyze_motifs '\n",
    "        cmd += '--peaks {} '.format(bed)\n",
    "        cmd += '--out_pickle_file {} '.format(out_pickle_file)\n",
    "        cmd += '--out_file {} '.format(out_file)\n",
    "        cmd += '--species hg19 '\n",
    "        cmd += '--out_homer_dir {} '.format(out_homer_dir)\n",
    "        cmd += '--genome_fasta {} '.format(genome_fasta)\n",
    "        cmds.append(cmd)"
   ]
  },
  {
   "cell_type": "code",
   "execution_count": 17,
   "metadata": {},
   "outputs": [
    {
     "data": {
      "text/plain": [
       "['module load eclipanalysis/0.0.3a;analyze_motifs --peaks /home/bay001/peaks_merged_0.0.bed --out_pickle_file /home/bay001/scratch/apobec/peaks_merged_0.0.pickle --out_file /home/bay001/scratch/apobec/peaks_merged_0.0.svg --species hg19 --out_homer_dir /home/bay001/scratch/apobec/peaks_merged_0.0 --genome_fasta /projects/ps-yeolab3/bay001/annotations/hg19/hg19.fa ',\n",
       " 'module load eclipanalysis/0.0.3a;analyze_motifs --peaks /home/bay001/peaks_merged_0.00949667616334283.bed --out_pickle_file /home/bay001/scratch/apobec/peaks_merged_0.00949667616334283.pickle --out_file /home/bay001/scratch/apobec/peaks_merged_0.00949667616334283.svg --species hg19 --out_homer_dir /home/bay001/scratch/apobec/peaks_merged_0.00949667616334283 --genome_fasta /projects/ps-yeolab3/bay001/annotations/hg19/hg19.fa ',\n",
       " 'module load eclipanalysis/0.0.3a;analyze_motifs --peaks /home/bay001/peaks_merged_0.01899335232668566.bed --out_pickle_file /home/bay001/scratch/apobec/peaks_merged_0.01899335232668566.pickle --out_file /home/bay001/scratch/apobec/peaks_merged_0.01899335232668566.svg --species hg19 --out_homer_dir /home/bay001/scratch/apobec/peaks_merged_0.01899335232668566 --genome_fasta /projects/ps-yeolab3/bay001/annotations/hg19/hg19.fa ',\n",
       " 'module load eclipanalysis/0.0.3a;analyze_motifs --peaks /home/bay001/peaks_merged_0.02849002849002849.bed --out_pickle_file /home/bay001/scratch/apobec/peaks_merged_0.02849002849002849.pickle --out_file /home/bay001/scratch/apobec/peaks_merged_0.02849002849002849.svg --species hg19 --out_homer_dir /home/bay001/scratch/apobec/peaks_merged_0.02849002849002849 --genome_fasta /projects/ps-yeolab3/bay001/annotations/hg19/hg19.fa ',\n",
       " 'module load eclipanalysis/0.0.3a;analyze_motifs --peaks /home/bay001/peaks_merged_0.03798670465337132.bed --out_pickle_file /home/bay001/scratch/apobec/peaks_merged_0.03798670465337132.pickle --out_file /home/bay001/scratch/apobec/peaks_merged_0.03798670465337132.svg --species hg19 --out_homer_dir /home/bay001/scratch/apobec/peaks_merged_0.03798670465337132 --genome_fasta /projects/ps-yeolab3/bay001/annotations/hg19/hg19.fa ',\n",
       " 'module load eclipanalysis/0.0.3a;analyze_motifs --peaks /home/bay001/peaks_merged_0.047483380816714146.bed --out_pickle_file /home/bay001/scratch/apobec/peaks_merged_0.047483380816714146.pickle --out_file /home/bay001/scratch/apobec/peaks_merged_0.047483380816714146.svg --species hg19 --out_homer_dir /home/bay001/scratch/apobec/peaks_merged_0.047483380816714146 --genome_fasta /projects/ps-yeolab3/bay001/annotations/hg19/hg19.fa ',\n",
       " 'module load eclipanalysis/0.0.3a;analyze_motifs --peaks /home/bay001/peaks_merged_0.05698005698005698.bed --out_pickle_file /home/bay001/scratch/apobec/peaks_merged_0.05698005698005698.pickle --out_file /home/bay001/scratch/apobec/peaks_merged_0.05698005698005698.svg --species hg19 --out_homer_dir /home/bay001/scratch/apobec/peaks_merged_0.05698005698005698 --genome_fasta /projects/ps-yeolab3/bay001/annotations/hg19/hg19.fa ',\n",
       " 'module load eclipanalysis/0.0.3a;analyze_motifs --peaks /home/bay001/peaks_merged_0.0664767331433998.bed --out_pickle_file /home/bay001/scratch/apobec/peaks_merged_0.0664767331433998.pickle --out_file /home/bay001/scratch/apobec/peaks_merged_0.0664767331433998.svg --species hg19 --out_homer_dir /home/bay001/scratch/apobec/peaks_merged_0.0664767331433998 --genome_fasta /projects/ps-yeolab3/bay001/annotations/hg19/hg19.fa ',\n",
       " 'module load eclipanalysis/0.0.3a;analyze_motifs --peaks /home/bay001/peaks_merged_0.07597340930674264.bed --out_pickle_file /home/bay001/scratch/apobec/peaks_merged_0.07597340930674264.pickle --out_file /home/bay001/scratch/apobec/peaks_merged_0.07597340930674264.svg --species hg19 --out_homer_dir /home/bay001/scratch/apobec/peaks_merged_0.07597340930674264 --genome_fasta /projects/ps-yeolab3/bay001/annotations/hg19/hg19.fa ',\n",
       " 'module load eclipanalysis/0.0.3a;analyze_motifs --peaks /home/bay001/peaks_merged_0.08547008547008547.bed --out_pickle_file /home/bay001/scratch/apobec/peaks_merged_0.08547008547008547.pickle --out_file /home/bay001/scratch/apobec/peaks_merged_0.08547008547008547.svg --species hg19 --out_homer_dir /home/bay001/scratch/apobec/peaks_merged_0.08547008547008547 --genome_fasta /projects/ps-yeolab3/bay001/annotations/hg19/hg19.fa ',\n",
       " 'module load eclipanalysis/0.0.3a;analyze_motifs --peaks /home/bay001/peaks_merged_0.09496676163342829.bed --out_pickle_file /home/bay001/scratch/apobec/peaks_merged_0.09496676163342829.pickle --out_file /home/bay001/scratch/apobec/peaks_merged_0.09496676163342829.svg --species hg19 --out_homer_dir /home/bay001/scratch/apobec/peaks_merged_0.09496676163342829 --genome_fasta /projects/ps-yeolab3/bay001/annotations/hg19/hg19.fa ',\n",
       " 'module load eclipanalysis/0.0.3a;analyze_motifs --peaks /home/bay001/peaks_merged_0.10446343779677113.bed --out_pickle_file /home/bay001/scratch/apobec/peaks_merged_0.10446343779677113.pickle --out_file /home/bay001/scratch/apobec/peaks_merged_0.10446343779677113.svg --species hg19 --out_homer_dir /home/bay001/scratch/apobec/peaks_merged_0.10446343779677113 --genome_fasta /projects/ps-yeolab3/bay001/annotations/hg19/hg19.fa ',\n",
       " 'module load eclipanalysis/0.0.3a;analyze_motifs --peaks /home/bay001/peaks_merged_0.11396011396011396.bed --out_pickle_file /home/bay001/scratch/apobec/peaks_merged_0.11396011396011396.pickle --out_file /home/bay001/scratch/apobec/peaks_merged_0.11396011396011396.svg --species hg19 --out_homer_dir /home/bay001/scratch/apobec/peaks_merged_0.11396011396011396 --genome_fasta /projects/ps-yeolab3/bay001/annotations/hg19/hg19.fa ',\n",
       " 'module load eclipanalysis/0.0.3a;analyze_motifs --peaks /home/bay001/peaks_merged_0.12345679012345678.bed --out_pickle_file /home/bay001/scratch/apobec/peaks_merged_0.12345679012345678.pickle --out_file /home/bay001/scratch/apobec/peaks_merged_0.12345679012345678.svg --species hg19 --out_homer_dir /home/bay001/scratch/apobec/peaks_merged_0.12345679012345678 --genome_fasta /projects/ps-yeolab3/bay001/annotations/hg19/hg19.fa ',\n",
       " 'module load eclipanalysis/0.0.3a;analyze_motifs --peaks /home/bay001/peaks_merged_0.1329534662867996.bed --out_pickle_file /home/bay001/scratch/apobec/peaks_merged_0.1329534662867996.pickle --out_file /home/bay001/scratch/apobec/peaks_merged_0.1329534662867996.svg --species hg19 --out_homer_dir /home/bay001/scratch/apobec/peaks_merged_0.1329534662867996 --genome_fasta /projects/ps-yeolab3/bay001/annotations/hg19/hg19.fa ',\n",
       " 'module load eclipanalysis/0.0.3a;analyze_motifs --peaks /home/bay001/peaks_merged_0.14245014245014245.bed --out_pickle_file /home/bay001/scratch/apobec/peaks_merged_0.14245014245014245.pickle --out_file /home/bay001/scratch/apobec/peaks_merged_0.14245014245014245.svg --species hg19 --out_homer_dir /home/bay001/scratch/apobec/peaks_merged_0.14245014245014245 --genome_fasta /projects/ps-yeolab3/bay001/annotations/hg19/hg19.fa ']"
      ]
     },
     "execution_count": 17,
     "metadata": {},
     "output_type": "execute_result"
    }
   ],
   "source": [
    "cmds"
   ]
  },
  {
   "cell_type": "code",
   "execution_count": 18,
   "metadata": {},
   "outputs": [
    {
     "name": "stderr",
     "output_type": "stream",
     "text": [
      "Writing 16 tasks as an array-job.\n",
      "Wrote commands to /home/bay001/projects/kris_apobec_20200121/permanent_data/final_analysis/01_SAILOR_bulk_rnaseq/bash_scripts/motif_analysis5.sh.\n",
      "Submitted script to queue home.\n",
      " Job ID: 21186489\n"
     ]
    },
    {
     "data": {
      "text/plain": [
       "<qtools.submitter.Submitter at 0x2ba84b4d6350>"
      ]
     },
     "execution_count": 18,
     "metadata": {},
     "output_type": "execute_result"
    }
   ],
   "source": [
    "Submitter(\n",
    "    cmds, \n",
    "    'motif_analysis3', \n",
    "    sh=os.path.join(bash_script_dir, 'motif_analysis5.sh'), \n",
    "    nodes=1, \n",
    "    ppn=1, \n",
    "    array=True, \n",
    "    submit=True, \n",
    "    walltime='40:00:00'\n",
    ")"
   ]
  },
  {
   "cell_type": "code",
   "execution_count": null,
   "metadata": {},
   "outputs": [],
   "source": []
  }
 ],
 "metadata": {
  "kernelspec": {
   "display_name": "python2-essential",
   "language": "python",
   "name": "python2-essential"
  },
  "language_info": {
   "codemirror_mode": {
    "name": "ipython",
    "version": 2
   },
   "file_extension": ".py",
   "mimetype": "text/x-python",
   "name": "python",
   "nbconvert_exporter": "python",
   "pygments_lexer": "ipython2",
   "version": "2.7.15"
  }
 },
 "nbformat": 4,
 "nbformat_minor": 2
}
