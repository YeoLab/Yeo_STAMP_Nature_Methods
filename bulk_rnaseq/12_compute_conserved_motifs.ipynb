{
 "cells": [
  {
   "cell_type": "markdown",
   "metadata": {},
   "source": [
    "# Runs through and finds the most conserved (rbfox2) motifs\n",
    "- comments out some of these blocks since they're a part of scoring/file creation which takes awhile. Once the files are made, no need to run through again."
   ]
  },
  {
   "cell_type": "code",
   "execution_count": 1,
   "metadata": {},
   "outputs": [],
   "source": [
    "%matplotlib inline\n",
    "import warnings\n",
    "warnings.filterwarnings(\"ignore\")\n",
    "\n",
    "import matplotlib.pyplot as plt\n",
    "import seaborn as sns\n",
    "import pandas as pd\n",
    "import numpy as np\n",
    "import glob\n",
    "import pybedtools\n",
    "import pyBigWig\n",
    "import os\n",
    "from scipy import stats\n",
    "from tqdm import tnrange, tqdm_notebook\n",
    "from collections import defaultdict"
   ]
  },
  {
   "cell_type": "code",
   "execution_count": 2,
   "metadata": {},
   "outputs": [],
   "source": [
    "input_dir = '/home/bay001/projects/kris_apobec_20200121/permanent_data/final_analysis/01_SAILOR_bulk_rnaseq/outputs/motif_coords/'\n",
    "output_dir = '/home/bay001/projects/kris_apobec_20200121/permanent_data/final_analysis/01_SAILOR_bulk_rnaseq/outputs/motif_coords/'"
   ]
  },
  {
   "cell_type": "code",
   "execution_count": 3,
   "metadata": {},
   "outputs": [],
   "source": [
    "phastcons_file = '/projects/ps-yeolab3/bay001/annotations/conservation/hg19.phastCons46way.placental.wigFix.bw'\n",
    "motifs_file = os.path.join(input_dir, 'GCATG_RBFOX_MOTIF_POSITIONS_ALL.annotated') # these were annotated in a strand-specific manner, so positions on the opposite strand of a gene will mostly be labeled intergenic (unless there is an overlapping antisense thing going on)"
   ]
  },
  {
   "cell_type": "markdown",
   "metadata": {},
   "source": [
    "# Use a modified function to get conservation scores from bigwig file"
   ]
  },
  {
   "cell_type": "code",
   "execution_count": 4,
   "metadata": {},
   "outputs": [],
   "source": [
    "class Density:\n",
    "    def values(self, chrom, start, end, strand):\n",
    "        return 0\n",
    "    \n",
    "class Phastcon(Density):\n",
    "\n",
    "    def __init__(self, phastcon, name=None):\n",
    "        try:\n",
    "            self.phastcon = pyBigWig.open(phastcon)\n",
    "            self.name = name if name is not None else os.path.basename(phastcon)\n",
    "        except Exception as e:\n",
    "            print(\"couldn't open the bigwig file!\")\n",
    "            print(e)\n",
    "\n",
    "    def values(self, chrom, start, end, strand):\n",
    "        \"\"\"\n",
    "        Parameters\n",
    "        ----------\n",
    "        chrom : basestring\n",
    "            (eg. chr1)\n",
    "        start : int\n",
    "            0-based start (first position in chromosome is 0)\n",
    "        end : int\n",
    "            1-based end (last position is not included)\n",
    "        strand : str\n",
    "            either '+' or '-'\n",
    "        Returns\n",
    "        -------\n",
    "        densites : list\n",
    "            values corresponding to density over specified positions.\n",
    "        \"\"\"\n",
    "\n",
    "        try:\n",
    "            if strand == \"+\":\n",
    "                return self.phastcon.values(chrom, start, end)\n",
    "            elif strand == \"-\":\n",
    "                return list(reversed(self.phastcon.values(chrom, start, end)))\n",
    "            else:\n",
    "                print(\"Strand neither + or -\")\n",
    "                return 1\n",
    "        except RuntimeError:\n",
    "            # usually occurs when no chromosome exists in the bigwig file\n",
    "            return [np.NaN] * abs(start - end)\n",
    "        \n",
    "    def avg_cons(self, chrom, start, end, strand):\n",
    "        \n",
    "        values = pd.Series(self.values(chrom, start, end, strand))\n",
    "        values.fillna(0, inplace=True)\n",
    "        return values.mean()\n",
    "        "
   ]
  },
  {
   "cell_type": "code",
   "execution_count": 5,
   "metadata": {},
   "outputs": [],
   "source": [
    "cd = Phastcon(phastcons_file)"
   ]
  },
  {
   "cell_type": "code",
   "execution_count": 6,
   "metadata": {},
   "outputs": [
    {
     "data": {
      "text/plain": [
       "[0.9309999942779541,\n",
       " 0.9340000152587891,\n",
       " 0.9350000023841858,\n",
       " 0.9350000023841858,\n",
       " 0.9330000281333923]"
      ]
     },
     "execution_count": 6,
     "metadata": {},
     "output_type": "execute_result"
    }
   ],
   "source": [
    "cd.values('chrY',28438600,28438605,'-') # 'chr10:180750-180776'chrY \t28438600 \t28438605"
   ]
  },
  {
   "cell_type": "markdown",
   "metadata": {},
   "source": [
    "# Motifs file contains every position where I found either GCATG or its reverse complement (CATGC). \n",
    "- Let's try to use annotator to select correctly-stranded regions. If we cannot identify a position on its specified strand, can we assume that it's not really a true motif?"
   ]
  },
  {
   "cell_type": "raw",
   "metadata": {},
   "source": [
    "annotated_names = [\n",
    "    'chrom','start','end','name','score','strand',\n",
    "    'geneid','genename','region','annotation'\n",
    "]\n",
    "motifs = pd.read_csv(motifs_file, sep='\\t', names=annotated_names)\n",
    "motifs.head()"
   ]
  },
  {
   "cell_type": "markdown",
   "metadata": {},
   "source": [
    "### Let's just test to make sure we can definitively say the above assumption is true."
   ]
  },
  {
   "cell_type": "raw",
   "metadata": {},
   "source": [
    "motifs = motifs[['chrom','start','end','geneid','score','strand']]\n",
    "\n",
    "genic_motifs = motifs[motifs['geneid']!='intergenic']\n",
    "intergenic_motifs = motifs[motifs['geneid']=='intergenic']\n",
    "\n",
    "print(\"Found {} genic motifs and {} intergenic motifs\".format(genic_motifs.shape[0], intergenic_motifs.shape[0]))\n",
    "\n",
    "# Found 3395630 genic motifs and 8023621 intergenic motifs"
   ]
  },
  {
   "cell_type": "raw",
   "metadata": {},
   "source": [
    "genic_motifs_bt = pybedtools.BedTool.from_dataframe(genic_motifs)\n",
    "intergenic_motifs_bt = pybedtools.BedTool.from_dataframe(intergenic_motifs)"
   ]
  },
  {
   "cell_type": "raw",
   "metadata": {},
   "source": [
    "def stringify(interval):\n",
    "    return \"{}:{}-{}:{}\".format(\n",
    "        interval.chrom,\n",
    "        interval.start,\n",
    "        interval.end,\n",
    "        interval.strand\n",
    "    )"
   ]
  },
  {
   "cell_type": "raw",
   "metadata": {},
   "source": [
    "genic_phastcon_scores = defaultdict()\n",
    "genic_phastcon_total = 0\n",
    "intergenic_phastcon_scores = defaultdict()\n",
    "intergenic_phastcon_total = 0\n",
    "\n",
    "progress = tnrange(genic_motifs.shape[0])\n",
    "for interval in genic_motifs_bt:\n",
    "    avg_cons = cd.avg_cons(interval.chrom, interval.start, interval.end, interval.strand)\n",
    "    genic_phastcon_scores[stringify(interval)] = avg_cons\n",
    "    genic_phastcon_total += avg_cons\n",
    "    progress.update(1)\n",
    "    \n",
    "progress = tnrange(intergenic_motifs.shape[0])\n",
    "for interval in intergenic_motifs_bt:\n",
    "    avg_cons = cd.avg_cons(interval.chrom, interval.start, interval.end, interval.strand)\n",
    "    intergenic_phastcon_scores[stringify(interval)] = avg_cons\n",
    "    intergenic_phastcon_total += avg_cons\n",
    "    progress.update(1)\n"
   ]
  },
  {
   "cell_type": "raw",
   "metadata": {},
   "source": [
    "print(\n",
    "    \"Average genic phastcon score: {}, average intergenic phastcon score: {}\".format(\n",
    "        genic_phastcon_total/genic_motifs.shape[0],\n",
    "        intergenic_phastcon_total/intergenic_motifs.shape[0]\n",
    "    )\n",
    ")\n",
    "# Average genic phastcon score: 0.07799540462852061, average intergenic phastcon score: 0.06755178614135071"
   ]
  },
  {
   "cell_type": "raw",
   "metadata": {},
   "source": [
    "pd.DataFrame(genic_phastcon_scores, index=['scores']).T.to_csv(\n",
    "    os.path.join(output_dir, 'GCATG_RBFOX_MOTIF_POSITIONS_ALL_GENIC.phastCons46way.txt'),\n",
    "    sep='\\t'\n",
    ")"
   ]
  },
  {
   "cell_type": "raw",
   "metadata": {},
   "source": [
    "pd.DataFrame(intergenic_phastcon_scores, index=['scores']).T.to_csv(\n",
    "    os.path.join(output_dir, 'GCATG_RBFOX_MOTIF_POSITIONS_ALL_INTERGENIC.phastCons46way.txt'),\n",
    "    sep='\\t'\n",
    ")"
   ]
  },
  {
   "cell_type": "markdown",
   "metadata": {},
   "source": [
    "# Let's select motifs found on genic (annotated) regions. "
   ]
  },
  {
   "cell_type": "code",
   "execution_count": 7,
   "metadata": {},
   "outputs": [
    {
     "data": {
      "text/html": [
       "<div>\n",
       "<style scoped>\n",
       "    .dataframe tbody tr th:only-of-type {\n",
       "        vertical-align: middle;\n",
       "    }\n",
       "\n",
       "    .dataframe tbody tr th {\n",
       "        vertical-align: top;\n",
       "    }\n",
       "\n",
       "    .dataframe thead th {\n",
       "        text-align: right;\n",
       "    }\n",
       "</style>\n",
       "<table border=\"1\" class=\"dataframe\">\n",
       "  <thead>\n",
       "    <tr style=\"text-align: right;\">\n",
       "      <th></th>\n",
       "      <th>scores</th>\n",
       "    </tr>\n",
       "  </thead>\n",
       "  <tbody>\n",
       "    <tr>\n",
       "      <th>chr10:91096-91101:+</th>\n",
       "      <td>0.1272</td>\n",
       "    </tr>\n",
       "    <tr>\n",
       "      <th>chr10:91842-91847:+</th>\n",
       "      <td>0.0316</td>\n",
       "    </tr>\n",
       "    <tr>\n",
       "      <th>chr10:92302-92307:+</th>\n",
       "      <td>0.0624</td>\n",
       "    </tr>\n",
       "    <tr>\n",
       "      <th>chr10:92729-92734:+</th>\n",
       "      <td>0.0274</td>\n",
       "    </tr>\n",
       "    <tr>\n",
       "      <th>chr10:180760-180765:+</th>\n",
       "      <td>0.0128</td>\n",
       "    </tr>\n",
       "  </tbody>\n",
       "</table>\n",
       "</div>"
      ],
      "text/plain": [
       "                       scores\n",
       "chr10:91096-91101:+    0.1272\n",
       "chr10:91842-91847:+    0.0316\n",
       "chr10:92302-92307:+    0.0624\n",
       "chr10:92729-92734:+    0.0274\n",
       "chr10:180760-180765:+  0.0128"
      ]
     },
     "execution_count": 7,
     "metadata": {},
     "output_type": "execute_result"
    }
   ],
   "source": [
    "genic_scores = pd.read_csv(os.path.join(output_dir, 'GCATG_RBFOX_MOTIF_POSITIONS_ALL_GENIC.phastCons46way.txt'), sep='\\t', index_col=0)\n",
    "genic_scores.head()"
   ]
  },
  {
   "cell_type": "code",
   "execution_count": 8,
   "metadata": {},
   "outputs": [
    {
     "name": "stdout",
     "output_type": "stream",
     "text": [
      "1697815\n"
     ]
    },
    {
     "data": {
      "text/html": [
       "<div>\n",
       "<style scoped>\n",
       "    .dataframe tbody tr th:only-of-type {\n",
       "        vertical-align: middle;\n",
       "    }\n",
       "\n",
       "    .dataframe tbody tr th {\n",
       "        vertical-align: top;\n",
       "    }\n",
       "\n",
       "    .dataframe thead th {\n",
       "        text-align: right;\n",
       "    }\n",
       "</style>\n",
       "<table border=\"1\" class=\"dataframe\">\n",
       "  <thead>\n",
       "    <tr style=\"text-align: right;\">\n",
       "      <th></th>\n",
       "      <th>index</th>\n",
       "      <th>scores</th>\n",
       "    </tr>\n",
       "  </thead>\n",
       "  <tbody>\n",
       "    <tr>\n",
       "      <th>0</th>\n",
       "      <td>chr10:91096-91101:+</td>\n",
       "      <td>0.1272</td>\n",
       "    </tr>\n",
       "    <tr>\n",
       "      <th>1</th>\n",
       "      <td>chr10:91842-91847:+</td>\n",
       "      <td>0.0316</td>\n",
       "    </tr>\n",
       "    <tr>\n",
       "      <th>2</th>\n",
       "      <td>chr10:92302-92307:+</td>\n",
       "      <td>0.0624</td>\n",
       "    </tr>\n",
       "    <tr>\n",
       "      <th>3</th>\n",
       "      <td>chr10:92729-92734:+</td>\n",
       "      <td>0.0274</td>\n",
       "    </tr>\n",
       "    <tr>\n",
       "      <th>4</th>\n",
       "      <td>chr10:180760-180765:+</td>\n",
       "      <td>0.0128</td>\n",
       "    </tr>\n",
       "  </tbody>\n",
       "</table>\n",
       "</div>"
      ],
      "text/plain": [
       "                   index  scores\n",
       "0    chr10:91096-91101:+  0.1272\n",
       "1    chr10:91842-91847:+  0.0316\n",
       "2    chr10:92302-92307:+  0.0624\n",
       "3    chr10:92729-92734:+  0.0274\n",
       "4  chr10:180760-180765:+  0.0128"
      ]
     },
     "execution_count": 8,
     "metadata": {},
     "output_type": "execute_result"
    },
    {
     "data": {
      "image/png": "[encoded data removed]",
      "text/plain": [
       "<Figure size 432x288 with 1 Axes>"
      ]
     },
     "metadata": {
      "needs_background": "light"
     },
     "output_type": "display_data"
    }
   ],
   "source": [
    "print(genic_scores.shape[0])\n",
    "genic_scores.hist(bins=100)\n",
    "genic_scores.reset_index(inplace=True)\n",
    "genic_scores.head()"
   ]
  },
  {
   "cell_type": "code",
   "execution_count": 9,
   "metadata": {},
   "outputs": [
    {
     "name": "stdout",
     "output_type": "stream",
     "text": [
      "56326\n"
     ]
    }
   ],
   "source": [
    "# select highly conserved motifs\n",
    "genic_scores = genic_scores[genic_scores['scores']>=0.9]\n",
    "print(genic_scores.shape[0])"
   ]
  },
  {
   "cell_type": "code",
   "execution_count": 10,
   "metadata": {},
   "outputs": [
    {
     "data": {
      "text/html": [
       "<div>\n",
       "<style scoped>\n",
       "    .dataframe tbody tr th:only-of-type {\n",
       "        vertical-align: middle;\n",
       "    }\n",
       "\n",
       "    .dataframe tbody tr th {\n",
       "        vertical-align: top;\n",
       "    }\n",
       "\n",
       "    .dataframe thead th {\n",
       "        text-align: right;\n",
       "    }\n",
       "</style>\n",
       "<table border=\"1\" class=\"dataframe\">\n",
       "  <thead>\n",
       "    <tr style=\"text-align: right;\">\n",
       "      <th></th>\n",
       "      <th>chrom</th>\n",
       "      <th>start</th>\n",
       "      <th>end</th>\n",
       "      <th>index</th>\n",
       "      <th>scores</th>\n",
       "      <th>strand</th>\n",
       "    </tr>\n",
       "  </thead>\n",
       "  <tbody>\n",
       "    <tr>\n",
       "      <th>74</th>\n",
       "      <td>chr10</td>\n",
       "      <td>264199</td>\n",
       "      <td>264204</td>\n",
       "      <td>chr10:264199-264204:+</td>\n",
       "      <td>0.998</td>\n",
       "      <td>+</td>\n",
       "    </tr>\n",
       "    <tr>\n",
       "      <th>91</th>\n",
       "      <td>chr10</td>\n",
       "      <td>282841</td>\n",
       "      <td>282846</td>\n",
       "      <td>chr10:282841-282846:+</td>\n",
       "      <td>1.000</td>\n",
       "      <td>+</td>\n",
       "    </tr>\n",
       "    <tr>\n",
       "      <th>99</th>\n",
       "      <td>chr10</td>\n",
       "      <td>294441</td>\n",
       "      <td>294446</td>\n",
       "      <td>chr10:294441-294446:+</td>\n",
       "      <td>1.000</td>\n",
       "      <td>+</td>\n",
       "    </tr>\n",
       "    <tr>\n",
       "      <th>104</th>\n",
       "      <td>chr10</td>\n",
       "      <td>299431</td>\n",
       "      <td>299436</td>\n",
       "      <td>chr10:299431-299436:+</td>\n",
       "      <td>1.000</td>\n",
       "      <td>+</td>\n",
       "    </tr>\n",
       "    <tr>\n",
       "      <th>105</th>\n",
       "      <td>chr10</td>\n",
       "      <td>300204</td>\n",
       "      <td>300209</td>\n",
       "      <td>chr10:300204-300209:+</td>\n",
       "      <td>1.000</td>\n",
       "      <td>+</td>\n",
       "    </tr>\n",
       "  </tbody>\n",
       "</table>\n",
       "</div>"
      ],
      "text/plain": [
       "     chrom   start     end                  index  scores strand\n",
       "74   chr10  264199  264204  chr10:264199-264204:+   0.998      +\n",
       "91   chr10  282841  282846  chr10:282841-282846:+   1.000      +\n",
       "99   chr10  294441  294446  chr10:294441-294446:+   1.000      +\n",
       "104  chr10  299431  299436  chr10:299431-299436:+   1.000      +\n",
       "105  chr10  300204  300209  chr10:300204-300209:+   1.000      +"
      ]
     },
     "execution_count": 10,
     "metadata": {},
     "output_type": "execute_result"
    }
   ],
   "source": [
    "# format to BED:\n",
    "genic_scores['chrom'] = genic_scores['index'].apply(lambda x: x.split(':')[0])\n",
    "genic_scores['start'] = genic_scores['index'].apply(lambda x: int(x.split(':')[1].split('-')[0]))\n",
    "genic_scores['end'] = genic_scores['index'].apply(lambda x: int(x.split(':')[1].split('-')[1]))\n",
    "genic_scores['strand'] = genic_scores['index'].apply(lambda x: x.split(':')[2])\n",
    "genic_scores = genic_scores[['chrom','start','end','index','scores','strand']]\n",
    "genic_scores.head()"
   ]
  },
  {
   "cell_type": "code",
   "execution_count": null,
   "metadata": {},
   "outputs": [],
   "source": []
  },
  {
   "cell_type": "code",
   "execution_count": 11,
   "metadata": {},
   "outputs": [
    {
     "data": {
      "text/html": [
       "<div>\n",
       "<style scoped>\n",
       "    .dataframe tbody tr th:only-of-type {\n",
       "        vertical-align: middle;\n",
       "    }\n",
       "\n",
       "    .dataframe tbody tr th {\n",
       "        vertical-align: top;\n",
       "    }\n",
       "\n",
       "    .dataframe thead th {\n",
       "        text-align: right;\n",
       "    }\n",
       "</style>\n",
       "<table border=\"1\" class=\"dataframe\">\n",
       "  <thead>\n",
       "    <tr style=\"text-align: right;\">\n",
       "      <th></th>\n",
       "      <th>chrom</th>\n",
       "      <th>start</th>\n",
       "      <th>end</th>\n",
       "      <th>index</th>\n",
       "      <th>scores</th>\n",
       "      <th>strand</th>\n",
       "    </tr>\n",
       "  </thead>\n",
       "  <tbody>\n",
       "    <tr>\n",
       "      <th>1697620</th>\n",
       "      <td>chrY</td>\n",
       "      <td>27859521</td>\n",
       "      <td>27859526</td>\n",
       "      <td>chrY:27859521-27859526:-</td>\n",
       "      <td>0.9138</td>\n",
       "      <td>-</td>\n",
       "    </tr>\n",
       "    <tr>\n",
       "      <th>1697683</th>\n",
       "      <td>chrY</td>\n",
       "      <td>28344541</td>\n",
       "      <td>28344546</td>\n",
       "      <td>chrY:28344541-28344546:-</td>\n",
       "      <td>1.0000</td>\n",
       "      <td>-</td>\n",
       "    </tr>\n",
       "    <tr>\n",
       "      <th>1697708</th>\n",
       "      <td>chrY</td>\n",
       "      <td>28438600</td>\n",
       "      <td>28438605</td>\n",
       "      <td>chrY:28438600-28438605:-</td>\n",
       "      <td>0.9336</td>\n",
       "      <td>-</td>\n",
       "    </tr>\n",
       "    <tr>\n",
       "      <th>1697764</th>\n",
       "      <td>chrY</td>\n",
       "      <td>28499045</td>\n",
       "      <td>28499050</td>\n",
       "      <td>chrY:28499045-28499050:-</td>\n",
       "      <td>0.9640</td>\n",
       "      <td>-</td>\n",
       "    </tr>\n",
       "    <tr>\n",
       "      <th>1697810</th>\n",
       "      <td>chrY</td>\n",
       "      <td>59358567</td>\n",
       "      <td>59358572</td>\n",
       "      <td>chrY:59358567-59358572:-</td>\n",
       "      <td>0.9702</td>\n",
       "      <td>-</td>\n",
       "    </tr>\n",
       "  </tbody>\n",
       "</table>\n",
       "</div>"
      ],
      "text/plain": [
       "        chrom     start       end                     index  scores strand\n",
       "1697620  chrY  27859521  27859526  chrY:27859521-27859526:-  0.9138      -\n",
       "1697683  chrY  28344541  28344546  chrY:28344541-28344546:-  1.0000      -\n",
       "1697708  chrY  28438600  28438605  chrY:28438600-28438605:-  0.9336      -\n",
       "1697764  chrY  28499045  28499050  chrY:28499045-28499050:-  0.9640      -\n",
       "1697810  chrY  59358567  59358572  chrY:59358567-59358572:-  0.9702      -"
      ]
     },
     "execution_count": 11,
     "metadata": {},
     "output_type": "execute_result"
    }
   ],
   "source": [
    "genic_scores.tail()"
   ]
  },
  {
   "cell_type": "code",
   "execution_count": 12,
   "metadata": {},
   "outputs": [],
   "source": [
    "genic_scores.to_csv(os.path.join(output_dir, 'GCATG_RBFOX_MOTIF_POSITIONS_ALL_GENIC.phastCons46way.conserved.bed'), sep='\\t', index=False, header=False)"
   ]
  }
 ],
 "metadata": {
  "kernelspec": {
   "display_name": "python3-essential",
   "language": "python",
   "name": "python3-essential"
  },
  "language_info": {
   "codemirror_mode": {
    "name": "ipython",
    "version": 3
   },
   "file_extension": ".py",
   "mimetype": "text/x-python",
   "name": "python",
   "nbconvert_exporter": "python",
   "pygments_lexer": "ipython3",
   "version": "3.6.7"
  }
 },
 "nbformat": 4,
 "nbformat_minor": 2
}
