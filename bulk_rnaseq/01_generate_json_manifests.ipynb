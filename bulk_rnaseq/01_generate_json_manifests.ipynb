{
 "cells": [
  {
   "cell_type": "markdown",
   "metadata": {},
   "source": [
    "# Generates the JSON manifests that are used to run the SAILOR pipeline\n",
    "- Use the sailor/1.1.0 module that was created (modified from 1.0.5 which did not support C/T editing)."
   ]
  },
  {
   "cell_type": "code",
   "execution_count": 1,
   "metadata": {},
   "outputs": [],
   "source": [
    "import yaml\n",
    "import os\n",
    "import pandas as pd\n",
    "import glob\n",
    "from qtools import Submitter"
   ]
  },
  {
   "cell_type": "code",
   "execution_count": 2,
   "metadata": {},
   "outputs": [],
   "source": [
    "input_dir = '/home/bay001/projects/kris_apobec_20200121/permanent_data/final_analysis/01_SAILOR_bulk_rnaseq/inputs'\n",
    "output_dir = '/home/bay001/projects/kris_apobec_20200121/permanent_data/final_analysis/01_SAILOR_bulk_rnaseq/outputs'"
   ]
  },
  {
   "cell_type": "markdown",
   "metadata": {},
   "source": [
    "### Here I'm grabbing the BAM files I want to use as inputs to SAILOR"
   ]
  },
  {
   "cell_type": "code",
   "execution_count": 3,
   "metadata": {},
   "outputs": [
    {
     "name": "stdout",
     "output_type": "stream",
     "text": [
      "24\n"
     ]
    },
    {
     "data": {
      "text/plain": [
       "['/home/bay001/projects/kris_apobec_20200121/permanent_data/final_analysis/01_SAILOR_bulk_rnaseq/inputs/ApoControl-0_S7_L001_R1_001.fastqTr.sorted.STARUnmapped.out.sorted.STARAligned.out.sorted_a0_b0_e0.1.bam',\n",
       " '/home/bay001/projects/kris_apobec_20200121/permanent_data/final_analysis/01_SAILOR_bulk_rnaseq/inputs/ApoControl-0_S7_L001_R1_001.fastqTr.sorted.STARUnmapped.out.sorted.STARAligned.out.sorted_a0_b0_e0.01.bam',\n",
       " '/home/bay001/projects/kris_apobec_20200121/permanent_data/final_analysis/01_SAILOR_bulk_rnaseq/inputs/ApoControl-0_S7_L001_R1_001.fastqTr.sorted.STARUnmapped.out.sorted.STARAligned.out.sorted_a0_b0_c20.bam']"
      ]
     },
     "execution_count": 3,
     "metadata": {},
     "output_type": "execute_result"
    }
   ],
   "source": [
    "bams = glob.glob(os.path.join(input_dir, 'ApoControl*.bam'))\n",
    "print(len(bams))\n",
    "bams[:3]"
   ]
  },
  {
   "cell_type": "markdown",
   "metadata": {},
   "source": [
    "# Create JSON manifest to run SAILOR on each of the above BAM files\n",
    "- min_edit_fraction, alpha and beta scores tweak the conf score parameters. min_edit_fraction can discard many low-edit-% calls, alpha/beta can add a pseudocount if coverage isn't sufficient.\n",
    "- keep min coverage at 5 (default) \n",
    "- ct is True since we're looking for C/T edits.\n",
    "- commonSNP file from dbsnp"
   ]
  },
  {
   "cell_type": "code",
   "execution_count": 5,
   "metadata": {},
   "outputs": [
    {
     "name": "stdout",
     "output_type": "stream",
     "text": [
      "Creating: /home/bay001/projects/kris_apobec_20200121/permanent_data/final_analysis/01_SAILOR_bulk_rnaseq/outputs/RBFOX2_a0_b0_e0.01.json\n"
     ]
    }
   ],
   "source": [
    "for min_edit_fraction in [0.01]:\n",
    "    for alpha in [0]:\n",
    "        for beta in [0]:\n",
    "            for bam in bams:\n",
    "                renamed_bam = os.path.splitext(bam)[0] + '_a{}_b{}_e{}_noRmDup.bam'.format(\n",
    "                    alpha, beta, min_edit_fraction\n",
    "                )\n",
    "                # let's rename the bam file to make it easier to combine\n",
    "                if not os.path.exists(renamed_bam):\n",
    "                    ! ln -s $bam $renamed_bam\n",
    "                sample = {\"input_bam\": {\n",
    "                    'class':'File',\n",
    "                    'path':renamed_bam\n",
    "                }}\n",
    "                fa = {\"reference\": {\n",
    "                    'class':'File',\n",
    "                    'path':'/projects/ps-yeolab3/bay001/annotations/hg19/hg19.fa'\n",
    "                }}\n",
    "                known_snp = {\"known_snp\": {\n",
    "                    'class':'File',\n",
    "                    'path':'/projects/ps-yeolab3/bay001/annotations/hg19/hg19.commonSNPs147.bed3'\n",
    "                }}\n",
    "                json_file_to_create = os.path.join(\n",
    "                    output_dir, '{}_a{}_b{}_e{}_noRmDup.json'.format(\n",
    "                        os.path.basename(bam).split('.')[0], \n",
    "                        alpha, \n",
    "                        beta,\n",
    "                        min_edit_fraction\n",
    "                    )\n",
    "                )\n",
    "                if not os.path.exists(json_file_to_create):\n",
    "                    print(\"Creating: {}\".format(json_file_to_create))\n",
    "                    with open(json_file_to_create, 'w'\n",
    "                    ) as o:\n",
    "                        o.write(\"#!/usr/bin/env SAILOR\\n\")\n",
    "                        yaml.dump(sample, o, default_flow_style=False)\n",
    "                        yaml.dump(known_snp, o, default_flow_style=False)\n",
    "                        yaml.dump(fa, o, default_flow_style=False)\n",
    "                        o.write(\"ct: true\\n\")\n",
    "                        o.write(\"min_variant_coverage: 5\\n\")\n",
    "                        o.write(\"alpha: {}\\n\".format(alpha))\n",
    "                        o.write(\"beta: {}\\n\".format(beta))\n",
    "                        o.write(\"edit_fraction: {}\\n\".format(min_edit_fraction))\n",
    "                        o.write(\"skip_duplicate_removal: true\")"
   ]
  },
  {
   "cell_type": "code",
   "execution_count": 6,
   "metadata": {},
   "outputs": [
    {
     "data": {
      "text/plain": [
       "297"
      ]
     },
     "execution_count": 6,
     "metadata": {},
     "output_type": "execute_result"
    }
   ],
   "source": [
    "jsons = glob.glob(os.path.join(output_dir, '*.json'))\n",
    "len(jsons)"
   ]
  },
  {
   "cell_type": "code",
   "execution_count": 7,
   "metadata": {},
   "outputs": [
    {
     "name": "stdout",
     "output_type": "stream",
     "text": [
      "2\n"
     ]
    },
    {
     "data": {
      "text/plain": [
       "['module load sailor/1.1.0;cd /home/bay001/projects/kris_apobec_20200121/permanent_data/final_analysis/01_SAILOR_bulk_rnaseq/outputs;./APOBEC-only_a0_b0_e0.01.json',\n",
       " 'module load sailor/1.1.0;cd /home/bay001/projects/kris_apobec_20200121/permanent_data/final_analysis/01_SAILOR_bulk_rnaseq/outputs;./RBFOX2_a0_b0_e0.01.json']"
      ]
     },
     "execution_count": 7,
     "metadata": {},
     "output_type": "execute_result"
    }
   ],
   "source": [
    "cmds = []\n",
    "for json in jsons:\n",
    "    if not os.path.exists(os.path.join(output_dir, os.path.splitext(os.path.basename(json))[0])):\n",
    "        ! chmod +x $json\n",
    "        cmd = 'module load sailor/1.1.0;'\n",
    "        cmd += 'cd {};'.format(output_dir)\n",
    "        cmd += './{}'.format(os.path.basename(json))\n",
    "        cmds.append(cmd)\n",
    "        \n",
    "print(len(cmds))\n",
    "cmds[:3]"
   ]
  },
  {
   "cell_type": "code",
   "execution_count": 8,
   "metadata": {},
   "outputs": [
    {
     "name": "stderr",
     "output_type": "stream",
     "text": [
      "Writing 2 tasks as an array-job.\n",
      "Wrote commands to lenti_dox_sailor-nterm.sh.\n",
      "Submitted script to queue home.\n",
      " Job ID: 23758708\n"
     ]
    },
    {
     "data": {
      "text/plain": [
       "<qtools.submitter.Submitter at 0x2ad8bfc202d0>"
      ]
     },
     "execution_count": 8,
     "metadata": {},
     "output_type": "execute_result"
    }
   ],
   "source": [
    "Submitter(\n",
    "    commands=cmds,\n",
    "    job_name='lenti_dox_sailor-Apo',\n",
    "    sh='lenti_dox_sailor-Apo.sh',\n",
    "    array=True,\n",
    "    nodes=1,\n",
    "    ppn=4,\n",
    "    walltime='72:00:00',\n",
    "    submit=True,\n",
    ")"
   ]
  },
  {
   "cell_type": "code",
   "execution_count": null,
   "metadata": {},
   "outputs": [],
   "source": []
  }
 ],
 "metadata": {
  "kernelspec": {
   "display_name": "python2-essential",
   "language": "python",
   "name": "python2-essential"
  },
  "language_info": {
   "codemirror_mode": {
    "name": "ipython",
    "version": 2
   },
   "file_extension": ".py",
   "mimetype": "text/x-python",
   "name": "python",
   "nbconvert_exporter": "python",
   "pygments_lexer": "ipython2",
   "version": "2.7.15"
  }
 },
 "nbformat": 4,
 "nbformat_minor": 2
}
