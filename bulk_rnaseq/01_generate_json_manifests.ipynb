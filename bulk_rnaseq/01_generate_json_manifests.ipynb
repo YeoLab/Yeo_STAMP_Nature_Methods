{
 "cells": [
  {
   "cell_type": "markdown",
   "metadata": {},
   "source": [
    "# Generates the JSON manifests that are used to run the SAILOR pipeline\n",
    "- Use the sailor/1.1.0 module that was created (modified from 1.0.5 which did not support C/T editing)."
   ]
  },
  {
   "cell_type": "code",
   "execution_count": 1,
   "metadata": {},
   "outputs": [],
   "source": [
    "import yaml\n",
    "import os\n",
    "import pandas as pd\n",
    "import glob\n",
    "from qtools import Submitter"
   ]
  },
  {
   "cell_type": "code",
   "execution_count": 2,
   "metadata": {},
   "outputs": [],
   "source": [
    "input_dir = '/home/bay001/projects/kris_apobec_20200121/permanent_data/final_analysis/01_SAILOR_bulk_rnaseq/inputs'\n",
    "output_dir = '/home/bay001/projects/kris_apobec_20200121/permanent_data/final_analysis/01_SAILOR_bulk_rnaseq/outputs'"
   ]
  },
  {
   "cell_type": "markdown",
   "metadata": {},
   "source": [
    "### Here I'm grabbing the BAM files I want to use as inputs to SAILOR"
   ]
  },
  {
   "cell_type": "code",
   "execution_count": 4,
   "metadata": {},
   "outputs": [
    {
     "name": "stdout",
     "output_type": "stream",
     "text": [
      "18\n"
     ]
    },
    {
     "data": {
      "text/plain": [
       "['/home/bay001/projects/kris_apobec_20200121/permanent_data/final_analysis/01_SAILOR_bulk_rnaseq/inputs/APOBEC_only_1000_merged_R1.fastqTr.sorted.STARUnmapped.out.sorted.STARAligned.out.sorted.bam',\n",
       " '/home/bay001/projects/kris_apobec_20200121/permanent_data/final_analysis/01_SAILOR_bulk_rnaseq/inputs/RPS2-1000_S18_L002_R1_001.fastqTr.sorted.STARUnmapped.out.sorted.STARAligned.out.sorted.bam',\n",
       " '/home/bay001/projects/kris_apobec_20200121/permanent_data/final_analysis/01_SAILOR_bulk_rnaseq/inputs/SLBP_1000_48hr_B_merged_R1.fastqTr.sorted.STARUnmapped.out.sorted.STARAligned.out.sorted.bam',\n",
       " '/home/bay001/projects/kris_apobec_20200121/permanent_data/final_analysis/01_SAILOR_bulk_rnaseq/inputs/ETF1-1000_S16_L002_R1_001.fastqTr.sorted.STARUnmapped.out.sorted.STARAligned.out.sorted.bam',\n",
       " '/home/bay001/projects/kris_apobec_20200121/permanent_data/final_analysis/01_SAILOR_bulk_rnaseq/inputs/SLBP_1000_72hr_B_merged_R1.fastqTr.sorted.STARUnmapped.out.sorted.STARAligned.out.sorted.bam',\n",
       " '/home/bay001/projects/kris_apobec_20200121/permanent_data/final_analysis/01_SAILOR_bulk_rnaseq/inputs/RBFOX2-1000_S20_L002_R1_001.fastqTr.sorted.STARUnmapped.out.sorted.STARAligned.out.sorted.bam',\n",
       " '/home/bay001/projects/kris_apobec_20200121/permanent_data/final_analysis/01_SAILOR_bulk_rnaseq/inputs/RBFOX_1000_48hr_merged_R1.fastqTr.sorted.STARUnmapped.out.sorted.STARAligned.out.sorted.bam',\n",
       " '/home/bay001/projects/kris_apobec_20200121/permanent_data/final_analysis/01_SAILOR_bulk_rnaseq/inputs/SLBP_1000_48hr_A_merged_R1.fastqTr.sorted.STARUnmapped.out.sorted.STARAligned.out.sorted.bam',\n",
       " '/home/bay001/projects/kris_apobec_20200121/permanent_data/final_analysis/01_SAILOR_bulk_rnaseq/inputs/SLBP_1000_72hr_A_merged_R1.fastqTr.sorted.STARUnmapped.out.sorted.STARAligned.out.sorted.bam',\n",
       " '/home/bay001/projects/kris_apobec_20200121/permanent_data/final_analysis/01_SAILOR_bulk_rnaseq/inputs/SLBP_1000_72hr_C_merged_R1.fastqTr.sorted.STARUnmapped.out.sorted.STARAligned.out.sorted.bam',\n",
       " '/home/bay001/projects/kris_apobec_20200121/permanent_data/final_analysis/01_SAILOR_bulk_rnaseq/inputs/SLBP_1000_48hr_C_merged_R1.fastqTr.sorted.STARUnmapped.out.sorted.STARAligned.out.sorted.bam',\n",
       " '/home/bay001/projects/kris_apobec_20200121/permanent_data/final_analysis/01_SAILOR_bulk_rnaseq/inputs/RBFOX_1000_72hr_merged_R1.fastqTr.sorted.STARUnmapped.out.sorted.STARAligned.out.sorted.bam',\n",
       " '/home/bay001/projects/kris_apobec_20200121/permanent_data/final_analysis/01_SAILOR_bulk_rnaseq/inputs/Tia1_1000ng_1_S14_L001_R1_001.fastqTr.sorted.STARUnmapped.out.sorted.STARAligned.out.sorted.bam',\n",
       " '/home/bay001/projects/kris_apobec_20200121/permanent_data/final_analysis/01_SAILOR_bulk_rnaseq/inputs/Tia1_1000ng_2_S27_L002_R1_001.fastqTr.sorted.STARUnmapped.out.sorted.STARAligned.out.sorted.bam',\n",
       " '/home/bay001/projects/kris_apobec_20200121/permanent_data/final_analysis/01_SAILOR_bulk_rnaseq/inputs/RPS3-1000_S19_L002_R1_001.fastqTr.sorted.STARUnmapped.out.sorted.STARAligned.out.sorted.bam',\n",
       " '/home/bay001/projects/kris_apobec_20200121/permanent_data/final_analysis/01_SAILOR_bulk_rnaseq/inputs/ApoControl-1000_S21_L002_R1_001.fastqTr.sorted.STARUnmapped.out.sorted.STARAligned.out.sorted.bam',\n",
       " '/home/bay001/projects/kris_apobec_20200121/permanent_data/final_analysis/01_SAILOR_bulk_rnaseq/inputs/ABCE1-1000_S15_L002_R1_001.fastqTr.sorted.STARUnmapped.out.sorted.STARAligned.out.sorted.bam',\n",
       " '/home/bay001/projects/kris_apobec_20200121/permanent_data/final_analysis/01_SAILOR_bulk_rnaseq/inputs/GSTP1-1000_S17_L002_R1_001.fastqTr.sorted.STARUnmapped.out.sorted.STARAligned.out.sorted.bam']"
      ]
     },
     "execution_count": 4,
     "metadata": {},
     "output_type": "execute_result"
    }
   ],
   "source": [
    "bams = glob.glob(os.path.join(input_dir, '*1000*sorted.bam'))\n",
    "print(len(bams))\n",
    "bams"
   ]
  },
  {
   "cell_type": "markdown",
   "metadata": {},
   "source": [
    "# Create JSON manifest to run SAILOR on each of the above BAM files\n",
    "- min_edit_fraction, alpha and beta scores tweak the conf score parameters. min_edit_fraction can discard many low-edit-% calls, alpha/beta can add a pseudocount if coverage isn't sufficient.\n",
    "- keep min coverage at 5 (default) \n",
    "- ct is True since we're looking for C/T edits.\n",
    "- commonSNP file from dbsnp"
   ]
  },
  {
   "cell_type": "code",
   "execution_count": 5,
   "metadata": {},
   "outputs": [
    {
     "name": "stdout",
     "output_type": "stream",
     "text": [
      "/home/bay001/projects/kris_apobec_20200121/permanent_data/final_analysis/01_SAILOR_bulk_rnaseq/outputs/APOBEC_only_1000_merged_R1_a0_b0_e0.01.noRmDup.json\n",
      "Creating: /home/bay001/projects/kris_apobec_20200121/permanent_data/final_analysis/01_SAILOR_bulk_rnaseq/outputs/APOBEC_only_1000_merged_R1_a0_b0_e0.01.noRmDup.json\n",
      "/home/bay001/projects/kris_apobec_20200121/permanent_data/final_analysis/01_SAILOR_bulk_rnaseq/outputs/RPS2-1000_S18_L002_R1_001_a0_b0_e0.01.noRmDup.json\n",
      "Creating: /home/bay001/projects/kris_apobec_20200121/permanent_data/final_analysis/01_SAILOR_bulk_rnaseq/outputs/RPS2-1000_S18_L002_R1_001_a0_b0_e0.01.noRmDup.json\n",
      "/home/bay001/projects/kris_apobec_20200121/permanent_data/final_analysis/01_SAILOR_bulk_rnaseq/outputs/SLBP_1000_48hr_B_merged_R1_a0_b0_e0.01.noRmDup.json\n",
      "Creating: /home/bay001/projects/kris_apobec_20200121/permanent_data/final_analysis/01_SAILOR_bulk_rnaseq/outputs/SLBP_1000_48hr_B_merged_R1_a0_b0_e0.01.noRmDup.json\n",
      "/home/bay001/projects/kris_apobec_20200121/permanent_data/final_analysis/01_SAILOR_bulk_rnaseq/outputs/ETF1-1000_S16_L002_R1_001_a0_b0_e0.01.noRmDup.json\n",
      "Creating: /home/bay001/projects/kris_apobec_20200121/permanent_data/final_analysis/01_SAILOR_bulk_rnaseq/outputs/ETF1-1000_S16_L002_R1_001_a0_b0_e0.01.noRmDup.json\n",
      "/home/bay001/projects/kris_apobec_20200121/permanent_data/final_analysis/01_SAILOR_bulk_rnaseq/outputs/SLBP_1000_72hr_B_merged_R1_a0_b0_e0.01.noRmDup.json\n",
      "Creating: /home/bay001/projects/kris_apobec_20200121/permanent_data/final_analysis/01_SAILOR_bulk_rnaseq/outputs/SLBP_1000_72hr_B_merged_R1_a0_b0_e0.01.noRmDup.json\n",
      "/home/bay001/projects/kris_apobec_20200121/permanent_data/final_analysis/01_SAILOR_bulk_rnaseq/outputs/RBFOX2-1000_S20_L002_R1_001_a0_b0_e0.01.noRmDup.json\n",
      "Creating: /home/bay001/projects/kris_apobec_20200121/permanent_data/final_analysis/01_SAILOR_bulk_rnaseq/outputs/RBFOX2-1000_S20_L002_R1_001_a0_b0_e0.01.noRmDup.json\n",
      "/home/bay001/projects/kris_apobec_20200121/permanent_data/final_analysis/01_SAILOR_bulk_rnaseq/outputs/RBFOX_1000_48hr_merged_R1_a0_b0_e0.01.noRmDup.json\n",
      "Creating: /home/bay001/projects/kris_apobec_20200121/permanent_data/final_analysis/01_SAILOR_bulk_rnaseq/outputs/RBFOX_1000_48hr_merged_R1_a0_b0_e0.01.noRmDup.json\n",
      "/home/bay001/projects/kris_apobec_20200121/permanent_data/final_analysis/01_SAILOR_bulk_rnaseq/outputs/SLBP_1000_48hr_A_merged_R1_a0_b0_e0.01.noRmDup.json\n",
      "Creating: /home/bay001/projects/kris_apobec_20200121/permanent_data/final_analysis/01_SAILOR_bulk_rnaseq/outputs/SLBP_1000_48hr_A_merged_R1_a0_b0_e0.01.noRmDup.json\n",
      "/home/bay001/projects/kris_apobec_20200121/permanent_data/final_analysis/01_SAILOR_bulk_rnaseq/outputs/SLBP_1000_72hr_A_merged_R1_a0_b0_e0.01.noRmDup.json\n",
      "Creating: /home/bay001/projects/kris_apobec_20200121/permanent_data/final_analysis/01_SAILOR_bulk_rnaseq/outputs/SLBP_1000_72hr_A_merged_R1_a0_b0_e0.01.noRmDup.json\n",
      "/home/bay001/projects/kris_apobec_20200121/permanent_data/final_analysis/01_SAILOR_bulk_rnaseq/outputs/SLBP_1000_72hr_C_merged_R1_a0_b0_e0.01.noRmDup.json\n",
      "Creating: /home/bay001/projects/kris_apobec_20200121/permanent_data/final_analysis/01_SAILOR_bulk_rnaseq/outputs/SLBP_1000_72hr_C_merged_R1_a0_b0_e0.01.noRmDup.json\n",
      "/home/bay001/projects/kris_apobec_20200121/permanent_data/final_analysis/01_SAILOR_bulk_rnaseq/outputs/SLBP_1000_48hr_C_merged_R1_a0_b0_e0.01.noRmDup.json\n",
      "Creating: /home/bay001/projects/kris_apobec_20200121/permanent_data/final_analysis/01_SAILOR_bulk_rnaseq/outputs/SLBP_1000_48hr_C_merged_R1_a0_b0_e0.01.noRmDup.json\n",
      "/home/bay001/projects/kris_apobec_20200121/permanent_data/final_analysis/01_SAILOR_bulk_rnaseq/outputs/RBFOX_1000_72hr_merged_R1_a0_b0_e0.01.noRmDup.json\n",
      "Creating: /home/bay001/projects/kris_apobec_20200121/permanent_data/final_analysis/01_SAILOR_bulk_rnaseq/outputs/RBFOX_1000_72hr_merged_R1_a0_b0_e0.01.noRmDup.json\n",
      "/home/bay001/projects/kris_apobec_20200121/permanent_data/final_analysis/01_SAILOR_bulk_rnaseq/outputs/Tia1_1000ng_1_S14_L001_R1_001_a0_b0_e0.01.noRmDup.json\n",
      "Creating: /home/bay001/projects/kris_apobec_20200121/permanent_data/final_analysis/01_SAILOR_bulk_rnaseq/outputs/Tia1_1000ng_1_S14_L001_R1_001_a0_b0_e0.01.noRmDup.json\n",
      "/home/bay001/projects/kris_apobec_20200121/permanent_data/final_analysis/01_SAILOR_bulk_rnaseq/outputs/Tia1_1000ng_2_S27_L002_R1_001_a0_b0_e0.01.noRmDup.json\n",
      "Creating: /home/bay001/projects/kris_apobec_20200121/permanent_data/final_analysis/01_SAILOR_bulk_rnaseq/outputs/Tia1_1000ng_2_S27_L002_R1_001_a0_b0_e0.01.noRmDup.json\n",
      "/home/bay001/projects/kris_apobec_20200121/permanent_data/final_analysis/01_SAILOR_bulk_rnaseq/outputs/RPS3-1000_S19_L002_R1_001_a0_b0_e0.01.noRmDup.json\n",
      "Creating: /home/bay001/projects/kris_apobec_20200121/permanent_data/final_analysis/01_SAILOR_bulk_rnaseq/outputs/RPS3-1000_S19_L002_R1_001_a0_b0_e0.01.noRmDup.json\n",
      "/home/bay001/projects/kris_apobec_20200121/permanent_data/final_analysis/01_SAILOR_bulk_rnaseq/outputs/ApoControl-1000_S21_L002_R1_001_a0_b0_e0.01.noRmDup.json\n",
      "Creating: /home/bay001/projects/kris_apobec_20200121/permanent_data/final_analysis/01_SAILOR_bulk_rnaseq/outputs/ApoControl-1000_S21_L002_R1_001_a0_b0_e0.01.noRmDup.json\n",
      "/home/bay001/projects/kris_apobec_20200121/permanent_data/final_analysis/01_SAILOR_bulk_rnaseq/outputs/ABCE1-1000_S15_L002_R1_001_a0_b0_e0.01.noRmDup.json\n",
      "Creating: /home/bay001/projects/kris_apobec_20200121/permanent_data/final_analysis/01_SAILOR_bulk_rnaseq/outputs/ABCE1-1000_S15_L002_R1_001_a0_b0_e0.01.noRmDup.json\n",
      "/home/bay001/projects/kris_apobec_20200121/permanent_data/final_analysis/01_SAILOR_bulk_rnaseq/outputs/GSTP1-1000_S17_L002_R1_001_a0_b0_e0.01.noRmDup.json\n",
      "Creating: /home/bay001/projects/kris_apobec_20200121/permanent_data/final_analysis/01_SAILOR_bulk_rnaseq/outputs/GSTP1-1000_S17_L002_R1_001_a0_b0_e0.01.noRmDup.json\n"
     ]
    }
   ],
   "source": [
    "for min_edit_fraction in [0.01]:\n",
    "    for alpha in [0]:\n",
    "        for beta in [0]:\n",
    "            for bam in bams:\n",
    "                renamed_bam = os.path.splitext(bam)[0] + '_a{}_b{}_e{}.noRmDup.bam'.format(\n",
    "                    alpha, beta, min_edit_fraction\n",
    "                )\n",
    "                # let's rename the bam file to make it easier to combine\n",
    "                if not os.path.exists(renamed_bam):\n",
    "                    ! ln -s $bam $renamed_bam\n",
    "                sample = {\"input_bam\": {\n",
    "                    'class':'File',\n",
    "                    'path':renamed_bam\n",
    "                }}\n",
    "                fa = {\"reference\": {\n",
    "                    'class':'File',\n",
    "                    'path':'/projects/ps-yeolab3/bay001/annotations/hg19/hg19.fa'\n",
    "                }}\n",
    "                known_snp = {\"known_snp\": {\n",
    "                    'class':'File',\n",
    "                    'path':'/projects/ps-yeolab3/bay001/annotations/hg19/hg19.commonSNPs147.bed3'\n",
    "                }}\n",
    "                json_file_to_create = os.path.join(\n",
    "                    output_dir, '{}_a{}_b{}_e{}.noRmDup.json'.format(\n",
    "                        os.path.basename(bam).split('.')[0], \n",
    "                        alpha, \n",
    "                        beta,\n",
    "                        min_edit_fraction\n",
    "                    )\n",
    "                )\n",
    "                print(json_file_to_create)\n",
    "                if not os.path.exists(json_file_to_create):\n",
    "                    print(\"Creating: {}\".format(json_file_to_create))\n",
    "                    with open(json_file_to_create, 'w'\n",
    "                    ) as o:\n",
    "                        o.write(\"#!/usr/bin/env SAILOR\\n\")\n",
    "                        yaml.dump(sample, o, default_flow_style=False)\n",
    "                        yaml.dump(known_snp, o, default_flow_style=False)\n",
    "                        yaml.dump(fa, o, default_flow_style=False)\n",
    "                        o.write(\"ct: true\\n\")\n",
    "                        o.write(\"min_variant_coverage: 5\\n\")\n",
    "                        o.write(\"alpha: {}\\n\".format(alpha))\n",
    "                        o.write(\"beta: {}\\n\".format(beta))\n",
    "                        o.write(\"edit_fraction: {}\\n\".format(min_edit_fraction))\n",
    "                        o.write(\"skip_duplicate_removal: true\")"
   ]
  },
  {
   "cell_type": "code",
   "execution_count": 8,
   "metadata": {},
   "outputs": [
    {
     "data": {
      "text/plain": [
       "18"
      ]
     },
     "execution_count": 8,
     "metadata": {},
     "output_type": "execute_result"
    }
   ],
   "source": [
    "jsons = glob.glob(os.path.join(output_dir, '*.noRmDup.json'))\n",
    "len(jsons)"
   ]
  },
  {
   "cell_type": "code",
   "execution_count": 9,
   "metadata": {},
   "outputs": [
    {
     "name": "stdout",
     "output_type": "stream",
     "text": [
      "18\n"
     ]
    },
    {
     "data": {
      "text/plain": [
       "['module load sailor/1.1.0;cd /home/bay001/projects/kris_apobec_20200121/permanent_data/final_analysis/01_SAILOR_bulk_rnaseq/outputs;./GSTP1-1000_S17_L002_R1_001_a0_b0_e0.01.noRmDup.json',\n",
       " 'module load sailor/1.1.0;cd /home/bay001/projects/kris_apobec_20200121/permanent_data/final_analysis/01_SAILOR_bulk_rnaseq/outputs;./SLBP_1000_72hr_B_merged_R1_a0_b0_e0.01.noRmDup.json',\n",
       " 'module load sailor/1.1.0;cd /home/bay001/projects/kris_apobec_20200121/permanent_data/final_analysis/01_SAILOR_bulk_rnaseq/outputs;./SLBP_1000_48hr_B_merged_R1_a0_b0_e0.01.noRmDup.json']"
      ]
     },
     "execution_count": 9,
     "metadata": {},
     "output_type": "execute_result"
    }
   ],
   "source": [
    "cmds = []\n",
    "for json in jsons:\n",
    "    if not os.path.exists(os.path.join(output_dir, os.path.splitext(os.path.basename(json))[0])):\n",
    "        ! chmod +x $json\n",
    "        cmd = 'module load sailor/1.1.0;'\n",
    "        cmd += 'cd {};'.format(output_dir)\n",
    "        cmd += './{}'.format(os.path.basename(json))\n",
    "        cmds.append(cmd)\n",
    "        \n",
    "print(len(cmds))\n",
    "cmds[:3]"
   ]
  },
  {
   "cell_type": "code",
   "execution_count": 10,
   "metadata": {},
   "outputs": [
    {
     "name": "stderr",
     "output_type": "stream",
     "text": [
      "Writing 18 tasks as an array-job.\n",
      "Wrote commands to lenti_dox_sailor.sh.\n",
      "Submitted script to queue home.\n",
      " Job ID: 21764510\n"
     ]
    },
    {
     "data": {
      "text/plain": [
       "<qtools.submitter.Submitter at 0x2b105d081050>"
      ]
     },
     "execution_count": 10,
     "metadata": {},
     "output_type": "execute_result"
    }
   ],
   "source": [
    "Submitter(\n",
    "    commands=cmds,\n",
    "    job_name='lenti_dox_sailor',\n",
    "    sh='lenti_dox_sailor.sh',\n",
    "    array=True,\n",
    "    nodes=1,\n",
    "    ppn=4,\n",
    "    walltime='72:00:00',\n",
    "    submit=True,\n",
    ")"
   ]
  }
 ],
 "metadata": {
  "kernelspec": {
   "display_name": "python2-essential",
   "language": "python",
   "name": "python2-essential"
  },
  "language_info": {
   "codemirror_mode": {
    "name": "ipython",
    "version": 2
   },
   "file_extension": ".py",
   "mimetype": "text/x-python",
   "name": "python",
   "nbconvert_exporter": "python",
   "pygments_lexer": "ipython2",
   "version": "2.7.15"
  }
 },
 "nbformat": 4,
 "nbformat_minor": 2
}
