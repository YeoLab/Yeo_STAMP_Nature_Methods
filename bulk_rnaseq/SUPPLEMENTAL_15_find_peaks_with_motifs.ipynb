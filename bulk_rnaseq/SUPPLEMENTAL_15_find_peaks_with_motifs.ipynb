{
 "cells": [
  {
   "cell_type": "markdown",
   "metadata": {},
   "source": [
    "# In this analysis, we are taking a set of peaks and finding those peaks that contain a motif"
   ]
  },
  {
   "cell_type": "code",
   "execution_count": 1,
   "metadata": {},
   "outputs": [],
   "source": [
    "%matplotlib inline\n",
    "\n",
    "import matplotlib.pyplot as plt\n",
    "import seaborn as sns\n",
    "import pandas as pd\n",
    "import numpy as np\n",
    "import os\n",
    "import glob\n",
    "import pybedtools\n",
    "import pysam\n",
    "import re\n",
    "import urllib\n",
    "import sqlite3\n",
    "import random\n",
    "from random import sample \n",
    "from collections import Counter\n",
    "from tqdm import tnrange, tqdm_notebook\n",
    "from xml.dom import minidom\n",
    "from Bio import SeqIO\n",
    "pd.set_option('display.max_colwidth', 1000)"
   ]
  },
  {
   "cell_type": "code",
   "execution_count": 2,
   "metadata": {},
   "outputs": [],
   "source": [
    "input_dir = '/home/bay001/projects/kris_apobec_20200121/permanent_data/final_analysis/01_SAILOR_bulk_rnaseq/inputs/'\n",
    "output_dir = '/home/bay001/projects/kris_apobec_20200121/permanent_data/final_analysis/01_SAILOR_bulk_rnaseq/outputs/'"
   ]
  },
  {
   "cell_type": "code",
   "execution_count": 3,
   "metadata": {},
   "outputs": [],
   "source": [
    "slop = 0 \n",
    "motif = ''"
   ]
  },
  {
   "cell_type": "markdown",
   "metadata": {},
   "source": [
    "# Define our peak sites\n",
    "- These may come from multiple sources. I'm trying to classify them according to how they were annotated (if they were annotated). "
   ]
  },
  {
   "cell_type": "code",
   "execution_count": 4,
   "metadata": {},
   "outputs": [
    {
     "data": {
      "text/plain": [
       "'/home/bay001/projects/kris_apobec_20200121/reference_data/301.01v02.IDR.out.0102merged.bed.annotated_proxdist_miRlncRNA.blacklist_removed.bed'"
      ]
     },
     "execution_count": 4,
     "metadata": {},
     "output_type": "execute_result"
    }
   ],
   "source": [
    "# bed_file = '/home/elvannostrand/data/clip/CLIPseq_analysis/ALLCLIP_v12_20160112/EV42_01.basedon_EV42_01.peaks.l2inputnormnew.bed.compressed.bed.annotated'\n",
    "# bed_file = '/home/elvannostrand/data/clip/CLIPseq_analysis/ALLCLIP_v12_20160112/211_01.basedon_211_01.peaks.l2inputnormnew.bed.compressed.bed.annotated'\n",
    "# bed_file = '/home/elvannostrand/data/clip/CLIPseq_analysis/ALLCLIP_v12_20160112/205_01.basedon_205_01.peaks.l2inputnormnew.bed.compressed.bed.annotated'\n",
    "# bed_file = '/home/bay001/projects/kris_apobec_20200121/reference_data/TIA1_Untreated_reproducible_peaks.bed.annotated_proxdist_miRlncRNA'\n",
    "# bed_file = '/home/elvannostrand/data/clip/CLIPseq_analysis/ALLCLIP_v12_20160112/279_01.basedon_279_01.peaks.l2inputnormnew.bed.compressed.bed.annotated'\n",
    "# bed_file = '/home/bay001/projects/jeevisha_stau2_20180314/permanent_data/02_annotate/inputs/764_01.basedon_764_01.peaks.l2inputnormnew.bed.compressed.bed.annotated'\n",
    "# bed_file = '/home/elvannostrand/data/clip/CLIPseq_analysis/seCLIP/seRBFOX2_A_01.basedon_seRBFOX2_A_01.peaks.l2inputnormnew.bed.compressed.bed.annotated'\n",
    "# bed_file = '/home/bay001/projects/kris_apobec_20200121/permanent_data/final_analysis/01_SAILOR_bulk_rnaseq/outputs/combined_outputs_w_cov_info/Tia1_0ng_2_S41_L003_R1_001.fastqTr.sorted.STARUnmapped.out.sorted.STARAligned.out.sorted_a0_b0_c10.annotated'\n",
    "# bed_file = '/home/bay001/projects/kris_apobec_20200121/reference_data/SLBP_K562_IDR.bed'\n",
    "# bed_file = '/home/elvannostrand/data/clip/CLIPseq_analysis/ALLCLIP_v12_20160112/214_01.basedon_214_01.peaks.l2inputnormnew.bed.compressed.bed.annotated'\n",
    "bed_file = '/home/bay001/projects/kris_apobec_20200121/reference_data/301.01v02.IDR.out.0102merged.bed.annotated_proxdist_miRlncRNA.blacklist_removed.bed'\n",
    "# bed_file = '/home/bay001/projects/kris_apobec_20200121/permanent_data/20200331_293T_TIA1/IDR/TIA1/results/TIA1_reproducible_peaks.bed.annotated_proxdist_miRlncRNA'\n",
    "assert os.path.exists(bed_file)\n",
    "annotation_style = 'ericv2'\n",
    "bed_file"
   ]
  },
  {
   "cell_type": "markdown",
   "metadata": {},
   "source": [
    "### In order to read in multiple filetypes, we need to define the headers to parse out the appropriate information."
   ]
  },
  {
   "cell_type": "markdown",
   "metadata": {},
   "source": [
    "- ericv1 contains columns: ```['chrom','start','end','l10p','l2fc','strand','annotation','geneid']```\n",
    "- ericv2 contains columns: ```['chrom','start','end','l10p','l2fc','strand','annotation','annotation2','geneid','genename','region_w_overlap']```\n",
    "- brianv1 contains columns: ```['chrom','start','end','name','score','strand','geneid','genename','region','all_annotation']```"
   ]
  },
  {
   "cell_type": "code",
   "execution_count": 5,
   "metadata": {},
   "outputs": [
    {
     "name": "stdout",
     "output_type": "stream",
     "text": [
      "BEFORE FILTERS 1781\n",
      "AFTER FILTERS 1781\n"
     ]
    },
    {
     "data": {
      "text/html": [
       "<div>\n",
       "<style scoped>\n",
       "    .dataframe tbody tr th:only-of-type {\n",
       "        vertical-align: middle;\n",
       "    }\n",
       "\n",
       "    .dataframe tbody tr th {\n",
       "        vertical-align: top;\n",
       "    }\n",
       "\n",
       "    .dataframe thead th {\n",
       "        text-align: right;\n",
       "    }\n",
       "</style>\n",
       "<table border=\"1\" class=\"dataframe\">\n",
       "  <thead>\n",
       "    <tr style=\"text-align: right;\">\n",
       "      <th></th>\n",
       "      <th>chrom</th>\n",
       "      <th>start</th>\n",
       "      <th>end</th>\n",
       "      <th>l10p</th>\n",
       "      <th>l2fc</th>\n",
       "      <th>strand</th>\n",
       "      <th>annotation</th>\n",
       "      <th>annotation2</th>\n",
       "      <th>geneid</th>\n",
       "      <th>genename</th>\n",
       "      <th>region_w_overlap</th>\n",
       "      <th>region</th>\n",
       "    </tr>\n",
       "  </thead>\n",
       "  <tbody>\n",
       "    <tr>\n",
       "      <th>0</th>\n",
       "      <td>chr8</td>\n",
       "      <td>95541294</td>\n",
       "      <td>95541362</td>\n",
       "      <td>6.645005</td>\n",
       "      <td>4.834668</td>\n",
       "      <td>-</td>\n",
       "      <td>CDS;ENSG00000164944.7</td>\n",
       "      <td>CDS||ENSG00000164944.7</td>\n",
       "      <td>ENSG00000164944.7</td>\n",
       "      <td>KIAA1429</td>\n",
       "      <td>5ss|3||CDS|65</td>\n",
       "      <td>5ss</td>\n",
       "    </tr>\n",
       "    <tr>\n",
       "      <th>1</th>\n",
       "      <td>chr9</td>\n",
       "      <td>139265319</td>\n",
       "      <td>139265390</td>\n",
       "      <td>3.015326</td>\n",
       "      <td>3.594934</td>\n",
       "      <td>-</td>\n",
       "      <td>CDS;ENSG00000187796.9</td>\n",
       "      <td>CDS||ENSG00000187796.9</td>\n",
       "      <td>ENSG00000187796.9</td>\n",
       "      <td>CARD9</td>\n",
       "      <td>CDS|71</td>\n",
       "      <td>CDS</td>\n",
       "    </tr>\n",
       "    <tr>\n",
       "      <th>2</th>\n",
       "      <td>chr6</td>\n",
       "      <td>43014683</td>\n",
       "      <td>43014769</td>\n",
       "      <td>9.796247</td>\n",
       "      <td>3.775442</td>\n",
       "      <td>-</td>\n",
       "      <td>noncoding_distintron;lncRNA|LINC00242||CDS;ENSG00000044090.4</td>\n",
       "      <td>CDS||ENSG00000044090.4</td>\n",
       "      <td>ENSG00000044090.4</td>\n",
       "      <td>CUL7</td>\n",
       "      <td>CDS|86</td>\n",
       "      <td>CDS</td>\n",
       "    </tr>\n",
       "    <tr>\n",
       "      <th>3</th>\n",
       "      <td>chr16</td>\n",
       "      <td>77225462</td>\n",
       "      <td>77225532</td>\n",
       "      <td>3.015326</td>\n",
       "      <td>3.887415</td>\n",
       "      <td>+</td>\n",
       "      <td>CDS;ENSG00000103111.10</td>\n",
       "      <td>CDS||ENSG00000103111.10</td>\n",
       "      <td>ENSG00000103111.10</td>\n",
       "      <td>MON1B</td>\n",
       "      <td>5ss|1||CDS|69</td>\n",
       "      <td>5ss</td>\n",
       "    </tr>\n",
       "    <tr>\n",
       "      <th>4</th>\n",
       "      <td>chr20</td>\n",
       "      <td>44599979</td>\n",
       "      <td>44600120</td>\n",
       "      <td>3.615838</td>\n",
       "      <td>4.101837</td>\n",
       "      <td>-</td>\n",
       "      <td>CDS;ENSG00000198026.6</td>\n",
       "      <td>CDS||ENSG00000198026.6</td>\n",
       "      <td>ENSG00000198026.6</td>\n",
       "      <td>ZNF335</td>\n",
       "      <td>CDS|71||3ss|20||5utr|50</td>\n",
       "      <td>CDS</td>\n",
       "    </tr>\n",
       "  </tbody>\n",
       "</table>\n",
       "</div>"
      ],
      "text/plain": [
       "   chrom      start        end      l10p      l2fc strand  \\\n",
       "0   chr8   95541294   95541362  6.645005  4.834668      -   \n",
       "1   chr9  139265319  139265390  3.015326  3.594934      -   \n",
       "2   chr6   43014683   43014769  9.796247  3.775442      -   \n",
       "3  chr16   77225462   77225532  3.015326  3.887415      +   \n",
       "4  chr20   44599979   44600120  3.615838  4.101837      -   \n",
       "\n",
       "                                                     annotation  \\\n",
       "0                                         CDS;ENSG00000164944.7   \n",
       "1                                         CDS;ENSG00000187796.9   \n",
       "2  noncoding_distintron;lncRNA|LINC00242||CDS;ENSG00000044090.4   \n",
       "3                                        CDS;ENSG00000103111.10   \n",
       "4                                         CDS;ENSG00000198026.6   \n",
       "\n",
       "               annotation2              geneid  genename  \\\n",
       "0   CDS||ENSG00000164944.7   ENSG00000164944.7  KIAA1429   \n",
       "1   CDS||ENSG00000187796.9   ENSG00000187796.9     CARD9   \n",
       "2   CDS||ENSG00000044090.4   ENSG00000044090.4      CUL7   \n",
       "3  CDS||ENSG00000103111.10  ENSG00000103111.10     MON1B   \n",
       "4   CDS||ENSG00000198026.6   ENSG00000198026.6    ZNF335   \n",
       "\n",
       "          region_w_overlap region  \n",
       "0            5ss|3||CDS|65    5ss  \n",
       "1                   CDS|71    CDS  \n",
       "2                   CDS|86    CDS  \n",
       "3            5ss|1||CDS|69    5ss  \n",
       "4  CDS|71||3ss|20||5utr|50    CDS  "
      ]
     },
     "execution_count": 5,
     "metadata": {},
     "output_type": "execute_result"
    }
   ],
   "source": [
    "annotation_styles = {\n",
    "    \"ericv1\":['chrom','start','end','l10p','l2fc','strand','annotation','geneid'],\n",
    "    \"ericv2\":['chrom','start','end','l10p','l2fc','strand','annotation','annotation2','geneid','genename','region_w_overlap'],\n",
    "    \"brianv1\":['chrom','start','end','name','score','strand','geneid','genename','region','all_annotation'],\n",
    "    \"inputnorm\":['chrom','start','end','l10p','l2fc','strand'],\n",
    "    \"encodeidr\":['chrom','start','end','name','score','strand']\n",
    "}\n",
    "\n",
    "def return_region(row, annotation_style='ericv1'):\n",
    "    \"\"\" \n",
    "    Based on the way Eric or I output our annotations, let's re-format the region field to make it easier to parse out\n",
    "    \"\"\"\n",
    "    try:\n",
    "        if annotation_style=='ericv1':\n",
    "            return row['annotation'].split('|')[0]\n",
    "        elif annotation_style=='ericv2':\n",
    "            return row['region_w_overlap'].split('|')[0]\n",
    "        elif annotation_style=='brianv1':\n",
    "            return row['region']\n",
    "        elif annotation_style=='inputnorm' or annotation_style=='encodeidr':\n",
    "            return 'unannotated'\n",
    "    except IndexError:\n",
    "        return 'intergenic'\n",
    "\n",
    "def filter_peaks(df, l10p=3, l2fc=3):\n",
    "    \"\"\"\n",
    "    If we get an unfiltered list of peaks, we need to filter for significance.\n",
    "    \"\"\"\n",
    "    return df[(df['l10p']>=l10p) & (df['l2fc']>=l2fc)]\n",
    "\n",
    "def read_filter_and_return_region(fn, annotation_style):\n",
    "    \"\"\"\n",
    "    Reads in a list of peaks and filters them if needed.\n",
    "    \"\"\"\n",
    "    df = pd.read_csv(fn, names=annotation_styles[annotation_style], sep='\\t')\n",
    "    print(\"BEFORE FILTERS\", df.shape[0])\n",
    "    df['region'] = df.apply(return_region, args=(annotation_style, ), axis=1)\n",
    "    if 'l10p' in annotation_styles[annotation_style] and 'l2fc' in annotation_styles[annotation_style]:\n",
    "        df = filter_peaks(df)\n",
    "    print(\"AFTER FILTERS\", df.shape[0])\n",
    "    return df\n",
    "\n",
    "peaks = read_filter_and_return_region(bed_file, annotation_style)\n",
    "peaks.head()"
   ]
  },
  {
   "cell_type": "markdown",
   "metadata": {},
   "source": [
    "### For STAMP data, we see the vast majority of peaks assigned to 3'UTR. So let's confirm and filter for only 3'UTR and CDS sites."
   ]
  },
  {
   "cell_type": "code",
   "execution_count": 6,
   "metadata": {},
   "outputs": [
    {
     "data": {
      "text/plain": [
       "<matplotlib.axes._subplots.AxesSubplot at 0x2b68b2261be0>"
      ]
     },
     "execution_count": 6,
     "metadata": {},
     "output_type": "execute_result"
    },
    {
     "data": {
      "image/png": "[encoded data removed]",
      "text/plain": [
       "<Figure size 576x576 with 1 Axes>"
      ]
     },
     "metadata": {},
     "output_type": "display_data"
    }
   ],
   "source": [
    "fig, ax = plt.subplots(figsize=(8, 8))\n",
    "peaks['region'].value_counts().plot(kind='pie', ax=ax)"
   ]
  },
  {
   "cell_type": "code",
   "execution_count": 7,
   "metadata": {},
   "outputs": [
    {
     "name": "stdout",
     "output_type": "stream",
     "text": [
      "1056\n"
     ]
    },
    {
     "data": {
      "text/html": [
       "<div>\n",
       "<style scoped>\n",
       "    .dataframe tbody tr th:only-of-type {\n",
       "        vertical-align: middle;\n",
       "    }\n",
       "\n",
       "    .dataframe tbody tr th {\n",
       "        vertical-align: top;\n",
       "    }\n",
       "\n",
       "    .dataframe thead th {\n",
       "        text-align: right;\n",
       "    }\n",
       "</style>\n",
       "<table border=\"1\" class=\"dataframe\">\n",
       "  <thead>\n",
       "    <tr style=\"text-align: right;\">\n",
       "      <th></th>\n",
       "      <th>chrom</th>\n",
       "      <th>start</th>\n",
       "      <th>end</th>\n",
       "      <th>l10p</th>\n",
       "      <th>l2fc</th>\n",
       "      <th>strand</th>\n",
       "      <th>annotation</th>\n",
       "      <th>annotation2</th>\n",
       "      <th>geneid</th>\n",
       "      <th>genename</th>\n",
       "      <th>region_w_overlap</th>\n",
       "      <th>region</th>\n",
       "    </tr>\n",
       "  </thead>\n",
       "  <tbody>\n",
       "    <tr>\n",
       "      <th>1</th>\n",
       "      <td>chr9</td>\n",
       "      <td>139265319</td>\n",
       "      <td>139265390</td>\n",
       "      <td>3.015326</td>\n",
       "      <td>3.594934</td>\n",
       "      <td>-</td>\n",
       "      <td>CDS;ENSG00000187796.9</td>\n",
       "      <td>CDS||ENSG00000187796.9</td>\n",
       "      <td>ENSG00000187796.9</td>\n",
       "      <td>CARD9</td>\n",
       "      <td>CDS|71</td>\n",
       "      <td>CDS</td>\n",
       "    </tr>\n",
       "    <tr>\n",
       "      <th>2</th>\n",
       "      <td>chr6</td>\n",
       "      <td>43014683</td>\n",
       "      <td>43014769</td>\n",
       "      <td>9.796247</td>\n",
       "      <td>3.775442</td>\n",
       "      <td>-</td>\n",
       "      <td>noncoding_distintron;lncRNA|LINC00242||CDS;ENSG00000044090.4</td>\n",
       "      <td>CDS||ENSG00000044090.4</td>\n",
       "      <td>ENSG00000044090.4</td>\n",
       "      <td>CUL7</td>\n",
       "      <td>CDS|86</td>\n",
       "      <td>CDS</td>\n",
       "    </tr>\n",
       "    <tr>\n",
       "      <th>4</th>\n",
       "      <td>chr20</td>\n",
       "      <td>44599979</td>\n",
       "      <td>44600120</td>\n",
       "      <td>3.615838</td>\n",
       "      <td>4.101837</td>\n",
       "      <td>-</td>\n",
       "      <td>CDS;ENSG00000198026.6</td>\n",
       "      <td>CDS||ENSG00000198026.6</td>\n",
       "      <td>ENSG00000198026.6</td>\n",
       "      <td>ZNF335</td>\n",
       "      <td>CDS|71||3ss|20||5utr|50</td>\n",
       "      <td>CDS</td>\n",
       "    </tr>\n",
       "    <tr>\n",
       "      <th>5</th>\n",
       "      <td>chr20</td>\n",
       "      <td>2635571</td>\n",
       "      <td>2635593</td>\n",
       "      <td>5.759827</td>\n",
       "      <td>3.341600</td>\n",
       "      <td>+</td>\n",
       "      <td>CDS;ENSG00000101361.10</td>\n",
       "      <td>CDS||ENSG00000101361.10</td>\n",
       "      <td>ENSG00000101361.10</td>\n",
       "      <td>NOP56</td>\n",
       "      <td>CDS|22</td>\n",
       "      <td>CDS</td>\n",
       "    </tr>\n",
       "    <tr>\n",
       "      <th>7</th>\n",
       "      <td>chr17</td>\n",
       "      <td>4443053</td>\n",
       "      <td>4443157</td>\n",
       "      <td>5.162591</td>\n",
       "      <td>3.572390</td>\n",
       "      <td>-</td>\n",
       "      <td>noncoding_distintron;lncRNA|LHX1-DT||noncoding_distintron;lncRNA|MAPT-AS1||CDS;ENSG00000132382.10</td>\n",
       "      <td>CDS||ENSG00000132382.10</td>\n",
       "      <td>ENSG00000132382.10</td>\n",
       "      <td>MYBBP1A</td>\n",
       "      <td>CDS|104</td>\n",
       "      <td>CDS</td>\n",
       "    </tr>\n",
       "  </tbody>\n",
       "</table>\n",
       "</div>"
      ],
      "text/plain": [
       "   chrom      start        end      l10p      l2fc strand  \\\n",
       "1   chr9  139265319  139265390  3.015326  3.594934      -   \n",
       "2   chr6   43014683   43014769  9.796247  3.775442      -   \n",
       "4  chr20   44599979   44600120  3.615838  4.101837      -   \n",
       "5  chr20    2635571    2635593  5.759827  3.341600      +   \n",
       "7  chr17    4443053    4443157  5.162591  3.572390      -   \n",
       "\n",
       "                                                                                          annotation  \\\n",
       "1                                                                              CDS;ENSG00000187796.9   \n",
       "2                                       noncoding_distintron;lncRNA|LINC00242||CDS;ENSG00000044090.4   \n",
       "4                                                                              CDS;ENSG00000198026.6   \n",
       "5                                                                             CDS;ENSG00000101361.10   \n",
       "7  noncoding_distintron;lncRNA|LHX1-DT||noncoding_distintron;lncRNA|MAPT-AS1||CDS;ENSG00000132382.10   \n",
       "\n",
       "               annotation2              geneid genename  \\\n",
       "1   CDS||ENSG00000187796.9   ENSG00000187796.9    CARD9   \n",
       "2   CDS||ENSG00000044090.4   ENSG00000044090.4     CUL7   \n",
       "4   CDS||ENSG00000198026.6   ENSG00000198026.6   ZNF335   \n",
       "5  CDS||ENSG00000101361.10  ENSG00000101361.10    NOP56   \n",
       "7  CDS||ENSG00000132382.10  ENSG00000132382.10  MYBBP1A   \n",
       "\n",
       "          region_w_overlap region  \n",
       "1                   CDS|71    CDS  \n",
       "2                   CDS|86    CDS  \n",
       "4  CDS|71||3ss|20||5utr|50    CDS  \n",
       "5                   CDS|22    CDS  \n",
       "7                  CDS|104    CDS  "
      ]
     },
     "execution_count": 7,
     "metadata": {},
     "output_type": "execute_result"
    }
   ],
   "source": [
    "if 'unannotated' in peaks['region'].value_counts():\n",
    "    pass\n",
    "else:\n",
    "    peaks = peaks[(peaks['region']=='3utr') | (peaks['region']=='CDS')]\n",
    "print(peaks.shape[0])\n",
    "peaks.head()"
   ]
  },
  {
   "cell_type": "markdown",
   "metadata": {},
   "source": [
    "# get the fasta sequences and check for existence of motif"
   ]
  },
  {
   "cell_type": "markdown",
   "metadata": {},
   "source": [
    "## Convert our filtered peaks to BedTool objects."
   ]
  },
  {
   "cell_type": "code",
   "execution_count": 8,
   "metadata": {},
   "outputs": [
    {
     "name": "stdout",
     "output_type": "stream",
     "text": [
      "size prior to merge: 1056\n",
      "size after merge: 911\n"
     ]
    },
    {
     "name": "stderr",
     "output_type": "stream",
     "text": [
      "/home/bay001/anaconda2/envs/python3-essential/lib/python3.6/site-packages/pybedtools/bedtool.py:3439: FutureWarning: read_table is deprecated, use read_csv instead, passing sep='\\t'.\n",
      "  return pandas.read_table(self.fn, *args, **kwargs)\n",
      "/home/bay001/anaconda2/envs/python3-essential/lib/python3.6/site-packages/pybedtools/bedtool.py:3439: FutureWarning: read_table is deprecated, use read_csv instead, passing sep='\\t'.\n",
      "  return pandas.read_table(self.fn, *args, **kwargs)\n"
     ]
    }
   ],
   "source": [
    "genome_fasta = '/projects/ps-yeolab3/bay001/annotations/hg19/hg19.fa'\n",
    "chrom_sizes = '/projects/ps-yeolab3/bay001/annotations/hg19/hg19.chrom.sizes'\n",
    "\n",
    "def get_peak_interval_from_annotated_dataframe(df, slop, chrom_sizes=None):\n",
    "    \"\"\" \n",
    "    Returns a bedtool from a peaks dataframe. \n",
    "    Peaks dataframe is basically a df can come from an \"eric-annotated\" or \"brian-annotated\" file so as long as it contains the correct fields. \n",
    "    \"\"\"\n",
    "    bedtool = []\n",
    "    for row in df.iterrows():\n",
    "        try:\n",
    "            interval = pybedtools.create_interval_from_list([row[1]['chrom'], int(row[1]['start']), int(row[1]['end']), row[1]['geneid'], \"0\", row[1]['strand']])\n",
    "        except KeyError:\n",
    "            interval = pybedtools.create_interval_from_list([row[1]['chrom'], int(row[1]['start']), int(row[1]['end']), row[1]['l2fc'], \"0\", row[1]['strand']])\n",
    "        bedtool.append(interval)\n",
    "    bedtool = pybedtools.BedTool(bedtool).sort()\n",
    "    bedtool = bedtool.slop(b=slop, g=chrom_sizes)\n",
    "    print(\"size prior to merge: {}\".format(bedtool.to_dataframe().shape[0]))\n",
    "    bedtool = bedtool.merge(c=(4,5,6), s=True, o=('collapse','collapse','distinct'))\n",
    "    print(\"size after merge: {}\".format(bedtool.to_dataframe().shape[0]))\n",
    "    return bedtool\n",
    "\n",
    "# utr3_bedtool is a bedtool-ified version of the annotated dataframe for JUST 3'UTR peaks.\n",
    "peaks_bedtool = get_peak_interval_from_annotated_dataframe(peaks, slop=slop, chrom_sizes=chrom_sizes)\n",
    "# assert peaks_bedtool.to_dataframe().shape[0] == peaks.shape[0]"
   ]
  },
  {
   "cell_type": "code",
   "execution_count": 9,
   "metadata": {},
   "outputs": [],
   "source": [
    "def record_id_to_coords(id_string):\n",
    "    \"\"\" \n",
    "    Turns a seqrecord fasta id into coordinates.\n",
    "    seqrecord fasta ids (stranded) look like this:\n",
    "    \n",
    "    chr11:1774028-1774186(-)\n",
    "    \n",
    "    \"\"\"\n",
    "    chrom, pos = id_string.split(':')\n",
    "    coord, strand = pos.split('(')\n",
    "    strand = strand.replace(')','')\n",
    "    start, end = coord.split('-')\n",
    "    try:\n",
    "        assert (strand == '+') or (strand == '-')\n",
    "    except AssertionError:\n",
    "        print(\"Strand not correct: [{}]\".format(strand))\n",
    "        return 1\n",
    "    return chrom, int(start), int(end), strand"
   ]
  },
  {
   "cell_type": "markdown",
   "metadata": {},
   "source": [
    "# Get the sequence from the 3'UTR peaks and save them. This will report strand-specific, so negative stranded coordinates will return the reverse complement. "
   ]
  },
  {
   "cell_type": "code",
   "execution_count": 10,
   "metadata": {},
   "outputs": [],
   "source": [
    "def write_peaks_as_fasta(bedtool, genome_fa, output_fasta):\n",
    "    \"\"\"\n",
    "    Writes peaks as strand-specific FASTA sequences. \n",
    "    s=True means we will be returning the reverse complement \n",
    "    sequence for negative strand peaks.\n",
    "    \"\"\"\n",
    "    seq_bedtool = bedtool.sequence(fi=genome_fa, s=True)\n",
    "    with open(output_fasta, 'w') as f:\n",
    "        f.write(open(seq_bedtool.seqfn).read())\n",
    "\n",
    "output_fasta = os.path.join(output_dir, os.path.splitext(os.path.basename(bed_file))[0] + \".fasta\")\n",
    "\n",
    "write_peaks_as_fasta(\n",
    "    bedtool=peaks_bedtool,\n",
    "    genome_fa=genome_fasta,\n",
    "    output_fasta=output_fasta\n",
    ")"
   ]
  },
  {
   "cell_type": "markdown",
   "metadata": {},
   "source": [
    "# sanity check - make sure there is a significant portion of peaks that contain the motif."
   ]
  },
  {
   "cell_type": "code",
   "execution_count": 11,
   "metadata": {},
   "outputs": [
    {
     "name": "stdout",
     "output_type": "stream",
     "text": [
      "Peaks with motif: 911. Peaks WITHOUT motif: 0\n"
     ]
    }
   ],
   "source": [
    "def reverse_complement(seq):\n",
    "    \"\"\" \n",
    "    Returns the reverse complement of a sequence. \n",
    "    \"\"\"\n",
    "    complement = {'A': 'T', 'C': 'G', 'G': 'C', 'T': 'A', 'a': 't', 'c': 'g', 'g': 'c', 't': 'a'} \n",
    "    bases = list(seq) \n",
    "    bases = reversed([complement.get(base,base) for base in bases])\n",
    "    bases = ''.join(bases)\n",
    "    return bases\n",
    "\n",
    "def write_peaks_with_motif(peaks, peaks_w_motif):\n",
    "    \"\"\"\n",
    "    This function assumes negative stranded sequences are reverse-complemented. \n",
    "    @see write_peaks_as_fasta()\n",
    "    \"\"\"\n",
    "    with_motif_counter = 0\n",
    "    without_motif_counter = 0\n",
    "    \n",
    "    with open(peaks_w_motif, 'w') as o:\n",
    "        with open(peaks, 'r') as f:\n",
    "            for line in f:\n",
    "                if line.startswith('>'):\n",
    "                    chrom, start, end, strand = record_id_to_coords(line[1:].rstrip())\n",
    "                else:\n",
    "                    if strand == '+' or strand == '-':\n",
    "                        if line.upper().find(motif) != -1:\n",
    "                            o.write(\"{}\\t{}\\t{}\\t{}\\t{}\\t{}\\n\".format(chrom, start, end, line.rstrip(), '0', strand))\n",
    "                            with_motif_counter += 1\n",
    "                        else:\n",
    "                            without_motif_counter += 1\n",
    "                    else:\n",
    "                        print('strand not correct: [{}]'.format(strand))\n",
    "    print(\"Peaks with motif: {}. Peaks WITHOUT motif: {}\".format(with_motif_counter, without_motif_counter))\n",
    "    return with_motif_counter, without_motif_counter\n",
    "\n",
    "with_motif_counter, without_motif_counter = write_peaks_with_motif(\n",
    "    os.path.join(output_dir, os.path.splitext(os.path.basename(bed_file))[0] + \".fasta\"),\n",
    "    os.path.join(output_dir, os.path.splitext(os.path.basename(bed_file))[0] + \".with.{}.bed\".format(motif))\n",
    ")"
   ]
  },
  {
   "cell_type": "markdown",
   "metadata": {},
   "source": [
    "# Make sure every sequence we have has the motif."
   ]
  },
  {
   "cell_type": "code",
   "execution_count": 12,
   "metadata": {},
   "outputs": [],
   "source": [
    "def return_sequence_records_with_motif(fn, motif):\n",
    "    \"\"\"\n",
    "    Returns a SeqIO record of sequences containing the motif. We expect this \n",
    "    FASTA file to contain the reverse-complement sequences if negative strand. \n",
    "    We also expect the FASTA headers to contain strand info \n",
    "    @see BedTool.sequence(fi=hg19.fa, s=True)\n",
    "    \"\"\"\n",
    "    seqs_with_motif = []\n",
    "    with open(fn, 'r') as f:\n",
    "        for record in SeqIO.parse(f, \"fasta\"):\n",
    "            chrom, start, end, strand = record_id_to_coords(record.id)\n",
    "            if (strand == '+' or strand =='-') and str(record.seq).upper().find(motif) != -1:\n",
    "                seqs_with_motif.append(record)\n",
    "            else:\n",
    "                assert strand == '+' or strand == '-'\n",
    "    return seqs_with_motif\n",
    "\n",
    "seqs_with_motif = return_sequence_records_with_motif(fn=os.path.join(output_dir, os.path.splitext(os.path.basename(bed_file))[0] + \".with.{}.bed\".format(motif)), motif=motif)\n",
    "\n",
    "# Make sure every region describes a motif\n",
    "\n",
    "for record in seqs_with_motif:\n",
    "    try:\n",
    "        record_upper = record.seq.upper()\n",
    "        assert record_upper[record_upper.find(motif):record_upper.find(motif)+len(motif)] == motif\n",
    "    except AssertionError:\n",
    "        print(record)"
   ]
  },
  {
   "cell_type": "markdown",
   "metadata": {},
   "source": [
    "# plot something nice"
   ]
  },
  {
   "cell_type": "code",
   "execution_count": 13,
   "metadata": {},
   "outputs": [
    {
     "data": {
      "text/plain": [
       "Text(0.5, 1.1, 'Peaks in regions with/without a motif')"
      ]
     },
     "execution_count": 13,
     "metadata": {},
     "output_type": "execute_result"
    },
    {
     "data": {
      "image/png": "[encoded data removed]",
      "text/plain": [
       "<Figure size 720x360 with 2 Axes>"
      ]
     },
     "metadata": {},
     "output_type": "display_data"
    }
   ],
   "source": [
    "fig, axs = plt.subplots(ncols=2, figsize=(10, 5))\n",
    "peaks['region'].value_counts().plot(kind='pie', ax=axs[0])\n",
    "axs[1].pie([with_motif_counter, without_motif_counter], labels=['{}'.format(motif),'No motif'],\n",
    "        autopct='%1.1f%%', shadow=True, startangle=90)\n",
    "\n",
    "axs[0].set_title(\"Breakdown of peaks in regions of interest\")\n",
    "axs[1].set_title(\"Peaks in regions with/without a motif\", y=1.1)"
   ]
  },
  {
   "cell_type": "code",
   "execution_count": null,
   "metadata": {},
   "outputs": [],
   "source": []
  }
 ],
 "metadata": {
  "kernelspec": {
   "display_name": "python3-essential",
   "language": "python",
   "name": "python3-essential"
  },
  "language_info": {
   "codemirror_mode": {
    "name": "ipython",
    "version": 3
   },
   "file_extension": ".py",
   "mimetype": "text/x-python",
   "name": "python",
   "nbconvert_exporter": "python",
   "pygments_lexer": "ipython3",
   "version": "3.6.7"
  }
 },
 "nbformat": 4,
 "nbformat_minor": 4
}
