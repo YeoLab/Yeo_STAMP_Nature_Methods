{
 "cells": [
  {
   "cell_type": "markdown",
   "metadata": {},
   "source": [
    "# This looks through the hg19 genome and finds all instances of a given motif, forward and reverse."
   ]
  },
  {
   "cell_type": "code",
   "execution_count": 1,
   "metadata": {},
   "outputs": [],
   "source": [
    "from Bio import SeqIO\n",
    "import pandas as pd\n",
    "import numpy as np\n",
    "import os\n",
    "import glob\n",
    "import concurrent.futures\n",
    "from tqdm import tnrange, tqdm_notebook"
   ]
  },
  {
   "cell_type": "code",
   "execution_count": 2,
   "metadata": {},
   "outputs": [],
   "source": [
    "input_fa = '/projects/ps-yeolab3/bay001/annotations/hg19/hg19.fa'\n",
    "output_dir = '/home/bay001/projects/kris_apobec_20200121/permanent_data/final_analysis/01_SAILOR_bulk_rnaseq/outputs/motif_coords/'"
   ]
  },
  {
   "cell_type": "code",
   "execution_count": 3,
   "metadata": {},
   "outputs": [],
   "source": [
    "motif = 'TTTTC'\n",
    "\n",
    "def get_positions(record, motif=motif, output_dir=output_dir):\n",
    "    i = 0\n",
    "    positions = []\n",
    "    progress = tnrange(len(record.seq))\n",
    "    while i < len(record.seq)-len(motif):\n",
    "        kmer = record.seq[i:i+len(motif)].upper()\n",
    "        if kmer == motif:\n",
    "            positions.append(\"{}\\t{}\\t{}\\t{}\\t{}\\t{}\\n\".format(\n",
    "                record.name, i, i+len(motif), motif, '0', '+'\n",
    "            ))\n",
    "        i+=1\n",
    "        progress.update(1)\n",
    "    with open(os.path.join(output_dir, \"{}.{}.bed\".format(motif, record.name)), 'w') as o:\n",
    "        for position in positions:\n",
    "            o.write(position)\n",
    "\n",
    "records = SeqIO.parse(input_fa, \"fasta\")\n",
    "with concurrent.futures.ProcessPoolExecutor() as executor:\n",
    "    for record, positions in zip(records, executor.map(get_positions, records)):\n",
    "        print(positions)"
   ]
  },
  {
   "cell_type": "code",
   "execution_count": 4,
   "metadata": {},
   "outputs": [],
   "source": [
    "motif = 'GAAAA'\n",
    "\n",
    "def get_positions(record, motif=motif, output_dir=output_dir):\n",
    "    i = 0\n",
    "    positions = []\n",
    "    progress = tnrange(len(record.seq))\n",
    "    while i < len(record.seq)-len(motif):\n",
    "        kmer = record.seq[i:i+len(motif)].upper()\n",
    "        if kmer == motif:\n",
    "            positions.append(\"{}\\t{}\\t{}\\t{}\\t{}\\t{}\\n\".format(\n",
    "                record.name, i, i+len(motif), motif, '0', '-'\n",
    "            ))\n",
    "        i+=1\n",
    "        progress.update(1)\n",
    "    with open(os.path.join(output_dir, \"{}.{}.bed\".format(motif, record.name)), 'w') as o:\n",
    "        for position in positions:\n",
    "            o.write(position)\n",
    "\n",
    "records = SeqIO.parse(input_fa, \"fasta\")\n",
    "with concurrent.futures.ProcessPoolExecutor() as executor:\n",
    "    for record, positions in zip(records, executor.map(get_positions, records)):\n",
    "        print(positions)"
   ]
  },
  {
   "cell_type": "code",
   "execution_count": null,
   "metadata": {},
   "outputs": [],
   "source": []
  }
 ],
 "metadata": {
  "kernelspec": {
   "display_name": "python3-essential-tscc",
   "language": "python",
   "name": "python3essentialtscc"
  },
  "language_info": {
   "codemirror_mode": {
    "name": "ipython",
    "version": 3
   },
   "file_extension": ".py",
   "mimetype": "text/x-python",
   "name": "python",
   "nbconvert_exporter": "python",
   "pygments_lexer": "ipython3",
   "version": "3.6.7"
  }
 },
 "nbformat": 4,
 "nbformat_minor": 2
}
