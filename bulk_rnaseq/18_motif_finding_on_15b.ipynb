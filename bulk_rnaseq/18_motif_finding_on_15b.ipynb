{
 "cells": [
  {
   "cell_type": "markdown",
   "metadata": {},
   "source": [
    "# Takes in STAMP \"peaks\" (windows_51.txt in the paper) and generates the motif analysis commands. Also performs two filters (using an escore cutoff as well as a re-calculation of the confidence score across the entire window) and performs motif calling based on these filtered lists."
   ]
  },
  {
   "cell_type": "code",
   "execution_count": 1,
   "metadata": {},
   "outputs": [],
   "source": [
    "%matplotlib inline\n",
    "import matplotlib.pyplot as plt\n",
    "import seaborn as sns\n",
    "import glob\n",
    "import os\n",
    "import pandas as pd\n",
    "import numpy as np\n",
    "import os\n",
    "import pybedtools\n",
    "import warnings\n",
    "warnings.simplefilter(action='ignore', category=FutureWarning)\n",
    "from qtools import Submitter\n",
    "from tqdm import tnrange, tqdm_notebook\n",
    "\n",
    "from scipy.special import betainc"
   ]
  },
  {
   "cell_type": "code",
   "execution_count": 2,
   "metadata": {},
   "outputs": [],
   "source": [
    "input_dir = '/home/bay001/projects/kris_apobec_20200121/permanent_data/final_analysis/01_SAILOR_bulk_rnaseq/window_outputs/'\n",
    "output_dir = '/home/bay001/projects/kris_apobec_20200121/permanent_data/final_analysis/figure_2/outputs/motifs/'\n",
    "bash_script_dir = '/home/bay001/projects/kris_apobec_20200121/permanent_data/final_analysis/01_SAILOR_bulk_rnaseq/bash_scripts/'"
   ]
  },
  {
   "cell_type": "code",
   "execution_count": 3,
   "metadata": {},
   "outputs": [],
   "source": [
    "genome_fasta = '/projects/ps-yeolab3/bay001/annotations/hg19/hg19.fa'\n",
    "editc_threshold = 0.0\n",
    "e = 0.001\n",
    "conf_threshold = 0.99\n",
    "\n",
    "cmds = []"
   ]
  },
  {
   "cell_type": "code",
   "execution_count": 4,
   "metadata": {},
   "outputs": [],
   "source": [
    "txt_file = os.path.join(\n",
    "    input_dir, \n",
    "    'SLBP_1000_72hr_merged_a0_b0_e0.01.annotated.windows_51.txt'\n",
    ")\n",
    "output_editc_filtered_bed = os.path.join(\n",
    "    output_dir, \n",
    "    '{}.editc_{}.bed'.format(os.path.splitext(os.path.basename(txt_file))[0], editc_threshold)\n",
    ")\n",
    "output_conf_filtered_bed = os.path.join(\n",
    "    output_dir, \n",
    "    '{}.e{}_conf{}.bed'.format(os.path.splitext(os.path.basename(txt_file))[0], e, conf_threshold)\n",
    ")"
   ]
  },
  {
   "cell_type": "code",
   "execution_count": 5,
   "metadata": {},
   "outputs": [
    {
     "name": "stdout",
     "output_type": "stream",
     "text": [
      "chrom\tstart\tend\tname\tscore\tstrand\tedit_coverage\teditable_coverage\tedited_over_edited_c\tall_c_coverage\tedited_over_all_c\n",
      "chr1\t14480\t14531\tENSG00000227232.4|noncoding_exon\t0.739700373\t-\t9\t102\t0.08823529411764706\t452\t0.01991150442477876\n",
      "chr1\t14487\t14538\tENSG00000227232.4|noncoding_exon\t0.9997464509999999\t-\t9\t102\t0.08823529411764706\t504\t0.017857142857142856\n",
      "chr1\t14496\t14547\tENSG00000227232.4|noncoding_exon\t0.999437382\t-\t9\t102\t0.08823529411764706\t581\t0.01549053356282272\n",
      "chr1\t17690\t17741\tENSG00000227232.4|noncoding_exon\t0.99999999\t-\t4\t5\t0.8\t42\t0.09523809523809523\n",
      "chr1\t18539\t18590\tENSG00000227232.4|proxnoncoding_intron500\t0.851457771\t-\t1\t17\t0.058823529411764705\t306\t0.0032679738562091504\n",
      "chr1\t18617\t18668\tENSG00000227232.4|proxnoncoding_intron500\t0.999734695\t-\t3\t14\t0.21428571428571427\t147\t0.02040816326530612\n",
      "chr1\t20098\t20149\tENSG00000227232.4|distnoncoding_intron500\t0.80163059\t-\t5\t44\t0.11363636363636363\t372\t0.013440860215053764\n",
      "chr1\t20118\t20169\tENSG00000227232.4|distnoncoding_intron500\t0.999957379\t-\t5\t44\t0.11363636363636363\t351\t0.014245014245014245\n",
      "chr1\t20387\t20438\tENSG00000227232.4|distnoncoding_intron500\t0.7700431459999999\t-\t1\t27\t0.037037037037037035\t331\t0.0030211480362537764\n"
     ]
    }
   ],
   "source": [
    "assert os.path.exists(txt_file)\n",
    "\n",
    "! head $txt_file"
   ]
  },
  {
   "cell_type": "markdown",
   "metadata": {},
   "source": [
    "# Filter on some value based on editC cutoff from plot."
   ]
  },
  {
   "cell_type": "code",
   "execution_count": 6,
   "metadata": {},
   "outputs": [
    {
     "name": "stdout",
     "output_type": "stream",
     "text": [
      "Filtering sites: 95030 -> 95030\n"
     ]
    },
    {
     "data": {
      "text/plain": [
       "0"
      ]
     },
     "execution_count": 6,
     "metadata": {},
     "output_type": "execute_result"
    }
   ],
   "source": [
    "def write_bedfile_from_txt_file(txt_file, editc_threshold, output_bed):\n",
    "    \n",
    "    try:\n",
    "        df = pd.read_csv(txt_file, sep='\\t')\n",
    "        orig_n = df.shape[0]\n",
    "\n",
    "        df = df[df['edited_over_all_c']>=editc_threshold]\n",
    "        new_n = df.shape[0]\n",
    "        print(\"Filtering sites: {} -> {}\".format(orig_n, new_n))\n",
    "        \n",
    "        bedtool = pybedtools.BedTool.from_dataframe(df[['chrom','start','end','name','edited_over_all_c','strand']])\n",
    "        bedtool = bedtool.sort().merge(s=True, c=(4,5,6), o=('collapse','mean','distinct'))\n",
    "        bedtool.saveas(output_bed)\n",
    "\n",
    "        return 0\n",
    "    except Exception as e:\n",
    "        print(e)\n",
    "        return 1\n",
    "\n",
    "write_bedfile_from_txt_file(txt_file, editc_threshold, output_editc_filtered_bed)  # 28189 for RBFOX2-1000"
   ]
  },
  {
   "cell_type": "code",
   "execution_count": 7,
   "metadata": {},
   "outputs": [],
   "source": [
    "def write_motif_analysis_cmd(bed_file, genome_fasta=genome_fasta):\n",
    "    \n",
    "    out_homer_dir = os.path.join(\n",
    "        output_dir, \n",
    "        os.path.splitext(os.path.basename(bed_file))[0]\n",
    "    )\n",
    "    out_file = out_homer_dir + '.svg'\n",
    "    out_pickle_file = out_homer_dir + '.pickle'\n",
    "    if not os.path.exists(out_file):\n",
    "        cmd = 'module load eclipanalysis/0.0.3a;analyze_motifs '\n",
    "        cmd += '--peaks {} '.format(bed_file)\n",
    "        cmd += '--out_pickle_file {} '.format(out_pickle_file)\n",
    "        cmd += '--out_file {} '.format(out_file)\n",
    "        cmd += '--species hg19 '\n",
    "        cmd += '--out_homer_dir {} '.format(out_homer_dir)\n",
    "        cmd += '--genome_fasta {} '.format(genome_fasta)\n",
    "        return cmd\n",
    "    else: \n",
    "        return None\n",
    "    \n",
    "cmd = write_motif_analysis_cmd(output_editc_filtered_bed)\n",
    "if cmd is not None:\n",
    "    cmds.append(cmd)"
   ]
  },
  {
   "cell_type": "raw",
   "metadata": {},
   "source": [
    "# If we decide to do this in batch, otherwise leave this as raw txt, not code.\n",
    "Submitter(\n",
    "    cmds, \n",
    "    'motif_analysis', \n",
    "    sh=os.path.join(bash_script_dir, 'motif_analysis.sh'), \n",
    "    nodes=1, \n",
    "    ppn=1, \n",
    "    array=True, \n",
    "    submit=False, \n",
    "    walltime='40:00:00'\n",
    ")"
   ]
  },
  {
   "cell_type": "markdown",
   "metadata": {},
   "source": [
    "# What if we try filtering based on conf values? We can grab all txt files now if we want."
   ]
  },
  {
   "cell_type": "code",
   "execution_count": 8,
   "metadata": {},
   "outputs": [
    {
     "name": "stdout",
     "output_type": "stream",
     "text": [
      "5\n"
     ]
    },
    {
     "data": {
      "text/plain": [
       "['/home/bay001/projects/kris_apobec_20200121/permanent_data/final_analysis/01_SAILOR_bulk_rnaseq/window_outputs/SRSF1_13_S21_L002_R1_001.fastqTr.sorted.STARUnmapped.out.sorted.STARAligned.out.sorted_a0_b0_e0.01.annotated.windows_51.txt',\n",
       " '/home/bay001/projects/kris_apobec_20200121/permanent_data/final_analysis/01_SAILOR_bulk_rnaseq/window_outputs/SRSF1_14_S22_L002_R1_001.fastqTr.sorted.STARUnmapped.out.sorted.STARAligned.out.sorted_a0_b0_e0.01.annotated.windows_51.txt',\n",
       " '/home/bay001/projects/kris_apobec_20200121/permanent_data/final_analysis/01_SAILOR_bulk_rnaseq/window_outputs/SRSF1_15_S23_L002_R1_001.fastqTr.sorted.STARUnmapped.out.sorted.STARAligned.out.sorted_a0_b0_e0.01.annotated.windows_51.txt']"
      ]
     },
     "execution_count": 8,
     "metadata": {},
     "output_type": "execute_result"
    }
   ],
   "source": [
    "all_txt_files = sorted(glob.glob(os.path.join(input_dir, 'SRSF*.annotated.windows_51.txt')))\n",
    "print(len(all_txt_files))\n",
    "all_txt_files[:3]"
   ]
  },
  {
   "cell_type": "code",
   "execution_count": 9,
   "metadata": {},
   "outputs": [],
   "source": [
    "def compute_confidence(row, cov_margin):\n",
    "    \"\"\"\n",
    "    Taken from rank_edits.py from SAILOR\n",
    "    \"\"\"\n",
    "    # Default, don't use pseudocounts for now.\n",
    "    alfa=0\n",
    "    beta=0\n",
    "    g = row['edit_coverage']\n",
    "    a = row['all_c_coverage']\n",
    "    \n",
    "    # calc smoothed counts and confidence\n",
    "    G = g + alfa\n",
    "    A = a + beta\n",
    "    try:\n",
    "        theta = G / float(G + A)\n",
    "    except ZeroDivisionError:\n",
    "        return 0\n",
    "    ########  MOST IMPORTANT LINE  ########\n",
    "    # calculates the confidence of theta as\n",
    "    # P( theta < cov_margin | A, G) ~ Beta_theta(G, A)\n",
    "    confidence = 1 - betainc(G, A, cov_margin)\n",
    "    return confidence\n",
    "\n",
    "\n",
    "def read_and_filter_conf(rep_file, cov_margin, conf, output_file):\n",
    "    \"\"\"\n",
    "    Reads and computes conf across a window. Saves and returns both the\n",
    "    unfiltered and filtered dataframe for downstream analysis. \n",
    "    Saves the filtered output to output_file.\n",
    "    \"\"\"\n",
    "    rep = pd.read_csv(rep_file, sep='\\t')\n",
    "    plot_editc_distribution(\n",
    "        rep=rep,\n",
    "        output_svg=os.path.splitext(output_file)[0] + '.editc_dist.svg'\n",
    "    )\n",
    "    rep['conf'] = rep.apply(compute_confidence, args=(cov_margin,), axis=1)\n",
    "    rep['conf'].fillna(0, inplace=True)\n",
    "    \n",
    "    rep_filtered = rep[rep['conf'] >= conf]\n",
    "    # rep_filtered['log2_editc'] = np.log2(rep_filtered['edited_over_all_c'])\n",
    "    # rep_filtered[['chrom','start','end','name','log2_editc','strand']].to_csv(output_file, sep='\\t', index=False, header=False)\n",
    "    bedtool = pybedtools.BedTool.from_dataframe(\n",
    "        rep_filtered[['chrom','start','end','name','edited_over_all_c','strand']]\n",
    "    )\n",
    "    bedtool = bedtool.sort().merge(s=True, c=(4,5,6), o=('collapse','mean','distinct'))\n",
    "    bedtool.saveas(output_file)\n",
    "    \n",
    "    # Plot the distribution of \"peak\" lengths\n",
    "    _filtered = bedtool.to_dataframe()\n",
    "    _filtered['length'] = _filtered['end'] - _filtered['start']\n",
    "    plot_length_distribution(\n",
    "        filtered_list=_filtered, \n",
    "        output_svg=os.path.splitext(output_file)[0] + '.peak_lengths.svg'\n",
    "    )\n",
    "    \n",
    "    print(\"Filtered {} {} -> {}\".format(os.path.basename(rep_file), rep.shape[0], rep_filtered.shape[0]))\n",
    "    \n",
    "    return rep, rep_filtered\n",
    "\n",
    "def plot_editc_distribution(rep, output_svg):\n",
    "    fig, ax = plt.subplots()\n",
    "    sns.distplot(rep['edited_over_all_c'], bins=50, ax=ax)\n",
    "    fig.savefig(output_svg)\n",
    "    plt.close()\n",
    "    \n",
    "def plot_length_distribution(filtered_list, output_svg):\n",
    "    fig, ax = plt.subplots()\n",
    "    sns.distplot(filtered_list['length'], bins=50, ax=ax)\n",
    "    fig.savefig(output_svg)\n",
    "    plt.close()\n",
    "    "
   ]
  },
  {
   "cell_type": "code",
   "execution_count": 10,
   "metadata": {},
   "outputs": [
    {
     "name": "stdout",
     "output_type": "stream",
     "text": [
      "Filtered SLBP_1000_72hr_merged_a0_b0_e0.01.annotated.windows_51.txt 95030 -> 4499\n",
      "chr1\t14480\t14547\tENSG00000227232.4|noncoding_exon,ENSG00000227232.4|noncoding_exon,ENSG00000227232.4|noncoding_exon\t0.01775306028\t-\n",
      "chr1\t17690\t17741\tENSG00000227232.4|noncoding_exon\t0.09523809524\t-\n",
      "chr1\t18617\t18668\tENSG00000227232.4|proxnoncoding_intron500\t0.02040816327\t-\n",
      "chr1\t20098\t20169\tENSG00000227232.4|distnoncoding_intron500,ENSG00000227232.4|distnoncoding_intron500\t0.01384293723\t-\n",
      "chr1\t146460\t146513\tENSG00000241860.2|noncoding_exon,ENSG00000241860.2|noncoding_exon\t0.01914971596\t-\n",
      "chr1\t158559\t158610\tENSG00000241860.2|distnoncoding_intron500\t0.07317073171\t-\n",
      "chr1\t327477\t327544\tENSG00000250575.1|noncoding_exon,ENSG00000250575.1|noncoding_exon\t0.022062657\t+\n",
      "chr1\t564520\t564594\tENSG00000225972.1|noncoding_exon,ENSG00000225972.1|noncoding_exon,ENSG00000225972.1|noncoding_exon\t0.02541942078\t+\n",
      "chr1\t567165\t567220\tENSG00000237973.1|noncoding_exon,ENSG00000237973.1|noncoding_exon\t0.01961451247\t+\n",
      "chr1\t569848\t569899\tENSG00000198744.5|noncoding_exon\t0.03020134228\t+\n"
     ]
    }
   ],
   "source": [
    "rep, filtered = read_and_filter_conf(\n",
    "    txt_file, \n",
    "    cov_margin=e, \n",
    "    conf=conf_threshold, \n",
    "    output_file=output_conf_filtered_bed\n",
    ")\n",
    "\n",
    "! head $output_conf_filtered_bed"
   ]
  },
  {
   "cell_type": "code",
   "execution_count": 11,
   "metadata": {},
   "outputs": [
    {
     "name": "stdout",
     "output_type": "stream",
     "text": [
      "Filtered SRSF1_13_S21_L002_R1_001.fastqTr.sorted.STARUnmapped.out.sorted.STARAligned.out.sorted_a0_b0_e0.01.annotated.windows_51.txt 15753 -> 1294\n",
      "Filtered SRSF1_14_S22_L002_R1_001.fastqTr.sorted.STARUnmapped.out.sorted.STARAligned.out.sorted_a0_b0_e0.01.annotated.windows_51.txt 16524 -> 1586\n",
      "Filtered SRSF1_15_S23_L002_R1_001.fastqTr.sorted.STARUnmapped.out.sorted.STARAligned.out.sorted_a0_b0_e0.01.annotated.windows_51.txt 25494 -> 4363\n",
      "Filtered SRSF1_16_S24_L002_R1_001.fastqTr.sorted.STARUnmapped.out.sorted.STARAligned.out.sorted_a0_b0_e0.01.annotated.windows_51.txt 23024 -> 4026\n",
      "Filtered SRSF1_S43_merged.fastqTr.sorted.STARUnmapped.out.sorted.STARAligned.out.sorted_a0_b0_e0.01.annotated.windows_51.txt 21034 -> 1994\n"
     ]
    }
   ],
   "source": [
    "for txt_file in all_txt_files:\n",
    "    output_conf_filtered_bed = os.path.join(\n",
    "        output_dir, \n",
    "        '{}.e{}_conf{}.bed'.format(os.path.splitext(os.path.basename(txt_file))[0], e, conf_threshold)\n",
    "    )\n",
    "    rep, filtered = read_and_filter_conf(\n",
    "        txt_file, \n",
    "        cov_margin=e, \n",
    "        conf=conf_threshold, \n",
    "        output_file=output_conf_filtered_bed\n",
    "    )\n",
    "    cmd = write_motif_analysis_cmd(bed_file=output_conf_filtered_bed)\n",
    "    if cmd is not None:\n",
    "        cmds.append(cmd)\n",
    "        \n",
    "# RBFOX2-50 172150 -> 76889"
   ]
  },
  {
   "cell_type": "code",
   "execution_count": 12,
   "metadata": {},
   "outputs": [
    {
     "name": "stderr",
     "output_type": "stream",
     "text": [
      "Writing 6 tasks as an array-job.\n",
      "Wrote commands to /home/bay001/projects/kris_apobec_20200121/permanent_data/final_analysis/01_SAILOR_bulk_rnaseq/bash_scripts/motif_analysis.sh.\n",
      "Submitted script to queue home.\n",
      " Job ID: 21705797\n"
     ]
    },
    {
     "data": {
      "text/plain": [
       "<qtools.submitter.Submitter at 0x2ad932316d50>"
      ]
     },
     "execution_count": 12,
     "metadata": {},
     "output_type": "execute_result"
    }
   ],
   "source": [
    "Submitter(\n",
    "    cmds, \n",
    "    'motif_analysis', \n",
    "    sh=os.path.join(bash_script_dir, 'motif_analysis.sh'), \n",
    "    nodes=1, \n",
    "    ppn=1, \n",
    "    array=True, \n",
    "    submit=True, \n",
    "    walltime='40:00:00'\n",
    ")"
   ]
  },
  {
   "cell_type": "code",
   "execution_count": 13,
   "metadata": {},
   "outputs": [
    {
     "data": {
      "text/plain": [
       "['module load eclipanalysis/0.0.3a;analyze_motifs --peaks /home/bay001/projects/kris_apobec_20200121/permanent_data/final_analysis/figure_2/outputs/motifs/SLBP_1000_72hr_merged_a0_b0_e0.01.annotated.windows_51.editc_0.0.bed --out_pickle_file /home/bay001/projects/kris_apobec_20200121/permanent_data/final_analysis/figure_2/outputs/motifs/SLBP_1000_72hr_merged_a0_b0_e0.01.annotated.windows_51.editc_0.0.pickle --out_file /home/bay001/projects/kris_apobec_20200121/permanent_data/final_analysis/figure_2/outputs/motifs/SLBP_1000_72hr_merged_a0_b0_e0.01.annotated.windows_51.editc_0.0.svg --species hg19 --out_homer_dir /home/bay001/projects/kris_apobec_20200121/permanent_data/final_analysis/figure_2/outputs/motifs/SLBP_1000_72hr_merged_a0_b0_e0.01.annotated.windows_51.editc_0.0 --genome_fasta /projects/ps-yeolab3/bay001/annotations/hg19/hg19.fa ',\n",
       " 'module load eclipanalysis/0.0.3a;analyze_motifs --peaks /home/bay001/projects/kris_apobec_20200121/permanent_data/final_analysis/figure_2/outputs/motifs/SRSF1_13_S21_L002_R1_001.fastqTr.sorted.STARUnmapped.out.sorted.STARAligned.out.sorted_a0_b0_e0.01.annotated.windows_51.e0.001_conf0.99.bed --out_pickle_file /home/bay001/projects/kris_apobec_20200121/permanent_data/final_analysis/figure_2/outputs/motifs/SRSF1_13_S21_L002_R1_001.fastqTr.sorted.STARUnmapped.out.sorted.STARAligned.out.sorted_a0_b0_e0.01.annotated.windows_51.e0.001_conf0.99.pickle --out_file /home/bay001/projects/kris_apobec_20200121/permanent_data/final_analysis/figure_2/outputs/motifs/SRSF1_13_S21_L002_R1_001.fastqTr.sorted.STARUnmapped.out.sorted.STARAligned.out.sorted_a0_b0_e0.01.annotated.windows_51.e0.001_conf0.99.svg --species hg19 --out_homer_dir /home/bay001/projects/kris_apobec_20200121/permanent_data/final_analysis/figure_2/outputs/motifs/SRSF1_13_S21_L002_R1_001.fastqTr.sorted.STARUnmapped.out.sorted.STARAligned.out.sorted_a0_b0_e0.01.annotated.windows_51.e0.001_conf0.99 --genome_fasta /projects/ps-yeolab3/bay001/annotations/hg19/hg19.fa ',\n",
       " 'module load eclipanalysis/0.0.3a;analyze_motifs --peaks /home/bay001/projects/kris_apobec_20200121/permanent_data/final_analysis/figure_2/outputs/motifs/SRSF1_14_S22_L002_R1_001.fastqTr.sorted.STARUnmapped.out.sorted.STARAligned.out.sorted_a0_b0_e0.01.annotated.windows_51.e0.001_conf0.99.bed --out_pickle_file /home/bay001/projects/kris_apobec_20200121/permanent_data/final_analysis/figure_2/outputs/motifs/SRSF1_14_S22_L002_R1_001.fastqTr.sorted.STARUnmapped.out.sorted.STARAligned.out.sorted_a0_b0_e0.01.annotated.windows_51.e0.001_conf0.99.pickle --out_file /home/bay001/projects/kris_apobec_20200121/permanent_data/final_analysis/figure_2/outputs/motifs/SRSF1_14_S22_L002_R1_001.fastqTr.sorted.STARUnmapped.out.sorted.STARAligned.out.sorted_a0_b0_e0.01.annotated.windows_51.e0.001_conf0.99.svg --species hg19 --out_homer_dir /home/bay001/projects/kris_apobec_20200121/permanent_data/final_analysis/figure_2/outputs/motifs/SRSF1_14_S22_L002_R1_001.fastqTr.sorted.STARUnmapped.out.sorted.STARAligned.out.sorted_a0_b0_e0.01.annotated.windows_51.e0.001_conf0.99 --genome_fasta /projects/ps-yeolab3/bay001/annotations/hg19/hg19.fa ',\n",
       " 'module load eclipanalysis/0.0.3a;analyze_motifs --peaks /home/bay001/projects/kris_apobec_20200121/permanent_data/final_analysis/figure_2/outputs/motifs/SRSF1_15_S23_L002_R1_001.fastqTr.sorted.STARUnmapped.out.sorted.STARAligned.out.sorted_a0_b0_e0.01.annotated.windows_51.e0.001_conf0.99.bed --out_pickle_file /home/bay001/projects/kris_apobec_20200121/permanent_data/final_analysis/figure_2/outputs/motifs/SRSF1_15_S23_L002_R1_001.fastqTr.sorted.STARUnmapped.out.sorted.STARAligned.out.sorted_a0_b0_e0.01.annotated.windows_51.e0.001_conf0.99.pickle --out_file /home/bay001/projects/kris_apobec_20200121/permanent_data/final_analysis/figure_2/outputs/motifs/SRSF1_15_S23_L002_R1_001.fastqTr.sorted.STARUnmapped.out.sorted.STARAligned.out.sorted_a0_b0_e0.01.annotated.windows_51.e0.001_conf0.99.svg --species hg19 --out_homer_dir /home/bay001/projects/kris_apobec_20200121/permanent_data/final_analysis/figure_2/outputs/motifs/SRSF1_15_S23_L002_R1_001.fastqTr.sorted.STARUnmapped.out.sorted.STARAligned.out.sorted_a0_b0_e0.01.annotated.windows_51.e0.001_conf0.99 --genome_fasta /projects/ps-yeolab3/bay001/annotations/hg19/hg19.fa ',\n",
       " 'module load eclipanalysis/0.0.3a;analyze_motifs --peaks /home/bay001/projects/kris_apobec_20200121/permanent_data/final_analysis/figure_2/outputs/motifs/SRSF1_16_S24_L002_R1_001.fastqTr.sorted.STARUnmapped.out.sorted.STARAligned.out.sorted_a0_b0_e0.01.annotated.windows_51.e0.001_conf0.99.bed --out_pickle_file /home/bay001/projects/kris_apobec_20200121/permanent_data/final_analysis/figure_2/outputs/motifs/SRSF1_16_S24_L002_R1_001.fastqTr.sorted.STARUnmapped.out.sorted.STARAligned.out.sorted_a0_b0_e0.01.annotated.windows_51.e0.001_conf0.99.pickle --out_file /home/bay001/projects/kris_apobec_20200121/permanent_data/final_analysis/figure_2/outputs/motifs/SRSF1_16_S24_L002_R1_001.fastqTr.sorted.STARUnmapped.out.sorted.STARAligned.out.sorted_a0_b0_e0.01.annotated.windows_51.e0.001_conf0.99.svg --species hg19 --out_homer_dir /home/bay001/projects/kris_apobec_20200121/permanent_data/final_analysis/figure_2/outputs/motifs/SRSF1_16_S24_L002_R1_001.fastqTr.sorted.STARUnmapped.out.sorted.STARAligned.out.sorted_a0_b0_e0.01.annotated.windows_51.e0.001_conf0.99 --genome_fasta /projects/ps-yeolab3/bay001/annotations/hg19/hg19.fa ',\n",
       " 'module load eclipanalysis/0.0.3a;analyze_motifs --peaks /home/bay001/projects/kris_apobec_20200121/permanent_data/final_analysis/figure_2/outputs/motifs/SRSF1_S43_merged.fastqTr.sorted.STARUnmapped.out.sorted.STARAligned.out.sorted_a0_b0_e0.01.annotated.windows_51.e0.001_conf0.99.bed --out_pickle_file /home/bay001/projects/kris_apobec_20200121/permanent_data/final_analysis/figure_2/outputs/motifs/SRSF1_S43_merged.fastqTr.sorted.STARUnmapped.out.sorted.STARAligned.out.sorted_a0_b0_e0.01.annotated.windows_51.e0.001_conf0.99.pickle --out_file /home/bay001/projects/kris_apobec_20200121/permanent_data/final_analysis/figure_2/outputs/motifs/SRSF1_S43_merged.fastqTr.sorted.STARUnmapped.out.sorted.STARAligned.out.sorted_a0_b0_e0.01.annotated.windows_51.e0.001_conf0.99.svg --species hg19 --out_homer_dir /home/bay001/projects/kris_apobec_20200121/permanent_data/final_analysis/figure_2/outputs/motifs/SRSF1_S43_merged.fastqTr.sorted.STARUnmapped.out.sorted.STARAligned.out.sorted_a0_b0_e0.01.annotated.windows_51.e0.001_conf0.99 --genome_fasta /projects/ps-yeolab3/bay001/annotations/hg19/hg19.fa ']"
      ]
     },
     "execution_count": 13,
     "metadata": {},
     "output_type": "execute_result"
    }
   ],
   "source": [
    "cmds"
   ]
  },
  {
   "cell_type": "code",
   "execution_count": null,
   "metadata": {},
   "outputs": [],
   "source": []
  }
 ],
 "metadata": {
  "kernelspec": {
   "display_name": "python2essential (tscc)",
   "language": "python",
   "name": "python2essential"
  },
  "language_info": {
   "codemirror_mode": {
    "name": "ipython",
    "version": 2
   },
   "file_extension": ".py",
   "mimetype": "text/x-python",
   "name": "python",
   "nbconvert_exporter": "python",
   "pygments_lexer": "ipython2",
   "version": "2.7.15"
  }
 },
 "nbformat": 4,
 "nbformat_minor": 4
}
