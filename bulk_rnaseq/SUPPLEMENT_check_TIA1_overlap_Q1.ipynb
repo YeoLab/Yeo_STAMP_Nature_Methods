{
 "cells": [
  {
   "cell_type": "markdown",
   "metadata": {},
   "source": [
    "## The TIA1 edits don't seem to overlap as well as we thought for these top200/Q1 genes. Let's use BedTools and just see how many edits overlap, irrespective of position. These should line up with the numbers we're getting in our metagene plots."
   ]
  },
  {
   "cell_type": "code",
   "execution_count": 1,
   "metadata": {},
   "outputs": [],
   "source": [
    "import pandas as pd\n",
    "import numpy as np\n",
    "import os\n",
    "import glob\n",
    "import pybedtools"
   ]
  },
  {
   "cell_type": "code",
   "execution_count": 2,
   "metadata": {},
   "outputs": [],
   "source": [
    "input_dir = '/home/bay001/projects/kris_apobec_20200121/permanent_data/final_analysis/figure_3/inputs/'\n",
    "output_dir = '/home/bay001/projects/kris_apobec_20200121/permanent_data/final_analysis/figure_3/inputs/'"
   ]
  },
  {
   "cell_type": "code",
   "execution_count": 3,
   "metadata": {},
   "outputs": [],
   "source": [
    "# input_bed = os.path.join(input_dir, 'Tia1_1000ng_1_S14_L001_R1_001.fastqTr.sorted.STARUnmapped.out.sorted.STARAligned.out.sorted_a0_b0_e0.01.conf0.9.bed')\n",
    "input_bed = os.path.join(input_dir, 'Sample41_S41_merged.fastqTr.sorted.STARUnmapped.out.sorted.STARAligned.out.sorted_a0_b0_e0.01.conf0.5.bed')\n",
    "input_genepred = os.path.join(input_dir, 'hg19_gencode_v19.riboseq.Q1.genePred')"
   ]
  },
  {
   "cell_type": "code",
   "execution_count": 4,
   "metadata": {},
   "outputs": [
    {
     "data": {
      "text/html": [
       "<div>\n",
       "<style scoped>\n",
       "    .dataframe tbody tr th:only-of-type {\n",
       "        vertical-align: middle;\n",
       "    }\n",
       "\n",
       "    .dataframe tbody tr th {\n",
       "        vertical-align: top;\n",
       "    }\n",
       "\n",
       "    .dataframe thead th {\n",
       "        text-align: right;\n",
       "    }\n",
       "</style>\n",
       "<table border=\"1\" class=\"dataframe\">\n",
       "  <thead>\n",
       "    <tr style=\"text-align: right;\">\n",
       "      <th></th>\n",
       "      <th>chrom</th>\n",
       "      <th>start</th>\n",
       "      <th>end</th>\n",
       "      <th>name</th>\n",
       "      <th>score</th>\n",
       "      <th>strand</th>\n",
       "    </tr>\n",
       "  </thead>\n",
       "  <tbody>\n",
       "    <tr>\n",
       "      <th>0</th>\n",
       "      <td>chr1</td>\n",
       "      <td>564682</td>\n",
       "      <td>564683</td>\n",
       "      <td>0.842943</td>\n",
       "      <td>1,18</td>\n",
       "      <td>+</td>\n",
       "    </tr>\n",
       "    <tr>\n",
       "      <th>1</th>\n",
       "      <td>chr1</td>\n",
       "      <td>567218</td>\n",
       "      <td>567219</td>\n",
       "      <td>0.960596</td>\n",
       "      <td>1,5</td>\n",
       "      <td>+</td>\n",
       "    </tr>\n",
       "    <tr>\n",
       "      <th>2</th>\n",
       "      <td>chr1</td>\n",
       "      <td>877558</td>\n",
       "      <td>877559</td>\n",
       "      <td>0.950990</td>\n",
       "      <td>1,6</td>\n",
       "      <td>+</td>\n",
       "    </tr>\n",
       "    <tr>\n",
       "      <th>3</th>\n",
       "      <td>chr1</td>\n",
       "      <td>900549</td>\n",
       "      <td>900550</td>\n",
       "      <td>0.960596</td>\n",
       "      <td>1,5</td>\n",
       "      <td>+</td>\n",
       "    </tr>\n",
       "    <tr>\n",
       "      <th>4</th>\n",
       "      <td>chr1</td>\n",
       "      <td>1431430</td>\n",
       "      <td>1431431</td>\n",
       "      <td>0.960596</td>\n",
       "      <td>1,5</td>\n",
       "      <td>+</td>\n",
       "    </tr>\n",
       "  </tbody>\n",
       "</table>\n",
       "</div>"
      ],
      "text/plain": [
       "  chrom    start      end      name score strand\n",
       "0  chr1   564682   564683  0.842943  1,18      +\n",
       "1  chr1   567218   567219  0.960596   1,5      +\n",
       "2  chr1   877558   877559  0.950990   1,6      +\n",
       "3  chr1   900549   900550  0.960596   1,5      +\n",
       "4  chr1  1431430  1431431  0.960596   1,5      +"
      ]
     },
     "execution_count": 4,
     "metadata": {},
     "output_type": "execute_result"
    }
   ],
   "source": [
    "bed = pd.read_csv(input_bed, sep='\\t', names=['chrom','start','end','name','score','strand'])\n",
    "bed.head()"
   ]
  },
  {
   "cell_type": "code",
   "execution_count": 5,
   "metadata": {},
   "outputs": [
    {
     "data": {
      "text/html": [
       "<div>\n",
       "<style scoped>\n",
       "    .dataframe tbody tr th:only-of-type {\n",
       "        vertical-align: middle;\n",
       "    }\n",
       "\n",
       "    .dataframe tbody tr th {\n",
       "        vertical-align: top;\n",
       "    }\n",
       "\n",
       "    .dataframe thead th {\n",
       "        text-align: right;\n",
       "    }\n",
       "</style>\n",
       "<table border=\"1\" class=\"dataframe\">\n",
       "  <thead>\n",
       "    <tr style=\"text-align: right;\">\n",
       "      <th></th>\n",
       "      <th>#bin</th>\n",
       "      <th>name</th>\n",
       "      <th>chrom</th>\n",
       "      <th>strand</th>\n",
       "      <th>txStart</th>\n",
       "      <th>txEnd</th>\n",
       "      <th>cdsStart</th>\n",
       "      <th>cdsEnd</th>\n",
       "      <th>exonCount</th>\n",
       "      <th>exonStarts</th>\n",
       "      <th>exonEnds</th>\n",
       "      <th>score</th>\n",
       "      <th>name2</th>\n",
       "      <th>cdsStartStat</th>\n",
       "      <th>cdsEndStat</th>\n",
       "      <th>exonFrames</th>\n",
       "    </tr>\n",
       "  </thead>\n",
       "  <tbody>\n",
       "    <tr>\n",
       "      <th>0</th>\n",
       "      <td>1</td>\n",
       "      <td>ENST00000504551.2</td>\n",
       "      <td>chr1</td>\n",
       "      <td>+</td>\n",
       "      <td>16767215</td>\n",
       "      <td>16785503</td>\n",
       "      <td>16767256</td>\n",
       "      <td>16785385</td>\n",
       "      <td>6</td>\n",
       "      <td>16767215,16774364,16775587,16778332,16782312,1...</td>\n",
       "      <td>16767348,16774469,16775696,16778510,16782388,1...</td>\n",
       "      <td>0</td>\n",
       "      <td>NECAP2</td>\n",
       "      <td>cmpl</td>\n",
       "      <td>cmpl</td>\n",
       "      <td>0,2,2,0,1,2,</td>\n",
       "    </tr>\n",
       "    <tr>\n",
       "      <th>1</th>\n",
       "      <td>1</td>\n",
       "      <td>ENST00000374379.4</td>\n",
       "      <td>chr1</td>\n",
       "      <td>+</td>\n",
       "      <td>25071847</td>\n",
       "      <td>25170815</td>\n",
       "      <td>25072044</td>\n",
       "      <td>25167428</td>\n",
       "      <td>6</td>\n",
       "      <td>25071847,25124232,25140584,25153500,25166350,2...</td>\n",
       "      <td>25072116,25124342,25140710,25153607,25166532,2...</td>\n",
       "      <td>0</td>\n",
       "      <td>CLIC4</td>\n",
       "      <td>cmpl</td>\n",
       "      <td>cmpl</td>\n",
       "      <td>0,0,2,2,1,0,</td>\n",
       "    </tr>\n",
       "    <tr>\n",
       "      <th>2</th>\n",
       "      <td>3</td>\n",
       "      <td>ENST00000367669.3</td>\n",
       "      <td>chr1</td>\n",
       "      <td>-</td>\n",
       "      <td>175913966</td>\n",
       "      <td>176176629</td>\n",
       "      <td>175914288</td>\n",
       "      <td>176176114</td>\n",
       "      <td>20</td>\n",
       "      <td>175913966,175916330,175956078,175957423,175958...</td>\n",
       "      <td>175914306,175916375,175956239,175957548,175958...</td>\n",
       "      <td>0</td>\n",
       "      <td>RFWD2</td>\n",
       "      <td>cmpl</td>\n",
       "      <td>cmpl</td>\n",
       "      <td>0,0,1,2,1,1,0,2,2,1,0,2,0,0,0,0,1,2,2,0,</td>\n",
       "    </tr>\n",
       "    <tr>\n",
       "      <th>3</th>\n",
       "      <td>9</td>\n",
       "      <td>ENST00000343813.5</td>\n",
       "      <td>chr1</td>\n",
       "      <td>-</td>\n",
       "      <td>6281252</td>\n",
       "      <td>6296000</td>\n",
       "      <td>6285139</td>\n",
       "      <td>6295971</td>\n",
       "      <td>5</td>\n",
       "      <td>6281252,6291961,6293533,6294945,6295776,</td>\n",
       "      <td>6285322,6292179,6293703,6295034,6296000,</td>\n",
       "      <td>0</td>\n",
       "      <td>ICMT</td>\n",
       "      <td>cmpl</td>\n",
       "      <td>cmpl</td>\n",
       "      <td>0,1,2,0,0,</td>\n",
       "    </tr>\n",
       "    <tr>\n",
       "      <th>4</th>\n",
       "      <td>11</td>\n",
       "      <td>ENST00000321556.4</td>\n",
       "      <td>chr1</td>\n",
       "      <td>+</td>\n",
       "      <td>20959947</td>\n",
       "      <td>20978004</td>\n",
       "      <td>20960041</td>\n",
       "      <td>20977184</td>\n",
       "      <td>8</td>\n",
       "      <td>20959947,20964334,20966384,20970982,20972052,2...</td>\n",
       "      <td>20960428,20964622,20966485,20971165,20972216,2...</td>\n",
       "      <td>0</td>\n",
       "      <td>PINK1</td>\n",
       "      <td>cmpl</td>\n",
       "      <td>cmpl</td>\n",
       "      <td>0,0,0,2,2,1,0,0,</td>\n",
       "    </tr>\n",
       "  </tbody>\n",
       "</table>\n",
       "</div>"
      ],
      "text/plain": [
       "   #bin               name chrom strand    txStart      txEnd   cdsStart  \\\n",
       "0     1  ENST00000504551.2  chr1      +   16767215   16785503   16767256   \n",
       "1     1  ENST00000374379.4  chr1      +   25071847   25170815   25072044   \n",
       "2     3  ENST00000367669.3  chr1      -  175913966  176176629  175914288   \n",
       "3     9  ENST00000343813.5  chr1      -    6281252    6296000    6285139   \n",
       "4    11  ENST00000321556.4  chr1      +   20959947   20978004   20960041   \n",
       "\n",
       "      cdsEnd  exonCount                                         exonStarts  \\\n",
       "0   16785385          6  16767215,16774364,16775587,16778332,16782312,1...   \n",
       "1   25167428          6  25071847,25124232,25140584,25153500,25166350,2...   \n",
       "2  176176114         20  175913966,175916330,175956078,175957423,175958...   \n",
       "3    6295971          5           6281252,6291961,6293533,6294945,6295776,   \n",
       "4   20977184          8  20959947,20964334,20966384,20970982,20972052,2...   \n",
       "\n",
       "                                            exonEnds  score   name2  \\\n",
       "0  16767348,16774469,16775696,16778510,16782388,1...      0  NECAP2   \n",
       "1  25072116,25124342,25140710,25153607,25166532,2...      0   CLIC4   \n",
       "2  175914306,175916375,175956239,175957548,175958...      0   RFWD2   \n",
       "3           6285322,6292179,6293703,6295034,6296000,      0    ICMT   \n",
       "4  20960428,20964622,20966485,20971165,20972216,2...      0   PINK1   \n",
       "\n",
       "  cdsStartStat cdsEndStat                                exonFrames  \n",
       "0         cmpl       cmpl                              0,2,2,0,1,2,  \n",
       "1         cmpl       cmpl                              0,0,2,2,1,0,  \n",
       "2         cmpl       cmpl  0,0,1,2,1,1,0,2,2,1,0,2,0,0,0,0,1,2,2,0,  \n",
       "3         cmpl       cmpl                                0,1,2,0,0,  \n",
       "4         cmpl       cmpl                          0,0,0,2,2,1,0,0,  "
      ]
     },
     "execution_count": 5,
     "metadata": {},
     "output_type": "execute_result"
    }
   ],
   "source": [
    "genepred = pd.read_csv(input_genepred, sep='\\t')\n",
    "genepred.head()"
   ]
  },
  {
   "cell_type": "code",
   "execution_count": 6,
   "metadata": {},
   "outputs": [],
   "source": [
    "def row_to_interval(row):\n",
    "    intervals = []\n",
    "    starts = row['exonStarts'].split(',')\n",
    "    ends = row['exonEnds'].split(',')\n",
    "    \n",
    "    for start, end in zip(starts, ends):\n",
    "        if start != '':\n",
    "            intervals.append(pybedtools.create_interval_from_list(\n",
    "                [row['chrom'], start, end, row['name'], '0', row['strand']]\n",
    "            ))\n",
    "    return intervals"
   ]
  },
  {
   "cell_type": "code",
   "execution_count": 7,
   "metadata": {},
   "outputs": [],
   "source": [
    "genepred['intervals'] = genepred.apply(row_to_interval, axis=1)"
   ]
  },
  {
   "cell_type": "code",
   "execution_count": 8,
   "metadata": {},
   "outputs": [],
   "source": [
    "intervals = []\n",
    "for interval in genepred['intervals']:\n",
    "    intervals += interval"
   ]
  },
  {
   "cell_type": "code",
   "execution_count": 9,
   "metadata": {},
   "outputs": [
    {
     "name": "stderr",
     "output_type": "stream",
     "text": [
      "/projects/ps-yeolab4/software/yeolabconda3/envs/python3essential-0.0.1/lib/python3.6/site-packages/pybedtools/bedtool.py:3439: FutureWarning: read_table is deprecated, use read_csv instead, passing sep='\\t'.\n",
      "  return pandas.read_table(self.fn, *args, **kwargs)\n"
     ]
    },
    {
     "data": {
      "text/html": [
       "<div>\n",
       "<style scoped>\n",
       "    .dataframe tbody tr th:only-of-type {\n",
       "        vertical-align: middle;\n",
       "    }\n",
       "\n",
       "    .dataframe tbody tr th {\n",
       "        vertical-align: top;\n",
       "    }\n",
       "\n",
       "    .dataframe thead th {\n",
       "        text-align: right;\n",
       "    }\n",
       "</style>\n",
       "<table border=\"1\" class=\"dataframe\">\n",
       "  <thead>\n",
       "    <tr style=\"text-align: right;\">\n",
       "      <th></th>\n",
       "      <th>chrom</th>\n",
       "      <th>start</th>\n",
       "      <th>end</th>\n",
       "      <th>name</th>\n",
       "      <th>score</th>\n",
       "      <th>strand</th>\n",
       "    </tr>\n",
       "  </thead>\n",
       "  <tbody>\n",
       "    <tr>\n",
       "      <th>0</th>\n",
       "      <td>chr1</td>\n",
       "      <td>16767215</td>\n",
       "      <td>16767348</td>\n",
       "      <td>ENST00000504551.2</td>\n",
       "      <td>0</td>\n",
       "      <td>+</td>\n",
       "    </tr>\n",
       "    <tr>\n",
       "      <th>1</th>\n",
       "      <td>chr1</td>\n",
       "      <td>16774364</td>\n",
       "      <td>16774469</td>\n",
       "      <td>ENST00000504551.2</td>\n",
       "      <td>0</td>\n",
       "      <td>+</td>\n",
       "    </tr>\n",
       "    <tr>\n",
       "      <th>2</th>\n",
       "      <td>chr1</td>\n",
       "      <td>16775587</td>\n",
       "      <td>16775696</td>\n",
       "      <td>ENST00000504551.2</td>\n",
       "      <td>0</td>\n",
       "      <td>+</td>\n",
       "    </tr>\n",
       "    <tr>\n",
       "      <th>3</th>\n",
       "      <td>chr1</td>\n",
       "      <td>16778332</td>\n",
       "      <td>16778510</td>\n",
       "      <td>ENST00000504551.2</td>\n",
       "      <td>0</td>\n",
       "      <td>+</td>\n",
       "    </tr>\n",
       "    <tr>\n",
       "      <th>4</th>\n",
       "      <td>chr1</td>\n",
       "      <td>16782312</td>\n",
       "      <td>16782388</td>\n",
       "      <td>ENST00000504551.2</td>\n",
       "      <td>0</td>\n",
       "      <td>+</td>\n",
       "    </tr>\n",
       "  </tbody>\n",
       "</table>\n",
       "</div>"
      ],
      "text/plain": [
       "  chrom     start       end               name  score strand\n",
       "0  chr1  16767215  16767348  ENST00000504551.2      0      +\n",
       "1  chr1  16774364  16774469  ENST00000504551.2      0      +\n",
       "2  chr1  16775587  16775696  ENST00000504551.2      0      +\n",
       "3  chr1  16778332  16778510  ENST00000504551.2      0      +\n",
       "4  chr1  16782312  16782388  ENST00000504551.2      0      +"
      ]
     },
     "execution_count": 9,
     "metadata": {},
     "output_type": "execute_result"
    }
   ],
   "source": [
    "exons = pybedtools.BedTool(intervals)\n",
    "exons.to_dataframe().head()"
   ]
  },
  {
   "cell_type": "code",
   "execution_count": 10,
   "metadata": {},
   "outputs": [],
   "source": [
    "edits = pybedtools.BedTool(input_bed).sort()"
   ]
  },
  {
   "cell_type": "code",
   "execution_count": 11,
   "metadata": {},
   "outputs": [
    {
     "name": "stderr",
     "output_type": "stream",
     "text": [
      "/projects/ps-yeolab4/software/yeolabconda3/envs/python3essential-0.0.1/lib/python3.6/site-packages/pybedtools/bedtool.py:3439: FutureWarning: read_table is deprecated, use read_csv instead, passing sep='\\t'.\n",
      "  return pandas.read_table(self.fn, *args, **kwargs)\n"
     ]
    },
    {
     "data": {
      "text/plain": [
       "9084"
      ]
     },
     "execution_count": 11,
     "metadata": {},
     "output_type": "execute_result"
    }
   ],
   "source": [
    "exons.intersect(edits, s=True, c=True).to_dataframe()['thickStart'].sum()"
   ]
  },
  {
   "cell_type": "code",
   "execution_count": null,
   "metadata": {},
   "outputs": [],
   "source": []
  }
 ],
 "metadata": {
  "kernelspec": {
   "display_name": "python3-essential-tscc",
   "language": "python",
   "name": "python3essentialtscc"
  },
  "language_info": {
   "codemirror_mode": {
    "name": "ipython",
    "version": 3
   },
   "file_extension": ".py",
   "mimetype": "text/x-python",
   "name": "python",
   "nbconvert_exporter": "python",
   "pygments_lexer": "ipython3",
   "version": "3.6.7"
  }
 },
 "nbformat": 4,
 "nbformat_minor": 2
}
