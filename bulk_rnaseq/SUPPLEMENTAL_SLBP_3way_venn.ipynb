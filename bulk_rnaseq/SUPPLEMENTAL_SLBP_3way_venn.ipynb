{
 "cells": [
  {
   "cell_type": "markdown",
   "metadata": {},
   "source": [
    "### 3 way venn would be K562 IDR, PSLBP peaks (union or IDR if we have, though i think whatever is fastest to check, because i think Gene is now worried about PSLBP* being underanalyzed for submission), and then these 2 filtering outputs i'll paste in a second."
   ]
  },
  {
   "cell_type": "code",
   "execution_count": 1,
   "metadata": {},
   "outputs": [],
   "source": [
    "%matplotlib inline\n",
    "from matplotlib import pyplot as plt\n",
    "from matplotlib_venn import venn2, venn3, venn2_unweighted, venn3_unweighted\n",
    "import seaborn as sns\n",
    "import pandas as pd\n",
    "import numpy as np\n",
    "import gffutils\n",
    "import glob\n",
    "import os\n",
    "import pybedtools\n",
    "from scipy import stats"
   ]
  },
  {
   "cell_type": "markdown",
   "metadata": {},
   "source": [
    "## These files were all annotated the same way. using /home/bay001/projects/kris_apobec_20200121/permanent_data/rebuttal/inputs/annotate_peaks_bedformat_wproxdistal_lncRNA.pl, with exception of ```histone_genes_file``` which are just genes"
   ]
  },
  {
   "cell_type": "code",
   "execution_count": 2,
   "metadata": {},
   "outputs": [],
   "source": [
    "# histone_genes_file = '/home/rmarina/projects/apobec/ref_files/histone_genes.bed'\n",
    "histone_genes_file = '/home/rmarina/projects/apobec/ref_files/hgnc_histone_genes.txt'\n",
    "k562_idr_peaks_file = '/home/bay001/projects/kris_apobec_20200121/reference_data/SLBP_K562_IDR.sorted.merged.bed.annotated_proxdist_miRlncRNA'\n",
    "pslbp_idr_peaks_file = '/home/bay001/projects/kris_apobec_20200121/permanent_data/20200228_kris_eclip/IDR/kris_apobec/annotate/inputs/PSLBP_1.vs.PSLBP_2.bed.annotated_proxdist_miRlncRNA'\n",
    "stamp_edits_poisson05_file = '/home/bay001/projects/kris_apobec_20200121/permanent_data/rebuttal/from_eric/SLBP_1000_merged_filtered_merged_score_0.5_poisson_boost_10_density.tsv.bed.annotated_proxdist_miRlncRNA'\n",
    "stamp_edits_poisson075_file = '/home/bay001/projects/kris_apobec_20200121/permanent_data/rebuttal/from_eric/SLBP_1000_merged_filtered_merged_score_0.75_poisson_boost_10_density.tsv.bed.annotated_proxdist_miRlncRNA'\n",
    "stamp_edits_poisson05_no_density_file = '/home/bay001/projects/kris_apobec_20200121/permanent_data/rebuttal/from_eric/SLBP_1000_merged_filtered_merged_score_0.5_poisson_boost_10_no_density.tsv.bed.annotated_proxdist_miRlncRNA'\n",
    "stamp_edits_poisson075_no_density_file = '/home/bay001/projects/kris_apobec_20200121/permanent_data/rebuttal/from_eric/SLBP_1000_merged_filtered_merged_score_0.75_poisson_boost_10_no_density.tsv.bed.annotated_proxdist_miRlncRNA'\n",
    "unfiltered_edits_file = '/home/bay001/projects/kris_apobec_20200121/permanent_data/rebuttal/inputs/SLBP_1000_72hr_merged_a0_b0_e0.01.bed.annotated_proxdist_miRlncRNA'\n",
    "counts_file = '/home/bay001/projects/kris_apobec_20200121/permanent_data/20191220_rnaseq/featurecounts/counts.overlapping.multimapping.txt'  # Do multimapping and overlapping to catch every single read, since I noticed that histone gnes sometimes overlap...\n",
    "stamp_control_file = '/home/bay001/projects/kris_apobec_20200121/permanent_data/rebuttal/inputs/SLBP_0_72hr_merged_a0_b0_e0.01.bed.annotated_proxdist_miRlncRNA'\n",
    "annotation = 'Ensembl' # or \"Gencode\". This controls the annotations (whether we use ENSG00000012345.1 or ENSG00000012345)"
   ]
  },
  {
   "cell_type": "markdown",
   "metadata": {},
   "source": [
    "# The strategy for venns is simply use a gene overlap for a first pass."
   ]
  },
  {
   "cell_type": "code",
   "execution_count": 3,
   "metadata": {},
   "outputs": [
    {
     "data": {
      "text/html": [
       "<div>\n",
       "<style scoped>\n",
       "    .dataframe tbody tr th:only-of-type {\n",
       "        vertical-align: middle;\n",
       "    }\n",
       "\n",
       "    .dataframe tbody tr th {\n",
       "        vertical-align: top;\n",
       "    }\n",
       "\n",
       "    .dataframe thead th {\n",
       "        text-align: right;\n",
       "    }\n",
       "</style>\n",
       "<table border=\"1\" class=\"dataframe\">\n",
       "  <thead>\n",
       "    <tr style=\"text-align: right;\">\n",
       "      <th></th>\n",
       "      <th>chrom</th>\n",
       "      <th>start</th>\n",
       "      <th>end</th>\n",
       "      <th>name</th>\n",
       "      <th>score</th>\n",
       "      <th>strand</th>\n",
       "      <th>annotation</th>\n",
       "      <th>region_w_gene</th>\n",
       "      <th>geneid</th>\n",
       "      <th>genename</th>\n",
       "      <th>region_w_overlap</th>\n",
       "    </tr>\n",
       "  </thead>\n",
       "  <tbody>\n",
       "    <tr>\n",
       "      <th>80323</th>\n",
       "      <td>chrM</td>\n",
       "      <td>13414</td>\n",
       "      <td>13415</td>\n",
       "      <td>0.662282</td>\n",
       "      <td>1,42</td>\n",
       "      <td>-</td>\n",
       "      <td>NaN</td>\n",
       "      <td>intergenic</td>\n",
       "      <td>NaN</td>\n",
       "      <td>NaN</td>\n",
       "      <td>intergenic|1</td>\n",
       "    </tr>\n",
       "    <tr>\n",
       "      <th>80324</th>\n",
       "      <td>chrM</td>\n",
       "      <td>13889</td>\n",
       "      <td>13890</td>\n",
       "      <td>0.000000</td>\n",
       "      <td>30,30</td>\n",
       "      <td>-</td>\n",
       "      <td>NaN</td>\n",
       "      <td>intergenic</td>\n",
       "      <td>NaN</td>\n",
       "      <td>NaN</td>\n",
       "      <td>intergenic|1</td>\n",
       "    </tr>\n",
       "    <tr>\n",
       "      <th>80325</th>\n",
       "      <td>chrM</td>\n",
       "      <td>14580</td>\n",
       "      <td>14581</td>\n",
       "      <td>0.000000</td>\n",
       "      <td>22,22</td>\n",
       "      <td>-</td>\n",
       "      <td>CDS;ENSG00000198695.2</td>\n",
       "      <td>CDS||ENSG00000198695.2</td>\n",
       "      <td>ENSG00000198695.2</td>\n",
       "      <td>MT-ND6</td>\n",
       "      <td>CDS|1</td>\n",
       "    </tr>\n",
       "    <tr>\n",
       "      <th>80326</th>\n",
       "      <td>chrM</td>\n",
       "      <td>15466</td>\n",
       "      <td>15467</td>\n",
       "      <td>0.000000</td>\n",
       "      <td>34,34</td>\n",
       "      <td>-</td>\n",
       "      <td>NaN</td>\n",
       "      <td>intergenic</td>\n",
       "      <td>NaN</td>\n",
       "      <td>NaN</td>\n",
       "      <td>intergenic|1</td>\n",
       "    </tr>\n",
       "    <tr>\n",
       "      <th>80327</th>\n",
       "      <td>chrM</td>\n",
       "      <td>16504</td>\n",
       "      <td>16505</td>\n",
       "      <td>0.655659</td>\n",
       "      <td>1,43</td>\n",
       "      <td>-</td>\n",
       "      <td>NaN</td>\n",
       "      <td>intergenic</td>\n",
       "      <td>NaN</td>\n",
       "      <td>NaN</td>\n",
       "      <td>intergenic|1</td>\n",
       "    </tr>\n",
       "  </tbody>\n",
       "</table>\n",
       "</div>"
      ],
      "text/plain": [
       "      chrom  start    end      name  score strand             annotation  \\\n",
       "80323  chrM  13414  13415  0.662282   1,42      -                    NaN   \n",
       "80324  chrM  13889  13890  0.000000  30,30      -                    NaN   \n",
       "80325  chrM  14580  14581  0.000000  22,22      -  CDS;ENSG00000198695.2   \n",
       "80326  chrM  15466  15467  0.000000  34,34      -                    NaN   \n",
       "80327  chrM  16504  16505  0.655659   1,43      -                    NaN   \n",
       "\n",
       "                region_w_gene             geneid genename region_w_overlap  \n",
       "80323              intergenic                NaN      NaN     intergenic|1  \n",
       "80324              intergenic                NaN      NaN     intergenic|1  \n",
       "80325  CDS||ENSG00000198695.2  ENSG00000198695.2   MT-ND6            CDS|1  \n",
       "80326              intergenic                NaN      NaN     intergenic|1  \n",
       "80327              intergenic                NaN      NaN     intergenic|1  "
      ]
     },
     "execution_count": 3,
     "metadata": {},
     "output_type": "execute_result"
    }
   ],
   "source": [
    "names = ['chrom','start','end','name','score','strand','annotation','region_w_gene','geneid','genename','region_w_overlap']\n",
    "\n",
    "k562_idr = pd.read_csv(k562_idr_peaks_file, sep='\\t', names=names)\n",
    "pslbp_idr = pd.read_csv(pslbp_idr_peaks_file, sep='\\t', names=names)\n",
    "stamp_edits_poisson05 = pd.read_csv(stamp_edits_poisson05_file, sep='\\t', names=names)\n",
    "stamp_edits_poisson075 = pd.read_csv(stamp_edits_poisson075_file, sep='\\t', names=names)\n",
    "stamp_edits_poisson05_no_density = pd.read_csv(stamp_edits_poisson05_no_density_file, sep='\\t', names=names)\n",
    "stamp_edits_poisson075_no_density = pd.read_csv(stamp_edits_poisson075_no_density_file, sep='\\t', names=names)\n",
    "unfiltered_edits = pd.read_csv(unfiltered_edits_file, sep='\\t', names=names)\n",
    "stamp_control = pd.read_csv(stamp_control_file, sep='\\t', names=names)\n",
    "stamp_control.tail()"
   ]
  },
  {
   "cell_type": "markdown",
   "metadata": {},
   "source": [
    "### As a sanity check, let's just use basic filtering (conf, maybe drop intergenic edits) to see if the comparisons match."
   ]
  },
  {
   "cell_type": "code",
   "execution_count": 4,
   "metadata": {},
   "outputs": [
    {
     "name": "stdout",
     "output_type": "stream",
     "text": [
      "103082\n",
      "100351\n"
     ]
    },
    {
     "data": {
      "text/html": [
       "<div>\n",
       "<style scoped>\n",
       "    .dataframe tbody tr th:only-of-type {\n",
       "        vertical-align: middle;\n",
       "    }\n",
       "\n",
       "    .dataframe tbody tr th {\n",
       "        vertical-align: top;\n",
       "    }\n",
       "\n",
       "    .dataframe thead th {\n",
       "        text-align: right;\n",
       "    }\n",
       "</style>\n",
       "<table border=\"1\" class=\"dataframe\">\n",
       "  <thead>\n",
       "    <tr style=\"text-align: right;\">\n",
       "      <th></th>\n",
       "      <th>chrom</th>\n",
       "      <th>start</th>\n",
       "      <th>end</th>\n",
       "      <th>name</th>\n",
       "      <th>score</th>\n",
       "      <th>strand</th>\n",
       "      <th>annotation</th>\n",
       "      <th>region_w_gene</th>\n",
       "      <th>geneid</th>\n",
       "      <th>genename</th>\n",
       "      <th>region_w_overlap</th>\n",
       "      <th>editfrac</th>\n",
       "    </tr>\n",
       "  </thead>\n",
       "  <tbody>\n",
       "    <tr>\n",
       "      <th>0</th>\n",
       "      <td>chr1</td>\n",
       "      <td>322208</td>\n",
       "      <td>322209</td>\n",
       "      <td>0.904382</td>\n",
       "      <td>1,11</td>\n",
       "      <td>+</td>\n",
       "      <td>noncoding_exon;lncRNA|lnc-OR4F29-1||noncoding_...</td>\n",
       "      <td>noncoding_exon||lncRNA|lnc-OR4F29-1||ENSG00000...</td>\n",
       "      <td>lncRNA|lnc-OR4F29-1||ENSG00000237094.7</td>\n",
       "      <td>lnc-OR4F29-1|RP4-669L17.10</td>\n",
       "      <td>noncoding_exon|1</td>\n",
       "      <td>0.090909</td>\n",
       "    </tr>\n",
       "    <tr>\n",
       "      <th>1</th>\n",
       "      <td>chr1</td>\n",
       "      <td>324297</td>\n",
       "      <td>324298</td>\n",
       "      <td>0.972277</td>\n",
       "      <td>2,27</td>\n",
       "      <td>+</td>\n",
       "      <td>noncoding_exon;lncRNA|lnc-OR4F29-1||noncoding_...</td>\n",
       "      <td>noncoding_exon||lncRNA|lnc-OR4F29-1||ENSG00000...</td>\n",
       "      <td>lncRNA|lnc-OR4F29-1||ENSG00000237094.7</td>\n",
       "      <td>lnc-OR4F29-1|RP4-669L17.10</td>\n",
       "      <td>noncoding_exon|1</td>\n",
       "      <td>0.074074</td>\n",
       "    </tr>\n",
       "    <tr>\n",
       "      <th>2</th>\n",
       "      <td>chr1</td>\n",
       "      <td>324779</td>\n",
       "      <td>324780</td>\n",
       "      <td>0.922745</td>\n",
       "      <td>1,9</td>\n",
       "      <td>+</td>\n",
       "      <td>noncoding_exon;lncRNA|lnc-OR4F29-1||noncoding_...</td>\n",
       "      <td>noncoding_exon||lncRNA|lnc-OR4F29-1||ENSG00000...</td>\n",
       "      <td>lncRNA|lnc-OR4F29-1||ENSG00000237094.7</td>\n",
       "      <td>lnc-OR4F29-1|RP4-669L17.10</td>\n",
       "      <td>noncoding_exon|1</td>\n",
       "      <td>0.111111</td>\n",
       "    </tr>\n",
       "    <tr>\n",
       "      <th>3</th>\n",
       "      <td>chr1</td>\n",
       "      <td>324820</td>\n",
       "      <td>324821</td>\n",
       "      <td>0.817907</td>\n",
       "      <td>1,21</td>\n",
       "      <td>+</td>\n",
       "      <td>noncoding_exon;lncRNA|lnc-OR4F29-1||noncoding_...</td>\n",
       "      <td>noncoding_exon||lncRNA|lnc-OR4F29-1||ENSG00000...</td>\n",
       "      <td>lncRNA|lnc-OR4F29-1||ENSG00000237094.7</td>\n",
       "      <td>lnc-OR4F29-1|RP4-669L17.10</td>\n",
       "      <td>noncoding_exon|1</td>\n",
       "      <td>0.047619</td>\n",
       "    </tr>\n",
       "    <tr>\n",
       "      <th>4</th>\n",
       "      <td>chr1</td>\n",
       "      <td>327502</td>\n",
       "      <td>327503</td>\n",
       "      <td>0.886385</td>\n",
       "      <td>1,13</td>\n",
       "      <td>+</td>\n",
       "      <td>noncoding_exon;lncRNA|lnc-OR4F29-1||noncoding_...</td>\n",
       "      <td>noncoding_exon||ENSG00000250575.1||lncRNA|lnc-...</td>\n",
       "      <td>ENSG00000250575.1||lncRNA|lnc-OR4F29-1</td>\n",
       "      <td>RP4-669L17.8|lnc-OR4F29-1</td>\n",
       "      <td>noncoding_exon|1</td>\n",
       "      <td>0.076923</td>\n",
       "    </tr>\n",
       "  </tbody>\n",
       "</table>\n",
       "</div>"
      ],
      "text/plain": [
       "  chrom   start     end      name score strand  \\\n",
       "0  chr1  322208  322209  0.904382  1,11      +   \n",
       "1  chr1  324297  324298  0.972277  2,27      +   \n",
       "2  chr1  324779  324780  0.922745   1,9      +   \n",
       "3  chr1  324820  324821  0.817907  1,21      +   \n",
       "4  chr1  327502  327503  0.886385  1,13      +   \n",
       "\n",
       "                                          annotation  \\\n",
       "0  noncoding_exon;lncRNA|lnc-OR4F29-1||noncoding_...   \n",
       "1  noncoding_exon;lncRNA|lnc-OR4F29-1||noncoding_...   \n",
       "2  noncoding_exon;lncRNA|lnc-OR4F29-1||noncoding_...   \n",
       "3  noncoding_exon;lncRNA|lnc-OR4F29-1||noncoding_...   \n",
       "4  noncoding_exon;lncRNA|lnc-OR4F29-1||noncoding_...   \n",
       "\n",
       "                                       region_w_gene  \\\n",
       "0  noncoding_exon||lncRNA|lnc-OR4F29-1||ENSG00000...   \n",
       "1  noncoding_exon||lncRNA|lnc-OR4F29-1||ENSG00000...   \n",
       "2  noncoding_exon||lncRNA|lnc-OR4F29-1||ENSG00000...   \n",
       "3  noncoding_exon||lncRNA|lnc-OR4F29-1||ENSG00000...   \n",
       "4  noncoding_exon||ENSG00000250575.1||lncRNA|lnc-...   \n",
       "\n",
       "                                   geneid                    genename  \\\n",
       "0  lncRNA|lnc-OR4F29-1||ENSG00000237094.7  lnc-OR4F29-1|RP4-669L17.10   \n",
       "1  lncRNA|lnc-OR4F29-1||ENSG00000237094.7  lnc-OR4F29-1|RP4-669L17.10   \n",
       "2  lncRNA|lnc-OR4F29-1||ENSG00000237094.7  lnc-OR4F29-1|RP4-669L17.10   \n",
       "3  lncRNA|lnc-OR4F29-1||ENSG00000237094.7  lnc-OR4F29-1|RP4-669L17.10   \n",
       "4  ENSG00000250575.1||lncRNA|lnc-OR4F29-1   RP4-669L17.8|lnc-OR4F29-1   \n",
       "\n",
       "   region_w_overlap  editfrac  \n",
       "0  noncoding_exon|1  0.090909  \n",
       "1  noncoding_exon|1  0.074074  \n",
       "2  noncoding_exon|1  0.111111  \n",
       "3  noncoding_exon|1  0.047619  \n",
       "4  noncoding_exon|1  0.076923  "
      ]
     },
     "execution_count": 4,
     "metadata": {},
     "output_type": "execute_result"
    }
   ],
   "source": [
    "filtered_edits = unfiltered_edits[unfiltered_edits['name'] >= 0.]  # Some arbitrary cutoff\n",
    "filtered_edits['editfrac'] = filtered_edits['score'].apply(lambda x: int(x.split(',')[0])/float(x.split(',')[1]))\n",
    "print(filtered_edits.shape[0])\n",
    "filtered_edits.dropna(inplace=True)\n",
    "print(filtered_edits.shape[0])\n",
    "filtered_edits.head()"
   ]
  },
  {
   "cell_type": "code",
   "execution_count": 5,
   "metadata": {},
   "outputs": [
    {
     "data": {
      "text/html": [
       "<div>\n",
       "<style scoped>\n",
       "    .dataframe tbody tr th:only-of-type {\n",
       "        vertical-align: middle;\n",
       "    }\n",
       "\n",
       "    .dataframe tbody tr th {\n",
       "        vertical-align: top;\n",
       "    }\n",
       "\n",
       "    .dataframe thead th {\n",
       "        text-align: right;\n",
       "    }\n",
       "</style>\n",
       "<table border=\"1\" class=\"dataframe\">\n",
       "  <thead>\n",
       "    <tr style=\"text-align: right;\">\n",
       "      <th></th>\n",
       "      <th>chrom</th>\n",
       "      <th>start</th>\n",
       "      <th>end</th>\n",
       "      <th>name</th>\n",
       "      <th>score</th>\n",
       "      <th>strand</th>\n",
       "      <th>annotation</th>\n",
       "      <th>region_w_gene</th>\n",
       "      <th>geneid</th>\n",
       "      <th>genename</th>\n",
       "      <th>region_w_overlap</th>\n",
       "      <th>editfrac</th>\n",
       "      <th>geneid_trimmed</th>\n",
       "    </tr>\n",
       "  </thead>\n",
       "  <tbody>\n",
       "    <tr>\n",
       "      <th>0</th>\n",
       "      <td>chr1</td>\n",
       "      <td>322208</td>\n",
       "      <td>322209</td>\n",
       "      <td>0.904382</td>\n",
       "      <td>1,11</td>\n",
       "      <td>+</td>\n",
       "      <td>noncoding_exon;lncRNA|lnc-OR4F29-1||noncoding_...</td>\n",
       "      <td>noncoding_exon||lncRNA|lnc-OR4F29-1||ENSG00000...</td>\n",
       "      <td>lncRNA|lnc-OR4F29-1||ENSG00000237094.7</td>\n",
       "      <td>lnc-OR4F29-1|RP4-669L17.10</td>\n",
       "      <td>noncoding_exon|1</td>\n",
       "      <td>0.090909</td>\n",
       "      <td>ENSG00000237094</td>\n",
       "    </tr>\n",
       "    <tr>\n",
       "      <th>1</th>\n",
       "      <td>chr1</td>\n",
       "      <td>324297</td>\n",
       "      <td>324298</td>\n",
       "      <td>0.972277</td>\n",
       "      <td>2,27</td>\n",
       "      <td>+</td>\n",
       "      <td>noncoding_exon;lncRNA|lnc-OR4F29-1||noncoding_...</td>\n",
       "      <td>noncoding_exon||lncRNA|lnc-OR4F29-1||ENSG00000...</td>\n",
       "      <td>lncRNA|lnc-OR4F29-1||ENSG00000237094.7</td>\n",
       "      <td>lnc-OR4F29-1|RP4-669L17.10</td>\n",
       "      <td>noncoding_exon|1</td>\n",
       "      <td>0.074074</td>\n",
       "      <td>ENSG00000237094</td>\n",
       "    </tr>\n",
       "    <tr>\n",
       "      <th>2</th>\n",
       "      <td>chr1</td>\n",
       "      <td>324779</td>\n",
       "      <td>324780</td>\n",
       "      <td>0.922745</td>\n",
       "      <td>1,9</td>\n",
       "      <td>+</td>\n",
       "      <td>noncoding_exon;lncRNA|lnc-OR4F29-1||noncoding_...</td>\n",
       "      <td>noncoding_exon||lncRNA|lnc-OR4F29-1||ENSG00000...</td>\n",
       "      <td>lncRNA|lnc-OR4F29-1||ENSG00000237094.7</td>\n",
       "      <td>lnc-OR4F29-1|RP4-669L17.10</td>\n",
       "      <td>noncoding_exon|1</td>\n",
       "      <td>0.111111</td>\n",
       "      <td>ENSG00000237094</td>\n",
       "    </tr>\n",
       "    <tr>\n",
       "      <th>3</th>\n",
       "      <td>chr1</td>\n",
       "      <td>324820</td>\n",
       "      <td>324821</td>\n",
       "      <td>0.817907</td>\n",
       "      <td>1,21</td>\n",
       "      <td>+</td>\n",
       "      <td>noncoding_exon;lncRNA|lnc-OR4F29-1||noncoding_...</td>\n",
       "      <td>noncoding_exon||lncRNA|lnc-OR4F29-1||ENSG00000...</td>\n",
       "      <td>lncRNA|lnc-OR4F29-1||ENSG00000237094.7</td>\n",
       "      <td>lnc-OR4F29-1|RP4-669L17.10</td>\n",
       "      <td>noncoding_exon|1</td>\n",
       "      <td>0.047619</td>\n",
       "      <td>ENSG00000237094</td>\n",
       "    </tr>\n",
       "    <tr>\n",
       "      <th>4</th>\n",
       "      <td>chr1</td>\n",
       "      <td>327502</td>\n",
       "      <td>327503</td>\n",
       "      <td>0.886385</td>\n",
       "      <td>1,13</td>\n",
       "      <td>+</td>\n",
       "      <td>noncoding_exon;lncRNA|lnc-OR4F29-1||noncoding_...</td>\n",
       "      <td>noncoding_exon||ENSG00000250575.1||lncRNA|lnc-...</td>\n",
       "      <td>ENSG00000250575.1||lncRNA|lnc-OR4F29-1</td>\n",
       "      <td>RP4-669L17.8|lnc-OR4F29-1</td>\n",
       "      <td>noncoding_exon|1</td>\n",
       "      <td>0.076923</td>\n",
       "      <td>ENSG00000250575</td>\n",
       "    </tr>\n",
       "  </tbody>\n",
       "</table>\n",
       "</div>"
      ],
      "text/plain": [
       "  chrom   start     end      name score strand  \\\n",
       "0  chr1  322208  322209  0.904382  1,11      +   \n",
       "1  chr1  324297  324298  0.972277  2,27      +   \n",
       "2  chr1  324779  324780  0.922745   1,9      +   \n",
       "3  chr1  324820  324821  0.817907  1,21      +   \n",
       "4  chr1  327502  327503  0.886385  1,13      +   \n",
       "\n",
       "                                          annotation  \\\n",
       "0  noncoding_exon;lncRNA|lnc-OR4F29-1||noncoding_...   \n",
       "1  noncoding_exon;lncRNA|lnc-OR4F29-1||noncoding_...   \n",
       "2  noncoding_exon;lncRNA|lnc-OR4F29-1||noncoding_...   \n",
       "3  noncoding_exon;lncRNA|lnc-OR4F29-1||noncoding_...   \n",
       "4  noncoding_exon;lncRNA|lnc-OR4F29-1||noncoding_...   \n",
       "\n",
       "                                       region_w_gene  \\\n",
       "0  noncoding_exon||lncRNA|lnc-OR4F29-1||ENSG00000...   \n",
       "1  noncoding_exon||lncRNA|lnc-OR4F29-1||ENSG00000...   \n",
       "2  noncoding_exon||lncRNA|lnc-OR4F29-1||ENSG00000...   \n",
       "3  noncoding_exon||lncRNA|lnc-OR4F29-1||ENSG00000...   \n",
       "4  noncoding_exon||ENSG00000250575.1||lncRNA|lnc-...   \n",
       "\n",
       "                                   geneid                    genename  \\\n",
       "0  lncRNA|lnc-OR4F29-1||ENSG00000237094.7  lnc-OR4F29-1|RP4-669L17.10   \n",
       "1  lncRNA|lnc-OR4F29-1||ENSG00000237094.7  lnc-OR4F29-1|RP4-669L17.10   \n",
       "2  lncRNA|lnc-OR4F29-1||ENSG00000237094.7  lnc-OR4F29-1|RP4-669L17.10   \n",
       "3  lncRNA|lnc-OR4F29-1||ENSG00000237094.7  lnc-OR4F29-1|RP4-669L17.10   \n",
       "4  ENSG00000250575.1||lncRNA|lnc-OR4F29-1   RP4-669L17.8|lnc-OR4F29-1   \n",
       "\n",
       "   region_w_overlap  editfrac   geneid_trimmed  \n",
       "0  noncoding_exon|1  0.090909  ENSG00000237094  \n",
       "1  noncoding_exon|1  0.074074  ENSG00000237094  \n",
       "2  noncoding_exon|1  0.111111  ENSG00000237094  \n",
       "3  noncoding_exon|1  0.047619  ENSG00000237094  \n",
       "4  noncoding_exon|1  0.076923  ENSG00000250575  "
      ]
     },
     "execution_count": 5,
     "metadata": {},
     "output_type": "execute_result"
    }
   ],
   "source": [
    "def trim_lncrna_annotations(row, a=annotation):\n",
    "    \"\"\"\n",
    "    The eCLIP annotation script also annotates lncRNA and miRs, but I just\n",
    "    really care about the gencode annotations, since that's easier to manage \n",
    "    across multiple datasets than these others.\n",
    "    \"\"\"\n",
    "    if type(row['geneid']) == float:  # intergenic, has NaN for geneid\n",
    "        return 'intergenic'\n",
    "    if '||' not in row['geneid']:\n",
    "        if a == 'Ensembl':\n",
    "            return row['geneid'].split('.')[0]\n",
    "        else:\n",
    "            return row['geneid']\n",
    "    else:\n",
    "        for annotation in row['geneid'].split('||'):\n",
    "            if 'ENSG' in annotation:\n",
    "                if a == 'Ensembl':\n",
    "                    return annotation.split('.')[0]  # to deal with comparing to the HGNC annotations.\n",
    "                else:\n",
    "                    return annotation\n",
    "    return row['geneid']\n",
    "\n",
    "k562_idr['geneid_trimmed'] = k562_idr.apply(trim_lncrna_annotations, args=(annotation, ), axis=1)\n",
    "pslbp_idr['geneid_trimmed'] = pslbp_idr.apply(trim_lncrna_annotations, args=(annotation, ), axis=1)\n",
    "stamp_edits_poisson05['geneid_trimmed'] = stamp_edits_poisson05.apply(trim_lncrna_annotations, args=(annotation, ), axis=1)\n",
    "stamp_edits_poisson075['geneid_trimmed'] = stamp_edits_poisson075.apply(trim_lncrna_annotations, args=(annotation, ), axis=1)\n",
    "stamp_edits_poisson05_no_density['geneid_trimmed'] = stamp_edits_poisson05_no_density.apply(trim_lncrna_annotations, args=(annotation, ), axis=1)\n",
    "stamp_edits_poisson075_no_density['geneid_trimmed'] = stamp_edits_poisson075_no_density.apply(trim_lncrna_annotations, args=(annotation, ), axis=1)\n",
    "stamp_control['geneid_trimmed'] = stamp_control.apply(trim_lncrna_annotations, args=(annotation, ), axis=1)\n",
    "filtered_edits['geneid_trimmed'] = filtered_edits.apply(trim_lncrna_annotations, args=(annotation, ), axis=1)\n",
    "filtered_edits.head()"
   ]
  },
  {
   "cell_type": "markdown",
   "metadata": {},
   "source": [
    "### Using 'histone genes' as a positive ctrl"
   ]
  },
  {
   "cell_type": "code",
   "execution_count": 6,
   "metadata": {},
   "outputs": [
    {
     "name": "stdout",
     "output_type": "stream",
     "text": [
      "93\n"
     ]
    },
    {
     "data": {
      "text/html": [
       "<div>\n",
       "<style scoped>\n",
       "    .dataframe tbody tr th:only-of-type {\n",
       "        vertical-align: middle;\n",
       "    }\n",
       "\n",
       "    .dataframe tbody tr th {\n",
       "        vertical-align: top;\n",
       "    }\n",
       "\n",
       "    .dataframe thead th {\n",
       "        text-align: right;\n",
       "    }\n",
       "</style>\n",
       "<table border=\"1\" class=\"dataframe\">\n",
       "  <thead>\n",
       "    <tr style=\"text-align: right;\">\n",
       "      <th></th>\n",
       "      <th>HGNC ID</th>\n",
       "      <th>Approved symbol</th>\n",
       "      <th>Approved name</th>\n",
       "      <th>Status</th>\n",
       "      <th>Locus type</th>\n",
       "      <th>Previous symbols</th>\n",
       "      <th>Alias symbols</th>\n",
       "      <th>Chromosome</th>\n",
       "      <th>NCBI Gene ID</th>\n",
       "      <th>Ensembl gene ID</th>\n",
       "      <th>Vega gene ID</th>\n",
       "      <th>Group ID</th>\n",
       "      <th>Group name</th>\n",
       "    </tr>\n",
       "  </thead>\n",
       "  <tbody>\n",
       "    <tr>\n",
       "      <th>0</th>\n",
       "      <td>HGNC:4714</td>\n",
       "      <td>H1-0</td>\n",
       "      <td>H1.0 linker histone</td>\n",
       "      <td>Approved</td>\n",
       "      <td>gene with protein product</td>\n",
       "      <td>H1FV, H1F0</td>\n",
       "      <td>H1.0</td>\n",
       "      <td>22q13.1</td>\n",
       "      <td>3005</td>\n",
       "      <td>ENSG00000189060</td>\n",
       "      <td>OTTHUMG00000150659</td>\n",
       "      <td>1935</td>\n",
       "      <td>H1 histones</td>\n",
       "    </tr>\n",
       "    <tr>\n",
       "      <th>1</th>\n",
       "      <td>HGNC:4715</td>\n",
       "      <td>H1-1</td>\n",
       "      <td>H1.1 linker histone, cluster member</td>\n",
       "      <td>Approved</td>\n",
       "      <td>gene with protein product</td>\n",
       "      <td>H1F1, HIST1H1A</td>\n",
       "      <td>H1.1, H1a</td>\n",
       "      <td>6p22.2</td>\n",
       "      <td>3024</td>\n",
       "      <td>ENSG00000124610</td>\n",
       "      <td>OTTHUMG00000016413</td>\n",
       "      <td>1935</td>\n",
       "      <td>H1 histones</td>\n",
       "    </tr>\n",
       "    <tr>\n",
       "      <th>2</th>\n",
       "      <td>HGNC:4722</td>\n",
       "      <td>H1-10</td>\n",
       "      <td>H1.10 linker histone</td>\n",
       "      <td>Approved</td>\n",
       "      <td>gene with protein product</td>\n",
       "      <td>H1FX</td>\n",
       "      <td>MGC15959, MGC8350, H1X</td>\n",
       "      <td>3q21.3</td>\n",
       "      <td>8971</td>\n",
       "      <td>ENSG00000184897</td>\n",
       "      <td>OTTHUMG00000159450</td>\n",
       "      <td>1935</td>\n",
       "      <td>H1 histones</td>\n",
       "    </tr>\n",
       "    <tr>\n",
       "      <th>4</th>\n",
       "      <td>HGNC:4716</td>\n",
       "      <td>H1-2</td>\n",
       "      <td>H1.2 linker histone, cluster member</td>\n",
       "      <td>Approved</td>\n",
       "      <td>gene with protein product</td>\n",
       "      <td>H1F2, HIST1H1C</td>\n",
       "      <td>H1.2, H1s-1, H1c</td>\n",
       "      <td>6p22.2</td>\n",
       "      <td>3006</td>\n",
       "      <td>ENSG00000187837</td>\n",
       "      <td>OTTHUMG00000016140</td>\n",
       "      <td>1935</td>\n",
       "      <td>H1 histones</td>\n",
       "    </tr>\n",
       "    <tr>\n",
       "      <th>5</th>\n",
       "      <td>HGNC:4717</td>\n",
       "      <td>H1-3</td>\n",
       "      <td>H1.3 linker histone, cluster member</td>\n",
       "      <td>Approved</td>\n",
       "      <td>gene with protein product</td>\n",
       "      <td>H1F3, HIST1H1D</td>\n",
       "      <td>H1.3, H1d, H1s-2</td>\n",
       "      <td>6p22.2</td>\n",
       "      <td>3007</td>\n",
       "      <td>ENSG00000124575</td>\n",
       "      <td>OTTHUMG00000014432</td>\n",
       "      <td>1935</td>\n",
       "      <td>H1 histones</td>\n",
       "    </tr>\n",
       "  </tbody>\n",
       "</table>\n",
       "</div>"
      ],
      "text/plain": [
       "     HGNC ID Approved symbol                        Approved name    Status  \\\n",
       "0  HGNC:4714            H1-0                  H1.0 linker histone  Approved   \n",
       "1  HGNC:4715            H1-1  H1.1 linker histone, cluster member  Approved   \n",
       "2  HGNC:4722           H1-10                 H1.10 linker histone  Approved   \n",
       "4  HGNC:4716            H1-2  H1.2 linker histone, cluster member  Approved   \n",
       "5  HGNC:4717            H1-3  H1.3 linker histone, cluster member  Approved   \n",
       "\n",
       "                  Locus type Previous symbols           Alias symbols  \\\n",
       "0  gene with protein product       H1FV, H1F0                    H1.0   \n",
       "1  gene with protein product   H1F1, HIST1H1A               H1.1, H1a   \n",
       "2  gene with protein product             H1FX  MGC15959, MGC8350, H1X   \n",
       "4  gene with protein product   H1F2, HIST1H1C        H1.2, H1s-1, H1c   \n",
       "5  gene with protein product   H1F3, HIST1H1D        H1.3, H1d, H1s-2   \n",
       "\n",
       "  Chromosome  NCBI Gene ID  Ensembl gene ID        Vega gene ID  Group ID  \\\n",
       "0    22q13.1          3005  ENSG00000189060  OTTHUMG00000150659      1935   \n",
       "1     6p22.2          3024  ENSG00000124610  OTTHUMG00000016413      1935   \n",
       "2     3q21.3          8971  ENSG00000184897  OTTHUMG00000159450      1935   \n",
       "4     6p22.2          3006  ENSG00000187837  OTTHUMG00000016140      1935   \n",
       "5     6p22.2          3007  ENSG00000124575  OTTHUMG00000014432      1935   \n",
       "\n",
       "    Group name  \n",
       "0  H1 histones  \n",
       "1  H1 histones  \n",
       "2  H1 histones  \n",
       "4  H1 histones  \n",
       "5  H1 histones  "
      ]
     },
     "execution_count": 6,
     "metadata": {},
     "output_type": "execute_result"
    }
   ],
   "source": [
    "histone_genes0 = pd.read_csv('/home/rmarina/projects/apobec/ref_files/histone_genes.bed', sep='\\t', names=['chrom','start','end','name','score','strand'])  # let's see how much this overlaps with the other 'histone' set.\n",
    "histone_genes = pd.read_csv(histone_genes_file, sep='\\t')\n",
    "histone_genes = histone_genes[histone_genes['Locus type']=='gene with protein product']\n",
    "print(histone_genes.shape[0])\n",
    "histone_genes.head()"
   ]
  },
  {
   "cell_type": "code",
   "execution_count": 7,
   "metadata": {},
   "outputs": [
    {
     "data": {
      "text/html": [
       "<div>\n",
       "<style scoped>\n",
       "    .dataframe tbody tr th:only-of-type {\n",
       "        vertical-align: middle;\n",
       "    }\n",
       "\n",
       "    .dataframe tbody tr th {\n",
       "        vertical-align: top;\n",
       "    }\n",
       "\n",
       "    .dataframe thead th {\n",
       "        text-align: right;\n",
       "    }\n",
       "</style>\n",
       "<table border=\"1\" class=\"dataframe\">\n",
       "  <thead>\n",
       "    <tr style=\"text-align: right;\">\n",
       "      <th></th>\n",
       "      <th>chrom</th>\n",
       "      <th>start</th>\n",
       "      <th>end</th>\n",
       "      <th>name</th>\n",
       "      <th>score</th>\n",
       "      <th>strand</th>\n",
       "      <th>Ensembl gene ID</th>\n",
       "    </tr>\n",
       "  </thead>\n",
       "  <tbody>\n",
       "    <tr>\n",
       "      <th>0</th>\n",
       "      <td>chr1</td>\n",
       "      <td>120904674</td>\n",
       "      <td>120905090</td>\n",
       "      <td>ENSG00000213244.3</td>\n",
       "      <td>HIST2H3DP1</td>\n",
       "      <td>+</td>\n",
       "      <td>ENSG00000213244</td>\n",
       "    </tr>\n",
       "    <tr>\n",
       "      <th>1</th>\n",
       "      <td>chr1</td>\n",
       "      <td>120906027</td>\n",
       "      <td>120915073</td>\n",
       "      <td>ENSG00000223345.3</td>\n",
       "      <td>HIST2H2BA</td>\n",
       "      <td>+</td>\n",
       "      <td>ENSG00000223345</td>\n",
       "    </tr>\n",
       "    <tr>\n",
       "      <th>2</th>\n",
       "      <td>chr1</td>\n",
       "      <td>149369721</td>\n",
       "      <td>149399226</td>\n",
       "      <td>ENSG00000240929.2</td>\n",
       "      <td>HIST2H2BB</td>\n",
       "      <td>-</td>\n",
       "      <td>ENSG00000240929</td>\n",
       "    </tr>\n",
       "    <tr>\n",
       "      <th>3</th>\n",
       "      <td>chr1</td>\n",
       "      <td>149400130</td>\n",
       "      <td>149400542</td>\n",
       "      <td>ENSG00000203818.6</td>\n",
       "      <td>HIST2H3PS2</td>\n",
       "      <td>-</td>\n",
       "      <td>ENSG00000203818</td>\n",
       "    </tr>\n",
       "    <tr>\n",
       "      <th>4</th>\n",
       "      <td>chr1</td>\n",
       "      <td>149754244</td>\n",
       "      <td>149783928</td>\n",
       "      <td>ENSG00000203814.5</td>\n",
       "      <td>HIST2H2BF</td>\n",
       "      <td>-</td>\n",
       "      <td>ENSG00000203814</td>\n",
       "    </tr>\n",
       "  </tbody>\n",
       "</table>\n",
       "</div>"
      ],
      "text/plain": [
       "  chrom      start        end               name       score strand  \\\n",
       "0  chr1  120904674  120905090  ENSG00000213244.3  HIST2H3DP1      +   \n",
       "1  chr1  120906027  120915073  ENSG00000223345.3   HIST2H2BA      +   \n",
       "2  chr1  149369721  149399226  ENSG00000240929.2   HIST2H2BB      -   \n",
       "3  chr1  149400130  149400542  ENSG00000203818.6  HIST2H3PS2      -   \n",
       "4  chr1  149754244  149783928  ENSG00000203814.5   HIST2H2BF      -   \n",
       "\n",
       "   Ensembl gene ID  \n",
       "0  ENSG00000213244  \n",
       "1  ENSG00000223345  \n",
       "2  ENSG00000240929  \n",
       "3  ENSG00000203818  \n",
       "4  ENSG00000203814  "
      ]
     },
     "execution_count": 7,
     "metadata": {},
     "output_type": "execute_result"
    }
   ],
   "source": [
    "histone_genes0['Ensembl gene ID'] = histone_genes0['name'].apply(lambda x: x.split('.')[0])\n",
    "histone_genes0.head()"
   ]
  },
  {
   "cell_type": "code",
   "execution_count": 8,
   "metadata": {},
   "outputs": [
    {
     "data": {
      "text/plain": [
       "<matplotlib_venn._common.VennDiagram at 0x2b4fafb52a20>"
      ]
     },
     "execution_count": 8,
     "metadata": {},
     "output_type": "execute_result"
    },
    {
     "data": {
      "image/png": "[encoded data removed]",
      "text/plain": [
       "<Figure size 432x288 with 1 Axes>"
      ]
     },
     "metadata": {},
     "output_type": "display_data"
    }
   ],
   "source": [
    "venn2([set(histone_genes['Ensembl gene ID']), set(histone_genes0['Ensembl gene ID'])], ['HGNC', 'Ryan'])"
   ]
  },
  {
   "cell_type": "markdown",
   "metadata": {},
   "source": [
    "# It's weird that there isn't more overlap between the two histone genesets. Maybe take the union and then intersect this unioned geneset with the expressed genes in (any) of the SLBP replicates."
   ]
  },
  {
   "cell_type": "markdown",
   "metadata": {},
   "source": [
    "# Just spot checking here/there... there seems to be a number of pseudogenes (ie. ENSG00000233733.1) that made it into the histone genes file? /home/rmarina/projects/apobec/ref_files/histone_genes.bed\n",
    "- So there are about 20 genes in total (out of 122) that seem to not be expressed. That's weird, but excluding these might help us get better overlap. \n",
    "- Need to check with Kris and Ryan to see what those genes are (if pseudogenes, do we count them? Where did this file come from?) and if they're worth counting. For comparison to eCLIP maybe we should, but if genes aren't expressed they simply won't be edited."
   ]
  },
  {
   "cell_type": "code",
   "execution_count": 9,
   "metadata": {},
   "outputs": [
    {
     "data": {
      "text/plain": [
       "{'ENSG00000115163',\n",
       " 'ENSG00000268799',\n",
       " 'ENSG00000269466',\n",
       " 'ENSG00000270276',\n",
       " 'ENSG00000270882',\n",
       " 'ENSG00000272196',\n",
       " 'ENSG00000273213',\n",
       " 'ENSG00000273542',\n",
       " 'ENSG00000273703',\n",
       " 'ENSG00000273802',\n",
       " 'ENSG00000273983',\n",
       " 'ENSG00000274183',\n",
       " 'ENSG00000274290',\n",
       " 'ENSG00000274618',\n",
       " 'ENSG00000274641',\n",
       " 'ENSG00000274750',\n",
       " 'ENSG00000274997',\n",
       " 'ENSG00000275126',\n",
       " 'ENSG00000275221',\n",
       " 'ENSG00000275379',\n",
       " 'ENSG00000275663',\n",
       " 'ENSG00000275713',\n",
       " 'ENSG00000275714',\n",
       " 'ENSG00000276180',\n",
       " 'ENSG00000276368',\n",
       " 'ENSG00000276410',\n",
       " 'ENSG00000276903',\n",
       " 'ENSG00000276966',\n",
       " 'ENSG00000277075',\n",
       " 'ENSG00000277157',\n",
       " 'ENSG00000277224',\n",
       " 'ENSG00000277745',\n",
       " 'ENSG00000277775',\n",
       " 'ENSG00000277858',\n",
       " 'ENSG00000278463',\n",
       " 'ENSG00000278588',\n",
       " 'ENSG00000278637',\n",
       " 'ENSG00000278677',\n",
       " 'ENSG00000278705',\n",
       " 'ENSG00000278828',\n",
       " 'ENSG00000286522',\n",
       " 'ENSG00000287080'}"
      ]
     },
     "execution_count": 9,
     "metadata": {},
     "output_type": "execute_result"
    }
   ],
   "source": [
    "set(histone_genes['Ensembl gene ID']).difference(set(histone_genes0['Ensembl gene ID']))"
   ]
  },
  {
   "cell_type": "markdown",
   "metadata": {},
   "source": [
    "# Look at the readcounts for genes within the SLBP dataset, and filter the unioned histone set for genes that are expressed only."
   ]
  },
  {
   "cell_type": "code",
   "execution_count": 10,
   "metadata": {},
   "outputs": [
    {
     "name": "stderr",
     "output_type": "stream",
     "text": [
      "/projects/ps-yeolab4/software/yeolabconda3/envs/python3essential-0.0.1/lib/python3.6/site-packages/ipykernel_launcher.py:2: DeprecationWarning: \n",
      ".ix is deprecated. Please use\n",
      ".loc for label based indexing or\n",
      ".iloc for positional indexing\n",
      "\n",
      "See the documentation here:\n",
      "http://pandas.pydata.org/pandas-docs/stable/indexing.html#ix-indexer-is-deprecated\n",
      "  \n"
     ]
    },
    {
     "data": {
      "text/html": [
       "<div>\n",
       "<style scoped>\n",
       "    .dataframe tbody tr th:only-of-type {\n",
       "        vertical-align: middle;\n",
       "    }\n",
       "\n",
       "    .dataframe tbody tr th {\n",
       "        vertical-align: top;\n",
       "    }\n",
       "\n",
       "    .dataframe thead th {\n",
       "        text-align: right;\n",
       "    }\n",
       "</style>\n",
       "<table border=\"1\" class=\"dataframe\">\n",
       "  <thead>\n",
       "    <tr style=\"text-align: right;\">\n",
       "      <th></th>\n",
       "      <th>APOBEC_only_0_merged_R1</th>\n",
       "      <th>APOBEC_only_1000_merged_R1</th>\n",
       "      <th>APOBEC_only_50_merged_R1</th>\n",
       "      <th>RBFOX_0_48hr_merged_R1</th>\n",
       "      <th>RBFOX_0_72hr_merged_R1</th>\n",
       "      <th>RBFOX_1000_48hr_merged_R1</th>\n",
       "      <th>RBFOX_1000_72hr_merged_R1</th>\n",
       "      <th>RBFOX_50_48hr_merged_R1</th>\n",
       "      <th>RBFOX_50_72hr_merged_R1</th>\n",
       "      <th>SLBP_0_72hr_A_merged_R1</th>\n",
       "      <th>SLBP_0_72hr_B_merged_R1</th>\n",
       "      <th>SLBP_0_72hr_C_merged_R1</th>\n",
       "      <th>SLBP_1000_48hr_A_merged_R1</th>\n",
       "      <th>SLBP_1000_48hr_B_merged_R1</th>\n",
       "      <th>SLBP_1000_48hr_C_merged_R1</th>\n",
       "      <th>SLBP_1000_72hr_A_merged_R1</th>\n",
       "      <th>SLBP_1000_72hr_B_merged_R1</th>\n",
       "      <th>SLBP_1000_72hr_C_merged_R1</th>\n",
       "    </tr>\n",
       "    <tr>\n",
       "      <th>Geneid</th>\n",
       "      <th></th>\n",
       "      <th></th>\n",
       "      <th></th>\n",
       "      <th></th>\n",
       "      <th></th>\n",
       "      <th></th>\n",
       "      <th></th>\n",
       "      <th></th>\n",
       "      <th></th>\n",
       "      <th></th>\n",
       "      <th></th>\n",
       "      <th></th>\n",
       "      <th></th>\n",
       "      <th></th>\n",
       "      <th></th>\n",
       "      <th></th>\n",
       "      <th></th>\n",
       "      <th></th>\n",
       "    </tr>\n",
       "  </thead>\n",
       "  <tbody>\n",
       "    <tr>\n",
       "      <th>ENSG00000223972.4</th>\n",
       "      <td>0.230791</td>\n",
       "      <td>0.043281</td>\n",
       "      <td>0.040826</td>\n",
       "      <td>0.214849</td>\n",
       "      <td>0.095042</td>\n",
       "      <td>0.260153</td>\n",
       "      <td>0.059797</td>\n",
       "      <td>0.117453</td>\n",
       "      <td>0.181782</td>\n",
       "      <td>0.139695</td>\n",
       "      <td>0.051710</td>\n",
       "      <td>0.033809</td>\n",
       "      <td>0.176302</td>\n",
       "      <td>0.078895</td>\n",
       "      <td>0.109704</td>\n",
       "      <td>0.246414</td>\n",
       "      <td>0.153635</td>\n",
       "      <td>0.156688</td>\n",
       "    </tr>\n",
       "    <tr>\n",
       "      <th>ENSG00000227232.4</th>\n",
       "      <td>64.392447</td>\n",
       "      <td>64.196832</td>\n",
       "      <td>57.407869</td>\n",
       "      <td>56.054455</td>\n",
       "      <td>61.454583</td>\n",
       "      <td>45.963025</td>\n",
       "      <td>34.418613</td>\n",
       "      <td>37.127100</td>\n",
       "      <td>81.580652</td>\n",
       "      <td>40.327904</td>\n",
       "      <td>42.992204</td>\n",
       "      <td>42.901324</td>\n",
       "      <td>51.757602</td>\n",
       "      <td>61.172489</td>\n",
       "      <td>49.661046</td>\n",
       "      <td>61.963881</td>\n",
       "      <td>55.006566</td>\n",
       "      <td>60.735964</td>\n",
       "    </tr>\n",
       "    <tr>\n",
       "      <th>ENSG00000243485.2</th>\n",
       "      <td>2.034285</td>\n",
       "      <td>1.712099</td>\n",
       "      <td>1.895836</td>\n",
       "      <td>2.401853</td>\n",
       "      <td>2.124990</td>\n",
       "      <td>1.278378</td>\n",
       "      <td>0.822749</td>\n",
       "      <td>1.380366</td>\n",
       "      <td>1.500687</td>\n",
       "      <td>0.768829</td>\n",
       "      <td>1.156156</td>\n",
       "      <td>0.639625</td>\n",
       "      <td>2.425744</td>\n",
       "      <td>3.075658</td>\n",
       "      <td>2.150938</td>\n",
       "      <td>1.574128</td>\n",
       "      <td>1.277135</td>\n",
       "      <td>2.101978</td>\n",
       "    </tr>\n",
       "    <tr>\n",
       "      <th>ENSG00000237613.2</th>\n",
       "      <td>0.041558</td>\n",
       "      <td>0.062348</td>\n",
       "      <td>0.000000</td>\n",
       "      <td>0.000000</td>\n",
       "      <td>0.000000</td>\n",
       "      <td>0.000000</td>\n",
       "      <td>0.000000</td>\n",
       "      <td>0.000000</td>\n",
       "      <td>0.052372</td>\n",
       "      <td>0.000000</td>\n",
       "      <td>0.074489</td>\n",
       "      <td>0.146109</td>\n",
       "      <td>0.072562</td>\n",
       "      <td>0.000000</td>\n",
       "      <td>0.063213</td>\n",
       "      <td>0.000000</td>\n",
       "      <td>0.000000</td>\n",
       "      <td>0.045142</td>\n",
       "    </tr>\n",
       "    <tr>\n",
       "      <th>ENSG00000268020.2</th>\n",
       "      <td>0.000000</td>\n",
       "      <td>0.000000</td>\n",
       "      <td>0.000000</td>\n",
       "      <td>0.000000</td>\n",
       "      <td>0.000000</td>\n",
       "      <td>0.000000</td>\n",
       "      <td>0.000000</td>\n",
       "      <td>0.000000</td>\n",
       "      <td>0.000000</td>\n",
       "      <td>0.000000</td>\n",
       "      <td>0.000000</td>\n",
       "      <td>0.000000</td>\n",
       "      <td>0.046702</td>\n",
       "      <td>0.000000</td>\n",
       "      <td>0.000000</td>\n",
       "      <td>0.000000</td>\n",
       "      <td>0.000000</td>\n",
       "      <td>0.000000</td>\n",
       "    </tr>\n",
       "  </tbody>\n",
       "</table>\n",
       "</div>"
      ],
      "text/plain": [
       "                   APOBEC_only_0_merged_R1  APOBEC_only_1000_merged_R1  \\\n",
       "Geneid                                                                   \n",
       "ENSG00000223972.4                 0.230791                    0.043281   \n",
       "ENSG00000227232.4                64.392447                   64.196832   \n",
       "ENSG00000243485.2                 2.034285                    1.712099   \n",
       "ENSG00000237613.2                 0.041558                    0.062348   \n",
       "ENSG00000268020.2                 0.000000                    0.000000   \n",
       "\n",
       "                   APOBEC_only_50_merged_R1  RBFOX_0_48hr_merged_R1  \\\n",
       "Geneid                                                                \n",
       "ENSG00000223972.4                  0.040826                0.214849   \n",
       "ENSG00000227232.4                 57.407869               56.054455   \n",
       "ENSG00000243485.2                  1.895836                2.401853   \n",
       "ENSG00000237613.2                  0.000000                0.000000   \n",
       "ENSG00000268020.2                  0.000000                0.000000   \n",
       "\n",
       "                   RBFOX_0_72hr_merged_R1  RBFOX_1000_48hr_merged_R1  \\\n",
       "Geneid                                                                 \n",
       "ENSG00000223972.4                0.095042                   0.260153   \n",
       "ENSG00000227232.4               61.454583                  45.963025   \n",
       "ENSG00000243485.2                2.124990                   1.278378   \n",
       "ENSG00000237613.2                0.000000                   0.000000   \n",
       "ENSG00000268020.2                0.000000                   0.000000   \n",
       "\n",
       "                   RBFOX_1000_72hr_merged_R1  RBFOX_50_48hr_merged_R1  \\\n",
       "Geneid                                                                  \n",
       "ENSG00000223972.4                   0.059797                 0.117453   \n",
       "ENSG00000227232.4                  34.418613                37.127100   \n",
       "ENSG00000243485.2                   0.822749                 1.380366   \n",
       "ENSG00000237613.2                   0.000000                 0.000000   \n",
       "ENSG00000268020.2                   0.000000                 0.000000   \n",
       "\n",
       "                   RBFOX_50_72hr_merged_R1  SLBP_0_72hr_A_merged_R1  \\\n",
       "Geneid                                                                \n",
       "ENSG00000223972.4                 0.181782                 0.139695   \n",
       "ENSG00000227232.4                81.580652                40.327904   \n",
       "ENSG00000243485.2                 1.500687                 0.768829   \n",
       "ENSG00000237613.2                 0.052372                 0.000000   \n",
       "ENSG00000268020.2                 0.000000                 0.000000   \n",
       "\n",
       "                   SLBP_0_72hr_B_merged_R1  SLBP_0_72hr_C_merged_R1  \\\n",
       "Geneid                                                                \n",
       "ENSG00000223972.4                 0.051710                 0.033809   \n",
       "ENSG00000227232.4                42.992204                42.901324   \n",
       "ENSG00000243485.2                 1.156156                 0.639625   \n",
       "ENSG00000237613.2                 0.074489                 0.146109   \n",
       "ENSG00000268020.2                 0.000000                 0.000000   \n",
       "\n",
       "                   SLBP_1000_48hr_A_merged_R1  SLBP_1000_48hr_B_merged_R1  \\\n",
       "Geneid                                                                      \n",
       "ENSG00000223972.4                    0.176302                    0.078895   \n",
       "ENSG00000227232.4                   51.757602                   61.172489   \n",
       "ENSG00000243485.2                    2.425744                    3.075658   \n",
       "ENSG00000237613.2                    0.072562                    0.000000   \n",
       "ENSG00000268020.2                    0.046702                    0.000000   \n",
       "\n",
       "                   SLBP_1000_48hr_C_merged_R1  SLBP_1000_72hr_A_merged_R1  \\\n",
       "Geneid                                                                      \n",
       "ENSG00000223972.4                    0.109704                    0.246414   \n",
       "ENSG00000227232.4                   49.661046                   61.963881   \n",
       "ENSG00000243485.2                    2.150938                    1.574128   \n",
       "ENSG00000237613.2                    0.063213                    0.000000   \n",
       "ENSG00000268020.2                    0.000000                    0.000000   \n",
       "\n",
       "                   SLBP_1000_72hr_B_merged_R1  SLBP_1000_72hr_C_merged_R1  \n",
       "Geneid                                                                     \n",
       "ENSG00000223972.4                    0.153635                    0.156688  \n",
       "ENSG00000227232.4                   55.006566                   60.735964  \n",
       "ENSG00000243485.2                    1.277135                    2.101978  \n",
       "ENSG00000237613.2                    0.000000                    0.045142  \n",
       "ENSG00000268020.2                    0.000000                    0.000000  "
      ]
     },
     "execution_count": 10,
     "metadata": {},
     "output_type": "execute_result"
    }
   ],
   "source": [
    "def counts_to_rpkm(feature_counts_table):\n",
    "    counts = feature_counts_table.ix[:,5:]\n",
    "    lengths = feature_counts_table['Length']\n",
    "    mapped_reads = counts.sum()\n",
    "    return (counts * pow(10,9)).div(mapped_reads, axis=1).div(lengths, axis=0)\n",
    "\n",
    "def counts_to_tpm(counts_table, skip_col=5):\n",
    "    \"\"\"\n",
    "    simple function that converts a featureCounts pandas Dataframe\n",
    "    into a TPM dataframe.\n",
    "    \n",
    "    :param counts_table: pandas.DataFrame() \n",
    "        either a featureCounts table (first five cols contain non-count info,\n",
    "        the rest contain raw counts) or a generic counts table (use skip_col=0\n",
    "        in this case)\n",
    "    :return tpm: pandas.DataFrame\n",
    "    \"\"\"\n",
    "    rpkm = counts_to_rpkm(counts_table)\n",
    "    tpm = rpkm.div(rpkm.sum())*pow(10,6)\n",
    "    return tpm\n",
    "\n",
    "counts_table = pd.read_csv(counts_file, index_col=0, skiprows=1, sep='\\t')\n",
    "\n",
    "tpm = counts_to_tpm(counts_table)\n",
    "tpm.columns = [c.replace('/home/bay001/projects/kris_apobec_20200121/permanent_data/20191220_rnaseq/results/','').replace('.fastqTr.sorted.STARUnmapped.out.sorted.STARAligned.out.sorted.bam','') for c in tpm.columns]\n",
    "tpm.head()"
   ]
  },
  {
   "cell_type": "code",
   "execution_count": 11,
   "metadata": {},
   "outputs": [
    {
     "name": "stderr",
     "output_type": "stream",
     "text": [
      "/projects/ps-yeolab4/software/yeolabconda3/envs/python3essential-0.0.1/lib/python3.6/site-packages/gffutils/interface.py:161: UserWarning: It appears that this database has not had the ANALYZE sqlite3 command run on it. Doing so can dramatically speed up queries, and is done by default for databases created with gffutils >0.8.7.1 (this database was created with version 0.8.7.1) Consider calling the analyze() method of this object.\n",
      "  \"method of this object.\" % self.version)\n"
     ]
    },
    {
     "data": {
      "text/plain": [
       "'protein_coding'"
      ]
     },
     "execution_count": 11,
     "metadata": {},
     "output_type": "execute_result"
    }
   ],
   "source": [
    "def gene_id_to_protein_coding(db):\n",
    "    \"\"\"\n",
    "    returns whether or not a gene is protein coding or not.\n",
    "    \"\"\"\n",
    "    genes = db.features_of_type('gene')\n",
    "    gene_name_dict = {}\n",
    "    for gene in genes:\n",
    "        gene_id = gene.attributes['gene_id'][0] if type(gene.attributes['gene_id']) == list else gene.attributes['gene_id']\n",
    "        try:\n",
    "            gene_name_dict[gene_id] = gene.attributes['gene_type'][0]\n",
    "        except KeyError:\n",
    "            print(gene.attributes.keys())\n",
    "            print(\"Warning. Key not found for {}\".format(gene))\n",
    "            return 1\n",
    "    return gene_name_dict\n",
    "\n",
    "db_file = '/projects/ps-yeolab3/bay001/annotations/hg19/gencode_v19/gencode.v19.annotation.gtf.db'\n",
    "DATABASE = gffutils.FeatureDB(db_file)\n",
    "\n",
    "gene_id_to_pc = gene_id_to_protein_coding(DATABASE)\n",
    "gene_id_to_pc['ENSG00000100320.18']  # test the func"
   ]
  },
  {
   "cell_type": "code",
   "execution_count": 12,
   "metadata": {},
   "outputs": [],
   "source": [
    "def geneid2pc(row, d=gene_id_to_pc):\n",
    "    try:\n",
    "        return d[row['Geneid']]\n",
    "    except KeyError:\n",
    "        return 'intergenic'"
   ]
  },
  {
   "cell_type": "code",
   "execution_count": 13,
   "metadata": {},
   "outputs": [
    {
     "data": {
      "text/html": [
       "<div>\n",
       "<style scoped>\n",
       "    .dataframe tbody tr th:only-of-type {\n",
       "        vertical-align: middle;\n",
       "    }\n",
       "\n",
       "    .dataframe tbody tr th {\n",
       "        vertical-align: top;\n",
       "    }\n",
       "\n",
       "    .dataframe thead th {\n",
       "        text-align: right;\n",
       "    }\n",
       "</style>\n",
       "<table border=\"1\" class=\"dataframe\">\n",
       "  <thead>\n",
       "    <tr style=\"text-align: right;\">\n",
       "      <th></th>\n",
       "      <th>APOBEC_only_0_merged_R1</th>\n",
       "      <th>APOBEC_only_1000_merged_R1</th>\n",
       "      <th>APOBEC_only_50_merged_R1</th>\n",
       "      <th>RBFOX_0_48hr_merged_R1</th>\n",
       "      <th>RBFOX_0_72hr_merged_R1</th>\n",
       "      <th>RBFOX_1000_48hr_merged_R1</th>\n",
       "      <th>RBFOX_1000_72hr_merged_R1</th>\n",
       "      <th>RBFOX_50_48hr_merged_R1</th>\n",
       "      <th>RBFOX_50_72hr_merged_R1</th>\n",
       "      <th>SLBP_0_72hr_A_merged_R1</th>\n",
       "      <th>SLBP_0_72hr_B_merged_R1</th>\n",
       "      <th>SLBP_0_72hr_C_merged_R1</th>\n",
       "      <th>SLBP_1000_48hr_A_merged_R1</th>\n",
       "      <th>SLBP_1000_48hr_B_merged_R1</th>\n",
       "      <th>SLBP_1000_48hr_C_merged_R1</th>\n",
       "      <th>SLBP_1000_72hr_A_merged_R1</th>\n",
       "      <th>SLBP_1000_72hr_B_merged_R1</th>\n",
       "      <th>SLBP_1000_72hr_C_merged_R1</th>\n",
       "      <th>pc</th>\n",
       "    </tr>\n",
       "    <tr>\n",
       "      <th>Geneid</th>\n",
       "      <th></th>\n",
       "      <th></th>\n",
       "      <th></th>\n",
       "      <th></th>\n",
       "      <th></th>\n",
       "      <th></th>\n",
       "      <th></th>\n",
       "      <th></th>\n",
       "      <th></th>\n",
       "      <th></th>\n",
       "      <th></th>\n",
       "      <th></th>\n",
       "      <th></th>\n",
       "      <th></th>\n",
       "      <th></th>\n",
       "      <th></th>\n",
       "      <th></th>\n",
       "      <th></th>\n",
       "      <th></th>\n",
       "    </tr>\n",
       "  </thead>\n",
       "  <tbody>\n",
       "    <tr>\n",
       "      <th>ENSG00000223972</th>\n",
       "      <td>0.230791</td>\n",
       "      <td>0.043281</td>\n",
       "      <td>0.040826</td>\n",
       "      <td>0.214849</td>\n",
       "      <td>0.095042</td>\n",
       "      <td>0.260153</td>\n",
       "      <td>0.059797</td>\n",
       "      <td>0.117453</td>\n",
       "      <td>0.181782</td>\n",
       "      <td>0.139695</td>\n",
       "      <td>0.051710</td>\n",
       "      <td>0.033809</td>\n",
       "      <td>0.176302</td>\n",
       "      <td>0.078895</td>\n",
       "      <td>0.109704</td>\n",
       "      <td>0.246414</td>\n",
       "      <td>0.153635</td>\n",
       "      <td>0.156688</td>\n",
       "      <td>pseudogene</td>\n",
       "    </tr>\n",
       "    <tr>\n",
       "      <th>ENSG00000227232</th>\n",
       "      <td>64.392447</td>\n",
       "      <td>64.196832</td>\n",
       "      <td>57.407869</td>\n",
       "      <td>56.054455</td>\n",
       "      <td>61.454583</td>\n",
       "      <td>45.963025</td>\n",
       "      <td>34.418613</td>\n",
       "      <td>37.127100</td>\n",
       "      <td>81.580652</td>\n",
       "      <td>40.327904</td>\n",
       "      <td>42.992204</td>\n",
       "      <td>42.901324</td>\n",
       "      <td>51.757602</td>\n",
       "      <td>61.172489</td>\n",
       "      <td>49.661046</td>\n",
       "      <td>61.963881</td>\n",
       "      <td>55.006566</td>\n",
       "      <td>60.735964</td>\n",
       "      <td>pseudogene</td>\n",
       "    </tr>\n",
       "    <tr>\n",
       "      <th>ENSG00000243485</th>\n",
       "      <td>2.034285</td>\n",
       "      <td>1.712099</td>\n",
       "      <td>1.895836</td>\n",
       "      <td>2.401853</td>\n",
       "      <td>2.124990</td>\n",
       "      <td>1.278378</td>\n",
       "      <td>0.822749</td>\n",
       "      <td>1.380366</td>\n",
       "      <td>1.500687</td>\n",
       "      <td>0.768829</td>\n",
       "      <td>1.156156</td>\n",
       "      <td>0.639625</td>\n",
       "      <td>2.425744</td>\n",
       "      <td>3.075658</td>\n",
       "      <td>2.150938</td>\n",
       "      <td>1.574128</td>\n",
       "      <td>1.277135</td>\n",
       "      <td>2.101978</td>\n",
       "      <td>lincRNA</td>\n",
       "    </tr>\n",
       "    <tr>\n",
       "      <th>ENSG00000237613</th>\n",
       "      <td>0.041558</td>\n",
       "      <td>0.062348</td>\n",
       "      <td>0.000000</td>\n",
       "      <td>0.000000</td>\n",
       "      <td>0.000000</td>\n",
       "      <td>0.000000</td>\n",
       "      <td>0.000000</td>\n",
       "      <td>0.000000</td>\n",
       "      <td>0.052372</td>\n",
       "      <td>0.000000</td>\n",
       "      <td>0.074489</td>\n",
       "      <td>0.146109</td>\n",
       "      <td>0.072562</td>\n",
       "      <td>0.000000</td>\n",
       "      <td>0.063213</td>\n",
       "      <td>0.000000</td>\n",
       "      <td>0.000000</td>\n",
       "      <td>0.045142</td>\n",
       "      <td>lincRNA</td>\n",
       "    </tr>\n",
       "    <tr>\n",
       "      <th>ENSG00000268020</th>\n",
       "      <td>0.000000</td>\n",
       "      <td>0.000000</td>\n",
       "      <td>0.000000</td>\n",
       "      <td>0.000000</td>\n",
       "      <td>0.000000</td>\n",
       "      <td>0.000000</td>\n",
       "      <td>0.000000</td>\n",
       "      <td>0.000000</td>\n",
       "      <td>0.000000</td>\n",
       "      <td>0.000000</td>\n",
       "      <td>0.000000</td>\n",
       "      <td>0.000000</td>\n",
       "      <td>0.046702</td>\n",
       "      <td>0.000000</td>\n",
       "      <td>0.000000</td>\n",
       "      <td>0.000000</td>\n",
       "      <td>0.000000</td>\n",
       "      <td>0.000000</td>\n",
       "      <td>pseudogene</td>\n",
       "    </tr>\n",
       "  </tbody>\n",
       "</table>\n",
       "</div>"
      ],
      "text/plain": [
       "                 APOBEC_only_0_merged_R1  APOBEC_only_1000_merged_R1  \\\n",
       "Geneid                                                                 \n",
       "ENSG00000223972                 0.230791                    0.043281   \n",
       "ENSG00000227232                64.392447                   64.196832   \n",
       "ENSG00000243485                 2.034285                    1.712099   \n",
       "ENSG00000237613                 0.041558                    0.062348   \n",
       "ENSG00000268020                 0.000000                    0.000000   \n",
       "\n",
       "                 APOBEC_only_50_merged_R1  RBFOX_0_48hr_merged_R1  \\\n",
       "Geneid                                                              \n",
       "ENSG00000223972                  0.040826                0.214849   \n",
       "ENSG00000227232                 57.407869               56.054455   \n",
       "ENSG00000243485                  1.895836                2.401853   \n",
       "ENSG00000237613                  0.000000                0.000000   \n",
       "ENSG00000268020                  0.000000                0.000000   \n",
       "\n",
       "                 RBFOX_0_72hr_merged_R1  RBFOX_1000_48hr_merged_R1  \\\n",
       "Geneid                                                               \n",
       "ENSG00000223972                0.095042                   0.260153   \n",
       "ENSG00000227232               61.454583                  45.963025   \n",
       "ENSG00000243485                2.124990                   1.278378   \n",
       "ENSG00000237613                0.000000                   0.000000   \n",
       "ENSG00000268020                0.000000                   0.000000   \n",
       "\n",
       "                 RBFOX_1000_72hr_merged_R1  RBFOX_50_48hr_merged_R1  \\\n",
       "Geneid                                                                \n",
       "ENSG00000223972                   0.059797                 0.117453   \n",
       "ENSG00000227232                  34.418613                37.127100   \n",
       "ENSG00000243485                   0.822749                 1.380366   \n",
       "ENSG00000237613                   0.000000                 0.000000   \n",
       "ENSG00000268020                   0.000000                 0.000000   \n",
       "\n",
       "                 RBFOX_50_72hr_merged_R1  SLBP_0_72hr_A_merged_R1  \\\n",
       "Geneid                                                              \n",
       "ENSG00000223972                 0.181782                 0.139695   \n",
       "ENSG00000227232                81.580652                40.327904   \n",
       "ENSG00000243485                 1.500687                 0.768829   \n",
       "ENSG00000237613                 0.052372                 0.000000   \n",
       "ENSG00000268020                 0.000000                 0.000000   \n",
       "\n",
       "                 SLBP_0_72hr_B_merged_R1  SLBP_0_72hr_C_merged_R1  \\\n",
       "Geneid                                                              \n",
       "ENSG00000223972                 0.051710                 0.033809   \n",
       "ENSG00000227232                42.992204                42.901324   \n",
       "ENSG00000243485                 1.156156                 0.639625   \n",
       "ENSG00000237613                 0.074489                 0.146109   \n",
       "ENSG00000268020                 0.000000                 0.000000   \n",
       "\n",
       "                 SLBP_1000_48hr_A_merged_R1  SLBP_1000_48hr_B_merged_R1  \\\n",
       "Geneid                                                                    \n",
       "ENSG00000223972                    0.176302                    0.078895   \n",
       "ENSG00000227232                   51.757602                   61.172489   \n",
       "ENSG00000243485                    2.425744                    3.075658   \n",
       "ENSG00000237613                    0.072562                    0.000000   \n",
       "ENSG00000268020                    0.046702                    0.000000   \n",
       "\n",
       "                 SLBP_1000_48hr_C_merged_R1  SLBP_1000_72hr_A_merged_R1  \\\n",
       "Geneid                                                                    \n",
       "ENSG00000223972                    0.109704                    0.246414   \n",
       "ENSG00000227232                   49.661046                   61.963881   \n",
       "ENSG00000243485                    2.150938                    1.574128   \n",
       "ENSG00000237613                    0.063213                    0.000000   \n",
       "ENSG00000268020                    0.000000                    0.000000   \n",
       "\n",
       "                 SLBP_1000_72hr_B_merged_R1  SLBP_1000_72hr_C_merged_R1  \\\n",
       "Geneid                                                                    \n",
       "ENSG00000223972                    0.153635                    0.156688   \n",
       "ENSG00000227232                   55.006566                   60.735964   \n",
       "ENSG00000243485                    1.277135                    2.101978   \n",
       "ENSG00000237613                    0.000000                    0.045142   \n",
       "ENSG00000268020                    0.000000                    0.000000   \n",
       "\n",
       "                         pc  \n",
       "Geneid                       \n",
       "ENSG00000223972  pseudogene  \n",
       "ENSG00000227232  pseudogene  \n",
       "ENSG00000243485     lincRNA  \n",
       "ENSG00000237613     lincRNA  \n",
       "ENSG00000268020  pseudogene  "
      ]
     },
     "execution_count": 13,
     "metadata": {},
     "output_type": "execute_result"
    }
   ],
   "source": [
    "# some hacky stuff to get around our Ensembl vs Gencode annotation problem.\n",
    "if annotation == 'Ensembl':\n",
    "    tpm.reset_index(inplace=True)\n",
    "    tpm['Ensembl gene ID'] = tpm['Geneid'].apply(lambda x: x.split('.')[0])\n",
    "    tpm['pc'] = tpm.apply(geneid2pc, axis=1)\n",
    "    del tpm['Geneid']\n",
    "    tpm.set_index('Ensembl gene ID', inplace=True)\n",
    "    tpm.index.names = ['Geneid']\n",
    "\n",
    "    counts_table.reset_index(inplace=True)\n",
    "    counts_table['Ensembl gene ID'] = counts_table['Geneid'].apply(lambda x: x.split('.')[0])\n",
    "    del counts_table['Geneid']\n",
    "    counts_table.set_index('Ensembl gene ID', inplace=True)\n",
    "    counts_table.index.names = ['Geneid']\n",
    "    \n",
    "tpm.head()"
   ]
  },
  {
   "cell_type": "code",
   "execution_count": 14,
   "metadata": {},
   "outputs": [
    {
     "name": "stdout",
     "output_type": "stream",
     "text": [
      "APOBEC_only_0_merged_R1\n",
      "APOBEC_only_1000_merged_R1\n",
      "APOBEC_only_50_merged_R1\n",
      "RBFOX_0_48hr_merged_R1\n",
      "RBFOX_0_72hr_merged_R1\n",
      "RBFOX_1000_48hr_merged_R1\n",
      "RBFOX_1000_72hr_merged_R1\n",
      "RBFOX_50_48hr_merged_R1\n",
      "RBFOX_50_72hr_merged_R1\n",
      "SLBP_0_72hr_A_merged_R1\n",
      "SLBP_0_72hr_B_merged_R1\n",
      "SLBP_0_72hr_C_merged_R1\n",
      "SLBP_1000_48hr_A_merged_R1\n",
      "SLBP_1000_48hr_B_merged_R1\n",
      "SLBP_1000_48hr_C_merged_R1\n",
      "SLBP_1000_72hr_A_merged_R1\n",
      "SLBP_1000_72hr_B_merged_R1\n",
      "SLBP_1000_72hr_C_merged_R1\n",
      "pc\n"
     ]
    }
   ],
   "source": [
    "for col in tpm.columns:\n",
    "    print(col)"
   ]
  },
  {
   "cell_type": "code",
   "execution_count": 15,
   "metadata": {},
   "outputs": [
    {
     "name": "stdout",
     "output_type": "stream",
     "text": [
      "57820\n",
      "20345\n",
      "17570 genes expressed.\n"
     ]
    }
   ],
   "source": [
    "print(tpm.shape[0])\n",
    "tpm = tpm[tpm['pc']=='protein_coding']\n",
    "print(tpm.shape[0])\n",
    "tpm = tpm[['SLBP_1000_72hr_A_merged_R1','SLBP_1000_72hr_B_merged_R1','SLBP_1000_72hr_C_merged_R1']]\n",
    "expressed_genes = set(tpm[tpm.sum(axis=1)>0].index)\n",
    "print(\"{} genes expressed.\".format(len(expressed_genes)))"
   ]
  },
  {
   "cell_type": "code",
   "execution_count": 16,
   "metadata": {},
   "outputs": [
    {
     "data": {
      "text/plain": [
       "<matplotlib_venn._common.VennDiagram at 0x2b4fb2596d68>"
      ]
     },
     "execution_count": 16,
     "metadata": {},
     "output_type": "execute_result"
    },
    {
     "data": {
      "image/png": "[encoded data removed]",
      "text/plain": [
       "<Figure size 432x288 with 1 Axes>"
      ]
     },
     "metadata": {},
     "output_type": "display_data"
    }
   ],
   "source": [
    "all_histone_genes = set(histone_genes['Ensembl gene ID']).union(set(histone_genes0['Ensembl gene ID']))\n",
    "venn2_unweighted([all_histone_genes, expressed_genes])"
   ]
  },
  {
   "cell_type": "code",
   "execution_count": 17,
   "metadata": {},
   "outputs": [
    {
     "data": {
      "text/plain": [
       "<matplotlib_venn._common.VennDiagram at 0x2b4fb25e8390>"
      ]
     },
     "execution_count": 17,
     "metadata": {},
     "output_type": "execute_result"
    },
    {
     "data": {
      "image/png": "[encoded data removed]",
      "text/plain": [
       "<Figure size 432x288 with 1 Axes>"
      ]
     },
     "metadata": {},
     "output_type": "display_data"
    }
   ],
   "source": [
    "venn3_unweighted([set(histone_genes['Ensembl gene ID']), set(histone_genes0['Ensembl gene ID']), expressed_genes])"
   ]
  },
  {
   "cell_type": "code",
   "execution_count": 18,
   "metadata": {},
   "outputs": [
    {
     "name": "stdout",
     "output_type": "stream",
     "text": [
      "17488 82\n"
     ]
    }
   ],
   "source": [
    "expressed_non_histone = expressed_genes.difference(all_histone_genes)  # green\n",
    "histone_genes_set = expressed_genes.intersection(all_histone_genes)  # orange\n",
    "print(len(expressed_non_histone), len(histone_genes_set))"
   ]
  },
  {
   "cell_type": "code",
   "execution_count": 19,
   "metadata": {},
   "outputs": [],
   "source": [
    "# histone_genes_set = set(histone_genes['name'])  # eric paper\n",
    "# histone_genes_set = set(histone_genes['Ensembl gene ID'])  # hgnc\n",
    "k562_idr_genes_set = set(k562_idr['geneid_trimmed'])\n",
    "pslbp_idr_genes_set = set(pslbp_idr['geneid_trimmed'])\n",
    "filtered_edits_genes_set = set(filtered_edits['geneid_trimmed'])\n",
    "stamp_edits_poisson05_genes_set = set(stamp_edits_poisson05['geneid_trimmed'])\n",
    "stamp_edits_poisson075_genes_set = set(stamp_edits_poisson075['geneid_trimmed'])\n",
    "stamp_edits_poisson05_no_density_genes_set = set(stamp_edits_poisson05_no_density['geneid_trimmed'])\n",
    "stamp_edits_poisson075_no_density_genes_set = set(stamp_edits_poisson075_no_density['geneid_trimmed'])"
   ]
  },
  {
   "cell_type": "code",
   "execution_count": 20,
   "metadata": {},
   "outputs": [
    {
     "data": {
      "text/plain": [
       "{'ENSG00000099284',\n",
       " 'ENSG00000105968',\n",
       " 'ENSG00000113648',\n",
       " 'ENSG00000115163',\n",
       " 'ENSG00000124529',\n",
       " 'ENSG00000124575',\n",
       " 'ENSG00000124635',\n",
       " 'ENSG00000124693',\n",
       " 'ENSG00000132475',\n",
       " 'ENSG00000158373',\n",
       " 'ENSG00000158406',\n",
       " 'ENSG00000163041',\n",
       " 'ENSG00000164032',\n",
       " 'ENSG00000168274',\n",
       " 'ENSG00000168298',\n",
       " 'ENSG00000180573',\n",
       " 'ENSG00000180596',\n",
       " 'ENSG00000181218',\n",
       " 'ENSG00000182217',\n",
       " 'ENSG00000183558',\n",
       " 'ENSG00000183598',\n",
       " 'ENSG00000183941',\n",
       " 'ENSG00000184260',\n",
       " 'ENSG00000184270',\n",
       " 'ENSG00000184348',\n",
       " 'ENSG00000184678',\n",
       " 'ENSG00000184825',\n",
       " 'ENSG00000184897',\n",
       " 'ENSG00000185130',\n",
       " 'ENSG00000187837',\n",
       " 'ENSG00000187990',\n",
       " 'ENSG00000188486',\n",
       " 'ENSG00000188987',\n",
       " 'ENSG00000189060',\n",
       " 'ENSG00000196176',\n",
       " 'ENSG00000196226',\n",
       " 'ENSG00000196331',\n",
       " 'ENSG00000196747',\n",
       " 'ENSG00000196787',\n",
       " 'ENSG00000196866',\n",
       " 'ENSG00000196966',\n",
       " 'ENSG00000197061',\n",
       " 'ENSG00000197409',\n",
       " 'ENSG00000197697',\n",
       " 'ENSG00000197837',\n",
       " 'ENSG00000197846',\n",
       " 'ENSG00000197903',\n",
       " 'ENSG00000197914',\n",
       " 'ENSG00000198339',\n",
       " 'ENSG00000198366',\n",
       " 'ENSG00000198374',\n",
       " 'ENSG00000198518',\n",
       " 'ENSG00000203811',\n",
       " 'ENSG00000203813',\n",
       " 'ENSG00000203814',\n",
       " 'ENSG00000233224',\n",
       " 'ENSG00000233822',\n",
       " 'ENSG00000246705',\n",
       " 'ENSG00000256316'}"
      ]
     },
     "execution_count": 20,
     "metadata": {},
     "output_type": "execute_result"
    }
   ],
   "source": [
    "histone_genes_set.intersection(filtered_edits_genes_set)"
   ]
  },
  {
   "cell_type": "code",
   "execution_count": 21,
   "metadata": {},
   "outputs": [],
   "source": [
    "comparisons = {\n",
    "    'histones vs K562 IDR peaks': [\n",
    "        [histone_genes_set, k562_idr_genes_set], \n",
    "        ['histone genes', 'k562 IDR genes']\n",
    "    ],\n",
    "    'histones vs PSLBP IDR peaks': [\n",
    "        [histone_genes_set, pslbp_idr_genes_set], \n",
    "        ['histone genes', 'PSLBP IDR genes']\n",
    "    ],\n",
    "    'histones vs stamp_edits_poisson05_genes_set': [\n",
    "        [histone_genes_set, stamp_edits_poisson05_genes_set], \n",
    "        ['histone genes', 'STAMP poisson 0.5 genes'] \n",
    "    ],\n",
    "    'histones vs stamp_edits_poisson075_genes_set': [\n",
    "        [histone_genes_set, stamp_edits_poisson075_genes_set], \n",
    "        ['histone genes', 'STAMP poisson 0.75 genes'] \n",
    "    ],\n",
    "    'histones vs stamp_edits_poisson05_genes_set (no density)': [\n",
    "        [histone_genes_set, stamp_edits_poisson05_no_density_genes_set], \n",
    "        ['histone genes', 'STAMP poisson 0.5 genes (no density)'] \n",
    "    ],\n",
    "    'histones vs stamp_edits_poisson075_genes_set (no density)': [\n",
    "        [histone_genes_set, stamp_edits_poisson075_no_density_genes_set], \n",
    "        ['histone genes', 'STAMP poisson 0.75 genes (no density)'] \n",
    "    ],\n",
    "    'K562 IDR peaks vs stamp_edits_poisson05_genes_set': [\n",
    "        [k562_idr_genes_set, stamp_edits_poisson05_genes_set], \n",
    "        ['k562 IDR genes', 'STAMP poisson 0.5 genes'] \n",
    "    ],\n",
    "    'K562 IDR peaks vs stamp_edits_poisson05_genes_set': [\n",
    "        [k562_idr_genes_set, stamp_edits_poisson075_genes_set], \n",
    "        ['k562 IDR genes', 'STAMP poisson 0.75 genes'] \n",
    "    ],\n",
    "    'PSLBP IDR peaks vs stamp_edits_poisson05_genes_set': [\n",
    "        [pslbp_idr_genes_set, stamp_edits_poisson05_genes_set], \n",
    "        ['PSLBP IDR genes', 'STAMP poisson 0.5 genes'] \n",
    "    ],\n",
    "    'PSLBP IDR peaks vs stamp_edits_poisson075_genes_set': [\n",
    "        [pslbp_idr_genes_set, stamp_edits_poisson075_genes_set], \n",
    "        ['PSLBP IDR genes', 'STAMP poisson 0.75 genes'] \n",
    "    ],\n",
    "    'K562 IDR peaks vs stamp_edits_poisson075_genes_set (no density)': [\n",
    "        [k562_idr_genes_set, stamp_edits_poisson075_no_density_genes_set], \n",
    "        ['k562 IDR genes', 'STAMP poisson 0.75 genes (no density)'] \n",
    "    ],\n",
    "    'PSLBP IDR peaks vs stamp_edits_poisson075_genes_set (no density)': [\n",
    "        [pslbp_idr_genes_set, stamp_edits_poisson075_no_density_genes_set], \n",
    "        ['PSLBP IDR genes', 'STAMP poisson 0.75 genes (no density)'] \n",
    "    ],\n",
    "    'K562 IDR peaks vs adhoc-filtered SLBP': [\n",
    "        [k562_idr_genes_set, filtered_edits_genes_set], \n",
    "        ['k562 IDR genes', 'Conf-filtered genes'] \n",
    "    ],\n",
    "    'PSLBP IDR peaks vs adhoc-filtered SLBP': [\n",
    "        [pslbp_idr_genes_set, filtered_edits_genes_set], \n",
    "        ['PSLBP IDR genes', 'Conf-filtered genes'] \n",
    "    ],\n",
    "}"
   ]
  },
  {
   "cell_type": "code",
   "execution_count": 22,
   "metadata": {},
   "outputs": [
    {
     "data": {
      "image/png": "[encoded data removed]",
      "text/plain": [
       "<Figure size 432x288 with 1 Axes>"
      ]
     },
     "metadata": {},
     "output_type": "display_data"
    },
    {
     "data": {
      "image/png": "[encoded data removed]",
      "text/plain": [
       "<Figure size 432x288 with 1 Axes>"
      ]
     },
     "metadata": {},
     "output_type": "display_data"
    },
    {
     "data": {
      "image/png": "[encoded data removed]",
      "text/plain": [
       "<Figure size 432x288 with 1 Axes>"
      ]
     },
     "metadata": {},
     "output_type": "display_data"
    },
    {
     "data": {
      "image/png": "[encoded data removed]",
      "text/plain": [
       "<Figure size 432x288 with 1 Axes>"
      ]
     },
     "metadata": {},
     "output_type": "display_data"
    },
    {
     "data": {
      "image/png": "[encoded data removed]",
      "text/plain": [
       "<Figure size 432x288 with 1 Axes>"
      ]
     },
     "metadata": {},
     "output_type": "display_data"
    },
    {
     "data": {
      "image/png": "[encoded data removed]",
      "text/plain": [
       "<Figure size 432x288 with 1 Axes>"
      ]
     },
     "metadata": {},
     "output_type": "display_data"
    },
    {
     "data": {
      "image/png": "[encoded data removed]",
      "text/plain": [
       "<Figure size 432x288 with 1 Axes>"
      ]
     },
     "metadata": {},
     "output_type": "display_data"
    },
    {
     "data": {
      "image/png": "[encoded data removed]",
      "text/plain": [
       "<Figure size 432x288 with 1 Axes>"
      ]
     },
     "metadata": {},
     "output_type": "display_data"
    },
    {
     "data": {
      "image/png": "[encoded data removed]",
      "text/plain": [
       "<Figure size 432x288 with 1 Axes>"
      ]
     },
     "metadata": {},
     "output_type": "display_data"
    },
    {
     "data": {
      "image/png": "[encoded data removed]",
      "text/plain": [
       "<Figure size 432x288 with 1 Axes>"
      ]
     },
     "metadata": {},
     "output_type": "display_data"
    },
    {
     "data": {
      "image/png": "[encoded data removed]",
      "text/plain": [
       "<Figure size 432x288 with 1 Axes>"
      ]
     },
     "metadata": {},
     "output_type": "display_data"
    },
    {
     "data": {
      "image/png": "[encoded data removed]",
      "text/plain": [
       "<Figure size 432x288 with 1 Axes>"
      ]
     },
     "metadata": {},
     "output_type": "display_data"
    },
    {
     "data": {
      "image/png": "[encoded data removed]",
      "text/plain": [
       "<Figure size 432x288 with 1 Axes>"
      ]
     },
     "metadata": {},
     "output_type": "display_data"
    }
   ],
   "source": [
    "for label, genecomp in comparisons.items():\n",
    "    fig, ax = plt.subplots()\n",
    "    ax = venn2(genecomp[0], genecomp[1])\n",
    "    fig.suptitle(label)"
   ]
  },
  {
   "cell_type": "markdown",
   "metadata": {},
   "source": [
    "# Now perform 3way venn\n",
    "- weighted and unweighted since the numbers end up squishing together"
   ]
  },
  {
   "cell_type": "code",
   "execution_count": 23,
   "metadata": {},
   "outputs": [
    {
     "data": {
      "text/plain": [
       "<matplotlib_venn._common.VennDiagram at 0x2b4fb29d4d30>"
      ]
     },
     "execution_count": 23,
     "metadata": {},
     "output_type": "execute_result"
    },
    {
     "data": {
      "image/png": "[encoded data removed]",
      "text/plain": [
       "<Figure size 432x288 with 1 Axes>"
      ]
     },
     "metadata": {},
     "output_type": "display_data"
    }
   ],
   "source": [
    "venn3([k562_idr_genes_set, pslbp_idr_genes_set, stamp_edits_poisson05_genes_set])"
   ]
  },
  {
   "cell_type": "code",
   "execution_count": 24,
   "metadata": {},
   "outputs": [
    {
     "data": {
      "text/plain": [
       "<matplotlib_venn._common.VennDiagram at 0x2b4fb2a3fcf8>"
      ]
     },
     "execution_count": 24,
     "metadata": {},
     "output_type": "execute_result"
    },
    {
     "data": {
      "image/png": "[encoded data removed]",
      "text/plain": [
       "<Figure size 432x288 with 1 Axes>"
      ]
     },
     "metadata": {},
     "output_type": "display_data"
    }
   ],
   "source": [
    "venn3_unweighted([k562_idr_genes_set, pslbp_idr_genes_set, stamp_edits_poisson05_genes_set])"
   ]
  },
  {
   "cell_type": "code",
   "execution_count": 25,
   "metadata": {},
   "outputs": [
    {
     "data": {
      "text/plain": [
       "<matplotlib_venn._common.VennDiagram at 0x2b4fb2945710>"
      ]
     },
     "execution_count": 25,
     "metadata": {},
     "output_type": "execute_result"
    },
    {
     "data": {
      "image/png": "[encoded data removed]",
      "text/plain": [
       "<Figure size 432x288 with 1 Axes>"
      ]
     },
     "metadata": {},
     "output_type": "display_data"
    }
   ],
   "source": [
    "venn3([k562_idr_genes_set, pslbp_idr_genes_set, stamp_edits_poisson075_genes_set])"
   ]
  },
  {
   "cell_type": "code",
   "execution_count": 26,
   "metadata": {},
   "outputs": [
    {
     "data": {
      "text/plain": [
       "<matplotlib_venn._common.VennDiagram at 0x2b4fb270d3c8>"
      ]
     },
     "execution_count": 26,
     "metadata": {},
     "output_type": "execute_result"
    },
    {
     "data": {
      "image/png": "[encoded data removed]",
      "text/plain": [
       "<Figure size 432x288 with 1 Axes>"
      ]
     },
     "metadata": {},
     "output_type": "display_data"
    }
   ],
   "source": [
    "venn3_unweighted([k562_idr_genes_set, pslbp_idr_genes_set, stamp_edits_poisson075_genes_set])"
   ]
  },
  {
   "cell_type": "markdown",
   "metadata": {},
   "source": [
    "# Let's try an EPKM filter to see if we can't whittle down some of the non-histone edits."
   ]
  },
  {
   "cell_type": "code",
   "execution_count": 27,
   "metadata": {},
   "outputs": [
    {
     "data": {
      "text/html": [
       "<div>\n",
       "<style scoped>\n",
       "    .dataframe tbody tr th:only-of-type {\n",
       "        vertical-align: middle;\n",
       "    }\n",
       "\n",
       "    .dataframe tbody tr th {\n",
       "        vertical-align: top;\n",
       "    }\n",
       "\n",
       "    .dataframe thead th {\n",
       "        text-align: right;\n",
       "    }\n",
       "</style>\n",
       "<table border=\"1\" class=\"dataframe\">\n",
       "  <thead>\n",
       "    <tr style=\"text-align: right;\">\n",
       "      <th></th>\n",
       "      <th>Chr</th>\n",
       "      <th>Start</th>\n",
       "      <th>End</th>\n",
       "      <th>Strand</th>\n",
       "      <th>Length</th>\n",
       "      <th>/home/bay001/projects/kris_apobec_20200121/permanent_data/20191220_rnaseq/results/APOBEC_only_0_merged_R1.fastqTr.sorted.STARUnmapped.out.sorted.STARAligned.out.sorted.bam</th>\n",
       "      <th>/home/bay001/projects/kris_apobec_20200121/permanent_data/20191220_rnaseq/results/APOBEC_only_1000_merged_R1.fastqTr.sorted.STARUnmapped.out.sorted.STARAligned.out.sorted.bam</th>\n",
       "      <th>/home/bay001/projects/kris_apobec_20200121/permanent_data/20191220_rnaseq/results/APOBEC_only_50_merged_R1.fastqTr.sorted.STARUnmapped.out.sorted.STARAligned.out.sorted.bam</th>\n",
       "      <th>/home/bay001/projects/kris_apobec_20200121/permanent_data/20191220_rnaseq/results/RBFOX_0_48hr_merged_R1.fastqTr.sorted.STARUnmapped.out.sorted.STARAligned.out.sorted.bam</th>\n",
       "      <th>/home/bay001/projects/kris_apobec_20200121/permanent_data/20191220_rnaseq/results/RBFOX_0_72hr_merged_R1.fastqTr.sorted.STARUnmapped.out.sorted.STARAligned.out.sorted.bam</th>\n",
       "      <th>...</th>\n",
       "      <th>/home/bay001/projects/kris_apobec_20200121/permanent_data/20191220_rnaseq/results/RBFOX_50_72hr_merged_R1.fastqTr.sorted.STARUnmapped.out.sorted.STARAligned.out.sorted.bam</th>\n",
       "      <th>/home/bay001/projects/kris_apobec_20200121/permanent_data/20191220_rnaseq/results/SLBP_0_72hr_A_merged_R1.fastqTr.sorted.STARUnmapped.out.sorted.STARAligned.out.sorted.bam</th>\n",
       "      <th>/home/bay001/projects/kris_apobec_20200121/permanent_data/20191220_rnaseq/results/SLBP_0_72hr_B_merged_R1.fastqTr.sorted.STARUnmapped.out.sorted.STARAligned.out.sorted.bam</th>\n",
       "      <th>/home/bay001/projects/kris_apobec_20200121/permanent_data/20191220_rnaseq/results/SLBP_0_72hr_C_merged_R1.fastqTr.sorted.STARUnmapped.out.sorted.STARAligned.out.sorted.bam</th>\n",
       "      <th>/home/bay001/projects/kris_apobec_20200121/permanent_data/20191220_rnaseq/results/SLBP_1000_48hr_A_merged_R1.fastqTr.sorted.STARUnmapped.out.sorted.STARAligned.out.sorted.bam</th>\n",
       "      <th>/home/bay001/projects/kris_apobec_20200121/permanent_data/20191220_rnaseq/results/SLBP_1000_48hr_B_merged_R1.fastqTr.sorted.STARUnmapped.out.sorted.STARAligned.out.sorted.bam</th>\n",
       "      <th>/home/bay001/projects/kris_apobec_20200121/permanent_data/20191220_rnaseq/results/SLBP_1000_48hr_C_merged_R1.fastqTr.sorted.STARUnmapped.out.sorted.STARAligned.out.sorted.bam</th>\n",
       "      <th>/home/bay001/projects/kris_apobec_20200121/permanent_data/20191220_rnaseq/results/SLBP_1000_72hr_A_merged_R1.fastqTr.sorted.STARUnmapped.out.sorted.STARAligned.out.sorted.bam</th>\n",
       "      <th>/home/bay001/projects/kris_apobec_20200121/permanent_data/20191220_rnaseq/results/SLBP_1000_72hr_B_merged_R1.fastqTr.sorted.STARUnmapped.out.sorted.STARAligned.out.sorted.bam</th>\n",
       "      <th>/home/bay001/projects/kris_apobec_20200121/permanent_data/20191220_rnaseq/results/SLBP_1000_72hr_C_merged_R1.fastqTr.sorted.STARUnmapped.out.sorted.STARAligned.out.sorted.bam</th>\n",
       "    </tr>\n",
       "    <tr>\n",
       "      <th>Geneid</th>\n",
       "      <th></th>\n",
       "      <th></th>\n",
       "      <th></th>\n",
       "      <th></th>\n",
       "      <th></th>\n",
       "      <th></th>\n",
       "      <th></th>\n",
       "      <th></th>\n",
       "      <th></th>\n",
       "      <th></th>\n",
       "      <th></th>\n",
       "      <th></th>\n",
       "      <th></th>\n",
       "      <th></th>\n",
       "      <th></th>\n",
       "      <th></th>\n",
       "      <th></th>\n",
       "      <th></th>\n",
       "      <th></th>\n",
       "      <th></th>\n",
       "      <th></th>\n",
       "    </tr>\n",
       "  </thead>\n",
       "  <tbody>\n",
       "    <tr>\n",
       "      <th>ENSG00000223972</th>\n",
       "      <td>chr1;chr1;chr1;chr1;chr1;chr1;chr1;chr1;chr1;c...</td>\n",
       "      <td>11869;11872;11874;12010;12179;12595;12613;1261...</td>\n",
       "      <td>12227;12227;12227;12057;12227;12721;12697;1272...</td>\n",
       "      <td>+;+;+;+;+;+;+;+;+;+;+;+;+;+;+;+</td>\n",
       "      <td>1756</td>\n",
       "      <td>8</td>\n",
       "      <td>1</td>\n",
       "      <td>1</td>\n",
       "      <td>8</td>\n",
       "      <td>3</td>\n",
       "      <td>...</td>\n",
       "      <td>5</td>\n",
       "      <td>5</td>\n",
       "      <td>2</td>\n",
       "      <td>1</td>\n",
       "      <td>7</td>\n",
       "      <td>3</td>\n",
       "      <td>5</td>\n",
       "      <td>7</td>\n",
       "      <td>6</td>\n",
       "      <td>5</td>\n",
       "    </tr>\n",
       "    <tr>\n",
       "      <th>ENSG00000227232</th>\n",
       "      <td>chr1;chr1;chr1;chr1;chr1;chr1;chr1;chr1;chr1;c...</td>\n",
       "      <td>14363;14363;14363;14404;14411;14970;14970;1497...</td>\n",
       "      <td>14829;14829;14829;14501;14502;15038;15038;1503...</td>\n",
       "      <td>-;-;-;-;-;-;-;-;-;-;-;-;-;-;-;-;-;-;-;-;-;-;-;...</td>\n",
       "      <td>2073</td>\n",
       "      <td>2635</td>\n",
       "      <td>1751</td>\n",
       "      <td>1660</td>\n",
       "      <td>2464</td>\n",
       "      <td>2290</td>\n",
       "      <td>...</td>\n",
       "      <td>2649</td>\n",
       "      <td>1704</td>\n",
       "      <td>1963</td>\n",
       "      <td>1498</td>\n",
       "      <td>2426</td>\n",
       "      <td>2746</td>\n",
       "      <td>2672</td>\n",
       "      <td>2078</td>\n",
       "      <td>2536</td>\n",
       "      <td>2288</td>\n",
       "    </tr>\n",
       "    <tr>\n",
       "      <th>ENSG00000243485</th>\n",
       "      <td>chr1;chr1;chr1;chr1;chr1;chr1</td>\n",
       "      <td>29554;30267;30366;30564;30976;30976</td>\n",
       "      <td>30039;30667;30503;30667;31109;31097</td>\n",
       "      <td>+;+;+;+;+;+</td>\n",
       "      <td>1021</td>\n",
       "      <td>41</td>\n",
       "      <td>23</td>\n",
       "      <td>27</td>\n",
       "      <td>52</td>\n",
       "      <td>39</td>\n",
       "      <td>...</td>\n",
       "      <td>24</td>\n",
       "      <td>16</td>\n",
       "      <td>26</td>\n",
       "      <td>11</td>\n",
       "      <td>56</td>\n",
       "      <td>68</td>\n",
       "      <td>57</td>\n",
       "      <td>26</td>\n",
       "      <td>29</td>\n",
       "      <td>39</td>\n",
       "    </tr>\n",
       "    <tr>\n",
       "      <th>ENSG00000237613</th>\n",
       "      <td>chr1;chr1;chr1;chr1;chr1</td>\n",
       "      <td>34554;35245;35277;35721;35721</td>\n",
       "      <td>35174;35481;35481;36081;36073</td>\n",
       "      <td>-;-;-;-;-</td>\n",
       "      <td>1219</td>\n",
       "      <td>1</td>\n",
       "      <td>1</td>\n",
       "      <td>0</td>\n",
       "      <td>0</td>\n",
       "      <td>0</td>\n",
       "      <td>...</td>\n",
       "      <td>1</td>\n",
       "      <td>0</td>\n",
       "      <td>2</td>\n",
       "      <td>3</td>\n",
       "      <td>2</td>\n",
       "      <td>0</td>\n",
       "      <td>2</td>\n",
       "      <td>0</td>\n",
       "      <td>0</td>\n",
       "      <td>1</td>\n",
       "    </tr>\n",
       "    <tr>\n",
       "      <th>ENSG00000268020</th>\n",
       "      <td>chr1;chr1;chr1</td>\n",
       "      <td>52473;53049;54830</td>\n",
       "      <td>53312;53067;54936</td>\n",
       "      <td>+;+;+</td>\n",
       "      <td>947</td>\n",
       "      <td>0</td>\n",
       "      <td>0</td>\n",
       "      <td>0</td>\n",
       "      <td>0</td>\n",
       "      <td>0</td>\n",
       "      <td>...</td>\n",
       "      <td>0</td>\n",
       "      <td>0</td>\n",
       "      <td>0</td>\n",
       "      <td>0</td>\n",
       "      <td>1</td>\n",
       "      <td>0</td>\n",
       "      <td>0</td>\n",
       "      <td>0</td>\n",
       "      <td>0</td>\n",
       "      <td>0</td>\n",
       "    </tr>\n",
       "  </tbody>\n",
       "</table>\n",
       "<p>5 rows × 23 columns</p>\n",
       "</div>"
      ],
      "text/plain": [
       "                                                               Chr  \\\n",
       "Geneid                                                               \n",
       "ENSG00000223972  chr1;chr1;chr1;chr1;chr1;chr1;chr1;chr1;chr1;c...   \n",
       "ENSG00000227232  chr1;chr1;chr1;chr1;chr1;chr1;chr1;chr1;chr1;c...   \n",
       "ENSG00000243485                      chr1;chr1;chr1;chr1;chr1;chr1   \n",
       "ENSG00000237613                           chr1;chr1;chr1;chr1;chr1   \n",
       "ENSG00000268020                                     chr1;chr1;chr1   \n",
       "\n",
       "                                                             Start  \\\n",
       "Geneid                                                               \n",
       "ENSG00000223972  11869;11872;11874;12010;12179;12595;12613;1261...   \n",
       "ENSG00000227232  14363;14363;14363;14404;14411;14970;14970;1497...   \n",
       "ENSG00000243485                29554;30267;30366;30564;30976;30976   \n",
       "ENSG00000237613                      34554;35245;35277;35721;35721   \n",
       "ENSG00000268020                                  52473;53049;54830   \n",
       "\n",
       "                                                               End  \\\n",
       "Geneid                                                               \n",
       "ENSG00000223972  12227;12227;12227;12057;12227;12721;12697;1272...   \n",
       "ENSG00000227232  14829;14829;14829;14501;14502;15038;15038;1503...   \n",
       "ENSG00000243485                30039;30667;30503;30667;31109;31097   \n",
       "ENSG00000237613                      35174;35481;35481;36081;36073   \n",
       "ENSG00000268020                                  53312;53067;54936   \n",
       "\n",
       "                                                            Strand  Length  \\\n",
       "Geneid                                                                       \n",
       "ENSG00000223972                    +;+;+;+;+;+;+;+;+;+;+;+;+;+;+;+    1756   \n",
       "ENSG00000227232  -;-;-;-;-;-;-;-;-;-;-;-;-;-;-;-;-;-;-;-;-;-;-;...    2073   \n",
       "ENSG00000243485                                        +;+;+;+;+;+    1021   \n",
       "ENSG00000237613                                          -;-;-;-;-    1219   \n",
       "ENSG00000268020                                              +;+;+     947   \n",
       "\n",
       "                 /home/bay001/projects/kris_apobec_20200121/permanent_data/20191220_rnaseq/results/APOBEC_only_0_merged_R1.fastqTr.sorted.STARUnmapped.out.sorted.STARAligned.out.sorted.bam  \\\n",
       "Geneid                                                                                                                                                                                         \n",
       "ENSG00000223972                                                  8                                                                                                                             \n",
       "ENSG00000227232                                               2635                                                                                                                             \n",
       "ENSG00000243485                                                 41                                                                                                                             \n",
       "ENSG00000237613                                                  1                                                                                                                             \n",
       "ENSG00000268020                                                  0                                                                                                                             \n",
       "\n",
       "                 /home/bay001/projects/kris_apobec_20200121/permanent_data/20191220_rnaseq/results/APOBEC_only_1000_merged_R1.fastqTr.sorted.STARUnmapped.out.sorted.STARAligned.out.sorted.bam  \\\n",
       "Geneid                                                                                                                                                                                            \n",
       "ENSG00000223972                                                  1                                                                                                                                \n",
       "ENSG00000227232                                               1751                                                                                                                                \n",
       "ENSG00000243485                                                 23                                                                                                                                \n",
       "ENSG00000237613                                                  1                                                                                                                                \n",
       "ENSG00000268020                                                  0                                                                                                                                \n",
       "\n",
       "                 /home/bay001/projects/kris_apobec_20200121/permanent_data/20191220_rnaseq/results/APOBEC_only_50_merged_R1.fastqTr.sorted.STARUnmapped.out.sorted.STARAligned.out.sorted.bam  \\\n",
       "Geneid                                                                                                                                                                                          \n",
       "ENSG00000223972                                                  1                                                                                                                              \n",
       "ENSG00000227232                                               1660                                                                                                                              \n",
       "ENSG00000243485                                                 27                                                                                                                              \n",
       "ENSG00000237613                                                  0                                                                                                                              \n",
       "ENSG00000268020                                                  0                                                                                                                              \n",
       "\n",
       "                 /home/bay001/projects/kris_apobec_20200121/permanent_data/20191220_rnaseq/results/RBFOX_0_48hr_merged_R1.fastqTr.sorted.STARUnmapped.out.sorted.STARAligned.out.sorted.bam  \\\n",
       "Geneid                                                                                                                                                                                        \n",
       "ENSG00000223972                                                  8                                                                                                                            \n",
       "ENSG00000227232                                               2464                                                                                                                            \n",
       "ENSG00000243485                                                 52                                                                                                                            \n",
       "ENSG00000237613                                                  0                                                                                                                            \n",
       "ENSG00000268020                                                  0                                                                                                                            \n",
       "\n",
       "                 /home/bay001/projects/kris_apobec_20200121/permanent_data/20191220_rnaseq/results/RBFOX_0_72hr_merged_R1.fastqTr.sorted.STARUnmapped.out.sorted.STARAligned.out.sorted.bam  \\\n",
       "Geneid                                                                                                                                                                                        \n",
       "ENSG00000223972                                                  3                                                                                                                            \n",
       "ENSG00000227232                                               2290                                                                                                                            \n",
       "ENSG00000243485                                                 39                                                                                                                            \n",
       "ENSG00000237613                                                  0                                                                                                                            \n",
       "ENSG00000268020                                                  0                                                                                                                            \n",
       "\n",
       "                 ...  \\\n",
       "Geneid           ...   \n",
       "ENSG00000223972  ...   \n",
       "ENSG00000227232  ...   \n",
       "ENSG00000243485  ...   \n",
       "ENSG00000237613  ...   \n",
       "ENSG00000268020  ...   \n",
       "\n",
       "                 /home/bay001/projects/kris_apobec_20200121/permanent_data/20191220_rnaseq/results/RBFOX_50_72hr_merged_R1.fastqTr.sorted.STARUnmapped.out.sorted.STARAligned.out.sorted.bam  \\\n",
       "Geneid                                                                                                                                                                                         \n",
       "ENSG00000223972                                                  5                                                                                                                             \n",
       "ENSG00000227232                                               2649                                                                                                                             \n",
       "ENSG00000243485                                                 24                                                                                                                             \n",
       "ENSG00000237613                                                  1                                                                                                                             \n",
       "ENSG00000268020                                                  0                                                                                                                             \n",
       "\n",
       "                 /home/bay001/projects/kris_apobec_20200121/permanent_data/20191220_rnaseq/results/SLBP_0_72hr_A_merged_R1.fastqTr.sorted.STARUnmapped.out.sorted.STARAligned.out.sorted.bam  \\\n",
       "Geneid                                                                                                                                                                                         \n",
       "ENSG00000223972                                                  5                                                                                                                             \n",
       "ENSG00000227232                                               1704                                                                                                                             \n",
       "ENSG00000243485                                                 16                                                                                                                             \n",
       "ENSG00000237613                                                  0                                                                                                                             \n",
       "ENSG00000268020                                                  0                                                                                                                             \n",
       "\n",
       "                 /home/bay001/projects/kris_apobec_20200121/permanent_data/20191220_rnaseq/results/SLBP_0_72hr_B_merged_R1.fastqTr.sorted.STARUnmapped.out.sorted.STARAligned.out.sorted.bam  \\\n",
       "Geneid                                                                                                                                                                                         \n",
       "ENSG00000223972                                                  2                                                                                                                             \n",
       "ENSG00000227232                                               1963                                                                                                                             \n",
       "ENSG00000243485                                                 26                                                                                                                             \n",
       "ENSG00000237613                                                  2                                                                                                                             \n",
       "ENSG00000268020                                                  0                                                                                                                             \n",
       "\n",
       "                 /home/bay001/projects/kris_apobec_20200121/permanent_data/20191220_rnaseq/results/SLBP_0_72hr_C_merged_R1.fastqTr.sorted.STARUnmapped.out.sorted.STARAligned.out.sorted.bam  \\\n",
       "Geneid                                                                                                                                                                                         \n",
       "ENSG00000223972                                                  1                                                                                                                             \n",
       "ENSG00000227232                                               1498                                                                                                                             \n",
       "ENSG00000243485                                                 11                                                                                                                             \n",
       "ENSG00000237613                                                  3                                                                                                                             \n",
       "ENSG00000268020                                                  0                                                                                                                             \n",
       "\n",
       "                 /home/bay001/projects/kris_apobec_20200121/permanent_data/20191220_rnaseq/results/SLBP_1000_48hr_A_merged_R1.fastqTr.sorted.STARUnmapped.out.sorted.STARAligned.out.sorted.bam  \\\n",
       "Geneid                                                                                                                                                                                            \n",
       "ENSG00000223972                                                  7                                                                                                                                \n",
       "ENSG00000227232                                               2426                                                                                                                                \n",
       "ENSG00000243485                                                 56                                                                                                                                \n",
       "ENSG00000237613                                                  2                                                                                                                                \n",
       "ENSG00000268020                                                  1                                                                                                                                \n",
       "\n",
       "                 /home/bay001/projects/kris_apobec_20200121/permanent_data/20191220_rnaseq/results/SLBP_1000_48hr_B_merged_R1.fastqTr.sorted.STARUnmapped.out.sorted.STARAligned.out.sorted.bam  \\\n",
       "Geneid                                                                                                                                                                                            \n",
       "ENSG00000223972                                                  3                                                                                                                                \n",
       "ENSG00000227232                                               2746                                                                                                                                \n",
       "ENSG00000243485                                                 68                                                                                                                                \n",
       "ENSG00000237613                                                  0                                                                                                                                \n",
       "ENSG00000268020                                                  0                                                                                                                                \n",
       "\n",
       "                 /home/bay001/projects/kris_apobec_20200121/permanent_data/20191220_rnaseq/results/SLBP_1000_48hr_C_merged_R1.fastqTr.sorted.STARUnmapped.out.sorted.STARAligned.out.sorted.bam  \\\n",
       "Geneid                                                                                                                                                                                            \n",
       "ENSG00000223972                                                  5                                                                                                                                \n",
       "ENSG00000227232                                               2672                                                                                                                                \n",
       "ENSG00000243485                                                 57                                                                                                                                \n",
       "ENSG00000237613                                                  2                                                                                                                                \n",
       "ENSG00000268020                                                  0                                                                                                                                \n",
       "\n",
       "                 /home/bay001/projects/kris_apobec_20200121/permanent_data/20191220_rnaseq/results/SLBP_1000_72hr_A_merged_R1.fastqTr.sorted.STARUnmapped.out.sorted.STARAligned.out.sorted.bam  \\\n",
       "Geneid                                                                                                                                                                                            \n",
       "ENSG00000223972                                                  7                                                                                                                                \n",
       "ENSG00000227232                                               2078                                                                                                                                \n",
       "ENSG00000243485                                                 26                                                                                                                                \n",
       "ENSG00000237613                                                  0                                                                                                                                \n",
       "ENSG00000268020                                                  0                                                                                                                                \n",
       "\n",
       "                 /home/bay001/projects/kris_apobec_20200121/permanent_data/20191220_rnaseq/results/SLBP_1000_72hr_B_merged_R1.fastqTr.sorted.STARUnmapped.out.sorted.STARAligned.out.sorted.bam  \\\n",
       "Geneid                                                                                                                                                                                            \n",
       "ENSG00000223972                                                  6                                                                                                                                \n",
       "ENSG00000227232                                               2536                                                                                                                                \n",
       "ENSG00000243485                                                 29                                                                                                                                \n",
       "ENSG00000237613                                                  0                                                                                                                                \n",
       "ENSG00000268020                                                  0                                                                                                                                \n",
       "\n",
       "                 /home/bay001/projects/kris_apobec_20200121/permanent_data/20191220_rnaseq/results/SLBP_1000_72hr_C_merged_R1.fastqTr.sorted.STARUnmapped.out.sorted.STARAligned.out.sorted.bam  \n",
       "Geneid                                                                                                                                                                                           \n",
       "ENSG00000223972                                                  5                                                                                                                               \n",
       "ENSG00000227232                                               2288                                                                                                                               \n",
       "ENSG00000243485                                                 39                                                                                                                               \n",
       "ENSG00000237613                                                  1                                                                                                                               \n",
       "ENSG00000268020                                                  0                                                                                                                               \n",
       "\n",
       "[5 rows x 23 columns]"
      ]
     },
     "execution_count": 27,
     "metadata": {},
     "output_type": "execute_result"
    }
   ],
   "source": [
    "counts_table.head()"
   ]
  },
  {
   "cell_type": "code",
   "execution_count": 28,
   "metadata": {},
   "outputs": [
    {
     "data": {
      "text/html": [
       "<div>\n",
       "<style scoped>\n",
       "    .dataframe tbody tr th:only-of-type {\n",
       "        vertical-align: middle;\n",
       "    }\n",
       "\n",
       "    .dataframe tbody tr th {\n",
       "        vertical-align: top;\n",
       "    }\n",
       "\n",
       "    .dataframe thead th {\n",
       "        text-align: right;\n",
       "    }\n",
       "</style>\n",
       "<table border=\"1\" class=\"dataframe\">\n",
       "  <thead>\n",
       "    <tr style=\"text-align: right;\">\n",
       "      <th></th>\n",
       "      <th>chrom</th>\n",
       "      <th>start</th>\n",
       "      <th>end</th>\n",
       "      <th>name</th>\n",
       "      <th>score</th>\n",
       "      <th>strand</th>\n",
       "      <th>annotation</th>\n",
       "      <th>region_w_gene</th>\n",
       "      <th>geneid</th>\n",
       "      <th>genename</th>\n",
       "      <th>region_w_overlap</th>\n",
       "      <th>editfrac</th>\n",
       "      <th>geneid_trimmed</th>\n",
       "      <th>edited</th>\n",
       "    </tr>\n",
       "  </thead>\n",
       "  <tbody>\n",
       "    <tr>\n",
       "      <th>0</th>\n",
       "      <td>chr1</td>\n",
       "      <td>322208</td>\n",
       "      <td>322209</td>\n",
       "      <td>0.904382</td>\n",
       "      <td>1,11</td>\n",
       "      <td>+</td>\n",
       "      <td>noncoding_exon;lncRNA|lnc-OR4F29-1||noncoding_...</td>\n",
       "      <td>noncoding_exon||lncRNA|lnc-OR4F29-1||ENSG00000...</td>\n",
       "      <td>lncRNA|lnc-OR4F29-1||ENSG00000237094.7</td>\n",
       "      <td>lnc-OR4F29-1|RP4-669L17.10</td>\n",
       "      <td>noncoding_exon|1</td>\n",
       "      <td>0.090909</td>\n",
       "      <td>ENSG00000237094</td>\n",
       "      <td>1</td>\n",
       "    </tr>\n",
       "    <tr>\n",
       "      <th>1</th>\n",
       "      <td>chr1</td>\n",
       "      <td>324297</td>\n",
       "      <td>324298</td>\n",
       "      <td>0.972277</td>\n",
       "      <td>2,27</td>\n",
       "      <td>+</td>\n",
       "      <td>noncoding_exon;lncRNA|lnc-OR4F29-1||noncoding_...</td>\n",
       "      <td>noncoding_exon||lncRNA|lnc-OR4F29-1||ENSG00000...</td>\n",
       "      <td>lncRNA|lnc-OR4F29-1||ENSG00000237094.7</td>\n",
       "      <td>lnc-OR4F29-1|RP4-669L17.10</td>\n",
       "      <td>noncoding_exon|1</td>\n",
       "      <td>0.074074</td>\n",
       "      <td>ENSG00000237094</td>\n",
       "      <td>2</td>\n",
       "    </tr>\n",
       "    <tr>\n",
       "      <th>2</th>\n",
       "      <td>chr1</td>\n",
       "      <td>324779</td>\n",
       "      <td>324780</td>\n",
       "      <td>0.922745</td>\n",
       "      <td>1,9</td>\n",
       "      <td>+</td>\n",
       "      <td>noncoding_exon;lncRNA|lnc-OR4F29-1||noncoding_...</td>\n",
       "      <td>noncoding_exon||lncRNA|lnc-OR4F29-1||ENSG00000...</td>\n",
       "      <td>lncRNA|lnc-OR4F29-1||ENSG00000237094.7</td>\n",
       "      <td>lnc-OR4F29-1|RP4-669L17.10</td>\n",
       "      <td>noncoding_exon|1</td>\n",
       "      <td>0.111111</td>\n",
       "      <td>ENSG00000237094</td>\n",
       "      <td>1</td>\n",
       "    </tr>\n",
       "    <tr>\n",
       "      <th>3</th>\n",
       "      <td>chr1</td>\n",
       "      <td>324820</td>\n",
       "      <td>324821</td>\n",
       "      <td>0.817907</td>\n",
       "      <td>1,21</td>\n",
       "      <td>+</td>\n",
       "      <td>noncoding_exon;lncRNA|lnc-OR4F29-1||noncoding_...</td>\n",
       "      <td>noncoding_exon||lncRNA|lnc-OR4F29-1||ENSG00000...</td>\n",
       "      <td>lncRNA|lnc-OR4F29-1||ENSG00000237094.7</td>\n",
       "      <td>lnc-OR4F29-1|RP4-669L17.10</td>\n",
       "      <td>noncoding_exon|1</td>\n",
       "      <td>0.047619</td>\n",
       "      <td>ENSG00000237094</td>\n",
       "      <td>1</td>\n",
       "    </tr>\n",
       "    <tr>\n",
       "      <th>4</th>\n",
       "      <td>chr1</td>\n",
       "      <td>327502</td>\n",
       "      <td>327503</td>\n",
       "      <td>0.886385</td>\n",
       "      <td>1,13</td>\n",
       "      <td>+</td>\n",
       "      <td>noncoding_exon;lncRNA|lnc-OR4F29-1||noncoding_...</td>\n",
       "      <td>noncoding_exon||ENSG00000250575.1||lncRNA|lnc-...</td>\n",
       "      <td>ENSG00000250575.1||lncRNA|lnc-OR4F29-1</td>\n",
       "      <td>RP4-669L17.8|lnc-OR4F29-1</td>\n",
       "      <td>noncoding_exon|1</td>\n",
       "      <td>0.076923</td>\n",
       "      <td>ENSG00000250575</td>\n",
       "      <td>1</td>\n",
       "    </tr>\n",
       "  </tbody>\n",
       "</table>\n",
       "</div>"
      ],
      "text/plain": [
       "  chrom   start     end      name score strand  \\\n",
       "0  chr1  322208  322209  0.904382  1,11      +   \n",
       "1  chr1  324297  324298  0.972277  2,27      +   \n",
       "2  chr1  324779  324780  0.922745   1,9      +   \n",
       "3  chr1  324820  324821  0.817907  1,21      +   \n",
       "4  chr1  327502  327503  0.886385  1,13      +   \n",
       "\n",
       "                                          annotation  \\\n",
       "0  noncoding_exon;lncRNA|lnc-OR4F29-1||noncoding_...   \n",
       "1  noncoding_exon;lncRNA|lnc-OR4F29-1||noncoding_...   \n",
       "2  noncoding_exon;lncRNA|lnc-OR4F29-1||noncoding_...   \n",
       "3  noncoding_exon;lncRNA|lnc-OR4F29-1||noncoding_...   \n",
       "4  noncoding_exon;lncRNA|lnc-OR4F29-1||noncoding_...   \n",
       "\n",
       "                                       region_w_gene  \\\n",
       "0  noncoding_exon||lncRNA|lnc-OR4F29-1||ENSG00000...   \n",
       "1  noncoding_exon||lncRNA|lnc-OR4F29-1||ENSG00000...   \n",
       "2  noncoding_exon||lncRNA|lnc-OR4F29-1||ENSG00000...   \n",
       "3  noncoding_exon||lncRNA|lnc-OR4F29-1||ENSG00000...   \n",
       "4  noncoding_exon||ENSG00000250575.1||lncRNA|lnc-...   \n",
       "\n",
       "                                   geneid                    genename  \\\n",
       "0  lncRNA|lnc-OR4F29-1||ENSG00000237094.7  lnc-OR4F29-1|RP4-669L17.10   \n",
       "1  lncRNA|lnc-OR4F29-1||ENSG00000237094.7  lnc-OR4F29-1|RP4-669L17.10   \n",
       "2  lncRNA|lnc-OR4F29-1||ENSG00000237094.7  lnc-OR4F29-1|RP4-669L17.10   \n",
       "3  lncRNA|lnc-OR4F29-1||ENSG00000237094.7  lnc-OR4F29-1|RP4-669L17.10   \n",
       "4  ENSG00000250575.1||lncRNA|lnc-OR4F29-1   RP4-669L17.8|lnc-OR4F29-1   \n",
       "\n",
       "   region_w_overlap  editfrac   geneid_trimmed  edited  \n",
       "0  noncoding_exon|1  0.090909  ENSG00000237094       1  \n",
       "1  noncoding_exon|1  0.074074  ENSG00000237094       2  \n",
       "2  noncoding_exon|1  0.111111  ENSG00000237094       1  \n",
       "3  noncoding_exon|1  0.047619  ENSG00000237094       1  \n",
       "4  noncoding_exon|1  0.076923  ENSG00000250575       1  "
      ]
     },
     "execution_count": 28,
     "metadata": {},
     "output_type": "execute_result"
    }
   ],
   "source": [
    "filtered_edits['edited'] = filtered_edits['score'].apply(lambda x: int(x.split(',')[0]))\n",
    "filtered_edits.head()"
   ]
  },
  {
   "cell_type": "code",
   "execution_count": 29,
   "metadata": {},
   "outputs": [
    {
     "data": {
      "text/html": [
       "<div>\n",
       "<style scoped>\n",
       "    .dataframe tbody tr th:only-of-type {\n",
       "        vertical-align: middle;\n",
       "    }\n",
       "\n",
       "    .dataframe tbody tr th {\n",
       "        vertical-align: top;\n",
       "    }\n",
       "\n",
       "    .dataframe thead th {\n",
       "        text-align: right;\n",
       "    }\n",
       "</style>\n",
       "<table border=\"1\" class=\"dataframe\">\n",
       "  <thead>\n",
       "    <tr style=\"text-align: right;\">\n",
       "      <th></th>\n",
       "      <th>edited</th>\n",
       "    </tr>\n",
       "    <tr>\n",
       "      <th>geneid_trimmed</th>\n",
       "      <th></th>\n",
       "    </tr>\n",
       "  </thead>\n",
       "  <tbody>\n",
       "    <tr>\n",
       "      <th>ENSG00000000003</th>\n",
       "      <td>4</td>\n",
       "    </tr>\n",
       "    <tr>\n",
       "      <th>ENSG00000000419</th>\n",
       "      <td>2</td>\n",
       "    </tr>\n",
       "    <tr>\n",
       "      <th>ENSG00000000457</th>\n",
       "      <td>1</td>\n",
       "    </tr>\n",
       "    <tr>\n",
       "      <th>ENSG00000000460</th>\n",
       "      <td>11</td>\n",
       "    </tr>\n",
       "    <tr>\n",
       "      <th>ENSG00000001036</th>\n",
       "      <td>8</td>\n",
       "    </tr>\n",
       "  </tbody>\n",
       "</table>\n",
       "</div>"
      ],
      "text/plain": [
       "                 edited\n",
       "geneid_trimmed         \n",
       "ENSG00000000003       4\n",
       "ENSG00000000419       2\n",
       "ENSG00000000457       1\n",
       "ENSG00000000460      11\n",
       "ENSG00000001036       8"
      ]
     },
     "execution_count": 29,
     "metadata": {},
     "output_type": "execute_result"
    }
   ],
   "source": [
    "edit_counts = pd.DataFrame(filtered_edits.groupby('geneid_trimmed')['edited'].sum())\n",
    "edit_counts.head()"
   ]
  },
  {
   "cell_type": "code",
   "execution_count": 30,
   "metadata": {},
   "outputs": [
    {
     "data": {
      "text/html": [
       "<div>\n",
       "<style scoped>\n",
       "    .dataframe tbody tr th:only-of-type {\n",
       "        vertical-align: middle;\n",
       "    }\n",
       "\n",
       "    .dataframe tbody tr th {\n",
       "        vertical-align: top;\n",
       "    }\n",
       "\n",
       "    .dataframe thead th {\n",
       "        text-align: right;\n",
       "    }\n",
       "</style>\n",
       "<table border=\"1\" class=\"dataframe\">\n",
       "  <thead>\n",
       "    <tr style=\"text-align: right;\">\n",
       "      <th></th>\n",
       "      <th>edited</th>\n",
       "      <th>Length</th>\n",
       "    </tr>\n",
       "  </thead>\n",
       "  <tbody>\n",
       "    <tr>\n",
       "      <th>ENSG00000229807</th>\n",
       "      <td>278.0</td>\n",
       "      <td>19931.0</td>\n",
       "    </tr>\n",
       "    <tr>\n",
       "      <th>lncRNA|SERTAD4-AS1||lncRNA|lnc-OR4F29-8</th>\n",
       "      <td>192.0</td>\n",
       "      <td>0.0</td>\n",
       "    </tr>\n",
       "    <tr>\n",
       "      <th>ENSG00000188681</th>\n",
       "      <td>137.0</td>\n",
       "      <td>2927.0</td>\n",
       "    </tr>\n",
       "    <tr>\n",
       "      <th>lncRNA|LENG8-AS1</th>\n",
       "      <td>132.0</td>\n",
       "      <td>0.0</td>\n",
       "    </tr>\n",
       "    <tr>\n",
       "      <th>lncRNA|KANSL1-AS1||lncRNA|MAPT-IT1</th>\n",
       "      <td>128.0</td>\n",
       "      <td>0.0</td>\n",
       "    </tr>\n",
       "  </tbody>\n",
       "</table>\n",
       "</div>"
      ],
      "text/plain": [
       "                                         edited   Length\n",
       "ENSG00000229807                           278.0  19931.0\n",
       "lncRNA|SERTAD4-AS1||lncRNA|lnc-OR4F29-8   192.0      0.0\n",
       "ENSG00000188681                           137.0   2927.0\n",
       "lncRNA|LENG8-AS1                          132.0      0.0\n",
       "lncRNA|KANSL1-AS1||lncRNA|MAPT-IT1        128.0      0.0"
      ]
     },
     "execution_count": 30,
     "metadata": {},
     "output_type": "execute_result"
    }
   ],
   "source": [
    "edit_counts_length = pd.merge(edit_counts, counts_table[['Length']], how='outer', left_index=True, right_index=True).fillna(0)\n",
    "edit_counts_length.sort_values(by='edited', ascending=False).head()"
   ]
  },
  {
   "cell_type": "code",
   "execution_count": 31,
   "metadata": {},
   "outputs": [
    {
     "name": "stderr",
     "output_type": "stream",
     "text": [
      "/projects/ps-yeolab4/software/yeolabconda3/envs/python3essential-0.0.1/lib/python3.6/site-packages/ipykernel_launcher.py:8: RuntimeWarning: divide by zero encountered in double_scalars\n",
      "  \n"
     ]
    }
   ],
   "source": [
    "def epkm(row, total_mapped, colname='edited'):\n",
    "    \"\"\"\n",
    "    Just like \"RPKM\" except we're looking at the number of edits (edit_counts).\n",
    "    edit_counts = total number of edit conversions across a genic region (all exons, or 3'UTR+CDS, or CDS)\n",
    "    If a read contains multiple C>T conversions, we end up counting it multiple times. Perhaps that's okay?\n",
    "    \"\"\"\n",
    "    edit_counts = row[colname]\n",
    "    return edit_counts/((total_mapped/1000000.)*(row['Length']/1000.))\n",
    "\n",
    "edit_counts_length['epkm'] = edit_counts_length.apply(epkm, args=(108410275, ), axis=1, )  # total mapped for SLBP_1000_72hr_merged"
   ]
  },
  {
   "cell_type": "code",
   "execution_count": 32,
   "metadata": {},
   "outputs": [
    {
     "data": {
      "text/html": [
       "<div>\n",
       "<style scoped>\n",
       "    .dataframe tbody tr th:only-of-type {\n",
       "        vertical-align: middle;\n",
       "    }\n",
       "\n",
       "    .dataframe tbody tr th {\n",
       "        vertical-align: top;\n",
       "    }\n",
       "\n",
       "    .dataframe thead th {\n",
       "        text-align: right;\n",
       "    }\n",
       "</style>\n",
       "<table border=\"1\" class=\"dataframe\">\n",
       "  <thead>\n",
       "    <tr style=\"text-align: right;\">\n",
       "      <th></th>\n",
       "      <th>edited</th>\n",
       "      <th>Length</th>\n",
       "      <th>epkm</th>\n",
       "    </tr>\n",
       "  </thead>\n",
       "  <tbody>\n",
       "    <tr>\n",
       "      <th>ENSG00000210195</th>\n",
       "      <td>28.0</td>\n",
       "      <td>66.0</td>\n",
       "      <td>3.913305</td>\n",
       "    </tr>\n",
       "    <tr>\n",
       "      <th>ENSG00000269900</th>\n",
       "      <td>23.0</td>\n",
       "      <td>268.0</td>\n",
       "      <td>0.791631</td>\n",
       "    </tr>\n",
       "    <tr>\n",
       "      <th>ENSG00000260548</th>\n",
       "      <td>34.0</td>\n",
       "      <td>563.0</td>\n",
       "      <td>0.557058</td>\n",
       "    </tr>\n",
       "    <tr>\n",
       "      <th>ENSG00000198763</th>\n",
       "      <td>56.0</td>\n",
       "      <td>1042.0</td>\n",
       "      <td>0.495735</td>\n",
       "    </tr>\n",
       "    <tr>\n",
       "      <th>ENSG00000198886</th>\n",
       "      <td>71.0</td>\n",
       "      <td>1378.0</td>\n",
       "      <td>0.475268</td>\n",
       "    </tr>\n",
       "  </tbody>\n",
       "</table>\n",
       "</div>"
      ],
      "text/plain": [
       "                 edited  Length      epkm\n",
       "ENSG00000210195    28.0    66.0  3.913305\n",
       "ENSG00000269900    23.0   268.0  0.791631\n",
       "ENSG00000260548    34.0   563.0  0.557058\n",
       "ENSG00000198763    56.0  1042.0  0.495735\n",
       "ENSG00000198886    71.0  1378.0  0.475268"
      ]
     },
     "execution_count": 32,
     "metadata": {},
     "output_type": "execute_result"
    }
   ],
   "source": [
    "edit_counts_length = edit_counts_length[edit_counts_length['Length']>0] # gets rid of lncRNA annotations, which aren't standard.\n",
    "edit_counts_length.sort_values(by='epkm', inplace=True, ascending=False)\n",
    "edit_counts_length.head()"
   ]
  },
  {
   "cell_type": "code",
   "execution_count": 33,
   "metadata": {},
   "outputs": [],
   "source": [
    "genesets = {}\n",
    "for threshold in [\n",
    "    100, 200, 300, 500, 1000, 5000, 10000\n",
    "]:\n",
    "    genesets[threshold] = set(edit_counts_length.head(threshold).index)"
   ]
  },
  {
   "cell_type": "code",
   "execution_count": 34,
   "metadata": {},
   "outputs": [
    {
     "data": {
      "image/png": "[encoded data removed]",
      "text/plain": [
       "<Figure size 432x288 with 1 Axes>"
      ]
     },
     "metadata": {},
     "output_type": "display_data"
    },
    {
     "data": {
      "image/png": "[encoded data removed]",
      "text/plain": [
       "<Figure size 432x288 with 1 Axes>"
      ]
     },
     "metadata": {},
     "output_type": "display_data"
    },
    {
     "data": {
      "image/png": "[encoded data removed]",
      "text/plain": [
       "<Figure size 432x288 with 1 Axes>"
      ]
     },
     "metadata": {},
     "output_type": "display_data"
    },
    {
     "data": {
      "image/png": "[encoded data removed]",
      "text/plain": [
       "<Figure size 432x288 with 1 Axes>"
      ]
     },
     "metadata": {},
     "output_type": "display_data"
    },
    {
     "data": {
      "image/png": "[encoded data removed]",
      "text/plain": [
       "<Figure size 432x288 with 1 Axes>"
      ]
     },
     "metadata": {},
     "output_type": "display_data"
    },
    {
     "data": {
      "image/png": "[encoded data removed]",
      "text/plain": [
       "<Figure size 432x288 with 1 Axes>"
      ]
     },
     "metadata": {},
     "output_type": "display_data"
    },
    {
     "data": {
      "image/png": "[encoded data removed]",
      "text/plain": [
       "<Figure size 432x288 with 1 Axes>"
      ]
     },
     "metadata": {},
     "output_type": "display_data"
    }
   ],
   "source": [
    "comparisons = {\n",
    "    'histones vs top 100': [\n",
    "        [histone_genes_set, genesets[100]], \n",
    "        ['histone genes', 'top 100']\n",
    "    ],\n",
    "    'histones vs top 200': [\n",
    "        [histone_genes_set, genesets[200]], \n",
    "        ['histone genes', 'top 200']\n",
    "    ],\n",
    "    'histones vs top 300': [\n",
    "        [histone_genes_set, genesets[300]], \n",
    "        ['histone genes', 'top 300']\n",
    "    ],\n",
    "    'histones vs top 500': [\n",
    "        [histone_genes_set, genesets[500]], \n",
    "        ['histone genes', 'top 500']\n",
    "    ],\n",
    "    'histones vs top 1000': [\n",
    "        [histone_genes_set, genesets[1000]], \n",
    "        ['histone genes', 'top 1000']\n",
    "    ],\n",
    "    'histones vs top 5000': [\n",
    "        [histone_genes_set, genesets[5000]], \n",
    "        ['histone genes', 'top 5000']\n",
    "    ],\n",
    "    'histones vs top 10000': [\n",
    "        [histone_genes_set, genesets[10000]], \n",
    "        ['histone genes', 'top 10000']\n",
    "    ],\n",
    "}\n",
    "for label, genecomp in comparisons.items():\n",
    "    fig, ax = plt.subplots()\n",
    "    ax = venn2(genecomp[0], genecomp[1])\n",
    "    fig.suptitle(label)"
   ]
  },
  {
   "cell_type": "code",
   "execution_count": 35,
   "metadata": {},
   "outputs": [
    {
     "data": {
      "image/png": "[encoded data removed]",
      "text/plain": [
       "<Figure size 432x288 with 1 Axes>"
      ]
     },
     "metadata": {},
     "output_type": "display_data"
    },
    {
     "data": {
      "image/png": "[encoded data removed]",
      "text/plain": [
       "<Figure size 432x288 with 1 Axes>"
      ]
     },
     "metadata": {},
     "output_type": "display_data"
    },
    {
     "data": {
      "image/png": "[encoded data removed]",
      "text/plain": [
       "<Figure size 432x288 with 1 Axes>"
      ]
     },
     "metadata": {},
     "output_type": "display_data"
    },
    {
     "data": {
      "image/png": "[encoded data removed]",
      "text/plain": [
       "<Figure size 432x288 with 1 Axes>"
      ]
     },
     "metadata": {},
     "output_type": "display_data"
    },
    {
     "data": {
      "image/png": "[encoded data removed]",
      "text/plain": [
       "<Figure size 432x288 with 1 Axes>"
      ]
     },
     "metadata": {},
     "output_type": "display_data"
    },
    {
     "data": {
      "image/png": "[encoded data removed]",
      "text/plain": [
       "<Figure size 432x288 with 1 Axes>"
      ]
     },
     "metadata": {},
     "output_type": "display_data"
    },
    {
     "data": {
      "image/png": "[encoded data removed]",
      "text/plain": [
       "<Figure size 432x288 with 1 Axes>"
      ]
     },
     "metadata": {},
     "output_type": "display_data"
    }
   ],
   "source": [
    "comparisons = {\n",
    "    'K562 IDR peaks vs top 100': [\n",
    "        [k562_idr_genes_set, genesets[100]], \n",
    "        ['K562 genes', 'top 100']\n",
    "    ],\n",
    "    'K562 IDR peaks vs top 200': [\n",
    "        [k562_idr_genes_set, genesets[200]], \n",
    "        ['K562 genes', 'top 200']\n",
    "    ],\n",
    "    'K562 IDR peaks vs top 300': [\n",
    "        [k562_idr_genes_set, genesets[300]], \n",
    "        ['K562 genes', 'top 300']\n",
    "    ],\n",
    "    'K562 IDR peaks vs top 500': [\n",
    "        [k562_idr_genes_set, genesets[500]], \n",
    "        ['K562 genes', 'top 500']\n",
    "    ],\n",
    "    'K562 IDR peaks vs top 1000': [\n",
    "        [k562_idr_genes_set, genesets[1000]], \n",
    "        ['K562 genes', 'top 1000']\n",
    "    ],\n",
    "    'K562 IDR peaks vs top 5000': [\n",
    "        [k562_idr_genes_set, genesets[5000]], \n",
    "        ['K562 genes', 'top 5000']\n",
    "    ],\n",
    "    'K562 IDR peaks vs top 10000': [\n",
    "        [k562_idr_genes_set, genesets[10000]], \n",
    "        ['K562 genes', 'top 10000']\n",
    "    ],\n",
    "}\n",
    "for label, genecomp in comparisons.items():\n",
    "    fig, ax = plt.subplots()\n",
    "    ax = venn2(genecomp[0], genecomp[1])\n",
    "    fig.suptitle(label)"
   ]
  },
  {
   "cell_type": "code",
   "execution_count": 36,
   "metadata": {},
   "outputs": [
    {
     "data": {
      "image/png": "[encoded data removed]",
      "text/plain": [
       "<Figure size 432x288 with 1 Axes>"
      ]
     },
     "metadata": {},
     "output_type": "display_data"
    },
    {
     "data": {
      "image/png": "[encoded data removed]",
      "text/plain": [
       "<Figure size 432x288 with 1 Axes>"
      ]
     },
     "metadata": {},
     "output_type": "display_data"
    },
    {
     "data": {
      "image/png": "[encoded data removed]",
      "text/plain": [
       "<Figure size 432x288 with 1 Axes>"
      ]
     },
     "metadata": {},
     "output_type": "display_data"
    },
    {
     "data": {
      "image/png": "[encoded data removed]",
      "text/plain": [
       "<Figure size 432x288 with 1 Axes>"
      ]
     },
     "metadata": {},
     "output_type": "display_data"
    },
    {
     "data": {
      "image/png": "[encoded data removed]",
      "text/plain": [
       "<Figure size 432x288 with 1 Axes>"
      ]
     },
     "metadata": {},
     "output_type": "display_data"
    },
    {
     "data": {
      "image/png": "[encoded data removed]",
      "text/plain": [
       "<Figure size 432x288 with 1 Axes>"
      ]
     },
     "metadata": {},
     "output_type": "display_data"
    },
    {
     "data": {
      "image/png": "[encoded data removed]",
      "text/plain": [
       "<Figure size 432x288 with 1 Axes>"
      ]
     },
     "metadata": {},
     "output_type": "display_data"
    }
   ],
   "source": [
    "comparisons = {\n",
    "    'PSLBP IDR peaks vs top 100': [\n",
    "        [pslbp_idr_genes_set, genesets[100]], \n",
    "        ['PSLBP genes', 'top 100']\n",
    "    ],\n",
    "    'PSLBP IDR peaks vs top 200': [\n",
    "        [pslbp_idr_genes_set, genesets[200]], \n",
    "        ['PSLBP genes', 'top 200']\n",
    "    ],\n",
    "    'PSLBP IDR peaks vs top 300': [\n",
    "        [pslbp_idr_genes_set, genesets[300]], \n",
    "        ['PSLBP genes', 'top 300']\n",
    "    ],\n",
    "    'PSLBP IDR peaks vs top 500': [\n",
    "        [pslbp_idr_genes_set, genesets[500]], \n",
    "        ['PSLBP genes', 'top 500']\n",
    "    ],\n",
    "    'PSLBP IDR peaks vs top 1000': [\n",
    "        [pslbp_idr_genes_set, genesets[1000]], \n",
    "        ['PSLBP genes', 'top 1000']\n",
    "    ],\n",
    "    'PSLBP IDR peaks vs top 5000': [\n",
    "        [pslbp_idr_genes_set, genesets[5000]], \n",
    "        ['PSLBP genes', 'top 5000']\n",
    "    ],\n",
    "    'PSLBP IDR peaks vs top 10000': [\n",
    "        [pslbp_idr_genes_set, genesets[10000]], \n",
    "        ['PSLBP genes', 'top 10000']\n",
    "    ],\n",
    "}\n",
    "for label, genecomp in comparisons.items():\n",
    "    fig, ax = plt.subplots()\n",
    "    ax = venn2(genecomp[0], genecomp[1])\n",
    "    fig.suptitle(label)"
   ]
  },
  {
   "cell_type": "markdown",
   "metadata": {},
   "source": [
    "# No that doesn't really work. Looking at our data, maybe if we subtract?"
   ]
  },
  {
   "cell_type": "code",
   "execution_count": 37,
   "metadata": {},
   "outputs": [],
   "source": [
    "edits_bedtool = pybedtools.BedTool.from_dataframe(filtered_edits[['chrom','start','end','geneid_trimmed','edited','strand']])"
   ]
  },
  {
   "cell_type": "code",
   "execution_count": 38,
   "metadata": {},
   "outputs": [
    {
     "data": {
      "text/html": [
       "<div>\n",
       "<style scoped>\n",
       "    .dataframe tbody tr th:only-of-type {\n",
       "        vertical-align: middle;\n",
       "    }\n",
       "\n",
       "    .dataframe tbody tr th {\n",
       "        vertical-align: top;\n",
       "    }\n",
       "\n",
       "    .dataframe thead th {\n",
       "        text-align: right;\n",
       "    }\n",
       "</style>\n",
       "<table border=\"1\" class=\"dataframe\">\n",
       "  <thead>\n",
       "    <tr style=\"text-align: right;\">\n",
       "      <th></th>\n",
       "      <th>chrom</th>\n",
       "      <th>start</th>\n",
       "      <th>end</th>\n",
       "      <th>geneid_trimmed</th>\n",
       "      <th>edited</th>\n",
       "      <th>strand</th>\n",
       "    </tr>\n",
       "  </thead>\n",
       "  <tbody>\n",
       "    <tr>\n",
       "      <th>0</th>\n",
       "      <td>chr1</td>\n",
       "      <td>322208</td>\n",
       "      <td>322209</td>\n",
       "      <td>ENSG00000237094</td>\n",
       "      <td>1</td>\n",
       "      <td>+</td>\n",
       "    </tr>\n",
       "    <tr>\n",
       "      <th>1</th>\n",
       "      <td>chr1</td>\n",
       "      <td>324297</td>\n",
       "      <td>324298</td>\n",
       "      <td>ENSG00000237094</td>\n",
       "      <td>2</td>\n",
       "      <td>+</td>\n",
       "    </tr>\n",
       "    <tr>\n",
       "      <th>2</th>\n",
       "      <td>chr1</td>\n",
       "      <td>324779</td>\n",
       "      <td>324780</td>\n",
       "      <td>ENSG00000237094</td>\n",
       "      <td>1</td>\n",
       "      <td>+</td>\n",
       "    </tr>\n",
       "    <tr>\n",
       "      <th>3</th>\n",
       "      <td>chr1</td>\n",
       "      <td>324820</td>\n",
       "      <td>324821</td>\n",
       "      <td>ENSG00000237094</td>\n",
       "      <td>1</td>\n",
       "      <td>+</td>\n",
       "    </tr>\n",
       "    <tr>\n",
       "      <th>4</th>\n",
       "      <td>chr1</td>\n",
       "      <td>327502</td>\n",
       "      <td>327503</td>\n",
       "      <td>ENSG00000250575</td>\n",
       "      <td>1</td>\n",
       "      <td>+</td>\n",
       "    </tr>\n",
       "  </tbody>\n",
       "</table>\n",
       "</div>"
      ],
      "text/plain": [
       "  chrom   start     end   geneid_trimmed  edited strand\n",
       "0  chr1  322208  322209  ENSG00000237094       1      +\n",
       "1  chr1  324297  324298  ENSG00000237094       2      +\n",
       "2  chr1  324779  324780  ENSG00000237094       1      +\n",
       "3  chr1  324820  324821  ENSG00000237094       1      +\n",
       "4  chr1  327502  327503  ENSG00000250575       1      +"
      ]
     },
     "execution_count": 38,
     "metadata": {},
     "output_type": "execute_result"
    }
   ],
   "source": [
    "filtered_edits[['chrom','start','end','geneid_trimmed','edited','strand']].head()"
   ]
  },
  {
   "cell_type": "code",
   "execution_count": 39,
   "metadata": {},
   "outputs": [],
   "source": [
    "control_bedtool = pybedtools.BedTool.from_dataframe(stamp_control[['chrom','start','end','name','score','strand']])"
   ]
  },
  {
   "cell_type": "code",
   "execution_count": 40,
   "metadata": {},
   "outputs": [
    {
     "name": "stderr",
     "output_type": "stream",
     "text": [
      "/projects/ps-yeolab4/software/yeolabconda3/envs/python3essential-0.0.1/lib/python3.6/site-packages/pybedtools/bedtool.py:3439: FutureWarning: read_table is deprecated, use read_csv instead, passing sep='\\t'.\n",
      "  return pandas.read_table(self.fn, *args, **kwargs)\n"
     ]
    },
    {
     "name": "stdout",
     "output_type": "stream",
     "text": [
      "100351 98240\n"
     ]
    }
   ],
   "source": [
    "filtered_edits = edits_bedtool.subtract(control_bedtool, s=True).to_dataframe()\n",
    "print(edits_bedtool.to_dataframe().shape[0], filtered_edits.shape[0])"
   ]
  },
  {
   "cell_type": "code",
   "execution_count": 41,
   "metadata": {},
   "outputs": [
    {
     "data": {
      "text/html": [
       "<div>\n",
       "<style scoped>\n",
       "    .dataframe tbody tr th:only-of-type {\n",
       "        vertical-align: middle;\n",
       "    }\n",
       "\n",
       "    .dataframe tbody tr th {\n",
       "        vertical-align: top;\n",
       "    }\n",
       "\n",
       "    .dataframe thead th {\n",
       "        text-align: right;\n",
       "    }\n",
       "</style>\n",
       "<table border=\"1\" class=\"dataframe\">\n",
       "  <thead>\n",
       "    <tr style=\"text-align: right;\">\n",
       "      <th></th>\n",
       "      <th>chrom</th>\n",
       "      <th>start</th>\n",
       "      <th>end</th>\n",
       "      <th>name</th>\n",
       "      <th>score</th>\n",
       "      <th>strand</th>\n",
       "    </tr>\n",
       "  </thead>\n",
       "  <tbody>\n",
       "    <tr>\n",
       "      <th>0</th>\n",
       "      <td>chr1</td>\n",
       "      <td>324779</td>\n",
       "      <td>324780</td>\n",
       "      <td>ENSG00000237094</td>\n",
       "      <td>1</td>\n",
       "      <td>+</td>\n",
       "    </tr>\n",
       "    <tr>\n",
       "      <th>1</th>\n",
       "      <td>chr1</td>\n",
       "      <td>324820</td>\n",
       "      <td>324821</td>\n",
       "      <td>ENSG00000237094</td>\n",
       "      <td>1</td>\n",
       "      <td>+</td>\n",
       "    </tr>\n",
       "    <tr>\n",
       "      <th>2</th>\n",
       "      <td>chr1</td>\n",
       "      <td>327502</td>\n",
       "      <td>327503</td>\n",
       "      <td>ENSG00000250575</td>\n",
       "      <td>1</td>\n",
       "      <td>+</td>\n",
       "    </tr>\n",
       "    <tr>\n",
       "      <th>3</th>\n",
       "      <td>chr1</td>\n",
       "      <td>327729</td>\n",
       "      <td>327730</td>\n",
       "      <td>ENSG00000250575</td>\n",
       "      <td>1</td>\n",
       "      <td>+</td>\n",
       "    </tr>\n",
       "    <tr>\n",
       "      <th>4</th>\n",
       "      <td>chr1</td>\n",
       "      <td>564545</td>\n",
       "      <td>564546</td>\n",
       "      <td>ENSG00000225972</td>\n",
       "      <td>2</td>\n",
       "      <td>+</td>\n",
       "    </tr>\n",
       "  </tbody>\n",
       "</table>\n",
       "</div>"
      ],
      "text/plain": [
       "  chrom   start     end             name  score strand\n",
       "0  chr1  324779  324780  ENSG00000237094      1      +\n",
       "1  chr1  324820  324821  ENSG00000237094      1      +\n",
       "2  chr1  327502  327503  ENSG00000250575      1      +\n",
       "3  chr1  327729  327730  ENSG00000250575      1      +\n",
       "4  chr1  564545  564546  ENSG00000225972      2      +"
      ]
     },
     "execution_count": 41,
     "metadata": {},
     "output_type": "execute_result"
    }
   ],
   "source": [
    "filtered_edits.head()"
   ]
  },
  {
   "cell_type": "code",
   "execution_count": 42,
   "metadata": {},
   "outputs": [
    {
     "data": {
      "text/html": [
       "<div>\n",
       "<style scoped>\n",
       "    .dataframe tbody tr th:only-of-type {\n",
       "        vertical-align: middle;\n",
       "    }\n",
       "\n",
       "    .dataframe tbody tr th {\n",
       "        vertical-align: top;\n",
       "    }\n",
       "\n",
       "    .dataframe thead th {\n",
       "        text-align: right;\n",
       "    }\n",
       "</style>\n",
       "<table border=\"1\" class=\"dataframe\">\n",
       "  <thead>\n",
       "    <tr style=\"text-align: right;\">\n",
       "      <th></th>\n",
       "      <th>score</th>\n",
       "    </tr>\n",
       "    <tr>\n",
       "      <th>name</th>\n",
       "      <th></th>\n",
       "    </tr>\n",
       "  </thead>\n",
       "  <tbody>\n",
       "    <tr>\n",
       "      <th>ENSG00000000003</th>\n",
       "      <td>4</td>\n",
       "    </tr>\n",
       "    <tr>\n",
       "      <th>ENSG00000000419</th>\n",
       "      <td>2</td>\n",
       "    </tr>\n",
       "    <tr>\n",
       "      <th>ENSG00000000457</th>\n",
       "      <td>1</td>\n",
       "    </tr>\n",
       "    <tr>\n",
       "      <th>ENSG00000000460</th>\n",
       "      <td>11</td>\n",
       "    </tr>\n",
       "    <tr>\n",
       "      <th>ENSG00000001036</th>\n",
       "      <td>8</td>\n",
       "    </tr>\n",
       "  </tbody>\n",
       "</table>\n",
       "</div>"
      ],
      "text/plain": [
       "                 score\n",
       "name                  \n",
       "ENSG00000000003      4\n",
       "ENSG00000000419      2\n",
       "ENSG00000000457      1\n",
       "ENSG00000000460     11\n",
       "ENSG00000001036      8"
      ]
     },
     "execution_count": 42,
     "metadata": {},
     "output_type": "execute_result"
    }
   ],
   "source": [
    "edit_counts = pd.DataFrame(filtered_edits.groupby('name')['score'].sum())\n",
    "edit_counts.head()"
   ]
  },
  {
   "cell_type": "code",
   "execution_count": 43,
   "metadata": {},
   "outputs": [
    {
     "data": {
      "text/html": [
       "<div>\n",
       "<style scoped>\n",
       "    .dataframe tbody tr th:only-of-type {\n",
       "        vertical-align: middle;\n",
       "    }\n",
       "\n",
       "    .dataframe tbody tr th {\n",
       "        vertical-align: top;\n",
       "    }\n",
       "\n",
       "    .dataframe thead th {\n",
       "        text-align: right;\n",
       "    }\n",
       "</style>\n",
       "<table border=\"1\" class=\"dataframe\">\n",
       "  <thead>\n",
       "    <tr style=\"text-align: right;\">\n",
       "      <th></th>\n",
       "      <th>score</th>\n",
       "      <th>Length</th>\n",
       "    </tr>\n",
       "  </thead>\n",
       "  <tbody>\n",
       "    <tr>\n",
       "      <th>ENSG00000229807</th>\n",
       "      <td>222.0</td>\n",
       "      <td>19931.0</td>\n",
       "    </tr>\n",
       "    <tr>\n",
       "      <th>lncRNA|SERTAD4-AS1||lncRNA|lnc-OR4F29-8</th>\n",
       "      <td>165.0</td>\n",
       "      <td>0.0</td>\n",
       "    </tr>\n",
       "    <tr>\n",
       "      <th>lncRNA|LENG8-AS1</th>\n",
       "      <td>127.0</td>\n",
       "      <td>0.0</td>\n",
       "    </tr>\n",
       "    <tr>\n",
       "      <th>lncRNA|lnc-CHL1-7</th>\n",
       "      <td>120.0</td>\n",
       "      <td>0.0</td>\n",
       "    </tr>\n",
       "    <tr>\n",
       "      <th>lncRNA|WEE2-AS1</th>\n",
       "      <td>108.0</td>\n",
       "      <td>0.0</td>\n",
       "    </tr>\n",
       "  </tbody>\n",
       "</table>\n",
       "</div>"
      ],
      "text/plain": [
       "                                         score   Length\n",
       "ENSG00000229807                          222.0  19931.0\n",
       "lncRNA|SERTAD4-AS1||lncRNA|lnc-OR4F29-8  165.0      0.0\n",
       "lncRNA|LENG8-AS1                         127.0      0.0\n",
       "lncRNA|lnc-CHL1-7                        120.0      0.0\n",
       "lncRNA|WEE2-AS1                          108.0      0.0"
      ]
     },
     "execution_count": 43,
     "metadata": {},
     "output_type": "execute_result"
    }
   ],
   "source": [
    "edit_counts_length = pd.merge(edit_counts, counts_table[['Length']], how='outer', left_index=True, right_index=True).fillna(0)\n",
    "edit_counts_length.sort_values(by='score', ascending=False).head()"
   ]
  },
  {
   "cell_type": "code",
   "execution_count": 44,
   "metadata": {},
   "outputs": [
    {
     "name": "stderr",
     "output_type": "stream",
     "text": [
      "/projects/ps-yeolab4/software/yeolabconda3/envs/python3essential-0.0.1/lib/python3.6/site-packages/ipykernel_launcher.py:8: RuntimeWarning: divide by zero encountered in double_scalars\n",
      "  \n"
     ]
    }
   ],
   "source": [
    "edit_counts_length['epkm'] = edit_counts_length.apply(epkm, args=(108410275, 'score'), axis=1, )  # total mapped for SLBP_1000_72hr_merged"
   ]
  },
  {
   "cell_type": "code",
   "execution_count": 45,
   "metadata": {},
   "outputs": [
    {
     "data": {
      "text/html": [
       "<div>\n",
       "<style scoped>\n",
       "    .dataframe tbody tr th:only-of-type {\n",
       "        vertical-align: middle;\n",
       "    }\n",
       "\n",
       "    .dataframe tbody tr th {\n",
       "        vertical-align: top;\n",
       "    }\n",
       "\n",
       "    .dataframe thead th {\n",
       "        text-align: right;\n",
       "    }\n",
       "</style>\n",
       "<table border=\"1\" class=\"dataframe\">\n",
       "  <thead>\n",
       "    <tr style=\"text-align: right;\">\n",
       "      <th></th>\n",
       "      <th>score</th>\n",
       "      <th>Length</th>\n",
       "      <th>epkm</th>\n",
       "    </tr>\n",
       "  </thead>\n",
       "  <tbody>\n",
       "    <tr>\n",
       "      <th>ENSG00000260548</th>\n",
       "      <td>34.0</td>\n",
       "      <td>563.0</td>\n",
       "      <td>0.557058</td>\n",
       "    </tr>\n",
       "    <tr>\n",
       "      <th>ENSG00000240036</th>\n",
       "      <td>18.0</td>\n",
       "      <td>376.0</td>\n",
       "      <td>0.441585</td>\n",
       "    </tr>\n",
       "    <tr>\n",
       "      <th>ENSG00000238741</th>\n",
       "      <td>15.0</td>\n",
       "      <td>330.0</td>\n",
       "      <td>0.419283</td>\n",
       "    </tr>\n",
       "    <tr>\n",
       "      <th>ENSG00000233799</th>\n",
       "      <td>10.0</td>\n",
       "      <td>286.0</td>\n",
       "      <td>0.322525</td>\n",
       "    </tr>\n",
       "    <tr>\n",
       "      <th>ENSG00000227615</th>\n",
       "      <td>11.0</td>\n",
       "      <td>399.0</td>\n",
       "      <td>0.254302</td>\n",
       "    </tr>\n",
       "  </tbody>\n",
       "</table>\n",
       "</div>"
      ],
      "text/plain": [
       "                 score  Length      epkm\n",
       "ENSG00000260548   34.0   563.0  0.557058\n",
       "ENSG00000240036   18.0   376.0  0.441585\n",
       "ENSG00000238741   15.0   330.0  0.419283\n",
       "ENSG00000233799   10.0   286.0  0.322525\n",
       "ENSG00000227615   11.0   399.0  0.254302"
      ]
     },
     "execution_count": 45,
     "metadata": {},
     "output_type": "execute_result"
    }
   ],
   "source": [
    "edit_counts_length = edit_counts_length[edit_counts_length['Length']>0] # gets rid of lncRNA annotations, which aren't standard.\n",
    "edit_counts_length.sort_values(by='epkm', inplace=True, ascending=False)\n",
    "edit_counts_length.head()"
   ]
  },
  {
   "cell_type": "code",
   "execution_count": 46,
   "metadata": {},
   "outputs": [],
   "source": [
    "genesets = {}\n",
    "for threshold in [\n",
    "    100, 200, 300, 500, 1000, 5000, 10000\n",
    "]:\n",
    "    genesets[threshold] = set(edit_counts_length.head(threshold).index)"
   ]
  },
  {
   "cell_type": "code",
   "execution_count": 47,
   "metadata": {},
   "outputs": [
    {
     "data": {
      "image/png": "[encoded data removed]",
      "text/plain": [
       "<Figure size 432x288 with 1 Axes>"
      ]
     },
     "metadata": {},
     "output_type": "display_data"
    },
    {
     "data": {
      "image/png": "[encoded data removed]",
      "text/plain": [
       "<Figure size 432x288 with 1 Axes>"
      ]
     },
     "metadata": {},
     "output_type": "display_data"
    },
    {
     "data": {
      "image/png": "[encoded data removed]",
      "text/plain": [
       "<Figure size 432x288 with 1 Axes>"
      ]
     },
     "metadata": {},
     "output_type": "display_data"
    },
    {
     "data": {
      "image/png": "[encoded data removed]",
      "text/plain": [
       "<Figure size 432x288 with 1 Axes>"
      ]
     },
     "metadata": {},
     "output_type": "display_data"
    },
    {
     "data": {
      "image/png": "[encoded data removed]",
      "text/plain": [
       "<Figure size 432x288 with 1 Axes>"
      ]
     },
     "metadata": {},
     "output_type": "display_data"
    },
    {
     "data": {
      "image/png": "[encoded data removed]",
      "text/plain": [
       "<Figure size 432x288 with 1 Axes>"
      ]
     },
     "metadata": {},
     "output_type": "display_data"
    },
    {
     "data": {
      "image/png": "[encoded data removed]",
      "text/plain": [
       "<Figure size 432x288 with 1 Axes>"
      ]
     },
     "metadata": {},
     "output_type": "display_data"
    }
   ],
   "source": [
    "comparisons = {\n",
    "    'histones vs top 100': [\n",
    "        [histone_genes_set, genesets[100]], \n",
    "        ['histone genes', 'top 100']\n",
    "    ],\n",
    "    'histones vs top 200': [\n",
    "        [histone_genes_set, genesets[200]], \n",
    "        ['histone genes', 'top 200']\n",
    "    ],\n",
    "    'histones vs top 300': [\n",
    "        [histone_genes_set, genesets[300]], \n",
    "        ['histone genes', 'top 300']\n",
    "    ],\n",
    "    'histones vs top 500': [\n",
    "        [histone_genes_set, genesets[500]], \n",
    "        ['histone genes', 'top 500']\n",
    "    ],\n",
    "    'histones vs top 1000': [\n",
    "        [histone_genes_set, genesets[1000]], \n",
    "        ['histone genes', 'top 1000']\n",
    "    ],\n",
    "    'histones vs top 5000': [\n",
    "        [histone_genes_set, genesets[5000]], \n",
    "        ['histone genes', 'top 5000']\n",
    "    ],\n",
    "    'histones vs top 10000': [\n",
    "        [histone_genes_set, genesets[10000]], \n",
    "        ['histone genes', 'top 10000']\n",
    "    ],\n",
    "}\n",
    "for label, genecomp in comparisons.items():\n",
    "    fig, ax = plt.subplots()\n",
    "    ax = venn2(genecomp[0], genecomp[1])\n",
    "    fig.suptitle(label)"
   ]
  },
  {
   "cell_type": "code",
   "execution_count": null,
   "metadata": {},
   "outputs": [],
   "source": []
  }
 ],
 "metadata": {
  "kernelspec": {
   "display_name": "python3-essential-tscc",
   "language": "python",
   "name": "python3essentialtscc"
  },
  "language_info": {
   "codemirror_mode": {
    "name": "ipython",
    "version": 3
   },
   "file_extension": ".py",
   "mimetype": "text/x-python",
   "name": "python",
   "nbconvert_exporter": "python",
   "pygments_lexer": "ipython3",
   "version": "3.6.7"
  }
 },
 "nbformat": 4,
 "nbformat_minor": 2
}
