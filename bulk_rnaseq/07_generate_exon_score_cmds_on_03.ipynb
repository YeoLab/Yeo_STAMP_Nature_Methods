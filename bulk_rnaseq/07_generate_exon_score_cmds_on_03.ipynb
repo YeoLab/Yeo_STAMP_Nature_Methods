{
 "cells": [
  {
   "cell_type": "markdown",
   "metadata": {},
   "source": [
    "# Runs the script to generate windows across all exons (CDS, UTRs)"
   ]
  },
  {
   "cell_type": "code",
   "execution_count": 1,
   "metadata": {},
   "outputs": [],
   "source": [
    "import glob\n",
    "import os\n",
    "from qtools import Submitter\n",
    "from tqdm import tnrange, tqdm_notebook"
   ]
  },
  {
   "cell_type": "code",
   "execution_count": 2,
   "metadata": {},
   "outputs": [],
   "source": [
    "input_dir = '/home/bay001/projects/kris_apobec_20200121/permanent_data/final_analysis/01_SAILOR_bulk_rnaseq/outputs/combined_outputs_w_cov_info'\n",
    "output_dir = '/home/bay001/projects/kris_apobec_20200121/permanent_data/final_analysis/01_SAILOR_bulk_rnaseq/window_outputs_cds_only/'\n",
    "# output_dir = '/home/bay001/projects/kris_apobec_20200121/permanent_data/final_analysis/01_SAILOR_bulk_rnaseq/window_outputs_3utr_only/'"
   ]
  },
  {
   "cell_type": "code",
   "execution_count": 3,
   "metadata": {},
   "outputs": [
    {
     "name": "stdout",
     "output_type": "stream",
     "text": [
      "3\n"
     ]
    },
    {
     "data": {
      "text/plain": [
       "['/home/bay001/projects/kris_apobec_20200121/permanent_data/final_analysis/01_SAILOR_bulk_rnaseq/outputs/combined_outputs_w_cov_info/ApoControl-0_S7_L001_R1_001.fastqTr.sorted.STARUnmapped.out.sorted.STARAligned.out.sorted_a0_b0_e0.01.noRmDup.annotated',\n",
       " '/home/bay001/projects/kris_apobec_20200121/permanent_data/final_analysis/01_SAILOR_bulk_rnaseq/outputs/combined_outputs_w_cov_info/ApoControl-1000_S21_L002_R1_001.fastqTr.sorted.STARUnmapped.out.sorted.STARAligned.out.sorted_a0_b0_e0.01.noRmDup.annotated',\n",
       " '/home/bay001/projects/kris_apobec_20200121/permanent_data/final_analysis/01_SAILOR_bulk_rnaseq/outputs/combined_outputs_w_cov_info/ApoControl-50_S14_L002_R1_001.fastqTr.sorted.STARUnmapped.out.sorted.STARAligned.out.sorted_a0_b0_e0.01.noRmDup.annotated']"
      ]
     },
     "execution_count": 3,
     "metadata": {},
     "output_type": "execute_result"
    }
   ],
   "source": [
    "all_annotated = sorted(glob.glob(os.path.join(input_dir, 'Apo*noRmDup*.annotated')))\n",
    "print(len(all_annotated))\n",
    "all_annotated"
   ]
  },
  {
   "cell_type": "markdown",
   "metadata": {},
   "source": [
    "# Write the commands to score all exon edits.\n",
    "- for the rebuttal, we can focus on each region separately (ie. CDS only)"
   ]
  },
  {
   "cell_type": "code",
   "execution_count": 4,
   "metadata": {},
   "outputs": [
    {
     "name": "stdout",
     "output_type": "stream",
     "text": [
      "0\n"
     ]
    }
   ],
   "source": [
    "# bg_edits_file = '/home/bay001/projects/kris_apobec_20200121/permanent_data/final_analysis/01_SAILOR_bulk_rnaseq/outputs/combined_outputs_w_cov_info/ApoControl-1000_S21_L002_R1_001.fastqTr.sorted.STARUnmapped.out.sorted.STARAligned.out.sorted_a0_b0_e0.01.bed'\n",
    "\n",
    "chrom_sizes_file = '/projects/ps-yeolab3/bay001/annotations/hg19/hg19.chrom.sizes'\n",
    "gtfdb_file = '/projects/ps-yeolab3/bay001/annotations/hg19/gencode_v19/gencode.v19.annotation.gtf.db'\n",
    "genome_fa = '/projects/ps-yeolab3/bay001/annotations/hg19/hg19.fa'\n",
    "\n",
    "cds_file = '/projects/ps-yeolab3/bay001/annotations/hg19/gencode_v19/hg19_v19_cds.bed'\n",
    "three_prime_utr_file = '/projects/ps-yeolab3/bay001/annotations/hg19/gencode_v19/hg19_v19_three_prime_utrs.bed'\n",
    "five_prime_utr_file = '/projects/ps-yeolab3/bay001/annotations/hg19/gencode_v19/hg19_v19_five_prime_utrs.bed'\n",
    "\n",
    "cmds = []\n",
    "for annotated in all_annotated:\n",
    "    output_file = os.path.join(output_dir, os.path.basename(annotated) + '.exons.txt')\n",
    "    output_file_summed = os.path.join(output_dir, os.path.basename(annotated) + '.exons.merged.txt')\n",
    "    \n",
    "    pos_bw = os.path.splitext(annotated)[0] + '.fwd.sorted.rmdup.readfiltered.sorted.bw'\n",
    "    neg_bw = os.path.splitext(annotated)[0] + '.rev.sorted.rmdup.readfiltered.sorted.bw'\n",
    "    if not os.path.exists(output_file) and (os.path.exists(pos_bw) and os.path.exists(neg_bw)):\n",
    "        cmd = 'module load python3essential;'\n",
    "        cmd += '/home/bay001/projects/kris_apobec_20200121/permanent_data/final_analysis/01_SAILOR_bulk_rnaseq/score_edits_total_exon_coverage.py '\n",
    "        cmd += '--conf 0 ' \n",
    "        cmd += '--gtfdb {} '.format(gtfdb_file)\n",
    "        cmd += '--chrom_sizes_file {} '.format(chrom_sizes_file)\n",
    "        cmd += '--pos_bw {} '.format(pos_bw)\n",
    "        cmd += '--neg_bw {} '.format(neg_bw)\n",
    "        cmd += '--annotated_edits_file {} '.format(annotated)\n",
    "        # cmd += '--bg_edits_file {} '.format(bg_edits_file)\n",
    "        cmd += '--genome_fa {} '.format(genome_fa)\n",
    "        cmd += '--output_file {} '.format(output_file)\n",
    "        cmd += '--output_file_summed {} '.format(output_file_summed)\n",
    "        # cmd += '--three_prime_utr_file {} '.format(three_prime_utr_file)  # 2020-12-04 just look at CDS or just 3'UTR\n",
    "        # cmd += '--five_prime_utr_file {} '.format(five_prime_utr_file)    # 2020-12-04 just look at CDS or just 3'UTR\n",
    "        cmd += '--cds_file {} '.format(cds_file)  # 2020-12-04 just look at CDS or just 3'UTR\n",
    "        cmds.append(cmd)\n",
    "print(len(cmds))"
   ]
  },
  {
   "cell_type": "code",
   "execution_count": 5,
   "metadata": {},
   "outputs": [
    {
     "name": "stderr",
     "output_type": "stream",
     "text": [
      "Writing 0 tasks as an array-job.\n",
      "Wrote commands to score_exon_edits_bulk.sh.\n"
     ]
    },
    {
     "ename": "CalledProcessError",
     "evalue": "Command '['qsub', 'score_exon_edits_bulk.sh']' returned non-zero exit status 235",
     "output_type": "error",
     "traceback": [
      "\u001b[0;31m---------------------------------------------------------------------------\u001b[0m",
      "\u001b[0;31mCalledProcessError\u001b[0m                        Traceback (most recent call last)",
      "\u001b[0;32m<ipython-input-5-5cd0e8b3c0d6>\u001b[0m in \u001b[0;36m<module>\u001b[0;34m()\u001b[0m\n\u001b[0;32m----> 1\u001b[0;31m \u001b[0mSubmitter\u001b[0m\u001b[0;34m(\u001b[0m\u001b[0mcommands\u001b[0m\u001b[0;34m=\u001b[0m\u001b[0mcmds\u001b[0m\u001b[0;34m,\u001b[0m \u001b[0mjob_name\u001b[0m\u001b[0;34m=\u001b[0m\u001b[0;34m'score_exon_edits_bulk'\u001b[0m\u001b[0;34m,\u001b[0m \u001b[0marray\u001b[0m\u001b[0;34m=\u001b[0m\u001b[0mTrue\u001b[0m\u001b[0;34m,\u001b[0m \u001b[0mnodes\u001b[0m\u001b[0;34m=\u001b[0m\u001b[0;36m1\u001b[0m\u001b[0;34m,\u001b[0m \u001b[0mppn\u001b[0m\u001b[0;34m=\u001b[0m\u001b[0;36m1\u001b[0m\u001b[0;34m,\u001b[0m \u001b[0msubmit\u001b[0m\u001b[0;34m=\u001b[0m\u001b[0mTrue\u001b[0m\u001b[0;34m,\u001b[0m \u001b[0mwalltime\u001b[0m\u001b[0;34m=\u001b[0m\u001b[0;34m'24:00:00'\u001b[0m\u001b[0;34m)\u001b[0m\u001b[0;34m\u001b[0m\u001b[0m\n\u001b[0m",
      "\u001b[0;32m/home/bay001/anaconda2/envs/python2-essential/lib/python2.7/site-packages/qtools-0.1.1-py2.7.egg/qtools/submitter.pyc\u001b[0m in \u001b[0;36m__init__\u001b[0;34m(self, commands, job_name, queue_type, sh, array, nodes, ppn, walltime, queue, account, out, err, max_running, submit, chunksize)\u001b[0m\n\u001b[1;32m    124\u001b[0m \u001b[0;34m\u001b[0m\u001b[0m\n\u001b[1;32m    125\u001b[0m         \u001b[0;32mif\u001b[0m \u001b[0mself\u001b[0m\u001b[0;34m.\u001b[0m\u001b[0mchunksize\u001b[0m \u001b[0;32mis\u001b[0m \u001b[0mNone\u001b[0m\u001b[0;34m:\u001b[0m\u001b[0;34m\u001b[0m\u001b[0m\n\u001b[0;32m--> 126\u001b[0;31m             \u001b[0mself\u001b[0m\u001b[0;34m.\u001b[0m\u001b[0mjob\u001b[0m\u001b[0;34m(\u001b[0m\u001b[0;34m)\u001b[0m\u001b[0;34m\u001b[0m\u001b[0m\n\u001b[0m\u001b[1;32m    127\u001b[0m         \u001b[0;32melse\u001b[0m\u001b[0;34m:\u001b[0m\u001b[0;34m\u001b[0m\u001b[0m\n\u001b[1;32m    128\u001b[0m             \u001b[0mchunks\u001b[0m \u001b[0;34m=\u001b[0m \u001b[0mlen\u001b[0m\u001b[0;34m(\u001b[0m\u001b[0mself\u001b[0m\u001b[0;34m.\u001b[0m\u001b[0mcommands\u001b[0m\u001b[0;34m)\u001b[0m \u001b[0;34m/\u001b[0m \u001b[0mself\u001b[0m\u001b[0;34m.\u001b[0m\u001b[0mchunksize\u001b[0m\u001b[0;34m\u001b[0m\u001b[0m\n",
      "\u001b[0;32m/home/bay001/anaconda2/envs/python2-essential/lib/python2.7/site-packages/qtools-0.1.1-py2.7.egg/qtools/submitter.pyc\u001b[0m in \u001b[0;36mjob\u001b[0;34m(self)\u001b[0m\n\u001b[1;32m    276\u001b[0m         \u001b[0;32mif\u001b[0m \u001b[0mself\u001b[0m\u001b[0;34m.\u001b[0m\u001b[0msubmit\u001b[0m\u001b[0;34m:\u001b[0m\u001b[0;34m\u001b[0m\u001b[0m\n\u001b[1;32m    277\u001b[0m             output = subprocess.check_output([\"qsub\", self.sh_filename],\n\u001b[0;32m--> 278\u001b[0;31m                                              universal_newlines=True)\n\u001b[0m\u001b[1;32m    279\u001b[0m             \u001b[0mjob_id\u001b[0m \u001b[0;34m=\u001b[0m \u001b[0mre\u001b[0m\u001b[0;34m.\u001b[0m\u001b[0mfindall\u001b[0m\u001b[0;34m(\u001b[0m\u001b[0;34mr'\\d+'\u001b[0m\u001b[0;34m,\u001b[0m \u001b[0moutput\u001b[0m\u001b[0;34m)\u001b[0m\u001b[0;34m[\u001b[0m\u001b[0;36m0\u001b[0m\u001b[0;34m]\u001b[0m\u001b[0;34m\u001b[0m\u001b[0m\n\u001b[1;32m    280\u001b[0m             sys.stderr.write(\"Submitted script to queue {}.\\n\"\n",
      "\u001b[0;32m/home/bay001/anaconda2/envs/python2-essential/lib/python2.7/subprocess.pyc\u001b[0m in \u001b[0;36mcheck_output\u001b[0;34m(*popenargs, **kwargs)\u001b[0m\n\u001b[1;32m    221\u001b[0m         \u001b[0;32mif\u001b[0m \u001b[0mcmd\u001b[0m \u001b[0;32mis\u001b[0m \u001b[0mNone\u001b[0m\u001b[0;34m:\u001b[0m\u001b[0;34m\u001b[0m\u001b[0m\n\u001b[1;32m    222\u001b[0m             \u001b[0mcmd\u001b[0m \u001b[0;34m=\u001b[0m \u001b[0mpopenargs\u001b[0m\u001b[0;34m[\u001b[0m\u001b[0;36m0\u001b[0m\u001b[0;34m]\u001b[0m\u001b[0;34m\u001b[0m\u001b[0m\n\u001b[0;32m--> 223\u001b[0;31m         \u001b[0;32mraise\u001b[0m \u001b[0mCalledProcessError\u001b[0m\u001b[0;34m(\u001b[0m\u001b[0mretcode\u001b[0m\u001b[0;34m,\u001b[0m \u001b[0mcmd\u001b[0m\u001b[0;34m,\u001b[0m \u001b[0moutput\u001b[0m\u001b[0;34m=\u001b[0m\u001b[0moutput\u001b[0m\u001b[0;34m)\u001b[0m\u001b[0;34m\u001b[0m\u001b[0m\n\u001b[0m\u001b[1;32m    224\u001b[0m     \u001b[0;32mreturn\u001b[0m \u001b[0moutput\u001b[0m\u001b[0;34m\u001b[0m\u001b[0m\n\u001b[1;32m    225\u001b[0m \u001b[0;34m\u001b[0m\u001b[0m\n",
      "\u001b[0;31mCalledProcessError\u001b[0m: Command '['qsub', 'score_exon_edits_bulk.sh']' returned non-zero exit status 235"
     ]
    }
   ],
   "source": [
    "Submitter(commands=cmds, job_name='score_exon_edits_bulk', array=True, nodes=1, ppn=1, submit=True, walltime='24:00:00')"
   ]
  },
  {
   "cell_type": "code",
   "execution_count": null,
   "metadata": {},
   "outputs": [],
   "source": []
  }
 ],
 "metadata": {
  "kernelspec": {
   "display_name": "python2-essential",
   "language": "python",
   "name": "python2-essential"
  },
  "language_info": {
   "codemirror_mode": {
    "name": "ipython",
    "version": 2
   },
   "file_extension": ".py",
   "mimetype": "text/x-python",
   "name": "python",
   "nbconvert_exporter": "python",
   "pygments_lexer": "ipython2",
   "version": "2.7.15"
  }
 },
 "nbformat": 4,
 "nbformat_minor": 2
}
