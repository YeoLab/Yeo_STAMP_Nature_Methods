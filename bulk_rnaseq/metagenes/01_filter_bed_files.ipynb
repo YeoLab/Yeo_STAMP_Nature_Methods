{
 "cells": [
  {
   "cell_type": "code",
   "execution_count": 2,
   "metadata": {},
   "outputs": [],
   "source": [
    "import pandas as pd\n",
    "import os\n",
    "import glob\n",
    "from tqdm import tnrange, tqdm_notebook"
   ]
  },
  {
   "cell_type": "code",
   "execution_count": 3,
   "metadata": {},
   "outputs": [],
   "source": [
    "input_dir = '/home/bay001/projects/kris_apobec_20200121/permanent_data/final_analysis/figure_3/inputs'\n",
    "output_dir = '/home/bay001/projects/kris_apobec_20200121/permanent_data/final_analysis/figure_3/inputs'"
   ]
  },
  {
   "cell_type": "code",
   "execution_count": 13,
   "metadata": {},
   "outputs": [
    {
     "name": "stdout",
     "output_type": "stream",
     "text": [
      "1\n"
     ]
    },
    {
     "data": {
      "text/plain": [
       "['/home/bay001/projects/kris_apobec_20200121/permanent_data/final_analysis/figure_3/inputs/Sample32_S22_merged.fastqTr.sorted.STARUnmapped.out.sorted.STARAligned.out.sorted_a0_b0_e0.01.bed']"
      ]
     },
     "execution_count": 13,
     "metadata": {},
     "output_type": "execute_result"
    }
   ],
   "source": [
    "all_bed_files = sorted(glob.glob(os.path.join(input_dir, 'Sample32*.bed')))#  + sorted(glob.glob(os.path.join(input_dir, 'Tia1_*.bed')))\n",
    "print(len(all_bed_files))\n",
    "all_bed_files"
   ]
  },
  {
   "cell_type": "code",
   "execution_count": 14,
   "metadata": {},
   "outputs": [
    {
     "name": "stdout",
     "output_type": "stream",
     "text": [
      "chr1\t565167\t565168\t0.49983703\t1,70\t+\n",
      "chr1\t566719\t566720\t0.904382075\t1,11\t+\n",
      "chr1\t567190\t567191\t1.0\t13,15\t+\n",
      "chr1\t567386\t567387\t0.43423132700000006\t1,84\t+\n",
      "chr1\t569382\t569383\t0.42133422200000004\t1,87\t+\n",
      "chr1\t569389\t569390\t0.41712088\t1,88\t+\n",
      "chr1\t569988\t569989\t0.96059601\t1,5\t+\n",
      "chr1\t789231\t789232\t0.96059601\t1,5\t+\n",
      "chr1\t878253\t878254\t0.95099005\t1,6\t+\n",
      "chr1\t898777\t898778\t0.9414801490000001\t1,7\t+\n"
     ]
    }
   ],
   "source": [
    "# make sure we're using the correct file\n",
    "_bed = all_bed_files[0]\n",
    "! head $_bed"
   ]
  },
  {
   "cell_type": "code",
   "execution_count": 15,
   "metadata": {},
   "outputs": [
    {
     "data": {
      "application/vnd.jupyter.widget-view+json": {
       "model_id": "b88d18dd245e4c74b5802556fdade883",
       "version_major": 2,
       "version_minor": 0
      },
      "text/plain": [
       "HBox(children=(IntProgress(value=0, max=5), HTML(value='')))"
      ]
     },
     "metadata": {},
     "output_type": "display_data"
    }
   ],
   "source": [
    "def filter_bed(fn, conf, fo):\n",
    "    \"\"\"\n",
    "    Filters on conf value.\n",
    "    \"\"\"\n",
    "    edit_names = [\n",
    "        'chrom','start','end','conf','frac','strand'\n",
    "    ]\n",
    "    df = pd.read_csv(fn, sep='\\t', names=edit_names)\n",
    "    df[df['conf']>=conf].to_csv(fo, sep='\\t', index=False, header=False)\n",
    "\n",
    "confs = [0.0, 0.5, 0.9, 0.99, 1]\n",
    "\n",
    "progress = tnrange(len(confs)*len(all_bed_files))\n",
    "\n",
    "for bed in all_bed_files:\n",
    "    for conf in confs:\n",
    "        output_bed = bed.replace('.bed','.conf{}.bed'.format(conf))\n",
    "        filter_bed(bed, conf, output_bed)\n",
    "        progress.update(1)"
   ]
  },
  {
   "cell_type": "code",
   "execution_count": null,
   "metadata": {},
   "outputs": [],
   "source": []
  }
 ],
 "metadata": {
  "kernelspec": {
   "display_name": "python3essential (tscc)",
   "language": "python",
   "name": "python3essential"
  },
  "language_info": {
   "codemirror_mode": {
    "name": "ipython",
    "version": 3
   },
   "file_extension": ".py",
   "mimetype": "text/x-python",
   "name": "python",
   "nbconvert_exporter": "python",
   "pygments_lexer": "ipython3",
   "version": "3.6.7"
  }
 },
 "nbformat": 4,
 "nbformat_minor": 4
}
