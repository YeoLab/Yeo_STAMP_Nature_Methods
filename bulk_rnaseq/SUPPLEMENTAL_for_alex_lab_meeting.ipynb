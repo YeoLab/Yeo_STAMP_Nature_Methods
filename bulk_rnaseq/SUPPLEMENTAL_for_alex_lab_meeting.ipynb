{
 "cells": [
  {
   "cell_type": "code",
   "execution_count": 1,
   "metadata": {},
   "outputs": [],
   "source": [
    "import os\n",
    "import glob\n",
    "import gffutils\n",
    "import pandas as pd\n",
    "import numpy as np"
   ]
  },
  {
   "cell_type": "code",
   "execution_count": 2,
   "metadata": {},
   "outputs": [],
   "source": [
    "input_dir = '/home/bay001/projects/kris_apobec_20200121/permanent_data/final_analysis/01_SAILOR_bulk_rnaseq/window_outputs/'\n",
    "output_dir = '/projects/ps-yeolab3/bay001/for_alexc/'"
   ]
  },
  {
   "cell_type": "code",
   "execution_count": 3,
   "metadata": {},
   "outputs": [
    {
     "name": "stderr",
     "output_type": "stream",
     "text": [
      "/projects/ps-yeolab4/software/yeolabconda3/envs/python3essential-0.0.1/lib/python3.6/site-packages/gffutils/interface.py:161: UserWarning: It appears that this database has not had the ANALYZE sqlite3 command run on it. Doing so can dramatically speed up queries, and is done by default for databases created with gffutils >0.8.7.1 (this database was created with version 0.8.7.1) Consider calling the analyze() method of this object.\n",
      "  \"method of this object.\" % self.version)\n"
     ]
    },
    {
     "data": {
      "text/plain": [
       "'RBFOX2'"
      ]
     },
     "execution_count": 3,
     "metadata": {},
     "output_type": "execute_result"
    }
   ],
   "source": [
    "def gene_id_to_name(db):\n",
    "    \"\"\"\n",
    "    Returns a dictionary containing a gene_id:name translation\n",
    "    Note: may be different if the 'gene_id' or 'gene_name' \n",
    "    keys are not in the source GTF file\n",
    "    (taken from gscripts.region_helpers)\n",
    "    \"\"\"\n",
    "    genes = db.features_of_type('gene')\n",
    "    gene_name_dict = {}\n",
    "    for gene in genes:\n",
    "        gene_id = gene.attributes['gene_id'][0] if type(gene.attributes['gene_id']) == list else gene.attributes['gene_id']\n",
    "        try:\n",
    "            gene_name_dict[gene_id] = gene.attributes['gene_name'][0]  # this is for GENCODE-style IDs! \n",
    "        except KeyError:\n",
    "            print(gene.attributes.keys())\n",
    "            print(\"Warning. Key not found for {}\".format(gene))\n",
    "            return 1\n",
    "    return gene_name_dict\n",
    "\n",
    "db_file = '/projects/ps-yeolab3/bay001/annotations/hg19/gencode_v19/gencode.v19.annotation.gtf.db'\n",
    "DATABASE = gffutils.FeatureDB(db_file)\n",
    "gene_id_to_name_dictionary = gene_id_to_name(DATABASE)\n",
    "\n",
    "# test to make sure function works\n",
    "gene_id_to_name_dictionary['ENSG00000100320.18']"
   ]
  },
  {
   "cell_type": "code",
   "execution_count": 4,
   "metadata": {},
   "outputs": [],
   "source": [
    "\"\"\"\n",
    "'Tia1_1000ng_2_S27_L002_R1_001.fastqTr.sorted.STARUnmapped.out.sorted.STARAligned.out.sorted_a0_b0_e0.01.annotated.exons.merged.txt',\n",
    "'Tia1_1000ng_1_S14_L001_R1_001.fastqTr.sorted.STARUnmapped.out.sorted.STARAligned.out.sorted_a0_b0_e0.01.annotated.exons.merged.txt',\n",
    "'Sample27_S37_merged.fastqTr.sorted.STARUnmapped.out.sorted.STARAligned.out.sorted_a0_b0_e0.01.annotated.exons.merged.txt',\n",
    "'Sample28_S21_merged.fastqTr.sorted.STARUnmapped.out.sorted.STARAligned.out.sorted_a0_b0_e0.01.annotated.exons.merged.txt',\n",
    "\"\"\"\n",
    "\n",
    "windows_files = [\n",
    "    'Sample13_S31_merged.fastqTr.sorted.STARUnmapped.out.sorted.STARAligned.out.sorted_a0_b0_e0.01.annotated.exons.merged.txt',\n",
    "    'Sample14_S13_merged.fastqTr.sorted.STARUnmapped.out.sorted.STARAligned.out.sorted_a0_b0_e0.01.annotated.exons.merged.txt',\n",
    "]"
   ]
  },
  {
   "cell_type": "code",
   "execution_count": 5,
   "metadata": {},
   "outputs": [],
   "source": [
    "for window_file in windows_files:\n",
    "    output_file = os.path.join(output_dir, window_file + '.wgenenames.txt')\n",
    "    df = pd.read_csv(os.path.join(input_dir, window_file), sep='\\t')\n",
    "    df['genename'] = df['name'].apply(lambda x: gene_id_to_name_dictionary[x])\n",
    "    df.to_csv(output_file, sep='\\t', index=False, header=True)"
   ]
  },
  {
   "cell_type": "code",
   "execution_count": null,
   "metadata": {},
   "outputs": [],
   "source": []
  }
 ],
 "metadata": {
  "kernelspec": {
   "display_name": "python3-essential-tscc",
   "language": "python",
   "name": "python3essentialtscc"
  },
  "language_info": {
   "codemirror_mode": {
    "name": "ipython",
    "version": 3
   },
   "file_extension": ".py",
   "mimetype": "text/x-python",
   "name": "python",
   "nbconvert_exporter": "python",
   "pygments_lexer": "ipython3",
   "version": "3.6.7"
  }
 },
 "nbformat": 4,
 "nbformat_minor": 2
}
