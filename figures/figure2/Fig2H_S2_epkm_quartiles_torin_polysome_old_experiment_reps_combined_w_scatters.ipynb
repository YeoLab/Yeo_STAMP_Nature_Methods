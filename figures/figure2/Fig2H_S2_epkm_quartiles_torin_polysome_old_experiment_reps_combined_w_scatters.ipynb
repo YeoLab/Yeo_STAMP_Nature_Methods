{
 "cells": [
  {
   "cell_type": "code",
   "execution_count": 62,
   "metadata": {},
   "outputs": [],
   "source": [
    "%matplotlib inline\n",
    "import matplotlib.pyplot as plt\n",
    "import scipy.stats as stats\n",
    "from matplotlib_venn import venn2\n",
    "from collections import OrderedDict, defaultdict\n",
    "import seaborn as sns\n",
    "import pandas as pd\n",
    "import numpy as np\n",
    "import os\n",
    "import glob\n",
    "import gffutils\n",
    "import statsmodels.api as sm \n",
    "from scipy.stats import ranksums\n",
    "from scipy.stats import mannwhitneyu\n",
    "\n",
    "pd.set_option(\"display.max_rows\", 500)"
   ]
  },
  {
   "cell_type": "markdown",
   "metadata": {},
   "source": [
    "### EPKM Data"
   ]
  },
  {
   "cell_type": "code",
   "execution_count": 63,
   "metadata": {},
   "outputs": [],
   "source": [
    "input_dir = '/home/rmarina/projects/apobec/revision_riboseq_comparison/first_torin_experiment/output/'\n",
    "output_dir = '/home/rmarina/projects/apobec/revision_riboseq_comparison/outputs/epkm_reconstruct/epkm_all_samples/cds_plus_3utr/figures/'"
   ]
  },
  {
   "cell_type": "code",
   "execution_count": 64,
   "metadata": {},
   "outputs": [],
   "source": [
    "RPS2_control_1 = os.path.join(input_dir, 'RPS2-T_1_conf0_epkm_table_cds_3utr.txt')\n",
    "RPS2_control_2 = os.path.join(input_dir, 'RPS2-T_2_conf0_epkm_table_cds_3utr.txt')\n",
    "RPS2_torin_1 = os.path.join(input_dir, 'RPS2_plusT_1_conf0_epkm_table_cds_3utr.txt')\n",
    "RPS2_torin_2 = os.path.join(input_dir, 'RPS2_plusT_2_conf0_epkm_table_cds_3utr.txt')\n",
    "\n",
    "\n",
    "APO_control_1 = os.path.join(input_dir, 'Apobec-T_1_conf0_epkm_table_cds_3utr.txt')\n",
    "APO_control_2 = os.path.join(input_dir, 'Apobec-T_2_conf0_epkm_table_cds_3utr.txt')\n",
    "APO_torin_1 = os.path.join(input_dir, 'Apobec_plusT_1_conf0_epkm_table_cds_3utr.txt')\n",
    "APO_torin_2 = os.path.join(input_dir, 'Apobec_plusT_2_conf0_epkm_table_cds_3utr.txt')"
   ]
  },
  {
   "cell_type": "markdown",
   "metadata": {},
   "source": [
    "#### Expression Data\n",
    "- Goal is try and remove non-protein coding genes AND any histone genes deteced in the respective samples\n",
    "- use gffutils methods that Brain wrote\n",
    "- NEED to determine protein coding "
   ]
  },
  {
   "cell_type": "code",
   "execution_count": 65,
   "metadata": {},
   "outputs": [
    {
     "data": {
      "text/html": [
       "<div>\n",
       "<style scoped>\n",
       "    .dataframe tbody tr th:only-of-type {\n",
       "        vertical-align: middle;\n",
       "    }\n",
       "\n",
       "    .dataframe tbody tr th {\n",
       "        vertical-align: top;\n",
       "    }\n",
       "\n",
       "    .dataframe thead th {\n",
       "        text-align: right;\n",
       "    }\n",
       "</style>\n",
       "<table border=\"1\" class=\"dataframe\">\n",
       "  <thead>\n",
       "    <tr style=\"text-align: right;\">\n",
       "      <th></th>\n",
       "      <th>Genename</th>\n",
       "    </tr>\n",
       "    <tr>\n",
       "      <th>Geneid</th>\n",
       "      <th></th>\n",
       "    </tr>\n",
       "  </thead>\n",
       "  <tbody>\n",
       "    <tr>\n",
       "      <th>ENSG00000168298.4</th>\n",
       "      <td>HIST1H1E</td>\n",
       "    </tr>\n",
       "    <tr>\n",
       "      <th>ENSG00000187837.2</th>\n",
       "      <td>HIST1H1C</td>\n",
       "    </tr>\n",
       "    <tr>\n",
       "      <th>ENSG00000197061.3</th>\n",
       "      <td>HIST1H4C</td>\n",
       "    </tr>\n",
       "    <tr>\n",
       "      <th>ENSG00000198518.5</th>\n",
       "      <td>HIST1H4E</td>\n",
       "    </tr>\n",
       "    <tr>\n",
       "      <th>ENSG00000124693.2</th>\n",
       "      <td>HIST1H3B</td>\n",
       "    </tr>\n",
       "  </tbody>\n",
       "</table>\n",
       "</div>"
      ],
      "text/plain": [
       "                   Genename\n",
       "Geneid                     \n",
       "ENSG00000168298.4  HIST1H1E\n",
       "ENSG00000187837.2  HIST1H1C\n",
       "ENSG00000197061.3  HIST1H4C\n",
       "ENSG00000198518.5  HIST1H4E\n",
       "ENSG00000124693.2  HIST1H3B"
      ]
     },
     "execution_count": 65,
     "metadata": {},
     "output_type": "execute_result"
    }
   ],
   "source": [
    "histone = '/home/rmarina/projects/apobec/ref_files/HIST_genes.csv'\n",
    "histone_genes = pd.read_csv(histone, index_col=0)\n",
    "histone_genes = histone_genes[['Genename']]\n",
    "histone_genes.to_csv('/home/rmarina/projects/apobec/ref_files/hg19_histone_genes.txt', sep='\\t')\n",
    "histone_genes.head()"
   ]
  },
  {
   "cell_type": "code",
   "execution_count": 66,
   "metadata": {},
   "outputs": [],
   "source": [
    "# The counts file itself is completely arbitrary sicne we're just trying to extract protein coding information and will be later fitted to CDS+3UTR counts detection later\n",
    "expression_dir = '/home/rmarina/projects/apobec/revision_riboseq_comparison/first_torin_experiment/input/'\n",
    "all_gene_counts = pd.read_csv(os.path.join(expression_dir, 'counts.txt'), sep='\\t', comment='#').drop(['Chr', 'Start', 'End', 'Strand'],axis=1)"
   ]
  },
  {
   "cell_type": "code",
   "execution_count": 67,
   "metadata": {},
   "outputs": [
    {
     "data": {
      "text/html": [
       "<div>\n",
       "<style scoped>\n",
       "    .dataframe tbody tr th:only-of-type {\n",
       "        vertical-align: middle;\n",
       "    }\n",
       "\n",
       "    .dataframe tbody tr th {\n",
       "        vertical-align: top;\n",
       "    }\n",
       "\n",
       "    .dataframe thead th {\n",
       "        text-align: right;\n",
       "    }\n",
       "</style>\n",
       "<table border=\"1\" class=\"dataframe\">\n",
       "  <thead>\n",
       "    <tr style=\"text-align: right;\">\n",
       "      <th></th>\n",
       "      <th>Geneid</th>\n",
       "      <th>Length</th>\n",
       "      <th>../results/Apobec_plusT_1_S30_L003_R1_001.fastqTr.sorted.STARUnmapped.out.sorted.STARAligned.out.sorted.bam</th>\n",
       "      <th>../results/Apobec_plusT_2_S31_L003_R1_001.fastqTr.sorted.STARUnmapped.out.sorted.STARAligned.out.sorted.bam</th>\n",
       "      <th>../results/Apobec-T_1_S28_L003_R1_001.fastqTr.sorted.STARUnmapped.out.sorted.STARAligned.out.sorted.bam</th>\n",
       "      <th>../results/Apobec-T_2_S29_L003_R1_001.fastqTr.sorted.STARUnmapped.out.sorted.STARAligned.out.sorted.bam</th>\n",
       "      <th>../results/RBFOX2_plusT_1_S34_L003_R1_001.fastqTr.sorted.STARUnmapped.out.sorted.STARAligned.out.sorted.bam</th>\n",
       "      <th>../results/RBFOX2_plusT_2_S35_L003_R1_001.fastqTr.sorted.STARUnmapped.out.sorted.STARAligned.out.sorted.bam</th>\n",
       "      <th>../results/RBFOX2-T_1_S32_L003_R1_001.fastqTr.sorted.STARUnmapped.out.sorted.STARAligned.out.sorted.bam</th>\n",
       "      <th>../results/RBFOX2-T_2_S33_L003_R1_001.fastqTr.sorted.STARUnmapped.out.sorted.STARAligned.out.sorted.bam</th>\n",
       "      <th>../results/RPS2_plusT_1_S38_L003_R1_001.fastqTr.sorted.STARUnmapped.out.sorted.STARAligned.out.sorted.bam</th>\n",
       "      <th>../results/RPS2_plusT_2_S39_L003_R1_001.fastqTr.sorted.STARUnmapped.out.sorted.STARAligned.out.sorted.bam</th>\n",
       "      <th>../results/RPS2-T_1_S36_L003_R1_001.fastqTr.sorted.STARUnmapped.out.sorted.STARAligned.out.sorted.bam</th>\n",
       "      <th>../results/RPS2-T_2_S37_L003_R1_001.fastqTr.sorted.STARUnmapped.out.sorted.STARAligned.out.sorted.bam</th>\n",
       "      <th>../results/Tia1_0ng_1_S40_L003_R1_001.fastqTr.sorted.STARUnmapped.out.sorted.STARAligned.out.sorted.bam</th>\n",
       "      <th>../results/Tia1_0ng_2_S41_L003_R1_001.fastqTr.sorted.STARUnmapped.out.sorted.STARAligned.out.sorted.bam</th>\n",
       "      <th>../results/Tia1_1000ng_1_S14_L001_R1_001.fastqTr.sorted.STARUnmapped.out.sorted.STARAligned.out.sorted.bam</th>\n",
       "      <th>../results/Tia1_1000ng_2_S27_L002_R1_001.fastqTr.sorted.STARUnmapped.out.sorted.STARAligned.out.sorted.bam</th>\n",
       "      <th>../results/Tia1_50ng_1_S42_L003_R1_001.fastqTr.sorted.STARUnmapped.out.sorted.STARAligned.out.sorted.bam</th>\n",
       "      <th>../results/Tia1_50ng_2_S13_L001_R1_001.fastqTr.sorted.STARUnmapped.out.sorted.STARAligned.out.sorted.bam</th>\n",
       "    </tr>\n",
       "  </thead>\n",
       "  <tbody>\n",
       "    <tr>\n",
       "      <th>0</th>\n",
       "      <td>ENSG00000223972.4</td>\n",
       "      <td>1756</td>\n",
       "      <td>0</td>\n",
       "      <td>2</td>\n",
       "      <td>0</td>\n",
       "      <td>0</td>\n",
       "      <td>2</td>\n",
       "      <td>2</td>\n",
       "      <td>0</td>\n",
       "      <td>1</td>\n",
       "      <td>1</td>\n",
       "      <td>0</td>\n",
       "      <td>1</td>\n",
       "      <td>0</td>\n",
       "      <td>0</td>\n",
       "      <td>0</td>\n",
       "      <td>0</td>\n",
       "      <td>0</td>\n",
       "      <td>0</td>\n",
       "      <td>0</td>\n",
       "    </tr>\n",
       "    <tr>\n",
       "      <th>1</th>\n",
       "      <td>ENSG00000227232.4</td>\n",
       "      <td>2073</td>\n",
       "      <td>22</td>\n",
       "      <td>37</td>\n",
       "      <td>0</td>\n",
       "      <td>10</td>\n",
       "      <td>43</td>\n",
       "      <td>40</td>\n",
       "      <td>0</td>\n",
       "      <td>21</td>\n",
       "      <td>80</td>\n",
       "      <td>59</td>\n",
       "      <td>55</td>\n",
       "      <td>82</td>\n",
       "      <td>3</td>\n",
       "      <td>4</td>\n",
       "      <td>24</td>\n",
       "      <td>29</td>\n",
       "      <td>8</td>\n",
       "      <td>38</td>\n",
       "    </tr>\n",
       "    <tr>\n",
       "      <th>2</th>\n",
       "      <td>ENSG00000243485.2</td>\n",
       "      <td>1021</td>\n",
       "      <td>0</td>\n",
       "      <td>0</td>\n",
       "      <td>0</td>\n",
       "      <td>0</td>\n",
       "      <td>0</td>\n",
       "      <td>0</td>\n",
       "      <td>0</td>\n",
       "      <td>0</td>\n",
       "      <td>0</td>\n",
       "      <td>0</td>\n",
       "      <td>0</td>\n",
       "      <td>0</td>\n",
       "      <td>0</td>\n",
       "      <td>0</td>\n",
       "      <td>0</td>\n",
       "      <td>0</td>\n",
       "      <td>0</td>\n",
       "      <td>0</td>\n",
       "    </tr>\n",
       "    <tr>\n",
       "      <th>3</th>\n",
       "      <td>ENSG00000237613.2</td>\n",
       "      <td>1219</td>\n",
       "      <td>0</td>\n",
       "      <td>0</td>\n",
       "      <td>0</td>\n",
       "      <td>0</td>\n",
       "      <td>0</td>\n",
       "      <td>0</td>\n",
       "      <td>0</td>\n",
       "      <td>0</td>\n",
       "      <td>0</td>\n",
       "      <td>0</td>\n",
       "      <td>0</td>\n",
       "      <td>0</td>\n",
       "      <td>0</td>\n",
       "      <td>0</td>\n",
       "      <td>0</td>\n",
       "      <td>0</td>\n",
       "      <td>0</td>\n",
       "      <td>0</td>\n",
       "    </tr>\n",
       "    <tr>\n",
       "      <th>4</th>\n",
       "      <td>ENSG00000268020.2</td>\n",
       "      <td>947</td>\n",
       "      <td>0</td>\n",
       "      <td>0</td>\n",
       "      <td>0</td>\n",
       "      <td>0</td>\n",
       "      <td>0</td>\n",
       "      <td>0</td>\n",
       "      <td>0</td>\n",
       "      <td>0</td>\n",
       "      <td>0</td>\n",
       "      <td>0</td>\n",
       "      <td>0</td>\n",
       "      <td>0</td>\n",
       "      <td>0</td>\n",
       "      <td>0</td>\n",
       "      <td>0</td>\n",
       "      <td>0</td>\n",
       "      <td>0</td>\n",
       "      <td>0</td>\n",
       "    </tr>\n",
       "  </tbody>\n",
       "</table>\n",
       "</div>"
      ],
      "text/plain": [
       "              Geneid  Length  \\\n",
       "0  ENSG00000223972.4    1756   \n",
       "1  ENSG00000227232.4    2073   \n",
       "2  ENSG00000243485.2    1021   \n",
       "3  ENSG00000237613.2    1219   \n",
       "4  ENSG00000268020.2     947   \n",
       "\n",
       "   ../results/Apobec_plusT_1_S30_L003_R1_001.fastqTr.sorted.STARUnmapped.out.sorted.STARAligned.out.sorted.bam  \\\n",
       "0                                                  0                                                             \n",
       "1                                                 22                                                             \n",
       "2                                                  0                                                             \n",
       "3                                                  0                                                             \n",
       "4                                                  0                                                             \n",
       "\n",
       "   ../results/Apobec_plusT_2_S31_L003_R1_001.fastqTr.sorted.STARUnmapped.out.sorted.STARAligned.out.sorted.bam  \\\n",
       "0                                                  2                                                             \n",
       "1                                                 37                                                             \n",
       "2                                                  0                                                             \n",
       "3                                                  0                                                             \n",
       "4                                                  0                                                             \n",
       "\n",
       "   ../results/Apobec-T_1_S28_L003_R1_001.fastqTr.sorted.STARUnmapped.out.sorted.STARAligned.out.sorted.bam  \\\n",
       "0                                                  0                                                         \n",
       "1                                                  0                                                         \n",
       "2                                                  0                                                         \n",
       "3                                                  0                                                         \n",
       "4                                                  0                                                         \n",
       "\n",
       "   ../results/Apobec-T_2_S29_L003_R1_001.fastqTr.sorted.STARUnmapped.out.sorted.STARAligned.out.sorted.bam  \\\n",
       "0                                                  0                                                         \n",
       "1                                                 10                                                         \n",
       "2                                                  0                                                         \n",
       "3                                                  0                                                         \n",
       "4                                                  0                                                         \n",
       "\n",
       "   ../results/RBFOX2_plusT_1_S34_L003_R1_001.fastqTr.sorted.STARUnmapped.out.sorted.STARAligned.out.sorted.bam  \\\n",
       "0                                                  2                                                             \n",
       "1                                                 43                                                             \n",
       "2                                                  0                                                             \n",
       "3                                                  0                                                             \n",
       "4                                                  0                                                             \n",
       "\n",
       "   ../results/RBFOX2_plusT_2_S35_L003_R1_001.fastqTr.sorted.STARUnmapped.out.sorted.STARAligned.out.sorted.bam  \\\n",
       "0                                                  2                                                             \n",
       "1                                                 40                                                             \n",
       "2                                                  0                                                             \n",
       "3                                                  0                                                             \n",
       "4                                                  0                                                             \n",
       "\n",
       "   ../results/RBFOX2-T_1_S32_L003_R1_001.fastqTr.sorted.STARUnmapped.out.sorted.STARAligned.out.sorted.bam  \\\n",
       "0                                                  0                                                         \n",
       "1                                                  0                                                         \n",
       "2                                                  0                                                         \n",
       "3                                                  0                                                         \n",
       "4                                                  0                                                         \n",
       "\n",
       "   ../results/RBFOX2-T_2_S33_L003_R1_001.fastqTr.sorted.STARUnmapped.out.sorted.STARAligned.out.sorted.bam  \\\n",
       "0                                                  1                                                         \n",
       "1                                                 21                                                         \n",
       "2                                                  0                                                         \n",
       "3                                                  0                                                         \n",
       "4                                                  0                                                         \n",
       "\n",
       "   ../results/RPS2_plusT_1_S38_L003_R1_001.fastqTr.sorted.STARUnmapped.out.sorted.STARAligned.out.sorted.bam  \\\n",
       "0                                                  1                                                           \n",
       "1                                                 80                                                           \n",
       "2                                                  0                                                           \n",
       "3                                                  0                                                           \n",
       "4                                                  0                                                           \n",
       "\n",
       "   ../results/RPS2_plusT_2_S39_L003_R1_001.fastqTr.sorted.STARUnmapped.out.sorted.STARAligned.out.sorted.bam  \\\n",
       "0                                                  0                                                           \n",
       "1                                                 59                                                           \n",
       "2                                                  0                                                           \n",
       "3                                                  0                                                           \n",
       "4                                                  0                                                           \n",
       "\n",
       "   ../results/RPS2-T_1_S36_L003_R1_001.fastqTr.sorted.STARUnmapped.out.sorted.STARAligned.out.sorted.bam  \\\n",
       "0                                                  1                                                       \n",
       "1                                                 55                                                       \n",
       "2                                                  0                                                       \n",
       "3                                                  0                                                       \n",
       "4                                                  0                                                       \n",
       "\n",
       "   ../results/RPS2-T_2_S37_L003_R1_001.fastqTr.sorted.STARUnmapped.out.sorted.STARAligned.out.sorted.bam  \\\n",
       "0                                                  0                                                       \n",
       "1                                                 82                                                       \n",
       "2                                                  0                                                       \n",
       "3                                                  0                                                       \n",
       "4                                                  0                                                       \n",
       "\n",
       "   ../results/Tia1_0ng_1_S40_L003_R1_001.fastqTr.sorted.STARUnmapped.out.sorted.STARAligned.out.sorted.bam  \\\n",
       "0                                                  0                                                         \n",
       "1                                                  3                                                         \n",
       "2                                                  0                                                         \n",
       "3                                                  0                                                         \n",
       "4                                                  0                                                         \n",
       "\n",
       "   ../results/Tia1_0ng_2_S41_L003_R1_001.fastqTr.sorted.STARUnmapped.out.sorted.STARAligned.out.sorted.bam  \\\n",
       "0                                                  0                                                         \n",
       "1                                                  4                                                         \n",
       "2                                                  0                                                         \n",
       "3                                                  0                                                         \n",
       "4                                                  0                                                         \n",
       "\n",
       "   ../results/Tia1_1000ng_1_S14_L001_R1_001.fastqTr.sorted.STARUnmapped.out.sorted.STARAligned.out.sorted.bam  \\\n",
       "0                                                  0                                                            \n",
       "1                                                 24                                                            \n",
       "2                                                  0                                                            \n",
       "3                                                  0                                                            \n",
       "4                                                  0                                                            \n",
       "\n",
       "   ../results/Tia1_1000ng_2_S27_L002_R1_001.fastqTr.sorted.STARUnmapped.out.sorted.STARAligned.out.sorted.bam  \\\n",
       "0                                                  0                                                            \n",
       "1                                                 29                                                            \n",
       "2                                                  0                                                            \n",
       "3                                                  0                                                            \n",
       "4                                                  0                                                            \n",
       "\n",
       "   ../results/Tia1_50ng_1_S42_L003_R1_001.fastqTr.sorted.STARUnmapped.out.sorted.STARAligned.out.sorted.bam  \\\n",
       "0                                                  0                                                          \n",
       "1                                                  8                                                          \n",
       "2                                                  0                                                          \n",
       "3                                                  0                                                          \n",
       "4                                                  0                                                          \n",
       "\n",
       "   ../results/Tia1_50ng_2_S13_L001_R1_001.fastqTr.sorted.STARUnmapped.out.sorted.STARAligned.out.sorted.bam  \n",
       "0                                                  0                                                         \n",
       "1                                                 38                                                         \n",
       "2                                                  0                                                         \n",
       "3                                                  0                                                         \n",
       "4                                                  0                                                         "
      ]
     },
     "execution_count": 67,
     "metadata": {},
     "output_type": "execute_result"
    }
   ],
   "source": [
    "all_gene_counts.head()"
   ]
  },
  {
   "cell_type": "code",
   "execution_count": 68,
   "metadata": {},
   "outputs": [],
   "source": [
    "rename_dict = {}\n",
    "\n",
    "for x in all_gene_counts.columns[1:]:\n",
    "    rename_dict[x] = os.path.basename(x).split('_S')[0]\n",
    "\n",
    "    \n",
    "all_gene_counts = all_gene_counts.rename(columns=rename_dict)\n",
    "all_gene_counts_sub = all_gene_counts[['Geneid', 'Length']]"
   ]
  },
  {
   "cell_type": "markdown",
   "metadata": {},
   "source": [
    "#### Helper functions for protein coding determination "
   ]
  },
  {
   "cell_type": "code",
   "execution_count": 69,
   "metadata": {},
   "outputs": [
    {
     "name": "stderr",
     "output_type": "stream",
     "text": [
      "/projects/ps-yeolab4/software/yeolabconda3/envs/python3essential-0.0.1/lib/python3.6/site-packages/gffutils/interface.py:161: UserWarning: It appears that this database has not had the ANALYZE sqlite3 command run on it. Doing so can dramatically speed up queries, and is done by default for databases created with gffutils >0.8.7.1 (this database was created with version 0.8.1) Consider calling the analyze() method of this object.\n",
      "  \"method of this object.\" % self.version)\n"
     ]
    }
   ],
   "source": [
    "def gene_id_to_protein_coding(db):\n",
    "    \"\"\"\n",
    "    returns whether or not a gene is protein coding or not.\n",
    "    \"\"\"\n",
    "    genes = db.features_of_type('gene')\n",
    "    gene_name_dict = {}\n",
    "    for gene in genes:\n",
    "        gene_id = gene.attributes['gene_id'][0] if type(gene.attributes['gene_id']) == list else gene.attributes['gene_id']\n",
    "        try:\n",
    "            gene_name_dict[gene_id] = gene.attributes['gene_type'][0]\n",
    "        except KeyError:\n",
    "            print(gene.attributes.keys())\n",
    "            print(\"Warning. Key not found for {}\".format(gene))\n",
    "            return 1\n",
    "    return gene_name_dict\n",
    "\n",
    "def gene_id_to_name(db):\n",
    "    \"\"\"\n",
    "    Returns a dictionary containing a gene_id:name translation\n",
    "    NOTE: This assumes ENSEMBL-STYLE notations, which is different from the above function.\n",
    "    \"\"\"\n",
    "    genes = db.features_of_type('gene')\n",
    "    gene_name_dict = {}\n",
    "    for gene in genes:\n",
    "        gene_id = gene.attributes['gene_id'][0] if type(gene.attributes['gene_id']) == list else gene.attributes['gene_id']\n",
    "        try:\n",
    "            gene_name_dict[gene_id.split('.')[0]] = gene.attributes['gene_name'][0]  # this is for ENSEMBL-style IDs! \n",
    "        except KeyError:\n",
    "            print(gene.attributes.keys())\n",
    "            print(\"Warning. Key not found for {}\".format(gene))\n",
    "            return 1\n",
    "    return gene_name_dict\n",
    "\n",
    "db_file = '/projects/ps-yeolab4/genomes/hg19/gencode_v19/gencode.v19.annotation.gtf.db'\n",
    "DATABASE = gffutils.FeatureDB(db_file)\n",
    "gene_id_to_pc = gene_id_to_protein_coding(DATABASE)\n",
    "gene_id_to_name = gene_id_to_name(DATABASE)"
   ]
  },
  {
   "cell_type": "code",
   "execution_count": 70,
   "metadata": {},
   "outputs": [],
   "source": [
    "def get_gene_is_pc(row, d=gene_id_to_pc):\n",
    "    \"\"\"\n",
    "    Helper function that uses the gene_id_to_pc dictionary to assign whether or not\n",
    "    a gene is protein coding. Returns 'unannotated' in case the geneid doesn't exist\n",
    "    in the dictionary.\n",
    "    \"\"\"\n",
    "    try:\n",
    "        return d[row['Geneid']]\n",
    "    except KeyError:\n",
    "        return 'unannotated'"
   ]
  },
  {
   "cell_type": "code",
   "execution_count": 71,
   "metadata": {},
   "outputs": [
    {
     "name": "stderr",
     "output_type": "stream",
     "text": [
      "/projects/ps-yeolab4/software/yeolabconda3/envs/python3essential-0.0.1/lib/python3.6/site-packages/ipykernel_launcher.py:1: SettingWithCopyWarning: \n",
      "A value is trying to be set on a copy of a slice from a DataFrame.\n",
      "Try using .loc[row_indexer,col_indexer] = value instead\n",
      "\n",
      "See the caveats in the documentation: http://pandas.pydata.org/pandas-docs/stable/indexing.html#indexing-view-versus-copy\n",
      "  \"\"\"Entry point for launching an IPython kernel.\n"
     ]
    }
   ],
   "source": [
    "all_gene_counts_sub['gene_type'] = all_gene_counts_sub.apply(get_gene_is_pc, axis=1)\n",
    "# might as well save since I think this will be pretty useful\n",
    "# all_gene_counts_sub[['Geneid','gene_type']].to_csv('/home/rmarina/projects/apobec/ref_files/hg19_v19_geneid_type.txt', index=False, sep='\\t') \n",
    "all_gene_counts_pc = all_gene_counts_sub[all_gene_counts_sub['gene_type'] == 'protein_coding']\n",
    "all_gene_counts_pc.set_index('Geneid', inplace=True, drop=True)"
   ]
  },
  {
   "cell_type": "code",
   "execution_count": 72,
   "metadata": {},
   "outputs": [],
   "source": [
    "# removing histone protein coding genes now and leaving everything else behind \n",
    "all_gene_counts_pc = all_gene_counts_pc[~all_gene_counts_pc.index.isin(histone_genes.index)]"
   ]
  },
  {
   "cell_type": "code",
   "execution_count": 73,
   "metadata": {},
   "outputs": [],
   "source": [
    "# Last thing is to change the geneids back to the abbreviated form\n",
    "all_gene_counts_pc_geneid = all_gene_counts_pc.reset_index()\n",
    "all_gene_counts_pc_geneid['Geneid'] = all_gene_counts_pc_geneid['Geneid'].apply(lambda x: x.split('.')[0])\n",
    "all_gene_counts_pc_geneid.set_index('Geneid', drop=True, inplace=True)"
   ]
  },
  {
   "cell_type": "code",
   "execution_count": 74,
   "metadata": {},
   "outputs": [
    {
     "data": {
      "text/html": [
       "<div>\n",
       "<style scoped>\n",
       "    .dataframe tbody tr th:only-of-type {\n",
       "        vertical-align: middle;\n",
       "    }\n",
       "\n",
       "    .dataframe tbody tr th {\n",
       "        vertical-align: top;\n",
       "    }\n",
       "\n",
       "    .dataframe thead th {\n",
       "        text-align: right;\n",
       "    }\n",
       "</style>\n",
       "<table border=\"1\" class=\"dataframe\">\n",
       "  <thead>\n",
       "    <tr style=\"text-align: right;\">\n",
       "      <th></th>\n",
       "      <th>Length</th>\n",
       "      <th>gene_type</th>\n",
       "    </tr>\n",
       "    <tr>\n",
       "      <th>Geneid</th>\n",
       "      <th></th>\n",
       "      <th></th>\n",
       "    </tr>\n",
       "  </thead>\n",
       "  <tbody>\n",
       "    <tr>\n",
       "      <th>ENSG00000186092</th>\n",
       "      <td>918</td>\n",
       "      <td>protein_coding</td>\n",
       "    </tr>\n",
       "    <tr>\n",
       "      <th>ENSG00000237683</th>\n",
       "      <td>2661</td>\n",
       "      <td>protein_coding</td>\n",
       "    </tr>\n",
       "    <tr>\n",
       "      <th>ENSG00000235249</th>\n",
       "      <td>995</td>\n",
       "      <td>protein_coding</td>\n",
       "    </tr>\n",
       "    <tr>\n",
       "      <th>ENSG00000185097</th>\n",
       "      <td>995</td>\n",
       "      <td>protein_coding</td>\n",
       "    </tr>\n",
       "    <tr>\n",
       "      <th>ENSG00000269831</th>\n",
       "      <td>129</td>\n",
       "      <td>protein_coding</td>\n",
       "    </tr>\n",
       "  </tbody>\n",
       "</table>\n",
       "</div>"
      ],
      "text/plain": [
       "                 Length       gene_type\n",
       "Geneid                                 \n",
       "ENSG00000186092     918  protein_coding\n",
       "ENSG00000237683    2661  protein_coding\n",
       "ENSG00000235249     995  protein_coding\n",
       "ENSG00000185097     995  protein_coding\n",
       "ENSG00000269831     129  protein_coding"
      ]
     },
     "execution_count": 74,
     "metadata": {},
     "output_type": "execute_result"
    }
   ],
   "source": [
    "all_gene_counts_pc_geneid.head()"
   ]
  },
  {
   "cell_type": "markdown",
   "metadata": {},
   "source": [
    "### NEW layer-- want to add RPKM expression data to analyses for quartile plotting"
   ]
  },
  {
   "cell_type": "code",
   "execution_count": 75,
   "metadata": {},
   "outputs": [],
   "source": [
    "counts_file = '/home/rmarina/projects/apobec/revision_riboseq_comparison/first_torin_experiment/input/cds_3utr_counts.txt'\n",
    "\n",
    "cds_utr_counts = pd.read_csv(counts_file, sep='\\t', index_col=0, comment='#').drop(['Chr', 'Start', 'End', 'Strand'], axis=1)"
   ]
  },
  {
   "cell_type": "code",
   "execution_count": 76,
   "metadata": {},
   "outputs": [],
   "source": [
    "rename_dict = defaultdict()\n",
    "\n",
    "for c in cds_utr_counts.columns[1:]:\n",
    "    rename_dict[c] = os.path.basename(c).split('_S')[0]\n",
    "\n",
    "cds_utr_counts = cds_utr_counts.rename(columns=rename_dict)"
   ]
  },
  {
   "cell_type": "code",
   "execution_count": 77,
   "metadata": {},
   "outputs": [],
   "source": [
    "def counts_to_rpkm(counts_df):\n",
    "    counts = counts_df[counts_df.columns[1:]]\n",
    "    rpm = counts.div(counts.sum() / 10**6, axis=1)\n",
    "    length = counts_df['Length'] / 1000\n",
    "    rpkm = rpm.div(length, axis=0)\n",
    "    return rpkm"
   ]
  },
  {
   "cell_type": "code",
   "execution_count": 78,
   "metadata": {},
   "outputs": [],
   "source": [
    "stamp_rpkm = counts_to_rpkm(cds_utr_counts)"
   ]
  },
  {
   "cell_type": "markdown",
   "metadata": {},
   "source": [
    "### Combining all data into concatenated dataframes"
   ]
  },
  {
   "cell_type": "code",
   "execution_count": 79,
   "metadata": {},
   "outputs": [
    {
     "name": "stdout",
     "output_type": "stream",
     "text": [
      "14328\n",
      "15389\n",
      "15126\n",
      "15306\n",
      "15403\n",
      "15457\n",
      "15579\n",
      "15445\n"
     ]
    }
   ],
   "source": [
    "# Taking RPKM from each dataset and concatenating into one sample identified table \n",
    "\n",
    "# RPS2 samples\n",
    "control_1 = pd.read_csv(RPS2_control_1, sep='\\t', index_col=0)\n",
    "control_2 = pd.read_csv(RPS2_control_2, sep='\\t', index_col=0)\n",
    "torin_1 = pd.read_csv(RPS2_torin_1, sep='\\t', index_col=0)\n",
    "torin_2 = pd.read_csv(RPS2_torin_2, sep='\\t', index_col=0)\n",
    "\n",
    "\n",
    "# APO samples\n",
    "apo_control_1 = pd.read_csv(APO_control_1, sep='\\t', index_col=0)\n",
    "apo_control_2 = pd.read_csv(APO_control_2, sep='\\t', index_col=0)\n",
    "apo_torin_1 = pd.read_csv(APO_torin_1, sep='\\t', index_col=0)\n",
    "apo_torin_2 = pd.read_csv(APO_torin_2, sep='\\t', index_col=0)\n",
    "\n",
    "apo_torin_1['sample'] = 'APO+Torin1-R1'\n",
    "apo_torin_2['sample'] = 'APO+Torin1-R2'\n",
    "\n",
    "\n",
    "print(len(apo_control_1))\n",
    "print(len(apo_control_2))\n",
    "print(len(apo_torin_1))\n",
    "print(len(apo_torin_2))\n",
    "\n",
    "print(len(control_1))\n",
    "print(len(control_2))\n",
    "print(len(torin_1))\n",
    "print(len(torin_2))"
   ]
  },
  {
   "cell_type": "markdown",
   "metadata": {},
   "source": [
    "#### Newly added--RPKM data"
   ]
  },
  {
   "cell_type": "code",
   "execution_count": 80,
   "metadata": {},
   "outputs": [],
   "source": [
    "# Adding RPKM\n",
    "control_1_rpkm = pd.merge(control_1, stamp_rpkm['RPS2-T_1'], how='left', left_index=True, right_index=True)\n",
    "control_1_rpkm.rename(columns={'RPS2-T_1':'STAMP_RPKM'}, inplace=True)\n",
    "\n",
    "control_2_rpkm = pd.merge(control_2, stamp_rpkm['RPS2-T_2'], how='left', left_index=True, right_index=True)\n",
    "control_2_rpkm.rename(columns={'RPS2-T_2':'STAMP_RPKM'}, inplace=True)\n",
    "\n",
    "torin_1_rpkm = pd.merge(torin_1, stamp_rpkm['RPS2_plusT_1'], how='left', left_index=True, right_index=True)\n",
    "torin_1_rpkm.rename(columns={'RPS2_plusT_1':'STAMP_RPKM'}, inplace=True)\n",
    "\n",
    "torin_2_rpkm = pd.merge(torin_2, stamp_rpkm['RPS2_plusT_2'], how='left', left_index=True, right_index=True)\n",
    "torin_2_rpkm.rename(columns={'RPS2_plusT_2':'STAMP_RPKM'}, inplace=True)\n",
    "\n",
    "\n",
    "apo_control_1_rpkm = pd.merge(apo_control_1, stamp_rpkm['Apobec-T_1'], how='left', left_index=True, right_index=True)\n",
    "apo_control_1_rpkm.rename(columns={'Apobec-T_1':'STAMP_RPKM'}, inplace=True)\n",
    "\n",
    "apo_control_2_rpkm = pd.merge(apo_control_2, stamp_rpkm['Apobec-T_2'], how='left', left_index=True, right_index=True)\n",
    "apo_control_2_rpkm.rename(columns={'Apobec-T_2':'STAMP_RPKM'}, inplace=True)\n",
    "\n",
    "apo_torin_1_rpkm = pd.merge(apo_torin_1, stamp_rpkm['Apobec_plusT_1'], how='left', left_index=True, right_index=True)\n",
    "apo_torin_1_rpkm.rename(columns={'Apobec_plusT_1':'STAMP_RPKM'}, inplace=True)\n",
    "\n",
    "apo_torin_2_rpkm = pd.merge(apo_torin_2, stamp_rpkm['Apobec_plusT_2'], how='left', left_index=True, right_index=True)\n",
    "apo_torin_2_rpkm.rename(columns={'Apobec_plusT_2':'STAMP_RPKM'}, inplace=True)"
   ]
  },
  {
   "cell_type": "code",
   "execution_count": 81,
   "metadata": {},
   "outputs": [],
   "source": [
    "def combine_and_average_reps(EPKM_df1, EPKM_df2):\n",
    "    combined = pd.merge(EPKM_df1[['EPKM', 'STAMP_RPKM']], EPKM_df2[['EPKM', 'STAMP_RPKM']], how='inner', left_index=True, right_index=True)\n",
    "    combined['mean_EPKM'] = (combined['EPKM_x'] + combined['EPKM_y']) / 2\n",
    "    combined['mean_RPKM'] = (combined['STAMP_RPKM_x'] + combined['STAMP_RPKM_y']) / 2\n",
    "    return combined"
   ]
  },
  {
   "cell_type": "code",
   "execution_count": 82,
   "metadata": {},
   "outputs": [],
   "source": [
    "# Averaging reps for RPS2\n",
    "control_combined = combine_and_average_reps(control_1_rpkm, control_2_rpkm)\n",
    "control_combined['sample'] = 'RPS2-Torin1'\n",
    "control_combined = control_combined[['mean_EPKM', 'mean_RPKM', 'sample']]\n",
    "\n",
    "torin_combined = combine_and_average_reps(torin_1_rpkm, torin_2_rpkm)\n",
    "torin_combined['sample'] = 'RPS2+Torin1'\n",
    "torin_combined = torin_combined[['mean_EPKM', 'mean_RPKM', 'sample']]\n",
    "\n",
    "\n",
    "# And APO\n",
    "apo_control_combined = combine_and_average_reps(apo_control_1_rpkm, apo_control_2_rpkm)\n",
    "apo_control_combined['sample'] = 'APO-Torin1'\n",
    "apo_control_combined = apo_control_combined[['mean_EPKM', 'mean_RPKM', 'sample']]\n",
    "\n",
    "apo_torin_combined = combine_and_average_reps(apo_torin_1_rpkm, apo_torin_2_rpkm)\n",
    "apo_torin_combined['sample'] = 'APO+Torin1'\n",
    "apo_torin_combined = apo_torin_combined[['mean_EPKM', 'mean_RPKM', 'sample']]"
   ]
  },
  {
   "cell_type": "code",
   "execution_count": 83,
   "metadata": {},
   "outputs": [],
   "source": [
    "# RPS2 samples\n",
    "\n",
    "cont_genes = set(control_combined.index)\n",
    "torin_genes = set(torin_combined.index)\n",
    "\n",
    "\n",
    "common_genes = list(cont_genes.intersection(torin_genes))\n",
    "\n",
    "\n",
    "rps_epkm_combined = pd.concat([control_combined, torin_combined], join='inner', axis=0)[['mean_EPKM', 'mean_RPKM', 'sample']].sort_index()\n",
    "rps_epkm_combined = rps_epkm_combined.loc[common_genes]"
   ]
  },
  {
   "cell_type": "code",
   "execution_count": 84,
   "metadata": {},
   "outputs": [],
   "source": [
    "# APO control samples\n",
    "\n",
    "apo_cont_genes = set(apo_control_combined.index)\n",
    "apo_torin_genes = set(apo_torin_combined.index)\n",
    "\n",
    "\n",
    "apo_common_genes = list(apo_cont_genes.intersection(apo_torin_genes))\n",
    "\n",
    "\n",
    "apo_epkm_combined = pd.concat([apo_control_combined, apo_torin_combined], join='inner', axis=0)[['mean_EPKM', 'mean_RPKM', 'sample']].sort_index()\n",
    "apo_epkm_combined = apo_epkm_combined.loc[apo_common_genes]"
   ]
  },
  {
   "cell_type": "code",
   "execution_count": 85,
   "metadata": {},
   "outputs": [],
   "source": [
    "# lastly, only keep those which are protein_coding and lacking histone annotation\n",
    "rps_epkm_combined = rps_epkm_combined.loc[rps_epkm_combined.index.isin(all_gene_counts_pc_geneid.index)]\n",
    "apo_epkm_combined = apo_epkm_combined.loc[apo_epkm_combined.index.isin(all_gene_counts_pc_geneid.index)]"
   ]
  },
  {
   "cell_type": "code",
   "execution_count": 86,
   "metadata": {},
   "outputs": [
    {
     "name": "stdout",
     "output_type": "stream",
     "text": [
      "28780\n",
      "27348\n"
     ]
    }
   ],
   "source": [
    "print(len(rps_epkm_combined)) # Still fewer genes in the APO control set if that matters\n",
    "print(len(apo_epkm_combined))"
   ]
  },
  {
   "cell_type": "markdown",
   "metadata": {},
   "source": [
    "### Polysome data from Fred\n",
    "- Reading in RPKM information, ranking into percentiles and determining occupancy quartiles"
   ]
  },
  {
   "cell_type": "code",
   "execution_count": 87,
   "metadata": {},
   "outputs": [
    {
     "data": {
      "text/html": [
       "<div>\n",
       "<style scoped>\n",
       "    .dataframe tbody tr th:only-of-type {\n",
       "        vertical-align: middle;\n",
       "    }\n",
       "\n",
       "    .dataframe tbody tr th {\n",
       "        vertical-align: top;\n",
       "    }\n",
       "\n",
       "    .dataframe thead th {\n",
       "        text-align: right;\n",
       "    }\n",
       "</style>\n",
       "<table border=\"1\" class=\"dataframe\">\n",
       "  <thead>\n",
       "    <tr style=\"text-align: right;\">\n",
       "      <th></th>\n",
       "      <th>x3_input</th>\n",
       "      <th>x3_polysome</th>\n",
       "      <th>poly/input</th>\n",
       "    </tr>\n",
       "    <tr>\n",
       "      <th>Geneid</th>\n",
       "      <th></th>\n",
       "      <th></th>\n",
       "      <th></th>\n",
       "    </tr>\n",
       "  </thead>\n",
       "  <tbody>\n",
       "    <tr>\n",
       "      <th>ENSG00000262227</th>\n",
       "      <td>1.386483</td>\n",
       "      <td>0.000000</td>\n",
       "      <td>0.000000</td>\n",
       "    </tr>\n",
       "    <tr>\n",
       "      <th>ENSG00000273243</th>\n",
       "      <td>1.615120</td>\n",
       "      <td>0.000000</td>\n",
       "      <td>0.000000</td>\n",
       "    </tr>\n",
       "    <tr>\n",
       "      <th>ENSG00000254207</th>\n",
       "      <td>1.450542</td>\n",
       "      <td>0.215213</td>\n",
       "      <td>0.148368</td>\n",
       "    </tr>\n",
       "    <tr>\n",
       "      <th>ENSG00000230359</th>\n",
       "      <td>1.473046</td>\n",
       "      <td>0.542613</td>\n",
       "      <td>0.368361</td>\n",
       "    </tr>\n",
       "    <tr>\n",
       "      <th>ENSG00000105880</th>\n",
       "      <td>1.390836</td>\n",
       "      <td>0.430654</td>\n",
       "      <td>0.309637</td>\n",
       "    </tr>\n",
       "  </tbody>\n",
       "</table>\n",
       "</div>"
      ],
      "text/plain": [
       "                 x3_input  x3_polysome  poly/input\n",
       "Geneid                                            \n",
       "ENSG00000262227  1.386483     0.000000    0.000000\n",
       "ENSG00000273243  1.615120     0.000000    0.000000\n",
       "ENSG00000254207  1.450542     0.215213    0.148368\n",
       "ENSG00000230359  1.473046     0.542613    0.368361\n",
       "ENSG00000105880  1.390836     0.430654    0.309637"
      ]
     },
     "execution_count": 87,
     "metadata": {},
     "output_type": "execute_result"
    }
   ],
   "source": [
    "polysome = '/home/rmarina/projects/apobec/revision_riboseq_comparison/ribosome_files/fred_x3_polysome_RPKM.txt'\n",
    "\n",
    "polysome_rpkm = pd.read_csv(polysome, sep='\\t',index_col=0)\n",
    "polysome_rpkm.head()"
   ]
  },
  {
   "cell_type": "markdown",
   "metadata": {},
   "source": [
    "### Combinding polysome data with EPKM values\n",
    "- only accounting for genes that are reported in both datasets"
   ]
  },
  {
   "cell_type": "code",
   "execution_count": 88,
   "metadata": {},
   "outputs": [
    {
     "data": {
      "text/html": [
       "<div>\n",
       "<style scoped>\n",
       "    .dataframe tbody tr th:only-of-type {\n",
       "        vertical-align: middle;\n",
       "    }\n",
       "\n",
       "    .dataframe tbody tr th {\n",
       "        vertical-align: top;\n",
       "    }\n",
       "\n",
       "    .dataframe thead th {\n",
       "        text-align: right;\n",
       "    }\n",
       "</style>\n",
       "<table border=\"1\" class=\"dataframe\">\n",
       "  <thead>\n",
       "    <tr style=\"text-align: right;\">\n",
       "      <th></th>\n",
       "      <th>poly/input</th>\n",
       "      <th>mean_EPKM</th>\n",
       "      <th>mean_RPKM</th>\n",
       "      <th>sample</th>\n",
       "    </tr>\n",
       "  </thead>\n",
       "  <tbody>\n",
       "    <tr>\n",
       "      <th>ENSG00000000003</th>\n",
       "      <td>2.834096</td>\n",
       "      <td>0.601243</td>\n",
       "      <td>57.380318</td>\n",
       "      <td>RPS2-Torin1</td>\n",
       "    </tr>\n",
       "    <tr>\n",
       "      <th>ENSG00000000003</th>\n",
       "      <td>2.834096</td>\n",
       "      <td>0.471155</td>\n",
       "      <td>74.920631</td>\n",
       "      <td>RPS2+Torin1</td>\n",
       "    </tr>\n",
       "    <tr>\n",
       "      <th>ENSG00000000005</th>\n",
       "      <td>0.000000</td>\n",
       "      <td>0.000000</td>\n",
       "      <td>0.127349</td>\n",
       "      <td>RPS2-Torin1</td>\n",
       "    </tr>\n",
       "    <tr>\n",
       "      <th>ENSG00000000005</th>\n",
       "      <td>0.000000</td>\n",
       "      <td>0.000000</td>\n",
       "      <td>0.053267</td>\n",
       "      <td>RPS2+Torin1</td>\n",
       "    </tr>\n",
       "    <tr>\n",
       "      <th>ENSG00000000419</th>\n",
       "      <td>3.468370</td>\n",
       "      <td>0.234409</td>\n",
       "      <td>53.752803</td>\n",
       "      <td>RPS2-Torin1</td>\n",
       "    </tr>\n",
       "    <tr>\n",
       "      <th>ENSG00000000419</th>\n",
       "      <td>3.468370</td>\n",
       "      <td>0.000000</td>\n",
       "      <td>38.813449</td>\n",
       "      <td>RPS2+Torin1</td>\n",
       "    </tr>\n",
       "    <tr>\n",
       "      <th>ENSG00000000457</th>\n",
       "      <td>1.363360</td>\n",
       "      <td>0.009449</td>\n",
       "      <td>4.103479</td>\n",
       "      <td>RPS2+Torin1</td>\n",
       "    </tr>\n",
       "    <tr>\n",
       "      <th>ENSG00000000457</th>\n",
       "      <td>1.363360</td>\n",
       "      <td>0.000000</td>\n",
       "      <td>3.285469</td>\n",
       "      <td>RPS2-Torin1</td>\n",
       "    </tr>\n",
       "    <tr>\n",
       "      <th>ENSG00000000460</th>\n",
       "      <td>1.998907</td>\n",
       "      <td>0.083621</td>\n",
       "      <td>11.431872</td>\n",
       "      <td>RPS2-Torin1</td>\n",
       "    </tr>\n",
       "    <tr>\n",
       "      <th>ENSG00000000460</th>\n",
       "      <td>1.998907</td>\n",
       "      <td>0.028296</td>\n",
       "      <td>13.719903</td>\n",
       "      <td>RPS2+Torin1</td>\n",
       "    </tr>\n",
       "    <tr>\n",
       "      <th>ENSG00000000971</th>\n",
       "      <td>0.000000</td>\n",
       "      <td>0.000000</td>\n",
       "      <td>0.041665</td>\n",
       "      <td>RPS2+Torin1</td>\n",
       "    </tr>\n",
       "    <tr>\n",
       "      <th>ENSG00000000971</th>\n",
       "      <td>0.000000</td>\n",
       "      <td>0.000000</td>\n",
       "      <td>0.017928</td>\n",
       "      <td>RPS2-Torin1</td>\n",
       "    </tr>\n",
       "  </tbody>\n",
       "</table>\n",
       "</div>"
      ],
      "text/plain": [
       "                 poly/input  mean_EPKM  mean_RPKM       sample\n",
       "ENSG00000000003    2.834096   0.601243  57.380318  RPS2-Torin1\n",
       "ENSG00000000003    2.834096   0.471155  74.920631  RPS2+Torin1\n",
       "ENSG00000000005    0.000000   0.000000   0.127349  RPS2-Torin1\n",
       "ENSG00000000005    0.000000   0.000000   0.053267  RPS2+Torin1\n",
       "ENSG00000000419    3.468370   0.234409  53.752803  RPS2-Torin1\n",
       "ENSG00000000419    3.468370   0.000000  38.813449  RPS2+Torin1\n",
       "ENSG00000000457    1.363360   0.009449   4.103479  RPS2+Torin1\n",
       "ENSG00000000457    1.363360   0.000000   3.285469  RPS2-Torin1\n",
       "ENSG00000000460    1.998907   0.083621  11.431872  RPS2-Torin1\n",
       "ENSG00000000460    1.998907   0.028296  13.719903  RPS2+Torin1\n",
       "ENSG00000000971    0.000000   0.000000   0.041665  RPS2+Torin1\n",
       "ENSG00000000971    0.000000   0.000000   0.017928  RPS2-Torin1"
      ]
     },
     "execution_count": 88,
     "metadata": {},
     "output_type": "execute_result"
    }
   ],
   "source": [
    "epkm_ribo_combined = pd.merge(polysome_rpkm['poly/input'], rps_epkm_combined, how='right', left_index=True, right_index=True).fillna(0) # only keeping those from our editing datasets\n",
    "apo_epkm_ribo_combined = pd.merge(polysome_rpkm['poly/input'], apo_epkm_combined, how='right', left_index=True, right_index=True).fillna(0)\n",
    "\n",
    "\n",
    "epkm_ribo_combined.head(12)"
   ]
  },
  {
   "cell_type": "markdown",
   "metadata": {},
   "source": [
    "#### Assigning quartiles based upon normalized polysome values"
   ]
  },
  {
   "cell_type": "code",
   "execution_count": 89,
   "metadata": {},
   "outputs": [],
   "source": [
    "def get_quartile2(row):\n",
    "    \"\"\"\n",
    "    Simpler function than the one above. Basically just look at row['pct']\n",
    "    which should come from Pandas.rank() function. Quartiles are assigned \n",
    "    based on... quartiles.\n",
    "    \"\"\"\n",
    "    if row['pct'] > 0.75 and row['pct'] <= 1:\n",
    "        return 1\n",
    "    if row['pct'] > 0.5 and row['pct'] <= 0.75:\n",
    "        return 2\n",
    "    if row['pct'] > 0.25 and row['pct'] <= 0.5:\n",
    "        return 3\n",
    "    return 4"
   ]
  },
  {
   "cell_type": "code",
   "execution_count": 90,
   "metadata": {},
   "outputs": [
    {
     "data": {
      "text/html": [
       "<div>\n",
       "<style scoped>\n",
       "    .dataframe tbody tr th:only-of-type {\n",
       "        vertical-align: middle;\n",
       "    }\n",
       "\n",
       "    .dataframe tbody tr th {\n",
       "        vertical-align: top;\n",
       "    }\n",
       "\n",
       "    .dataframe thead th {\n",
       "        text-align: right;\n",
       "    }\n",
       "</style>\n",
       "<table border=\"1\" class=\"dataframe\">\n",
       "  <thead>\n",
       "    <tr style=\"text-align: right;\">\n",
       "      <th></th>\n",
       "      <th>poly/input</th>\n",
       "      <th>mean_EPKM</th>\n",
       "      <th>mean_RPKM</th>\n",
       "      <th>sample</th>\n",
       "      <th>pct</th>\n",
       "      <th>Occupancy Quartile</th>\n",
       "    </tr>\n",
       "  </thead>\n",
       "  <tbody>\n",
       "    <tr>\n",
       "      <th>ENSG00000000003</th>\n",
       "      <td>2.834096</td>\n",
       "      <td>0.601243</td>\n",
       "      <td>57.380318</td>\n",
       "      <td>RPS2-Torin1</td>\n",
       "      <td>0.962804</td>\n",
       "      <td>1</td>\n",
       "    </tr>\n",
       "    <tr>\n",
       "      <th>ENSG00000000003</th>\n",
       "      <td>2.834096</td>\n",
       "      <td>0.471155</td>\n",
       "      <td>74.920631</td>\n",
       "      <td>RPS2+Torin1</td>\n",
       "      <td>0.962804</td>\n",
       "      <td>1</td>\n",
       "    </tr>\n",
       "    <tr>\n",
       "      <th>ENSG00000000005</th>\n",
       "      <td>0.000000</td>\n",
       "      <td>0.000000</td>\n",
       "      <td>0.127349</td>\n",
       "      <td>RPS2-Torin1</td>\n",
       "      <td>0.142373</td>\n",
       "      <td>4</td>\n",
       "    </tr>\n",
       "    <tr>\n",
       "      <th>ENSG00000000005</th>\n",
       "      <td>0.000000</td>\n",
       "      <td>0.000000</td>\n",
       "      <td>0.053267</td>\n",
       "      <td>RPS2+Torin1</td>\n",
       "      <td>0.142373</td>\n",
       "      <td>4</td>\n",
       "    </tr>\n",
       "    <tr>\n",
       "      <th>ENSG00000000419</th>\n",
       "      <td>3.468370</td>\n",
       "      <td>0.234409</td>\n",
       "      <td>53.752803</td>\n",
       "      <td>RPS2-Torin1</td>\n",
       "      <td>0.983026</td>\n",
       "      <td>1</td>\n",
       "    </tr>\n",
       "    <tr>\n",
       "      <th>ENSG00000000419</th>\n",
       "      <td>3.468370</td>\n",
       "      <td>0.000000</td>\n",
       "      <td>38.813449</td>\n",
       "      <td>RPS2+Torin1</td>\n",
       "      <td>0.983026</td>\n",
       "      <td>1</td>\n",
       "    </tr>\n",
       "    <tr>\n",
       "      <th>ENSG00000000457</th>\n",
       "      <td>1.363360</td>\n",
       "      <td>0.009449</td>\n",
       "      <td>4.103479</td>\n",
       "      <td>RPS2+Torin1</td>\n",
       "      <td>0.839385</td>\n",
       "      <td>1</td>\n",
       "    </tr>\n",
       "    <tr>\n",
       "      <th>ENSG00000000457</th>\n",
       "      <td>1.363360</td>\n",
       "      <td>0.000000</td>\n",
       "      <td>3.285469</td>\n",
       "      <td>RPS2-Torin1</td>\n",
       "      <td>0.839385</td>\n",
       "      <td>1</td>\n",
       "    </tr>\n",
       "    <tr>\n",
       "      <th>ENSG00000000460</th>\n",
       "      <td>1.998907</td>\n",
       "      <td>0.083621</td>\n",
       "      <td>11.431872</td>\n",
       "      <td>RPS2-Torin1</td>\n",
       "      <td>0.914646</td>\n",
       "      <td>1</td>\n",
       "    </tr>\n",
       "    <tr>\n",
       "      <th>ENSG00000000460</th>\n",
       "      <td>1.998907</td>\n",
       "      <td>0.028296</td>\n",
       "      <td>13.719903</td>\n",
       "      <td>RPS2+Torin1</td>\n",
       "      <td>0.914646</td>\n",
       "      <td>1</td>\n",
       "    </tr>\n",
       "    <tr>\n",
       "      <th>ENSG00000000971</th>\n",
       "      <td>0.000000</td>\n",
       "      <td>0.000000</td>\n",
       "      <td>0.041665</td>\n",
       "      <td>RPS2+Torin1</td>\n",
       "      <td>0.142373</td>\n",
       "      <td>4</td>\n",
       "    </tr>\n",
       "    <tr>\n",
       "      <th>ENSG00000000971</th>\n",
       "      <td>0.000000</td>\n",
       "      <td>0.000000</td>\n",
       "      <td>0.017928</td>\n",
       "      <td>RPS2-Torin1</td>\n",
       "      <td>0.142373</td>\n",
       "      <td>4</td>\n",
       "    </tr>\n",
       "  </tbody>\n",
       "</table>\n",
       "</div>"
      ],
      "text/plain": [
       "                 poly/input  mean_EPKM  mean_RPKM       sample       pct  \\\n",
       "ENSG00000000003    2.834096   0.601243  57.380318  RPS2-Torin1  0.962804   \n",
       "ENSG00000000003    2.834096   0.471155  74.920631  RPS2+Torin1  0.962804   \n",
       "ENSG00000000005    0.000000   0.000000   0.127349  RPS2-Torin1  0.142373   \n",
       "ENSG00000000005    0.000000   0.000000   0.053267  RPS2+Torin1  0.142373   \n",
       "ENSG00000000419    3.468370   0.234409  53.752803  RPS2-Torin1  0.983026   \n",
       "ENSG00000000419    3.468370   0.000000  38.813449  RPS2+Torin1  0.983026   \n",
       "ENSG00000000457    1.363360   0.009449   4.103479  RPS2+Torin1  0.839385   \n",
       "ENSG00000000457    1.363360   0.000000   3.285469  RPS2-Torin1  0.839385   \n",
       "ENSG00000000460    1.998907   0.083621  11.431872  RPS2-Torin1  0.914646   \n",
       "ENSG00000000460    1.998907   0.028296  13.719903  RPS2+Torin1  0.914646   \n",
       "ENSG00000000971    0.000000   0.000000   0.041665  RPS2+Torin1  0.142373   \n",
       "ENSG00000000971    0.000000   0.000000   0.017928  RPS2-Torin1  0.142373   \n",
       "\n",
       "                 Occupancy Quartile  \n",
       "ENSG00000000003                   1  \n",
       "ENSG00000000003                   1  \n",
       "ENSG00000000005                   4  \n",
       "ENSG00000000005                   4  \n",
       "ENSG00000000419                   1  \n",
       "ENSG00000000419                   1  \n",
       "ENSG00000000457                   1  \n",
       "ENSG00000000457                   1  \n",
       "ENSG00000000460                   1  \n",
       "ENSG00000000460                   1  \n",
       "ENSG00000000971                   4  \n",
       "ENSG00000000971                   4  "
      ]
     },
     "execution_count": 90,
     "metadata": {},
     "output_type": "execute_result"
    }
   ],
   "source": [
    "epkm_ribo_combined['pct'] = epkm_ribo_combined['poly/input'].rank(pct=True)\n",
    "epkm_ribo_combined['Occupancy Quartile'] = epkm_ribo_combined.apply(get_quartile2, axis=1)\n",
    "\n",
    "apo_epkm_ribo_combined['pct'] = apo_epkm_ribo_combined['poly/input'].rank(pct=True)\n",
    "apo_epkm_ribo_combined['Occupancy Quartile'] = apo_epkm_ribo_combined.apply(get_quartile2, axis=1)\n",
    "\n",
    "epkm_ribo_combined.head(12)"
   ]
  },
  {
   "cell_type": "code",
   "execution_count": 91,
   "metadata": {},
   "outputs": [],
   "source": [
    "rps2_genes_no = int(len(epkm_ribo_combined) / 2)\n",
    "apo_genes_no = int(len(apo_epkm_ribo_combined) / 2)"
   ]
  },
  {
   "cell_type": "code",
   "execution_count": 92,
   "metadata": {},
   "outputs": [],
   "source": [
    "# Log transforming EPKM values \n",
    "epkm_ribo_combined['log2(EPKM+1)'] = np.log2(epkm_ribo_combined['mean_EPKM']+1)\n",
    "epkm_ribo_combined['log2(STAMP RPKM+1)'] = np.log2(epkm_ribo_combined['mean_RPKM']+1)\n",
    "apo_epkm_ribo_combined['log2(EPKM+1)'] = np.log2(apo_epkm_ribo_combined['mean_EPKM']+1)\n",
    "apo_epkm_ribo_combined['log2(STAMP RPKM+1)'] = np.log2(apo_epkm_ribo_combined['mean_RPKM']+1)"
   ]
  },
  {
   "cell_type": "code",
   "execution_count": 93,
   "metadata": {},
   "outputs": [],
   "source": [
    "# Calculating P-values using Mann-Whitney test as Brian had done before\n",
    "\n",
    "pvalues = defaultdict()\n",
    "\n",
    "for quartile in [1, 2, 3, 4]:\n",
    "    arr1 = epkm_ribo_combined[(epkm_ribo_combined['sample']=='RPS2-Torin1') & (epkm_ribo_combined['Occupancy Quartile']==quartile)]['log2(EPKM+1)']\n",
    "    arr2 = epkm_ribo_combined[(epkm_ribo_combined['sample']=='RPS2+Torin1') & (epkm_ribo_combined['Occupancy Quartile']==quartile)]['log2(EPKM+1)']\n",
    "    stat, pvalue = ranksums(x=arr1, y=arr2)  # Wilcoxon rank-sum\n",
    "    mwu_stat, mwu_pvalue = mannwhitneyu(x=arr1, y=arr2, alternative='greater')  # Mann Whitney U test\n",
    "    pvalues[quartile] = mwu_pvalue"
   ]
  },
  {
   "cell_type": "code",
   "execution_count": 94,
   "metadata": {},
   "outputs": [
    {
     "data": {
      "text/plain": [
       "defaultdict(None,\n",
       "            {1: 7.700615764151639e-108,\n",
       "             2: 3.47491318025118e-56,\n",
       "             3: 5.999836721585709e-19,\n",
       "             4: 1.0594347274226562e-14})"
      ]
     },
     "execution_count": 94,
     "metadata": {},
     "output_type": "execute_result"
    }
   ],
   "source": [
    "pvalues"
   ]
  },
  {
   "cell_type": "code",
   "execution_count": 95,
   "metadata": {},
   "outputs": [
    {
     "data": {
      "image/png": "[encoded data removed]",
      "text/plain": [
       "<Figure size 360x720 with 1 Axes>"
      ]
     },
     "metadata": {
      "needs_background": "light"
     },
     "output_type": "display_data"
    }
   ],
   "source": [
    "# Plotting quartile values \n",
    "\n",
    "fig, ax = plt.subplots(figsize=(5, 10))\n",
    "\n",
    "sns.boxplot(x=\"Occupancy Quartile\", \n",
    "            y='log2(EPKM+1)', \n",
    "            hue=\"sample\",\n",
    "            data=epkm_ribo_combined, \n",
    "            hue_order=['RPS2-Torin1','RPS2+Torin1'],\n",
    "            ax=ax, palette=\"Set3\", showfliers=True, \n",
    "        )\n",
    "\n",
    "\n",
    "\n",
    "fig.suptitle('Normalized Polysome \\n RPS2-T (R1 and 2) v RPS2_plusT (R1 and 2) \\n CDS+3UTR EPKM \\n Number of genes: {}\\n Q1 pvalue {}\\nQ2 pvalue {}\\nQ3 pvalue {}\\nQ4 pvalue {}'.format(\n",
    "    rps2_genes_no,pvalues[1], pvalues[2], pvalues[3], pvalues[4]), y=1.05)\n",
    "\n",
    "\n",
    "fig.savefig(output_dir+'RPS2-T_reps_combined_vs_RPS2_plusT_reps_combined_EPKM_boxplot_polysome.svg', dpi=300)"
   ]
  },
  {
   "cell_type": "markdown",
   "metadata": {},
   "source": [
    "### Look at RPKM compared to polysome-seq"
   ]
  },
  {
   "cell_type": "code",
   "execution_count": 96,
   "metadata": {},
   "outputs": [],
   "source": [
    "pvalues = defaultdict()\n",
    "\n",
    "for quartile in [1, 2, 3, 4]:\n",
    "    arr1 = epkm_ribo_combined[(epkm_ribo_combined['sample']=='RPS2-Torin1') & (epkm_ribo_combined['Occupancy Quartile']==quartile)]['log2(STAMP RPKM+1)']\n",
    "    arr2 = epkm_ribo_combined[(epkm_ribo_combined['sample']=='RPS2+Torin1') & (epkm_ribo_combined['Occupancy Quartile']==quartile)]['log2(STAMP RPKM+1)']\n",
    "    stat, pvalue = ranksums(x=arr1, y=arr2)  # Wilcoxon rank-sum\n",
    "    mwu_stat, mwu_pvalue = mannwhitneyu(x=arr1, y=arr2, alternative='greater')  # Mann Whitney U test\n",
    "    pvalues[quartile] = mwu_pvalue"
   ]
  },
  {
   "cell_type": "code",
   "execution_count": 97,
   "metadata": {},
   "outputs": [
    {
     "data": {
      "image/png": "[encoded data removed]",
      "text/plain": [
       "<Figure size 360x720 with 1 Axes>"
      ]
     },
     "metadata": {
      "needs_background": "light"
     },
     "output_type": "display_data"
    }
   ],
   "source": [
    "fig, ax = plt.subplots(figsize=(5, 10))\n",
    "\n",
    "sns.boxplot(x=\"Occupancy Quartile\", \n",
    "            y='log2(STAMP RPKM+1)', \n",
    "            hue=\"sample\",\n",
    "            data=epkm_ribo_combined, \n",
    "            hue_order=['RPS2-Torin1','RPS2+Torin1'],\n",
    "            ax=ax, palette=\"Set3\", showfliers=True, \n",
    "        )\n",
    "\n",
    "\n",
    "\n",
    "fig.suptitle('Normalized Polysome \\n RPS2-T (R1 and 2) v RPS2_plusT (R1 and 2) \\n CDS+3UTR RPKM \\n Number of genes: {}\\n Q1 pvalue {}\\nQ2 pvalue {}\\nQ3 pvalue {}\\nQ4 pvalue {}'.format(\n",
    "    rps2_genes_no,pvalues[1], pvalues[2], pvalues[3], pvalues[4]), y=1.05)\n",
    "\n",
    "\n",
    "fig.savefig(output_dir+'RPS2-T_reps_combined_vs_RPS2_plusT_reps_combined_RPKM_boxplot_polysome.svg', dpi=300)"
   ]
  },
  {
   "cell_type": "markdown",
   "metadata": {},
   "source": [
    "### APO"
   ]
  },
  {
   "cell_type": "code",
   "execution_count": 98,
   "metadata": {},
   "outputs": [
    {
     "data": {
      "text/html": [
       "<div>\n",
       "<style scoped>\n",
       "    .dataframe tbody tr th:only-of-type {\n",
       "        vertical-align: middle;\n",
       "    }\n",
       "\n",
       "    .dataframe tbody tr th {\n",
       "        vertical-align: top;\n",
       "    }\n",
       "\n",
       "    .dataframe thead th {\n",
       "        text-align: right;\n",
       "    }\n",
       "</style>\n",
       "<table border=\"1\" class=\"dataframe\">\n",
       "  <thead>\n",
       "    <tr style=\"text-align: right;\">\n",
       "      <th></th>\n",
       "      <th>poly/input</th>\n",
       "      <th>mean_EPKM</th>\n",
       "      <th>mean_RPKM</th>\n",
       "      <th>sample</th>\n",
       "      <th>pct</th>\n",
       "      <th>Occupancy Quartile</th>\n",
       "      <th>log2(EPKM+1)</th>\n",
       "      <th>log2(STAMP RPKM+1)</th>\n",
       "    </tr>\n",
       "  </thead>\n",
       "  <tbody>\n",
       "    <tr>\n",
       "      <th>ENSG00000000003</th>\n",
       "      <td>2.834096</td>\n",
       "      <td>0.046811</td>\n",
       "      <td>115.133344</td>\n",
       "      <td>APO-Torin1</td>\n",
       "      <td>0.960856</td>\n",
       "      <td>1</td>\n",
       "      <td>0.066001</td>\n",
       "      <td>6.859638</td>\n",
       "    </tr>\n",
       "    <tr>\n",
       "      <th>ENSG00000000003</th>\n",
       "      <td>2.834096</td>\n",
       "      <td>0.033186</td>\n",
       "      <td>97.132852</td>\n",
       "      <td>APO+Torin1</td>\n",
       "      <td>0.960856</td>\n",
       "      <td>1</td>\n",
       "      <td>0.047100</td>\n",
       "      <td>6.616664</td>\n",
       "    </tr>\n",
       "    <tr>\n",
       "      <th>ENSG00000000419</th>\n",
       "      <td>3.468370</td>\n",
       "      <td>0.000000</td>\n",
       "      <td>91.971304</td>\n",
       "      <td>APO-Torin1</td>\n",
       "      <td>0.982138</td>\n",
       "      <td>1</td>\n",
       "      <td>0.000000</td>\n",
       "      <td>6.538714</td>\n",
       "    </tr>\n",
       "    <tr>\n",
       "      <th>ENSG00000000419</th>\n",
       "      <td>3.468370</td>\n",
       "      <td>0.000000</td>\n",
       "      <td>52.204820</td>\n",
       "      <td>APO+Torin1</td>\n",
       "      <td>0.982138</td>\n",
       "      <td>1</td>\n",
       "      <td>0.000000</td>\n",
       "      <td>5.733485</td>\n",
       "    </tr>\n",
       "    <tr>\n",
       "      <th>ENSG00000000457</th>\n",
       "      <td>1.363360</td>\n",
       "      <td>0.008845</td>\n",
       "      <td>5.169145</td>\n",
       "      <td>APO-Torin1</td>\n",
       "      <td>0.831121</td>\n",
       "      <td>1</td>\n",
       "      <td>0.012704</td>\n",
       "      <td>2.625070</td>\n",
       "    </tr>\n",
       "  </tbody>\n",
       "</table>\n",
       "</div>"
      ],
      "text/plain": [
       "                 poly/input  mean_EPKM   mean_RPKM      sample       pct  \\\n",
       "ENSG00000000003    2.834096   0.046811  115.133344  APO-Torin1  0.960856   \n",
       "ENSG00000000003    2.834096   0.033186   97.132852  APO+Torin1  0.960856   \n",
       "ENSG00000000419    3.468370   0.000000   91.971304  APO-Torin1  0.982138   \n",
       "ENSG00000000419    3.468370   0.000000   52.204820  APO+Torin1  0.982138   \n",
       "ENSG00000000457    1.363360   0.008845    5.169145  APO-Torin1  0.831121   \n",
       "\n",
       "                 Occupancy Quartile  log2(EPKM+1)  log2(STAMP RPKM+1)  \n",
       "ENSG00000000003                   1      0.066001            6.859638  \n",
       "ENSG00000000003                   1      0.047100            6.616664  \n",
       "ENSG00000000419                   1      0.000000            6.538714  \n",
       "ENSG00000000419                   1      0.000000            5.733485  \n",
       "ENSG00000000457                   1      0.012704            2.625070  "
      ]
     },
     "execution_count": 98,
     "metadata": {},
     "output_type": "execute_result"
    }
   ],
   "source": [
    "apo_epkm_ribo_combined.head()"
   ]
  },
  {
   "cell_type": "code",
   "execution_count": 99,
   "metadata": {},
   "outputs": [],
   "source": [
    "pvalues = defaultdict()\n",
    "\n",
    "for quartile in [1, 2, 3, 4]:\n",
    "    arr1 = apo_epkm_ribo_combined[(apo_epkm_ribo_combined['sample']=='APO-Torin1') & (apo_epkm_ribo_combined['Occupancy Quartile']==quartile)]['log2(EPKM+1)']\n",
    "    arr2 = apo_epkm_ribo_combined[(apo_epkm_ribo_combined['sample']=='APO+Torin1') & (apo_epkm_ribo_combined['Occupancy Quartile']==quartile)]['log2(EPKM+1)']\n",
    "    stat, pvalue = ranksums(x=arr1, y=arr2)  # Wilcoxon rank-sum\n",
    "    mwu_stat, mwu_pvalue = mannwhitneyu(x=arr1, y=arr2, alternative='greater')  # Mann Whitney U test\n",
    "    pvalues[quartile] = mwu_pvalue"
   ]
  },
  {
   "cell_type": "code",
   "execution_count": 100,
   "metadata": {},
   "outputs": [
    {
     "data": {
      "image/png": "[encoded data removed]",
      "text/plain": [
       "<Figure size 360x720 with 1 Axes>"
      ]
     },
     "metadata": {
      "needs_background": "light"
     },
     "output_type": "display_data"
    }
   ],
   "source": [
    "# Plotting quartile values \n",
    "\n",
    "fig, ax = plt.subplots(figsize=(5, 10))\n",
    "\n",
    "sns.boxplot(x=\"Occupancy Quartile\", \n",
    "            y='log2(EPKM+1)', \n",
    "            hue=\"sample\",\n",
    "            data=apo_epkm_ribo_combined, \n",
    "            hue_order=['APO-Torin1','APO+Torin1'],\n",
    "            ax=ax, palette=\"Set3\", showfliers=True, \n",
    "        )\n",
    "\n",
    "\n",
    "\n",
    "fig.suptitle('Normalized Polysome \\n Apobec-T (R1 and 2) v Apobec (R1 and 2) \\n CDS+3UTR EPKM \\n Number of genes: {}\\n Q1 pvalue {}\\nQ2 pvalue {}\\nQ3 pvalue {}\\nQ4 pvalue {}'.format(\n",
    "    apo_genes_no,pvalues[1], pvalues[2], pvalues[3], pvalues[4]), y=1.05)\n",
    "\n",
    "fig.savefig(output_dir+'Apobec-T_reps_combined_vs_Apobec_plusT_reps_combined_EPKM_boxplot_polysome.svg', dpi=300)"
   ]
  },
  {
   "cell_type": "code",
   "execution_count": 101,
   "metadata": {},
   "outputs": [],
   "source": [
    "#pval for apo RPKM\n",
    "apo_pvalues = defaultdict()\n",
    "\n",
    "for quartile in [1, 2, 3, 4]:\n",
    "    arr1 = apo_epkm_ribo_combined[(apo_epkm_ribo_combined['sample']=='APO-Torin1') & (apo_epkm_ribo_combined['Occupancy Quartile']==quartile)]['log2(STAMP RPKM+1)']\n",
    "    arr2 = apo_epkm_ribo_combined[(apo_epkm_ribo_combined['sample']=='APO+Torin1') & (apo_epkm_ribo_combined['Occupancy Quartile']==quartile)]['log2(STAMP RPKM+1)']\n",
    "    stat, pvalue = ranksums(x=arr1, y=arr2)  # Wilcoxon rank-sum\n",
    "    mwu_stat, mwu_pvalue = mannwhitneyu(x=arr1, y=arr2, alternative='greater')  # Mann Whitney U test\n",
    "    apo_pvalues[quartile] = mwu_pvalue"
   ]
  },
  {
   "cell_type": "code",
   "execution_count": 102,
   "metadata": {},
   "outputs": [
    {
     "data": {
      "image/png": "[encoded data removed]",
      "text/plain": [
       "<Figure size 360x720 with 1 Axes>"
      ]
     },
     "metadata": {
      "needs_background": "light"
     },
     "output_type": "display_data"
    }
   ],
   "source": [
    "fig, ax = plt.subplots(figsize=(5, 10))\n",
    "\n",
    "sns.boxplot(x=\"Occupancy Quartile\", \n",
    "            y='log2(STAMP RPKM+1)', \n",
    "            hue=\"sample\",\n",
    "            data=apo_epkm_ribo_combined, \n",
    "            hue_order=['APO-Torin1','APO+Torin1'],\n",
    "            ax=ax, palette=\"Set3\", showfliers=True, \n",
    "        )\n",
    "\n",
    "\n",
    "\n",
    "fig.suptitle('Normalized Polysome \\n Apobec-T (R1 and 2) v Apobec (R1 and 2) \\n CDS+3UTR RPKM \\n Number of genes: {}\\n Q1 pvalue {}\\nQ2 pvalue {}\\nQ3 pvalue {}\\nQ4 pvalue {}'.format(\n",
    "    apo_genes_no,apo_pvalues[1], apo_pvalues[2], apo_pvalues[3], apo_pvalues[4]), y=1.05)\n",
    "\n",
    "fig.savefig(output_dir+'Apobec-T_reps_combined_vs_Apobec_plusT_reps_combined_RPKM_boxplot_polysome.svg', dpi=300)"
   ]
  },
  {
   "cell_type": "markdown",
   "metadata": {},
   "source": [
    "### Comparing Q1 genes to actual values found in datasets \n",
    "* Trying to see how expression compares with edit counts"
   ]
  },
  {
   "cell_type": "code",
   "execution_count": 103,
   "metadata": {},
   "outputs": [],
   "source": [
    "q1_genes = epkm_ribo_combined.loc[epkm_ribo_combined['Occupancy Quartile'] == 1]\n",
    "q1_genes_torin = q1_genes.loc[q1_genes['sample'] == 'RPS2+Torin1']\n",
    "q1_genes_dmso = q1_genes.loc[q1_genes['sample'] == 'RPS2-Torin1']\n",
    "\n",
    "# for comparison, do the same for Q4\n",
    "q4_genes = epkm_ribo_combined.loc[epkm_ribo_combined['Occupancy Quartile'] == 4]\n",
    "q4_genes_torin = q4_genes.loc[q4_genes['sample'] == 'RPS2+Torin1']\n",
    "q4_genes_dmso = q4_genes.loc[q4_genes['sample'] == 'RPS2-Torin1']"
   ]
  },
  {
   "cell_type": "code",
   "execution_count": 104,
   "metadata": {},
   "outputs": [
    {
     "name": "stderr",
     "output_type": "stream",
     "text": [
      "/projects/ps-yeolab4/software/yeolabconda3/envs/python3essential-0.0.1/lib/python3.6/site-packages/ipykernel_launcher.py:1: SettingWithCopyWarning: \n",
      "A value is trying to be set on a copy of a slice from a DataFrame.\n",
      "Try using .loc[row_indexer,col_indexer] = value instead\n",
      "\n",
      "See the caveats in the documentation: http://pandas.pydata.org/pandas-docs/stable/indexing.html#indexing-view-versus-copy\n",
      "  \"\"\"Entry point for launching an IPython kernel.\n",
      "/projects/ps-yeolab4/software/yeolabconda3/envs/python3essential-0.0.1/lib/python3.6/site-packages/ipykernel_launcher.py:2: SettingWithCopyWarning: \n",
      "A value is trying to be set on a copy of a slice from a DataFrame.\n",
      "Try using .loc[row_indexer,col_indexer] = value instead\n",
      "\n",
      "See the caveats in the documentation: http://pandas.pydata.org/pandas-docs/stable/indexing.html#indexing-view-versus-copy\n",
      "  \n",
      "/projects/ps-yeolab4/software/yeolabconda3/envs/python3essential-0.0.1/lib/python3.6/site-packages/ipykernel_launcher.py:4: SettingWithCopyWarning: \n",
      "A value is trying to be set on a copy of a slice from a DataFrame.\n",
      "Try using .loc[row_indexer,col_indexer] = value instead\n",
      "\n",
      "See the caveats in the documentation: http://pandas.pydata.org/pandas-docs/stable/indexing.html#indexing-view-versus-copy\n",
      "  after removing the cwd from sys.path.\n",
      "/projects/ps-yeolab4/software/yeolabconda3/envs/python3essential-0.0.1/lib/python3.6/site-packages/ipykernel_launcher.py:5: SettingWithCopyWarning: \n",
      "A value is trying to be set on a copy of a slice from a DataFrame.\n",
      "Try using .loc[row_indexer,col_indexer] = value instead\n",
      "\n",
      "See the caveats in the documentation: http://pandas.pydata.org/pandas-docs/stable/indexing.html#indexing-view-versus-copy\n",
      "  \"\"\"\n"
     ]
    }
   ],
   "source": [
    "q1_genes_torin['log2(poly/input)'] = np.log2(q1_genes_torin['poly/input']+1)\n",
    "q1_genes_dmso['log2(poly/input)'] = np.log2(q1_genes_dmso['poly/input']+1)\n",
    "\n",
    "q4_genes_torin['log2(poly/input)'] = np.log2(q4_genes_torin['poly/input']+1)\n",
    "q4_genes_dmso['log2(poly/input)'] = np.log2(q4_genes_dmso['poly/input']+1)"
   ]
  },
  {
   "cell_type": "code",
   "execution_count": 105,
   "metadata": {},
   "outputs": [],
   "source": [
    "from scipy.stats import pearsonr"
   ]
  },
  {
   "cell_type": "code",
   "execution_count": 106,
   "metadata": {},
   "outputs": [],
   "source": [
    "def r2pearson(x,y):\n",
    "    return pearsonr(x,y)[0] ** 2"
   ]
  },
  {
   "cell_type": "code",
   "execution_count": 107,
   "metadata": {},
   "outputs": [
    {
     "name": "stderr",
     "output_type": "stream",
     "text": [
      "/projects/ps-yeolab4/software/yeolabconda3/envs/python3essential-0.0.1/lib/python3.6/site-packages/seaborn/axisgrid.py:1847: UserWarning: JointGrid annotation is deprecated and will be removed in a future release.\n",
      "  warnings.warn(UserWarning(msg))\n"
     ]
    },
    {
     "data": {
      "image/png": "[encoded data removed]",
      "text/plain": [
       "<Figure size 432x432 with 3 Axes>"
      ]
     },
     "metadata": {
      "needs_background": "light"
     },
     "output_type": "display_data"
    }
   ],
   "source": [
    "# Q1 for RPS2+torin versus polysome ratio\n",
    "g = sns.jointplot(data=q1_genes_torin, x='log2(poly/input)', y='log2(EPKM+1)', stat_func=r2pearson)\n",
    "g.fig.suptitle(\"Q1 RPS2+torin\")\n",
    "g.set_axis_labels('log2(Polysome RPKM/Input RPKM)', 'log2(EPKM+1)', fontsize=16)\n",
    "g.savefig(output_dir+'Q1_EPKM_scatter_RPS2_Torin1_CDS_3UTR_vs_polysome.pdf', bbox_inches='tight', dpi=300)"
   ]
  },
  {
   "cell_type": "code",
   "execution_count": 108,
   "metadata": {},
   "outputs": [
    {
     "name": "stderr",
     "output_type": "stream",
     "text": [
      "/projects/ps-yeolab4/software/yeolabconda3/envs/python3essential-0.0.1/lib/python3.6/site-packages/seaborn/axisgrid.py:1847: UserWarning: JointGrid annotation is deprecated and will be removed in a future release.\n",
      "  warnings.warn(UserWarning(msg))\n"
     ]
    },
    {
     "data": {
      "image/png": "[encoded data removed]",
      "text/plain": [
       "<Figure size 432x432 with 3 Axes>"
      ]
     },
     "metadata": {
      "needs_background": "light"
     },
     "output_type": "display_data"
    }
   ],
   "source": [
    "# Q1 for RPS2-torin versus polysome ratio\n",
    "g = sns.jointplot(data=q1_genes_dmso, x='log2(poly/input)', y='log2(EPKM+1)', stat_func=r2pearson)\n",
    "g.fig.suptitle(\"Q1 RPS2-torin\")\n",
    "g.set_axis_labels('log2(Polysome RPKM/Input RPKM)', 'log2(EPKM+1)', fontsize=16)\n",
    "g.savefig(output_dir+'Q1_EPKM_scatter_RPS2_vehicle_CDS_3UTR_vs_polysome.pdf', bbox_inches='tight', dpi=300)"
   ]
  },
  {
   "cell_type": "code",
   "execution_count": 109,
   "metadata": {},
   "outputs": [
    {
     "name": "stderr",
     "output_type": "stream",
     "text": [
      "/projects/ps-yeolab4/software/yeolabconda3/envs/python3essential-0.0.1/lib/python3.6/site-packages/seaborn/axisgrid.py:1847: UserWarning: JointGrid annotation is deprecated and will be removed in a future release.\n",
      "  warnings.warn(UserWarning(msg))\n",
      "/projects/ps-yeolab4/software/yeolabconda3/envs/python3essential-0.0.1/lib/python3.6/site-packages/scipy/stats/stats.py:3038: RuntimeWarning: invalid value encountered in double_scalars\n",
      "  r = r_num / r_den\n"
     ]
    },
    {
     "data": {
      "image/png": "[encoded data removed]",
      "text/plain": [
       "<Figure size 432x432 with 3 Axes>"
      ]
     },
     "metadata": {
      "needs_background": "light"
     },
     "output_type": "display_data"
    }
   ],
   "source": [
    "# Q4 for RPS2+torin versus ribo-seq RPKM\n",
    "g = sns.jointplot(data=q4_genes_torin, x='log2(poly/input)', y='log2(EPKM+1)', stat_func=r2pearson)\n",
    "g.fig.suptitle(\"Q4 RPS2+torin\")\n",
    "g.set_axis_labels('log2(Polysome RPKM/Input RPKM)', 'log2(EPKM+1)', fontsize=16)\n",
    "g.savefig(output_dir+'Q4_EPKM_scatter_RPS2_Torin1_CDS_3UTR_vs_polysome.pdf', bbox_inches='tight', dpi=300)"
   ]
  },
  {
   "cell_type": "code",
   "execution_count": 110,
   "metadata": {},
   "outputs": [
    {
     "name": "stderr",
     "output_type": "stream",
     "text": [
      "/projects/ps-yeolab4/software/yeolabconda3/envs/python3essential-0.0.1/lib/python3.6/site-packages/seaborn/axisgrid.py:1847: UserWarning: JointGrid annotation is deprecated and will be removed in a future release.\n",
      "  warnings.warn(UserWarning(msg))\n",
      "/projects/ps-yeolab4/software/yeolabconda3/envs/python3essential-0.0.1/lib/python3.6/site-packages/scipy/stats/stats.py:3038: RuntimeWarning: invalid value encountered in double_scalars\n",
      "  r = r_num / r_den\n"
     ]
    },
    {
     "data": {
      "image/png": "[encoded data removed]",
      "text/plain": [
       "<Figure size 432x432 with 3 Axes>"
      ]
     },
     "metadata": {
      "needs_background": "light"
     },
     "output_type": "display_data"
    }
   ],
   "source": [
    "# Q4 for RPS2-torin versus ribo-seq RPKM\n",
    "g = sns.jointplot(data=q4_genes_torin, x='log2(poly/input)', y='log2(EPKM+1)', stat_func=r2pearson)\n",
    "g.fig.suptitle(\"Q4 RPS2-torin\")\n",
    "g.set_axis_labels('log2(Polysome RPKM/Input RPKM)', 'log2(EPKM+1)', fontsize=16)\n",
    "g.savefig(output_dir+'Q4_EPKM_scatter_RPS2_vehicle_CDS_3UTR_vs_polysome.pdf', bbox_inches='tight', dpi=300)"
   ]
  },
  {
   "cell_type": "code",
   "execution_count": null,
   "metadata": {},
   "outputs": [],
   "source": []
  }
 ],
 "metadata": {
  "kernelspec": {
   "display_name": "python3essential-module",
   "language": "python",
   "name": "python3essential-module"
  },
  "language_info": {
   "codemirror_mode": {
    "name": "ipython",
    "version": 3
   },
   "file_extension": ".py",
   "mimetype": "text/x-python",
   "name": "python",
   "nbconvert_exporter": "python",
   "pygments_lexer": "ipython3",
   "version": "3.6.7"
  }
 },
 "nbformat": 4,
 "nbformat_minor": 4
}
