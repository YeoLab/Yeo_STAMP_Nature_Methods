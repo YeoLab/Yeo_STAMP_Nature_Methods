{
 "cells": [
  {
   "cell_type": "code",
   "execution_count": 1,
   "metadata": {},
   "outputs": [],
   "source": [
    "library('scales')\n",
    "library('ggplot2')"
   ]
  },
  {
   "cell_type": "markdown",
   "metadata": {},
   "source": [
    "# Read in and plot RPS2-1000"
   ]
  },
  {
   "cell_type": "code",
   "execution_count": 2,
   "metadata": {},
   "outputs": [],
   "source": [
    "setwd('/home/bay001/singularity/inputs/')"
   ]
  },
  {
   "cell_type": "code",
   "execution_count": 3,
   "metadata": {},
   "outputs": [],
   "source": [
    "# rbfox2_dist_measures <- \"Sample19_S17_merged.fastqTr.sorted.STARUnmapped.out.sorted.STARAligned.out.sorted_a0_b0_e0.01.conf0.0.dist.measures.txt\"\n",
    "# rps2_dist_measures <- \"Sample_33_S61_L006_R1_001.fastqTr.sorted.STARUnmapped.out.sorted.STARAligned.out.sorted_a0_b0_e0.01.conf0.99.dist.measures.txt\"\n",
    "# apobec_dist_measures <- \"Sample5_S26_merged.fastqTr.sorted.STARUnmapped.out.sorted.STARAligned.out.sorted_a0_b0_e0.01.conf0.0.dist.measures.txt\"\n",
    "\n",
    "# rbfox2_dist_measures <- \"Sample19_S17_merged.fastqTr.sorted.STARUnmapped.out.sorted.STARAligned.out.sorted_a0_b0_e0.01.conf0.99.GSE112353_Riboseq.Q1.dist.measures.txt\"\n",
    "# rps2_dist_measures <- \"Sample_33_S61_L006_R1_001.fastqTr.sorted.STARUnmapped.out.sorted.STARAligned.out.sorted_a0_b0_e0.01.conf0.99.GSE112353_Riboseq.Q1.dist.measures.txt\"\n",
    "# apobec_dist_measures <- \"Sample5_S26_merged.fastqTr.sorted.STARUnmapped.out.sorted.STARAligned.out.sorted_a0_b0_e0.01.conf0.99.GSE112353_Riboseq.Q1.dist.measures.txt\"\n",
    "# rps2_dist_measures <- \"RPS2-1000_S18_L002_R1_001.fastqTr.sorted.STARUnmapped.out.sorted.STARAligned.out.sorted_a0_b0_e0.01.conf0.99.GSE112353_Riboseq.Q1.dist.measures.txt\"\n",
    "# apobec_dist_measures <- \"ApoControl-1000_S21_L002_R1_001.fastqTr.sorted.STARUnmapped.out.sorted.STARAligned.out.sorted_a0_b0_e0.01.conf0.99.GSE112353_Riboseq.Q1.dist.measures.txt\"\n",
    "rps2_dist_measures <- \"RPS2-1000_S18_L002_R1_001.fastqTr.sorted.STARUnmapped.out.sorted.STARAligned.out.sorted_a0_b0_e0.01.conf0.99.GSE112353_Riboseq.top200.dist.measures.txt\"\n",
    "apobec_dist_measures <- \"ApoControl-1000_S21_L002_R1_001.fastqTr.sorted.STARUnmapped.out.sorted.STARAligned.out.sorted_a0_b0_e0.01.conf0.99.GSE112353_Riboseq.top200.dist.measures.txt\"\n",
    "rbfox2_dist_measures <- \"RBFOX2-1000_S20_L002_R1_001.fastqTr.sorted.STARUnmapped.out.sorted.STARAligned.out.sorted_a0_b0_e0.01.conf0.99.GSE112353_Riboseq.top200.dist.measures.txt\"\n",
    "etf1_dist_measures <- \"ETF1-1000_S16_L002_R1_001.fastqTr.sorted.STARUnmapped.out.sorted.STARAligned.out.sorted_a0_b0_e0.01.conf0.99.GSE112353_Riboseq.top200.dist.measures.txt\"\n",
    "gstp1_dist_measures <- \"GSTP1-1000_S17_L002_R1_001.fastqTr.sorted.STARUnmapped.out.sorted.STARAligned.out.sorted_a0_b0_e0.01.conf0.99.GSE112353_Riboseq.top200.dist.measures.txt\"\n",
    "abce1_dist_measures <- \"ABCE1-1000_S15_L002_R1_001.fastqTr.sorted.STARUnmapped.out.sorted.STARAligned.out.sorted_a0_b0_e0.01.conf0.99.GSE112353_Riboseq.top200.dist.measures.txt\"\n"
   ]
  },
  {
   "cell_type": "code",
   "execution_count": 4,
   "metadata": {},
   "outputs": [
    {
     "data": {
      "text/html": [
       "<ol class=list-inline>\n",
       "\t<li>2641</li>\n",
       "\t<li>14</li>\n",
       "</ol>\n"
      ],
      "text/latex": [
       "\\begin{enumerate*}\n",
       "\\item 2641\n",
       "\\item 14\n",
       "\\end{enumerate*}\n"
      ],
      "text/markdown": [
       "1. 2641\n",
       "2. 14\n",
       "\n",
       "\n"
      ],
      "text/plain": [
       "[1] 2641   14"
      ]
     },
     "metadata": {},
     "output_type": "display_data"
    }
   ],
   "source": [
    "rps.dist <- read.delim (rps2_dist_measures, header = T)\n",
    "dim(rps.dist)"
   ]
  },
  {
   "cell_type": "code",
   "execution_count": 5,
   "metadata": {},
   "outputs": [
    {
     "data": {
      "text/html": [
       "<table>\n",
       "<thead><tr><th scope=col>chr</th><th scope=col>coord</th><th scope=col>gene_name</th><th scope=col>refseqID</th><th scope=col>rel_location</th><th scope=col>utr5_st</th><th scope=col>utr5_end</th><th scope=col>cds_st</th><th scope=col>cds_end</th><th scope=col>utr3_st</th><th scope=col>utr3_end</th><th scope=col>utr5_size</th><th scope=col>cds_size</th><th scope=col>utr3_size</th></tr></thead>\n",
       "<tbody>\n",
       "\t<tr><td>chr1             </td><td> 8921345         </td><td>ENO1             </td><td>ENST00000234590.4</td><td>2.206704         </td><td>1498             </td><td>1379             </td><td>1378             </td><td>  74             </td><td>  73             </td><td> -284            </td><td>119              </td><td>1304             </td><td> 357             </td></tr>\n",
       "\t<tr><td>chr1             </td><td> 8923965         </td><td>ENO1             </td><td>ENST00000234590.4</td><td>1.806130         </td><td>1171             </td><td>1052             </td><td>1051             </td><td>-253             </td><td>-254             </td><td> -611            </td><td>119              </td><td>1304             </td><td> 357             </td></tr>\n",
       "\t<tr><td>chr1             </td><td>17733837         </td><td>RCC2             </td><td>ENST00000375436.4</td><td>2.750644         </td><td>3505             </td><td>3318             </td><td>3317             </td><td>1749             </td><td>1748             </td><td> -581            </td><td>187              </td><td>1568             </td><td>2329             </td></tr>\n",
       "\t<tr><td>chr1             </td><td>17734193         </td><td>RCC2             </td><td>ENST00000375436.4</td><td>2.597854         </td><td>3149             </td><td>2962             </td><td>2961             </td><td>1393             </td><td>1392             </td><td> -937            </td><td>187              </td><td>1568             </td><td>2329             </td></tr>\n",
       "\t<tr><td>chr1             </td><td>17734468         </td><td>RCC2             </td><td>ENST00000375436.4</td><td>2.479828         </td><td>2874             </td><td>2687             </td><td>2686             </td><td>1118             </td><td>1117             </td><td>-1212            </td><td>187              </td><td>1568             </td><td>2329             </td></tr>\n",
       "\t<tr><td>chr1             </td><td>17734912         </td><td>RCC2             </td><td>ENST00000375436.4</td><td>2.289270         </td><td>2430             </td><td>2243             </td><td>2242             </td><td> 674             </td><td> 673             </td><td>-1656            </td><td>187              </td><td>1568             </td><td>2329             </td></tr>\n",
       "</tbody>\n",
       "</table>\n"
      ],
      "text/latex": [
       "\\begin{tabular}{r|llllllllllllll}\n",
       " chr & coord & gene\\_name & refseqID & rel\\_location & utr5\\_st & utr5\\_end & cds\\_st & cds\\_end & utr3\\_st & utr3\\_end & utr5\\_size & cds\\_size & utr3\\_size\\\\\n",
       "\\hline\n",
       "\t chr1              &  8921345          & ENO1              & ENST00000234590.4 & 2.206704          & 1498              & 1379              & 1378              &   74              &   73              &  -284             & 119               & 1304              &  357             \\\\\n",
       "\t chr1              &  8923965          & ENO1              & ENST00000234590.4 & 1.806130          & 1171              & 1052              & 1051              & -253              & -254              &  -611             & 119               & 1304              &  357             \\\\\n",
       "\t chr1              & 17733837          & RCC2              & ENST00000375436.4 & 2.750644          & 3505              & 3318              & 3317              & 1749              & 1748              &  -581             & 187               & 1568              & 2329             \\\\\n",
       "\t chr1              & 17734193          & RCC2              & ENST00000375436.4 & 2.597854          & 3149              & 2962              & 2961              & 1393              & 1392              &  -937             & 187               & 1568              & 2329             \\\\\n",
       "\t chr1              & 17734468          & RCC2              & ENST00000375436.4 & 2.479828          & 2874              & 2687              & 2686              & 1118              & 1117              & -1212             & 187               & 1568              & 2329             \\\\\n",
       "\t chr1              & 17734912          & RCC2              & ENST00000375436.4 & 2.289270          & 2430              & 2243              & 2242              &  674              &  673              & -1656             & 187               & 1568              & 2329             \\\\\n",
       "\\end{tabular}\n"
      ],
      "text/markdown": [
       "\n",
       "chr | coord | gene_name | refseqID | rel_location | utr5_st | utr5_end | cds_st | cds_end | utr3_st | utr3_end | utr5_size | cds_size | utr3_size | \n",
       "|---|---|---|---|---|---|\n",
       "| chr1              |  8921345          | ENO1              | ENST00000234590.4 | 2.206704          | 1498              | 1379              | 1378              |   74              |   73              |  -284             | 119               | 1304              |  357              | \n",
       "| chr1              |  8923965          | ENO1              | ENST00000234590.4 | 1.806130          | 1171              | 1052              | 1051              | -253              | -254              |  -611             | 119               | 1304              |  357              | \n",
       "| chr1              | 17733837          | RCC2              | ENST00000375436.4 | 2.750644          | 3505              | 3318              | 3317              | 1749              | 1748              |  -581             | 187               | 1568              | 2329              | \n",
       "| chr1              | 17734193          | RCC2              | ENST00000375436.4 | 2.597854          | 3149              | 2962              | 2961              | 1393              | 1392              |  -937             | 187               | 1568              | 2329              | \n",
       "| chr1              | 17734468          | RCC2              | ENST00000375436.4 | 2.479828          | 2874              | 2687              | 2686              | 1118              | 1117              | -1212             | 187               | 1568              | 2329              | \n",
       "| chr1              | 17734912          | RCC2              | ENST00000375436.4 | 2.289270          | 2430              | 2243              | 2242              |  674              |  673              | -1656             | 187               | 1568              | 2329              | \n",
       "\n",
       "\n"
      ],
      "text/plain": [
       "  chr  coord    gene_name refseqID          rel_location utr5_st utr5_end\n",
       "1 chr1  8921345 ENO1      ENST00000234590.4 2.206704     1498    1379    \n",
       "2 chr1  8923965 ENO1      ENST00000234590.4 1.806130     1171    1052    \n",
       "3 chr1 17733837 RCC2      ENST00000375436.4 2.750644     3505    3318    \n",
       "4 chr1 17734193 RCC2      ENST00000375436.4 2.597854     3149    2962    \n",
       "5 chr1 17734468 RCC2      ENST00000375436.4 2.479828     2874    2687    \n",
       "6 chr1 17734912 RCC2      ENST00000375436.4 2.289270     2430    2243    \n",
       "  cds_st cds_end utr3_st utr3_end utr5_size cds_size utr3_size\n",
       "1 1378     74      73     -284    119       1304      357     \n",
       "2 1051   -253    -254     -611    119       1304      357     \n",
       "3 3317   1749    1748     -581    187       1568     2329     \n",
       "4 2961   1393    1392     -937    187       1568     2329     \n",
       "5 2686   1118    1117    -1212    187       1568     2329     \n",
       "6 2242    674     673    -1656    187       1568     2329     "
      ]
     },
     "metadata": {},
     "output_type": "display_data"
    }
   ],
   "source": [
    "head(rps.dist)"
   ]
  },
  {
   "cell_type": "code",
   "execution_count": 6,
   "metadata": {},
   "outputs": [
    {
     "data": {
      "text/html": [
       "<table>\n",
       "<thead><tr><th></th><th scope=col>gene_name</th><th scope=col>gid</th><th scope=col>trx_len</th></tr></thead>\n",
       "<tbody>\n",
       "\t<tr><th scope=row>1328</th><td>ACLY             </td><td>ENST00000590151.1</td><td>4306             </td></tr>\n",
       "\t<tr><th scope=row>1329</th><td>ACLY             </td><td>ENST00000590151.1</td><td>4306             </td></tr>\n",
       "\t<tr><th scope=row>1330</th><td>ACLY             </td><td>ENST00000590151.1</td><td>4306             </td></tr>\n",
       "\t<tr><th scope=row>1331</th><td>ACLY             </td><td>ENST00000590151.1</td><td>4306             </td></tr>\n",
       "\t<tr><th scope=row>1332</th><td>ACLY             </td><td>ENST00000590151.1</td><td>4306             </td></tr>\n",
       "\t<tr><th scope=row>1333</th><td>ACLY             </td><td>ENST00000590151.1</td><td>4306             </td></tr>\n",
       "\t<tr><th scope=row>1334</th><td>ACLY             </td><td>ENST00000590151.1</td><td>4306             </td></tr>\n",
       "\t<tr><th scope=row>1335</th><td>ACLY             </td><td>ENST00000590151.1</td><td>4306             </td></tr>\n",
       "\t<tr><th scope=row>1336</th><td>ACLY             </td><td>ENST00000590151.1</td><td>4306             </td></tr>\n",
       "\t<tr><th scope=row>1337</th><td>ACLY             </td><td>ENST00000590151.1</td><td>4306             </td></tr>\n",
       "\t<tr><th scope=row>1338</th><td>ACLY             </td><td>ENST00000590151.1</td><td>4306             </td></tr>\n",
       "\t<tr><th scope=row>1339</th><td>ACLY             </td><td>ENST00000590151.1</td><td>4306             </td></tr>\n",
       "\t<tr><th scope=row>1340</th><td>ACLY             </td><td>ENST00000590151.1</td><td>4306             </td></tr>\n",
       "\t<tr><th scope=row>1341</th><td>ACLY             </td><td>ENST00000590151.1</td><td>4306             </td></tr>\n",
       "\t<tr><th scope=row>1342</th><td>ACLY             </td><td>ENST00000590151.1</td><td>4306             </td></tr>\n",
       "\t<tr><th scope=row>1343</th><td>ACLY             </td><td>ENST00000590151.1</td><td>4306             </td></tr>\n",
       "\t<tr><th scope=row>1344</th><td>ACLY             </td><td>ENST00000590151.1</td><td>4306             </td></tr>\n",
       "\t<tr><th scope=row>1345</th><td>ACLY             </td><td>ENST00000590151.1</td><td>4306             </td></tr>\n",
       "\t<tr><th scope=row>1346</th><td>ACLY             </td><td>ENST00000590151.1</td><td>4306             </td></tr>\n",
       "\t<tr><th scope=row>1347</th><td>ACLY             </td><td>ENST00000590151.1</td><td>4306             </td></tr>\n",
       "\t<tr><th scope=row>1348</th><td>ACLY             </td><td>ENST00000590151.1</td><td>4306             </td></tr>\n",
       "\t<tr><th scope=row>1349</th><td>ACLY             </td><td>ENST00000590151.1</td><td>4306             </td></tr>\n",
       "\t<tr><th scope=row>1350</th><td>ACLY             </td><td>ENST00000590151.1</td><td>4306             </td></tr>\n",
       "\t<tr><th scope=row>1351</th><td>ACLY             </td><td>ENST00000590151.1</td><td>4306             </td></tr>\n",
       "\t<tr><th scope=row>1352</th><td>ACLY             </td><td>ENST00000590151.1</td><td>4306             </td></tr>\n",
       "\t<tr><th scope=row>1353</th><td>ACLY             </td><td>ENST00000590151.1</td><td>4306             </td></tr>\n",
       "\t<tr><th scope=row>2082</th><td>ACTB             </td><td>ENST00000331789.5</td><td>1914             </td></tr>\n",
       "\t<tr><th scope=row>2083</th><td>ACTB             </td><td>ENST00000331789.5</td><td>1914             </td></tr>\n",
       "\t<tr><th scope=row>2084</th><td>ACTB             </td><td>ENST00000331789.5</td><td>1914             </td></tr>\n",
       "\t<tr><th scope=row>2085</th><td>ACTB             </td><td>ENST00000331789.5</td><td>1914             </td></tr>\n",
       "\t<tr><th scope=row>⋮</th><td>⋮</td><td>⋮</td><td>⋮</td></tr>\n",
       "\t<tr><th scope=row>2133</th><td>YWHAG            </td><td>ENST00000307630.3</td><td>3742             </td></tr>\n",
       "\t<tr><th scope=row>2134</th><td>YWHAG            </td><td>ENST00000307630.3</td><td>3742             </td></tr>\n",
       "\t<tr><th scope=row>2135</th><td>YWHAG            </td><td>ENST00000307630.3</td><td>3742             </td></tr>\n",
       "\t<tr><th scope=row>2136</th><td>YWHAG            </td><td>ENST00000307630.3</td><td>3742             </td></tr>\n",
       "\t<tr><th scope=row>2137</th><td>YWHAG            </td><td>ENST00000307630.3</td><td>3742             </td></tr>\n",
       "\t<tr><th scope=row>2138</th><td>YWHAG            </td><td>ENST00000307630.3</td><td>3742             </td></tr>\n",
       "\t<tr><th scope=row>2139</th><td>YWHAG            </td><td>ENST00000307630.3</td><td>3742             </td></tr>\n",
       "\t<tr><th scope=row>2140</th><td>YWHAG            </td><td>ENST00000307630.3</td><td>3742             </td></tr>\n",
       "\t<tr><th scope=row>2141</th><td>YWHAG            </td><td>ENST00000307630.3</td><td>3742             </td></tr>\n",
       "\t<tr><th scope=row>2142</th><td>YWHAG            </td><td>ENST00000307630.3</td><td>3742             </td></tr>\n",
       "\t<tr><th scope=row>2143</th><td>YWHAG            </td><td>ENST00000307630.3</td><td>3742             </td></tr>\n",
       "\t<tr><th scope=row>2144</th><td>YWHAG            </td><td>ENST00000307630.3</td><td>3742             </td></tr>\n",
       "\t<tr><th scope=row>2145</th><td>YWHAG            </td><td>ENST00000307630.3</td><td>3742             </td></tr>\n",
       "\t<tr><th scope=row>2146</th><td>YWHAG            </td><td>ENST00000307630.3</td><td>3742             </td></tr>\n",
       "\t<tr><th scope=row>2147</th><td>YWHAG            </td><td>ENST00000307630.3</td><td>3742             </td></tr>\n",
       "\t<tr><th scope=row>2148</th><td>YWHAG            </td><td>ENST00000307630.3</td><td>3742             </td></tr>\n",
       "\t<tr><th scope=row>2149</th><td>YWHAG            </td><td>ENST00000307630.3</td><td>3742             </td></tr>\n",
       "\t<tr><th scope=row>2150</th><td>YWHAG            </td><td>ENST00000307630.3</td><td>3742             </td></tr>\n",
       "\t<tr><th scope=row>2151</th><td>YWHAG            </td><td>ENST00000307630.3</td><td>3742             </td></tr>\n",
       "\t<tr><th scope=row>2152</th><td>YWHAG            </td><td>ENST00000307630.3</td><td>3742             </td></tr>\n",
       "\t<tr><th scope=row>2153</th><td>YWHAG            </td><td>ENST00000307630.3</td><td>3742             </td></tr>\n",
       "\t<tr><th scope=row>699</th><td>ZNF503           </td><td>ENST00000372524.4</td><td>3344             </td></tr>\n",
       "\t<tr><th scope=row>2196</th><td>ZNF703           </td><td>ENST00000331569.4</td><td>3344             </td></tr>\n",
       "\t<tr><th scope=row>2197</th><td>ZNF703           </td><td>ENST00000331569.4</td><td>3344             </td></tr>\n",
       "\t<tr><th scope=row>2198</th><td>ZNF703           </td><td>ENST00000331569.4</td><td>3344             </td></tr>\n",
       "\t<tr><th scope=row>2199</th><td>ZNF703           </td><td>ENST00000331569.4</td><td>3344             </td></tr>\n",
       "\t<tr><th scope=row>2200</th><td>ZNF703           </td><td>ENST00000331569.4</td><td>3344             </td></tr>\n",
       "\t<tr><th scope=row>2201</th><td>ZNF703           </td><td>ENST00000331569.4</td><td>3344             </td></tr>\n",
       "\t<tr><th scope=row>2202</th><td>ZNF703           </td><td>ENST00000331569.4</td><td>3344             </td></tr>\n",
       "\t<tr><th scope=row>2203</th><td>ZNF703           </td><td>ENST00000331569.4</td><td>3344             </td></tr>\n",
       "</tbody>\n",
       "</table>\n"
      ],
      "text/latex": [
       "\\begin{tabular}{r|lll}\n",
       "  & gene\\_name & gid & trx\\_len\\\\\n",
       "\\hline\n",
       "\t1328 & ACLY              & ENST00000590151.1 & 4306             \\\\\n",
       "\t1329 & ACLY              & ENST00000590151.1 & 4306             \\\\\n",
       "\t1330 & ACLY              & ENST00000590151.1 & 4306             \\\\\n",
       "\t1331 & ACLY              & ENST00000590151.1 & 4306             \\\\\n",
       "\t1332 & ACLY              & ENST00000590151.1 & 4306             \\\\\n",
       "\t1333 & ACLY              & ENST00000590151.1 & 4306             \\\\\n",
       "\t1334 & ACLY              & ENST00000590151.1 & 4306             \\\\\n",
       "\t1335 & ACLY              & ENST00000590151.1 & 4306             \\\\\n",
       "\t1336 & ACLY              & ENST00000590151.1 & 4306             \\\\\n",
       "\t1337 & ACLY              & ENST00000590151.1 & 4306             \\\\\n",
       "\t1338 & ACLY              & ENST00000590151.1 & 4306             \\\\\n",
       "\t1339 & ACLY              & ENST00000590151.1 & 4306             \\\\\n",
       "\t1340 & ACLY              & ENST00000590151.1 & 4306             \\\\\n",
       "\t1341 & ACLY              & ENST00000590151.1 & 4306             \\\\\n",
       "\t1342 & ACLY              & ENST00000590151.1 & 4306             \\\\\n",
       "\t1343 & ACLY              & ENST00000590151.1 & 4306             \\\\\n",
       "\t1344 & ACLY              & ENST00000590151.1 & 4306             \\\\\n",
       "\t1345 & ACLY              & ENST00000590151.1 & 4306             \\\\\n",
       "\t1346 & ACLY              & ENST00000590151.1 & 4306             \\\\\n",
       "\t1347 & ACLY              & ENST00000590151.1 & 4306             \\\\\n",
       "\t1348 & ACLY              & ENST00000590151.1 & 4306             \\\\\n",
       "\t1349 & ACLY              & ENST00000590151.1 & 4306             \\\\\n",
       "\t1350 & ACLY              & ENST00000590151.1 & 4306             \\\\\n",
       "\t1351 & ACLY              & ENST00000590151.1 & 4306             \\\\\n",
       "\t1352 & ACLY              & ENST00000590151.1 & 4306             \\\\\n",
       "\t1353 & ACLY              & ENST00000590151.1 & 4306             \\\\\n",
       "\t2082 & ACTB              & ENST00000331789.5 & 1914             \\\\\n",
       "\t2083 & ACTB              & ENST00000331789.5 & 1914             \\\\\n",
       "\t2084 & ACTB              & ENST00000331789.5 & 1914             \\\\\n",
       "\t2085 & ACTB              & ENST00000331789.5 & 1914             \\\\\n",
       "\t⋮ & ⋮ & ⋮ & ⋮\\\\\n",
       "\t2133 & YWHAG             & ENST00000307630.3 & 3742             \\\\\n",
       "\t2134 & YWHAG             & ENST00000307630.3 & 3742             \\\\\n",
       "\t2135 & YWHAG             & ENST00000307630.3 & 3742             \\\\\n",
       "\t2136 & YWHAG             & ENST00000307630.3 & 3742             \\\\\n",
       "\t2137 & YWHAG             & ENST00000307630.3 & 3742             \\\\\n",
       "\t2138 & YWHAG             & ENST00000307630.3 & 3742             \\\\\n",
       "\t2139 & YWHAG             & ENST00000307630.3 & 3742             \\\\\n",
       "\t2140 & YWHAG             & ENST00000307630.3 & 3742             \\\\\n",
       "\t2141 & YWHAG             & ENST00000307630.3 & 3742             \\\\\n",
       "\t2142 & YWHAG             & ENST00000307630.3 & 3742             \\\\\n",
       "\t2143 & YWHAG             & ENST00000307630.3 & 3742             \\\\\n",
       "\t2144 & YWHAG             & ENST00000307630.3 & 3742             \\\\\n",
       "\t2145 & YWHAG             & ENST00000307630.3 & 3742             \\\\\n",
       "\t2146 & YWHAG             & ENST00000307630.3 & 3742             \\\\\n",
       "\t2147 & YWHAG             & ENST00000307630.3 & 3742             \\\\\n",
       "\t2148 & YWHAG             & ENST00000307630.3 & 3742             \\\\\n",
       "\t2149 & YWHAG             & ENST00000307630.3 & 3742             \\\\\n",
       "\t2150 & YWHAG             & ENST00000307630.3 & 3742             \\\\\n",
       "\t2151 & YWHAG             & ENST00000307630.3 & 3742             \\\\\n",
       "\t2152 & YWHAG             & ENST00000307630.3 & 3742             \\\\\n",
       "\t2153 & YWHAG             & ENST00000307630.3 & 3742             \\\\\n",
       "\t699 & ZNF503            & ENST00000372524.4 & 3344             \\\\\n",
       "\t2196 & ZNF703            & ENST00000331569.4 & 3344             \\\\\n",
       "\t2197 & ZNF703            & ENST00000331569.4 & 3344             \\\\\n",
       "\t2198 & ZNF703            & ENST00000331569.4 & 3344             \\\\\n",
       "\t2199 & ZNF703            & ENST00000331569.4 & 3344             \\\\\n",
       "\t2200 & ZNF703            & ENST00000331569.4 & 3344             \\\\\n",
       "\t2201 & ZNF703            & ENST00000331569.4 & 3344             \\\\\n",
       "\t2202 & ZNF703            & ENST00000331569.4 & 3344             \\\\\n",
       "\t2203 & ZNF703            & ENST00000331569.4 & 3344             \\\\\n",
       "\\end{tabular}\n"
      ],
      "text/markdown": [
       "\n",
       "| <!--/--> | gene_name | gid | trx_len | \n",
       "|---|---|---|---|---|---|---|---|---|---|---|---|---|---|---|---|---|---|---|---|---|---|---|---|---|---|---|---|---|---|---|---|---|---|---|---|---|---|---|---|---|---|---|---|---|---|---|---|---|---|---|---|---|---|---|---|---|---|---|---|---|\n",
       "| 1328 | ACLY              | ENST00000590151.1 | 4306              | \n",
       "| 1329 | ACLY              | ENST00000590151.1 | 4306              | \n",
       "| 1330 | ACLY              | ENST00000590151.1 | 4306              | \n",
       "| 1331 | ACLY              | ENST00000590151.1 | 4306              | \n",
       "| 1332 | ACLY              | ENST00000590151.1 | 4306              | \n",
       "| 1333 | ACLY              | ENST00000590151.1 | 4306              | \n",
       "| 1334 | ACLY              | ENST00000590151.1 | 4306              | \n",
       "| 1335 | ACLY              | ENST00000590151.1 | 4306              | \n",
       "| 1336 | ACLY              | ENST00000590151.1 | 4306              | \n",
       "| 1337 | ACLY              | ENST00000590151.1 | 4306              | \n",
       "| 1338 | ACLY              | ENST00000590151.1 | 4306              | \n",
       "| 1339 | ACLY              | ENST00000590151.1 | 4306              | \n",
       "| 1340 | ACLY              | ENST00000590151.1 | 4306              | \n",
       "| 1341 | ACLY              | ENST00000590151.1 | 4306              | \n",
       "| 1342 | ACLY              | ENST00000590151.1 | 4306              | \n",
       "| 1343 | ACLY              | ENST00000590151.1 | 4306              | \n",
       "| 1344 | ACLY              | ENST00000590151.1 | 4306              | \n",
       "| 1345 | ACLY              | ENST00000590151.1 | 4306              | \n",
       "| 1346 | ACLY              | ENST00000590151.1 | 4306              | \n",
       "| 1347 | ACLY              | ENST00000590151.1 | 4306              | \n",
       "| 1348 | ACLY              | ENST00000590151.1 | 4306              | \n",
       "| 1349 | ACLY              | ENST00000590151.1 | 4306              | \n",
       "| 1350 | ACLY              | ENST00000590151.1 | 4306              | \n",
       "| 1351 | ACLY              | ENST00000590151.1 | 4306              | \n",
       "| 1352 | ACLY              | ENST00000590151.1 | 4306              | \n",
       "| 1353 | ACLY              | ENST00000590151.1 | 4306              | \n",
       "| 2082 | ACTB              | ENST00000331789.5 | 1914              | \n",
       "| 2083 | ACTB              | ENST00000331789.5 | 1914              | \n",
       "| 2084 | ACTB              | ENST00000331789.5 | 1914              | \n",
       "| 2085 | ACTB              | ENST00000331789.5 | 1914              | \n",
       "| ⋮ | ⋮ | ⋮ | ⋮ | \n",
       "| 2133 | YWHAG             | ENST00000307630.3 | 3742              | \n",
       "| 2134 | YWHAG             | ENST00000307630.3 | 3742              | \n",
       "| 2135 | YWHAG             | ENST00000307630.3 | 3742              | \n",
       "| 2136 | YWHAG             | ENST00000307630.3 | 3742              | \n",
       "| 2137 | YWHAG             | ENST00000307630.3 | 3742              | \n",
       "| 2138 | YWHAG             | ENST00000307630.3 | 3742              | \n",
       "| 2139 | YWHAG             | ENST00000307630.3 | 3742              | \n",
       "| 2140 | YWHAG             | ENST00000307630.3 | 3742              | \n",
       "| 2141 | YWHAG             | ENST00000307630.3 | 3742              | \n",
       "| 2142 | YWHAG             | ENST00000307630.3 | 3742              | \n",
       "| 2143 | YWHAG             | ENST00000307630.3 | 3742              | \n",
       "| 2144 | YWHAG             | ENST00000307630.3 | 3742              | \n",
       "| 2145 | YWHAG             | ENST00000307630.3 | 3742              | \n",
       "| 2146 | YWHAG             | ENST00000307630.3 | 3742              | \n",
       "| 2147 | YWHAG             | ENST00000307630.3 | 3742              | \n",
       "| 2148 | YWHAG             | ENST00000307630.3 | 3742              | \n",
       "| 2149 | YWHAG             | ENST00000307630.3 | 3742              | \n",
       "| 2150 | YWHAG             | ENST00000307630.3 | 3742              | \n",
       "| 2151 | YWHAG             | ENST00000307630.3 | 3742              | \n",
       "| 2152 | YWHAG             | ENST00000307630.3 | 3742              | \n",
       "| 2153 | YWHAG             | ENST00000307630.3 | 3742              | \n",
       "| 699 | ZNF503            | ENST00000372524.4 | 3344              | \n",
       "| 2196 | ZNF703            | ENST00000331569.4 | 3344              | \n",
       "| 2197 | ZNF703            | ENST00000331569.4 | 3344              | \n",
       "| 2198 | ZNF703            | ENST00000331569.4 | 3344              | \n",
       "| 2199 | ZNF703            | ENST00000331569.4 | 3344              | \n",
       "| 2200 | ZNF703            | ENST00000331569.4 | 3344              | \n",
       "| 2201 | ZNF703            | ENST00000331569.4 | 3344              | \n",
       "| 2202 | ZNF703            | ENST00000331569.4 | 3344              | \n",
       "| 2203 | ZNF703            | ENST00000331569.4 | 3344              | \n",
       "\n",
       "\n"
      ],
      "text/plain": [
       "     gene_name gid               trx_len\n",
       "1328 ACLY      ENST00000590151.1 4306   \n",
       "1329 ACLY      ENST00000590151.1 4306   \n",
       "1330 ACLY      ENST00000590151.1 4306   \n",
       "1331 ACLY      ENST00000590151.1 4306   \n",
       "1332 ACLY      ENST00000590151.1 4306   \n",
       "1333 ACLY      ENST00000590151.1 4306   \n",
       "1334 ACLY      ENST00000590151.1 4306   \n",
       "1335 ACLY      ENST00000590151.1 4306   \n",
       "1336 ACLY      ENST00000590151.1 4306   \n",
       "1337 ACLY      ENST00000590151.1 4306   \n",
       "1338 ACLY      ENST00000590151.1 4306   \n",
       "1339 ACLY      ENST00000590151.1 4306   \n",
       "1340 ACLY      ENST00000590151.1 4306   \n",
       "1341 ACLY      ENST00000590151.1 4306   \n",
       "1342 ACLY      ENST00000590151.1 4306   \n",
       "1343 ACLY      ENST00000590151.1 4306   \n",
       "1344 ACLY      ENST00000590151.1 4306   \n",
       "1345 ACLY      ENST00000590151.1 4306   \n",
       "1346 ACLY      ENST00000590151.1 4306   \n",
       "1347 ACLY      ENST00000590151.1 4306   \n",
       "1348 ACLY      ENST00000590151.1 4306   \n",
       "1349 ACLY      ENST00000590151.1 4306   \n",
       "1350 ACLY      ENST00000590151.1 4306   \n",
       "1351 ACLY      ENST00000590151.1 4306   \n",
       "1352 ACLY      ENST00000590151.1 4306   \n",
       "1353 ACLY      ENST00000590151.1 4306   \n",
       "2082 ACTB      ENST00000331789.5 1914   \n",
       "2083 ACTB      ENST00000331789.5 1914   \n",
       "2084 ACTB      ENST00000331789.5 1914   \n",
       "2085 ACTB      ENST00000331789.5 1914   \n",
       "⋮    ⋮         ⋮                 ⋮      \n",
       "2133 YWHAG     ENST00000307630.3 3742   \n",
       "2134 YWHAG     ENST00000307630.3 3742   \n",
       "2135 YWHAG     ENST00000307630.3 3742   \n",
       "2136 YWHAG     ENST00000307630.3 3742   \n",
       "2137 YWHAG     ENST00000307630.3 3742   \n",
       "2138 YWHAG     ENST00000307630.3 3742   \n",
       "2139 YWHAG     ENST00000307630.3 3742   \n",
       "2140 YWHAG     ENST00000307630.3 3742   \n",
       "2141 YWHAG     ENST00000307630.3 3742   \n",
       "2142 YWHAG     ENST00000307630.3 3742   \n",
       "2143 YWHAG     ENST00000307630.3 3742   \n",
       "2144 YWHAG     ENST00000307630.3 3742   \n",
       "2145 YWHAG     ENST00000307630.3 3742   \n",
       "2146 YWHAG     ENST00000307630.3 3742   \n",
       "2147 YWHAG     ENST00000307630.3 3742   \n",
       "2148 YWHAG     ENST00000307630.3 3742   \n",
       "2149 YWHAG     ENST00000307630.3 3742   \n",
       "2150 YWHAG     ENST00000307630.3 3742   \n",
       "2151 YWHAG     ENST00000307630.3 3742   \n",
       "2152 YWHAG     ENST00000307630.3 3742   \n",
       "2153 YWHAG     ENST00000307630.3 3742   \n",
       "699  ZNF503    ENST00000372524.4 3344   \n",
       "2196 ZNF703    ENST00000331569.4 3344   \n",
       "2197 ZNF703    ENST00000331569.4 3344   \n",
       "2198 ZNF703    ENST00000331569.4 3344   \n",
       "2199 ZNF703    ENST00000331569.4 3344   \n",
       "2200 ZNF703    ENST00000331569.4 3344   \n",
       "2201 ZNF703    ENST00000331569.4 3344   \n",
       "2202 ZNF703    ENST00000331569.4 3344   \n",
       "2203 ZNF703    ENST00000331569.4 3344   "
      ]
     },
     "metadata": {},
     "output_type": "display_data"
    },
    {
     "data": {
      "text/html": [
       "<table>\n",
       "<thead><tr><th></th><th scope=col>gene_name</th><th scope=col>gid</th><th scope=col>trx_len</th></tr></thead>\n",
       "<tbody>\n",
       "\t<tr><th scope=row>1328</th><td>ACLY             </td><td>ENST00000590151.1</td><td> 4306            </td></tr>\n",
       "\t<tr><th scope=row>2082</th><td>ACTB             </td><td>ENST00000331789.5</td><td> 1914            </td></tr>\n",
       "\t<tr><th scope=row>1389</th><td>ACTG1            </td><td>ENST00000331925.2</td><td> 1991            </td></tr>\n",
       "\t<tr><th scope=row>1405</th><td>ALYREF           </td><td>ENST00000505490.2</td><td> 1085            </td></tr>\n",
       "\t<tr><th scope=row>185</th><td>ATP1A1           </td><td>ENST00000295598.5</td><td> 3651            </td></tr>\n",
       "\t<tr><th scope=row>942</th><td>ATP5B            </td><td>ENST00000262030.3</td><td> 1786            </td></tr>\n",
       "\t<tr><th scope=row>883</th><td>B3GNT1           </td><td>ENST00000311181.4</td><td> 2069            </td></tr>\n",
       "\t<tr><th scope=row>1264</th><td>C1QBP            </td><td>ENST00000225698.4</td><td> 1166            </td></tr>\n",
       "\t<tr><th scope=row>1502</th><td>CALR             </td><td>ENST00000316448.5</td><td> 1900            </td></tr>\n",
       "\t<tr><th scope=row>1620</th><td>CCT4             </td><td>ENST00000394440.3</td><td> 2517            </td></tr>\n",
       "\t<tr><th scope=row>1220</th><td>CDT1             </td><td>ENST00000301019.4</td><td> 3237            </td></tr>\n",
       "\t<tr><th scope=row>414</th><td>CENPF            </td><td>ENST00000366955.3</td><td>10304            </td></tr>\n",
       "\t<tr><th scope=row>2106</th><td>CHCHD2           </td><td>ENST00000395422.3</td><td>  898            </td></tr>\n",
       "\t<tr><th scope=row>1175</th><td>CKB              </td><td>ENST00000348956.2</td><td> 1706            </td></tr>\n",
       "\t<tr><th scope=row>2383</th><td>CKS2             </td><td>ENST00000314355.6</td><td>  610            </td></tr>\n",
       "\t<tr><th scope=row>207</th><td>COPA             </td><td>ENST00000368069.3</td><td> 4661            </td></tr>\n",
       "\t<tr><th scope=row>1661</th><td>COX5B            </td><td>ENST00000258424.2</td><td>  709            </td></tr>\n",
       "\t<tr><th scope=row>877</th><td>COX8A            </td><td>ENST00000314133.3</td><td>  504            </td></tr>\n",
       "\t<tr><th scope=row>1728</th><td>CSE1L            </td><td>ENST00000262982.2</td><td> 3550            </td></tr>\n",
       "\t<tr><th scope=row>244</th><td>DARS2            </td><td>ENST00000361951.4</td><td> 3503            </td></tr>\n",
       "\t<tr><th scope=row>698</th><td>DDIT4            </td><td>ENST00000307365.3</td><td> 1745            </td></tr>\n",
       "\t<tr><th scope=row>257</th><td>DHX9             </td><td>ENST00000367549.3</td><td> 4237            </td></tr>\n",
       "\t<tr><th scope=row>1443</th><td>DSG2             </td><td>ENST00000261590.8</td><td> 5828            </td></tr>\n",
       "\t<tr><th scope=row>1134</th><td>DYNC1H1          </td><td>ENST00000360184.4</td><td>14330            </td></tr>\n",
       "\t<tr><th scope=row>852</th><td>ECHS1            </td><td>ENST00000368547.3</td><td> 1614            </td></tr>\n",
       "\t<tr><th scope=row>1485</th><td>EEF2             </td><td>ENST00000309311.6</td><td> 3161            </td></tr>\n",
       "\t<tr><th scope=row>812</th><td>EIF3A            </td><td>ENST00000541549.1</td><td> 4483            </td></tr>\n",
       "\t<tr><th scope=row>47</th><td>EIF3I            </td><td>ENST00000373586.1</td><td> 1455            </td></tr>\n",
       "\t<tr><th scope=row>1</th><td>ENO1             </td><td>ENST00000234590.4</td><td> 1780            </td></tr>\n",
       "\t<tr><th scope=row>415</th><td>EPRS             </td><td>ENST00000366923.3</td><td> 5011            </td></tr>\n",
       "\t<tr><th scope=row>⋮</th><td>⋮</td><td>⋮</td><td>⋮</td></tr>\n",
       "\t<tr><th scope=row>1715</th><td>SNRPB            </td><td>ENST00000381342.2</td><td> 1151            </td></tr>\n",
       "\t<tr><th scope=row>1758</th><td>SOD1             </td><td>ENST00000270142.6</td><td>  963            </td></tr>\n",
       "\t<tr><th scope=row>1905</th><td>SOX4             </td><td>ENST00000244745.1</td><td> 4873            </td></tr>\n",
       "\t<tr><th scope=row>858</th><td>SSRP1            </td><td>ENST00000278412.2</td><td> 2816            </td></tr>\n",
       "\t<tr><th scope=row>1117</th><td>SUPT16H          </td><td>ENST00000216297.2</td><td> 4681            </td></tr>\n",
       "\t<tr><th scope=row>2300</th><td>TLN1             </td><td>ENST00000314888.9</td><td> 8820            </td></tr>\n",
       "\t<tr><th scope=row>1084</th><td>TM9SF2           </td><td>ENST00000376387.4</td><td> 3427            </td></tr>\n",
       "\t<tr><th scope=row>522</th><td>TOMM20           </td><td>ENST00000366607.4</td><td> 3384            </td></tr>\n",
       "\t<tr><th scope=row>1318</th><td>TOP2A            </td><td>ENST00000423485.1</td><td> 5755            </td></tr>\n",
       "\t<tr><th scope=row>893</th><td>TPI1             </td><td>ENST00000396705.5</td><td> 1228            </td></tr>\n",
       "\t<tr><th scope=row>311</th><td>TPR              </td><td>ENST00000367478.4</td><td> 9705            </td></tr>\n",
       "\t<tr><th scope=row>1517</th><td>TRIM28           </td><td>ENST00000253024.5</td><td> 2957            </td></tr>\n",
       "\t<tr><th scope=row>2025</th><td>TSPYL1           </td><td>ENST00000368608.3</td><td> 3323            </td></tr>\n",
       "\t<tr><th scope=row>926</th><td>TUBA1A           </td><td>ENST00000295766.5</td><td> 1884            </td></tr>\n",
       "\t<tr><th scope=row>914</th><td>TUBA1B           </td><td>ENST00000336023.5</td><td> 1624            </td></tr>\n",
       "\t<tr><th scope=row>930</th><td>TUBA1C           </td><td>ENST00000301072.6</td><td> 1721            </td></tr>\n",
       "\t<tr><th scope=row>1909</th><td>TUBB             </td><td>ENST00000327892.8</td><td> 2667            </td></tr>\n",
       "\t<tr><th scope=row>1200</th><td>TUFM             </td><td>ENST00000313511.3</td><td> 2068            </td></tr>\n",
       "\t<tr><th scope=row>2384</th><td>TXN              </td><td>ENST00000374517.5</td><td>  866            </td></tr>\n",
       "\t<tr><th scope=row>2464</th><td>UBA1             </td><td>ENST00000377351.4</td><td> 3463            </td></tr>\n",
       "\t<tr><th scope=row>1284</th><td>UBB              </td><td>ENST00000302182.3</td><td> 1222            </td></tr>\n",
       "\t<tr><th scope=row>1048</th><td>UBC              </td><td>ENST00000339647.5</td><td> 2685            </td></tr>\n",
       "\t<tr><th scope=row>1518</th><td>UBE2M            </td><td>ENST00000253023.3</td><td> 1505            </td></tr>\n",
       "\t<tr><th scope=row>8</th><td>UBR4             </td><td>ENST00000375254.3</td><td>15903            </td></tr>\n",
       "\t<tr><th scope=row>1297</th><td>USP22            </td><td>ENST00000261497.4</td><td> 5213            </td></tr>\n",
       "\t<tr><th scope=row>963</th><td>XPOT             </td><td>ENST00000332707.5</td><td> 6411            </td></tr>\n",
       "\t<tr><th scope=row>1221</th><td>YWHAE            </td><td>ENST00000571732.1</td><td> 1815            </td></tr>\n",
       "\t<tr><th scope=row>2116</th><td>YWHAG            </td><td>ENST00000307630.3</td><td> 3742            </td></tr>\n",
       "\t<tr><th scope=row>699</th><td>ZNF503           </td><td>ENST00000372524.4</td><td> 3344            </td></tr>\n",
       "\t<tr><th scope=row>2196</th><td>ZNF703           </td><td>ENST00000331569.4</td><td> 3344            </td></tr>\n",
       "</tbody>\n",
       "</table>\n"
      ],
      "text/latex": [
       "\\begin{tabular}{r|lll}\n",
       "  & gene\\_name & gid & trx\\_len\\\\\n",
       "\\hline\n",
       "\t1328 & ACLY              & ENST00000590151.1 &  4306            \\\\\n",
       "\t2082 & ACTB              & ENST00000331789.5 &  1914            \\\\\n",
       "\t1389 & ACTG1             & ENST00000331925.2 &  1991            \\\\\n",
       "\t1405 & ALYREF            & ENST00000505490.2 &  1085            \\\\\n",
       "\t185 & ATP1A1            & ENST00000295598.5 &  3651            \\\\\n",
       "\t942 & ATP5B             & ENST00000262030.3 &  1786            \\\\\n",
       "\t883 & B3GNT1            & ENST00000311181.4 &  2069            \\\\\n",
       "\t1264 & C1QBP             & ENST00000225698.4 &  1166            \\\\\n",
       "\t1502 & CALR              & ENST00000316448.5 &  1900            \\\\\n",
       "\t1620 & CCT4              & ENST00000394440.3 &  2517            \\\\\n",
       "\t1220 & CDT1              & ENST00000301019.4 &  3237            \\\\\n",
       "\t414 & CENPF             & ENST00000366955.3 & 10304            \\\\\n",
       "\t2106 & CHCHD2            & ENST00000395422.3 &   898            \\\\\n",
       "\t1175 & CKB               & ENST00000348956.2 &  1706            \\\\\n",
       "\t2383 & CKS2              & ENST00000314355.6 &   610            \\\\\n",
       "\t207 & COPA              & ENST00000368069.3 &  4661            \\\\\n",
       "\t1661 & COX5B             & ENST00000258424.2 &   709            \\\\\n",
       "\t877 & COX8A             & ENST00000314133.3 &   504            \\\\\n",
       "\t1728 & CSE1L             & ENST00000262982.2 &  3550            \\\\\n",
       "\t244 & DARS2             & ENST00000361951.4 &  3503            \\\\\n",
       "\t698 & DDIT4             & ENST00000307365.3 &  1745            \\\\\n",
       "\t257 & DHX9              & ENST00000367549.3 &  4237            \\\\\n",
       "\t1443 & DSG2              & ENST00000261590.8 &  5828            \\\\\n",
       "\t1134 & DYNC1H1           & ENST00000360184.4 & 14330            \\\\\n",
       "\t852 & ECHS1             & ENST00000368547.3 &  1614            \\\\\n",
       "\t1485 & EEF2              & ENST00000309311.6 &  3161            \\\\\n",
       "\t812 & EIF3A             & ENST00000541549.1 &  4483            \\\\\n",
       "\t47 & EIF3I             & ENST00000373586.1 &  1455            \\\\\n",
       "\t1 & ENO1              & ENST00000234590.4 &  1780            \\\\\n",
       "\t415 & EPRS              & ENST00000366923.3 &  5011            \\\\\n",
       "\t⋮ & ⋮ & ⋮ & ⋮\\\\\n",
       "\t1715 & SNRPB             & ENST00000381342.2 &  1151            \\\\\n",
       "\t1758 & SOD1              & ENST00000270142.6 &   963            \\\\\n",
       "\t1905 & SOX4              & ENST00000244745.1 &  4873            \\\\\n",
       "\t858 & SSRP1             & ENST00000278412.2 &  2816            \\\\\n",
       "\t1117 & SUPT16H           & ENST00000216297.2 &  4681            \\\\\n",
       "\t2300 & TLN1              & ENST00000314888.9 &  8820            \\\\\n",
       "\t1084 & TM9SF2            & ENST00000376387.4 &  3427            \\\\\n",
       "\t522 & TOMM20            & ENST00000366607.4 &  3384            \\\\\n",
       "\t1318 & TOP2A             & ENST00000423485.1 &  5755            \\\\\n",
       "\t893 & TPI1              & ENST00000396705.5 &  1228            \\\\\n",
       "\t311 & TPR               & ENST00000367478.4 &  9705            \\\\\n",
       "\t1517 & TRIM28            & ENST00000253024.5 &  2957            \\\\\n",
       "\t2025 & TSPYL1            & ENST00000368608.3 &  3323            \\\\\n",
       "\t926 & TUBA1A            & ENST00000295766.5 &  1884            \\\\\n",
       "\t914 & TUBA1B            & ENST00000336023.5 &  1624            \\\\\n",
       "\t930 & TUBA1C            & ENST00000301072.6 &  1721            \\\\\n",
       "\t1909 & TUBB              & ENST00000327892.8 &  2667            \\\\\n",
       "\t1200 & TUFM              & ENST00000313511.3 &  2068            \\\\\n",
       "\t2384 & TXN               & ENST00000374517.5 &   866            \\\\\n",
       "\t2464 & UBA1              & ENST00000377351.4 &  3463            \\\\\n",
       "\t1284 & UBB               & ENST00000302182.3 &  1222            \\\\\n",
       "\t1048 & UBC               & ENST00000339647.5 &  2685            \\\\\n",
       "\t1518 & UBE2M             & ENST00000253023.3 &  1505            \\\\\n",
       "\t8 & UBR4              & ENST00000375254.3 & 15903            \\\\\n",
       "\t1297 & USP22             & ENST00000261497.4 &  5213            \\\\\n",
       "\t963 & XPOT              & ENST00000332707.5 &  6411            \\\\\n",
       "\t1221 & YWHAE             & ENST00000571732.1 &  1815            \\\\\n",
       "\t2116 & YWHAG             & ENST00000307630.3 &  3742            \\\\\n",
       "\t699 & ZNF503            & ENST00000372524.4 &  3344            \\\\\n",
       "\t2196 & ZNF703            & ENST00000331569.4 &  3344            \\\\\n",
       "\\end{tabular}\n"
      ],
      "text/markdown": [
       "\n",
       "| <!--/--> | gene_name | gid | trx_len | \n",
       "|---|---|---|---|---|---|---|---|---|---|---|---|---|---|---|---|---|---|---|---|---|---|---|---|---|---|---|---|---|---|---|---|---|---|---|---|---|---|---|---|---|---|---|---|---|---|---|---|---|---|---|---|---|---|---|---|---|---|---|---|---|\n",
       "| 1328 | ACLY              | ENST00000590151.1 |  4306             | \n",
       "| 2082 | ACTB              | ENST00000331789.5 |  1914             | \n",
       "| 1389 | ACTG1             | ENST00000331925.2 |  1991             | \n",
       "| 1405 | ALYREF            | ENST00000505490.2 |  1085             | \n",
       "| 185 | ATP1A1            | ENST00000295598.5 |  3651             | \n",
       "| 942 | ATP5B             | ENST00000262030.3 |  1786             | \n",
       "| 883 | B3GNT1            | ENST00000311181.4 |  2069             | \n",
       "| 1264 | C1QBP             | ENST00000225698.4 |  1166             | \n",
       "| 1502 | CALR              | ENST00000316448.5 |  1900             | \n",
       "| 1620 | CCT4              | ENST00000394440.3 |  2517             | \n",
       "| 1220 | CDT1              | ENST00000301019.4 |  3237             | \n",
       "| 414 | CENPF             | ENST00000366955.3 | 10304             | \n",
       "| 2106 | CHCHD2            | ENST00000395422.3 |   898             | \n",
       "| 1175 | CKB               | ENST00000348956.2 |  1706             | \n",
       "| 2383 | CKS2              | ENST00000314355.6 |   610             | \n",
       "| 207 | COPA              | ENST00000368069.3 |  4661             | \n",
       "| 1661 | COX5B             | ENST00000258424.2 |   709             | \n",
       "| 877 | COX8A             | ENST00000314133.3 |   504             | \n",
       "| 1728 | CSE1L             | ENST00000262982.2 |  3550             | \n",
       "| 244 | DARS2             | ENST00000361951.4 |  3503             | \n",
       "| 698 | DDIT4             | ENST00000307365.3 |  1745             | \n",
       "| 257 | DHX9              | ENST00000367549.3 |  4237             | \n",
       "| 1443 | DSG2              | ENST00000261590.8 |  5828             | \n",
       "| 1134 | DYNC1H1           | ENST00000360184.4 | 14330             | \n",
       "| 852 | ECHS1             | ENST00000368547.3 |  1614             | \n",
       "| 1485 | EEF2              | ENST00000309311.6 |  3161             | \n",
       "| 812 | EIF3A             | ENST00000541549.1 |  4483             | \n",
       "| 47 | EIF3I             | ENST00000373586.1 |  1455             | \n",
       "| 1 | ENO1              | ENST00000234590.4 |  1780             | \n",
       "| 415 | EPRS              | ENST00000366923.3 |  5011             | \n",
       "| ⋮ | ⋮ | ⋮ | ⋮ | \n",
       "| 1715 | SNRPB             | ENST00000381342.2 |  1151             | \n",
       "| 1758 | SOD1              | ENST00000270142.6 |   963             | \n",
       "| 1905 | SOX4              | ENST00000244745.1 |  4873             | \n",
       "| 858 | SSRP1             | ENST00000278412.2 |  2816             | \n",
       "| 1117 | SUPT16H           | ENST00000216297.2 |  4681             | \n",
       "| 2300 | TLN1              | ENST00000314888.9 |  8820             | \n",
       "| 1084 | TM9SF2            | ENST00000376387.4 |  3427             | \n",
       "| 522 | TOMM20            | ENST00000366607.4 |  3384             | \n",
       "| 1318 | TOP2A             | ENST00000423485.1 |  5755             | \n",
       "| 893 | TPI1              | ENST00000396705.5 |  1228             | \n",
       "| 311 | TPR               | ENST00000367478.4 |  9705             | \n",
       "| 1517 | TRIM28            | ENST00000253024.5 |  2957             | \n",
       "| 2025 | TSPYL1            | ENST00000368608.3 |  3323             | \n",
       "| 926 | TUBA1A            | ENST00000295766.5 |  1884             | \n",
       "| 914 | TUBA1B            | ENST00000336023.5 |  1624             | \n",
       "| 930 | TUBA1C            | ENST00000301072.6 |  1721             | \n",
       "| 1909 | TUBB              | ENST00000327892.8 |  2667             | \n",
       "| 1200 | TUFM              | ENST00000313511.3 |  2068             | \n",
       "| 2384 | TXN               | ENST00000374517.5 |   866             | \n",
       "| 2464 | UBA1              | ENST00000377351.4 |  3463             | \n",
       "| 1284 | UBB               | ENST00000302182.3 |  1222             | \n",
       "| 1048 | UBC               | ENST00000339647.5 |  2685             | \n",
       "| 1518 | UBE2M             | ENST00000253023.3 |  1505             | \n",
       "| 8 | UBR4              | ENST00000375254.3 | 15903             | \n",
       "| 1297 | USP22             | ENST00000261497.4 |  5213             | \n",
       "| 963 | XPOT              | ENST00000332707.5 |  6411             | \n",
       "| 1221 | YWHAE             | ENST00000571732.1 |  1815             | \n",
       "| 2116 | YWHAG             | ENST00000307630.3 |  3742             | \n",
       "| 699 | ZNF503            | ENST00000372524.4 |  3344             | \n",
       "| 2196 | ZNF703            | ENST00000331569.4 |  3344             | \n",
       "\n",
       "\n"
      ],
      "text/plain": [
       "     gene_name gid               trx_len\n",
       "1328 ACLY      ENST00000590151.1  4306  \n",
       "2082 ACTB      ENST00000331789.5  1914  \n",
       "1389 ACTG1     ENST00000331925.2  1991  \n",
       "1405 ALYREF    ENST00000505490.2  1085  \n",
       "185  ATP1A1    ENST00000295598.5  3651  \n",
       "942  ATP5B     ENST00000262030.3  1786  \n",
       "883  B3GNT1    ENST00000311181.4  2069  \n",
       "1264 C1QBP     ENST00000225698.4  1166  \n",
       "1502 CALR      ENST00000316448.5  1900  \n",
       "1620 CCT4      ENST00000394440.3  2517  \n",
       "1220 CDT1      ENST00000301019.4  3237  \n",
       "414  CENPF     ENST00000366955.3 10304  \n",
       "2106 CHCHD2    ENST00000395422.3   898  \n",
       "1175 CKB       ENST00000348956.2  1706  \n",
       "2383 CKS2      ENST00000314355.6   610  \n",
       "207  COPA      ENST00000368069.3  4661  \n",
       "1661 COX5B     ENST00000258424.2   709  \n",
       "877  COX8A     ENST00000314133.3   504  \n",
       "1728 CSE1L     ENST00000262982.2  3550  \n",
       "244  DARS2     ENST00000361951.4  3503  \n",
       "698  DDIT4     ENST00000307365.3  1745  \n",
       "257  DHX9      ENST00000367549.3  4237  \n",
       "1443 DSG2      ENST00000261590.8  5828  \n",
       "1134 DYNC1H1   ENST00000360184.4 14330  \n",
       "852  ECHS1     ENST00000368547.3  1614  \n",
       "1485 EEF2      ENST00000309311.6  3161  \n",
       "812  EIF3A     ENST00000541549.1  4483  \n",
       "47   EIF3I     ENST00000373586.1  1455  \n",
       "1    ENO1      ENST00000234590.4  1780  \n",
       "415  EPRS      ENST00000366923.3  5011  \n",
       "⋮    ⋮         ⋮                 ⋮      \n",
       "1715 SNRPB     ENST00000381342.2  1151  \n",
       "1758 SOD1      ENST00000270142.6   963  \n",
       "1905 SOX4      ENST00000244745.1  4873  \n",
       "858  SSRP1     ENST00000278412.2  2816  \n",
       "1117 SUPT16H   ENST00000216297.2  4681  \n",
       "2300 TLN1      ENST00000314888.9  8820  \n",
       "1084 TM9SF2    ENST00000376387.4  3427  \n",
       "522  TOMM20    ENST00000366607.4  3384  \n",
       "1318 TOP2A     ENST00000423485.1  5755  \n",
       "893  TPI1      ENST00000396705.5  1228  \n",
       "311  TPR       ENST00000367478.4  9705  \n",
       "1517 TRIM28    ENST00000253024.5  2957  \n",
       "2025 TSPYL1    ENST00000368608.3  3323  \n",
       "926  TUBA1A    ENST00000295766.5  1884  \n",
       "914  TUBA1B    ENST00000336023.5  1624  \n",
       "930  TUBA1C    ENST00000301072.6  1721  \n",
       "1909 TUBB      ENST00000327892.8  2667  \n",
       "1200 TUFM      ENST00000313511.3  2068  \n",
       "2384 TXN       ENST00000374517.5   866  \n",
       "2464 UBA1      ENST00000377351.4  3463  \n",
       "1284 UBB       ENST00000302182.3  1222  \n",
       "1048 UBC       ENST00000339647.5  2685  \n",
       "1518 UBE2M     ENST00000253023.3  1505  \n",
       "8    UBR4      ENST00000375254.3 15903  \n",
       "1297 USP22     ENST00000261497.4  5213  \n",
       "963  XPOT      ENST00000332707.5  6411  \n",
       "1221 YWHAE     ENST00000571732.1  1815  \n",
       "2116 YWHAG     ENST00000307630.3  3742  \n",
       "699  ZNF503    ENST00000372524.4  3344  \n",
       "2196 ZNF703    ENST00000331569.4  3344  "
      ]
     },
     "metadata": {},
     "output_type": "display_data"
    },
    {
     "data": {
      "text/html": [
       "<ol class=list-inline>\n",
       "\t<li>2641</li>\n",
       "\t<li>14</li>\n",
       "</ol>\n"
      ],
      "text/latex": [
       "\\begin{enumerate*}\n",
       "\\item 2641\n",
       "\\item 14\n",
       "\\end{enumerate*}\n"
      ],
      "text/markdown": [
       "1. 2641\n",
       "2. 14\n",
       "\n",
       "\n"
      ],
      "text/plain": [
       "[1] 2641   14"
      ]
     },
     "metadata": {},
     "output_type": "display_data"
    }
   ],
   "source": [
    "# Determine longest length transcript for each gene\n",
    "trx_len <- rps.dist$utr5_size + rps.dist$cds_size + rps.dist$utr3_size # Determine transcript length\n",
    "temp <- data.frame(rps.dist$gene_name, rps.dist$refseqID, trx_len)\n",
    "colnames(temp) <- c(\"gene_name\", \"gid\", \"trx_len\") \n",
    "temp <- temp[order(temp$gene_name, -temp$trx_len),]\n",
    "temp\n",
    "temp <- temp[!duplicated(temp$gene_name),]\n",
    "temp\n",
    "# limit m6a data to one transcript per gene (longest)\n",
    "rps.dist <- rps.dist[rps.dist$refseqID %in% temp$gid,]\n",
    "\n",
    "# View size of our dataset (rows, columns)\n",
    "dim(rps.dist)"
   ]
  },
  {
   "cell_type": "code",
   "execution_count": 7,
   "metadata": {},
   "outputs": [
    {
     "name": "stderr",
     "output_type": "stream",
     "text": [
      "`stat_bin()` using `bins = 30`. Pick better value with `binwidth`.\n"
     ]
    },
    {
     "data": {},
     "metadata": {},
     "output_type": "display_data"
    },
    {
     "data": {
      "image/png": "[encoded data removed]",
      "text/plain": [
       "plot without title"
      ]
     },
     "metadata": {},
     "output_type": "display_data"
    }
   ],
   "source": [
    "qplot(rps.dist$rel_location, geom=\"histogram\") + geom_vline(xintercept = 1:2, col = \"grey\") + theme_bw()"
   ]
  },
  {
   "cell_type": "code",
   "execution_count": 8,
   "metadata": {},
   "outputs": [
    {
     "data": {
      "text/plain": [
       " rps.dist.utr5_size rps.dist.cds_size rps.dist.utr3_size\n",
       " Min.   :   5       Min.   :  209     Min.   :  18      \n",
       " 1st Qu.:  98       1st Qu.:  743     1st Qu.: 575      \n",
       " Median : 187       Median : 1361     Median :1208      \n",
       " Mean   : 207       Mean   : 2043     Mean   :1709      \n",
       " 3rd Qu.: 296       3rd Qu.: 2888     3rd Qu.:2727      \n",
       " Max.   :1042       Max.   :15551     Max.   :8239      "
      ]
     },
     "metadata": {},
     "output_type": "display_data"
    }
   ],
   "source": [
    "summary(data.frame(rps.dist$utr5_size, rps.dist$cds_size, rps.dist$utr3_size))"
   ]
  },
  {
   "cell_type": "code",
   "execution_count": 9,
   "metadata": {},
   "outputs": [],
   "source": [
    "rps.utr5.SF <- median(rps.dist$utr5_size, na.rm = T)/median(rps.dist$cds_size, na.rm = T)\n",
    "rps.utr3.SF <- median(rps.dist$utr3_size, na.rm = T)/median(rps.dist$cds_size, na.rm = T)"
   ]
  },
  {
   "cell_type": "code",
   "execution_count": 10,
   "metadata": {},
   "outputs": [],
   "source": [
    "# assign the regions to new dataframes\n",
    "rps.utr5.dist <- rps.dist[rps.dist$rel_location < 1, ]\n",
    "rps.cds.dist <- rps.dist [rps.dist$rel_location < 2 & rps.dist$rel_location >= 1, ]\n",
    "rps.utr3.dist <- rps.dist[rps.dist$rel_location >= 2, ]"
   ]
  },
  {
   "cell_type": "code",
   "execution_count": 11,
   "metadata": {},
   "outputs": [],
   "source": [
    "rps.utr5.dist$rel_location <- rescale(rps.utr5.dist$rel_location, to = c(1-rps.utr5.SF, 1), from = c(0,1))\n",
    "rps.utr3.dist$rel_location <- rescale(rps.utr3.dist$rel_location, to = c(2, 2+rps.utr3.SF), from = c(2,3))"
   ]
  },
  {
   "cell_type": "code",
   "execution_count": 12,
   "metadata": {},
   "outputs": [],
   "source": [
    "# Combine and plot\n",
    "## Histogram\n",
    "rps.metagene.coord <- c(rps.utr5.dist$rel_location, rps.cds.dist$rel_location, rps.utr3.dist$rel_location)\n",
    "p <- qplot(rps.metagene.coord, geom=\"histogram\") + geom_vline(xintercept = 1:2, col = \"grey\") + theme_bw()"
   ]
  },
  {
   "cell_type": "code",
   "execution_count": 13,
   "metadata": {},
   "outputs": [
    {
     "name": "stderr",
     "output_type": "stream",
     "text": [
      "`stat_bin()` using `bins = 30`. Pick better value with `binwidth`.\n"
     ]
    },
    {
     "data": {},
     "metadata": {},
     "output_type": "display_data"
    },
    {
     "data": {
      "image/png": "[encoded data removed]",
      "text/plain": [
       "plot without title"
      ]
     },
     "metadata": {},
     "output_type": "display_data"
    }
   ],
   "source": [
    "qplot(rps.metagene.coord, geom=\"freqpoly\") + geom_vline(xintercept = 1:2, col = \"red\") + theme_bw()"
   ]
  },
  {
   "cell_type": "markdown",
   "metadata": {},
   "source": [
    "# Read in and plot Apo-1000"
   ]
  },
  {
   "cell_type": "code",
   "execution_count": 14,
   "metadata": {},
   "outputs": [
    {
     "data": {
      "text/html": [
       "<ol class=list-inline>\n",
       "\t<li>28</li>\n",
       "\t<li>14</li>\n",
       "</ol>\n"
      ],
      "text/latex": [
       "\\begin{enumerate*}\n",
       "\\item 28\n",
       "\\item 14\n",
       "\\end{enumerate*}\n"
      ],
      "text/markdown": [
       "1. 28\n",
       "2. 14\n",
       "\n",
       "\n"
      ],
      "text/plain": [
       "[1] 28 14"
      ]
     },
     "metadata": {},
     "output_type": "display_data"
    }
   ],
   "source": [
    "apo.dist <- read.delim (apobec_dist_measures, header = T)\n",
    "dim(apo.dist)"
   ]
  },
  {
   "cell_type": "code",
   "execution_count": 15,
   "metadata": {},
   "outputs": [
    {
     "data": {
      "text/html": [
       "<table>\n",
       "<thead><tr><th scope=col>chr</th><th scope=col>coord</th><th scope=col>gene_name</th><th scope=col>refseqID</th><th scope=col>rel_location</th><th scope=col>utr5_st</th><th scope=col>utr5_end</th><th scope=col>cds_st</th><th scope=col>cds_end</th><th scope=col>utr3_st</th><th scope=col>utr3_end</th><th scope=col>utr5_size</th><th scope=col>cds_size</th><th scope=col>utr3_size</th></tr></thead>\n",
       "<tbody>\n",
       "\t<tr><td>chr1             </td><td> 19401296        </td><td>UBR4             </td><td>ENST00000375254.3</td><td>2.0920245        </td><td>15609            </td><td>15582            </td><td>15581            </td><td>   30            </td><td>   29            </td><td> -296            </td><td> 27              </td><td>15551            </td><td> 325             </td></tr>\n",
       "\t<tr><td>chr1             </td><td>173827172        </td><td>DARS2            </td><td>ENST00000361951.4</td><td>2.3912010        </td><td> 2993            </td><td> 2267            </td><td> 2266            </td><td>  329            </td><td>  328            </td><td> -512            </td><td>726              </td><td> 1937            </td><td> 840             </td></tr>\n",
       "\t<tr><td>chr1             </td><td>182992635        </td><td>LAMC1            </td><td>ENST00000258341.4</td><td>0.1595331        </td><td>   40            </td><td> -216            </td><td> -217            </td><td>-5046            </td><td>-5047            </td><td>-7848            </td><td>256              </td><td> 4829            </td><td>2801             </td></tr>\n",
       "\t<tr><td>chr1             </td><td>226548588        </td><td>PARP1            </td><td>ENST00000366794.5</td><td>2.7451235        </td><td> 3761            </td><td> 3618            </td><td> 3617            </td><td>  573            </td><td>  572            </td><td> -196            </td><td>143              </td><td> 3044            </td><td> 768             </td></tr>\n",
       "\t<tr><td>chr1             </td><td>226548678        </td><td>PARP1            </td><td>ENST00000366794.5</td><td>2.6280884        </td><td> 3671            </td><td> 3528            </td><td> 3527            </td><td>  483            </td><td>  482            </td><td> -286            </td><td>143              </td><td> 3044            </td><td> 768             </td></tr>\n",
       "\t<tr><td>chr1             </td><td>226548911        </td><td>PARP1            </td><td>ENST00000366794.5</td><td>2.3250975        </td><td> 3438            </td><td> 3295            </td><td> 3294            </td><td>  250            </td><td>  249            </td><td> -519            </td><td>143              </td><td> 3044            </td><td> 768             </td></tr>\n",
       "</tbody>\n",
       "</table>\n"
      ],
      "text/latex": [
       "\\begin{tabular}{r|llllllllllllll}\n",
       " chr & coord & gene\\_name & refseqID & rel\\_location & utr5\\_st & utr5\\_end & cds\\_st & cds\\_end & utr3\\_st & utr3\\_end & utr5\\_size & cds\\_size & utr3\\_size\\\\\n",
       "\\hline\n",
       "\t chr1              &  19401296         & UBR4              & ENST00000375254.3 & 2.0920245         & 15609             & 15582             & 15581             &    30             &    29             &  -296             &  27               & 15551             &  325             \\\\\n",
       "\t chr1              & 173827172         & DARS2             & ENST00000361951.4 & 2.3912010         &  2993             &  2267             &  2266             &   329             &   328             &  -512             & 726               &  1937             &  840             \\\\\n",
       "\t chr1              & 182992635         & LAMC1             & ENST00000258341.4 & 0.1595331         &    40             &  -216             &  -217             & -5046             & -5047             & -7848             & 256               &  4829             & 2801             \\\\\n",
       "\t chr1              & 226548588         & PARP1             & ENST00000366794.5 & 2.7451235         &  3761             &  3618             &  3617             &   573             &   572             &  -196             & 143               &  3044             &  768             \\\\\n",
       "\t chr1              & 226548678         & PARP1             & ENST00000366794.5 & 2.6280884         &  3671             &  3528             &  3527             &   483             &   482             &  -286             & 143               &  3044             &  768             \\\\\n",
       "\t chr1              & 226548911         & PARP1             & ENST00000366794.5 & 2.3250975         &  3438             &  3295             &  3294             &   250             &   249             &  -519             & 143               &  3044             &  768             \\\\\n",
       "\\end{tabular}\n"
      ],
      "text/markdown": [
       "\n",
       "chr | coord | gene_name | refseqID | rel_location | utr5_st | utr5_end | cds_st | cds_end | utr3_st | utr3_end | utr5_size | cds_size | utr3_size | \n",
       "|---|---|---|---|---|---|\n",
       "| chr1              |  19401296         | UBR4              | ENST00000375254.3 | 2.0920245         | 15609             | 15582             | 15581             |    30             |    29             |  -296             |  27               | 15551             |  325              | \n",
       "| chr1              | 173827172         | DARS2             | ENST00000361951.4 | 2.3912010         |  2993             |  2267             |  2266             |   329             |   328             |  -512             | 726               |  1937             |  840              | \n",
       "| chr1              | 182992635         | LAMC1             | ENST00000258341.4 | 0.1595331         |    40             |  -216             |  -217             | -5046             | -5047             | -7848             | 256               |  4829             | 2801              | \n",
       "| chr1              | 226548588         | PARP1             | ENST00000366794.5 | 2.7451235         |  3761             |  3618             |  3617             |   573             |   572             |  -196             | 143               |  3044             |  768              | \n",
       "| chr1              | 226548678         | PARP1             | ENST00000366794.5 | 2.6280884         |  3671             |  3528             |  3527             |   483             |   482             |  -286             | 143               |  3044             |  768              | \n",
       "| chr1              | 226548911         | PARP1             | ENST00000366794.5 | 2.3250975         |  3438             |  3295             |  3294             |   250             |   249             |  -519             | 143               |  3044             |  768              | \n",
       "\n",
       "\n"
      ],
      "text/plain": [
       "  chr  coord     gene_name refseqID          rel_location utr5_st utr5_end\n",
       "1 chr1  19401296 UBR4      ENST00000375254.3 2.0920245    15609   15582   \n",
       "2 chr1 173827172 DARS2     ENST00000361951.4 2.3912010     2993    2267   \n",
       "3 chr1 182992635 LAMC1     ENST00000258341.4 0.1595331       40    -216   \n",
       "4 chr1 226548588 PARP1     ENST00000366794.5 2.7451235     3761    3618   \n",
       "5 chr1 226548678 PARP1     ENST00000366794.5 2.6280884     3671    3528   \n",
       "6 chr1 226548911 PARP1     ENST00000366794.5 2.3250975     3438    3295   \n",
       "  cds_st cds_end utr3_st utr3_end utr5_size cds_size utr3_size\n",
       "1 15581     30      29    -296     27       15551     325     \n",
       "2  2266    329     328    -512    726        1937     840     \n",
       "3  -217  -5046   -5047   -7848    256        4829    2801     \n",
       "4  3617    573     572    -196    143        3044     768     \n",
       "5  3527    483     482    -286    143        3044     768     \n",
       "6  3294    250     249    -519    143        3044     768     "
      ]
     },
     "metadata": {},
     "output_type": "display_data"
    }
   ],
   "source": [
    "head(apo.dist)"
   ]
  },
  {
   "cell_type": "code",
   "execution_count": 16,
   "metadata": {},
   "outputs": [
    {
     "data": {
      "text/html": [
       "<table>\n",
       "<thead><tr><th></th><th scope=col>gene_name</th><th scope=col>gid</th><th scope=col>trx_len</th></tr></thead>\n",
       "<tbody>\n",
       "\t<tr><th scope=row>19</th><td>ACLY             </td><td>ENST00000590151.1</td><td> 4306            </td></tr>\n",
       "\t<tr><th scope=row>21</th><td>ALYREF           </td><td>ENST00000505490.2</td><td> 1085            </td></tr>\n",
       "\t<tr><th scope=row>2</th><td>DARS2            </td><td>ENST00000361951.4</td><td> 3503            </td></tr>\n",
       "\t<tr><th scope=row>22</th><td>DSG2             </td><td>ENST00000261590.8</td><td> 5828            </td></tr>\n",
       "\t<tr><th scope=row>17</th><td>DYNC1H1          </td><td>ENST00000360184.4</td><td>14330            </td></tr>\n",
       "\t<tr><th scope=row>12</th><td>GCN1L1           </td><td>ENST00000300648.6</td><td> 8672            </td></tr>\n",
       "\t<tr><th scope=row>20</th><td>KPNB1            </td><td>ENST00000290158.4</td><td> 6136            </td></tr>\n",
       "\t<tr><th scope=row>3</th><td>LAMC1            </td><td>ENST00000258341.4</td><td> 7886            </td></tr>\n",
       "\t<tr><th scope=row>23</th><td>LRPPRC           </td><td>ENST00000260665.7</td><td> 6332            </td></tr>\n",
       "\t<tr><th scope=row>28</th><td>MCM4             </td><td>ENST00000523944.1</td><td> 4102            </td></tr>\n",
       "\t<tr><th scope=row>4</th><td>PARP1            </td><td>ENST00000366794.5</td><td> 3955            </td></tr>\n",
       "\t<tr><th scope=row>5</th><td>PARP1            </td><td>ENST00000366794.5</td><td> 3955            </td></tr>\n",
       "\t<tr><th scope=row>6</th><td>PARP1            </td><td>ENST00000366794.5</td><td> 3955            </td></tr>\n",
       "\t<tr><th scope=row>25</th><td>PDIA4            </td><td>ENST00000286091.4</td><td> 2900            </td></tr>\n",
       "\t<tr><th scope=row>9</th><td>PRDX3            </td><td>ENST00000298510.2</td><td> 1581            </td></tr>\n",
       "\t<tr><th scope=row>10</th><td>PRDX3            </td><td>ENST00000298510.2</td><td> 1581            </td></tr>\n",
       "\t<tr><th scope=row>26</th><td>PRKDC            </td><td>ENST00000338368.3</td><td>13410            </td></tr>\n",
       "\t<tr><th scope=row>27</th><td>PRKDC            </td><td>ENST00000338368.3</td><td>13410            </td></tr>\n",
       "\t<tr><th scope=row>15</th><td>SLC7A1           </td><td>ENST00000380752.5</td><td> 7344            </td></tr>\n",
       "\t<tr><th scope=row>16</th><td>SLC7A1           </td><td>ENST00000380752.5</td><td> 7344            </td></tr>\n",
       "\t<tr><th scope=row>7</th><td>TOMM20           </td><td>ENST00000366607.4</td><td> 3384            </td></tr>\n",
       "\t<tr><th scope=row>8</th><td>TOMM20           </td><td>ENST00000366607.4</td><td> 3384            </td></tr>\n",
       "\t<tr><th scope=row>18</th><td>TOP2A            </td><td>ENST00000423485.1</td><td> 5755            </td></tr>\n",
       "\t<tr><th scope=row>11</th><td>TUBA1B           </td><td>ENST00000336023.5</td><td> 1624            </td></tr>\n",
       "\t<tr><th scope=row>24</th><td>TUBB             </td><td>ENST00000327892.8</td><td> 2667            </td></tr>\n",
       "\t<tr><th scope=row>13</th><td>UBC              </td><td>ENST00000339647.5</td><td> 2685            </td></tr>\n",
       "\t<tr><th scope=row>14</th><td>UBC              </td><td>ENST00000339647.5</td><td> 2685            </td></tr>\n",
       "\t<tr><th scope=row>1</th><td>UBR4             </td><td>ENST00000375254.3</td><td>15903            </td></tr>\n",
       "</tbody>\n",
       "</table>\n"
      ],
      "text/latex": [
       "\\begin{tabular}{r|lll}\n",
       "  & gene\\_name & gid & trx\\_len\\\\\n",
       "\\hline\n",
       "\t19 & ACLY              & ENST00000590151.1 &  4306            \\\\\n",
       "\t21 & ALYREF            & ENST00000505490.2 &  1085            \\\\\n",
       "\t2 & DARS2             & ENST00000361951.4 &  3503            \\\\\n",
       "\t22 & DSG2              & ENST00000261590.8 &  5828            \\\\\n",
       "\t17 & DYNC1H1           & ENST00000360184.4 & 14330            \\\\\n",
       "\t12 & GCN1L1            & ENST00000300648.6 &  8672            \\\\\n",
       "\t20 & KPNB1             & ENST00000290158.4 &  6136            \\\\\n",
       "\t3 & LAMC1             & ENST00000258341.4 &  7886            \\\\\n",
       "\t23 & LRPPRC            & ENST00000260665.7 &  6332            \\\\\n",
       "\t28 & MCM4              & ENST00000523944.1 &  4102            \\\\\n",
       "\t4 & PARP1             & ENST00000366794.5 &  3955            \\\\\n",
       "\t5 & PARP1             & ENST00000366794.5 &  3955            \\\\\n",
       "\t6 & PARP1             & ENST00000366794.5 &  3955            \\\\\n",
       "\t25 & PDIA4             & ENST00000286091.4 &  2900            \\\\\n",
       "\t9 & PRDX3             & ENST00000298510.2 &  1581            \\\\\n",
       "\t10 & PRDX3             & ENST00000298510.2 &  1581            \\\\\n",
       "\t26 & PRKDC             & ENST00000338368.3 & 13410            \\\\\n",
       "\t27 & PRKDC             & ENST00000338368.3 & 13410            \\\\\n",
       "\t15 & SLC7A1            & ENST00000380752.5 &  7344            \\\\\n",
       "\t16 & SLC7A1            & ENST00000380752.5 &  7344            \\\\\n",
       "\t7 & TOMM20            & ENST00000366607.4 &  3384            \\\\\n",
       "\t8 & TOMM20            & ENST00000366607.4 &  3384            \\\\\n",
       "\t18 & TOP2A             & ENST00000423485.1 &  5755            \\\\\n",
       "\t11 & TUBA1B            & ENST00000336023.5 &  1624            \\\\\n",
       "\t24 & TUBB              & ENST00000327892.8 &  2667            \\\\\n",
       "\t13 & UBC               & ENST00000339647.5 &  2685            \\\\\n",
       "\t14 & UBC               & ENST00000339647.5 &  2685            \\\\\n",
       "\t1 & UBR4              & ENST00000375254.3 & 15903            \\\\\n",
       "\\end{tabular}\n"
      ],
      "text/markdown": [
       "\n",
       "| <!--/--> | gene_name | gid | trx_len | \n",
       "|---|---|---|---|---|---|---|---|---|---|---|---|---|---|---|---|---|---|---|---|---|---|---|---|---|---|---|---|\n",
       "| 19 | ACLY              | ENST00000590151.1 |  4306             | \n",
       "| 21 | ALYREF            | ENST00000505490.2 |  1085             | \n",
       "| 2 | DARS2             | ENST00000361951.4 |  3503             | \n",
       "| 22 | DSG2              | ENST00000261590.8 |  5828             | \n",
       "| 17 | DYNC1H1           | ENST00000360184.4 | 14330             | \n",
       "| 12 | GCN1L1            | ENST00000300648.6 |  8672             | \n",
       "| 20 | KPNB1             | ENST00000290158.4 |  6136             | \n",
       "| 3 | LAMC1             | ENST00000258341.4 |  7886             | \n",
       "| 23 | LRPPRC            | ENST00000260665.7 |  6332             | \n",
       "| 28 | MCM4              | ENST00000523944.1 |  4102             | \n",
       "| 4 | PARP1             | ENST00000366794.5 |  3955             | \n",
       "| 5 | PARP1             | ENST00000366794.5 |  3955             | \n",
       "| 6 | PARP1             | ENST00000366794.5 |  3955             | \n",
       "| 25 | PDIA4             | ENST00000286091.4 |  2900             | \n",
       "| 9 | PRDX3             | ENST00000298510.2 |  1581             | \n",
       "| 10 | PRDX3             | ENST00000298510.2 |  1581             | \n",
       "| 26 | PRKDC             | ENST00000338368.3 | 13410             | \n",
       "| 27 | PRKDC             | ENST00000338368.3 | 13410             | \n",
       "| 15 | SLC7A1            | ENST00000380752.5 |  7344             | \n",
       "| 16 | SLC7A1            | ENST00000380752.5 |  7344             | \n",
       "| 7 | TOMM20            | ENST00000366607.4 |  3384             | \n",
       "| 8 | TOMM20            | ENST00000366607.4 |  3384             | \n",
       "| 18 | TOP2A             | ENST00000423485.1 |  5755             | \n",
       "| 11 | TUBA1B            | ENST00000336023.5 |  1624             | \n",
       "| 24 | TUBB              | ENST00000327892.8 |  2667             | \n",
       "| 13 | UBC               | ENST00000339647.5 |  2685             | \n",
       "| 14 | UBC               | ENST00000339647.5 |  2685             | \n",
       "| 1 | UBR4              | ENST00000375254.3 | 15903             | \n",
       "\n",
       "\n"
      ],
      "text/plain": [
       "   gene_name gid               trx_len\n",
       "19 ACLY      ENST00000590151.1  4306  \n",
       "21 ALYREF    ENST00000505490.2  1085  \n",
       "2  DARS2     ENST00000361951.4  3503  \n",
       "22 DSG2      ENST00000261590.8  5828  \n",
       "17 DYNC1H1   ENST00000360184.4 14330  \n",
       "12 GCN1L1    ENST00000300648.6  8672  \n",
       "20 KPNB1     ENST00000290158.4  6136  \n",
       "3  LAMC1     ENST00000258341.4  7886  \n",
       "23 LRPPRC    ENST00000260665.7  6332  \n",
       "28 MCM4      ENST00000523944.1  4102  \n",
       "4  PARP1     ENST00000366794.5  3955  \n",
       "5  PARP1     ENST00000366794.5  3955  \n",
       "6  PARP1     ENST00000366794.5  3955  \n",
       "25 PDIA4     ENST00000286091.4  2900  \n",
       "9  PRDX3     ENST00000298510.2  1581  \n",
       "10 PRDX3     ENST00000298510.2  1581  \n",
       "26 PRKDC     ENST00000338368.3 13410  \n",
       "27 PRKDC     ENST00000338368.3 13410  \n",
       "15 SLC7A1    ENST00000380752.5  7344  \n",
       "16 SLC7A1    ENST00000380752.5  7344  \n",
       "7  TOMM20    ENST00000366607.4  3384  \n",
       "8  TOMM20    ENST00000366607.4  3384  \n",
       "18 TOP2A     ENST00000423485.1  5755  \n",
       "11 TUBA1B    ENST00000336023.5  1624  \n",
       "24 TUBB      ENST00000327892.8  2667  \n",
       "13 UBC       ENST00000339647.5  2685  \n",
       "14 UBC       ENST00000339647.5  2685  \n",
       "1  UBR4      ENST00000375254.3 15903  "
      ]
     },
     "metadata": {},
     "output_type": "display_data"
    },
    {
     "data": {
      "text/html": [
       "<table>\n",
       "<thead><tr><th></th><th scope=col>gene_name</th><th scope=col>gid</th><th scope=col>trx_len</th></tr></thead>\n",
       "<tbody>\n",
       "\t<tr><th scope=row>19</th><td>ACLY             </td><td>ENST00000590151.1</td><td> 4306            </td></tr>\n",
       "\t<tr><th scope=row>21</th><td>ALYREF           </td><td>ENST00000505490.2</td><td> 1085            </td></tr>\n",
       "\t<tr><th scope=row>2</th><td>DARS2            </td><td>ENST00000361951.4</td><td> 3503            </td></tr>\n",
       "\t<tr><th scope=row>22</th><td>DSG2             </td><td>ENST00000261590.8</td><td> 5828            </td></tr>\n",
       "\t<tr><th scope=row>17</th><td>DYNC1H1          </td><td>ENST00000360184.4</td><td>14330            </td></tr>\n",
       "\t<tr><th scope=row>12</th><td>GCN1L1           </td><td>ENST00000300648.6</td><td> 8672            </td></tr>\n",
       "\t<tr><th scope=row>20</th><td>KPNB1            </td><td>ENST00000290158.4</td><td> 6136            </td></tr>\n",
       "\t<tr><th scope=row>3</th><td>LAMC1            </td><td>ENST00000258341.4</td><td> 7886            </td></tr>\n",
       "\t<tr><th scope=row>23</th><td>LRPPRC           </td><td>ENST00000260665.7</td><td> 6332            </td></tr>\n",
       "\t<tr><th scope=row>28</th><td>MCM4             </td><td>ENST00000523944.1</td><td> 4102            </td></tr>\n",
       "\t<tr><th scope=row>4</th><td>PARP1            </td><td>ENST00000366794.5</td><td> 3955            </td></tr>\n",
       "\t<tr><th scope=row>25</th><td>PDIA4            </td><td>ENST00000286091.4</td><td> 2900            </td></tr>\n",
       "\t<tr><th scope=row>9</th><td>PRDX3            </td><td>ENST00000298510.2</td><td> 1581            </td></tr>\n",
       "\t<tr><th scope=row>26</th><td>PRKDC            </td><td>ENST00000338368.3</td><td>13410            </td></tr>\n",
       "\t<tr><th scope=row>15</th><td>SLC7A1           </td><td>ENST00000380752.5</td><td> 7344            </td></tr>\n",
       "\t<tr><th scope=row>7</th><td>TOMM20           </td><td>ENST00000366607.4</td><td> 3384            </td></tr>\n",
       "\t<tr><th scope=row>18</th><td>TOP2A            </td><td>ENST00000423485.1</td><td> 5755            </td></tr>\n",
       "\t<tr><th scope=row>11</th><td>TUBA1B           </td><td>ENST00000336023.5</td><td> 1624            </td></tr>\n",
       "\t<tr><th scope=row>24</th><td>TUBB             </td><td>ENST00000327892.8</td><td> 2667            </td></tr>\n",
       "\t<tr><th scope=row>13</th><td>UBC              </td><td>ENST00000339647.5</td><td> 2685            </td></tr>\n",
       "\t<tr><th scope=row>1</th><td>UBR4             </td><td>ENST00000375254.3</td><td>15903            </td></tr>\n",
       "</tbody>\n",
       "</table>\n"
      ],
      "text/latex": [
       "\\begin{tabular}{r|lll}\n",
       "  & gene\\_name & gid & trx\\_len\\\\\n",
       "\\hline\n",
       "\t19 & ACLY              & ENST00000590151.1 &  4306            \\\\\n",
       "\t21 & ALYREF            & ENST00000505490.2 &  1085            \\\\\n",
       "\t2 & DARS2             & ENST00000361951.4 &  3503            \\\\\n",
       "\t22 & DSG2              & ENST00000261590.8 &  5828            \\\\\n",
       "\t17 & DYNC1H1           & ENST00000360184.4 & 14330            \\\\\n",
       "\t12 & GCN1L1            & ENST00000300648.6 &  8672            \\\\\n",
       "\t20 & KPNB1             & ENST00000290158.4 &  6136            \\\\\n",
       "\t3 & LAMC1             & ENST00000258341.4 &  7886            \\\\\n",
       "\t23 & LRPPRC            & ENST00000260665.7 &  6332            \\\\\n",
       "\t28 & MCM4              & ENST00000523944.1 &  4102            \\\\\n",
       "\t4 & PARP1             & ENST00000366794.5 &  3955            \\\\\n",
       "\t25 & PDIA4             & ENST00000286091.4 &  2900            \\\\\n",
       "\t9 & PRDX3             & ENST00000298510.2 &  1581            \\\\\n",
       "\t26 & PRKDC             & ENST00000338368.3 & 13410            \\\\\n",
       "\t15 & SLC7A1            & ENST00000380752.5 &  7344            \\\\\n",
       "\t7 & TOMM20            & ENST00000366607.4 &  3384            \\\\\n",
       "\t18 & TOP2A             & ENST00000423485.1 &  5755            \\\\\n",
       "\t11 & TUBA1B            & ENST00000336023.5 &  1624            \\\\\n",
       "\t24 & TUBB              & ENST00000327892.8 &  2667            \\\\\n",
       "\t13 & UBC               & ENST00000339647.5 &  2685            \\\\\n",
       "\t1 & UBR4              & ENST00000375254.3 & 15903            \\\\\n",
       "\\end{tabular}\n"
      ],
      "text/markdown": [
       "\n",
       "| <!--/--> | gene_name | gid | trx_len | \n",
       "|---|---|---|---|---|---|---|---|---|---|---|---|---|---|---|---|---|---|---|---|---|\n",
       "| 19 | ACLY              | ENST00000590151.1 |  4306             | \n",
       "| 21 | ALYREF            | ENST00000505490.2 |  1085             | \n",
       "| 2 | DARS2             | ENST00000361951.4 |  3503             | \n",
       "| 22 | DSG2              | ENST00000261590.8 |  5828             | \n",
       "| 17 | DYNC1H1           | ENST00000360184.4 | 14330             | \n",
       "| 12 | GCN1L1            | ENST00000300648.6 |  8672             | \n",
       "| 20 | KPNB1             | ENST00000290158.4 |  6136             | \n",
       "| 3 | LAMC1             | ENST00000258341.4 |  7886             | \n",
       "| 23 | LRPPRC            | ENST00000260665.7 |  6332             | \n",
       "| 28 | MCM4              | ENST00000523944.1 |  4102             | \n",
       "| 4 | PARP1             | ENST00000366794.5 |  3955             | \n",
       "| 25 | PDIA4             | ENST00000286091.4 |  2900             | \n",
       "| 9 | PRDX3             | ENST00000298510.2 |  1581             | \n",
       "| 26 | PRKDC             | ENST00000338368.3 | 13410             | \n",
       "| 15 | SLC7A1            | ENST00000380752.5 |  7344             | \n",
       "| 7 | TOMM20            | ENST00000366607.4 |  3384             | \n",
       "| 18 | TOP2A             | ENST00000423485.1 |  5755             | \n",
       "| 11 | TUBA1B            | ENST00000336023.5 |  1624             | \n",
       "| 24 | TUBB              | ENST00000327892.8 |  2667             | \n",
       "| 13 | UBC               | ENST00000339647.5 |  2685             | \n",
       "| 1 | UBR4              | ENST00000375254.3 | 15903             | \n",
       "\n",
       "\n"
      ],
      "text/plain": [
       "   gene_name gid               trx_len\n",
       "19 ACLY      ENST00000590151.1  4306  \n",
       "21 ALYREF    ENST00000505490.2  1085  \n",
       "2  DARS2     ENST00000361951.4  3503  \n",
       "22 DSG2      ENST00000261590.8  5828  \n",
       "17 DYNC1H1   ENST00000360184.4 14330  \n",
       "12 GCN1L1    ENST00000300648.6  8672  \n",
       "20 KPNB1     ENST00000290158.4  6136  \n",
       "3  LAMC1     ENST00000258341.4  7886  \n",
       "23 LRPPRC    ENST00000260665.7  6332  \n",
       "28 MCM4      ENST00000523944.1  4102  \n",
       "4  PARP1     ENST00000366794.5  3955  \n",
       "25 PDIA4     ENST00000286091.4  2900  \n",
       "9  PRDX3     ENST00000298510.2  1581  \n",
       "26 PRKDC     ENST00000338368.3 13410  \n",
       "15 SLC7A1    ENST00000380752.5  7344  \n",
       "7  TOMM20    ENST00000366607.4  3384  \n",
       "18 TOP2A     ENST00000423485.1  5755  \n",
       "11 TUBA1B    ENST00000336023.5  1624  \n",
       "24 TUBB      ENST00000327892.8  2667  \n",
       "13 UBC       ENST00000339647.5  2685  \n",
       "1  UBR4      ENST00000375254.3 15903  "
      ]
     },
     "metadata": {},
     "output_type": "display_data"
    },
    {
     "data": {
      "text/html": [
       "<ol class=list-inline>\n",
       "\t<li>28</li>\n",
       "\t<li>14</li>\n",
       "</ol>\n"
      ],
      "text/latex": [
       "\\begin{enumerate*}\n",
       "\\item 28\n",
       "\\item 14\n",
       "\\end{enumerate*}\n"
      ],
      "text/markdown": [
       "1. 28\n",
       "2. 14\n",
       "\n",
       "\n"
      ],
      "text/plain": [
       "[1] 28 14"
      ]
     },
     "metadata": {},
     "output_type": "display_data"
    }
   ],
   "source": [
    "# Determine longest length transcript for each gene\n",
    "trx_len <- apo.dist$utr5_size + apo.dist$cds_size + apo.dist$utr3_size # Determine transcript length\n",
    "temp <- data.frame(apo.dist$gene_name, apo.dist$refseqID, trx_len)\n",
    "colnames(temp) <- c(\"gene_name\", \"gid\", \"trx_len\") \n",
    "temp <- temp[order(temp$gene_name, -temp$trx_len),]\n",
    "temp\n",
    "temp <- temp[!duplicated(temp$gene_name),]\n",
    "temp\n",
    "\n",
    "# limit m6a data to one transcript per gene (longest)\n",
    "apo.dist <- apo.dist[apo.dist$refseqID %in% temp$gid,]\n",
    "\n",
    "# View size of our dataset (rows, columns)\n",
    "dim(apo.dist)"
   ]
  },
  {
   "cell_type": "code",
   "execution_count": 17,
   "metadata": {},
   "outputs": [
    {
     "data": {
      "text/html": [
       "<table>\n",
       "<thead><tr><th scope=col>gene_name</th><th scope=col>gid</th><th scope=col>trx_len</th></tr></thead>\n",
       "<tbody>\n",
       "</tbody>\n",
       "</table>\n"
      ],
      "text/latex": [
       "\\begin{tabular}{r|lll}\n",
       " gene\\_name & gid & trx\\_len\\\\\n",
       "\\hline\n",
       "\\end{tabular}\n"
      ],
      "text/markdown": [
       "\n",
       "gene_name | gid | trx_len | \n",
       "||\n",
       "\n",
       "\n"
      ],
      "text/plain": [
       "     gene_name gid trx_len"
      ]
     },
     "metadata": {},
     "output_type": "display_data"
    }
   ],
   "source": [
    "x = temp[order(temp$gene_name, -temp$trx_len),]\n",
    "x[x$gene_name %in% 'HES4',]"
   ]
  },
  {
   "cell_type": "code",
   "execution_count": 18,
   "metadata": {},
   "outputs": [
    {
     "name": "stderr",
     "output_type": "stream",
     "text": [
      "`stat_bin()` using `bins = 30`. Pick better value with `binwidth`.\n"
     ]
    },
    {
     "data": {},
     "metadata": {},
     "output_type": "display_data"
    },
    {
     "data": {
      "image/png": "[encoded data removed]",
      "text/plain": [
       "plot without title"
      ]
     },
     "metadata": {},
     "output_type": "display_data"
    }
   ],
   "source": [
    "qplot(apo.dist$rel_location, geom=\"histogram\") + geom_vline(xintercept = 1:2, col = \"grey\") + theme_bw()"
   ]
  },
  {
   "cell_type": "code",
   "execution_count": 19,
   "metadata": {},
   "outputs": [
    {
     "data": {
      "text/plain": [
       " apo.dist.utr5_size apo.dist.cds_size apo.dist.utr3_size\n",
       " Min.   :  5.00     Min.   :  437     Min.   :  65.0    \n",
       " 1st Qu.: 56.75     1st Qu.: 1756     1st Qu.: 709.5    \n",
       " Median :150.50     Median : 2610     Median : 866.0    \n",
       " Mean   :208.96     Mean   : 4085     Mean   :1410.0    \n",
       " 3rd Qu.:268.25     3rd Qu.: 4287     3rd Qu.:2134.2    \n",
       " Max.   :726.00     Max.   :15551     Max.   :5069.0    "
      ]
     },
     "metadata": {},
     "output_type": "display_data"
    }
   ],
   "source": [
    "summary(data.frame(apo.dist$utr5_size, apo.dist$cds_size, apo.dist$utr3_size))"
   ]
  },
  {
   "cell_type": "code",
   "execution_count": 20,
   "metadata": {},
   "outputs": [],
   "source": [
    "apo.utr5.SF <- median(apo.dist$utr5_size, na.rm = T)/median(apo.dist$cds_size, na.rm = T)\n",
    "apo.utr3.SF <- median(apo.dist$utr3_size, na.rm = T)/median(apo.dist$cds_size, na.rm = T)\n",
    "\n",
    "# assign the regions to new dataframes\n",
    "apo.utr5.dist <- apo.dist[apo.dist$rel_location < 1, ]\n",
    "apo.cds.dist <- apo.dist [apo.dist$rel_location < 2 & apo.dist$rel_location >= 1, ]\n",
    "apo.utr3.dist <- apo.dist[apo.dist$rel_location >= 2, ]\n",
    "\n",
    "apo.utr5.dist$rel_location <- rescale(apo.utr5.dist$rel_location, to = c(1-apo.utr5.SF, 1), from = c(0,1))\n",
    "apo.utr3.dist$rel_location <- rescale(apo.utr3.dist$rel_location, to = c(2, 2+apo.utr3.SF), from = c(2,3))"
   ]
  },
  {
   "cell_type": "code",
   "execution_count": 21,
   "metadata": {},
   "outputs": [],
   "source": [
    "# Combine and plot\n",
    "## Histogram\n",
    "apo.metagene.coord <- c(apo.utr5.dist$rel_location, apo.cds.dist$rel_location, apo.utr3.dist$rel_location)\n",
    "p <- qplot(apo.metagene.coord, geom=\"histogram\") + geom_vline(xintercept = 1:2, col = \"grey\") + theme_bw()"
   ]
  },
  {
   "cell_type": "code",
   "execution_count": 22,
   "metadata": {},
   "outputs": [
    {
     "data": {},
     "metadata": {},
     "output_type": "display_data"
    },
    {
     "data": {
      "image/png": "[encoded data removed]",
      "text/plain": [
       "plot without title"
      ]
     },
     "metadata": {},
     "output_type": "display_data"
    }
   ],
   "source": [
    "# qplot(apo.metagene.coord, geom=\"freqpoly\") + geom_vline(xintercept = 1:2, col = \"red\") + theme_bw()\n",
    "qplot(apo.metagene.coord, geom=\"density\") + geom_vline(xintercept = 1:2, col = \"red\") + theme_bw()\n"
   ]
  },
  {
   "cell_type": "markdown",
   "metadata": {},
   "source": [
    "# Read in and plot RBFOX2-1000"
   ]
  },
  {
   "cell_type": "code",
   "execution_count": 23,
   "metadata": {},
   "outputs": [
    {
     "data": {
      "text/html": [
       "<ol class=list-inline>\n",
       "\t<li>2366</li>\n",
       "\t<li>14</li>\n",
       "</ol>\n"
      ],
      "text/latex": [
       "\\begin{enumerate*}\n",
       "\\item 2366\n",
       "\\item 14\n",
       "\\end{enumerate*}\n"
      ],
      "text/markdown": [
       "1. 2366\n",
       "2. 14\n",
       "\n",
       "\n"
      ],
      "text/plain": [
       "[1] 2366   14"
      ]
     },
     "metadata": {},
     "output_type": "display_data"
    }
   ],
   "source": [
    "rbfox2.dist <- read.delim (rbfox2_dist_measures, header = T)\n",
    "dim(rbfox2.dist)"
   ]
  },
  {
   "cell_type": "code",
   "execution_count": 24,
   "metadata": {},
   "outputs": [
    {
     "data": {
      "text/html": [
       "<table>\n",
       "<thead><tr><th scope=col>chr</th><th scope=col>coord</th><th scope=col>gene_name</th><th scope=col>refseqID</th><th scope=col>rel_location</th><th scope=col>utr5_st</th><th scope=col>utr5_end</th><th scope=col>cds_st</th><th scope=col>cds_end</th><th scope=col>utr3_st</th><th scope=col>utr3_end</th><th scope=col>utr5_size</th><th scope=col>cds_size</th><th scope=col>utr3_size</th></tr></thead>\n",
       "<tbody>\n",
       "\t<tr><td>chr1             </td><td>17734013         </td><td>RCC2             </td><td>ENST00000375436.4</td><td>2.675107         </td><td> 3329            </td><td> 3142            </td><td> 3141            </td><td>1573             </td><td>1572             </td><td> -757            </td><td>187              </td><td> 1568            </td><td>2329             </td></tr>\n",
       "\t<tr><td>chr1             </td><td>17734185         </td><td>RCC2             </td><td>ENST00000375436.4</td><td>2.601288         </td><td> 3157            </td><td> 2970            </td><td> 2969            </td><td>1401             </td><td>1400             </td><td> -929            </td><td>187              </td><td> 1568            </td><td>2329             </td></tr>\n",
       "\t<tr><td>chr1             </td><td>17734912         </td><td>RCC2             </td><td>ENST00000375436.4</td><td>2.289270         </td><td> 2430            </td><td> 2243            </td><td> 2242            </td><td> 674             </td><td> 673             </td><td>-1656            </td><td>187              </td><td> 1568            </td><td>2329             </td></tr>\n",
       "\t<tr><td>chr1             </td><td>17735244         </td><td>RCC2             </td><td>ENST00000375436.4</td><td>2.146781         </td><td> 2098            </td><td> 1911            </td><td> 1910            </td><td> 342             </td><td> 341             </td><td>-1988            </td><td>187              </td><td> 1568            </td><td>2329             </td></tr>\n",
       "\t<tr><td>chr1             </td><td>19401296         </td><td>UBR4             </td><td>ENST00000375254.3</td><td>2.092025         </td><td>15609            </td><td>15582            </td><td>15581            </td><td>  30             </td><td>  29             </td><td> -296            </td><td> 27              </td><td>15551            </td><td> 325             </td></tr>\n",
       "\t<tr><td>chr1             </td><td>28608149         </td><td>SESN2            </td><td>ENST00000253063.3</td><td>2.494967         </td><td> 2599            </td><td> 2279            </td><td> 2278            </td><td> 836             </td><td> 835             </td><td> -853            </td><td>320              </td><td> 1442            </td><td>1688             </td></tr>\n",
       "</tbody>\n",
       "</table>\n"
      ],
      "text/latex": [
       "\\begin{tabular}{r|llllllllllllll}\n",
       " chr & coord & gene\\_name & refseqID & rel\\_location & utr5\\_st & utr5\\_end & cds\\_st & cds\\_end & utr3\\_st & utr3\\_end & utr5\\_size & cds\\_size & utr3\\_size\\\\\n",
       "\\hline\n",
       "\t chr1              & 17734013          & RCC2              & ENST00000375436.4 & 2.675107          &  3329             &  3142             &  3141             & 1573              & 1572              &  -757             & 187               &  1568             & 2329             \\\\\n",
       "\t chr1              & 17734185          & RCC2              & ENST00000375436.4 & 2.601288          &  3157             &  2970             &  2969             & 1401              & 1400              &  -929             & 187               &  1568             & 2329             \\\\\n",
       "\t chr1              & 17734912          & RCC2              & ENST00000375436.4 & 2.289270          &  2430             &  2243             &  2242             &  674              &  673              & -1656             & 187               &  1568             & 2329             \\\\\n",
       "\t chr1              & 17735244          & RCC2              & ENST00000375436.4 & 2.146781          &  2098             &  1911             &  1910             &  342              &  341              & -1988             & 187               &  1568             & 2329             \\\\\n",
       "\t chr1              & 19401296          & UBR4              & ENST00000375254.3 & 2.092025          & 15609             & 15582             & 15581             &   30              &   29              &  -296             &  27               & 15551             &  325             \\\\\n",
       "\t chr1              & 28608149          & SESN2             & ENST00000253063.3 & 2.494967          &  2599             &  2279             &  2278             &  836              &  835              &  -853             & 320               &  1442             & 1688             \\\\\n",
       "\\end{tabular}\n"
      ],
      "text/markdown": [
       "\n",
       "chr | coord | gene_name | refseqID | rel_location | utr5_st | utr5_end | cds_st | cds_end | utr3_st | utr3_end | utr5_size | cds_size | utr3_size | \n",
       "|---|---|---|---|---|---|\n",
       "| chr1              | 17734013          | RCC2              | ENST00000375436.4 | 2.675107          |  3329             |  3142             |  3141             | 1573              | 1572              |  -757             | 187               |  1568             | 2329              | \n",
       "| chr1              | 17734185          | RCC2              | ENST00000375436.4 | 2.601288          |  3157             |  2970             |  2969             | 1401              | 1400              |  -929             | 187               |  1568             | 2329              | \n",
       "| chr1              | 17734912          | RCC2              | ENST00000375436.4 | 2.289270          |  2430             |  2243             |  2242             |  674              |  673              | -1656             | 187               |  1568             | 2329              | \n",
       "| chr1              | 17735244          | RCC2              | ENST00000375436.4 | 2.146781          |  2098             |  1911             |  1910             |  342              |  341              | -1988             | 187               |  1568             | 2329              | \n",
       "| chr1              | 19401296          | UBR4              | ENST00000375254.3 | 2.092025          | 15609             | 15582             | 15581             |   30              |   29              |  -296             |  27               | 15551             |  325              | \n",
       "| chr1              | 28608149          | SESN2             | ENST00000253063.3 | 2.494967          |  2599             |  2279             |  2278             |  836              |  835              |  -853             | 320               |  1442             | 1688              | \n",
       "\n",
       "\n"
      ],
      "text/plain": [
       "  chr  coord    gene_name refseqID          rel_location utr5_st utr5_end\n",
       "1 chr1 17734013 RCC2      ENST00000375436.4 2.675107      3329    3142   \n",
       "2 chr1 17734185 RCC2      ENST00000375436.4 2.601288      3157    2970   \n",
       "3 chr1 17734912 RCC2      ENST00000375436.4 2.289270      2430    2243   \n",
       "4 chr1 17735244 RCC2      ENST00000375436.4 2.146781      2098    1911   \n",
       "5 chr1 19401296 UBR4      ENST00000375254.3 2.092025     15609   15582   \n",
       "6 chr1 28608149 SESN2     ENST00000253063.3 2.494967      2599    2279   \n",
       "  cds_st cds_end utr3_st utr3_end utr5_size cds_size utr3_size\n",
       "1  3141  1573    1572     -757    187        1568    2329     \n",
       "2  2969  1401    1400     -929    187        1568    2329     \n",
       "3  2242   674     673    -1656    187        1568    2329     \n",
       "4  1910   342     341    -1988    187        1568    2329     \n",
       "5 15581    30      29     -296     27       15551     325     \n",
       "6  2278   836     835     -853    320        1442    1688     "
      ]
     },
     "metadata": {},
     "output_type": "display_data"
    }
   ],
   "source": [
    "head(rbfox2.dist)"
   ]
  },
  {
   "cell_type": "code",
   "execution_count": 25,
   "metadata": {},
   "outputs": [
    {
     "data": {
      "text/html": [
       "<table>\n",
       "<thead><tr><th></th><th scope=col>gene_name</th><th scope=col>gid</th><th scope=col>trx_len</th></tr></thead>\n",
       "<tbody>\n",
       "\t<tr><th scope=row>1215</th><td>ACLY             </td><td>ENST00000590151.1</td><td>4306             </td></tr>\n",
       "\t<tr><th scope=row>1216</th><td>ACLY             </td><td>ENST00000590151.1</td><td>4306             </td></tr>\n",
       "\t<tr><th scope=row>1217</th><td>ACLY             </td><td>ENST00000590151.1</td><td>4306             </td></tr>\n",
       "\t<tr><th scope=row>1218</th><td>ACLY             </td><td>ENST00000590151.1</td><td>4306             </td></tr>\n",
       "\t<tr><th scope=row>1219</th><td>ACLY             </td><td>ENST00000590151.1</td><td>4306             </td></tr>\n",
       "\t<tr><th scope=row>1220</th><td>ACLY             </td><td>ENST00000590151.1</td><td>4306             </td></tr>\n",
       "\t<tr><th scope=row>1221</th><td>ACLY             </td><td>ENST00000590151.1</td><td>4306             </td></tr>\n",
       "\t<tr><th scope=row>1222</th><td>ACLY             </td><td>ENST00000590151.1</td><td>4306             </td></tr>\n",
       "\t<tr><th scope=row>1223</th><td>ACLY             </td><td>ENST00000590151.1</td><td>4306             </td></tr>\n",
       "\t<tr><th scope=row>1224</th><td>ACLY             </td><td>ENST00000590151.1</td><td>4306             </td></tr>\n",
       "\t<tr><th scope=row>1225</th><td>ACLY             </td><td>ENST00000590151.1</td><td>4306             </td></tr>\n",
       "\t<tr><th scope=row>1226</th><td>ACLY             </td><td>ENST00000590151.1</td><td>4306             </td></tr>\n",
       "\t<tr><th scope=row>1227</th><td>ACLY             </td><td>ENST00000590151.1</td><td>4306             </td></tr>\n",
       "\t<tr><th scope=row>1228</th><td>ACLY             </td><td>ENST00000590151.1</td><td>4306             </td></tr>\n",
       "\t<tr><th scope=row>1229</th><td>ACLY             </td><td>ENST00000590151.1</td><td>4306             </td></tr>\n",
       "\t<tr><th scope=row>1230</th><td>ACLY             </td><td>ENST00000590151.1</td><td>4306             </td></tr>\n",
       "\t<tr><th scope=row>1231</th><td>ACLY             </td><td>ENST00000590151.1</td><td>4306             </td></tr>\n",
       "\t<tr><th scope=row>1232</th><td>ACLY             </td><td>ENST00000590151.1</td><td>4306             </td></tr>\n",
       "\t<tr><th scope=row>1233</th><td>ACLY             </td><td>ENST00000590151.1</td><td>4306             </td></tr>\n",
       "\t<tr><th scope=row>1234</th><td>ACLY             </td><td>ENST00000590151.1</td><td>4306             </td></tr>\n",
       "\t<tr><th scope=row>1235</th><td>ACLY             </td><td>ENST00000590151.1</td><td>4306             </td></tr>\n",
       "\t<tr><th scope=row>1236</th><td>ACLY             </td><td>ENST00000590151.1</td><td>4306             </td></tr>\n",
       "\t<tr><th scope=row>1237</th><td>ACLY             </td><td>ENST00000590151.1</td><td>4306             </td></tr>\n",
       "\t<tr><th scope=row>1238</th><td>ACLY             </td><td>ENST00000590151.1</td><td>4306             </td></tr>\n",
       "\t<tr><th scope=row>1239</th><td>ACLY             </td><td>ENST00000590151.1</td><td>4306             </td></tr>\n",
       "\t<tr><th scope=row>1240</th><td>ACLY             </td><td>ENST00000590151.1</td><td>4306             </td></tr>\n",
       "\t<tr><th scope=row>1241</th><td>ACLY             </td><td>ENST00000590151.1</td><td>4306             </td></tr>\n",
       "\t<tr><th scope=row>1242</th><td>ACLY             </td><td>ENST00000590151.1</td><td>4306             </td></tr>\n",
       "\t<tr><th scope=row>1243</th><td>ACLY             </td><td>ENST00000590151.1</td><td>4306             </td></tr>\n",
       "\t<tr><th scope=row>1811</th><td>ACTB             </td><td>ENST00000331789.5</td><td>1914             </td></tr>\n",
       "\t<tr><th scope=row>⋮</th><td>⋮</td><td>⋮</td><td>⋮</td></tr>\n",
       "\t<tr><th scope=row>1883</th><td>YWHAG            </td><td>ENST00000307630.3</td><td>3742             </td></tr>\n",
       "\t<tr><th scope=row>1884</th><td>YWHAG            </td><td>ENST00000307630.3</td><td>3742             </td></tr>\n",
       "\t<tr><th scope=row>1885</th><td>YWHAG            </td><td>ENST00000307630.3</td><td>3742             </td></tr>\n",
       "\t<tr><th scope=row>1886</th><td>YWHAG            </td><td>ENST00000307630.3</td><td>3742             </td></tr>\n",
       "\t<tr><th scope=row>1887</th><td>YWHAG            </td><td>ENST00000307630.3</td><td>3742             </td></tr>\n",
       "\t<tr><th scope=row>1888</th><td>YWHAG            </td><td>ENST00000307630.3</td><td>3742             </td></tr>\n",
       "\t<tr><th scope=row>1889</th><td>YWHAG            </td><td>ENST00000307630.3</td><td>3742             </td></tr>\n",
       "\t<tr><th scope=row>1890</th><td>YWHAG            </td><td>ENST00000307630.3</td><td>3742             </td></tr>\n",
       "\t<tr><th scope=row>1891</th><td>YWHAG            </td><td>ENST00000307630.3</td><td>3742             </td></tr>\n",
       "\t<tr><th scope=row>1892</th><td>YWHAG            </td><td>ENST00000307630.3</td><td>3742             </td></tr>\n",
       "\t<tr><th scope=row>1893</th><td>YWHAG            </td><td>ENST00000307630.3</td><td>3742             </td></tr>\n",
       "\t<tr><th scope=row>1894</th><td>YWHAG            </td><td>ENST00000307630.3</td><td>3742             </td></tr>\n",
       "\t<tr><th scope=row>1895</th><td>YWHAG            </td><td>ENST00000307630.3</td><td>3742             </td></tr>\n",
       "\t<tr><th scope=row>1896</th><td>YWHAG            </td><td>ENST00000307630.3</td><td>3742             </td></tr>\n",
       "\t<tr><th scope=row>1897</th><td>YWHAG            </td><td>ENST00000307630.3</td><td>3742             </td></tr>\n",
       "\t<tr><th scope=row>1898</th><td>YWHAG            </td><td>ENST00000307630.3</td><td>3742             </td></tr>\n",
       "\t<tr><th scope=row>1899</th><td>YWHAG            </td><td>ENST00000307630.3</td><td>3742             </td></tr>\n",
       "\t<tr><th scope=row>645</th><td>ZNF503           </td><td>ENST00000372524.4</td><td>3344             </td></tr>\n",
       "\t<tr><th scope=row>646</th><td>ZNF503           </td><td>ENST00000372524.4</td><td>3344             </td></tr>\n",
       "\t<tr><th scope=row>647</th><td>ZNF503           </td><td>ENST00000372524.4</td><td>3344             </td></tr>\n",
       "\t<tr><th scope=row>648</th><td>ZNF503           </td><td>ENST00000372524.4</td><td>3344             </td></tr>\n",
       "\t<tr><th scope=row>1928</th><td>ZNF703           </td><td>ENST00000331569.4</td><td>3344             </td></tr>\n",
       "\t<tr><th scope=row>1929</th><td>ZNF703           </td><td>ENST00000331569.4</td><td>3344             </td></tr>\n",
       "\t<tr><th scope=row>1930</th><td>ZNF703           </td><td>ENST00000331569.4</td><td>3344             </td></tr>\n",
       "\t<tr><th scope=row>1931</th><td>ZNF703           </td><td>ENST00000331569.4</td><td>3344             </td></tr>\n",
       "\t<tr><th scope=row>1932</th><td>ZNF703           </td><td>ENST00000331569.4</td><td>3344             </td></tr>\n",
       "\t<tr><th scope=row>1933</th><td>ZNF703           </td><td>ENST00000331569.4</td><td>3344             </td></tr>\n",
       "\t<tr><th scope=row>1934</th><td>ZNF703           </td><td>ENST00000331569.4</td><td>3344             </td></tr>\n",
       "\t<tr><th scope=row>1935</th><td>ZNF703           </td><td>ENST00000331569.4</td><td>3344             </td></tr>\n",
       "\t<tr><th scope=row>1936</th><td>ZNF703           </td><td>ENST00000331569.4</td><td>3344             </td></tr>\n",
       "</tbody>\n",
       "</table>\n"
      ],
      "text/latex": [
       "\\begin{tabular}{r|lll}\n",
       "  & gene\\_name & gid & trx\\_len\\\\\n",
       "\\hline\n",
       "\t1215 & ACLY              & ENST00000590151.1 & 4306             \\\\\n",
       "\t1216 & ACLY              & ENST00000590151.1 & 4306             \\\\\n",
       "\t1217 & ACLY              & ENST00000590151.1 & 4306             \\\\\n",
       "\t1218 & ACLY              & ENST00000590151.1 & 4306             \\\\\n",
       "\t1219 & ACLY              & ENST00000590151.1 & 4306             \\\\\n",
       "\t1220 & ACLY              & ENST00000590151.1 & 4306             \\\\\n",
       "\t1221 & ACLY              & ENST00000590151.1 & 4306             \\\\\n",
       "\t1222 & ACLY              & ENST00000590151.1 & 4306             \\\\\n",
       "\t1223 & ACLY              & ENST00000590151.1 & 4306             \\\\\n",
       "\t1224 & ACLY              & ENST00000590151.1 & 4306             \\\\\n",
       "\t1225 & ACLY              & ENST00000590151.1 & 4306             \\\\\n",
       "\t1226 & ACLY              & ENST00000590151.1 & 4306             \\\\\n",
       "\t1227 & ACLY              & ENST00000590151.1 & 4306             \\\\\n",
       "\t1228 & ACLY              & ENST00000590151.1 & 4306             \\\\\n",
       "\t1229 & ACLY              & ENST00000590151.1 & 4306             \\\\\n",
       "\t1230 & ACLY              & ENST00000590151.1 & 4306             \\\\\n",
       "\t1231 & ACLY              & ENST00000590151.1 & 4306             \\\\\n",
       "\t1232 & ACLY              & ENST00000590151.1 & 4306             \\\\\n",
       "\t1233 & ACLY              & ENST00000590151.1 & 4306             \\\\\n",
       "\t1234 & ACLY              & ENST00000590151.1 & 4306             \\\\\n",
       "\t1235 & ACLY              & ENST00000590151.1 & 4306             \\\\\n",
       "\t1236 & ACLY              & ENST00000590151.1 & 4306             \\\\\n",
       "\t1237 & ACLY              & ENST00000590151.1 & 4306             \\\\\n",
       "\t1238 & ACLY              & ENST00000590151.1 & 4306             \\\\\n",
       "\t1239 & ACLY              & ENST00000590151.1 & 4306             \\\\\n",
       "\t1240 & ACLY              & ENST00000590151.1 & 4306             \\\\\n",
       "\t1241 & ACLY              & ENST00000590151.1 & 4306             \\\\\n",
       "\t1242 & ACLY              & ENST00000590151.1 & 4306             \\\\\n",
       "\t1243 & ACLY              & ENST00000590151.1 & 4306             \\\\\n",
       "\t1811 & ACTB              & ENST00000331789.5 & 1914             \\\\\n",
       "\t⋮ & ⋮ & ⋮ & ⋮\\\\\n",
       "\t1883 & YWHAG             & ENST00000307630.3 & 3742             \\\\\n",
       "\t1884 & YWHAG             & ENST00000307630.3 & 3742             \\\\\n",
       "\t1885 & YWHAG             & ENST00000307630.3 & 3742             \\\\\n",
       "\t1886 & YWHAG             & ENST00000307630.3 & 3742             \\\\\n",
       "\t1887 & YWHAG             & ENST00000307630.3 & 3742             \\\\\n",
       "\t1888 & YWHAG             & ENST00000307630.3 & 3742             \\\\\n",
       "\t1889 & YWHAG             & ENST00000307630.3 & 3742             \\\\\n",
       "\t1890 & YWHAG             & ENST00000307630.3 & 3742             \\\\\n",
       "\t1891 & YWHAG             & ENST00000307630.3 & 3742             \\\\\n",
       "\t1892 & YWHAG             & ENST00000307630.3 & 3742             \\\\\n",
       "\t1893 & YWHAG             & ENST00000307630.3 & 3742             \\\\\n",
       "\t1894 & YWHAG             & ENST00000307630.3 & 3742             \\\\\n",
       "\t1895 & YWHAG             & ENST00000307630.3 & 3742             \\\\\n",
       "\t1896 & YWHAG             & ENST00000307630.3 & 3742             \\\\\n",
       "\t1897 & YWHAG             & ENST00000307630.3 & 3742             \\\\\n",
       "\t1898 & YWHAG             & ENST00000307630.3 & 3742             \\\\\n",
       "\t1899 & YWHAG             & ENST00000307630.3 & 3742             \\\\\n",
       "\t645 & ZNF503            & ENST00000372524.4 & 3344             \\\\\n",
       "\t646 & ZNF503            & ENST00000372524.4 & 3344             \\\\\n",
       "\t647 & ZNF503            & ENST00000372524.4 & 3344             \\\\\n",
       "\t648 & ZNF503            & ENST00000372524.4 & 3344             \\\\\n",
       "\t1928 & ZNF703            & ENST00000331569.4 & 3344             \\\\\n",
       "\t1929 & ZNF703            & ENST00000331569.4 & 3344             \\\\\n",
       "\t1930 & ZNF703            & ENST00000331569.4 & 3344             \\\\\n",
       "\t1931 & ZNF703            & ENST00000331569.4 & 3344             \\\\\n",
       "\t1932 & ZNF703            & ENST00000331569.4 & 3344             \\\\\n",
       "\t1933 & ZNF703            & ENST00000331569.4 & 3344             \\\\\n",
       "\t1934 & ZNF703            & ENST00000331569.4 & 3344             \\\\\n",
       "\t1935 & ZNF703            & ENST00000331569.4 & 3344             \\\\\n",
       "\t1936 & ZNF703            & ENST00000331569.4 & 3344             \\\\\n",
       "\\end{tabular}\n"
      ],
      "text/markdown": [
       "\n",
       "| <!--/--> | gene_name | gid | trx_len | \n",
       "|---|---|---|---|---|---|---|---|---|---|---|---|---|---|---|---|---|---|---|---|---|---|---|---|---|---|---|---|---|---|---|---|---|---|---|---|---|---|---|---|---|---|---|---|---|---|---|---|---|---|---|---|---|---|---|---|---|---|---|---|---|\n",
       "| 1215 | ACLY              | ENST00000590151.1 | 4306              | \n",
       "| 1216 | ACLY              | ENST00000590151.1 | 4306              | \n",
       "| 1217 | ACLY              | ENST00000590151.1 | 4306              | \n",
       "| 1218 | ACLY              | ENST00000590151.1 | 4306              | \n",
       "| 1219 | ACLY              | ENST00000590151.1 | 4306              | \n",
       "| 1220 | ACLY              | ENST00000590151.1 | 4306              | \n",
       "| 1221 | ACLY              | ENST00000590151.1 | 4306              | \n",
       "| 1222 | ACLY              | ENST00000590151.1 | 4306              | \n",
       "| 1223 | ACLY              | ENST00000590151.1 | 4306              | \n",
       "| 1224 | ACLY              | ENST00000590151.1 | 4306              | \n",
       "| 1225 | ACLY              | ENST00000590151.1 | 4306              | \n",
       "| 1226 | ACLY              | ENST00000590151.1 | 4306              | \n",
       "| 1227 | ACLY              | ENST00000590151.1 | 4306              | \n",
       "| 1228 | ACLY              | ENST00000590151.1 | 4306              | \n",
       "| 1229 | ACLY              | ENST00000590151.1 | 4306              | \n",
       "| 1230 | ACLY              | ENST00000590151.1 | 4306              | \n",
       "| 1231 | ACLY              | ENST00000590151.1 | 4306              | \n",
       "| 1232 | ACLY              | ENST00000590151.1 | 4306              | \n",
       "| 1233 | ACLY              | ENST00000590151.1 | 4306              | \n",
       "| 1234 | ACLY              | ENST00000590151.1 | 4306              | \n",
       "| 1235 | ACLY              | ENST00000590151.1 | 4306              | \n",
       "| 1236 | ACLY              | ENST00000590151.1 | 4306              | \n",
       "| 1237 | ACLY              | ENST00000590151.1 | 4306              | \n",
       "| 1238 | ACLY              | ENST00000590151.1 | 4306              | \n",
       "| 1239 | ACLY              | ENST00000590151.1 | 4306              | \n",
       "| 1240 | ACLY              | ENST00000590151.1 | 4306              | \n",
       "| 1241 | ACLY              | ENST00000590151.1 | 4306              | \n",
       "| 1242 | ACLY              | ENST00000590151.1 | 4306              | \n",
       "| 1243 | ACLY              | ENST00000590151.1 | 4306              | \n",
       "| 1811 | ACTB              | ENST00000331789.5 | 1914              | \n",
       "| ⋮ | ⋮ | ⋮ | ⋮ | \n",
       "| 1883 | YWHAG             | ENST00000307630.3 | 3742              | \n",
       "| 1884 | YWHAG             | ENST00000307630.3 | 3742              | \n",
       "| 1885 | YWHAG             | ENST00000307630.3 | 3742              | \n",
       "| 1886 | YWHAG             | ENST00000307630.3 | 3742              | \n",
       "| 1887 | YWHAG             | ENST00000307630.3 | 3742              | \n",
       "| 1888 | YWHAG             | ENST00000307630.3 | 3742              | \n",
       "| 1889 | YWHAG             | ENST00000307630.3 | 3742              | \n",
       "| 1890 | YWHAG             | ENST00000307630.3 | 3742              | \n",
       "| 1891 | YWHAG             | ENST00000307630.3 | 3742              | \n",
       "| 1892 | YWHAG             | ENST00000307630.3 | 3742              | \n",
       "| 1893 | YWHAG             | ENST00000307630.3 | 3742              | \n",
       "| 1894 | YWHAG             | ENST00000307630.3 | 3742              | \n",
       "| 1895 | YWHAG             | ENST00000307630.3 | 3742              | \n",
       "| 1896 | YWHAG             | ENST00000307630.3 | 3742              | \n",
       "| 1897 | YWHAG             | ENST00000307630.3 | 3742              | \n",
       "| 1898 | YWHAG             | ENST00000307630.3 | 3742              | \n",
       "| 1899 | YWHAG             | ENST00000307630.3 | 3742              | \n",
       "| 645 | ZNF503            | ENST00000372524.4 | 3344              | \n",
       "| 646 | ZNF503            | ENST00000372524.4 | 3344              | \n",
       "| 647 | ZNF503            | ENST00000372524.4 | 3344              | \n",
       "| 648 | ZNF503            | ENST00000372524.4 | 3344              | \n",
       "| 1928 | ZNF703            | ENST00000331569.4 | 3344              | \n",
       "| 1929 | ZNF703            | ENST00000331569.4 | 3344              | \n",
       "| 1930 | ZNF703            | ENST00000331569.4 | 3344              | \n",
       "| 1931 | ZNF703            | ENST00000331569.4 | 3344              | \n",
       "| 1932 | ZNF703            | ENST00000331569.4 | 3344              | \n",
       "| 1933 | ZNF703            | ENST00000331569.4 | 3344              | \n",
       "| 1934 | ZNF703            | ENST00000331569.4 | 3344              | \n",
       "| 1935 | ZNF703            | ENST00000331569.4 | 3344              | \n",
       "| 1936 | ZNF703            | ENST00000331569.4 | 3344              | \n",
       "\n",
       "\n"
      ],
      "text/plain": [
       "     gene_name gid               trx_len\n",
       "1215 ACLY      ENST00000590151.1 4306   \n",
       "1216 ACLY      ENST00000590151.1 4306   \n",
       "1217 ACLY      ENST00000590151.1 4306   \n",
       "1218 ACLY      ENST00000590151.1 4306   \n",
       "1219 ACLY      ENST00000590151.1 4306   \n",
       "1220 ACLY      ENST00000590151.1 4306   \n",
       "1221 ACLY      ENST00000590151.1 4306   \n",
       "1222 ACLY      ENST00000590151.1 4306   \n",
       "1223 ACLY      ENST00000590151.1 4306   \n",
       "1224 ACLY      ENST00000590151.1 4306   \n",
       "1225 ACLY      ENST00000590151.1 4306   \n",
       "1226 ACLY      ENST00000590151.1 4306   \n",
       "1227 ACLY      ENST00000590151.1 4306   \n",
       "1228 ACLY      ENST00000590151.1 4306   \n",
       "1229 ACLY      ENST00000590151.1 4306   \n",
       "1230 ACLY      ENST00000590151.1 4306   \n",
       "1231 ACLY      ENST00000590151.1 4306   \n",
       "1232 ACLY      ENST00000590151.1 4306   \n",
       "1233 ACLY      ENST00000590151.1 4306   \n",
       "1234 ACLY      ENST00000590151.1 4306   \n",
       "1235 ACLY      ENST00000590151.1 4306   \n",
       "1236 ACLY      ENST00000590151.1 4306   \n",
       "1237 ACLY      ENST00000590151.1 4306   \n",
       "1238 ACLY      ENST00000590151.1 4306   \n",
       "1239 ACLY      ENST00000590151.1 4306   \n",
       "1240 ACLY      ENST00000590151.1 4306   \n",
       "1241 ACLY      ENST00000590151.1 4306   \n",
       "1242 ACLY      ENST00000590151.1 4306   \n",
       "1243 ACLY      ENST00000590151.1 4306   \n",
       "1811 ACTB      ENST00000331789.5 1914   \n",
       "⋮    ⋮         ⋮                 ⋮      \n",
       "1883 YWHAG     ENST00000307630.3 3742   \n",
       "1884 YWHAG     ENST00000307630.3 3742   \n",
       "1885 YWHAG     ENST00000307630.3 3742   \n",
       "1886 YWHAG     ENST00000307630.3 3742   \n",
       "1887 YWHAG     ENST00000307630.3 3742   \n",
       "1888 YWHAG     ENST00000307630.3 3742   \n",
       "1889 YWHAG     ENST00000307630.3 3742   \n",
       "1890 YWHAG     ENST00000307630.3 3742   \n",
       "1891 YWHAG     ENST00000307630.3 3742   \n",
       "1892 YWHAG     ENST00000307630.3 3742   \n",
       "1893 YWHAG     ENST00000307630.3 3742   \n",
       "1894 YWHAG     ENST00000307630.3 3742   \n",
       "1895 YWHAG     ENST00000307630.3 3742   \n",
       "1896 YWHAG     ENST00000307630.3 3742   \n",
       "1897 YWHAG     ENST00000307630.3 3742   \n",
       "1898 YWHAG     ENST00000307630.3 3742   \n",
       "1899 YWHAG     ENST00000307630.3 3742   \n",
       "645  ZNF503    ENST00000372524.4 3344   \n",
       "646  ZNF503    ENST00000372524.4 3344   \n",
       "647  ZNF503    ENST00000372524.4 3344   \n",
       "648  ZNF503    ENST00000372524.4 3344   \n",
       "1928 ZNF703    ENST00000331569.4 3344   \n",
       "1929 ZNF703    ENST00000331569.4 3344   \n",
       "1930 ZNF703    ENST00000331569.4 3344   \n",
       "1931 ZNF703    ENST00000331569.4 3344   \n",
       "1932 ZNF703    ENST00000331569.4 3344   \n",
       "1933 ZNF703    ENST00000331569.4 3344   \n",
       "1934 ZNF703    ENST00000331569.4 3344   \n",
       "1935 ZNF703    ENST00000331569.4 3344   \n",
       "1936 ZNF703    ENST00000331569.4 3344   "
      ]
     },
     "metadata": {},
     "output_type": "display_data"
    },
    {
     "data": {
      "text/html": [
       "<table>\n",
       "<thead><tr><th></th><th scope=col>gene_name</th><th scope=col>gid</th><th scope=col>trx_len</th></tr></thead>\n",
       "<tbody>\n",
       "\t<tr><th scope=row>1215</th><td>ACLY             </td><td>ENST00000590151.1</td><td> 4306            </td></tr>\n",
       "\t<tr><th scope=row>1811</th><td>ACTB             </td><td>ENST00000331789.5</td><td> 1914            </td></tr>\n",
       "\t<tr><th scope=row>1245</th><td>ACTG1            </td><td>ENST00000331925.2</td><td> 1991            </td></tr>\n",
       "\t<tr><th scope=row>1260</th><td>ALYREF           </td><td>ENST00000505490.2</td><td> 1085            </td></tr>\n",
       "\t<tr><th scope=row>154</th><td>ATP1A1           </td><td>ENST00000295598.5</td><td> 3651            </td></tr>\n",
       "\t<tr><th scope=row>871</th><td>ATP5B            </td><td>ENST00000262030.3</td><td> 1786            </td></tr>\n",
       "\t<tr><th scope=row>829</th><td>B3GNT1           </td><td>ENST00000311181.4</td><td> 2069            </td></tr>\n",
       "\t<tr><th scope=row>1163</th><td>C1QBP            </td><td>ENST00000225698.4</td><td> 1166            </td></tr>\n",
       "\t<tr><th scope=row>1332</th><td>CALR             </td><td>ENST00000316448.5</td><td> 1900            </td></tr>\n",
       "\t<tr><th scope=row>1428</th><td>CCT4             </td><td>ENST00000394440.3</td><td> 2517            </td></tr>\n",
       "\t<tr><th scope=row>369</th><td>CENPF            </td><td>ENST00000366955.3</td><td>10304            </td></tr>\n",
       "\t<tr><th scope=row>1857</th><td>CHCHD2           </td><td>ENST00000395422.3</td><td>  898            </td></tr>\n",
       "\t<tr><th scope=row>1071</th><td>CKB              </td><td>ENST00000348956.2</td><td> 1706            </td></tr>\n",
       "\t<tr><th scope=row>2074</th><td>CKS2             </td><td>ENST00000314355.6</td><td>  610            </td></tr>\n",
       "\t<tr><th scope=row>203</th><td>COPA             </td><td>ENST00000368069.3</td><td> 4661            </td></tr>\n",
       "\t<tr><th scope=row>1487</th><td>CSE1L            </td><td>ENST00000262982.2</td><td> 3550            </td></tr>\n",
       "\t<tr><th scope=row>240</th><td>DARS2            </td><td>ENST00000361951.4</td><td> 3503            </td></tr>\n",
       "\t<tr><th scope=row>637</th><td>DDIT4            </td><td>ENST00000307365.3</td><td> 1745            </td></tr>\n",
       "\t<tr><th scope=row>247</th><td>DHX9             </td><td>ENST00000367549.3</td><td> 4237            </td></tr>\n",
       "\t<tr><th scope=row>1282</th><td>DSG2             </td><td>ENST00000261590.8</td><td> 5828            </td></tr>\n",
       "\t<tr><th scope=row>1008</th><td>DYNC1H1          </td><td>ENST00000360184.4</td><td>14330            </td></tr>\n",
       "\t<tr><th scope=row>748</th><td>EIF3A            </td><td>ENST00000541549.1</td><td> 4483            </td></tr>\n",
       "\t<tr><th scope=row>377</th><td>EPRS             </td><td>ENST00000366923.3</td><td> 5011            </td></tr>\n",
       "\t<tr><th scope=row>809</th><td>GANAB            </td><td>ENST00000346178.4</td><td> 3903            </td></tr>\n",
       "\t<tr><th scope=row>951</th><td>GCN1L1           </td><td>ENST00000300648.6</td><td> 8672            </td></tr>\n",
       "\t<tr><th scope=row>649</th><td>GHITM            </td><td>ENST00000372134.3</td><td> 2125            </td></tr>\n",
       "\t<tr><th scope=row>1682</th><td>GLO1             </td><td>ENST00000373365.4</td><td> 2009            </td></tr>\n",
       "\t<tr><th scope=row>1612</th><td>HNRNPA0          </td><td>ENST00000314940.4</td><td> 2962            </td></tr>\n",
       "\t<tr><th scope=row>1829</th><td>HNRNPA2B1        </td><td>ENST00000354667.4</td><td> 3661            </td></tr>\n",
       "\t<tr><th scope=row>2047</th><td>HNRNPK           </td><td>ENST00000376281.4</td><td> 2925            </td></tr>\n",
       "\t<tr><th scope=row>⋮</th><td>⋮</td><td>⋮</td><td>⋮</td></tr>\n",
       "\t<tr><th scope=row>1433</th><td>SNRNP200         </td><td>ENST00000323853.5</td><td> 7162            </td></tr>\n",
       "\t<tr><th scope=row>1479</th><td>SNRPB            </td><td>ENST00000381342.2</td><td> 1151            </td></tr>\n",
       "\t<tr><th scope=row>1498</th><td>SOD1             </td><td>ENST00000270142.6</td><td>  963            </td></tr>\n",
       "\t<tr><th scope=row>1634</th><td>SOX4             </td><td>ENST00000244745.1</td><td> 4873            </td></tr>\n",
       "\t<tr><th scope=row>808</th><td>SSRP1            </td><td>ENST00000278412.2</td><td> 2816            </td></tr>\n",
       "\t<tr><th scope=row>999</th><td>SUPT16H          </td><td>ENST00000216297.2</td><td> 4681            </td></tr>\n",
       "\t<tr><th scope=row>2002</th><td>TLN1             </td><td>ENST00000314888.9</td><td> 8820            </td></tr>\n",
       "\t<tr><th scope=row>966</th><td>TM9SF2           </td><td>ENST00000376387.4</td><td> 3427            </td></tr>\n",
       "\t<tr><th scope=row>439</th><td>TOMM20           </td><td>ENST00000366607.4</td><td> 3384            </td></tr>\n",
       "\t<tr><th scope=row>1203</th><td>TOP2A            </td><td>ENST00000423485.1</td><td> 5755            </td></tr>\n",
       "\t<tr><th scope=row>834</th><td>TPI1             </td><td>ENST00000396705.5</td><td> 1228            </td></tr>\n",
       "\t<tr><th scope=row>1727</th><td>TSPYL1           </td><td>ENST00000368608.3</td><td> 3323            </td></tr>\n",
       "\t<tr><th scope=row>863</th><td>TUBA1A           </td><td>ENST00000295766.5</td><td> 1884            </td></tr>\n",
       "\t<tr><th scope=row>849</th><td>TUBA1B           </td><td>ENST00000336023.5</td><td> 1624            </td></tr>\n",
       "\t<tr><th scope=row>866</th><td>TUBA1C           </td><td>ENST00000301072.6</td><td> 1721            </td></tr>\n",
       "\t<tr><th scope=row>1641</th><td>TUBB             </td><td>ENST00000327892.8</td><td> 2667            </td></tr>\n",
       "\t<tr><th scope=row>2088</th><td>TXN              </td><td>ENST00000374517.5</td><td>  866            </td></tr>\n",
       "\t<tr><th scope=row>1176</th><td>UBB              </td><td>ENST00000302182.3</td><td> 1222            </td></tr>\n",
       "\t<tr><th scope=row>952</th><td>UBC              </td><td>ENST00000339647.5</td><td> 2685            </td></tr>\n",
       "\t<tr><th scope=row>1347</th><td>UBE2M            </td><td>ENST00000253023.3</td><td> 1505            </td></tr>\n",
       "\t<tr><th scope=row>1346</th><td>UBE2S            </td><td>ENST00000264552.9</td><td> 1006            </td></tr>\n",
       "\t<tr><th scope=row>5</th><td>UBR4             </td><td>ENST00000375254.3</td><td>15903            </td></tr>\n",
       "\t<tr><th scope=row>1183</th><td>USP22            </td><td>ENST00000261497.4</td><td> 5213            </td></tr>\n",
       "\t<tr><th scope=row>2152</th><td>USP9X            </td><td>ENST00000378308.2</td><td> 8368            </td></tr>\n",
       "\t<tr><th scope=row>2001</th><td>VCP              </td><td>ENST00000358901.6</td><td> 4367            </td></tr>\n",
       "\t<tr><th scope=row>872</th><td>XPOT             </td><td>ENST00000332707.5</td><td> 6411            </td></tr>\n",
       "\t<tr><th scope=row>1099</th><td>YWHAE            </td><td>ENST00000571732.1</td><td> 1815            </td></tr>\n",
       "\t<tr><th scope=row>1859</th><td>YWHAG            </td><td>ENST00000307630.3</td><td> 3742            </td></tr>\n",
       "\t<tr><th scope=row>645</th><td>ZNF503           </td><td>ENST00000372524.4</td><td> 3344            </td></tr>\n",
       "\t<tr><th scope=row>1928</th><td>ZNF703           </td><td>ENST00000331569.4</td><td> 3344            </td></tr>\n",
       "</tbody>\n",
       "</table>\n"
      ],
      "text/latex": [
       "\\begin{tabular}{r|lll}\n",
       "  & gene\\_name & gid & trx\\_len\\\\\n",
       "\\hline\n",
       "\t1215 & ACLY              & ENST00000590151.1 &  4306            \\\\\n",
       "\t1811 & ACTB              & ENST00000331789.5 &  1914            \\\\\n",
       "\t1245 & ACTG1             & ENST00000331925.2 &  1991            \\\\\n",
       "\t1260 & ALYREF            & ENST00000505490.2 &  1085            \\\\\n",
       "\t154 & ATP1A1            & ENST00000295598.5 &  3651            \\\\\n",
       "\t871 & ATP5B             & ENST00000262030.3 &  1786            \\\\\n",
       "\t829 & B3GNT1            & ENST00000311181.4 &  2069            \\\\\n",
       "\t1163 & C1QBP             & ENST00000225698.4 &  1166            \\\\\n",
       "\t1332 & CALR              & ENST00000316448.5 &  1900            \\\\\n",
       "\t1428 & CCT4              & ENST00000394440.3 &  2517            \\\\\n",
       "\t369 & CENPF             & ENST00000366955.3 & 10304            \\\\\n",
       "\t1857 & CHCHD2            & ENST00000395422.3 &   898            \\\\\n",
       "\t1071 & CKB               & ENST00000348956.2 &  1706            \\\\\n",
       "\t2074 & CKS2              & ENST00000314355.6 &   610            \\\\\n",
       "\t203 & COPA              & ENST00000368069.3 &  4661            \\\\\n",
       "\t1487 & CSE1L             & ENST00000262982.2 &  3550            \\\\\n",
       "\t240 & DARS2             & ENST00000361951.4 &  3503            \\\\\n",
       "\t637 & DDIT4             & ENST00000307365.3 &  1745            \\\\\n",
       "\t247 & DHX9              & ENST00000367549.3 &  4237            \\\\\n",
       "\t1282 & DSG2              & ENST00000261590.8 &  5828            \\\\\n",
       "\t1008 & DYNC1H1           & ENST00000360184.4 & 14330            \\\\\n",
       "\t748 & EIF3A             & ENST00000541549.1 &  4483            \\\\\n",
       "\t377 & EPRS              & ENST00000366923.3 &  5011            \\\\\n",
       "\t809 & GANAB             & ENST00000346178.4 &  3903            \\\\\n",
       "\t951 & GCN1L1            & ENST00000300648.6 &  8672            \\\\\n",
       "\t649 & GHITM             & ENST00000372134.3 &  2125            \\\\\n",
       "\t1682 & GLO1              & ENST00000373365.4 &  2009            \\\\\n",
       "\t1612 & HNRNPA0           & ENST00000314940.4 &  2962            \\\\\n",
       "\t1829 & HNRNPA2B1         & ENST00000354667.4 &  3661            \\\\\n",
       "\t2047 & HNRNPK            & ENST00000376281.4 &  2925            \\\\\n",
       "\t⋮ & ⋮ & ⋮ & ⋮\\\\\n",
       "\t1433 & SNRNP200          & ENST00000323853.5 &  7162            \\\\\n",
       "\t1479 & SNRPB             & ENST00000381342.2 &  1151            \\\\\n",
       "\t1498 & SOD1              & ENST00000270142.6 &   963            \\\\\n",
       "\t1634 & SOX4              & ENST00000244745.1 &  4873            \\\\\n",
       "\t808 & SSRP1             & ENST00000278412.2 &  2816            \\\\\n",
       "\t999 & SUPT16H           & ENST00000216297.2 &  4681            \\\\\n",
       "\t2002 & TLN1              & ENST00000314888.9 &  8820            \\\\\n",
       "\t966 & TM9SF2            & ENST00000376387.4 &  3427            \\\\\n",
       "\t439 & TOMM20            & ENST00000366607.4 &  3384            \\\\\n",
       "\t1203 & TOP2A             & ENST00000423485.1 &  5755            \\\\\n",
       "\t834 & TPI1              & ENST00000396705.5 &  1228            \\\\\n",
       "\t1727 & TSPYL1            & ENST00000368608.3 &  3323            \\\\\n",
       "\t863 & TUBA1A            & ENST00000295766.5 &  1884            \\\\\n",
       "\t849 & TUBA1B            & ENST00000336023.5 &  1624            \\\\\n",
       "\t866 & TUBA1C            & ENST00000301072.6 &  1721            \\\\\n",
       "\t1641 & TUBB              & ENST00000327892.8 &  2667            \\\\\n",
       "\t2088 & TXN               & ENST00000374517.5 &   866            \\\\\n",
       "\t1176 & UBB               & ENST00000302182.3 &  1222            \\\\\n",
       "\t952 & UBC               & ENST00000339647.5 &  2685            \\\\\n",
       "\t1347 & UBE2M             & ENST00000253023.3 &  1505            \\\\\n",
       "\t1346 & UBE2S             & ENST00000264552.9 &  1006            \\\\\n",
       "\t5 & UBR4              & ENST00000375254.3 & 15903            \\\\\n",
       "\t1183 & USP22             & ENST00000261497.4 &  5213            \\\\\n",
       "\t2152 & USP9X             & ENST00000378308.2 &  8368            \\\\\n",
       "\t2001 & VCP               & ENST00000358901.6 &  4367            \\\\\n",
       "\t872 & XPOT              & ENST00000332707.5 &  6411            \\\\\n",
       "\t1099 & YWHAE             & ENST00000571732.1 &  1815            \\\\\n",
       "\t1859 & YWHAG             & ENST00000307630.3 &  3742            \\\\\n",
       "\t645 & ZNF503            & ENST00000372524.4 &  3344            \\\\\n",
       "\t1928 & ZNF703            & ENST00000331569.4 &  3344            \\\\\n",
       "\\end{tabular}\n"
      ],
      "text/markdown": [
       "\n",
       "| <!--/--> | gene_name | gid | trx_len | \n",
       "|---|---|---|---|---|---|---|---|---|---|---|---|---|---|---|---|---|---|---|---|---|---|---|---|---|---|---|---|---|---|---|---|---|---|---|---|---|---|---|---|---|---|---|---|---|---|---|---|---|---|---|---|---|---|---|---|---|---|---|---|---|\n",
       "| 1215 | ACLY              | ENST00000590151.1 |  4306             | \n",
       "| 1811 | ACTB              | ENST00000331789.5 |  1914             | \n",
       "| 1245 | ACTG1             | ENST00000331925.2 |  1991             | \n",
       "| 1260 | ALYREF            | ENST00000505490.2 |  1085             | \n",
       "| 154 | ATP1A1            | ENST00000295598.5 |  3651             | \n",
       "| 871 | ATP5B             | ENST00000262030.3 |  1786             | \n",
       "| 829 | B3GNT1            | ENST00000311181.4 |  2069             | \n",
       "| 1163 | C1QBP             | ENST00000225698.4 |  1166             | \n",
       "| 1332 | CALR              | ENST00000316448.5 |  1900             | \n",
       "| 1428 | CCT4              | ENST00000394440.3 |  2517             | \n",
       "| 369 | CENPF             | ENST00000366955.3 | 10304             | \n",
       "| 1857 | CHCHD2            | ENST00000395422.3 |   898             | \n",
       "| 1071 | CKB               | ENST00000348956.2 |  1706             | \n",
       "| 2074 | CKS2              | ENST00000314355.6 |   610             | \n",
       "| 203 | COPA              | ENST00000368069.3 |  4661             | \n",
       "| 1487 | CSE1L             | ENST00000262982.2 |  3550             | \n",
       "| 240 | DARS2             | ENST00000361951.4 |  3503             | \n",
       "| 637 | DDIT4             | ENST00000307365.3 |  1745             | \n",
       "| 247 | DHX9              | ENST00000367549.3 |  4237             | \n",
       "| 1282 | DSG2              | ENST00000261590.8 |  5828             | \n",
       "| 1008 | DYNC1H1           | ENST00000360184.4 | 14330             | \n",
       "| 748 | EIF3A             | ENST00000541549.1 |  4483             | \n",
       "| 377 | EPRS              | ENST00000366923.3 |  5011             | \n",
       "| 809 | GANAB             | ENST00000346178.4 |  3903             | \n",
       "| 951 | GCN1L1            | ENST00000300648.6 |  8672             | \n",
       "| 649 | GHITM             | ENST00000372134.3 |  2125             | \n",
       "| 1682 | GLO1              | ENST00000373365.4 |  2009             | \n",
       "| 1612 | HNRNPA0           | ENST00000314940.4 |  2962             | \n",
       "| 1829 | HNRNPA2B1         | ENST00000354667.4 |  3661             | \n",
       "| 2047 | HNRNPK            | ENST00000376281.4 |  2925             | \n",
       "| ⋮ | ⋮ | ⋮ | ⋮ | \n",
       "| 1433 | SNRNP200          | ENST00000323853.5 |  7162             | \n",
       "| 1479 | SNRPB             | ENST00000381342.2 |  1151             | \n",
       "| 1498 | SOD1              | ENST00000270142.6 |   963             | \n",
       "| 1634 | SOX4              | ENST00000244745.1 |  4873             | \n",
       "| 808 | SSRP1             | ENST00000278412.2 |  2816             | \n",
       "| 999 | SUPT16H           | ENST00000216297.2 |  4681             | \n",
       "| 2002 | TLN1              | ENST00000314888.9 |  8820             | \n",
       "| 966 | TM9SF2            | ENST00000376387.4 |  3427             | \n",
       "| 439 | TOMM20            | ENST00000366607.4 |  3384             | \n",
       "| 1203 | TOP2A             | ENST00000423485.1 |  5755             | \n",
       "| 834 | TPI1              | ENST00000396705.5 |  1228             | \n",
       "| 1727 | TSPYL1            | ENST00000368608.3 |  3323             | \n",
       "| 863 | TUBA1A            | ENST00000295766.5 |  1884             | \n",
       "| 849 | TUBA1B            | ENST00000336023.5 |  1624             | \n",
       "| 866 | TUBA1C            | ENST00000301072.6 |  1721             | \n",
       "| 1641 | TUBB              | ENST00000327892.8 |  2667             | \n",
       "| 2088 | TXN               | ENST00000374517.5 |   866             | \n",
       "| 1176 | UBB               | ENST00000302182.3 |  1222             | \n",
       "| 952 | UBC               | ENST00000339647.5 |  2685             | \n",
       "| 1347 | UBE2M             | ENST00000253023.3 |  1505             | \n",
       "| 1346 | UBE2S             | ENST00000264552.9 |  1006             | \n",
       "| 5 | UBR4              | ENST00000375254.3 | 15903             | \n",
       "| 1183 | USP22             | ENST00000261497.4 |  5213             | \n",
       "| 2152 | USP9X             | ENST00000378308.2 |  8368             | \n",
       "| 2001 | VCP               | ENST00000358901.6 |  4367             | \n",
       "| 872 | XPOT              | ENST00000332707.5 |  6411             | \n",
       "| 1099 | YWHAE             | ENST00000571732.1 |  1815             | \n",
       "| 1859 | YWHAG             | ENST00000307630.3 |  3742             | \n",
       "| 645 | ZNF503            | ENST00000372524.4 |  3344             | \n",
       "| 1928 | ZNF703            | ENST00000331569.4 |  3344             | \n",
       "\n",
       "\n"
      ],
      "text/plain": [
       "     gene_name gid               trx_len\n",
       "1215 ACLY      ENST00000590151.1  4306  \n",
       "1811 ACTB      ENST00000331789.5  1914  \n",
       "1245 ACTG1     ENST00000331925.2  1991  \n",
       "1260 ALYREF    ENST00000505490.2  1085  \n",
       "154  ATP1A1    ENST00000295598.5  3651  \n",
       "871  ATP5B     ENST00000262030.3  1786  \n",
       "829  B3GNT1    ENST00000311181.4  2069  \n",
       "1163 C1QBP     ENST00000225698.4  1166  \n",
       "1332 CALR      ENST00000316448.5  1900  \n",
       "1428 CCT4      ENST00000394440.3  2517  \n",
       "369  CENPF     ENST00000366955.3 10304  \n",
       "1857 CHCHD2    ENST00000395422.3   898  \n",
       "1071 CKB       ENST00000348956.2  1706  \n",
       "2074 CKS2      ENST00000314355.6   610  \n",
       "203  COPA      ENST00000368069.3  4661  \n",
       "1487 CSE1L     ENST00000262982.2  3550  \n",
       "240  DARS2     ENST00000361951.4  3503  \n",
       "637  DDIT4     ENST00000307365.3  1745  \n",
       "247  DHX9      ENST00000367549.3  4237  \n",
       "1282 DSG2      ENST00000261590.8  5828  \n",
       "1008 DYNC1H1   ENST00000360184.4 14330  \n",
       "748  EIF3A     ENST00000541549.1  4483  \n",
       "377  EPRS      ENST00000366923.3  5011  \n",
       "809  GANAB     ENST00000346178.4  3903  \n",
       "951  GCN1L1    ENST00000300648.6  8672  \n",
       "649  GHITM     ENST00000372134.3  2125  \n",
       "1682 GLO1      ENST00000373365.4  2009  \n",
       "1612 HNRNPA0   ENST00000314940.4  2962  \n",
       "1829 HNRNPA2B1 ENST00000354667.4  3661  \n",
       "2047 HNRNPK    ENST00000376281.4  2925  \n",
       "⋮    ⋮         ⋮                 ⋮      \n",
       "1433 SNRNP200  ENST00000323853.5  7162  \n",
       "1479 SNRPB     ENST00000381342.2  1151  \n",
       "1498 SOD1      ENST00000270142.6   963  \n",
       "1634 SOX4      ENST00000244745.1  4873  \n",
       "808  SSRP1     ENST00000278412.2  2816  \n",
       "999  SUPT16H   ENST00000216297.2  4681  \n",
       "2002 TLN1      ENST00000314888.9  8820  \n",
       "966  TM9SF2    ENST00000376387.4  3427  \n",
       "439  TOMM20    ENST00000366607.4  3384  \n",
       "1203 TOP2A     ENST00000423485.1  5755  \n",
       "834  TPI1      ENST00000396705.5  1228  \n",
       "1727 TSPYL1    ENST00000368608.3  3323  \n",
       "863  TUBA1A    ENST00000295766.5  1884  \n",
       "849  TUBA1B    ENST00000336023.5  1624  \n",
       "866  TUBA1C    ENST00000301072.6  1721  \n",
       "1641 TUBB      ENST00000327892.8  2667  \n",
       "2088 TXN       ENST00000374517.5   866  \n",
       "1176 UBB       ENST00000302182.3  1222  \n",
       "952  UBC       ENST00000339647.5  2685  \n",
       "1347 UBE2M     ENST00000253023.3  1505  \n",
       "1346 UBE2S     ENST00000264552.9  1006  \n",
       "5    UBR4      ENST00000375254.3 15903  \n",
       "1183 USP22     ENST00000261497.4  5213  \n",
       "2152 USP9X     ENST00000378308.2  8368  \n",
       "2001 VCP       ENST00000358901.6  4367  \n",
       "872  XPOT      ENST00000332707.5  6411  \n",
       "1099 YWHAE     ENST00000571732.1  1815  \n",
       "1859 YWHAG     ENST00000307630.3  3742  \n",
       "645  ZNF503    ENST00000372524.4  3344  \n",
       "1928 ZNF703    ENST00000331569.4  3344  "
      ]
     },
     "metadata": {},
     "output_type": "display_data"
    },
    {
     "data": {
      "text/html": [
       "<ol class=list-inline>\n",
       "\t<li>2366</li>\n",
       "\t<li>14</li>\n",
       "</ol>\n"
      ],
      "text/latex": [
       "\\begin{enumerate*}\n",
       "\\item 2366\n",
       "\\item 14\n",
       "\\end{enumerate*}\n"
      ],
      "text/markdown": [
       "1. 2366\n",
       "2. 14\n",
       "\n",
       "\n"
      ],
      "text/plain": [
       "[1] 2366   14"
      ]
     },
     "metadata": {},
     "output_type": "display_data"
    }
   ],
   "source": [
    "# Determine longest length transcript for each gene\n",
    "trx_len <- rbfox2.dist$utr5_size + rbfox2.dist$cds_size + rbfox2.dist$utr3_size # Determine transcript length\n",
    "temp <- data.frame(rbfox2.dist$gene_name, rbfox2.dist$refseqID, trx_len)\n",
    "colnames(temp) <- c(\"gene_name\", \"gid\", \"trx_len\") \n",
    "temp <- temp[order(temp$gene_name, -temp$trx_len),]\n",
    "temp\n",
    "temp <- temp[!duplicated(temp$gene_name),]\n",
    "temp\n",
    "\n",
    "# limit m6a data to one transcript per gene (longest)\n",
    "rbfox2.dist <- rbfox2.dist[rbfox2.dist$refseqID %in% temp$gid,]\n",
    "\n",
    "# View size of our dataset (rows, columns)\n",
    "dim(rbfox2.dist)"
   ]
  },
  {
   "cell_type": "code",
   "execution_count": 26,
   "metadata": {},
   "outputs": [
    {
     "name": "stderr",
     "output_type": "stream",
     "text": [
      "`stat_bin()` using `bins = 30`. Pick better value with `binwidth`.\n"
     ]
    },
    {
     "data": {},
     "metadata": {},
     "output_type": "display_data"
    },
    {
     "data": {
      "image/png": "[encoded data removed]",
      "text/plain": [
       "plot without title"
      ]
     },
     "metadata": {},
     "output_type": "display_data"
    }
   ],
   "source": [
    "qplot(rbfox2.dist$rel_location, geom=\"histogram\") + geom_vline(xintercept = 1:2, col = \"grey\") + theme_bw()"
   ]
  },
  {
   "cell_type": "code",
   "execution_count": 27,
   "metadata": {},
   "outputs": [
    {
     "data": {
      "text/plain": [
       " rbfox2.dist.utr5_size rbfox2.dist.cds_size rbfox2.dist.utr3_size\n",
       " Min.   :   5.0        Min.   :   74        Min.   :  18.0       \n",
       " 1st Qu.:  98.0        1st Qu.:  770        1st Qu.: 783.2       \n",
       " Median : 166.0        Median : 1334        Median :1247.0       \n",
       " Mean   : 194.3        Mean   : 2142        Mean   :1728.6       \n",
       " 3rd Qu.: 232.0        3rd Qu.: 3071        3rd Qu.:2518.0       \n",
       " Max.   :1042.0        Max.   :15551        Max.   :8239.0       "
      ]
     },
     "metadata": {},
     "output_type": "display_data"
    }
   ],
   "source": [
    "summary(data.frame(rbfox2.dist$utr5_size, rbfox2.dist$cds_size, rbfox2.dist$utr3_size))"
   ]
  },
  {
   "cell_type": "code",
   "execution_count": 28,
   "metadata": {},
   "outputs": [],
   "source": [
    "rbfox2.utr5.SF <- median(rbfox2.dist$utr5_size, na.rm = T)/median(rbfox2.dist$cds_size, na.rm = T)\n",
    "rbfox2.utr3.SF <- median(rbfox2.dist$utr3_size, na.rm = T)/median(rbfox2.dist$cds_size, na.rm = T)\n",
    "\n",
    "# assign the regions to new dataframes\n",
    "rbfox2.utr5.dist <- rbfox2.dist[rbfox2.dist$rel_location < 1, ]\n",
    "rbfox2.cds.dist <- rbfox2.dist [rbfox2.dist$rel_location < 2 & rbfox2.dist$rel_location >= 1, ]\n",
    "rbfox2.utr3.dist <- rbfox2.dist[rbfox2.dist$rel_location >= 2, ]\n",
    "\n",
    "rbfox2.utr5.dist$rel_location <- rescale(rbfox2.utr5.dist$rel_location, to = c(1-rbfox2.utr5.SF, 1), from = c(0,1))\n",
    "rbfox2.utr3.dist$rel_location <- rescale(rbfox2.utr3.dist$rel_location, to = c(2, 2+rbfox2.utr3.SF), from = c(2,3))"
   ]
  },
  {
   "cell_type": "code",
   "execution_count": 29,
   "metadata": {},
   "outputs": [],
   "source": [
    "# Combine and plot\n",
    "## Histogram\n",
    "rbfox2.metagene.coord <- c(rbfox2.utr5.dist$rel_location, rbfox2.cds.dist$rel_location, rbfox2.utr3.dist$rel_location)\n",
    "p <- qplot(rbfox2.metagene.coord, geom=\"histogram\") + geom_vline(xintercept = 1:2, col = \"grey\") + theme_bw()"
   ]
  },
  {
   "cell_type": "code",
   "execution_count": 30,
   "metadata": {},
   "outputs": [
    {
     "data": {},
     "metadata": {},
     "output_type": "display_data"
    },
    {
     "data": {
      "image/png": "[encoded data removed]",
      "text/plain": [
       "plot without title"
      ]
     },
     "metadata": {},
     "output_type": "display_data"
    }
   ],
   "source": [
    "# qplot(rbfox2.metagene.coord, geom=\"freqpoly\") + geom_vline(xintercept = 1:2, col = \"red\") + theme_bw()\n",
    "qplot(rbfox2.metagene.coord, geom=\"density\") + geom_vline(xintercept = 1:2, col = \"red\") + theme_bw()"
   ]
  },
  {
   "cell_type": "markdown",
   "metadata": {},
   "source": [
    "# Compare the three"
   ]
  },
  {
   "cell_type": "code",
   "execution_count": 31,
   "metadata": {},
   "outputs": [
    {
     "data": {},
     "metadata": {},
     "output_type": "display_data"
    },
    {
     "data": {
      "image/png": "[encoded data removed]",
      "text/plain": [
       "plot without title"
      ]
     },
     "metadata": {},
     "output_type": "display_data"
    }
   ],
   "source": [
    "metagene.cord <- c(rps.metagene.coord, apo.metagene.coord, rbfox2.metagene.coord)\n",
    "mod <- c(rep(\"RPS2-1000\", length(rps.metagene.coord)), \n",
    "         rep(\"Apo-1000\", length(apo.metagene.coord)),\n",
    "         rep(\"RBFOX2-1000\", length(rbfox2.metagene.coord))\n",
    "        ) \n",
    "df <- data.frame(metagene.cord, mod)\n",
    "ggplot(df) + geom_density(aes(x = metagene.cord, colour = mod)) + xlim(0, 3) + \n",
    "  theme_bw() + geom_vline(xintercept = 1:2, col = \"grey\")"
   ]
  },
  {
   "cell_type": "code",
   "execution_count": 32,
   "metadata": {},
   "outputs": [
    {
     "data": {},
     "metadata": {},
     "output_type": "display_data"
    },
    {
     "data": {
      "text/html": [
       "<strong>png:</strong> 2"
      ],
      "text/latex": [
       "\\textbf{png:} 2"
      ],
      "text/markdown": [
       "**png:** 2"
      ],
      "text/plain": [
       "png \n",
       "  2 "
      ]
     },
     "metadata": {},
     "output_type": "display_data"
    }
   ],
   "source": [
    "metagene.cord <- c(rps.metagene.coord, apo.metagene.coord, rbfox2.metagene.coord)\n",
    "mod <- c(rep(\"RPS2-1000\", length(rps.metagene.coord)), \n",
    "         rep(\"Apo-1000\", length(apo.metagene.coord)),\n",
    "         rep(\"RBFOX2-1000\", length(rbfox2.metagene.coord))\n",
    "        ) \n",
    "df <- data.frame(metagene.cord, mod)\n",
    "png('RPS2-vs-Apo-top200exprs.png')\n",
    "ggplot(df) + geom_density(aes(x = metagene.cord, colour = mod)) + xlim(0, 3) + \n",
    "  theme_bw() + geom_vline(xintercept = 1:2, col = \"grey\")\n",
    "dev.off()"
   ]
  },
  {
   "cell_type": "code",
   "execution_count": 33,
   "metadata": {},
   "outputs": [
    {
     "data": {
      "text/html": [
       "<ol class=list-inline>\n",
       "\t<li>5035</li>\n",
       "\t<li>2</li>\n",
       "</ol>\n"
      ],
      "text/latex": [
       "\\begin{enumerate*}\n",
       "\\item 5035\n",
       "\\item 2\n",
       "\\end{enumerate*}\n"
      ],
      "text/markdown": [
       "1. 5035\n",
       "2. 2\n",
       "\n",
       "\n"
      ],
      "text/plain": [
       "[1] 5035    2"
      ]
     },
     "metadata": {},
     "output_type": "display_data"
    }
   ],
   "source": [
    "dim(df)"
   ]
  },
  {
   "cell_type": "code",
   "execution_count": 34,
   "metadata": {},
   "outputs": [
    {
     "name": "stderr",
     "output_type": "stream",
     "text": [
      "`stat_bin()` using `bins = 30`. Pick better value with `binwidth`.\n"
     ]
    },
    {
     "data": {},
     "metadata": {},
     "output_type": "display_data"
    },
    {
     "data": {
      "image/png": "[encoded data removed]",
      "text/plain": [
       "plot without title"
      ]
     },
     "metadata": {},
     "output_type": "display_data"
    }
   ],
   "source": [
    "qplot(rps.dist$rel_location, geom=\"histogram\") + geom_vline(xintercept = 1:2, col = \"grey\") + theme_bw()"
   ]
  },
  {
   "cell_type": "code",
   "execution_count": 35,
   "metadata": {},
   "outputs": [],
   "source": [
    "write.table(rps.metagene.coord, 'rps.metagene.coord.txt')"
   ]
  },
  {
   "cell_type": "code",
   "execution_count": 36,
   "metadata": {},
   "outputs": [],
   "source": [
    "write.table(apo.metagene.coord, 'apo.metagene.coord.txt')"
   ]
  },
  {
   "cell_type": "code",
   "execution_count": 37,
   "metadata": {},
   "outputs": [],
   "source": [
    "write.table(rps.dist$rel_location, 'rps.dist.rel_location.txt')"
   ]
  },
  {
   "cell_type": "code",
   "execution_count": 38,
   "metadata": {},
   "outputs": [],
   "source": [
    "write.table(apo.dist$rel_location, 'apo.dist.rel_location.txt')"
   ]
  },
  {
   "cell_type": "code",
   "execution_count": 39,
   "metadata": {},
   "outputs": [],
   "source": [
    "write.table(rbfox2.dist$rel_location, 'rbfox2.dist.rel_location.txt')"
   ]
  },
  {
   "cell_type": "code",
   "execution_count": null,
   "metadata": {},
   "outputs": [],
   "source": []
  }
 ],
 "metadata": {
  "kernelspec": {
   "display_name": "R-Seurat-fc4a4f5",
   "language": "R",
   "name": "r_seurat_fc4a4f5"
  },
  "language_info": {
   "codemirror_mode": "r",
   "file_extension": ".r",
   "mimetype": "text/x-r-source",
   "name": "R",
   "pygments_lexer": "r",
   "version": "3.5.1"
  }
 },
 "nbformat": 4,
 "nbformat_minor": 2
}
