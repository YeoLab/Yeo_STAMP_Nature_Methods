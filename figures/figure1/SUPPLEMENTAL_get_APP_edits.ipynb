{
 "cells": [
  {
   "cell_type": "code",
   "execution_count": 1,
   "metadata": {},
   "outputs": [],
   "source": [
    "import pybedtools\n",
    "import pandas as pd\n",
    "import numpy as np\n",
    "import os\n",
    "import glob"
   ]
  },
  {
   "cell_type": "code",
   "execution_count": 2,
   "metadata": {},
   "outputs": [],
   "source": [
    "input_dir = '/home/bay001/projects/kris_apobec_20200121/permanent_data/final_analysis/01_SAILOR_bulk_rnaseq/outputs/combined_outputs_w_cov_info/'\n",
    "output_dir = '/home/bay001/projects/kris_apobec_20200121/permanent_data/final_analysis/figure_1/outputs/'"
   ]
  },
  {
   "cell_type": "code",
   "execution_count": 3,
   "metadata": {},
   "outputs": [
    {
     "data": {
      "text/html": [
       "<div>\n",
       "<style scoped>\n",
       "    .dataframe tbody tr th:only-of-type {\n",
       "        vertical-align: middle;\n",
       "    }\n",
       "\n",
       "    .dataframe tbody tr th {\n",
       "        vertical-align: top;\n",
       "    }\n",
       "\n",
       "    .dataframe thead th {\n",
       "        text-align: right;\n",
       "    }\n",
       "</style>\n",
       "<table border=\"1\" class=\"dataframe\">\n",
       "  <thead>\n",
       "    <tr style=\"text-align: right;\">\n",
       "      <th></th>\n",
       "      <th>chrom</th>\n",
       "      <th>start</th>\n",
       "      <th>end</th>\n",
       "      <th>name</th>\n",
       "      <th>score</th>\n",
       "      <th>strand</th>\n",
       "    </tr>\n",
       "  </thead>\n",
       "  <tbody>\n",
       "    <tr>\n",
       "      <th>0</th>\n",
       "      <td>chr1</td>\n",
       "      <td>566364</td>\n",
       "      <td>566365</td>\n",
       "      <td>0.950990</td>\n",
       "      <td>1,6</td>\n",
       "      <td>+</td>\n",
       "    </tr>\n",
       "    <tr>\n",
       "      <th>1</th>\n",
       "      <td>chr1</td>\n",
       "      <td>566444</td>\n",
       "      <td>566445</td>\n",
       "      <td>0.636185</td>\n",
       "      <td>1,46</td>\n",
       "      <td>+</td>\n",
       "    </tr>\n",
       "    <tr>\n",
       "      <th>2</th>\n",
       "      <td>chr1</td>\n",
       "      <td>566668</td>\n",
       "      <td>566669</td>\n",
       "      <td>0.950990</td>\n",
       "      <td>1,6</td>\n",
       "      <td>+</td>\n",
       "    </tr>\n",
       "    <tr>\n",
       "      <th>3</th>\n",
       "      <td>chr1</td>\n",
       "      <td>566713</td>\n",
       "      <td>566714</td>\n",
       "      <td>0.895338</td>\n",
       "      <td>1,12</td>\n",
       "      <td>+</td>\n",
       "    </tr>\n",
       "    <tr>\n",
       "      <th>4</th>\n",
       "      <td>chr1</td>\n",
       "      <td>566722</td>\n",
       "      <td>566723</td>\n",
       "      <td>0.895338</td>\n",
       "      <td>1,12</td>\n",
       "      <td>+</td>\n",
       "    </tr>\n",
       "  </tbody>\n",
       "</table>\n",
       "</div>"
      ],
      "text/plain": [
       "  chrom   start     end      name score strand\n",
       "0  chr1  566364  566365  0.950990   1,6      +\n",
       "1  chr1  566444  566445  0.636185  1,46      +\n",
       "2  chr1  566668  566669  0.950990   1,6      +\n",
       "3  chr1  566713  566714  0.895338  1,12      +\n",
       "4  chr1  566722  566723  0.895338  1,12      +"
      ]
     },
     "execution_count": 3,
     "metadata": {},
     "output_type": "execute_result"
    }
   ],
   "source": [
    "rbfox2_file = os.path.join(input_dir, 'RBFOX2-1000_S20_L002_R1_001.fastqTr.sorted.STARUnmapped.out.sorted.STARAligned.out.sorted_a0_b0_e0.01.bed')\n",
    "apobec_file = os.path.join(input_dir, 'ApoControl-1000_S21_L002_R1_001.fastqTr.sorted.STARUnmapped.out.sorted.STARAligned.out.sorted_a0_b0_e0.01.bed')\n",
    "\n",
    "bed_head = ['chrom','start','end','name','score','strand']\n",
    "\n",
    "rbfox2 = pd.read_csv(rbfox2_file, sep='\\t', names=bed_head)\n",
    "apobec = pd.read_csv(apobec_file, sep='\\t', names=bed_head)\n",
    "\n",
    "rbfox2.head()"
   ]
  },
  {
   "cell_type": "code",
   "execution_count": 4,
   "metadata": {},
   "outputs": [
    {
     "name": "stdout",
     "output_type": "stream",
     "text": [
      "403256 -> 197208\n",
      "403256 -> 38491\n",
      "66380 -> 20550\n",
      "66380 -> 611\n"
     ]
    }
   ],
   "source": [
    "def filter_conf(df, conf):\n",
    "    filtered = df[df['name']>=conf]\n",
    "    print(\"{} -> {}\".format(df.shape[0], filtered.shape[0]))\n",
    "    return filtered\n",
    "\n",
    "rbfox2_conf9 = pybedtools.BedTool.from_dataframe(filter_conf(rbfox2, 0.9)).sort()\n",
    "rbfox2_conf999 = pybedtools.BedTool.from_dataframe(filter_conf(rbfox2, 0.999)).sort()\n",
    "\n",
    "apobec_conf9 = pybedtools.BedTool.from_dataframe(filter_conf(apobec, 0.9)).sort()\n",
    "apobec_conf999 = pybedtools.BedTool.from_dataframe(filter_conf(apobec, 0.999)).sort()"
   ]
  },
  {
   "cell_type": "code",
   "execution_count": 5,
   "metadata": {},
   "outputs": [],
   "source": [
    "rbfox2_edits = ''\n",
    "APP = pybedtools.BedTool([\n",
    "    pybedtools.create_interval_from_list(\n",
    "        ['chr21',27252861, 27253983, 'ENSG00000142192.16', '0', \"-\"]\n",
    "    )]\n",
    ")"
   ]
  },
  {
   "cell_type": "code",
   "execution_count": 6,
   "metadata": {},
   "outputs": [
    {
     "name": "stdout",
     "output_type": "stream",
     "text": [
      "82 52 8 2\n"
     ]
    },
    {
     "name": "stderr",
     "output_type": "stream",
     "text": [
      "/projects/ps-yeolab4/software/yeolabconda3/envs/python3essential-0.0.1/lib/python3.6/site-packages/pybedtools/bedtool.py:3439: FutureWarning: read_table is deprecated, use read_csv instead, passing sep='\\t'.\n",
      "  return pandas.read_table(self.fn, *args, **kwargs)\n",
      "/projects/ps-yeolab4/software/yeolabconda3/envs/python3essential-0.0.1/lib/python3.6/site-packages/pybedtools/bedtool.py:3439: FutureWarning: read_table is deprecated, use read_csv instead, passing sep='\\t'.\n",
      "  return pandas.read_table(self.fn, *args, **kwargs)\n",
      "/projects/ps-yeolab4/software/yeolabconda3/envs/python3essential-0.0.1/lib/python3.6/site-packages/pybedtools/bedtool.py:3439: FutureWarning: read_table is deprecated, use read_csv instead, passing sep='\\t'.\n",
      "  return pandas.read_table(self.fn, *args, **kwargs)\n",
      "/projects/ps-yeolab4/software/yeolabconda3/envs/python3essential-0.0.1/lib/python3.6/site-packages/pybedtools/bedtool.py:3439: FutureWarning: read_table is deprecated, use read_csv instead, passing sep='\\t'.\n",
      "  return pandas.read_table(self.fn, *args, **kwargs)\n"
     ]
    }
   ],
   "source": [
    "rbfox2_conf9_num = APP.intersect(rbfox2_conf9, s=True, loj=True).to_dataframe().shape[0]\n",
    "rbfox2_conf999_num = APP.intersect(rbfox2_conf999, s=True, loj=True).to_dataframe().shape[0]\n",
    "apobec_conf9_num = APP.intersect(apobec_conf9, s=True, loj=True).to_dataframe().shape[0]\n",
    "apobec_conf999_num = APP.intersect(apobec_conf999, s=True, loj=True).to_dataframe().shape[0]\n",
    "\n",
    "print(rbfox2_conf9_num, rbfox2_conf999_num, apobec_conf9_num, apobec_conf999_num)"
   ]
  },
  {
   "cell_type": "code",
   "execution_count": null,
   "metadata": {},
   "outputs": [],
   "source": []
  }
 ],
 "metadata": {
  "kernelspec": {
   "display_name": "python3essential (tscc)",
   "language": "python",
   "name": "python3essential"
  },
  "language_info": {
   "codemirror_mode": {
    "name": "ipython",
    "version": 3
   },
   "file_extension": ".py",
   "mimetype": "text/x-python",
   "name": "python",
   "nbconvert_exporter": "python",
   "pygments_lexer": "ipython3",
   "version": "3.6.7"
  }
 },
 "nbformat": 4,
 "nbformat_minor": 4
}
