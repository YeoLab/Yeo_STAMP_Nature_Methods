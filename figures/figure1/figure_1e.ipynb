{
 "cells": [
  {
   "cell_type": "markdown",
   "metadata": {},
   "source": [
    "# In this analysis, we are comparing two things:\n",
    "- editing sites overlapped with eCLIP peaks\n",
    "- We want to compare edit sites from one sample (RBFOX2-APOBEC) with respect to the RBFOX2 motif - particularly the distance from the motif (upstream and downstream) against edit sites from another sample (APOBEC-only). We hopefully will see an enrichment when we plot a histogram of distances with respect to the motif. "
   ]
  },
  {
   "cell_type": "markdown",
   "metadata": {},
   "source": [
    "# Updated analyses:\n",
    "### Finds the closest editing sites to peaks with RBFOX2 motif\n",
    "- start with all peaks: 74902\n",
    "- filter for peaks in 3'UTR or CDS: 655\n",
    "- get the peaks with the RBFOX2 motif (GCAUG): 270/655\n",
    "- for each filtered peak, find the 600 closest editing sites for a window size of 600 \n",
    "- discard editing sites more than 300nt away and plot position relative to motif\n",
    "- plot 400bt window so as to make the fitted line not just drop off at the end.\n",
    "- as a background, compare the distribution of ApoControl edits at/near GCAUG motifs.\n",
    "- repeat analysis with background and plot differences."
   ]
  },
  {
   "cell_type": "markdown",
   "metadata": {},
   "source": [
    "# Re-doing this analysis...\n",
    "- previously found errors in methodology; previously I was looking at the closest editing sites to each motif (motif contained within a eCLIP peak). However this causes an artifact as the histogram of distances will be biased toward the center. \n",
    "- This notebook will perform similar analysis, but will look at ALL sites within a certain window. This window will be determined after looking at how close each motif (within peak) is to each other. I will try and remove overlaps by setting the window (starting at 400nt) such that the least number of windows overlap."
   ]
  },
  {
   "cell_type": "code",
   "execution_count": 1,
   "metadata": {},
   "outputs": [],
   "source": [
    "%matplotlib inline\n",
    "\n",
    "import matplotlib.pyplot as plt\n",
    "import seaborn as sns\n",
    "import pandas as pd\n",
    "import numpy as np\n",
    "import os\n",
    "import glob\n",
    "import pybedtools\n",
    "import pysam\n",
    "import re\n",
    "\n",
    "from Bio import SeqIO\n",
    "\n",
    "import random\n",
    "from collections import Counter\n",
    "from tqdm import tnrange, tqdm_notebook"
   ]
  },
  {
   "cell_type": "code",
   "execution_count": 2,
   "metadata": {},
   "outputs": [],
   "source": [
    "input_dir = '/home/bay001/projects/kris_apobec_20200121/permanent_data/final_analysis/figure_1/inputs/'\n",
    "output_dir = '/home/bay001/projects/kris_apobec_20200121/permanent_data/final_analysis/figure_1/outputs/motif_distribution'"
   ]
  },
  {
   "cell_type": "markdown",
   "metadata": {},
   "source": [
    "# Define the editing sites \n",
    "- conf_swap indicates that the \"confidence score\" should be the 4th column, while the \"edit %\" should be the 5th column. SAILOR outputs the other way around"
   ]
  },
  {
   "cell_type": "code",
   "execution_count": 3,
   "metadata": {},
   "outputs": [],
   "source": [
    "editing_sites = os.path.join(input_dir, 'RBFOX2-1000_S20_L002_R1_001.fastqTr.sorted.STARUnmapped.out.sorted.STARAligned.out.sorted_a0_b0_e0.01.bed')\n",
    "editing_sites_apobec_only = os.path.join(input_dir, 'ApoControl-1000_S21_L002_R1_001.fastqTr.sorted.STARUnmapped.out.sorted.STARAligned.out.sorted_a0_b0_e0.01.bed')\n",
    "\n",
    "# editing_sites = os.path.join(input_dir, 'Sample28_S21_merged.fastqTr.sorted.STARUnmapped.out.sorted.STARAligned.out.sorted_a0_b0_e0.01.bed')\n",
    "# editing_sites_apobec_only = os.path.join(input_dir, 'Sample14_S13_merged.fastqTr.sorted.STARUnmapped.out.sorted.STARAligned.out.sorted_a0_b0_e0.01.bed')\n",
    "\n",
    "assert os.path.exists(editing_sites)\n",
    "assert os.path.exists(editing_sites_apobec_only)"
   ]
  },
  {
   "cell_type": "code",
   "execution_count": 4,
   "metadata": {},
   "outputs": [],
   "source": [
    "RBFOX2_CONF = 0.9 # \n",
    "APOBEC_CONF = 0.9\n",
    "motif = 'GCATG'\n",
    "# motif = 'AGTCG' # \"negative control\""
   ]
  },
  {
   "cell_type": "markdown",
   "metadata": {},
   "source": [
    "# find 3'UTR peaks (TODO: multi region parsing)"
   ]
  },
  {
   "cell_type": "code",
   "execution_count": 5,
   "metadata": {},
   "outputs": [
    {
     "data": {
      "text/plain": [
       "['/home/bay001/projects/kris_apobec_20200121/permanent_data/final_analysis/figure_1/inputs/EV42_01.basedon_EV42_01.peaks.l2inputnormnew.bed.compressed.bed.annotated']"
      ]
     },
     "execution_count": 5,
     "metadata": {},
     "output_type": "execute_result"
    }
   ],
   "source": [
    "# Comes from annotating IDR eCLIP peaks using Eric's script (/home/bay001/projects/ryan_editing_20190314/permanent_data/04_annotations/annotate_peaks_bedformat_wproxdistal_lncRNA.pl)\n",
    "beds = sorted(glob.glob(os.path.join(input_dir, 'EV42_01.basedon_EV42_01.peaks.l2inputnormnew.bed.compressed.bed.annotated')))\n",
    "beds"
   ]
  },
  {
   "cell_type": "markdown",
   "metadata": {},
   "source": [
    "### we will just look at RBFOX first.\n"
   ]
  },
  {
   "cell_type": "code",
   "execution_count": 6,
   "metadata": {},
   "outputs": [
    {
     "data": {
      "text/plain": [
       "'/home/bay001/projects/kris_apobec_20200121/permanent_data/final_analysis/figure_1/inputs/EV42_01.basedon_EV42_01.peaks.l2inputnormnew.bed.compressed.bed.annotated'"
      ]
     },
     "execution_count": 6,
     "metadata": {},
     "output_type": "execute_result"
    }
   ],
   "source": [
    "rbfox2_bed = beds[0]\n",
    "rbfox2_bed"
   ]
  },
  {
   "cell_type": "code",
   "execution_count": 7,
   "metadata": {},
   "outputs": [
    {
     "name": "stderr",
     "output_type": "stream",
     "text": [
      "/home/bay001/anaconda2/envs/python3-essential/lib/python3.6/site-packages/ipykernel_launcher.py:17: FutureWarning: read_table is deprecated, use read_csv instead, passing sep='\\t'.\n"
     ]
    },
    {
     "name": "stdout",
     "output_type": "stream",
     "text": [
      "74902\n",
      "7478\n"
     ]
    },
    {
     "data": {
      "text/html": [
       "<div>\n",
       "<style scoped>\n",
       "    .dataframe tbody tr th:only-of-type {\n",
       "        vertical-align: middle;\n",
       "    }\n",
       "\n",
       "    .dataframe tbody tr th {\n",
       "        vertical-align: top;\n",
       "    }\n",
       "\n",
       "    .dataframe thead th {\n",
       "        text-align: right;\n",
       "    }\n",
       "</style>\n",
       "<table border=\"1\" class=\"dataframe\">\n",
       "  <thead>\n",
       "    <tr style=\"text-align: right;\">\n",
       "      <th></th>\n",
       "      <th>chrom</th>\n",
       "      <th>start</th>\n",
       "      <th>end</th>\n",
       "      <th>l10p</th>\n",
       "      <th>l2fc</th>\n",
       "      <th>strand</th>\n",
       "      <th>region_w_overlap</th>\n",
       "      <th>geneid</th>\n",
       "      <th>region</th>\n",
       "    </tr>\n",
       "  </thead>\n",
       "  <tbody>\n",
       "    <tr>\n",
       "      <th>0</th>\n",
       "      <td>chr7</td>\n",
       "      <td>99949578</td>\n",
       "      <td>99949663</td>\n",
       "      <td>49.426374</td>\n",
       "      <td>4.618368</td>\n",
       "      <td>+</td>\n",
       "      <td>intron|contained|ENSG00000121716.14</td>\n",
       "      <td>ENSG00000121716.14</td>\n",
       "      <td>intron</td>\n",
       "    </tr>\n",
       "    <tr>\n",
       "      <th>1</th>\n",
       "      <td>chr7</td>\n",
       "      <td>76189536</td>\n",
       "      <td>76189625</td>\n",
       "      <td>30.501042</td>\n",
       "      <td>3.761547</td>\n",
       "      <td>+</td>\n",
       "      <td>intron|contained|ENSG00000243566.2</td>\n",
       "      <td>ENSG00000243566.2</td>\n",
       "      <td>intron</td>\n",
       "    </tr>\n",
       "    <tr>\n",
       "      <th>2</th>\n",
       "      <td>chr7</td>\n",
       "      <td>891283</td>\n",
       "      <td>891363</td>\n",
       "      <td>27.388043</td>\n",
       "      <td>4.738349</td>\n",
       "      <td>+</td>\n",
       "      <td>intron|contained|ENSG00000164828.13</td>\n",
       "      <td>ENSG00000164828.13</td>\n",
       "      <td>intron</td>\n",
       "    </tr>\n",
       "    <tr>\n",
       "      <th>3</th>\n",
       "      <td>chr7</td>\n",
       "      <td>44086401</td>\n",
       "      <td>44086504</td>\n",
       "      <td>25.153471</td>\n",
       "      <td>3.872251</td>\n",
       "      <td>+</td>\n",
       "      <td>intron|contained|ENSG00000136279.14</td>\n",
       "      <td>ENSG00000136279.14</td>\n",
       "      <td>intron</td>\n",
       "    </tr>\n",
       "    <tr>\n",
       "      <th>4</th>\n",
       "      <td>chr7</td>\n",
       "      <td>76199656</td>\n",
       "      <td>76199721</td>\n",
       "      <td>23.827660</td>\n",
       "      <td>4.550322</td>\n",
       "      <td>+</td>\n",
       "      <td>intron|contained|ENSG00000243566.2</td>\n",
       "      <td>ENSG00000243566.2</td>\n",
       "      <td>intron</td>\n",
       "    </tr>\n",
       "  </tbody>\n",
       "</table>\n",
       "</div>"
      ],
      "text/plain": [
       "  chrom     start       end       l10p      l2fc strand  \\\n",
       "0  chr7  99949578  99949663  49.426374  4.618368      +   \n",
       "1  chr7  76189536  76189625  30.501042  3.761547      +   \n",
       "2  chr7    891283    891363  27.388043  4.738349      +   \n",
       "3  chr7  44086401  44086504  25.153471  3.872251      +   \n",
       "4  chr7  76199656  76199721  23.827660  4.550322      +   \n",
       "\n",
       "                      region_w_overlap              geneid  region  \n",
       "0  intron|contained|ENSG00000121716.14  ENSG00000121716.14  intron  \n",
       "1   intron|contained|ENSG00000243566.2   ENSG00000243566.2  intron  \n",
       "2  intron|contained|ENSG00000164828.13  ENSG00000164828.13  intron  \n",
       "3  intron|contained|ENSG00000136279.14  ENSG00000136279.14  intron  \n",
       "4   intron|contained|ENSG00000243566.2   ENSG00000243566.2  intron  "
      ]
     },
     "execution_count": 7,
     "metadata": {},
     "output_type": "execute_result"
    }
   ],
   "source": [
    "annotated_headers = [\n",
    "    'chrom','start','end','l10p','l2fc','strand','region_w_overlap','geneid'\n",
    "]\n",
    "\n",
    "def return_region(row):\n",
    "    \"\"\" \n",
    "    Based on the way Eric outputs his annotations, let's re-format the region field to make it easier to parse out\n",
    "    \"\"\"\n",
    "    try:\n",
    "        return row['region_w_overlap'].split('|')[0]\n",
    "    except IndexError:\n",
    "        return 'intergenic'\n",
    "\n",
    "def filter_peaks(df, l10p=3, l2fc=3):\n",
    "    return df[(df['l10p']>=l10p) & (df['l2fc']>=l2fc)]\n",
    "\n",
    "peaks = pd.read_table(rbfox2_bed, names=annotated_headers)\n",
    "print(peaks.shape[0])\n",
    "peaks['region'] = peaks.apply(return_region, axis=1)\n",
    "peaks = filter_peaks(peaks)\n",
    "print(peaks.shape[0])\n",
    "peaks.head()"
   ]
  },
  {
   "cell_type": "markdown",
   "metadata": {},
   "source": [
    "### For at least RBFOX2 STAMP data, we see the vast majority of peaks assigned to 3'UTR. For eCLIP, mostly intronic. However we'll use all peaks with motifs, regardless of their region annotation here."
   ]
  },
  {
   "cell_type": "code",
   "execution_count": 8,
   "metadata": {},
   "outputs": [
    {
     "data": {
      "text/plain": [
       "intron              6251\n",
       "3utr                 407\n",
       "noncoding_intron     307\n",
       "CDS                  248\n",
       "noncoding_exon       147\n",
       "5utr                 118\n",
       "Name: region, dtype: int64"
      ]
     },
     "execution_count": 8,
     "metadata": {},
     "output_type": "execute_result"
    }
   ],
   "source": [
    "peaks['region'].value_counts()"
   ]
  },
  {
   "cell_type": "code",
   "execution_count": 9,
   "metadata": {},
   "outputs": [
    {
     "name": "stdout",
     "output_type": "stream",
     "text": [
      "7478\n"
     ]
    }
   ],
   "source": [
    "# peaks = peaks[(peaks['region']=='CDS') | (peaks['region']=='3utr')]\n",
    "print(peaks.shape[0])"
   ]
  },
  {
   "cell_type": "markdown",
   "metadata": {},
   "source": [
    "# get the fasta sequences and check for existence of motif\n",
    "- From each peak, get the (strand-specific) sequence associated with that peak. \n",
    "- t -> u\n",
    "- *APOFOX only* should have 701 peaks with motif TGCATG with no slop (slop is the size of flanking bases on either side of the motif). \n",
    "- *APOFOX only* should have 1368 peaks with motif GCATG with no slop"
   ]
  },
  {
   "cell_type": "markdown",
   "metadata": {},
   "source": [
    "## Define the motif and slop parameters\n",
    "\n",
    "### Careful - a similar var \"window_slop\" is defined during window creation below."
   ]
  },
  {
   "cell_type": "code",
   "execution_count": 10,
   "metadata": {},
   "outputs": [],
   "source": [
    "slop = 0 # "
   ]
  },
  {
   "cell_type": "code",
   "execution_count": 11,
   "metadata": {},
   "outputs": [
    {
     "name": "stderr",
     "output_type": "stream",
     "text": [
      "/home/bay001/anaconda2/envs/python3-essential/lib/python3.6/site-packages/pybedtools/bedtool.py:3439: FutureWarning: read_table is deprecated, use read_csv instead, passing sep='\\t'.\n",
      "  return pandas.read_table(self.fn, *args, **kwargs)\n"
     ]
    },
    {
     "data": {
      "text/html": [
       "<div>\n",
       "<style scoped>\n",
       "    .dataframe tbody tr th:only-of-type {\n",
       "        vertical-align: middle;\n",
       "    }\n",
       "\n",
       "    .dataframe tbody tr th {\n",
       "        vertical-align: top;\n",
       "    }\n",
       "\n",
       "    .dataframe thead th {\n",
       "        text-align: right;\n",
       "    }\n",
       "</style>\n",
       "<table border=\"1\" class=\"dataframe\">\n",
       "  <thead>\n",
       "    <tr style=\"text-align: right;\">\n",
       "      <th></th>\n",
       "      <th>chrom</th>\n",
       "      <th>start</th>\n",
       "      <th>end</th>\n",
       "      <th>name</th>\n",
       "      <th>score</th>\n",
       "      <th>strand</th>\n",
       "    </tr>\n",
       "  </thead>\n",
       "  <tbody>\n",
       "    <tr>\n",
       "      <th>0</th>\n",
       "      <td>chr7</td>\n",
       "      <td>99949578</td>\n",
       "      <td>99949663</td>\n",
       "      <td>ENSG00000121716.14</td>\n",
       "      <td>0</td>\n",
       "      <td>+</td>\n",
       "    </tr>\n",
       "    <tr>\n",
       "      <th>1</th>\n",
       "      <td>chr7</td>\n",
       "      <td>76189536</td>\n",
       "      <td>76189625</td>\n",
       "      <td>ENSG00000243566.2</td>\n",
       "      <td>0</td>\n",
       "      <td>+</td>\n",
       "    </tr>\n",
       "    <tr>\n",
       "      <th>2</th>\n",
       "      <td>chr7</td>\n",
       "      <td>891283</td>\n",
       "      <td>891363</td>\n",
       "      <td>ENSG00000164828.13</td>\n",
       "      <td>0</td>\n",
       "      <td>+</td>\n",
       "    </tr>\n",
       "    <tr>\n",
       "      <th>3</th>\n",
       "      <td>chr7</td>\n",
       "      <td>44086401</td>\n",
       "      <td>44086504</td>\n",
       "      <td>ENSG00000136279.14</td>\n",
       "      <td>0</td>\n",
       "      <td>+</td>\n",
       "    </tr>\n",
       "    <tr>\n",
       "      <th>4</th>\n",
       "      <td>chr7</td>\n",
       "      <td>76199656</td>\n",
       "      <td>76199721</td>\n",
       "      <td>ENSG00000243566.2</td>\n",
       "      <td>0</td>\n",
       "      <td>+</td>\n",
       "    </tr>\n",
       "  </tbody>\n",
       "</table>\n",
       "</div>"
      ],
      "text/plain": [
       "  chrom     start       end                name  score strand\n",
       "0  chr7  99949578  99949663  ENSG00000121716.14      0      +\n",
       "1  chr7  76189536  76189625   ENSG00000243566.2      0      +\n",
       "2  chr7    891283    891363  ENSG00000164828.13      0      +\n",
       "3  chr7  44086401  44086504  ENSG00000136279.14      0      +\n",
       "4  chr7  76199656  76199721   ENSG00000243566.2      0      +"
      ]
     },
     "execution_count": 11,
     "metadata": {},
     "output_type": "execute_result"
    }
   ],
   "source": [
    "chrom_sizes = os.path.join(input_dir, 'hg19.chrom.sizes')\n",
    "\n",
    "def get_peak_interval_from_annotated_dataframe(df, slop=0, chrom_sizes=None):\n",
    "    \"\"\" \n",
    "    Returns a bedtool from a peaks dataframe. \n",
    "    Peaks dataframe is basically a df can come from an \"eric-annotated\" file so as long as it contains the correct fields. \n",
    "    \"\"\"\n",
    "    bedtool = []\n",
    "    for row in df.iterrows():\n",
    "        interval = pybedtools.create_interval_from_list([row[1]['chrom'], int(row[1]['start']), int(row[1]['end']), row[1]['geneid'], \"0\", row[1]['strand']])\n",
    "        bedtool.append(interval)\n",
    "    bedtool = pybedtools.BedTool(bedtool)\n",
    "    return bedtool.slop(b=slop, genome='hg19')\n",
    "\n",
    "# utr3_bedtool is a bedtool-ified version of the annotated dataframe for JUST 3'UTR peaks.\n",
    "bedtool = get_peak_interval_from_annotated_dataframe(peaks, slop=slop, chrom_sizes=chrom_sizes)\n",
    "bedtool.to_dataframe().head()"
   ]
  },
  {
   "cell_type": "code",
   "execution_count": 12,
   "metadata": {},
   "outputs": [],
   "source": [
    "def record_id_to_coords(id_string):\n",
    "    \"\"\" \n",
    "    Turns a seqrecord fasta id into coordinates.\n",
    "    seqrecord fasta ids (stranded) look like this:\n",
    "    \n",
    "    chr11:1774028-1774186(-)\n",
    "    \n",
    "    \"\"\"\n",
    "    chrom, pos = id_string.split(':')\n",
    "    coord, strand = pos.split('(')\n",
    "    strand = strand.replace(')','')\n",
    "    start, end = coord.split('-')\n",
    "    try:\n",
    "        assert (strand == '+') or (strand == '-')\n",
    "    except AssertionError:\n",
    "        print(\"Strand not correct: [{}]\".format(strand))\n",
    "        return 1\n",
    "    return chrom, int(start), int(end), strand"
   ]
  },
  {
   "cell_type": "markdown",
   "metadata": {},
   "source": [
    "# Get the sequence from peaks and save them"
   ]
  },
  {
   "cell_type": "code",
   "execution_count": 13,
   "metadata": {},
   "outputs": [],
   "source": [
    "hg19_fasta = os.path.join(input_dir, 'hg19.fa')\n",
    "bedtool = bedtool.sequence(fi=hg19_fasta, s=True)\n",
    "\n",
    "# save the temp file\n",
    "with open(os.path.join(output_dir, 'RBFOX2_peaks.fasta'), 'w') as f:\n",
    "    f.write(open(bedtool.seqfn).read())"
   ]
  },
  {
   "cell_type": "markdown",
   "metadata": {},
   "source": [
    "# sanity check - make sure there is a significant portion of peaks that contain the motif."
   ]
  },
  {
   "cell_type": "code",
   "execution_count": 14,
   "metadata": {},
   "outputs": [
    {
     "name": "stdout",
     "output_type": "stream",
     "text": [
      "Peaks with motif: 2852. Peaks WITHOUT motif: 4626\n"
     ]
    }
   ],
   "source": [
    "complement = {\n",
    "    'A': 'T', 'C': 'G', 'G': 'C', 'T': 'A',\n",
    "    'a': 't', 'c': 'g', 'g': 'c', 't': 'a'\n",
    "} \n",
    "\n",
    "def reverse_complement(seq):\n",
    "    \"\"\" returns the reverse complement of a sequence. \"\"\"\n",
    "    bases = list(seq) \n",
    "    bases = reversed([complement.get(base,base) for base in bases])\n",
    "    bases = ''.join(bases)\n",
    "    return bases\n",
    "\n",
    "pos = [] # length will be the number of all peaks; contains positions where a motif was found. \n",
    "with open(os.path.join(output_dir, 'RBFOX2_peaks.fasta'), 'r') as f:\n",
    "    for line in f:\n",
    "        if line.startswith('>'):\n",
    "            chrom, start, end, strand = record_id_to_coords(line[1:].rstrip())\n",
    "        else:\n",
    "            if strand == '+':\n",
    "                pos.append(line.upper().find(motif))\n",
    "            elif strand == '-':\n",
    "                pos.append(line.upper().find(motif)) # sequence is returned reverse-complemented, so we should be looking for the motif\n",
    "                # pos.append(line.find(reverse_complement(motif)))\n",
    "            else:\n",
    "                print('strand not correct: [{}]'.format(strand))\n",
    "\n",
    "no_motif_count = 0\n",
    "motif_count = 0\n",
    "\n",
    "pos_with_motif = [] # will contain the FIRST position in a read where the motif is found.\n",
    "\n",
    "for p in pos:\n",
    "    if p == -1: # can't find motif\n",
    "        no_motif_count += 1\n",
    "    else: # motif exists\n",
    "        motif_count += 1\n",
    "        pos_with_motif.append(p)\n",
    "        \n",
    "print(\"Peaks with motif: {}. Peaks WITHOUT motif: {}\".format(motif_count, no_motif_count))\n",
    "# Peaks with motif: 429. Peaks WITHOUT motif: 2836"
   ]
  },
  {
   "cell_type": "code",
   "execution_count": 15,
   "metadata": {},
   "outputs": [],
   "source": [
    "def make_hist(ax, x, bins=None, binlabels=None, width=0.85, extra_x=1, extra_y=4, \n",
    "              text_offset=0.3, title=r\"Frequency diagram\", \n",
    "              xlabel=\"Values\", ylabel=\"Frequency\", label=\"label\"):\n",
    "    \"\"\"\n",
    "    Draws a histogram of values of x (series or list)\n",
    "    \"\"\"\n",
    "    if bins is None:\n",
    "        xmax = max(x)+extra_x\n",
    "        bins = range(xmax+1)\n",
    "    if binlabels is None:\n",
    "        if np.issubdtype(np.asarray(x).dtype, np.integer):\n",
    "            binlabels = [str(bins[i]) if bins[i+1]-bins[i] == 1 else \n",
    "                         '{}-{}'.format(bins[i], bins[i+1]-1)\n",
    "                         for i in range(len(bins)-1)]\n",
    "        else:\n",
    "            binlabels = [str(bins[i]) if bins[i+1]-bins[i] == 1 else \n",
    "                         '{}-{}'.format(*bins[i:i+2])\n",
    "                         for i in range(len(bins)-1)]\n",
    "        if bins[-1] == np.inf:\n",
    "            binlabels[-1] = '{}+'.format(bins[-2])\n",
    "    \n",
    "    \n",
    "    n, bins = np.histogram(x, bins=bins, density=True)\n",
    "    # weights = np.ones_like(x)/len(x)\n",
    "    # n, bins = np.histogram(x, bins=bins, weights=weights)\n",
    "    patches = ax.bar(range(len(n)), n, align='center', width=width, label=label, alpha=0.4)\n",
    "    # ymax = max(n)+extra_y\n",
    "\n",
    "    ax.set_xticks(range(len(binlabels)))\n",
    "    ax.set_xticklabels(binlabels)\n",
    "\n",
    "    ax.set_title(title)\n",
    "    ax.set_xlabel(xlabel)\n",
    "    ax.set_ylabel(ylabel)\n",
    "    # ax.set_ylim(0, ymax)\n",
    "    ax.grid(True, axis='y')\n",
    "    # http://stackoverflow.com/a/28720127/190597 (peeol)\n",
    "    ax.spines['top'].set_visible(False)\n",
    "    ax.spines['right'].set_visible(False)\n",
    "    ax.spines['bottom'].set_visible(False)\n",
    "    ax.spines['left'].set_visible(False)\n",
    "    # http://stackoverflow.com/a/11417222/190597 (gcalmettes)\n",
    "    ax.xaxis.set_ticks_position('none')\n",
    "    ax.yaxis.set_ticks_position('none')\n",
    "    # autolabel(patches, text_offset)\n",
    "\n",
    "def autolabel(rects, shift=0.3):\n",
    "    \"\"\"\n",
    "    http://matplotlib.org/1.2.1/examples/pylab_examples/barchart_demo.html\n",
    "    \"\"\"\n",
    "    # attach some text labels\n",
    "    for rect in rects:\n",
    "        height = rect.get_height()\n",
    "        if height > 0:\n",
    "            plt.text(rect.get_x()+rect.get_width()/2., height+shift, '%d'%int(height),\n",
    "                     ha='center', va='bottom')"
   ]
  },
  {
   "cell_type": "markdown",
   "metadata": {},
   "source": []
  },
  {
   "cell_type": "markdown",
   "metadata": {},
   "source": [
    "# Plot the histogram of the positions within the peaks containing a motif\n",
    "- Should be close to the 5' end (crosslinking site?)\n",
    "- I'm simply replacing '.find()' with 're.finditer()' and finding all occurrences of the motif. \n",
    "- \"peaks with\" and \"peaks without\" motif no longer applies, since we're not counting peaks anymore.\n",
    "- ok looks about the same, that's good."
   ]
  },
  {
   "cell_type": "code",
   "execution_count": 16,
   "metadata": {},
   "outputs": [
    {
     "data": {
      "image/png": "[encoded data removed]",
      "text/plain": [
       "<Figure size 1080x1080 with 1 Axes>"
      ]
     },
     "metadata": {
      "needs_background": "light"
     },
     "output_type": "display_data"
    }
   ],
   "source": [
    "pos = [] # length will be the number of all OCCURRENCES OF MOTIF (can be more than peak num); contains positions where a motif was found. \n",
    "with open(os.path.join(output_dir, 'RBFOX2_peaks.fasta'), 'r') as f:\n",
    "    for line in f:\n",
    "        if line.startswith('>'):\n",
    "            chrom, start, end, strand = record_id_to_coords(line[1:].rstrip())\n",
    "        else:\n",
    "            if strand == '+':\n",
    "                pos += [p.start() for p in re.finditer(motif, line)]\n",
    "            elif strand == '-':\n",
    "                pos += [p.start() for p in re.finditer(motif, line)]\n",
    "            else:\n",
    "                print('strand not correct: [{}]'.format(strand))\n",
    "\n",
    "x = pos\n",
    "fig, ax = plt.subplots(figsize=(15,15))\n",
    "make_hist(ax, x, bins=list(range(0, 100, 5)), extra_y=6)\n",
    "for tick in ax.get_xticklabels():\n",
    "    tick.set_rotation(90)\n",
    "plt.title(\"Positions in read where motif {} is found (with offset = {})\".format(motif, slop))\n",
    "plt.show()"
   ]
  },
  {
   "cell_type": "markdown",
   "metadata": {},
   "source": [
    "### Let's read a few sequences and check our work\n",
    "- seqs_with_motif should be a list of SeqIO records containing a motif. \n",
    "- Let's print out a few sequences to ensure that we can find these motifs and that our work up until now is good. "
   ]
  },
  {
   "cell_type": "code",
   "execution_count": 17,
   "metadata": {},
   "outputs": [
    {
     "name": "stdout",
     "output_type": "stream",
     "text": [
      "chr7:99949578-99949663(+) TGGTGGTGGGTCATGCATGCTGGGGTGGCTCTCAGGTCCTCCCTGCTGGCTTCCCACTCCCAGGGGCTTTCTCCTCCCAGATTCC 14\n",
      "chr7:76189536-76189625(+) CCTATTCTGAAATCCTCACTGGTTTCCCCCCACCCCACCCCTCATGTCACTCAGAGTAAACCCTAACTTCGCATGTGCCTGACAGGGTC 70\n",
      "chr7:891283-891363(+) TACTTGCTGCATGAGCGCCCTTGGTTTCTCTGGGGTTGGGTCTGGGGGAAGTCCGGCTGCCTGAATGCCCGGTGCAGAGA 8\n",
      "chr7:44086401-44086504(+) CTTCCTGTTGCATGTTGAATAAAGCCTAGACTCCTTGCCCTGCTGATGCCCTGCATGACCCAGAACCTACCACCCCTTTCATTTACCACACTGTGGCCACACC 9\n",
      "chr7:76199656-76199721(+) TCTCTTGCATGTTTCAGGTATTTTTGCCATCTCAGGACTGAGAGGCCCTGGCAAACTGGCAGTTG 6\n"
     ]
    }
   ],
   "source": [
    "seqs_with_motif = []\n",
    "\n",
    "with open(os.path.join(output_dir, 'RBFOX2_peaks.fasta'), 'r') as f:\n",
    "    for record in SeqIO.parse(f, \"fasta\"):\n",
    "        chrom, start, end, strand = record_id_to_coords(record.id)\n",
    "        if strand == '+' and str(record.seq).upper().find(motif) != -1:\n",
    "            seqs_with_motif.append(record)\n",
    "        elif strand == '-' and str(record.seq).upper().find(motif) != -1:\n",
    "            seqs_with_motif.append(record)\n",
    "        else:\n",
    "            assert strand == '+' or strand == '-'\n",
    "        ### The following code is temporarily removed since I don't think we need to search for the reverse complement of the motif. ###\n",
    "        # elif strand == '-' and str(record.seq).find(reverse_complement(motif)) != -1:\n",
    "        #     if record.id == 'chr1:23411488-23411598(-)':\n",
    "        #         print(len(seqs_with_motif), record.seq, str(record.seq).find(motif))\n",
    "            \n",
    "for record in seqs_with_motif[:5]:\n",
    "    print(record.id, record.seq.upper(), record.seq.upper().find(motif))"
   ]
  },
  {
   "cell_type": "markdown",
   "metadata": {},
   "source": [
    "# Re-center genomic coordinates about the motif\n",
    "- Coordinates are currently based on the peak location. \n",
    "- Let's modify the coordinates so they are centered around where the motif is."
   ]
  },
  {
   "cell_type": "code",
   "execution_count": 18,
   "metadata": {},
   "outputs": [],
   "source": [
    "def get_coords_centered_on_motif(record, motif, n):\n",
    "    \"\"\" \n",
    "    Given a motif and a sequence, return genomic coordinates centered N bases around the motif.\n",
    "    \n",
    "    Regardless of strand, we're looking for the same motif although I wrote a code block to also \n",
    "    look for reverse complement motifs, if I need it. \n",
    "    \n",
    "    \"\"\"\n",
    "    chrom, start, end, strand = record_id_to_coords(record.id)\n",
    "    if strand == '+':\n",
    "        # relative positions\n",
    "        start_motif_pos = record.seq.upper().find(motif)\n",
    "        end_motif_pos = start_motif_pos + len(motif)\n",
    "        # actual genomic positions.\n",
    "        motif_genome_start = start + start_motif_pos\n",
    "        motif_genome_end = start + end_motif_pos \n",
    "        # if we wanted to add n bases on either side\n",
    "        flank_genome_start = motif_genome_start - n\n",
    "        flank_genome_end = motif_genome_end + n\n",
    "    elif strand == '-':\n",
    "        dna_seq = reverse_complement(record.seq.upper()) # Bedtools sequence returns the reverse complemented sequence.\n",
    "        \n",
    "        start_motif_pos = dna_seq.find(reverse_complement(motif))\n",
    "        end_motif_pos = start_motif_pos + len(motif)\n",
    "        \n",
    "        motif_genome_start = start + start_motif_pos\n",
    "        motif_genome_end = start + end_motif_pos \n",
    "\n",
    "        flank_genome_start = motif_genome_start - n\n",
    "        flank_genome_end = motif_genome_end + n\n",
    "    else:\n",
    "        print(\"Strand error\")\n",
    "        return -1, -1\n",
    "    if start_motif_pos == -1:\n",
    "        return -1, -1\n",
    "    return chrom, flank_genome_start, flank_genome_end, strand"
   ]
  },
  {
   "cell_type": "raw",
   "metadata": {},
   "source": [
    "i = 0\n",
    "for seqrecord in seqs_with_motif:\n",
    "    if '(-)' in seqrecord.id:\n",
    "        print(i)\n",
    "    i+=1"
   ]
  },
  {
   "cell_type": "markdown",
   "metadata": {},
   "source": [
    "### Let's check my work again"
   ]
  },
  {
   "cell_type": "raw",
   "metadata": {},
   "source": [
    "# Random '-' strand sequence\n",
    "print(seqs_with_motif[61].id, reverse_complement(seqs_with_motif[61].seq), get_coords_centered_on_motif(seqs_with_motif[61], motif=motif, n=0))\n",
    "# Random '+' strand sequence\n",
    "print(seqs_with_motif[46].id, seqs_with_motif[46].seq, get_coords_centered_on_motif(seqs_with_motif[46], motif=motif, n=0))"
   ]
  },
  {
   "cell_type": "markdown",
   "metadata": {},
   "source": [
    "# Now we have coordinates centered around motifs within 3'UTR RBFOX2 peaks. Let's convert to bedtool objects (motif_centric_bedtoaol)\n",
    "- seqs_with_motif -> motif_centric_bedtool\n",
    "- save as *.motif_centric_coords.bed"
   ]
  },
  {
   "cell_type": "code",
   "execution_count": 19,
   "metadata": {},
   "outputs": [
    {
     "name": "stderr",
     "output_type": "stream",
     "text": [
      "/home/bay001/anaconda2/envs/python3-essential/lib/python3.6/site-packages/pybedtools/bedtool.py:3439: FutureWarning: read_table is deprecated, use read_csv instead, passing sep='\\t'.\n",
      "  return pandas.read_table(self.fn, *args, **kwargs)\n"
     ]
    },
    {
     "data": {
      "text/html": [
       "<div>\n",
       "<style scoped>\n",
       "    .dataframe tbody tr th:only-of-type {\n",
       "        vertical-align: middle;\n",
       "    }\n",
       "\n",
       "    .dataframe tbody tr th {\n",
       "        vertical-align: top;\n",
       "    }\n",
       "\n",
       "    .dataframe thead th {\n",
       "        text-align: right;\n",
       "    }\n",
       "</style>\n",
       "<table border=\"1\" class=\"dataframe\">\n",
       "  <thead>\n",
       "    <tr style=\"text-align: right;\">\n",
       "      <th></th>\n",
       "      <th>chrom</th>\n",
       "      <th>start</th>\n",
       "      <th>end</th>\n",
       "      <th>name</th>\n",
       "      <th>score</th>\n",
       "      <th>strand</th>\n",
       "    </tr>\n",
       "  </thead>\n",
       "  <tbody>\n",
       "    <tr>\n",
       "      <th>0</th>\n",
       "      <td>chr1</td>\n",
       "      <td>781911</td>\n",
       "      <td>781916</td>\n",
       "      <td>chr1:781896-781968(+)</td>\n",
       "      <td>0</td>\n",
       "      <td>+</td>\n",
       "    </tr>\n",
       "    <tr>\n",
       "      <th>1</th>\n",
       "      <td>chr1</td>\n",
       "      <td>790567</td>\n",
       "      <td>790572</td>\n",
       "      <td>chr1:790534-790625(+)</td>\n",
       "      <td>0</td>\n",
       "      <td>+</td>\n",
       "    </tr>\n",
       "    <tr>\n",
       "      <th>2</th>\n",
       "      <td>chr1</td>\n",
       "      <td>790639</td>\n",
       "      <td>790644</td>\n",
       "      <td>chr1:790625-790698(+)</td>\n",
       "      <td>0</td>\n",
       "      <td>+</td>\n",
       "    </tr>\n",
       "    <tr>\n",
       "      <th>3</th>\n",
       "      <td>chr1</td>\n",
       "      <td>790921</td>\n",
       "      <td>790926</td>\n",
       "      <td>chr1:790898-790934(+)</td>\n",
       "      <td>0</td>\n",
       "      <td>+</td>\n",
       "    </tr>\n",
       "    <tr>\n",
       "      <th>4</th>\n",
       "      <td>chr1</td>\n",
       "      <td>791159</td>\n",
       "      <td>791164</td>\n",
       "      <td>chr1:791131-791181(+)</td>\n",
       "      <td>0</td>\n",
       "      <td>+</td>\n",
       "    </tr>\n",
       "  </tbody>\n",
       "</table>\n",
       "</div>"
      ],
      "text/plain": [
       "  chrom   start     end                   name  score strand\n",
       "0  chr1  781911  781916  chr1:781896-781968(+)      0      +\n",
       "1  chr1  790567  790572  chr1:790534-790625(+)      0      +\n",
       "2  chr1  790639  790644  chr1:790625-790698(+)      0      +\n",
       "3  chr1  790921  790926  chr1:790898-790934(+)      0      +\n",
       "4  chr1  791159  791164  chr1:791131-791181(+)      0      +"
      ]
     },
     "execution_count": 19,
     "metadata": {},
     "output_type": "execute_result"
    }
   ],
   "source": [
    "def coords_to_bedtool(chrom, start, end, name, score, strand):\n",
    "    \"\"\" Just returns bedtool intervals from gene coords. \"\"\"\n",
    "    return pybedtools.create_interval_from_list(\n",
    "        [chrom, str(start), str(end), name, str(score), strand]\n",
    "    )\n",
    "\n",
    "bedtool = []\n",
    "for record in seqs_with_motif:\n",
    "    chrom, start, end, strand = get_coords_centered_on_motif(record, motif=motif, n=0)\n",
    "    interval = coords_to_bedtool(chrom, start, end, record.id, \"0\", strand)\n",
    "    bedtool.append(interval)\n",
    "\n",
    "motif_centric_bedtool = pybedtools.BedTool(bedtool).sort()\n",
    "\n",
    "# all coords should contain 'GCATG' or whatever the motif was specified before\n",
    "motif_centric_bedtool.to_dataframe().head()"
   ]
  },
  {
   "cell_type": "markdown",
   "metadata": {},
   "source": [
    "# Check windows that contain more than one motif.\n",
    "- If we notice that there is not any enrichment around regions surrounding the motif, we should remove regions that contain more than one motif. However in doing so, we end up filtering many peaks, so there is a tradeoff.\n",
    "- to do this, we'll need to first generate a window centered around the within-peak motif\n",
    "- then we will need to get teh associated sequences\n",
    "- remove any sequence that has more than one occurrence of the motif\n",
    "- convert filtered seqs back to a BED file for easier downstream analysis parsing\n",
    "- because these regions are now slopped, I need to remove the slop to get back to the original coords (centered only around the motif)"
   ]
  },
  {
   "cell_type": "code",
   "execution_count": 20,
   "metadata": {},
   "outputs": [],
   "source": [
    "# Define the size of the window surrounding the motif.\n",
    "window_len = 600\n",
    "window_slop = int(window_len/2)"
   ]
  },
  {
   "cell_type": "code",
   "execution_count": 21,
   "metadata": {},
   "outputs": [
    {
     "name": "stdout",
     "output_type": "stream",
     "text": [
      "789 2063 2852\n"
     ]
    }
   ],
   "source": [
    "def get_motif_loc_from_slopped_coords(chrom, start, end, motif, strand, window_slop):\n",
    "    \"\"\" \n",
    "    I think I need this function to revert back to the original motif coords \n",
    "    (coords without the window slop). I do this because in the next cells I'll need\n",
    "    to determine the distance of edits from these motifs, and to do this I'll need \n",
    "    to call bedtools closest() on the motif-centric coordinates. \n",
    "    *Note* Using \"motif\" param as just the name, not that important\n",
    "    \"\"\"\n",
    "    return pybedtools.create_interval_from_list(\n",
    "        [chrom, str(start + window_slop), str(end - window_slop), motif, '0', strand]\n",
    "    )\n",
    "    \n",
    "motif_centric_bedtool_wflank = motif_centric_bedtool.slop(b=window_slop, genome='hg19')\n",
    "motif_centric_sequences_wflank = motif_centric_bedtool_wflank.sequence(fi=hg19_fasta, s=True)\n",
    "\n",
    "# save the temp file\n",
    "with open(os.path.join(output_dir, 'RBFOX2_peaks_motif_centric_sequences_wflank.fasta'), 'w') as f:\n",
    "    f.write(open(motif_centric_sequences_wflank.seqfn).read())\n",
    "\n",
    "# open the temp file and look for multiple occurrences of the motif. Keep \n",
    "filtered_records = []\n",
    "\n",
    "clustered = 0  # number of windows with more than one motif\n",
    "unclustered = 0  # number of windows with exit \n",
    "all_records = 0\n",
    "\n",
    "with open(os.path.join(output_dir, 'RBFOX2_peaks_motif_centric_sequences_wflank.fasta'), 'r') as f:\n",
    "    for record in SeqIO.parse(f, \"fasta\"):\n",
    "        all_records += 1\n",
    "        pos = [p.start() for p in re.finditer(motif, str(record.seq).upper())]\n",
    "        assert len(pos) > 0 # all sequences MUST have at least one motif.\n",
    "        if len(pos) == 1: # just finds one occurrence of motif within the window\n",
    "            filtered_records.append(record)\n",
    "            unclustered += 1\n",
    "        elif len(pos) > 1:\n",
    "            clustered += 1\n",
    "            \n",
    "SeqIO.write(\n",
    "    filtered_records, \n",
    "    os.path.join(\n",
    "        output_dir, \n",
    "        'RBFOX2_peaks_motif_centric_sequences_wflank.filtered.fasta'\n",
    "    ), \n",
    "    \"fasta\"\n",
    ")\n",
    "\n",
    "intervals = []\n",
    "with open(os.path.join(output_dir, 'RBFOX2_peaks_motif_centric_sequences_wflank.fasta'), 'r') as f:\n",
    "    for line in f:\n",
    "        if line.startswith('>'):\n",
    "            chrom, start, end, strand = record_id_to_coords(line[1:].rstrip())\n",
    "            intervals.append(\n",
    "                get_motif_loc_from_slopped_coords(\n",
    "                    chrom, start, end, motif, strand, window_slop\n",
    "                )\n",
    "            )\n",
    "filtered_motif_centric_bedtool = pybedtools.BedTool(intervals)\n",
    "\n",
    "print(unclustered, clustered, all_records)"
   ]
  },
  {
   "cell_type": "markdown",
   "metadata": {},
   "source": [
    "# Check a few regions to ensure correctness of the above"
   ]
  },
  {
   "cell_type": "code",
   "execution_count": 22,
   "metadata": {},
   "outputs": [
    {
     "name": "stderr",
     "output_type": "stream",
     "text": [
      "/home/bay001/anaconda2/envs/python3-essential/lib/python3.6/site-packages/pybedtools/bedtool.py:3439: FutureWarning: read_table is deprecated, use read_csv instead, passing sep='\\t'.\n",
      "  return pandas.read_table(self.fn, *args, **kwargs)\n"
     ]
    },
    {
     "data": {
      "text/html": [
       "<div>\n",
       "<style scoped>\n",
       "    .dataframe tbody tr th:only-of-type {\n",
       "        vertical-align: middle;\n",
       "    }\n",
       "\n",
       "    .dataframe tbody tr th {\n",
       "        vertical-align: top;\n",
       "    }\n",
       "\n",
       "    .dataframe thead th {\n",
       "        text-align: right;\n",
       "    }\n",
       "</style>\n",
       "<table border=\"1\" class=\"dataframe\">\n",
       "  <thead>\n",
       "    <tr style=\"text-align: right;\">\n",
       "      <th></th>\n",
       "      <th>chrom</th>\n",
       "      <th>start</th>\n",
       "      <th>end</th>\n",
       "      <th>name</th>\n",
       "      <th>score</th>\n",
       "      <th>strand</th>\n",
       "    </tr>\n",
       "  </thead>\n",
       "  <tbody>\n",
       "    <tr>\n",
       "      <th>0</th>\n",
       "      <td>chr1</td>\n",
       "      <td>781911</td>\n",
       "      <td>781916</td>\n",
       "      <td>GCATG</td>\n",
       "      <td>0</td>\n",
       "      <td>+</td>\n",
       "    </tr>\n",
       "    <tr>\n",
       "      <th>1</th>\n",
       "      <td>chr1</td>\n",
       "      <td>790567</td>\n",
       "      <td>790572</td>\n",
       "      <td>GCATG</td>\n",
       "      <td>0</td>\n",
       "      <td>+</td>\n",
       "    </tr>\n",
       "    <tr>\n",
       "      <th>2</th>\n",
       "      <td>chr1</td>\n",
       "      <td>790639</td>\n",
       "      <td>790644</td>\n",
       "      <td>GCATG</td>\n",
       "      <td>0</td>\n",
       "      <td>+</td>\n",
       "    </tr>\n",
       "    <tr>\n",
       "      <th>3</th>\n",
       "      <td>chr1</td>\n",
       "      <td>790921</td>\n",
       "      <td>790926</td>\n",
       "      <td>GCATG</td>\n",
       "      <td>0</td>\n",
       "      <td>+</td>\n",
       "    </tr>\n",
       "    <tr>\n",
       "      <th>4</th>\n",
       "      <td>chr1</td>\n",
       "      <td>791159</td>\n",
       "      <td>791164</td>\n",
       "      <td>GCATG</td>\n",
       "      <td>0</td>\n",
       "      <td>+</td>\n",
       "    </tr>\n",
       "    <tr>\n",
       "      <th>5</th>\n",
       "      <td>chr1</td>\n",
       "      <td>885510</td>\n",
       "      <td>885515</td>\n",
       "      <td>GCATG</td>\n",
       "      <td>0</td>\n",
       "      <td>-</td>\n",
       "    </tr>\n",
       "    <tr>\n",
       "      <th>6</th>\n",
       "      <td>chr1</td>\n",
       "      <td>885560</td>\n",
       "      <td>885565</td>\n",
       "      <td>GCATG</td>\n",
       "      <td>0</td>\n",
       "      <td>-</td>\n",
       "    </tr>\n",
       "    <tr>\n",
       "      <th>7</th>\n",
       "      <td>chr1</td>\n",
       "      <td>885771</td>\n",
       "      <td>885776</td>\n",
       "      <td>GCATG</td>\n",
       "      <td>0</td>\n",
       "      <td>-</td>\n",
       "    </tr>\n",
       "    <tr>\n",
       "      <th>8</th>\n",
       "      <td>chr1</td>\n",
       "      <td>886090</td>\n",
       "      <td>886095</td>\n",
       "      <td>GCATG</td>\n",
       "      <td>0</td>\n",
       "      <td>-</td>\n",
       "    </tr>\n",
       "    <tr>\n",
       "      <th>9</th>\n",
       "      <td>chr1</td>\n",
       "      <td>888020</td>\n",
       "      <td>888025</td>\n",
       "      <td>GCATG</td>\n",
       "      <td>0</td>\n",
       "      <td>-</td>\n",
       "    </tr>\n",
       "    <tr>\n",
       "      <th>10</th>\n",
       "      <td>chr1</td>\n",
       "      <td>988446</td>\n",
       "      <td>988451</td>\n",
       "      <td>GCATG</td>\n",
       "      <td>0</td>\n",
       "      <td>+</td>\n",
       "    </tr>\n",
       "    <tr>\n",
       "      <th>11</th>\n",
       "      <td>chr1</td>\n",
       "      <td>988592</td>\n",
       "      <td>988597</td>\n",
       "      <td>GCATG</td>\n",
       "      <td>0</td>\n",
       "      <td>+</td>\n",
       "    </tr>\n",
       "    <tr>\n",
       "      <th>12</th>\n",
       "      <td>chr1</td>\n",
       "      <td>988731</td>\n",
       "      <td>988736</td>\n",
       "      <td>GCATG</td>\n",
       "      <td>0</td>\n",
       "      <td>+</td>\n",
       "    </tr>\n",
       "    <tr>\n",
       "      <th>13</th>\n",
       "      <td>chr1</td>\n",
       "      <td>1047829</td>\n",
       "      <td>1047834</td>\n",
       "      <td>GCATG</td>\n",
       "      <td>0</td>\n",
       "      <td>-</td>\n",
       "    </tr>\n",
       "    <tr>\n",
       "      <th>14</th>\n",
       "      <td>chr1</td>\n",
       "      <td>1047860</td>\n",
       "      <td>1047865</td>\n",
       "      <td>GCATG</td>\n",
       "      <td>0</td>\n",
       "      <td>-</td>\n",
       "    </tr>\n",
       "  </tbody>\n",
       "</table>\n",
       "</div>"
      ],
      "text/plain": [
       "   chrom    start      end   name  score strand\n",
       "0   chr1   781911   781916  GCATG      0      +\n",
       "1   chr1   790567   790572  GCATG      0      +\n",
       "2   chr1   790639   790644  GCATG      0      +\n",
       "3   chr1   790921   790926  GCATG      0      +\n",
       "4   chr1   791159   791164  GCATG      0      +\n",
       "5   chr1   885510   885515  GCATG      0      -\n",
       "6   chr1   885560   885565  GCATG      0      -\n",
       "7   chr1   885771   885776  GCATG      0      -\n",
       "8   chr1   886090   886095  GCATG      0      -\n",
       "9   chr1   888020   888025  GCATG      0      -\n",
       "10  chr1   988446   988451  GCATG      0      +\n",
       "11  chr1   988592   988597  GCATG      0      +\n",
       "12  chr1   988731   988736  GCATG      0      +\n",
       "13  chr1  1047829  1047834  GCATG      0      -\n",
       "14  chr1  1047860  1047865  GCATG      0      -"
      ]
     },
     "execution_count": 22,
     "metadata": {},
     "output_type": "execute_result"
    }
   ],
   "source": [
    "filtered_motif_centric_bedtool.to_dataframe().head(15)"
   ]
  },
  {
   "cell_type": "markdown",
   "metadata": {},
   "source": [
    "# Per Shashank's suggestion, try centering the analysis on the 'C' of the TGCATG motif. Makes the 0-overlap less ambiguous than performing analysis on the TGCATG motif itself."
   ]
  },
  {
   "cell_type": "code",
   "execution_count": 23,
   "metadata": {},
   "outputs": [
    {
     "name": "stderr",
     "output_type": "stream",
     "text": [
      "/home/bay001/anaconda2/envs/python3-essential/lib/python3.6/site-packages/ipykernel_launcher.py:7: SettingWithCopyWarning: \n",
      "A value is trying to be set on a copy of a slice from a DataFrame.\n",
      "Try using .loc[row_indexer,col_indexer] = value instead\n",
      "\n",
      "See the caveats in the documentation: http://pandas.pydata.org/pandas-docs/stable/indexing.html#indexing-view-versus-copy\n",
      "  import sys\n",
      "/home/bay001/anaconda2/envs/python3-essential/lib/python3.6/site-packages/ipykernel_launcher.py:8: SettingWithCopyWarning: \n",
      "A value is trying to be set on a copy of a slice from a DataFrame.\n",
      "Try using .loc[row_indexer,col_indexer] = value instead\n",
      "\n",
      "See the caveats in the documentation: http://pandas.pydata.org/pandas-docs/stable/indexing.html#indexing-view-versus-copy\n",
      "  \n",
      "/home/bay001/anaconda2/envs/python3-essential/lib/python3.6/site-packages/ipykernel_launcher.py:12: SettingWithCopyWarning: \n",
      "A value is trying to be set on a copy of a slice from a DataFrame.\n",
      "Try using .loc[row_indexer,col_indexer] = value instead\n",
      "\n",
      "See the caveats in the documentation: http://pandas.pydata.org/pandas-docs/stable/indexing.html#indexing-view-versus-copy\n",
      "  if sys.path[0] == '':\n",
      "/home/bay001/anaconda2/envs/python3-essential/lib/python3.6/site-packages/ipykernel_launcher.py:13: SettingWithCopyWarning: \n",
      "A value is trying to be set on a copy of a slice from a DataFrame.\n",
      "Try using .loc[row_indexer,col_indexer] = value instead\n",
      "\n",
      "See the caveats in the documentation: http://pandas.pydata.org/pandas-docs/stable/indexing.html#indexing-view-versus-copy\n",
      "  del sys.path[0]\n"
     ]
    }
   ],
   "source": [
    "filtered_motif_centric_bedtool = filtered_motif_centric_bedtool.to_dataframe()\n",
    "\n",
    "pos_strand_filtered = filtered_motif_centric_bedtool[filtered_motif_centric_bedtool['strand']=='+']\n",
    "neg_strand_filtered = filtered_motif_centric_bedtool[filtered_motif_centric_bedtool['strand']=='-']\n",
    "\n",
    "# careful to do this in end first, start second. \n",
    "pos_strand_filtered['end'] = pos_strand_filtered['start'] + 2 \n",
    "pos_strand_filtered['start'] = pos_strand_filtered['start'] + 1  # -> GCATG (\"C\" is the 1st 0-based position)\n",
    "# pos_strand_filtered['end'] = pos_strand_filtered['start'] + 3 \n",
    "# pos_strand_filtered['start'] = pos_strand_filtered['start'] + 2  # -> TGCATG (\"C\" is the 2nd 0-based position)\n",
    "\n",
    "neg_strand_filtered['end'] = neg_strand_filtered['start'] + 4\n",
    "neg_strand_filtered['start'] = neg_strand_filtered['start'] + 3  # -> CATGC (\"G\" is the 3rd 0-based position)\n",
    "\n",
    "filtered_motif_centric_bedtool = pd.concat([pos_strand_filtered, neg_strand_filtered])\n",
    "\n",
    "filtered_motif_centric_bedtool = pybedtools.BedTool.from_dataframe(filtered_motif_centric_bedtool).sort()"
   ]
  },
  {
   "cell_type": "code",
   "execution_count": 24,
   "metadata": {},
   "outputs": [
    {
     "name": "stderr",
     "output_type": "stream",
     "text": [
      "/home/bay001/anaconda2/envs/python3-essential/lib/python3.6/site-packages/pybedtools/bedtool.py:3439: FutureWarning: read_table is deprecated, use read_csv instead, passing sep='\\t'.\n",
      "  return pandas.read_table(self.fn, *args, **kwargs)\n"
     ]
    },
    {
     "data": {
      "text/html": [
       "<div>\n",
       "<style scoped>\n",
       "    .dataframe tbody tr th:only-of-type {\n",
       "        vertical-align: middle;\n",
       "    }\n",
       "\n",
       "    .dataframe tbody tr th {\n",
       "        vertical-align: top;\n",
       "    }\n",
       "\n",
       "    .dataframe thead th {\n",
       "        text-align: right;\n",
       "    }\n",
       "</style>\n",
       "<table border=\"1\" class=\"dataframe\">\n",
       "  <thead>\n",
       "    <tr style=\"text-align: right;\">\n",
       "      <th></th>\n",
       "      <th>chrom</th>\n",
       "      <th>start</th>\n",
       "      <th>end</th>\n",
       "      <th>name</th>\n",
       "      <th>score</th>\n",
       "      <th>strand</th>\n",
       "    </tr>\n",
       "  </thead>\n",
       "  <tbody>\n",
       "    <tr>\n",
       "      <th>0</th>\n",
       "      <td>chr1</td>\n",
       "      <td>781912</td>\n",
       "      <td>781913</td>\n",
       "      <td>GCATG</td>\n",
       "      <td>0</td>\n",
       "      <td>+</td>\n",
       "    </tr>\n",
       "    <tr>\n",
       "      <th>1</th>\n",
       "      <td>chr1</td>\n",
       "      <td>790568</td>\n",
       "      <td>790569</td>\n",
       "      <td>GCATG</td>\n",
       "      <td>0</td>\n",
       "      <td>+</td>\n",
       "    </tr>\n",
       "    <tr>\n",
       "      <th>2</th>\n",
       "      <td>chr1</td>\n",
       "      <td>790640</td>\n",
       "      <td>790641</td>\n",
       "      <td>GCATG</td>\n",
       "      <td>0</td>\n",
       "      <td>+</td>\n",
       "    </tr>\n",
       "    <tr>\n",
       "      <th>3</th>\n",
       "      <td>chr1</td>\n",
       "      <td>790922</td>\n",
       "      <td>790923</td>\n",
       "      <td>GCATG</td>\n",
       "      <td>0</td>\n",
       "      <td>+</td>\n",
       "    </tr>\n",
       "    <tr>\n",
       "      <th>4</th>\n",
       "      <td>chr1</td>\n",
       "      <td>791160</td>\n",
       "      <td>791161</td>\n",
       "      <td>GCATG</td>\n",
       "      <td>0</td>\n",
       "      <td>+</td>\n",
       "    </tr>\n",
       "    <tr>\n",
       "      <th>5</th>\n",
       "      <td>chr1</td>\n",
       "      <td>885513</td>\n",
       "      <td>885514</td>\n",
       "      <td>GCATG</td>\n",
       "      <td>0</td>\n",
       "      <td>-</td>\n",
       "    </tr>\n",
       "    <tr>\n",
       "      <th>6</th>\n",
       "      <td>chr1</td>\n",
       "      <td>885563</td>\n",
       "      <td>885564</td>\n",
       "      <td>GCATG</td>\n",
       "      <td>0</td>\n",
       "      <td>-</td>\n",
       "    </tr>\n",
       "    <tr>\n",
       "      <th>7</th>\n",
       "      <td>chr1</td>\n",
       "      <td>885774</td>\n",
       "      <td>885775</td>\n",
       "      <td>GCATG</td>\n",
       "      <td>0</td>\n",
       "      <td>-</td>\n",
       "    </tr>\n",
       "    <tr>\n",
       "      <th>8</th>\n",
       "      <td>chr1</td>\n",
       "      <td>886093</td>\n",
       "      <td>886094</td>\n",
       "      <td>GCATG</td>\n",
       "      <td>0</td>\n",
       "      <td>-</td>\n",
       "    </tr>\n",
       "    <tr>\n",
       "      <th>9</th>\n",
       "      <td>chr1</td>\n",
       "      <td>888023</td>\n",
       "      <td>888024</td>\n",
       "      <td>GCATG</td>\n",
       "      <td>0</td>\n",
       "      <td>-</td>\n",
       "    </tr>\n",
       "    <tr>\n",
       "      <th>10</th>\n",
       "      <td>chr1</td>\n",
       "      <td>988447</td>\n",
       "      <td>988448</td>\n",
       "      <td>GCATG</td>\n",
       "      <td>0</td>\n",
       "      <td>+</td>\n",
       "    </tr>\n",
       "    <tr>\n",
       "      <th>11</th>\n",
       "      <td>chr1</td>\n",
       "      <td>988593</td>\n",
       "      <td>988594</td>\n",
       "      <td>GCATG</td>\n",
       "      <td>0</td>\n",
       "      <td>+</td>\n",
       "    </tr>\n",
       "    <tr>\n",
       "      <th>12</th>\n",
       "      <td>chr1</td>\n",
       "      <td>988732</td>\n",
       "      <td>988733</td>\n",
       "      <td>GCATG</td>\n",
       "      <td>0</td>\n",
       "      <td>+</td>\n",
       "    </tr>\n",
       "    <tr>\n",
       "      <th>13</th>\n",
       "      <td>chr1</td>\n",
       "      <td>1047832</td>\n",
       "      <td>1047833</td>\n",
       "      <td>GCATG</td>\n",
       "      <td>0</td>\n",
       "      <td>-</td>\n",
       "    </tr>\n",
       "    <tr>\n",
       "      <th>14</th>\n",
       "      <td>chr1</td>\n",
       "      <td>1047863</td>\n",
       "      <td>1047864</td>\n",
       "      <td>GCATG</td>\n",
       "      <td>0</td>\n",
       "      <td>-</td>\n",
       "    </tr>\n",
       "  </tbody>\n",
       "</table>\n",
       "</div>"
      ],
      "text/plain": [
       "   chrom    start      end   name  score strand\n",
       "0   chr1   781912   781913  GCATG      0      +\n",
       "1   chr1   790568   790569  GCATG      0      +\n",
       "2   chr1   790640   790641  GCATG      0      +\n",
       "3   chr1   790922   790923  GCATG      0      +\n",
       "4   chr1   791160   791161  GCATG      0      +\n",
       "5   chr1   885513   885514  GCATG      0      -\n",
       "6   chr1   885563   885564  GCATG      0      -\n",
       "7   chr1   885774   885775  GCATG      0      -\n",
       "8   chr1   886093   886094  GCATG      0      -\n",
       "9   chr1   888023   888024  GCATG      0      -\n",
       "10  chr1   988447   988448  GCATG      0      +\n",
       "11  chr1   988593   988594  GCATG      0      +\n",
       "12  chr1   988732   988733  GCATG      0      +\n",
       "13  chr1  1047832  1047833  GCATG      0      -\n",
       "14  chr1  1047863  1047864  GCATG      0      -"
      ]
     },
     "execution_count": 24,
     "metadata": {},
     "output_type": "execute_result"
    }
   ],
   "source": [
    "filtered_motif_centric_bedtool.to_dataframe().head(15)"
   ]
  },
  {
   "cell_type": "code",
   "execution_count": 25,
   "metadata": {},
   "outputs": [
    {
     "name": "stdout",
     "output_type": "stream",
     "text": [
      ">chr1:879726-880131(-)\n",
      "GCTGGCCCAGGGGCCGGAGGACGAGCTGGAGGATCTGCAGCTCTCAGAGGACGACTGAGGCAGCCCATCTGGGGGGCCTGTAGGGGCTGCCGGGCTGGTGGCCAGTGTTTCCACCTCCCTGGCAGTCAGGCCTAGAGGCTGGCGTCTGTGCAGTTGGGGGAGGCAGTAGACACGGGACAGGCTTTATTATTTATTTTTCAGCATGAAAGACCAAACGTATCGAGAGCTGGGCTGGGCTGGGCTGGTGTGGCTGCTGAAGCCCCACAGCTGTGGGCTGCTGAAGTCAGCTCCGCGGGGGAGCTGACCCTGACGTCAGCAGACCGAGACCAGTCCCAGTTCCAGGGGGAGGCCTGCAGGCCCCTGGCCCCTTCCACCACCTCTGCCCTCCGTCTGCAGACCTCGTCC\n",
      ">chr1:2116316-2116721(+)\n",
      "GAACACACGGTCACCCCCCTCCCCCCTGCCACCTTTGCCCACAGGGATGCCATAAAGAGGATCGACCAGTCAGAGTTCGAAGGCTTTGAGTATATCAACCCATTATTGCTGTCCACCGAGGAGTCGGTGTGAGGCCGCGTGCGTCTCTGTCGTGGACACGCGTGATTGACCCTTTAACTGTATCCTTAACCACCGCATATGCATGCCAGGCTGGGCACGGCTCCGAGGGCGGCCAGGGACAGACGCTTGCGCCGAGACCGCAGAGGGAAGCGTCAGCGGGCGCTGCTGGGAGCAGAACAGTCCCTCACACCTGGGCCCGGGCAGGCCAGCTTCGTGCTGGAGGAACTTGCTGCTGTGCCTGCGTCGCGGCGGATCCGCGGGGACCCTGCCGAGGGGGCTGTCATG\n",
      ">chr1:7840379-7840784(+)\n",
      "TTGCCAAAAAGTTAAATACCGATAAAATGGCCTTAAGTGTATTCCTGACAGTTAAATTCAGAAACGTGCCAAATGGAACTCAAGGTGCCCCTTCAGAATTAAAATCATTACCTTGTGTGTGAACCTTCTACATCTTCATAGGCCTTTCTTCCTTTTGAAAGGCTGTAGACAGTGTGGCTCCCCTTCTGATTCAGTATTTTGCATGGGGGTTAGAGAAGGTTTGAGGTAGACTCTGACCGTCTCATAAAAGAGTTCTACCCAGCAGTTGGCAGATTATCAGCTGTGGACTCCAGCATGTTTCTGATAATTATGCAAGCAACAATTCTGTAGCCTCAAGTAAGACCACCTGTGAACTTGATCATTATCTGGCCCAAATATGAAGATAAACTATAACTTTGGAGTTTG\n"
     ]
    }
   ],
   "source": [
    "for interval in [\n",
    "    ['chr1', '879726', '880131', 'negative-strand', '0', '-'],\n",
    "    ['chr1', '2116316', '2116721', 'positive-strand', '0', '+'],\n",
    "    ['chr1', '7840379', '7840784', 'positive-strand-filtered', '0', '+']\n",
    "]:\n",
    "    region, sequence, _ = open(\n",
    "        pybedtools.BedTool(\n",
    "            [pybedtools.create_interval_from_list(interval)]\n",
    "        ).sequence(\n",
    "            fi=hg19_fasta, s=True\n",
    "        ).seqfn\n",
    "    ).read().split('\\n')\n",
    "    print(\"{}\\n{}\".format(region, sequence.upper()))"
   ]
  },
  {
   "cell_type": "markdown",
   "metadata": {},
   "source": [
    "# Now let's see how close editing sites are to each motif-centered peak"
   ]
  },
  {
   "cell_type": "markdown",
   "metadata": {},
   "source": [
    "### First let's use a cutoff conf score defined here"
   ]
  },
  {
   "cell_type": "code",
   "execution_count": 26,
   "metadata": {},
   "outputs": [
    {
     "name": "stderr",
     "output_type": "stream",
     "text": [
      "/home/bay001/anaconda2/envs/python3-essential/lib/python3.6/site-packages/ipykernel_launcher.py:5: FutureWarning: read_table is deprecated, use read_csv instead, passing sep='\\t'.\n",
      "  \"\"\"\n"
     ]
    },
    {
     "name": "stdout",
     "output_type": "stream",
     "text": [
      "Number of sites: 403256 -> 197208\n"
     ]
    },
    {
     "data": {
      "text/html": [
       "<div>\n",
       "<style scoped>\n",
       "    .dataframe tbody tr th:only-of-type {\n",
       "        vertical-align: middle;\n",
       "    }\n",
       "\n",
       "    .dataframe tbody tr th {\n",
       "        vertical-align: top;\n",
       "    }\n",
       "\n",
       "    .dataframe thead th {\n",
       "        text-align: right;\n",
       "    }\n",
       "</style>\n",
       "<table border=\"1\" class=\"dataframe\">\n",
       "  <thead>\n",
       "    <tr style=\"text-align: right;\">\n",
       "      <th></th>\n",
       "      <th>chrom</th>\n",
       "      <th>start</th>\n",
       "      <th>end</th>\n",
       "      <th>conf</th>\n",
       "      <th>editfrac</th>\n",
       "      <th>strand</th>\n",
       "    </tr>\n",
       "  </thead>\n",
       "  <tbody>\n",
       "    <tr>\n",
       "      <th>0</th>\n",
       "      <td>chr1</td>\n",
       "      <td>566364</td>\n",
       "      <td>566365</td>\n",
       "      <td>0.950990</td>\n",
       "      <td>1,6</td>\n",
       "      <td>+</td>\n",
       "    </tr>\n",
       "    <tr>\n",
       "      <th>1</th>\n",
       "      <td>chr1</td>\n",
       "      <td>566444</td>\n",
       "      <td>566445</td>\n",
       "      <td>0.636185</td>\n",
       "      <td>1,46</td>\n",
       "      <td>+</td>\n",
       "    </tr>\n",
       "    <tr>\n",
       "      <th>2</th>\n",
       "      <td>chr1</td>\n",
       "      <td>566668</td>\n",
       "      <td>566669</td>\n",
       "      <td>0.950990</td>\n",
       "      <td>1,6</td>\n",
       "      <td>+</td>\n",
       "    </tr>\n",
       "    <tr>\n",
       "      <th>3</th>\n",
       "      <td>chr1</td>\n",
       "      <td>566713</td>\n",
       "      <td>566714</td>\n",
       "      <td>0.895338</td>\n",
       "      <td>1,12</td>\n",
       "      <td>+</td>\n",
       "    </tr>\n",
       "    <tr>\n",
       "      <th>4</th>\n",
       "      <td>chr1</td>\n",
       "      <td>566722</td>\n",
       "      <td>566723</td>\n",
       "      <td>0.895338</td>\n",
       "      <td>1,12</td>\n",
       "      <td>+</td>\n",
       "    </tr>\n",
       "  </tbody>\n",
       "</table>\n",
       "</div>"
      ],
      "text/plain": [
       "  chrom   start     end      conf editfrac strand\n",
       "0  chr1  566364  566365  0.950990      1,6      +\n",
       "1  chr1  566444  566445  0.636185     1,46      +\n",
       "2  chr1  566668  566669  0.950990      1,6      +\n",
       "3  chr1  566713  566714  0.895338     1,12      +\n",
       "4  chr1  566722  566723  0.895338     1,12      +"
      ]
     },
     "execution_count": 26,
     "metadata": {},
     "output_type": "execute_result"
    }
   ],
   "source": [
    "\n",
    "# Define the \"editing_sites\" path at the beginning of the notebook\n",
    "all_sites = pd.read_table(\n",
    "    editing_sites, \n",
    "    names=['chrom','start','end','name','editfrac','strand']\n",
    ")\n",
    "all_sites['conf'] = all_sites['name'] # .apply(lambda x: float(x.split('|')[-1]))\n",
    "all_sites = all_sites[['chrom','start','end','conf','editfrac','strand']]\n",
    "sites = all_sites[all_sites['conf']>= RBFOX2_CONF]\n",
    "print(\"Number of sites: {} -> {}\".format(all_sites.shape[0], sites.shape[0]))\n",
    "num_fox_sites = sites.shape[0]\n",
    "all_sites.head()"
   ]
  },
  {
   "cell_type": "markdown",
   "metadata": {},
   "source": [
    "### Transform the filtered editing sites into a bedtool object"
   ]
  },
  {
   "cell_type": "code",
   "execution_count": 27,
   "metadata": {},
   "outputs": [],
   "source": [
    "editing_sites_bedtool = pybedtools.BedTool.from_dataframe(sites).sort()"
   ]
  },
  {
   "cell_type": "markdown",
   "metadata": {},
   "source": [
    "# Use Bedtools closest to determine which editing sites are closest to each peak (find closest editing sites with respect to the peak)\n",
    "params used:\n",
    "- s: stranded - only count features on the same strand.\n",
    "- D: 'a' - Like -d, report the closest feature in B, and its distance to A. 'a' reports distance with respect to A. When A is on the - strand, \"upstream\" means B has a higher (start,stop)\n",
    "- k: Report the k closest hits. Default is 1. If tieMode = \"all\", - all ties will still be reported.\n",
    "\n",
    "I also filter out any peak with no closest hits (start is reported as -1) as well as any hit further than 150bp away. "
   ]
  },
  {
   "cell_type": "code",
   "execution_count": 28,
   "metadata": {},
   "outputs": [
    {
     "name": "stderr",
     "output_type": "stream",
     "text": [
      "/home/bay001/anaconda2/envs/python3-essential/lib/python3.6/site-packages/pybedtools/bedtool.py:3439: FutureWarning: read_table is deprecated, use read_csv instead, passing sep='\\t'.\n",
      "  return pandas.read_table(self.fn, *args, **kwargs)\n"
     ]
    },
    {
     "name": "stdout",
     "output_type": "stream",
     "text": [
      "1711200\n",
      "2568\n"
     ]
    },
    {
     "data": {
      "text/html": [
       "<div>\n",
       "<style scoped>\n",
       "    .dataframe tbody tr th:only-of-type {\n",
       "        vertical-align: middle;\n",
       "    }\n",
       "\n",
       "    .dataframe tbody tr th {\n",
       "        vertical-align: top;\n",
       "    }\n",
       "\n",
       "    .dataframe thead th {\n",
       "        text-align: right;\n",
       "    }\n",
       "</style>\n",
       "<table border=\"1\" class=\"dataframe\">\n",
       "  <thead>\n",
       "    <tr style=\"text-align: right;\">\n",
       "      <th></th>\n",
       "      <th>peak_chrom</th>\n",
       "      <th>peak_recentered_start</th>\n",
       "      <th>peak_recentered_end</th>\n",
       "      <th>peak_name</th>\n",
       "      <th>peak_score</th>\n",
       "      <th>peak_strand</th>\n",
       "      <th>edit_chrom</th>\n",
       "      <th>edit_start</th>\n",
       "      <th>edit_end</th>\n",
       "      <th>edit_cov_frac_conf</th>\n",
       "      <th>edit_frac</th>\n",
       "      <th>edit_strand</th>\n",
       "      <th>distance</th>\n",
       "    </tr>\n",
       "  </thead>\n",
       "  <tbody>\n",
       "    <tr>\n",
       "      <th>600</th>\n",
       "      <td>chr1</td>\n",
       "      <td>790568</td>\n",
       "      <td>790569</td>\n",
       "      <td>GCATG</td>\n",
       "      <td>0</td>\n",
       "      <td>+</td>\n",
       "      <td>chr1</td>\n",
       "      <td>790609</td>\n",
       "      <td>790610</td>\n",
       "      <td>0.960596</td>\n",
       "      <td>1,5</td>\n",
       "      <td>+</td>\n",
       "      <td>41</td>\n",
       "    </tr>\n",
       "    <tr>\n",
       "      <th>601</th>\n",
       "      <td>chr1</td>\n",
       "      <td>790568</td>\n",
       "      <td>790569</td>\n",
       "      <td>GCATG</td>\n",
       "      <td>0</td>\n",
       "      <td>+</td>\n",
       "      <td>chr1</td>\n",
       "      <td>790610</td>\n",
       "      <td>790611</td>\n",
       "      <td>0.960596</td>\n",
       "      <td>1,5</td>\n",
       "      <td>+</td>\n",
       "      <td>42</td>\n",
       "    </tr>\n",
       "    <tr>\n",
       "      <th>602</th>\n",
       "      <td>chr1</td>\n",
       "      <td>790568</td>\n",
       "      <td>790569</td>\n",
       "      <td>GCATG</td>\n",
       "      <td>0</td>\n",
       "      <td>+</td>\n",
       "      <td>chr1</td>\n",
       "      <td>790617</td>\n",
       "      <td>790618</td>\n",
       "      <td>0.960596</td>\n",
       "      <td>1,5</td>\n",
       "      <td>+</td>\n",
       "      <td>49</td>\n",
       "    </tr>\n",
       "    <tr>\n",
       "      <th>1200</th>\n",
       "      <td>chr1</td>\n",
       "      <td>790640</td>\n",
       "      <td>790641</td>\n",
       "      <td>GCATG</td>\n",
       "      <td>0</td>\n",
       "      <td>+</td>\n",
       "      <td>chr1</td>\n",
       "      <td>790617</td>\n",
       "      <td>790618</td>\n",
       "      <td>0.960596</td>\n",
       "      <td>1,5</td>\n",
       "      <td>+</td>\n",
       "      <td>-23</td>\n",
       "    </tr>\n",
       "    <tr>\n",
       "      <th>1201</th>\n",
       "      <td>chr1</td>\n",
       "      <td>790640</td>\n",
       "      <td>790641</td>\n",
       "      <td>GCATG</td>\n",
       "      <td>0</td>\n",
       "      <td>+</td>\n",
       "      <td>chr1</td>\n",
       "      <td>790610</td>\n",
       "      <td>790611</td>\n",
       "      <td>0.960596</td>\n",
       "      <td>1,5</td>\n",
       "      <td>+</td>\n",
       "      <td>-30</td>\n",
       "    </tr>\n",
       "  </tbody>\n",
       "</table>\n",
       "</div>"
      ],
      "text/plain": [
       "     peak_chrom  peak_recentered_start  peak_recentered_end peak_name  \\\n",
       "600        chr1                 790568               790569     GCATG   \n",
       "601        chr1                 790568               790569     GCATG   \n",
       "602        chr1                 790568               790569     GCATG   \n",
       "1200       chr1                 790640               790641     GCATG   \n",
       "1201       chr1                 790640               790641     GCATG   \n",
       "\n",
       "      peak_score peak_strand edit_chrom  edit_start  edit_end  \\\n",
       "600            0           +       chr1      790609    790610   \n",
       "601            0           +       chr1      790610    790611   \n",
       "602            0           +       chr1      790617    790618   \n",
       "1200           0           +       chr1      790617    790618   \n",
       "1201           0           +       chr1      790610    790611   \n",
       "\n",
       "      edit_cov_frac_conf edit_frac edit_strand  distance  \n",
       "600             0.960596       1,5           +        41  \n",
       "601             0.960596       1,5           +        42  \n",
       "602             0.960596       1,5           +        49  \n",
       "1200            0.960596       1,5           +       -23  \n",
       "1201            0.960596       1,5           +       -30  "
      ]
     },
     "execution_count": 28,
     "metadata": {},
     "output_type": "execute_result"
    }
   ],
   "source": [
    "closest_real = filtered_motif_centric_bedtool.closest(editing_sites_bedtool, s=True, D='a', k=window_len, t='all').to_dataframe(\n",
    "    names=[\n",
    "        'peak_chrom',\n",
    "        'peak_recentered_start',\n",
    "        'peak_recentered_end',\n",
    "        'peak_name',\n",
    "        'peak_score',\n",
    "        'peak_strand',\n",
    "        'edit_chrom',\n",
    "        'edit_start',\n",
    "        'edit_end',\n",
    "        'edit_cov_frac_conf',\n",
    "        'edit_frac',\n",
    "        'edit_strand',\n",
    "        'distance'\n",
    "    ]\n",
    ")\n",
    "print(closest_real.shape[0]) \n",
    "# Removes any edit that isn't closer than 'window_slop' away from the center of the motif. This is 300, 100nt beyond the window boundaries so that the counts don't just drop off immediately\n",
    "closest_real = closest_real[(closest_real['edit_start']!=-1) & (np.abs(closest_real['distance']) <= window_slop)]\n",
    "\n",
    "print(closest_real.shape[0]) \n",
    "closest_real.head()"
   ]
  },
  {
   "cell_type": "markdown",
   "metadata": {},
   "source": [
    "#### Prevents double counting edits where one edit may overlap multiple regions"
   ]
  },
  {
   "cell_type": "code",
   "execution_count": 29,
   "metadata": {},
   "outputs": [
    {
     "data": {
      "text/plain": [
       "(1751, 13)"
      ]
     },
     "execution_count": 29,
     "metadata": {},
     "output_type": "execute_result"
    }
   ],
   "source": [
    "_closest_real = closest_real[(closest_real['edit_start']!=-1) & (np.abs(closest_real['distance']) <= 200)]\n",
    "_closest_real.drop_duplicates(['edit_chrom','edit_start','edit_end','edit_strand']).shape"
   ]
  },
  {
   "cell_type": "markdown",
   "metadata": {},
   "source": [
    "#### If we, for some reason, need to know how many motifs contained an edit within 'window_slop' (200nt) "
   ]
  },
  {
   "cell_type": "code",
   "execution_count": 30,
   "metadata": {},
   "outputs": [
    {
     "data": {
      "text/plain": [
       "(425, 13)"
      ]
     },
     "execution_count": 30,
     "metadata": {},
     "output_type": "execute_result"
    }
   ],
   "source": [
    "_closest_real.drop_duplicates(['peak_chrom','peak_recentered_start','peak_recentered_end','peak_strand']).shape"
   ]
  },
  {
   "cell_type": "code",
   "execution_count": 31,
   "metadata": {},
   "outputs": [
    {
     "data": {
      "image/png": "[encoded data removed]",
      "text/plain": [
       "<Figure size 720x720 with 1 Axes>"
      ]
     },
     "metadata": {
      "needs_background": "light"
     },
     "output_type": "display_data"
    }
   ],
   "source": [
    "x = list(closest_real['distance'])\n",
    "fig, ax = plt.subplots(figsize=(10,10))\n",
    "make_hist(ax, x, bins=list(range(-window_slop, window_slop, 5)), extra_y=6)\n",
    "for tick in ax.get_xticklabels():\n",
    "    tick.set_rotation(90)\n",
    "ax.set_xlabel(\"distance from re-centered peak\")\n",
    "ax.set_ylabel(\"number of sites\")\n",
    "plt.title(\"Closest editing site to motif {}\".format(motif))\n",
    "plt.show()"
   ]
  },
  {
   "cell_type": "markdown",
   "metadata": {},
   "source": [
    "# Let's zoom in and make sure we're not getting any edits on [G]C[ATG]\n",
    "- 'C' is position 0"
   ]
  },
  {
   "cell_type": "code",
   "execution_count": 32,
   "metadata": {},
   "outputs": [
    {
     "data": {
      "image/png": "[encoded data removed]",
      "text/plain": [
       "<Figure size 720x720 with 1 Axes>"
      ]
     },
     "metadata": {
      "needs_background": "light"
     },
     "output_type": "display_data"
    }
   ],
   "source": [
    "x = list(closest_real['distance'])\n",
    "fig, ax = plt.subplots(figsize=(10,10))\n",
    "make_hist(ax, x, bins=list(range(-25, 25, 1)), extra_y=6)\n",
    "for tick in ax.get_xticklabels():\n",
    "    tick.set_rotation(90)\n",
    "ax.set_xlabel(\"distance from re-centered peak\")\n",
    "ax.set_ylabel(\"number of sites\")\n",
    "plt.title(\"Closest editing site to motif {}\".format(motif))\n",
    "plt.show()"
   ]
  },
  {
   "cell_type": "code",
   "execution_count": 33,
   "metadata": {},
   "outputs": [
    {
     "data": {
      "text/html": [
       "<div>\n",
       "<style scoped>\n",
       "    .dataframe tbody tr th:only-of-type {\n",
       "        vertical-align: middle;\n",
       "    }\n",
       "\n",
       "    .dataframe tbody tr th {\n",
       "        vertical-align: top;\n",
       "    }\n",
       "\n",
       "    .dataframe thead th {\n",
       "        text-align: right;\n",
       "    }\n",
       "</style>\n",
       "<table border=\"1\" class=\"dataframe\">\n",
       "  <thead>\n",
       "    <tr style=\"text-align: right;\">\n",
       "      <th></th>\n",
       "      <th>peak_chrom</th>\n",
       "      <th>peak_recentered_start</th>\n",
       "      <th>peak_recentered_end</th>\n",
       "      <th>peak_name</th>\n",
       "      <th>peak_score</th>\n",
       "      <th>peak_strand</th>\n",
       "      <th>edit_chrom</th>\n",
       "      <th>edit_start</th>\n",
       "      <th>edit_end</th>\n",
       "      <th>edit_cov_frac_conf</th>\n",
       "      <th>edit_frac</th>\n",
       "      <th>edit_strand</th>\n",
       "      <th>distance</th>\n",
       "    </tr>\n",
       "  </thead>\n",
       "  <tbody>\n",
       "    <tr>\n",
       "      <th>679201</th>\n",
       "      <td>chr17</td>\n",
       "      <td>12908901</td>\n",
       "      <td>12908902</td>\n",
       "      <td>GCATG</td>\n",
       "      <td>0</td>\n",
       "      <td>-</td>\n",
       "      <td>chr17</td>\n",
       "      <td>12908896</td>\n",
       "      <td>12908897</td>\n",
       "      <td>0.960596</td>\n",
       "      <td>1,5</td>\n",
       "      <td>-</td>\n",
       "      <td>5</td>\n",
       "    </tr>\n",
       "    <tr>\n",
       "      <th>1066200</th>\n",
       "      <td>chr20</td>\n",
       "      <td>62365603</td>\n",
       "      <td>62365604</td>\n",
       "      <td>GCATG</td>\n",
       "      <td>0</td>\n",
       "      <td>+</td>\n",
       "      <td>chr20</td>\n",
       "      <td>62365608</td>\n",
       "      <td>62365609</td>\n",
       "      <td>0.960596</td>\n",
       "      <td>1,5</td>\n",
       "      <td>+</td>\n",
       "      <td>5</td>\n",
       "    </tr>\n",
       "    <tr>\n",
       "      <th>1680600</th>\n",
       "      <td>chrX</td>\n",
       "      <td>67752898</td>\n",
       "      <td>67752899</td>\n",
       "      <td>GCATG</td>\n",
       "      <td>0</td>\n",
       "      <td>+</td>\n",
       "      <td>chrX</td>\n",
       "      <td>67752903</td>\n",
       "      <td>67752904</td>\n",
       "      <td>0.963852</td>\n",
       "      <td>2,31</td>\n",
       "      <td>+</td>\n",
       "      <td>5</td>\n",
       "    </tr>\n",
       "  </tbody>\n",
       "</table>\n",
       "</div>"
      ],
      "text/plain": [
       "        peak_chrom  peak_recentered_start  peak_recentered_end peak_name  \\\n",
       "679201       chr17               12908901             12908902     GCATG   \n",
       "1066200      chr20               62365603             62365604     GCATG   \n",
       "1680600       chrX               67752898             67752899     GCATG   \n",
       "\n",
       "         peak_score peak_strand edit_chrom  edit_start  edit_end  \\\n",
       "679201            0           -      chr17    12908896  12908897   \n",
       "1066200           0           +      chr20    62365608  62365609   \n",
       "1680600           0           +       chrX    67752903  67752904   \n",
       "\n",
       "         edit_cov_frac_conf edit_frac edit_strand  distance  \n",
       "679201             0.960596       1,5           -         5  \n",
       "1066200            0.960596       1,5           +         5  \n",
       "1680600            0.963852      2,31           +         5  "
      ]
     },
     "execution_count": 33,
     "metadata": {},
     "output_type": "execute_result"
    }
   ],
   "source": [
    "closest_real[closest_real['distance']==5]"
   ]
  },
  {
   "cell_type": "markdown",
   "metadata": {},
   "source": [
    "# The \"Dip\" makes sense because I wouldn't expect editing to occur directly on the motif site itself. But there is some, so I'm going to check."
   ]
  },
  {
   "cell_type": "code",
   "execution_count": 34,
   "metadata": {},
   "outputs": [
    {
     "data": {
      "text/html": [
       "<div>\n",
       "<style scoped>\n",
       "    .dataframe tbody tr th:only-of-type {\n",
       "        vertical-align: middle;\n",
       "    }\n",
       "\n",
       "    .dataframe tbody tr th {\n",
       "        vertical-align: top;\n",
       "    }\n",
       "\n",
       "    .dataframe thead th {\n",
       "        text-align: right;\n",
       "    }\n",
       "</style>\n",
       "<table border=\"1\" class=\"dataframe\">\n",
       "  <thead>\n",
       "    <tr style=\"text-align: right;\">\n",
       "      <th></th>\n",
       "      <th>peak_chrom</th>\n",
       "      <th>peak_recentered_start</th>\n",
       "      <th>peak_recentered_end</th>\n",
       "      <th>peak_name</th>\n",
       "      <th>peak_score</th>\n",
       "      <th>peak_strand</th>\n",
       "      <th>edit_chrom</th>\n",
       "      <th>edit_start</th>\n",
       "      <th>edit_end</th>\n",
       "      <th>edit_cov_frac_conf</th>\n",
       "      <th>edit_frac</th>\n",
       "      <th>edit_strand</th>\n",
       "      <th>distance</th>\n",
       "    </tr>\n",
       "  </thead>\n",
       "  <tbody>\n",
       "    <tr>\n",
       "      <th>679200</th>\n",
       "      <td>chr17</td>\n",
       "      <td>12908901</td>\n",
       "      <td>12908902</td>\n",
       "      <td>GCATG</td>\n",
       "      <td>0</td>\n",
       "      <td>-</td>\n",
       "      <td>chr17</td>\n",
       "      <td>12908901</td>\n",
       "      <td>12908902</td>\n",
       "      <td>0.960596</td>\n",
       "      <td>1,5</td>\n",
       "      <td>-</td>\n",
       "      <td>0</td>\n",
       "    </tr>\n",
       "  </tbody>\n",
       "</table>\n",
       "</div>"
      ],
      "text/plain": [
       "       peak_chrom  peak_recentered_start  peak_recentered_end peak_name  \\\n",
       "679200      chr17               12908901             12908902     GCATG   \n",
       "\n",
       "        peak_score peak_strand edit_chrom  edit_start  edit_end  \\\n",
       "679200           0           -      chr17    12908901  12908902   \n",
       "\n",
       "        edit_cov_frac_conf edit_frac edit_strand  distance  \n",
       "679200            0.960596       1,5           -         0  "
      ]
     },
     "execution_count": 34,
     "metadata": {},
     "output_type": "execute_result"
    }
   ],
   "source": [
    "closest_real[(closest_real['distance'] < 4) & (closest_real['distance'] >= 0)].sort_values(by=['peak_recentered_start', 'distance'])"
   ]
  },
  {
   "cell_type": "markdown",
   "metadata": {},
   "source": [
    "# Talk with Kris, a better background might be using the APOBEC-only editing sites\n",
    "- we see a similar distribution between motif and random sites due to possible motifs in the random sites themselves. By eye, Kris sees the RBFOX motifs scattered quite frequently in the UTR region, both inside and outside the peak region."
   ]
  },
  {
   "cell_type": "code",
   "execution_count": 35,
   "metadata": {},
   "outputs": [
    {
     "name": "stdout",
     "output_type": "stream",
     "text": [
      "Number of sites: 66380 -> 20550\n"
     ]
    },
    {
     "name": "stderr",
     "output_type": "stream",
     "text": [
      "/home/bay001/anaconda2/envs/python3-essential/lib/python3.6/site-packages/ipykernel_launcher.py:4: FutureWarning: read_table is deprecated, use read_csv instead, passing sep='\\t'.\n",
      "  after removing the cwd from sys.path.\n"
     ]
    },
    {
     "data": {
      "text/html": [
       "<div>\n",
       "<style scoped>\n",
       "    .dataframe tbody tr th:only-of-type {\n",
       "        vertical-align: middle;\n",
       "    }\n",
       "\n",
       "    .dataframe tbody tr th {\n",
       "        vertical-align: top;\n",
       "    }\n",
       "\n",
       "    .dataframe thead th {\n",
       "        text-align: right;\n",
       "    }\n",
       "</style>\n",
       "<table border=\"1\" class=\"dataframe\">\n",
       "  <thead>\n",
       "    <tr style=\"text-align: right;\">\n",
       "      <th></th>\n",
       "      <th>chrom</th>\n",
       "      <th>start</th>\n",
       "      <th>end</th>\n",
       "      <th>conf</th>\n",
       "      <th>editfrac</th>\n",
       "      <th>strand</th>\n",
       "    </tr>\n",
       "  </thead>\n",
       "  <tbody>\n",
       "    <tr>\n",
       "      <th>0</th>\n",
       "      <td>chr1</td>\n",
       "      <td>324297</td>\n",
       "      <td>324298</td>\n",
       "      <td>0.994820</td>\n",
       "      <td>2,12</td>\n",
       "      <td>+</td>\n",
       "    </tr>\n",
       "    <tr>\n",
       "      <th>1</th>\n",
       "      <td>chr1</td>\n",
       "      <td>327518</td>\n",
       "      <td>327519</td>\n",
       "      <td>0.950990</td>\n",
       "      <td>1,6</td>\n",
       "      <td>+</td>\n",
       "    </tr>\n",
       "    <tr>\n",
       "      <th>3</th>\n",
       "      <td>chr1</td>\n",
       "      <td>564568</td>\n",
       "      <td>564569</td>\n",
       "      <td>0.950990</td>\n",
       "      <td>1,6</td>\n",
       "      <td>+</td>\n",
       "    </tr>\n",
       "    <tr>\n",
       "      <th>4</th>\n",
       "      <td>chr1</td>\n",
       "      <td>566730</td>\n",
       "      <td>566731</td>\n",
       "      <td>0.913517</td>\n",
       "      <td>1,10</td>\n",
       "      <td>+</td>\n",
       "    </tr>\n",
       "    <tr>\n",
       "      <th>5</th>\n",
       "      <td>chr1</td>\n",
       "      <td>567190</td>\n",
       "      <td>567191</td>\n",
       "      <td>1.000000</td>\n",
       "      <td>22,23</td>\n",
       "      <td>+</td>\n",
       "    </tr>\n",
       "  </tbody>\n",
       "</table>\n",
       "</div>"
      ],
      "text/plain": [
       "  chrom   start     end      conf editfrac strand\n",
       "0  chr1  324297  324298  0.994820     2,12      +\n",
       "1  chr1  327518  327519  0.950990      1,6      +\n",
       "3  chr1  564568  564569  0.950990      1,6      +\n",
       "4  chr1  566730  566731  0.913517     1,10      +\n",
       "5  chr1  567190  567191  1.000000    22,23      +"
      ]
     },
     "execution_count": 35,
     "metadata": {},
     "output_type": "execute_result"
    }
   ],
   "source": [
    "# Define the \"editing_sites\" path at the beginning of the notebook\n",
    "all_sites = pd.read_table(\n",
    "    editing_sites_apobec_only, \n",
    "    names=['chrom','start','end','name','editfrac','strand']\n",
    ")\n",
    "all_sites['conf'] = all_sites['name'] # .apply(lambda x: float(x.split('|')[-1]))\n",
    "all_sites = all_sites[['chrom','start','end','conf','editfrac','strand']]\n",
    "sites = all_sites[all_sites['conf'] >= APOBEC_CONF]\n",
    "print(\"Number of sites: {} -> {}\".format(all_sites.shape[0], sites.shape[0]))\n",
    "num_apo_sites = sites.shape[0]\n",
    "sites.head()"
   ]
  },
  {
   "cell_type": "code",
   "execution_count": 36,
   "metadata": {},
   "outputs": [],
   "source": [
    "editing_sites_bedtool = pybedtools.BedTool.from_dataframe(sites).sort()"
   ]
  },
  {
   "cell_type": "code",
   "execution_count": 37,
   "metadata": {},
   "outputs": [
    {
     "name": "stderr",
     "output_type": "stream",
     "text": [
      "/home/bay001/anaconda2/envs/python3-essential/lib/python3.6/site-packages/pybedtools/bedtool.py:3439: FutureWarning: read_table is deprecated, use read_csv instead, passing sep='\\t'.\n",
      "  return pandas.read_table(self.fn, *args, **kwargs)\n"
     ]
    },
    {
     "name": "stdout",
     "output_type": "stream",
     "text": [
      "832231\n",
      "164\n"
     ]
    }
   ],
   "source": [
    "closest_apobec_only_background = filtered_motif_centric_bedtool.closest(editing_sites_bedtool, s=True, D='a', k=window_slop, t='all').to_dataframe(\n",
    "    names=[\n",
    "        'peak_chrom',\n",
    "        'peak_recentered_start',\n",
    "        'peak_recentered_end',\n",
    "        'peak_name',\n",
    "        'peak_score',\n",
    "        'peak_strand',\n",
    "        'edit_chrom',\n",
    "        'edit_start',\n",
    "        'edit_end',\n",
    "        'edit_cov_frac_conf',\n",
    "        'edit_frac',\n",
    "        'edit_strand',\n",
    "        'distance'\n",
    "    ]\n",
    ")\n",
    "print(closest_apobec_only_background.shape[0]) \n",
    "closest_apobec_only_background = closest_apobec_only_background[(closest_apobec_only_background['edit_start']!=-1) & (np.abs(closest_apobec_only_background['distance']) <= window_slop)]\n",
    "print(closest_apobec_only_background.shape[0]) \n"
   ]
  },
  {
   "cell_type": "code",
   "execution_count": 38,
   "metadata": {},
   "outputs": [
    {
     "data": {
      "text/plain": [
       "(97, 13)"
      ]
     },
     "execution_count": 38,
     "metadata": {},
     "output_type": "execute_result"
    }
   ],
   "source": [
    "_closest_apobec_only_background = closest_apobec_only_background[(closest_apobec_only_background['edit_start']!=-1) & (np.abs(closest_apobec_only_background['distance']) <=200 )]\n",
    "_closest_apobec_only_background.drop_duplicates(subset=['edit_chrom','edit_start','edit_end','edit_strand']).shape"
   ]
  },
  {
   "cell_type": "code",
   "execution_count": 39,
   "metadata": {},
   "outputs": [
    {
     "name": "stdout",
     "output_type": "stream",
     "text": [
      "[41, 42, 49, -23, -30, -31, 162, 219, 23, 80, -145, -185, 7, 42, 295, 251, 22, 35, 37, 48, 50, -160, 16, 13, -58, -69, -79, -90, -98, -49, -60, -70, -81, -89, 298, -56, -15, -3, -5, 70, -125, 282, -86, 128, -164, 74, 298, -6, 125, 165, 7, -6, 22, 68, -74, -78, 181, -10, -19, -25, -34, 33, -173, 254, 294, 297, -44, -57, 67, -68, -99, 106, -115, -130, -150, -154, -204, 258, -188, -259, -291, 20, 24, 26, -36, -47, -129, -156, -180, -187, -205, -106, 51, 11, -27, 174, 74, -31, -39, 200, -12, -18, 34, 47, -91, -104, -150, -156, 274, 283, -6, 9, -18, -21, -24, -30, 42, -46, -51, 61, 87, -92, -93, -96, 99, -106, -123, 124, 128, -131, -139, -141, -144, -150, -155, -157, -167, 203, -204, 208, 211, 217, 229, 237, 241, 250, 274, 285, 104, 126, 186, -3, 22, 54, 21, -30, -63, -82, -105, -113, -184, 185, 252, -13, -19, -36, -56, -73, 17, 73, -3, -4, -10, -12, -18, -22, -27, 30, 51, 56, 63, 69, 75, 78, -91, 104, -113, -133, -135, -150, 152, -154, 157, -175, -180, -184, -203, 203, 225, -231, -242, -260, -270, -282, 295, 41, -10, 13, 23, -33, -34, 52, -55, -56, 56, -62, -65, 65, 67, -73, 83, -84, 87, 89, 92, -93, 94, -99, 106, -111, 112, -120, -122, 124, -130, 134, 137, -145, -159, -163, -165, -167, 169, 172, 179, -183, -199, 199, -209, -214, 217, -229, 244, 251, -264, -266, -278, 287, -289, -296, 297, 41, -128, 45, 10, 19, -38, 102, 131, 139, 253, 269, 295, -4, -24, 39, 55, 82, 110, 112, 120, 136, 144, 9, 11, -19, 19, 35, 43, -46, -62, -105, -125, 284, -114, -140, 143, -24, -34, -39, -48, -137, -140, -286, 12, 19, 31, 125, 271, 274, -18, -28, 48, -73, -3, -23, -30, 100, -122, -133, 141, -172, -253, -263, -283, 38, 40, 55, -5, 14, -63, -153, -160, -165, -77, -88, -167, -193, -240, 201, -105, -214, -223, -240, -291, -292, -26, -135, -144, -161, -212, -213, 111, 112, 163, 180, 189, 298, -289, -245, -297, -17, -30, -37, -51, -95, -100, -28, -136, -160, 206, -226, 11, 9, -30, -34, 112, -198, 11, 175, 179, 218, 66, 71, -83, -127, -173, -186, -6, -59, -174, 192, -237, -255, -285, -74, -79, -234, -169, -174, 206, -89, -128, 274, 48, 68, 11, -73, 82, -94, 54, 15, 38, 41, -42, -67, 70, 82, 172, 182, 184, 191, 210, 259, 299, -151, -80, 237, 245, -247, -257, 269, 271, 274, -183, -55, 70, -82, 83, 118, -50, 14, 205, 185, -142, -206, -251, -121, -145, -180, -12, -14, 46, -124, -183, 63, -193, 86, 114, 117, 139, 147, 162, 175, -162, -178, -199, -206, -213, 260, -272, 288, 291, 25, 32, -34, 39, 60, 76, -123, -143, -144, 7, 66, 73, 80, -82, 101, -102, -103, 117, 30, 204, -268, 12, 21, -15, 16, 61, -127, 26, 41, -124, -241, -246, -262, 101, 168, 206, 213, 230, 52, 233, 260, 272, -284, -7, -19, 28, 33, -36, -45, -81, -15, 11, 80, 21, 252, 60, -171, 9, 26, 81, -36, -67, -142, -11, -42, -117, -20, 81, 107, 127, 132, -186, 188, -193, -199, 201, 203, 206, -221, 227, 231, -232, 233, 241, 252, -261, -268, -273, -295, 295, -97, -153, 154, 174, 187, -59, -60, 8, 24, -61, -77, -80, -81, -86, -100, -118, 118, -128, 128, 130, 143, 150, 153, 157, 173, 181, 183, 187, 202, 212, 222, 243, 10, 12, 14, 16, 45, 62, 243, 266, 295, -4, 19, 48, 57, 80, 88, -81, -89, -112, -121, -150, -173, 190, 27, 49, -68, -85, -93, -100, -113, 160, 268, 274, 283, 300, -3, -7, 9, 14, 29, 33, 63, -66, 69, 83, 122, 137, 147, 157, 189, 9, 40, -102, -5, 9, -15, 16, 30, 40, -86, -116, -118, -120, -129, -142, -152, -158, -163, -164, -193, -196, -198, -207, -228, -247, -254, -262, -269, -271, -9, 16, -17, 24, 42, -75, -107, 142, -159, 192, -197, 200, -216, -262, -269, -23, 35, 43, -55, 68, 76, 94, -107, -145, -164, 194, -210, -217, 244, 252, -256, -270, -285, -36, -121, -182, -6, 17, -23, 23, -36, 40, -47, 53, -74, 82, -86, -96, 96, 98, 102, 106, 112, -117, -119, -120, 124, 126, 131, -132, -138, -145, -156, 157, -165, 174, -175, -177, -180, 180, 190, -191, -197, -198, -200, 208, -219, 223, -226, -230, -241, -284, -287, 12, -31, 93, 122, -162, -208, 283, -11, -29, -86, -90, -39, -73, -163, 9, -12, 37, -40, 8, -10, -95, -137, -141, -160, -169, 9, -38, -58, -61, 103, -117, -229, -280, 22, 24, -31, -36, -42, -113, -172, -192, -254, -257, 296, 11, 17, 22, -60, 75, 77, -119, -139, -201, -204, 26, 29, 91, 111, 170, 241, 247, 252, -257, -259, 117, 224, 238, -254, 257, -272, 277, 287, -24, -42, 43, 57, 79, -85, -95, -103, 155, 182, -205, -214, 110, -11, -16, 17, -23, -35, -86, -105, -106, -108, -112, -121, -141, -146, 238, -251, -3, -38, -52, -226, -264, 176, -144, -29, -68, -79, -191, -238, -14, -17, -31, 48, 50, 54, 62, -80, -83, -95, -118, -136, 137, 138, -147, -149, -156, -166, 167, -174, 176, -187, -210, 223, -226, -231, -245, -270, -274, -276, -292, -294, -3, 7, 28, -48, -53, -67, -77, -157, -220, -246, -257, -266, 8, 17, 28, 54, 117, -125, -143, 197, 207, 221, 226, 271, 281, -13, -37, 33, 67, -276, -8, 45, -252, 105, -20, -177, 11, -256, -58, 22, 25, -6, -11, -17, -25, -57, 58, -67, -72, -97, -126, -157, -170, -178, -181, -190, -204, -207, -49, 11, -296, -168, -176, -190, 199, 204, 213, -165, 61, 146, -5, 13, 93, 130, -157, -172, -179, -186, -199, -202, -209, -218, -220, 235, -12, 19, -21, 24, 25, -26, 38, -45, -47, 55, 64, -67, 83, -100, 102, 103, -112, 123, 125, -127, 134, 137, 148, 164, 179, 184, 194, -198, -228, 230, 284, 297, -3, 14, -16, -17, -22, 23, 42, -53, 61, -62, 62, -67, 82, 84, -86, -88, 93, 96, 107, -108, 123, 138, -141, 143, -153, 153, -168, 189, -239, 243, 256, -269, -24, 29, 49, -56, 63, 89, 120, 128, 177, 201, -247, 8, 40, 93, 113, 127, 153, -183, 184, 192, 241, 265, -28, -41, 260, 15, -117, 201, -26, -73, -92, 258, -3, 13, 83, 130, -153, -189, -198, 298, -157, -26, -28, -171, -173, 260, -44, -72, -77, 0, 5, 295, -246, -34, 54, 68, 102, -3, 11, 45, -91, -37, -6, -10, -60, -62, -50, 65, 86, -285, -115, -36, 151, -25, -73, -87, -89, -92, -109, -204, -148, 165, 170, 172, -248, -3, -8, 9, -12, -16, -22, -134, -135, -232, -251, -260, -269, -17, -35, -37, 48, -52, -144, 151, 12, 271, 25, 9, 14, 16, 18, 78, 79, -206, -219, -224, 237, 242, 254, -276, -277, -295, 10, 193, 34, -159, -186, 194, -199, -214, -218, -232, -235, -245, -267, -287, -72, -189, -137, -29, 29, 101, -4, -32, 141, 225, 13, 38, 80, 9, 13, 37, 209, -227, -251, 10, 170, 20, -46, 75, -77, -179, -35, 67, 98, 219, -213, -222, -256, -286, -243, 259, 227, 192, -30, -62, -98, -265, 299, 130, 184, 17, -37, -3, -102, -16, -19, 82, -143, 145, 33, 56, -8, 25, -85, 106, -165, -103, -140, -41, 121, 127, 129, 142, 68, 74, 76, 89, -94, -230, -243, -248, -267, -281, -35, 43, -114, -235, -3, -7, 31, -35, -41, -53, -82, 107, 120, -122, -141, 145, -184, -197, 232, -244, -13, 34, 105, 182, 187, 212, 242, 282, 289, -35, -44, -49, 54, -88, -119, -123, -130, -172, -179, 212, -219, 232, -249, -274, -279, -38, -81, -114, -144, -49, -97, 40, 51, 140, 151, -3, -38, -41, -60, -67, -117, -134, -141, 266, -76, 20, -30, -95, -131, -144, -4, 9, 19, 35, -65, 70, 82, -101, 138, -248, 266, -272, -293, 11, 15, 18, 41, 112, 129, 137, 145, 149, 189, 199, -262, 64, -26, 187, -203, -228, -261, -290, -298, -214, -218, -133, -137, -84, -88, -245, -251, 8, -13, 19, -24, -34, 46, 72, 75, 98, 199, 203, 220, 223, 224, -233, 250, 278, 297, 299, -3, -16, 16, -86, -88, -131, -180, -187, -189, -193, -201, 23, -26, -33, -35, -39, -47, 66, 68, 138, 151, 170, -295, -3, 30, 36, 155, 175, -176, 252, -253, -86, -3, 10, 23, 116, -228, -271, 23, 32, 49, 54, 68, 90, 264, -6, -8, -10, 10, -14, 15, 19, 26, 30, 35, 37, -44, -62, 74, 78, 82, -86, 96, 98, 119, 121, 130, 132, 137, 154, 68, -26, -176, -182, -203, -245, -262, 112, -94, 196, 270, 93, 291, 19, -267, 54, -135, -72, -143, 156, -3, 24, -56, 166, -63, 84, 135, -157, 165, 186, -291, 52, -95, 103, 133, 154, -189, -41, -84, 238, -193, -274, 184, 5, -6, -10, 12, 14, 29, -31, 31, 39, -53, -56, 60, -61, -72, 74, -77, -79, -81, -85, 85, 89, 94, -97, -100, -102, -105, 110, -116, 125, -132, 133, -134, 143, 146, -148, 152, 154, -158, -164, -166, 168, 169, 173, 179, 181, -182, -186, 186, 201, 216, 222, -227, 241, 242, -246, 247, 257, 262, 269, 272, 275, 278, 11, -121, -229, 87, 8, -132, -218, -144, 15, -49, -125, 46, 76, 93, 114, -5, 7, -11, 30, 35, 53, -214, -235, -252, 281, 230, 245, 199, -18, 24, 41, -49, 51, -52, -56, -132, -134, -150, -179, -189, -212, -20, -260, 8, -33, -83, -98, -175, -30, -71, -121, -136, -213, 194, 76, -133, 173, 8, -89, -298, 83, 292, 295, 83, 127, 129, 138, -163, -118, -149, -152, -154, -172, -33, -64, -67, -69, -87, -277, -6, -37, -40, -42, -60, -250, -8, 10, 12, 15, 46, -198, -30, 160, 178, 180, 183, 214, 49, -58, 248, -253, 22, 129, -173, 9, 23, -56, 65, -114, -116, 188, 280, 282, 284, 286, 64, 116, 287, -7, 99, -178, -230, 184, -253, 17, 20, -27, -30, 32, 34, -41, -43, 49, 72, 76, 81, 84, 104, 124, 130, 133, -137, -148, -154, -181, -232, -299, 14, 20, 89, 93, 96, 107, 110, 121, -122, -145, -176, 176, 199, 204, 222, 249, 256, 271, -26, 84, 92, 96, 107, 116, 119, 120, 133, 141, 145, 254, 8, 12, 43, 17, 19, -22, 25, -42, -47, 51, -55, -62, -73, -83, -85, -86, 88, 92, 94, 99, -100, 105, 110, 115, -118, -125, 128, -132, 133, 135, -140, 143, -167, -172, -180, -182, 186, -198, -201, -204, -207, -211, -219, -222, 230, 254, -268, 285, 296, 83, 114, 122, -14, 19, -23, -39, -50, 50, 58, -62, 63, 69, 77, 81, -99, 102, 114, -137, -145, 176, -198, -200, 201, 245, 263, -300, 276, -152, -164, 230, 233, -235, -247, 299, -3, -19, 109, 135, -136, 199, 224, 269, 173, 148, 213, 18, 92, 94, -99, 124, 129, -240, -259, -8, 10, 23, -34, 37, 41, 46, -48, -53, -68, -70, -84, -101, 144, -158, -298, 9, 10, -85, -136, 52, 9, -29, 54, 88, 92, 131, -51, 119, -169, 10, 84, -137, 11, -33, -38, 41, -60, -80, -276, 8, -12, 30, 35, 79, 109, -208, -24, 28, -76, -91, -112, -131, -198, -201, -218, -221, -240, -248, -264, -270, -6, 9, -27, -46, 61, -113, 113, -116, -133, -136, -155, -163, -179, -185, -263, 13, 19, 35, 43, 62, -65, 65, 82, 85, 152, 171, 192, 207, 259, 8, -177, -229, -25, 38, 132, 177, 192, 239, 259, -6, -69, 88, 133, 148, 195, 215, 263, 264, -239, 17, 50, 11, 294, -92, -254, -143, 220, -41, 9, 39, -154, -156, -199, -10, 11, -12, -20, 21, 25, 32, 34, 35, -38, 49, 54, -55, -69, 72, 74, -94, 97, -106, -108, -123, -145, -158, 174, -180, 191, -194, -221, 226, -242, 254, 256, 260, 267, -297, 123, -279, 25, 22, 65, -75, 111, 245, 253, -4, 10, 12, 15, -19, 38, 40, -46, -70, 73, 80, 90, 95, 98, -100, -201, -241, -250, 253, 273, 290, -5, -13, -18, -34, -53, -59, -62, -119, -276, 9, 12, 18, 37, -48, 53, 58, 66, -205, -45, 112, 169, 172, 178, 197, 213, 218, 226, 54, -60, 67, 96, 20, 50, 65, 30, -39, 45, 76, 78, -96, -28, 29, 98, 113, 144, 146, -5, -11, -14, 21, 24, -37, -39, 41, -47, -54, -46, -78, -92, -95, -98, -114, -242, 34, 141, 117, 184, -96, 149, 155, -76, -96, 96, -98, -117, -119, -134, 8, -12, -14, -33, -35, -50, 180, -227, -18, -27, 36, 45, -188, 8, -28, 13, 17, -34, 41, -55, -63, 78, -80, 105, 129, 135, 137, -146, 149, -231, -238, -263, -265, 68, -85, 100, 110, -136, -143, -172, -207, -216, -246, -286, -190, 7, -18, -28, 28, 34, 36, 53, -78, -130, -254, -3, -13, -15, -46, -147, -271, -263, -12, -77, -117, -76, 127, 13, -8, -11, 18, 34, -38, -58, -60, -63, -66, 80, -92, -100, -113, -117, -140, -166, -205, 232, 234, 237, -264, -7, -23, 62, 70, -4, 19, 22, 135, -166, -169, -201, -208, -226, -240, -265, 280, -281, -296, -246, -235, 8, 10, -22, 44, -90, -104, -112, 178, -214, 219, 224, 9, 18, 29, 35, -48, 16, 21, 28, -42, -44, 63, 93, -113, -127, 140, -148, -161, 191, -192, -204, 228, 245, 247, -262, 275, -98, -100, -101, -106, -112, -115, 127, -133, -138, 156, 164, 170, 200, 214, 219, 241, 269, 283, -45, 269, -300, -144, 190, 61, 234, -3, -5, -39, -100, -136, -153, -170, -188, -208, -214, -231, 284, 287, 23, 259, -190, -62, 107, -35, 157, 167, 185, 203, 40, -151, 273, -6, 8, -13, -19, -23, -33, 78, -243, -197, -219, -240, -248, -260, 19, 21, -40, 45, -54, -60, -65, -68, 69, 73, 74, -79, -82, 84, 94, 106, -108, -113, 120, -123, 127, -130, -133, 134, -138, 138, 147, -154, -167, -172, -177, -192, -220, -221, -293, 13, 145, 154, 187, 191, 231, 49, 58, -83, 91, 95, 135, 31, 40, 73, 77, -101, 117, 8, 17, 50, 54, 94, -124, -249, -300, 9, -42, -87, 11, -261, 28, 68, 108, 24, 213, 89, -66, 17, 44, 46, 48, 19, 57, 65, 84, -86, -90, 92, 104, 125, 197, 214, -244, -84, -136, -138, -154, -169, -172, -193, -60, -86, -60, 60, 62, 86, 105, 107, -268, -28, 35, -62, -177, -5, 7, 19, -20, 23, 27, -30, 30, 52, 55, 65, 68, 75, 79, 86, -90, -92, 99, -102, -106, 107, -125, 129, -134, 136, -137, 139, 141, 150, 152, -160, -165, -178, -185, 187, -191, -195, -197, 200, 222, -230, -234, -252, 255, -259, 276, -281, -291, -296, 189, 202, 13, 34, -57, -90, 90, -92, 141, 143, 185, 224, 254, 35, 90, 5, -7, -17, 25, -30, -37, 40, 49, -56, 61, 63, -65, -82, -101, -106, 118, -120, -122, 154, -159, 163, 171, 175, -180, -182, 183, 185, -196, 199, 201, -212, 218, -227, 239, -253, -285, -296, -5, 8, 10, -53, -60, -65, 74, -78, -83, -109, -89, -95, -99, -103, -195, -199, -202, -214, -228, -237, -248, -254, -294, -296, -3, 7, -22, 144, 42, 25, -150, 13, 15, -26, 29, 85] [-58, -204, -164, -271, -133, -31, 101, -132, -138, 181, 258, 260, 20, 208, -16, 13, 119, -232, 45, -5, 281, -167, -179, -58, -9, 71, 73, -37, -134, -239, 255, -140, 41, -156, -294, -62, -148, -192, -215, -123, -167, -190, -285, -291, 29, 271, -36, 5, -74, -287, 119, 216, -108, -202, -259, 79, -157, -197, -264, 269, 197, -102, -198, -49, 32, -21, -62, -168, 295, -41, 180, 189, -12, 65, 281, -165, 238, 243, -157, 300, -275, 27, 82, 68, 138, 229, 58, 84, -11, 143, -234, 176, -56, 287, 247, 265, 66, -113, 12, -31, 31, 168, 201, 247, 262, 164, -190, 205, -300, -174, -29, -72, 216, 229, -43, 200, 217, -12, 116, -69, -121, 259, 215, 253, 292, -183, -105, 156, 194, -120, 290, -38, 260, -10, 286, -40, 107, 33, 67, 297, 41, -96, 253, 43, 232, 53, -169, -286, -208, -143, -150, 19, -281, -23, -97, 20, -291, 45, 5, -56, -227, -234, 88, 158]\n"
     ]
    },
    {
     "data": {
      "image/png": "[encoded data removed]",
      "text/plain": [
       "<Figure size 720x720 with 1 Axes>"
      ]
     },
     "metadata": {
      "needs_background": "light"
     },
     "output_type": "display_data"
    }
   ],
   "source": [
    "x = list(closest_real['distance'])\n",
    "y = list(closest_apobec_only_background['distance'])\n",
    "print(x, y)\n",
    "fig, ax = plt.subplots(figsize=(10,10))\n",
    "make_hist(ax, x, bins=list(range(-window_slop, window_slop, 5)), extra_y=6, label=os.path.basename(editing_sites))\n",
    "make_hist(ax, y, bins=list(range(-window_slop, window_slop, 5)), extra_y=6, label=os.path.basename(editing_sites_apobec_only))\n",
    "# ax.set_ylim(0, 0.05)\n",
    "# ax.set_ylim(0, 200)\n",
    "for tick in ax.get_xticklabels():\n",
    "    tick.set_rotation(90)\n",
    "plt.legend()\n",
    "plt.show()\n",
    "fig.savefig(os.path.join(output_dir, 'RBFOX2_and_APO-only_edits_near_{}_motifs_histogram.svg'.format(motif)))"
   ]
  },
  {
   "cell_type": "code",
   "execution_count": 40,
   "metadata": {},
   "outputs": [
    {
     "name": "stderr",
     "output_type": "stream",
     "text": [
      "/home/bay001/anaconda2/envs/python3-essential/lib/python3.6/site-packages/matplotlib/axes/_axes.py:6521: MatplotlibDeprecationWarning: \n",
      "The 'normed' kwarg was deprecated in Matplotlib 2.1 and will be removed in 3.1. Use 'density' instead.\n",
      "  alternative=\"'density'\", removal=\"3.1\")\n",
      "/home/bay001/anaconda2/envs/python3-essential/lib/python3.6/site-packages/matplotlib/axes/_axes.py:6521: MatplotlibDeprecationWarning: \n",
      "The 'normed' kwarg was deprecated in Matplotlib 2.1 and will be removed in 3.1. Use 'density' instead.\n",
      "  alternative=\"'density'\", removal=\"3.1\")\n"
     ]
    },
    {
     "data": {
      "image/png": "[encoded data removed]",
      "text/plain": [
       "<Figure size 720x720 with 1 Axes>"
      ]
     },
     "metadata": {
      "needs_background": "light"
     },
     "output_type": "display_data"
    }
   ],
   "source": [
    "fig, ax = plt.subplots(figsize=(10, 10))\n",
    "a = ax.hist(closest_real['distance'], bins=100, normed=False, alpha=0.3)\n",
    "b = ax.hist(closest_apobec_only_background['distance'], bins=100, normed=False, alpha=0.3)\n",
    "ax.set_xlabel('Distance from C: G[C]AUG) (bin size = 4)')\n",
    "ax.set_ylabel('Number of edits')\n",
    "fig.savefig(os.path.join(output_dir, 'RBFOX2_and_APO-only_edits_near_{}_motifs_histogram_unnormalized.svg'.format(motif)))"
   ]
  },
  {
   "cell_type": "code",
   "execution_count": 41,
   "metadata": {},
   "outputs": [
    {
     "name": "stderr",
     "output_type": "stream",
     "text": [
      "/home/bay001/anaconda2/envs/python3-essential/lib/python3.6/site-packages/matplotlib/axes/_axes.py:6521: MatplotlibDeprecationWarning: \n",
      "The 'normed' kwarg was deprecated in Matplotlib 2.1 and will be removed in 3.1. Use 'density' instead.\n",
      "  alternative=\"'density'\", removal=\"3.1\")\n",
      "/home/bay001/anaconda2/envs/python3-essential/lib/python3.6/site-packages/matplotlib/axes/_axes.py:6521: MatplotlibDeprecationWarning: \n",
      "The 'normed' kwarg was deprecated in Matplotlib 2.1 and will be removed in 3.1. Use 'density' instead.\n",
      "  alternative=\"'density'\", removal=\"3.1\")\n"
     ]
    },
    {
     "data": {
      "image/png": "[encoded data removed]",
      "text/plain": [
       "<Figure size 720x720 with 1 Axes>"
      ]
     },
     "metadata": {
      "needs_background": "light"
     },
     "output_type": "display_data"
    }
   ],
   "source": [
    "fig, ax = plt.subplots(figsize=(10, 10))\n",
    "a = ax.hist(closest_real['distance'], bins=100, normed=True, alpha=0.3)\n",
    "b = ax.hist(closest_apobec_only_background['distance'], bins=100, normed=True, alpha=0.3)\n",
    "ax.set_xlabel('Distance from C: G[C]AUG) (bin size = 4)')\n",
    "ax.set_ylabel('Number of edits')\n",
    "fig.savefig(os.path.join(output_dir, 'RBFOX2_and_APO-only_edits_near_{}_motifs_histogram_unnormalized.svg'.format(motif)))"
   ]
  },
  {
   "cell_type": "markdown",
   "metadata": {},
   "source": [
    "# Let's zoom in and make sure we're not getting any edits on [G]C[ATG]\n",
    "- 'C' is position 0"
   ]
  },
  {
   "cell_type": "code",
   "execution_count": 42,
   "metadata": {},
   "outputs": [
    {
     "data": {
      "image/png": "[encoded data removed]",
      "text/plain": [
       "<Figure size 720x720 with 1 Axes>"
      ]
     },
     "metadata": {
      "needs_background": "light"
     },
     "output_type": "display_data"
    }
   ],
   "source": [
    "x = list(closest_apobec_only_background['distance'])\n",
    "fig, ax = plt.subplots(figsize=(10,10))\n",
    "make_hist(ax, x, bins=list(range(-25, 25, 1)), extra_y=6)\n",
    "for tick in ax.get_xticklabels():\n",
    "    tick.set_rotation(90)\n",
    "ax.set_xlabel(\"distance from re-centered peak\")\n",
    "ax.set_ylabel(\"number of sites\")\n",
    "plt.title(\"Closest editing site to motif {}\".format(motif))\n",
    "plt.show()"
   ]
  },
  {
   "cell_type": "code",
   "execution_count": 43,
   "metadata": {},
   "outputs": [
    {
     "name": "stderr",
     "output_type": "stream",
     "text": [
      "/home/bay001/anaconda2/envs/python3-essential/lib/python3.6/site-packages/matplotlib/axes/_axes.py:6521: MatplotlibDeprecationWarning: \n",
      "The 'normed' kwarg was deprecated in Matplotlib 2.1 and will be removed in 3.1. Use 'density' instead.\n",
      "  alternative=\"'density'\", removal=\"3.1\")\n",
      "/home/bay001/anaconda2/envs/python3-essential/lib/python3.6/site-packages/matplotlib/axes/_axes.py:6521: MatplotlibDeprecationWarning: \n",
      "The 'normed' kwarg was deprecated in Matplotlib 2.1 and will be removed in 3.1. Use 'density' instead.\n",
      "  alternative=\"'density'\", removal=\"3.1\")\n"
     ]
    },
    {
     "data": {
      "image/png": "[encoded data removed]",
      "text/plain": [
       "<Figure size 432x288 with 1 Axes>"
      ]
     },
     "metadata": {
      "needs_background": "light"
     },
     "output_type": "display_data"
    }
   ],
   "source": [
    "a, bins, patches = plt.hist(list(closest_real['distance']), bins=100, normed=False)\n",
    "b, bins, patches = plt.hist(list(closest_apobec_only_background['distance']), bins=100, normed=False)\n",
    "h = pd.DataFrame({\n",
    "    'real':a+1,\n",
    "    'bg':b+1\n",
    "})\n",
    "h['fold'] = h['real'].div(h['bg'])\n",
    "h['l2real'] = np.log2(h['real'])\n",
    "h['l2bg'] = np.log2(h['bg'])\n",
    "h['l2fold'] = np.log2(h['fold'])"
   ]
  },
  {
   "cell_type": "code",
   "execution_count": 44,
   "metadata": {},
   "outputs": [
    {
     "data": {
      "image/png": "[encoded data removed]",
      "text/plain": [
       "<Figure size 1080x720 with 2 Axes>"
      ]
     },
     "metadata": {
      "needs_background": "light"
     },
     "output_type": "display_data"
    }
   ],
   "source": [
    "fig, ax1 = plt.subplots(figsize=(15, 10))\n",
    "ax1.bar(h.index, h['real'])\n",
    "ax1.bar(h.index, h['bg'])\n",
    "\n",
    "ax2 = ax1.twinx()  # instantiate a second axes that shares the same x-axis\n",
    "ax2.plot(h.index, h['l2fold'], color='green')\n",
    "ax1.set_ylabel(\"Number of edits in bin\")\n",
    "ax2.set_ylabel(\"Log2(fold)\")\n",
    "ax1.set_xlabel(\"Distance from C (G[C]AUG)) - bin size = 4\")\n",
    "fig.savefig(os.path.join(output_dir, 'RBFOX2_and_APO-only_edits_near_{}_motifs_histogram_unnormalized.svg'.format(motif)))"
   ]
  },
  {
   "cell_type": "code",
   "execution_count": 45,
   "metadata": {},
   "outputs": [
    {
     "data": {
      "text/plain": [
       "9.596496350364964"
      ]
     },
     "execution_count": 45,
     "metadata": {},
     "output_type": "execute_result"
    }
   ],
   "source": [
    "num_fox_sites/num_apo_sites"
   ]
  },
  {
   "cell_type": "code",
   "execution_count": 46,
   "metadata": {},
   "outputs": [
    {
     "data": {
      "text/plain": [
       "<BarContainer object of 100 artists>"
      ]
     },
     "execution_count": 46,
     "metadata": {},
     "output_type": "execute_result"
    },
    {
     "data": {
      "image/png": "[encoded data removed]",
      "text/plain": [
       "<Figure size 1080x720 with 1 Axes>"
      ]
     },
     "metadata": {
      "needs_background": "light"
     },
     "output_type": "display_data"
    }
   ],
   "source": [
    "h['scaledreal'] = h['real']/(num_fox_sites/num_apo_sites)\n",
    "h['scaledbg'] = h['bg']\n",
    "fig, ax1 = plt.subplots(figsize=(15, 10))\n",
    "ax1.bar(h.index, h['scaledreal'])\n",
    "ax1.bar(h.index, h['scaledbg'])"
   ]
  },
  {
   "cell_type": "code",
   "execution_count": 47,
   "metadata": {},
   "outputs": [
    {
     "data": {
      "image/png": "[encoded data removed]",
      "text/plain": [
       "<Figure size 432x288 with 1 Axes>"
      ]
     },
     "metadata": {
      "needs_background": "light"
     },
     "output_type": "display_data"
    }
   ],
   "source": [
    "fig, ax = plt.subplots()\n",
    "sns.distplot(closest_real['distance'], ax=ax, bins=500, hist=False)\n",
    "sns.distplot(closest_apobec_only_background['distance'], ax=ax, bins=500, hist=False)\n",
    "ax.set_xlim(-200, 200)\n",
    "ax.set_ylabel('frequency')\n",
    "ax.set_xlabel('distance from C (G[C]AUG)')\n",
    "ax.set_ylim(0.001, 0.0028)\n",
    "fig.savefig(os.path.join(output_dir, 'RBFOX2_and_APO-only_edits_near_{}_motifs_histogram_normalized_nohist_wsmoothed_line.svg'.format(motif)))"
   ]
  },
  {
   "cell_type": "code",
   "execution_count": 48,
   "metadata": {},
   "outputs": [
    {
     "data": {
      "image/png": "[encoded data removed]",
      "text/plain": [
       "<Figure size 432x288 with 1 Axes>"
      ]
     },
     "metadata": {
      "needs_background": "light"
     },
     "output_type": "display_data"
    }
   ],
   "source": [
    "fig, ax = plt.subplots()\n",
    "sns.distplot(closest_real['distance'], ax=ax, bins=600, hist=True)\n",
    "sns.distplot(closest_apobec_only_background['distance'], ax=ax, bins=600, hist=True)\n",
    "ax.set_xlim(-200, 200)\n",
    "ax.set_ylabel('frequency')\n",
    "ax.set_xlabel('distance from C (G[C]AUG)')\n",
    "fig.savefig(os.path.join(output_dir, 'RBFOX2_and_APO-only_edits_near_{}_motifs_histogram_unnormalized_hist_wsmoothed_line.svg'.format(motif)))"
   ]
  },
  {
   "cell_type": "code",
   "execution_count": null,
   "metadata": {},
   "outputs": [],
   "source": []
  },
  {
   "cell_type": "code",
   "execution_count": null,
   "metadata": {},
   "outputs": [],
   "source": []
  },
  {
   "cell_type": "code",
   "execution_count": null,
   "metadata": {},
   "outputs": [],
   "source": []
  }
 ],
 "metadata": {
  "kernelspec": {
   "display_name": "python3-essential",
   "language": "python",
   "name": "python3-essential"
  },
  "language_info": {
   "codemirror_mode": {
    "name": "ipython",
    "version": 3
   },
   "file_extension": ".py",
   "mimetype": "text/x-python",
   "name": "python",
   "nbconvert_exporter": "python",
   "pygments_lexer": "ipython3",
   "version": "3.6.7"
  }
 },
 "nbformat": 4,
 "nbformat_minor": 4
}
