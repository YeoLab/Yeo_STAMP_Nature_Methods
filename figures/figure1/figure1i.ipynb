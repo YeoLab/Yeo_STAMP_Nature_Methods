{
 "cells": [
  {
   "cell_type": "markdown",
   "metadata": {},
   "source": [
    "# Takes in STAMP \"peaks\" (poisson filtered) and generates the motif analysis commands. "
   ]
  },
  {
   "cell_type": "code",
   "execution_count": 1,
   "metadata": {},
   "outputs": [],
   "source": [
    "%matplotlib inline\n",
    "import matplotlib.pyplot as plt\n",
    "import seaborn as sns\n",
    "import glob\n",
    "import os\n",
    "import pandas as pd\n",
    "import numpy as np\n",
    "import os\n",
    "import pybedtools\n",
    "import warnings\n",
    "warnings.simplefilter(action='ignore', category=FutureWarning)\n",
    "from qtools import Submitter\n",
    "from tqdm import tnrange, tqdm_notebook"
   ]
  },
  {
   "cell_type": "code",
   "execution_count": 2,
   "metadata": {},
   "outputs": [],
   "source": [
    "input_dir = '/projects/ps-yeolab3/ekofman/New_STAMP_framework/rebuttal/CvC_and_NvN/shuffled_eclips'\n",
    "output_dir = '/home/bay001/projects/kris_apobec_20200121/permanent_data/final_analysis/figure_1/outputs/motifs/'\n",
    "bash_script_dir = '/home/bay001/projects/kris_apobec_20200121/permanent_data/final_analysis/01_SAILOR_bulk_rnaseq/bash_scripts/'"
   ]
  },
  {
   "cell_type": "code",
   "execution_count": 3,
   "metadata": {},
   "outputs": [],
   "source": [
    "genome_fasta = '/projects/ps-yeolab3/bay001/annotations/hg19/hg19.fa'\n",
    "cmds = []"
   ]
  },
  {
   "cell_type": "code",
   "execution_count": 4,
   "metadata": {},
   "outputs": [],
   "source": [
    "def write_motif_analysis_cmd(bed_file, output_dir=output_dir, genome_fasta=genome_fasta):\n",
    "    \n",
    "    out_homer_dir = os.path.join(\n",
    "        output_dir, \n",
    "        os.path.splitext(os.path.basename(bed_file))[0]\n",
    "    )\n",
    "    out_file = out_homer_dir + '.svg'\n",
    "    out_pickle_file = out_homer_dir + '.pickle'\n",
    "    if not os.path.exists(out_file):\n",
    "        cmd = 'module load eclipanalysis/0.0.3a;analyze_motifs '\n",
    "        cmd += '--peaks {} '.format(bed_file)\n",
    "        cmd += '--out_pickle_file {} '.format(out_pickle_file)\n",
    "        cmd += '--out_file {} '.format(out_file)\n",
    "        cmd += '--species hg19 '\n",
    "        cmd += '--out_homer_dir {} '.format(out_homer_dir)\n",
    "        cmd += '--genome_fasta {} '.format(genome_fasta)\n",
    "        return cmd\n",
    "    else: \n",
    "        return None"
   ]
  },
  {
   "cell_type": "code",
   "execution_count": 5,
   "metadata": {},
   "outputs": [
    {
     "data": {
      "text/plain": [
       "['/projects/ps-yeolab3/ekofman/New_STAMP_framework/rebuttal/CvC_and_NvN/shuffled_eclips/c_terminus_score_0.999_poisson_boost_100_density.bed',\n",
       " '/projects/ps-yeolab3/ekofman/New_STAMP_framework/rebuttal/CvC_and_NvN/shuffled_eclips/c_terminus_score_0.999_poisson_boost_100_no_density.bed',\n",
       " '/projects/ps-yeolab3/ekofman/New_STAMP_framework/rebuttal/CvC_and_NvN/shuffled_eclips/c_terminus_score_0.99_poisson_boost_100_density.bed',\n",
       " '/projects/ps-yeolab3/ekofman/New_STAMP_framework/rebuttal/CvC_and_NvN/shuffled_eclips/c_terminus_score_0.99_poisson_boost_100_no_density.bed',\n",
       " '/projects/ps-yeolab3/ekofman/New_STAMP_framework/rebuttal/CvC_and_NvN/shuffled_eclips/c_terminus_score_0.9_poisson_boost_100_density.bed',\n",
       " '/projects/ps-yeolab3/ekofman/New_STAMP_framework/rebuttal/CvC_and_NvN/shuffled_eclips/c_terminus_score_0.9_poisson_boost_100_no_density.bed',\n",
       " '/projects/ps-yeolab3/ekofman/New_STAMP_framework/rebuttal/CvC_and_NvN/shuffled_eclips/control_windows_merged.bed',\n",
       " '/projects/ps-yeolab3/ekofman/New_STAMP_framework/rebuttal/CvC_and_NvN/shuffled_eclips/n_terminus_score_0.999_poisson_boost_100_density.bed',\n",
       " '/projects/ps-yeolab3/ekofman/New_STAMP_framework/rebuttal/CvC_and_NvN/shuffled_eclips/n_terminus_score_0.999_poisson_boost_100_no_density.bed',\n",
       " '/projects/ps-yeolab3/ekofman/New_STAMP_framework/rebuttal/CvC_and_NvN/shuffled_eclips/n_terminus_score_0.99_poisson_boost_100_density.bed',\n",
       " '/projects/ps-yeolab3/ekofman/New_STAMP_framework/rebuttal/CvC_and_NvN/shuffled_eclips/n_terminus_score_0.99_poisson_boost_100_no_density.bed',\n",
       " '/projects/ps-yeolab3/ekofman/New_STAMP_framework/rebuttal/CvC_and_NvN/shuffled_eclips/n_terminus_score_0.9_poisson_boost_100_density.bed',\n",
       " '/projects/ps-yeolab3/ekofman/New_STAMP_framework/rebuttal/CvC_and_NvN/shuffled_eclips/n_terminus_score_0.9_poisson_boost_100_no_density.bed',\n",
       " '/projects/ps-yeolab3/ekofman/New_STAMP_framework/rebuttal/CvC_and_NvN/shuffled_eclips/rbfox2_0_score_0.999_poisson_boost_100_density.bed',\n",
       " '/projects/ps-yeolab3/ekofman/New_STAMP_framework/rebuttal/CvC_and_NvN/shuffled_eclips/rbfox2_50_score_0.999_poisson_boost_100_density.bed']"
      ]
     },
     "execution_count": 5,
     "metadata": {},
     "output_type": "execute_result"
    }
   ],
   "source": [
    "all_bedfiles = sorted(glob.glob(os.path.join(input_dir, '*.bed')))\n",
    "all_bedfiles"
   ]
  },
  {
   "cell_type": "code",
   "execution_count": 6,
   "metadata": {},
   "outputs": [
    {
     "data": {
      "text/plain": [
       "['module load eclipanalysis/0.0.3a;analyze_motifs --peaks /projects/ps-yeolab3/ekofman/New_STAMP_framework/rebuttal/CvC_and_NvN/shuffled_eclips/c_terminus_score_0.999_poisson_boost_100_density.bed --out_pickle_file /home/bay001/projects/kris_apobec_20200121/permanent_data/final_analysis/figure_1/outputs/motifs/c_terminus_score_0.999_poisson_boost_100_density.pickle --out_file /home/bay001/projects/kris_apobec_20200121/permanent_data/final_analysis/figure_1/outputs/motifs/c_terminus_score_0.999_poisson_boost_100_density.svg --species hg19 --out_homer_dir /home/bay001/projects/kris_apobec_20200121/permanent_data/final_analysis/figure_1/outputs/motifs/c_terminus_score_0.999_poisson_boost_100_density --genome_fasta /projects/ps-yeolab3/bay001/annotations/hg19/hg19.fa ',\n",
       " 'module load eclipanalysis/0.0.3a;analyze_motifs --peaks /projects/ps-yeolab3/ekofman/New_STAMP_framework/rebuttal/CvC_and_NvN/shuffled_eclips/c_terminus_score_0.999_poisson_boost_100_no_density.bed --out_pickle_file /home/bay001/projects/kris_apobec_20200121/permanent_data/final_analysis/figure_1/outputs/motifs/c_terminus_score_0.999_poisson_boost_100_no_density.pickle --out_file /home/bay001/projects/kris_apobec_20200121/permanent_data/final_analysis/figure_1/outputs/motifs/c_terminus_score_0.999_poisson_boost_100_no_density.svg --species hg19 --out_homer_dir /home/bay001/projects/kris_apobec_20200121/permanent_data/final_analysis/figure_1/outputs/motifs/c_terminus_score_0.999_poisson_boost_100_no_density --genome_fasta /projects/ps-yeolab3/bay001/annotations/hg19/hg19.fa ']"
      ]
     },
     "execution_count": 6,
     "metadata": {},
     "output_type": "execute_result"
    }
   ],
   "source": [
    "for bed in all_bedfiles:\n",
    "    cmds.append(write_motif_analysis_cmd(bed))\n",
    "\n",
    "cmds[:2]"
   ]
  },
  {
   "cell_type": "code",
   "execution_count": 7,
   "metadata": {},
   "outputs": [
    {
     "name": "stderr",
     "output_type": "stream",
     "text": [
      "Writing 15 tasks as an array-job.\n",
      "Wrote commands to /home/bay001/projects/kris_apobec_20200121/permanent_data/final_analysis/01_SAILOR_bulk_rnaseq/bash_scripts/motif_analysis.sh.\n"
     ]
    },
    {
     "data": {
      "text/plain": [
       "<qtools.submitter.Submitter at 0x2ae25dd0fc90>"
      ]
     },
     "execution_count": 7,
     "metadata": {},
     "output_type": "execute_result"
    }
   ],
   "source": [
    "# If we decide to do this in batch, otherwise leave this as raw txt, not code.\n",
    "Submitter(\n",
    "    cmds, \n",
    "    'motif_analysis', \n",
    "    sh=os.path.join(bash_script_dir, 'motif_analysis.sh'), \n",
    "    nodes=1, \n",
    "    ppn=1, \n",
    "    array=True, \n",
    "    submit=False, \n",
    "    walltime='40:00:00'\n",
    ")"
   ]
  },
  {
   "cell_type": "code",
   "execution_count": null,
   "metadata": {},
   "outputs": [],
   "source": []
  }
 ],
 "metadata": {
  "kernelspec": {
   "display_name": "python2essential (tscc)",
   "language": "python",
   "name": "python2essential"
  },
  "language_info": {
   "codemirror_mode": {
    "name": "ipython",
    "version": 2
   },
   "file_extension": ".py",
   "mimetype": "text/x-python",
   "name": "python",
   "nbconvert_exporter": "python",
   "pygments_lexer": "ipython2",
   "version": "2.7.15"
  }
 },
 "nbformat": 4,
 "nbformat_minor": 4
}
