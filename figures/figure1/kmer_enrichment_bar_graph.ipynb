{
 "cells": [
  {
   "cell_type": "code",
   "execution_count": 1,
   "metadata": {},
   "outputs": [],
   "source": [
    "%matplotlib inline\n",
    "import pandas as pd\n",
    "import os\n",
    "import matplotlib.pyplot as plt\n",
    "import seaborn as sns\n",
    "from collections import defaultdict\n",
    "import glob"
   ]
  },
  {
   "cell_type": "code",
   "execution_count": 2,
   "metadata": {},
   "outputs": [],
   "source": [
    "input_dir = '/home/bay001/projects/kris_apobec_20200121/permanent_data/final_analysis/figure_1/inputs/'\n",
    "output_dir = '/home/bay001/projects/kris_apobec_20200121/permanent_data/final_analysis/figure_1/outputs/'"
   ]
  },
  {
   "cell_type": "code",
   "execution_count": 3,
   "metadata": {},
   "outputs": [
    {
     "data": {
      "text/plain": [
       "['/home/bay001/projects/kris_apobec_20200121/permanent_data/final_analysis/figure_1/inputs/RBFOX2-0_S6_L001_R1_001.fastqTr.sorted.STARUnmapped.out.sorted.STARAligned.out.sorted_a0_b0_e0.01.annotated.0.9.flank25.pickle',\n",
       " '/home/bay001/projects/kris_apobec_20200121/permanent_data/final_analysis/figure_1/inputs/RBFOX2-1000_S20_L002_R1_001.fastqTr.sorted.STARUnmapped.out.sorted.STARAligned.out.sorted_a0_b0_e0.01.annotated.0.9.flank25.pickle',\n",
       " '/home/bay001/projects/kris_apobec_20200121/permanent_data/final_analysis/figure_1/inputs/RBFOX2-50_S13_L002_R1_001.fastqTr.sorted.STARUnmapped.out.sorted.STARAligned.out.sorted_a0_b0_e0.01.annotated.0.9.flank25.pickle']"
      ]
     },
     "execution_count": 3,
     "metadata": {},
     "output_type": "execute_result"
    }
   ],
   "source": [
    "all_pickles = sorted(glob.glob(os.path.join(input_dir, 'RBFOX2*.pickle')))\n",
    "all_pickles"
   ]
  },
  {
   "cell_type": "code",
   "execution_count": 4,
   "metadata": {},
   "outputs": [
    {
     "data": {
      "text/plain": [
       "Motif(freq1=24.0, freq2=77.0, delta=-0.2891608861579026)"
      ]
     },
     "execution_count": 4,
     "metadata": {},
     "output_type": "execute_result"
    }
   ],
   "source": [
    "i = 0\n",
    "data = pd.read_pickle(all_pickles[i])\n",
    "data['kmer_results']['all'][6]['TCGATG']"
   ]
  },
  {
   "cell_type": "code",
   "execution_count": 5,
   "metadata": {},
   "outputs": [],
   "source": [
    "def get_zscore_from_pickle(pickle_file, kmer='TCGATG'):\n",
    "    regions = ['cds','three_prime_utrs','five_prime_utrs','proxintron500','distintron500','all']\n",
    "    data = pd.read_pickle(pickle_file)\n",
    "    zscores = defaultdict()\n",
    "    for region in regions:\n",
    "        fg, bg, delta = data['kmer_results'][region][6][kmer]\n",
    "        zscores[region] = delta\n",
    "    return pd.DataFrame(zscores, index=[os.path.basename(pickle_file).split('_')[0]])"
   ]
  },
  {
   "cell_type": "code",
   "execution_count": 6,
   "metadata": {},
   "outputs": [
    {
     "name": "stderr",
     "output_type": "stream",
     "text": [
      "/projects/ps-yeolab4/bay001/anaconda2/envs/python2-essential/lib/python2.7/site-packages/ipykernel_launcher.py:4: FutureWarning: Sorting because non-concatenation axis is not aligned. A future version\n",
      "of pandas will change to not sort by default.\n",
      "\n",
      "To accept the future behavior, pass 'sort=False'.\n",
      "\n",
      "To retain the current behavior and silence the warning, pass 'sort=True'.\n",
      "\n",
      "  after removing the cwd from sys.path.\n"
     ]
    },
    {
     "data": {
      "text/html": [
       "<div>\n",
       "<style scoped>\n",
       "    .dataframe tbody tr th:only-of-type {\n",
       "        vertical-align: middle;\n",
       "    }\n",
       "\n",
       "    .dataframe tbody tr th {\n",
       "        vertical-align: top;\n",
       "    }\n",
       "\n",
       "    .dataframe thead th {\n",
       "        text-align: right;\n",
       "    }\n",
       "</style>\n",
       "<table border=\"1\" class=\"dataframe\">\n",
       "  <thead>\n",
       "    <tr style=\"text-align: right;\">\n",
       "      <th></th>\n",
       "      <th>all</th>\n",
       "      <th>cds</th>\n",
       "      <th>distintron500</th>\n",
       "      <th>five_prime_utrs</th>\n",
       "      <th>proxintron500</th>\n",
       "      <th>three_prime_utrs</th>\n",
       "    </tr>\n",
       "  </thead>\n",
       "  <tbody>\n",
       "    <tr>\n",
       "      <th>RBFOX2-0</th>\n",
       "      <td>-0.289161</td>\n",
       "      <td>1.191810</td>\n",
       "      <td>-0.703257</td>\n",
       "      <td>1.732063</td>\n",
       "      <td>-0.666677</td>\n",
       "      <td>-1.501144</td>\n",
       "    </tr>\n",
       "    <tr>\n",
       "      <th>RBFOX2-50</th>\n",
       "      <td>1.210016</td>\n",
       "      <td>0.279085</td>\n",
       "      <td>0.165988</td>\n",
       "      <td>1.414252</td>\n",
       "      <td>-1.501127</td>\n",
       "      <td>1.774601</td>\n",
       "    </tr>\n",
       "    <tr>\n",
       "      <th>RBFOX2-1000</th>\n",
       "      <td>2.585728</td>\n",
       "      <td>2.732921</td>\n",
       "      <td>2.326688</td>\n",
       "      <td>-0.666691</td>\n",
       "      <td>0.925743</td>\n",
       "      <td>0.202035</td>\n",
       "    </tr>\n",
       "  </tbody>\n",
       "</table>\n",
       "</div>"
      ],
      "text/plain": [
       "                  all       cds  distintron500  five_prime_utrs  \\\n",
       "RBFOX2-0    -0.289161  1.191810      -0.703257         1.732063   \n",
       "RBFOX2-50    1.210016  0.279085       0.165988         1.414252   \n",
       "RBFOX2-1000  2.585728  2.732921       2.326688        -0.666691   \n",
       "\n",
       "             proxintron500  three_prime_utrs  \n",
       "RBFOX2-0         -0.666677         -1.501144  \n",
       "RBFOX2-50        -1.501127          1.774601  \n",
       "RBFOX2-1000       0.925743          0.202035  "
      ]
     },
     "execution_count": 6,
     "metadata": {},
     "output_type": "execute_result"
    }
   ],
   "source": [
    "merged = pd.DataFrame(columns = ['cds','three_prime_utrs','five_prime_utrs','proxintron500','distintron500','all'])\n",
    "\n",
    "for pickle in all_pickles:\n",
    "    merged = pd.concat([merged, get_zscore_from_pickle(pickle)])\n",
    "# merged = merged.reindex(['ApoControl-0','ApoControl-50','ApoControl-1000','RBFOX2-0','RBFOX2-50','RBFOX2-1000'])\n",
    "merged = merged.reindex(['RBFOX2-0','RBFOX2-50','RBFOX2-1000'])\n",
    "merged"
   ]
  },
  {
   "cell_type": "code",
   "execution_count": 7,
   "metadata": {},
   "outputs": [
    {
     "name": "stderr",
     "output_type": "stream",
     "text": [
      "/home/bay001/anaconda2/envs/python2-essential/lib/python2.7/site-packages/pandas/core/indexing.py:362: SettingWithCopyWarning: \n",
      "A value is trying to be set on a copy of a slice from a DataFrame.\n",
      "Try using .loc[row_indexer,col_indexer] = value instead\n",
      "\n",
      "See the caveats in the documentation: http://pandas.pydata.org/pandas-docs/stable/indexing.html#indexing-view-versus-copy\n",
      "  self.obj[key] = _infer_fill_value(value)\n",
      "/home/bay001/anaconda2/envs/python2-essential/lib/python2.7/site-packages/pandas/core/indexing.py:543: SettingWithCopyWarning: \n",
      "A value is trying to be set on a copy of a slice from a DataFrame.\n",
      "Try using .loc[row_indexer,col_indexer] = value instead\n",
      "\n",
      "See the caveats in the documentation: http://pandas.pydata.org/pandas-docs/stable/indexing.html#indexing-view-versus-copy\n",
      "  self.obj[item] = s\n"
     ]
    },
    {
     "data": {
      "text/html": [
       "<div>\n",
       "<style scoped>\n",
       "    .dataframe tbody tr th:only-of-type {\n",
       "        vertical-align: middle;\n",
       "    }\n",
       "\n",
       "    .dataframe tbody tr th {\n",
       "        vertical-align: top;\n",
       "    }\n",
       "\n",
       "    .dataframe thead th {\n",
       "        text-align: right;\n",
       "    }\n",
       "</style>\n",
       "<table border=\"1\" class=\"dataframe\">\n",
       "  <thead>\n",
       "    <tr style=\"text-align: right;\">\n",
       "      <th></th>\n",
       "      <th>index</th>\n",
       "      <th>zscore</th>\n",
       "      <th>region</th>\n",
       "      <th>order</th>\n",
       "      <th>ordered_index</th>\n",
       "    </tr>\n",
       "  </thead>\n",
       "  <tbody>\n",
       "    <tr>\n",
       "      <th>12</th>\n",
       "      <td>RBFOX2-0</td>\n",
       "      <td>1.732063</td>\n",
       "      <td>5 prime UTR</td>\n",
       "      <td>1</td>\n",
       "      <td>1</td>\n",
       "    </tr>\n",
       "    <tr>\n",
       "      <th>13</th>\n",
       "      <td>RBFOX2-50</td>\n",
       "      <td>1.414252</td>\n",
       "      <td>5 prime UTR</td>\n",
       "      <td>1</td>\n",
       "      <td>2</td>\n",
       "    </tr>\n",
       "    <tr>\n",
       "      <th>14</th>\n",
       "      <td>RBFOX2-1000</td>\n",
       "      <td>-0.666691</td>\n",
       "      <td>5 prime UTR</td>\n",
       "      <td>1</td>\n",
       "      <td>3</td>\n",
       "    </tr>\n",
       "    <tr>\n",
       "      <th>15</th>\n",
       "      <td>RBFOX2-0</td>\n",
       "      <td>-1.501144</td>\n",
       "      <td>3 prime UTR</td>\n",
       "      <td>2</td>\n",
       "      <td>1</td>\n",
       "    </tr>\n",
       "    <tr>\n",
       "      <th>16</th>\n",
       "      <td>RBFOX2-50</td>\n",
       "      <td>1.774601</td>\n",
       "      <td>3 prime UTR</td>\n",
       "      <td>2</td>\n",
       "      <td>2</td>\n",
       "    </tr>\n",
       "    <tr>\n",
       "      <th>17</th>\n",
       "      <td>RBFOX2-1000</td>\n",
       "      <td>0.202035</td>\n",
       "      <td>3 prime UTR</td>\n",
       "      <td>2</td>\n",
       "      <td>3</td>\n",
       "    </tr>\n",
       "    <tr>\n",
       "      <th>6</th>\n",
       "      <td>RBFOX2-0</td>\n",
       "      <td>-0.703257</td>\n",
       "      <td>Distal Intron</td>\n",
       "      <td>3</td>\n",
       "      <td>1</td>\n",
       "    </tr>\n",
       "    <tr>\n",
       "      <th>7</th>\n",
       "      <td>RBFOX2-50</td>\n",
       "      <td>0.165988</td>\n",
       "      <td>Distal Intron</td>\n",
       "      <td>3</td>\n",
       "      <td>2</td>\n",
       "    </tr>\n",
       "    <tr>\n",
       "      <th>8</th>\n",
       "      <td>RBFOX2-1000</td>\n",
       "      <td>2.326688</td>\n",
       "      <td>Distal Intron</td>\n",
       "      <td>3</td>\n",
       "      <td>3</td>\n",
       "    </tr>\n",
       "    <tr>\n",
       "      <th>9</th>\n",
       "      <td>RBFOX2-0</td>\n",
       "      <td>-0.666677</td>\n",
       "      <td>Proximal Intron</td>\n",
       "      <td>4</td>\n",
       "      <td>1</td>\n",
       "    </tr>\n",
       "    <tr>\n",
       "      <th>10</th>\n",
       "      <td>RBFOX2-50</td>\n",
       "      <td>-1.501127</td>\n",
       "      <td>Proximal Intron</td>\n",
       "      <td>4</td>\n",
       "      <td>2</td>\n",
       "    </tr>\n",
       "    <tr>\n",
       "      <th>11</th>\n",
       "      <td>RBFOX2-1000</td>\n",
       "      <td>0.925743</td>\n",
       "      <td>Proximal Intron</td>\n",
       "      <td>4</td>\n",
       "      <td>3</td>\n",
       "    </tr>\n",
       "    <tr>\n",
       "      <th>3</th>\n",
       "      <td>RBFOX2-0</td>\n",
       "      <td>1.191810</td>\n",
       "      <td>CDS</td>\n",
       "      <td>5</td>\n",
       "      <td>1</td>\n",
       "    </tr>\n",
       "    <tr>\n",
       "      <th>4</th>\n",
       "      <td>RBFOX2-50</td>\n",
       "      <td>0.279085</td>\n",
       "      <td>CDS</td>\n",
       "      <td>5</td>\n",
       "      <td>2</td>\n",
       "    </tr>\n",
       "    <tr>\n",
       "      <th>5</th>\n",
       "      <td>RBFOX2-1000</td>\n",
       "      <td>2.732921</td>\n",
       "      <td>CDS</td>\n",
       "      <td>5</td>\n",
       "      <td>3</td>\n",
       "    </tr>\n",
       "    <tr>\n",
       "      <th>0</th>\n",
       "      <td>RBFOX2-0</td>\n",
       "      <td>-0.289161</td>\n",
       "      <td>Total</td>\n",
       "      <td>6</td>\n",
       "      <td>1</td>\n",
       "    </tr>\n",
       "    <tr>\n",
       "      <th>1</th>\n",
       "      <td>RBFOX2-50</td>\n",
       "      <td>1.210016</td>\n",
       "      <td>Total</td>\n",
       "      <td>6</td>\n",
       "      <td>2</td>\n",
       "    </tr>\n",
       "    <tr>\n",
       "      <th>2</th>\n",
       "      <td>RBFOX2-1000</td>\n",
       "      <td>2.585728</td>\n",
       "      <td>Total</td>\n",
       "      <td>6</td>\n",
       "      <td>3</td>\n",
       "    </tr>\n",
       "  </tbody>\n",
       "</table>\n",
       "</div>"
      ],
      "text/plain": [
       "          index    zscore           region order  ordered_index\n",
       "12     RBFOX2-0  1.732063      5 prime UTR     1              1\n",
       "13    RBFOX2-50  1.414252      5 prime UTR     1              2\n",
       "14  RBFOX2-1000 -0.666691      5 prime UTR     1              3\n",
       "15     RBFOX2-0 -1.501144      3 prime UTR     2              1\n",
       "16    RBFOX2-50  1.774601      3 prime UTR     2              2\n",
       "17  RBFOX2-1000  0.202035      3 prime UTR     2              3\n",
       "6      RBFOX2-0 -0.703257    Distal Intron     3              1\n",
       "7     RBFOX2-50  0.165988    Distal Intron     3              2\n",
       "8   RBFOX2-1000  2.326688    Distal Intron     3              3\n",
       "9      RBFOX2-0 -0.666677  Proximal Intron     4              1\n",
       "10    RBFOX2-50 -1.501127  Proximal Intron     4              2\n",
       "11  RBFOX2-1000  0.925743  Proximal Intron     4              3\n",
       "3      RBFOX2-0  1.191810              CDS     5              1\n",
       "4     RBFOX2-50  0.279085              CDS     5              2\n",
       "5   RBFOX2-1000  2.732921              CDS     5              3\n",
       "0      RBFOX2-0 -0.289161            Total     6              1\n",
       "1     RBFOX2-50  1.210016            Total     6              2\n",
       "2   RBFOX2-1000  2.585728            Total     6              3"
      ]
     },
     "execution_count": 7,
     "metadata": {},
     "output_type": "execute_result"
    }
   ],
   "source": [
    "def order_index(row):\n",
    "    if '-1000' in row['index']:\n",
    "        return 3\n",
    "    elif '-50' in row['index']:\n",
    "        return 2\n",
    "    elif '-0' in row['index']:\n",
    "        return 1\n",
    "    else:\n",
    "        print(\"shouldn't happen.\")\n",
    "        return -1 \n",
    "    \n",
    "distintron = merged[['distintron500']]\n",
    "distintron.loc[:,'region'] = 'Distal Intron'\n",
    "distintron.loc[:,'order'] = 3\n",
    "proxintron = merged[['proxintron500']]\n",
    "proxintron.loc[:,'region'] = 'Proximal Intron'\n",
    "proxintron.loc[:,'order'] = 4\n",
    "utr5 = merged[['five_prime_utrs']]\n",
    "utr5.loc[:,'region'] = '5 prime UTR'\n",
    "utr5.loc[:,'order'] = 1\n",
    "utr3 = merged[['three_prime_utrs']]\n",
    "utr3.loc[:,'region'] = '3 prime UTR'\n",
    "utr3.loc[:,'order'] = 2\n",
    "cds = merged[['cds']]\n",
    "cds.loc[:,'region'] = 'CDS'\n",
    "cds.loc[:,'order'] = 5\n",
    "total = merged[['all']]\n",
    "total.loc[:,'region'] = 'Total'\n",
    "total.loc[:,'order'] = 6\n",
    "\n",
    "tidydf = pd.DataFrame(columns=['zscore','region','order'])\n",
    "for df in [total, cds, distintron, proxintron, utr5, utr3]:\n",
    "    df.columns = ['zscore', 'region', 'order']\n",
    "    tidydf = pd.concat([tidydf, df])\n",
    "    \n",
    "tidydf.reset_index(inplace=True)\n",
    "tidydf.loc[:,'ordered_index'] = tidydf.apply(order_index, axis=1)\n",
    "tidydf.sort_values(by=['order', 'ordered_index'], inplace=True, )\n",
    "\n",
    "tidydf"
   ]
  },
  {
   "cell_type": "code",
   "execution_count": 8,
   "metadata": {},
   "outputs": [
    {
     "data": {
      "image/png": "[encoded data removed]",
      "text/plain": [
       "<Figure size 720x720 with 1 Axes>"
      ]
     },
     "metadata": {
      "needs_background": "light"
     },
     "output_type": "display_data"
    }
   ],
   "source": [
    "fig, ax = plt.subplots(figsize=(10, 10))\n",
    "ax = sns.barplot(x=\"zscore\", y=\"region\", hue=\"index\", data=tidydf, )\n",
    "fig.savefig(os.path.join(output_dir, 'kmer_enrichment_zscores_by_sample.svg'))"
   ]
  },
  {
   "cell_type": "code",
   "execution_count": 9,
   "metadata": {},
   "outputs": [
    {
     "data": {
      "image/png": "[encoded data removed]",
      "text/plain": [
       "<Figure size 720x720 with 1 Axes>"
      ]
     },
     "metadata": {
      "needs_background": "light"
     },
     "output_type": "display_data"
    }
   ],
   "source": [
    "fig, ax = plt.subplots(figsize=(10, 10))\n",
    "ax = sns.barplot(x=\"zscore\", y=\"index\", hue=\"region\", data=tidydf, )\n",
    "fig.savefig(os.path.join(output_dir, 'kmer_enrichment_zscores_by_region.svg'))"
   ]
  },
  {
   "cell_type": "code",
   "execution_count": null,
   "metadata": {},
   "outputs": [],
   "source": []
  }
 ],
 "metadata": {
  "kernelspec": {
   "display_name": "python2-essential",
   "language": "python",
   "name": "python2-essential"
  },
  "language_info": {
   "codemirror_mode": {
    "name": "ipython",
    "version": 2
   },
   "file_extension": ".py",
   "mimetype": "text/x-python",
   "name": "python",
   "nbconvert_exporter": "python",
   "pygments_lexer": "ipython2",
   "version": "2.7.15"
  }
 },
 "nbformat": 4,
 "nbformat_minor": 2
}
