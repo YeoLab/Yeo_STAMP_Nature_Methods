{
 "cells": [
  {
   "cell_type": "code",
   "execution_count": 1,
   "metadata": {},
   "outputs": [],
   "source": [
    "import pandas as pd\n",
    "import pybedtools"
   ]
  },
  {
   "cell_type": "markdown",
   "metadata": {},
   "source": [
    "# Load C-terminus eCLIP"
   ]
  },
  {
   "cell_type": "code",
   "execution_count": 2,
   "metadata": {},
   "outputs": [],
   "source": [
    "l2fc_threshold = 2\n",
    "l10p_threshold = 3\n",
    "\n",
    "# Annotated\n",
    "cterminus_bed_path = '../annotated_eclips/STAMP.PRBF_1.umi.r1.fq.genome-mappedSoSo.rmDupSo.peakClusters.normed.compressed.annotated'\n",
    "\n",
    "# Annotated IDR\n",
    "cterminus_eclip_df = pd.read_csv(\n",
    "    cterminus_bed_path, \n",
    "    sep='\\t',\n",
    "    names=['chrom', 'start', 'end', 'l2fc', 'l10p', 'strand', 'geneid', 'genename', 'region', 'annot']\n",
    ")\n",
    "\n",
    "cterminus_eclip_df = cterminus_eclip_df[(cterminus_eclip_df.l2fc > l2fc_threshold) & (cterminus_eclip_df.l10p > l10p_threshold)]\n"
   ]
  },
  {
   "cell_type": "markdown",
   "metadata": {},
   "source": [
    "# Load STAMP regions that did not overlap with C-terminus eCLIP"
   ]
  },
  {
   "cell_type": "code",
   "execution_count": 3,
   "metadata": {},
   "outputs": [],
   "source": [
    "red_zone = pd.read_csv('c_eclip_sc_agg_stamp_red_regions.tsv', sep='\\t', index_col=0)"
   ]
  },
  {
   "cell_type": "code",
   "execution_count": 4,
   "metadata": {},
   "outputs": [
    {
     "name": "stdout",
     "output_type": "stream",
     "text": [
      "['ENSG00000241343.5,ENSG00000257529.1,ENSG00000257529.1,ENSG00000241343.5,ENSG00000241343.5', 'ENSG00000241343.5']\n"
     ]
    }
   ],
   "source": [
    "from collections import defaultdict\n",
    "\n",
    "genes_without_versions = defaultdict(lambda:[])\n",
    "for g in list(set(red_zone.id2_stamp)):\n",
    "    genes_without_versions[g.split('.')[0]].append(g)\n",
    "    if len(genes_without_versions[g.split('.')[0]]) == 2:\n",
    "        print(genes_without_versions[g.split('.')[0]])\n",
    "    "
   ]
  },
  {
   "cell_type": "code",
   "execution_count": 5,
   "metadata": {},
   "outputs": [],
   "source": [
    "genes_in_red_zone = set([i.split('.')[0] for i in list(red_zone.id2_stamp)])"
   ]
  },
  {
   "cell_type": "code",
   "execution_count": null,
   "metadata": {},
   "outputs": [],
   "source": []
  },
  {
   "cell_type": "code",
   "execution_count": 6,
   "metadata": {},
   "outputs": [
    {
     "data": {
      "text/plain": [
       "753"
      ]
     },
     "execution_count": 6,
     "metadata": {},
     "output_type": "execute_result"
    }
   ],
   "source": [
    "len(genes_in_red_zone)"
   ]
  },
  {
   "cell_type": "code",
   "execution_count": 7,
   "metadata": {},
   "outputs": [
    {
     "data": {
      "text/html": [
       "<div>\n",
       "<style scoped>\n",
       "    .dataframe tbody tr th:only-of-type {\n",
       "        vertical-align: middle;\n",
       "    }\n",
       "\n",
       "    .dataframe tbody tr th {\n",
       "        vertical-align: top;\n",
       "    }\n",
       "\n",
       "    .dataframe thead th {\n",
       "        text-align: right;\n",
       "    }\n",
       "</style>\n",
       "<table border=\"1\" class=\"dataframe\">\n",
       "  <thead>\n",
       "    <tr style=\"text-align: right;\">\n",
       "      <th></th>\n",
       "      <th>chrom</th>\n",
       "      <th>start</th>\n",
       "      <th>end</th>\n",
       "      <th>l2fc</th>\n",
       "      <th>l10p</th>\n",
       "      <th>strand</th>\n",
       "      <th>geneid</th>\n",
       "      <th>genename</th>\n",
       "      <th>annot</th>\n",
       "    </tr>\n",
       "    <tr>\n",
       "      <th>region</th>\n",
       "      <th></th>\n",
       "      <th></th>\n",
       "      <th></th>\n",
       "      <th></th>\n",
       "      <th></th>\n",
       "      <th></th>\n",
       "      <th></th>\n",
       "      <th></th>\n",
       "      <th></th>\n",
       "    </tr>\n",
       "  </thead>\n",
       "  <tbody>\n",
       "    <tr>\n",
       "      <td>3utr</td>\n",
       "      <td>10135</td>\n",
       "      <td>10135</td>\n",
       "      <td>10135</td>\n",
       "      <td>10135</td>\n",
       "      <td>10135</td>\n",
       "      <td>10135</td>\n",
       "      <td>10135</td>\n",
       "      <td>10135</td>\n",
       "      <td>10135</td>\n",
       "    </tr>\n",
       "    <tr>\n",
       "      <td>5utr</td>\n",
       "      <td>2111</td>\n",
       "      <td>2111</td>\n",
       "      <td>2111</td>\n",
       "      <td>2111</td>\n",
       "      <td>2111</td>\n",
       "      <td>2111</td>\n",
       "      <td>2111</td>\n",
       "      <td>2111</td>\n",
       "      <td>2111</td>\n",
       "    </tr>\n",
       "    <tr>\n",
       "      <td>CDS</td>\n",
       "      <td>3906</td>\n",
       "      <td>3906</td>\n",
       "      <td>3906</td>\n",
       "      <td>3906</td>\n",
       "      <td>3906</td>\n",
       "      <td>3906</td>\n",
       "      <td>3906</td>\n",
       "      <td>3906</td>\n",
       "      <td>3906</td>\n",
       "    </tr>\n",
       "    <tr>\n",
       "      <td>distintron500</td>\n",
       "      <td>255</td>\n",
       "      <td>255</td>\n",
       "      <td>255</td>\n",
       "      <td>255</td>\n",
       "      <td>255</td>\n",
       "      <td>255</td>\n",
       "      <td>255</td>\n",
       "      <td>255</td>\n",
       "      <td>255</td>\n",
       "    </tr>\n",
       "    <tr>\n",
       "      <td>distnoncoding_intron500</td>\n",
       "      <td>63</td>\n",
       "      <td>63</td>\n",
       "      <td>63</td>\n",
       "      <td>63</td>\n",
       "      <td>63</td>\n",
       "      <td>63</td>\n",
       "      <td>63</td>\n",
       "      <td>63</td>\n",
       "      <td>63</td>\n",
       "    </tr>\n",
       "    <tr>\n",
       "      <td>intergenic</td>\n",
       "      <td>8</td>\n",
       "      <td>8</td>\n",
       "      <td>8</td>\n",
       "      <td>8</td>\n",
       "      <td>8</td>\n",
       "      <td>8</td>\n",
       "      <td>8</td>\n",
       "      <td>8</td>\n",
       "      <td>8</td>\n",
       "    </tr>\n",
       "    <tr>\n",
       "      <td>miRNA</td>\n",
       "      <td>5</td>\n",
       "      <td>5</td>\n",
       "      <td>5</td>\n",
       "      <td>5</td>\n",
       "      <td>5</td>\n",
       "      <td>5</td>\n",
       "      <td>5</td>\n",
       "      <td>5</td>\n",
       "      <td>5</td>\n",
       "    </tr>\n",
       "    <tr>\n",
       "      <td>noncoding_exon</td>\n",
       "      <td>269</td>\n",
       "      <td>269</td>\n",
       "      <td>269</td>\n",
       "      <td>269</td>\n",
       "      <td>269</td>\n",
       "      <td>269</td>\n",
       "      <td>269</td>\n",
       "      <td>269</td>\n",
       "      <td>269</td>\n",
       "    </tr>\n",
       "    <tr>\n",
       "      <td>proxintron500</td>\n",
       "      <td>87</td>\n",
       "      <td>87</td>\n",
       "      <td>87</td>\n",
       "      <td>87</td>\n",
       "      <td>87</td>\n",
       "      <td>87</td>\n",
       "      <td>87</td>\n",
       "      <td>87</td>\n",
       "      <td>87</td>\n",
       "    </tr>\n",
       "    <tr>\n",
       "      <td>proxnoncoding_intron500</td>\n",
       "      <td>16</td>\n",
       "      <td>16</td>\n",
       "      <td>16</td>\n",
       "      <td>16</td>\n",
       "      <td>16</td>\n",
       "      <td>16</td>\n",
       "      <td>16</td>\n",
       "      <td>16</td>\n",
       "      <td>16</td>\n",
       "    </tr>\n",
       "    <tr>\n",
       "      <td>stop_codon</td>\n",
       "      <td>17</td>\n",
       "      <td>17</td>\n",
       "      <td>17</td>\n",
       "      <td>17</td>\n",
       "      <td>17</td>\n",
       "      <td>17</td>\n",
       "      <td>17</td>\n",
       "      <td>17</td>\n",
       "      <td>17</td>\n",
       "    </tr>\n",
       "  </tbody>\n",
       "</table>\n",
       "</div>"
      ],
      "text/plain": [
       "                         chrom  start    end   l2fc   l10p  strand  geneid  \\\n",
       "region                                                                       \n",
       "3utr                     10135  10135  10135  10135  10135   10135   10135   \n",
       "5utr                      2111   2111   2111   2111   2111    2111    2111   \n",
       "CDS                       3906   3906   3906   3906   3906    3906    3906   \n",
       "distintron500              255    255    255    255    255     255     255   \n",
       "distnoncoding_intron500     63     63     63     63     63      63      63   \n",
       "intergenic                   8      8      8      8      8       8       8   \n",
       "miRNA                        5      5      5      5      5       5       5   \n",
       "noncoding_exon             269    269    269    269    269     269     269   \n",
       "proxintron500               87     87     87     87     87      87      87   \n",
       "proxnoncoding_intron500     16     16     16     16     16      16      16   \n",
       "stop_codon                  17     17     17     17     17      17      17   \n",
       "\n",
       "                         genename  annot  \n",
       "region                                    \n",
       "3utr                        10135  10135  \n",
       "5utr                         2111   2111  \n",
       "CDS                          3906   3906  \n",
       "distintron500                 255    255  \n",
       "distnoncoding_intron500        63     63  \n",
       "intergenic                      8      8  \n",
       "miRNA                           5      5  \n",
       "noncoding_exon                269    269  \n",
       "proxintron500                  87     87  \n",
       "proxnoncoding_intron500        16     16  \n",
       "stop_codon                     17     17  "
      ]
     },
     "execution_count": 7,
     "metadata": {},
     "output_type": "execute_result"
    }
   ],
   "source": [
    "cterminus_eclip_df.groupby('region').count()"
   ]
  },
  {
   "cell_type": "code",
   "execution_count": 8,
   "metadata": {},
   "outputs": [
    {
     "name": "stdout",
     "output_type": "stream",
     "text": [
      "['ENSG00000181638.13,ENSG00000264668.1', 'ENSG00000181638.13']\n",
      "['ENSG00000165156.10,ENSG00000259305.1,ENSG00000165156.10,ENSG00000165156.10', 'ENSG00000165156.10']\n",
      "['ENSG00000108774.10', 'ENSG00000108774.10,ENSG00000267261.1']\n",
      "['ENSG00000185883.6,ENSG00000260272.1,ENSG00000185883.6', 'ENSG00000185883.6']\n",
      "['ENSG00000146587.13,ENSG00000272968.1,ENSG00000146587.13', 'ENSG00000146587.13']\n",
      "['ENSG00000167770.7,ENSG00000256100.1,ENSG00000167770.7,ENSG00000167770.7,ENSG00000167770.7,ENSG00000167770.7', 'ENSG00000167770.7']\n",
      "['ENSG00000095319.10', 'ENSG00000095319.10,ENSG00000251184.1']\n",
      "['ENSG00000205352.6', 'ENSG00000205352.6,ENSG00000197111.11,ENSG00000205352.6,ENSG00000205352.6,ENSG00000205352.6,ENSG00000205352.6,ENSG00000205352.6,ENSG00000205352.6,ENSG00000205352.6,ENSG00000205352.6']\n",
      "['ENSG00000100926.10,ENSG00000254692.1,ENSG00000100926.10', 'ENSG00000100926.10']\n",
      "['ENSG00000179195.11,ENSG00000178882.9', 'ENSG00000179195.11']\n",
      "['ENSG00000163463.7', 'ENSG00000163463.7,ENSG00000273088.1']\n",
      "['ENSG00000166822.8,ENSG00000261717.1,ENSG00000261717.1,ENSG00000166822.8', 'ENSG00000166822.8,ENSG00000261717.1,ENSG00000166822.8']\n",
      "['ENSG00000180771.10,ENSG00000271885.1', 'ENSG00000180771.10']\n",
      "['ENSG00000134287.5,ENSG00000272822.1,ENSG00000134287.5,ENSG00000134287.5,ENSG00000134287.5', 'ENSG00000134287.5,ENSG00000272822.1,ENSG00000134287.5,ENSG00000134287.5,ENSG00000134287.5,ENSG00000134287.5,ENSG00000134287.5']\n",
      "['ENSG00000113575.5,ENSG00000272772.1', 'ENSG00000113575.5']\n",
      "['ENSG00000196865.4,ENSG00000234631.1', 'ENSG00000196865.4']\n",
      "['ENSG00000241697.3', 'ENSG00000241697.3,ENSG00000251349.3']\n",
      "['ENSG00000214367.3,ENSG00000130997.12,ENSG00000214367.3', 'ENSG00000214367.3']\n",
      "['ENSG00000144043.7', 'ENSG00000144043.7,ENSG00000258881.2']\n",
      "['ENSG00000126214.16,ENSG00000256500.5,ENSG00000126214.16,ENSG00000126214.16,ENSG00000126214.16,ENSG00000126214.16,ENSG00000126214.16,ENSG00000126214.16,ENSG00000126214.16,ENSG00000126214.16,ENSG00000126214.16', 'ENSG00000126214.16']\n",
      "['ENSG00000151366.8,ENSG00000259112.1,ENSG00000259112.1,ENSG00000151366.8', 'ENSG00000151366.8']\n",
      "['ENSG00000062582.9,ENSG00000270617.1', 'ENSG00000062582.9']\n",
      "['ENSG00000241360.1,ENSG00000100092.16', 'ENSG00000241360.1']\n",
      "['ENSG00000251201.4,ENSG00000243414.4,ENSG00000134970.13,ENSG00000134970.13', 'ENSG00000251201.4,ENSG00000243414.4']\n",
      "['ENSG00000131503.16,ENSG00000254996.1', 'ENSG00000131503.16,ENSG00000254996.1,ENSG00000131503.16']\n",
      "['ENSG00000170540.10', 'ENSG00000170540.10,ENSG00000260342.2']\n",
      "['ENSG00000153936.12', 'ENSG00000153936.12,ENSG00000267561.1,ENSG00000153936.12,ENSG00000153936.12']\n",
      "['ENSG00000215012.4,ENSG00000185838.9,ENSG00000215012.4,ENSG00000215012.4,ENSG00000185838.9', 'ENSG00000215012.4,ENSG00000185838.9,ENSG00000185838.9,ENSG00000185838.9,ENSG00000215012.4,ENSG00000215012.4,ENSG00000215012.4,ENSG00000185838.9']\n"
     ]
    }
   ],
   "source": [
    "genes_without_versions = defaultdict(lambda:[])\n",
    "for g in list(set(cterminus_eclip_df.geneid)):\n",
    "    genes_without_versions[g.split('.')[0]].append(g)\n",
    "    if len(genes_without_versions[g.split('.')[0]]) == 2:\n",
    "        print(genes_without_versions[g.split('.')[0]])"
   ]
  },
  {
   "cell_type": "code",
   "execution_count": 9,
   "metadata": {},
   "outputs": [],
   "source": [
    "ct_eclip_target_genes = set([i.split('.')[0] for i in list(cterminus_eclip_df.geneid)])"
   ]
  },
  {
   "cell_type": "markdown",
   "metadata": {},
   "source": [
    "# Venn"
   ]
  },
  {
   "cell_type": "code",
   "execution_count": 10,
   "metadata": {},
   "outputs": [],
   "source": [
    "import matplotlib.pyplot as plt\n",
    "from matplotlib_venn import venn2"
   ]
  },
  {
   "cell_type": "code",
   "execution_count": 11,
   "metadata": {},
   "outputs": [
    {
     "data": {
      "image/png": "[encoded data removed]",
      "text/plain": [
       "<Figure size 720x360 with 1 Axes>"
      ]
     },
     "metadata": {},
     "output_type": "display_data"
    }
   ],
   "source": [
    "plt.figure(figsize=(10,5))\n",
    "venn2([genes_in_red_zone, ct_eclip_target_genes])\n",
    "\n",
    "plt.title(\"Fraction of gene-level targets supported between eCLIP and STAMP assays\")\n",
    "plt.legend(['Genes for SC Aggregate STAMP sites without eCLIP support', 'Genes for C-terminus eCLIP peaks'])\n",
    "plt.savefig('../new_svgs/venn_genes_for_stamp_without_eclip_support_intersected_with_eclip_peak_genes_single_cell.svg')"
   ]
  },
  {
   "cell_type": "markdown",
   "metadata": {},
   "source": [
    "# Which ones do not have any target-level support in eCLIP data?"
   ]
  },
  {
   "cell_type": "code",
   "execution_count": 12,
   "metadata": {},
   "outputs": [
    {
     "data": {
      "text/plain": [
       "392"
      ]
     },
     "execution_count": 12,
     "metadata": {},
     "output_type": "execute_result"
    }
   ],
   "source": [
    "len(genes_in_red_zone.difference(ct_eclip_target_genes))"
   ]
  },
  {
   "cell_type": "code",
   "execution_count": 13,
   "metadata": {
    "scrolled": true
   },
   "outputs": [
    {
     "name": "stderr",
     "output_type": "stream",
     "text": [
      "/home/ekofman/new_anaconda3/lib/python3.7/site-packages/ipykernel_launcher.py:3: FutureWarning: \n",
      "Passing list-likes to .loc or [] with any missing label will raise\n",
      "KeyError in the future, you can use .reindex() as an alternative.\n",
      "\n",
      "See the documentation here:\n",
      "https://pandas.pydata.org/pandas-docs/stable/user_guide/indexing.html#deprecate-loc-reindex-listlike\n",
      "  This is separate from the ipykernel package so we can avoid doing imports until\n"
     ]
    }
   ],
   "source": [
    "tpm_combined = pd.read_csv('tpm_combined.tsv', sep='\\t', index_col=0)\n",
    "tpm_combined.index = [i.split('.')[0] for i in tpm_combined.index]\n",
    "tpm_combined.loc[list(genes_in_red_zone.difference(ct_eclip_target_genes))].to_csv('392_genes_with_tpm.tsv',\n",
    "                                                                                   sep='\\t',\n",
    "                                                                                   index=True,\n",
    "                                                                                   header=True)"
   ]
  },
  {
   "cell_type": "code",
   "execution_count": 14,
   "metadata": {},
   "outputs": [],
   "source": [
    "red_zone['geneid'] = [i.split('.')[0] for i in red_zone.id2_stamp]"
   ]
  },
  {
   "cell_type": "markdown",
   "metadata": {},
   "source": [
    "### Calculate proximity to eCLIP peak for those..."
   ]
  },
  {
   "cell_type": "code",
   "execution_count": 15,
   "metadata": {},
   "outputs": [],
   "source": [
    "stamp_sites_without_support_but_on_eclip_genes = red_zone[red_zone.geneid.isin(list(genes_in_red_zone.intersection(ct_eclip_target_genes)))]"
   ]
  },
  {
   "cell_type": "code",
   "execution_count": 16,
   "metadata": {},
   "outputs": [
    {
     "data": {
      "text/plain": [
       "389"
      ]
     },
     "execution_count": 16,
     "metadata": {},
     "output_type": "execute_result"
    }
   ],
   "source": [
    "len(stamp_sites_without_support_but_on_eclip_genes)"
   ]
  },
  {
   "cell_type": "code",
   "execution_count": 17,
   "metadata": {},
   "outputs": [
    {
     "data": {
      "text/plain": [
       "361"
      ]
     },
     "execution_count": 17,
     "metadata": {},
     "output_type": "execute_result"
    }
   ],
   "source": [
    "len(set(stamp_sites_without_support_but_on_eclip_genes.geneid))"
   ]
  },
  {
   "cell_type": "code",
   "execution_count": 18,
   "metadata": {},
   "outputs": [],
   "source": [
    "cterminus_eclip_df['geneid_no_version'] = [i.split('.')[0] for i in cterminus_eclip_df.geneid]"
   ]
  },
  {
   "cell_type": "code",
   "execution_count": 19,
   "metadata": {
    "scrolled": true
   },
   "outputs": [],
   "source": [
    "min_distances = defaultdict(lambda:[])\n",
    "for site in stamp_sites_without_support_but_on_eclip_genes.iterrows():\n",
    "    site = site[1]\n",
    "    geneid = site.geneid\n",
    "    chrom = site.chrom_stamp\n",
    "    start = site.start_stamp\n",
    "    end = site.end_stamp\n",
    "    \n",
    "    stamp_peak_middle = start + ((end - start)/2)\n",
    "    \n",
    "    eclip_sites = cterminus_eclip_df[cterminus_eclip_df.geneid_no_version == geneid]\n",
    "    assert(list(eclip_sites[['chrom']].iloc[0]) == [chrom])\n",
    "    starts = list(eclip_sites.start)\n",
    "    ends = list(eclip_sites.end)\n",
    "    mids = list(eclip_sites.start + (eclip_sites.end - eclip_sites.start)/2)\n",
    "\n",
    "    min_dist_stamp_to_eclip = float('inf')\n",
    "    for eclip_mid in mids:\n",
    "        dist_stamp_to_eclip = abs(stamp_peak_middle-eclip_mid)\n",
    "        if dist_stamp_to_eclip < min_dist_stamp_to_eclip:\n",
    "            min_dist_stamp_to_eclip = dist_stamp_to_eclip\n",
    "\n",
    "    min_distances[geneid].append(min_dist_stamp_to_eclip)\n",
    "\n",
    "    #if len(mids) > 2:\n",
    "    #    print(geneid)\n",
    "\n"
   ]
  },
  {
   "cell_type": "code",
   "execution_count": 20,
   "metadata": {},
   "outputs": [
    {
     "name": "stdout",
     "output_type": "stream",
     "text": [
      "389\n"
     ]
    }
   ],
   "source": [
    "# Number of values should be equal to number of stamp sites in intersection\n",
    "all_items = []\n",
    "for k,v in min_distances.items():\n",
    "    for value in v:\n",
    "        all_items.append(value)\n",
    "print(len(all_items))"
   ]
  },
  {
   "cell_type": "code",
   "execution_count": 21,
   "metadata": {},
   "outputs": [
    {
     "data": {
      "text/plain": [
       "(array([82., 39., 23., 15., 10., 11.,  6.,  5.,  7.,  7.,  4.,  3.,  2.,\n",
       "         3.,  2.,  4.,  1.,  4.,  4., 10.,  2.,  2.,  2.,  1.,  1.,  4.,\n",
       "         4.,  1.,  0.,  0.,  1.,  0.,  1.,  2.,  2.,  1.,  1.,  1.,  1.,\n",
       "         3.,  1.,  1.,  2.,  1.,  1.,  3.,  3.,  2.,  0.,  2.]),\n",
       " array([  236.5 ,   626.93,  1017.36,  1407.79,  1798.22,  2188.65,\n",
       "         2579.08,  2969.51,  3359.94,  3750.37,  4140.8 ,  4531.23,\n",
       "         4921.66,  5312.09,  5702.52,  6092.95,  6483.38,  6873.81,\n",
       "         7264.24,  7654.67,  8045.1 ,  8435.53,  8825.96,  9216.39,\n",
       "         9606.82,  9997.25, 10387.68, 10778.11, 11168.54, 11558.97,\n",
       "        11949.4 , 12339.83, 12730.26, 13120.69, 13511.12, 13901.55,\n",
       "        14291.98, 14682.41, 15072.84, 15463.27, 15853.7 , 16244.13,\n",
       "        16634.56, 17024.99, 17415.42, 17805.85, 18196.28, 18586.71,\n",
       "        18977.14, 19367.57, 19758.  ]),\n",
       " <a list of 50 Patch objects>)"
      ]
     },
     "execution_count": 21,
     "metadata": {},
     "output_type": "execute_result"
    },
    {
     "data": {
      "image/png": "[encoded data removed]",
      "text/plain": [
       "<Figure size 432x288 with 1 Axes>"
      ]
     },
     "metadata": {
      "needs_background": "light"
     },
     "output_type": "display_data"
    },
    {
     "data": {
      "image/png": "[encoded data removed]",
      "text/plain": [
       "<Figure size 432x288 with 1 Axes>"
      ]
     },
     "metadata": {
      "needs_background": "light"
     },
     "output_type": "display_data"
    }
   ],
   "source": [
    "from matplotlib import pyplot as plt\n",
    "plt.hist(all_items, bins=50)\n",
    "plt.figure()\n",
    "plt.hist([i for i in all_items if i < 20000], bins=50)"
   ]
  },
  {
   "cell_type": "code",
   "execution_count": 52,
   "metadata": {},
   "outputs": [],
   "source": [
    "cumulative = []\n",
    "max_distances = [200*i for i in range(1700)]\n",
    "\n",
    "for m in max_distances:\n",
    "    cumulative.append(len([i for i in all_items if i < m]))"
   ]
  },
  {
   "cell_type": "code",
   "execution_count": 53,
   "metadata": {},
   "outputs": [
    {
     "data": {
      "text/plain": [
       "389"
      ]
     },
     "execution_count": 53,
     "metadata": {},
     "output_type": "execute_result"
    }
   ],
   "source": [
    "cumulative[-1]"
   ]
  },
  {
   "cell_type": "code",
   "execution_count": 57,
   "metadata": {},
   "outputs": [
    {
     "data": {
      "image/png": "[encoded data removed]",
      "text/plain": [
       "<Figure size 720x360 with 1 Axes>"
      ]
     },
     "metadata": {
      "needs_background": "light"
     },
     "output_type": "display_data"
    }
   ],
   "source": [
    "import seaborn as sns\n",
    "plt.figure(figsize=(10,5))\n",
    "sns.lineplot(max_distances, cumulative)\n",
    "plt.title(\"Distance of non-eCLIP-overlapping STAMP region to closest eCLIP peak\\nCumulative count by distance threshold (n = {})\".format(len(all_items)))\n",
    "plt.xlabel(\"Distance between STAMP region midpoint and closest eCLIP peak midpoint (bp)\")\n",
    "plt.ylabel(\"Cumulative SC aggregate STAMP region count\")\n",
    "plt.savefig('../new_svgs/cumulative_ct_non_eclip_supported_dist_from_eclip_zoomed_out_single_cell.svg')"
   ]
  },
  {
   "cell_type": "code",
   "execution_count": 58,
   "metadata": {},
   "outputs": [
    {
     "data": {
      "image/png": "[encoded data removed]",
      "text/plain": [
       "<Figure size 432x288 with 1 Axes>"
      ]
     },
     "metadata": {
      "needs_background": "light"
     },
     "output_type": "display_data"
    }
   ],
   "source": [
    "import seaborn as sns\n",
    "sns.lineplot(max_distances[0:30], cumulative[0:30])\n",
    "plt.title(\"Distance of non-eCLIP-overlapping STAMP region to closest eCLIP peak\\nCumulative count by distance threshold\")\n",
    "plt.xlabel(\"Distance between STAMP region midpoint and closest eCLIP peak midpoint (bp)\")\n",
    "plt.ylabel(\"Cumulative SC aggregate STAMP region count\")\n",
    "plt.savefig('../new_svgs/cumulative_ct_non_eclip_supported_dist_from_eclip_single_cell.svg')"
   ]
  },
  {
   "cell_type": "code",
   "execution_count": 160,
   "metadata": {},
   "outputs": [
    {
     "data": {
      "text/plain": [
       "[2166.5]"
      ]
     },
     "execution_count": 160,
     "metadata": {},
     "output_type": "execute_result"
    }
   ],
   "source": [
    "min_distances['ENSG00000130939']"
   ]
  },
  {
   "cell_type": "code",
   "execution_count": 155,
   "metadata": {},
   "outputs": [
    {
     "name": "stdout",
     "output_type": "stream",
     "text": [
      "chr1 10209223 10209364\n"
     ]
    }
   ],
   "source": [
    "print(chrom, start, end)"
   ]
  },
  {
   "cell_type": "code",
   "execution_count": 157,
   "metadata": {},
   "outputs": [],
   "source": [
    "eclip_sites = cterminus_eclip_df[cterminus_eclip_df.geneid_no_version == geneid]\n",
    "assert(list(eclip_sites[['chrom']].iloc[0]) == [chrom])\n",
    "starts = list(eclip_sites.start)\n",
    "ends = list(eclip_sites.end)\n",
    "mids = list(eclip_sites.start + (eclip_sites.end - eclip_sites.start)/2)\n",
    "\n",
    "min_dist_stamp_to_eclip = float('inf')\n",
    "for eclip_mid in mids:\n",
    "    dist_stamp_to_eclip = abs(stamp_peak_middle-eclip_mid)\n",
    "    if dist_stamp_to_eclip < min_dist_stamp_to_eclip:\n",
    "        min_dist_stamp_to_eclip = dist_stamp_to_eclip"
   ]
  },
  {
   "cell_type": "code",
   "execution_count": 158,
   "metadata": {},
   "outputs": [
    {
     "data": {
      "text/plain": [
       "2166.5"
      ]
     },
     "execution_count": 158,
     "metadata": {},
     "output_type": "execute_result"
    }
   ],
   "source": [
    "min_dist_stamp_to_eclip"
   ]
  },
  {
   "cell_type": "code",
   "execution_count": 147,
   "metadata": {},
   "outputs": [
    {
     "data": {
      "text/html": [
       "<div>\n",
       "<style scoped>\n",
       "    .dataframe tbody tr th:only-of-type {\n",
       "        vertical-align: middle;\n",
       "    }\n",
       "\n",
       "    .dataframe tbody tr th {\n",
       "        vertical-align: top;\n",
       "    }\n",
       "\n",
       "    .dataframe thead th {\n",
       "        text-align: right;\n",
       "    }\n",
       "</style>\n",
       "<table border=\"1\" class=\"dataframe\">\n",
       "  <thead>\n",
       "    <tr style=\"text-align: right;\">\n",
       "      <th></th>\n",
       "      <th>chrom</th>\n",
       "      <th>start</th>\n",
       "      <th>end</th>\n",
       "      <th>l2fc</th>\n",
       "      <th>l10p</th>\n",
       "      <th>strand</th>\n",
       "      <th>geneid</th>\n",
       "      <th>genename</th>\n",
       "      <th>region</th>\n",
       "      <th>annot</th>\n",
       "      <th>geneid_no_version</th>\n",
       "    </tr>\n",
       "  </thead>\n",
       "  <tbody>\n",
       "    <tr>\n",
       "      <td>58741</td>\n",
       "      <td>chr1</td>\n",
       "      <td>10240388</td>\n",
       "      <td>10240498</td>\n",
       "      <td>8.062963</td>\n",
       "      <td>3.069728</td>\n",
       "      <td>+</td>\n",
       "      <td>ENSG00000130939.14</td>\n",
       "      <td>UBE4B</td>\n",
       "      <td>3utr</td>\n",
       "      <td>ENSG00000130939.14:10092889:10241297:+:gene:EN...</td>\n",
       "      <td>ENSG00000130939</td>\n",
       "    </tr>\n",
       "    <tr>\n",
       "      <td>59846</td>\n",
       "      <td>chr1</td>\n",
       "      <td>10240242</td>\n",
       "      <td>10240325</td>\n",
       "      <td>4.034493</td>\n",
       "      <td>3.851822</td>\n",
       "      <td>+</td>\n",
       "      <td>ENSG00000130939.14</td>\n",
       "      <td>UBE4B</td>\n",
       "      <td>3utr</td>\n",
       "      <td>ENSG00000130939.14:10092889:10241297:+:gene:EN...</td>\n",
       "      <td>ENSG00000130939</td>\n",
       "    </tr>\n",
       "    <tr>\n",
       "      <td>59917</td>\n",
       "      <td>chr1</td>\n",
       "      <td>10155518</td>\n",
       "      <td>10155583</td>\n",
       "      <td>3.871621</td>\n",
       "      <td>3.754525</td>\n",
       "      <td>+</td>\n",
       "      <td>ENSG00000130939.14</td>\n",
       "      <td>UBE4B</td>\n",
       "      <td>CDS</td>\n",
       "      <td>ENSG00000130939.14:10092889:10241297:+:gene:EN...</td>\n",
       "      <td>ENSG00000130939</td>\n",
       "    </tr>\n",
       "    <tr>\n",
       "      <td>60944</td>\n",
       "      <td>chr1</td>\n",
       "      <td>10207107</td>\n",
       "      <td>10207147</td>\n",
       "      <td>2.526924</td>\n",
       "      <td>3.282457</td>\n",
       "      <td>+</td>\n",
       "      <td>ENSG00000130939.14</td>\n",
       "      <td>UBE4B</td>\n",
       "      <td>CDS</td>\n",
       "      <td>ENSG00000130939.14:10092889:10241297:+:gene:EN...</td>\n",
       "      <td>ENSG00000130939</td>\n",
       "    </tr>\n",
       "    <tr>\n",
       "      <td>61008</td>\n",
       "      <td>chr1</td>\n",
       "      <td>10132233</td>\n",
       "      <td>10132271</td>\n",
       "      <td>2.494751</td>\n",
       "      <td>3.328261</td>\n",
       "      <td>+</td>\n",
       "      <td>ENSG00000130939.14</td>\n",
       "      <td>UBE4B</td>\n",
       "      <td>CDS</td>\n",
       "      <td>ENSG00000130939.14:10092889:10241297:+:gene:EN...</td>\n",
       "      <td>ENSG00000130939</td>\n",
       "    </tr>\n",
       "  </tbody>\n",
       "</table>\n",
       "</div>"
      ],
      "text/plain": [
       "      chrom     start       end      l2fc      l10p strand  \\\n",
       "58741  chr1  10240388  10240498  8.062963  3.069728      +   \n",
       "59846  chr1  10240242  10240325  4.034493  3.851822      +   \n",
       "59917  chr1  10155518  10155583  3.871621  3.754525      +   \n",
       "60944  chr1  10207107  10207147  2.526924  3.282457      +   \n",
       "61008  chr1  10132233  10132271  2.494751  3.328261      +   \n",
       "\n",
       "                   geneid genename region  \\\n",
       "58741  ENSG00000130939.14    UBE4B   3utr   \n",
       "59846  ENSG00000130939.14    UBE4B   3utr   \n",
       "59917  ENSG00000130939.14    UBE4B    CDS   \n",
       "60944  ENSG00000130939.14    UBE4B    CDS   \n",
       "61008  ENSG00000130939.14    UBE4B    CDS   \n",
       "\n",
       "                                                   annot geneid_no_version  \n",
       "58741  ENSG00000130939.14:10092889:10241297:+:gene:EN...   ENSG00000130939  \n",
       "59846  ENSG00000130939.14:10092889:10241297:+:gene:EN...   ENSG00000130939  \n",
       "59917  ENSG00000130939.14:10092889:10241297:+:gene:EN...   ENSG00000130939  \n",
       "60944  ENSG00000130939.14:10092889:10241297:+:gene:EN...   ENSG00000130939  \n",
       "61008  ENSG00000130939.14:10092889:10241297:+:gene:EN...   ENSG00000130939  "
      ]
     },
     "execution_count": 147,
     "metadata": {},
     "output_type": "execute_result"
    }
   ],
   "source": [
    "eclip_sites"
   ]
  },
  {
   "cell_type": "code",
   "execution_count": 146,
   "metadata": {},
   "outputs": [
    {
     "data": {
      "text/plain": [
       "[10240443.0, 10240283.5, 10155550.5, 10207127.0, 10132252.0]"
      ]
     },
     "execution_count": 146,
     "metadata": {},
     "output_type": "execute_result"
    }
   ],
   "source": [
    "mids"
   ]
  },
  {
   "cell_type": "code",
   "execution_count": 130,
   "metadata": {},
   "outputs": [
    {
     "data": {
      "text/html": [
       "<div>\n",
       "<style scoped>\n",
       "    .dataframe tbody tr th:only-of-type {\n",
       "        vertical-align: middle;\n",
       "    }\n",
       "\n",
       "    .dataframe tbody tr th {\n",
       "        vertical-align: top;\n",
       "    }\n",
       "\n",
       "    .dataframe thead th {\n",
       "        text-align: right;\n",
       "    }\n",
       "</style>\n",
       "<table border=\"1\" class=\"dataframe\">\n",
       "  <thead>\n",
       "    <tr style=\"text-align: right;\">\n",
       "      <th></th>\n",
       "      <th>chrom</th>\n",
       "      <th>start</th>\n",
       "      <th>end</th>\n",
       "      <th>l2fc</th>\n",
       "      <th>l10p</th>\n",
       "      <th>strand</th>\n",
       "      <th>geneid</th>\n",
       "      <th>genename</th>\n",
       "      <th>region</th>\n",
       "      <th>annot</th>\n",
       "      <th>geneid_no_version</th>\n",
       "    </tr>\n",
       "  </thead>\n",
       "  <tbody>\n",
       "    <tr>\n",
       "      <td>73762</td>\n",
       "      <td>chr1</td>\n",
       "      <td>8072346</td>\n",
       "      <td>8072512</td>\n",
       "      <td>4.211445</td>\n",
       "      <td>3.10962</td>\n",
       "      <td>-</td>\n",
       "      <td>ENSG00000116285.8</td>\n",
       "      <td>ERRFI1</td>\n",
       "      <td>3utr</td>\n",
       "      <td>ENSG00000116285.8:8064463:8086368:-:gene:ENSG0...</td>\n",
       "      <td>ENSG00000116285</td>\n",
       "    </tr>\n",
       "  </tbody>\n",
       "</table>\n",
       "</div>"
      ],
      "text/plain": [
       "      chrom    start      end      l2fc     l10p strand             geneid  \\\n",
       "73762  chr1  8072346  8072512  4.211445  3.10962      -  ENSG00000116285.8   \n",
       "\n",
       "      genename region                                              annot  \\\n",
       "73762   ERRFI1   3utr  ENSG00000116285.8:8064463:8086368:-:gene:ENSG0...   \n",
       "\n",
       "      geneid_no_version  \n",
       "73762   ENSG00000116285  "
      ]
     },
     "execution_count": 130,
     "metadata": {},
     "output_type": "execute_result"
    }
   ],
   "source": [
    "eclip_sites"
   ]
  },
  {
   "cell_type": "code",
   "execution_count": 105,
   "metadata": {},
   "outputs": [
    {
     "data": {
      "text/plain": [
       "73762    chr1\n",
       "Name: chrom, dtype: object"
      ]
     },
     "execution_count": 105,
     "metadata": {},
     "output_type": "execute_result"
    }
   ],
   "source": [
    "eclip_sites.chrom"
   ]
  },
  {
   "cell_type": "code",
   "execution_count": null,
   "metadata": {},
   "outputs": [],
   "source": []
  }
 ],
 "metadata": {
  "kernelspec": {
   "display_name": "new_anaconda3",
   "language": "python",
   "name": "new_anaconda3"
  },
  "language_info": {
   "codemirror_mode": {
    "name": "ipython",
    "version": 3
   },
   "file_extension": ".py",
   "mimetype": "text/x-python",
   "name": "python",
   "nbconvert_exporter": "python",
   "pygments_lexer": "ipython3",
   "version": "3.7.4"
  }
 },
 "nbformat": 4,
 "nbformat_minor": 4
}
