{
 "cells": [
  {
   "cell_type": "code",
   "execution_count": 1,
   "metadata": {},
   "outputs": [],
   "source": [
    "import pandas as pd"
   ]
  },
  {
   "cell_type": "markdown",
   "metadata": {},
   "source": [
    "## Load SC windows"
   ]
  },
  {
   "cell_type": "code",
   "execution_count": 6,
   "metadata": {},
   "outputs": [],
   "source": [
    "sc_filtered = pd.read_csv('shuffled_eclips/rbfox2_sc_agg_score_0.999_poisson_boost_100_density.bed',\n",
    "           sep='\\t', names=['chrom', 'start', 'end', 'ids', 'geneid', 'strand'])"
   ]
  },
  {
   "cell_type": "code",
   "execution_count": 7,
   "metadata": {},
   "outputs": [
    {
     "data": {
      "text/html": [
       "<div>\n",
       "<style scoped>\n",
       "    .dataframe tbody tr th:only-of-type {\n",
       "        vertical-align: middle;\n",
       "    }\n",
       "\n",
       "    .dataframe tbody tr th {\n",
       "        vertical-align: top;\n",
       "    }\n",
       "\n",
       "    .dataframe thead th {\n",
       "        text-align: right;\n",
       "    }\n",
       "</style>\n",
       "<table border=\"1\" class=\"dataframe\">\n",
       "  <thead>\n",
       "    <tr style=\"text-align: right;\">\n",
       "      <th></th>\n",
       "      <th>chrom</th>\n",
       "      <th>start</th>\n",
       "      <th>end</th>\n",
       "      <th>ids</th>\n",
       "      <th>geneid</th>\n",
       "      <th>strand</th>\n",
       "    </tr>\n",
       "  </thead>\n",
       "  <tbody>\n",
       "    <tr>\n",
       "      <td>0</td>\n",
       "      <td>chr1</td>\n",
       "      <td>228134</td>\n",
       "      <td>228269</td>\n",
       "      <td>chr1:228134-228185,chr1:228204-228255,chr1:228...</td>\n",
       "      <td>ENSG00000228463.4</td>\n",
       "      <td>-</td>\n",
       "    </tr>\n",
       "    <tr>\n",
       "      <td>1</td>\n",
       "      <td>chr1</td>\n",
       "      <td>1169044</td>\n",
       "      <td>1169145</td>\n",
       "      <td>chr1:1169044-1169095,chr1:1169094-1169145</td>\n",
       "      <td>ENSG00000176022.3</td>\n",
       "      <td>+</td>\n",
       "    </tr>\n",
       "    <tr>\n",
       "      <td>2</td>\n",
       "      <td>chr1</td>\n",
       "      <td>1337361</td>\n",
       "      <td>1337456</td>\n",
       "      <td>chr1:1337361-1337412,chr1:1337405-1337456</td>\n",
       "      <td>ENSG00000242485.1</td>\n",
       "      <td>-</td>\n",
       "    </tr>\n",
       "    <tr>\n",
       "      <td>3</td>\n",
       "      <td>chr1</td>\n",
       "      <td>1717397</td>\n",
       "      <td>1717580</td>\n",
       "      <td>chr1:1717397-1717448,chr1:1717441-1717492,chr1...</td>\n",
       "      <td>ENSG00000078369.13</td>\n",
       "      <td>-</td>\n",
       "    </tr>\n",
       "    <tr>\n",
       "      <td>4</td>\n",
       "      <td>chr1</td>\n",
       "      <td>6245282</td>\n",
       "      <td>6245364</td>\n",
       "      <td>chr1:6245282-6245333,chr1:6245291-6245342,chr1...</td>\n",
       "      <td>ENSG00000116251.5</td>\n",
       "      <td>-</td>\n",
       "    </tr>\n",
       "  </tbody>\n",
       "</table>\n",
       "</div>"
      ],
      "text/plain": [
       "  chrom    start      end                                                ids  \\\n",
       "0  chr1   228134   228269  chr1:228134-228185,chr1:228204-228255,chr1:228...   \n",
       "1  chr1  1169044  1169145          chr1:1169044-1169095,chr1:1169094-1169145   \n",
       "2  chr1  1337361  1337456          chr1:1337361-1337412,chr1:1337405-1337456   \n",
       "3  chr1  1717397  1717580  chr1:1717397-1717448,chr1:1717441-1717492,chr1...   \n",
       "4  chr1  6245282  6245364  chr1:6245282-6245333,chr1:6245291-6245342,chr1...   \n",
       "\n",
       "               geneid strand  \n",
       "0   ENSG00000228463.4      -  \n",
       "1   ENSG00000176022.3      +  \n",
       "2   ENSG00000242485.1      -  \n",
       "3  ENSG00000078369.13      -  \n",
       "4   ENSG00000116251.5      -  "
      ]
     },
     "execution_count": 7,
     "metadata": {},
     "output_type": "execute_result"
    }
   ],
   "source": [
    "sc_filtered.head()"
   ]
  },
  {
   "cell_type": "code",
   "execution_count": 8,
   "metadata": {},
   "outputs": [],
   "source": [
    "bulk_filtered = pd.read_csv('shuffled_eclips/c_terminus_score_0.999_poisson_boost_100_density.bed',\n",
    "           sep='\\t', names=['chrom', 'start', 'end', 'ids', 'geneid', 'strand'])"
   ]
  },
  {
   "cell_type": "code",
   "execution_count": 9,
   "metadata": {},
   "outputs": [
    {
     "data": {
      "text/html": [
       "<div>\n",
       "<style scoped>\n",
       "    .dataframe tbody tr th:only-of-type {\n",
       "        vertical-align: middle;\n",
       "    }\n",
       "\n",
       "    .dataframe tbody tr th {\n",
       "        vertical-align: top;\n",
       "    }\n",
       "\n",
       "    .dataframe thead th {\n",
       "        text-align: right;\n",
       "    }\n",
       "</style>\n",
       "<table border=\"1\" class=\"dataframe\">\n",
       "  <thead>\n",
       "    <tr style=\"text-align: right;\">\n",
       "      <th></th>\n",
       "      <th>chrom</th>\n",
       "      <th>start</th>\n",
       "      <th>end</th>\n",
       "      <th>ids</th>\n",
       "      <th>geneid</th>\n",
       "      <th>strand</th>\n",
       "    </tr>\n",
       "  </thead>\n",
       "  <tbody>\n",
       "    <tr>\n",
       "      <td>0</td>\n",
       "      <td>chr1</td>\n",
       "      <td>1337361</td>\n",
       "      <td>1337456</td>\n",
       "      <td>chr1:1337361-1337412,chr1:1337405-1337456</td>\n",
       "      <td>ENSG00000242485.1</td>\n",
       "      <td>-</td>\n",
       "    </tr>\n",
       "    <tr>\n",
       "      <td>1</td>\n",
       "      <td>chr1</td>\n",
       "      <td>1716738</td>\n",
       "      <td>1716999</td>\n",
       "      <td>chr1:1716738-1716789,chr1:1716782-1716833,chr1...</td>\n",
       "      <td>ENSG00000078369.13</td>\n",
       "      <td>-</td>\n",
       "    </tr>\n",
       "    <tr>\n",
       "      <td>2</td>\n",
       "      <td>chr1</td>\n",
       "      <td>1717247</td>\n",
       "      <td>1717677</td>\n",
       "      <td>chr1:1717247-1717298,chr1:1717344-1717395,chr1...</td>\n",
       "      <td>ENSG00000078369.13</td>\n",
       "      <td>-</td>\n",
       "    </tr>\n",
       "    <tr>\n",
       "      <td>3</td>\n",
       "      <td>chr1</td>\n",
       "      <td>2239874</td>\n",
       "      <td>2240088</td>\n",
       "      <td>chr1:2239874-2239925,chr1:2239905-2239956,chr1...</td>\n",
       "      <td>ENSG00000157933.9</td>\n",
       "      <td>+</td>\n",
       "    </tr>\n",
       "    <tr>\n",
       "      <td>4</td>\n",
       "      <td>chr1</td>\n",
       "      <td>3763339</td>\n",
       "      <td>3763436</td>\n",
       "      <td>chr1:3763339-3763390,chr1:3763385-3763436</td>\n",
       "      <td>ENSG00000116198.8</td>\n",
       "      <td>-</td>\n",
       "    </tr>\n",
       "  </tbody>\n",
       "</table>\n",
       "</div>"
      ],
      "text/plain": [
       "  chrom    start      end                                                ids  \\\n",
       "0  chr1  1337361  1337456          chr1:1337361-1337412,chr1:1337405-1337456   \n",
       "1  chr1  1716738  1716999  chr1:1716738-1716789,chr1:1716782-1716833,chr1...   \n",
       "2  chr1  1717247  1717677  chr1:1717247-1717298,chr1:1717344-1717395,chr1...   \n",
       "3  chr1  2239874  2240088  chr1:2239874-2239925,chr1:2239905-2239956,chr1...   \n",
       "4  chr1  3763339  3763436          chr1:3763339-3763390,chr1:3763385-3763436   \n",
       "\n",
       "               geneid strand  \n",
       "0   ENSG00000242485.1      -  \n",
       "1  ENSG00000078369.13      -  \n",
       "2  ENSG00000078369.13      -  \n",
       "3   ENSG00000157933.9      +  \n",
       "4   ENSG00000116198.8      -  "
      ]
     },
     "execution_count": 9,
     "metadata": {},
     "output_type": "execute_result"
    }
   ],
   "source": [
    "bulk_filtered.head()"
   ]
  },
  {
   "cell_type": "markdown",
   "metadata": {},
   "source": [
    "# Target-level overlap"
   ]
  },
  {
   "cell_type": "code",
   "execution_count": 14,
   "metadata": {},
   "outputs": [],
   "source": [
    "import matplotlib.pyplot as plt\n",
    "from matplotlib_venn import venn2\n",
    "\n",
    "def target_level(eclip1_df, eclip2_df, eclip1_label=\"\", eclip2_label=\"\"):\n",
    "    genes_covered_by_eclip1 = set([i.split('.')[0] for i in eclip1_df.geneid])\n",
    "    genes_covered_by_eclip2 = set([i.split('.')[0] for i in eclip2_df.geneid])\n",
    "    \n",
    "    eclip1_genes_covered_by_eclip2 = genes_covered_by_eclip1.intersection(genes_covered_by_eclip2)\n",
    "    \n",
    "    fraction_of_eclip1_genes_covered_by_eclip2 = len(eclip1_genes_covered_by_eclip2) / len(genes_covered_by_eclip1)\n",
    "    \n",
    "    fraction_of_eclip2_genes_covered_by_eclip1 = len(eclip1_genes_covered_by_eclip2) / len(genes_covered_by_eclip2)\n",
    "    \n",
    "    \n",
    "    # make venn diagrams\n",
    "    plt.figure(figsize=(10,5))\n",
    "    venn2([genes_covered_by_eclip1, genes_covered_by_eclip2],\n",
    "          set_labels = ('{} of {} targets are {} targets'.format(round(fraction_of_eclip1_genes_covered_by_eclip2, 3), eclip1_label, eclip2_label),\n",
    "                        '{} of {} targets are {} targets'.format(round(fraction_of_eclip2_genes_covered_by_eclip1, 3), eclip2_label, eclip1_label)))\n",
    "              \n",
    "    plt.title(\"Fraction of gene-level targets supported between bulk and aggregate single-cell assays\")\n",
    "    plt.legend([eclip1_label, eclip2_label])\n",
    "\n",
    "    if eclip1_label != \"\" and eclip2_label != \"\":\n",
    "        plt.savefig(\"new_svgs/target_level_{}_{}.svg\".format(eclip1_label.replace(\" \", \"_\"),\n",
    "                                                     eclip2_label.replace(\" \", \"_\")\n",
    "                                                    ))\n",
    "    plt.show()\n",
    "\n",
    "    print('{} count'.format(eclip1_label), len(genes_covered_by_eclip1))\n",
    "    print('{} count'.format(eclip2_label), len(genes_covered_by_eclip2))\n",
    "    #return fraction_of_eclip_genes_covered_by_stamp, fraction_of_stamp_genes_covered_by_eclip, eclip_genes_not_covered_by_stamp, \\\n",
    "#genes_covered_by_stamp, genes_covered_by_eclip"
   ]
  },
  {
   "cell_type": "code",
   "execution_count": 15,
   "metadata": {},
   "outputs": [
    {
     "data": {
      "image/png": "[encoded data removed]",
      "text/plain": [
       "<Figure size 720x360 with 1 Axes>"
      ]
     },
     "metadata": {},
     "output_type": "display_data"
    },
    {
     "name": "stdout",
     "output_type": "stream",
     "text": [
      "RBFOX2-1000 SC Aggregate count 1645\n",
      "RBFOX2-1000 Bulk count 3239\n"
     ]
    }
   ],
   "source": [
    "target_level(sc_filtered, bulk_filtered, \"RBFOX2-1000 SC Aggregate\", \"RBFOX2-1000 Bulk\")"
   ]
  },
  {
   "cell_type": "code",
   "execution_count": 26,
   "metadata": {},
   "outputs": [
    {
     "data": {
      "text/plain": [
       "1903"
      ]
     },
     "execution_count": 26,
     "metadata": {},
     "output_type": "execute_result"
    }
   ],
   "source": [
    "len(sc_filtered)"
   ]
  },
  {
   "cell_type": "code",
   "execution_count": 17,
   "metadata": {},
   "outputs": [
    {
     "data": {
      "text/plain": [
       "1649"
      ]
     },
     "execution_count": 17,
     "metadata": {},
     "output_type": "execute_result"
    }
   ],
   "source": [
    "len(sc_filtered.geneid.unique())"
   ]
  },
  {
   "cell_type": "code",
   "execution_count": 18,
   "metadata": {},
   "outputs": [
    {
     "data": {
      "text/plain": [
       "3241"
      ]
     },
     "execution_count": 18,
     "metadata": {},
     "output_type": "execute_result"
    }
   ],
   "source": [
    "len(bulk_filtered.geneid.unique())"
   ]
  },
  {
   "cell_type": "markdown",
   "metadata": {},
   "source": [
    "# Target level"
   ]
  },
  {
   "cell_type": "code",
   "execution_count": 101,
   "metadata": {},
   "outputs": [
    {
     "name": "stdout",
     "output_type": "stream",
     "text": [
      "For 0 padding on either side or STAMP regions:\n",
      "\t1142 out of 1903 SC regions overlap with bulk regions\n",
      "\t\t 0.6001050972149238\n",
      "\t1162 out of 5044 bulk regions overlap with SC regions\n",
      "\t\t 0.2303727200634417\n",
      "For 50 padding on either side or STAMP regions:\n",
      "\t1243 out of 1903 SC regions overlap with bulk regions\n",
      "\t\t 0.653179190751445\n",
      "\t1362 out of 5044 bulk regions overlap with SC regions\n",
      "\t\t 0.2700237906423473\n",
      "For 100 padding on either side or STAMP regions:\n",
      "\t1328 out of 1903 SC regions overlap with bulk regions\n",
      "\t\t 0.697845507094062\n",
      "\t1519 out of 5044 bulk regions overlap with SC regions\n",
      "\t\t 0.30114988104678825\n",
      "For 150 padding on either side or STAMP regions:\n",
      "\t1366 out of 1903 SC regions overlap with bulk regions\n",
      "\t\t 0.7178139779295849\n",
      "\t1634 out of 5044 bulk regions overlap with SC regions\n",
      "\t\t 0.323949246629659\n",
      "For 200 padding on either side or STAMP regions:\n",
      "\t1395 out of 1903 SC regions overlap with bulk regions\n",
      "\t\t 0.7330530740935365\n",
      "\t1731 out of 5044 bulk regions overlap with SC regions\n",
      "\t\t 0.34318001586042823\n",
      "For 250 padding on either side or STAMP regions:\n",
      "\t1408 out of 1903 SC regions overlap with bulk regions\n",
      "\t\t 0.7398843930635838\n",
      "\t1809 out of 5044 bulk regions overlap with SC regions\n",
      "\t\t 0.35864393338620143\n",
      "For 300 padding on either side or STAMP regions:\n",
      "\t1417 out of 1903 SC regions overlap with bulk regions\n",
      "\t\t 0.744613767735155\n",
      "\t1869 out of 5044 bulk regions overlap with SC regions\n",
      "\t\t 0.37053925455987313\n",
      "For 350 padding on either side or STAMP regions:\n",
      "\t1429 out of 1903 SC regions overlap with bulk regions\n",
      "\t\t 0.7509196006305833\n",
      "\t1915 out of 5044 bulk regions overlap with SC regions\n",
      "\t\t 0.3796590007930214\n",
      "For 400 padding on either side or STAMP regions:\n",
      "\t1435 out of 1903 SC regions overlap with bulk regions\n",
      "\t\t 0.7540725170782975\n",
      "\t1950 out of 5044 bulk regions overlap with SC regions\n",
      "\t\t 0.3865979381443299\n"
     ]
    }
   ],
   "source": [
    "import pybedtools\n",
    "\n",
    "\n",
    "paddings = [0, 50, 100, 150, 200, 250, 300, 350, 400]\n",
    "\n",
    "fractions_sc_overlapped = []\n",
    "fractions_bulk_overlapped = []\n",
    "\n",
    "for padding in paddings:\n",
    "    print('For {} padding on either side or STAMP regions:'.format(padding))\n",
    "    sc_bedtool = pybedtools.BedTool.from_dataframe(sc_filtered).slop(genome=\"hg19\", b=padding)\n",
    "    bulk_bedtool = pybedtools.BedTool.from_dataframe(bulk_filtered).slop(genome=\"hg19\", b=padding)\n",
    "\n",
    "    intersection = sc_bedtool.intersect(bulk_bedtool, loj=True, wa=True, wb=True, s=True).to_dataframe(\n",
    "        names = ['chrom_sc', 'start_sc', 'end_sc', 'name_sc', 'geneid_sc', 'strand_sc',\n",
    "                 'chrom', 'start', 'end', 'name', 'geneid', 'strand'\n",
    "                ]\n",
    "    )\n",
    "    print('\\t{} out of {} SC regions overlap with bulk regions'.format(\n",
    "        len(intersection[intersection.chrom != '.'].drop_duplicates(['chrom_sc', 'start_sc', 'end_sc'])),\n",
    "        len(intersection.drop_duplicates(['chrom_sc', 'start_sc', 'end_sc']\n",
    "    ))))\n",
    "    fraction_sc_overlapped = len(intersection[intersection.chrom != '.'].drop_duplicates(['chrom_sc', 'start_sc', 'end_sc']))/\\\n",
    "    len(intersection.drop_duplicates(['chrom_sc', 'start_sc', 'end_sc']))\n",
    "\n",
    "    print('\\t\\t', fraction_sc_overlapped)\n",
    "    fractions_sc_overlapped.append(fraction_sc_overlapped)\n",
    "\n",
    "    intersection_opposite = bulk_bedtool.intersect(sc_bedtool, loj=True, wa=True, wb=True).to_dataframe(\n",
    "        names = [\n",
    "                 'chrom', 'start', 'end', 'name', 'geneid', 'strand',\n",
    "            'chrom_sc', 'start_sc', 'end_sc', 'name_sc', 'geneid_sc', 'strand_sc'\n",
    "                ]\n",
    "    )\n",
    "    print('\\t{} out of {} bulk regions overlap with SC regions'.format(\n",
    "        len(intersection_opposite[intersection_opposite.chrom_sc != '.'].drop_duplicates(['chrom', 'start', 'end'])),\n",
    "        len(intersection_opposite.drop_duplicates(['chrom', 'start', 'end']\n",
    "    ))))\n",
    "    fraction_bulk_overlapped = len(intersection_opposite[intersection_opposite.chrom_sc != '.'].drop_duplicates(['chrom', 'start', 'end']))/\\\n",
    "    len(intersection_opposite.drop_duplicates(['chrom', 'start', 'end']))\n",
    "    print('\\t\\t', fraction_bulk_overlapped)\n",
    "    fractions_bulk_overlapped.append(fraction_bulk_overlapped)"
   ]
  },
  {
   "cell_type": "code",
   "execution_count": 103,
   "metadata": {},
   "outputs": [
    {
     "data": {
      "image/png": "[encoded data removed]",
      "text/plain": [
       "<Figure size 576x432 with 1 Axes>"
      ]
     },
     "metadata": {
      "needs_background": "light"
     },
     "output_type": "display_data"
    }
   ],
   "source": [
    "from matplotlib import pyplot as plt\n",
    "\n",
    "plt.figure(figsize=(8,6))\n",
    "plt.plot(paddings, fractions_sc_overlapped)\n",
    "plt.plot(paddings, fractions_bulk_overlapped)\n",
    "plt.legend(['Fraction of single-cell regions overlapped by bulk regions',\n",
    "            'Fraction of bulk regions overlapped by single-cell regions'\n",
    "           ])\n",
    "plt.xlabel(\"STAMP peak padding (bp extended on both sides)\")\n",
    "plt.ylabel(\"Fraction of regions overlapped\")\n",
    "plt.title(\"Fraction of aggregate single-cell and bulk STAMP regions overlapping\\nIntersection performed with varying region paddings\")\n",
    "plt.plot([0, 0], c='w')\n",
    "plt.plot([0, 1], c='w')\n",
    "plt.savefig('new_svgs/region_level_RBFOX2-1000_SC_Aggregate_RBFOX2-1000_Bulk.svg')"
   ]
  },
  {
   "cell_type": "code",
   "execution_count": null,
   "metadata": {},
   "outputs": [],
   "source": []
  }
 ],
 "metadata": {
  "kernelspec": {
   "display_name": "new_anaconda3",
   "language": "python",
   "name": "new_anaconda3"
  },
  "language_info": {
   "codemirror_mode": {
    "name": "ipython",
    "version": 3
   },
   "file_extension": ".py",
   "mimetype": "text/x-python",
   "name": "python",
   "nbconvert_exporter": "python",
   "pygments_lexer": "ipython3",
   "version": "3.7.4"
  }
 },
 "nbformat": 4,
 "nbformat_minor": 4
}
